{
 "cells": [
  {
   "cell_type": "code",
   "execution_count": 1,
   "metadata": {
    "collapsed": true
   },
   "outputs": [],
   "source": [
    "import pandas as pd"
   ]
  },
  {
   "cell_type": "code",
   "execution_count": 2,
   "metadata": {
    "collapsed": false
   },
   "outputs": [],
   "source": [
    "df=pd.read_csv(\"office_supplies.csv\")"
   ]
  },
  {
   "cell_type": "code",
   "execution_count": 10,
   "metadata": {
    "collapsed": false
   },
   "outputs": [
    {
     "data": {
      "text/html": [
       "<div>\n",
       "<table border=\"1\" class=\"dataframe\">\n",
       "  <thead>\n",
       "    <tr style=\"text-align: right;\">\n",
       "      <th></th>\n",
       "      <th>OrderDate</th>\n",
       "      <th>Region</th>\n",
       "      <th>Rep</th>\n",
       "      <th>Item</th>\n",
       "      <th>Units</th>\n",
       "      <th>Unit Price</th>\n",
       "    </tr>\n",
       "  </thead>\n",
       "  <tbody>\n",
       "    <tr>\n",
       "      <th>0</th>\n",
       "      <td>04-Jul-14</td>\n",
       "      <td>East</td>\n",
       "      <td>Richard</td>\n",
       "      <td>Pen Set</td>\n",
       "      <td>62</td>\n",
       "      <td>4.99</td>\n",
       "    </tr>\n",
       "    <tr>\n",
       "      <th>1</th>\n",
       "      <td>12-Jul-14</td>\n",
       "      <td>East</td>\n",
       "      <td>Nick</td>\n",
       "      <td>Binder</td>\n",
       "      <td>29</td>\n",
       "      <td>1.99</td>\n",
       "    </tr>\n",
       "    <tr>\n",
       "      <th>2</th>\n",
       "      <td>21-Jul-14</td>\n",
       "      <td>Central</td>\n",
       "      <td>Morgan</td>\n",
       "      <td>Pen Set</td>\n",
       "      <td>55</td>\n",
       "      <td>12.49</td>\n",
       "    </tr>\n",
       "    <tr>\n",
       "      <th>3</th>\n",
       "      <td>29-Jul-14</td>\n",
       "      <td>East</td>\n",
       "      <td>Susan</td>\n",
       "      <td>Binder</td>\n",
       "      <td>81</td>\n",
       "      <td>19.99</td>\n",
       "    </tr>\n",
       "    <tr>\n",
       "      <th>4</th>\n",
       "      <td>07-Aug-14</td>\n",
       "      <td>Central</td>\n",
       "      <td>Matthew</td>\n",
       "      <td>Pen Set</td>\n",
       "      <td>42</td>\n",
       "      <td>23.95</td>\n",
       "    </tr>\n",
       "  </tbody>\n",
       "</table>\n",
       "</div>"
      ],
      "text/plain": [
       "   OrderDate   Region      Rep     Item  Units  Unit Price\n",
       "0  04-Jul-14     East  Richard  Pen Set     62        4.99\n",
       "1  12-Jul-14     East     Nick   Binder     29        1.99\n",
       "2  21-Jul-14  Central   Morgan  Pen Set     55       12.49\n",
       "3  29-Jul-14     East    Susan   Binder     81       19.99\n",
       "4  07-Aug-14  Central  Matthew  Pen Set     42       23.95"
      ]
     },
     "execution_count": 10,
     "metadata": {},
     "output_type": "execute_result"
    }
   ],
   "source": [
    "pd.set_option(\"display.max_columns\", df.shape[0])\n",
    "df.head()"
   ]
  },
  {
   "cell_type": "code",
   "execution_count": 13,
   "metadata": {
    "collapsed": false
   },
   "outputs": [],
   "source": [
    "group = df.groupby(\"Region\")"
   ]
  },
  {
   "cell_type": "code",
   "execution_count": 14,
   "metadata": {
    "collapsed": false
   },
   "outputs": [
    {
     "data": {
      "text/html": [
       "<div>\n",
       "<table border=\"1\" class=\"dataframe\">\n",
       "  <thead>\n",
       "    <tr style=\"text-align: right;\">\n",
       "      <th></th>\n",
       "      <th>Units</th>\n",
       "      <th>Unit Price</th>\n",
       "    </tr>\n",
       "    <tr>\n",
       "      <th>Region</th>\n",
       "      <th></th>\n",
       "      <th></th>\n",
       "    </tr>\n",
       "  </thead>\n",
       "  <tbody>\n",
       "    <tr>\n",
       "      <th>Central</th>\n",
       "      <td>49.958333</td>\n",
       "      <td>18.018750</td>\n",
       "    </tr>\n",
       "    <tr>\n",
       "      <th>East</th>\n",
       "      <td>53.153846</td>\n",
       "      <td>9.143846</td>\n",
       "    </tr>\n",
       "    <tr>\n",
       "      <th>West</th>\n",
       "      <td>38.500000</td>\n",
       "      <td>53.658333</td>\n",
       "    </tr>\n",
       "  </tbody>\n",
       "</table>\n",
       "</div>"
      ],
      "text/plain": [
       "             Units  Unit Price\n",
       "Region                        \n",
       "Central  49.958333   18.018750\n",
       "East     53.153846    9.143846\n",
       "West     38.500000   53.658333"
      ]
     },
     "execution_count": 14,
     "metadata": {},
     "output_type": "execute_result"
    }
   ],
   "source": [
    "group.mean()"
   ]
  },
  {
   "cell_type": "code",
   "execution_count": 16,
   "metadata": {
    "collapsed": false
   },
   "outputs": [
    {
     "data": {
      "text/plain": [
       "(43, 6)"
      ]
     },
     "execution_count": 16,
     "metadata": {},
     "output_type": "execute_result"
    }
   ],
   "source": [
    "df.shape"
   ]
  },
  {
   "cell_type": "code",
   "execution_count": 22,
   "metadata": {
    "collapsed": false
   },
   "outputs": [
    {
     "data": {
      "text/html": [
       "<div>\n",
       "<table border=\"1\" class=\"dataframe\">\n",
       "  <thead>\n",
       "    <tr style=\"text-align: right;\">\n",
       "      <th></th>\n",
       "      <th>Units</th>\n",
       "      <th>Unit Price</th>\n",
       "    </tr>\n",
       "  </thead>\n",
       "  <tbody>\n",
       "    <tr>\n",
       "      <th>0</th>\n",
       "      <td>45.360000</td>\n",
       "      <td>22.419200</td>\n",
       "    </tr>\n",
       "    <tr>\n",
       "      <th>1</th>\n",
       "      <td>54.833333</td>\n",
       "      <td>17.377222</td>\n",
       "    </tr>\n",
       "  </tbody>\n",
       "</table>\n",
       "</div>"
      ],
      "text/plain": [
       "       Units  Unit Price\n",
       "0  45.360000   22.419200\n",
       "1  54.833333   17.377222"
      ]
     },
     "execution_count": 22,
     "metadata": {},
     "output_type": "execute_result"
    }
   ],
   "source": [
    "import random\n",
    "arbitrary_group = [random.randint(0,1) for _ in range(43)]\n",
    "group2 = df.groupby(arbitrary_group)\n",
    "group2.mean()"
   ]
  },
  {
   "cell_type": "code",
   "execution_count": 27,
   "metadata": {
    "collapsed": false
   },
   "outputs": [
    {
     "data": {
      "text/html": [
       "<div>\n",
       "<table border=\"1\" class=\"dataframe\">\n",
       "  <thead>\n",
       "    <tr style=\"text-align: right;\">\n",
       "      <th></th>\n",
       "      <th></th>\n",
       "      <th>Units</th>\n",
       "      <th>Unit Price</th>\n",
       "    </tr>\n",
       "    <tr>\n",
       "      <th>Region</th>\n",
       "      <th>Rep</th>\n",
       "      <th></th>\n",
       "      <th></th>\n",
       "    </tr>\n",
       "  </thead>\n",
       "  <tbody>\n",
       "    <tr>\n",
       "      <th rowspan=\"6\" valign=\"top\">Central</th>\n",
       "      <th>Alex</th>\n",
       "      <td>281</td>\n",
       "      <td>39.95</td>\n",
       "    </tr>\n",
       "    <tr>\n",
       "      <th>Bill</th>\n",
       "      <td>213</td>\n",
       "      <td>40.55</td>\n",
       "    </tr>\n",
       "    <tr>\n",
       "      <th>Matthew</th>\n",
       "      <td>193</td>\n",
       "      <td>173.93</td>\n",
       "    </tr>\n",
       "    <tr>\n",
       "      <th>Morgan</th>\n",
       "      <td>173</td>\n",
       "      <td>26.47</td>\n",
       "    </tr>\n",
       "    <tr>\n",
       "      <th>Rachel</th>\n",
       "      <td>183</td>\n",
       "      <td>10.26</td>\n",
       "    </tr>\n",
       "    <tr>\n",
       "      <th>Smith</th>\n",
       "      <td>156</td>\n",
       "      <td>141.29</td>\n",
       "    </tr>\n",
       "    <tr>\n",
       "      <th rowspan=\"3\" valign=\"top\">East</th>\n",
       "      <th>Nick</th>\n",
       "      <td>125</td>\n",
       "      <td>6.98</td>\n",
       "    </tr>\n",
       "    <tr>\n",
       "      <th>Richard</th>\n",
       "      <td>396</td>\n",
       "      <td>55.92</td>\n",
       "    </tr>\n",
       "    <tr>\n",
       "      <th>Susan</th>\n",
       "      <td>170</td>\n",
       "      <td>55.97</td>\n",
       "    </tr>\n",
       "    <tr>\n",
       "      <th rowspan=\"2\" valign=\"top\">West</th>\n",
       "      <th>James</th>\n",
       "      <td>142</td>\n",
       "      <td>299.97</td>\n",
       "    </tr>\n",
       "    <tr>\n",
       "      <th>Thomas</th>\n",
       "      <td>89</td>\n",
       "      <td>21.98</td>\n",
       "    </tr>\n",
       "  </tbody>\n",
       "</table>\n",
       "</div>"
      ],
      "text/plain": [
       "                 Units  Unit Price\n",
       "Region  Rep                       \n",
       "Central Alex       281       39.95\n",
       "        Bill       213       40.55\n",
       "        Matthew    193      173.93\n",
       "        Morgan     173       26.47\n",
       "        Rachel     183       10.26\n",
       "        Smith      156      141.29\n",
       "East    Nick       125        6.98\n",
       "        Richard    396       55.92\n",
       "        Susan      170       55.97\n",
       "West    James      142      299.97\n",
       "        Thomas      89       21.98"
      ]
     },
     "execution_count": 27,
     "metadata": {},
     "output_type": "execute_result"
    }
   ],
   "source": [
    "group3 = df.groupby([\"Region\",\"Rep\"])\n",
    "group3.sum()"
   ]
  },
  {
   "cell_type": "code",
   "execution_count": 31,
   "metadata": {
    "collapsed": false
   },
   "outputs": [
    {
     "data": {
      "text/html": [
       "<div>\n",
       "<table border=\"1\" class=\"dataframe\">\n",
       "  <thead>\n",
       "    <tr style=\"text-align: right;\">\n",
       "      <th></th>\n",
       "      <th>Region</th>\n",
       "      <th>Rep</th>\n",
       "      <th>Units</th>\n",
       "    </tr>\n",
       "  </thead>\n",
       "  <tbody>\n",
       "    <tr>\n",
       "      <th>0</th>\n",
       "      <td>Central</td>\n",
       "      <td>Alex</td>\n",
       "      <td>5</td>\n",
       "    </tr>\n",
       "    <tr>\n",
       "      <th>1</th>\n",
       "      <td>Central</td>\n",
       "      <td>Bill</td>\n",
       "      <td>5</td>\n",
       "    </tr>\n",
       "    <tr>\n",
       "      <th>2</th>\n",
       "      <td>Central</td>\n",
       "      <td>Matthew</td>\n",
       "      <td>4</td>\n",
       "    </tr>\n",
       "    <tr>\n",
       "      <th>3</th>\n",
       "      <td>Central</td>\n",
       "      <td>Morgan</td>\n",
       "      <td>3</td>\n",
       "    </tr>\n",
       "    <tr>\n",
       "      <th>4</th>\n",
       "      <td>Central</td>\n",
       "      <td>Rachel</td>\n",
       "      <td>4</td>\n",
       "    </tr>\n",
       "    <tr>\n",
       "      <th>5</th>\n",
       "      <td>Central</td>\n",
       "      <td>Smith</td>\n",
       "      <td>3</td>\n",
       "    </tr>\n",
       "    <tr>\n",
       "      <th>6</th>\n",
       "      <td>East</td>\n",
       "      <td>Nick</td>\n",
       "      <td>2</td>\n",
       "    </tr>\n",
       "    <tr>\n",
       "      <th>7</th>\n",
       "      <td>East</td>\n",
       "      <td>Richard</td>\n",
       "      <td>8</td>\n",
       "    </tr>\n",
       "    <tr>\n",
       "      <th>8</th>\n",
       "      <td>East</td>\n",
       "      <td>Susan</td>\n",
       "      <td>3</td>\n",
       "    </tr>\n",
       "    <tr>\n",
       "      <th>9</th>\n",
       "      <td>West</td>\n",
       "      <td>James</td>\n",
       "      <td>4</td>\n",
       "    </tr>\n",
       "    <tr>\n",
       "      <th>10</th>\n",
       "      <td>West</td>\n",
       "      <td>Thomas</td>\n",
       "      <td>2</td>\n",
       "    </tr>\n",
       "  </tbody>\n",
       "</table>\n",
       "</div>"
      ],
      "text/plain": [
       "     Region      Rep  Units\n",
       "0   Central     Alex      5\n",
       "1   Central     Bill      5\n",
       "2   Central  Matthew      4\n",
       "3   Central   Morgan      3\n",
       "4   Central   Rachel      4\n",
       "5   Central    Smith      3\n",
       "6      East     Nick      2\n",
       "7      East  Richard      8\n",
       "8      East    Susan      3\n",
       "9      West    James      4\n",
       "10     West   Thomas      2"
      ]
     },
     "execution_count": 31,
     "metadata": {},
     "output_type": "execute_result"
    }
   ],
   "source": [
    "new_df = df.groupby(['Region','Rep'])['Units'].count()\n",
    "new_df.reset_index()"
   ]
  },
  {
   "cell_type": "code",
   "execution_count": 33,
   "metadata": {
    "collapsed": false
   },
   "outputs": [
    {
     "name": "stdout",
     "output_type": "stream",
     "text": [
      "('Central', 'Smith')\n",
      "('West', 'Thomas')\n",
      "('Central', 'Alex')\n",
      "('Central', 'Matthew')\n",
      "('West', 'James')\n",
      "('East', 'Richard')\n",
      "('East', 'Susan')\n",
      "('East', 'Nick')\n",
      "('Central', 'Morgan')\n",
      "('Central', 'Bill')\n",
      "('Central', 'Rachel')\n"
     ]
    }
   ],
   "source": [
    "for c in group3.groups:\n",
    "    print c"
   ]
  },
  {
   "cell_type": "code",
   "execution_count": 34,
   "metadata": {
    "collapsed": false
   },
   "outputs": [
    {
     "data": {
      "text/plain": [
       "Region   Rep    \n",
       "Central  Alex       5\n",
       "         Bill       5\n",
       "         Matthew    4\n",
       "         Morgan     3\n",
       "         Rachel     4\n",
       "         Smith      3\n",
       "East     Nick       2\n",
       "         Richard    8\n",
       "         Susan      3\n",
       "West     James      4\n",
       "         Thomas     2\n",
       "dtype: int64"
      ]
     },
     "execution_count": 34,
     "metadata": {},
     "output_type": "execute_result"
    }
   ],
   "source": [
    "group3.size()"
   ]
  },
  {
   "cell_type": "code",
   "execution_count": 44,
   "metadata": {
    "collapsed": false
   },
   "outputs": [
    {
     "name": "stdout",
     "output_type": "stream",
     "text": [
      "Sales by region\n",
      "Region\n",
      "Central    24\n",
      "East       13\n",
      "West        6\n",
      "Name: Units, dtype: int64\n",
      "\n",
      "Units by region\n",
      "Region\n",
      "Central    1199\n",
      "East        691\n",
      "West        231\n",
      "Name: Units, dtype: int64\n",
      "\n",
      "Total value by region\n",
      "Region\n",
      "Central    432.45\n",
      "East       118.87\n",
      "West       321.95\n",
      "Name: Unit Price, dtype: float64\n"
     ]
    }
   ],
   "source": [
    "g1 = df.groupby('Region')\n",
    "print(\"Sales by region\")\n",
    "print(g1['Units'].count())\n",
    "print(\"\\nUnits by region\")\n",
    "print(g1['Units'].sum())\n",
    "print(\"\\nTotal value by region\")\n",
    "print(g1['Unit Price'].sum())"
   ]
  },
  {
   "cell_type": "code",
   "execution_count": 48,
   "metadata": {
    "collapsed": false
   },
   "outputs": [
    {
     "name": "stdout",
     "output_type": "stream",
     "text": [
      "Units sold for each region by rep\n",
      "Rep      Region \n",
      "Alex     Central    5\n",
      "Bill     Central    5\n",
      "James    West       4\n",
      "Matthew  Central    4\n",
      "Morgan   Central    3\n",
      "Nick     East       2\n",
      "Rachel   Central    4\n",
      "Richard  East       8\n",
      "Smith    Central    3\n",
      "Susan    East       3\n",
      "Thomas   West       2\n",
      "Name: Units, dtype: int64\n"
     ]
    }
   ],
   "source": [
    "g2 = df.groupby(['Rep','Region'])\n",
    "print(\"Units sold for each region by rep\")\n",
    "print(g2['Units'].count())"
   ]
  },
  {
   "cell_type": "code",
   "execution_count": 51,
   "metadata": {
    "collapsed": false
   },
   "outputs": [
    {
     "name": "stdout",
     "output_type": "stream",
     "text": [
      "Sales by date\n",
      "OrderDate\n",
      "01-Apr-15    1\n",
      "01-Feb-15    1\n",
      "01-Sep-14    1\n",
      "04-Dec-14    1\n",
      "04-Jul-14    1\n",
      "05-May-15    1\n",
      "05-Oct-14    1\n",
      "06-Jan-15    1\n",
      "07-Aug-14    1\n",
      "07-Mar-15    1\n",
      "08-Jun-15    1\n",
      "08-Nov-14    1\n",
      "09-Feb-15    1\n",
      "10-Apr-15    1\n",
      "10-Sep-14    1\n",
      "12-Dec-14    1\n",
      "12-Jul-14    1\n",
      "14-May-15    1\n",
      "14-Oct-14    1\n",
      "15-Aug-14    1\n",
      "15-Jan-15    1\n",
      "15-Mar-15    1\n",
      "17-Jun-15    1\n",
      "17-Nov-14    1\n",
      "18-Apr-15    1\n",
      "18-Feb-15    1\n",
      "18-Sep-14    1\n",
      "21-Dec-14    1\n",
      "21-Jul-14    1\n",
      "22-May-15    1\n",
      "22-Oct-14    1\n",
      "23-Jan-15    1\n",
      "24-Aug-14    1\n",
      "24-Mar-15    1\n",
      "25-Jun-15    1\n",
      "25-Nov-14    1\n",
      "26-Feb-15    1\n",
      "27-Apr-15    1\n",
      "27-Sep-14    1\n",
      "29-Dec-14    1\n",
      "29-Jul-14    1\n",
      "31-May-15    1\n",
      "31-Oct-14    1\n",
      "Name: Units, dtype: int64\n"
     ]
    }
   ],
   "source": [
    "print(\"Sales by date\")\n",
    "print(df.groupby(\"OrderDate\")['Units'].count())"
   ]
  },
  {
   "cell_type": "code",
   "execution_count": 53,
   "metadata": {
    "collapsed": false
   },
   "outputs": [
    {
     "data": {
      "text/plain": [
       "Region   Rep    \n",
       "Central  Alex        7.990000\n",
       "         Bill        8.110000\n",
       "         Matthew    43.482500\n",
       "         Morgan      8.823333\n",
       "         Rachel      2.565000\n",
       "         Smith      47.096667\n",
       "East     Nick        3.490000\n",
       "         Richard     6.990000\n",
       "         Susan      18.656667\n",
       "West     James      74.992500\n",
       "         Thomas     10.990000\n",
       "Name: Unit Price, dtype: float64"
      ]
     },
     "execution_count": 53,
     "metadata": {},
     "output_type": "execute_result"
    }
   ],
   "source": [
    "df.groupby([\"Region\",\"Rep\"])['Unit Price'].mean()"
   ]
  },
  {
   "cell_type": "code",
   "execution_count": 61,
   "metadata": {
    "collapsed": false
   },
   "outputs": [
    {
     "name": "stdout",
     "output_type": "stream",
     "text": [
      "Order by month\n"
     ]
    },
    {
     "data": {
      "text/plain": [
       "OrderDate\n",
       "1     3\n",
       "2     4\n",
       "3     3\n",
       "4     4\n",
       "5     4\n",
       "6     3\n",
       "7     4\n",
       "8     3\n",
       "9     4\n",
       "10    4\n",
       "11    3\n",
       "12    4\n",
       "Name: Units, dtype: int64"
      ]
     },
     "execution_count": 61,
     "metadata": {},
     "output_type": "execute_result"
    }
   ],
   "source": [
    "df[\"OrderDate\"] = pd.to_datetime(df[\"OrderDate\"])\n",
    "print(\"Order by month\")\n",
    "df.groupby(df[\"OrderDate\"].dt.month)['Units'].count()"
   ]
  },
  {
   "cell_type": "code",
   "execution_count": null,
   "metadata": {
    "collapsed": true
   },
   "outputs": [],
   "source": []
  }
 ],
 "metadata": {
  "anaconda-cloud": {},
  "kernelspec": {
   "display_name": "Python [conda root]",
   "language": "python",
   "name": "conda-root-py"
  },
  "language_info": {
   "codemirror_mode": {
    "name": "ipython",
    "version": 2
   },
   "file_extension": ".py",
   "mimetype": "text/x-python",
   "name": "python",
   "nbconvert_exporter": "python",
   "pygments_lexer": "ipython2",
   "version": "2.7.12"
  }
 },
 "nbformat": 4,
 "nbformat_minor": 1
}
