{
 "cells": [
  {
   "cell_type": "markdown",
   "metadata": {
    "focus": true,
    "id": "263eb813-da45-48cf-9a8f-9da76c18e470"
   },
   "source": [
    "# Project 2\n",
    "## Step 1: Exploring your data.\n",
    "\n",
    "##### Load your data in using Pandas and start to explore. Save all of your early exploration code here and include in your final submission."
   ]
  },
  {
   "cell_type": "code",
   "execution_count": 278,
   "metadata": {
    "collapsed": false,
    "focus": false,
    "id": "b733d2fe-6d33-41dd-a3fc-5dfe9d71d91f"
   },
   "outputs": [
    {
     "data": {
      "text/html": [
       "<div>\n",
       "<table border=\"1\" class=\"dataframe\">\n",
       "  <thead>\n",
       "    <tr style=\"text-align: right;\">\n",
       "      <th></th>\n",
       "      <th>year</th>\n",
       "      <th>artist.inverted</th>\n",
       "      <th>track</th>\n",
       "      <th>time</th>\n",
       "      <th>genre</th>\n",
       "      <th>date.entered</th>\n",
       "      <th>date.peaked</th>\n",
       "      <th>x1st.week</th>\n",
       "      <th>x2nd.week</th>\n",
       "      <th>x3rd.week</th>\n",
       "      <th>...</th>\n",
       "      <th>x67th.week</th>\n",
       "      <th>x68th.week</th>\n",
       "      <th>x69th.week</th>\n",
       "      <th>x70th.week</th>\n",
       "      <th>x71st.week</th>\n",
       "      <th>x72nd.week</th>\n",
       "      <th>x73rd.week</th>\n",
       "      <th>x74th.week</th>\n",
       "      <th>x75th.week</th>\n",
       "      <th>x76th.week</th>\n",
       "    </tr>\n",
       "  </thead>\n",
       "  <tbody>\n",
       "    <tr>\n",
       "      <th>0</th>\n",
       "      <td>2000</td>\n",
       "      <td>Destiny's Child</td>\n",
       "      <td>Independent Women Part I</td>\n",
       "      <td>3:38</td>\n",
       "      <td>Rock</td>\n",
       "      <td>2000-09-23</td>\n",
       "      <td>2000-11-18</td>\n",
       "      <td>78</td>\n",
       "      <td>63.0</td>\n",
       "      <td>49.0</td>\n",
       "      <td>...</td>\n",
       "      <td>NaN</td>\n",
       "      <td>NaN</td>\n",
       "      <td>NaN</td>\n",
       "      <td>NaN</td>\n",
       "      <td>NaN</td>\n",
       "      <td>NaN</td>\n",
       "      <td>NaN</td>\n",
       "      <td>NaN</td>\n",
       "      <td>NaN</td>\n",
       "      <td>NaN</td>\n",
       "    </tr>\n",
       "    <tr>\n",
       "      <th>1</th>\n",
       "      <td>2000</td>\n",
       "      <td>Santana</td>\n",
       "      <td>Maria, Maria</td>\n",
       "      <td>4:18</td>\n",
       "      <td>Rock</td>\n",
       "      <td>2000-02-12</td>\n",
       "      <td>2000-04-08</td>\n",
       "      <td>15</td>\n",
       "      <td>8.0</td>\n",
       "      <td>6.0</td>\n",
       "      <td>...</td>\n",
       "      <td>NaN</td>\n",
       "      <td>NaN</td>\n",
       "      <td>NaN</td>\n",
       "      <td>NaN</td>\n",
       "      <td>NaN</td>\n",
       "      <td>NaN</td>\n",
       "      <td>NaN</td>\n",
       "      <td>NaN</td>\n",
       "      <td>NaN</td>\n",
       "      <td>NaN</td>\n",
       "    </tr>\n",
       "    <tr>\n",
       "      <th>2</th>\n",
       "      <td>2000</td>\n",
       "      <td>Savage Garden</td>\n",
       "      <td>I Knew I Loved You</td>\n",
       "      <td>4:07</td>\n",
       "      <td>Rock</td>\n",
       "      <td>1999-10-23</td>\n",
       "      <td>2000-01-29</td>\n",
       "      <td>71</td>\n",
       "      <td>48.0</td>\n",
       "      <td>43.0</td>\n",
       "      <td>...</td>\n",
       "      <td>NaN</td>\n",
       "      <td>NaN</td>\n",
       "      <td>NaN</td>\n",
       "      <td>NaN</td>\n",
       "      <td>NaN</td>\n",
       "      <td>NaN</td>\n",
       "      <td>NaN</td>\n",
       "      <td>NaN</td>\n",
       "      <td>NaN</td>\n",
       "      <td>NaN</td>\n",
       "    </tr>\n",
       "    <tr>\n",
       "      <th>3</th>\n",
       "      <td>2000</td>\n",
       "      <td>Madonna</td>\n",
       "      <td>Music</td>\n",
       "      <td>3:45</td>\n",
       "      <td>Rock</td>\n",
       "      <td>2000-08-12</td>\n",
       "      <td>2000-09-16</td>\n",
       "      <td>41</td>\n",
       "      <td>23.0</td>\n",
       "      <td>18.0</td>\n",
       "      <td>...</td>\n",
       "      <td>NaN</td>\n",
       "      <td>NaN</td>\n",
       "      <td>NaN</td>\n",
       "      <td>NaN</td>\n",
       "      <td>NaN</td>\n",
       "      <td>NaN</td>\n",
       "      <td>NaN</td>\n",
       "      <td>NaN</td>\n",
       "      <td>NaN</td>\n",
       "      <td>NaN</td>\n",
       "    </tr>\n",
       "    <tr>\n",
       "      <th>4</th>\n",
       "      <td>2000</td>\n",
       "      <td>Aguilera, Christina</td>\n",
       "      <td>Come On Over Baby (All I Want Is You)</td>\n",
       "      <td>3:38</td>\n",
       "      <td>Rock</td>\n",
       "      <td>2000-08-05</td>\n",
       "      <td>2000-10-14</td>\n",
       "      <td>57</td>\n",
       "      <td>47.0</td>\n",
       "      <td>45.0</td>\n",
       "      <td>...</td>\n",
       "      <td>NaN</td>\n",
       "      <td>NaN</td>\n",
       "      <td>NaN</td>\n",
       "      <td>NaN</td>\n",
       "      <td>NaN</td>\n",
       "      <td>NaN</td>\n",
       "      <td>NaN</td>\n",
       "      <td>NaN</td>\n",
       "      <td>NaN</td>\n",
       "      <td>NaN</td>\n",
       "    </tr>\n",
       "  </tbody>\n",
       "</table>\n",
       "<p>5 rows × 83 columns</p>\n",
       "</div>"
      ],
      "text/plain": [
       "   year      artist.inverted                                  track  time  \\\n",
       "0  2000      Destiny's Child               Independent Women Part I  3:38   \n",
       "1  2000              Santana                           Maria, Maria  4:18   \n",
       "2  2000        Savage Garden                     I Knew I Loved You  4:07   \n",
       "3  2000              Madonna                                  Music  3:45   \n",
       "4  2000  Aguilera, Christina  Come On Over Baby (All I Want Is You)  3:38   \n",
       "\n",
       "  genre date.entered date.peaked  x1st.week  x2nd.week  x3rd.week     ...      \\\n",
       "0  Rock   2000-09-23  2000-11-18         78       63.0       49.0     ...       \n",
       "1  Rock   2000-02-12  2000-04-08         15        8.0        6.0     ...       \n",
       "2  Rock   1999-10-23  2000-01-29         71       48.0       43.0     ...       \n",
       "3  Rock   2000-08-12  2000-09-16         41       23.0       18.0     ...       \n",
       "4  Rock   2000-08-05  2000-10-14         57       47.0       45.0     ...       \n",
       "\n",
       "   x67th.week  x68th.week  x69th.week  x70th.week  x71st.week  x72nd.week  \\\n",
       "0         NaN         NaN         NaN         NaN         NaN         NaN   \n",
       "1         NaN         NaN         NaN         NaN         NaN         NaN   \n",
       "2         NaN         NaN         NaN         NaN         NaN         NaN   \n",
       "3         NaN         NaN         NaN         NaN         NaN         NaN   \n",
       "4         NaN         NaN         NaN         NaN         NaN         NaN   \n",
       "\n",
       "   x73rd.week  x74th.week  x75th.week  x76th.week  \n",
       "0         NaN         NaN         NaN         NaN  \n",
       "1         NaN         NaN         NaN         NaN  \n",
       "2         NaN         NaN         NaN         NaN  \n",
       "3         NaN         NaN         NaN         NaN  \n",
       "4         NaN         NaN         NaN         NaN  \n",
       "\n",
       "[5 rows x 83 columns]"
      ]
     },
     "execution_count": 278,
     "metadata": {},
     "output_type": "execute_result"
    }
   ],
   "source": [
    "# Import required packages\n",
    "import pandas as pd\n",
    "import numpy as np\n",
    "import matplotlib.pyplot as plt\n",
    "import seaborn as sns\n",
    "%matplotlib inline\n",
    "\n",
    "# Load the csv into a pandas dataframe and display the first rows\n",
    "bb = pd.read_csv(\"../assets/billboard.csv\")\n",
    "bb.head()"
   ]
  },
  {
   "cell_type": "code",
   "execution_count": 279,
   "metadata": {
    "collapsed": false
   },
   "outputs": [
    {
     "name": "stdout",
     "output_type": "stream",
     "text": [
      "(317, 83)\n"
     ]
    }
   ],
   "source": [
    "# Display dataframe dimensions and data types\n",
    "print(bb.shape)"
   ]
  },
  {
   "cell_type": "code",
   "execution_count": 280,
   "metadata": {
    "collapsed": false
   },
   "outputs": [
    {
     "data": {
      "text/plain": [
       "year                 0\n",
       "artist.inverted      0\n",
       "track                0\n",
       "time                 0\n",
       "genre                0\n",
       "date.entered         0\n",
       "date.peaked          0\n",
       "x1st.week            0\n",
       "x2nd.week            5\n",
       "x3rd.week           10\n",
       "x4th.week           17\n",
       "x5th.week           25\n",
       "x6th.week           37\n",
       "x7th.week           48\n",
       "x8th.week           57\n",
       "x9th.week           64\n",
       "x10th.week          73\n",
       "x11th.week          81\n",
       "x12th.week          95\n",
       "x13th.week         107\n",
       "x14th.week         113\n",
       "x15th.week         120\n",
       "x16th.week         135\n",
       "x17th.week         140\n",
       "x18th.week         151\n",
       "x19th.week         161\n",
       "x20th.week         171\n",
       "x21st.week         252\n",
       "x22nd.week         262\n",
       "x23rd.week         269\n",
       "                  ... \n",
       "x47th.week         312\n",
       "x48th.week         313\n",
       "x49th.week         313\n",
       "x50th.week         313\n",
       "x51st.week         313\n",
       "x52nd.week         313\n",
       "x53rd.week         313\n",
       "x54th.week         315\n",
       "x55th.week         315\n",
       "x56th.week         315\n",
       "x57th.week         315\n",
       "x58th.week         315\n",
       "x59th.week         315\n",
       "x60th.week         315\n",
       "x61st.week         315\n",
       "x62nd.week         315\n",
       "x63rd.week         315\n",
       "x64th.week         315\n",
       "x65th.week         316\n",
       "x66th.week         317\n",
       "x67th.week         317\n",
       "x68th.week         317\n",
       "x69th.week         317\n",
       "x70th.week         317\n",
       "x71st.week         317\n",
       "x72nd.week         317\n",
       "x73rd.week         317\n",
       "x74th.week         317\n",
       "x75th.week         317\n",
       "x76th.week         317\n",
       "dtype: int64"
      ]
     },
     "execution_count": 280,
     "metadata": {},
     "output_type": "execute_result"
    }
   ],
   "source": [
    "# Display number of null values per column\n",
    "bb.apply(lambda x: x.isnull().sum())"
   ]
  },
  {
   "cell_type": "code",
   "execution_count": 281,
   "metadata": {
    "collapsed": false
   },
   "outputs": [
    {
     "name": "stdout",
     "output_type": "stream",
     "text": [
      "year                 int64\n",
      "artist.inverted     object\n",
      "track               object\n",
      "time                object\n",
      "genre               object\n",
      "date.entered        object\n",
      "date.peaked         object\n",
      "x1st.week            int64\n",
      "x2nd.week          float64\n",
      "x3rd.week          float64\n",
      "x4th.week          float64\n",
      "x5th.week          float64\n",
      "x6th.week          float64\n",
      "x7th.week          float64\n",
      "x8th.week          float64\n",
      "x9th.week          float64\n",
      "x10th.week         float64\n",
      "x11th.week         float64\n",
      "x12th.week         float64\n",
      "x13th.week         float64\n",
      "x14th.week         float64\n",
      "x15th.week         float64\n",
      "x16th.week         float64\n",
      "x17th.week         float64\n",
      "x18th.week         float64\n",
      "x19th.week         float64\n",
      "x20th.week         float64\n",
      "x21st.week         float64\n",
      "x22nd.week         float64\n",
      "x23rd.week         float64\n",
      "                    ...   \n",
      "x47th.week         float64\n",
      "x48th.week         float64\n",
      "x49th.week         float64\n",
      "x50th.week         float64\n",
      "x51st.week         float64\n",
      "x52nd.week         float64\n",
      "x53rd.week         float64\n",
      "x54th.week         float64\n",
      "x55th.week         float64\n",
      "x56th.week         float64\n",
      "x57th.week         float64\n",
      "x58th.week         float64\n",
      "x59th.week         float64\n",
      "x60th.week         float64\n",
      "x61st.week         float64\n",
      "x62nd.week         float64\n",
      "x63rd.week         float64\n",
      "x64th.week         float64\n",
      "x65th.week         float64\n",
      "x66th.week         float64\n",
      "x67th.week         float64\n",
      "x68th.week         float64\n",
      "x69th.week         float64\n",
      "x70th.week         float64\n",
      "x71st.week         float64\n",
      "x72nd.week         float64\n",
      "x73rd.week         float64\n",
      "x74th.week         float64\n",
      "x75th.week         float64\n",
      "x76th.week         float64\n",
      "dtype: object\n"
     ]
    }
   ],
   "source": [
    "# Display each column's type\n",
    "print(bb.dtypes)"
   ]
  },
  {
   "cell_type": "markdown",
   "metadata": {
    "focus": false,
    "id": "94514384-cf79-4e7a-a09b-02cddc91e77c"
   },
   "source": [
    "##### Write a brief description of your data, and any interesting observations you've made thus far. "
   ]
  },
  {
   "cell_type": "markdown",
   "metadata": {
    "collapsed": true,
    "focus": false,
    "id": "33a9e3f0-a29d-4b02-90bd-528bdb44fb78"
   },
   "source": [
    "The data contains information about songs that reached billboard 100 in 2000 (presumably in the US although this information is not provided with the dataset).\n",
    "\n",
    "For each song, we have information about the artist, the song duration, the genre, when it entered and when it peaked the billboard, and finally the billboard rank week after week from the date it entered to the last week before it exited.\n",
    "\n",
    "Due to the way the data is structured (billboard rank per week stored in columns), there is a high number of empty rows: once a song is no longer in billboard, all subsequent columns will have an empty value."
   ]
  },
  {
   "cell_type": "markdown",
   "metadata": {
    "focus": false,
    "id": "888b6223-3bb4-4d91-b753-4867a3a1b281"
   },
   "source": [
    "## Step 2: Clean your data."
   ]
  },
  {
   "cell_type": "markdown",
   "metadata": {
    "focus": false,
    "id": "8a273328-6d9f-4dfc-88f8-a0c18e4d7f90"
   },
   "source": [
    "##### Do some rudimentary cleaning. Rename any columns that are poorly named, shorten any strings that may be too long, check for missing values (and replace them if it makes sense to do so). Explain your rationale for the way you choose to \"impute\" the missing data."
   ]
  },
  {
   "cell_type": "code",
   "execution_count": 282,
   "metadata": {
    "collapsed": false,
    "focus": false,
    "id": "00022458-8edc-4f84-8492-0be04397fa64"
   },
   "outputs": [
    {
     "data": {
      "text/html": [
       "<div>\n",
       "<table border=\"1\" class=\"dataframe\">\n",
       "  <thead>\n",
       "    <tr style=\"text-align: right;\">\n",
       "      <th></th>\n",
       "      <th>year</th>\n",
       "      <th>artist</th>\n",
       "      <th>track</th>\n",
       "      <th>time</th>\n",
       "      <th>genre</th>\n",
       "      <th>entered</th>\n",
       "      <th>peaked</th>\n",
       "      <th>1</th>\n",
       "      <th>2</th>\n",
       "      <th>3</th>\n",
       "      <th>...</th>\n",
       "      <th>67</th>\n",
       "      <th>68</th>\n",
       "      <th>69</th>\n",
       "      <th>70</th>\n",
       "      <th>71</th>\n",
       "      <th>72</th>\n",
       "      <th>73</th>\n",
       "      <th>74</th>\n",
       "      <th>75</th>\n",
       "      <th>76</th>\n",
       "    </tr>\n",
       "  </thead>\n",
       "  <tbody>\n",
       "    <tr>\n",
       "      <th>0</th>\n",
       "      <td>2000</td>\n",
       "      <td>Destiny's Child</td>\n",
       "      <td>Independent Women Part I</td>\n",
       "      <td>3:38</td>\n",
       "      <td>Rock</td>\n",
       "      <td>2000-09-23</td>\n",
       "      <td>2000-11-18</td>\n",
       "      <td>78</td>\n",
       "      <td>63.0</td>\n",
       "      <td>49.0</td>\n",
       "      <td>...</td>\n",
       "      <td>NaN</td>\n",
       "      <td>NaN</td>\n",
       "      <td>NaN</td>\n",
       "      <td>NaN</td>\n",
       "      <td>NaN</td>\n",
       "      <td>NaN</td>\n",
       "      <td>NaN</td>\n",
       "      <td>NaN</td>\n",
       "      <td>NaN</td>\n",
       "      <td>NaN</td>\n",
       "    </tr>\n",
       "    <tr>\n",
       "      <th>1</th>\n",
       "      <td>2000</td>\n",
       "      <td>Santana</td>\n",
       "      <td>Maria, Maria</td>\n",
       "      <td>4:18</td>\n",
       "      <td>Rock</td>\n",
       "      <td>2000-02-12</td>\n",
       "      <td>2000-04-08</td>\n",
       "      <td>15</td>\n",
       "      <td>8.0</td>\n",
       "      <td>6.0</td>\n",
       "      <td>...</td>\n",
       "      <td>NaN</td>\n",
       "      <td>NaN</td>\n",
       "      <td>NaN</td>\n",
       "      <td>NaN</td>\n",
       "      <td>NaN</td>\n",
       "      <td>NaN</td>\n",
       "      <td>NaN</td>\n",
       "      <td>NaN</td>\n",
       "      <td>NaN</td>\n",
       "      <td>NaN</td>\n",
       "    </tr>\n",
       "    <tr>\n",
       "      <th>2</th>\n",
       "      <td>2000</td>\n",
       "      <td>Savage Garden</td>\n",
       "      <td>I Knew I Loved You</td>\n",
       "      <td>4:07</td>\n",
       "      <td>Rock</td>\n",
       "      <td>1999-10-23</td>\n",
       "      <td>2000-01-29</td>\n",
       "      <td>71</td>\n",
       "      <td>48.0</td>\n",
       "      <td>43.0</td>\n",
       "      <td>...</td>\n",
       "      <td>NaN</td>\n",
       "      <td>NaN</td>\n",
       "      <td>NaN</td>\n",
       "      <td>NaN</td>\n",
       "      <td>NaN</td>\n",
       "      <td>NaN</td>\n",
       "      <td>NaN</td>\n",
       "      <td>NaN</td>\n",
       "      <td>NaN</td>\n",
       "      <td>NaN</td>\n",
       "    </tr>\n",
       "    <tr>\n",
       "      <th>3</th>\n",
       "      <td>2000</td>\n",
       "      <td>Madonna</td>\n",
       "      <td>Music</td>\n",
       "      <td>3:45</td>\n",
       "      <td>Rock</td>\n",
       "      <td>2000-08-12</td>\n",
       "      <td>2000-09-16</td>\n",
       "      <td>41</td>\n",
       "      <td>23.0</td>\n",
       "      <td>18.0</td>\n",
       "      <td>...</td>\n",
       "      <td>NaN</td>\n",
       "      <td>NaN</td>\n",
       "      <td>NaN</td>\n",
       "      <td>NaN</td>\n",
       "      <td>NaN</td>\n",
       "      <td>NaN</td>\n",
       "      <td>NaN</td>\n",
       "      <td>NaN</td>\n",
       "      <td>NaN</td>\n",
       "      <td>NaN</td>\n",
       "    </tr>\n",
       "    <tr>\n",
       "      <th>4</th>\n",
       "      <td>2000</td>\n",
       "      <td>Aguilera, Christina</td>\n",
       "      <td>Come On Over Baby (All I Want Is You)</td>\n",
       "      <td>3:38</td>\n",
       "      <td>Rock</td>\n",
       "      <td>2000-08-05</td>\n",
       "      <td>2000-10-14</td>\n",
       "      <td>57</td>\n",
       "      <td>47.0</td>\n",
       "      <td>45.0</td>\n",
       "      <td>...</td>\n",
       "      <td>NaN</td>\n",
       "      <td>NaN</td>\n",
       "      <td>NaN</td>\n",
       "      <td>NaN</td>\n",
       "      <td>NaN</td>\n",
       "      <td>NaN</td>\n",
       "      <td>NaN</td>\n",
       "      <td>NaN</td>\n",
       "      <td>NaN</td>\n",
       "      <td>NaN</td>\n",
       "    </tr>\n",
       "  </tbody>\n",
       "</table>\n",
       "<p>5 rows × 83 columns</p>\n",
       "</div>"
      ],
      "text/plain": [
       "   year               artist                                  track  time  \\\n",
       "0  2000      Destiny's Child               Independent Women Part I  3:38   \n",
       "1  2000              Santana                           Maria, Maria  4:18   \n",
       "2  2000        Savage Garden                     I Knew I Loved You  4:07   \n",
       "3  2000              Madonna                                  Music  3:45   \n",
       "4  2000  Aguilera, Christina  Come On Over Baby (All I Want Is You)  3:38   \n",
       "\n",
       "  genre     entered      peaked   1     2     3 ...  67  68  69  70  71  72  \\\n",
       "0  Rock  2000-09-23  2000-11-18  78  63.0  49.0 ... NaN NaN NaN NaN NaN NaN   \n",
       "1  Rock  2000-02-12  2000-04-08  15   8.0   6.0 ... NaN NaN NaN NaN NaN NaN   \n",
       "2  Rock  1999-10-23  2000-01-29  71  48.0  43.0 ... NaN NaN NaN NaN NaN NaN   \n",
       "3  Rock  2000-08-12  2000-09-16  41  23.0  18.0 ... NaN NaN NaN NaN NaN NaN   \n",
       "4  Rock  2000-08-05  2000-10-14  57  47.0  45.0 ... NaN NaN NaN NaN NaN NaN   \n",
       "\n",
       "   73  74  75  76  \n",
       "0 NaN NaN NaN NaN  \n",
       "1 NaN NaN NaN NaN  \n",
       "2 NaN NaN NaN NaN  \n",
       "3 NaN NaN NaN NaN  \n",
       "4 NaN NaN NaN NaN  \n",
       "\n",
       "[5 rows x 83 columns]"
      ]
     },
     "execution_count": 282,
     "metadata": {},
     "output_type": "execute_result"
    }
   ],
   "source": [
    "# Rename columns\n",
    "bb = bb.rename(columns={\"artist.inverted\":\"artist\",\"date.entered\":\"entered\",\"date.peaked\":\"peaked\"})\n",
    "dict_weeks = {bb.columns[i]:str(i-6) for i in range(7,83)}\n",
    "bb = bb.rename(columns=dict_weeks)\n",
    "bb.head()"
   ]
  },
  {
   "cell_type": "code",
   "execution_count": 283,
   "metadata": {
    "collapsed": false
   },
   "outputs": [
    {
     "data": {
      "text/html": [
       "<div>\n",
       "<table border=\"1\" class=\"dataframe\">\n",
       "  <thead>\n",
       "    <tr style=\"text-align: right;\">\n",
       "      <th></th>\n",
       "      <th>year</th>\n",
       "      <th>artist</th>\n",
       "      <th>track</th>\n",
       "      <th>time</th>\n",
       "      <th>genre</th>\n",
       "      <th>entered</th>\n",
       "      <th>peaked</th>\n",
       "      <th>1</th>\n",
       "      <th>2</th>\n",
       "      <th>3</th>\n",
       "      <th>...</th>\n",
       "      <th>67</th>\n",
       "      <th>68</th>\n",
       "      <th>69</th>\n",
       "      <th>70</th>\n",
       "      <th>71</th>\n",
       "      <th>72</th>\n",
       "      <th>73</th>\n",
       "      <th>74</th>\n",
       "      <th>75</th>\n",
       "      <th>76</th>\n",
       "    </tr>\n",
       "  </thead>\n",
       "  <tbody>\n",
       "    <tr>\n",
       "      <th>0</th>\n",
       "      <td>2000</td>\n",
       "      <td>Destiny's Child</td>\n",
       "      <td>Independent Women Part I</td>\n",
       "      <td>00:03:38</td>\n",
       "      <td>Rock</td>\n",
       "      <td>2000-09-23</td>\n",
       "      <td>2000-11-18</td>\n",
       "      <td>78</td>\n",
       "      <td>63.0</td>\n",
       "      <td>49.0</td>\n",
       "      <td>...</td>\n",
       "      <td>NaN</td>\n",
       "      <td>NaN</td>\n",
       "      <td>NaN</td>\n",
       "      <td>NaN</td>\n",
       "      <td>NaN</td>\n",
       "      <td>NaN</td>\n",
       "      <td>NaN</td>\n",
       "      <td>NaN</td>\n",
       "      <td>NaN</td>\n",
       "      <td>NaN</td>\n",
       "    </tr>\n",
       "    <tr>\n",
       "      <th>1</th>\n",
       "      <td>2000</td>\n",
       "      <td>Santana</td>\n",
       "      <td>Maria, Maria</td>\n",
       "      <td>00:04:18</td>\n",
       "      <td>Rock</td>\n",
       "      <td>2000-02-12</td>\n",
       "      <td>2000-04-08</td>\n",
       "      <td>15</td>\n",
       "      <td>8.0</td>\n",
       "      <td>6.0</td>\n",
       "      <td>...</td>\n",
       "      <td>NaN</td>\n",
       "      <td>NaN</td>\n",
       "      <td>NaN</td>\n",
       "      <td>NaN</td>\n",
       "      <td>NaN</td>\n",
       "      <td>NaN</td>\n",
       "      <td>NaN</td>\n",
       "      <td>NaN</td>\n",
       "      <td>NaN</td>\n",
       "      <td>NaN</td>\n",
       "    </tr>\n",
       "    <tr>\n",
       "      <th>2</th>\n",
       "      <td>2000</td>\n",
       "      <td>Savage Garden</td>\n",
       "      <td>I Knew I Loved You</td>\n",
       "      <td>00:04:07</td>\n",
       "      <td>Rock</td>\n",
       "      <td>1999-10-23</td>\n",
       "      <td>2000-01-29</td>\n",
       "      <td>71</td>\n",
       "      <td>48.0</td>\n",
       "      <td>43.0</td>\n",
       "      <td>...</td>\n",
       "      <td>NaN</td>\n",
       "      <td>NaN</td>\n",
       "      <td>NaN</td>\n",
       "      <td>NaN</td>\n",
       "      <td>NaN</td>\n",
       "      <td>NaN</td>\n",
       "      <td>NaN</td>\n",
       "      <td>NaN</td>\n",
       "      <td>NaN</td>\n",
       "      <td>NaN</td>\n",
       "    </tr>\n",
       "    <tr>\n",
       "      <th>3</th>\n",
       "      <td>2000</td>\n",
       "      <td>Madonna</td>\n",
       "      <td>Music</td>\n",
       "      <td>00:03:45</td>\n",
       "      <td>Rock</td>\n",
       "      <td>2000-08-12</td>\n",
       "      <td>2000-09-16</td>\n",
       "      <td>41</td>\n",
       "      <td>23.0</td>\n",
       "      <td>18.0</td>\n",
       "      <td>...</td>\n",
       "      <td>NaN</td>\n",
       "      <td>NaN</td>\n",
       "      <td>NaN</td>\n",
       "      <td>NaN</td>\n",
       "      <td>NaN</td>\n",
       "      <td>NaN</td>\n",
       "      <td>NaN</td>\n",
       "      <td>NaN</td>\n",
       "      <td>NaN</td>\n",
       "      <td>NaN</td>\n",
       "    </tr>\n",
       "    <tr>\n",
       "      <th>4</th>\n",
       "      <td>2000</td>\n",
       "      <td>Aguilera, Christina</td>\n",
       "      <td>Come On Over Baby (All I Want Is You)</td>\n",
       "      <td>00:03:38</td>\n",
       "      <td>Rock</td>\n",
       "      <td>2000-08-05</td>\n",
       "      <td>2000-10-14</td>\n",
       "      <td>57</td>\n",
       "      <td>47.0</td>\n",
       "      <td>45.0</td>\n",
       "      <td>...</td>\n",
       "      <td>NaN</td>\n",
       "      <td>NaN</td>\n",
       "      <td>NaN</td>\n",
       "      <td>NaN</td>\n",
       "      <td>NaN</td>\n",
       "      <td>NaN</td>\n",
       "      <td>NaN</td>\n",
       "      <td>NaN</td>\n",
       "      <td>NaN</td>\n",
       "      <td>NaN</td>\n",
       "    </tr>\n",
       "  </tbody>\n",
       "</table>\n",
       "<p>5 rows × 83 columns</p>\n",
       "</div>"
      ],
      "text/plain": [
       "   year               artist                                  track     time  \\\n",
       "0  2000      Destiny's Child               Independent Women Part I 00:03:38   \n",
       "1  2000              Santana                           Maria, Maria 00:04:18   \n",
       "2  2000        Savage Garden                     I Knew I Loved You 00:04:07   \n",
       "3  2000              Madonna                                  Music 00:03:45   \n",
       "4  2000  Aguilera, Christina  Come On Over Baby (All I Want Is You) 00:03:38   \n",
       "\n",
       "  genre    entered     peaked   1     2     3 ...  67  68  69  70  71  72  73  \\\n",
       "0  Rock 2000-09-23 2000-11-18  78  63.0  49.0 ... NaN NaN NaN NaN NaN NaN NaN   \n",
       "1  Rock 2000-02-12 2000-04-08  15   8.0   6.0 ... NaN NaN NaN NaN NaN NaN NaN   \n",
       "2  Rock 1999-10-23 2000-01-29  71  48.0  43.0 ... NaN NaN NaN NaN NaN NaN NaN   \n",
       "3  Rock 2000-08-12 2000-09-16  41  23.0  18.0 ... NaN NaN NaN NaN NaN NaN NaN   \n",
       "4  Rock 2000-08-05 2000-10-14  57  47.0  45.0 ... NaN NaN NaN NaN NaN NaN NaN   \n",
       "\n",
       "   74  75  76  \n",
       "0 NaN NaN NaN  \n",
       "1 NaN NaN NaN  \n",
       "2 NaN NaN NaN  \n",
       "3 NaN NaN NaN  \n",
       "4 NaN NaN NaN  \n",
       "\n",
       "[5 rows x 83 columns]"
      ]
     },
     "execution_count": 283,
     "metadata": {},
     "output_type": "execute_result"
    }
   ],
   "source": [
    "# Change type for dates\n",
    "bb['entered']=pd.to_datetime(bb['entered'])\n",
    "bb['peaked']=pd.to_datetime(bb['peaked'])\n",
    "bb['time']=\"0:\"+bb['time']\n",
    "bb['time']=pd.to_timedelta(bb['time'],unit='s')\n",
    "bb.head()"
   ]
  },
  {
   "cell_type": "code",
   "execution_count": 284,
   "metadata": {
    "collapsed": false
   },
   "outputs": [
    {
     "data": {
      "text/plain": [
       "year       317\n",
       "artist     317\n",
       "track      317\n",
       "time       317\n",
       "genre      317\n",
       "entered    317\n",
       "peaked     317\n",
       "1          317\n",
       "2          312\n",
       "3          307\n",
       "4          300\n",
       "5          292\n",
       "6          280\n",
       "7          269\n",
       "8          260\n",
       "9          253\n",
       "10         244\n",
       "11         236\n",
       "12         222\n",
       "13         210\n",
       "14         204\n",
       "15         197\n",
       "16         182\n",
       "17         177\n",
       "18         166\n",
       "19         156\n",
       "20         146\n",
       "21          65\n",
       "22          55\n",
       "23          48\n",
       "          ... \n",
       "47           5\n",
       "48           4\n",
       "49           4\n",
       "50           4\n",
       "51           4\n",
       "52           4\n",
       "53           4\n",
       "54           2\n",
       "55           2\n",
       "56           2\n",
       "57           2\n",
       "58           2\n",
       "59           2\n",
       "60           2\n",
       "61           2\n",
       "62           2\n",
       "63           2\n",
       "64           2\n",
       "65           1\n",
       "66           0\n",
       "67           0\n",
       "68           0\n",
       "69           0\n",
       "70           0\n",
       "71           0\n",
       "72           0\n",
       "73           0\n",
       "74           0\n",
       "75           0\n",
       "76           0\n",
       "dtype: int64"
      ]
     },
     "execution_count": 284,
     "metadata": {},
     "output_type": "execute_result"
    }
   ],
   "source": [
    "# Check if some columns are totally empty\n",
    "bb.apply(lambda x:sum(x.notnull()))"
   ]
  },
  {
   "cell_type": "code",
   "execution_count": 285,
   "metadata": {
    "collapsed": false
   },
   "outputs": [
    {
     "data": {
      "text/plain": [
       "(317, 72)"
      ]
     },
     "execution_count": 285,
     "metadata": {},
     "output_type": "execute_result"
    }
   ],
   "source": [
    "# Drop empty columns\n",
    "bb.dropna(how=\"all\",axis=1,inplace=True)\n",
    "bb.shape"
   ]
  },
  {
   "cell_type": "code",
   "execution_count": null,
   "metadata": {
    "collapsed": true
   },
   "outputs": [],
   "source": [
    "# Impute missing data\n",
    "# At this stage it feels like this won't be required"
   ]
  },
  {
   "cell_type": "markdown",
   "metadata": {
    "focus": false,
    "id": "604ee5d7-10ed-4d14-9f86-16a6b240c00d"
   },
   "source": [
    "##### Using Pandas' built in `melt` function, pivot the weekly ranking data to be long rather than wide. As a result, you will have removed the 72 'week' columns and replace it with two: Week and Ranking. There will now be multiple entries for each song, one for each week on the Billboard rankings."
   ]
  },
  {
   "cell_type": "code",
   "execution_count": 286,
   "metadata": {
    "collapsed": false,
    "focus": false,
    "id": "bf0161ca-0fcb-4883-a216-93fd7ffa6456"
   },
   "outputs": [
    {
     "name": "stdout",
     "output_type": "stream",
     "text": [
      "(20605, 9)\n",
      "     year   artist         track     time genre    entered     peaked  week  \\\n",
      "1    2000  Santana  Maria, Maria 00:04:18  Rock 2000-02-12 2000-04-08     1   \n",
      "318  2000  Santana  Maria, Maria 00:04:18  Rock 2000-02-12 2000-04-08     2   \n",
      "635  2000  Santana  Maria, Maria 00:04:18  Rock 2000-02-12 2000-04-08     3   \n",
      "\n",
      "     ranking  \n",
      "1       15.0  \n",
      "318      8.0  \n",
      "635      6.0  \n",
      "       year   artist         track     time genre    entered     peaked  week  \\\n",
      "19655  2000  Santana  Maria, Maria 00:04:18  Rock 2000-02-12 2000-04-08    63   \n",
      "19972  2000  Santana  Maria, Maria 00:04:18  Rock 2000-02-12 2000-04-08    64   \n",
      "20289  2000  Santana  Maria, Maria 00:04:18  Rock 2000-02-12 2000-04-08    65   \n",
      "\n",
      "       ranking  \n",
      "19655      NaN  \n",
      "19972      NaN  \n",
      "20289      NaN  \n"
     ]
    }
   ],
   "source": [
    "# Melt the dataframe\n",
    "bb_melted = pd.melt(bb,id_vars=bb.columns[:7].tolist(),var_name=\"week\",value_name=\"ranking\")\n",
    "bb_melted['week'] = bb_melted['week'].astype(int)\n",
    "# Ensure that we now have fewer columnns and more rows\n",
    "print(bb_melted.shape)\n",
    "print(bb_melted[bb_melted[\"track\"]==\"Maria, Maria\"].head(3))\n",
    "print(bb_melted[bb_melted[\"track\"]==\"Maria, Maria\"].tail(3))"
   ]
  },
  {
   "cell_type": "code",
   "execution_count": 287,
   "metadata": {
    "collapsed": false
   },
   "outputs": [
    {
     "name": "stdout",
     "output_type": "stream",
     "text": [
      "(5307, 9)\n",
      "      year   artist         track     time genre    entered     peaked  week  \\\n",
      "1     2000  Santana  Maria, Maria 00:04:18  Rock 2000-02-12 2000-04-08     1   \n",
      "318   2000  Santana  Maria, Maria 00:04:18  Rock 2000-02-12 2000-04-08     2   \n",
      "635   2000  Santana  Maria, Maria 00:04:18  Rock 2000-02-12 2000-04-08     3   \n",
      "952   2000  Santana  Maria, Maria 00:04:18  Rock 2000-02-12 2000-04-08     4   \n",
      "1269  2000  Santana  Maria, Maria 00:04:18  Rock 2000-02-12 2000-04-08     5   \n",
      "\n",
      "      ranking  \n",
      "1          15  \n",
      "318         8  \n",
      "635         6  \n",
      "952         5  \n",
      "1269        2  \n",
      "      year   artist         track     time genre    entered     peaked  week  \\\n",
      "6658  2000  Santana  Maria, Maria 00:04:18  Rock 2000-02-12 2000-04-08    22   \n",
      "6975  2000  Santana  Maria, Maria 00:04:18  Rock 2000-02-12 2000-04-08    23   \n",
      "7292  2000  Santana  Maria, Maria 00:04:18  Rock 2000-02-12 2000-04-08    24   \n",
      "7609  2000  Santana  Maria, Maria 00:04:18  Rock 2000-02-12 2000-04-08    25   \n",
      "7926  2000  Santana  Maria, Maria 00:04:18  Rock 2000-02-12 2000-04-08    26   \n",
      "\n",
      "      ranking  \n",
      "6658       21  \n",
      "6975       26  \n",
      "7292       36  \n",
      "7609       48  \n",
      "7926       47  \n"
     ]
    }
   ],
   "source": [
    "# Perform additional cleanup by removing all ranking with no value\n",
    "bb_melted.dropna(subset=['ranking'],inplace=True)\n",
    "bb_melted['ranking'] = bb_melted['ranking'].astype(int)\n",
    "# Ensure that we still have the same number of columns but less rows\n",
    "print(bb_melted.shape)\n",
    "print(bb_melted[bb_melted[\"track\"]==\"Maria, Maria\"].head())\n",
    "print(bb_melted[bb_melted[\"track\"]==\"Maria, Maria\"].tail())"
   ]
  },
  {
   "cell_type": "markdown",
   "metadata": {
    "focus": false,
    "id": "2023c5a8-1f4e-4d83-9a52-c41a5090af74"
   },
   "source": [
    "## Step 3: Visualize your data."
   ]
  },
  {
   "cell_type": "markdown",
   "metadata": {
    "focus": false,
    "id": "dfaca026-8eca-4119-b4c1-e43433790c8e"
   },
   "source": [
    "##### Using a plotting utility of your choice (Tableau or python modules or both), create visualizations that will provide context to your data. There is no minimum or maximum number of graphs you should generate, but there should be a clear and consistent story being told. Give insights to the distribution, statistics, and relationships of the data. "
   ]
  },
  {
   "cell_type": "code",
   "execution_count": 419,
   "metadata": {
    "collapsed": false,
    "focus": false,
    "id": "aa0c535c-497c-4f10-b695-540612ca534e"
   },
   "outputs": [
    {
     "data": {
      "image/png": "[encoded data removed]",
      "text/plain": [
       "<matplotlib.figure.Figure at 0x7f7ff3f68ad0>"
      ]
     },
     "metadata": {},
     "output_type": "display_data"
    },
    {
     "data": {
      "text/plain": [
       "track                                  time    \n",
       "Amazed                                 00:04:25     2\n",
       "Be With You                            00:03:36     3\n",
       "Bent                                   00:04:12     1\n",
       "Come On Over Baby (All I Want Is You)  00:03:38     4\n",
       "Doesn't Really Matter                  00:04:17     3\n",
       "Everything You Want                    00:04:01     1\n",
       "I Knew I Loved You                     00:04:07     4\n",
       "Incomplete                             00:03:52     2\n",
       "Independent Women Part I               00:03:38    11\n",
       "It's Gonna Be Me                       00:03:10     2\n",
       "Maria, Maria                           00:04:18    10\n",
       "Music                                  00:03:45     4\n",
       "Say My Name                            00:04:31     3\n",
       "Thank God I Found You                  00:04:14     1\n",
       "Try Again                              00:04:03     1\n",
       "What A Girl Wants                      00:03:18     2\n",
       "With Arms Wide Open                    00:03:52     1\n",
       "Name: week, dtype: int64"
      ]
     },
     "execution_count": 419,
     "metadata": {},
     "output_type": "execute_result"
    }
   ],
   "source": [
    "# Check how long songs stayed number 1\n",
    "pivot = bb_melted[bb_melted[\"ranking\"]==1].pivot_table(index=[\"track\",\"time\"],values=\"week\",aggfunc=len)\n",
    "pivot.hist()\n",
    "plt.title(\"How long did songs stay #1\")\n",
    "plt.xlabel(\"weeks\")\n",
    "plt.xticks(list(np.arange(1,12)))\n",
    "plt.xlim((1,11))\n",
    "plt.show()\n",
    "pivot"
   ]
  },
  {
   "cell_type": "code",
   "execution_count": 415,
   "metadata": {
    "collapsed": false
   },
   "outputs": [
    {
     "data": {
      "image/png": "[encoded data removed]",
      "text/plain": [
       "<matplotlib.figure.Figure at 0x7f7ff3f5e310>"
      ]
     },
     "metadata": {},
     "output_type": "display_data"
    }
   ],
   "source": [
    "# Convert pivot result into a dataframe\n",
    "df = pd.DataFrame(pivot)\n",
    "df.reset_index(inplace=True)\n",
    "\n",
    "# Analyse song duration\n",
    "f, axes = plt.subplots(2,1,sharex=True)\n",
    "\n",
    "df.time.dt.seconds.hist(color=\"r\",ax=axes[0])\n",
    "axes[0].axvline(np.median(df.time.dt.seconds),color='g')\n",
    "axes[0].set_title(\"Analysing song duration and reaching #1\")\n",
    "axes[1].set_title(\"Top chart: #1 songs /         / Bottom chart: all billboard songs\")\n",
    "plt.xlabel(\"seconds\")\n",
    "plt.xticks(list(np.arange(150,470,20)))\n",
    "bb.time.dt.seconds.hist(color=\"b\",ax=axes[1],bins=35)\n",
    "axes[1].axvline(np.median(bb.time.dt.seconds),color='g')\n",
    "\n",
    "plt.show()"
   ]
  },
  {
   "cell_type": "code",
   "execution_count": 340,
   "metadata": {
    "collapsed": false
   },
   "outputs": [
    {
     "data": {
      "image/png": "[encoded data removed]",
      "text/plain": [
       "<matplotlib.figure.Figure at 0x7f7ff8544550>"
      ]
     },
     "metadata": {},
     "output_type": "display_data"
    }
   ],
   "source": [
    "# Time to peak (in weeks)\n",
    "peak_data = bb['peaked']-bb['entered']\n",
    "(peak_data.dt.days/7).plot(kind='hist',bins=45)\n",
    "plt.axvline(np.median(peak_data.dt.days/7),color=\"g\")\n",
    "plt.title(\"Average time to peak\")\n",
    "plt.xlabel(\"weeks\")\n",
    "plt.show()"
   ]
  },
  {
   "cell_type": "code",
   "execution_count": 319,
   "metadata": {
    "collapsed": false
   },
   "outputs": [
    {
     "data": {
      "image/png": "[encoded data removed]",
      "text/plain": [
       "<matplotlib.figure.Figure at 0x7f7ff82365d0>"
      ]
     },
     "metadata": {},
     "output_type": "display_data"
    }
   ],
   "source": [
    "# How many days do song remain in the billboard\n",
    "bb_melted.week.hist(bins=35)\n",
    "plt.title(\"Weeks remained in the billboard\")\n",
    "#plt.axvline(np.mean(bb_melted.week),color=\"r\")\n",
    "plt.axvline(np.median(bb_melted.week),color=\"g\")\n",
    "plt.xlabel(\"weeks\")\n",
    "plt.ylabel(\"frequency\")\n",
    "plt.show()"
   ]
  },
  {
   "cell_type": "code",
   "execution_count": 418,
   "metadata": {
    "collapsed": false
   },
   "outputs": [
    {
     "data": {
      "image/png": "[encoded data removed]",
      "text/plain": [
       "<matplotlib.figure.Figure at 0x7f7ff356f190>"
      ]
     },
     "metadata": {},
     "output_type": "display_data"
    }
   ],
   "source": [
    "# Link between highest rank reached and month song entered charts\n",
    "bb_melted['month.entered'] = bb_melted['entered'].dt.month\n",
    "pivot2 = bb_melted.pivot_table(index=[\"track\"],values=[\"month.entered\",\"ranking\"],aggfunc=min)\n",
    "plt.scatter(pivot2[\"month.entered\"],pivot2[\"ranking\"],alpha=.3)\n",
    "plt.xlabel(\"month entered the charts\")\n",
    "plt.xlim((0.2,13))\n",
    "plt.xticks(list(range(1,13)))\n",
    "plt.ylim((-1,101))\n",
    "lyticks = list(np.arange(10,101,10))\n",
    "lyticks.insert(0,1)\n",
    "plt.yticks(lyticks)\n",
    "plt.ylabel(\"best chart ranking\")\n",
    "plt.title(\"Analysis of the link between month entered the chart and highest rank reached\")\n",
    "plt.show()"
   ]
  },
  {
   "cell_type": "markdown",
   "metadata": {
    "focus": false,
    "id": "8401c631-245b-4560-8971-25cb2406c2ab"
   },
   "source": [
    "## Step 4: Create a Problem Statement.\n",
    "\n",
    "##### Having explored the data, come up with a problem statement for this data set. You can feel free to introduce data from any other source to support your problem statement, just be sure to provide a link to the origin of the data. Once again- be creative!"
   ]
  },
  {
   "cell_type": "markdown",
   "metadata": {},
   "source": [
    "We wonder whether there is a link between the success achieved by a song and some of its \"non musical\" characteristics. In other words, we want to look at some of the song meta data, and see if it affects its commercial success.\n",
    "\n",
    "For instance, does the song duration impact its performance? Or does the month it entered the chart impact it?\n",
    "\n",
    "Also we may ask ourselves our long it takes for songs to reach their peak position, as well as how long they typically stay in the billboard once they have entered it."
   ]
  },
  {
   "cell_type": "markdown",
   "metadata": {
    "collapsed": false,
    "focus": false,
    "id": "a0ff30a0-48be-4851-9ec3-4ce8ece08a67"
   },
   "source": [
    "## Step 5: Brainstorm your Approach.\n",
    "##### In bullet-list form, provide a proposed approach for evaluating your problem statement. This can be somewhat high-level, but start to think about ways you can massage the data for maximum efficacy. "
   ]
  },
  {
   "cell_type": "markdown",
   "metadata": {
    "collapsed": true,
    "focus": false,
    "id": "9d772c7b-61e0-4bc4-bb1a-f3d43ba54862"
   },
   "source": [
    "Here is the suggested approach to find some answers to the problem statement above:\n",
    "* Obtain similar datasets for multiple years, ideally since the billboard was established\n",
    "* For each year, study the distribution of the length of songs reaching #1 and plot yearly average it on a timeseries chart. On the same chart, plot the averate length of songs on the billboard. This will allow comparison of the #1 and all billboard average length for a given year, but also across years. If a pattern emerges, it could give an indication of the ideal song duration (for a given year) to reach the charts and even #1\n",
    "* For each year, study the distribution of #1 per month entered the chart. If a pattern emerges, it would give an indication of what is the ideal month to enter the charts to reach #1\n",
    "* For each year, study the average time remained in the billboards. It will give an indication of our the music industry has evolved over years (with potentially more songs/artists being produced in the recent years, and as a consequence higher turnover in the charts)"
   ]
  },
  {
   "cell_type": "markdown",
   "metadata": {
    "collapsed": true,
    "focus": false,
    "id": "a3c74c5b-3d90-4442-97d9-ae320fe238d1"
   },
   "source": [
    "## Step 6: Create a blog post with your code snippets and visualizations.\n",
    "##### Data Science is a growing field, and the Tech industry thrives off of collaboration and sharing of knowledge. Blogging is a powerful means for pushing the needle forward in our field. Using your blogging platform of choice, create a post describing each of the 5 steps above. Rather than writing a procedural text, imagine you're describing the data, visualizations, and conclusions you've arrived at to your peers. Aim for a minimum of 500 words. "
   ]
  },
  {
   "cell_type": "markdown",
   "metadata": {
    "collapsed": true,
    "focus": false,
    "id": "9b0185e4-7023-4086-b8b7-e15bcacc9984"
   },
   "source": [
    "See [gregvial.github.io](https://gregvial.github.io)"
   ]
  },
  {
   "cell_type": "markdown",
   "metadata": {
    "focus": false,
    "id": "aee61cbf-dfe9-40d3-bfef-772a60bed757"
   },
   "source": [
    "## BONUS: The Content Managers working for the Podcast Publishing Company have recognized you as a thought leader in your field. They've asked you to pen a white paper (minimum 500 words) on the subject of 'What It Means To Have Clean Data'. This will be an opinion piece read by a wide audience, so be sure to back up your statements with real world examples or scenarios.\n",
    "\n",
    "##### Hint: To get started, look around on the internet for articles, blog posts, papers, youtube videos, podcasts, reddit discussions, anything that will help you understand the challenges and implications of dealing with big data. This should be a personal reflection on everything you've learned this week, and the learning goals that have been set out for you going forward. "
   ]
  },
  {
   "cell_type": "markdown",
   "metadata": {
    "collapsed": true,
    "focus": false,
    "id": "28deb393-c994-47bc-87d2-035741ce527c"
   },
   "source": [
    "See [gregvial.github.io](https://gregvial.github.io)"
   ]
  }
 ],
 "metadata": {
  "anaconda-cloud": {},
  "kernelspec": {
   "display_name": "Python [default]",
   "language": "python",
   "name": "python2"
  },
  "language_info": {
   "codemirror_mode": {
    "name": "ipython",
    "version": 2
   },
   "file_extension": ".py",
   "mimetype": "text/x-python",
   "name": "python",
   "nbconvert_exporter": "python",
   "pygments_lexer": "ipython2",
   "version": "2.7.12"
  }
 },
 "nbformat": 4,
 "nbformat_minor": 0
}
