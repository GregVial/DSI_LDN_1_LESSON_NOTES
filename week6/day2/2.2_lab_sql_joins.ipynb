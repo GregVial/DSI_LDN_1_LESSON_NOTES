{
 "cells": [
  {
   "cell_type": "markdown",
   "metadata": {},
   "source": [
    "# APIs and SQL Joins Lab\n",
    "\n",
    "The city of San Francisco wants to assess the quality of restaurants in the city. Their data is scattered across multiple sources and incomplete.\n",
    "\n",
    "They tasked you to help them assess it.\n",
    "\n",
    "They would like to know what the most common violations are where they happen most frequently."
   ]
  },
  {
   "cell_type": "markdown",
   "metadata": {},
   "source": [
    "## 1. Initial data inspection\n",
    "\n",
    "To answer the question we will need to retrieve and merge data from multiple files.\n",
    "\n",
    "Yelp provides data on food quality, that can be found at [this address](http://www.yelp.com/healthscores/feeds). We already downloaded 4 files that you can find in the [assets folder](assets/datasets/yelp/).\n",
    "\n",
    "In the bonus part we will also use the Google Geocoding API and data on [Neighborhoods](https://www.google.com/fusiontables/DataSource?docid=1zNwsvTwj-dH0QxuuDrKFsyfNklajd7WwEyaZ2U9M#rows:id=1).\n",
    "\n",
    "1. Open each of the files and inspect them visually (eg with Finder, open using a spreadsheet program)\n",
    "- What information do they contain?\n",
    "- Note the column names and datatypes"
   ]
  },
  {
   "cell_type": "code",
   "execution_count": 4,
   "metadata": {
    "collapsed": false
   },
   "outputs": [
    {
     "name": "stdout",
     "output_type": "stream",
     "text": [
      " Le volume dans le lecteur D s'appelle DATA\n",
      " Le num‚ro de s‚rie du volume est 085C-5E79\n",
      "\n",
      " R‚pertoire de D:\\DSI_LDN_1_LESSON_NOTES\\week6\\day2\\assets\\datasets\\yelp\n",
      "\n",
      "15/11/2016  09:27    <DIR>          .\n",
      "15/11/2016  09:27    <DIR>          ..\n",
      "15/11/2016  09:27           316,839 businesses_utf8.csv\n",
      "15/11/2016  09:27           412,612 inspections_utf8.csv\n",
      "15/11/2016  09:27               106 legend_utf8.csv\n",
      "15/11/2016  09:27         3,626,225 violations_utf8.csv\n",
      "               4 fichier(s)        4,355,782 octets\n",
      "               2 R‚p(s)  848,234,881,024 octets libres\n"
     ]
    }
   ],
   "source": [
    "!dir assets\\datasets\\yelp"
   ]
  },
  {
   "cell_type": "code",
   "execution_count": 5,
   "metadata": {
    "collapsed": true
   },
   "outputs": [],
   "source": [
    "import pandas as pd\n",
    "import numpy as np\n",
    "import matplotlib.pyplot as plt\n",
    "%matplotlib inline"
   ]
  },
  {
   "cell_type": "code",
   "execution_count": 1,
   "metadata": {
    "collapsed": false
   },
   "outputs": [],
   "source": []
  },
  {
   "cell_type": "code",
   "execution_count": null,
   "metadata": {
    "collapsed": false
   },
   "outputs": [],
   "source": []
  },
  {
   "cell_type": "markdown",
   "metadata": {},
   "source": [
    "## 2. Local database\n",
    "\n",
    "The first step in our analysis is to import the data into a local PostgreSQL database.\n",
    "\n",
    "1. Connect to a local Postgres database and import the four files to four separate tables on your localhost\n",
    "\n",
    "I'm leaving this open for you to go back and work out how to import these tables. If that's hard,\n",
    "I have some code I can slack you but I'm hoping that by going through the process you can cement\n",
    "it in your mind so you will be confident to do it again in future. This means also not just copy and pasting from\n",
    "your neighbour, though by all means discuss. You should\n",
    "be able to see the table in your postico view if you connect it to the localhost, once you have imported it.\n",
    "\n",
    "I appreciate this can seem a little pointless, as you could just have imported the data from the csv into a pandas dataframe and explored it that way. However in general datasets may be too large to load in memory and you could use this approach to upload data to a table stored in the cloud rather than on your local computer. \n",
    "\n",
    "I've converted the csvs to a utf-8 format so you will not need to worry about encodings, as utf-8 is the default. In general though it's something you might encounter, as many csvs could be encoded in eg latin-1 rather than utf-8.\n",
    "\n",
    "**Check:** What happens if you shut down your local server? Can you still see the tables in postico? What happens when you reconnect the local server?"
   ]
  },
  {
   "cell_type": "markdown",
   "metadata": {
    "collapsed": true
   },
   "source": [
    "CREATE TABLE violation \n",
    "(business_id INTEGER, date DATE, description VARCHAR);\n",
    "\n",
    "\n",
    "COPY violation FROM 'D:\\DSI_LDN_1_LESSON_NOTES\\week6\\day2\\assets\\datasets\\yelp\\violations_utf8.csv' DELIMITER ',' CSV HEADER;\n",
    "\n",
    "CREATE TABLE legend\n",
    "(minimum_score INTEGER, maximum_score INTEGER, description VARCHAR);\n",
    "\n",
    "COPY legend FROM 'D:\\DSI_LDN_1_LESSON_NOTES\\week6\\day2\\assets\\datasets\\yelp\\legend_utf8.csv' DELIMITER ',' CSV HEADER;\n",
    "\n",
    "CREATE TABLE inspection\n",
    "(busines_id INTEGER, score INTEGER, date DATE, type VARCHAR);\n",
    "\n",
    "COPY inspection FROM 'D:\\DSI_LDN_1_LESSON_NOTES\\week6\\day2\\assets\\datasets\\yelp\\inspections_utf8.csv' DELIMITER ',' CSV HEADER;\n",
    "\n",
    "CREATE TABLE business\n",
    "(business_id INTEGER, name VARCHAR, address VARCHAR, city VARCHAR, state VARCHAR, postal_code VARCHAR, latitude float, longitude float, phone_number varchar);\n",
    "\n",
    "COPY business FROM 'D:\\DSI_LDN_1_LESSON_NOTES\\week6\\day2\\assets\\datasets\\yelp\\businesses_utf8.csv' DELIMITER ',' CSV HEADER;\n"
   ]
  },
  {
   "cell_type": "code",
   "execution_count": null,
   "metadata": {
    "collapsed": false
   },
   "outputs": [],
   "source": []
  },
  {
   "cell_type": "markdown",
   "metadata": {},
   "source": [
    "### 2.b Display the first few lines of each table (or do this in postico)"
   ]
  },
  {
   "cell_type": "code",
   "execution_count": 12,
   "metadata": {
    "collapsed": false
   },
   "outputs": [],
   "source": [
    "import pandas as pd\n",
    "violation = pd.read_csv(\"assets/datasets/yelp/violations_utf8.csv\")\n",
    "business = pd.read_csv(\"assets/datasets/yelp/businesses_utf8.csv\")\n",
    "legend = pd.read_csv(\"assets/datasets/yelp/legend_utf8.csv\")\n",
    "inspection = pd.read_csv(\"assets/datasets/yelp/inspections_utf8.csv\")"
   ]
  },
  {
   "cell_type": "code",
   "execution_count": null,
   "metadata": {
    "collapsed": false
   },
   "outputs": [],
   "source": []
  },
  {
   "cell_type": "markdown",
   "metadata": {},
   "source": [
    "## 2.b Investigate violations\n",
    "\n",
    "Let's focus on the violations table initially.\n",
    "\n",
    "\n",
    "Answer these questions using sql:\n",
    "1. How many violations are there?\n",
    "- How many businesses committing violations?\n",
    "- What's the average number of violations per business?\n",
    "\n",
    "Answer these questions using python\n",
    "1. Draw a plot of the violations count\n",
    "- Is the average number of violations meaningful?\n",
    "- Draw a plot of the normalized cumulative violation counts. Can we discard the restaurants with few violations?\n",
    "- Where would you draw a threshold if you were to keep 90% of the violations?"
   ]
  },
  {
   "cell_type": "markdown",
   "metadata": {
    "collapsed": false
   },
   "source": [
    "select count(*) from violation; => 39917\n",
    "\n",
    "select count(distinct business_id) from violation; => 5022\n",
    "\n",
    "select count(*) *1.0 / (select count(distinct business_id) from violation) from violation; => 7.95"
   ]
  },
  {
   "cell_type": "code",
   "execution_count": 23,
   "metadata": {
    "collapsed": false
   },
   "outputs": [
    {
     "data": {
      "image/png": "[encoded data removed]",
      "text/plain": [
       "<matplotlib.figure.Figure at 0xc4ffa58>"
      ]
     },
     "metadata": {},
     "output_type": "display_data"
    }
   ],
   "source": [
    "nb_violations = violation.groupby('business_id').apply(len)\n",
    "plt.hist(nb_violations)\n",
    "plt.axvline(np.mean(nb_violations),color=\"r\")\n",
    "plt.axvline(np.median(nb_violations),color=\"g\")\n",
    "plt.show()"
   ]
  },
  {
   "cell_type": "code",
   "execution_count": 31,
   "metadata": {
    "collapsed": false
   },
   "outputs": [
    {
     "data": {
      "text/plain": [
       "2      449\n",
       "4      897\n",
       "3     1339\n",
       "1     1738\n",
       "6     2122\n",
       "5     2505\n",
       "8     2851\n",
       "7     3182\n",
       "9     3444\n",
       "10    3683\n",
       "11    3887\n",
       "12    4059\n",
       "13    4227\n",
       "15    4353\n",
       "14    4473\n",
       "16    4570\n",
       "17    4643\n",
       "18    4704\n",
       "19    4757\n",
       "20    4808\n",
       "22    4849\n",
       "21    4876\n",
       "26    4895\n",
       "25    4914\n",
       "24    4933\n",
       "27    4951\n",
       "23    4969\n",
       "30    4979\n",
       "28    4989\n",
       "29    4997\n",
       "31    5004\n",
       "32    5008\n",
       "33    5012\n",
       "36    5015\n",
       "40    5016\n",
       "44    5017\n",
       "34    5018\n",
       "38    5019\n",
       "42    5020\n",
       "46    5021\n",
       "35    5022\n",
       "dtype: int64"
      ]
     },
     "execution_count": 31,
     "metadata": {},
     "output_type": "execute_result"
    }
   ],
   "source": [
    "nb_violations = violation.groupby('business_id').apply(len)\n",
    "nb_violations = nb_violations.sort_values()\n",
    "nb_violations.value_counts()"
   ]
  },
  {
   "cell_type": "markdown",
   "metadata": {},
   "source": [
    "### 2.c Investigate Inspections\n",
    "\n",
    "In the previous step we looked at violations count. However we also have an inspection score available in the inspections table. Let's have a look at that too.\n",
    "\n",
    "Answer these questions using SQL:\n",
    "1. What's the average score for the whole city?\n",
    "1. What's the average score per business?\n",
    "- Does the score correlate with the number of inspections?\n",
    "- Create a dataframe from a table with the following columns:\n",
    "    business_id, average_score, number_of_inspections, number_of_violations\n",
    "- Use pandas to do a scatter matrix plot of average_score, number_of_inspections, number_of_violations to check for correlations"
   ]
  },
  {
   "cell_type": "code",
   "execution_count": null,
   "metadata": {
    "collapsed": false
   },
   "outputs": [],
   "source": []
  },
  {
   "cell_type": "markdown",
   "metadata": {},
   "source": [
    "## 3 Zipcode analysis\n",
    "\n",
    "The town administration would like to know which zip code are the ones where they should focus the inspections.\n",
    "\n",
    "Use the information contained in the `businesses` table as well as the previous tables to answer the following questions using SQL:\n",
    "\n",
    "1. Count the number of businesses per zipcode and sort them by descending order\n",
    "- Which are the top 5 zipcodes with the worst average score?\n",
    "    - restrict your analysis to the zipcodes with at least 50 businesses\n",
    "    - do a simple average of the inspections scores in the postal code\n",
    "- Which are the top 5 zipcodes with the highest number of violations per restaurant?\n",
    "    - restrict your  analysis to the zipcodes with at least 50 businesses\n"
   ]
  },
  {
   "cell_type": "code",
   "execution_count": null,
   "metadata": {
    "collapsed": false
   },
   "outputs": [],
   "source": []
  },
  {
   "cell_type": "markdown",
   "metadata": {},
   "source": [
    "## Final recommendation\n",
    "Give a final recommendation on which 2 zipcodes should the administration focus and choose an appropriate plot to convince them visually."
   ]
  },
  {
   "cell_type": "code",
   "execution_count": null,
   "metadata": {
    "collapsed": true
   },
   "outputs": [],
   "source": []
  },
  {
   "cell_type": "markdown",
   "metadata": {},
   "source": [
    "### Bonus 1 Tableau\n",
    "\n",
    "Connect Tableau to your localhost database. You can do this by typing `localhost` in the server, your username in the database, and tableau in the username (with no password) all within the PostgreSQL connection.\n",
    "\n",
    "Go back through the questions from the start and redo the exploration using Tableau. For a practical understanding of where this would be used, Tableau is often used to create dashboards which others in the business (without coding skills) can use to access data. So for example, you might produce a dashboard showing inspections overlaid on a map, and this would be updated as new inspections are added to the database. Anyone would be able to log in to an online version of this dashboard (so even if they did not have the desktop version of Tableau) and view the map. \n",
    "\n",
    "See if you can come up with some useful dashboards for reporting."
   ]
  },
  {
   "cell_type": "markdown",
   "metadata": {
    "collapsed": true
   },
   "source": [
    "### Bonus 2 Google Geocoding API\n",
    "\n",
    "Instead of looking at zipcodes we may be interested in using neighbourhood names. It's beyond the scope of this lab to do a proper introduction to Geocoding and Reverse Geocoding, but we will give some pointers for further exploration.\n",
    "\n",
    "Have a look at:\n",
    "- https://developers.google.com/maps/documentation/geocoding/intro\n",
    "- https://maps.googleapis.com/maps/api/geocode/json?address=\n",
    "- https://maps.googleapis.com/maps/api/geocode/json?latlng=\n",
    "\n",
    "Through this API you can retrieve an address or a neighbourhood from a lat-lon pair (reverse geocoding), or you can retrieve lat long and other information from an address (geocoding).\n",
    "\n",
    "1. Try experimenting with and retrieving a few addresses\n",
    "- Note that google imposes limits on the number of free queries\n",
    "- How many missing lat-lon pairs do we have?"
   ]
  },
  {
   "cell_type": "code",
   "execution_count": null,
   "metadata": {
    "collapsed": true
   },
   "outputs": [],
   "source": []
  },
  {
   "cell_type": "markdown",
   "metadata": {},
   "source": [
    "### Bonus 3 Pycurl\n",
    "The pycurl library seems to be faster than requests in getting information from the google api.\n",
    "\n",
    "1. See if you can extract the neighbourhood from an address using the geocode api and a bit of json parsing\n",
    "- Note that you would surely hit the daily limit if you pulled each address' neighbourhood from the api"
   ]
  },
  {
   "cell_type": "code",
   "execution_count": null,
   "metadata": {
    "collapsed": false
   },
   "outputs": [],
   "source": []
  },
  {
   "cell_type": "markdown",
   "metadata": {
    "collapsed": false
   },
   "source": [
    "### Bonus 4 Polygons\n",
    "\n",
    "We can find the neighbourhood using the polygons associated to each of them.\n",
    "[Here](https://www.google.com/fusiontables/DataSource?docid=1zNwsvTwj-dH0QxuuDrKFsyfNklajd7WwEyaZ2U9M#rows:id=1) you can find these polygons (and we also copied them [locally](../../assets/datasets/sfneighborhoods.csv).\n",
    "\n",
    "[This article](http://streamhacker.com/2010/03/23/python-point-in-polygon-shapely/) describes how to use the shapely package to check if a point belongs to a polygon.\n",
    "\n",
    "- See if you can build a function that retrieves the neighbourhood for a given address using the polygon data\n"
   ]
  },
  {
   "cell_type": "code",
   "execution_count": null,
   "metadata": {
    "collapsed": true
   },
   "outputs": [],
   "source": []
  }
 ],
 "metadata": {
  "kernelspec": {
   "display_name": "Python [Root]",
   "language": "python",
   "name": "Python [Root]"
  },
  "language_info": {
   "codemirror_mode": {
    "name": "ipython",
    "version": 2
   },
   "file_extension": ".py",
   "mimetype": "text/x-python",
   "name": "python",
   "nbconvert_exporter": "python",
   "pygments_lexer": "ipython2",
   "version": "2.7.12"
  }
 },
 "nbformat": 4,
 "nbformat_minor": 0
}
