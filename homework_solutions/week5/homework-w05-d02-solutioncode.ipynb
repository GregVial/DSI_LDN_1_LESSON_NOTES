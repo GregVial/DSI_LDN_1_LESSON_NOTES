{
 "cells": [
  {
   "cell_type": "markdown",
   "metadata": {},
   "source": [
    "# Homework w05d02 - Pipelines\n",
    "\n",
    "#### Load the graduate school admissions dataset. The aim of this exercise is to create a pipeline to chain various data transformations and to use gridsearch for logistic regression. "
   ]
  },
  {
   "cell_type": "code",
   "execution_count": 1,
   "metadata": {
    "collapsed": false
   },
   "outputs": [
    {
     "data": {
      "text/html": [
       "<div>\n",
       "<table border=\"1\" class=\"dataframe\">\n",
       "  <thead>\n",
       "    <tr style=\"text-align: right;\">\n",
       "      <th></th>\n",
       "      <th>admit</th>\n",
       "      <th>gre</th>\n",
       "      <th>gpa</th>\n",
       "      <th>prestige</th>\n",
       "    </tr>\n",
       "  </thead>\n",
       "  <tbody>\n",
       "    <tr>\n",
       "      <th>0</th>\n",
       "      <td>0</td>\n",
       "      <td>380.0</td>\n",
       "      <td>3.61</td>\n",
       "      <td>3</td>\n",
       "    </tr>\n",
       "    <tr>\n",
       "      <th>1</th>\n",
       "      <td>1</td>\n",
       "      <td>660.0</td>\n",
       "      <td>3.67</td>\n",
       "      <td>3</td>\n",
       "    </tr>\n",
       "    <tr>\n",
       "      <th>2</th>\n",
       "      <td>1</td>\n",
       "      <td>800.0</td>\n",
       "      <td>4.00</td>\n",
       "      <td>1</td>\n",
       "    </tr>\n",
       "    <tr>\n",
       "      <th>3</th>\n",
       "      <td>1</td>\n",
       "      <td>640.0</td>\n",
       "      <td>3.19</td>\n",
       "      <td>4</td>\n",
       "    </tr>\n",
       "    <tr>\n",
       "      <th>4</th>\n",
       "      <td>0</td>\n",
       "      <td>520.0</td>\n",
       "      <td>2.93</td>\n",
       "      <td>4</td>\n",
       "    </tr>\n",
       "  </tbody>\n",
       "</table>\n",
       "</div>"
      ],
      "text/plain": [
       "   admit    gre   gpa  prestige\n",
       "0      0  380.0  3.61         3\n",
       "1      1  660.0  3.67         3\n",
       "2      1  800.0  4.00         1\n",
       "3      1  640.0  3.19         4\n",
       "4      0  520.0  2.93         4"
      ]
     },
     "execution_count": 1,
     "metadata": {},
     "output_type": "execute_result"
    }
   ],
   "source": [
    "import numpy as np\n",
    "import pandas as pd\n",
    "\n",
    "from sklearn import model_selection, linear_model, metrics\n",
    "from sklearn.pipeline import Pipeline\n",
    "from sklearn.metrics import accuracy_score\n",
    "from sklearn.pipeline import make_pipeline, make_union\n",
    "from sklearn.base import BaseEstimator, TransformerMixin\n",
    "\n",
    "df = pd.read_csv(\"../week_4/w04_d04/admissions.csv\").dropna()\n",
    "df['prestige'] = df['prestige'].astype(int)\n",
    "df.head()"
   ]
  },
  {
   "cell_type": "markdown",
   "metadata": {},
   "source": [
    "#### 1. In class you saw the GetDummiesTransformer. Modify this transformer in such a way that in a given dataframe it replaces the categorical variable (prestige) with the corresponding dummy variables dropping the one which is redundant."
   ]
  },
  {
   "cell_type": "code",
   "execution_count": 2,
   "metadata": {
    "collapsed": false
   },
   "outputs": [
    {
     "data": {
      "text/html": [
       "<div>\n",
       "<table border=\"1\" class=\"dataframe\">\n",
       "  <thead>\n",
       "    <tr style=\"text-align: right;\">\n",
       "      <th></th>\n",
       "      <th>prestige_1</th>\n",
       "      <th>prestige_2</th>\n",
       "      <th>prestige_3</th>\n",
       "      <th>prestige_4</th>\n",
       "    </tr>\n",
       "  </thead>\n",
       "  <tbody>\n",
       "    <tr>\n",
       "      <th>0</th>\n",
       "      <td>0.0</td>\n",
       "      <td>0.0</td>\n",
       "      <td>1.0</td>\n",
       "      <td>0.0</td>\n",
       "    </tr>\n",
       "    <tr>\n",
       "      <th>1</th>\n",
       "      <td>0.0</td>\n",
       "      <td>0.0</td>\n",
       "      <td>1.0</td>\n",
       "      <td>0.0</td>\n",
       "    </tr>\n",
       "    <tr>\n",
       "      <th>2</th>\n",
       "      <td>1.0</td>\n",
       "      <td>0.0</td>\n",
       "      <td>0.0</td>\n",
       "      <td>0.0</td>\n",
       "    </tr>\n",
       "    <tr>\n",
       "      <th>3</th>\n",
       "      <td>0.0</td>\n",
       "      <td>0.0</td>\n",
       "      <td>0.0</td>\n",
       "      <td>1.0</td>\n",
       "    </tr>\n",
       "    <tr>\n",
       "      <th>4</th>\n",
       "      <td>0.0</td>\n",
       "      <td>0.0</td>\n",
       "      <td>0.0</td>\n",
       "      <td>1.0</td>\n",
       "    </tr>\n",
       "  </tbody>\n",
       "</table>\n",
       "</div>"
      ],
      "text/plain": [
       "   prestige_1  prestige_2  prestige_3  prestige_4\n",
       "0         0.0         0.0         1.0         0.0\n",
       "1         0.0         0.0         1.0         0.0\n",
       "2         1.0         0.0         0.0         0.0\n",
       "3         0.0         0.0         0.0         1.0\n",
       "4         0.0         0.0         0.0         1.0"
      ]
     },
     "execution_count": 2,
     "metadata": {},
     "output_type": "execute_result"
    }
   ],
   "source": [
    "class GetDummiesTransformer(BaseEstimator, TransformerMixin):\n",
    "    def __init__(self, columns):\n",
    "        self.columns = columns\n",
    "    \n",
    "    def transform(self, X, *_):\n",
    "        if isinstance(X, pd.DataFrame):\n",
    "            return pd.get_dummies(X[self.columns], columns = self.columns)\n",
    "        else:\n",
    "            raise TypeError(\"This transformer only works with Pandas Dataframes\")\n",
    "    \n",
    "    def fit(self, X, *_):\n",
    "        return self\n",
    "\n",
    "\n",
    "gdt = GetDummiesTransformer(['prestige'])\n",
    "gdt.fit_transform(df).head()"
   ]
  },
  {
   "cell_type": "markdown",
   "metadata": {},
   "source": [
    "#### Answer:"
   ]
  },
  {
   "cell_type": "code",
   "execution_count": 3,
   "metadata": {
    "collapsed": false
   },
   "outputs": [
    {
     "data": {
      "text/html": [
       "<div>\n",
       "<table border=\"1\" class=\"dataframe\">\n",
       "  <thead>\n",
       "    <tr style=\"text-align: right;\">\n",
       "      <th></th>\n",
       "      <th>admit</th>\n",
       "      <th>gre</th>\n",
       "      <th>gpa</th>\n",
       "      <th>prestige_2</th>\n",
       "      <th>prestige_3</th>\n",
       "      <th>prestige_4</th>\n",
       "    </tr>\n",
       "  </thead>\n",
       "  <tbody>\n",
       "    <tr>\n",
       "      <th>0</th>\n",
       "      <td>0</td>\n",
       "      <td>380.0</td>\n",
       "      <td>3.61</td>\n",
       "      <td>0.0</td>\n",
       "      <td>1.0</td>\n",
       "      <td>0.0</td>\n",
       "    </tr>\n",
       "    <tr>\n",
       "      <th>1</th>\n",
       "      <td>1</td>\n",
       "      <td>660.0</td>\n",
       "      <td>3.67</td>\n",
       "      <td>0.0</td>\n",
       "      <td>1.0</td>\n",
       "      <td>0.0</td>\n",
       "    </tr>\n",
       "    <tr>\n",
       "      <th>2</th>\n",
       "      <td>1</td>\n",
       "      <td>800.0</td>\n",
       "      <td>4.00</td>\n",
       "      <td>0.0</td>\n",
       "      <td>0.0</td>\n",
       "      <td>0.0</td>\n",
       "    </tr>\n",
       "    <tr>\n",
       "      <th>3</th>\n",
       "      <td>1</td>\n",
       "      <td>640.0</td>\n",
       "      <td>3.19</td>\n",
       "      <td>0.0</td>\n",
       "      <td>0.0</td>\n",
       "      <td>1.0</td>\n",
       "    </tr>\n",
       "    <tr>\n",
       "      <th>4</th>\n",
       "      <td>0</td>\n",
       "      <td>520.0</td>\n",
       "      <td>2.93</td>\n",
       "      <td>0.0</td>\n",
       "      <td>0.0</td>\n",
       "      <td>1.0</td>\n",
       "    </tr>\n",
       "  </tbody>\n",
       "</table>\n",
       "</div>"
      ],
      "text/plain": [
       "   admit    gre   gpa  prestige_2  prestige_3  prestige_4\n",
       "0      0  380.0  3.61         0.0         1.0         0.0\n",
       "1      1  660.0  3.67         0.0         1.0         0.0\n",
       "2      1  800.0  4.00         0.0         0.0         0.0\n",
       "3      1  640.0  3.19         0.0         0.0         1.0\n",
       "4      0  520.0  2.93         0.0         0.0         1.0"
      ]
     },
     "execution_count": 3,
     "metadata": {},
     "output_type": "execute_result"
    }
   ],
   "source": [
    "class GetDummiesTransformer(BaseEstimator, TransformerMixin):\n",
    "    def __init__(self, columns):\n",
    "        self.columns = columns\n",
    "    \n",
    "    def transform(self, X, *_):\n",
    "        if isinstance(X, pd.DataFrame):\n",
    "            Y = pd.get_dummies(X[self.columns], columns = self.columns, drop_first=True)\n",
    "            X = X.join(Y)\n",
    "            X = X.drop(self.columns, axis=1)\n",
    "            return X\n",
    "        else:\n",
    "            raise TypeError(\"This transformer only works with Pandas Dataframes\")\n",
    "    \n",
    "    def fit(self, X, *_):\n",
    "        return self\n",
    "\n",
    "\n",
    "gdt = GetDummiesTransformer(['prestige'])\n",
    "gdt.fit_transform(df).head()"
   ]
  },
  {
   "cell_type": "markdown",
   "metadata": {},
   "source": [
    "#### 2. Construct a class which takes a dataframe as an input and returns the response and the feature matrix. Do this by modifying the ColumnSelector from the lab."
   ]
  },
  {
   "cell_type": "code",
   "execution_count": 4,
   "metadata": {
    "collapsed": true
   },
   "outputs": [],
   "source": [
    "class ColumnSelector(BaseEstimator, TransformerMixin):\n",
    "    def __init__(self, columns):\n",
    "        self.columns = columns\n",
    "    \n",
    "    def transform(self, X, *_):\n",
    "        if isinstance(X, pd.DataFrame):\n",
    "            return pd.DataFrame(X[self.columns])\n",
    "        else:\n",
    "            raise TypeError(\"This transformer only works with Pandas Dataframes\")\n",
    "    \n",
    "    def fit(self, X, *_):\n",
    "        return self\n",
    "\n"
   ]
  },
  {
   "cell_type": "markdown",
   "metadata": {},
   "source": [
    "#### Answer"
   ]
  },
  {
   "cell_type": "code",
   "execution_count": 5,
   "metadata": {
    "collapsed": false
   },
   "outputs": [
    {
     "name": "stdout",
     "output_type": "stream",
     "text": [
      "   admit\n",
      "0      0\n",
      "1      1\n",
      "2      1\n",
      "3      1\n",
      "4      0\n"
     ]
    },
    {
     "data": {
      "text/html": [
       "<div>\n",
       "<table border=\"1\" class=\"dataframe\">\n",
       "  <thead>\n",
       "    <tr style=\"text-align: right;\">\n",
       "      <th></th>\n",
       "      <th>gre</th>\n",
       "      <th>gpa</th>\n",
       "      <th>prestige_2</th>\n",
       "      <th>prestige_3</th>\n",
       "      <th>prestige_4</th>\n",
       "    </tr>\n",
       "  </thead>\n",
       "  <tbody>\n",
       "    <tr>\n",
       "      <th>0</th>\n",
       "      <td>380.0</td>\n",
       "      <td>3.61</td>\n",
       "      <td>0.0</td>\n",
       "      <td>1.0</td>\n",
       "      <td>0.0</td>\n",
       "    </tr>\n",
       "    <tr>\n",
       "      <th>1</th>\n",
       "      <td>660.0</td>\n",
       "      <td>3.67</td>\n",
       "      <td>0.0</td>\n",
       "      <td>1.0</td>\n",
       "      <td>0.0</td>\n",
       "    </tr>\n",
       "    <tr>\n",
       "      <th>2</th>\n",
       "      <td>800.0</td>\n",
       "      <td>4.00</td>\n",
       "      <td>0.0</td>\n",
       "      <td>0.0</td>\n",
       "      <td>0.0</td>\n",
       "    </tr>\n",
       "    <tr>\n",
       "      <th>3</th>\n",
       "      <td>640.0</td>\n",
       "      <td>3.19</td>\n",
       "      <td>0.0</td>\n",
       "      <td>0.0</td>\n",
       "      <td>1.0</td>\n",
       "    </tr>\n",
       "    <tr>\n",
       "      <th>4</th>\n",
       "      <td>520.0</td>\n",
       "      <td>2.93</td>\n",
       "      <td>0.0</td>\n",
       "      <td>0.0</td>\n",
       "      <td>1.0</td>\n",
       "    </tr>\n",
       "  </tbody>\n",
       "</table>\n",
       "</div>"
      ],
      "text/plain": [
       "     gre   gpa  prestige_2  prestige_3  prestige_4\n",
       "0  380.0  3.61         0.0         1.0         0.0\n",
       "1  660.0  3.67         0.0         1.0         0.0\n",
       "2  800.0  4.00         0.0         0.0         0.0\n",
       "3  640.0  3.19         0.0         0.0         1.0\n",
       "4  520.0  2.93         0.0         0.0         1.0"
      ]
     },
     "execution_count": 5,
     "metadata": {},
     "output_type": "execute_result"
    }
   ],
   "source": [
    "class Get_ResponseandFeatures(BaseEstimator, TransformerMixin):\n",
    "    def __init__(self, columns):\n",
    "        self.columns = columns\n",
    "    \n",
    "    def transform(self, X, *_):\n",
    "        if isinstance(X, pd.DataFrame):\n",
    "            y = X[self.columns]\n",
    "            X = X.drop(self.columns, axis=1)\n",
    "            return X, y\n",
    "        else:\n",
    "            raise TypeError(\"This transformer only works with Pandas Dataframes\")\n",
    "    \n",
    "    def fit(self,X, y, *_):\n",
    "        return self\n",
    "    \n",
    "    \n",
    "grf = Get_ResponseandFeatures(['admit'])\n",
    "X1, y1 = grf.transform(gdt.fit_transform(df))\n",
    "print y1.head()\n",
    "X1.head()"
   ]
  },
  {
   "cell_type": "markdown",
   "metadata": {},
   "source": [
    "#### 3. Construct a pipeline which combines the two classes constructed in 1 and 2 and returns from a given dataframe the response vector and the feature matrix."
   ]
  },
  {
   "cell_type": "code",
   "execution_count": 6,
   "metadata": {
    "collapsed": false
   },
   "outputs": [
    {
     "name": "stdout",
     "output_type": "stream",
     "text": [
      "0.705289672544\n"
     ]
    }
   ],
   "source": [
    "# columns or resp can be both, single strings or lists of strings, \n",
    "# but if you choose resp to be a list, you will have to transform y to a pandas\n",
    "# series with y = pd.Series(y['admit']) before using logistic regression.\n",
    "columns = ['prestige']\n",
    "resp = 'admit'\n",
    "\n",
    "pipe1 = Pipeline(steps=[('dummies', GetDummiesTransformer(columns)), \n",
    "                ('respfeat',Get_ResponseandFeatures(resp))])\n",
    "\n",
    "X,y = pipe1.fit_transform(df,resp)\n",
    "\n",
    "\n",
    "model = linear_model.LogisticRegression()\n",
    "model.fit(X,y)\n",
    "print model.score(X,y)\n",
    "# do the following if resp is a list like resp = ['admit]\n",
    "#y = pd.Series(y['admit'])"
   ]
  },
  {
   "cell_type": "markdown",
   "metadata": {},
   "source": [
    "#### 4. Feed the result into a logistic regression fit. Use GridSearchCV to find the best model fitting the data. Your gridsearch should use cross validation and a parameter grid for your choice of the input parameters of the logistic regression model (e.g. the penalty, fit with intercept, ...)."
   ]
  },
  {
   "cell_type": "code",
   "execution_count": 7,
   "metadata": {
    "collapsed": false
   },
   "outputs": [
    {
     "name": "stdout",
     "output_type": "stream",
     "text": [
      "{'penalty': 'l2', 'C': 1, 'fit_intercept': True, 'class_weight': 'balanced'} 0.680733810457\n"
     ]
    },
    {
     "name": "stderr",
     "output_type": "stream",
     "text": [
      "/Users/crahmede/anaconda/lib/python2.7/site-packages/sklearn/model_selection/_search.py:662: DeprecationWarning: The grid_scores_ attribute was deprecated in version 0.18 in favor of the more elaborate cv_results_ attribute. The grid_scores_ attribute will not be available from 0.20\n",
      "  DeprecationWarning)\n"
     ]
    },
    {
     "data": {
      "text/plain": [
       "[mean: 0.67654, std: 0.10244, params: {'penalty': 'l1', 'C': 100, 'fit_intercept': True, 'class_weight': None},\n",
       " mean: 0.67622, std: 0.10112, params: {'penalty': 'l2', 'C': 100, 'fit_intercept': True, 'class_weight': None},\n",
       " mean: 0.65264, std: 0.10844, params: {'penalty': 'l1', 'C': 100, 'fit_intercept': False, 'class_weight': None},\n",
       " mean: 0.65386, std: 0.10693, params: {'penalty': 'l2', 'C': 100, 'fit_intercept': False, 'class_weight': None},\n",
       " mean: 0.67731, std: 0.10399, params: {'penalty': 'l1', 'C': 100, 'fit_intercept': True, 'class_weight': 'balanced'},\n",
       " mean: 0.67674, std: 0.10435, params: {'penalty': 'l2', 'C': 100, 'fit_intercept': True, 'class_weight': 'balanced'},\n",
       " mean: 0.66706, std: 0.10688, params: {'penalty': 'l1', 'C': 100, 'fit_intercept': False, 'class_weight': 'balanced'},\n",
       " mean: 0.66676, std: 0.10696, params: {'penalty': 'l2', 'C': 100, 'fit_intercept': False, 'class_weight': 'balanced'},\n",
       " mean: 0.67712, std: 0.10234, params: {'penalty': 'l1', 'C': 10, 'fit_intercept': True, 'class_weight': None},\n",
       " mean: 0.67713, std: 0.10251, params: {'penalty': 'l2', 'C': 10, 'fit_intercept': True, 'class_weight': None},\n",
       " mean: 0.65293, std: 0.10811, params: {'penalty': 'l1', 'C': 10, 'fit_intercept': False, 'class_weight': None},\n",
       " mean: 0.65359, std: 0.10792, params: {'penalty': 'l2', 'C': 10, 'fit_intercept': False, 'class_weight': None},\n",
       " mean: 0.67679, std: 0.10388, params: {'penalty': 'l1', 'C': 10, 'fit_intercept': True, 'class_weight': 'balanced'},\n",
       " mean: 0.67651, std: 0.10385, params: {'penalty': 'l2', 'C': 10, 'fit_intercept': True, 'class_weight': 'balanced'},\n",
       " mean: 0.66646, std: 0.10757, params: {'penalty': 'l1', 'C': 10, 'fit_intercept': False, 'class_weight': 'balanced'},\n",
       " mean: 0.66646, std: 0.10757, params: {'penalty': 'l2', 'C': 10, 'fit_intercept': False, 'class_weight': 'balanced'},\n",
       " mean: 0.68017, std: 0.10806, params: {'penalty': 'l1', 'C': 1, 'fit_intercept': True, 'class_weight': None},\n",
       " mean: 0.67787, std: 0.10654, params: {'penalty': 'l2', 'C': 1, 'fit_intercept': True, 'class_weight': None},\n",
       " mean: 0.65097, std: 0.10510, params: {'penalty': 'l1', 'C': 1, 'fit_intercept': False, 'class_weight': None},\n",
       " mean: 0.64706, std: 0.10994, params: {'penalty': 'l2', 'C': 1, 'fit_intercept': False, 'class_weight': None},\n",
       " mean: 0.67721, std: 0.10882, params: {'penalty': 'l1', 'C': 1, 'fit_intercept': True, 'class_weight': 'balanced'},\n",
       " mean: 0.68073, std: 0.10732, params: {'penalty': 'l2', 'C': 1, 'fit_intercept': True, 'class_weight': 'balanced'},\n",
       " mean: 0.66526, std: 0.10608, params: {'penalty': 'l1', 'C': 1, 'fit_intercept': False, 'class_weight': 'balanced'},\n",
       " mean: 0.66326, std: 0.10890, params: {'penalty': 'l2', 'C': 1, 'fit_intercept': False, 'class_weight': 'balanced'},\n",
       " mean: 0.37870, std: 0.07158, params: {'penalty': 'l1', 'C': 0.1, 'fit_intercept': True, 'class_weight': None},\n",
       " mean: 0.61536, std: 0.10124, params: {'penalty': 'l2', 'C': 0.1, 'fit_intercept': True, 'class_weight': None},\n",
       " mean: 0.37812, std: 0.07349, params: {'penalty': 'l1', 'C': 0.1, 'fit_intercept': False, 'class_weight': None},\n",
       " mean: 0.59540, std: 0.09427, params: {'penalty': 'l2', 'C': 0.1, 'fit_intercept': False, 'class_weight': None},\n",
       " mean: 0.61292, std: 0.09195, params: {'penalty': 'l1', 'C': 0.1, 'fit_intercept': True, 'class_weight': 'balanced'},\n",
       " mean: 0.64764, std: 0.10969, params: {'penalty': 'l2', 'C': 0.1, 'fit_intercept': True, 'class_weight': 'balanced'},\n",
       " mean: 0.61206, std: 0.09143, params: {'penalty': 'l1', 'C': 0.1, 'fit_intercept': False, 'class_weight': 'balanced'},\n",
       " mean: 0.63694, std: 0.10675, params: {'penalty': 'l2', 'C': 0.1, 'fit_intercept': False, 'class_weight': 'balanced'},\n",
       " mean: 0.39314, std: 0.10008, params: {'penalty': 'l1', 'C': 0.01, 'fit_intercept': True, 'class_weight': None},\n",
       " mean: 0.44497, std: 0.07042, params: {'penalty': 'l2', 'C': 0.01, 'fit_intercept': True, 'class_weight': None},\n",
       " mean: 0.39314, std: 0.10008, params: {'penalty': 'l1', 'C': 0.01, 'fit_intercept': False, 'class_weight': None},\n",
       " mean: 0.43303, std: 0.07495, params: {'penalty': 'l2', 'C': 0.01, 'fit_intercept': False, 'class_weight': None},\n",
       " mean: 0.60686, std: 0.10008, params: {'penalty': 'l1', 'C': 0.01, 'fit_intercept': True, 'class_weight': 'balanced'},\n",
       " mean: 0.61467, std: 0.10417, params: {'penalty': 'l2', 'C': 0.01, 'fit_intercept': True, 'class_weight': 'balanced'},\n",
       " mean: 0.60686, std: 0.10008, params: {'penalty': 'l1', 'C': 0.01, 'fit_intercept': False, 'class_weight': 'balanced'},\n",
       " mean: 0.61179, std: 0.10494, params: {'penalty': 'l2', 'C': 0.01, 'fit_intercept': False, 'class_weight': 'balanced'},\n",
       " mean: 0.39314, std: 0.10008, params: {'penalty': 'l1', 'C': 0.001, 'fit_intercept': True, 'class_weight': None},\n",
       " mean: 0.39125, std: 0.09750, params: {'penalty': 'l2', 'C': 0.001, 'fit_intercept': True, 'class_weight': None},\n",
       " mean: 0.39314, std: 0.10008, params: {'penalty': 'l1', 'C': 0.001, 'fit_intercept': False, 'class_weight': None},\n",
       " mean: 0.39125, std: 0.09750, params: {'penalty': 'l2', 'C': 0.001, 'fit_intercept': False, 'class_weight': None},\n",
       " mean: 0.60686, std: 0.10008, params: {'penalty': 'l1', 'C': 0.001, 'fit_intercept': True, 'class_weight': 'balanced'},\n",
       " mean: 0.61763, std: 0.09966, params: {'penalty': 'l2', 'C': 0.001, 'fit_intercept': True, 'class_weight': 'balanced'},\n",
       " mean: 0.60686, std: 0.10008, params: {'penalty': 'l1', 'C': 0.001, 'fit_intercept': False, 'class_weight': 'balanced'},\n",
       " mean: 0.61847, std: 0.10158, params: {'penalty': 'l2', 'C': 0.001, 'fit_intercept': False, 'class_weight': 'balanced'}]"
      ]
     },
     "execution_count": 7,
     "metadata": {},
     "output_type": "execute_result"
    }
   ],
   "source": [
    "gs = model_selection.GridSearchCV(\n",
    "    estimator = model,\n",
    "    param_grid = {'C': [10**-i for i in range(-2, 4)],\n",
    "                 'class_weight': [None, 'balanced'],\n",
    "                 'penalty':['l1','l2'],\n",
    "                 'fit_intercept':[True,False]},\n",
    "    cv = 10,\n",
    "    scoring = 'roc_auc'\n",
    "    )\n",
    "\n",
    "gs.fit(X, y)\n",
    "print gs.best_params_, gs.best_score_\n",
    "gs.grid_scores_"
   ]
  },
  {
   "cell_type": "code",
   "execution_count": null,
   "metadata": {
    "collapsed": true
   },
   "outputs": [],
   "source": []
  }
 ],
 "metadata": {
  "anaconda-cloud": {},
  "kernelspec": {
   "display_name": "Python [conda root]",
   "language": "python",
   "name": "conda-root-py"
  },
  "language_info": {
   "codemirror_mode": {
    "name": "ipython",
    "version": 2
   },
   "file_extension": ".py",
   "mimetype": "text/x-python",
   "name": "python",
   "nbconvert_exporter": "python",
   "pygments_lexer": "ipython2",
   "version": "2.7.12"
  }
 },
 "nbformat": 4,
 "nbformat_minor": 1
}
