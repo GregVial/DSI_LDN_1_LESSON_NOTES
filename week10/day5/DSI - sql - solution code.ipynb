{
 "cells": [
  {
   "cell_type": "markdown",
   "metadata": {},
   "source": [
    "# Data Science Immersive: SQL Fu\n",
    "## Solution code for guided practice & demos"
   ]
  },
  {
   "cell_type": "code",
   "execution_count": 1,
   "metadata": {
    "collapsed": false
   },
   "outputs": [],
   "source": [
    "# Imports\n",
    "import json\n",
    "import matplotlib.pyplot as plt\n",
    "import numpy as np\n",
    "import pandas as pd\n",
    "from pathlib import Path\n",
    "import seaborn as sb\n",
    "%matplotlib inline\n",
    "\n",
    "# Config\n",
    "DATA_DIR = Path('.')\n",
    "np.random.seed(1)"
   ]
  },
  {
   "cell_type": "markdown",
   "metadata": {},
   "source": [
    "## Rossmann Drugstore Sales Data\n",
    "We will be using data made available by a German drugstore, Rossmann. This data contains the daily sales made at the drugstore as well as whether there was a sale or holiday affecting the sales data.\n",
    "\n",
    "[Kaggle Rossmann Store Sales](https://www.kaggle.com/c/rossmann-store-sales)\n",
    "\n",
    ">Rossmann operates over 3,000 drug stores in 7 European countries. Currently, \n",
    "Rossmann store managers are tasked with predicting their daily sales for up to six weeks in advance. Store sales are influenced by many factors, including promotions, competition, school and state holidays, seasonality, and locality. With thousands of individual managers predicting sales based on their unique circumstances, the accuracy of results can be quite varied.\n",
    "\n",
    "### Data Dictionary\n",
    "\n",
    "| Column | Description |\n",
    "| -- | -- |\n",
    "| **`Id`** | an Id that represents a (Store, Date) duple within the test set |\n",
    "| **`Store`** | a unique Id for each store |\n",
    "| **`Sales`** | the turnover for any given day (this is what you are predicting) |\n",
    "| **`Customers`** | the number of customers on a given day |\n",
    "| **`Open`** | an indicator for whether the store was open: 0 = closed, 1 = open |\n",
    "| **`StateHoliday`** | indicates a state holiday. Normally all stores, with few exceptions, are closed on state holidays. Note that all schools are closed on public holidays and weekends. a = public holiday, b = Easter holiday, c = Christmas, 0 = None |\n",
    "| **`SchoolHoliday`** | indicates if the (Store, Date) was affected by the closure of public schools |\n",
    "| **`Promo`** | indicates whether a store is running a promo on that day. |"
   ]
  },
  {
   "cell_type": "code",
   "execution_count": 2,
   "metadata": {
    "collapsed": false
   },
   "outputs": [
    {
     "data": {
      "text/html": [
       "<div>\n",
       "<table border=\"1\" class=\"dataframe\">\n",
       "  <thead>\n",
       "    <tr style=\"text-align: right;\">\n",
       "      <th></th>\n",
       "      <th>Store</th>\n",
       "      <th>DayOfWeek</th>\n",
       "      <th>Date</th>\n",
       "      <th>Sales</th>\n",
       "      <th>Customers</th>\n",
       "      <th>Open</th>\n",
       "      <th>Promo</th>\n",
       "      <th>StateHoliday</th>\n",
       "      <th>SchoolHoliday</th>\n",
       "    </tr>\n",
       "  </thead>\n",
       "  <tbody>\n",
       "    <tr>\n",
       "      <th>0</th>\n",
       "      <td>1</td>\n",
       "      <td>5</td>\n",
       "      <td>2015-07-31</td>\n",
       "      <td>5263</td>\n",
       "      <td>555</td>\n",
       "      <td>1</td>\n",
       "      <td>1</td>\n",
       "      <td>0</td>\n",
       "      <td>1</td>\n",
       "    </tr>\n",
       "    <tr>\n",
       "      <th>1</th>\n",
       "      <td>2</td>\n",
       "      <td>5</td>\n",
       "      <td>2015-07-31</td>\n",
       "      <td>6064</td>\n",
       "      <td>625</td>\n",
       "      <td>1</td>\n",
       "      <td>1</td>\n",
       "      <td>0</td>\n",
       "      <td>1</td>\n",
       "    </tr>\n",
       "    <tr>\n",
       "      <th>2</th>\n",
       "      <td>3</td>\n",
       "      <td>5</td>\n",
       "      <td>2015-07-31</td>\n",
       "      <td>8314</td>\n",
       "      <td>821</td>\n",
       "      <td>1</td>\n",
       "      <td>1</td>\n",
       "      <td>0</td>\n",
       "      <td>1</td>\n",
       "    </tr>\n",
       "    <tr>\n",
       "      <th>3</th>\n",
       "      <td>4</td>\n",
       "      <td>5</td>\n",
       "      <td>2015-07-31</td>\n",
       "      <td>13995</td>\n",
       "      <td>1498</td>\n",
       "      <td>1</td>\n",
       "      <td>1</td>\n",
       "      <td>0</td>\n",
       "      <td>1</td>\n",
       "    </tr>\n",
       "    <tr>\n",
       "      <th>4</th>\n",
       "      <td>5</td>\n",
       "      <td>5</td>\n",
       "      <td>2015-07-31</td>\n",
       "      <td>4822</td>\n",
       "      <td>559</td>\n",
       "      <td>1</td>\n",
       "      <td>1</td>\n",
       "      <td>0</td>\n",
       "      <td>1</td>\n",
       "    </tr>\n",
       "  </tbody>\n",
       "</table>\n",
       "</div>"
      ],
      "text/plain": [
       "   Store  DayOfWeek        Date  Sales  Customers  Open  Promo StateHoliday  \\\n",
       "0      1          5  2015-07-31   5263        555     1      1            0   \n",
       "1      2          5  2015-07-31   6064        625     1      1            0   \n",
       "2      3          5  2015-07-31   8314        821     1      1            0   \n",
       "3      4          5  2015-07-31  13995       1498     1      1            0   \n",
       "4      5          5  2015-07-31   4822        559     1      1            0   \n",
       "\n",
       "   SchoolHoliday  \n",
       "0              1  \n",
       "1              1  \n",
       "2              1  \n",
       "3              1  \n",
       "4              1  "
      ]
     },
     "execution_count": 2,
     "metadata": {},
     "output_type": "execute_result"
    }
   ],
   "source": [
    "data = pd.read_csv(DATA_DIR / 'rossmann.csv', low_memory=False)\n",
    "data.head()"
   ]
  },
  {
   "cell_type": "markdown",
   "metadata": {},
   "source": [
    "## Recap: Accessing databases from pandas\n",
    "Let's recap how to create a local SQLite database."
   ]
  },
  {
   "cell_type": "code",
   "execution_count": 3,
   "metadata": {
    "collapsed": true
   },
   "outputs": [],
   "source": [
    "# We can create a SQLite database as follows:\n",
    "from pandas.io import sql\n",
    "import sqlite3\n",
    "\n",
    "# Create test_sqlite_database.db file in current directory\n",
    "conn = sqlite3.connect('test_sqlite_database.db')"
   ]
  },
  {
   "cell_type": "code",
   "execution_count": 4,
   "metadata": {
    "collapsed": true
   },
   "outputs": [],
   "source": [
    "# Load `data` object into `rossmann_sales` table in our sqlite db using pd.to_sql()\n",
    "# N.B. we're replacing anything that's already there\n",
    "data.to_sql('rossmann_sales', con=conn, if_exists='replace', index=False)"
   ]
  },
  {
   "cell_type": "code",
   "execution_count": 5,
   "metadata": {
    "collapsed": false
   },
   "outputs": [
    {
     "data": {
      "text/html": [
       "<div>\n",
       "<table border=\"1\" class=\"dataframe\">\n",
       "  <thead>\n",
       "    <tr style=\"text-align: right;\">\n",
       "      <th></th>\n",
       "      <th>Store</th>\n",
       "      <th>DayOfWeek</th>\n",
       "      <th>Date</th>\n",
       "      <th>Sales</th>\n",
       "      <th>Customers</th>\n",
       "      <th>Open</th>\n",
       "      <th>Promo</th>\n",
       "      <th>StateHoliday</th>\n",
       "      <th>SchoolHoliday</th>\n",
       "    </tr>\n",
       "  </thead>\n",
       "  <tbody>\n",
       "    <tr>\n",
       "      <th>0</th>\n",
       "      <td>1</td>\n",
       "      <td>5</td>\n",
       "      <td>2015-07-31</td>\n",
       "      <td>5263</td>\n",
       "      <td>555</td>\n",
       "      <td>1</td>\n",
       "      <td>1</td>\n",
       "      <td>0</td>\n",
       "      <td>1</td>\n",
       "    </tr>\n",
       "    <tr>\n",
       "      <th>1</th>\n",
       "      <td>2</td>\n",
       "      <td>5</td>\n",
       "      <td>2015-07-31</td>\n",
       "      <td>6064</td>\n",
       "      <td>625</td>\n",
       "      <td>1</td>\n",
       "      <td>1</td>\n",
       "      <td>0</td>\n",
       "      <td>1</td>\n",
       "    </tr>\n",
       "    <tr>\n",
       "      <th>2</th>\n",
       "      <td>3</td>\n",
       "      <td>5</td>\n",
       "      <td>2015-07-31</td>\n",
       "      <td>8314</td>\n",
       "      <td>821</td>\n",
       "      <td>1</td>\n",
       "      <td>1</td>\n",
       "      <td>0</td>\n",
       "      <td>1</td>\n",
       "    </tr>\n",
       "    <tr>\n",
       "      <th>3</th>\n",
       "      <td>4</td>\n",
       "      <td>5</td>\n",
       "      <td>2015-07-31</td>\n",
       "      <td>13995</td>\n",
       "      <td>1498</td>\n",
       "      <td>1</td>\n",
       "      <td>1</td>\n",
       "      <td>0</td>\n",
       "      <td>1</td>\n",
       "    </tr>\n",
       "    <tr>\n",
       "      <th>4</th>\n",
       "      <td>5</td>\n",
       "      <td>5</td>\n",
       "      <td>2015-07-31</td>\n",
       "      <td>4822</td>\n",
       "      <td>559</td>\n",
       "      <td>1</td>\n",
       "      <td>1</td>\n",
       "      <td>0</td>\n",
       "      <td>1</td>\n",
       "    </tr>\n",
       "    <tr>\n",
       "      <th>5</th>\n",
       "      <td>6</td>\n",
       "      <td>5</td>\n",
       "      <td>2015-07-31</td>\n",
       "      <td>5651</td>\n",
       "      <td>589</td>\n",
       "      <td>1</td>\n",
       "      <td>1</td>\n",
       "      <td>0</td>\n",
       "      <td>1</td>\n",
       "    </tr>\n",
       "    <tr>\n",
       "      <th>6</th>\n",
       "      <td>7</td>\n",
       "      <td>5</td>\n",
       "      <td>2015-07-31</td>\n",
       "      <td>15344</td>\n",
       "      <td>1414</td>\n",
       "      <td>1</td>\n",
       "      <td>1</td>\n",
       "      <td>0</td>\n",
       "      <td>1</td>\n",
       "    </tr>\n",
       "    <tr>\n",
       "      <th>7</th>\n",
       "      <td>8</td>\n",
       "      <td>5</td>\n",
       "      <td>2015-07-31</td>\n",
       "      <td>8492</td>\n",
       "      <td>833</td>\n",
       "      <td>1</td>\n",
       "      <td>1</td>\n",
       "      <td>0</td>\n",
       "      <td>1</td>\n",
       "    </tr>\n",
       "    <tr>\n",
       "      <th>8</th>\n",
       "      <td>9</td>\n",
       "      <td>5</td>\n",
       "      <td>2015-07-31</td>\n",
       "      <td>8565</td>\n",
       "      <td>687</td>\n",
       "      <td>1</td>\n",
       "      <td>1</td>\n",
       "      <td>0</td>\n",
       "      <td>1</td>\n",
       "    </tr>\n",
       "    <tr>\n",
       "      <th>9</th>\n",
       "      <td>10</td>\n",
       "      <td>5</td>\n",
       "      <td>2015-07-31</td>\n",
       "      <td>7185</td>\n",
       "      <td>681</td>\n",
       "      <td>1</td>\n",
       "      <td>1</td>\n",
       "      <td>0</td>\n",
       "      <td>1</td>\n",
       "    </tr>\n",
       "  </tbody>\n",
       "</table>\n",
       "</div>"
      ],
      "text/plain": [
       "   Store  DayOfWeek        Date  Sales  Customers  Open  Promo StateHoliday  \\\n",
       "0      1          5  2015-07-31   5263        555     1      1            0   \n",
       "1      2          5  2015-07-31   6064        625     1      1            0   \n",
       "2      3          5  2015-07-31   8314        821     1      1            0   \n",
       "3      4          5  2015-07-31  13995       1498     1      1            0   \n",
       "4      5          5  2015-07-31   4822        559     1      1            0   \n",
       "5      6          5  2015-07-31   5651        589     1      1            0   \n",
       "6      7          5  2015-07-31  15344       1414     1      1            0   \n",
       "7      8          5  2015-07-31   8492        833     1      1            0   \n",
       "8      9          5  2015-07-31   8565        687     1      1            0   \n",
       "9     10          5  2015-07-31   7185        681     1      1            0   \n",
       "\n",
       "   SchoolHoliday  \n",
       "0              1  \n",
       "1              1  \n",
       "2              1  \n",
       "3              1  \n",
       "4              1  \n",
       "5              1  \n",
       "6              1  \n",
       "7              1  \n",
       "8              1  \n",
       "9              1  "
      ]
     },
     "execution_count": 5,
     "metadata": {},
     "output_type": "execute_result"
    }
   ],
   "source": [
    "# Do a basic read query\n",
    "sql.read_sql(\"SELECT * FROM rossmann_sales LIMIT 10\", con=conn)"
   ]
  },
  {
   "cell_type": "code",
   "execution_count": 6,
   "metadata": {
    "collapsed": false
   },
   "outputs": [
    {
     "data": {
      "text/html": [
       "<div>\n",
       "<table border=\"1\" class=\"dataframe\">\n",
       "  <thead>\n",
       "    <tr style=\"text-align: right;\">\n",
       "      <th></th>\n",
       "      <th>Store</th>\n",
       "      <th>SUM(Customers)</th>\n",
       "    </tr>\n",
       "  </thead>\n",
       "  <tbody>\n",
       "    <tr>\n",
       "      <th>0</th>\n",
       "      <td>1</td>\n",
       "      <td>440523</td>\n",
       "    </tr>\n",
       "    <tr>\n",
       "      <th>1</th>\n",
       "      <td>2</td>\n",
       "      <td>457855</td>\n",
       "    </tr>\n",
       "    <tr>\n",
       "      <th>2</th>\n",
       "      <td>3</td>\n",
       "      <td>584310</td>\n",
       "    </tr>\n",
       "    <tr>\n",
       "      <th>3</th>\n",
       "      <td>4</td>\n",
       "      <td>1036254</td>\n",
       "    </tr>\n",
       "    <tr>\n",
       "      <th>4</th>\n",
       "      <td>5</td>\n",
       "      <td>418588</td>\n",
       "    </tr>\n",
       "    <tr>\n",
       "      <th>5</th>\n",
       "      <td>6</td>\n",
       "      <td>495483</td>\n",
       "    </tr>\n",
       "    <tr>\n",
       "      <th>6</th>\n",
       "      <td>7</td>\n",
       "      <td>745569</td>\n",
       "    </tr>\n",
       "    <tr>\n",
       "      <th>7</th>\n",
       "      <td>8</td>\n",
       "      <td>516027</td>\n",
       "    </tr>\n",
       "    <tr>\n",
       "      <th>8</th>\n",
       "      <td>9</td>\n",
       "      <td>451677</td>\n",
       "    </tr>\n",
       "    <tr>\n",
       "      <th>9</th>\n",
       "      <td>10</td>\n",
       "      <td>465661</td>\n",
       "    </tr>\n",
       "    <tr>\n",
       "      <th>10</th>\n",
       "      <td>11</td>\n",
       "      <td>885992</td>\n",
       "    </tr>\n",
       "    <tr>\n",
       "      <th>11</th>\n",
       "      <td>12</td>\n",
       "      <td>703211</td>\n",
       "    </tr>\n",
       "    <tr>\n",
       "      <th>12</th>\n",
       "      <td>13</td>\n",
       "      <td>237740</td>\n",
       "    </tr>\n",
       "    <tr>\n",
       "      <th>13</th>\n",
       "      <td>14</td>\n",
       "      <td>491913</td>\n",
       "    </tr>\n",
       "    <tr>\n",
       "      <th>14</th>\n",
       "      <td>15</td>\n",
       "      <td>520107</td>\n",
       "    </tr>\n",
       "    <tr>\n",
       "      <th>15</th>\n",
       "      <td>16</td>\n",
       "      <td>662375</td>\n",
       "    </tr>\n",
       "    <tr>\n",
       "      <th>16</th>\n",
       "      <td>17</td>\n",
       "      <td>619090</td>\n",
       "    </tr>\n",
       "    <tr>\n",
       "      <th>17</th>\n",
       "      <td>18</td>\n",
       "      <td>557785</td>\n",
       "    </tr>\n",
       "    <tr>\n",
       "      <th>18</th>\n",
       "      <td>19</td>\n",
       "      <td>486618</td>\n",
       "    </tr>\n",
       "    <tr>\n",
       "      <th>19</th>\n",
       "      <td>20</td>\n",
       "      <td>525258</td>\n",
       "    </tr>\n",
       "    <tr>\n",
       "      <th>20</th>\n",
       "      <td>21</td>\n",
       "      <td>401213</td>\n",
       "    </tr>\n",
       "    <tr>\n",
       "      <th>21</th>\n",
       "      <td>22</td>\n",
       "      <td>312129</td>\n",
       "    </tr>\n",
       "    <tr>\n",
       "      <th>22</th>\n",
       "      <td>23</td>\n",
       "      <td>375818</td>\n",
       "    </tr>\n",
       "    <tr>\n",
       "      <th>23</th>\n",
       "      <td>24</td>\n",
       "      <td>650800</td>\n",
       "    </tr>\n",
       "    <tr>\n",
       "      <th>24</th>\n",
       "      <td>25</td>\n",
       "      <td>1177772</td>\n",
       "    </tr>\n",
       "    <tr>\n",
       "      <th>25</th>\n",
       "      <td>26</td>\n",
       "      <td>434849</td>\n",
       "    </tr>\n",
       "    <tr>\n",
       "      <th>26</th>\n",
       "      <td>27</td>\n",
       "      <td>837237</td>\n",
       "    </tr>\n",
       "    <tr>\n",
       "      <th>27</th>\n",
       "      <td>28</td>\n",
       "      <td>448196</td>\n",
       "    </tr>\n",
       "    <tr>\n",
       "      <th>28</th>\n",
       "      <td>29</td>\n",
       "      <td>509233</td>\n",
       "    </tr>\n",
       "    <tr>\n",
       "      <th>29</th>\n",
       "      <td>30</td>\n",
       "      <td>603828</td>\n",
       "    </tr>\n",
       "    <tr>\n",
       "      <th>...</th>\n",
       "      <td>...</td>\n",
       "      <td>...</td>\n",
       "    </tr>\n",
       "    <tr>\n",
       "      <th>1085</th>\n",
       "      <td>1086</td>\n",
       "      <td>655364</td>\n",
       "    </tr>\n",
       "    <tr>\n",
       "      <th>1086</th>\n",
       "      <td>1087</td>\n",
       "      <td>482537</td>\n",
       "    </tr>\n",
       "    <tr>\n",
       "      <th>1087</th>\n",
       "      <td>1088</td>\n",
       "      <td>377930</td>\n",
       "    </tr>\n",
       "    <tr>\n",
       "      <th>1088</th>\n",
       "      <td>1089</td>\n",
       "      <td>781006</td>\n",
       "    </tr>\n",
       "    <tr>\n",
       "      <th>1089</th>\n",
       "      <td>1090</td>\n",
       "      <td>612815</td>\n",
       "    </tr>\n",
       "    <tr>\n",
       "      <th>1090</th>\n",
       "      <td>1091</td>\n",
       "      <td>546598</td>\n",
       "    </tr>\n",
       "    <tr>\n",
       "      <th>1091</th>\n",
       "      <td>1092</td>\n",
       "      <td>724644</td>\n",
       "    </tr>\n",
       "    <tr>\n",
       "      <th>1092</th>\n",
       "      <td>1093</td>\n",
       "      <td>678171</td>\n",
       "    </tr>\n",
       "    <tr>\n",
       "      <th>1093</th>\n",
       "      <td>1094</td>\n",
       "      <td>232530</td>\n",
       "    </tr>\n",
       "    <tr>\n",
       "      <th>1094</th>\n",
       "      <td>1095</td>\n",
       "      <td>530065</td>\n",
       "    </tr>\n",
       "    <tr>\n",
       "      <th>1095</th>\n",
       "      <td>1096</td>\n",
       "      <td>493156</td>\n",
       "    </tr>\n",
       "    <tr>\n",
       "      <th>1096</th>\n",
       "      <td>1097</td>\n",
       "      <td>2280508</td>\n",
       "    </tr>\n",
       "    <tr>\n",
       "      <th>1097</th>\n",
       "      <td>1098</td>\n",
       "      <td>553080</td>\n",
       "    </tr>\n",
       "    <tr>\n",
       "      <th>1098</th>\n",
       "      <td>1099</td>\n",
       "      <td>875095</td>\n",
       "    </tr>\n",
       "    <tr>\n",
       "      <th>1099</th>\n",
       "      <td>1100</td>\n",
       "      <td>514503</td>\n",
       "    </tr>\n",
       "    <tr>\n",
       "      <th>1100</th>\n",
       "      <td>1101</td>\n",
       "      <td>774945</td>\n",
       "    </tr>\n",
       "    <tr>\n",
       "      <th>1101</th>\n",
       "      <td>1102</td>\n",
       "      <td>439429</td>\n",
       "    </tr>\n",
       "    <tr>\n",
       "      <th>1102</th>\n",
       "      <td>1103</td>\n",
       "      <td>301204</td>\n",
       "    </tr>\n",
       "    <tr>\n",
       "      <th>1103</th>\n",
       "      <td>1104</td>\n",
       "      <td>268215</td>\n",
       "    </tr>\n",
       "    <tr>\n",
       "      <th>1104</th>\n",
       "      <td>1105</td>\n",
       "      <td>397318</td>\n",
       "    </tr>\n",
       "    <tr>\n",
       "      <th>1105</th>\n",
       "      <td>1106</td>\n",
       "      <td>437169</td>\n",
       "    </tr>\n",
       "    <tr>\n",
       "      <th>1106</th>\n",
       "      <td>1107</td>\n",
       "      <td>416495</td>\n",
       "    </tr>\n",
       "    <tr>\n",
       "      <th>1107</th>\n",
       "      <td>1108</td>\n",
       "      <td>460408</td>\n",
       "    </tr>\n",
       "    <tr>\n",
       "      <th>1108</th>\n",
       "      <td>1109</td>\n",
       "      <td>281354</td>\n",
       "    </tr>\n",
       "    <tr>\n",
       "      <th>1109</th>\n",
       "      <td>1110</td>\n",
       "      <td>422958</td>\n",
       "    </tr>\n",
       "    <tr>\n",
       "      <th>1110</th>\n",
       "      <td>1111</td>\n",
       "      <td>351883</td>\n",
       "    </tr>\n",
       "    <tr>\n",
       "      <th>1111</th>\n",
       "      <td>1112</td>\n",
       "      <td>653276</td>\n",
       "    </tr>\n",
       "    <tr>\n",
       "      <th>1112</th>\n",
       "      <td>1113</td>\n",
       "      <td>562151</td>\n",
       "    </tr>\n",
       "    <tr>\n",
       "      <th>1113</th>\n",
       "      <td>1114</td>\n",
       "      <td>2509542</td>\n",
       "    </tr>\n",
       "    <tr>\n",
       "      <th>1114</th>\n",
       "      <td>1115</td>\n",
       "      <td>337884</td>\n",
       "    </tr>\n",
       "  </tbody>\n",
       "</table>\n",
       "<p>1115 rows × 2 columns</p>\n",
       "</div>"
      ],
      "text/plain": [
       "      Store  SUM(Customers)\n",
       "0         1          440523\n",
       "1         2          457855\n",
       "2         3          584310\n",
       "3         4         1036254\n",
       "4         5          418588\n",
       "5         6          495483\n",
       "6         7          745569\n",
       "7         8          516027\n",
       "8         9          451677\n",
       "9        10          465661\n",
       "10       11          885992\n",
       "11       12          703211\n",
       "12       13          237740\n",
       "13       14          491913\n",
       "14       15          520107\n",
       "15       16          662375\n",
       "16       17          619090\n",
       "17       18          557785\n",
       "18       19          486618\n",
       "19       20          525258\n",
       "20       21          401213\n",
       "21       22          312129\n",
       "22       23          375818\n",
       "23       24          650800\n",
       "24       25         1177772\n",
       "25       26          434849\n",
       "26       27          837237\n",
       "27       28          448196\n",
       "28       29          509233\n",
       "29       30          603828\n",
       "...     ...             ...\n",
       "1085   1086          655364\n",
       "1086   1087          482537\n",
       "1087   1088          377930\n",
       "1088   1089          781006\n",
       "1089   1090          612815\n",
       "1090   1091          546598\n",
       "1091   1092          724644\n",
       "1092   1093          678171\n",
       "1093   1094          232530\n",
       "1094   1095          530065\n",
       "1095   1096          493156\n",
       "1096   1097         2280508\n",
       "1097   1098          553080\n",
       "1098   1099          875095\n",
       "1099   1100          514503\n",
       "1100   1101          774945\n",
       "1101   1102          439429\n",
       "1102   1103          301204\n",
       "1103   1104          268215\n",
       "1104   1105          397318\n",
       "1105   1106          437169\n",
       "1106   1107          416495\n",
       "1107   1108          460408\n",
       "1108   1109          281354\n",
       "1109   1110          422958\n",
       "1110   1111          351883\n",
       "1111   1112          653276\n",
       "1112   1113          562151\n",
       "1113   1114         2509542\n",
       "1114   1115          337884\n",
       "\n",
       "[1115 rows x 2 columns]"
      ]
     },
     "execution_count": 6,
     "metadata": {},
     "output_type": "execute_result"
    }
   ],
   "source": [
    "# Calculate total customers per store\n",
    "sql.read_sql(\"\"\"\n",
    "    SELECT Store, SUM(Customers)\n",
    "    FROM rossmann_sales\n",
    "    GROUP BY Store\"\"\", con=conn)"
   ]
  },
  {
   "cell_type": "markdown",
   "metadata": {},
   "source": [
    "> #### CHECK: Load the Rossmann Store metadata in `rossmann-stores.csv` and create a table into the database from it called `rossmann_stores`"
   ]
  },
  {
   "cell_type": "code",
   "execution_count": 7,
   "metadata": {
    "collapsed": false
   },
   "outputs": [
    {
     "data": {
      "text/html": [
       "<div>\n",
       "<table border=\"1\" class=\"dataframe\">\n",
       "  <thead>\n",
       "    <tr style=\"text-align: right;\">\n",
       "      <th></th>\n",
       "      <th>Store</th>\n",
       "      <th>StoreType</th>\n",
       "      <th>Assortment</th>\n",
       "      <th>CompetitionDistance</th>\n",
       "      <th>CompetitionOpenSinceMonth</th>\n",
       "      <th>CompetitionOpenSinceYear</th>\n",
       "      <th>Promo2</th>\n",
       "      <th>Promo2SinceWeek</th>\n",
       "      <th>Promo2SinceYear</th>\n",
       "      <th>PromoInterval</th>\n",
       "    </tr>\n",
       "  </thead>\n",
       "  <tbody>\n",
       "    <tr>\n",
       "      <th>0</th>\n",
       "      <td>1</td>\n",
       "      <td>c</td>\n",
       "      <td>a</td>\n",
       "      <td>1270.0</td>\n",
       "      <td>9.0</td>\n",
       "      <td>2008.0</td>\n",
       "      <td>0</td>\n",
       "      <td>NaN</td>\n",
       "      <td>NaN</td>\n",
       "      <td>None</td>\n",
       "    </tr>\n",
       "    <tr>\n",
       "      <th>1</th>\n",
       "      <td>2</td>\n",
       "      <td>a</td>\n",
       "      <td>a</td>\n",
       "      <td>570.0</td>\n",
       "      <td>11.0</td>\n",
       "      <td>2007.0</td>\n",
       "      <td>1</td>\n",
       "      <td>13.0</td>\n",
       "      <td>2010.0</td>\n",
       "      <td>Jan,Apr,Jul,Oct</td>\n",
       "    </tr>\n",
       "    <tr>\n",
       "      <th>2</th>\n",
       "      <td>3</td>\n",
       "      <td>a</td>\n",
       "      <td>a</td>\n",
       "      <td>14130.0</td>\n",
       "      <td>12.0</td>\n",
       "      <td>2006.0</td>\n",
       "      <td>1</td>\n",
       "      <td>14.0</td>\n",
       "      <td>2011.0</td>\n",
       "      <td>Jan,Apr,Jul,Oct</td>\n",
       "    </tr>\n",
       "  </tbody>\n",
       "</table>\n",
       "</div>"
      ],
      "text/plain": [
       "   Store StoreType Assortment  CompetitionDistance  CompetitionOpenSinceMonth  \\\n",
       "0      1         c          a               1270.0                        9.0   \n",
       "1      2         a          a                570.0                       11.0   \n",
       "2      3         a          a              14130.0                       12.0   \n",
       "\n",
       "   CompetitionOpenSinceYear  Promo2  Promo2SinceWeek  Promo2SinceYear  \\\n",
       "0                    2008.0       0              NaN              NaN   \n",
       "1                    2007.0       1             13.0           2010.0   \n",
       "2                    2006.0       1             14.0           2011.0   \n",
       "\n",
       "     PromoInterval  \n",
       "0             None  \n",
       "1  Jan,Apr,Jul,Oct  \n",
       "2  Jan,Apr,Jul,Oct  "
      ]
     },
     "execution_count": 7,
     "metadata": {},
     "output_type": "execute_result"
    }
   ],
   "source": [
    "rossmann_stores = pd.read_csv(DATA_DIR / 'rossmann-stores.csv')\n",
    "rossmann_stores.to_sql('rossmann_stores', if_exists='replace', index=False, con=conn)\n",
    "sql.read_sql(\"SELECT * FROM rossmann_stores LIMIT 3\", con=conn)"
   ]
  },
  {
   "cell_type": "markdown",
   "metadata": {},
   "source": [
    "## Recap: SQL Syntax"
   ]
  },
  {
   "cell_type": "markdown",
   "metadata": {},
   "source": [
    "### SELECT\n",
    "Every query should start with SELECT. SELECT is followed by the names of the columns in the output.\n",
    "\n",
    "SELECT is always paired with FROM, and FROM identifies the table to retrieve data from.\n",
    "\n",
    "    SELECT <columns>\n",
    "    FROM <table>\n",
    "\n",
    "SELECT * denotes returns all of the columns."
   ]
  },
  {
   "cell_type": "code",
   "execution_count": 8,
   "metadata": {
    "collapsed": false
   },
   "outputs": [
    {
     "data": {
      "text/html": [
       "<div>\n",
       "<table border=\"1\" class=\"dataframe\">\n",
       "  <thead>\n",
       "    <tr style=\"text-align: right;\">\n",
       "      <th></th>\n",
       "      <th>Store</th>\n",
       "      <th>Sales</th>\n",
       "    </tr>\n",
       "  </thead>\n",
       "  <tbody>\n",
       "    <tr>\n",
       "      <th>0</th>\n",
       "      <td>1</td>\n",
       "      <td>5263</td>\n",
       "    </tr>\n",
       "    <tr>\n",
       "      <th>1</th>\n",
       "      <td>2</td>\n",
       "      <td>6064</td>\n",
       "    </tr>\n",
       "    <tr>\n",
       "      <th>2</th>\n",
       "      <td>3</td>\n",
       "      <td>8314</td>\n",
       "    </tr>\n",
       "    <tr>\n",
       "      <th>3</th>\n",
       "      <td>4</td>\n",
       "      <td>13995</td>\n",
       "    </tr>\n",
       "    <tr>\n",
       "      <th>4</th>\n",
       "      <td>5</td>\n",
       "      <td>4822</td>\n",
       "    </tr>\n",
       "  </tbody>\n",
       "</table>\n",
       "</div>"
      ],
      "text/plain": [
       "   Store  Sales\n",
       "0      1   5263\n",
       "1      2   6064\n",
       "2      3   8314\n",
       "3      4  13995\n",
       "4      5   4822"
      ]
     },
     "execution_count": 8,
     "metadata": {},
     "output_type": "execute_result"
    }
   ],
   "source": [
    "# Rossmann Stores example\n",
    "sql.read_sql(\"\"\"\n",
    "SELECT Store, Sales\n",
    "FROM rossmann_sales;\n",
    "\"\"\", con=conn).head()"
   ]
  },
  {
   "cell_type": "markdown",
   "metadata": {},
   "source": [
    "> #### CHECK: Write a query that returns the `Store`, `Date` and `Customers`."
   ]
  },
  {
   "cell_type": "code",
   "execution_count": 9,
   "metadata": {
    "collapsed": false
   },
   "outputs": [
    {
     "data": {
      "text/html": [
       "<div>\n",
       "<table border=\"1\" class=\"dataframe\">\n",
       "  <thead>\n",
       "    <tr style=\"text-align: right;\">\n",
       "      <th></th>\n",
       "      <th>Store</th>\n",
       "      <th>Date</th>\n",
       "      <th>Customers</th>\n",
       "    </tr>\n",
       "  </thead>\n",
       "  <tbody>\n",
       "    <tr>\n",
       "      <th>0</th>\n",
       "      <td>1</td>\n",
       "      <td>2015-07-31</td>\n",
       "      <td>555</td>\n",
       "    </tr>\n",
       "    <tr>\n",
       "      <th>1</th>\n",
       "      <td>2</td>\n",
       "      <td>2015-07-31</td>\n",
       "      <td>625</td>\n",
       "    </tr>\n",
       "    <tr>\n",
       "      <th>2</th>\n",
       "      <td>3</td>\n",
       "      <td>2015-07-31</td>\n",
       "      <td>821</td>\n",
       "    </tr>\n",
       "    <tr>\n",
       "      <th>3</th>\n",
       "      <td>4</td>\n",
       "      <td>2015-07-31</td>\n",
       "      <td>1498</td>\n",
       "    </tr>\n",
       "    <tr>\n",
       "      <th>4</th>\n",
       "      <td>5</td>\n",
       "      <td>2015-07-31</td>\n",
       "      <td>559</td>\n",
       "    </tr>\n",
       "  </tbody>\n",
       "</table>\n",
       "</div>"
      ],
      "text/plain": [
       "   Store        Date  Customers\n",
       "0      1  2015-07-31        555\n",
       "1      2  2015-07-31        625\n",
       "2      3  2015-07-31        821\n",
       "3      4  2015-07-31       1498\n",
       "4      5  2015-07-31        559"
      ]
     },
     "execution_count": 9,
     "metadata": {},
     "output_type": "execute_result"
    }
   ],
   "source": [
    "sql.read_sql(\n",
    "\"\"\"\n",
    "SELECT Store, Date, Customers \n",
    "FROM rossmann_sales;\n",
    "\"\"\", con=conn).head()"
   ]
  },
  {
   "cell_type": "markdown",
   "metadata": {},
   "source": [
    "### WHERE\n",
    "WHERE is used to filter table to a specific criteria and follows the FROM clause.\n",
    "\n",
    "    SELECT <columns>\n",
    "    FROM <table>\n",
    "    WHERE <condition>\n",
    "\n",
    "The condition is some filter applied to the rows, where rows that match the condition will be in the output."
   ]
  },
  {
   "cell_type": "code",
   "execution_count": 10,
   "metadata": {
    "collapsed": false
   },
   "outputs": [
    {
     "data": {
      "text/html": [
       "<div>\n",
       "<table border=\"1\" class=\"dataframe\">\n",
       "  <thead>\n",
       "    <tr style=\"text-align: right;\">\n",
       "      <th></th>\n",
       "      <th>Store</th>\n",
       "      <th>Sales</th>\n",
       "    </tr>\n",
       "  </thead>\n",
       "  <tbody>\n",
       "    <tr>\n",
       "      <th>0</th>\n",
       "      <td>1</td>\n",
       "      <td>5263</td>\n",
       "    </tr>\n",
       "    <tr>\n",
       "      <th>1</th>\n",
       "      <td>1</td>\n",
       "      <td>5020</td>\n",
       "    </tr>\n",
       "    <tr>\n",
       "      <th>2</th>\n",
       "      <td>1</td>\n",
       "      <td>4782</td>\n",
       "    </tr>\n",
       "    <tr>\n",
       "      <th>3</th>\n",
       "      <td>1</td>\n",
       "      <td>5011</td>\n",
       "    </tr>\n",
       "    <tr>\n",
       "      <th>4</th>\n",
       "      <td>1</td>\n",
       "      <td>6102</td>\n",
       "    </tr>\n",
       "  </tbody>\n",
       "</table>\n",
       "</div>"
      ],
      "text/plain": [
       "   Store  Sales\n",
       "0      1   5263\n",
       "1      1   5020\n",
       "2      1   4782\n",
       "3      1   5011\n",
       "4      1   6102"
      ]
     },
     "execution_count": 10,
     "metadata": {},
     "output_type": "execute_result"
    }
   ],
   "source": [
    "# Rossmann Stores example\n",
    "sql.read_sql(\"\"\"\n",
    "SELECT Store, Sales\n",
    "FROM rossmann_sales\n",
    "WHERE Store = 1;\n",
    "\"\"\", con=conn).head()"
   ]
  },
  {
   "cell_type": "code",
   "execution_count": 11,
   "metadata": {
    "collapsed": false
   },
   "outputs": [
    {
     "data": {
      "text/html": [
       "<div>\n",
       "<table border=\"1\" class=\"dataframe\">\n",
       "  <thead>\n",
       "    <tr style=\"text-align: right;\">\n",
       "      <th></th>\n",
       "      <th>Store</th>\n",
       "      <th>Sales</th>\n",
       "    </tr>\n",
       "  </thead>\n",
       "  <tbody>\n",
       "    <tr>\n",
       "      <th>0</th>\n",
       "      <td>1</td>\n",
       "      <td>5263</td>\n",
       "    </tr>\n",
       "    <tr>\n",
       "      <th>1</th>\n",
       "      <td>1</td>\n",
       "      <td>5020</td>\n",
       "    </tr>\n",
       "    <tr>\n",
       "      <th>2</th>\n",
       "      <td>1</td>\n",
       "      <td>4782</td>\n",
       "    </tr>\n",
       "    <tr>\n",
       "      <th>3</th>\n",
       "      <td>1</td>\n",
       "      <td>5011</td>\n",
       "    </tr>\n",
       "    <tr>\n",
       "      <th>4</th>\n",
       "      <td>1</td>\n",
       "      <td>6102</td>\n",
       "    </tr>\n",
       "  </tbody>\n",
       "</table>\n",
       "</div>"
      ],
      "text/plain": [
       "   Store  Sales\n",
       "0      1   5263\n",
       "1      1   5020\n",
       "2      1   4782\n",
       "3      1   5011\n",
       "4      1   6102"
      ]
     },
     "execution_count": 11,
     "metadata": {},
     "output_type": "execute_result"
    }
   ],
   "source": [
    "# Store & Sales for Store 1 when open\n",
    "sql.read_sql(\"\"\"\n",
    "SELECT Store, Sales\n",
    "FROM rossmann_sales\n",
    "WHERE Store = 1\n",
    "  AND Open = 1;\n",
    "\"\"\", con=conn).head()"
   ]
  },
  {
   "cell_type": "markdown",
   "metadata": {},
   "source": [
    "> #### CHECK: Write a query that returns the `Store`, `Date` and `Customers` for when the stores were open and running a promotion."
   ]
  },
  {
   "cell_type": "code",
   "execution_count": 12,
   "metadata": {
    "collapsed": false
   },
   "outputs": [
    {
     "data": {
      "text/html": [
       "<div>\n",
       "<table border=\"1\" class=\"dataframe\">\n",
       "  <thead>\n",
       "    <tr style=\"text-align: right;\">\n",
       "      <th></th>\n",
       "      <th>Store</th>\n",
       "      <th>Date</th>\n",
       "      <th>Customers</th>\n",
       "    </tr>\n",
       "  </thead>\n",
       "  <tbody>\n",
       "    <tr>\n",
       "      <th>0</th>\n",
       "      <td>1</td>\n",
       "      <td>2015-07-31</td>\n",
       "      <td>555</td>\n",
       "    </tr>\n",
       "    <tr>\n",
       "      <th>1</th>\n",
       "      <td>2</td>\n",
       "      <td>2015-07-31</td>\n",
       "      <td>625</td>\n",
       "    </tr>\n",
       "    <tr>\n",
       "      <th>2</th>\n",
       "      <td>3</td>\n",
       "      <td>2015-07-31</td>\n",
       "      <td>821</td>\n",
       "    </tr>\n",
       "    <tr>\n",
       "      <th>3</th>\n",
       "      <td>4</td>\n",
       "      <td>2015-07-31</td>\n",
       "      <td>1498</td>\n",
       "    </tr>\n",
       "    <tr>\n",
       "      <th>4</th>\n",
       "      <td>5</td>\n",
       "      <td>2015-07-31</td>\n",
       "      <td>559</td>\n",
       "    </tr>\n",
       "  </tbody>\n",
       "</table>\n",
       "</div>"
      ],
      "text/plain": [
       "   Store        Date  Customers\n",
       "0      1  2015-07-31        555\n",
       "1      2  2015-07-31        625\n",
       "2      3  2015-07-31        821\n",
       "3      4  2015-07-31       1498\n",
       "4      5  2015-07-31        559"
      ]
     },
     "execution_count": 12,
     "metadata": {},
     "output_type": "execute_result"
    }
   ],
   "source": [
    "# Store & Sales for Store 1 when open\n",
    "sql.read_sql(\"\"\"\n",
    "SELECT Store, Date, Customers\n",
    "FROM rossmann_sales\n",
    "WHERE Open = 1\n",
    "  AND Promo = 1;\n",
    "\"\"\", con=conn).head()"
   ]
  },
  {
   "cell_type": "markdown",
   "metadata": {},
   "source": [
    "### GROUP BY\n",
    "`GROUP BY` allows us to aggregate over any field in the table. We identify some key with which want to segment the rows. Then, we roll-up or compute some statistic over all of the rows that match that key.\n",
    "\n",
    "`GROUP BY` must be paired with an aggregate function - the statistic we want to compute in the rows - in the `SELECT` statement.\n",
    "\n",
    "`COUNT(*)` denotes counting up all of the rows. Other aggregate functions commonly available are `AVG` (average), `MAX`, `MIN`, and `SUM`.\n",
    "\n",
    "If we want an aggregate over the entire table - without results specific to any key, we can use an aggregate function in the `SELECT` statement and ignore the `GROUP BY` clause."
   ]
  },
  {
   "cell_type": "code",
   "execution_count": 13,
   "metadata": {
    "collapsed": false
   },
   "outputs": [
    {
     "data": {
      "text/html": [
       "<div>\n",
       "<table border=\"1\" class=\"dataframe\">\n",
       "  <thead>\n",
       "    <tr style=\"text-align: right;\">\n",
       "      <th></th>\n",
       "      <th>Store</th>\n",
       "      <th>SUM(Sales)</th>\n",
       "      <th>AVG(Customers)</th>\n",
       "    </tr>\n",
       "  </thead>\n",
       "  <tbody>\n",
       "    <tr>\n",
       "      <th>0</th>\n",
       "      <td>1</td>\n",
       "      <td>3716854</td>\n",
       "      <td>564.049936</td>\n",
       "    </tr>\n",
       "    <tr>\n",
       "      <th>1</th>\n",
       "      <td>2</td>\n",
       "      <td>3883858</td>\n",
       "      <td>583.998724</td>\n",
       "    </tr>\n",
       "    <tr>\n",
       "      <th>2</th>\n",
       "      <td>3</td>\n",
       "      <td>5408261</td>\n",
       "      <td>750.077022</td>\n",
       "    </tr>\n",
       "    <tr>\n",
       "      <th>3</th>\n",
       "      <td>4</td>\n",
       "      <td>7556507</td>\n",
       "      <td>1321.752551</td>\n",
       "    </tr>\n",
       "    <tr>\n",
       "      <th>4</th>\n",
       "      <td>5</td>\n",
       "      <td>3642818</td>\n",
       "      <td>537.340180</td>\n",
       "    </tr>\n",
       "  </tbody>\n",
       "</table>\n",
       "</div>"
      ],
      "text/plain": [
       "   Store  SUM(Sales)  AVG(Customers)\n",
       "0      1     3716854      564.049936\n",
       "1      2     3883858      583.998724\n",
       "2      3     5408261      750.077022\n",
       "3      4     7556507     1321.752551\n",
       "4      5     3642818      537.340180"
      ]
     },
     "execution_count": 13,
     "metadata": {},
     "output_type": "execute_result"
    }
   ],
   "source": [
    "# Rossmann Stores example\n",
    "sql.read_sql(\"\"\"\n",
    "SELECT Store, SUM(Sales), AVG(Customers)\n",
    "FROM rossmann_sales\n",
    "WHERE Open = 1\n",
    "GROUP BY Store;\n",
    "\"\"\", con=conn).head()"
   ]
  },
  {
   "cell_type": "markdown",
   "metadata": {},
   "source": [
    "> #### CHECK: Write a query that returns the total sales on promotion days and non-promotion days."
   ]
  },
  {
   "cell_type": "code",
   "execution_count": 14,
   "metadata": {
    "collapsed": false
   },
   "outputs": [
    {
     "data": {
      "text/html": [
       "<div>\n",
       "<table border=\"1\" class=\"dataframe\">\n",
       "  <thead>\n",
       "    <tr style=\"text-align: right;\">\n",
       "      <th></th>\n",
       "      <th>Promo</th>\n",
       "      <th>Store</th>\n",
       "      <th>SUM(Sales)</th>\n",
       "    </tr>\n",
       "  </thead>\n",
       "  <tbody>\n",
       "    <tr>\n",
       "      <th>0</th>\n",
       "      <td>0</td>\n",
       "      <td>1115</td>\n",
       "      <td>2771974337</td>\n",
       "    </tr>\n",
       "    <tr>\n",
       "      <th>1</th>\n",
       "      <td>1</td>\n",
       "      <td>1115</td>\n",
       "      <td>3101206286</td>\n",
       "    </tr>\n",
       "  </tbody>\n",
       "</table>\n",
       "</div>"
      ],
      "text/plain": [
       "   Promo  Store  SUM(Sales)\n",
       "0      0   1115  2771974337\n",
       "1      1   1115  3101206286"
      ]
     },
     "execution_count": 14,
     "metadata": {},
     "output_type": "execute_result"
    }
   ],
   "source": [
    "sql.read_sql(\"\"\"\n",
    "SELECT\n",
    "    Promo,\n",
    "    Store,\n",
    "    SUM(Sales)\n",
    "FROM rossmann_sales\n",
    "GROUP BY Promo;\n",
    "\"\"\", con=conn).head()"
   ]
  },
  {
   "cell_type": "markdown",
   "metadata": {},
   "source": [
    "### ORDER BY\n",
    "Results of a query can be sorted by ORDER BY.\n",
    "\n",
    "If we want to order the states by the number of polls, we would add an ORDER BY clause at the end.\n",
    "\n",
    "The line\n",
    "\n",
    "    SUM(Sales) as total_sales\n",
    "\n",
    "renames the `SUM(Sales)` column as `total_sales` so we can refer to it later in the `ORDER BY` clause.\n",
    "\n",
    "`DESC` tells the result to be in descending order as opposed to increasing."
   ]
  },
  {
   "cell_type": "code",
   "execution_count": 15,
   "metadata": {
    "collapsed": false
   },
   "outputs": [
    {
     "data": {
      "text/html": [
       "<div>\n",
       "<table border=\"1\" class=\"dataframe\">\n",
       "  <thead>\n",
       "    <tr style=\"text-align: right;\">\n",
       "      <th></th>\n",
       "      <th>Store</th>\n",
       "      <th>total_sales</th>\n",
       "      <th>AVG(Customers)</th>\n",
       "    </tr>\n",
       "  </thead>\n",
       "  <tbody>\n",
       "    <tr>\n",
       "      <th>0</th>\n",
       "      <td>262</td>\n",
       "      <td>19516842</td>\n",
       "      <td>3402.010616</td>\n",
       "    </tr>\n",
       "    <tr>\n",
       "      <th>1</th>\n",
       "      <td>817</td>\n",
       "      <td>17057867</td>\n",
       "      <td>3130.573980</td>\n",
       "    </tr>\n",
       "    <tr>\n",
       "      <th>2</th>\n",
       "      <td>562</td>\n",
       "      <td>16927322</td>\n",
       "      <td>3105.053079</td>\n",
       "    </tr>\n",
       "    <tr>\n",
       "      <th>3</th>\n",
       "      <td>1114</td>\n",
       "      <td>16202585</td>\n",
       "      <td>3200.946429</td>\n",
       "    </tr>\n",
       "    <tr>\n",
       "      <th>4</th>\n",
       "      <td>251</td>\n",
       "      <td>14896870</td>\n",
       "      <td>2450.492940</td>\n",
       "    </tr>\n",
       "  </tbody>\n",
       "</table>\n",
       "</div>"
      ],
      "text/plain": [
       "   Store  total_sales  AVG(Customers)\n",
       "0    262     19516842     3402.010616\n",
       "1    817     17057867     3130.573980\n",
       "2    562     16927322     3105.053079\n",
       "3   1114     16202585     3200.946429\n",
       "4    251     14896870     2450.492940"
      ]
     },
     "execution_count": 15,
     "metadata": {},
     "output_type": "execute_result"
    }
   ],
   "source": [
    "# Rossmann Stores example\n",
    "sql.read_sql(\"\"\"\n",
    "SELECT\n",
    "  Store,\n",
    "  SUM(Sales) as total_sales,\n",
    "  AVG(Customers)\n",
    "FROM rossmann_sales\n",
    "WHERE Open = 1\n",
    "GROUP BY Store\n",
    "ORDER BY total_sales DESC;\n",
    "\"\"\", con=conn).head()"
   ]
  },
  {
   "cell_type": "markdown",
   "metadata": {},
   "source": [
    "> #### CHECK: Combine `ORDER BY` with `LIMIT 1` to find the store and date which has the most sales."
   ]
  },
  {
   "cell_type": "code",
   "execution_count": 16,
   "metadata": {
    "collapsed": false
   },
   "outputs": [
    {
     "data": {
      "text/html": [
       "<div>\n",
       "<table border=\"1\" class=\"dataframe\">\n",
       "  <thead>\n",
       "    <tr style=\"text-align: right;\">\n",
       "      <th></th>\n",
       "      <th>Store</th>\n",
       "      <th>Date</th>\n",
       "      <th>Sales</th>\n",
       "    </tr>\n",
       "  </thead>\n",
       "  <tbody>\n",
       "    <tr>\n",
       "      <th>0</th>\n",
       "      <td>909</td>\n",
       "      <td>2015-06-22</td>\n",
       "      <td>41551</td>\n",
       "    </tr>\n",
       "  </tbody>\n",
       "</table>\n",
       "</div>"
      ],
      "text/plain": [
       "   Store        Date  Sales\n",
       "0    909  2015-06-22  41551"
      ]
     },
     "execution_count": 16,
     "metadata": {},
     "output_type": "execute_result"
    }
   ],
   "source": [
    "sql.read_sql(\"\"\"\n",
    "SELECT\n",
    "    Store,\n",
    "    Date,\n",
    "    Sales\n",
    "FROM rossmann_sales\n",
    "ORDER BY Sales DESC\n",
    "LIMIT 1;\n",
    "\"\"\", con=conn).head()"
   ]
  },
  {
   "cell_type": "markdown",
   "metadata": {},
   "source": [
    "> #### CHECK: Conversely, find the store and date with the fewest non-zero sales."
   ]
  },
  {
   "cell_type": "code",
   "execution_count": 17,
   "metadata": {
    "collapsed": false
   },
   "outputs": [
    {
     "data": {
      "text/html": [
       "<div>\n",
       "<table border=\"1\" class=\"dataframe\">\n",
       "  <thead>\n",
       "    <tr style=\"text-align: right;\">\n",
       "      <th></th>\n",
       "      <th>Store</th>\n",
       "      <th>Date</th>\n",
       "      <th>Sales</th>\n",
       "    </tr>\n",
       "  </thead>\n",
       "  <tbody>\n",
       "    <tr>\n",
       "      <th>0</th>\n",
       "      <td>652</td>\n",
       "      <td>2014-11-22</td>\n",
       "      <td>46</td>\n",
       "    </tr>\n",
       "  </tbody>\n",
       "</table>\n",
       "</div>"
      ],
      "text/plain": [
       "   Store        Date  Sales\n",
       "0    652  2014-11-22     46"
      ]
     },
     "execution_count": 17,
     "metadata": {},
     "output_type": "execute_result"
    }
   ],
   "source": [
    "sql.read_sql(\"\"\"\n",
    "SELECT\n",
    "    Store,\n",
    "    Date,\n",
    "    Sales\n",
    "FROM rossmann_sales\n",
    "WHERE Sales > 0\n",
    "ORDER BY Sales ASC\n",
    "LIMIT 1;\n",
    "\"\"\", con=conn).head()"
   ]
  },
  {
   "cell_type": "markdown",
   "metadata": {},
   "source": [
    "### JOIN\n",
    "`JOIN` allows us to access data across many tables. We will need to specify how a row in one table links to a row in another.\n",
    "\n",
    "Here `ON` denotes an Inner Join.\n",
    "\n",
    "#### Inner Join\n",
    "By default, most joins are an Inner Join, which means only when there is a match in both tables, does a row appear in the result.\n",
    "\n",
    "#### Outer Join\n",
    "If we want to keep the rows of one table even if there is no matching counterpart we can perform an Outer Join. Outer joins can be LEFT, RIGHT, or FULL meaning keep all the left rows, all the right rows or all the rows, respectively."
   ]
  },
  {
   "cell_type": "code",
   "execution_count": 18,
   "metadata": {
    "collapsed": false
   },
   "outputs": [
    {
     "data": {
      "text/html": [
       "<div>\n",
       "<table border=\"1\" class=\"dataframe\">\n",
       "  <thead>\n",
       "    <tr style=\"text-align: right;\">\n",
       "      <th></th>\n",
       "      <th>Store</th>\n",
       "      <th>Sales</th>\n",
       "      <th>CompetitionDistance</th>\n",
       "    </tr>\n",
       "  </thead>\n",
       "  <tbody>\n",
       "    <tr>\n",
       "      <th>0</th>\n",
       "      <td>1</td>\n",
       "      <td>5263</td>\n",
       "      <td>1270.0</td>\n",
       "    </tr>\n",
       "    <tr>\n",
       "      <th>1</th>\n",
       "      <td>2</td>\n",
       "      <td>6064</td>\n",
       "      <td>570.0</td>\n",
       "    </tr>\n",
       "    <tr>\n",
       "      <th>2</th>\n",
       "      <td>3</td>\n",
       "      <td>8314</td>\n",
       "      <td>14130.0</td>\n",
       "    </tr>\n",
       "    <tr>\n",
       "      <th>3</th>\n",
       "      <td>4</td>\n",
       "      <td>13995</td>\n",
       "      <td>620.0</td>\n",
       "    </tr>\n",
       "    <tr>\n",
       "      <th>4</th>\n",
       "      <td>5</td>\n",
       "      <td>4822</td>\n",
       "      <td>29910.0</td>\n",
       "    </tr>\n",
       "  </tbody>\n",
       "</table>\n",
       "</div>"
      ],
      "text/plain": [
       "   Store  Sales  CompetitionDistance\n",
       "0      1   5263               1270.0\n",
       "1      2   6064                570.0\n",
       "2      3   8314              14130.0\n",
       "3      4  13995                620.0\n",
       "4      5   4822              29910.0"
      ]
     },
     "execution_count": 18,
     "metadata": {},
     "output_type": "execute_result"
    }
   ],
   "source": [
    "# Rossmann Stores example\n",
    "sql.read_sql(\"\"\"\n",
    "SELECT\n",
    "    sales.Store,\n",
    "    sales.Sales,\n",
    "    stores.CompetitionDistance\n",
    "FROM rossmann_sales AS sales\n",
    "INNER JOIN rossmann_stores AS stores ON sales.Store = stores.Store\n",
    "\"\"\", con=conn).head()"
   ]
  },
  {
   "cell_type": "markdown",
   "metadata": {},
   "source": [
    "> #### CHECK: Combine `GROUP BY` and `JOIN` to find the average sales by `StoreType`\n",
    "> - Bonus: use `AS` to clean up the column names in the result"
   ]
  },
  {
   "cell_type": "code",
   "execution_count": 19,
   "metadata": {
    "collapsed": false
   },
   "outputs": [
    {
     "data": {
      "text/html": [
       "<div>\n",
       "<table border=\"1\" class=\"dataframe\">\n",
       "  <thead>\n",
       "    <tr style=\"text-align: right;\">\n",
       "      <th></th>\n",
       "      <th>StoreType</th>\n",
       "      <th>mean_sales</th>\n",
       "    </tr>\n",
       "  </thead>\n",
       "  <tbody>\n",
       "    <tr>\n",
       "      <th>0</th>\n",
       "      <td>a</td>\n",
       "      <td>5738.179710</td>\n",
       "    </tr>\n",
       "    <tr>\n",
       "      <th>1</th>\n",
       "      <td>b</td>\n",
       "      <td>10058.837334</td>\n",
       "    </tr>\n",
       "    <tr>\n",
       "      <th>2</th>\n",
       "      <td>c</td>\n",
       "      <td>5723.629246</td>\n",
       "    </tr>\n",
       "    <tr>\n",
       "      <th>3</th>\n",
       "      <td>d</td>\n",
       "      <td>5641.819243</td>\n",
       "    </tr>\n",
       "  </tbody>\n",
       "</table>\n",
       "</div>"
      ],
      "text/plain": [
       "  StoreType    mean_sales\n",
       "0         a   5738.179710\n",
       "1         b  10058.837334\n",
       "2         c   5723.629246\n",
       "3         d   5641.819243"
      ]
     },
     "execution_count": 19,
     "metadata": {},
     "output_type": "execute_result"
    }
   ],
   "source": [
    "sql.read_sql(\"\"\"\n",
    "SELECT\n",
    "    stores.StoreType,\n",
    "    AVG(sales.Sales) AS mean_sales\n",
    "FROM rossmann_sales AS sales\n",
    "LEFT JOIN rossmann_stores AS stores ON sales.Store = stores.Store\n",
    "GROUP BY StoreType\n",
    "\"\"\", con=conn)"
   ]
  },
  {
   "cell_type": "markdown",
   "metadata": {},
   "source": [
    "> #### CHECK: How does this last query change if you exclude days when stores are not `Open`?"
   ]
  },
  {
   "cell_type": "code",
   "execution_count": 20,
   "metadata": {
    "collapsed": false
   },
   "outputs": [
    {
     "data": {
      "text/html": [
       "<div>\n",
       "<table border=\"1\" class=\"dataframe\">\n",
       "  <thead>\n",
       "    <tr style=\"text-align: right;\">\n",
       "      <th></th>\n",
       "      <th>StoreType</th>\n",
       "      <th>mean_sales</th>\n",
       "    </tr>\n",
       "  </thead>\n",
       "  <tbody>\n",
       "    <tr>\n",
       "      <th>0</th>\n",
       "      <td>a</td>\n",
       "      <td>6925.167661</td>\n",
       "    </tr>\n",
       "    <tr>\n",
       "      <th>1</th>\n",
       "      <td>b</td>\n",
       "      <td>10231.407505</td>\n",
       "    </tr>\n",
       "    <tr>\n",
       "      <th>2</th>\n",
       "      <td>c</td>\n",
       "      <td>6932.512755</td>\n",
       "    </tr>\n",
       "    <tr>\n",
       "      <th>3</th>\n",
       "      <td>d</td>\n",
       "      <td>6822.141881</td>\n",
       "    </tr>\n",
       "  </tbody>\n",
       "</table>\n",
       "</div>"
      ],
      "text/plain": [
       "  StoreType    mean_sales\n",
       "0         a   6925.167661\n",
       "1         b  10231.407505\n",
       "2         c   6932.512755\n",
       "3         d   6822.141881"
      ]
     },
     "execution_count": 20,
     "metadata": {},
     "output_type": "execute_result"
    }
   ],
   "source": [
    "sql.read_sql(\"\"\"\n",
    "SELECT\n",
    "    stores.StoreType,\n",
    "    AVG(sales.Sales) AS mean_sales\n",
    "FROM rossmann_sales AS sales\n",
    "LEFT JOIN rossmann_stores AS stores ON sales.Store = stores.Store\n",
    "WHERE sales.Open = 1\n",
    "GROUP BY StoreType\n",
    "\"\"\", con=conn)"
   ]
  },
  {
   "cell_type": "markdown",
   "metadata": {},
   "source": [
    "### HAVING\n",
    "`HAVING` allows you to apply a filter _after_ you've applied an aggregation with `GROUP BY`."
   ]
  },
  {
   "cell_type": "code",
   "execution_count": 21,
   "metadata": {
    "collapsed": false
   },
   "outputs": [
    {
     "data": {
      "text/plain": [
       "<matplotlib.axes._subplots.AxesSubplot at 0x12a21f490>"
      ]
     },
     "execution_count": 21,
     "metadata": {},
     "output_type": "execute_result"
    },
    {
     "data": {
      "image/png": "[encoded data removed]",
      "text/plain": [
       "<matplotlib.figure.Figure at 0x11534af90>"
      ]
     },
     "metadata": {},
     "output_type": "display_data"
    }
   ],
   "source": [
    "# HAVING example: let's find the top store in the bottom sales bracket\n",
    "\n",
    "# First, let's look at how the total days a store is open relates to total sales from that store\n",
    "sql.read_sql(\"\"\"\n",
    "SELECT\n",
    "    Store,\n",
    "    SUM(Open) AS total_days_open,\n",
    "    SUM(Sales) AS total_sales\n",
    "FROM rossmann_sales\n",
    "GROUP BY Store\n",
    "\"\"\", con=conn).plot(x='total_days_open', y='total_sales', kind='scatter')"
   ]
  },
  {
   "cell_type": "code",
   "execution_count": 22,
   "metadata": {
    "collapsed": false
   },
   "outputs": [
    {
     "data": {
      "text/html": [
       "<div>\n",
       "<table border=\"1\" class=\"dataframe\">\n",
       "  <thead>\n",
       "    <tr style=\"text-align: right;\">\n",
       "      <th></th>\n",
       "      <th>Store</th>\n",
       "      <th>total_days_open</th>\n",
       "      <th>total_sales</th>\n",
       "    </tr>\n",
       "  </thead>\n",
       "  <tbody>\n",
       "    <tr>\n",
       "      <th>0</th>\n",
       "      <td>842</td>\n",
       "      <td>622</td>\n",
       "      <td>11553523</td>\n",
       "    </tr>\n",
       "    <tr>\n",
       "      <th>1</th>\n",
       "      <td>1027</td>\n",
       "      <td>623</td>\n",
       "      <td>8163847</td>\n",
       "    </tr>\n",
       "  </tbody>\n",
       "</table>\n",
       "</div>"
      ],
      "text/plain": [
       "   Store  total_days_open  total_sales\n",
       "0    842              622     11553523\n",
       "1   1027              623      8163847"
      ]
     },
     "execution_count": 22,
     "metadata": {},
     "output_type": "execute_result"
    }
   ],
   "source": [
    "# There are three distinct brackets of stores, possibly the bottom bracket have been opened most recently.\n",
    "# Let's find the store with the most sales in that bracket (i.e. that has < 650 days open)\n",
    "sql.read_sql(\"\"\"\n",
    "SELECT\n",
    "    Store,\n",
    "    SUM(Open) AS total_days_open,\n",
    "    SUM(Sales) AS total_sales\n",
    "FROM rossmann_sales\n",
    "GROUP BY Store\n",
    "HAVING total_days_open < 650\n",
    "ORDER BY total_sales DESC\n",
    "LIMIT 2\n",
    "\"\"\", con=conn)"
   ]
  },
  {
   "cell_type": "markdown",
   "metadata": {},
   "source": [
    "> #### CHECK: There are two distinct store types in terms of the number of Promo days. From the stores in the upper band (for total Promo days), identify the store with the least sales."
   ]
  },
  {
   "cell_type": "code",
   "execution_count": 23,
   "metadata": {
    "collapsed": false
   },
   "outputs": [
    {
     "data": {
      "text/plain": [
       "<matplotlib.axes._subplots.AxesSubplot at 0x11c97fb50>"
      ]
     },
     "execution_count": 23,
     "metadata": {},
     "output_type": "execute_result"
    },
    {
     "data": {
      "image/png": "[encoded data removed]",
      "text/plain": [
       "<matplotlib.figure.Figure at 0x12d405fd0>"
      ]
     },
     "metadata": {},
     "output_type": "display_data"
    }
   ],
   "source": [
    "sql.read_sql(\"\"\"\n",
    "SELECT\n",
    "    Store,\n",
    "    SUM(Promo) AS total_promo_days,\n",
    "    SUM(Sales) AS total_sales\n",
    "FROM rossmann_sales\n",
    "GROUP BY Store\n",
    "\"\"\", con=conn).plot(x='total_promo_days', y='total_sales', kind='scatter')"
   ]
  },
  {
   "cell_type": "code",
   "execution_count": 24,
   "metadata": {
    "collapsed": false
   },
   "outputs": [
    {
     "data": {
      "text/html": [
       "<div>\n",
       "<table border=\"1\" class=\"dataframe\">\n",
       "  <thead>\n",
       "    <tr style=\"text-align: right;\">\n",
       "      <th></th>\n",
       "      <th>Store</th>\n",
       "      <th>total_promo_days</th>\n",
       "      <th>total_sales</th>\n",
       "    </tr>\n",
       "  </thead>\n",
       "  <tbody>\n",
       "    <tr>\n",
       "      <th>0</th>\n",
       "      <td>307</td>\n",
       "      <td>360</td>\n",
       "      <td>2114322</td>\n",
       "    </tr>\n",
       "  </tbody>\n",
       "</table>\n",
       "</div>"
      ],
      "text/plain": [
       "   Store  total_promo_days  total_sales\n",
       "0    307               360      2114322"
      ]
     },
     "execution_count": 24,
     "metadata": {},
     "output_type": "execute_result"
    }
   ],
   "source": [
    "sql.read_sql(\"\"\"\n",
    "SELECT\n",
    "    Store,\n",
    "    SUM(Promo) AS total_promo_days,\n",
    "    SUM(Sales) AS total_sales\n",
    "FROM rossmann_sales\n",
    "GROUP BY Store\n",
    "HAVING total_promo_days > 340\n",
    "ORDER BY total_sales ASC\n",
    "LIMIT 1\n",
    "\"\"\", con=conn)"
   ]
  },
  {
   "cell_type": "markdown",
   "metadata": {},
   "source": [
    "### CONCAT\n",
    "`CONCAT` allows you to join multiple columns into one new column. In:\n",
    "- SQLite and PostgreSQL, we use `column_1 || column_2`\n",
    "- MySQL, we use `CONCAT(column_1, column_2)`"
   ]
  },
  {
   "cell_type": "code",
   "execution_count": 25,
   "metadata": {
    "collapsed": false
   },
   "outputs": [
    {
     "data": {
      "text/html": [
       "<div>\n",
       "<table border=\"1\" class=\"dataframe\">\n",
       "  <thead>\n",
       "    <tr style=\"text-align: right;\">\n",
       "      <th></th>\n",
       "      <th>store_date</th>\n",
       "      <th>total_sales</th>\n",
       "    </tr>\n",
       "  </thead>\n",
       "  <tbody>\n",
       "    <tr>\n",
       "      <th>0</th>\n",
       "      <td>909_2015-06-22</td>\n",
       "      <td>41551</td>\n",
       "    </tr>\n",
       "    <tr>\n",
       "      <th>1</th>\n",
       "      <td>262_2015-04-03</td>\n",
       "      <td>38722</td>\n",
       "    </tr>\n",
       "    <tr>\n",
       "      <th>2</th>\n",
       "      <td>262_2015-05-01</td>\n",
       "      <td>38484</td>\n",
       "    </tr>\n",
       "    <tr>\n",
       "      <th>3</th>\n",
       "      <td>262_2015-05-14</td>\n",
       "      <td>38367</td>\n",
       "    </tr>\n",
       "    <tr>\n",
       "      <th>4</th>\n",
       "      <td>57_2014-06-16</td>\n",
       "      <td>38037</td>\n",
       "    </tr>\n",
       "  </tbody>\n",
       "</table>\n",
       "</div>"
      ],
      "text/plain": [
       "       store_date  total_sales\n",
       "0  909_2015-06-22        41551\n",
       "1  262_2015-04-03        38722\n",
       "2  262_2015-05-01        38484\n",
       "3  262_2015-05-14        38367\n",
       "4   57_2014-06-16        38037"
      ]
     },
     "execution_count": 25,
     "metadata": {},
     "output_type": "execute_result"
    }
   ],
   "source": [
    "# CONCAT example: this could be useful if you need to construct a unique identifier to join between two tables\n",
    "# that both have stores and dates.\n",
    "sql.read_sql(\"\"\"\n",
    "SELECT\n",
    "    Store || \"_\" || Date AS store_date,\n",
    "    SUM(Sales) AS total_sales\n",
    "FROM rossmann_sales\n",
    "GROUP BY store_date\n",
    "ORDER BY total_sales DESC\n",
    "\"\"\", con=conn).head()"
   ]
  },
  {
   "cell_type": "markdown",
   "metadata": {},
   "source": [
    "### Subquerying\n",
    "Subqueries allow you to create sub-tables of results to use in your overall SQL query."
   ]
  },
  {
   "cell_type": "code",
   "execution_count": 26,
   "metadata": {
    "collapsed": false
   },
   "outputs": [
    {
     "data": {
      "text/html": [
       "<div>\n",
       "<table border=\"1\" class=\"dataframe\">\n",
       "  <thead>\n",
       "    <tr style=\"text-align: right;\">\n",
       "      <th></th>\n",
       "      <th>Store</th>\n",
       "      <th>Date</th>\n",
       "      <th>max_sales</th>\n",
       "    </tr>\n",
       "  </thead>\n",
       "  <tbody>\n",
       "    <tr>\n",
       "      <th>0</th>\n",
       "      <td>1</td>\n",
       "      <td>2013-12-23</td>\n",
       "      <td>9528</td>\n",
       "    </tr>\n",
       "    <tr>\n",
       "      <th>1</th>\n",
       "      <td>2</td>\n",
       "      <td>2014-06-30</td>\n",
       "      <td>10682</td>\n",
       "    </tr>\n",
       "    <tr>\n",
       "      <th>2</th>\n",
       "      <td>3</td>\n",
       "      <td>2014-06-30</td>\n",
       "      <td>15689</td>\n",
       "    </tr>\n",
       "    <tr>\n",
       "      <th>3</th>\n",
       "      <td>4</td>\n",
       "      <td>2013-12-30</td>\n",
       "      <td>17412</td>\n",
       "    </tr>\n",
       "    <tr>\n",
       "      <th>4</th>\n",
       "      <td>5</td>\n",
       "      <td>2013-12-16</td>\n",
       "      <td>11692</td>\n",
       "    </tr>\n",
       "  </tbody>\n",
       "</table>\n",
       "</div>"
      ],
      "text/plain": [
       "   Store        Date  max_sales\n",
       "0      1  2013-12-23       9528\n",
       "1      2  2014-06-30      10682\n",
       "2      3  2014-06-30      15689\n",
       "3      4  2013-12-30      17412\n",
       "4      5  2013-12-16      11692"
      ]
     },
     "execution_count": 26,
     "metadata": {},
     "output_type": "execute_result"
    }
   ],
   "source": [
    "# Subquery example: let's say we want to find the value of each store's second highest sales.\n",
    "# Let's build this up before we do the subquery...\n",
    "sql.read_sql(\"\"\"\n",
    "SELECT\n",
    "    Store,\n",
    "    Date,\n",
    "    MAX(Sales) AS max_sales\n",
    "FROM rossmann_sales\n",
    "GROUP BY Store\n",
    "\"\"\", con=conn).head()"
   ]
  },
  {
   "cell_type": "code",
   "execution_count": 27,
   "metadata": {
    "collapsed": false
   },
   "outputs": [
    {
     "data": {
      "text/html": [
       "<div>\n",
       "<table border=\"1\" class=\"dataframe\">\n",
       "  <thead>\n",
       "    <tr style=\"text-align: right;\">\n",
       "      <th></th>\n",
       "      <th>Store</th>\n",
       "      <th>Date</th>\n",
       "      <th>max_sales</th>\n",
       "    </tr>\n",
       "  </thead>\n",
       "  <tbody>\n",
       "    <tr>\n",
       "      <th>0</th>\n",
       "      <td>1</td>\n",
       "      <td>2013-12-23</td>\n",
       "      <td>9528</td>\n",
       "    </tr>\n",
       "    <tr>\n",
       "      <th>1</th>\n",
       "      <td>2</td>\n",
       "      <td>2014-06-30</td>\n",
       "      <td>10682</td>\n",
       "    </tr>\n",
       "    <tr>\n",
       "      <th>2</th>\n",
       "      <td>3</td>\n",
       "      <td>2014-06-30</td>\n",
       "      <td>15689</td>\n",
       "    </tr>\n",
       "    <tr>\n",
       "      <th>3</th>\n",
       "      <td>4</td>\n",
       "      <td>2013-12-30</td>\n",
       "      <td>17412</td>\n",
       "    </tr>\n",
       "    <tr>\n",
       "      <th>4</th>\n",
       "      <td>5</td>\n",
       "      <td>2013-12-16</td>\n",
       "      <td>11692</td>\n",
       "    </tr>\n",
       "  </tbody>\n",
       "</table>\n",
       "</div>"
      ],
      "text/plain": [
       "   Store        Date  max_sales\n",
       "0      1  2013-12-23       9528\n",
       "1      2  2014-06-30      10682\n",
       "2      3  2014-06-30      15689\n",
       "3      4  2013-12-30      17412\n",
       "4      5  2013-12-16      11692"
      ]
     },
     "execution_count": 27,
     "metadata": {},
     "output_type": "execute_result"
    }
   ],
   "source": [
    "# What if SQL doesn't return the correct associated date for the maximum sales (not necessarily a given)\n",
    "# We could do this if we needed to:\n",
    "#   - subquery gives value of max sales for each store\n",
    "#   - the INNER JOIN here acts as a filter, returning only the columns associated with the date where sales is max\n",
    "sql.read_sql(\"\"\"\n",
    "SELECT\n",
    "    sales.Store,\n",
    "    sales.Date,\n",
    "    sales.Sales AS max_sales\n",
    "FROM rossmann_sales AS sales\n",
    "INNER JOIN (\n",
    "    -- Max sales per store\n",
    "    SELECT\n",
    "        Store,\n",
    "        MAX(Sales) AS max_sales\n",
    "    FROM rossmann_sales\n",
    "    GROUP BY Store\n",
    "    ) AS subquery ON sales.Store = subquery.Store\n",
    "                 AND sales.Sales = subquery.max_sales\n",
    "ORDER BY sales.Store\n",
    "\"\"\", con=conn).head()"
   ]
  },
  {
   "cell_type": "code",
   "execution_count": 28,
   "metadata": {
    "collapsed": false
   },
   "outputs": [
    {
     "data": {
      "text/html": [
       "<div>\n",
       "<table border=\"1\" class=\"dataframe\">\n",
       "  <thead>\n",
       "    <tr style=\"text-align: right;\">\n",
       "      <th></th>\n",
       "      <th>Store</th>\n",
       "      <th>Date</th>\n",
       "      <th>second_highest_sales</th>\n",
       "    </tr>\n",
       "  </thead>\n",
       "  <tbody>\n",
       "    <tr>\n",
       "      <th>0</th>\n",
       "      <td>1</td>\n",
       "      <td>2014-12-22</td>\n",
       "      <td>9331</td>\n",
       "    </tr>\n",
       "    <tr>\n",
       "      <th>1</th>\n",
       "      <td>2</td>\n",
       "      <td>2013-12-16</td>\n",
       "      <td>10479</td>\n",
       "    </tr>\n",
       "    <tr>\n",
       "      <th>2</th>\n",
       "      <td>3</td>\n",
       "      <td>2013-12-16</td>\n",
       "      <td>14647</td>\n",
       "    </tr>\n",
       "    <tr>\n",
       "      <th>3</th>\n",
       "      <td>4</td>\n",
       "      <td>2015-04-02</td>\n",
       "      <td>17311</td>\n",
       "    </tr>\n",
       "    <tr>\n",
       "      <th>4</th>\n",
       "      <td>5</td>\n",
       "      <td>2013-12-23</td>\n",
       "      <td>10877</td>\n",
       "    </tr>\n",
       "  </tbody>\n",
       "</table>\n",
       "</div>"
      ],
      "text/plain": [
       "   Store        Date  second_highest_sales\n",
       "0      1  2014-12-22                  9331\n",
       "1      2  2013-12-16                 10479\n",
       "2      3  2013-12-16                 14647\n",
       "3      4  2015-04-02                 17311\n",
       "4      5  2013-12-23                 10877"
      ]
     },
     "execution_count": 28,
     "metadata": {},
     "output_type": "execute_result"
    }
   ],
   "source": [
    "# We want each store's SECOND highest sales day though\n",
    "sql.read_sql(\"\"\"\n",
    "SELECT\n",
    "    sales.Store,\n",
    "    sales.Date,\n",
    "    MAX(sales.Sales) AS second_highest_sales\n",
    "FROM rossmann_sales AS sales\n",
    "INNER JOIN (\n",
    "    -- Filter OUT max sales per store\n",
    "    SELECT\n",
    "        Store,\n",
    "        Date,\n",
    "        MAX(Sales) AS max_sales\n",
    "    FROM rossmann_sales\n",
    "    GROUP BY Store\n",
    "    ) AS subquery ON sales.Store = subquery.Store\n",
    "                 AND sales.Sales != subquery.max_sales\n",
    "GROUP BY sales.Store\n",
    "\"\"\", con=conn).head()"
   ]
  },
  {
   "cell_type": "code",
   "execution_count": 29,
   "metadata": {
    "collapsed": false
   },
   "outputs": [
    {
     "data": {
      "text/html": [
       "<div>\n",
       "<table border=\"1\" class=\"dataframe\">\n",
       "  <thead>\n",
       "    <tr style=\"text-align: right;\">\n",
       "      <th></th>\n",
       "      <th>Store</th>\n",
       "      <th>Date</th>\n",
       "      <th>second_highest_sales</th>\n",
       "    </tr>\n",
       "  </thead>\n",
       "  <tbody>\n",
       "    <tr>\n",
       "      <th>0</th>\n",
       "      <td>1</td>\n",
       "      <td>2014-12-22</td>\n",
       "      <td>9331</td>\n",
       "    </tr>\n",
       "    <tr>\n",
       "      <th>1</th>\n",
       "      <td>2</td>\n",
       "      <td>2013-12-16</td>\n",
       "      <td>10479</td>\n",
       "    </tr>\n",
       "    <tr>\n",
       "      <th>2</th>\n",
       "      <td>3</td>\n",
       "      <td>2013-12-16</td>\n",
       "      <td>14647</td>\n",
       "    </tr>\n",
       "    <tr>\n",
       "      <th>3</th>\n",
       "      <td>4</td>\n",
       "      <td>2015-04-02</td>\n",
       "      <td>17311</td>\n",
       "    </tr>\n",
       "    <tr>\n",
       "      <th>4</th>\n",
       "      <td>5</td>\n",
       "      <td>2013-12-23</td>\n",
       "      <td>10877</td>\n",
       "    </tr>\n",
       "  </tbody>\n",
       "</table>\n",
       "</div>"
      ],
      "text/plain": [
       "   Store        Date  second_highest_sales\n",
       "0      1  2014-12-22                  9331\n",
       "1      2  2013-12-16                 10479\n",
       "2      3  2013-12-16                 14647\n",
       "3      4  2015-04-02                 17311\n",
       "4      5  2013-12-23                 10877"
      ]
     },
     "execution_count": 29,
     "metadata": {},
     "output_type": "execute_result"
    }
   ],
   "source": [
    "# The above works, but the below demonstrates two nice concepts: CONCAT and NOT IN\n",
    "# Instead of using the subquery's JOIN to filter out maximum sales days, we'll use a second subquery\n",
    "# to derive a list of unique store-date identifiers to filter out\n",
    "sql.read_sql(\"\"\"\n",
    "SELECT\n",
    "    sales.Store,\n",
    "    sales.Date,\n",
    "    MAX(sales.Sales) AS second_highest_sales\n",
    "FROM rossmann_sales AS sales\n",
    "WHERE sales.Store || sales.Date NOT IN (\n",
    "    SELECT store_date\n",
    "    FROM (\n",
    "        -- Max sales per store\n",
    "        SELECT\n",
    "            Store,\n",
    "            Store || Date AS store_date,\n",
    "            MAX(Sales) AS max_sales\n",
    "        FROM rossmann_sales S\n",
    "        GROUP BY Store\n",
    "        )\n",
    "    )\n",
    "GROUP BY sales.Store\n",
    "\"\"\", con=conn).head()"
   ]
  },
  {
   "cell_type": "markdown",
   "metadata": {},
   "source": [
    "## Independent Practice: Pandas and SQL\n",
    "#### Exercises\n",
    "1. Load the Walmart sales data (`walmart.csv`) and features data (`walmart_features.csv`)\n",
    "2. Create a table for each of those datasets\n",
    "3. Select the store, date and fuel price on days it was over 90 degrees\n",
    "4. Select the store, date and weekly sales and temperature\n",
    "5. What were average sales on holiday vs. non-holiday sales\n",
    "6. What were average sales on holiday vs. non-holiday sales when the temperature was below 32 degrees\n",
    "\n",
    "#### Bonus: What is the average store sales across each store's second hottest day?\n",
    "\n",
    "#### Walmart Recruiting - Store Sales Forecasting\n",
    "\n",
    "Retrieved from [Kaggle](https://www.kaggle.com/c/walmart-recruiting-store-sales-forecasting/data):\n",
    "\n",
    "> You are provided with historical sales data for 45 Walmart stores located in different regions. Each store contains a number of departments, and you are tasked with predicting the department-wide sales for each store.\n",
    "\n",
    "> In addition, Walmart runs several promotional markdown events throughout the year. These markdowns precede prominent holidays, the four largest of which are the Super Bowl, Labor Day, Thanksgiving, and Christmas. The weeks including these holidays are weighted five times higher in the evaluation than non-holiday weeks. Part of the challenge presented by this competition is modeling the effects of markdowns on these holiday weeks in the absence of complete/ideal historical data."
   ]
  },
  {
   "cell_type": "markdown",
   "metadata": {},
   "source": [
    "> #### 1. Load the Walmart sales data (`walmart.csv`) and features data (`walmart_features.csv`)"
   ]
  },
  {
   "cell_type": "code",
   "execution_count": 30,
   "metadata": {
    "collapsed": false
   },
   "outputs": [
    {
     "data": {
      "text/html": [
       "<div>\n",
       "<table border=\"1\" class=\"dataframe\">\n",
       "  <thead>\n",
       "    <tr style=\"text-align: right;\">\n",
       "      <th></th>\n",
       "      <th>Store</th>\n",
       "      <th>Dept</th>\n",
       "      <th>Date</th>\n",
       "      <th>Weekly_Sales</th>\n",
       "      <th>IsHoliday</th>\n",
       "    </tr>\n",
       "  </thead>\n",
       "  <tbody>\n",
       "    <tr>\n",
       "      <th>0</th>\n",
       "      <td>1</td>\n",
       "      <td>1</td>\n",
       "      <td>2010-02-05</td>\n",
       "      <td>24924.50</td>\n",
       "      <td>False</td>\n",
       "    </tr>\n",
       "    <tr>\n",
       "      <th>1</th>\n",
       "      <td>1</td>\n",
       "      <td>1</td>\n",
       "      <td>2010-02-12</td>\n",
       "      <td>46039.49</td>\n",
       "      <td>True</td>\n",
       "    </tr>\n",
       "    <tr>\n",
       "      <th>2</th>\n",
       "      <td>1</td>\n",
       "      <td>1</td>\n",
       "      <td>2010-02-19</td>\n",
       "      <td>41595.55</td>\n",
       "      <td>False</td>\n",
       "    </tr>\n",
       "    <tr>\n",
       "      <th>3</th>\n",
       "      <td>1</td>\n",
       "      <td>1</td>\n",
       "      <td>2010-02-26</td>\n",
       "      <td>19403.54</td>\n",
       "      <td>False</td>\n",
       "    </tr>\n",
       "    <tr>\n",
       "      <th>4</th>\n",
       "      <td>1</td>\n",
       "      <td>1</td>\n",
       "      <td>2010-03-05</td>\n",
       "      <td>21827.90</td>\n",
       "      <td>False</td>\n",
       "    </tr>\n",
       "  </tbody>\n",
       "</table>\n",
       "</div>"
      ],
      "text/plain": [
       "   Store  Dept        Date  Weekly_Sales IsHoliday\n",
       "0      1     1  2010-02-05      24924.50     False\n",
       "1      1     1  2010-02-12      46039.49      True\n",
       "2      1     1  2010-02-19      41595.55     False\n",
       "3      1     1  2010-02-26      19403.54     False\n",
       "4      1     1  2010-03-05      21827.90     False"
      ]
     },
     "execution_count": 30,
     "metadata": {},
     "output_type": "execute_result"
    }
   ],
   "source": [
    "# Load the Walmart sales and store features data\n",
    "walmart_sales = pd.read_csv(DATA_DIR / 'walmart.csv')\n",
    "walmart_sales.head()"
   ]
  },
  {
   "cell_type": "code",
   "execution_count": 31,
   "metadata": {
    "collapsed": false
   },
   "outputs": [
    {
     "data": {
      "text/html": [
       "<div>\n",
       "<table border=\"1\" class=\"dataframe\">\n",
       "  <thead>\n",
       "    <tr style=\"text-align: right;\">\n",
       "      <th></th>\n",
       "      <th>Store</th>\n",
       "      <th>Date</th>\n",
       "      <th>Temperature</th>\n",
       "      <th>Fuel_Price</th>\n",
       "      <th>MarkDown1</th>\n",
       "      <th>MarkDown2</th>\n",
       "      <th>MarkDown3</th>\n",
       "      <th>MarkDown4</th>\n",
       "      <th>MarkDown5</th>\n",
       "      <th>CPI</th>\n",
       "      <th>Unemployment</th>\n",
       "      <th>IsHoliday</th>\n",
       "    </tr>\n",
       "  </thead>\n",
       "  <tbody>\n",
       "    <tr>\n",
       "      <th>0</th>\n",
       "      <td>1</td>\n",
       "      <td>2010-02-05</td>\n",
       "      <td>42.31</td>\n",
       "      <td>2.572</td>\n",
       "      <td>NaN</td>\n",
       "      <td>NaN</td>\n",
       "      <td>NaN</td>\n",
       "      <td>NaN</td>\n",
       "      <td>NaN</td>\n",
       "      <td>211.096358</td>\n",
       "      <td>8.106</td>\n",
       "      <td>False</td>\n",
       "    </tr>\n",
       "    <tr>\n",
       "      <th>1</th>\n",
       "      <td>1</td>\n",
       "      <td>2010-02-12</td>\n",
       "      <td>38.51</td>\n",
       "      <td>2.548</td>\n",
       "      <td>NaN</td>\n",
       "      <td>NaN</td>\n",
       "      <td>NaN</td>\n",
       "      <td>NaN</td>\n",
       "      <td>NaN</td>\n",
       "      <td>211.242170</td>\n",
       "      <td>8.106</td>\n",
       "      <td>True</td>\n",
       "    </tr>\n",
       "    <tr>\n",
       "      <th>2</th>\n",
       "      <td>1</td>\n",
       "      <td>2010-02-19</td>\n",
       "      <td>39.93</td>\n",
       "      <td>2.514</td>\n",
       "      <td>NaN</td>\n",
       "      <td>NaN</td>\n",
       "      <td>NaN</td>\n",
       "      <td>NaN</td>\n",
       "      <td>NaN</td>\n",
       "      <td>211.289143</td>\n",
       "      <td>8.106</td>\n",
       "      <td>False</td>\n",
       "    </tr>\n",
       "    <tr>\n",
       "      <th>3</th>\n",
       "      <td>1</td>\n",
       "      <td>2010-02-26</td>\n",
       "      <td>46.63</td>\n",
       "      <td>2.561</td>\n",
       "      <td>NaN</td>\n",
       "      <td>NaN</td>\n",
       "      <td>NaN</td>\n",
       "      <td>NaN</td>\n",
       "      <td>NaN</td>\n",
       "      <td>211.319643</td>\n",
       "      <td>8.106</td>\n",
       "      <td>False</td>\n",
       "    </tr>\n",
       "    <tr>\n",
       "      <th>4</th>\n",
       "      <td>1</td>\n",
       "      <td>2010-03-05</td>\n",
       "      <td>46.50</td>\n",
       "      <td>2.625</td>\n",
       "      <td>NaN</td>\n",
       "      <td>NaN</td>\n",
       "      <td>NaN</td>\n",
       "      <td>NaN</td>\n",
       "      <td>NaN</td>\n",
       "      <td>211.350143</td>\n",
       "      <td>8.106</td>\n",
       "      <td>False</td>\n",
       "    </tr>\n",
       "  </tbody>\n",
       "</table>\n",
       "</div>"
      ],
      "text/plain": [
       "   Store        Date  Temperature  Fuel_Price  MarkDown1  MarkDown2  \\\n",
       "0      1  2010-02-05        42.31       2.572        NaN        NaN   \n",
       "1      1  2010-02-12        38.51       2.548        NaN        NaN   \n",
       "2      1  2010-02-19        39.93       2.514        NaN        NaN   \n",
       "3      1  2010-02-26        46.63       2.561        NaN        NaN   \n",
       "4      1  2010-03-05        46.50       2.625        NaN        NaN   \n",
       "\n",
       "   MarkDown3  MarkDown4  MarkDown5         CPI  Unemployment IsHoliday  \n",
       "0        NaN        NaN        NaN  211.096358         8.106     False  \n",
       "1        NaN        NaN        NaN  211.242170         8.106      True  \n",
       "2        NaN        NaN        NaN  211.289143         8.106     False  \n",
       "3        NaN        NaN        NaN  211.319643         8.106     False  \n",
       "4        NaN        NaN        NaN  211.350143         8.106     False  "
      ]
     },
     "execution_count": 31,
     "metadata": {},
     "output_type": "execute_result"
    }
   ],
   "source": [
    "walmart_features = pd.read_csv(DATA_DIR / 'walmart_features.csv')\n",
    "walmart_features.head()"
   ]
  },
  {
   "cell_type": "markdown",
   "metadata": {},
   "source": [
    "> #### 2. Create a table for each of those datasets"
   ]
  },
  {
   "cell_type": "code",
   "execution_count": 32,
   "metadata": {
    "collapsed": true
   },
   "outputs": [],
   "source": [
    "# Create a table for each of those datasets\n",
    "walmart_sales.to_sql('walmart_sales', index=False, if_exists='replace', con = conn)\n",
    "walmart_features.to_sql('walmart_features', if_exists='replace', index=False, con=conn)"
   ]
  },
  {
   "cell_type": "markdown",
   "metadata": {},
   "source": [
    "> #### 3. Select the store, date and fuel price on days it was over 90 degrees"
   ]
  },
  {
   "cell_type": "code",
   "execution_count": 33,
   "metadata": {
    "collapsed": false
   },
   "outputs": [
    {
     "data": {
      "text/html": [
       "<div>\n",
       "<table border=\"1\" class=\"dataframe\">\n",
       "  <thead>\n",
       "    <tr style=\"text-align: right;\">\n",
       "      <th></th>\n",
       "      <th>Date</th>\n",
       "      <th>Store</th>\n",
       "      <th>Fuel_Price</th>\n",
       "      <th>Temperature</th>\n",
       "    </tr>\n",
       "  </thead>\n",
       "  <tbody>\n",
       "    <tr>\n",
       "      <th>0</th>\n",
       "      <td>2011-08-05</td>\n",
       "      <td>1</td>\n",
       "      <td>3.684</td>\n",
       "      <td>91.65</td>\n",
       "    </tr>\n",
       "    <tr>\n",
       "      <th>1</th>\n",
       "      <td>2011-08-12</td>\n",
       "      <td>1</td>\n",
       "      <td>3.638</td>\n",
       "      <td>90.76</td>\n",
       "    </tr>\n",
       "    <tr>\n",
       "      <th>2</th>\n",
       "      <td>2011-07-29</td>\n",
       "      <td>2</td>\n",
       "      <td>3.682</td>\n",
       "      <td>90.07</td>\n",
       "    </tr>\n",
       "    <tr>\n",
       "      <th>3</th>\n",
       "      <td>2011-08-05</td>\n",
       "      <td>2</td>\n",
       "      <td>3.684</td>\n",
       "      <td>93.34</td>\n",
       "    </tr>\n",
       "    <tr>\n",
       "      <th>4</th>\n",
       "      <td>2011-08-12</td>\n",
       "      <td>2</td>\n",
       "      <td>3.638</td>\n",
       "      <td>91.58</td>\n",
       "    </tr>\n",
       "  </tbody>\n",
       "</table>\n",
       "</div>"
      ],
      "text/plain": [
       "         Date  Store  Fuel_Price  Temperature\n",
       "0  2011-08-05      1       3.684        91.65\n",
       "1  2011-08-12      1       3.638        90.76\n",
       "2  2011-07-29      2       3.682        90.07\n",
       "3  2011-08-05      2       3.684        93.34\n",
       "4  2011-08-12      2       3.638        91.58"
      ]
     },
     "execution_count": 33,
     "metadata": {},
     "output_type": "execute_result"
    }
   ],
   "source": [
    "# Select the store, date and fuel price on days it was over 90 degrees\n",
    "query = \"\"\"\n",
    "SELECT\n",
    "  Date,\n",
    "  Store,\n",
    "  Fuel_Price,\n",
    "  Temperature\n",
    "FROM walmart_features\n",
    "WHERE Temperature > 90\n",
    "\"\"\"\n",
    "sql.read_sql(query, con = conn).head()"
   ]
  },
  {
   "cell_type": "markdown",
   "metadata": {},
   "source": [
    "> #### 4. Select the store, date and weekly sales and temperature"
   ]
  },
  {
   "cell_type": "code",
   "execution_count": 34,
   "metadata": {
    "collapsed": false
   },
   "outputs": [
    {
     "data": {
      "text/html": [
       "<div>\n",
       "<table border=\"1\" class=\"dataframe\">\n",
       "  <thead>\n",
       "    <tr style=\"text-align: right;\">\n",
       "      <th></th>\n",
       "      <th>Store</th>\n",
       "      <th>Date</th>\n",
       "      <th>Weekly_Sales</th>\n",
       "      <th>Temperature</th>\n",
       "    </tr>\n",
       "  </thead>\n",
       "  <tbody>\n",
       "    <tr>\n",
       "      <th>0</th>\n",
       "      <td>1</td>\n",
       "      <td>2010-02-05</td>\n",
       "      <td>24924.50</td>\n",
       "      <td>42.31</td>\n",
       "    </tr>\n",
       "    <tr>\n",
       "      <th>1</th>\n",
       "      <td>1</td>\n",
       "      <td>2010-02-12</td>\n",
       "      <td>46039.49</td>\n",
       "      <td>38.51</td>\n",
       "    </tr>\n",
       "    <tr>\n",
       "      <th>2</th>\n",
       "      <td>1</td>\n",
       "      <td>2010-02-19</td>\n",
       "      <td>41595.55</td>\n",
       "      <td>39.93</td>\n",
       "    </tr>\n",
       "    <tr>\n",
       "      <th>3</th>\n",
       "      <td>1</td>\n",
       "      <td>2010-02-26</td>\n",
       "      <td>19403.54</td>\n",
       "      <td>46.63</td>\n",
       "    </tr>\n",
       "    <tr>\n",
       "      <th>4</th>\n",
       "      <td>1</td>\n",
       "      <td>2010-03-05</td>\n",
       "      <td>21827.90</td>\n",
       "      <td>46.50</td>\n",
       "    </tr>\n",
       "  </tbody>\n",
       "</table>\n",
       "</div>"
      ],
      "text/plain": [
       "   Store        Date  Weekly_Sales  Temperature\n",
       "0      1  2010-02-05      24924.50        42.31\n",
       "1      1  2010-02-12      46039.49        38.51\n",
       "2      1  2010-02-19      41595.55        39.93\n",
       "3      1  2010-02-26      19403.54        46.63\n",
       "4      1  2010-03-05      21827.90        46.50"
      ]
     },
     "execution_count": 34,
     "metadata": {},
     "output_type": "execute_result"
    }
   ],
   "source": [
    "# Select the store, date and weekly sales and temperature\n",
    "query = \"\"\"\n",
    "SELECT \n",
    "  sales.Store,\n",
    "  sales.Date,\n",
    "  sales.Weekly_Sales,\n",
    "  features.Temperature\n",
    "FROM walmart_sales as sales\n",
    "JOIN walmart_features as features ON sales.Store = features.Store\n",
    "                                 AND sales.Date = features.Date\n",
    "\"\"\"\n",
    "sql.read_sql(query, con = conn).head()"
   ]
  },
  {
   "cell_type": "markdown",
   "metadata": {},
   "source": [
    "> #### 5. What were average sales on holiday vs. non-holiday sales"
   ]
  },
  {
   "cell_type": "code",
   "execution_count": 35,
   "metadata": {
    "collapsed": false
   },
   "outputs": [
    {
     "data": {
      "text/html": [
       "<div>\n",
       "<table border=\"1\" class=\"dataframe\">\n",
       "  <thead>\n",
       "    <tr style=\"text-align: right;\">\n",
       "      <th></th>\n",
       "      <th>IsHoliday</th>\n",
       "      <th>AVG(Weekly_Sales)</th>\n",
       "    </tr>\n",
       "  </thead>\n",
       "  <tbody>\n",
       "    <tr>\n",
       "      <th>0</th>\n",
       "      <td>0</td>\n",
       "      <td>15901.445069</td>\n",
       "    </tr>\n",
       "    <tr>\n",
       "      <th>1</th>\n",
       "      <td>1</td>\n",
       "      <td>17035.823187</td>\n",
       "    </tr>\n",
       "  </tbody>\n",
       "</table>\n",
       "</div>"
      ],
      "text/plain": [
       "   IsHoliday  AVG(Weekly_Sales)\n",
       "0          0       15901.445069\n",
       "1          1       17035.823187"
      ]
     },
     "execution_count": 35,
     "metadata": {},
     "output_type": "execute_result"
    }
   ],
   "source": [
    "# What were average sales on holiday vs. non-holiday sales\n",
    "query = \"\"\"\n",
    "SELECT \n",
    "  IsHoliday,\n",
    "  AVG(Weekly_Sales)\n",
    "FROM walmart_sales AS sales\n",
    "GROUP BY IsHoliday\n",
    "\"\"\"\n",
    "sql.read_sql(query, con = conn)"
   ]
  },
  {
   "cell_type": "markdown",
   "metadata": {},
   "source": [
    "> #### 6. What were average sales on holiday vs. non-holiday sales when the temperature was below 32 degrees"
   ]
  },
  {
   "cell_type": "code",
   "execution_count": 36,
   "metadata": {
    "collapsed": false
   },
   "outputs": [
    {
     "data": {
      "text/html": [
       "<div>\n",
       "<table border=\"1\" class=\"dataframe\">\n",
       "  <thead>\n",
       "    <tr style=\"text-align: right;\">\n",
       "      <th></th>\n",
       "      <th>IsHoliday</th>\n",
       "      <th>AVG(sales.Weekly_Sales)</th>\n",
       "    </tr>\n",
       "  </thead>\n",
       "  <tbody>\n",
       "    <tr>\n",
       "      <th>0</th>\n",
       "      <td>0</td>\n",
       "      <td>15275.770307</td>\n",
       "    </tr>\n",
       "    <tr>\n",
       "      <th>1</th>\n",
       "      <td>1</td>\n",
       "      <td>15111.471238</td>\n",
       "    </tr>\n",
       "  </tbody>\n",
       "</table>\n",
       "</div>"
      ],
      "text/plain": [
       "   IsHoliday  AVG(sales.Weekly_Sales)\n",
       "0          0             15275.770307\n",
       "1          1             15111.471238"
      ]
     },
     "execution_count": 36,
     "metadata": {},
     "output_type": "execute_result"
    }
   ],
   "source": [
    "# What were average sales on holiday vs. non-holiday sales when the temperature was below 32 degrees\n",
    "query = \"\"\"\n",
    "SELECT \n",
    "  sales.IsHoliday,\n",
    "  AVG(sales.Weekly_Sales)\n",
    "FROM walmart_sales AS sales\n",
    "JOIN walmart_features AS features ON sales.Store = features.Store\n",
    "                                 AND sales.Date = features.Date\n",
    "WHERE features.Temperature < 32\n",
    "GROUP BY sales.IsHoliday\n",
    "\"\"\"\n",
    "sql.read_sql(query, con = conn)"
   ]
  },
  {
   "cell_type": "markdown",
   "metadata": {
    "collapsed": true
   },
   "source": [
    "> #### Bonus: What is the average store sales across each store's second hottest day?\n",
    "\n",
    "This fiendish problem from Rich is possible using a single query and some subqueries, but it's very complex! Instead, I'm going to use some temporary tables and build up the query step-by-step to demonstrate how all the parts fit together. Creating temporary tables is almost identical to creating permanent tables, except they're only visible to you and will be deleted when you close your db connection (e.g. in this case, the connection closes when you close the notebook or restart the kernel). Also, pandas only has methods for turning SQL into dataframes and vice-versa, but not for executing an SQL statement directly, so I'm using the sqlite3 library for this.\n",
    "\n",
    "Using temporary tables in this way is a common optimisation technique, and much simpler to debug too as you can inspect the intermediate queries to check it's doing what you expect!\n",
    "\n",
    "**Note: This level of convolutory SQL kung fu is pretty rare in practice, and is essentially an example of SQL-based \"code golf\". It's great as a technical challenge, or to really test someone's SQL abilities, but don't worry if this seems incredibly complex...it is!**"
   ]
  },
  {
   "cell_type": "code",
   "execution_count": 37,
   "metadata": {
    "collapsed": true
   },
   "outputs": [],
   "source": [
    "# We'll need this cursor object to execute the SQL statements\n",
    "cursor = conn.cursor()"
   ]
  },
  {
   "cell_type": "code",
   "execution_count": 38,
   "metadata": {
    "collapsed": true
   },
   "outputs": [],
   "source": [
    "# This table contains the date on which each store experienced its max temp.\n",
    "# We can't see the associated dates yet, we have to join those in separately.\n",
    "cursor.execute(\"\"\"\n",
    "CREATE TEMPORARY TABLE max_temp_per_store AS\n",
    "    SELECT\n",
    "        Store,\n",
    "        MAX(Temperature) AS max_temp\n",
    "    FROM walmart_features\n",
    "    GROUP BY Store\n",
    "\"\"\")\n",
    "conn.commit()"
   ]
  },
  {
   "cell_type": "code",
   "execution_count": 39,
   "metadata": {
    "collapsed": false
   },
   "outputs": [
    {
     "data": {
      "text/html": [
       "<div>\n",
       "<table border=\"1\" class=\"dataframe\">\n",
       "  <thead>\n",
       "    <tr style=\"text-align: right;\">\n",
       "      <th></th>\n",
       "      <th>Store</th>\n",
       "      <th>max_temp</th>\n",
       "    </tr>\n",
       "  </thead>\n",
       "  <tbody>\n",
       "    <tr>\n",
       "      <th>0</th>\n",
       "      <td>1</td>\n",
       "      <td>91.65</td>\n",
       "    </tr>\n",
       "    <tr>\n",
       "      <th>1</th>\n",
       "      <td>2</td>\n",
       "      <td>93.34</td>\n",
       "    </tr>\n",
       "    <tr>\n",
       "      <th>2</th>\n",
       "      <td>3</td>\n",
       "      <td>89.12</td>\n",
       "    </tr>\n",
       "    <tr>\n",
       "      <th>3</th>\n",
       "      <td>4</td>\n",
       "      <td>86.29</td>\n",
       "    </tr>\n",
       "    <tr>\n",
       "      <th>4</th>\n",
       "      <td>5</td>\n",
       "      <td>91.07</td>\n",
       "    </tr>\n",
       "  </tbody>\n",
       "</table>\n",
       "</div>"
      ],
      "text/plain": [
       "   Store  max_temp\n",
       "0      1     91.65\n",
       "1      2     93.34\n",
       "2      3     89.12\n",
       "3      4     86.29\n",
       "4      5     91.07"
      ]
     },
     "execution_count": 39,
     "metadata": {},
     "output_type": "execute_result"
    }
   ],
   "source": [
    "# Checks...\n",
    "#   > store 1 has max temp of 91.65\n",
    "#   > store 3 has max temp of 89.12\n",
    "sql.read_sql(\"SELECT * FROM max_temp_per_store LIMIT 5;\", con = conn)"
   ]
  },
  {
   "cell_type": "code",
   "execution_count": 40,
   "metadata": {
    "collapsed": true
   },
   "outputs": [],
   "source": [
    "# Now we can see the relevant dates by joining them in\n",
    "cursor.execute(\"\"\"\n",
    "CREATE TEMPORARY TABLE max_temp_store_date AS\n",
    "    SELECT\n",
    "        F.Store,\n",
    "        F.Date,\n",
    "        F.Temperature AS max_temp,\n",
    "        F.Store || F.Date AS store_date_uid\n",
    "    FROM max_temp_per_store AS S\n",
    "    LEFT JOIN walmart_features AS F ON S.Store = F.Store\n",
    "                                   AND S.max_temp = F.Temperature\n",
    "\"\"\")\n",
    "conn.commit()"
   ]
  },
  {
   "cell_type": "code",
   "execution_count": 41,
   "metadata": {
    "collapsed": false
   },
   "outputs": [
    {
     "data": {
      "text/html": [
       "<div>\n",
       "<table border=\"1\" class=\"dataframe\">\n",
       "  <thead>\n",
       "    <tr style=\"text-align: right;\">\n",
       "      <th></th>\n",
       "      <th>Store</th>\n",
       "      <th>Date</th>\n",
       "      <th>max_temp</th>\n",
       "      <th>store_date_uid</th>\n",
       "    </tr>\n",
       "  </thead>\n",
       "  <tbody>\n",
       "    <tr>\n",
       "      <th>0</th>\n",
       "      <td>1</td>\n",
       "      <td>2011-08-05</td>\n",
       "      <td>91.65</td>\n",
       "      <td>12011-08-05</td>\n",
       "    </tr>\n",
       "    <tr>\n",
       "      <th>1</th>\n",
       "      <td>2</td>\n",
       "      <td>2011-08-05</td>\n",
       "      <td>93.34</td>\n",
       "      <td>22011-08-05</td>\n",
       "    </tr>\n",
       "    <tr>\n",
       "      <th>2</th>\n",
       "      <td>3</td>\n",
       "      <td>2011-09-02</td>\n",
       "      <td>89.12</td>\n",
       "      <td>32011-09-02</td>\n",
       "    </tr>\n",
       "    <tr>\n",
       "      <th>3</th>\n",
       "      <td>4</td>\n",
       "      <td>2013-06-28</td>\n",
       "      <td>86.29</td>\n",
       "      <td>42013-06-28</td>\n",
       "    </tr>\n",
       "    <tr>\n",
       "      <th>4</th>\n",
       "      <td>5</td>\n",
       "      <td>2011-08-05</td>\n",
       "      <td>91.07</td>\n",
       "      <td>52011-08-05</td>\n",
       "    </tr>\n",
       "    <tr>\n",
       "      <th>5</th>\n",
       "      <td>6</td>\n",
       "      <td>2011-08-05</td>\n",
       "      <td>91.46</td>\n",
       "      <td>62011-08-05</td>\n",
       "    </tr>\n",
       "    <tr>\n",
       "      <th>6</th>\n",
       "      <td>7</td>\n",
       "      <td>2012-06-29</td>\n",
       "      <td>68.84</td>\n",
       "      <td>72012-06-29</td>\n",
       "    </tr>\n",
       "    <tr>\n",
       "      <th>7</th>\n",
       "      <td>8</td>\n",
       "      <td>2011-07-01</td>\n",
       "      <td>87.26</td>\n",
       "      <td>82011-07-01</td>\n",
       "    </tr>\n",
       "    <tr>\n",
       "      <th>8</th>\n",
       "      <td>9</td>\n",
       "      <td>2011-08-12</td>\n",
       "      <td>91.63</td>\n",
       "      <td>92011-08-12</td>\n",
       "    </tr>\n",
       "    <tr>\n",
       "      <th>9</th>\n",
       "      <td>10</td>\n",
       "      <td>2011-07-01</td>\n",
       "      <td>95.36</td>\n",
       "      <td>102011-07-01</td>\n",
       "    </tr>\n",
       "  </tbody>\n",
       "</table>\n",
       "</div>"
      ],
      "text/plain": [
       "   Store        Date  max_temp store_date_uid\n",
       "0      1  2011-08-05     91.65    12011-08-05\n",
       "1      2  2011-08-05     93.34    22011-08-05\n",
       "2      3  2011-09-02     89.12    32011-09-02\n",
       "3      4  2013-06-28     86.29    42013-06-28\n",
       "4      5  2011-08-05     91.07    52011-08-05\n",
       "5      6  2011-08-05     91.46    62011-08-05\n",
       "6      7  2012-06-29     68.84    72012-06-29\n",
       "7      8  2011-07-01     87.26    82011-07-01\n",
       "8      9  2011-08-12     91.63    92011-08-12\n",
       "9     10  2011-07-01     95.36   102011-07-01"
      ]
     },
     "execution_count": 41,
     "metadata": {},
     "output_type": "execute_result"
    }
   ],
   "source": [
    "# Checks...\n",
    "#   > store 1 has max temp of 91.65 still, on 2011-08-05\n",
    "#   > store 3 has max temp of 89.12 still, on 2011-09-02\n",
    "sql.read_sql(\"SELECT * FROM max_temp_store_date LIMIT 10;\", con = conn)"
   ]
  },
  {
   "cell_type": "code",
   "execution_count": 42,
   "metadata": {
    "collapsed": false
   },
   "outputs": [
    {
     "data": {
      "text/html": [
       "<div>\n",
       "<table border=\"1\" class=\"dataframe\">\n",
       "  <thead>\n",
       "    <tr style=\"text-align: right;\">\n",
       "      <th></th>\n",
       "      <th>Store</th>\n",
       "      <th>Date</th>\n",
       "      <th>Temperature</th>\n",
       "    </tr>\n",
       "  </thead>\n",
       "  <tbody>\n",
       "    <tr>\n",
       "      <th>0</th>\n",
       "      <td>1</td>\n",
       "      <td>2011-08-05</td>\n",
       "      <td>91.65</td>\n",
       "    </tr>\n",
       "    <tr>\n",
       "      <th>1</th>\n",
       "      <td>1</td>\n",
       "      <td>2011-09-02</td>\n",
       "      <td>87.83</td>\n",
       "    </tr>\n",
       "    <tr>\n",
       "      <th>2</th>\n",
       "      <td>3</td>\n",
       "      <td>2011-08-05</td>\n",
       "      <td>88.45</td>\n",
       "    </tr>\n",
       "    <tr>\n",
       "      <th>3</th>\n",
       "      <td>3</td>\n",
       "      <td>2011-09-02</td>\n",
       "      <td>89.12</td>\n",
       "    </tr>\n",
       "  </tbody>\n",
       "</table>\n",
       "</div>"
      ],
      "text/plain": [
       "   Store        Date  Temperature\n",
       "0      1  2011-08-05        91.65\n",
       "1      1  2011-09-02        87.83\n",
       "2      3  2011-08-05        88.45\n",
       "3      3  2011-09-02        89.12"
      ]
     },
     "execution_count": 42,
     "metadata": {},
     "output_type": "execute_result"
    }
   ],
   "source": [
    "# Check...compare with simple filter to confirm this is real data\n",
    "#   > store 1 has temp of 91.65 on 2011-08-05\n",
    "#   > store 3 has temp of 89.12 on 2011-09-02\n",
    "sql.read_sql(\"\"\"\n",
    "SELECT Store, Date, Temperature\n",
    "FROM walmart_features\n",
    "WHERE Store IN (1, 3) AND Date IN ('2011-08-05', '2011-09-02');\n",
    "\"\"\", con = conn)"
   ]
  },
  {
   "cell_type": "code",
   "execution_count": 43,
   "metadata": {
    "collapsed": false
   },
   "outputs": [
    {
     "data": {
      "text/html": [
       "<div>\n",
       "<table border=\"1\" class=\"dataframe\">\n",
       "  <thead>\n",
       "    <tr style=\"text-align: right;\">\n",
       "      <th></th>\n",
       "      <th>Store</th>\n",
       "      <th>total</th>\n",
       "    </tr>\n",
       "  </thead>\n",
       "  <tbody>\n",
       "    <tr>\n",
       "      <th>0</th>\n",
       "      <td>1</td>\n",
       "      <td>1</td>\n",
       "    </tr>\n",
       "    <tr>\n",
       "      <th>1</th>\n",
       "      <td>2</td>\n",
       "      <td>1</td>\n",
       "    </tr>\n",
       "    <tr>\n",
       "      <th>2</th>\n",
       "      <td>3</td>\n",
       "      <td>1</td>\n",
       "    </tr>\n",
       "  </tbody>\n",
       "</table>\n",
       "</div>"
      ],
      "text/plain": [
       "   Store  total\n",
       "0      1      1\n",
       "1      2      1\n",
       "2      3      1"
      ]
     },
     "execution_count": 43,
     "metadata": {},
     "output_type": "execute_result"
    }
   ],
   "source": [
    "# Check...do any stores have more than one entry here? (No, phew!)\n",
    "sql.read_sql(\"\"\"\n",
    "SELECT Store, COUNT(*) AS total\n",
    "FROM max_temp_store_date\n",
    "GROUP BY Store\n",
    "ORDER BY total DESC\n",
    "LIMIT 3;\n",
    "\"\"\", con = conn)"
   ]
  },
  {
   "cell_type": "code",
   "execution_count": 44,
   "metadata": {
    "collapsed": true
   },
   "outputs": [],
   "source": [
    "# Now create a new table which has the above store/date combos filtered out using WHERE and NOT IN operators.\n",
    "# When we do MAX(Temperature) this time, it's therefore selecting the days with the second highest\n",
    "# temperatures for each store. As above, we need to join in the related dates in a separate step.\n",
    "cursor.execute(\"\"\"\n",
    "CREATE TEMPORARY TABLE store_data_with_max_removed AS\n",
    "    SELECT\n",
    "        Store,\n",
    "        MAX(Temperature) AS second_highest_temp\n",
    "    FROM walmart_features\n",
    "    WHERE Store || Date NOT IN (SELECT store_date_uid FROM max_temp_store_date)\n",
    "    GROUP BY Store\n",
    "\"\"\")\n",
    "conn.commit()"
   ]
  },
  {
   "cell_type": "code",
   "execution_count": 45,
   "metadata": {
    "collapsed": false
   },
   "outputs": [
    {
     "data": {
      "text/html": [
       "<div>\n",
       "<table border=\"1\" class=\"dataframe\">\n",
       "  <thead>\n",
       "    <tr style=\"text-align: right;\">\n",
       "      <th></th>\n",
       "      <th>Store</th>\n",
       "      <th>second_highest_temp</th>\n",
       "    </tr>\n",
       "  </thead>\n",
       "  <tbody>\n",
       "    <tr>\n",
       "      <th>0</th>\n",
       "      <td>1</td>\n",
       "      <td>90.76</td>\n",
       "    </tr>\n",
       "    <tr>\n",
       "      <th>1</th>\n",
       "      <td>2</td>\n",
       "      <td>91.58</td>\n",
       "    </tr>\n",
       "    <tr>\n",
       "      <th>2</th>\n",
       "      <td>3</td>\n",
       "      <td>88.88</td>\n",
       "    </tr>\n",
       "    <tr>\n",
       "      <th>3</th>\n",
       "      <td>4</td>\n",
       "      <td>86.09</td>\n",
       "    </tr>\n",
       "    <tr>\n",
       "      <th>4</th>\n",
       "      <td>5</td>\n",
       "      <td>90.38</td>\n",
       "    </tr>\n",
       "  </tbody>\n",
       "</table>\n",
       "</div>"
      ],
      "text/plain": [
       "   Store  second_highest_temp\n",
       "0      1                90.76\n",
       "1      2                91.58\n",
       "2      3                88.88\n",
       "3      4                86.09\n",
       "4      5                90.38"
      ]
     },
     "execution_count": 45,
     "metadata": {},
     "output_type": "execute_result"
    }
   ],
   "source": [
    "# Checks...\n",
    "#   > store 1 has 2nd highest temp of 90.76 (lower than max temp of 91.65)\n",
    "#   > store 3 has 2nd highest temp of 88.88 (lower than max temp of 89.12)\n",
    "sql.read_sql(\"SELECT * FROM store_data_with_max_removed LIMIT 5;\", con = conn)"
   ]
  },
  {
   "cell_type": "code",
   "execution_count": 46,
   "metadata": {
    "collapsed": true
   },
   "outputs": [],
   "source": [
    "# As above, join in the dates. We'll use this in next step to filter on...(!)\n",
    "cursor.execute(\"\"\"\n",
    "CREATE TEMPORARY TABLE second_highest_temps_store_date AS\n",
    "    SELECT\n",
    "        F.Store,\n",
    "        F.Date,\n",
    "        F.Temperature AS second_highest_temp,\n",
    "        F.Store || F.Date AS store_date_uid\n",
    "    FROM store_data_with_max_removed AS S\n",
    "    LEFT JOIN walmart_features AS F ON S.Store = F.Store\n",
    "                                   AND S.second_highest_temp = F.Temperature\n",
    "\"\"\")\n",
    "conn.commit()"
   ]
  },
  {
   "cell_type": "code",
   "execution_count": 47,
   "metadata": {
    "collapsed": false
   },
   "outputs": [
    {
     "data": {
      "text/html": [
       "<div>\n",
       "<table border=\"1\" class=\"dataframe\">\n",
       "  <thead>\n",
       "    <tr style=\"text-align: right;\">\n",
       "      <th></th>\n",
       "      <th>Store</th>\n",
       "      <th>Date</th>\n",
       "      <th>second_highest_temp</th>\n",
       "      <th>store_date_uid</th>\n",
       "    </tr>\n",
       "  </thead>\n",
       "  <tbody>\n",
       "    <tr>\n",
       "      <th>0</th>\n",
       "      <td>1</td>\n",
       "      <td>2011-08-12</td>\n",
       "      <td>90.76</td>\n",
       "      <td>12011-08-12</td>\n",
       "    </tr>\n",
       "    <tr>\n",
       "      <th>1</th>\n",
       "      <td>2</td>\n",
       "      <td>2011-08-12</td>\n",
       "      <td>91.58</td>\n",
       "      <td>22011-08-12</td>\n",
       "    </tr>\n",
       "    <tr>\n",
       "      <th>2</th>\n",
       "      <td>3</td>\n",
       "      <td>2011-08-12</td>\n",
       "      <td>88.88</td>\n",
       "      <td>32011-08-12</td>\n",
       "    </tr>\n",
       "    <tr>\n",
       "      <th>3</th>\n",
       "      <td>4</td>\n",
       "      <td>2011-08-05</td>\n",
       "      <td>86.09</td>\n",
       "      <td>42011-08-05</td>\n",
       "    </tr>\n",
       "    <tr>\n",
       "      <th>4</th>\n",
       "      <td>5</td>\n",
       "      <td>2011-09-02</td>\n",
       "      <td>90.38</td>\n",
       "      <td>52011-09-02</td>\n",
       "    </tr>\n",
       "    <tr>\n",
       "      <th>5</th>\n",
       "      <td>6</td>\n",
       "      <td>2011-09-02</td>\n",
       "      <td>91.22</td>\n",
       "      <td>62011-09-02</td>\n",
       "    </tr>\n",
       "    <tr>\n",
       "      <th>6</th>\n",
       "      <td>7</td>\n",
       "      <td>2010-07-30</td>\n",
       "      <td>66.07</td>\n",
       "      <td>72010-07-30</td>\n",
       "    </tr>\n",
       "    <tr>\n",
       "      <th>7</th>\n",
       "      <td>8</td>\n",
       "      <td>2011-07-29</td>\n",
       "      <td>86.46</td>\n",
       "      <td>82011-07-29</td>\n",
       "    </tr>\n",
       "    <tr>\n",
       "      <th>8</th>\n",
       "      <td>9</td>\n",
       "      <td>2011-08-05</td>\n",
       "      <td>91.52</td>\n",
       "      <td>92011-08-05</td>\n",
       "    </tr>\n",
       "    <tr>\n",
       "      <th>9</th>\n",
       "      <td>10</td>\n",
       "      <td>2013-07-05</td>\n",
       "      <td>93.54</td>\n",
       "      <td>102013-07-05</td>\n",
       "    </tr>\n",
       "  </tbody>\n",
       "</table>\n",
       "</div>"
      ],
      "text/plain": [
       "   Store        Date  second_highest_temp store_date_uid\n",
       "0      1  2011-08-12                90.76    12011-08-12\n",
       "1      2  2011-08-12                91.58    22011-08-12\n",
       "2      3  2011-08-12                88.88    32011-08-12\n",
       "3      4  2011-08-05                86.09    42011-08-05\n",
       "4      5  2011-09-02                90.38    52011-09-02\n",
       "5      6  2011-09-02                91.22    62011-09-02\n",
       "6      7  2010-07-30                66.07    72010-07-30\n",
       "7      8  2011-07-29                86.46    82011-07-29\n",
       "8      9  2011-08-05                91.52    92011-08-05\n",
       "9     10  2013-07-05                93.54   102013-07-05"
      ]
     },
     "execution_count": 47,
     "metadata": {},
     "output_type": "execute_result"
    }
   ],
   "source": [
    "# Checks...\n",
    "#   > store 1 has 2nd highest temp of 90.76 still, on 2011-08-12\n",
    "#   > store 3 has 2nd highest temp of 88.88 still, on 2011-08-12\n",
    "sql.read_sql(\"SELECT * FROM second_highest_temps_store_date LIMIT 10;\", con = conn)"
   ]
  },
  {
   "cell_type": "code",
   "execution_count": 48,
   "metadata": {
    "collapsed": false
   },
   "outputs": [
    {
     "data": {
      "text/html": [
       "<div>\n",
       "<table border=\"1\" class=\"dataframe\">\n",
       "  <thead>\n",
       "    <tr style=\"text-align: right;\">\n",
       "      <th></th>\n",
       "      <th>Store</th>\n",
       "      <th>Date</th>\n",
       "      <th>Temperature</th>\n",
       "    </tr>\n",
       "  </thead>\n",
       "  <tbody>\n",
       "    <tr>\n",
       "      <th>0</th>\n",
       "      <td>1</td>\n",
       "      <td>2011-08-12</td>\n",
       "      <td>90.76</td>\n",
       "    </tr>\n",
       "    <tr>\n",
       "      <th>1</th>\n",
       "      <td>3</td>\n",
       "      <td>2011-08-12</td>\n",
       "      <td>88.88</td>\n",
       "    </tr>\n",
       "  </tbody>\n",
       "</table>\n",
       "</div>"
      ],
      "text/plain": [
       "   Store        Date  Temperature\n",
       "0      1  2011-08-12        90.76\n",
       "1      3  2011-08-12        88.88"
      ]
     },
     "execution_count": 48,
     "metadata": {},
     "output_type": "execute_result"
    }
   ],
   "source": [
    "# Check...compare with simple filter to confirm this is real data\n",
    "#   > store 1 has temp of 90.76 on 2011-08-12\n",
    "#   > store 3 has temp of 88.88 on 2011-08-12\n",
    "sql.read_sql(\"\"\"\n",
    "SELECT Store, Date, Temperature\n",
    "FROM walmart_features\n",
    "WHERE Store IN (1, 3) AND Date = '2011-08-12';\n",
    "\"\"\", con = conn)"
   ]
  },
  {
   "cell_type": "code",
   "execution_count": 49,
   "metadata": {
    "collapsed": false
   },
   "outputs": [
    {
     "data": {
      "text/html": [
       "<div>\n",
       "<table border=\"1\" class=\"dataframe\">\n",
       "  <thead>\n",
       "    <tr style=\"text-align: right;\">\n",
       "      <th></th>\n",
       "      <th>average_sales</th>\n",
       "    </tr>\n",
       "  </thead>\n",
       "  <tbody>\n",
       "    <tr>\n",
       "      <th>0</th>\n",
       "      <td>16334.922297</td>\n",
       "    </tr>\n",
       "  </tbody>\n",
       "</table>\n",
       "</div>"
      ],
      "text/plain": [
       "   average_sales\n",
       "0   16334.922297"
      ]
     },
     "execution_count": 49,
     "metadata": {},
     "output_type": "execute_result"
    }
   ],
   "source": [
    "# FINALLY (!), we simply average across the dates & stores provided in the previous step\n",
    "sql.read_sql(\"\"\"\n",
    "SELECT\n",
    "  AVG(Weekly_Sales) AS average_sales\n",
    "FROM walmart_sales\n",
    "WHERE Store || Date IN (SELECT store_date_uid FROM second_highest_temps_store_date)\n",
    "\"\"\", con = conn)"
   ]
  },
  {
   "cell_type": "markdown",
   "metadata": {},
   "source": [
    "#### As one query...!\n",
    "To prove it's possible. I have a sneaking suspicion we can simplify this quite a bit (filtering and joining on store/temp combos will save you several subqueries by not messing around with creating store/date combos). I'll leave that as an exercise to the reader."
   ]
  },
  {
   "cell_type": "code",
   "execution_count": 50,
   "metadata": {
    "collapsed": false
   },
   "outputs": [
    {
     "data": {
      "text/html": [
       "<div>\n",
       "<table border=\"1\" class=\"dataframe\">\n",
       "  <thead>\n",
       "    <tr style=\"text-align: right;\">\n",
       "      <th></th>\n",
       "      <th>average_sales</th>\n",
       "    </tr>\n",
       "  </thead>\n",
       "  <tbody>\n",
       "    <tr>\n",
       "      <th>0</th>\n",
       "      <td>16334.922297</td>\n",
       "    </tr>\n",
       "  </tbody>\n",
       "</table>\n",
       "</div>"
      ],
      "text/plain": [
       "   average_sales\n",
       "0   16334.922297"
      ]
     },
     "execution_count": 50,
     "metadata": {},
     "output_type": "execute_result"
    }
   ],
   "source": [
    "sql.read_sql(\"\"\"\n",
    "-- Avg sales over the selected dates for each store\n",
    "SELECT\n",
    "  AVG(Weekly_Sales) AS average_sales\n",
    "FROM walmart_sales\n",
    "WHERE Store || Date IN (\n",
    "  -- List of store/date UIDs to filter on\n",
    "  SELECT store_date_uid\n",
    "  FROM (\n",
    "    -- Date of second highest temperatures for each store\n",
    "    SELECT\n",
    "      F.Store,\n",
    "      F.Date,\n",
    "      F.Temperature AS second_highest_temp,\n",
    "      F.Store || F.Date AS store_date_uid\n",
    "    FROM (\n",
    "      -- Second highest temperatures per store\n",
    "      SELECT\n",
    "        Store,\n",
    "        MAX(Temperature) AS second_highest_temp\n",
    "      FROM walmart_features\n",
    "      WHERE Store || Date NOT IN (\n",
    "        -- List of store/date UIDs to filter out\n",
    "        SELECT store_date_uid\n",
    "        FROM (\n",
    "          -- Date of max temperature for each store\n",
    "          SELECT\n",
    "            F.Store,\n",
    "            F.Date,\n",
    "            F.Temperature AS max_temp,\n",
    "            F.Store || F.Date AS store_date_uid\n",
    "          FROM (\n",
    "            -- Max temperature per store\n",
    "            SELECT\n",
    "              Store,\n",
    "              MAX(Temperature) AS max_temp\n",
    "            FROM walmart_features\n",
    "            GROUP BY Store\n",
    "          ) AS S\n",
    "          LEFT JOIN walmart_features AS F ON S.Store = F.Store\n",
    "                                         AND S.max_temp = F.Temperature\n",
    "        )\n",
    "      )\n",
    "      GROUP BY Store\n",
    "    ) AS S\n",
    "    LEFT JOIN walmart_features AS F ON S.Store = F.Store\n",
    "                                   AND S.second_highest_temp = F.Temperature\n",
    "    )\n",
    ")\n",
    "\"\"\", con = conn)"
   ]
  },
  {
   "cell_type": "code",
   "execution_count": 51,
   "metadata": {
    "collapsed": true
   },
   "outputs": [],
   "source": [
    "# In production, this is a pretty important step. Locally, the only effect it has is to flush the temporary tables.\n",
    "conn.close()"
   ]
  }
 ],
 "metadata": {
  "kernelspec": {
   "display_name": "Python (ga)",
   "language": "python",
   "name": "ga"
  },
  "language_info": {
   "codemirror_mode": {
    "name": "ipython",
    "version": 2
   },
   "file_extension": ".py",
   "mimetype": "text/x-python",
   "name": "python",
   "nbconvert_exporter": "python",
   "pygments_lexer": "ipython2",
   "version": "2.7.12"
  }
 },
 "nbformat": 4,
 "nbformat_minor": 0
}
