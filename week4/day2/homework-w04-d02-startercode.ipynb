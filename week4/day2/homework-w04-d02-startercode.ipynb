{
 "cells": [
  {
   "cell_type": "markdown",
   "metadata": {},
   "source": [
    "# Homework w04d02 - Build your own kNN-classifier\n",
    "\n",
    "Build your own k-nearest-neighbours classifier by defining functions which \n",
    "1. calculate the Euclidean distance between points in the dataset, \n",
    "1. define a majority vote function which returns the most frequent class given a list of class labels (make sure to take into account the possibility of a tie), \n",
    "1. construct a kNN-classifier which takes a training set with labeled points, new points which have to be classified, the parameter k, and which makes use of the previous functions to assign class labels to the new points.\n",
    "1. Test your classifier on the iris dataset contained in sklearn. You can compare your results with the ones using the built-in kNN classifier. \n",
    "\n",
    "Hint: Start by restricting to only two of the four features and only two of the three class labels, that is the first 100 data points."
   ]
  },
  {
   "cell_type": "code",
   "execution_count": 1,
   "metadata": {
    "collapsed": true
   },
   "outputs": [],
   "source": [
    "from sklearn import datasets\n",
    "import pandas as pd\n",
    "import numpy as np\n",
    "from sklearn.model_selection import train_test_split\n",
    "from matplotlib import pyplot as plt\n",
    "import seaborn as sns\n",
    "%matplotlib inline"
   ]
  },
  {
   "cell_type": "code",
   "execution_count": 2,
   "metadata": {
    "collapsed": false
   },
   "outputs": [],
   "source": [
    "def calculate_distance(p, q, norm='l2'):\n",
    "    \"\"\"Takes two lists as the coordinates of two points and calculates the Euclidean distance between them.\"\"\"\n",
    "    # Assume points are tuples of ([x,y],label)\n",
    "    #return ((p[0]-q[0])**2 + (p[1]-q[1])**2 + other components ...) ** 0.5"
   ]
  },
  {
   "cell_type": "code",
   "execution_count": 3,
   "metadata": {
    "collapsed": false
   },
   "outputs": [
    {
     "name": "stdout",
     "output_type": "stream",
     "text": [
      "Counter({'b': 2, 'e': 2, 'd': 1}) b\n"
     ]
    }
   ],
   "source": [
    "# you might find this package useful, see what the example does\n",
    "import collections\n",
    "labels = ['b','b','d','e','e']\n",
    "print collections.Counter(labels), collections.Counter(labels).most_common(1)[0][0]"
   ]
  },
  {
   "cell_type": "code",
   "execution_count": 4,
   "metadata": {
    "collapsed": false
   },
   "outputs": [],
   "source": [
    "def neighbour_vote(labels):\n",
    "    \"\"\" Get the majority label from k neighbors.\"\"\"\n",
    "    # Is it possible to have a tie? How would you handle that?"
   ]
  },
  {
   "cell_type": "code",
   "execution_count": 5,
   "metadata": {
    "collapsed": false
   },
   "outputs": [],
   "source": [
    "def knn_classifier(labeled_points, new_point, k):\n",
    "    \"\"\" Given labeled points and one new point, return a label based on the votes of k neighbors.\"\"\"\n"
   ]
  },
  {
   "cell_type": "code",
   "execution_count": 6,
   "metadata": {
    "collapsed": false
   },
   "outputs": [],
   "source": [
    "# import the iris flower dataset\n",
    "iris = datasets.load_iris()\n",
    "X = iris.data[:, :]  \n",
    "y = iris.target[:]\n",
    "# Split 70/30 into initial data and new points to classify\n",
    "X_train, X_test, y_train, y_test = train_test_split(X, y, test_size=0.30, random_state=42)\n"
   ]
  },
  {
   "cell_type": "code",
   "execution_count": 7,
   "metadata": {
    "collapsed": false
   },
   "outputs": [],
   "source": [
    "#Iteratively classify new points in test_df, based on the labeled points in training_df, and track your accuracy.\n"
   ]
  },
  {
   "cell_type": "code",
   "execution_count": 8,
   "metadata": {
    "collapsed": false
   },
   "outputs": [],
   "source": [
    "# Calculate the number of misclassified points\n"
   ]
  },
  {
   "cell_type": "code",
   "execution_count": null,
   "metadata": {
    "collapsed": true
   },
   "outputs": [],
   "source": []
  }
 ],
 "metadata": {
  "anaconda-cloud": {},
  "kernelspec": {
   "display_name": "Python [default]",
   "language": "python",
   "name": "python2"
  },
  "language_info": {
   "codemirror_mode": {
    "name": "ipython",
    "version": 2
   },
   "file_extension": ".py",
   "mimetype": "text/x-python",
   "name": "python",
   "nbconvert_exporter": "python",
   "pygments_lexer": "ipython2",
   "version": "2.7.12"
  }
 },
 "nbformat": 4,
 "nbformat_minor": 0
}
