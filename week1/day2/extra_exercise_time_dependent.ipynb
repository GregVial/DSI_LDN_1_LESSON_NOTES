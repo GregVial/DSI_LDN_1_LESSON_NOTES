{
 "cells": [
  {
   "cell_type": "markdown",
   "metadata": {},
   "source": [
    "## Extra work time dependent for w01d02 - Bash, Python types"
   ]
  },
  {
   "cell_type": "markdown",
   "metadata": {},
   "source": [
    "Exercises: Bash\n",
    "\n",
    "1. Make a folder and add at least one file to it\n",
    "2. Compress the folder into a zip file\n",
    "Can you decompress it?\n",
    "3. Compress the folder as tar.gz file (tgz)\n",
    "Can you decompress it?\n",
    "4. Create a new file with a space in its name? (ex. File Name.txt)\n",
    "remove this file\n",
    "5. Create a file that contains the listing of all files in a certain directory\n",
    "repeat this for another folder"
   ]
  },
  {
   "cell_type": "markdown",
   "metadata": {},
   "source": [
    "Exercises: Python types\n",
    "\n",
    "What is the difference between a tuple and a list?\n",
    "Correct the errors in these:"
   ]
  },
  {
   "cell_type": "code",
   "execution_count": 3,
   "metadata": {
    "collapsed": false
   },
   "outputs": [],
   "source": [
    "# abc = ('a','b','c')\n",
    "abc = ['a','b','c'] # converted tuple to list as tuple is non mutable\n",
    "abc.append('d')"
   ]
  },
  {
   "cell_type": "code",
   "execution_count": 5,
   "metadata": {
    "collapsed": false
   },
   "outputs": [],
   "source": [
    "# abc = ('a','b','c')\n",
    "abc = ['a','b','c']  # converted tuple to list as tuple is non mutable\n",
    "abc[0] = 'A'\n",
    "abc[1] = 'B'\n",
    "abc[2] = 'C'"
   ]
  },
  {
   "cell_type": "code",
   "execution_count": 6,
   "metadata": {
    "collapsed": false
   },
   "outputs": [],
   "source": [
    "person = {'name':'John','age':25,'male':True,'height':'180cm'}"
   ]
  },
  {
   "cell_type": "code",
   "execution_count": 17,
   "metadata": {
    "collapsed": false
   },
   "outputs": [
    {
     "name": "stdout",
     "output_type": "stream",
     "text": [
      "0.5\n",
      "You need to pay 250.0 USD for this product\n"
     ]
    }
   ],
   "source": [
    "price_usd = 50.0\n",
    "weight_kg = 100\n",
    "price_per_kg = price_usd / weight_kg\n",
    "#print(price_per_kg)\n",
    "\n",
    "product_weight_kg = 500\n",
    "cost_product_usd =  price_per_kg * product_weight_kg\n",
    "print(\"You need to pay {0} USD for this product\").format(cost_product_usd)"
   ]
  },
  {
   "cell_type": "code",
   "execution_count": null,
   "metadata": {
    "collapsed": true
   },
   "outputs": [],
   "source": []
  }
 ],
 "metadata": {
  "anaconda-cloud": {},
  "kernelspec": {
   "display_name": "Python [conda root]",
   "language": "python",
   "name": "conda-root-py"
  },
  "language_info": {
   "codemirror_mode": {
    "name": "ipython",
    "version": 2
   },
   "file_extension": ".py",
   "mimetype": "text/x-python",
   "name": "python",
   "nbconvert_exporter": "python",
   "pygments_lexer": "ipython2",
   "version": "2.7.12"
  }
 },
 "nbformat": 4,
 "nbformat_minor": 1
}
