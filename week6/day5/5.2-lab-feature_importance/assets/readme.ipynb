{
 "cells": [
  {
   "cell_type": "markdown",
   "metadata": {},
   "source": [
    "---\n",
    "title: Model Comparison Lab\n",
    "type: lab\n",
    "duration: \"1:25\"\n",
    "creator:\n",
    "    name: Francesco Mosconi\n",
    "    city: SF\n",
    "---"
   ]
  },
  {
   "cell_type": "markdown",
   "metadata": {},
   "source": [
    "# ![](https://ga-dash.s3.amazonaws.com/production/assets/logo-9f88ae6c9c3871690e33280fcf557f33.png) Model Comparison Lab"
   ]
  },
  {
   "cell_type": "markdown",
   "metadata": {},
   "source": [
    "## Introduction\n",
    "\n",
    "In this lab we will compare the performance of all the models we have learned about so far, using the The [car evaluation dataset](https://archive.ics.uci.edu/ml/machine-learning-databases/car/). By now you should be very familiar with this dataset. In particular we will use a train-test split on the dataset to look at the following metrics:\n",
    "- accuracy score\n",
    "- confusion matrix\n",
    "- classification report\n",
    "\n",
    "for these models:\n",
    "- KNN\n",
    "- KNN + Bagging\n",
    "- Logistic Regression\n",
    "- Decision Trees\n",
    "- Support Vector Machines\n",
    "- Random Forest & Extra Trees"
   ]
  },
  {
   "cell_type": "markdown",
   "metadata": {},
   "source": [
    "## Exercise\n",
    "\n",
    "### Requirements\n",
    "\n",
    "1. Prepare the data: encode features, preprocessing\n",
    "- Useful preparation: define useful functions to avoid routine work\n",
    "- KNN\n",
    "    1. Evaluate performance of KNN\n",
    "    - Evaluate performance of Bagging + KNN\n",
    "- Evaluate performance of Logistic Regression\n",
    "- Evaluate performance of Decision Trees\n",
    "- Evaluate performance of Support Vector Machines\n",
    "- Evaluate performance of Random Forest & Extra Trees\n",
    "- Fina Model comparison\n",
    "\n",
    "**Bonus:**\n",
    "\n",
    "- Repeat the analysis using one hot encoding for the categorical features instead of the map to integer values. Do your results change?\n",
    "\n",
    "\n",
    "### Code\n",
    "\n",
    "[Starter Code](./code/starter-code/starter-code-3_4.ipynb)\n",
    "\n",
    ">[Solution Code](./code/solution-code/solution-code-3_4.ipynb)"
   ]
  },
  {
   "cell_type": "markdown",
   "metadata": {},
   "source": [
    "## Additional resources\n",
    "\n",
    "- [Car Evaluation dataset](http://archive.ics.uci.edu/ml/datasets/Car+Evaluation)\n",
    "- [Bagging Classifier](http://scikit-learn.org/stable/modules/generated/sklearn.ensemble.BaggingClassifier.html)\n",
    "- [Grid Search](http://scikit-learn.org/stable/modules/grid_search.html)"
   ]
  }
 ],
 "metadata": {
  "kernelspec": {
   "display_name": "Python 2",
   "language": "python",
   "name": "python2"
  },
  "language_info": {
   "codemirror_mode": {
    "name": "ipython",
    "version": 2
   },
   "file_extension": ".py",
   "mimetype": "text/x-python",
   "name": "python",
   "nbconvert_exporter": "python",
   "pygments_lexer": "ipython2",
   "version": "2.7.11"
  }
 },
 "nbformat": 4,
 "nbformat_minor": 0
}
