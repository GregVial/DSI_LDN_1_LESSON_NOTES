{
 "cells": [
  {
   "cell_type": "markdown",
   "metadata": {},
   "source": [
    "## Labs - Stats with Python"
   ]
  },
  {
   "cell_type": "markdown",
   "metadata": {},
   "source": [
    "Standard deviation is a number used to tell how measurements for a group are spread out from the average (mean), or expected value. A low standard deviation means that most of the numbers are very close to the average. A high standard deviation means that the numbers are spread out.\n",
    "\n",
    "Statisticians use variance to see how individual numbers relate to each other within a data set, rather than using broader mathematical techniques such as arranging numbers into quartiles. A drawback to variance is that it gives added weight to numbers far from the mean (outliers), since squaring these numbers can skew interpretations of the data.\n",
    "\n",
    "Requirements:\n",
    "- Write a function that computes the standard deviation of an array (try just a 1d array)\n",
    "- Write a function that computes the variance\n",
    "- Hint: what are the equations for these? The idea is to use numpy only to create the initial array but not its functions\n",
    "- Compare the results of your functions to the results of the numpy standard deviation and variance functions\n",
    "\n",
    "\n",
    "Bonus:\n",
    "- Adjust the function to deal with different array shapes (e.g. 2d, 3d)\n",
    "- Investigate how numpy implements these solutions and compare to your method"
   ]
  },
  {
   "cell_type": "code",
   "execution_count": 38,
   "metadata": {
    "collapsed": false
   },
   "outputs": [
    {
     "name": "stdout",
     "output_type": "stream",
     "text": [
      "[64 78  9 86 54 12 67 87 40  0]\n"
     ]
    }
   ],
   "source": [
    "from __future__ import division\n",
    "import random as rd\n",
    "l = [rd.randint(0,100)for _ in range(10)]\n",
    "l\n",
    "import numpy as np\n",
    "a = np.array(l)\n",
    "print(a)"
   ]
  },
  {
   "cell_type": "code",
   "execution_count": 25,
   "metadata": {
    "collapsed": false
   },
   "outputs": [
    {
     "name": "stdout",
     "output_type": "stream",
     "text": [
      "719.0\n"
     ]
    },
    {
     "data": {
      "text/plain": [
       "719.0"
      ]
     },
     "execution_count": 25,
     "metadata": {},
     "output_type": "execute_result"
    }
   ],
   "source": [
    "def var(arr):\n",
    "    mean = sum(arr)/len(arr)\n",
    "    deviance_sq = [(x - mean)**2 for x in arr]\n",
    "    sd = sum(deviance_sq)/len(deviance_sq)\n",
    "    return(sd)\n",
    "\n",
    "print(var(a))\n",
    "np.var(a)"
   ]
  },
  {
   "cell_type": "code",
   "execution_count": 26,
   "metadata": {
    "collapsed": false
   },
   "outputs": [
    {
     "name": "stdout",
     "output_type": "stream",
     "text": [
      "26.8141753556\n"
     ]
    },
    {
     "data": {
      "text/plain": [
       "26.814175355583846"
      ]
     },
     "execution_count": 26,
     "metadata": {},
     "output_type": "execute_result"
    }
   ],
   "source": [
    "def sd(arr):\n",
    "    return(np.sqrt(var(arr)))\n",
    "\n",
    "print(sd(a))\n",
    "np.std(a)"
   ]
  },
  {
   "cell_type": "code",
   "execution_count": 28,
   "metadata": {
    "collapsed": false
   },
   "outputs": [
    {
     "data": {
      "text/plain": [
       "array([[0, 1, 2],\n",
       "       [3, 4, 5],\n",
       "       [6, 7, 8]])"
      ]
     },
     "execution_count": 28,
     "metadata": {},
     "output_type": "execute_result"
    }
   ],
   "source": [
    "m = np.arange(9).reshape((3,3))\n",
    "m"
   ]
  },
  {
   "cell_type": "code",
   "execution_count": 46,
   "metadata": {
    "collapsed": false
   },
   "outputs": [
    {
     "name": "stdout",
     "output_type": "stream",
     "text": [
      "[[0 1 2]\n",
      " [3 4 5]\n",
      " [6 7 8]]\n",
      "[0 1 2 3 4 5 6 7 8]\n",
      "2.58198889747\n"
     ]
    },
    {
     "data": {
      "text/plain": [
       "2.5819888974716112"
      ]
     },
     "execution_count": 46,
     "metadata": {},
     "output_type": "execute_result"
    }
   ],
   "source": [
    "def sdnd(arr):\n",
    "    size = arr.size\n",
    "    print(arr)\n",
    "    arr1d = arr.reshape(1,size)[0]\n",
    "    print(arr1d)\n",
    "    return(sd(arr1d))\n",
    "\n",
    "print(sdnd(m))\n",
    "np.std(m)"
   ]
  },
  {
   "cell_type": "code",
   "execution_count": null,
   "metadata": {
    "collapsed": true
   },
   "outputs": [],
   "source": []
  }
 ],
 "metadata": {
  "anaconda-cloud": {},
  "kernelspec": {
   "display_name": "Python [conda root]",
   "language": "python",
   "name": "conda-root-py"
  },
  "language_info": {
   "codemirror_mode": {
    "name": "ipython",
    "version": 2
   },
   "file_extension": ".py",
   "mimetype": "text/x-python",
   "name": "python",
   "nbconvert_exporter": "python",
   "pygments_lexer": "ipython2",
   "version": "2.7.12"
  }
 },
 "nbformat": 4,
 "nbformat_minor": 1
}
