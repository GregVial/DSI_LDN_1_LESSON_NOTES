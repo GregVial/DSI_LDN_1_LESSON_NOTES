{
 "cells": [
  {
   "cell_type": "markdown",
   "metadata": {},
   "source": [
    "## Project 7\n",
    "In this project, you will implement the the clustering techniques that you've learned this week."
   ]
  },
  {
   "cell_type": "markdown",
   "metadata": {},
   "source": [
    "#### Step 1: Load the python libraries that you will need for this project"
   ]
  },
  {
   "cell_type": "code",
   "execution_count": 56,
   "metadata": {
    "collapsed": false
   },
   "outputs": [],
   "source": [
    "%matplotlib inline\n",
    "\n",
    "import pandas as pd \n",
    "import matplotlib as plt\n",
    "import numpy as np\n",
    "import sklearn as sk \n",
    "from scipy.stats import pearsonr, normaltest\n",
    "from sklearn import preprocessing\n",
    "from sklearn.decomposition import PCA\n",
    "from sklearn import metrics\n",
    "import warnings\n",
    "warnings.simplefilter(action = \"ignore\", category = FutureWarning) \n",
    "import os \n",
    "\n",
    "os.chdir(\"/Users/patricksmith/Desktop\")"
   ]
  },
  {
   "cell_type": "markdown",
   "metadata": {},
   "source": [
    "#### Step 2: Examine your data"
   ]
  },
  {
   "cell_type": "code",
   "execution_count": 12,
   "metadata": {
    "collapsed": false
   },
   "outputs": [
    {
     "name": "stdout",
     "output_type": "stream",
     "text": [
      "  airport  year  departures for metric computation  \\\n",
      "0     ABQ  2004                              53971   \n",
      "1     ABQ  2005                              51829   \n",
      "2     ABQ  2006                              49682   \n",
      "3     ABQ  2007                              53255   \n",
      "4     ABQ  2008                              49589   \n",
      "\n",
      "   arrivals for metric computation  percent on-time gate departures  \\\n",
      "0                            53818                           0.8030   \n",
      "1                            51877                           0.8140   \n",
      "2                            51199                           0.7983   \n",
      "3                            53611                           0.8005   \n",
      "4                            49512                           0.8103   \n",
      "\n",
      "   percent on-time airport departures  percent on-time gate arrivals  \\\n",
      "0                              0.7809                         0.7921   \n",
      "1                              0.7922                         0.8001   \n",
      "2                              0.7756                         0.7746   \n",
      "3                              0.7704                         0.7647   \n",
      "4                              0.7844                         0.7875   \n",
      "\n",
      "   average_gate_departure_delay  average_taxi_out_time  \\\n",
      "0                         10.38                   9.89   \n",
      "1                          9.60                   9.79   \n",
      "2                         10.84                   9.89   \n",
      "3                         11.29                  10.34   \n",
      "4                         10.79                  10.41   \n",
      "\n",
      "   average taxi out delay  average airport departure delay  \\\n",
      "0                    2.43                            12.10   \n",
      "1                    2.29                            11.20   \n",
      "2                    2.16                            12.33   \n",
      "3                    2.40                            12.95   \n",
      "4                    2.41                            12.32   \n",
      "\n",
      "   average airborne delay  average taxi in delay  average block delay  \\\n",
      "0                    2.46                   0.83                 2.55   \n",
      "1                    2.26                   0.89                 2.34   \n",
      "2                    2.12                   0.84                 2.66   \n",
      "3                    2.19                   1.29                 3.06   \n",
      "4                    1.82                   1.03                 2.79   \n",
      "\n",
      "   average gate arrival delay  \n",
      "0                       10.87  \n",
      "1                       10.24  \n",
      "2                       11.82  \n",
      "3                       12.71  \n",
      "4                       11.48  \n"
     ]
    }
   ],
   "source": [
    "df_raw = pd.read_csv(\"airport_operations.csv\")\n",
    "df = df_raw.dropna() \n",
    "print df.head()"
   ]
  },
  {
   "cell_type": "markdown",
   "metadata": {},
   "source": [
    "## Intro: Write a problem statement / aim for this project"
   ]
  },
  {
   "cell_type": "markdown",
   "metadata": {},
   "source": []
  },
  {
   "cell_type": "markdown",
   "metadata": {},
   "source": [
    "## Part 1: Create a PostgreSQL database"
   ]
  },
  {
   "cell_type": "markdown",
   "metadata": {},
   "source": [
    "#### 1. Let's create a database where we can house our airport data"
   ]
  },
  {
   "cell_type": "code",
   "execution_count": null,
   "metadata": {
    "collapsed": true
   },
   "outputs": [],
   "source": [
    "# Load a new PSQL Bash and start server\n",
    "psql -U postgres\n",
    "psql -D /usr/local/pgsql/data # User's CD\n",
    "\n",
    "# Create a new Database\n",
    "\n",
    "createdb mydb"
   ]
  },
  {
   "cell_type": "markdown",
   "metadata": {},
   "source": [
    "#### 2. Create tables for our data"
   ]
  },
  {
   "cell_type": "code",
   "execution_count": null,
   "metadata": {
    "collapsed": true
   },
   "outputs": [],
   "source": [
    "CREATE TABLE airport1 (\n",
    "    airport varchar(80)\n",
    "    year date, \n",
    "    departure_cancellations int\n",
    "    arrival_cancellations int\n",
    ");\n",
    "\n",
    "CREATE TABLE airport2 (\n",
    "    airport varchar(80),\n",
    "    year date,\n",
    "    average_gate_departure_delay int\n",
    "    average_taxi_out_time int\n",
    ");"
   ]
  },
  {
   "cell_type": "markdown",
   "metadata": {},
   "source": [
    "#### 3. Load our csv files into tables"
   ]
  },
  {
   "cell_type": "code",
   "execution_count": null,
   "metadata": {
    "collapsed": true
   },
   "outputs": [],
   "source": [
    "COPY airport_cancels (airport, year, average_gate_departure_delay, average_taxi_out_time) FROM '.../airport_operations.csv' WITH (FORMAT CSV)\n",
    "COPY airport_ops (airport, year, departure_cancellations, arrival_cancellations) FROM '.../airport_cancellations.csv' WITH (FORMAT CSV)"
   ]
  },
  {
   "cell_type": "markdown",
   "metadata": {},
   "source": [
    "#### 4. Merge the Tables"
   ]
  },
  {
   "cell_type": "code",
   "execution_count": null,
   "metadata": {
    "collapsed": true
   },
   "outputs": [],
   "source": [
    "SELECT * from airport_ops\n",
    "LEFT JOIN airport_cancels\n",
    "ON\n",
    "  airport_cancels.date = airport_ops.date AND airport_cancels.airport = airport_ops.airport"
   ]
  },
  {
   "cell_type": "markdown",
   "metadata": {},
   "source": [
    "#### 5. Query the database for our intial data"
   ]
  },
  {
   "cell_type": "code",
   "execution_count": null,
   "metadata": {
    "collapsed": true
   },
   "outputs": [],
   "source": [
    "cur = conn.cursor()\n",
    "cur.execute(\"\"\"SELECT * FROM airport_ops\"\"\")\n",
    "df = cur.fetchall()\n",
    "print(df)"
   ]
  },
  {
   "cell_type": "markdown",
   "metadata": {},
   "source": [
    "#### 6. What are the risks and assumptions of our data?"
   ]
  },
  {
   "cell_type": "markdown",
   "metadata": {},
   "source": [
    "Answer: Since we do not know the source of the data, we cannot take the data quality for granted. Any correlation / relationship that we discover upon analyzing the data may be due to a discrepency in human error. Therefore, we assume that our data is accurate."
   ]
  },
  {
   "cell_type": "markdown",
   "metadata": {},
   "source": [
    "## Part 2: Exploratory Data Analysis"
   ]
  },
  {
   "cell_type": "markdown",
   "metadata": {},
   "source": [
    "#### 2.1 Plot and Describe the Data"
   ]
  },
  {
   "cell_type": "code",
   "execution_count": 13,
   "metadata": {
    "collapsed": false
   },
   "outputs": [
    {
     "data": {
      "text/html": [
       "<div>\n",
       "<table border=\"1\" class=\"dataframe\">\n",
       "  <thead>\n",
       "    <tr style=\"text-align: right;\">\n",
       "      <th></th>\n",
       "      <th>airport</th>\n",
       "      <th>year</th>\n",
       "      <th>departures for metric computation</th>\n",
       "      <th>arrivals for metric computation</th>\n",
       "      <th>percent on-time gate departures</th>\n",
       "      <th>percent on-time airport departures</th>\n",
       "      <th>percent on-time gate arrivals</th>\n",
       "      <th>average_gate_departure_delay</th>\n",
       "      <th>average_taxi_out_time</th>\n",
       "      <th>average taxi out delay</th>\n",
       "      <th>average airport departure delay</th>\n",
       "      <th>average airborne delay</th>\n",
       "      <th>average taxi in delay</th>\n",
       "      <th>average block delay</th>\n",
       "      <th>average gate arrival delay</th>\n",
       "    </tr>\n",
       "  </thead>\n",
       "  <tbody>\n",
       "    <tr>\n",
       "      <th>0</th>\n",
       "      <td>ABQ</td>\n",
       "      <td>2004</td>\n",
       "      <td>53971</td>\n",
       "      <td>53818</td>\n",
       "      <td>0.8030</td>\n",
       "      <td>0.7809</td>\n",
       "      <td>0.7921</td>\n",
       "      <td>10.38</td>\n",
       "      <td>9.89</td>\n",
       "      <td>2.43</td>\n",
       "      <td>12.10</td>\n",
       "      <td>2.46</td>\n",
       "      <td>0.83</td>\n",
       "      <td>2.55</td>\n",
       "      <td>10.87</td>\n",
       "    </tr>\n",
       "    <tr>\n",
       "      <th>1</th>\n",
       "      <td>ABQ</td>\n",
       "      <td>2005</td>\n",
       "      <td>51829</td>\n",
       "      <td>51877</td>\n",
       "      <td>0.8140</td>\n",
       "      <td>0.7922</td>\n",
       "      <td>0.8001</td>\n",
       "      <td>9.60</td>\n",
       "      <td>9.79</td>\n",
       "      <td>2.29</td>\n",
       "      <td>11.20</td>\n",
       "      <td>2.26</td>\n",
       "      <td>0.89</td>\n",
       "      <td>2.34</td>\n",
       "      <td>10.24</td>\n",
       "    </tr>\n",
       "    <tr>\n",
       "      <th>2</th>\n",
       "      <td>ABQ</td>\n",
       "      <td>2006</td>\n",
       "      <td>49682</td>\n",
       "      <td>51199</td>\n",
       "      <td>0.7983</td>\n",
       "      <td>0.7756</td>\n",
       "      <td>0.7746</td>\n",
       "      <td>10.84</td>\n",
       "      <td>9.89</td>\n",
       "      <td>2.16</td>\n",
       "      <td>12.33</td>\n",
       "      <td>2.12</td>\n",
       "      <td>0.84</td>\n",
       "      <td>2.66</td>\n",
       "      <td>11.82</td>\n",
       "    </tr>\n",
       "    <tr>\n",
       "      <th>3</th>\n",
       "      <td>ABQ</td>\n",
       "      <td>2007</td>\n",
       "      <td>53255</td>\n",
       "      <td>53611</td>\n",
       "      <td>0.8005</td>\n",
       "      <td>0.7704</td>\n",
       "      <td>0.7647</td>\n",
       "      <td>11.29</td>\n",
       "      <td>10.34</td>\n",
       "      <td>2.40</td>\n",
       "      <td>12.95</td>\n",
       "      <td>2.19</td>\n",
       "      <td>1.29</td>\n",
       "      <td>3.06</td>\n",
       "      <td>12.71</td>\n",
       "    </tr>\n",
       "    <tr>\n",
       "      <th>4</th>\n",
       "      <td>ABQ</td>\n",
       "      <td>2008</td>\n",
       "      <td>49589</td>\n",
       "      <td>49512</td>\n",
       "      <td>0.8103</td>\n",
       "      <td>0.7844</td>\n",
       "      <td>0.7875</td>\n",
       "      <td>10.79</td>\n",
       "      <td>10.41</td>\n",
       "      <td>2.41</td>\n",
       "      <td>12.32</td>\n",
       "      <td>1.82</td>\n",
       "      <td>1.03</td>\n",
       "      <td>2.79</td>\n",
       "      <td>11.48</td>\n",
       "    </tr>\n",
       "    <tr>\n",
       "      <th>5</th>\n",
       "      <td>ABQ</td>\n",
       "      <td>2009</td>\n",
       "      <td>42550</td>\n",
       "      <td>42704</td>\n",
       "      <td>0.8341</td>\n",
       "      <td>0.8147</td>\n",
       "      <td>0.8224</td>\n",
       "      <td>9.24</td>\n",
       "      <td>9.88</td>\n",
       "      <td>1.89</td>\n",
       "      <td>10.45</td>\n",
       "      <td>1.74</td>\n",
       "      <td>0.92</td>\n",
       "      <td>1.98</td>\n",
       "      <td>9.27</td>\n",
       "    </tr>\n",
       "    <tr>\n",
       "      <th>6</th>\n",
       "      <td>ABQ</td>\n",
       "      <td>2010</td>\n",
       "      <td>42302</td>\n",
       "      <td>42169</td>\n",
       "      <td>0.8144</td>\n",
       "      <td>0.7907</td>\n",
       "      <td>0.8047</td>\n",
       "      <td>10.25</td>\n",
       "      <td>9.95</td>\n",
       "      <td>2.05</td>\n",
       "      <td>11.58</td>\n",
       "      <td>1.66</td>\n",
       "      <td>0.95</td>\n",
       "      <td>1.90</td>\n",
       "      <td>10.23</td>\n",
       "    </tr>\n",
       "    <tr>\n",
       "      <th>7</th>\n",
       "      <td>ABQ</td>\n",
       "      <td>2011</td>\n",
       "      <td>42283</td>\n",
       "      <td>42297</td>\n",
       "      <td>0.8072</td>\n",
       "      <td>0.7758</td>\n",
       "      <td>0.8022</td>\n",
       "      <td>10.81</td>\n",
       "      <td>10.50</td>\n",
       "      <td>2.51</td>\n",
       "      <td>12.57</td>\n",
       "      <td>1.58</td>\n",
       "      <td>0.84</td>\n",
       "      <td>1.87</td>\n",
       "      <td>10.63</td>\n",
       "    </tr>\n",
       "    <tr>\n",
       "      <th>8</th>\n",
       "      <td>ABQ</td>\n",
       "      <td>2012</td>\n",
       "      <td>39105</td>\n",
       "      <td>39107</td>\n",
       "      <td>0.8219</td>\n",
       "      <td>0.7940</td>\n",
       "      <td>0.8177</td>\n",
       "      <td>10.55</td>\n",
       "      <td>10.27</td>\n",
       "      <td>2.32</td>\n",
       "      <td>12.11</td>\n",
       "      <td>1.41</td>\n",
       "      <td>0.98</td>\n",
       "      <td>1.80</td>\n",
       "      <td>9.73</td>\n",
       "    </tr>\n",
       "    <tr>\n",
       "      <th>9</th>\n",
       "      <td>ABQ</td>\n",
       "      <td>2013</td>\n",
       "      <td>35277</td>\n",
       "      <td>34989</td>\n",
       "      <td>0.7710</td>\n",
       "      <td>0.7402</td>\n",
       "      <td>0.7554</td>\n",
       "      <td>12.56</td>\n",
       "      <td>10.77</td>\n",
       "      <td>2.64</td>\n",
       "      <td>14.28</td>\n",
       "      <td>1.60</td>\n",
       "      <td>0.92</td>\n",
       "      <td>2.35</td>\n",
       "      <td>12.76</td>\n",
       "    </tr>\n",
       "  </tbody>\n",
       "</table>\n",
       "</div>"
      ],
      "text/plain": [
       "  airport  year  departures for metric computation  \\\n",
       "0     ABQ  2004                              53971   \n",
       "1     ABQ  2005                              51829   \n",
       "2     ABQ  2006                              49682   \n",
       "3     ABQ  2007                              53255   \n",
       "4     ABQ  2008                              49589   \n",
       "5     ABQ  2009                              42550   \n",
       "6     ABQ  2010                              42302   \n",
       "7     ABQ  2011                              42283   \n",
       "8     ABQ  2012                              39105   \n",
       "9     ABQ  2013                              35277   \n",
       "\n",
       "   arrivals for metric computation  percent on-time gate departures  \\\n",
       "0                            53818                           0.8030   \n",
       "1                            51877                           0.8140   \n",
       "2                            51199                           0.7983   \n",
       "3                            53611                           0.8005   \n",
       "4                            49512                           0.8103   \n",
       "5                            42704                           0.8341   \n",
       "6                            42169                           0.8144   \n",
       "7                            42297                           0.8072   \n",
       "8                            39107                           0.8219   \n",
       "9                            34989                           0.7710   \n",
       "\n",
       "   percent on-time airport departures  percent on-time gate arrivals  \\\n",
       "0                              0.7809                         0.7921   \n",
       "1                              0.7922                         0.8001   \n",
       "2                              0.7756                         0.7746   \n",
       "3                              0.7704                         0.7647   \n",
       "4                              0.7844                         0.7875   \n",
       "5                              0.8147                         0.8224   \n",
       "6                              0.7907                         0.8047   \n",
       "7                              0.7758                         0.8022   \n",
       "8                              0.7940                         0.8177   \n",
       "9                              0.7402                         0.7554   \n",
       "\n",
       "   average_gate_departure_delay  average_taxi_out_time  \\\n",
       "0                         10.38                   9.89   \n",
       "1                          9.60                   9.79   \n",
       "2                         10.84                   9.89   \n",
       "3                         11.29                  10.34   \n",
       "4                         10.79                  10.41   \n",
       "5                          9.24                   9.88   \n",
       "6                         10.25                   9.95   \n",
       "7                         10.81                  10.50   \n",
       "8                         10.55                  10.27   \n",
       "9                         12.56                  10.77   \n",
       "\n",
       "   average taxi out delay  average airport departure delay  \\\n",
       "0                    2.43                            12.10   \n",
       "1                    2.29                            11.20   \n",
       "2                    2.16                            12.33   \n",
       "3                    2.40                            12.95   \n",
       "4                    2.41                            12.32   \n",
       "5                    1.89                            10.45   \n",
       "6                    2.05                            11.58   \n",
       "7                    2.51                            12.57   \n",
       "8                    2.32                            12.11   \n",
       "9                    2.64                            14.28   \n",
       "\n",
       "   average airborne delay  average taxi in delay  average block delay  \\\n",
       "0                    2.46                   0.83                 2.55   \n",
       "1                    2.26                   0.89                 2.34   \n",
       "2                    2.12                   0.84                 2.66   \n",
       "3                    2.19                   1.29                 3.06   \n",
       "4                    1.82                   1.03                 2.79   \n",
       "5                    1.74                   0.92                 1.98   \n",
       "6                    1.66                   0.95                 1.90   \n",
       "7                    1.58                   0.84                 1.87   \n",
       "8                    1.41                   0.98                 1.80   \n",
       "9                    1.60                   0.92                 2.35   \n",
       "\n",
       "   average gate arrival delay  \n",
       "0                       10.87  \n",
       "1                       10.24  \n",
       "2                       11.82  \n",
       "3                       12.71  \n",
       "4                       11.48  \n",
       "5                        9.27  \n",
       "6                       10.23  \n",
       "7                       10.63  \n",
       "8                        9.73  \n",
       "9                       12.76  "
      ]
     },
     "execution_count": 13,
     "metadata": {},
     "output_type": "execute_result"
    }
   ],
   "source": [
    "df.head(10)"
   ]
  },
  {
   "cell_type": "code",
   "execution_count": 15,
   "metadata": {
    "collapsed": false
   },
   "outputs": [
    {
     "data": {
      "text/html": [
       "<div>\n",
       "<table border=\"1\" class=\"dataframe\">\n",
       "  <thead>\n",
       "    <tr style=\"text-align: right;\">\n",
       "      <th></th>\n",
       "      <th>year</th>\n",
       "      <th>departures for metric computation</th>\n",
       "      <th>arrivals for metric computation</th>\n",
       "      <th>percent on-time gate departures</th>\n",
       "      <th>percent on-time airport departures</th>\n",
       "      <th>percent on-time gate arrivals</th>\n",
       "      <th>average_gate_departure_delay</th>\n",
       "      <th>average_taxi_out_time</th>\n",
       "      <th>average taxi out delay</th>\n",
       "      <th>average airport departure delay</th>\n",
       "      <th>average airborne delay</th>\n",
       "      <th>average taxi in delay</th>\n",
       "      <th>average block delay</th>\n",
       "      <th>average gate arrival delay</th>\n",
       "    </tr>\n",
       "  </thead>\n",
       "  <tbody>\n",
       "    <tr>\n",
       "      <th>count</th>\n",
       "      <td>841.000000</td>\n",
       "      <td>841.000000</td>\n",
       "      <td>841.000000</td>\n",
       "      <td>841.000000</td>\n",
       "      <td>841.000000</td>\n",
       "      <td>841.000000</td>\n",
       "      <td>841.000000</td>\n",
       "      <td>841.000000</td>\n",
       "      <td>841.000000</td>\n",
       "      <td>841.000000</td>\n",
       "      <td>841.000000</td>\n",
       "      <td>841.000000</td>\n",
       "      <td>841.000000</td>\n",
       "      <td>841.000000</td>\n",
       "    </tr>\n",
       "    <tr>\n",
       "      <th>mean</th>\n",
       "      <td>2009.028537</td>\n",
       "      <td>108257.063020</td>\n",
       "      <td>107815.561237</td>\n",
       "      <td>0.764119</td>\n",
       "      <td>0.714283</td>\n",
       "      <td>0.754281</td>\n",
       "      <td>13.561403</td>\n",
       "      <td>13.703389</td>\n",
       "      <td>3.519750</td>\n",
       "      <td>16.249964</td>\n",
       "      <td>2.921237</td>\n",
       "      <td>1.348894</td>\n",
       "      <td>3.330773</td>\n",
       "      <td>14.013222</td>\n",
       "    </tr>\n",
       "    <tr>\n",
       "      <th>std</th>\n",
       "      <td>3.156497</td>\n",
       "      <td>98278.401526</td>\n",
       "      <td>97916.908601</td>\n",
       "      <td>0.093361</td>\n",
       "      <td>0.101271</td>\n",
       "      <td>0.082302</td>\n",
       "      <td>4.746563</td>\n",
       "      <td>3.792181</td>\n",
       "      <td>2.391278</td>\n",
       "      <td>5.353012</td>\n",
       "      <td>1.201453</td>\n",
       "      <td>0.882252</td>\n",
       "      <td>1.026872</td>\n",
       "      <td>4.482215</td>\n",
       "    </tr>\n",
       "    <tr>\n",
       "      <th>min</th>\n",
       "      <td>2004.000000</td>\n",
       "      <td>261.000000</td>\n",
       "      <td>259.000000</td>\n",
       "      <td>0.246700</td>\n",
       "      <td>0.245700</td>\n",
       "      <td>0.324100</td>\n",
       "      <td>5.350000</td>\n",
       "      <td>7.040000</td>\n",
       "      <td>0.000000</td>\n",
       "      <td>6.290000</td>\n",
       "      <td>0.950000</td>\n",
       "      <td>0.000000</td>\n",
       "      <td>1.230000</td>\n",
       "      <td>6.330000</td>\n",
       "    </tr>\n",
       "    <tr>\n",
       "      <th>25%</th>\n",
       "      <td>2006.000000</td>\n",
       "      <td>37653.000000</td>\n",
       "      <td>37502.000000</td>\n",
       "      <td>0.745700</td>\n",
       "      <td>0.684800</td>\n",
       "      <td>0.737500</td>\n",
       "      <td>10.910000</td>\n",
       "      <td>11.260000</td>\n",
       "      <td>2.210000</td>\n",
       "      <td>12.950000</td>\n",
       "      <td>2.050000</td>\n",
       "      <td>0.800000</td>\n",
       "      <td>2.630000</td>\n",
       "      <td>11.300000</td>\n",
       "    </tr>\n",
       "    <tr>\n",
       "      <th>50%</th>\n",
       "      <td>2009.000000</td>\n",
       "      <td>72043.000000</td>\n",
       "      <td>71254.000000</td>\n",
       "      <td>0.782500</td>\n",
       "      <td>0.737200</td>\n",
       "      <td>0.768300</td>\n",
       "      <td>12.640000</td>\n",
       "      <td>12.810000</td>\n",
       "      <td>2.990000</td>\n",
       "      <td>15.220000</td>\n",
       "      <td>2.650000</td>\n",
       "      <td>1.080000</td>\n",
       "      <td>3.160000</td>\n",
       "      <td>13.080000</td>\n",
       "    </tr>\n",
       "    <tr>\n",
       "      <th>75%</th>\n",
       "      <td>2012.000000</td>\n",
       "      <td>162913.000000</td>\n",
       "      <td>160775.000000</td>\n",
       "      <td>0.809800</td>\n",
       "      <td>0.772200</td>\n",
       "      <td>0.796500</td>\n",
       "      <td>14.950000</td>\n",
       "      <td>15.650000</td>\n",
       "      <td>4.080000</td>\n",
       "      <td>17.940000</td>\n",
       "      <td>3.620000</td>\n",
       "      <td>1.740000</td>\n",
       "      <td>3.860000</td>\n",
       "      <td>15.250000</td>\n",
       "    </tr>\n",
       "    <tr>\n",
       "      <th>max</th>\n",
       "      <td>2014.000000</td>\n",
       "      <td>491826.000000</td>\n",
       "      <td>486799.000000</td>\n",
       "      <td>0.909700</td>\n",
       "      <td>0.897400</td>\n",
       "      <td>0.880300</td>\n",
       "      <td>40.800000</td>\n",
       "      <td>35.760000</td>\n",
       "      <td>18.940000</td>\n",
       "      <td>40.870000</td>\n",
       "      <td>7.820000</td>\n",
       "      <td>6.180000</td>\n",
       "      <td>7.520000</td>\n",
       "      <td>34.880000</td>\n",
       "    </tr>\n",
       "  </tbody>\n",
       "</table>\n",
       "</div>"
      ],
      "text/plain": [
       "              year  departures for metric computation  \\\n",
       "count   841.000000                         841.000000   \n",
       "mean   2009.028537                      108257.063020   \n",
       "std       3.156497                       98278.401526   \n",
       "min    2004.000000                         261.000000   \n",
       "25%    2006.000000                       37653.000000   \n",
       "50%    2009.000000                       72043.000000   \n",
       "75%    2012.000000                      162913.000000   \n",
       "max    2014.000000                      491826.000000   \n",
       "\n",
       "       arrivals for metric computation  percent on-time gate departures  \\\n",
       "count                       841.000000                       841.000000   \n",
       "mean                     107815.561237                         0.764119   \n",
       "std                       97916.908601                         0.093361   \n",
       "min                         259.000000                         0.246700   \n",
       "25%                       37502.000000                         0.745700   \n",
       "50%                       71254.000000                         0.782500   \n",
       "75%                      160775.000000                         0.809800   \n",
       "max                      486799.000000                         0.909700   \n",
       "\n",
       "       percent on-time airport departures  percent on-time gate arrivals  \\\n",
       "count                          841.000000                     841.000000   \n",
       "mean                             0.714283                       0.754281   \n",
       "std                              0.101271                       0.082302   \n",
       "min                              0.245700                       0.324100   \n",
       "25%                              0.684800                       0.737500   \n",
       "50%                              0.737200                       0.768300   \n",
       "75%                              0.772200                       0.796500   \n",
       "max                              0.897400                       0.880300   \n",
       "\n",
       "       average_gate_departure_delay  average_taxi_out_time  \\\n",
       "count                    841.000000             841.000000   \n",
       "mean                      13.561403              13.703389   \n",
       "std                        4.746563               3.792181   \n",
       "min                        5.350000               7.040000   \n",
       "25%                       10.910000              11.260000   \n",
       "50%                       12.640000              12.810000   \n",
       "75%                       14.950000              15.650000   \n",
       "max                       40.800000              35.760000   \n",
       "\n",
       "       average taxi out delay  average airport departure delay  \\\n",
       "count              841.000000                       841.000000   \n",
       "mean                 3.519750                        16.249964   \n",
       "std                  2.391278                         5.353012   \n",
       "min                  0.000000                         6.290000   \n",
       "25%                  2.210000                        12.950000   \n",
       "50%                  2.990000                        15.220000   \n",
       "75%                  4.080000                        17.940000   \n",
       "max                 18.940000                        40.870000   \n",
       "\n",
       "       average airborne delay  average taxi in delay  average block delay  \\\n",
       "count              841.000000             841.000000           841.000000   \n",
       "mean                 2.921237               1.348894             3.330773   \n",
       "std                  1.201453               0.882252             1.026872   \n",
       "min                  0.950000               0.000000             1.230000   \n",
       "25%                  2.050000               0.800000             2.630000   \n",
       "50%                  2.650000               1.080000             3.160000   \n",
       "75%                  3.620000               1.740000             3.860000   \n",
       "max                  7.820000               6.180000             7.520000   \n",
       "\n",
       "       average gate arrival delay  \n",
       "count                  841.000000  \n",
       "mean                    14.013222  \n",
       "std                      4.482215  \n",
       "min                      6.330000  \n",
       "25%                     11.300000  \n",
       "50%                     13.080000  \n",
       "75%                     15.250000  \n",
       "max                     34.880000  "
      ]
     },
     "execution_count": 15,
     "metadata": {},
     "output_type": "execute_result"
    }
   ],
   "source": [
    "df.describe()"
   ]
  },
  {
   "cell_type": "code",
   "execution_count": 14,
   "metadata": {
    "collapsed": false
   },
   "outputs": [
    {
     "data": {
      "text/plain": [
       "<matplotlib.axes._subplots.AxesSubplot at 0x1142fec10>"
      ]
     },
     "execution_count": 14,
     "metadata": {},
     "output_type": "execute_result"
    },
    {
     "data": {
      "image/png": "[encoded data removed]",
      "text/plain": [
       "<matplotlib.figure.Figure at 0x1142fe350>"
      ]
     },
     "metadata": {},
     "output_type": "display_data"
    }
   ],
   "source": [
    "df['average_taxi_out_time'].plot(kind='hist', alpha=0.5)"
   ]
  },
  {
   "cell_type": "code",
   "execution_count": 16,
   "metadata": {
    "collapsed": false
   },
   "outputs": [
    {
     "data": {
      "text/plain": [
       "{'boxes': [<matplotlib.lines.Line2D at 0x114799ed0>],\n",
       " 'caps': [<matplotlib.lines.Line2D at 0x1147abe10>,\n",
       "  <matplotlib.lines.Line2D at 0x1147b7490>],\n",
       " 'fliers': [<matplotlib.lines.Line2D at 0x116fb60d0>],\n",
       " 'means': [],\n",
       " 'medians': [<matplotlib.lines.Line2D at 0x1147b7ad0>],\n",
       " 'whiskers': [<matplotlib.lines.Line2D at 0x1147ab110>,\n",
       "  <matplotlib.lines.Line2D at 0x1147ab7d0>]}"
      ]
     },
     "execution_count": 16,
     "metadata": {},
     "output_type": "execute_result"
    },
    {
     "data": {
      "image/png": "[encoded data removed]",
      "text/plain": [
       "<matplotlib.figure.Figure at 0x1143cc690>"
      ]
     },
     "metadata": {},
     "output_type": "display_data"
    }
   ],
   "source": [
    "df.boxplot(column='average_taxi_out_time')"
   ]
  },
  {
   "cell_type": "markdown",
   "metadata": {},
   "source": [
    "## Part 3: Data Mining"
   ]
  },
  {
   "cell_type": "markdown",
   "metadata": {},
   "source": [
    "#### Are there any unique values?"
   ]
  },
  {
   "cell_type": "code",
   "execution_count": 20,
   "metadata": {
    "collapsed": false
   },
   "outputs": [
    {
     "data": {
      "text/plain": [
       "array(['ABQ', 'ANC', 'ATL', 'AUS', 'BDL', 'BHM', 'BNA', 'BOS', 'BUF',\n",
       "       'BUR', 'BWI', 'CLE', 'CLT', 'CVG', 'DAL', 'DAY', 'DCA', 'DEN',\n",
       "       'DFW', 'DTW', 'EWR', 'FLL', 'GYY', 'HNL', 'HOU', 'HPN', 'IAD',\n",
       "       'IAH', 'IND', 'ISP', 'JAX', 'JFK', 'LAS', 'LAX', 'LGA', 'LGB',\n",
       "       'MCI', 'MCO', 'MDW', 'MEM', 'MHT', 'MIA', 'MKE', 'MSP', 'MSY',\n",
       "       'OAK', 'OGG', 'OMA', 'ONT', 'ORD', 'OXR', 'PBI', 'PDX', 'PHL',\n",
       "       'PHX', 'PIT', 'PSP', 'PVD', 'RDU', 'RFD', 'RSW', 'SAN', 'SAT',\n",
       "       'SDF', 'SEA', 'SFO', 'SJC', 'SJU', 'SLC', 'SMF', 'SNA', 'STL',\n",
       "       'SWF', 'TEB', 'TPA', 'TUS', 'VNY'], dtype=object)"
      ]
     },
     "execution_count": 20,
     "metadata": {},
     "output_type": "execute_result"
    }
   ],
   "source": [
    "##Check for Unique Values \n",
    "\n",
    "df.airport.unique()"
   ]
  },
  {
   "cell_type": "markdown",
   "metadata": {},
   "source": [
    "#### 3.1 Create Dummy Variables"
   ]
  },
  {
   "cell_type": "code",
   "execution_count": 22,
   "metadata": {
    "collapsed": true
   },
   "outputs": [],
   "source": [
    "leAir = preprocessing.LabelEncoder()\n",
    "df.airport = leAir.fit_transform(df.airport)"
   ]
  },
  {
   "cell_type": "code",
   "execution_count": 23,
   "metadata": {
    "collapsed": false
   },
   "outputs": [
    {
     "data": {
      "text/html": [
       "<div>\n",
       "<table border=\"1\" class=\"dataframe\">\n",
       "  <thead>\n",
       "    <tr style=\"text-align: right;\">\n",
       "      <th></th>\n",
       "      <th>airport</th>\n",
       "      <th>year</th>\n",
       "      <th>departures for metric computation</th>\n",
       "      <th>arrivals for metric computation</th>\n",
       "      <th>percent on-time gate departures</th>\n",
       "      <th>percent on-time airport departures</th>\n",
       "      <th>percent on-time gate arrivals</th>\n",
       "      <th>average_gate_departure_delay</th>\n",
       "      <th>average_taxi_out_time</th>\n",
       "      <th>average taxi out delay</th>\n",
       "      <th>average airport departure delay</th>\n",
       "      <th>average airborne delay</th>\n",
       "      <th>average taxi in delay</th>\n",
       "      <th>average block delay</th>\n",
       "      <th>average gate arrival delay</th>\n",
       "    </tr>\n",
       "  </thead>\n",
       "  <tbody>\n",
       "    <tr>\n",
       "      <th>0</th>\n",
       "      <td>0</td>\n",
       "      <td>2004</td>\n",
       "      <td>53971</td>\n",
       "      <td>53818</td>\n",
       "      <td>0.8030</td>\n",
       "      <td>0.7809</td>\n",
       "      <td>0.7921</td>\n",
       "      <td>10.38</td>\n",
       "      <td>9.89</td>\n",
       "      <td>2.43</td>\n",
       "      <td>12.10</td>\n",
       "      <td>2.46</td>\n",
       "      <td>0.83</td>\n",
       "      <td>2.55</td>\n",
       "      <td>10.87</td>\n",
       "    </tr>\n",
       "    <tr>\n",
       "      <th>1</th>\n",
       "      <td>0</td>\n",
       "      <td>2005</td>\n",
       "      <td>51829</td>\n",
       "      <td>51877</td>\n",
       "      <td>0.8140</td>\n",
       "      <td>0.7922</td>\n",
       "      <td>0.8001</td>\n",
       "      <td>9.60</td>\n",
       "      <td>9.79</td>\n",
       "      <td>2.29</td>\n",
       "      <td>11.20</td>\n",
       "      <td>2.26</td>\n",
       "      <td>0.89</td>\n",
       "      <td>2.34</td>\n",
       "      <td>10.24</td>\n",
       "    </tr>\n",
       "    <tr>\n",
       "      <th>2</th>\n",
       "      <td>0</td>\n",
       "      <td>2006</td>\n",
       "      <td>49682</td>\n",
       "      <td>51199</td>\n",
       "      <td>0.7983</td>\n",
       "      <td>0.7756</td>\n",
       "      <td>0.7746</td>\n",
       "      <td>10.84</td>\n",
       "      <td>9.89</td>\n",
       "      <td>2.16</td>\n",
       "      <td>12.33</td>\n",
       "      <td>2.12</td>\n",
       "      <td>0.84</td>\n",
       "      <td>2.66</td>\n",
       "      <td>11.82</td>\n",
       "    </tr>\n",
       "    <tr>\n",
       "      <th>3</th>\n",
       "      <td>0</td>\n",
       "      <td>2007</td>\n",
       "      <td>53255</td>\n",
       "      <td>53611</td>\n",
       "      <td>0.8005</td>\n",
       "      <td>0.7704</td>\n",
       "      <td>0.7647</td>\n",
       "      <td>11.29</td>\n",
       "      <td>10.34</td>\n",
       "      <td>2.40</td>\n",
       "      <td>12.95</td>\n",
       "      <td>2.19</td>\n",
       "      <td>1.29</td>\n",
       "      <td>3.06</td>\n",
       "      <td>12.71</td>\n",
       "    </tr>\n",
       "    <tr>\n",
       "      <th>4</th>\n",
       "      <td>0</td>\n",
       "      <td>2008</td>\n",
       "      <td>49589</td>\n",
       "      <td>49512</td>\n",
       "      <td>0.8103</td>\n",
       "      <td>0.7844</td>\n",
       "      <td>0.7875</td>\n",
       "      <td>10.79</td>\n",
       "      <td>10.41</td>\n",
       "      <td>2.41</td>\n",
       "      <td>12.32</td>\n",
       "      <td>1.82</td>\n",
       "      <td>1.03</td>\n",
       "      <td>2.79</td>\n",
       "      <td>11.48</td>\n",
       "    </tr>\n",
       "  </tbody>\n",
       "</table>\n",
       "</div>"
      ],
      "text/plain": [
       "   airport  year  departures for metric computation  \\\n",
       "0        0  2004                              53971   \n",
       "1        0  2005                              51829   \n",
       "2        0  2006                              49682   \n",
       "3        0  2007                              53255   \n",
       "4        0  2008                              49589   \n",
       "\n",
       "   arrivals for metric computation  percent on-time gate departures  \\\n",
       "0                            53818                           0.8030   \n",
       "1                            51877                           0.8140   \n",
       "2                            51199                           0.7983   \n",
       "3                            53611                           0.8005   \n",
       "4                            49512                           0.8103   \n",
       "\n",
       "   percent on-time airport departures  percent on-time gate arrivals  \\\n",
       "0                              0.7809                         0.7921   \n",
       "1                              0.7922                         0.8001   \n",
       "2                              0.7756                         0.7746   \n",
       "3                              0.7704                         0.7647   \n",
       "4                              0.7844                         0.7875   \n",
       "\n",
       "   average_gate_departure_delay  average_taxi_out_time  \\\n",
       "0                         10.38                   9.89   \n",
       "1                          9.60                   9.79   \n",
       "2                         10.84                   9.89   \n",
       "3                         11.29                  10.34   \n",
       "4                         10.79                  10.41   \n",
       "\n",
       "   average taxi out delay  average airport departure delay  \\\n",
       "0                    2.43                            12.10   \n",
       "1                    2.29                            11.20   \n",
       "2                    2.16                            12.33   \n",
       "3                    2.40                            12.95   \n",
       "4                    2.41                            12.32   \n",
       "\n",
       "   average airborne delay  average taxi in delay  average block delay  \\\n",
       "0                    2.46                   0.83                 2.55   \n",
       "1                    2.26                   0.89                 2.34   \n",
       "2                    2.12                   0.84                 2.66   \n",
       "3                    2.19                   1.29                 3.06   \n",
       "4                    1.82                   1.03                 2.79   \n",
       "\n",
       "   average gate arrival delay  \n",
       "0                       10.87  \n",
       "1                       10.24  \n",
       "2                       11.82  \n",
       "3                       12.71  \n",
       "4                       11.48  "
      ]
     },
     "execution_count": 23,
     "metadata": {},
     "output_type": "execute_result"
    }
   ],
   "source": [
    "df.head()"
   ]
  },
  {
   "cell_type": "markdown",
   "metadata": {},
   "source": [
    "#### 3.2 Format the data"
   ]
  },
  {
   "cell_type": "code",
   "execution_count": 30,
   "metadata": {
    "collapsed": false
   },
   "outputs": [],
   "source": [
    "taxi = df['average_taxi_out_time']\n",
    "gate = df['average_gate_departure_delay']\n",
    "year = df['year']\n",
    "taxDel = df['average taxi out delay']\n",
    "airDel = df['average airborne delay']"
   ]
  },
  {
   "cell_type": "code",
   "execution_count": 40,
   "metadata": {
    "collapsed": true
   },
   "outputs": [],
   "source": [
    "del df['departures for metric computation']\n",
    "del df['arrivals for metric computation']"
   ]
  },
  {
   "cell_type": "markdown",
   "metadata": {},
   "source": [
    "## Part 4: Refine the Data"
   ]
  },
  {
   "cell_type": "markdown",
   "metadata": {},
   "source": [
    "#### 4.1 Confirm that the dataset has a normal distribution. How can you tell?"
   ]
  },
  {
   "cell_type": "code",
   "execution_count": 26,
   "metadata": {
    "collapsed": false
   },
   "outputs": [
    {
     "data": {
      "text/plain": [
       "NormaltestResult(statistic=array([ 575.01770642,  665.19302691,  237.59201855,  238.32781162,\n",
       "        588.92237458,  349.00303274,  505.87440654,  497.1524945 ,\n",
       "        313.56548118,  446.67084588,  290.37670247,  128.3619001 ,\n",
       "        233.00536226,  115.41368827,  366.86988366]), pvalue=array([  1.36927775e-125,   3.59062050e-145,   2.55592849e-052,\n",
       "         1.76918506e-052,   1.30957756e-128,   1.64041736e-076,\n",
       "         1.41503881e-110,   1.10842800e-108,   8.13056834e-069,\n",
       "         1.01544921e-097,   8.82064253e-064,   1.33834337e-028,\n",
       "         2.53237757e-051,   8.67433166e-026,   2.16379930e-080]))"
      ]
     },
     "execution_count": 26,
     "metadata": {},
     "output_type": "execute_result"
    }
   ],
   "source": [
    "normaltest(df)"
   ]
  },
  {
   "cell_type": "code",
   "execution_count": 27,
   "metadata": {
    "collapsed": true
   },
   "outputs": [],
   "source": [
    "df_normalized = preprocessing.normalize(df, norm='l2')"
   ]
  },
  {
   "cell_type": "markdown",
   "metadata": {},
   "source": [
    "#### 4.2 Find correlations in the data"
   ]
  },
  {
   "cell_type": "code",
   "execution_count": 35,
   "metadata": {
    "collapsed": false
   },
   "outputs": [],
   "source": [
    "# truncate arrays to same length\n",
    "taxi1 = taxi[0:806]\n",
    "gate1 = gate[0:806]\n",
    "year1 = year[0:806]\n",
    "taxDel1 = taxDel[0:806]\n",
    "airDel1 = taxDel[0:806]"
   ]
  },
  {
   "cell_type": "code",
   "execution_count": 36,
   "metadata": {
    "collapsed": false
   },
   "outputs": [
    {
     "data": {
      "text/plain": [
       "(0.91801865809306404, 0.0)"
      ]
     },
     "execution_count": 36,
     "metadata": {},
     "output_type": "execute_result"
    }
   ],
   "source": [
    "# conduct correlations\n",
    "\n",
    "pearsonr(taxi1, airDel1)"
   ]
  },
  {
   "cell_type": "code",
   "execution_count": 37,
   "metadata": {
    "collapsed": false
   },
   "outputs": [
    {
     "data": {
      "text/plain": [
       "(-0.15556456922513523, 9.1355875208020621e-06)"
      ]
     },
     "execution_count": 37,
     "metadata": {},
     "output_type": "execute_result"
    }
   ],
   "source": [
    "pearsonr(year1, airDel1)"
   ]
  },
  {
   "cell_type": "code",
   "execution_count": 38,
   "metadata": {
    "collapsed": false
   },
   "outputs": [
    {
     "data": {
      "text/plain": [
       "(0.099734112232175001, 0.0045949201809180997)"
      ]
     },
     "execution_count": 38,
     "metadata": {},
     "output_type": "execute_result"
    }
   ],
   "source": [
    "pearsonr(gate1, airDel1)"
   ]
  },
  {
   "cell_type": "code",
   "execution_count": 39,
   "metadata": {
    "collapsed": false
   },
   "outputs": [
    {
     "data": {
      "text/plain": [
       "(1.0, 0.0)"
      ]
     },
     "execution_count": 39,
     "metadata": {},
     "output_type": "execute_result"
    }
   ],
   "source": [
    "pearsonr(taxDel1, airDel1)"
   ]
  },
  {
   "cell_type": "markdown",
   "metadata": {},
   "source": [
    "#### 4.3 What is the p-value? What does this mean?"
   ]
  },
  {
   "cell_type": "markdown",
   "metadata": {},
   "source": [
    "The p-value is our measure of the strength of the relationship between x and y. It measures the how likely it is that the null hypothesis is true; in the case of a correlation, how likely it is that two arrays between anaylized are not related.\n"
   ]
  },
  {
   "cell_type": "markdown",
   "metadata": {},
   "source": [
    "#### 4.4 What is the value of understanding correlations before PCA?¶"
   ]
  },
  {
   "cell_type": "markdown",
   "metadata": {},
   "source": [
    "Answer: Highly correlated variables contribute to a common underlying factor in PCA, the principal componant or eigenvector, which helps us further understand patterns in the data."
   ]
  },
  {
   "cell_type": "markdown",
   "metadata": {},
   "source": [
    "## Part 5: Perform a PCA and Present Findings"
   ]
  },
  {
   "cell_type": "markdown",
   "metadata": {},
   "source": [
    "#### 5.1 Define your \"X\" and \"Y\" variables"
   ]
  },
  {
   "cell_type": "code",
   "execution_count": 41,
   "metadata": {
    "collapsed": true
   },
   "outputs": [],
   "source": [
    "x = df.ix[:,1:11].values\n",
    "y = df.ix[:,0].values"
   ]
  },
  {
   "cell_type": "markdown",
   "metadata": {},
   "source": [
    "#### 5.2 Standardize the x values"
   ]
  },
  {
   "cell_type": "code",
   "execution_count": 45,
   "metadata": {
    "collapsed": false
   },
   "outputs": [],
   "source": [
    "xStand = preprocessing.StandardScaler().fit_transform(x)"
   ]
  },
  {
   "cell_type": "markdown",
   "metadata": {},
   "source": [
    "#### 5.3 Create the covariance matrix"
   ]
  },
  {
   "cell_type": "code",
   "execution_count": 46,
   "metadata": {
    "collapsed": true
   },
   "outputs": [],
   "source": [
    "covMat = np.cov(xStand.T)\n",
    "eigenValues, eigenVectors = np.linalg.eig(covMat)"
   ]
  },
  {
   "cell_type": "markdown",
   "metadata": {},
   "source": [
    "#### Check the Eigenvalues and Eigenvectors"
   ]
  },
  {
   "cell_type": "code",
   "execution_count": 47,
   "metadata": {
    "collapsed": false
   },
   "outputs": [
    {
     "name": "stdout",
     "output_type": "stream",
     "text": [
      "[  5.03850464e+00   2.84278948e+00   1.10912977e+00   4.95563116e-01\n",
      "   2.85130599e-01   1.01298698e-01   7.84440728e-02   2.40718960e-03\n",
      "   7.10318336e-04   5.79268661e-02]\n"
     ]
    }
   ],
   "source": [
    "print(eigenValues)"
   ]
  },
  {
   "cell_type": "code",
   "execution_count": 48,
   "metadata": {
    "collapsed": false
   },
   "outputs": [
    {
     "name": "stdout",
     "output_type": "stream",
     "text": [
      "[[  4.85934738e-02   9.39501573e-02   8.92618253e-01   3.82768225e-01\n",
      "   -1.44557643e-01  -4.64224442e-02  -1.47122075e-01  -2.86967825e-02\n",
      "   -3.52561171e-03   6.22157147e-04]\n",
      " [  3.88231784e-01  -2.73100958e-01  -2.78271153e-02   1.19600090e-01\n",
      "    1.14178182e-01  -1.90826901e-01  -7.76193589e-02   6.60968818e-01\n",
      "   -2.13936073e-01   4.70625826e-01]\n",
      " [  4.37300524e-01  -2.73440964e-02  -6.29754509e-02   5.53820487e-02\n",
      "   -5.98655094e-02  -3.53181280e-01   1.75404286e-01  -6.12575631e-01\n",
      "    2.21074502e-01   4.66665914e-01]\n",
      " [  3.82783585e-01  -2.48680213e-01   4.88135362e-02   9.33515836e-02\n",
      "   -1.79922228e-01   7.33924448e-01   4.55579251e-01  -1.92920270e-02\n",
      "   -4.86044107e-03  -3.96514173e-02]\n",
      " [ -4.08379829e-01   2.08765889e-01   8.61203963e-02  -8.27023933e-02\n",
      "   -6.13885244e-02   4.90137223e-02   3.89486338e-01  -1.11685026e-01\n",
      "   -6.32792683e-01   4.52344650e-01]\n",
      " [ -1.87251623e-01  -5.02335044e-01   1.29605484e-01   1.44287343e-01\n",
      "    3.40379406e-01  -3.81839083e-01   5.62536708e-01   4.83071538e-03\n",
      "    1.44718710e-02  -3.10870342e-01]\n",
      " [ -1.60788298e-01  -5.27802491e-01   2.72204349e-02   5.99513838e-02\n",
      "    4.06010009e-01   2.94248048e-01  -4.83678707e-01  -3.67664408e-01\n",
      "   -1.93766535e-01   1.82051680e-01]\n",
      " [ -4.37867013e-01  -2.47523835e-02   1.00007804e-01  -3.81059327e-02\n",
      "    1.01665473e-01   1.96032330e-01   1.32649239e-01   1.96969139e-01\n",
      "    6.83470730e-01   4.73198407e-01]\n",
      " [ -2.88819360e-01  -2.29450998e-01  -3.46343792e-01   6.48862400e-01\n",
      "   -5.56976191e-01  -7.02831908e-02  -8.33232314e-02  -1.10662093e-02\n",
      "   -2.75062225e-03   2.69107409e-02]\n",
      " [ -7.95327542e-02  -4.75647016e-01   2.02974872e-01  -6.11289986e-01\n",
      "   -5.70159082e-01  -1.41046774e-01  -8.59091655e-02   9.07356449e-03\n",
      "   -2.78912564e-04   1.10385178e-02]]\n"
     ]
    }
   ],
   "source": [
    "print(eigenVectors)"
   ]
  },
  {
   "cell_type": "markdown",
   "metadata": {},
   "source": [
    "#### 5.4 Print the Eigenpairs"
   ]
  },
  {
   "cell_type": "code",
   "execution_count": 50,
   "metadata": {
    "collapsed": false
   },
   "outputs": [
    {
     "name": "stdout",
     "output_type": "stream",
     "text": [
      "5.0385046428\n",
      "2.84278948456\n",
      "1.10912977493\n",
      "0.495563115798\n",
      "0.285130599231\n",
      "0.101298697794\n",
      "0.0784440727736\n",
      "0.0579268660912\n",
      "0.00240718959766\n",
      "0.00071031833636\n"
     ]
    }
   ],
   "source": [
    "eigenPairs = [(np.abs(eigenValues[i]), eigenVectors[:,i]) for i in range(len(eigenValues))]\n",
    "eigenPairs.sort()\n",
    "eigenPairs.reverse()\n",
    "for i in eigenPairs:\n",
    "    print(i[0])"
   ]
  },
  {
   "cell_type": "markdown",
   "metadata": {},
   "source": [
    "#### 5.5 Calculate the explained variance"
   ]
  },
  {
   "cell_type": "code",
   "execution_count": 51,
   "metadata": {
    "collapsed": true
   },
   "outputs": [],
   "source": [
    "totalEigen = sum(eigenValues)\n",
    "varExpl = [(i / totalEigen)*100 for i in sorted(eigenValues, reverse=True)]"
   ]
  },
  {
   "cell_type": "code",
   "execution_count": 52,
   "metadata": {
    "collapsed": false
   },
   "outputs": [
    {
     "name": "stdout",
     "output_type": "stream",
     "text": [
      "[50.325135552313306, 28.394092354657758, 11.078109523676074, 4.94973861201417, 2.8479156165765693, 1.0117824749950755, 0.78350798014086165, 0.57857987534585842, 0.0240432730325136, 0.0070947372478268444]\n"
     ]
    }
   ],
   "source": [
    "print(varExpl)"
   ]
  },
  {
   "cell_type": "code",
   "execution_count": 53,
   "metadata": {
    "collapsed": true
   },
   "outputs": [],
   "source": [
    "cvarex = np.cumsum(varExpl)"
   ]
  },
  {
   "cell_type": "code",
   "execution_count": 54,
   "metadata": {
    "collapsed": false
   },
   "outputs": [
    {
     "name": "stdout",
     "output_type": "stream",
     "text": [
      "[  50.32513555   78.71922791   89.79733743   94.74707604   97.59499166\n",
      "   98.60677413   99.39028211   99.96886199   99.99290526  100.        ]\n"
     ]
    }
   ],
   "source": [
    "print(cvarex)"
   ]
  },
  {
   "cell_type": "markdown",
   "metadata": {},
   "source": [
    "#### 5.6 Conduct the PCA"
   ]
  },
  {
   "cell_type": "code",
   "execution_count": 58,
   "metadata": {
    "collapsed": false
   },
   "outputs": [],
   "source": [
    "PCA_A = PCA(n_components=3)\n",
    "Y = PCA_A.fit_transform(xStand)"
   ]
  },
  {
   "cell_type": "code",
   "execution_count": 63,
   "metadata": {
    "collapsed": false
   },
   "outputs": [
    {
     "name": "stdout",
     "output_type": "stream",
     "text": [
      "[[ 1.58117113 -0.59746459  1.71802216]\n",
      " [ 1.92626384 -0.58767242  1.40512887]\n",
      " [ 1.52870312 -0.86351165  1.04784852]\n",
      " ..., \n",
      " [-6.43289819 -4.53156353 -0.84816428]\n",
      " [-6.10482769 -4.67276951 -1.585994  ]\n",
      " [-6.2812065  -4.50947294 -1.66017099]]\n"
     ]
    }
   ],
   "source": [
    "print Y"
   ]
  },
  {
   "cell_type": "markdown",
   "metadata": {},
   "source": [
    "#### 5.7 Create a dataframe from the PCA results"
   ]
  },
  {
   "cell_type": "code",
   "execution_count": 64,
   "metadata": {
    "collapsed": false
   },
   "outputs": [],
   "source": [
    "Ydf = pd.DataFrame(Y, columns=[\"PC1\", \"PC2\", \"PCA3\"])"
   ]
  },
  {
   "cell_type": "markdown",
   "metadata": {},
   "source": [
    "Now, create a new dataframe that uses the airport and year from the original set and join the PCA results with it to form a new set"
   ]
  },
  {
   "cell_type": "code",
   "execution_count": 66,
   "metadata": {
    "collapsed": false
   },
   "outputs": [],
   "source": [
    "airports2 = df[['airport', 'year']]"
   ]
  },
  {
   "cell_type": "code",
   "execution_count": 67,
   "metadata": {
    "collapsed": true
   },
   "outputs": [],
   "source": [
    "airport_pca = airports2.join(Ydf, on=None, how='left')"
   ]
  },
  {
   "cell_type": "markdown",
   "metadata": {},
   "source": [
    "#### 5.8 Graph the results to a new feature space"
   ]
  },
  {
   "cell_type": "code",
   "execution_count": 70,
   "metadata": {
    "collapsed": false
   },
   "outputs": [
    {
     "data": {
      "image/png": "[encoded data removed]",
      "text/plain": [
       "<matplotlib.figure.Figure at 0x1181b2290>"
      ]
     },
     "metadata": {},
     "output_type": "display_data"
    }
   ],
   "source": [
    "graph = airport_pca.plot(kind='scatter', x='PC2', y='PC1', figsize=(16,8))\n",
    "\n",
    "for i, airport in enumerate(df['airport']):\n",
    "    graph.annotate(airport, (airport_pca.iloc[i].PC2, airport_pca.iloc[i].PC1))"
   ]
  },
  {
   "cell_type": "markdown",
   "metadata": {},
   "source": [
    "#### 5.9 Write an analysis plan of your findings"
   ]
  },
  {
   "cell_type": "markdown",
   "metadata": {},
   "source": [
    "Create a writeup on the interpretation of findings including an executive summary with conclusions and next steps"
   ]
  },
  {
   "cell_type": "markdown",
   "metadata": {},
   "source": [
    "## Part 6: Copy your Database to AWS"
   ]
  },
  {
   "cell_type": "markdown",
   "metadata": {},
   "source": [
    "Make sure to properly document all of the features of your dataset"
   ]
  },
  {
   "cell_type": "code",
   "execution_count": null,
   "metadata": {
    "collapsed": true
   },
   "outputs": [],
   "source": [
    "## Create a PostgreSQL database on AWS using the Amazon database wizard on AWS\n",
    "\n",
    "## Connect to the DB\n",
    "psql --host=<DB instance endpoint> --port=<port> --username=<master user name> --password --dbname=<database name> \n",
    "\n",
    "## Transfer \n",
    "select * into newtable from airport_ops"
   ]
  },
  {
   "cell_type": "markdown",
   "metadata": {},
   "source": [
    "## Bonus:"
   ]
  },
  {
   "cell_type": "markdown",
   "metadata": {},
   "source": [
    "#### 1. Conduct the analysis again using different variables from the airport_operations.csv dataset"
   ]
  },
  {
   "cell_type": "markdown",
   "metadata": {},
   "source": [
    "#### 2. Create visualization of your data using the ggplot features of matplotlib"
   ]
  }
 ],
 "metadata": {
  "anaconda-cloud": {},
  "kernelspec": {
   "display_name": "Python [Root]",
   "language": "python",
   "name": "Python [Root]"
  },
  "language_info": {
   "codemirror_mode": {
    "name": "ipython",
    "version": 2
   },
   "file_extension": ".py",
   "mimetype": "text/x-python",
   "name": "python",
   "nbconvert_exporter": "python",
   "pygments_lexer": "ipython2",
   "version": "2.7.12"
  }
 },
 "nbformat": 4,
 "nbformat_minor": 0
}
