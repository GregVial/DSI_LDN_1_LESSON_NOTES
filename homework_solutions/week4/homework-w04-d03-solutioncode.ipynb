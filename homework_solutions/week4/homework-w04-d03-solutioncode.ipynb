{
 "cells": [
  {
   "cell_type": "markdown",
   "metadata": {},
   "source": [
    "# Homework w04d03\n",
    "\n",
    "\n",
    "Import Python Libraries\n"
   ]
  },
  {
   "cell_type": "code",
   "execution_count": 1,
   "metadata": {
    "collapsed": false
   },
   "outputs": [],
   "source": [
    "import numpy as np\n",
    "import pandas as pd\n",
    "from sklearn.neighbors import KNeighborsClassifier\n",
    "from sklearn.model_selection import train_test_split, cross_val_predict, cross_val_score\n",
    "from sklearn.metrics import accuracy_score, average_precision_score, f1_score, recall_score, precision_score\n",
    "from matplotlib import pyplot as plt\n",
    "import seaborn as sns\n",
    "%matplotlib inline"
   ]
  },
  {
   "cell_type": "markdown",
   "metadata": {},
   "source": [
    "### Read in the Wisconsin Breast Cancer Dataset"
   ]
  },
  {
   "cell_type": "markdown",
   "metadata": {},
   "source": [
    "### Assign the columns\n",
    "\n",
    "The attributes below will be the columns of the dataset.\n",
    "  \n",
    "Attribute                     \n",
    "\n",
    "1. Sample code number [subject ID]\n",
    "1. Class\n",
    "1. Cell nucleus mean radius\n",
    "1. Cell nucleus SE radius\n",
    "1. Cell nucleus worst radius\n",
    "1. Texture mean\n",
    "1. Texture SE\n",
    "1. Texture worst\n",
    "1. Perimeter mean\n",
    "1. Perimeter SE\n",
    "1. Perimeter worst\n",
    "1. Area mean\n",
    "1. Area SE\n",
    "1. Area worst\n",
    "1. Smoothness mean\n",
    "1. Smoothness SE\n",
    "1. Smoothness worst\n",
    "1. Compactness mean\n",
    "1. Compactness SE\n",
    "1. Compactness worst\n",
    "1. Concavity mean\n",
    "1. Concavity SE\n",
    "1. Concavity worst\n",
    "1. Concave points mean\n",
    "1. Concave points SE\n",
    "1. Concave points worst\n",
    "1. Symmetry mean\n",
    "1. Symmetry SE\n",
    "1. Symmetry worst\n",
    "1. Fractal dimension mean\n",
    "1. Fractal dimension SE\n",
    "1. Fractal dimension worst\n",
    "1. The column names are taken from the dataset info file.\n",
    "\n",
    "For more information check out the information file: wdbc.names."
   ]
  },
  {
   "cell_type": "code",
   "execution_count": 2,
   "metadata": {
    "collapsed": true
   },
   "outputs": [],
   "source": [
    "df = pd.read_csv(\"https://archive.ics.uci.edu/ml/machine-learning-databases/breast-cancer-wisconsin/wdbc.data\", header=None)"
   ]
  },
  {
   "cell_type": "code",
   "execution_count": 3,
   "metadata": {
    "collapsed": false
   },
   "outputs": [
    {
     "data": {
      "text/html": [
       "<div>\n",
       "<table border=\"1\" class=\"dataframe\">\n",
       "  <thead>\n",
       "    <tr style=\"text-align: right;\">\n",
       "      <th></th>\n",
       "      <th>id</th>\n",
       "      <th>malignant</th>\n",
       "      <th>nucleus_mean</th>\n",
       "      <th>nucleus_se</th>\n",
       "      <th>nucleus_worst</th>\n",
       "      <th>texture_mean</th>\n",
       "      <th>texture_se</th>\n",
       "      <th>texture_worst</th>\n",
       "      <th>perimeter_mean</th>\n",
       "      <th>perimeter_se</th>\n",
       "      <th>...</th>\n",
       "      <th>concavity_worst</th>\n",
       "      <th>concave_pts_mean</th>\n",
       "      <th>concave_pts_se</th>\n",
       "      <th>concave_pts_worst</th>\n",
       "      <th>symmetry_mean</th>\n",
       "      <th>symmetry_se</th>\n",
       "      <th>symmetry_worst</th>\n",
       "      <th>fractal_dim_mean</th>\n",
       "      <th>fractal_dim_se</th>\n",
       "      <th>fractal_dim_worst</th>\n",
       "    </tr>\n",
       "  </thead>\n",
       "  <tbody>\n",
       "    <tr>\n",
       "      <th>0</th>\n",
       "      <td>842302</td>\n",
       "      <td>M</td>\n",
       "      <td>17.99</td>\n",
       "      <td>10.38</td>\n",
       "      <td>122.80</td>\n",
       "      <td>1001.0</td>\n",
       "      <td>0.11840</td>\n",
       "      <td>0.27760</td>\n",
       "      <td>0.3001</td>\n",
       "      <td>0.14710</td>\n",
       "      <td>...</td>\n",
       "      <td>25.38</td>\n",
       "      <td>17.33</td>\n",
       "      <td>184.60</td>\n",
       "      <td>2019.0</td>\n",
       "      <td>0.1622</td>\n",
       "      <td>0.6656</td>\n",
       "      <td>0.7119</td>\n",
       "      <td>0.2654</td>\n",
       "      <td>0.4601</td>\n",
       "      <td>0.11890</td>\n",
       "    </tr>\n",
       "    <tr>\n",
       "      <th>1</th>\n",
       "      <td>842517</td>\n",
       "      <td>M</td>\n",
       "      <td>20.57</td>\n",
       "      <td>17.77</td>\n",
       "      <td>132.90</td>\n",
       "      <td>1326.0</td>\n",
       "      <td>0.08474</td>\n",
       "      <td>0.07864</td>\n",
       "      <td>0.0869</td>\n",
       "      <td>0.07017</td>\n",
       "      <td>...</td>\n",
       "      <td>24.99</td>\n",
       "      <td>23.41</td>\n",
       "      <td>158.80</td>\n",
       "      <td>1956.0</td>\n",
       "      <td>0.1238</td>\n",
       "      <td>0.1866</td>\n",
       "      <td>0.2416</td>\n",
       "      <td>0.1860</td>\n",
       "      <td>0.2750</td>\n",
       "      <td>0.08902</td>\n",
       "    </tr>\n",
       "    <tr>\n",
       "      <th>2</th>\n",
       "      <td>84300903</td>\n",
       "      <td>M</td>\n",
       "      <td>19.69</td>\n",
       "      <td>21.25</td>\n",
       "      <td>130.00</td>\n",
       "      <td>1203.0</td>\n",
       "      <td>0.10960</td>\n",
       "      <td>0.15990</td>\n",
       "      <td>0.1974</td>\n",
       "      <td>0.12790</td>\n",
       "      <td>...</td>\n",
       "      <td>23.57</td>\n",
       "      <td>25.53</td>\n",
       "      <td>152.50</td>\n",
       "      <td>1709.0</td>\n",
       "      <td>0.1444</td>\n",
       "      <td>0.4245</td>\n",
       "      <td>0.4504</td>\n",
       "      <td>0.2430</td>\n",
       "      <td>0.3613</td>\n",
       "      <td>0.08758</td>\n",
       "    </tr>\n",
       "    <tr>\n",
       "      <th>3</th>\n",
       "      <td>84348301</td>\n",
       "      <td>M</td>\n",
       "      <td>11.42</td>\n",
       "      <td>20.38</td>\n",
       "      <td>77.58</td>\n",
       "      <td>386.1</td>\n",
       "      <td>0.14250</td>\n",
       "      <td>0.28390</td>\n",
       "      <td>0.2414</td>\n",
       "      <td>0.10520</td>\n",
       "      <td>...</td>\n",
       "      <td>14.91</td>\n",
       "      <td>26.50</td>\n",
       "      <td>98.87</td>\n",
       "      <td>567.7</td>\n",
       "      <td>0.2098</td>\n",
       "      <td>0.8663</td>\n",
       "      <td>0.6869</td>\n",
       "      <td>0.2575</td>\n",
       "      <td>0.6638</td>\n",
       "      <td>0.17300</td>\n",
       "    </tr>\n",
       "    <tr>\n",
       "      <th>4</th>\n",
       "      <td>84358402</td>\n",
       "      <td>M</td>\n",
       "      <td>20.29</td>\n",
       "      <td>14.34</td>\n",
       "      <td>135.10</td>\n",
       "      <td>1297.0</td>\n",
       "      <td>0.10030</td>\n",
       "      <td>0.13280</td>\n",
       "      <td>0.1980</td>\n",
       "      <td>0.10430</td>\n",
       "      <td>...</td>\n",
       "      <td>22.54</td>\n",
       "      <td>16.67</td>\n",
       "      <td>152.20</td>\n",
       "      <td>1575.0</td>\n",
       "      <td>0.1374</td>\n",
       "      <td>0.2050</td>\n",
       "      <td>0.4000</td>\n",
       "      <td>0.1625</td>\n",
       "      <td>0.2364</td>\n",
       "      <td>0.07678</td>\n",
       "    </tr>\n",
       "  </tbody>\n",
       "</table>\n",
       "<p>5 rows × 32 columns</p>\n",
       "</div>"
      ],
      "text/plain": [
       "         id malignant  nucleus_mean  nucleus_se  nucleus_worst  texture_mean  \\\n",
       "0    842302         M         17.99       10.38         122.80        1001.0   \n",
       "1    842517         M         20.57       17.77         132.90        1326.0   \n",
       "2  84300903         M         19.69       21.25         130.00        1203.0   \n",
       "3  84348301         M         11.42       20.38          77.58         386.1   \n",
       "4  84358402         M         20.29       14.34         135.10        1297.0   \n",
       "\n",
       "   texture_se  texture_worst  perimeter_mean  perimeter_se        ...          \\\n",
       "0     0.11840        0.27760          0.3001       0.14710        ...           \n",
       "1     0.08474        0.07864          0.0869       0.07017        ...           \n",
       "2     0.10960        0.15990          0.1974       0.12790        ...           \n",
       "3     0.14250        0.28390          0.2414       0.10520        ...           \n",
       "4     0.10030        0.13280          0.1980       0.10430        ...           \n",
       "\n",
       "   concavity_worst  concave_pts_mean  concave_pts_se  concave_pts_worst  \\\n",
       "0            25.38             17.33          184.60             2019.0   \n",
       "1            24.99             23.41          158.80             1956.0   \n",
       "2            23.57             25.53          152.50             1709.0   \n",
       "3            14.91             26.50           98.87              567.7   \n",
       "4            22.54             16.67          152.20             1575.0   \n",
       "\n",
       "   symmetry_mean  symmetry_se  symmetry_worst  fractal_dim_mean  \\\n",
       "0         0.1622       0.6656          0.7119            0.2654   \n",
       "1         0.1238       0.1866          0.2416            0.1860   \n",
       "2         0.1444       0.4245          0.4504            0.2430   \n",
       "3         0.2098       0.8663          0.6869            0.2575   \n",
       "4         0.1374       0.2050          0.4000            0.1625   \n",
       "\n",
       "   fractal_dim_se  fractal_dim_worst  \n",
       "0          0.4601            0.11890  \n",
       "1          0.2750            0.08902  \n",
       "2          0.3613            0.08758  \n",
       "3          0.6638            0.17300  \n",
       "4          0.2364            0.07678  \n",
       "\n",
       "[5 rows x 32 columns]"
      ]
     },
     "execution_count": 3,
     "metadata": {},
     "output_type": "execute_result"
    }
   ],
   "source": [
    "column_names = ['id','malignant',\n",
    "                'nucleus_mean','nucleus_se','nucleus_worst',\n",
    "                'texture_mean','texture_se','texture_worst',\n",
    "                'perimeter_mean','perimeter_se','perimeter_worst',\n",
    "                'area_mean','area_se','area_worst',\n",
    "                'smoothness_mean','smoothness_se','smoothness_worst',\n",
    "                'compactness_mean','compactness_se','compactness_worst',\n",
    "                'concavity_mean','concavity_se','concavity_worst',\n",
    "                'concave_pts_mean','concave_pts_se','concave_pts_worst',\n",
    "                'symmetry_mean','symmetry_se','symmetry_worst',\n",
    "                'fractal_dim_mean','fractal_dim_se','fractal_dim_worst']\n",
    "\n",
    "\n",
    "df.columns = column_names\n",
    "\n",
    "df.head()"
   ]
  },
  {
   "cell_type": "markdown",
   "metadata": {},
   "source": [
    "### Split the dataset into target (malign) and data features (everything except id and malignant)"
   ]
  },
  {
   "cell_type": "code",
   "execution_count": 4,
   "metadata": {
    "collapsed": false
   },
   "outputs": [
    {
     "data": {
      "text/html": [
       "<div>\n",
       "<table border=\"1\" class=\"dataframe\">\n",
       "  <thead>\n",
       "    <tr style=\"text-align: right;\">\n",
       "      <th></th>\n",
       "      <th>nucleus_mean</th>\n",
       "      <th>nucleus_se</th>\n",
       "      <th>nucleus_worst</th>\n",
       "      <th>texture_mean</th>\n",
       "      <th>texture_se</th>\n",
       "      <th>texture_worst</th>\n",
       "      <th>perimeter_mean</th>\n",
       "      <th>perimeter_se</th>\n",
       "      <th>perimeter_worst</th>\n",
       "      <th>area_mean</th>\n",
       "      <th>...</th>\n",
       "      <th>concavity_worst</th>\n",
       "      <th>concave_pts_mean</th>\n",
       "      <th>concave_pts_se</th>\n",
       "      <th>concave_pts_worst</th>\n",
       "      <th>symmetry_mean</th>\n",
       "      <th>symmetry_se</th>\n",
       "      <th>symmetry_worst</th>\n",
       "      <th>fractal_dim_mean</th>\n",
       "      <th>fractal_dim_se</th>\n",
       "      <th>fractal_dim_worst</th>\n",
       "    </tr>\n",
       "  </thead>\n",
       "  <tbody>\n",
       "    <tr>\n",
       "      <th>0</th>\n",
       "      <td>17.99</td>\n",
       "      <td>10.38</td>\n",
       "      <td>122.80</td>\n",
       "      <td>1001.0</td>\n",
       "      <td>0.11840</td>\n",
       "      <td>0.27760</td>\n",
       "      <td>0.3001</td>\n",
       "      <td>0.14710</td>\n",
       "      <td>0.2419</td>\n",
       "      <td>0.07871</td>\n",
       "      <td>...</td>\n",
       "      <td>25.38</td>\n",
       "      <td>17.33</td>\n",
       "      <td>184.60</td>\n",
       "      <td>2019.0</td>\n",
       "      <td>0.1622</td>\n",
       "      <td>0.6656</td>\n",
       "      <td>0.7119</td>\n",
       "      <td>0.2654</td>\n",
       "      <td>0.4601</td>\n",
       "      <td>0.11890</td>\n",
       "    </tr>\n",
       "    <tr>\n",
       "      <th>1</th>\n",
       "      <td>20.57</td>\n",
       "      <td>17.77</td>\n",
       "      <td>132.90</td>\n",
       "      <td>1326.0</td>\n",
       "      <td>0.08474</td>\n",
       "      <td>0.07864</td>\n",
       "      <td>0.0869</td>\n",
       "      <td>0.07017</td>\n",
       "      <td>0.1812</td>\n",
       "      <td>0.05667</td>\n",
       "      <td>...</td>\n",
       "      <td>24.99</td>\n",
       "      <td>23.41</td>\n",
       "      <td>158.80</td>\n",
       "      <td>1956.0</td>\n",
       "      <td>0.1238</td>\n",
       "      <td>0.1866</td>\n",
       "      <td>0.2416</td>\n",
       "      <td>0.1860</td>\n",
       "      <td>0.2750</td>\n",
       "      <td>0.08902</td>\n",
       "    </tr>\n",
       "    <tr>\n",
       "      <th>2</th>\n",
       "      <td>19.69</td>\n",
       "      <td>21.25</td>\n",
       "      <td>130.00</td>\n",
       "      <td>1203.0</td>\n",
       "      <td>0.10960</td>\n",
       "      <td>0.15990</td>\n",
       "      <td>0.1974</td>\n",
       "      <td>0.12790</td>\n",
       "      <td>0.2069</td>\n",
       "      <td>0.05999</td>\n",
       "      <td>...</td>\n",
       "      <td>23.57</td>\n",
       "      <td>25.53</td>\n",
       "      <td>152.50</td>\n",
       "      <td>1709.0</td>\n",
       "      <td>0.1444</td>\n",
       "      <td>0.4245</td>\n",
       "      <td>0.4504</td>\n",
       "      <td>0.2430</td>\n",
       "      <td>0.3613</td>\n",
       "      <td>0.08758</td>\n",
       "    </tr>\n",
       "    <tr>\n",
       "      <th>3</th>\n",
       "      <td>11.42</td>\n",
       "      <td>20.38</td>\n",
       "      <td>77.58</td>\n",
       "      <td>386.1</td>\n",
       "      <td>0.14250</td>\n",
       "      <td>0.28390</td>\n",
       "      <td>0.2414</td>\n",
       "      <td>0.10520</td>\n",
       "      <td>0.2597</td>\n",
       "      <td>0.09744</td>\n",
       "      <td>...</td>\n",
       "      <td>14.91</td>\n",
       "      <td>26.50</td>\n",
       "      <td>98.87</td>\n",
       "      <td>567.7</td>\n",
       "      <td>0.2098</td>\n",
       "      <td>0.8663</td>\n",
       "      <td>0.6869</td>\n",
       "      <td>0.2575</td>\n",
       "      <td>0.6638</td>\n",
       "      <td>0.17300</td>\n",
       "    </tr>\n",
       "    <tr>\n",
       "      <th>4</th>\n",
       "      <td>20.29</td>\n",
       "      <td>14.34</td>\n",
       "      <td>135.10</td>\n",
       "      <td>1297.0</td>\n",
       "      <td>0.10030</td>\n",
       "      <td>0.13280</td>\n",
       "      <td>0.1980</td>\n",
       "      <td>0.10430</td>\n",
       "      <td>0.1809</td>\n",
       "      <td>0.05883</td>\n",
       "      <td>...</td>\n",
       "      <td>22.54</td>\n",
       "      <td>16.67</td>\n",
       "      <td>152.20</td>\n",
       "      <td>1575.0</td>\n",
       "      <td>0.1374</td>\n",
       "      <td>0.2050</td>\n",
       "      <td>0.4000</td>\n",
       "      <td>0.1625</td>\n",
       "      <td>0.2364</td>\n",
       "      <td>0.07678</td>\n",
       "    </tr>\n",
       "  </tbody>\n",
       "</table>\n",
       "<p>5 rows × 30 columns</p>\n",
       "</div>"
      ],
      "text/plain": [
       "   nucleus_mean  nucleus_se  nucleus_worst  texture_mean  texture_se  \\\n",
       "0         17.99       10.38         122.80        1001.0     0.11840   \n",
       "1         20.57       17.77         132.90        1326.0     0.08474   \n",
       "2         19.69       21.25         130.00        1203.0     0.10960   \n",
       "3         11.42       20.38          77.58         386.1     0.14250   \n",
       "4         20.29       14.34         135.10        1297.0     0.10030   \n",
       "\n",
       "   texture_worst  perimeter_mean  perimeter_se  perimeter_worst  area_mean  \\\n",
       "0        0.27760          0.3001       0.14710           0.2419    0.07871   \n",
       "1        0.07864          0.0869       0.07017           0.1812    0.05667   \n",
       "2        0.15990          0.1974       0.12790           0.2069    0.05999   \n",
       "3        0.28390          0.2414       0.10520           0.2597    0.09744   \n",
       "4        0.13280          0.1980       0.10430           0.1809    0.05883   \n",
       "\n",
       "         ...          concavity_worst  concave_pts_mean  concave_pts_se  \\\n",
       "0        ...                    25.38             17.33          184.60   \n",
       "1        ...                    24.99             23.41          158.80   \n",
       "2        ...                    23.57             25.53          152.50   \n",
       "3        ...                    14.91             26.50           98.87   \n",
       "4        ...                    22.54             16.67          152.20   \n",
       "\n",
       "   concave_pts_worst  symmetry_mean  symmetry_se  symmetry_worst  \\\n",
       "0             2019.0         0.1622       0.6656          0.7119   \n",
       "1             1956.0         0.1238       0.1866          0.2416   \n",
       "2             1709.0         0.1444       0.4245          0.4504   \n",
       "3              567.7         0.2098       0.8663          0.6869   \n",
       "4             1575.0         0.1374       0.2050          0.4000   \n",
       "\n",
       "   fractal_dim_mean  fractal_dim_se  fractal_dim_worst  \n",
       "0            0.2654          0.4601            0.11890  \n",
       "1            0.1860          0.2750            0.08902  \n",
       "2            0.2430          0.3613            0.08758  \n",
       "3            0.2575          0.6638            0.17300  \n",
       "4            0.1625          0.2364            0.07678  \n",
       "\n",
       "[5 rows x 30 columns]"
      ]
     },
     "execution_count": 4,
     "metadata": {},
     "output_type": "execute_result"
    }
   ],
   "source": [
    "X = df.iloc[:,2:]\n",
    "y = df.malignant\n",
    "X.head()"
   ]
  },
  {
   "cell_type": "markdown",
   "metadata": {},
   "source": [
    "### Recode the target variable with 1 for M (malign) and 0 for B (benign)"
   ]
  },
  {
   "cell_type": "code",
   "execution_count": 5,
   "metadata": {
    "collapsed": false
   },
   "outputs": [],
   "source": [
    "y = y.map(lambda x: 0 if x == \"B\" else 1)"
   ]
  },
  {
   "cell_type": "markdown",
   "metadata": {},
   "source": [
    "### How many cases of malign carcinoms are in the dataset?"
   ]
  },
  {
   "cell_type": "code",
   "execution_count": 6,
   "metadata": {
    "collapsed": false
   },
   "outputs": [
    {
     "data": {
      "text/plain": [
       "212"
      ]
     },
     "execution_count": 6,
     "metadata": {},
     "output_type": "execute_result"
    }
   ],
   "source": [
    "y.sum()"
   ]
  },
  {
   "cell_type": "markdown",
   "metadata": {},
   "source": [
    "### Set kNN's k value to 3 and fit the data"
   ]
  },
  {
   "cell_type": "code",
   "execution_count": 7,
   "metadata": {
    "collapsed": false
   },
   "outputs": [
    {
     "data": {
      "text/plain": [
       "KNeighborsClassifier(algorithm='auto', leaf_size=30, metric='minkowski',\n",
       "           metric_params=None, n_jobs=1, n_neighbors=3, p=2,\n",
       "           weights='uniform')"
      ]
     },
     "execution_count": 7,
     "metadata": {},
     "output_type": "execute_result"
    }
   ],
   "source": [
    "model = KNeighborsClassifier(n_neighbors=3)\n",
    "model.fit(X, y)"
   ]
  },
  {
   "cell_type": "markdown",
   "metadata": {
    "collapsed": true
   },
   "source": [
    "### Find the model accuracy (score)"
   ]
  },
  {
   "cell_type": "code",
   "execution_count": 8,
   "metadata": {
    "collapsed": false
   },
   "outputs": [
    {
     "data": {
      "text/plain": [
       "0.95606326889279436"
      ]
     },
     "execution_count": 8,
     "metadata": {},
     "output_type": "execute_result"
    }
   ],
   "source": [
    "model.score(X, y)"
   ]
  },
  {
   "cell_type": "markdown",
   "metadata": {},
   "source": [
    "### Split into training and test data and calculate the test score for k in the range from 1 to 100"
   ]
  },
  {
   "cell_type": "code",
   "execution_count": 9,
   "metadata": {
    "collapsed": false
   },
   "outputs": [
    {
     "data": {
      "text/plain": [
       "[(11, 0.97660818713450293)]"
      ]
     },
     "execution_count": 9,
     "metadata": {},
     "output_type": "execute_result"
    }
   ],
   "source": [
    "X_train, X_test, y_train, y_test = train_test_split(X, y, test_size=0.30, random_state=42)\n",
    "\n",
    "scores_test = []\n",
    "predictions = []\n",
    "for k in range(1,101):\n",
    "    model = KNeighborsClassifier(n_neighbors=k)\n",
    "    model.fit(X_train,y_train)\n",
    "    predict = model.predict(X_test) \n",
    "    predictions.append(predict)\n",
    "    scores_test.append(model.score(X_test,y_test))\n",
    "[(i+1,scores_test[i]) for i in range(len(scores_test)) if scores_test[i] == max(scores_test)]"
   ]
  },
  {
   "cell_type": "markdown",
   "metadata": {},
   "source": [
    "### Perform 5-fold cross validation for k in the range from 1 to 100. Which k performs best? Plot the mean accuracy from the cross validation versus k."
   ]
  },
  {
   "cell_type": "code",
   "execution_count": 10,
   "metadata": {
    "collapsed": false
   },
   "outputs": [],
   "source": [
    "score_list = []\n",
    "score_means = []\n",
    "accuracy_list = []\n",
    "precision_list = []\n",
    "f1_list = []\n",
    "recall_list = []\n",
    "for k in range(1,101):\n",
    "    model = KNeighborsClassifier(n_neighbors=k)\n",
    "    scores = cross_val_score(model, X, y, cv=5)\n",
    "    predicted = cross_val_predict(model,X,y, cv=5)\n",
    "    accuracy_list.append(accuracy_score(y, predicted))\n",
    "    precision_list.append(precision_score(y,predicted))\n",
    "    f1_list.append(f1_score(y,predicted))\n",
    "    recall_list.append(recall_score(y,predicted))\n",
    "    score_list.append(scores)\n",
    "    score_means.append(np.mean(scores))"
   ]
  },
  {
   "cell_type": "code",
   "execution_count": 11,
   "metadata": {
    "collapsed": false
   },
   "outputs": [
    {
     "data": {
      "text/plain": [
       "[(14, 0.93519045786841093)]"
      ]
     },
     "execution_count": 11,
     "metadata": {},
     "output_type": "execute_result"
    }
   ],
   "source": [
    "# Best k\n",
    "[(i+1,score_means[i]) for i in range(len(score_means)) if score_means[i] == max(score_means)]"
   ]
  },
  {
   "cell_type": "code",
   "execution_count": 12,
   "metadata": {
    "collapsed": false
   },
   "outputs": [
    {
     "data": {
      "image/png": "[encoded data removed]",
      "text/plain": [
       "<matplotlib.figure.Figure at 0x117582890>"
      ]
     },
     "metadata": {},
     "output_type": "display_data"
    }
   ],
   "source": [
    "line_1, = plt.plot(range(1,101),scores_test,c='r')\n",
    "line_2, = plt.plot(range(1,101),score_means,c='b')\n",
    "plt.xlabel('k')\n",
    "plt.legend([line_1, line_2], ['Test set','5 CV'],loc='upper right')\n",
    "plt.show()"
   ]
  },
  {
   "cell_type": "markdown",
   "metadata": {},
   "source": [
    "### Bonus: plot other scores like F1, recall and precision obtained in cross validation versus k"
   ]
  },
  {
   "cell_type": "markdown",
   "metadata": {},
   "source": [
    "1. Accuracy = (True Positives + True Negatives) / Total\n",
    "1. F1-Score = 2 (Precision $\\cdot$ Recall) / (Precision + Recall)\n",
    "1. Recall = True Positives / (True Positives + False Negatives)\n",
    "1. Precision = True Positives / (True Positives + False Positives)"
   ]
  },
  {
   "cell_type": "code",
   "execution_count": 13,
   "metadata": {
    "collapsed": false
   },
   "outputs": [
    {
     "data": {
      "image/png": "[encoded data removed]",
      "text/plain": [
       "<matplotlib.figure.Figure at 0x117582910>"
      ]
     },
     "metadata": {},
     "output_type": "display_data"
    }
   ],
   "source": [
    "line_1, = plt.plot(range(1,101),precision_list,c='g',label='Precision')\n",
    "line_2, = plt.plot(range(1,101),score_means,c='b',label='Accuracy')\n",
    "line_3, = plt.plot(range(1,101),f1_list,c='r',label='F1')\n",
    "line_4, = plt.plot(range(1,101),recall_list,c='k',label='Recall')\n",
    "\n",
    "plt.legend([line_1, line_2, line_3, line_4], ['Precision','Accuracy','F1','Recall'],loc='lower right')\n",
    "plt.xlabel('k')\n",
    "plt.ylim([0.65,1])\n",
    "plt.show()"
   ]
  },
  {
   "cell_type": "code",
   "execution_count": null,
   "metadata": {
    "collapsed": true
   },
   "outputs": [],
   "source": []
  }
 ],
 "metadata": {
  "anaconda-cloud": {},
  "kernelspec": {
   "display_name": "Python [default]",
   "language": "python",
   "name": "python2"
  },
  "language_info": {
   "codemirror_mode": {
    "name": "ipython",
    "version": 2
   },
   "file_extension": ".py",
   "mimetype": "text/x-python",
   "name": "python",
   "nbconvert_exporter": "python",
   "pygments_lexer": "ipython2",
   "version": "2.7.12"
  }
 },
 "nbformat": 4,
 "nbformat_minor": 0
}
