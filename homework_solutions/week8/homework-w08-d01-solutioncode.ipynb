{
 "cells": [
  {
   "cell_type": "markdown",
   "metadata": {},
   "source": [
    "# Homework w08d01 - Bayesian Statistics"
   ]
  },
  {
   "cell_type": "markdown",
   "metadata": {},
   "source": [
    "In these exercises, we are going to make use of Bayes rule\n",
    "$$\\pi(\\theta| x)=\\frac{\\pi(x |\\theta)\\pi(\\theta)}{\\sum_\\theta \\pi(x |\\theta)\\pi(\\theta)}\\ .$$"
   ]
  },
  {
   "cell_type": "code",
   "execution_count": 1,
   "metadata": {
    "collapsed": true
   },
   "outputs": [],
   "source": [
    "import numpy as np\n",
    "from scipy import misc, special"
   ]
  },
  {
   "cell_type": "markdown",
   "metadata": {},
   "source": [
    "#### 1. Imagine you have a box containing three coins. Two of these coins are fair (equal probability for head and tail), but one is biased (probability for head is 0.2). Now you draw a coin from the box and toss it three times. If two heads and one tail are obtained (in no particular order), what is the probability that the coin was fair, and what is the probability that the coin was biased?"
   ]
  },
  {
   "cell_type": "markdown",
   "metadata": {},
   "source": [
    "We have to calculate\n",
    "$$\\pi(F|x)=\\frac{\\pi(x|F)\\pi(F)}{\\pi(x|F)\\pi(F)+\\pi(x|B)\\pi(B)} \n",
    "= \\frac{3\\left(\\frac{1}{2}\\right)^3 \\frac{2}{3}}\n",
    "{3\\left(\\frac{1}{2}\\right)^3 \\frac{2}{3}+\n",
    "3\\left(\\frac{1}{5}\\right)^2\\frac{4}{5} \\frac{1}{3}}=\\frac{125}{141}\\approx 0.8865$$"
   ]
  },
  {
   "cell_type": "code",
   "execution_count": 2,
   "metadata": {
    "collapsed": false
   },
   "outputs": [
    {
     "name": "stdout",
     "output_type": "stream",
     "text": [
      "fair:  0.886524822695 , biased:  0.113475177305\n"
     ]
    }
   ],
   "source": [
    "fair = 3*0.5**3*2/3./float(3*0.5**3*2/3.+3*0.2**2*0.8/3)\n",
    "biased = 1-fair\n",
    "print \"fair: \", fair, \", biased: \", biased"
   ]
  },
  {
   "cell_type": "markdown",
   "metadata": {},
   "source": [
    "#### 2. The random variable X has a Poisson distribution with an unknown parameter $\\lambda$ with the subjective prior probility function given in the table. A random sample of size 3 yields the X-values 2, 0, and 3. Find the posterior distribution of $\\lambda$.\n",
    "\n",
    "|$\\lambda$|0.5|1.0|1.5|\n",
    "|---|---|---|---|\n",
    "|$\\pi\\left(\\lambda        \\right)$      |1/2|1/3|1/6|\n",
    "\n",
    "Hints: \n",
    "\n",
    "The Poisson distribution of a discrete random variable X is given by $P(X=x)=\\frac{\\lambda^x}{x!} \\exp(-\\lambda)$. The likelihood function is given by the product of the probabilities for the three observed x-values given a particular $\\lambda$.\n",
    "\n",
    "You can use the function misc.factorial from the scipy package to calculate the factorial."
   ]
  },
  {
   "cell_type": "markdown",
   "metadata": {},
   "source": [
    "$$\\pi(\\lambda|x) = \\frac{\\frac{\\lambda^{x_1+x_2+x_3}e^{-3\\lambda}}{x_1! x_2!x_3!}\\pi(\\lambda)}\n",
    "{\\sum_{\\lambda}\\frac{\\lambda^{x_1+x_2+x_3}e^{-3\\lambda}}{x_1! x_2!x_3!}\\pi(\\lambda)}\n",
    "= \\frac{\\lambda^5e^{-3\\lambda}\\pi(\\lambda)}{\\sum_{\\lambda}\\lambda^5 e^{-3\\lambda}\\pi(\\lambda)}$$"
   ]
  },
  {
   "cell_type": "code",
   "execution_count": 3,
   "metadata": {
    "collapsed": false
   },
   "outputs": [
    {
     "name": "stdout",
     "output_type": "stream",
     "text": [
      "0.102115187224\n",
      "0.48607953235\n",
      "0.411805280426\n"
     ]
    }
   ],
   "source": [
    "x = np.array([2,0,3])\n",
    "lam = np.array([0.5,1.0,1.5])\n",
    "prior = np.array([0.5,1/3.,1/6.])\n",
    "for i in range(len(prior)):\n",
    "    a = np.exp(-3*lam[i])*lam[i]**(x.sum())*prior[i]/float(np.prod(misc.factorial(x)))\n",
    "    b = 1/float(np.prod(misc.factorial(x)))*np.sum(np.exp(-3*lam)*lam**(np.sum(x))*prior)\n",
    "    print a/b"
   ]
  },
  {
   "cell_type": "markdown",
   "metadata": {},
   "source": [
    "#### 3. In a lot of 100 lightbulbs produced by a machine, an unknown number $\\rho$ are defective. Assume that $\\rho$ has a prior binomial distribution with parameter $p=0.1$. Find the posterior distribution of $\\rho$ if a bolt chosen at random from the lot is a) defective; b) not defective.\n",
    "\n",
    "Hint: \n",
    "\n",
    "The binomial distribution for a discrete random variable X is given by $P(X=x)=\\binom{n}{x} p^x (1-p)^{n-x}$. \n",
    "\n",
    "You can assume a uniform likelihood function of the form $\\frac{\\rho}{n}$.\n",
    "\n",
    "You can use the scipy function special.binom(n,k) to calculate the binomial coefficient."
   ]
  },
  {
   "cell_type": "markdown",
   "metadata": {},
   "source": [
    "$$\\pi(\\rho|n)=\\binom{n}{\\rho} p^{\\,\\rho} (1-p)^{n-\\rho}\\frac{\\rho}{n}\\times \n",
    "\\left(\\sum_{\\rho=0}^n\\binom{n}{\\rho} p^{\\,\\rho} (1-p)^{n-\\rho}\\frac{\\rho}{n}\\right)^{-1}$$\n",
    "for $0<\\rho<n$"
   ]
  },
  {
   "cell_type": "code",
   "execution_count": 4,
   "metadata": {
    "collapsed": false
   },
   "outputs": [],
   "source": [
    "n = 100\n",
    "rho = np.arange(n+1)\n",
    "p = 0.1\n",
    "prior = special.binom(n,rho)*p**rho*(1-p)**(n-rho)\n",
    "ll = rho/float(n)\n",
    "posterior_def = ll*prior/np.sum(prior*ll)\n",
    "posterior_nondef = (1-ll)*prior/np.sum(prior*(1-ll))"
   ]
  },
  {
   "cell_type": "code",
   "execution_count": 5,
   "metadata": {
    "collapsed": false
   },
   "outputs": [
    {
     "data": {
      "text/plain": [
       "(0.99999999999999989, 0.99999999999999978)"
      ]
     },
     "execution_count": 5,
     "metadata": {},
     "output_type": "execute_result"
    }
   ],
   "source": [
    "np.sum(posterior_def), np.sum(posterior_nondef)"
   ]
  },
  {
   "cell_type": "code",
   "execution_count": 6,
   "metadata": {
    "collapsed": false
   },
   "outputs": [
    {
     "data": {
      "image/png": "[encoded data removed]",
      "text/plain": [
       "<matplotlib.figure.Figure at 0x10b0231d0>"
      ]
     },
     "metadata": {},
     "output_type": "display_data"
    }
   ],
   "source": [
    "import numpy\n",
    "import matplotlib.pyplot as plt\n",
    "%matplotlib inline\n",
    "plt.plot(rho,posterior_def,'r',rho,posterior_nondef,'b--')\n",
    "plt.show()"
   ]
  },
  {
   "cell_type": "code",
   "execution_count": 7,
   "metadata": {
    "collapsed": false
   },
   "outputs": [
    {
     "data": {
      "text/plain": [
       "array([  0.00000000e+00,   2.95126654e-05,   3.24639320e-04,\n",
       "         1.76748074e-03,   6.34983822e-03,   1.69329019e-02,\n",
       "         3.57472374e-02,   6.22266725e-02,   9.18584212e-02,\n",
       "         1.17374649e-01])"
      ]
     },
     "execution_count": 7,
     "metadata": {},
     "output_type": "execute_result"
    }
   ],
   "source": [
    "posterior_def[:10]"
   ]
  },
  {
   "cell_type": "code",
   "execution_count": 8,
   "metadata": {
    "collapsed": false
   },
   "outputs": [
    {
     "data": {
      "text/plain": [
       "array([  2.95126654e-05,   3.24639320e-04,   1.76748074e-03,\n",
       "         6.34983822e-03,   1.69329019e-02,   3.57472374e-02,\n",
       "         6.22266725e-02,   9.18584212e-02,   1.17374649e-01,\n",
       "         1.31865347e-01])"
      ]
     },
     "execution_count": 8,
     "metadata": {},
     "output_type": "execute_result"
    }
   ],
   "source": [
    "posterior_nondef[:10]"
   ]
  },
  {
   "cell_type": "code",
   "execution_count": null,
   "metadata": {
    "collapsed": true
   },
   "outputs": [],
   "source": []
  }
 ],
 "metadata": {
  "anaconda-cloud": {},
  "kernelspec": {
   "display_name": "Python [conda root]",
   "language": "python",
   "name": "conda-root-py"
  },
  "language_info": {
   "codemirror_mode": {
    "name": "ipython",
    "version": 2
   },
   "file_extension": ".py",
   "mimetype": "text/x-python",
   "name": "python",
   "nbconvert_exporter": "python",
   "pygments_lexer": "ipython2",
   "version": "2.7.12"
  }
 },
 "nbformat": 4,
 "nbformat_minor": 1
}
