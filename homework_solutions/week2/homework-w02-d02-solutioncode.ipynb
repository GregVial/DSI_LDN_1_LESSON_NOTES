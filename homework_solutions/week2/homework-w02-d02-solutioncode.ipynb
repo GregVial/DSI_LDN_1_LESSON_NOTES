{
 "cells": [
  {
   "cell_type": "markdown",
   "metadata": {},
   "source": [
    "# W02d02 - Practice in data cleaning\n",
    "\n",
    "Load the following data file about the safety of data airlines comparing the period of 1985 to 1999 with the one from 2000 to 2014. Unfortunately, some accidents happend to this dataset which you are asked to cure: \n",
    "1. Drop unnecessary columns\n",
    "1. Locate missing values by their indices\n",
    "1. Locate inconsistent datatypes by their indices\n",
    "1. Remove missing values\n",
    "1. Transform columns to consistent datatypes suitable for statistical analysis\n",
    "1. Create an additional column containing the counts of fatal accidents for each airline from 1985 to 2014\n",
    "1. Provide summary statistics for all numeric columns"
   ]
  },
  {
   "cell_type": "code",
   "execution_count": 1,
   "metadata": {
    "collapsed": true
   },
   "outputs": [],
   "source": [
    "import pandas as pd\n",
    "import numpy as np\n",
    "\n",
    "df = pd.read_csv('airline_safety.csv')"
   ]
  },
  {
   "cell_type": "code",
   "execution_count": 2,
   "metadata": {
    "collapsed": false
   },
   "outputs": [
    {
     "data": {
      "text/html": [
       "<div>\n",
       "<table border=\"1\" class=\"dataframe\">\n",
       "  <thead>\n",
       "    <tr style=\"text-align: right;\">\n",
       "      <th></th>\n",
       "      <th>Unnamed: 0</th>\n",
       "      <th>airline</th>\n",
       "      <th>avail_seat_km_per_week</th>\n",
       "      <th>incidents_85_99</th>\n",
       "      <th>fatal_accidents_85_99</th>\n",
       "      <th>fatalities_85_99</th>\n",
       "      <th>incidents_00_14</th>\n",
       "      <th>fatal_accidents_00_14</th>\n",
       "      <th>fatalities_00_14</th>\n",
       "    </tr>\n",
       "  </thead>\n",
       "  <tbody>\n",
       "    <tr>\n",
       "      <th>0</th>\n",
       "      <td>0</td>\n",
       "      <td>Aer Lingus</td>\n",
       "      <td>320906734</td>\n",
       "      <td>2</td>\n",
       "      <td>0.0</td>\n",
       "      <td>0</td>\n",
       "      <td>0.0</td>\n",
       "      <td>0</td>\n",
       "      <td>0.0</td>\n",
       "    </tr>\n",
       "    <tr>\n",
       "      <th>1</th>\n",
       "      <td>1</td>\n",
       "      <td>Aeroflot*</td>\n",
       "      <td>1197672318</td>\n",
       "      <td>76</td>\n",
       "      <td>14.0</td>\n",
       "      <td>128</td>\n",
       "      <td>six</td>\n",
       "      <td>1</td>\n",
       "      <td>88.0</td>\n",
       "    </tr>\n",
       "    <tr>\n",
       "      <th>2</th>\n",
       "      <td>2</td>\n",
       "      <td>Aerolineas Argentinas</td>\n",
       "      <td>385803648</td>\n",
       "      <td>6</td>\n",
       "      <td>0.0</td>\n",
       "      <td>0</td>\n",
       "      <td>1.0</td>\n",
       "      <td>0</td>\n",
       "      <td>0.0</td>\n",
       "    </tr>\n",
       "    <tr>\n",
       "      <th>3</th>\n",
       "      <td>3</td>\n",
       "      <td>Aeromexico*</td>\n",
       "      <td>596871813</td>\n",
       "      <td>3</td>\n",
       "      <td>1.0</td>\n",
       "      <td>64</td>\n",
       "      <td>5.0</td>\n",
       "      <td>0</td>\n",
       "      <td>0.0</td>\n",
       "    </tr>\n",
       "    <tr>\n",
       "      <th>4</th>\n",
       "      <td>4</td>\n",
       "      <td>Air Canada</td>\n",
       "      <td>1865253802</td>\n",
       "      <td>2</td>\n",
       "      <td>0.0</td>\n",
       "      <td>0</td>\n",
       "      <td>2.0</td>\n",
       "      <td>0</td>\n",
       "      <td>0.0</td>\n",
       "    </tr>\n",
       "  </tbody>\n",
       "</table>\n",
       "</div>"
      ],
      "text/plain": [
       "   Unnamed: 0                airline  avail_seat_km_per_week  incidents_85_99  \\\n",
       "0           0             Aer Lingus               320906734                2   \n",
       "1           1              Aeroflot*              1197672318               76   \n",
       "2           2  Aerolineas Argentinas               385803648                6   \n",
       "3           3            Aeromexico*               596871813                3   \n",
       "4           4             Air Canada              1865253802                2   \n",
       "\n",
       "  fatal_accidents_85_99  fatalities_85_99 incidents_00_14  \\\n",
       "0                   0.0                 0             0.0   \n",
       "1                  14.0               128             six   \n",
       "2                   0.0                 0             1.0   \n",
       "3                   1.0                64             5.0   \n",
       "4                   0.0                 0             2.0   \n",
       "\n",
       "   fatal_accidents_00_14  fatalities_00_14  \n",
       "0                      0               0.0  \n",
       "1                      1              88.0  \n",
       "2                      0               0.0  \n",
       "3                      0               0.0  \n",
       "4                      0               0.0  "
      ]
     },
     "execution_count": 2,
     "metadata": {},
     "output_type": "execute_result"
    }
   ],
   "source": [
    "df.head()"
   ]
  },
  {
   "cell_type": "code",
   "execution_count": 3,
   "metadata": {
    "collapsed": false
   },
   "outputs": [
    {
     "data": {
      "text/plain": [
       "(56, 9)"
      ]
     },
     "execution_count": 3,
     "metadata": {},
     "output_type": "execute_result"
    }
   ],
   "source": [
    "df.shape"
   ]
  },
  {
   "cell_type": "code",
   "execution_count": 4,
   "metadata": {
    "collapsed": true
   },
   "outputs": [],
   "source": [
    "# Drop first column\n",
    "df.drop([df.columns[0]],inplace=True,axis=1)"
   ]
  },
  {
   "cell_type": "code",
   "execution_count": 5,
   "metadata": {
    "collapsed": false
   },
   "outputs": [
    {
     "name": "stdout",
     "output_type": "stream",
     "text": [
      "fatal_accidents_85_99 Int64Index([10], dtype='int64')\n",
      "incidents_00_14 Int64Index([40, 41, 42, 43, 44, 45, 46, 47, 48, 49, 50, 51, 52, 53, 54, 55], dtype='int64')\n",
      "fatalities_00_14 Int64Index([31, 32, 33, 34], dtype='int64')\n"
     ]
    }
   ],
   "source": [
    "# entries with missing values\n",
    "for col in df.columns:\n",
    "    if len(df.index[df[col].isnull() == True]) > 0:\n",
    "        print col, df.index[df[col].isnull() == True]"
   ]
  },
  {
   "cell_type": "code",
   "execution_count": 6,
   "metadata": {
    "collapsed": false
   },
   "outputs": [
    {
     "data": {
      "text/plain": [
       "(35, 8)"
      ]
     },
     "execution_count": 6,
     "metadata": {},
     "output_type": "execute_result"
    }
   ],
   "source": [
    "# drop missing values\n",
    "df.dropna(inplace=True)\n",
    "df.shape"
   ]
  },
  {
   "cell_type": "code",
   "execution_count": 7,
   "metadata": {
    "collapsed": false
   },
   "outputs": [
    {
     "data": {
      "text/plain": [
       "airline                    object\n",
       "avail_seat_km_per_week      int64\n",
       "incidents_85_99             int64\n",
       "fatal_accidents_85_99      object\n",
       "fatalities_85_99            int64\n",
       "incidents_00_14            object\n",
       "fatal_accidents_00_14       int64\n",
       "fatalities_00_14          float64\n",
       "dtype: object"
      ]
     },
     "execution_count": 7,
     "metadata": {},
     "output_type": "execute_result"
    }
   ],
   "source": [
    "# check types\n",
    "df.dtypes"
   ]
  },
  {
   "cell_type": "code",
   "execution_count": 8,
   "metadata": {
    "collapsed": false
   },
   "outputs": [
    {
     "data": {
      "text/plain": [
       "1"
      ]
     },
     "execution_count": 8,
     "metadata": {},
     "output_type": "execute_result"
    }
   ],
   "source": [
    "# locate unsuitable entry in incidents_00_14\n",
    "df.incidents_00_14.index[df.incidents_00_14=='six'][0]"
   ]
  },
  {
   "cell_type": "code",
   "execution_count": 9,
   "metadata": {
    "collapsed": false
   },
   "outputs": [
    {
     "name": "stderr",
     "output_type": "stream",
     "text": [
      "/Users/crahmede/anaconda/lib/python2.7/site-packages/pandas/core/indexing.py:132: SettingWithCopyWarning: \n",
      "A value is trying to be set on a copy of a slice from a DataFrame\n",
      "\n",
      "See the caveats in the documentation: http://pandas.pydata.org/pandas-docs/stable/indexing.html#indexing-view-versus-copy\n",
      "  self._setitem_with_indexer(indexer, value)\n"
     ]
    }
   ],
   "source": [
    "# cure it and transform column type\n",
    "df.incidents_00_14.iloc[df.incidents_00_14.index[df.incidents_00_14=='six'][0]] = '6'\n",
    "df.incidents_00_14 = df.incidents_00_14.astype(float)"
   ]
  },
  {
   "cell_type": "code",
   "execution_count": 10,
   "metadata": {
    "collapsed": false
   },
   "outputs": [
    {
     "data": {
      "text/plain": [
       "8"
      ]
     },
     "execution_count": 10,
     "metadata": {},
     "output_type": "execute_result"
    }
   ],
   "source": [
    "# locate unsuitable entry in fatal_accidents_85_99\n",
    "df.fatal_accidents_85_99.index[df.fatal_accidents_85_99=='zero'][0]"
   ]
  },
  {
   "cell_type": "code",
   "execution_count": 11,
   "metadata": {
    "collapsed": true
   },
   "outputs": [],
   "source": [
    "# cure it and transform column type\n",
    "df.fatal_accidents_85_99.iloc[df.fatal_accidents_85_99.index[df.fatal_accidents_85_99=='zero'][0]] = 0\n",
    "df.fatal_accidents_85_99 = df.fatal_accidents_85_99.astype(float)"
   ]
  },
  {
   "cell_type": "code",
   "execution_count": 12,
   "metadata": {
    "collapsed": true
   },
   "outputs": [],
   "source": [
    "# add new column for all fatal accidents\n",
    "df['fatal_accidents_85_2014'] = df['fatal_accidents_85_99'] + df['fatal_accidents_00_14']"
   ]
  },
  {
   "cell_type": "code",
   "execution_count": 13,
   "metadata": {
    "collapsed": false
   },
   "outputs": [
    {
     "data": {
      "text/plain": [
       "airline                     object\n",
       "avail_seat_km_per_week       int64\n",
       "incidents_85_99              int64\n",
       "fatal_accidents_85_99      float64\n",
       "fatalities_85_99             int64\n",
       "incidents_00_14            float64\n",
       "fatal_accidents_00_14        int64\n",
       "fatalities_00_14           float64\n",
       "fatal_accidents_85_2014    float64\n",
       "dtype: object"
      ]
     },
     "execution_count": 13,
     "metadata": {},
     "output_type": "execute_result"
    }
   ],
   "source": [
    "# check datatypes\n",
    "df.dtypes"
   ]
  },
  {
   "cell_type": "code",
   "execution_count": 14,
   "metadata": {
    "collapsed": false
   },
   "outputs": [
    {
     "data": {
      "text/html": [
       "<div>\n",
       "<table border=\"1\" class=\"dataframe\">\n",
       "  <thead>\n",
       "    <tr style=\"text-align: right;\">\n",
       "      <th></th>\n",
       "      <th>avail_seat_km_per_week</th>\n",
       "      <th>incidents_85_99</th>\n",
       "      <th>fatal_accidents_85_99</th>\n",
       "      <th>fatalities_85_99</th>\n",
       "      <th>incidents_00_14</th>\n",
       "      <th>fatal_accidents_00_14</th>\n",
       "      <th>fatalities_00_14</th>\n",
       "      <th>fatal_accidents_85_2014</th>\n",
       "    </tr>\n",
       "  </thead>\n",
       "  <tbody>\n",
       "    <tr>\n",
       "      <th>count</th>\n",
       "      <td>3.500000e+01</td>\n",
       "      <td>35.0000</td>\n",
       "      <td>35.000000</td>\n",
       "      <td>35.000000</td>\n",
       "      <td>35.000000</td>\n",
       "      <td>35.000000</td>\n",
       "      <td>35.000000</td>\n",
       "      <td>35.000000</td>\n",
       "    </tr>\n",
       "    <tr>\n",
       "      <th>mean</th>\n",
       "      <td>1.214864e+09</td>\n",
       "      <td>8.0000</td>\n",
       "      <td>2.142857</td>\n",
       "      <td>109.200000</td>\n",
       "      <td>4.057143</td>\n",
       "      <td>0.685714</td>\n",
       "      <td>59.457143</td>\n",
       "      <td>2.828571</td>\n",
       "    </tr>\n",
       "    <tr>\n",
       "      <th>std</th>\n",
       "      <td>1.406822e+09</td>\n",
       "      <td>13.4186</td>\n",
       "      <td>3.228029</td>\n",
       "      <td>155.217457</td>\n",
       "      <td>4.819952</td>\n",
       "      <td>0.866753</td>\n",
       "      <td>105.791233</td>\n",
       "      <td>3.721841</td>\n",
       "    </tr>\n",
       "    <tr>\n",
       "      <th>min</th>\n",
       "      <td>2.774148e+08</td>\n",
       "      <td>0.0000</td>\n",
       "      <td>0.000000</td>\n",
       "      <td>0.000000</td>\n",
       "      <td>0.000000</td>\n",
       "      <td>0.000000</td>\n",
       "      <td>0.000000</td>\n",
       "      <td>0.000000</td>\n",
       "    </tr>\n",
       "    <tr>\n",
       "      <th>25%</th>\n",
       "      <td>4.049649e+08</td>\n",
       "      <td>2.0000</td>\n",
       "      <td>0.000000</td>\n",
       "      <td>0.000000</td>\n",
       "      <td>1.000000</td>\n",
       "      <td>0.000000</td>\n",
       "      <td>0.000000</td>\n",
       "      <td>0.500000</td>\n",
       "    </tr>\n",
       "    <tr>\n",
       "      <th>50%</th>\n",
       "      <td>6.133567e+08</td>\n",
       "      <td>4.0000</td>\n",
       "      <td>1.000000</td>\n",
       "      <td>47.000000</td>\n",
       "      <td>3.000000</td>\n",
       "      <td>0.000000</td>\n",
       "      <td>0.000000</td>\n",
       "      <td>1.000000</td>\n",
       "    </tr>\n",
       "    <tr>\n",
       "      <th>75%</th>\n",
       "      <td>1.385945e+09</td>\n",
       "      <td>7.5000</td>\n",
       "      <td>3.000000</td>\n",
       "      <td>157.500000</td>\n",
       "      <td>5.000000</td>\n",
       "      <td>1.000000</td>\n",
       "      <td>88.000000</td>\n",
       "      <td>4.500000</td>\n",
       "    </tr>\n",
       "    <tr>\n",
       "      <th>max</th>\n",
       "      <td>6.525659e+09</td>\n",
       "      <td>76.0000</td>\n",
       "      <td>14.000000</td>\n",
       "      <td>535.000000</td>\n",
       "      <td>24.000000</td>\n",
       "      <td>3.000000</td>\n",
       "      <td>416.000000</td>\n",
       "      <td>15.000000</td>\n",
       "    </tr>\n",
       "  </tbody>\n",
       "</table>\n",
       "</div>"
      ],
      "text/plain": [
       "       avail_seat_km_per_week  incidents_85_99  fatal_accidents_85_99  \\\n",
       "count            3.500000e+01          35.0000              35.000000   \n",
       "mean             1.214864e+09           8.0000               2.142857   \n",
       "std              1.406822e+09          13.4186               3.228029   \n",
       "min              2.774148e+08           0.0000               0.000000   \n",
       "25%              4.049649e+08           2.0000               0.000000   \n",
       "50%              6.133567e+08           4.0000               1.000000   \n",
       "75%              1.385945e+09           7.5000               3.000000   \n",
       "max              6.525659e+09          76.0000              14.000000   \n",
       "\n",
       "       fatalities_85_99  incidents_00_14  fatal_accidents_00_14  \\\n",
       "count         35.000000        35.000000              35.000000   \n",
       "mean         109.200000         4.057143               0.685714   \n",
       "std          155.217457         4.819952               0.866753   \n",
       "min            0.000000         0.000000               0.000000   \n",
       "25%            0.000000         1.000000               0.000000   \n",
       "50%           47.000000         3.000000               0.000000   \n",
       "75%          157.500000         5.000000               1.000000   \n",
       "max          535.000000        24.000000               3.000000   \n",
       "\n",
       "       fatalities_00_14  fatal_accidents_85_2014  \n",
       "count         35.000000                35.000000  \n",
       "mean          59.457143                 2.828571  \n",
       "std          105.791233                 3.721841  \n",
       "min            0.000000                 0.000000  \n",
       "25%            0.000000                 0.500000  \n",
       "50%            0.000000                 1.000000  \n",
       "75%           88.000000                 4.500000  \n",
       "max          416.000000                15.000000  "
      ]
     },
     "execution_count": 14,
     "metadata": {},
     "output_type": "execute_result"
    }
   ],
   "source": [
    "# print summary statistics\n",
    "df.describe()"
   ]
  },
  {
   "cell_type": "code",
   "execution_count": 20,
   "metadata": {
    "collapsed": false
   },
   "outputs": [
    {
     "data": {
      "text/plain": [
       "0       0\n",
       "1      88\n",
       "2       0\n",
       "3       0\n",
       "4       0\n",
       "5     337\n",
       "6     158\n",
       "7       7\n",
       "8      88\n",
       "9       0\n",
       "11    416\n",
       "12      0\n",
       "13      0\n",
       "14      0\n",
       "15      0\n",
       "16    225\n",
       "17      0\n",
       "18      0\n",
       "19     51\n",
       "20     14\n",
       "21      0\n",
       "22     92\n",
       "23      0\n",
       "24     22\n",
       "25    143\n",
       "26      0\n",
       "27      0\n",
       "28      0\n",
       "29    283\n",
       "30      0\n",
       "35     46\n",
       "36      1\n",
       "37      0\n",
       "38      0\n",
       "39    110\n",
       "Name: fatalities_00_14, dtype: int64"
      ]
     },
     "execution_count": 20,
     "metadata": {},
     "output_type": "execute_result"
    }
   ],
   "source": [
    "df.fatalities_00_14.astype(int)"
   ]
  },
  {
   "cell_type": "code",
   "execution_count": null,
   "metadata": {
    "collapsed": true
   },
   "outputs": [],
   "source": []
  }
 ],
 "metadata": {
  "anaconda-cloud": {},
  "kernelspec": {
   "display_name": "Python [conda root]",
   "language": "python",
   "name": "conda-root-py"
  },
  "language_info": {
   "codemirror_mode": {
    "name": "ipython",
    "version": 2
   },
   "file_extension": ".py",
   "mimetype": "text/x-python",
   "name": "python",
   "nbconvert_exporter": "python",
   "pygments_lexer": "ipython2",
   "version": "2.7.12"
  }
 },
 "nbformat": 4,
 "nbformat_minor": 1
}
