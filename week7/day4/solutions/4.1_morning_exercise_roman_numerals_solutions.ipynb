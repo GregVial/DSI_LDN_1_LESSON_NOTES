{
 "cells": [
  {
   "cell_type": "markdown",
   "metadata": {},
   "source": [
    "# ![](https://ga-dash.s3.amazonaws.com/production/assets/logo-9f88ae6c9c3871690e33280fcf557f33.png) Roman Numerals\n",
    "Week 7 | Morning Exercise 4.1"
   ]
  },
  {
   "cell_type": "markdown",
   "metadata": {},
   "source": [
    "Once again we will take a brief side track from data science to look at a pure python coding problem. These sorts of problems are fairly common in recruiting tasks, particularly from larger companies so it does pay to get some \n",
    "practice. A good resource for example problems I can recommend is [Project Euler.](https://projecteuler.net/) \n",
    "\n",
    "1. Write a function to_roman() that converts an integer to its value as a Roman numeral\n",
    "- Write a function from_roman() that does the reverse\n",
    "- Put this together in a function that takes Roman numerals and performs e.g. addition, subtraction, multiplication, division and outputs a Roman numeral as the result\n",
    "- Bonus: have a think about how the Romans must have performed such operations? Not very easily. When you add, for example, 18 and 21 then you can independently add the 10s (1+2) and the 1s (8+1). This makes a big difference, or anyway it did before computers...\n",
    "\n",
    "If you recall from your schooldays:\n",
    "- I is one\n",
    "- V is five\n",
    "- X is ten\n",
    "- L is fifty\n",
    "- C is one hundred\n",
    "- D is five hundred\n",
    "- M is one thousand\n",
    "\n",
    "As you know, numbers are concatenated such that any equally-sized or smaller number that follows to the right is added and any single smaller number that is to the left is subtracted. Furthermore in a subtraction condition you must first stack the numbers from the left hand side for addition before the penultimate number, which would represent a subtraction from the ultimate number. Hence XXI=21 whereas XIX=19 and IXX does not exist. A rule of thumb is enforced that a number is not represented in a subtracted if it is lower than around 1/10th the size of the succeeding number, which means that eg 99 is not represented by IC but rather by XCIX.\n",
    "\n",
    "Interestingly, there are no symbols for larger numbers than 1000 so you must simply concatenate M many times. Negative numbers apparently simply did not exist, and although fractions were used there was not any standardised notation and no concept of decimals at all. As you may infer irrational numbers such as $\\pi$ were unknown. These innovations reached Europe after developments in India with a symbol for 0 (so for example 308 rather than CCCVIII), transmitted  via Arabic scholars in the Middle Ages (hence _Arabic numerals_)."
   ]
  },
  {
   "cell_type": "code",
   "execution_count": 1,
   "metadata": {
    "collapsed": true
   },
   "outputs": [],
   "source": [
    "def to_roman(n):\n",
    "    try:\n",
    "        n = int(n)\n",
    "    except:\n",
    "        raise ValueError(\"Please enter a number\")\n",
    "        \n",
    "    if n >= 1000 or n < 0:\n",
    "        raise ValueError(\"Number must be between 1 - 1000\")\n",
    "        \n",
    "    \n",
    "    c3 = ['','C','CC','CCC','CD','D', 'DC', 'DCC', 'DCCC', 'CM']\n",
    "    c2 = ['','X','XX','XXX','XL','L','LX','LXX','LXXX','XC']\n",
    "    c1 = ['','I','II','III','IV','V','VI','VII','VIII','IX']\n",
    "    \n",
    "    return c3[n//100] + c2[(n%100)//10] + c1[(n%10)]"
   ]
  },
  {
   "cell_type": "code",
   "execution_count": 3,
   "metadata": {
    "collapsed": false
   },
   "outputs": [],
   "source": [
    "def to_roman2(n):\n",
    "    try:\n",
    "        n = int(n)\n",
    "    except:\n",
    "        raise ValueError(\"Please enter a number\")\n",
    "        \n",
    "    if n >= 1100 or n < 0:\n",
    "        raise ValueError(\"Number must be between 1 - 1000\")\n",
    "        \n",
    "    \n",
    "    c3 = ['','C','CC','CCC','CD','D', 'DC', 'DCC', 'DCCC', 'CM' ,'M', 'MC']\n",
    "    c2 = ['','X','XX','XXX','XL','L','LX','LXX','LXXX','XC']\n",
    "    c1 = ['','I','II','III','IV','V','VI','VII','VIII','IX']\n",
    "    \n",
    "    return c3[n//100] + c2[(n%100)//10] + c1[(n%10)]"
   ]
  },
  {
   "cell_type": "code",
   "execution_count": 4,
   "metadata": {
    "collapsed": false
   },
   "outputs": [
    {
     "data": {
      "text/plain": [
       "'ML'"
      ]
     },
     "execution_count": 4,
     "metadata": {},
     "output_type": "execute_result"
    }
   ],
   "source": [
    "to_roman2(1050)"
   ]
  },
  {
   "cell_type": "code",
   "execution_count": null,
   "metadata": {
    "collapsed": true
   },
   "outputs": [],
   "source": []
  },
  {
   "cell_type": "code",
   "execution_count": null,
   "metadata": {
    "collapsed": true
   },
   "outputs": [],
   "source": [
    "def from_roman(r):\n",
    "    n = 0\n",
    "    \n",
    "    d = {'I':1,'V':5,'X':10,'L':50,'C':100,'D':500,'M':1000}\n",
    "    \n",
    "    for i in range(len(r)-1):\n",
    "        \n",
    "        if d[r[i]] >= d[r[i+1]]:\n",
    "            n += d[r[i]]\n",
    "            \n",
    "        else:\n",
    "            n -= d[r[i]] \n",
    "            \n",
    "        print n\n",
    "                \n",
    "    n += d[r[-1]]\n",
    "    \n",
    "    return n\n",
    "    "
   ]
  },
  {
   "cell_type": "code",
   "execution_count": null,
   "metadata": {
    "collapsed": true
   },
   "outputs": [],
   "source": []
  },
  {
   "cell_type": "code",
   "execution_count": null,
   "metadata": {
    "collapsed": true
   },
   "outputs": [],
   "source": []
  },
  {
   "cell_type": "code",
   "execution_count": null,
   "metadata": {
    "collapsed": true
   },
   "outputs": [],
   "source": []
  }
 ],
 "metadata": {
  "anaconda-cloud": {},
  "kernelspec": {
   "display_name": "Python [default]",
   "language": "python",
   "name": "python2"
  },
  "language_info": {
   "codemirror_mode": {
    "name": "ipython",
    "version": 2
   },
   "file_extension": ".py",
   "mimetype": "text/x-python",
   "name": "python",
   "nbconvert_exporter": "python",
   "pygments_lexer": "ipython2",
   "version": "2.7.12"
  }
 },
 "nbformat": 4,
 "nbformat_minor": 0
}
