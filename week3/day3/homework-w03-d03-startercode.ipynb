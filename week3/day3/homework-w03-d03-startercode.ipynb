{
 "cells": [
  {
   "cell_type": "markdown",
   "metadata": {},
   "source": [
    "# Homework w03d03\n",
    "\n",
    "Use again the auto dataset. This time we want to use cross validation to assess the quality of various models.\n",
    "1. Split the dataset into a training set and a test set. \n",
    "1. Using linear regression, calculate the mean squared error (MSE) and the R-squared for all possible single predictor models on the training set and the test set. Which one performs best?\n",
    "1. Using linear regression, calculate the mean squared error (MSE) and the R-squared for fitting mpg on an polynomial in horsepower with degree varying from 1 to 5 on the trainig set and the test set. Which one performs best? \n",
    "1. Perform an ordinary least squares fit to mpg with all features except name, calculate the mean squared error (MSE) and the R-squared on the trainig set and the test set."
   ]
  },
  {
   "cell_type": "code",
   "execution_count": 1,
   "metadata": {
    "collapsed": false
   },
   "outputs": [],
   "source": [
    "# load libraries\n",
    "import pandas as pd\n",
    "import numpy as np\n",
    "%matplotlib inline\n",
    "from matplotlib import pyplot as plt\n",
    "import seaborn as sns\n",
    "from sklearn.cross_validation import train_test_split\n",
    "from sklearn import linear_model\n",
    "from sklearn.metrics import mean_squared_error, mean_absolute_error, r2_score\n",
    "\n",
    "# read in data indicating the correct path\n",
    "df = pd.read_csv('../day1/Auto.csv')\n",
    "# drop missing values and convert datatype\n",
    "df.dropna(inplace=True)\n",
    "df.drop(list(df.index[df.horsepower=='?']),inplace=True)\n",
    "df.horsepower = df.horsepower.astype(int)"
   ]
  },
  {
   "cell_type": "markdown",
   "metadata": {},
   "source": [
    "Define your response y and feature matrix X and \n",
    "use the train_test_split function to split the data set into a training and a test set.\n",
    "Use 20 percent of the original dataset as the test set."
   ]
  },
  {
   "cell_type": "markdown",
   "metadata": {},
   "source": [
    "### 1. Split the dataset into a training set and a test set. "
   ]
  },
  {
   "cell_type": "code",
   "execution_count": 2,
   "metadata": {
    "collapsed": false
   },
   "outputs": [],
   "source": [
    "X = df.ix[:,1:8]\n",
    "y = df.mpg\n",
    "X_train, X_test, y_train, y_test = train_test_split(X,y, test_size=0.2, random_state=10)\n",
    "df_train = X_train.join(y_train)\n",
    "df_test = X_test.join(y_test)"
   ]
  },
  {
   "cell_type": "markdown",
   "metadata": {},
   "source": [
    "### 2. Using linear regression, calculate the mean squared error (MSE) and the R-squared for all possible single predictor models on the training set and the test set. Which one performs best?"
   ]
  },
  {
   "cell_type": "code",
   "execution_count": 3,
   "metadata": {
    "collapsed": false
   },
   "outputs": [
    {
     "name": "stdout",
     "output_type": "stream",
     "text": [
      "mpg ~ cylinders Train r^2: 0.605528\n",
      "\t\tTrain MSE: 23.696967\n",
      "\t\tTest r^2: 0.586027\n",
      "\t\tTest MSE: 25.399000\n",
      "mpg ~ displacement Train r^2: 0.640203\n",
      "\t\tTrain MSE: 21.613955\n",
      "\t\tTest r^2: 0.666215\n",
      "\t\tTest MSE: 20.479160\n",
      "mpg ~ horsepower Train r^2: 0.605326\n",
      "\t\tTrain MSE: 23.709129\n",
      "\t\tTest r^2: 0.590135\n",
      "\t\tTest MSE: 25.146933\n",
      "mpg ~ weight Train r^2: 0.688836\n",
      "\t\tTrain MSE: 18.692441\n",
      "\t\tTest r^2: 0.695988\n",
      "\t\tTest MSE: 18.652400\n",
      "mpg ~ acceleration Train r^2: 0.157431\n",
      "\t\tTrain MSE: 50.615355\n",
      "\t\tTest r^2: 0.220318\n",
      "\t\tTest MSE: 47.836817\n",
      "mpg ~ year Train r^2: 0.319669\n",
      "\t\tTrain MSE: 40.869337\n",
      "\t\tTest r^2: 0.372025\n",
      "\t\tTest MSE: 38.528921\n",
      "mpg ~ origin Train r^2: 0.332835\n",
      "\t\tTrain MSE: 40.078413\n",
      "\t\tTest r^2: 0.242698\n",
      "\t\tTest MSE: 46.463719\n",
      "\n",
      "Best formula maximizing r^2 on training set: mpg ~ weight : 0.688836\n",
      "\n",
      "Best formula minimizing MSE on training set: mpg ~ weight : 18.692441\n",
      "\n",
      "Best formula maximizing r^2 on testing set: mpg ~ weight : 0.695988\n",
      "\n",
      "Best formula minimizing MSE on testing set: mpg ~ weight : 18.652400\n"
     ]
    }
   ],
   "source": [
    "import statsmodels.formula.api as smf\n",
    "\n",
    "# Run on the training set\n",
    "max_train = -1\n",
    "min_train = 10**10\n",
    "form_max_train = \"\"\n",
    "max_test = -1\n",
    "min_test = 10**10\n",
    "form_max_test = \"\"\n",
    "for v1 in X_train:\n",
    "    formula = \"mpg ~ \" + v1\n",
    "    model=smf.ols(formula, df_train).fit()\n",
    "    predictions=model.predict(X_train)\n",
    "    rsq_train = model.rsquared\n",
    "    print(\"%s Train r^2: %f\" % (formula, rsq_train))\n",
    "    print(\"\\t\\tTrain MSE: %f\" % (mean_squared_error(y_train,predictions)))\n",
    "    predictions_test = model.predict(X_test)\n",
    "    rsq_test = r2_score(y_test,predictions_test)\n",
    "    print(\"\\t\\tTest r^2: %f\" % (rsq_test))\n",
    "    print(\"\\t\\tTest MSE: %f\" % mean_squared_error(y_test,predictions_test))\n",
    "    if rsq_train > max_train:\n",
    "        max_train = rsq_train\n",
    "        form_max_train = formula\n",
    "    if mean_squared_error(y_train,predictions) < min_train:\n",
    "        min_train =  mean_squared_error(y_train,predictions)\n",
    "        form_min_train = formula\n",
    "    if rsq_test > max_test:\n",
    "        max_test = rsq_test\n",
    "        form_max_test = formula\n",
    "    if mean_squared_error(y_test,predictions_test) < min_test:\n",
    "        min_test = mean_squared_error(y_test,predictions_test)\n",
    "        form_min_test = formula\n",
    "\n",
    "print(\"\\nBest formula maximizing r^2 on training set: %s : %f\" % (form_max_train,max_train))\n",
    "print(\"\\nBest formula minimizing MSE on training set: %s : %f\" % (form_min_train,min_train))\n",
    "print(\"\\nBest formula maximizing r^2 on testing set: %s : %f\" % (form_max_test,max_test))\n",
    "print(\"\\nBest formula minimizing MSE on testing set: %s : %f\" % (form_min_test,min_test))"
   ]
  },
  {
   "cell_type": "markdown",
   "metadata": {},
   "source": [
    "In both cases we identify weight as the variable which best predicts mpg."
   ]
  },
  {
   "cell_type": "markdown",
   "metadata": {},
   "source": [
    "### 3. Using linear regression, calculate the mean squared error (MSE) and the R-squared for fitting mpg on an polynomial in horsepower with degree varying from 1 to 5 on the trainig set and the test set. Which one performs best? "
   ]
  },
  {
   "cell_type": "code",
   "execution_count": 4,
   "metadata": {
    "collapsed": true
   },
   "outputs": [],
   "source": [
    "def polynomials(X, degree=1):\n",
    "    # See also numpy.vander\n",
    "    array = [X]\n",
    "    y = X\n",
    "    for i in range(2, int(degree + 1)):\n",
    "        y = y * X\n",
    "        array.append(y)\n",
    "    return np.array(array).transpose()\n",
    "\n"
   ]
  },
  {
   "cell_type": "code",
   "execution_count": 5,
   "metadata": {
    "collapsed": false
   },
   "outputs": [],
   "source": [
    "X_train_hp = X_train[\"horsepower\"]\n",
    "X_test_hp = X_test[\"horsepower\"]"
   ]
  },
  {
   "cell_type": "code",
   "execution_count": 6,
   "metadata": {
    "collapsed": false
   },
   "outputs": [
    {
     "name": "stdout",
     "output_type": "stream",
     "text": [
      "Polynomial 1 \t Train r^2: 0.605326\n",
      "\t\tTrain MSE: 23.709129\n",
      "\t\tTest r^2: 0.590135\n",
      "\t\tTest MSE: 25.146933\n",
      "Polynomial 2 \t Train r^2: 0.681084\n",
      "\t\tTrain MSE: 19.158114\n",
      "\t\tTest r^2: 0.696033\n",
      "\t\tTest MSE: 18.649665\n",
      "Polynomial 3 \t Train r^2: 0.681108\n",
      "\t\tTrain MSE: 19.156716\n",
      "\t\tTest r^2: 0.697054\n",
      "\t\tTest MSE: 18.587045\n",
      "Polynomial 4 \t Train r^2: 0.682991\n",
      "\t\tTrain MSE: 19.043592\n",
      "\t\tTest r^2: 0.693747\n",
      "\t\tTest MSE: 18.789948\n",
      "Polynomial 5 \t Train r^2: 0.690188\n",
      "\t\tTrain MSE: 18.611224\n",
      "\t\tTest r^2: 0.700883\n",
      "\t\tTest MSE: 18.352103\n",
      "\n",
      "Best degree polynomial is 5 with r^2 on training set: 0.690188\n",
      "\n",
      "Best degree polynomial is 5 with MSE on training set: 18.611224\n",
      "\n",
      "Best degree polynomial is 5 with r^2 on testing set: 0.700883\n",
      "\n",
      "Best degree polynomial is 5 with MSE on testing set: 18.352103\n"
     ]
    }
   ],
   "source": [
    "import statsmodels.api as sm\n",
    "\n",
    "# Run on the training set\n",
    "max_train = -1\n",
    "min_train = 10**10\n",
    "best_pol_rs2_train=0\n",
    "best_pol_mse_train=0\n",
    "max_test = -1\n",
    "min_test = 10**10\n",
    "best_pol_rs2_test=0\n",
    "best_pol_mse_test=0\n",
    "\n",
    "\n",
    "for i in range(1,6):\n",
    "    X_train_hp_pol = polynomials(X_train_hp,i)\n",
    "    X_train_hp_pol = sm.add_constant(X_train_hp_pol)\n",
    "    X_test_hp_pol = polynomials(X_test_hp,i)\n",
    "    X_test_hp_pol = sm.add_constant(X_test_hp_pol)\n",
    "    model = sm.OLS(y_train, X_train_hp_pol).fit() # OLS stands for ordinary least squares\n",
    "    predictions=model.predict(X_train_hp_pol)\n",
    "    rsq_train = r2_score(y_train,predictions)\n",
    "    print(\"Polynomial %d \\t Train r^2: %f\" % (i,rsq_train))\n",
    "    print(\"\\t\\tTrain MSE: %f\" % (mean_squared_error(y_train,predictions)))\n",
    "    predictions_test=model.predict(X_test_hp_pol)\n",
    "    rsq_test = r2_score(y_test,predictions_test)\n",
    "    print(\"\\t\\tTest r^2: %f\" % (rsq_test))\n",
    "    print(\"\\t\\tTest MSE: %f\" % (mean_squared_error(y_test,predictions_test)))\n",
    "    if rsq_train > max_train:\n",
    "        max_train = rsq_train\n",
    "        best_pol_rs2_train=i\n",
    "    if mean_squared_error(y_train,predictions) < min_train:\n",
    "        min_train = mean_squared_error(y_train,predictions)\n",
    "        best_pol_mse_train = i\n",
    "    if rsq_test > max_test:\n",
    "        max_test = rsq_test\n",
    "        best_pol_rs2_test=i\n",
    "    if mean_squared_error(y_test,predictions_test) < min_test:\n",
    "        min_test = mean_squared_error(y_test,predictions_test)\n",
    "        best_pol_mse_test = i\n",
    "\n",
    "print(\"\\nBest degree polynomial is %d with r^2 on training set: %f\" % (best_pol_rs2_train,max_train))\n",
    "print(\"\\nBest degree polynomial is %d with MSE on training set: %f\" % (best_pol_mse_train,min_train))\n",
    "print(\"\\nBest degree polynomial is %d with r^2 on testing set: %f\" % (best_pol_rs2_test,max_test))\n",
    "print(\"\\nBest degree polynomial is %d with MSE on testing set: %f\" % (best_pol_mse_test,min_test))"
   ]
  },
  {
   "cell_type": "markdown",
   "metadata": {},
   "source": [
    "As expected in the train case the higher order polynomial performs better for both MSE and r2, but most likely it is overfitting the model.\n",
    "\n",
    "This should show when using this same model on the test data were we expect high polynomial to have poor performance. However here is not the case, it appears high order polynomial is showing good results with the test data. This may show an error in the model construction."
   ]
  },
  {
   "cell_type": "markdown",
   "metadata": {},
   "source": [
    "### 4. Perform an ordinary least squares fit to mpg with all features except name, calculate the mean squared error (MSE) and the R-squared on the trainig set and the test set."
   ]
  },
  {
   "cell_type": "code",
   "execution_count": 8,
   "metadata": {
    "collapsed": false
   },
   "outputs": [
    {
     "name": "stdout",
     "output_type": "stream",
     "text": [
      "mpg ~ cylinders + displacement + horsepower + weight + acceleration + year + origin Train r^2: 0.828055\n",
      "\t\tTrain MSE: 10.329184\n",
      "\t\tTest r^2: 0.784712\n",
      "\t\tTest MSE: 13.208830\n"
     ]
    }
   ],
   "source": [
    "formula = \"mpg ~ cylinders + displacement + horsepower + weight + acceleration + year + origin\"\n",
    "model=smf.ols(formula, df_train).fit()\n",
    "predictions=model.predict(X_train)\n",
    "rsq_train = model.rsquared\n",
    "print(\"%s Train r^2: %f\" % (formula, rsq_train))\n",
    "print(\"\\t\\tTrain MSE: %f\" % (mean_squared_error(y_train,predictions)))\n",
    "predictions_test = model.predict(X_test)\n",
    "rsq_test = r2_score(y_test,predictions_test)\n",
    "print(\"\\t\\tTest r^2: %f\" % (rsq_test))\n",
    "print(\"\\t\\tTest MSE: %f\" % mean_squared_error(y_test,predictions_test))"
   ]
  },
  {
   "cell_type": "markdown",
   "metadata": {},
   "source": [
    "Here the outcome is expected. We have better r2 and MSE on the training than on the test set."
   ]
  }
 ],
 "metadata": {
  "anaconda-cloud": {},
  "kernelspec": {
   "display_name": "Python [conda root]",
   "language": "python",
   "name": "conda-root-py"
  },
  "language_info": {
   "codemirror_mode": {
    "name": "ipython",
    "version": 2
   },
   "file_extension": ".py",
   "mimetype": "text/x-python",
   "name": "python",
   "nbconvert_exporter": "python",
   "pygments_lexer": "ipython2",
   "version": "2.7.12"
  }
 },
 "nbformat": 4,
 "nbformat_minor": 1
}
