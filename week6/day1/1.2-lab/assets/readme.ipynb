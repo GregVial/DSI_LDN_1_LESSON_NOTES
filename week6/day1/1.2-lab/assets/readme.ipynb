{
 "cells": [
  {
   "cell_type": "markdown",
   "metadata": {},
   "source": [
    "---\n",
    "title: Decision Trees Lab\n",
    "type: lab\n",
    "duration: \"1:25\"\n",
    "creator:\n",
    "    name: Francesco Mosconi\n",
    "    city: SF\n",
    "---"
   ]
  },
  {
   "cell_type": "markdown",
   "metadata": {},
   "source": [
    "# ![](https://ga-dash.s3.amazonaws.com/production/assets/logo-9f88ae6c9c3871690e33280fcf557f33.png) Decision Trees Lab"
   ]
  },
  {
   "cell_type": "markdown",
   "metadata": {},
   "source": [
    "## Introduction\n",
    "\n",
    "In this lab we will discover how to apply decision trees to regression and classification problems. In particular we will use regression trees to predict the price of used_cars and classification trees to predict the acceptability of cars."
   ]
  },
  {
   "cell_type": "markdown",
   "metadata": {},
   "source": [
    "## Exercise\n",
    "\n",
    "### Requirements\n",
    "\n",
    "1. Build a regression tree\n",
    "- Build a regression tree in scikit-learn\n",
    "    - Global parameters\n",
    "    - Feature importances\n",
    "    - Tree visualization\n",
    "    - Use GridSearchCV to find te best Regression Tree\n",
    "- Classification trees\n",
    "    - Building a classification tree in scikit-learn\n",
    "\n",
    "**Bonus:**\n",
    "\n",
    "- Visualize a more complex tree and interpret it\n",
    "\n",
    "\n",
    "### Code\n",
    "\n",
    "[Starter Code](./code/starter-code/starter-code-1_2.ipynb)\n",
    "\n",
    ">[Solution Code](./code/solution-code/solution-code-1_2.ipynb)"
   ]
  },
  {
   "cell_type": "markdown",
   "metadata": {},
   "source": [
    "## Additional resources\n",
    "\n",
    "- [scikit-learn documentation on Decision Trees](http://scikit-learn.org/stable/modules/tree.html)\n",
    "- [Gini Vs Entropy](http://www.garysieling.com/blog/sklearn-gini-vs-entropy-criteria)"
   ]
  }
 ],
 "metadata": {
  "kernelspec": {
   "display_name": "Python 2",
   "language": "python",
   "name": "python2"
  },
  "language_info": {
   "codemirror_mode": {
    "name": "ipython",
    "version": 2
   },
   "file_extension": ".py",
   "mimetype": "text/x-python",
   "name": "python",
   "nbconvert_exporter": "python",
   "pygments_lexer": "ipython2",
   "version": "2.7.11"
  }
 },
 "nbformat": 4,
 "nbformat_minor": 0
}
