{
 "cells": [
  {
   "cell_type": "markdown",
   "metadata": {},
   "source": [
    "# ![](https://ga-dash.s3.amazonaws.com/production/assets/logo-9f88ae6c9c3871690e33280fcf557f33.png) Feature Selection\n",
    "Week 5 | Lesson 4.1"
   ]
  },
  {
   "cell_type": "markdown",
   "metadata": {},
   "source": [
    "### LEARNING OBJECTIVES\n",
    "*After this lesson, you will be able to:*\n",
    "- describe what feature selection means and why it is important\n",
    "- evaluate several techniques for feature selection\n",
    "- use L1 and L2 regularization for feature selection"
   ]
  },
  {
   "cell_type": "markdown",
   "metadata": {},
   "source": [
    "### STUDENT PRE-WORK\n",
    "*Before this lesson, you should already be able to:*\n",
    "- perform regression\n",
    "- perform classification"
   ]
  },
  {
   "cell_type": "markdown",
   "metadata": {},
   "source": [
    "<a name=\"opening\"></a>\n",
    "## Opening\n",
    "In this class we will go over feature selection.\n",
    "Feature selection is an important part of the model building process and there are several ways to approach it.\n",
    "\n",
    "**Check:** Can anyone guess why we may want to select features?\n"
   ]
  },
  {
   "cell_type": "markdown",
   "metadata": {},
   "source": [
    "<a name=\"introduction\"></a>\n",
    "## Introduction: Feature Selection\n",
    "\n",
    "In machine learning we usually start from a vector of features that encapsulate different aspects of our data and we use these to train a model that predicts a target variable.\n",
    "Many of the datasets we have encountered so far were in tabular format, and features were well defined already. This is often not the case at all!\n",
    "\n",
    "**Check** Can you give a couple of examples of data where features must be extracted?\n",
    "\n",
    "\n",
    "For example, in the case of text data, a data-point usually corresponds to a document or a sentence, and we have to use feature extraction techniques to map each document to a vector of numbers. Similarly, to classify images, we must first represent them as a vector of numbers.\n",
    "As we have seen with the `CountVectorizer` for text data, feature extraction can result in a very large number of features, some of which may have more predictive power than others.\n",
    "\n",
    "|Text|the|cat|is|on|table|blue|sky|...|\n",
    "|----|\n",
    "|The cat is on the table|2|1|1|1|1|0|0|...|\n",
    "|The table is blue|1|0|1|0|1|1|0|...|\n",
    "|The sky is blue|1|0|1|0|0|0|1|...|\n",
    "|...|...|...|...|...|...|...|...|...|\n",
    "\n",
    "In the above example the word `the` probably has zero predictive power.\n",
    "\n",
    "In a different scenario, the tabular data may be a result of a database dump where irrelevant columns were not removed.\n",
    "\n",
    "\n",
    "|CustomerID |CompanyName |ContactName | ContactTitle |Address|City | Region | PostalCode | Country |Phone | Fax|\n",
    "|---|\n",
    "|ALFKI| Alfreds Futterkiste| Maria Anders | Sales Representative | Obere Str. 57 | Berlin|| 12209| Germany | 030-0074321| 030-0076545|\n",
    "|ANATR| Ana Trujillo Emparedados y helados | Ana Trujillo | Owner| Avda. de la Constitución 2222 | México D.F. || 05021| Mexico| (5) 555-4729 | (5) 555-3745|\n",
    "|ANTON| Antonio Moreno Taquería| Antonio Moreno | Owner| Mataderos2312 | México D.F. || 05023| Mexico| (5) 555-3932 ||\n",
    "|...|...|...|...|...|...|...|...|...|...|...|\n",
    "\n",
    "Feature Selection is a way to reduce the number of features to simplify the model while retaining its predictive power.\n",
    "\n",
    "\n",
    "\n",
    "### Bottom up feature selection / forward stepwise selection\n",
    "\n",
    "One way to select features is to start with no predictors, so for example a logistic regression against a constant as the sole feature. We then add in each of the p possible features and find the single feature that gives the highest score metric we are testing, and then iteratively add the other features one by one, each time checking how much the score improves and adding specifically the one feature that improves the score the most each time. Score improvement will hence be smaller and smaller the more features we add; adding complexity to the model will yield diminishing returns.\n",
    "\n",
    "One can then set a criteria to only retain the first N features or the first features that achieve e.g. 90% as good a score as the model with all p features (bear in mind this could be _a lot_ fewer features than p).\n",
    "\n",
    "You might notice that we do not test every possible model this way, what about all the other combinations of features that are possible? This process is computationally more feasible than an approach taking all possible combinations and likely to yield similar results. Fitting all possible feature combinations is known as the **best subset selection**.\n",
    "\n",
    "For 20 possible features, there are 211 models to be tested in forward stepwise selection. For best subset selection, there are 1,048,576 models to be tested. How long do you have? \n",
    "\n",
    "\n",
    "### Top Down feature selection / backward stepwise selection, and hybrid approaches\n",
    "\n",
    "Obviously, we can do this process in reverse and start with the full model with all features and remove the least predictive one at each step. This would not necessarily end with the same features as the forward stepwise approach. More interestingly, a hybrid approach could be taken with, e.g. a forward stepwise approach that then performans a backward analysis to check if a different feature might be removed each time a new one has been added. This more closely approximates a full best subset fit whilst still involving a smaller number of total model fits.\n",
    "\n",
    "\n",
    "### Regularisation\n",
    "\n",
    "Regularisation imposes a global constraint on the values of the parameters that define the model. The regularized model is found solving a new minimisation problem where two terms are present: the term defining the model and the term defining the regularisation.\n",
    "\n",
    "In general, a regularisation term $R(f)$ is introduced to a general loss function:\n",
    "\n",
    "$$\\min_f \\sum_{i=1}^{n} V(f(\\hat x_i), \\hat y_i) + \\lambda R(f)$$\n",
    "\n",
    "for a loss function $V$ that describes the cost of predicting $f(x)$ when the label is $y$, such as the square loss or hinge loss, and for the term $\\lambda$ which controls the importance of the regularization term. $R(f)$ is typically a penalty on the complexity of $f$, such as restrictions for smoothness or bounds on the vector space norm.\n",
    "\n",
    "#### l1 and l2 regularisation\n",
    "\n",
    "To reiterate, for the case where our model $f$ is parametric (e.g. like in linear models), we can express the regularisation term as a norm on the parameters. Depending on the kind of norm chosen for the parameters regularisation can be:\n",
    "\n",
    "l1 or Lasso regularisation:\n",
    "$$ R(f) \\propto \\sum{|\\beta_i|}$$\n",
    "\n",
    "or\n",
    "\n",
    "l2 or Ridge regularisation:\n",
    "$$ R(f) \\propto \\sum{\\beta_i^2}$$\n",
    "\n",
    "where $\\beta_i$ are the parameters of the model. Critically, l1 regularisation can set parameter coefficients to zero and thus act as a feature selection method.\n",
    "\n",
    "### Feature importance\n",
    "\n",
    "Some models offer an intrinsic way of evaluating feature importance. For example, as we will see next week, _Decision Trees_ have a way to assess how much each feature is contributing to the overall prediction.\n",
    "\n",
    "Logistic Regression also offers an intrinsic way of assessing feature importance. In fact, since the Logistic Regression model is linear in the features, the size of each coefficient represents the impact a unit change in that feature has on the overall model. In order to interpret this as feature importance, we need to make sure that features are normalized to have the same scale, or a unit change (i.e. the coefficient) would imply varying change in the odds outcome."
   ]
  },
  {
   "cell_type": "markdown",
   "metadata": {},
   "source": [
    "<a name=\"demo\"></a>\n",
    "## Demo: Feature importance in Logistic Regression\n",
    "\n",
    "As we have said, the coefficients in logistic regression can be interpreted as feature importance if the data is normalised. We will show this on the Iris dataset for convenience.\n",
    "\n",
    "First load the data."
   ]
  },
  {
   "cell_type": "code",
   "execution_count": 1,
   "metadata": {
    "collapsed": true
   },
   "outputs": [],
   "source": [
    "import pandas as pd\n",
    "import numpy as np\n",
    "from sklearn.linear_model import LogisticRegression\n",
    "from sklearn.datasets import load_iris\n",
    "\n",
    "iris = load_iris()\n",
    "\n",
    "X = iris.data\n",
    "y = iris.target"
   ]
  },
  {
   "cell_type": "code",
   "execution_count": 2,
   "metadata": {
    "collapsed": false
   },
   "outputs": [
    {
     "data": {
      "text/plain": [
       "['sepal length (cm)',\n",
       " 'sepal width (cm)',\n",
       " 'petal length (cm)',\n",
       " 'petal width (cm)']"
      ]
     },
     "execution_count": 2,
     "metadata": {},
     "output_type": "execute_result"
    }
   ],
   "source": [
    "iris.feature_names"
   ]
  },
  {
   "cell_type": "markdown",
   "metadata": {},
   "source": [
    "Then let's initialize a logistic regression model:"
   ]
  },
  {
   "cell_type": "code",
   "execution_count": 14,
   "metadata": {
    "collapsed": false
   },
   "outputs": [
    {
     "data": {
      "text/plain": [
       "LogisticRegression(C=1.0, class_weight=None, dual=False, fit_intercept=True,\n",
       "          intercept_scaling=1, max_iter=100, multi_class='ovr', n_jobs=1,\n",
       "          penalty='l2', random_state=None, solver='liblinear', tol=0.0001,\n",
       "          verbose=0, warm_start=False)"
      ]
     },
     "execution_count": 14,
     "metadata": {},
     "output_type": "execute_result"
    }
   ],
   "source": [
    "model = LogisticRegression()\n",
    "model.fit(X, y)"
   ]
  },
  {
   "cell_type": "markdown",
   "metadata": {},
   "source": [
    "The `LogisticRegression` class exposes an attribute called `coef_`. Let's have a look at it:"
   ]
  },
  {
   "cell_type": "code",
   "execution_count": 15,
   "metadata": {
    "collapsed": false
   },
   "outputs": [
    {
     "data": {
      "text/plain": [
       "array([[ 0.41498833,  1.46129739, -2.26214118, -1.0290951 ],\n",
       "       [ 0.41663969, -1.60083319,  0.57765763, -1.38553843],\n",
       "       [-1.70752515, -1.53426834,  2.47097168,  2.55538211]])"
      ]
     },
     "execution_count": 15,
     "metadata": {},
     "output_type": "execute_result"
    }
   ],
   "source": [
    "model.coef_"
   ]
  },
  {
   "cell_type": "markdown",
   "metadata": {},
   "source": [
    "Nice! According to the documentation this is:\n",
    "\n",
    "    coef_ : array, shape (n_classes, n_features)\n",
    "        Coefficient of the features in the decision function.\n",
    "        \n",
    "Let's display it in a nicer way:"
   ]
  },
  {
   "cell_type": "code",
   "execution_count": 16,
   "metadata": {
    "collapsed": false
   },
   "outputs": [
    {
     "data": {
      "text/html": [
       "<div>\n",
       "<table border=\"1\" class=\"dataframe\">\n",
       "  <thead>\n",
       "    <tr style=\"text-align: right;\">\n",
       "      <th></th>\n",
       "      <th>sepal length (cm)</th>\n",
       "      <th>sepal width (cm)</th>\n",
       "      <th>petal length (cm)</th>\n",
       "      <th>petal width (cm)</th>\n",
       "    </tr>\n",
       "  </thead>\n",
       "  <tbody>\n",
       "    <tr>\n",
       "      <th>setosa</th>\n",
       "      <td>0.414988</td>\n",
       "      <td>1.461297</td>\n",
       "      <td>-2.262141</td>\n",
       "      <td>-1.029095</td>\n",
       "    </tr>\n",
       "    <tr>\n",
       "      <th>versicolor</th>\n",
       "      <td>0.416640</td>\n",
       "      <td>-1.600833</td>\n",
       "      <td>0.577658</td>\n",
       "      <td>-1.385538</td>\n",
       "    </tr>\n",
       "    <tr>\n",
       "      <th>virginica</th>\n",
       "      <td>-1.707525</td>\n",
       "      <td>-1.534268</td>\n",
       "      <td>2.470972</td>\n",
       "      <td>2.555382</td>\n",
       "    </tr>\n",
       "  </tbody>\n",
       "</table>\n",
       "</div>"
      ],
      "text/plain": [
       "            sepal length (cm)  sepal width (cm)  petal length (cm)  \\\n",
       "setosa               0.414988          1.461297          -2.262141   \n",
       "versicolor           0.416640         -1.600833           0.577658   \n",
       "virginica           -1.707525         -1.534268           2.470972   \n",
       "\n",
       "            petal width (cm)  \n",
       "setosa             -1.029095  \n",
       "versicolor         -1.385538  \n",
       "virginica           2.555382  "
      ]
     },
     "execution_count": 16,
     "metadata": {},
     "output_type": "execute_result"
    }
   ],
   "source": [
    "coeffs = pd.DataFrame(model.coef_, columns = iris.feature_names, index =iris.target_names)\n",
    "coeffs"
   ]
  },
  {
   "cell_type": "markdown",
   "metadata": {},
   "source": [
    "**Check** Can we conclude that `petal length (cm)` is the most significant feature to identify `setosa` ?\n"
   ]
  },
  {
   "cell_type": "markdown",
   "metadata": {},
   "source": [
    "Let's normalize the data and repeat the exercise:\n"
   ]
  },
  {
   "cell_type": "code",
   "execution_count": 17,
   "metadata": {
    "collapsed": false
   },
   "outputs": [
    {
     "data": {
      "text/html": [
       "<div>\n",
       "<table border=\"1\" class=\"dataframe\">\n",
       "  <thead>\n",
       "    <tr style=\"text-align: right;\">\n",
       "      <th></th>\n",
       "      <th>sepal length (cm)</th>\n",
       "      <th>sepal width (cm)</th>\n",
       "      <th>petal length (cm)</th>\n",
       "      <th>petal width (cm)</th>\n",
       "    </tr>\n",
       "  </thead>\n",
       "  <tbody>\n",
       "    <tr>\n",
       "      <th>setosa</th>\n",
       "      <td>-0.810166</td>\n",
       "      <td>1.393699</td>\n",
       "      <td>-1.687386</td>\n",
       "      <td>-1.518991</td>\n",
       "    </tr>\n",
       "    <tr>\n",
       "      <th>versicolor</th>\n",
       "      <td>0.130380</td>\n",
       "      <td>-1.246338</td>\n",
       "      <td>0.789195</td>\n",
       "      <td>-0.889440</td>\n",
       "    </tr>\n",
       "    <tr>\n",
       "      <th>virginica</th>\n",
       "      <td>0.012990</td>\n",
       "      <td>-0.144535</td>\n",
       "      <td>1.863173</td>\n",
       "      <td>2.698873</td>\n",
       "    </tr>\n",
       "  </tbody>\n",
       "</table>\n",
       "</div>"
      ],
      "text/plain": [
       "            sepal length (cm)  sepal width (cm)  petal length (cm)  \\\n",
       "setosa              -0.810166          1.393699          -1.687386   \n",
       "versicolor           0.130380         -1.246338           0.789195   \n",
       "virginica            0.012990         -0.144535           1.863173   \n",
       "\n",
       "            petal width (cm)  \n",
       "setosa             -1.518991  \n",
       "versicolor         -0.889440  \n",
       "virginica           2.698873  "
      ]
     },
     "execution_count": 17,
     "metadata": {},
     "output_type": "execute_result"
    }
   ],
   "source": [
    "from sklearn.preprocessing import StandardScaler\n",
    "X_norm =  StandardScaler().fit_transform(X)\n",
    "\n",
    "model.fit(X_norm, y)\n",
    "\n",
    "coeffs = pd.DataFrame(model.coef_, columns = iris.feature_names, index =iris.target_names)\n",
    "coeffs"
   ]
  },
  {
   "cell_type": "markdown",
   "metadata": {},
   "source": [
    "Notice that normalization did change the sign and magnitude of the LR coefficients. Also notice that the Logistic Regression class has a `penalty` parameter that allows us to choose between `l1` and `l2` regularization. Notice that some of the solvers only support `l2` regularization."
   ]
  },
  {
   "cell_type": "code",
   "execution_count": 18,
   "metadata": {
    "collapsed": false
   },
   "outputs": [
    {
     "data": {
      "text/plain": [
       "LogisticRegression(C=1.0, class_weight=None, dual=False, fit_intercept=True,\n",
       "          intercept_scaling=1, max_iter=100, multi_class='ovr', n_jobs=1,\n",
       "          penalty='l2', random_state=None, solver='liblinear', tol=0.0001,\n",
       "          verbose=0, warm_start=False)"
      ]
     },
     "execution_count": 18,
     "metadata": {},
     "output_type": "execute_result"
    }
   ],
   "source": [
    "model"
   ]
  },
  {
   "cell_type": "markdown",
   "metadata": {},
   "source": [
    "**Check** Try changing the penalty to `l1`, do the coefficients change?\n",
    "\n",
    "**Optional Check** Check score with `cross_val_score` and select best model"
   ]
  },
  {
   "cell_type": "code",
   "execution_count": 19,
   "metadata": {
    "collapsed": false
   },
   "outputs": [
    {
     "data": {
      "text/html": [
       "<div>\n",
       "<table border=\"1\" class=\"dataframe\">\n",
       "  <thead>\n",
       "    <tr style=\"text-align: right;\">\n",
       "      <th></th>\n",
       "      <th>sepal length (cm)</th>\n",
       "      <th>sepal width (cm)</th>\n",
       "      <th>petal length (cm)</th>\n",
       "      <th>petal width (cm)</th>\n",
       "    </tr>\n",
       "  </thead>\n",
       "  <tbody>\n",
       "    <tr>\n",
       "      <th>setosa</th>\n",
       "      <td>0.000000</td>\n",
       "      <td>1.198029</td>\n",
       "      <td>-4.427947</td>\n",
       "      <td>0.000000</td>\n",
       "    </tr>\n",
       "    <tr>\n",
       "      <th>versicolor</th>\n",
       "      <td>0.029515</td>\n",
       "      <td>-1.239732</td>\n",
       "      <td>0.762604</td>\n",
       "      <td>-0.769475</td>\n",
       "    </tr>\n",
       "    <tr>\n",
       "      <th>virginica</th>\n",
       "      <td>0.000000</td>\n",
       "      <td>-0.480737</td>\n",
       "      <td>2.716761</td>\n",
       "      <td>4.580145</td>\n",
       "    </tr>\n",
       "  </tbody>\n",
       "</table>\n",
       "</div>"
      ],
      "text/plain": [
       "            sepal length (cm)  sepal width (cm)  petal length (cm)  \\\n",
       "setosa               0.000000          1.198029          -4.427947   \n",
       "versicolor           0.029515         -1.239732           0.762604   \n",
       "virginica            0.000000         -0.480737           2.716761   \n",
       "\n",
       "            petal width (cm)  \n",
       "setosa              0.000000  \n",
       "versicolor         -0.769475  \n",
       "virginica           4.580145  "
      ]
     },
     "execution_count": 19,
     "metadata": {},
     "output_type": "execute_result"
    }
   ],
   "source": [
    "model2 = LogisticRegression(penalty='l1')\n",
    "model2.fit(X_norm, y)\n",
    "coeffs = pd.DataFrame(model2.coef_, columns = iris.feature_names, index =iris.target_names)\n",
    "coeffs"
   ]
  },
  {
   "cell_type": "code",
   "execution_count": 23,
   "metadata": {
    "collapsed": false
   },
   "outputs": [
    {
     "name": "stdout",
     "output_type": "stream",
     "text": [
      "('Ridge: ', 0.90666666666666662)\n",
      "('Lasso: ', 0.93333333333333324)\n"
     ]
    }
   ],
   "source": [
    "from sklearn.model_selection import cross_val_score\n",
    "import numpy as np\n",
    "accuracies = cross_val_score(model, X_norm, y, cv=5)\n",
    "print(\"Ridge: \",np.mean(accuracies))\n",
    "accuracies2 = cross_val_score(model2, X_norm, y, cv=5)\n",
    "print(\"Lasso: \",np.mean(accuracies2))"
   ]
  },
  {
   "cell_type": "markdown",
   "metadata": {},
   "source": [
    "<a name=\"guided-practice\"></a>\n",
    "## Guided Practice: Visualizing feature importance\n",
    "\n",
    "In some cases we may want to visualize feature importance in a plot. One way to do this is to display the matrix of coefficients with a color scale. We can do this using matplotlib as follows:"
   ]
  },
  {
   "cell_type": "code",
   "execution_count": 26,
   "metadata": {
    "collapsed": false
   },
   "outputs": [
    {
     "data": {
      "image/png": "[encoded data removed]",
      "text/plain": [
       "<matplotlib.figure.Figure at 0xb603128>"
      ]
     },
     "metadata": {},
     "output_type": "display_data"
    }
   ],
   "source": [
    "# first import matplolib\n",
    "%matplotlib inline\n",
    "import matplotlib.pyplot as plt\n",
    "\n",
    "# then create a figure and a plot\n",
    "fig = plt.figure()\n",
    "ax = fig.add_subplot(111)\n",
    "\n",
    "# display the matrix\n",
    "cax = ax.matshow(coeffs)\n",
    "\n",
    "# add colorbars and tics\n",
    "ax = fig.add_subplot(111)\n",
    "cax = ax.matshow(coeffs)\n",
    "fig.colorbar(cax)\n",
    "ax.set_xticklabels(['']+list(coeffs.columns), rotation=45)\n",
    "ax.set_yticklabels(['']+list(coeffs.index))\n",
    "plt.show()"
   ]
  },
  {
   "cell_type": "markdown",
   "metadata": {},
   "source": [
    "<a name=\"ind-practice\"></a>\n",
    "## Independent Practice: Topic\n",
    "Scikit learn offers several other regularization methods. The following exercise is in threes:\n",
    "\n",
    "Go to the [documentation page](http://scikit-learn.org/stable/modules/feature_selection.html), pick one method and read about it for 10 minutes.\n",
    "\n",
    "Try to answer the following questions:\n",
    "\n",
    "1. is it top-down or bottom-up?\n",
    "- does it work for both regression and classification?\n",
    "- can it be used in a pipeline?\n",
    "\n",
    "In the last 10 minutes expose your findings to the class\n",
    "\n",
    "1. feature_selection.GenericUnivariateSelect([...])\n",
    "- feature_selection.SelectPercentile([...])\n",
    "- feature_selection.SelectKBest([score_func, k])\n",
    "- feature_selection.SelectFpr([score_func, alpha])\n",
    "- feature_selection.SelectFdr([score_func, alpha])\n",
    "- feature_selection.SelectFromModel(estimator)\n",
    "- feature_selection.SelectFwe([score_func, alpha])"
   ]
  },
  {
   "cell_type": "markdown",
   "metadata": {},
   "source": [
    "# Recursive Feature Elimination\n",
    "\n",
    "I will explicitly discuss recursive feature elimination (RFE) in sklearn since we use this in the upcoming lab and it might be a bit unclear. This involves fitting models several times. You fit the model once with all the features, then you drop one (or more, you can set this parameter) and then refit, then drop one and refit (until you get to the number of features you input also as a parameter at the start). How do you decide which of the features you want to drop? In the case of logistic regression it is based on the coefficient size with some extra corrections. Hence this is a version of top down (or backwards) stepwise selection, with attempts to be more intelligent than only comparing coefficient size."
   ]
  },
  {
   "cell_type": "markdown",
   "metadata": {},
   "source": [
    "# Statistical Testing for Feature Selection\n",
    "\n",
    "Some of the methods we will see in the lab use some statistical tests to determine if features are significant. We have talked about statistical testing in the context of t-tests. In that case, we were looking to see if\n",
    "two statistics (such as a mean value for the heights of a population) were significantly different from each other by assuming either a normal (for large numbers of values, where we can approximate a normal distribution) or a t (for smaller numbers of values i.e. below 30) distribution. For the normal case this is called a z-test, for the t a t-test. The distinction in the normal and t distributions was in the kurtosis, such that a t distribution would have a greater tolerance for more extreme values and judge these to be less significant than a normal distribution.\n",
    "\n",
    "Another method used to compare two or more statistics (again such as means of heights of different subgroups of a population) at the same time is the analysis of variance (ANOVA). That's useful because the t test just compares two values. In this case an F-statistic is calculated (please note this is totally unrelated to the F1 score you calculate as a metric for classification problems) and an F-test\n",
    "is performed on the F-distribution to see if the F statistic is significant, again returning a p-value.\n",
    "\n",
    "Hence the \n",
    "flow of such tests follow the same format. You calculate a statistic (Z-statistic, t-stastic, F-statistic), compare the value to the appropriate distribution (Z distribution, which is just the normal distribution, the t distribution, or the F distribution) and return a p value giving the probability of the statistic occuring. So the difference is in the calculation of the statistic and the exact form of the distribution used for the testing. The F distribution is positively skewed, unlike the normal and t distributions which are symmetric.\n",
    "\n",
    "For the F-statistic, we calculate a sum of the variances of each grouping compared with the overall mean of the total, and divide this by a sum of the variances of each data point within the groupings compared with the mean of that grouping (with a correction for number of terms). That is to say, _a term for the variability between groups divided by a term for the variability within groups_.\n",
    "\n",
    "\n",
    "In a classification problem this can be applied by considering the groupings to be each classification outcome. So to perform the test we need to input both our feature matrix and our outputs. Then the features are subset into those corresponding to each of the possible outcomes and we see if the means of the features in each grouping are significantly different from each other. If they are not then the feature seems to not provide much predictive power. \n",
    "\n",
    "The equation below shows the F-statistic calculation for a binary outcome classification where (+) refers to the grouping of one outcome and (-) the grouping for the second outcome. Note that this generalises to multivariate classification, which is why it is convenient to use it even for the binary case rather than another test.\n",
    "\n",
    "![](./assets/images/f_statistic.png)"
   ]
  },
  {
   "cell_type": "markdown",
   "metadata": {},
   "source": [
    "<a name=\"conclusion\"></a>\n",
    "## Conclusion\n",
    "Today we have learned about some ways to select features by importance. This will be particularly useful when we deal with a large number of features. We have already talked about regularisation strength in the context of a grid search as a more indirect method of feature selection. Now we will talk about a process of preselecting features using sklearn, in lab 4.2, in which we might opt to explicitly drop some features prior to the model fit."
   ]
  }
 ],
 "metadata": {
  "anaconda-cloud": {},
  "kernelspec": {
   "display_name": "Python [Root]",
   "language": "python",
   "name": "Python [Root]"
  },
  "language_info": {
   "codemirror_mode": {
    "name": "ipython",
    "version": 2
   },
   "file_extension": ".py",
   "mimetype": "text/x-python",
   "name": "python",
   "nbconvert_exporter": "python",
   "pygments_lexer": "ipython2",
   "version": "2.7.12"
  }
 },
 "nbformat": 4,
 "nbformat_minor": 0
}
