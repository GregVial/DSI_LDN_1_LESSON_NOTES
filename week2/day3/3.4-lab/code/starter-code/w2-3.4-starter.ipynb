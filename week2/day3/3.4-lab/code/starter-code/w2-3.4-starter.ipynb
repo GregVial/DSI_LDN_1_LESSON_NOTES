{
 "cells": [
  {
   "cell_type": "markdown",
   "metadata": {},
   "source": [
    "### Intro: find missing data"
   ]
  },
  {
   "cell_type": "code",
   "execution_count": 1,
   "metadata": {
    "collapsed": true
   },
   "outputs": [],
   "source": [
    "import pandas as pd\n",
    "import numpy as np\n",
    "import math"
   ]
  },
  {
   "cell_type": "code",
   "execution_count": 2,
   "metadata": {
    "collapsed": false
   },
   "outputs": [],
   "source": [
    "# Here's building a function using def: \n",
    "\n",
    "def square_root(x): return math.sqrt(x)"
   ]
  },
  {
   "cell_type": "code",
   "execution_count": 3,
   "metadata": {
    "collapsed": false
   },
   "outputs": [],
   "source": [
    "# Here's building the same function using lambda\n",
    "\n",
    "square_root_lambda = lambda x: math.sqrt(x)"
   ]
  },
  {
   "cell_type": "code",
   "execution_count": 4,
   "metadata": {
    "collapsed": false
   },
   "outputs": [],
   "source": [
    "# Use the isnull() method to detect the missing values. The output\n",
    "# shows True when the value is missing. By adding an index into \n",
    "# the dataset, you obtain just the entries that are missing.\n",
    "# A dataset could represent missing data in several ways. In this \n",
    "# example, you see missing data represented as np.NaN (NumPy Not \n",
    "# a Number) and the Python None value."
   ]
  },
  {
   "cell_type": "markdown",
   "metadata": {},
   "source": [
    "### Intro: fill in missing data"
   ]
  },
  {
   "cell_type": "code",
   "execution_count": 5,
   "metadata": {
    "collapsed": false
   },
   "outputs": [],
   "source": [
    "# To fill in missing data use fillna(). For fillna() you need to \n",
    "# provide a number. Usually, the mean, median, or mode is used. \n",
    "# Let's use the same data set and this time let's fill in missing \n",
    "# values with the mean. "
   ]
  },
  {
   "cell_type": "code",
   "execution_count": 6,
   "metadata": {
    "collapsed": false
   },
   "outputs": [],
   "source": [
    "# We could also just drop all the NAs, by using dropna()"
   ]
  },
  {
   "cell_type": "markdown",
   "metadata": {},
   "source": [
    "### Write the equivalent lambda function"
   ]
  },
  {
   "cell_type": "code",
   "execution_count": 7,
   "metadata": {
    "collapsed": false
   },
   "outputs": [
    {
     "name": "stdout",
     "output_type": "stream",
     "text": [
      "64\n"
     ]
    }
   ],
   "source": [
    "# Write the equivalent lambda function for the following def \n",
    "# function: \n",
    "\n",
    "def f (x): return x**2\n",
    "print f(8)"
   ]
  },
  {
   "cell_type": "code",
   "execution_count": 8,
   "metadata": {
    "collapsed": false
   },
   "outputs": [
    {
     "data": {
      "text/plain": [
       "64"
      ]
     },
     "execution_count": 8,
     "metadata": {},
     "output_type": "execute_result"
    }
   ],
   "source": [
    "# equivalent lambda function\n",
    "square = lambda x: x**2\n",
    "square(8)"
   ]
  },
  {
   "cell_type": "markdown",
   "metadata": {},
   "source": [
    "### Lab 3.4"
   ]
  },
  {
   "cell_type": "code",
   "execution_count": 9,
   "metadata": {
    "collapsed": false
   },
   "outputs": [
    {
     "name": "stdout",
     "output_type": "stream",
     "text": [
      "permalink               object\n",
      "name                    object\n",
      "homepage_url            object\n",
      "category_list           object\n",
      " market                 object\n",
      " funding_total_usd      object\n",
      "status                  object\n",
      "country_code            object\n",
      "state_code              object\n",
      "region                  object\n",
      "city                    object\n",
      "funding_rounds           int64\n",
      "founded_at              object\n",
      "founded_month           object\n",
      "founded_quarter         object\n",
      "founded_year           float64\n",
      "first_funding_at        object\n",
      "last_funding_at         object\n",
      "Unnamed: 18            float64\n",
      "dtype: object\n"
     ]
    }
   ],
   "source": [
    "# read in the raw data from the github url\n",
    "\n",
    "data = pd.read_csv(\"https://raw.githubusercontent.com/suneel0101/lesson-plan/master/crunchbase_monthly_export.csv\")\n",
    "print(data.dtypes)"
   ]
  },
  {
   "cell_type": "code",
   "execution_count": 10,
   "metadata": {
    "collapsed": false
   },
   "outputs": [
    {
     "name": "stdout",
     "output_type": "stream",
     "text": [
      "('permalink', Int64Index([], dtype='int64'))\n",
      "('name', Int64Index([25694], dtype='int64'))\n",
      "('homepage_url', Int64Index([   12,    15,    55,    80,    83,    92,    97,   107,   110,\n",
      "              128,\n",
      "            ...\n",
      "            44658, 44659, 44663, 44665, 44688, 44717, 44750, 44867, 44909,\n",
      "            44918],\n",
      "           dtype='int64', length=3036))\n",
      "('category_list', Int64Index([   31,    32,    36,    45,    59,    67,    75,    80,    83,\n",
      "               89,\n",
      "            ...\n",
      "            44610, 44663, 44664, 44668, 44677, 44700, 44736, 44759, 44774,\n",
      "            44906],\n",
      "           dtype='int64', length=3953))\n",
      "(' market ', Int64Index([   31,    32,    36,    45,    59,    67,    75,    80,    83,\n",
      "               89,\n",
      "            ...\n",
      "            44610, 44663, 44664, 44668, 44677, 44700, 44736, 44759, 44774,\n",
      "            44906],\n",
      "           dtype='int64', length=3953))\n",
      "(' funding_total_usd ', Int64Index([], dtype='int64'))\n",
      "('status', Int64Index([    0,     6,    29,    32,    36,    49,    62,    84,    85,\n",
      "              100,\n",
      "            ...\n",
      "            44715, 44780, 44781, 44787, 44811, 44817, 44818, 44830, 44834,\n",
      "            44928],\n",
      "           dtype='int64', length=2742))\n",
      "('country_code', Int64Index([    8,    18,    23,    24,    29,    32,    35,    38,    54,\n",
      "               68,\n",
      "            ...\n",
      "            44861, 44863, 44875, 44883, 44901, 44904, 44906, 44923, 44935,\n",
      "            44948],\n",
      "           dtype='int64', length=4145))\n",
      "('state_code', Int64Index([    0,     3,     4,     7,     8,    11,    18,    19,    22,\n",
      "               23,\n",
      "            ...\n",
      "            44935, 44936, 44937, 44940, 44942, 44944, 44945, 44946, 44947,\n",
      "            44948],\n",
      "           dtype='int64', length=17177))\n",
      "('region', Int64Index([    8,    18,    24,    29,    32,    35,    38,    54,    68,\n",
      "               72,\n",
      "            ...\n",
      "            44861, 44863, 44875, 44883, 44901, 44904, 44921, 44923, 44935,\n",
      "            44948],\n",
      "           dtype='int64', length=5335))\n",
      "('city', Int64Index([    8,    18,    24,    29,    32,    35,    38,    48,    52,\n",
      "               54,\n",
      "            ...\n",
      "            44861, 44863, 44875, 44883, 44901, 44904, 44907, 44923, 44935,\n",
      "            44948],\n",
      "           dtype='int64', length=4841))\n",
      "('funding_rounds', Int64Index([], dtype='int64'))\n",
      "('founded_at', Int64Index([    0,     2,     7,    12,    19,    24,    25,    31,    32,\n",
      "               35,\n",
      "            ...\n",
      "            44904, 44908, 44909, 44910, 44911, 44925, 44928, 44943, 44946,\n",
      "            44948],\n",
      "           dtype='int64', length=9658))\n",
      "('founded_month', Int64Index([    0,     2,     7,    12,    19,    24,    25,    31,    32,\n",
      "               35,\n",
      "            ...\n",
      "            44904, 44908, 44909, 44910, 44911, 44925, 44928, 44943, 44946,\n",
      "            44948],\n",
      "           dtype='int64', length=9724))\n",
      "('founded_quarter', Int64Index([    0,     2,     7,    12,    19,    24,    25,    31,    32,\n",
      "               35,\n",
      "            ...\n",
      "            44904, 44908, 44909, 44910, 44911, 44925, 44928, 44943, 44946,\n",
      "            44948],\n",
      "           dtype='int64', length=9724))\n",
      "('founded_year', Int64Index([    0,     2,     7,    12,    19,    24,    25,    31,    32,\n",
      "               35,\n",
      "            ...\n",
      "            44904, 44908, 44909, 44910, 44911, 44925, 44928, 44943, 44946,\n",
      "            44948],\n",
      "           dtype='int64', length=9724))\n",
      "('first_funding_at', Int64Index([], dtype='int64'))\n",
      "('last_funding_at', Int64Index([], dtype='int64'))\n",
      "('Unnamed: 18', Int64Index([    0,     1,     2,     3,     4,     5,     6,     7,     8,\n",
      "                9,\n",
      "            ...\n",
      "            44940, 44941, 44942, 44943, 44944, 44945, 44946, 44947, 44948,\n",
      "            44949],\n",
      "           dtype='int64', length=44950))\n"
     ]
    }
   ],
   "source": [
    "# find missing values\n",
    "data.columns\n",
    "for col in data:\n",
    "    index = data[col].index[data[col].apply(pd.isnull)]\n",
    "    print(col, index)"
   ]
  },
  {
   "cell_type": "code",
   "execution_count": null,
   "metadata": {
    "collapsed": false
   },
   "outputs": [],
   "source": [
    "# fill in missing data with the mean"
   ]
  },
  {
   "cell_type": "code",
   "execution_count": null,
   "metadata": {
    "collapsed": true
   },
   "outputs": [],
   "source": []
  }
 ],
 "metadata": {
  "anaconda-cloud": {},
  "kernelspec": {
   "display_name": "Python [default]",
   "language": "python",
   "name": "python2"
  },
  "language_info": {
   "codemirror_mode": {
    "name": "ipython",
    "version": 2
   },
   "file_extension": ".py",
   "mimetype": "text/x-python",
   "name": "python",
   "nbconvert_exporter": "python",
   "pygments_lexer": "ipython2",
   "version": "2.7.12"
  }
 },
 "nbformat": 4,
 "nbformat_minor": 0
}
