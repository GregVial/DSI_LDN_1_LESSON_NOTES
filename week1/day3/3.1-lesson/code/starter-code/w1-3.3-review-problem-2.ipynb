{
 "cells": [
  {
   "cell_type": "markdown",
   "metadata": {},
   "source": [
    "### Review Problem 2\n",
    "\n",
    "For this problem, you will be writing a function that operates on a dictionary and **optionally** a list of numbers.\n",
    "\n",
    "Write a function that:\n",
    "\n",
    "- Accepts a dictionary as its first argument. The values of the dictionary should be a list of numbers.\n",
    "- Accepts an optional **keyword argument** that is a list. The default should be an empty list. **The optional keyword list should be called remainder**\n",
    "- **If the list is empty:** append a 2 to the list.\n",
    "- Print the dictionary as well as the optional list.\n",
    "- Iterate though they key:value pairs in the dictionary:\n",
    "    - For each value list of numbers, calculate the **remainder of each number** for **each number in the remainder list**\n",
    "    - Create a dictionary where they keys are the numbers in the value list, and the values are the remainders of that number from the remainder list.\n",
    "    - ex: if value ```list == [10,9]``` and ```remainder == [2,3]```, the new dictionary would be: ```{10:[0, 1], 9:[1, 0]}```\n",
    "    - For the current key in the dictionary entered into the function, change the value to the new remainder dictionary.\n",
    "- Print out the new dictionary.\n",
    "- Return the dictionary.\n",
    "\n",
    "Notes/Hints:\n",
    "\n",
    "- keyword arguments are specified in functions like so: \n",
    "    ```python\n",
    "    def example_function(arg1, kwarg1=default_value):\n",
    "    ```\n",
    "- The operator for finding the remainder of two values is: ```%```\n",
    "    ```python\n",
    "    14 % 5 == 4\n",
    "    ```"
   ]
  },
  {
   "cell_type": "code",
   "execution_count": 21,
   "metadata": {
    "collapsed": false
   },
   "outputs": [],
   "source": [
    "test_dict = {'A':[1,2,3,4,5], 'B':[12.1, 14.2, 20.3, 25.4], 'C':[10, 25.5, 50.9, 101]}\n",
    "optional_remainder = [2,3,4,5]\n",
    "\n",
    "# 1. Run the function with the default keyword argument\n",
    "# 2. Run the function assigning the default keyword argument to the optional list"
   ]
  },
  {
   "cell_type": "code",
   "execution_count": 22,
   "metadata": {
    "collapsed": false
   },
   "outputs": [
    {
     "name": "stdout",
     "output_type": "stream",
     "text": [
      "('Dictionary: ', {'A': [1, 2, 3, 4, 5], 'C': [10, 25.5, 50.9, 101], 'B': [12.1, 14.2, 20.3, 25.4]})\n",
      "('List: ', [2, 3, 4, 5])\n",
      "('New dico ', {'A': {1: [1, 1, 1, 1], 2: [0, 2, 2, 2], 3: [1, 0, 3, 3], 4: [0, 1, 0, 4], 5: [1, 2, 1, 0]}, 'C': {25.5: [1.5, 1.5, 1.5, 0.5], 10: [0, 1, 2, 0], 50.9: [0.8999999999999986, 2.8999999999999986, 2.8999999999999986, 0.8999999999999986], 101: [1, 2, 1, 1]}, 'B': {14.2: [0.1999999999999993, 2.1999999999999993, 2.1999999999999993, 4.199999999999999], 20.3: [0.3000000000000007, 2.3000000000000007, 0.3000000000000007, 0.3000000000000007], 12.1: [0.09999999999999964, 0.09999999999999964, 0.09999999999999964, 2.0999999999999996], 25.4: [1.3999999999999986, 1.3999999999999986, 1.3999999999999986, 0.3999999999999986]}})\n"
     ]
    },
    {
     "data": {
      "text/plain": [
       "{'A': {1: [1, 1, 1, 1],\n",
       "  2: [0, 2, 2, 2],\n",
       "  3: [1, 0, 3, 3],\n",
       "  4: [0, 1, 0, 4],\n",
       "  5: [1, 2, 1, 0]},\n",
       " 'B': {12.1: [0.09999999999999964,\n",
       "   0.09999999999999964,\n",
       "   0.09999999999999964,\n",
       "   2.0999999999999996],\n",
       "  14.2: [0.1999999999999993,\n",
       "   2.1999999999999993,\n",
       "   2.1999999999999993,\n",
       "   4.199999999999999],\n",
       "  20.3: [0.3000000000000007,\n",
       "   2.3000000000000007,\n",
       "   0.3000000000000007,\n",
       "   0.3000000000000007],\n",
       "  25.4: [1.3999999999999986,\n",
       "   1.3999999999999986,\n",
       "   1.3999999999999986,\n",
       "   0.3999999999999986]},\n",
       " 'C': {10: [0, 1, 2, 0],\n",
       "  25.5: [1.5, 1.5, 1.5, 0.5],\n",
       "  50.9: [0.8999999999999986,\n",
       "   2.8999999999999986,\n",
       "   2.8999999999999986,\n",
       "   0.8999999999999986],\n",
       "  101: [1, 2, 1, 1]}}"
      ]
     },
     "execution_count": 22,
     "metadata": {},
     "output_type": "execute_result"
    }
   ],
   "source": [
    "def calc_remainder(dico,remainder=[]):\n",
    "    print(\"Dictionary: \",dico)\n",
    "    print(\"List: \",remainder)\n",
    "    if len(remainder) == 0:\n",
    "        remainder = [2]\n",
    "    for key,value in dico.items():\n",
    "        temp = {}\n",
    "        for a in value:\n",
    "            #print(\"a\",a)\n",
    "            l =[]\n",
    "            for b in remainder:\n",
    "                #print(\"b\",b)\n",
    "                l.append(a%b)\n",
    "            temp[a]=l\n",
    "            #print(\"temp\",temp)\n",
    "        dico[key]=temp\n",
    "    print(\"New dico \",dico)\n",
    "    return(dico)\n",
    "\n",
    "calc_remainder(test_dict,optional_remainder)"
   ]
  },
  {
   "cell_type": "code",
   "execution_count": 19,
   "metadata": {
    "collapsed": false
   },
   "outputs": [
    {
     "data": {
      "text/plain": [
       "1.5"
      ]
     },
     "execution_count": 19,
     "metadata": {},
     "output_type": "execute_result"
    }
   ],
   "source": []
  },
  {
   "cell_type": "code",
   "execution_count": null,
   "metadata": {
    "collapsed": true
   },
   "outputs": [],
   "source": []
  }
 ],
 "metadata": {
  "anaconda-cloud": {},
  "kernelspec": {
   "display_name": "Python [default]",
   "language": "python",
   "name": "python2"
  },
  "language_info": {
   "codemirror_mode": {
    "name": "ipython",
    "version": 2
   },
   "file_extension": ".py",
   "mimetype": "text/x-python",
   "name": "python",
   "nbconvert_exporter": "python",
   "pygments_lexer": "ipython2",
   "version": "2.7.12"
  }
 },
 "nbformat": 4,
 "nbformat_minor": 0
}
