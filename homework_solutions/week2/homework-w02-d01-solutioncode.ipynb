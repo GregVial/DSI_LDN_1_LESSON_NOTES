{
 "cells": [
  {
   "cell_type": "markdown",
   "metadata": {},
   "source": [
    "# Practice with pandas\n",
    "\n",
    "Load a dataset of your choice from  https://github.com/fivethirtyeight/data which we neither used in class nor in the group exercise by using "
   ]
  },
  {
   "cell_type": "code",
   "execution_count": null,
   "metadata": {
    "collapsed": true
   },
   "outputs": [],
   "source": [
    "import pandas as pd\n",
    "import numpy as np\n",
    "\n",
    "df = pd.read_csv('your_url')"
   ]
  },
  {
   "cell_type": "markdown",
   "metadata": {},
   "source": [
    "(you might have to choose the raw format).\n",
    "Use the summary command to describe your data. Use at least five further built-in commands from numpy or pandas to obtain information about your data and give a short summary of your findings. "
   ]
  },
  {
   "cell_type": "code",
   "execution_count": 33,
   "metadata": {
    "collapsed": false
   },
   "outputs": [],
   "source": [
    "df = pd.read_csv('https://raw.githubusercontent.com/fivethirtyeight/data/master/bad-drivers/bad-drivers.csv')"
   ]
  },
  {
   "cell_type": "code",
   "execution_count": 34,
   "metadata": {
    "collapsed": false
   },
   "outputs": [
    {
     "data": {
      "text/html": [
       "<div>\n",
       "<table border=\"1\" class=\"dataframe\">\n",
       "  <thead>\n",
       "    <tr style=\"text-align: right;\">\n",
       "      <th></th>\n",
       "      <th>State</th>\n",
       "      <th>Number of drivers involved in fatal collisions per billion miles</th>\n",
       "      <th>Percentage Of Drivers Involved In Fatal Collisions Who Were Speeding</th>\n",
       "      <th>Percentage Of Drivers Involved In Fatal Collisions Who Were Alcohol-Impaired</th>\n",
       "      <th>Percentage Of Drivers Involved In Fatal Collisions Who Were Not Distracted</th>\n",
       "      <th>Percentage Of Drivers Involved In Fatal Collisions Who Had Not Been Involved In Any Previous Accidents</th>\n",
       "      <th>Car Insurance Premiums ($)</th>\n",
       "      <th>Losses incurred by insurance companies for collisions per insured driver ($)</th>\n",
       "    </tr>\n",
       "  </thead>\n",
       "  <tbody>\n",
       "    <tr>\n",
       "      <th>0</th>\n",
       "      <td>Alabama</td>\n",
       "      <td>18.8</td>\n",
       "      <td>39</td>\n",
       "      <td>30</td>\n",
       "      <td>96</td>\n",
       "      <td>80</td>\n",
       "      <td>784.55</td>\n",
       "      <td>145.08</td>\n",
       "    </tr>\n",
       "    <tr>\n",
       "      <th>1</th>\n",
       "      <td>Alaska</td>\n",
       "      <td>18.1</td>\n",
       "      <td>41</td>\n",
       "      <td>25</td>\n",
       "      <td>90</td>\n",
       "      <td>94</td>\n",
       "      <td>1053.48</td>\n",
       "      <td>133.93</td>\n",
       "    </tr>\n",
       "    <tr>\n",
       "      <th>2</th>\n",
       "      <td>Arizona</td>\n",
       "      <td>18.6</td>\n",
       "      <td>35</td>\n",
       "      <td>28</td>\n",
       "      <td>84</td>\n",
       "      <td>96</td>\n",
       "      <td>899.47</td>\n",
       "      <td>110.35</td>\n",
       "    </tr>\n",
       "    <tr>\n",
       "      <th>3</th>\n",
       "      <td>Arkansas</td>\n",
       "      <td>22.4</td>\n",
       "      <td>18</td>\n",
       "      <td>26</td>\n",
       "      <td>94</td>\n",
       "      <td>95</td>\n",
       "      <td>827.34</td>\n",
       "      <td>142.39</td>\n",
       "    </tr>\n",
       "    <tr>\n",
       "      <th>4</th>\n",
       "      <td>California</td>\n",
       "      <td>12.0</td>\n",
       "      <td>35</td>\n",
       "      <td>28</td>\n",
       "      <td>91</td>\n",
       "      <td>89</td>\n",
       "      <td>878.41</td>\n",
       "      <td>165.63</td>\n",
       "    </tr>\n",
       "  </tbody>\n",
       "</table>\n",
       "</div>"
      ],
      "text/plain": [
       "        State  \\\n",
       "0     Alabama   \n",
       "1      Alaska   \n",
       "2     Arizona   \n",
       "3    Arkansas   \n",
       "4  California   \n",
       "\n",
       "   Number of drivers involved in fatal collisions per billion miles  \\\n",
       "0                                               18.8                  \n",
       "1                                               18.1                  \n",
       "2                                               18.6                  \n",
       "3                                               22.4                  \n",
       "4                                               12.0                  \n",
       "\n",
       "   Percentage Of Drivers Involved In Fatal Collisions Who Were Speeding  \\\n",
       "0                                                 39                      \n",
       "1                                                 41                      \n",
       "2                                                 35                      \n",
       "3                                                 18                      \n",
       "4                                                 35                      \n",
       "\n",
       "   Percentage Of Drivers Involved In Fatal Collisions Who Were Alcohol-Impaired  \\\n",
       "0                                                 30                              \n",
       "1                                                 25                              \n",
       "2                                                 28                              \n",
       "3                                                 26                              \n",
       "4                                                 28                              \n",
       "\n",
       "   Percentage Of Drivers Involved In Fatal Collisions Who Were Not Distracted  \\\n",
       "0                                                 96                            \n",
       "1                                                 90                            \n",
       "2                                                 84                            \n",
       "3                                                 94                            \n",
       "4                                                 91                            \n",
       "\n",
       "   Percentage Of Drivers Involved In Fatal Collisions Who Had Not Been Involved In Any Previous Accidents  \\\n",
       "0                                                 80                                                        \n",
       "1                                                 94                                                        \n",
       "2                                                 96                                                        \n",
       "3                                                 95                                                        \n",
       "4                                                 89                                                        \n",
       "\n",
       "   Car Insurance Premiums ($)  \\\n",
       "0                      784.55   \n",
       "1                     1053.48   \n",
       "2                      899.47   \n",
       "3                      827.34   \n",
       "4                      878.41   \n",
       "\n",
       "   Losses incurred by insurance companies for collisions per insured driver ($)  \n",
       "0                                             145.08                             \n",
       "1                                             133.93                             \n",
       "2                                             110.35                             \n",
       "3                                             142.39                             \n",
       "4                                             165.63                             "
      ]
     },
     "execution_count": 34,
     "metadata": {},
     "output_type": "execute_result"
    }
   ],
   "source": [
    "df.head()"
   ]
  },
  {
   "cell_type": "code",
   "execution_count": 35,
   "metadata": {
    "collapsed": false
   },
   "outputs": [
    {
     "data": {
      "text/html": [
       "<div>\n",
       "<table border=\"1\" class=\"dataframe\">\n",
       "  <thead>\n",
       "    <tr style=\"text-align: right;\">\n",
       "      <th></th>\n",
       "      <th>Number of drivers involved in fatal collisions per billion miles</th>\n",
       "      <th>Percentage Of Drivers Involved In Fatal Collisions Who Were Speeding</th>\n",
       "      <th>Percentage Of Drivers Involved In Fatal Collisions Who Were Alcohol-Impaired</th>\n",
       "      <th>Percentage Of Drivers Involved In Fatal Collisions Who Were Not Distracted</th>\n",
       "      <th>Percentage Of Drivers Involved In Fatal Collisions Who Had Not Been Involved In Any Previous Accidents</th>\n",
       "      <th>Car Insurance Premiums ($)</th>\n",
       "      <th>Losses incurred by insurance companies for collisions per insured driver ($)</th>\n",
       "    </tr>\n",
       "  </thead>\n",
       "  <tbody>\n",
       "    <tr>\n",
       "      <th>count</th>\n",
       "      <td>51.000000</td>\n",
       "      <td>51.000000</td>\n",
       "      <td>51.000000</td>\n",
       "      <td>51.000000</td>\n",
       "      <td>51.00000</td>\n",
       "      <td>51.000000</td>\n",
       "      <td>51.000000</td>\n",
       "    </tr>\n",
       "    <tr>\n",
       "      <th>mean</th>\n",
       "      <td>15.790196</td>\n",
       "      <td>31.725490</td>\n",
       "      <td>30.686275</td>\n",
       "      <td>85.921569</td>\n",
       "      <td>88.72549</td>\n",
       "      <td>886.957647</td>\n",
       "      <td>134.493137</td>\n",
       "    </tr>\n",
       "    <tr>\n",
       "      <th>std</th>\n",
       "      <td>4.122002</td>\n",
       "      <td>9.633438</td>\n",
       "      <td>5.132213</td>\n",
       "      <td>15.158949</td>\n",
       "      <td>6.96011</td>\n",
       "      <td>178.296285</td>\n",
       "      <td>24.835922</td>\n",
       "    </tr>\n",
       "    <tr>\n",
       "      <th>min</th>\n",
       "      <td>5.900000</td>\n",
       "      <td>13.000000</td>\n",
       "      <td>16.000000</td>\n",
       "      <td>10.000000</td>\n",
       "      <td>76.00000</td>\n",
       "      <td>641.960000</td>\n",
       "      <td>82.750000</td>\n",
       "    </tr>\n",
       "    <tr>\n",
       "      <th>25%</th>\n",
       "      <td>12.750000</td>\n",
       "      <td>23.000000</td>\n",
       "      <td>28.000000</td>\n",
       "      <td>83.000000</td>\n",
       "      <td>83.50000</td>\n",
       "      <td>768.430000</td>\n",
       "      <td>114.645000</td>\n",
       "    </tr>\n",
       "    <tr>\n",
       "      <th>50%</th>\n",
       "      <td>15.600000</td>\n",
       "      <td>34.000000</td>\n",
       "      <td>30.000000</td>\n",
       "      <td>88.000000</td>\n",
       "      <td>88.00000</td>\n",
       "      <td>858.970000</td>\n",
       "      <td>136.050000</td>\n",
       "    </tr>\n",
       "    <tr>\n",
       "      <th>75%</th>\n",
       "      <td>18.500000</td>\n",
       "      <td>38.000000</td>\n",
       "      <td>33.000000</td>\n",
       "      <td>95.000000</td>\n",
       "      <td>95.00000</td>\n",
       "      <td>1007.945000</td>\n",
       "      <td>151.870000</td>\n",
       "    </tr>\n",
       "    <tr>\n",
       "      <th>max</th>\n",
       "      <td>23.900000</td>\n",
       "      <td>54.000000</td>\n",
       "      <td>44.000000</td>\n",
       "      <td>100.000000</td>\n",
       "      <td>100.00000</td>\n",
       "      <td>1301.520000</td>\n",
       "      <td>194.780000</td>\n",
       "    </tr>\n",
       "  </tbody>\n",
       "</table>\n",
       "</div>"
      ],
      "text/plain": [
       "       Number of drivers involved in fatal collisions per billion miles  \\\n",
       "count                                          51.000000                  \n",
       "mean                                           15.790196                  \n",
       "std                                             4.122002                  \n",
       "min                                             5.900000                  \n",
       "25%                                            12.750000                  \n",
       "50%                                            15.600000                  \n",
       "75%                                            18.500000                  \n",
       "max                                            23.900000                  \n",
       "\n",
       "       Percentage Of Drivers Involved In Fatal Collisions Who Were Speeding  \\\n",
       "count                                          51.000000                      \n",
       "mean                                           31.725490                      \n",
       "std                                             9.633438                      \n",
       "min                                            13.000000                      \n",
       "25%                                            23.000000                      \n",
       "50%                                            34.000000                      \n",
       "75%                                            38.000000                      \n",
       "max                                            54.000000                      \n",
       "\n",
       "       Percentage Of Drivers Involved In Fatal Collisions Who Were Alcohol-Impaired  \\\n",
       "count                                          51.000000                              \n",
       "mean                                           30.686275                              \n",
       "std                                             5.132213                              \n",
       "min                                            16.000000                              \n",
       "25%                                            28.000000                              \n",
       "50%                                            30.000000                              \n",
       "75%                                            33.000000                              \n",
       "max                                            44.000000                              \n",
       "\n",
       "       Percentage Of Drivers Involved In Fatal Collisions Who Were Not Distracted  \\\n",
       "count                                          51.000000                            \n",
       "mean                                           85.921569                            \n",
       "std                                            15.158949                            \n",
       "min                                            10.000000                            \n",
       "25%                                            83.000000                            \n",
       "50%                                            88.000000                            \n",
       "75%                                            95.000000                            \n",
       "max                                           100.000000                            \n",
       "\n",
       "       Percentage Of Drivers Involved In Fatal Collisions Who Had Not Been Involved In Any Previous Accidents  \\\n",
       "count                                           51.00000                                                        \n",
       "mean                                            88.72549                                                        \n",
       "std                                              6.96011                                                        \n",
       "min                                             76.00000                                                        \n",
       "25%                                             83.50000                                                        \n",
       "50%                                             88.00000                                                        \n",
       "75%                                             95.00000                                                        \n",
       "max                                            100.00000                                                        \n",
       "\n",
       "       Car Insurance Premiums ($)  \\\n",
       "count                   51.000000   \n",
       "mean                   886.957647   \n",
       "std                    178.296285   \n",
       "min                    641.960000   \n",
       "25%                    768.430000   \n",
       "50%                    858.970000   \n",
       "75%                   1007.945000   \n",
       "max                   1301.520000   \n",
       "\n",
       "       Losses incurred by insurance companies for collisions per insured driver ($)  \n",
       "count                                          51.000000                             \n",
       "mean                                          134.493137                             \n",
       "std                                            24.835922                             \n",
       "min                                            82.750000                             \n",
       "25%                                           114.645000                             \n",
       "50%                                           136.050000                             \n",
       "75%                                           151.870000                             \n",
       "max                                           194.780000                             "
      ]
     },
     "execution_count": 35,
     "metadata": {},
     "output_type": "execute_result"
    }
   ],
   "source": [
    "df.describe()"
   ]
  },
  {
   "cell_type": "code",
   "execution_count": 36,
   "metadata": {
    "collapsed": false
   },
   "outputs": [
    {
     "data": {
      "text/plain": [
       "(51, 8)"
      ]
     },
     "execution_count": 36,
     "metadata": {},
     "output_type": "execute_result"
    }
   ],
   "source": [
    "df.shape"
   ]
  },
  {
   "cell_type": "code",
   "execution_count": 37,
   "metadata": {
    "collapsed": false
   },
   "outputs": [
    {
     "data": {
      "text/plain": [
       "Index([u'State',\n",
       "       u'Number of drivers involved in fatal collisions per billion miles',\n",
       "       u'Percentage Of Drivers Involved In Fatal Collisions Who Were Speeding',\n",
       "       u'Percentage Of Drivers Involved In Fatal Collisions Who Were Alcohol-Impaired',\n",
       "       u'Percentage Of Drivers Involved In Fatal Collisions Who Were Not Distracted',\n",
       "       u'Percentage Of Drivers Involved In Fatal Collisions Who Had Not Been Involved In Any Previous Accidents',\n",
       "       u'Car Insurance Premiums ($)',\n",
       "       u'Losses incurred by insurance companies for collisions per insured driver ($)'],\n",
       "      dtype='object')"
      ]
     },
     "execution_count": 37,
     "metadata": {},
     "output_type": "execute_result"
    }
   ],
   "source": [
    "df.columns"
   ]
  },
  {
   "cell_type": "code",
   "execution_count": 53,
   "metadata": {
    "collapsed": false
   },
   "outputs": [
    {
     "data": {
      "text/plain": [
       "8     District of Columbia\n",
       "18               Louisiana\n",
       "30              New Jersey\n",
       "Name: State, dtype: object"
      ]
     },
     "execution_count": 53,
     "metadata": {},
     "output_type": "execute_result"
    }
   ],
   "source": [
    "df.State[df['Car Insurance Premiums ($)']>1250]"
   ]
  },
  {
   "cell_type": "code",
   "execution_count": 48,
   "metadata": {
    "collapsed": false
   },
   "outputs": [
    {
     "data": {
      "text/plain": [
       "34      North Dakota\n",
       "40    South Carolina\n",
       "Name: State, dtype: object"
      ]
     },
     "execution_count": 48,
     "metadata": {},
     "output_type": "execute_result"
    }
   ],
   "source": [
    "df.State[df['Number of drivers involved in fatal collisions per billion miles']==df['Number of drivers involved in fatal collisions per billion miles'].max()]"
   ]
  },
  {
   "cell_type": "code",
   "execution_count": 39,
   "metadata": {
    "collapsed": false
   },
   "outputs": [
    {
     "data": {
      "text/plain": [
       "Series([], Name: State, dtype: object)"
      ]
     },
     "execution_count": 39,
     "metadata": {},
     "output_type": "execute_result"
    }
   ],
   "source": [
    "df.State[df['Number of drivers involved in fatal collisions per billion miles']>40]"
   ]
  },
  {
   "cell_type": "code",
   "execution_count": 40,
   "metadata": {
    "collapsed": false
   },
   "outputs": [
    {
     "data": {
      "text/plain": [
       "Number of drivers involved in fatal collisions per billion miles                                           15.60\n",
       "Percentage Of Drivers Involved In Fatal Collisions Who Were Speeding                                       34.00\n",
       "Percentage Of Drivers Involved In Fatal Collisions Who Were Alcohol-Impaired                               30.00\n",
       "Percentage Of Drivers Involved In Fatal Collisions Who Were Not Distracted                                 88.00\n",
       "Percentage Of Drivers Involved In Fatal Collisions Who Had Not Been Involved In Any Previous Accidents     88.00\n",
       "Car Insurance Premiums ($)                                                                                858.97\n",
       "Losses incurred by insurance companies for collisions per insured driver ($)                              136.05\n",
       "dtype: float64"
      ]
     },
     "execution_count": 40,
     "metadata": {},
     "output_type": "execute_result"
    }
   ],
   "source": [
    "df.median()"
   ]
  },
  {
   "cell_type": "code",
   "execution_count": 30,
   "metadata": {
    "collapsed": false
   },
   "outputs": [
    {
     "data": {
      "text/plain": [
       "805.2999999999998"
      ]
     },
     "execution_count": 30,
     "metadata": {},
     "output_type": "execute_result"
    }
   ],
   "source": [
    "df['Number of drivers involved in fatal collisions per billion miles'].sum()"
   ]
  },
  {
   "cell_type": "code",
   "execution_count": 41,
   "metadata": {
    "collapsed": false
   },
   "outputs": [
    {
     "data": {
      "text/html": [
       "<div>\n",
       "<table border=\"1\" class=\"dataframe\">\n",
       "  <thead>\n",
       "    <tr style=\"text-align: right;\">\n",
       "      <th></th>\n",
       "      <th>Number of drivers involved in fatal collisions per billion miles</th>\n",
       "      <th>Percentage Of Drivers Involved In Fatal Collisions Who Were Speeding</th>\n",
       "      <th>Percentage Of Drivers Involved In Fatal Collisions Who Were Alcohol-Impaired</th>\n",
       "      <th>Percentage Of Drivers Involved In Fatal Collisions Who Were Not Distracted</th>\n",
       "      <th>Percentage Of Drivers Involved In Fatal Collisions Who Had Not Been Involved In Any Previous Accidents</th>\n",
       "      <th>Car Insurance Premiums ($)</th>\n",
       "      <th>Losses incurred by insurance companies for collisions per insured driver ($)</th>\n",
       "    </tr>\n",
       "  </thead>\n",
       "  <tbody>\n",
       "    <tr>\n",
       "      <th>Number of drivers involved in fatal collisions per billion miles</th>\n",
       "      <td>1.000000</td>\n",
       "      <td>-0.029080</td>\n",
       "      <td>0.199426</td>\n",
       "      <td>0.009782</td>\n",
       "      <td>-0.017942</td>\n",
       "      <td>-0.199702</td>\n",
       "      <td>-0.036011</td>\n",
       "    </tr>\n",
       "    <tr>\n",
       "      <th>Percentage Of Drivers Involved In Fatal Collisions Who Were Speeding</th>\n",
       "      <td>-0.029080</td>\n",
       "      <td>1.000000</td>\n",
       "      <td>0.286244</td>\n",
       "      <td>0.131738</td>\n",
       "      <td>0.014066</td>\n",
       "      <td>0.042541</td>\n",
       "      <td>-0.061241</td>\n",
       "    </tr>\n",
       "    <tr>\n",
       "      <th>Percentage Of Drivers Involved In Fatal Collisions Who Were Alcohol-Impaired</th>\n",
       "      <td>0.199426</td>\n",
       "      <td>0.286244</td>\n",
       "      <td>1.000000</td>\n",
       "      <td>0.043380</td>\n",
       "      <td>-0.245455</td>\n",
       "      <td>-0.017451</td>\n",
       "      <td>-0.083916</td>\n",
       "    </tr>\n",
       "    <tr>\n",
       "      <th>Percentage Of Drivers Involved In Fatal Collisions Who Were Not Distracted</th>\n",
       "      <td>0.009782</td>\n",
       "      <td>0.131738</td>\n",
       "      <td>0.043380</td>\n",
       "      <td>1.000000</td>\n",
       "      <td>-0.195265</td>\n",
       "      <td>0.019578</td>\n",
       "      <td>-0.058467</td>\n",
       "    </tr>\n",
       "    <tr>\n",
       "      <th>Percentage Of Drivers Involved In Fatal Collisions Who Had Not Been Involved In Any Previous Accidents</th>\n",
       "      <td>-0.017942</td>\n",
       "      <td>0.014066</td>\n",
       "      <td>-0.245455</td>\n",
       "      <td>-0.195265</td>\n",
       "      <td>1.000000</td>\n",
       "      <td>0.075533</td>\n",
       "      <td>0.042770</td>\n",
       "    </tr>\n",
       "    <tr>\n",
       "      <th>Car Insurance Premiums ($)</th>\n",
       "      <td>-0.199702</td>\n",
       "      <td>0.042541</td>\n",
       "      <td>-0.017451</td>\n",
       "      <td>0.019578</td>\n",
       "      <td>0.075533</td>\n",
       "      <td>1.000000</td>\n",
       "      <td>0.623116</td>\n",
       "    </tr>\n",
       "    <tr>\n",
       "      <th>Losses incurred by insurance companies for collisions per insured driver ($)</th>\n",
       "      <td>-0.036011</td>\n",
       "      <td>-0.061241</td>\n",
       "      <td>-0.083916</td>\n",
       "      <td>-0.058467</td>\n",
       "      <td>0.042770</td>\n",
       "      <td>0.623116</td>\n",
       "      <td>1.000000</td>\n",
       "    </tr>\n",
       "  </tbody>\n",
       "</table>\n",
       "</div>"
      ],
      "text/plain": [
       "                                                    Number of drivers involved in fatal collisions per billion miles  \\\n",
       "Number of drivers involved in fatal collisions ...                                           1.000000                  \n",
       "Percentage Of Drivers Involved In Fatal Collisi...                                          -0.029080                  \n",
       "Percentage Of Drivers Involved In Fatal Collisi...                                           0.199426                  \n",
       "Percentage Of Drivers Involved In Fatal Collisi...                                           0.009782                  \n",
       "Percentage Of Drivers Involved In Fatal Collisi...                                          -0.017942                  \n",
       "Car Insurance Premiums ($)                                                                  -0.199702                  \n",
       "Losses incurred by insurance companies for coll...                                          -0.036011                  \n",
       "\n",
       "                                                    Percentage Of Drivers Involved In Fatal Collisions Who Were Speeding  \\\n",
       "Number of drivers involved in fatal collisions ...                                          -0.029080                      \n",
       "Percentage Of Drivers Involved In Fatal Collisi...                                           1.000000                      \n",
       "Percentage Of Drivers Involved In Fatal Collisi...                                           0.286244                      \n",
       "Percentage Of Drivers Involved In Fatal Collisi...                                           0.131738                      \n",
       "Percentage Of Drivers Involved In Fatal Collisi...                                           0.014066                      \n",
       "Car Insurance Premiums ($)                                                                   0.042541                      \n",
       "Losses incurred by insurance companies for coll...                                          -0.061241                      \n",
       "\n",
       "                                                    Percentage Of Drivers Involved In Fatal Collisions Who Were Alcohol-Impaired  \\\n",
       "Number of drivers involved in fatal collisions ...                                           0.199426                              \n",
       "Percentage Of Drivers Involved In Fatal Collisi...                                           0.286244                              \n",
       "Percentage Of Drivers Involved In Fatal Collisi...                                           1.000000                              \n",
       "Percentage Of Drivers Involved In Fatal Collisi...                                           0.043380                              \n",
       "Percentage Of Drivers Involved In Fatal Collisi...                                          -0.245455                              \n",
       "Car Insurance Premiums ($)                                                                  -0.017451                              \n",
       "Losses incurred by insurance companies for coll...                                          -0.083916                              \n",
       "\n",
       "                                                    Percentage Of Drivers Involved In Fatal Collisions Who Were Not Distracted  \\\n",
       "Number of drivers involved in fatal collisions ...                                           0.009782                            \n",
       "Percentage Of Drivers Involved In Fatal Collisi...                                           0.131738                            \n",
       "Percentage Of Drivers Involved In Fatal Collisi...                                           0.043380                            \n",
       "Percentage Of Drivers Involved In Fatal Collisi...                                           1.000000                            \n",
       "Percentage Of Drivers Involved In Fatal Collisi...                                          -0.195265                            \n",
       "Car Insurance Premiums ($)                                                                   0.019578                            \n",
       "Losses incurred by insurance companies for coll...                                          -0.058467                            \n",
       "\n",
       "                                                    Percentage Of Drivers Involved In Fatal Collisions Who Had Not Been Involved In Any Previous Accidents  \\\n",
       "Number of drivers involved in fatal collisions ...                                          -0.017942                                                        \n",
       "Percentage Of Drivers Involved In Fatal Collisi...                                           0.014066                                                        \n",
       "Percentage Of Drivers Involved In Fatal Collisi...                                          -0.245455                                                        \n",
       "Percentage Of Drivers Involved In Fatal Collisi...                                          -0.195265                                                        \n",
       "Percentage Of Drivers Involved In Fatal Collisi...                                           1.000000                                                        \n",
       "Car Insurance Premiums ($)                                                                   0.075533                                                        \n",
       "Losses incurred by insurance companies for coll...                                           0.042770                                                        \n",
       "\n",
       "                                                    Car Insurance Premiums ($)  \\\n",
       "Number of drivers involved in fatal collisions ...                   -0.199702   \n",
       "Percentage Of Drivers Involved In Fatal Collisi...                    0.042541   \n",
       "Percentage Of Drivers Involved In Fatal Collisi...                   -0.017451   \n",
       "Percentage Of Drivers Involved In Fatal Collisi...                    0.019578   \n",
       "Percentage Of Drivers Involved In Fatal Collisi...                    0.075533   \n",
       "Car Insurance Premiums ($)                                            1.000000   \n",
       "Losses incurred by insurance companies for coll...                    0.623116   \n",
       "\n",
       "                                                    Losses incurred by insurance companies for collisions per insured driver ($)  \n",
       "Number of drivers involved in fatal collisions ...                                          -0.036011                             \n",
       "Percentage Of Drivers Involved In Fatal Collisi...                                          -0.061241                             \n",
       "Percentage Of Drivers Involved In Fatal Collisi...                                          -0.083916                             \n",
       "Percentage Of Drivers Involved In Fatal Collisi...                                          -0.058467                             \n",
       "Percentage Of Drivers Involved In Fatal Collisi...                                           0.042770                             \n",
       "Car Insurance Premiums ($)                                                                   0.623116                             \n",
       "Losses incurred by insurance companies for coll...                                           1.000000                             "
      ]
     },
     "execution_count": 41,
     "metadata": {},
     "output_type": "execute_result"
    }
   ],
   "source": [
    "df.corr()"
   ]
  },
  {
   "cell_type": "markdown",
   "metadata": {},
   "source": [
    "### Summary\n",
    "The dataset describes the number of fatal car collisions per driven distance in each US state, possible causes for the accidents and related insurance costs. Most fatal collisions happen in North Dakota and South Carolina, the total number of fatal accidents in the US is 805 per billion miles. There is a high correlation between car insurance premium and losses incurred by insurance companies for collision per insured driver."
   ]
  }
 ],
 "metadata": {
  "anaconda-cloud": {},
  "kernelspec": {
   "display_name": "Python [conda root]",
   "language": "python",
   "name": "conda-root-py"
  },
  "language_info": {
   "codemirror_mode": {
    "name": "ipython",
    "version": 2
   },
   "file_extension": ".py",
   "mimetype": "text/x-python",
   "name": "python",
   "nbconvert_exporter": "python",
   "pygments_lexer": "ipython2",
   "version": "2.7.12"
  }
 },
 "nbformat": 4,
 "nbformat_minor": 1
}
