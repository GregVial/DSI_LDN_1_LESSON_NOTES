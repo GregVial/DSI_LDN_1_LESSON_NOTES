{
 "cells": [
  {
   "cell_type": "markdown",
   "metadata": {},
   "source": [
    "# ![](https://ga-dash.s3.amazonaws.com/production/assets/logo-9f88ae6c9c3871690e33280fcf557f33.png)  Bayesian Statistics and Politics\n",
    "Week 8 | Lab 2.3"
   ]
  },
  {
   "cell_type": "markdown",
   "metadata": {},
   "source": [
    "Given the unexpected US Presidential results, let's have a look back to simpler times (1988 Presidential election) and find a bit more about how Bayesian analysis is utilised for such modelling."
   ]
  },
  {
   "cell_type": "markdown",
   "metadata": {},
   "source": [
    "# Some model background"
   ]
  },
  {
   "cell_type": "markdown",
   "metadata": {},
   "source": [
    "#### 2.1 Priors and Conjugate Priors"
   ]
  },
  {
   "cell_type": "markdown",
   "metadata": {},
   "source": [
    "### &nbsp;&nbsp;&nbsp;&nbsp;&nbsp;&nbsp;&nbsp;&nbsp;&nbsp;&nbsp;&nbsp;&nbsp;&nbsp;&nbsp;&nbsp;&nbsp;&nbsp;&nbsp;&nbsp;&nbsp;&nbsp;&nbsp;&nbsp;&nbsp;&nbsp;&nbsp;&nbsp;&nbsp;&nbsp;&nbsp;&nbsp;&nbsp;&nbsp;&nbsp;&nbsp;&nbsp;&nbsp;&nbsp;&nbsp;&nbsp;&nbsp;&nbsp;&nbsp;&nbsp;&nbsp;&nbsp;&nbsp;&nbsp;&nbsp;&nbsp;&nbsp;&nbsp;&nbsp;&nbsp;&nbsp;&nbsp;&nbsp;&nbsp;&nbsp;&nbsp;&nbsp;&nbsp;&nbsp;&nbsp;&nbsp;&nbsp;&nbsp;&nbsp;&nbsp;&nbsp;&nbsp;&nbsp;&nbsp;&nbsp;&nbsp;&nbsp;&nbsp;&nbsp;&nbsp;&nbsp;&nbsp;&nbsp;&nbsp;&nbsp;Conjugate Priors\n",
    "| Prior  | Likelihood  | \n",
    "|---|---|\n",
    " | Beta  | Binomial  |\n",
    " | Dirichlet  | Multinomial   | \n",
    " | Gamma  | Gaussian |\n",
    " | Gaussian  | Gaussian | \n",
    " \n",
    " The above table provides the likelihood/prior conjugate prior combinations that ensure computational tractability for calculation of posterior distributions \n",
    " \n",
    " | Name  | Probability Density Function (PDF) | Use\n",
    "|---|---|\n",
    "| Beta  | $\\frac{1}{B(\\alpha, \\beta)}x^{\\alpha-1}(1-x)^{\\beta-1}$ | More of a family of distributions, usually representing probabilties of proportions, thus it's great to use as our prior belief (very important in Bayesian analysis)|\n",
    "| Dirichlet  |  $\\begin{equation*}\\frac{1}{B(\\alpha, ,\\beta)}\\prod_{i = 1}^{n}x_i^{\\alpha-1}\\end{equation*}$  | Similar to Beta above, just extended over multinomials, often used in NLP and other text-mining processes  |\n",
    "| Gamma  |$ x^{a-i}e^{-x}\\frac{1}{\\Gamma(a)}$ | This distribution represents waiting time between Poisson distributed events (remember c_i in the previous lecture finger exercise | \n",
    "| Gaussian  | $\\frac{1}{\\sigma \\sqrt(2\\pi)}e^{\\frac{-(x-\\mu)^{2}}{2\\sigma^2}}$ | This is just the normal distribution | \n",
    "| Binomial  | $\\binom{n}{k}\\cdot p^kq^{n-k} $   | Gives you the probability of getting k \"success\" in n iterations/trials |\n",
    "| Multinomial  | $\\frac{N!}{\\prod_{i=1}^n x_i!} \\prod_{i=1}^n \\theta_i^{x_i} $| Similar to binomial distribution, but generalized to include multiple \"buckets\" (X, Y, Z,...) instead of just two (1 or 0), represents how many times each bucket X, Y, Z,... etc was observed over n trials | "
   ]
  },
  {
   "cell_type": "markdown",
   "metadata": {},
   "source": [
    "The beta distribution is particularly of interest. It is defined on the interval between 0 and 1 (inclusive), so it is a natural choice for describing probabilities. Additionally if the prior used is a beta distribution and we do an update using a binominal likelihood, then the posterior will also be beta distributed. This is the property of **conjugate prior**, in that both prior and posterior follow the beta distribution. The shape of a beta distribution depends on the two parameters $\\alpha$ and $\\beta$ (much as the normal distribution is defined by the mean and variance). We can set an uninformative prior that is flat if we set $\\alpha=1$ and $\\beta=1$.\n",
    "\n",
    "Furthermore the parameters of the two distributions will be linked straightforwardly in the binomial case; in a binomial update the posterior parameters will take simple summations on the number of observations of each of the two classes seen; the $\\alpha$ becomes $\\alpha$ + number of positive cases, and $\\beta$ becomes $\\beta$ plus number of negative cases.\n",
    "\n",
    "$$pdf\\;of\\;\\beta\\;distribution = \\frac{1}{B(\\alpha, \\beta)}x^{\\alpha-1}(1-x)^{\\beta-1}$$\n",
    "\n",
    "The $B(\\alpha, \\beta)$ is the beta function which forms a normalising constant ensuring the total probability integrates to 1 (so i.e. the area under the curve of the beta distribution is 1).\n",
    "\n",
    "$$B(a,b) = \\frac{\\Gamma(a)\\Gamma(b)}{\\Gamma(a+b)}$$\n",
    "\n",
    "The gamma function $\\Gamma(n)=(n-1)!$ for positive integers, and an integral function for non-integers (this is implemented in python's math module). As it is used in Bayesian Analysis, the beta distribution is often used to represent the prior beliefs of the modeler. Let's say you thought the chance of a political candidate winning an election was .60 (whatever that means), but that given new information, that you've cleverly modeled using Bayes, it's now .80 (say you've tied your candidates political fortunes to the performance of the economy), your prior beliefs can be modeled (after some tuning of $\\alpha$, $\\beta$, the input variable) by the beta distribution. The beta function  is then used as a scaling term that ensures your model is bounded by (0, 1)."
   ]
  },
  {
   "cell_type": "code",
   "execution_count": 15,
   "metadata": {
    "collapsed": true
   },
   "outputs": [],
   "source": [
    "from __future__ import division\n",
    "import numpy as np\n",
    "import math\n",
    "from scipy.special import gamma as Gamma\n",
    "from scipy.stats import beta\n",
    "import matplotlib.pyplot as plt\n",
    "%matplotlib inline"
   ]
  },
  {
   "cell_type": "markdown",
   "metadata": {},
   "source": [
    "Let's build up some intuition on these distributions with some plotting and making some functions.\n",
    "Read the whole of this long first answer [here](http://stats.stackexchange.com/questions/47771/what-is-the-intuition-behind-beta-distribution) about betas."
   ]
  },
  {
   "cell_type": "code",
   "execution_count": 16,
   "metadata": {
    "collapsed": false
   },
   "outputs": [
    {
     "data": {
      "image/png": "[encoded data removed]",
      "text/plain": [
       "<matplotlib.figure.Figure at 0x117311250>"
      ]
     },
     "metadata": {},
     "output_type": "display_data"
    }
   ],
   "source": [
    "# Building up a Bayesian update: implement the Beta distribution pdf into Python \n",
    "# using 1) the scipy beta 2) the math library (the interesting thing is it encounters\n",
    "# problems with underflow/overflow due to floating point accuracy, but scipy fixes this)\n",
    "# note: x should be bounded by 0 and 1, y is the pdf function, alpha and beta your paramaters to vary\n",
    "\n",
    "def my_beta_function(a,b):\n",
    "    beta_num = (math.gamma(a)*math.gamma(b))/math.gamma(a+b)\n",
    "    return beta_num\n",
    "\n",
    "import numpy as np\n",
    "a = 81\n",
    "b = 219\n",
    "x = np.arange (0.01, 1, 0.01)\n",
    "y = beta.pdf(x,a,b)\n",
    "plt.plot(x,y,color='r')\n",
    "a += 1\n",
    "y = beta.pdf(x,a,b)\n",
    "plt.plot(x,y,color='g')\n",
    "a += 100\n",
    "b += 200\n",
    "y = beta.pdf(x,a,b)\n",
    "plt.plot(x,y,color='b')\n",
    "plt.show()\n",
    "\n",
    "#Now try out some different values for alpha and beta (a and b). \n",
    "#Try (2,2), (2,4), (4,2), (2,8), (20,80). Just play with it and see how the pdf changes\n",
    "# as you add numbers to the alpha and beta iteratively.\n"
   ]
  },
  {
   "cell_type": "markdown",
   "metadata": {},
   "source": [
    "#### Aside: Introducing Dirchilet Distribution for Multi-level Categorical Analysis\n",
    "\n",
    "In the longer term, our main aim is to model the quotient, in particular, the percentage of voters for a particular candidate. The commonest way to do this is to utilise the Dirichlet distribution in our probability model: $\\begin{equation*}\\frac{1}{B(\\alpha)}\\prod_{i = 1}^{n}x_i^{\\alpha-1}\\end{equation*}$.\n",
    "\n",
    "As you read in the summary in the table above, it's often used to model situations with more than \"2\" possiblities/buckets/outcomes. This is in fact a very powerful distribution. For our purposes, we would use this distribution to model situations where there are more than 2 candidates (e.g. Clinton, Bush, Perot in 1992). But for this lab,  let's assume there's just two alternatives. That way, we can utilize the simple binomial model and as our table states, we just need to use beta for that case."
   ]
  },
  {
   "cell_type": "markdown",
   "metadata": {},
   "source": [
    "# Prepping the data"
   ]
  },
  {
   "cell_type": "markdown",
   "metadata": {
    "collapsed": true
   },
   "source": [
    "This case study will use data from: http://www.stat.columbia.edu/~gelman/arm/examples/election88/, from Andrew Gelman, one of the foremost researchers in Bayesian analysis. This 1988 election between Bush and Dukakis was ultimately a major victory for the Republicans, and propelled George H.W. Bush into the presidency. "
   ]
  },
  {
   "cell_type": "code",
   "execution_count": 3,
   "metadata": {
    "collapsed": false
   },
   "outputs": [
    {
     "data": {
      "text/html": [
       "<div>\n",
       "<table border=\"1\" class=\"dataframe\">\n",
       "  <thead>\n",
       "    <tr style=\"text-align: right;\">\n",
       "      <th></th>\n",
       "      <th>year</th>\n",
       "      <th>survey</th>\n",
       "      <th>bush</th>\n",
       "      <th>state</th>\n",
       "      <th>edu</th>\n",
       "      <th>age</th>\n",
       "      <th>female</th>\n",
       "      <th>black</th>\n",
       "      <th>weight</th>\n",
       "    </tr>\n",
       "  </thead>\n",
       "  <tbody>\n",
       "    <tr>\n",
       "      <th>0</th>\n",
       "      <td>1</td>\n",
       "      <td>9152</td>\n",
       "      <td>1.0</td>\n",
       "      <td>7</td>\n",
       "      <td>2</td>\n",
       "      <td>2</td>\n",
       "      <td>1</td>\n",
       "      <td>0</td>\n",
       "      <td>1403</td>\n",
       "    </tr>\n",
       "    <tr>\n",
       "      <th>1</th>\n",
       "      <td>1</td>\n",
       "      <td>9152</td>\n",
       "      <td>1.0</td>\n",
       "      <td>33</td>\n",
       "      <td>4</td>\n",
       "      <td>3</td>\n",
       "      <td>0</td>\n",
       "      <td>0</td>\n",
       "      <td>778</td>\n",
       "    </tr>\n",
       "    <tr>\n",
       "      <th>2</th>\n",
       "      <td>1</td>\n",
       "      <td>9152</td>\n",
       "      <td>0.0</td>\n",
       "      <td>20</td>\n",
       "      <td>2</td>\n",
       "      <td>1</td>\n",
       "      <td>1</td>\n",
       "      <td>0</td>\n",
       "      <td>1564</td>\n",
       "    </tr>\n",
       "    <tr>\n",
       "      <th>3</th>\n",
       "      <td>1</td>\n",
       "      <td>9152</td>\n",
       "      <td>1.0</td>\n",
       "      <td>31</td>\n",
       "      <td>3</td>\n",
       "      <td>2</td>\n",
       "      <td>1</td>\n",
       "      <td>0</td>\n",
       "      <td>1055</td>\n",
       "    </tr>\n",
       "    <tr>\n",
       "      <th>4</th>\n",
       "      <td>1</td>\n",
       "      <td>9152</td>\n",
       "      <td>1.0</td>\n",
       "      <td>18</td>\n",
       "      <td>3</td>\n",
       "      <td>1</td>\n",
       "      <td>1</td>\n",
       "      <td>0</td>\n",
       "      <td>1213</td>\n",
       "    </tr>\n",
       "  </tbody>\n",
       "</table>\n",
       "</div>"
      ],
      "text/plain": [
       "   year survey  bush  state  edu  age  female  black  weight\n",
       "0     1   9152   1.0      7    2    2       1      0    1403\n",
       "1     1   9152   1.0     33    4    3       0      0     778\n",
       "2     1   9152   0.0     20    2    1       1      0    1564\n",
       "3     1   9152   1.0     31    3    2       1      0    1055\n",
       "4     1   9152   1.0     18    3    1       1      0    1213"
      ]
     },
     "execution_count": 3,
     "metadata": {},
     "output_type": "execute_result"
    }
   ],
   "source": [
    "import pandas as pd\n",
    "\n",
    "# Reading in the csv file\n",
    "pre_poll = pd.read_csv('../assets/datasets/polls.csv')\n",
    "\n",
    "# The first column \"Unnamed\" is clearly just a row-identifer machine generated. We can ignore that column or drop it all together\n",
    "del pre_poll['Unnamed: 0']\n",
    "del pre_poll['org']\n",
    "pre_poll.head()"
   ]
  },
  {
   "cell_type": "markdown",
   "metadata": {},
   "source": [
    "Now that we have the data read in, we would like to partition the data into states so we can do state-specific inference "
   ]
  },
  {
   "cell_type": "markdown",
   "metadata": {
    "collapsed": true
   },
   "source": [
    "Summarize the age variable with counts"
   ]
  },
  {
   "cell_type": "code",
   "execution_count": 18,
   "metadata": {
    "collapsed": false
   },
   "outputs": [
    {
     "data": {
      "text/plain": [
       "2    4788\n",
       "3    3429\n",
       "1    3149\n",
       "4    2178\n",
       "Name: age, dtype: int64"
      ]
     },
     "execution_count": 18,
     "metadata": {},
     "output_type": "execute_result"
    }
   ],
   "source": [
    "# Determine the number of yers of the data\n",
    "pre_poll['age'].value_counts().head()"
   ]
  },
  {
   "cell_type": "markdown",
   "metadata": {
    "collapsed": true
   },
   "source": [
    "Summarize the state with counts"
   ]
  },
  {
   "cell_type": "code",
   "execution_count": 19,
   "metadata": {
    "collapsed": false
   },
   "outputs": [],
   "source": [
    "# Determine the number of entities/states of the data\n",
    "#pre_poll['state'].value_counts()"
   ]
  },
  {
   "cell_type": "markdown",
   "metadata": {
    "collapsed": true
   },
   "source": [
    "cretae a data frame with only state and age"
   ]
  },
  {
   "cell_type": "code",
   "execution_count": 20,
   "metadata": {
    "collapsed": false
   },
   "outputs": [],
   "source": [
    "# We need to partition the data into individual data frames to construct our Bayesian inference on \n",
    "c1 = pre_poll['state'] == 1\n",
    "c2 = pre_poll['age'] == 4\n",
    "subset_interest = pre_poll[c1 & c2]"
   ]
  },
  {
   "cell_type": "code",
   "execution_count": 21,
   "metadata": {
    "collapsed": false
   },
   "outputs": [
    {
     "data": {
      "text/plain": [
       "2"
      ]
     },
     "execution_count": 21,
     "metadata": {},
     "output_type": "execute_result"
    }
   ],
   "source": [
    "test_set = subset_interest.dropna(); test_set.head()\n",
    "len(test_set['bush'].unique())"
   ]
  },
  {
   "cell_type": "markdown",
   "metadata": {
    "collapsed": true
   },
   "source": [
    "Great, now let's do some basic exploratory analysis on the polling data. Let's construct the Bush support for state-age cohorts and save that data for use in the dictionary container."
   ]
  },
  {
   "cell_type": "code",
   "execution_count": 22,
   "metadata": {
    "collapsed": false
   },
   "outputs": [],
   "source": [
    "import numpy as np\n",
    "container = {}; bush_quotient = 0\n",
    "for age in pre_poll['age'].unique():     # Spanning through all year-state combinations\n",
    "    for state in pre_poll['state'].unique(): \n",
    "        c1 = pre_poll['state'] == state\n",
    "        c2 = pre_poll['age'] == age\n",
    "        subset_interest = pre_poll[c1 & c2]  # Subsetting the data \n",
    "        \n",
    "        contain = subset_interest['bush'].unique()  \n",
    "        contain = contain[~np.isnan(contain)]   # Remove the NaNs - Think why can't we use dropna()?\n",
    "        \n",
    "        if len(contain) == 2:\n",
    "            #Computing the Quotient that polled for Bush in the pre-poll for a particular age-state combination\n",
    "            bush_quotient = float(subset_interest['bush'].value_counts()[1])/(float(subset_interest['bush'].value_counts()[1])+float(subset_interest['bush'].value_counts()[0]))\n",
    "            temp_name = str(state)+','+str(age)\n",
    "            container[temp_name] = bush_quotient\n",
    "\n",
    "            \n",
    "# Likewise, let's also produce a dictionary with the general poll percentages for state (no age)\n",
    "\n",
    "container2 ={}\n",
    "for state in pre_poll['state'].unique(): \n",
    "    c1 = pre_poll['state'] == state\n",
    "    subset_interest = pre_poll[c1]  # Subsetting the data \n",
    "    contain = subset_interest['bush'].unique()  \n",
    "    contain = contain[~np.isnan(contain)]   # Remove the NaNs - Think why can't we use dropna()?\n",
    "        \n",
    "    if len(contain) == 2:\n",
    "        bush_quotient = float(subset_interest['bush'].value_counts()[1])/(float(subset_interest['bush'].value_counts()[1])+float(subset_interest['bush'].value_counts()[0]))\n",
    "        temp_name = str(state)\n",
    "        container2[temp_name] = bush_quotient"
   ]
  },
  {
   "cell_type": "markdown",
   "metadata": {},
   "source": [
    "You can also probably do something similar to the method above by utilizing the groupby method in Pandas."
   ]
  },
  {
   "cell_type": "code",
   "execution_count": 23,
   "metadata": {
    "collapsed": true
   },
   "outputs": [],
   "source": [
    "# Write your optional procedure here"
   ]
  },
  {
   "cell_type": "markdown",
   "metadata": {
    "collapsed": true
   },
   "source": [
    "Let's just check out what # 1 shows (all ages)"
   ]
  },
  {
   "cell_type": "code",
   "execution_count": 24,
   "metadata": {
    "collapsed": false
   },
   "outputs": [
    {
     "data": {
      "text/plain": [
       "0.710691823899371"
      ]
     },
     "execution_count": 24,
     "metadata": {},
     "output_type": "execute_result"
    }
   ],
   "source": [
    "container2[\"1\"]"
   ]
  },
  {
   "cell_type": "code",
   "execution_count": 4,
   "metadata": {
    "collapsed": false,
    "scrolled": true
   },
   "outputs": [
    {
     "data": {
      "text/html": [
       "<div>\n",
       "<table border=\"1\" class=\"dataframe\">\n",
       "  <thead>\n",
       "    <tr style=\"text-align: right;\">\n",
       "      <th></th>\n",
       "      <th>stnum</th>\n",
       "      <th>st</th>\n",
       "      <th>electionresult</th>\n",
       "      <th>samplesize</th>\n",
       "      <th>raking</th>\n",
       "      <th>_merge</th>\n",
       "    </tr>\n",
       "  </thead>\n",
       "  <tbody>\n",
       "    <tr>\n",
       "      <th>0</th>\n",
       "      <td>1</td>\n",
       "      <td>AL</td>\n",
       "      <td>0.59</td>\n",
       "      <td>203</td>\n",
       "      <td>0.673067</td>\n",
       "      <td>3</td>\n",
       "    </tr>\n",
       "    <tr>\n",
       "      <th>1</th>\n",
       "      <td>2</td>\n",
       "      <td>AK</td>\n",
       "      <td>0.60</td>\n",
       "      <td>0</td>\n",
       "      <td>NaN</td>\n",
       "      <td>1</td>\n",
       "    </tr>\n",
       "    <tr>\n",
       "      <th>2</th>\n",
       "      <td>3</td>\n",
       "      <td>AZ</td>\n",
       "      <td>0.60</td>\n",
       "      <td>194</td>\n",
       "      <td>0.568980</td>\n",
       "      <td>3</td>\n",
       "    </tr>\n",
       "    <tr>\n",
       "      <th>3</th>\n",
       "      <td>4</td>\n",
       "      <td>AR</td>\n",
       "      <td>0.56</td>\n",
       "      <td>121</td>\n",
       "      <td>0.563672</td>\n",
       "      <td>3</td>\n",
       "    </tr>\n",
       "    <tr>\n",
       "      <th>4</th>\n",
       "      <td>5</td>\n",
       "      <td>CA</td>\n",
       "      <td>0.51</td>\n",
       "      <td>1493</td>\n",
       "      <td>0.531725</td>\n",
       "      <td>3</td>\n",
       "    </tr>\n",
       "  </tbody>\n",
       "</table>\n",
       "</div>"
      ],
      "text/plain": [
       "   stnum  st  electionresult  samplesize    raking  _merge\n",
       "0      1  AL            0.59         203  0.673067       3\n",
       "1      2  AK            0.60           0       NaN       1\n",
       "2      3  AZ            0.60         194  0.568980       3\n",
       "3      4  AR            0.56         121  0.563672       3\n",
       "4      5  CA            0.51        1493  0.531725       3"
      ]
     },
     "execution_count": 4,
     "metadata": {},
     "output_type": "execute_result"
    }
   ],
   "source": [
    "# We also have the actual Election 88 sample percentages to compare with the polling. Let's load the data \n",
    "# just to have a look\n",
    "import pandas as pd\n",
    "\n",
    "election88_dat = pd.read_csv('../assets/datasets/election88.csv')\n",
    "del election88_dat[\"Unnamed: 0\"]\n",
    "election88_dat.head()"
   ]
  },
  {
   "cell_type": "code",
   "execution_count": 5,
   "metadata": {
    "collapsed": false
   },
   "outputs": [],
   "source": []
  },
  {
   "cell_type": "code",
   "execution_count": null,
   "metadata": {
    "collapsed": false
   },
   "outputs": [],
   "source": []
  },
  {
   "cell_type": "markdown",
   "metadata": {},
   "source": [
    "So the electoral data shows that the actual results for state 1, i.e. Alabama, were .59, whereas the polling showed .71. Does that mean Bush lost such a chunk of his support from the time of the poll to the election? We can put some clarity on this question by doing a Bayesian computation. What we have to calculate is the following. In the new poll for Alabama, 203 persons participated. Our prior probability based on the previous poll says that 71 % of these persons would vote Bush. The likelihood function however is based on the election results that only 59 % of these persons would vote for Bush. Updating the prior probability by the likelihood function will allow us to calculate the posterior probability  given that we obtained the election results."
   ]
  },
  {
   "cell_type": "markdown",
   "metadata": {},
   "source": [
    "### Combining The Prior and Likelihood "
   ]
  },
  {
   "cell_type": "markdown",
   "metadata": {},
   "source": [
    "We see from the table way back at the top that using the combination of a Beta distribution for the prior probability and a binomial distribution for the likelihood allows us to write down the posterior probability distribution immediately without any further calculation (which for the normalisation factor could be cumbersome due to summation or integration). It will be a Beta distribution, too, but with different shape parameters than the prior probability distribution.\n",
    "\n",
    "Recall Bayes rule:\n",
    "\n",
    "### $$P\\left(\\;hypothesis\\;|\\;data\\;\\right) = \\frac{P\\left(\\;data\\;|\\;hypothesis\\;\\right)P\\left(\\;hypothesis\\;\\right)}{P\\;(\\;data\\;)} $$\n",
    "\n",
    "\n",
    "- $P\\;(\\;hypothesis\\;)$ - the probability of the hypothesis before we see any data; this is the _prior_\n",
    "- $P\\;(\\;data\\;|\\;hypothesis\\;)$ - the probability of the data under the hypothesis; this is the _likelihood_\n",
    "- $P\\;(\\;hypothesis\\;|\\;data\\;)$ - the probability of the hypothesis after we see the data; this is the _posterior_\n",
    "- $P\\;(\\;data\\;)$ - the probability of the data under any hypothesis; this is the _normalising constant_\n",
    "\n",
    "Our prior distribution will be the Beta distribution\n",
    "\n",
    "$$pdf\\;of\\;\\beta\\;distribution = f_{Beta}(\\theta;\\alpha,\\beta) = \\frac{1}{B(\\alpha, \\beta)}\\theta^{\\alpha-1}(1-\\theta)^{\\beta-1}$$\n",
    "\n",
    "whereas our likelihood function will be a binomial distribution \n",
    "$$pdf\\;of\\;binomial\\;distribution= f_{Binom}(\\theta;n,k) = \\binom{n}{k} \\theta^k(1-\\theta)^{n-k} $$"
   ]
  },
  {
   "cell_type": "markdown",
   "metadata": {
    "collapsed": true
   },
   "source": [
    "The unknown distribution parameter which we want to estimate is $\\theta$, the probability of how many people will vote for Bush. We have $0<\\theta<1$. We are going to estimate probabilities for theta by observing $k$, the parameter in the binomial distribution wheras n is fixed (the size of the group of persons we are considering). \n",
    "\n",
    "From the prior distribution and likelihood function we can calculate the posterior probability distribution in closed form. Its general form is \n",
    "$$\\pi(\\theta|k)=\\frac{f(k|\\theta)\\pi(\\theta)}{\\int_{\\theta}d\\theta\\, f(k|\\theta)\\pi(\\theta)}\n",
    "\\propto \\theta^k(1-\\theta)^{n-k}\\theta^{\\alpha-1}(1-\\theta)^{\\beta-1}\n",
    "= \\frac{\\theta^{k+\\alpha-1}(1-\\theta)^{n-k+\\beta-1}}{B(k+\\alpha,n-k+\\beta)}\n",
    "= f_{Beta}(\\theta;k+\\alpha,n-k+\\beta)\\ .$$\n",
    "In the second step, we used $\\propto$ instead of equality as we left out the proper normalisation factors which we only fixed in the second last step. This we could do easily by recoginising that the posterior probability distribution has the shape of a Beta distribution whose normalisation factor we know.\n",
    "\n",
    "Now, we make the calculation for the posterior probability explicit by inserting the results from the election in Alabama.\n",
    "In the election results 203 persons participated, i.e. $n=203$. Our likelihood function given by a binomial distribution is  based on the election results, where 59 % voted for Bush, i.e. $k=120$ persons, and 41 % against Bush, i.e. $n-k=83$ persons. The prior is given by a Beta distribution based on the previous poll with 71 % pro Bush. That corresponds to $\\alpha=144$ persons pro and $\\beta=59$ against Bush. \n",
    "\n",
    "Inserting these values into the above equation for the posterior probability distribution gives\n",
    "$$\\pi(\\theta| k=120)= \\frac{\\theta^{120+144-1}(1-\\theta)^{83+59-1}}{B(120+144,83+59)}\n",
    "= \\frac{1}{B(264,142)} \\theta^{263}(1-\\theta)^{141}\n",
    "= f_{Beta}(\\theta;264,142)\\ .$$\n",
    "\n",
    "We can use this posterior probability density to obtain the probability that not more than a certain fraction $x$ of voters will vote for Bush. To obtain this probability, we have to integrate the posterior probability distribution over $\\theta$ up to some value $x$:\n",
    "$$P(\\theta\\le x)= \\frac{1}{B(264,142)}\\int_{0}^x d\\theta\\, \\theta^{263}(1-\\theta)^{141}\n",
    "= \\int_0^x d\\theta\\, f_{Beta}(\\theta;264,142)$$\n",
    "where in the last step we identified the previous expression as a beta distribution.\n",
    "This expression we can calculate for any $x$ using scipy stats (https://docs.scipy.org/doc/scipy-0.18.1/reference/generated/scipy.stats.beta.html).\n",
    "Let's do that for a few different values (cdf stands for cumulative distribution function):"
   ]
  },
  {
   "cell_type": "code",
   "execution_count": 47,
   "metadata": {
    "collapsed": false
   },
   "outputs": [
    {
     "name": "stdout",
     "output_type": "stream",
     "text": [
      "x=0.71:  0.995248027179 , x=0.65:  0.491691853842 , x=0.5:  5.03316533818e-10\n"
     ]
    }
   ],
   "source": [
    "from scipy import stats\n",
    "a = 264\n",
    "b = 142\n",
    "print 'x=0.71: ', beta.cdf(0.71,a,b), \n",
    "print ', x=0.65: ', beta.cdf(0.65,a,b),\n",
    "print ', x=0.5: ', beta.cdf(0.5,a,b),"
   ]
  },
  {
   "cell_type": "markdown",
   "metadata": {},
   "source": [
    "After the election, the result is fixed, but the result for the posterior probability tells us how likely the result has been.\n",
    "So, given the election results,\n",
    "it is very likely that less than 71 % of the voters vote for Bush (almost 100 %), likely that less than 65 % of the voters vote for Bush (a bit less than 50 percent), very unlikely that less than 50 % of the voters vote for Bush (nearly zero).\n",
    "Let's plot the dependence of the cumulative distribution function on $x$:"
   ]
  },
  {
   "cell_type": "code",
   "execution_count": 67,
   "metadata": {
    "collapsed": false
   },
   "outputs": [
    {
     "data": {
      "image/png": "[encoded data removed]",
      "text/plain": [
       "<matplotlib.figure.Figure at 0x11a835a90>"
      ]
     },
     "metadata": {},
     "output_type": "display_data"
    }
   ],
   "source": [
    "import matplotlib.pyplot as plt\n",
    "%matplotlib inline\n",
    "values = np.arange(0,1,0.01)\n",
    "plt.plot(values,beta.cdf(values,a,b))\n",
    "plt.xlabel('x')\n",
    "plt.ylabel('P(theta <x)')\n",
    "plt.title('Cumulative distribution function')\n",
    "plt.show()"
   ]
  },
  {
   "cell_type": "code",
   "execution_count": 68,
   "metadata": {
    "collapsed": false
   },
   "outputs": [
    {
     "data": {
      "image/png": "[encoded data removed]",
      "text/plain": [
       "<matplotlib.figure.Figure at 0x11ac19b50>"
      ]
     },
     "metadata": {},
     "output_type": "display_data"
    }
   ],
   "source": [
    "# Binning the data\n",
    "list_prob = []\n",
    "for n in range(100):\n",
    "    list_prob.append(beta.cdf(0.01*(n+1),a,b)-beta.cdf(0.01*n,a,b))\n",
    "\n",
    "plt.plot(0.01*np.arange(100),list_prob)\n",
    "plt.xlabel('Percentage pro Bush')\n",
    "plt.ylabel('Posterior Probability')\n",
    "plt.title('Probability distribution function')\n",
    "plt.show()"
   ]
  },
  {
   "cell_type": "code",
   "execution_count": null,
   "metadata": {
    "collapsed": true
   },
   "outputs": [],
   "source": []
  }
 ],
 "metadata": {
  "anaconda-cloud": {},
  "kernelspec": {
   "display_name": "Python [default]",
   "language": "python",
   "name": "python2"
  },
  "language_info": {
   "codemirror_mode": {
    "name": "ipython",
    "version": 2
   },
   "file_extension": ".py",
   "mimetype": "text/x-python",
   "name": "python",
   "nbconvert_exporter": "python",
   "pygments_lexer": "ipython2",
   "version": "2.7.12"
  }
 },
 "nbformat": 4,
 "nbformat_minor": 0
}
