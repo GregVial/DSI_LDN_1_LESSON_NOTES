{
 "cells": [
  {
   "cell_type": "markdown",
   "metadata": {},
   "source": [
    "# Homework w03d04 - Ridge regression and the Lasso\n",
    "\n",
    "Use again the auto dataset. We want to predict mpg using all features except name.\n",
    "1. Split the dataset into a training set and a test set. \n",
    "2. Use lm = linear_model.Ridge(alpha=a) to perform a ridge regression fit for a range of cost paremeters. Obtain the mean squared error for each case.\n",
    "3. Use lm = linear_model.Lasso(alpha=a) to perform a fit with the Lasso for a range of cost parameters. Obtain the mean squared error for each case.\n",
    "4. Which one performs best?\n",
    "\n",
    "5. Optional: Have a look at the regression coefficients with lm.coef_.\n",
    "\n",
    "Hints: \n",
    "1. You can cover a range of alphas by choosing them from the list alphas = np.logspace(start=-10, stop=10, num=21) which contains num logarithmically spaced values between $10^{start}$ and  $10^{stop}$. You can display the value of alpha used in your fit with lm.alpha_.\n",
    "\n",
    "1. The mean squared error is obtained with mean_absolute_error."
   ]
  },
  {
   "cell_type": "code",
   "execution_count": 2,
   "metadata": {
    "collapsed": false
   },
   "outputs": [],
   "source": [
    "# load libraries\n",
    "import pandas as pd\n",
    "import numpy as np\n",
    "%matplotlib inline\n",
    "from matplotlib import pyplot as plt\n",
    "import seaborn as sns\n",
    "from sklearn.cross_validation import train_test_split\n",
    "from sklearn import linear_model\n",
    "from sklearn.metrics import mean_squared_error, mean_absolute_error, r2_score\n",
    "from sklearn import feature_selection, linear_model\n",
    "\n",
    "# read in data\n",
    "df = pd.read_csv('../day1/Auto.csv')\n",
    "# drop missing values and convert datatype\n",
    "df.dropna(inplace=True)\n",
    "df.drop(list(df.index[df.horsepower=='?']),inplace=True)\n",
    "df.horsepower = df.horsepower.astype(int)"
   ]
  },
  {
   "cell_type": "code",
   "execution_count": 3,
   "metadata": {
    "collapsed": false
   },
   "outputs": [],
   "source": [
    "X = df.iloc[:,1:-1]\n",
    "y = df.mpg"
   ]
  },
  {
   "cell_type": "markdown",
   "metadata": {},
   "source": [
    "Define your response y and feature matrix X and \n",
    "use the train_test_split function to split the data set into a training and a test set.\n",
    "Use 20 percent of the original dataset as the test set."
   ]
  },
  {
   "cell_type": "code",
   "execution_count": 4,
   "metadata": {
    "collapsed": false
   },
   "outputs": [],
   "source": [
    "X_train, X_test, y_train, y_test = train_test_split(X,y, test_size=0.2, random_state=10)"
   ]
  },
  {
   "cell_type": "code",
   "execution_count": 6,
   "metadata": {
    "collapsed": false
   },
   "outputs": [
    {
     "name": "stdout",
     "output_type": "stream",
     "text": [
      "r^2: 0.821478076481 MSE:  10.847480945\n"
     ]
    }
   ],
   "source": [
    "lm = linear_model.LinearRegression()\n",
    "model = lm.fit(X, y)\n",
    "predictions = model.predict(X)\n",
    "print \"r^2:\", model.score(X, y), 'MSE: ', mean_squared_error(y, lm.predict(X))\n",
    "#get_linear_model_metrics(X, y, lm)"
   ]
  },
  {
   "cell_type": "markdown",
   "metadata": {
    "collapsed": true
   },
   "source": [
    "### 2. Use lm = linear_model.Ridge(alpha=a) to perform a ridge regression fit for a range of cost paremeters. Obtain the mean squared error for each case."
   ]
  },
  {
   "cell_type": "code",
   "execution_count": 20,
   "metadata": {
    "collapsed": false
   },
   "outputs": [
    {
     "name": "stdout",
     "output_type": "stream",
     "text": [
      "\n",
      "alpha: 1e-05\n",
      "\tTrain Data\n",
      "\t\tr^2: 0.828055226363\n",
      "\t\tMSE: 10.3291841595\n",
      "\tTest Data\n",
      "\t\tr^2: 0.784716901888\n",
      "\t\tMSE: 13.2085339106\n",
      "\tMSE delta: 2.87934975103\n",
      "\n",
      "alpha: 0.0001\n",
      "\tTrain Data\n",
      "\t\tr^2: 0.828055100407\n",
      "\t\tMSE: 10.3291917261\n",
      "\tTest Data\n",
      "\t\tr^2: 0.78476002702\n",
      "\t\tMSE: 13.2058880003\n",
      "\tMSE delta: 2.8766962742\n",
      "\n",
      "alpha: 0.001\n",
      "\tTrain Data\n",
      "\t\tr^2: 0.828043067343\n",
      "\t\tMSE: 10.3299145845\n",
      "\tTest Data\n",
      "\t\tr^2: 0.785165002865\n",
      "\t\tMSE: 13.1810410094\n",
      "\tMSE delta: 2.85112642484\n",
      "\n",
      "alpha: 0.01\n",
      "\tTrain Data\n",
      "\t\tr^2: 0.82723424385\n",
      "\t\tMSE: 10.3785027831\n",
      "\tTest Data\n",
      "\t\tr^2: 0.787388434271\n",
      "\t\tMSE: 13.0446240339\n",
      "\tMSE delta: 2.66612125074\n",
      "\n",
      "alpha: 0.1\n",
      "\tTrain Data\n",
      "\t\tr^2: 0.815013555552\n",
      "\t\tMSE: 11.1126323371\n",
      "\tTest Data\n",
      "\t\tr^2: 0.781877204575\n",
      "\t\tMSE: 13.3827614212\n",
      "\tMSE delta: 2.27012908403\n",
      "\n",
      "alpha: 1.0\n",
      "\tTrain Data\n",
      "\t\tr^2: 0.752945001383\n",
      "\t\tMSE: 14.8412570169\n",
      "\tTest Data\n",
      "\t\tr^2: 0.73203177471\n",
      "\t\tMSE: 16.4409905921\n",
      "\tMSE delta: 1.59973357518\n",
      "\n",
      "alpha: 10.0\n",
      "\tTrain Data\n",
      "\t\tr^2: 0.391371183011\n",
      "\t\tMSE: 36.5619669765\n",
      "\tTest Data\n",
      "\t\tr^2: 0.366604916346\n",
      "\t\tMSE: 38.8614829246\n",
      "\tMSE delta: 2.29951594809\n",
      "\n",
      "alpha: 100.0\n",
      "\tTrain Data\n",
      "\t\tr^2: 0.0627264705041\n",
      "\t\tMSE: 56.3045371445\n",
      "\tTest Data\n",
      "\t\tr^2: 0.0222018407997\n",
      "\t\tMSE: 59.9920767435\n",
      "\tMSE delta: 3.68753959894\n"
     ]
    }
   ],
   "source": [
    "lambdas = np.logspace(start=-5, stop=2, num=8)\n",
    "for l in lambdas:\n",
    "    print \"\\nalpha:\", l\n",
    "    rlm = linear_model.Ridge(alpha=l, normalize=True)\n",
    "    ridge_model = rlm.fit(X_train, y_train)\n",
    "    predictions = ridge_model.predict(X_train)\n",
    "    print \"\\tTrain Data\"\n",
    "    print \"\\t\\tr^2:\", ridge_model.score(X_train, y_train)\n",
    "    print \"\\t\\tMSE:\", mean_squared_error(y_train,predictions)\n",
    "    print \"\\tTest Data\"\n",
    "    print \"\\t\\tr^2:\", ridge_model.score(X_test, y_test)\n",
    "    predictions_test = ridge_model.predict(X_test)\n",
    "    print \"\\t\\tMSE:\", mean_squared_error(y_test,predictions_test)\n",
    "    #print \"\\tcoefficients:\", rlm.coef_\n",
    "    print \"\\tMSE delta:\", mean_squared_error(y_test,predictions_test) - mean_squared_error(y_train,predictions)"
   ]
  },
  {
   "cell_type": "markdown",
   "metadata": {},
   "source": [
    "### 3. Use lm = linear_model.Lasso(alpha=a) to perform a fit with the Lasso for a range of cost parameters. Obtain the mean squared error for each case."
   ]
  },
  {
   "cell_type": "code",
   "execution_count": 21,
   "metadata": {
    "collapsed": false
   },
   "outputs": [
    {
     "name": "stdout",
     "output_type": "stream",
     "text": [
      "\n",
      "alpha: 1e-05\n",
      "\tTrain Data\n",
      "\t\tr^2: 0.82805517374\n",
      "\t\tMSE: 10.3291873208\n",
      "\tTest Data\n",
      "\t\tr^2: 0.784774414269\n",
      "\t\tMSE: 13.2050052814\n",
      "\tMSE delta: 2.87581796056\n",
      "\n",
      "alpha: 0.0001\n",
      "\tTrain Data\n",
      "\t\tr^2: 0.828050026954\n",
      "\t\tMSE: 10.329496502\n",
      "\tTest Data\n",
      "\t\tr^2: 0.785268697236\n",
      "\t\tMSE: 13.1746789186\n",
      "\tMSE delta: 2.84518241653\n",
      "\n",
      "alpha: 0.001\n",
      "\tTrain Data\n",
      "\t\tr^2: 0.827551353051\n",
      "\t\tMSE: 10.3594531821\n",
      "\tTest Data\n",
      "\t\tr^2: 0.789319315967\n",
      "\t\tMSE: 12.9261562276\n",
      "\tMSE delta: 2.56670304544\n",
      "\n",
      "alpha: 0.01\n",
      "\tTrain Data\n",
      "\t\tr^2: 0.821174297081\n",
      "\t\tMSE: 10.7425400543\n",
      "\tTest Data\n",
      "\t\tr^2: 0.794757226812\n",
      "\t\tMSE: 12.5925172637\n",
      "\tMSE delta: 1.84997720944\n",
      "\n",
      "alpha: 0.1\n",
      "\tTrain Data\n",
      "\t\tr^2: 0.729450606911\n",
      "\t\tMSE: 16.2526283664\n",
      "\tTest Data\n",
      "\t\tr^2: 0.712078095672\n",
      "\t\tMSE: 17.6652336866\n",
      "\tMSE delta: 1.41260532013\n",
      "\n",
      "alpha: 1.0\n",
      "\tTrain Data\n",
      "\t\tr^2: 0.0\n",
      "\t\tMSE: 60.0726846247\n",
      "\tTest Data\n",
      "\t\tr^2: -0.0437337651061\n",
      "\t\tMSE: 64.0375066641\n",
      "\tMSE delta: 3.96482203942\n",
      "\n",
      "alpha: 10.0\n",
      "\tTrain Data\n",
      "\t\tr^2: 0.0\n",
      "\t\tMSE: 60.0726846247\n",
      "\tTest Data\n",
      "\t\tr^2: -0.0437337651061\n",
      "\t\tMSE: 64.0375066641\n",
      "\tMSE delta: 3.96482203942\n",
      "\n",
      "alpha: 100.0\n",
      "\tTrain Data\n",
      "\t\tr^2: 0.0\n",
      "\t\tMSE: 60.0726846247\n",
      "\tTest Data\n",
      "\t\tr^2: -0.0437337651061\n",
      "\t\tMSE: 64.0375066641\n",
      "\tMSE delta: 3.96482203942\n"
     ]
    }
   ],
   "source": [
    "lambdas = np.logspace(start=-5, stop=2, num=8)\n",
    "for l in lambdas:\n",
    "    print \"\\nalpha:\", l\n",
    "    rlm = linear_model.Lasso(alpha=l, normalize=True)\n",
    "    lasso_model = rlm.fit(X_train, y_train)\n",
    "    predictions = lasso_model.predict(X_train)\n",
    "    print \"\\tTrain Data\"\n",
    "    print \"\\t\\tr^2:\", lasso_model.score(X_train, y_train)\n",
    "    print \"\\t\\tMSE:\", mean_squared_error(y_train,predictions)\n",
    "    print \"\\tTest Data\"\n",
    "    print \"\\t\\tr^2:\", lasso_model.score(X_test, y_test)\n",
    "    predictions_test = lasso_model.predict(X_test)\n",
    "    print \"\\t\\tMSE:\", mean_squared_error(y_test,predictions_test)\n",
    "    #print \"\\tcoefficients:\", rlm.coef_\n",
    "    print \"\\tMSE delta:\", mean_squared_error(y_test,predictions_test) - mean_squared_error(y_train,predictions)"
   ]
  },
  {
   "cell_type": "markdown",
   "metadata": {},
   "source": [
    "### 4. Which one performs best?"
   ]
  },
  {
   "cell_type": "markdown",
   "metadata": {},
   "source": [
    "In both cases the best lambda value appears to be 0.1 as this is the one that minimizes the difference in MSE (variance) most without introducing too much bias (increase of MSE overall)\n",
    "\n",
    "Interestingly for Ridge, with lambda = 1 the difference in MSE is even smaller than for 0.1, however this introduces more bias so we don't retain this model.\n",
    "\n",
    "Overall in this case Ridge performs better than Lasso, which seems to indicate non sparsity of the data: all predictors are required to optimize the prediction. Lass does better when some predictors are useless or covariates of others and can be suppressed totally."
   ]
  },
  {
   "cell_type": "markdown",
   "metadata": {},
   "source": [
    "### 5. Optional: Have a look at the regression coefficients with lm.coef_.\n",
    "I did look at them, but commented the code out at it gets too verbose :)"
   ]
  },
  {
   "cell_type": "code",
   "execution_count": 10,
   "metadata": {
    "collapsed": false
   },
   "outputs": [],
   "source": [
    "lm = linear_model.LinearRegression()\n",
    "model = lm.fit(X_train, y_train)\n",
    "predictions1 = lm.predict(X_train)"
   ]
  },
  {
   "cell_type": "code",
   "execution_count": 11,
   "metadata": {
    "collapsed": false
   },
   "outputs": [],
   "source": [
    "lm = linear_model.LinearRegression()\n",
    "model = lm.fit(X_train, y_train)\n",
    "predictions2 = model.predict(X_train)"
   ]
  },
  {
   "cell_type": "code",
   "execution_count": 12,
   "metadata": {
    "collapsed": false
   },
   "outputs": [
    {
     "data": {
      "text/plain": [
       "array([ 0.,  0.,  0.,  0.,  0.,  0.,  0.,  0.,  0.,  0.,  0.,  0.,  0.,\n",
       "        0.,  0.,  0.,  0.,  0.,  0.,  0.,  0.,  0.,  0.,  0.,  0.,  0.,\n",
       "        0.,  0.,  0.,  0.,  0.,  0.,  0.,  0.,  0.,  0.,  0.,  0.,  0.,\n",
       "        0.,  0.,  0.,  0.,  0.,  0.,  0.,  0.,  0.,  0.,  0.,  0.,  0.,\n",
       "        0.,  0.,  0.,  0.,  0.,  0.,  0.,  0.,  0.,  0.,  0.,  0.,  0.,\n",
       "        0.,  0.,  0.,  0.,  0.,  0.,  0.,  0.,  0.,  0.,  0.,  0.,  0.,\n",
       "        0.,  0.,  0.,  0.,  0.,  0.,  0.,  0.,  0.,  0.,  0.,  0.,  0.,\n",
       "        0.,  0.,  0.,  0.,  0.,  0.,  0.,  0.,  0.,  0.,  0.,  0.,  0.,\n",
       "        0.,  0.,  0.,  0.,  0.,  0.,  0.,  0.,  0.,  0.,  0.,  0.,  0.,\n",
       "        0.,  0.,  0.,  0.,  0.,  0.,  0.,  0.,  0.,  0.,  0.,  0.,  0.,\n",
       "        0.,  0.,  0.,  0.,  0.,  0.,  0.,  0.,  0.,  0.,  0.,  0.,  0.,\n",
       "        0.,  0.,  0.,  0.,  0.,  0.,  0.,  0.,  0.,  0.,  0.,  0.,  0.,\n",
       "        0.,  0.,  0.,  0.,  0.,  0.,  0.,  0.,  0.,  0.,  0.,  0.,  0.,\n",
       "        0.,  0.,  0.,  0.,  0.,  0.,  0.,  0.,  0.,  0.,  0.,  0.,  0.,\n",
       "        0.,  0.,  0.,  0.,  0.,  0.,  0.,  0.,  0.,  0.,  0.,  0.,  0.,\n",
       "        0.,  0.,  0.,  0.,  0.,  0.,  0.,  0.,  0.,  0.,  0.,  0.,  0.,\n",
       "        0.,  0.,  0.,  0.,  0.,  0.,  0.,  0.,  0.,  0.,  0.,  0.,  0.,\n",
       "        0.,  0.,  0.,  0.,  0.,  0.,  0.,  0.,  0.,  0.,  0.,  0.,  0.,\n",
       "        0.,  0.,  0.,  0.,  0.,  0.,  0.,  0.,  0.,  0.,  0.,  0.,  0.,\n",
       "        0.,  0.,  0.,  0.,  0.,  0.,  0.,  0.,  0.,  0.,  0.,  0.,  0.,\n",
       "        0.,  0.,  0.,  0.,  0.,  0.,  0.,  0.,  0.,  0.,  0.,  0.,  0.,\n",
       "        0.,  0.,  0.,  0.,  0.,  0.,  0.,  0.,  0.,  0.,  0.,  0.,  0.,\n",
       "        0.,  0.,  0.,  0.,  0.,  0.,  0.,  0.,  0.,  0.,  0.,  0.,  0.,\n",
       "        0.,  0.,  0.,  0.,  0.,  0.,  0.,  0.,  0.,  0.,  0.,  0.,  0.,  0.])"
      ]
     },
     "execution_count": 12,
     "metadata": {},
     "output_type": "execute_result"
    }
   ],
   "source": [
    "predictions1-predictions2"
   ]
  },
  {
   "cell_type": "code",
   "execution_count": null,
   "metadata": {
    "collapsed": true
   },
   "outputs": [],
   "source": []
  }
 ],
 "metadata": {
  "anaconda-cloud": {},
  "kernelspec": {
   "display_name": "Python [conda root]",
   "language": "python",
   "name": "conda-root-py"
  },
  "language_info": {
   "codemirror_mode": {
    "name": "ipython",
    "version": 2
   },
   "file_extension": ".py",
   "mimetype": "text/x-python",
   "name": "python",
   "nbconvert_exporter": "python",
   "pygments_lexer": "ipython2",
   "version": "2.7.12"
  }
 },
 "nbformat": 4,
 "nbformat_minor": 1
}
