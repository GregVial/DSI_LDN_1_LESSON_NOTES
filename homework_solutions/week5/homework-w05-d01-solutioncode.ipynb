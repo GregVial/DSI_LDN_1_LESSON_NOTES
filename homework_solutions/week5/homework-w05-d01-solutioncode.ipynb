{
 "cells": [
  {
   "cell_type": "markdown",
   "metadata": {},
   "source": [
    "# Homework: Intro to databases and sql."
   ]
  },
  {
   "cell_type": "markdown",
   "metadata": {},
   "source": [
    "For this homework I want you to explore the w3school site http://www.w3schools.com/sql/ and then implement a one table database."
   ]
  },
  {
   "cell_type": "markdown",
   "metadata": {},
   "source": [
    "#### 1 . Revise the documentation for the SQL Syntaxt we have learned today (CREATE, ALTER, INSERT, SELECT/WHERE/FROM, etc)"
   ]
  },
  {
   "cell_type": "markdown",
   "metadata": {},
   "source": [
    "#### 2 . Using as a template the labs and excercises we did in class, create your own database and table with sqlite."
   ]
  },
  {
   "cell_type": "code",
   "execution_count": 1,
   "metadata": {
    "collapsed": false
   },
   "outputs": [
    {
     "data": {
      "text/plain": [
       "<sqlite3.Cursor at 0x111b60650>"
      ]
     },
     "execution_count": 1,
     "metadata": {},
     "output_type": "execute_result"
    }
   ],
   "source": [
    "import pandas as pd\n",
    "import sqlite3 as sq\n",
    "import pandas as pd\n",
    "import sqlite3 as sq\n",
    "new_test_db = 'new_test_db.sqlite'\n",
    "conn = sq.connect(new_test_db)\n",
    "cur = conn.cursor()\n",
    "cur.execute('CREATE TABLE relay (number INTEGER PRIMARY KEY, name TEXT, last_name TEXT, team INTEGER, position TEXT);')"
   ]
  },
  {
   "cell_type": "markdown",
   "metadata": {},
   "source": [
    "#### 3 . Insert at least 5 rows."
   ]
  },
  {
   "cell_type": "code",
   "execution_count": 2,
   "metadata": {
    "collapsed": false
   },
   "outputs": [],
   "source": [
    "relay = [\n",
    "    (1, 'Asafa', 'Powell', 'Jamaika', 'first leg'),\n",
    "    (2, 'Yohan', 'Blake', 'Jamaika', 'second leg'),\n",
    "    (3, 'Nickel', 'Ashmeade', 'Jamaika', 'third leg'),\n",
    "    (4, 'Usain', 'Bolt', 'Jamaika', 'fourth leg'),\n",
    "    (5, 'Justin', 'Gatlin', 'USA', 'first leg'),\n",
    "    (6, 'Tyson', 'Gay', 'USA', 'second leg'),\n",
    "    (7, 'Mike', 'Rodgers', 'USA', 'third leg'),\n",
    "    (8, 'Trayvon', 'Bromell', 'USA', 'fourth leg')]\n",
    "\n",
    "cur.executemany('INSERT INTO relay VALUES (?,?,?,?,?);', relay)\n",
    "\n",
    "conn.commit()"
   ]
  },
  {
   "cell_type": "markdown",
   "metadata": {},
   "source": [
    "#### 4 . Select the rows."
   ]
  },
  {
   "cell_type": "code",
   "execution_count": 3,
   "metadata": {
    "collapsed": false
   },
   "outputs": [
    {
     "data": {
      "text/html": [
       "<div>\n",
       "<table border=\"1\" class=\"dataframe\">\n",
       "  <thead>\n",
       "    <tr style=\"text-align: right;\">\n",
       "      <th></th>\n",
       "      <th>number</th>\n",
       "      <th>name</th>\n",
       "      <th>last_name</th>\n",
       "      <th>team</th>\n",
       "      <th>position</th>\n",
       "    </tr>\n",
       "  </thead>\n",
       "  <tbody>\n",
       "    <tr>\n",
       "      <th>0</th>\n",
       "      <td>1</td>\n",
       "      <td>Asafa</td>\n",
       "      <td>Powell</td>\n",
       "      <td>Jamaika</td>\n",
       "      <td>first leg</td>\n",
       "    </tr>\n",
       "    <tr>\n",
       "      <th>1</th>\n",
       "      <td>2</td>\n",
       "      <td>Yohan</td>\n",
       "      <td>Blake</td>\n",
       "      <td>Jamaika</td>\n",
       "      <td>second leg</td>\n",
       "    </tr>\n",
       "    <tr>\n",
       "      <th>2</th>\n",
       "      <td>3</td>\n",
       "      <td>Nickel</td>\n",
       "      <td>Ashmeade</td>\n",
       "      <td>Jamaika</td>\n",
       "      <td>third leg</td>\n",
       "    </tr>\n",
       "    <tr>\n",
       "      <th>3</th>\n",
       "      <td>4</td>\n",
       "      <td>Usain</td>\n",
       "      <td>Bolt</td>\n",
       "      <td>Jamaika</td>\n",
       "      <td>fourth leg</td>\n",
       "    </tr>\n",
       "    <tr>\n",
       "      <th>4</th>\n",
       "      <td>5</td>\n",
       "      <td>Justin</td>\n",
       "      <td>Gatlin</td>\n",
       "      <td>USA</td>\n",
       "      <td>first leg</td>\n",
       "    </tr>\n",
       "    <tr>\n",
       "      <th>5</th>\n",
       "      <td>6</td>\n",
       "      <td>Tyson</td>\n",
       "      <td>Gay</td>\n",
       "      <td>USA</td>\n",
       "      <td>second leg</td>\n",
       "    </tr>\n",
       "    <tr>\n",
       "      <th>6</th>\n",
       "      <td>7</td>\n",
       "      <td>Mike</td>\n",
       "      <td>Rodgers</td>\n",
       "      <td>USA</td>\n",
       "      <td>third leg</td>\n",
       "    </tr>\n",
       "    <tr>\n",
       "      <th>7</th>\n",
       "      <td>8</td>\n",
       "      <td>Trayvon</td>\n",
       "      <td>Bromell</td>\n",
       "      <td>USA</td>\n",
       "      <td>fourth leg</td>\n",
       "    </tr>\n",
       "  </tbody>\n",
       "</table>\n",
       "</div>"
      ],
      "text/plain": [
       "   number     name last_name     team    position\n",
       "0       1    Asafa    Powell  Jamaika   first leg\n",
       "1       2    Yohan     Blake  Jamaika  second leg\n",
       "2       3   Nickel  Ashmeade  Jamaika   third leg\n",
       "3       4    Usain      Bolt  Jamaika  fourth leg\n",
       "4       5   Justin    Gatlin      USA   first leg\n",
       "5       6    Tyson       Gay      USA  second leg\n",
       "6       7     Mike   Rodgers      USA   third leg\n",
       "7       8  Trayvon   Bromell      USA  fourth leg"
      ]
     },
     "execution_count": 3,
     "metadata": {},
     "output_type": "execute_result"
    }
   ],
   "source": [
    "pd.read_sql('SELECT * FROM relay;', conn)"
   ]
  },
  {
   "cell_type": "markdown",
   "metadata": {},
   "source": [
    "#### 5 . Delete one row and select all the rows again to show that the deletion was succesful (check the url given above for the DELETE syntax)."
   ]
  },
  {
   "cell_type": "code",
   "execution_count": 4,
   "metadata": {
    "collapsed": false
   },
   "outputs": [
    {
     "data": {
      "text/html": [
       "<div>\n",
       "<table border=\"1\" class=\"dataframe\">\n",
       "  <thead>\n",
       "    <tr style=\"text-align: right;\">\n",
       "      <th></th>\n",
       "      <th>number</th>\n",
       "      <th>name</th>\n",
       "      <th>last_name</th>\n",
       "      <th>team</th>\n",
       "      <th>position</th>\n",
       "    </tr>\n",
       "  </thead>\n",
       "  <tbody>\n",
       "    <tr>\n",
       "      <th>0</th>\n",
       "      <td>1</td>\n",
       "      <td>Asafa</td>\n",
       "      <td>Powell</td>\n",
       "      <td>Jamaika</td>\n",
       "      <td>first leg</td>\n",
       "    </tr>\n",
       "    <tr>\n",
       "      <th>1</th>\n",
       "      <td>2</td>\n",
       "      <td>Yohan</td>\n",
       "      <td>Blake</td>\n",
       "      <td>Jamaika</td>\n",
       "      <td>second leg</td>\n",
       "    </tr>\n",
       "    <tr>\n",
       "      <th>2</th>\n",
       "      <td>3</td>\n",
       "      <td>Nickel</td>\n",
       "      <td>Ashmeade</td>\n",
       "      <td>Jamaika</td>\n",
       "      <td>third leg</td>\n",
       "    </tr>\n",
       "    <tr>\n",
       "      <th>3</th>\n",
       "      <td>4</td>\n",
       "      <td>Usain</td>\n",
       "      <td>Bolt</td>\n",
       "      <td>Jamaika</td>\n",
       "      <td>fourth leg</td>\n",
       "    </tr>\n",
       "    <tr>\n",
       "      <th>4</th>\n",
       "      <td>5</td>\n",
       "      <td>Justin</td>\n",
       "      <td>Gatlin</td>\n",
       "      <td>USA</td>\n",
       "      <td>first leg</td>\n",
       "    </tr>\n",
       "    <tr>\n",
       "      <th>5</th>\n",
       "      <td>6</td>\n",
       "      <td>Tyson</td>\n",
       "      <td>Gay</td>\n",
       "      <td>USA</td>\n",
       "      <td>second leg</td>\n",
       "    </tr>\n",
       "    <tr>\n",
       "      <th>6</th>\n",
       "      <td>8</td>\n",
       "      <td>Trayvon</td>\n",
       "      <td>Bromell</td>\n",
       "      <td>USA</td>\n",
       "      <td>fourth leg</td>\n",
       "    </tr>\n",
       "  </tbody>\n",
       "</table>\n",
       "</div>"
      ],
      "text/plain": [
       "   number     name last_name     team    position\n",
       "0       1    Asafa    Powell  Jamaika   first leg\n",
       "1       2    Yohan     Blake  Jamaika  second leg\n",
       "2       3   Nickel  Ashmeade  Jamaika   third leg\n",
       "3       4    Usain      Bolt  Jamaika  fourth leg\n",
       "4       5   Justin    Gatlin      USA   first leg\n",
       "5       6    Tyson       Gay      USA  second leg\n",
       "6       8  Trayvon   Bromell      USA  fourth leg"
      ]
     },
     "execution_count": 4,
     "metadata": {},
     "output_type": "execute_result"
    }
   ],
   "source": [
    "cur.execute('DELETE FROM relay WHERE number=7')\n",
    "pd.read_sql('SELECT * FROM relay;', conn)"
   ]
  },
  {
   "cell_type": "markdown",
   "metadata": {},
   "source": [
    "#### 6 . Update one row and show the results."
   ]
  },
  {
   "cell_type": "code",
   "execution_count": 5,
   "metadata": {
    "collapsed": false
   },
   "outputs": [
    {
     "data": {
      "text/html": [
       "<div>\n",
       "<table border=\"1\" class=\"dataframe\">\n",
       "  <thead>\n",
       "    <tr style=\"text-align: right;\">\n",
       "      <th></th>\n",
       "      <th>number</th>\n",
       "      <th>name</th>\n",
       "      <th>last_name</th>\n",
       "      <th>team</th>\n",
       "      <th>position</th>\n",
       "    </tr>\n",
       "  </thead>\n",
       "  <tbody>\n",
       "    <tr>\n",
       "      <th>0</th>\n",
       "      <td>1</td>\n",
       "      <td>Asafa</td>\n",
       "      <td>Powell</td>\n",
       "      <td>Jamaika</td>\n",
       "      <td>first leg</td>\n",
       "    </tr>\n",
       "    <tr>\n",
       "      <th>1</th>\n",
       "      <td>2</td>\n",
       "      <td>Yohan</td>\n",
       "      <td>Blake</td>\n",
       "      <td>Jamaika</td>\n",
       "      <td>third leg</td>\n",
       "    </tr>\n",
       "    <tr>\n",
       "      <th>2</th>\n",
       "      <td>3</td>\n",
       "      <td>Nickel</td>\n",
       "      <td>Ashmeade</td>\n",
       "      <td>Jamaika</td>\n",
       "      <td>second leg</td>\n",
       "    </tr>\n",
       "    <tr>\n",
       "      <th>3</th>\n",
       "      <td>4</td>\n",
       "      <td>Usain</td>\n",
       "      <td>Bolt</td>\n",
       "      <td>Jamaika</td>\n",
       "      <td>fourth leg</td>\n",
       "    </tr>\n",
       "    <tr>\n",
       "      <th>4</th>\n",
       "      <td>5</td>\n",
       "      <td>Justin</td>\n",
       "      <td>Gatlin</td>\n",
       "      <td>USA</td>\n",
       "      <td>first leg</td>\n",
       "    </tr>\n",
       "    <tr>\n",
       "      <th>5</th>\n",
       "      <td>6</td>\n",
       "      <td>Tyson</td>\n",
       "      <td>Gay</td>\n",
       "      <td>USA</td>\n",
       "      <td>second leg</td>\n",
       "    </tr>\n",
       "    <tr>\n",
       "      <th>6</th>\n",
       "      <td>8</td>\n",
       "      <td>Trayvon</td>\n",
       "      <td>Bromell</td>\n",
       "      <td>USA</td>\n",
       "      <td>fourth leg</td>\n",
       "    </tr>\n",
       "  </tbody>\n",
       "</table>\n",
       "</div>"
      ],
      "text/plain": [
       "   number     name last_name     team    position\n",
       "0       1    Asafa    Powell  Jamaika   first leg\n",
       "1       2    Yohan     Blake  Jamaika   third leg\n",
       "2       3   Nickel  Ashmeade  Jamaika  second leg\n",
       "3       4    Usain      Bolt  Jamaika  fourth leg\n",
       "4       5   Justin    Gatlin      USA   first leg\n",
       "5       6    Tyson       Gay      USA  second leg\n",
       "6       8  Trayvon   Bromell      USA  fourth leg"
      ]
     },
     "execution_count": 5,
     "metadata": {},
     "output_type": "execute_result"
    }
   ],
   "source": [
    "cur.execute('UPDATE relay SET position=\"third leg\" WHERE name=\"Yohan\"')\n",
    "cur.execute('UPDATE relay SET position=\"second leg\" WHERE name=\"Nickel\"')\n",
    "pd.read_sql('SELECT * FROM relay;', conn)"
   ]
  },
  {
   "cell_type": "code",
   "execution_count": null,
   "metadata": {
    "collapsed": true
   },
   "outputs": [],
   "source": []
  }
 ],
 "metadata": {
  "anaconda-cloud": {},
  "kernelspec": {
   "display_name": "Python [default]",
   "language": "python",
   "name": "python2"
  },
  "language_info": {
   "codemirror_mode": {
    "name": "ipython",
    "version": 2
   },
   "file_extension": ".py",
   "mimetype": "text/x-python",
   "name": "python",
   "nbconvert_exporter": "python",
   "pygments_lexer": "ipython2",
   "version": "2.7.12"
  }
 },
 "nbformat": 4,
 "nbformat_minor": 1
}
