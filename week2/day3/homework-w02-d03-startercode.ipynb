{
 "cells": [
  {
   "cell_type": "markdown",
   "metadata": {},
   "source": [
    "# Homework w02d03 - Creating dummies for categorical variables\n",
    "\n",
    "Read in the following dataset collecting information about nutrition habits of 54 individuals.\n",
    "1. How many features of binary categorical type, of integer type and of floating point type are there?\n",
    "2. Get dummy variables for the columns of binary categorical type and retain only those columns which are necessary for desribing the data. How many are those?\n",
    "3. Get dummy variables for the integer valued columns ['BREAKFASTSANDWICHFREQ', 'BREAKFASTSANDWICHQUAN']. Again, retain only those columns which are necessary for describing the data. How many are those? Rename the columns suitably with the command pd.rename.\n",
    "4. Join the dataframes for all the dummy variables you created with pd.join."
   ]
  },
  {
   "cell_type": "code",
   "execution_count": 117,
   "metadata": {
    "collapsed": false
   },
   "outputs": [
    {
     "data": {
      "text/html": [
       "<div>\n",
       "<table border=\"1\" class=\"dataframe\">\n",
       "  <thead>\n",
       "    <tr style=\"text-align: right;\">\n",
       "      <th></th>\n",
       "      <th>ID</th>\n",
       "      <th>cancer</th>\n",
       "      <th>diabetes</th>\n",
       "      <th>heart_disease</th>\n",
       "      <th>belly</th>\n",
       "      <th>ever_smoked</th>\n",
       "      <th>currently_smoke</th>\n",
       "      <th>smoke_often</th>\n",
       "      <th>smoke_rarely</th>\n",
       "      <th>never_smoked</th>\n",
       "      <th>...</th>\n",
       "      <th>DT_FIBER_INSOL</th>\n",
       "      <th>DT_FIBER_SOL</th>\n",
       "      <th>DT_PROT_ANIMAL</th>\n",
       "      <th>DT_PROT_VEGETABLE</th>\n",
       "      <th>DT_NITROGEN</th>\n",
       "      <th>PHYTIC_ACID</th>\n",
       "      <th>OXALIC_ACID</th>\n",
       "      <th>COUMESTROL</th>\n",
       "      <th>BIOCHANIN_A</th>\n",
       "      <th>FORMONONETIN</th>\n",
       "    </tr>\n",
       "  </thead>\n",
       "  <tbody>\n",
       "    <tr>\n",
       "      <th>0</th>\n",
       "      <td>1003</td>\n",
       "      <td>Yes</td>\n",
       "      <td>No</td>\n",
       "      <td>No</td>\n",
       "      <td>Innie</td>\n",
       "      <td>Yes</td>\n",
       "      <td>Yes</td>\n",
       "      <td>Yes</td>\n",
       "      <td>No</td>\n",
       "      <td>No</td>\n",
       "      <td>...</td>\n",
       "      <td>7.38</td>\n",
       "      <td>1.25</td>\n",
       "      <td>75.46</td>\n",
       "      <td>16.00</td>\n",
       "      <td>14.89</td>\n",
       "      <td>365.70</td>\n",
       "      <td>318.11</td>\n",
       "      <td>0.0117</td>\n",
       "      <td>0.0658</td>\n",
       "      <td>0.00324</td>\n",
       "    </tr>\n",
       "    <tr>\n",
       "      <th>1</th>\n",
       "      <td>1053</td>\n",
       "      <td>No</td>\n",
       "      <td>Yes</td>\n",
       "      <td>Yes</td>\n",
       "      <td>Outie</td>\n",
       "      <td>Yes</td>\n",
       "      <td>Yes</td>\n",
       "      <td>No</td>\n",
       "      <td>Yes</td>\n",
       "      <td>No</td>\n",
       "      <td>...</td>\n",
       "      <td>9.11</td>\n",
       "      <td>3.37</td>\n",
       "      <td>59.41</td>\n",
       "      <td>18.25</td>\n",
       "      <td>12.51</td>\n",
       "      <td>434.98</td>\n",
       "      <td>112.66</td>\n",
       "      <td>0.0107</td>\n",
       "      <td>0.1390</td>\n",
       "      <td>0.00743</td>\n",
       "    </tr>\n",
       "    <tr>\n",
       "      <th>2</th>\n",
       "      <td>1006</td>\n",
       "      <td>Yes</td>\n",
       "      <td>Yes</td>\n",
       "      <td>Yes</td>\n",
       "      <td>Innie</td>\n",
       "      <td>No</td>\n",
       "      <td>No</td>\n",
       "      <td>No</td>\n",
       "      <td>No</td>\n",
       "      <td>Yes</td>\n",
       "      <td>...</td>\n",
       "      <td>11.56</td>\n",
       "      <td>4.74</td>\n",
       "      <td>61.49</td>\n",
       "      <td>28.46</td>\n",
       "      <td>14.45</td>\n",
       "      <td>606.43</td>\n",
       "      <td>213.41</td>\n",
       "      <td>0.0965</td>\n",
       "      <td>0.0519</td>\n",
       "      <td>0.00946</td>\n",
       "    </tr>\n",
       "    <tr>\n",
       "      <th>3</th>\n",
       "      <td>1166</td>\n",
       "      <td>No</td>\n",
       "      <td>No</td>\n",
       "      <td>No</td>\n",
       "      <td>Innie</td>\n",
       "      <td>No</td>\n",
       "      <td>No</td>\n",
       "      <td>No</td>\n",
       "      <td>No</td>\n",
       "      <td>Yes</td>\n",
       "      <td>...</td>\n",
       "      <td>26.34</td>\n",
       "      <td>10.85</td>\n",
       "      <td>28.71</td>\n",
       "      <td>44.59</td>\n",
       "      <td>12.15</td>\n",
       "      <td>1570.07</td>\n",
       "      <td>334.08</td>\n",
       "      <td>0.2830</td>\n",
       "      <td>0.0890</td>\n",
       "      <td>0.01260</td>\n",
       "    </tr>\n",
       "    <tr>\n",
       "      <th>4</th>\n",
       "      <td>1134</td>\n",
       "      <td>Yes</td>\n",
       "      <td>No</td>\n",
       "      <td>No</td>\n",
       "      <td>Innie</td>\n",
       "      <td>No</td>\n",
       "      <td>No</td>\n",
       "      <td>No</td>\n",
       "      <td>No</td>\n",
       "      <td>Yes</td>\n",
       "      <td>...</td>\n",
       "      <td>16.48</td>\n",
       "      <td>4.80</td>\n",
       "      <td>32.41</td>\n",
       "      <td>28.23</td>\n",
       "      <td>9.80</td>\n",
       "      <td>616.99</td>\n",
       "      <td>422.55</td>\n",
       "      <td>0.1630</td>\n",
       "      <td>0.0994</td>\n",
       "      <td>0.02070</td>\n",
       "    </tr>\n",
       "  </tbody>\n",
       "</table>\n",
       "<p>5 rows × 1093 columns</p>\n",
       "</div>"
      ],
      "text/plain": [
       "     ID cancer diabetes heart_disease  belly ever_smoked currently_smoke  \\\n",
       "0  1003    Yes       No            No  Innie         Yes             Yes   \n",
       "1  1053     No      Yes           Yes  Outie         Yes             Yes   \n",
       "2  1006    Yes      Yes           Yes  Innie          No              No   \n",
       "3  1166     No       No            No  Innie          No              No   \n",
       "4  1134    Yes       No            No  Innie          No              No   \n",
       "\n",
       "  smoke_often smoke_rarely never_smoked     ...      DT_FIBER_INSOL  \\\n",
       "0         Yes           No           No     ...                7.38   \n",
       "1          No          Yes           No     ...                9.11   \n",
       "2          No           No          Yes     ...               11.56   \n",
       "3          No           No          Yes     ...               26.34   \n",
       "4          No           No          Yes     ...               16.48   \n",
       "\n",
       "  DT_FIBER_SOL DT_PROT_ANIMAL DT_PROT_VEGETABLE DT_NITROGEN PHYTIC_ACID  \\\n",
       "0         1.25          75.46             16.00       14.89      365.70   \n",
       "1         3.37          59.41             18.25       12.51      434.98   \n",
       "2         4.74          61.49             28.46       14.45      606.43   \n",
       "3        10.85          28.71             44.59       12.15     1570.07   \n",
       "4         4.80          32.41             28.23        9.80      616.99   \n",
       "\n",
       "  OXALIC_ACID COUMESTROL BIOCHANIN_A FORMONONETIN  \n",
       "0      318.11     0.0117      0.0658      0.00324  \n",
       "1      112.66     0.0107      0.1390      0.00743  \n",
       "2      213.41     0.0965      0.0519      0.00946  \n",
       "3      334.08     0.2830      0.0890      0.01260  \n",
       "4      422.55     0.1630      0.0994      0.02070  \n",
       "\n",
       "[5 rows x 1093 columns]"
      ]
     },
     "execution_count": 117,
     "metadata": {},
     "output_type": "execute_result"
    }
   ],
   "source": [
    "import pandas as pd\n",
    "import numpy as np\n",
    "\n",
    "# Import dataset\n",
    "df = pd.read_csv('https://raw.githubusercontent.com/fivethirtyeight/data/master/nutrition-studies/raw_anonymized_data.csv')\n",
    "df.head()"
   ]
  },
  {
   "cell_type": "markdown",
   "metadata": {},
   "source": [
    "#### 1. How many features of binary categorical type, of integer type and of floating point type are there?"
   ]
  },
  {
   "cell_type": "code",
   "execution_count": 111,
   "metadata": {
    "collapsed": false
   },
   "outputs": [
    {
     "data": {
      "text/plain": [
       "float64    554\n",
       "int64      513\n",
       "object      26\n",
       "dtype: int64"
      ]
     },
     "execution_count": 111,
     "metadata": {},
     "output_type": "execute_result"
    }
   ],
   "source": [
    "df.get_dtype_counts()"
   ]
  },
  {
   "cell_type": "markdown",
   "metadata": {},
   "source": [
    "#### 2. Get dummy variables for the columns of binary categorical type and retain only those columns which are necessary for describing the data. How many are those?"
   ]
  },
  {
   "cell_type": "code",
   "execution_count": 112,
   "metadata": {
    "collapsed": false
   },
   "outputs": [],
   "source": [
    "for i in range(len(df.columns)):\n",
    "    if df.ix[:,i].dtypes == \"object\":\n",
    "        if df.ix[:,i].nunique() != 2:\n",
    "            print df.ix[:,i].name + \" is not binary\"\n"
   ]
  },
  {
   "cell_type": "markdown",
   "metadata": {},
   "source": [
    "No output, therefore all categorical variables are binary"
   ]
  },
  {
   "cell_type": "code",
   "execution_count": 113,
   "metadata": {
    "collapsed": false
   },
   "outputs": [
    {
     "name": "stdout",
     "output_type": "stream",
     "text": [
      "Column index 1 name cancer\n",
      "Column index 2 name diabetes\n",
      "Column index 3 name heart_disease\n",
      "Column index 4 name belly\n",
      "Column index 5 name ever_smoked\n",
      "Column index 6 name currently_smoke\n",
      "Column index 7 name smoke_often\n",
      "Column index 8 name smoke_rarely\n",
      "Column index 9 name never_smoked\n",
      "Column index 10 name quit_smoking\n",
      "Column index 11 name left_hand\n",
      "Column index 12 name right_hand\n",
      "Column index 13 name readingMath\n",
      "Column index 14 name mathReading\n",
      "Column index 15 name favCable\n",
      "Column index 16 name unfavCable\n",
      "Column index 17 name neutralCable\n",
      "Column index 18 name noCrash\n",
      "Column index 19 name yesCrash\n",
      "Column index 20 name uhCrash\n",
      "Column index 21 name rash\n",
      "Column index 22 name cat\n",
      "Column index 23 name dog\n",
      "Column index 24 name Dems\n",
      "Column index 25 name atheist\n",
      "Column index 26 name Jewish\n"
     ]
    }
   ],
   "source": [
    "for i in range(len(df.columns)):\n",
    "    if df.ix[:,i].dtypes == \"object\":\n",
    "        print \"Column index %d name %s\" % (i,df.ix[:,i].name)"
   ]
  },
  {
   "cell_type": "markdown",
   "metadata": {},
   "source": [
    "It appears that data from columns 11 to 26 are not relevant to studies linked to health and nutrition, therefore we will drop them, and make columns 1 to 10 dummy variables."
   ]
  },
  {
   "cell_type": "code",
   "execution_count": 118,
   "metadata": {
    "collapsed": false
   },
   "outputs": [],
   "source": [
    "df = df.drop(df.columns[list(range(11,26+1))], axis=1)"
   ]
  },
  {
   "cell_type": "code",
   "execution_count": 121,
   "metadata": {
    "collapsed": false
   },
   "outputs": [
    {
     "data": {
      "text/html": [
       "<div>\n",
       "<table border=\"1\" class=\"dataframe\">\n",
       "  <thead>\n",
       "    <tr style=\"text-align: right;\">\n",
       "      <th></th>\n",
       "      <th>cancer_Yes</th>\n",
       "      <th>diabetes_Yes</th>\n",
       "      <th>heart_disease_Yes</th>\n",
       "      <th>belly_Outie</th>\n",
       "      <th>ever_smoked_Yes</th>\n",
       "      <th>currently_smoke_Yes</th>\n",
       "      <th>smoke_often_Yes</th>\n",
       "      <th>smoke_rarely_Yes</th>\n",
       "      <th>never_smoked_Yes</th>\n",
       "      <th>quit_smoking_Yes</th>\n",
       "    </tr>\n",
       "  </thead>\n",
       "  <tbody>\n",
       "    <tr>\n",
       "      <th>0</th>\n",
       "      <td>1.0</td>\n",
       "      <td>0.0</td>\n",
       "      <td>0.0</td>\n",
       "      <td>0.0</td>\n",
       "      <td>1.0</td>\n",
       "      <td>1.0</td>\n",
       "      <td>1.0</td>\n",
       "      <td>0.0</td>\n",
       "      <td>0.0</td>\n",
       "      <td>0.0</td>\n",
       "    </tr>\n",
       "    <tr>\n",
       "      <th>1</th>\n",
       "      <td>0.0</td>\n",
       "      <td>1.0</td>\n",
       "      <td>1.0</td>\n",
       "      <td>1.0</td>\n",
       "      <td>1.0</td>\n",
       "      <td>1.0</td>\n",
       "      <td>0.0</td>\n",
       "      <td>1.0</td>\n",
       "      <td>0.0</td>\n",
       "      <td>0.0</td>\n",
       "    </tr>\n",
       "    <tr>\n",
       "      <th>2</th>\n",
       "      <td>1.0</td>\n",
       "      <td>1.0</td>\n",
       "      <td>1.0</td>\n",
       "      <td>0.0</td>\n",
       "      <td>0.0</td>\n",
       "      <td>0.0</td>\n",
       "      <td>0.0</td>\n",
       "      <td>0.0</td>\n",
       "      <td>1.0</td>\n",
       "      <td>0.0</td>\n",
       "    </tr>\n",
       "    <tr>\n",
       "      <th>3</th>\n",
       "      <td>0.0</td>\n",
       "      <td>0.0</td>\n",
       "      <td>0.0</td>\n",
       "      <td>0.0</td>\n",
       "      <td>0.0</td>\n",
       "      <td>0.0</td>\n",
       "      <td>0.0</td>\n",
       "      <td>0.0</td>\n",
       "      <td>1.0</td>\n",
       "      <td>0.0</td>\n",
       "    </tr>\n",
       "    <tr>\n",
       "      <th>4</th>\n",
       "      <td>1.0</td>\n",
       "      <td>0.0</td>\n",
       "      <td>0.0</td>\n",
       "      <td>0.0</td>\n",
       "      <td>0.0</td>\n",
       "      <td>0.0</td>\n",
       "      <td>0.0</td>\n",
       "      <td>0.0</td>\n",
       "      <td>1.0</td>\n",
       "      <td>0.0</td>\n",
       "    </tr>\n",
       "  </tbody>\n",
       "</table>\n",
       "</div>"
      ],
      "text/plain": [
       "   cancer_Yes  diabetes_Yes  heart_disease_Yes  belly_Outie  ever_smoked_Yes  \\\n",
       "0         1.0           0.0                0.0          0.0              1.0   \n",
       "1         0.0           1.0                1.0          1.0              1.0   \n",
       "2         1.0           1.0                1.0          0.0              0.0   \n",
       "3         0.0           0.0                0.0          0.0              0.0   \n",
       "4         1.0           0.0                0.0          0.0              0.0   \n",
       "\n",
       "   currently_smoke_Yes  smoke_often_Yes  smoke_rarely_Yes  never_smoked_Yes  \\\n",
       "0                  1.0              1.0               0.0               0.0   \n",
       "1                  1.0              0.0               1.0               0.0   \n",
       "2                  0.0              0.0               0.0               1.0   \n",
       "3                  0.0              0.0               0.0               1.0   \n",
       "4                  0.0              0.0               0.0               1.0   \n",
       "\n",
       "   quit_smoking_Yes  \n",
       "0               0.0  \n",
       "1               0.0  \n",
       "2               0.0  \n",
       "3               0.0  \n",
       "4               0.0  "
      ]
     },
     "execution_count": 121,
     "metadata": {},
     "output_type": "execute_result"
    }
   ],
   "source": [
    "keys = [col for col in df.ix[:,1:11]]\n",
    "df_dummies = pd.get_dummies(df[keys],drop_first=True)\n",
    "df_dummies.head()"
   ]
  },
  {
   "cell_type": "markdown",
   "metadata": {},
   "source": [
    "Only one out of each pair of dummy variable is required, therefore I used the drop_first parameter."
   ]
  },
  {
   "cell_type": "markdown",
   "metadata": {},
   "source": [
    "#### 3. Get dummy variables for the integer valued columns ['BREAKFASTSANDWICHFREQ', 'BREAKFASTSANDWICHQUAN']. Again, retain only those columns which are necessary for describing the data. How many are those? Rename the columns suitably with the command pd.rename."
   ]
  },
  {
   "cell_type": "code",
   "execution_count": 132,
   "metadata": {
    "collapsed": false
   },
   "outputs": [
    {
     "data": {
      "text/html": [
       "<div>\n",
       "<table border=\"1\" class=\"dataframe\">\n",
       "  <thead>\n",
       "    <tr style=\"text-align: right;\">\n",
       "      <th></th>\n",
       "      <th>BREAKFASTSANDWICHFREQ_2</th>\n",
       "      <th>BREAKFASTSANDWICHFREQ_3</th>\n",
       "      <th>BREAKFASTSANDWICHFREQ_4</th>\n",
       "      <th>BREAKFASTSANDWICHFREQ_5</th>\n",
       "      <th>BREAKFASTSANDWICHFREQ_7</th>\n",
       "      <th>BREAKFASTSANDWICHFREQ_8</th>\n",
       "      <th>BREAKFASTSANDWICHFREQ_9</th>\n",
       "      <th>BREAKFASTSANDWICHQUAN_2</th>\n",
       "    </tr>\n",
       "  </thead>\n",
       "  <tbody>\n",
       "    <tr>\n",
       "      <th>0</th>\n",
       "      <td>0.0</td>\n",
       "      <td>0.0</td>\n",
       "      <td>0.0</td>\n",
       "      <td>1.0</td>\n",
       "      <td>0.0</td>\n",
       "      <td>0.0</td>\n",
       "      <td>0.0</td>\n",
       "      <td>0.0</td>\n",
       "    </tr>\n",
       "    <tr>\n",
       "      <th>1</th>\n",
       "      <td>0.0</td>\n",
       "      <td>0.0</td>\n",
       "      <td>0.0</td>\n",
       "      <td>0.0</td>\n",
       "      <td>0.0</td>\n",
       "      <td>0.0</td>\n",
       "      <td>0.0</td>\n",
       "      <td>0.0</td>\n",
       "    </tr>\n",
       "    <tr>\n",
       "      <th>2</th>\n",
       "      <td>0.0</td>\n",
       "      <td>1.0</td>\n",
       "      <td>0.0</td>\n",
       "      <td>0.0</td>\n",
       "      <td>0.0</td>\n",
       "      <td>0.0</td>\n",
       "      <td>0.0</td>\n",
       "      <td>1.0</td>\n",
       "    </tr>\n",
       "    <tr>\n",
       "      <th>3</th>\n",
       "      <td>1.0</td>\n",
       "      <td>0.0</td>\n",
       "      <td>0.0</td>\n",
       "      <td>0.0</td>\n",
       "      <td>0.0</td>\n",
       "      <td>0.0</td>\n",
       "      <td>0.0</td>\n",
       "      <td>0.0</td>\n",
       "    </tr>\n",
       "    <tr>\n",
       "      <th>4</th>\n",
       "      <td>0.0</td>\n",
       "      <td>1.0</td>\n",
       "      <td>0.0</td>\n",
       "      <td>0.0</td>\n",
       "      <td>0.0</td>\n",
       "      <td>0.0</td>\n",
       "      <td>0.0</td>\n",
       "      <td>0.0</td>\n",
       "    </tr>\n",
       "  </tbody>\n",
       "</table>\n",
       "</div>"
      ],
      "text/plain": [
       "   BREAKFASTSANDWICHFREQ_2  BREAKFASTSANDWICHFREQ_3  BREAKFASTSANDWICHFREQ_4  \\\n",
       "0                      0.0                      0.0                      0.0   \n",
       "1                      0.0                      0.0                      0.0   \n",
       "2                      0.0                      1.0                      0.0   \n",
       "3                      1.0                      0.0                      0.0   \n",
       "4                      0.0                      1.0                      0.0   \n",
       "\n",
       "   BREAKFASTSANDWICHFREQ_5  BREAKFASTSANDWICHFREQ_7  BREAKFASTSANDWICHFREQ_8  \\\n",
       "0                      1.0                      0.0                      0.0   \n",
       "1                      0.0                      0.0                      0.0   \n",
       "2                      0.0                      0.0                      0.0   \n",
       "3                      0.0                      0.0                      0.0   \n",
       "4                      0.0                      0.0                      0.0   \n",
       "\n",
       "   BREAKFASTSANDWICHFREQ_9  BREAKFASTSANDWICHQUAN_2  \n",
       "0                      0.0                      0.0  \n",
       "1                      0.0                      0.0  \n",
       "2                      0.0                      1.0  \n",
       "3                      0.0                      0.0  \n",
       "4                      0.0                      0.0  "
      ]
     },
     "execution_count": 132,
     "metadata": {},
     "output_type": "execute_result"
    }
   ],
   "source": [
    "keys2 = ['BREAKFASTSANDWICHFREQ','BREAKFASTSANDWICHQUAN']\n",
    "df[keys2[0]] = df[keys2[0]].astype('category')\n",
    "df[keys2[1]] = df[keys2[1]].astype('category')\n",
    "df_dummies2 = pd.get_dummies(df[keys2],drop_first=True)\n",
    "df_dummies2.head()"
   ]
  },
  {
   "cell_type": "markdown",
   "metadata": {},
   "source": [
    "Again we only need to keep number of categories minus one, as the missing one can be deduced from others."
   ]
  },
  {
   "cell_type": "code",
   "execution_count": 135,
   "metadata": {
    "collapsed": false
   },
   "outputs": [],
   "source": [
    "df = df.rename(columns={\"BREAKFASTSANDWICHFREQ_2\":\"BREAKFASTSANDWICHFREQ_RARELY\",\n",
    "                \"BREAKFASTSANDWICHFREQ_3\":\"BREAKFASTSANDWICHFREQ_SOMETIMES\",\n",
    "                \"BREAKFASTSANDWICHFREQ_4\":\"BREAKFASTSANDWICHFREQ_OFTEN\",\n",
    "                \"BREAKFASTSANDWICHFREQ_5\":\"ALWAYS\"})"
   ]
  },
  {
   "cell_type": "markdown",
   "metadata": {},
   "source": [
    "#### 4. Join the dataframes for all the dummy variables you created with pd.join"
   ]
  },
  {
   "cell_type": "code",
   "execution_count": 137,
   "metadata": {
    "collapsed": false
   },
   "outputs": [],
   "source": [
    "df = df.join(df_dummies).join(df_dummies2)"
   ]
  }
 ],
 "metadata": {
  "anaconda-cloud": {},
  "kernelspec": {
   "display_name": "Python [conda root]",
   "language": "python",
   "name": "conda-root-py"
  },
  "language_info": {
   "codemirror_mode": {
    "name": "ipython",
    "version": 2
   },
   "file_extension": ".py",
   "mimetype": "text/x-python",
   "name": "python",
   "nbconvert_exporter": "python",
   "pygments_lexer": "ipython2",
   "version": "2.7.12"
  }
 },
 "nbformat": 4,
 "nbformat_minor": 1
}
