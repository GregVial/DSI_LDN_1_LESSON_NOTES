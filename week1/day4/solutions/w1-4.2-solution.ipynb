{
 "cells": [
  {
   "cell_type": "code",
   "execution_count": 19,
   "metadata": {
    "collapsed": false
   },
   "outputs": [
    {
     "name": "stdout",
     "output_type": "stream",
     "text": [
      "Creating array x\n",
      "\n",
      "x is: \n",
      "[1 2 3 4]\n",
      "\n"
     ]
    }
   ],
   "source": [
    "# import numpy\n",
    "import numpy as np \n",
    "\n",
    "# create array x\n",
    "print 'Creating array x'\n",
    "x = np.array([1, 2, 3, 4]) \n",
    "print ''\n",
    "print 'x is: '\n",
    "print x\n",
    "print ''"
   ]
  },
  {
   "cell_type": "code",
   "execution_count": 20,
   "metadata": {
    "collapsed": false
   },
   "outputs": [
    {
     "name": "stdout",
     "output_type": "stream",
     "text": [
      "The shape of x is: \n",
      "(4,)\n",
      "\n"
     ]
    }
   ],
   "source": [
    "# print the shape of x\n",
    "print 'The shape of x is: '\n",
    "print x.shape \n",
    "print ''\n"
   ]
  },
  {
   "cell_type": "code",
   "execution_count": 21,
   "metadata": {
    "collapsed": false
   },
   "outputs": [
    {
     "name": "stdout",
     "output_type": "stream",
     "text": [
      "Creating two dimensional array x\n",
      "\n",
      "x is :\n",
      "[[1 2 3 4]\n",
      " [4 5 6 2]\n",
      " [1 2 4 5]]\n",
      "\n"
     ]
    }
   ],
   "source": [
    "# create a two dimensional array\n",
    "print 'Creating two dimensional array x'\n",
    "x = np.array([[1, 2, 3, 4],[4,5,6,2],[1,2,4,5]])\n",
    "print ''\n",
    "print 'x is :'\n",
    "print x\n",
    "print''"
   ]
  },
  {
   "cell_type": "code",
   "execution_count": 22,
   "metadata": {
    "collapsed": false
   },
   "outputs": [
    {
     "name": "stdout",
     "output_type": "stream",
     "text": [
      "The shape of 2d array is :\n",
      "(3, 4)\n",
      "\n"
     ]
    }
   ],
   "source": [
    "# print shape of 2d array\n",
    "print 'The shape of 2d array is :'\n",
    "print x.shape\n",
    "print ''"
   ]
  },
  {
   "cell_type": "code",
   "execution_count": 23,
   "metadata": {
    "collapsed": false
   },
   "outputs": [
    {
     "name": "stdout",
     "output_type": "stream",
     "text": [
      "Reshaping 2d array to 2,6\n",
      "New x is: \n",
      "[[1 2 3 4 4 5]\n",
      " [6 2 1 2 4 5]]\n",
      "\n"
     ]
    }
   ],
   "source": [
    "# reshape the array to 2 x 6\n",
    "print 'Reshaping 2d array to 2,6'\n",
    "x=np.reshape(x, (2, 6))\n",
    "print 'New x is: '\n",
    "print x\n",
    "print ''"
   ]
  },
  {
   "cell_type": "code",
   "execution_count": 24,
   "metadata": {
    "collapsed": false
   },
   "outputs": [
    {
     "name": "stdout",
     "output_type": "stream",
     "text": [
      "Reshaping 2d array to 1, 12\n",
      "New x is :\n",
      "[[1 2 3 4 4 5 6 2 1 2 4 5]]\n"
     ]
    }
   ],
   "source": [
    "# reshape the array to 1 x 12\n",
    "print 'Reshaping 2d array to 1, 12'\n",
    "x=np.reshape(x, (1, 12)) \n",
    "print 'New x is :'\n",
    "print x"
   ]
  },
  {
   "cell_type": "code",
   "execution_count": 25,
   "metadata": {
    "collapsed": false
   },
   "outputs": [
    {
     "name": "stdout",
     "output_type": "stream",
     "text": [
      "Tranpose of x is:\n",
      "[[1]\n",
      " [2]\n",
      " [3]\n",
      " [4]\n",
      " [4]\n",
      " [5]\n",
      " [6]\n",
      " [2]\n",
      " [1]\n",
      " [2]\n",
      " [4]\n",
      " [5]]\n"
     ]
    }
   ],
   "source": [
    "# transpose the array\n",
    "print 'Tranpose of x is:' \n",
    "print x.T"
   ]
  },
  {
   "cell_type": "code",
   "execution_count": 33,
   "metadata": {
    "collapsed": false
   },
   "outputs": [
    {
     "name": "stdout",
     "output_type": "stream",
     "text": [
      "Indexing method 1, the 5th value is: \n",
      "4\n"
     ]
    }
   ],
   "source": [
    "# indexing method 1\n",
    "print 'Indexing method 1, the 5th value is: ' \n",
    "print x[0,4]"
   ]
  },
  {
   "cell_type": "code",
   "execution_count": 27,
   "metadata": {
    "collapsed": false
   },
   "outputs": [
    {
     "name": "stdout",
     "output_type": "stream",
     "text": [
      "Indexing method 2, the 2nd to the last value is: \n",
      "4\n"
     ]
    }
   ],
   "source": [
    "# indexing method 2\n",
    "print 'Indexing method 2, the 2nd to the last value is: '\n",
    "print x[0,-2]"
   ]
  },
  {
   "cell_type": "code",
   "execution_count": 28,
   "metadata": {
    "collapsed": false
   },
   "outputs": [
    {
     "name": "stdout",
     "output_type": "stream",
     "text": [
      "Indexing method 3, the 5th to the last value is:\n",
      "2\n"
     ]
    }
   ],
   "source": [
    "# indexing method 3\n",
    "print 'Indexing method 3, the 5th to the last value is:'\n",
    "print x[0][-5]"
   ]
  },
  {
   "cell_type": "code",
   "execution_count": 29,
   "metadata": {
    "collapsed": false
   },
   "outputs": [
    {
     "name": "stdout",
     "output_type": "stream",
     "text": [
      "Indexing method 4, the elements 2 to 5(starting from 0) are: \n",
      "[3 4 4]\n"
     ]
    }
   ],
   "source": [
    "# indexing method 4\n",
    "print 'Indexing method 4, the elements 2 to 5(starting from 0) are: '\n",
    "print x[0,2:5]"
   ]
  },
  {
   "cell_type": "code",
   "execution_count": 31,
   "metadata": {
    "collapsed": false
   },
   "outputs": [
    {
     "name": "stdout",
     "output_type": "stream",
     "text": [
      "Indexing method 6, the elemetns 1, 2, 3, and 6 are: \n",
      "[2 3 4 6]\n"
     ]
    }
   ],
   "source": [
    "# indexing method 5\n",
    "print 'Indexing method 6, the elemetns 1, 2, 3, and 6 are: '\n",
    "arr=np.array([1,2,3,6])\n",
    "print x[0,arr]"
   ]
  },
  {
   "cell_type": "code",
   "execution_count": 32,
   "metadata": {
    "collapsed": false
   },
   "outputs": [
    {
     "name": "stdout",
     "output_type": "stream",
     "text": [
      "Indexing method 7, values in x > 4 are: \n",
      "[5 6 5]\n"
     ]
    }
   ],
   "source": [
    "# indexing method 6\n",
    "print 'Indexing method 7, values in x > 4 are: '\n",
    "print x[0,x[0,:]>4]"
   ]
  }
 ],
 "metadata": {
  "kernelspec": {
   "display_name": "Python 2",
   "language": "python",
   "name": "python2"
  },
  "language_info": {
   "codemirror_mode": {
    "name": "ipython",
    "version": 2
   },
   "file_extension": ".py",
   "mimetype": "text/x-python",
   "name": "python",
   "nbconvert_exporter": "python",
   "pygments_lexer": "ipython2",
   "version": "2.7.10"
  }
 },
 "nbformat": 4,
 "nbformat_minor": 0
}
