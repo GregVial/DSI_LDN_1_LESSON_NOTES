{
 "cells": [
  {
   "cell_type": "markdown",
   "metadata": {},
   "source": [
    "# Multi-table Datasets - ENRON Archive"
   ]
  },
  {
   "cell_type": "markdown",
   "metadata": {},
   "source": [
    "## 1. Data import\n",
    "\n",
    "Connect to the file 'assets/datasets/enron.db' using one of these methods:\n",
    "\n",
    "- sqlite3 python package\n",
    "- pandas.read_sql\n",
    "- SQLite Manager Firefox extension\n",
    "\n",
    "Take a look at the database and query the master table. How many Tables are there in the db?\n",
    "\n",
    "> Answer:\n",
    "There are 3 tables:\n",
    "- MessageBase\n",
    "- RecipientBase\n",
    "- EmployeeBase"
   ]
  },
  {
   "cell_type": "code",
   "execution_count": 2,
   "metadata": {
    "collapsed": false
   },
   "outputs": [
    {
     "data": {
      "text/plain": [
       "[(u'MessageBase',), (u'RecipientBase',), (u'EmployeeBase',)]"
      ]
     },
     "execution_count": 2,
     "metadata": {},
     "output_type": "execute_result"
    }
   ],
   "source": [
    "import sqlite3\n",
    "conn = sqlite3.connect('../../assets/datasets/enron.db')\n",
    "cur = conn.cursor()\n",
    "results = cur.execute(\"SELECT name FROM sqlite_master WHERE type='table';\")\n",
    "results.fetchall()"
   ]
  },
  {
   "cell_type": "markdown",
   "metadata": {},
   "source": [
    "Query the `sqlite_master` table to retrieve the schema of the `EmployeeBase` table.\n",
    "\n",
    "1. What fields are there?\n",
    "1. What's the type of each of them?"
   ]
  },
  {
   "cell_type": "code",
   "execution_count": 25,
   "metadata": {
    "collapsed": false
   },
   "outputs": [
    {
     "name": "stdout",
     "output_type": "stream",
     "text": [
      "CREATE TABLE EmployeeBase (\n",
      "                  [eid] INTEGER,\n",
      "  [name] TEXT,\n",
      "  [department] TEXT,\n",
      "  [longdepartment] TEXT,\n",
      "  [title] TEXT,\n",
      "  [gender] TEXT,\n",
      "  [seniority] TEXT\n",
      "                  \n",
      "                  )\n",
      "CREATE TABLE MessageBase (\n",
      "    mid INTEGER,\n",
      "    filename TEXT,\n",
      "    unix_time INTEGER,\n",
      "    subject TEXT,\n",
      "    from_eid INTEGER,\n",
      "    \n",
      "    PRIMARY KEY(mid ASC),\n",
      "    FOREIGN KEY(from_eid) REFERENCES Employee(eid)\n",
      ")\n",
      "CREATE TABLE RecipientBase (\n",
      "    mid INTEGER,\n",
      "    rno INTEGER,\n",
      "    to_eid INTEGER,\n",
      "    \n",
      "    PRIMARY KEY(mid ASC, rno ASC)\n",
      "    FOREIGN KEY(mid) REFERENCES Message(mid)\n",
      "    FOREIGN KEY(to_eid) REFERENCES Employee(eid)\n",
      ")\n"
     ]
    }
   ],
   "source": [
    "fields = cur.execute(\"SELECT sql FROM sqlite_master WHERE type='table' and name ='EmployeeBase';\").fetchall()\n",
    "print ''.join(fields[0])\n",
    "\n",
    "fields = cur.execute(\"SELECT sql FROM sqlite_master WHERE type='table' and name ='MessageBase';\").fetchall()\n",
    "print ''.join(fields[0])\n",
    "\n",
    "fields = cur.execute(\"SELECT sql FROM sqlite_master WHERE type='table' and name ='RecipientBase';\").fetchall()\n",
    "print ''.join(fields[0])"
   ]
  },
  {
   "cell_type": "markdown",
   "metadata": {},
   "source": [
    "1. Print the first 5 rows of EmployeeBase table\n",
    "1. Print the first 5 rows of MessageBase table\n",
    "1. Print the first 5 rows of RecipientBase table\n",
    "\n",
    "**Hint**  use `SELECT` and `LIMIT`."
   ]
  },
  {
   "cell_type": "code",
   "execution_count": 33,
   "metadata": {
    "collapsed": false
   },
   "outputs": [
    {
     "name": "stdout",
     "output_type": "stream",
     "text": [
      "(1, u'John Arnold', u'Forestry', u'ENA Gas Financial', u'VP Trading', u'Male', u'Senior')\n",
      "(2, u'Harry Arora', u'Forestry', u'ENA East Power', u'VP Trading', u'Male', u'Senior')\n",
      "(3, u'Robert Badeer', u'Forestry', u'ENA West Power', u'Mgr Trading', u'Male', u'Junior')\n",
      "(4, u'Susan Bailey', u'Legal', u'ENA Legal', u'Specialist Legal', u'Female', u'Junior')\n",
      "(5, u'Eric Bass', u'Forestry', u'ENA Gas Texas', u'Trader', u'Male', u'Junior')\n"
     ]
    }
   ],
   "source": [
    "q = \"SELECT * FROM EmployeeBase LIMIT 5\"\n",
    "results = cur.execute(q).fetchall()\n",
    "for row in results:\n",
    "    print row"
   ]
  },
  {
   "cell_type": "markdown",
   "metadata": {},
   "source": [
    "Import each of the 3 tables to a Pandas Dataframes"
   ]
  },
  {
   "cell_type": "code",
   "execution_count": 49,
   "metadata": {
    "collapsed": false
   },
   "outputs": [],
   "source": [
    "import pandas as pd\n",
    "EmployeeBase = pd.read_sql('SELECT * FROM EmployeeBase;',con = conn)\n",
    "MessageBase = pd.read_sql('SELECT * FROM MessageBase;',con = conn)\n",
    "RecipientBase = pd.read_sql('SELECT * FROM RecipientBase;',con = conn)"
   ]
  },
  {
   "cell_type": "code",
   "execution_count": 39,
   "metadata": {
    "collapsed": false
   },
   "outputs": [
    {
     "data": {
      "text/html": [
       "<div>\n",
       "<table border=\"1\" class=\"dataframe\">\n",
       "  <thead>\n",
       "    <tr style=\"text-align: right;\">\n",
       "      <th></th>\n",
       "      <th>mid</th>\n",
       "      <th>filename</th>\n",
       "      <th>unix_time</th>\n",
       "      <th>subject</th>\n",
       "      <th>from_eid</th>\n",
       "    </tr>\n",
       "  </thead>\n",
       "  <tbody>\n",
       "    <tr>\n",
       "      <th>0</th>\n",
       "      <td>1</td>\n",
       "      <td>taylor-m/sent/11</td>\n",
       "      <td>910930020</td>\n",
       "      <td>Cd$ CME letter</td>\n",
       "      <td>138</td>\n",
       "    </tr>\n",
       "    <tr>\n",
       "      <th>1</th>\n",
       "      <td>2</td>\n",
       "      <td>taylor-m/sent/17</td>\n",
       "      <td>911459940</td>\n",
       "      <td>Indemnification</td>\n",
       "      <td>138</td>\n",
       "    </tr>\n",
       "    <tr>\n",
       "      <th>2</th>\n",
       "      <td>3</td>\n",
       "      <td>taylor-m/sent/18</td>\n",
       "      <td>911463840</td>\n",
       "      <td>Re: Indemnification</td>\n",
       "      <td>138</td>\n",
       "    </tr>\n",
       "    <tr>\n",
       "      <th>3</th>\n",
       "      <td>4</td>\n",
       "      <td>taylor-m/sent/23</td>\n",
       "      <td>911874180</td>\n",
       "      <td>Re: Coral Energy, L.P.</td>\n",
       "      <td>138</td>\n",
       "    </tr>\n",
       "    <tr>\n",
       "      <th>4</th>\n",
       "      <td>5</td>\n",
       "      <td>taylor-m/sent/27</td>\n",
       "      <td>912396120</td>\n",
       "      <td>Bankruptcy Code revisions</td>\n",
       "      <td>138</td>\n",
       "    </tr>\n",
       "  </tbody>\n",
       "</table>\n",
       "</div>"
      ],
      "text/plain": [
       "   mid          filename  unix_time                    subject  from_eid\n",
       "0    1  taylor-m/sent/11  910930020             Cd$ CME letter       138\n",
       "1    2  taylor-m/sent/17  911459940            Indemnification       138\n",
       "2    3  taylor-m/sent/18  911463840        Re: Indemnification       138\n",
       "3    4  taylor-m/sent/23  911874180     Re: Coral Energy, L.P.       138\n",
       "4    5  taylor-m/sent/27  912396120  Bankruptcy Code revisions       138"
      ]
     },
     "execution_count": 39,
     "metadata": {},
     "output_type": "execute_result"
    }
   ],
   "source": [
    "MessageBase.head()"
   ]
  },
  {
   "cell_type": "markdown",
   "metadata": {},
   "source": [
    "## 2. Data Exploration\n",
    "\n",
    "Use the 3 dataframes to answer the following questions:\n",
    "\n",
    "1. How many employees are there in the company?\n",
    "- How many messages are there in the database?\n",
    "- Convert the timestamp column in the messages. When was the oldest message sent? And the newest?\n",
    "- Some messages are sent to more than one recipient. Group the messages by message_id and count the number of recepients. Then look at the distribution of recepient numbers.\n",
    "    - How many messages have only one recepient?\n",
    "    - How many messages have >= 5 recepients?\n",
    "    - What's the highest number of recepients?\n",
    "    - Who sent the message with the highest number of recepients?\n",
    "- Plot the distribution of recepient numbers using Bokeh."
   ]
  },
  {
   "cell_type": "code",
   "execution_count": 64,
   "metadata": {
    "collapsed": false
   },
   "outputs": [
    {
     "name": "stdout",
     "output_type": "stream",
     "text": [
      "156\n",
      "21635\n",
      "1998-11-13 04:07:00\n",
      "2002-06-21 14:37:34\n",
      "1     14985\n",
      "2      2962\n",
      "3      1435\n",
      "4       873\n",
      "5       711\n",
      "6       180\n",
      "7       176\n",
      "8        61\n",
      "13       57\n",
      "11       47\n",
      "12       33\n",
      "10       29\n",
      "15       28\n",
      "9        24\n",
      "14       11\n",
      "16        9\n",
      "21        2\n",
      "17        2\n",
      "57        2\n",
      "22        1\n",
      "52        1\n",
      "20        1\n",
      "55        1\n",
      "19        1\n",
      "24        1\n",
      "18        1\n",
      "49        1\n",
      "Name: to_eid, dtype: int64\n"
     ]
    }
   ],
   "source": [
    "# 1\n",
    "print(EmployeeBase.shape[0])\n",
    "# 2\n",
    "print(MessageBase.shape[0])\n",
    "# 3\n",
    "import pandas as pd\n",
    "MessageBase['time'] = MessageBase['unix_time'].apply(pd.datetime.fromtimestamp)\n",
    "print(min(MessageBase['time']))\n",
    "print(max(MessageBase['time']))\n",
    "# 4\n",
    "counts = RecipientBase.groupby('mid')['to_eid'].count().value_counts()\n",
    "print(counts)"
   ]
  },
  {
   "cell_type": "code",
   "execution_count": 67,
   "metadata": {
    "collapsed": false
   },
   "outputs": [
    {
     "data": {
      "text/html": [
       "\n",
       "    <div class=\"bk-root\">\n",
       "        <a href=\"http://bokeh.pydata.org\" target=\"_blank\" class=\"bk-logo bk-logo-small bk-logo-notebook\"></a>\n",
       "        <span id=\"6baaf73f-f6f0-481d-aece-82f592b16ad6\">Loading BokehJS ...</span>\n",
       "    </div>"
      ]
     },
     "metadata": {},
     "output_type": "display_data"
    },
    {
     "data": {
      "application/javascript": [
       "\n",
       "(function(global) {\n",
       "  function now() {\n",
       "    return new Date();\n",
       "  }\n",
       "\n",
       "  if (typeof (window._bokeh_onload_callbacks) === \"undefined\") {\n",
       "    window._bokeh_onload_callbacks = [];\n",
       "  }\n",
       "\n",
       "  function run_callbacks() {\n",
       "    window._bokeh_onload_callbacks.forEach(function(callback) { callback() });\n",
       "    delete window._bokeh_onload_callbacks\n",
       "    console.info(\"Bokeh: all callbacks have finished\");\n",
       "  }\n",
       "\n",
       "  function load_libs(js_urls, callback) {\n",
       "    window._bokeh_onload_callbacks.push(callback);\n",
       "    if (window._bokeh_is_loading > 0) {\n",
       "      console.log(\"Bokeh: BokehJS is being loaded, scheduling callback at\", now());\n",
       "      return null;\n",
       "    }\n",
       "    if (js_urls == null || js_urls.length === 0) {\n",
       "      run_callbacks();\n",
       "      return null;\n",
       "    }\n",
       "    console.log(\"Bokeh: BokehJS not loaded, scheduling load and callback at\", now());\n",
       "    window._bokeh_is_loading = js_urls.length;\n",
       "    for (var i = 0; i < js_urls.length; i++) {\n",
       "      var url = js_urls[i];\n",
       "      var s = document.createElement('script');\n",
       "      s.src = url;\n",
       "      s.async = false;\n",
       "      s.onreadystatechange = s.onload = function() {\n",
       "        window._bokeh_is_loading--;\n",
       "        if (window._bokeh_is_loading === 0) {\n",
       "          console.log(\"Bokeh: all BokehJS libraries loaded\");\n",
       "          run_callbacks()\n",
       "        }\n",
       "      };\n",
       "      s.onerror = function() {\n",
       "        console.warn(\"failed to load library \" + url);\n",
       "      };\n",
       "      console.log(\"Bokeh: injecting script tag for BokehJS library: \", url);\n",
       "      document.getElementsByTagName(\"head\")[0].appendChild(s);\n",
       "    }\n",
       "  };\n",
       "\n",
       "  var js_urls = ['https://cdn.pydata.org/bokeh/release/bokeh-0.12.0.min.js', 'https://cdn.pydata.org/bokeh/release/bokeh-widgets-0.12.0.min.js', 'https://cdn.pydata.org/bokeh/release/bokeh-compiler-0.12.0.min.js'];\n",
       "\n",
       "  var inline_js = [\n",
       "    function(Bokeh) {\n",
       "      Bokeh.set_log_level(\"info\");\n",
       "    },\n",
       "    \n",
       "    function(Bokeh) {\n",
       "      Bokeh.$(\"#6baaf73f-f6f0-481d-aece-82f592b16ad6\").text(\"BokehJS successfully loaded\");\n",
       "    },\n",
       "    function(Bokeh) {\n",
       "      console.log(\"Bokeh: injecting CSS: https://cdn.pydata.org/bokeh/release/bokeh-0.12.0.min.css\");\n",
       "      Bokeh.embed.inject_css(\"https://cdn.pydata.org/bokeh/release/bokeh-0.12.0.min.css\");\n",
       "      console.log(\"Bokeh: injecting CSS: https://cdn.pydata.org/bokeh/release/bokeh-widgets-0.12.0.min.css\");\n",
       "      Bokeh.embed.inject_css(\"https://cdn.pydata.org/bokeh/release/bokeh-widgets-0.12.0.min.css\");\n",
       "    }\n",
       "  ];\n",
       "\n",
       "  function run_inline_js() {\n",
       "    for (var i = 0; i < inline_js.length; i++) {\n",
       "      inline_js[i](window.Bokeh);\n",
       "    }\n",
       "  }\n",
       "\n",
       "  if (window._bokeh_is_loading === 0) {\n",
       "    console.log(\"Bokeh: BokehJS loaded, going straight to plotting\");\n",
       "    run_inline_js();\n",
       "  } else {\n",
       "    load_libs(js_urls, function() {\n",
       "      console.log(\"Bokeh: BokehJS plotting callback run at\", now());\n",
       "      run_inline_js();\n",
       "    });\n",
       "  }\n",
       "}(this));"
      ]
     },
     "metadata": {},
     "output_type": "display_data"
    },
    {
     "data": {
      "text/html": [
       "\n",
       "\n",
       "    <div class=\"bk-root\">\n",
       "        <div class=\"plotdiv\" id=\"c6a2225c-4112-4bd6-ac66-d56b4fb534f0\"></div>\n",
       "    </div>\n",
       "<script type=\"text/javascript\">\n",
       "  \n",
       "  (function(global) {\n",
       "    function now() {\n",
       "      return new Date();\n",
       "    }\n",
       "  \n",
       "    if (typeof (window._bokeh_onload_callbacks) === \"undefined\") {\n",
       "      window._bokeh_onload_callbacks = [];\n",
       "    }\n",
       "  \n",
       "    function run_callbacks() {\n",
       "      window._bokeh_onload_callbacks.forEach(function(callback) { callback() });\n",
       "      delete window._bokeh_onload_callbacks\n",
       "      console.info(\"Bokeh: all callbacks have finished\");\n",
       "    }\n",
       "  \n",
       "    function load_libs(js_urls, callback) {\n",
       "      window._bokeh_onload_callbacks.push(callback);\n",
       "      if (window._bokeh_is_loading > 0) {\n",
       "        console.log(\"Bokeh: BokehJS is being loaded, scheduling callback at\", now());\n",
       "        return null;\n",
       "      }\n",
       "      if (js_urls == null || js_urls.length === 0) {\n",
       "        run_callbacks();\n",
       "        return null;\n",
       "      }\n",
       "      console.log(\"Bokeh: BokehJS not loaded, scheduling load and callback at\", now());\n",
       "      window._bokeh_is_loading = js_urls.length;\n",
       "      for (var i = 0; i < js_urls.length; i++) {\n",
       "        var url = js_urls[i];\n",
       "        var s = document.createElement('script');\n",
       "        s.src = url;\n",
       "        s.async = false;\n",
       "        s.onreadystatechange = s.onload = function() {\n",
       "          window._bokeh_is_loading--;\n",
       "          if (window._bokeh_is_loading === 0) {\n",
       "            console.log(\"Bokeh: all BokehJS libraries loaded\");\n",
       "            run_callbacks()\n",
       "          }\n",
       "        };\n",
       "        s.onerror = function() {\n",
       "          console.warn(\"failed to load library \" + url);\n",
       "        };\n",
       "        console.log(\"Bokeh: injecting script tag for BokehJS library: \", url);\n",
       "        document.getElementsByTagName(\"head\")[0].appendChild(s);\n",
       "      }\n",
       "    };var element = document.getElementById(\"c6a2225c-4112-4bd6-ac66-d56b4fb534f0\");\n",
       "    if (element == null) {\n",
       "      console.log(\"Bokeh: ERROR: autoload.js configured with elementid 'c6a2225c-4112-4bd6-ac66-d56b4fb534f0' but no matching script tag was found. \")\n",
       "      return false;\n",
       "    }\n",
       "  \n",
       "    var js_urls = [];\n",
       "  \n",
       "    var inline_js = [\n",
       "      function(Bokeh) {\n",
       "        Bokeh.$(function() {\n",
       "            var docs_json = {\"60681c3b-7b39-407d-94f4-c5ac61cffac9\":{\"roots\":{\"references\":[{\"attributes\":{\"axis_label\":\"# of recipients\",\"formatter\":{\"id\":\"6438eaef-c6ae-40c4-8f2c-8ec7f66693d7\",\"type\":\"BasicTickFormatter\"},\"plot\":{\"id\":\"282cacaa-829a-4518-83ae-75641712766b\",\"subtype\":\"Figure\",\"type\":\"Plot\"},\"ticker\":{\"id\":\"ade1e458-d691-495f-8d3d-9b070cda123d\",\"type\":\"BasicTicker\"}},\"id\":\"51f05a0f-ce6d-4136-8d5d-f06bd2676f2e\",\"type\":\"LinearAxis\"},{\"attributes\":{\"data_source\":{\"id\":\"c1781b92-7a16-46f5-bc2f-81ca767eb30d\",\"type\":\"ColumnDataSource\"},\"glyph\":{\"id\":\"37290eb9-a467-4339-aabd-50ac4f045d11\",\"type\":\"Quad\"},\"hover_glyph\":null,\"nonselection_glyph\":{\"id\":\"9d172b56-000b-497b-a213-6da0795ac28b\",\"type\":\"Quad\"},\"selection_glyph\":null},\"id\":\"afc1b276-f80c-4b91-8330-a97ace22ab30\",\"type\":\"GlyphRenderer\"},{\"attributes\":{},\"id\":\"43319fce-b2b1-4eff-a866-9bcf9e9a00c6\",\"type\":\"BasicTicker\"},{\"attributes\":{\"active_drag\":\"auto\",\"active_scroll\":\"auto\",\"active_tap\":\"auto\"},\"id\":\"74da521e-64c2-4ea9-be94-cca6dc6138a9\",\"type\":\"Toolbar\"},{\"attributes\":{},\"id\":\"ade1e458-d691-495f-8d3d-9b070cda123d\",\"type\":\"BasicTicker\"},{\"attributes\":{\"axis_label\":\"Counts\",\"formatter\":{\"id\":\"6396cb06-0fd1-4e70-9c38-09ee7674490b\",\"type\":\"BasicTickFormatter\"},\"plot\":{\"id\":\"282cacaa-829a-4518-83ae-75641712766b\",\"subtype\":\"Figure\",\"type\":\"Plot\"},\"ticker\":{\"id\":\"43319fce-b2b1-4eff-a866-9bcf9e9a00c6\",\"type\":\"BasicTicker\"}},\"id\":\"513a2801-6d5d-4115-82fb-cac636f80b7b\",\"type\":\"LinearAxis\"},{\"attributes\":{},\"id\":\"6396cb06-0fd1-4e70-9c38-09ee7674490b\",\"type\":\"BasicTickFormatter\"},{\"attributes\":{\"plot\":{\"id\":\"282cacaa-829a-4518-83ae-75641712766b\",\"subtype\":\"Figure\",\"type\":\"Plot\"},\"ticker\":{\"id\":\"ade1e458-d691-495f-8d3d-9b070cda123d\",\"type\":\"BasicTicker\"}},\"id\":\"a5739ba7-5d48-40c6-ab17-f7fea0e0bb1a\",\"type\":\"Grid\"},{\"attributes\":{\"bottom\":{\"value\":0},\"fill_color\":{\"value\":\"#1f77b4\"},\"left\":{\"field\":\"left\"},\"right\":{\"field\":\"right\"},\"top\":{\"field\":\"top\"}},\"id\":\"37290eb9-a467-4339-aabd-50ac4f045d11\",\"type\":\"Quad\"},{\"attributes\":{\"bottom\":{\"value\":0},\"fill_alpha\":{\"value\":0.1},\"fill_color\":{\"value\":\"#1f77b4\"},\"left\":{\"field\":\"left\"},\"line_alpha\":{\"value\":0.1},\"line_color\":{\"value\":\"#1f77b4\"},\"right\":{\"field\":\"right\"},\"top\":{\"field\":\"top\"}},\"id\":\"9d172b56-000b-497b-a213-6da0795ac28b\",\"type\":\"Quad\"},{\"attributes\":{\"below\":[{\"id\":\"51f05a0f-ce6d-4136-8d5d-f06bd2676f2e\",\"type\":\"LinearAxis\"}],\"left\":[{\"id\":\"513a2801-6d5d-4115-82fb-cac636f80b7b\",\"type\":\"LinearAxis\"}],\"renderers\":[{\"id\":\"51f05a0f-ce6d-4136-8d5d-f06bd2676f2e\",\"type\":\"LinearAxis\"},{\"id\":\"a5739ba7-5d48-40c6-ab17-f7fea0e0bb1a\",\"type\":\"Grid\"},{\"id\":\"513a2801-6d5d-4115-82fb-cac636f80b7b\",\"type\":\"LinearAxis\"},{\"id\":\"ce026746-487b-4180-baf2-af474cefa491\",\"type\":\"Grid\"},{\"id\":\"afc1b276-f80c-4b91-8330-a97ace22ab30\",\"type\":\"GlyphRenderer\"}],\"title\":{\"id\":\"5b14c4d9-e9c3-4fee-a996-cd9045ad8817\",\"type\":\"Title\"},\"tool_events\":{\"id\":\"02d19b8a-13f4-43f9-a80a-0a6540fc8791\",\"type\":\"ToolEvents\"},\"toolbar\":{\"id\":\"74da521e-64c2-4ea9-be94-cca6dc6138a9\",\"type\":\"Toolbar\"},\"x_range\":{\"id\":\"0dd62a3e-b82c-45f1-8cff-f0c58ea8d398\",\"type\":\"DataRange1d\"},\"y_range\":{\"id\":\"b5996678-7caa-49b7-89c5-75b4b9059c19\",\"type\":\"DataRange1d\"}},\"id\":\"282cacaa-829a-4518-83ae-75641712766b\",\"subtype\":\"Figure\",\"type\":\"Plot\"},{\"attributes\":{\"plot\":null,\"text\":\"Message Recipients\"},\"id\":\"5b14c4d9-e9c3-4fee-a996-cd9045ad8817\",\"type\":\"Title\"},{\"attributes\":{\"dimension\":1,\"plot\":{\"id\":\"282cacaa-829a-4518-83ae-75641712766b\",\"subtype\":\"Figure\",\"type\":\"Plot\"},\"ticker\":{\"id\":\"43319fce-b2b1-4eff-a866-9bcf9e9a00c6\",\"type\":\"BasicTicker\"}},\"id\":\"ce026746-487b-4180-baf2-af474cefa491\",\"type\":\"Grid\"},{\"attributes\":{\"callback\":null},\"id\":\"b5996678-7caa-49b7-89c5-75b4b9059c19\",\"type\":\"DataRange1d\"},{\"attributes\":{},\"id\":\"02d19b8a-13f4-43f9-a80a-0a6540fc8791\",\"type\":\"ToolEvents\"},{\"attributes\":{\"callback\":null},\"id\":\"0dd62a3e-b82c-45f1-8cff-f0c58ea8d398\",\"type\":\"DataRange1d\"},{\"attributes\":{},\"id\":\"6438eaef-c6ae-40c4-8f2c-8ec7f66693d7\",\"type\":\"BasicTickFormatter\"},{\"attributes\":{\"callback\":null,\"column_names\":[\"top\",\"right\",\"left\"],\"data\":{\"left\":[0.5,1.5,2.5,3.5,4.5,5.5,6.5,7.5,12.5,10.5,11.5,9.5,14.5,8.5,13.5,15.5,16.5,20.5,56.5,17.5,18.5,19.5,21.5,23.5,48.5,51.5,54.5],\"right\":[1.5,2.5,3.5,4.5,5.5,6.5,7.5,8.5,13.5,11.5,12.5,10.5,15.5,9.5,14.5,16.5,17.5,21.5,57.5,18.5,19.5,20.5,22.5,24.5,49.5,52.5,55.5],\"top\":[14985,2962,1435,873,711,180,176,61,57,47,33,29,28,24,11,9,2,2,2,1,1,1,1,1,1,1,1]}},\"id\":\"c1781b92-7a16-46f5-bc2f-81ca767eb30d\",\"type\":\"ColumnDataSource\"}],\"root_ids\":[\"282cacaa-829a-4518-83ae-75641712766b\"]},\"title\":\"Bokeh Application\",\"version\":\"0.12.0\"}};\n",
       "            var render_items = [{\"docid\":\"60681c3b-7b39-407d-94f4-c5ac61cffac9\",\"elementid\":\"c6a2225c-4112-4bd6-ac66-d56b4fb534f0\",\"modelid\":\"282cacaa-829a-4518-83ae-75641712766b\",\"notebook_comms_target\":\"0557d752-34c1-426d-a1ef-9908f070bfcd\"}];\n",
       "            \n",
       "            Bokeh.embed.embed_items(docs_json, render_items);\n",
       "        });\n",
       "      },\n",
       "      function(Bokeh) {\n",
       "      }\n",
       "    ];\n",
       "  \n",
       "    function run_inline_js() {\n",
       "      for (var i = 0; i < inline_js.length; i++) {\n",
       "        inline_js[i](window.Bokeh);\n",
       "      }\n",
       "    }\n",
       "  \n",
       "    if (window._bokeh_is_loading === 0) {\n",
       "      console.log(\"Bokeh: BokehJS loaded, going straight to plotting\");\n",
       "      run_inline_js();\n",
       "    } else {\n",
       "      load_libs(js_urls, function() {\n",
       "        console.log(\"Bokeh: BokehJS plotting callback run at\", now());\n",
       "        run_inline_js();\n",
       "      });\n",
       "    }\n",
       "  }(this));\n",
       "</script>"
      ]
     },
     "metadata": {},
     "output_type": "display_data"
    },
    {
     "data": {
      "text/html": [
       "\n",
       "\n",
       "    <div class=\"bk-root\">\n",
       "        <div class=\"plotdiv\" id=\"c3731114-f8ce-4558-a3f7-de657828e150\"></div>\n",
       "    </div>\n",
       "<script type=\"text/javascript\">\n",
       "  \n",
       "  (function(global) {\n",
       "    function now() {\n",
       "      return new Date();\n",
       "    }\n",
       "  \n",
       "    if (typeof (window._bokeh_onload_callbacks) === \"undefined\") {\n",
       "      window._bokeh_onload_callbacks = [];\n",
       "    }\n",
       "  \n",
       "    function run_callbacks() {\n",
       "      window._bokeh_onload_callbacks.forEach(function(callback) { callback() });\n",
       "      delete window._bokeh_onload_callbacks\n",
       "      console.info(\"Bokeh: all callbacks have finished\");\n",
       "    }\n",
       "  \n",
       "    function load_libs(js_urls, callback) {\n",
       "      window._bokeh_onload_callbacks.push(callback);\n",
       "      if (window._bokeh_is_loading > 0) {\n",
       "        console.log(\"Bokeh: BokehJS is being loaded, scheduling callback at\", now());\n",
       "        return null;\n",
       "      }\n",
       "      if (js_urls == null || js_urls.length === 0) {\n",
       "        run_callbacks();\n",
       "        return null;\n",
       "      }\n",
       "      console.log(\"Bokeh: BokehJS not loaded, scheduling load and callback at\", now());\n",
       "      window._bokeh_is_loading = js_urls.length;\n",
       "      for (var i = 0; i < js_urls.length; i++) {\n",
       "        var url = js_urls[i];\n",
       "        var s = document.createElement('script');\n",
       "        s.src = url;\n",
       "        s.async = false;\n",
       "        s.onreadystatechange = s.onload = function() {\n",
       "          window._bokeh_is_loading--;\n",
       "          if (window._bokeh_is_loading === 0) {\n",
       "            console.log(\"Bokeh: all BokehJS libraries loaded\");\n",
       "            run_callbacks()\n",
       "          }\n",
       "        };\n",
       "        s.onerror = function() {\n",
       "          console.warn(\"failed to load library \" + url);\n",
       "        };\n",
       "        console.log(\"Bokeh: injecting script tag for BokehJS library: \", url);\n",
       "        document.getElementsByTagName(\"head\")[0].appendChild(s);\n",
       "      }\n",
       "    };var element = document.getElementById(\"c3731114-f8ce-4558-a3f7-de657828e150\");\n",
       "    if (element == null) {\n",
       "      console.log(\"Bokeh: ERROR: autoload.js configured with elementid 'c3731114-f8ce-4558-a3f7-de657828e150' but no matching script tag was found. \")\n",
       "      return false;\n",
       "    }\n",
       "  \n",
       "    var js_urls = [];\n",
       "  \n",
       "    var inline_js = [\n",
       "      function(Bokeh) {\n",
       "        Bokeh.$(function() {\n",
       "            var docs_json = {\"9f2b8353-8a77-4351-9c5b-586542a5adf0\":{\"roots\":{\"references\":[{\"attributes\":{},\"id\":\"9b13788b-6345-449e-8498-c16ae6b2f61a\",\"type\":\"BasicTickFormatter\"},{\"attributes\":{},\"id\":\"cd41d995-ffa2-4127-9935-93e5d2d31156\",\"type\":\"BasicTicker\"},{\"attributes\":{\"bottom\":{\"value\":0},\"fill_color\":{\"value\":\"#1f77b4\"},\"left\":{\"field\":\"left\"},\"right\":{\"field\":\"right\"},\"top\":{\"field\":\"top\"}},\"id\":\"82c38bdc-f83c-4a87-a5e4-7aeb504dd759\",\"type\":\"Quad\"},{\"attributes\":{\"active_drag\":\"auto\",\"active_scroll\":\"auto\",\"active_tap\":\"auto\"},\"id\":\"546f9708-05ac-4383-8a1c-8c4ee5822c07\",\"type\":\"Toolbar\"},{\"attributes\":{\"callback\":null},\"id\":\"dadefa4d-b38c-4c22-87b7-e2f39ff62d1a\",\"type\":\"DataRange1d\"},{\"attributes\":{\"plot\":null,\"text\":\"Message Recipients\"},\"id\":\"bec279f2-b938-44ac-8172-92e49d7fc41f\",\"type\":\"Title\"},{\"attributes\":{\"bottom\":{\"value\":0},\"fill_alpha\":{\"value\":0.1},\"fill_color\":{\"value\":\"#1f77b4\"},\"left\":{\"field\":\"left\"},\"line_alpha\":{\"value\":0.1},\"line_color\":{\"value\":\"#1f77b4\"},\"right\":{\"field\":\"right\"},\"top\":{\"field\":\"top\"}},\"id\":\"42ee9784-9633-4e4e-acc9-0561e896586c\",\"type\":\"Quad\"},{\"attributes\":{\"callback\":null},\"id\":\"0afc7b8b-304b-4578-97eb-68bed5cc9699\",\"type\":\"DataRange1d\"},{\"attributes\":{\"callback\":null,\"column_names\":[\"top\",\"right\",\"left\"],\"data\":{\"left\":[5.5,6.5,7.5,12.5,10.5,11.5,9.5,14.5,8.5,13.5,15.5,16.5,20.5,56.5,17.5,18.5,19.5,21.5,23.5,48.5,51.5,54.5],\"right\":[6.5,7.5,8.5,13.5,11.5,12.5,10.5,15.5,9.5,14.5,16.5,17.5,21.5,57.5,18.5,19.5,20.5,22.5,24.5,49.5,52.5,55.5],\"top\":[180,176,61,57,47,33,29,28,24,11,9,2,2,2,1,1,1,1,1,1,1,1]}},\"id\":\"7d28e4e0-932d-4693-b5a1-1c82bf5a3d4b\",\"type\":\"ColumnDataSource\"},{\"attributes\":{\"data_source\":{\"id\":\"7d28e4e0-932d-4693-b5a1-1c82bf5a3d4b\",\"type\":\"ColumnDataSource\"},\"glyph\":{\"id\":\"82c38bdc-f83c-4a87-a5e4-7aeb504dd759\",\"type\":\"Quad\"},\"hover_glyph\":null,\"nonselection_glyph\":{\"id\":\"42ee9784-9633-4e4e-acc9-0561e896586c\",\"type\":\"Quad\"},\"selection_glyph\":null},\"id\":\"fe628dba-fc38-4b20-a9fd-a2869dc5cd1d\",\"type\":\"GlyphRenderer\"},{\"attributes\":{},\"id\":\"d41de690-6cdf-43bd-81f2-3f82d1bfc69d\",\"type\":\"BasicTickFormatter\"},{\"attributes\":{\"plot\":{\"id\":\"1344c96d-adbe-4b2c-a3a8-db4c1d3dfe08\",\"subtype\":\"Figure\",\"type\":\"Plot\"},\"ticker\":{\"id\":\"ed958ede-da56-44e1-9174-a4ac43e4360b\",\"type\":\"BasicTicker\"}},\"id\":\"f7b1db04-5785-4b82-9eda-0c7ed6362fc4\",\"type\":\"Grid\"},{\"attributes\":{},\"id\":\"6207cbef-1d5e-4848-b718-44a8d1949d78\",\"type\":\"ToolEvents\"},{\"attributes\":{},\"id\":\"ed958ede-da56-44e1-9174-a4ac43e4360b\",\"type\":\"BasicTicker\"},{\"attributes\":{\"axis_label\":\"Counts\",\"formatter\":{\"id\":\"9b13788b-6345-449e-8498-c16ae6b2f61a\",\"type\":\"BasicTickFormatter\"},\"plot\":{\"id\":\"1344c96d-adbe-4b2c-a3a8-db4c1d3dfe08\",\"subtype\":\"Figure\",\"type\":\"Plot\"},\"ticker\":{\"id\":\"cd41d995-ffa2-4127-9935-93e5d2d31156\",\"type\":\"BasicTicker\"}},\"id\":\"072b1a9a-cab9-4163-bd70-fa078da41a99\",\"type\":\"LinearAxis\"},{\"attributes\":{\"below\":[{\"id\":\"9c961a08-24f1-488a-8f87-1df22e726493\",\"type\":\"LinearAxis\"}],\"left\":[{\"id\":\"072b1a9a-cab9-4163-bd70-fa078da41a99\",\"type\":\"LinearAxis\"}],\"renderers\":[{\"id\":\"9c961a08-24f1-488a-8f87-1df22e726493\",\"type\":\"LinearAxis\"},{\"id\":\"f7b1db04-5785-4b82-9eda-0c7ed6362fc4\",\"type\":\"Grid\"},{\"id\":\"072b1a9a-cab9-4163-bd70-fa078da41a99\",\"type\":\"LinearAxis\"},{\"id\":\"3de323e8-d275-498c-8514-8ad5e25e53cb\",\"type\":\"Grid\"},{\"id\":\"fe628dba-fc38-4b20-a9fd-a2869dc5cd1d\",\"type\":\"GlyphRenderer\"}],\"title\":{\"id\":\"bec279f2-b938-44ac-8172-92e49d7fc41f\",\"type\":\"Title\"},\"tool_events\":{\"id\":\"6207cbef-1d5e-4848-b718-44a8d1949d78\",\"type\":\"ToolEvents\"},\"toolbar\":{\"id\":\"546f9708-05ac-4383-8a1c-8c4ee5822c07\",\"type\":\"Toolbar\"},\"x_range\":{\"id\":\"dadefa4d-b38c-4c22-87b7-e2f39ff62d1a\",\"type\":\"DataRange1d\"},\"y_range\":{\"id\":\"0afc7b8b-304b-4578-97eb-68bed5cc9699\",\"type\":\"DataRange1d\"}},\"id\":\"1344c96d-adbe-4b2c-a3a8-db4c1d3dfe08\",\"subtype\":\"Figure\",\"type\":\"Plot\"},{\"attributes\":{\"dimension\":1,\"plot\":{\"id\":\"1344c96d-adbe-4b2c-a3a8-db4c1d3dfe08\",\"subtype\":\"Figure\",\"type\":\"Plot\"},\"ticker\":{\"id\":\"cd41d995-ffa2-4127-9935-93e5d2d31156\",\"type\":\"BasicTicker\"}},\"id\":\"3de323e8-d275-498c-8514-8ad5e25e53cb\",\"type\":\"Grid\"},{\"attributes\":{\"axis_label\":\"# of recipients\",\"formatter\":{\"id\":\"d41de690-6cdf-43bd-81f2-3f82d1bfc69d\",\"type\":\"BasicTickFormatter\"},\"plot\":{\"id\":\"1344c96d-adbe-4b2c-a3a8-db4c1d3dfe08\",\"subtype\":\"Figure\",\"type\":\"Plot\"},\"ticker\":{\"id\":\"ed958ede-da56-44e1-9174-a4ac43e4360b\",\"type\":\"BasicTicker\"}},\"id\":\"9c961a08-24f1-488a-8f87-1df22e726493\",\"type\":\"LinearAxis\"}],\"root_ids\":[\"1344c96d-adbe-4b2c-a3a8-db4c1d3dfe08\"]},\"title\":\"Bokeh Application\",\"version\":\"0.12.0\"}};\n",
       "            var render_items = [{\"docid\":\"9f2b8353-8a77-4351-9c5b-586542a5adf0\",\"elementid\":\"c3731114-f8ce-4558-a3f7-de657828e150\",\"modelid\":\"1344c96d-adbe-4b2c-a3a8-db4c1d3dfe08\",\"notebook_comms_target\":\"867e7333-789a-4716-ab0e-8eec8637c035\"}];\n",
       "            \n",
       "            Bokeh.embed.embed_items(docs_json, render_items);\n",
       "        });\n",
       "      },\n",
       "      function(Bokeh) {\n",
       "      }\n",
       "    ];\n",
       "  \n",
       "    function run_inline_js() {\n",
       "      for (var i = 0; i < inline_js.length; i++) {\n",
       "        inline_js[i](window.Bokeh);\n",
       "      }\n",
       "    }\n",
       "  \n",
       "    if (window._bokeh_is_loading === 0) {\n",
       "      console.log(\"Bokeh: BokehJS loaded, going straight to plotting\");\n",
       "      run_inline_js();\n",
       "    } else {\n",
       "      load_libs(js_urls, function() {\n",
       "        console.log(\"Bokeh: BokehJS plotting callback run at\", now());\n",
       "        run_inline_js();\n",
       "      });\n",
       "    }\n",
       "  }(this));\n",
       "</script>"
      ]
     },
     "metadata": {},
     "output_type": "display_data"
    },
    {
     "data": {
      "text/html": [
       "<p><code>&lt;Bokeh Notebook handle for <strong>In[67]</strong>&gt;</code></p>"
      ],
      "text/plain": [
       "<bokeh.io._CommsHandle at 0xa99fc88>"
      ]
     },
     "execution_count": 67,
     "metadata": {},
     "output_type": "execute_result"
    }
   ],
   "source": [
    "# 5\n",
    "from collections import Counter\n",
    "counts = Counter(RecipientBase.groupby('mid')['to_eid'].count())\n",
    "\n",
    "\n",
    "from bokeh.plotting import figure,show,output_notebook\n",
    "output_notebook()\n",
    "\n",
    "x = [i[0] for i in counts.most_common()]\n",
    "y = [i[1] for i in counts.most_common()]\n",
    "left_border = [val-0.5 for val in x]\n",
    "right_border = [val+0.5 for val in x]\n",
    "\n",
    "\n",
    "p= figure(title=\"Message Recipients\",tools='',x_axis_label='# of recipients',y_axis_label='Counts')\n",
    "p.quad(top=y,left=left_border,right=right_border,bottom=0,line_color='black')\n",
    "show(p)\n",
    "\n",
    "############## new cell ##########\n",
    "\n",
    "x = [i[0] for i in counts.most_common()[5:]]  # chop off the first 5\n",
    "y = [i[1] for i in counts.most_common()[5:]]  # chop off the first 5\n",
    "left_border = [val-0.5 for val in x]\n",
    "right_border = [val+0.5 for val in x]\n",
    "\n",
    "\n",
    "p= figure(title=\"Message Recipients\",tools='',x_axis_label='# of recipients',y_axis_label='Counts')\n",
    "p.quad(top=y,left=left_border,right=right_border,bottom=0,line_color='black')\n",
    "show(p)"
   ]
  },
  {
   "cell_type": "markdown",
   "metadata": {},
   "source": [
    "Rescale to investigate the tail of the curve"
   ]
  },
  {
   "cell_type": "code",
   "execution_count": null,
   "metadata": {
    "collapsed": false
   },
   "outputs": [],
   "source": []
  },
  {
   "cell_type": "markdown",
   "metadata": {},
   "source": [
    "## 3. Data Merging\n",
    "\n",
    "Use the pandas merge function to combine the information in the 3 dataframes to answer the following questions:\n",
    "\n",
    "1. Are there more Men or Women employees?\n",
    "- How is gender distributed across departments?\n",
    "- Who is sending more emails? Men or Women?\n",
    "- What's the average number of emails sent by each gender?\n",
    "- Are there more Juniors or Seniors?\n",
    "- Who is sending more emails? Juniors or Seniors?\n",
    "- Which department is sending more emails? How does that relate with the number of employees in the department?\n",
    "- Who are the top 3 senders of emails? (people who sent out the most emails)"
   ]
  },
  {
   "cell_type": "code",
   "execution_count": 71,
   "metadata": {
    "collapsed": false
   },
   "outputs": [
    {
     "data": {
      "text/plain": [
       "Male      113\n",
       "Female     43\n",
       "Name: gender, dtype: int64"
      ]
     },
     "execution_count": 71,
     "metadata": {},
     "output_type": "execute_result"
    }
   ],
   "source": [
    "EmployeeBase.gender.value_counts()"
   ]
  },
  {
   "cell_type": "code",
   "execution_count": 74,
   "metadata": {
    "collapsed": false
   },
   "outputs": [
    {
     "data": {
      "text/plain": [
       "Male      0.724359\n",
       "Female    0.275641\n",
       "Name: gender, dtype: float64"
      ]
     },
     "execution_count": 74,
     "metadata": {},
     "output_type": "execute_result"
    }
   ],
   "source": [
    "EmployeeBase.gender.value_counts() / EmployeeBase.gender.count()"
   ]
  },
  {
   "cell_type": "code",
   "execution_count": 75,
   "metadata": {
    "collapsed": false
   },
   "outputs": [
    {
     "data": {
      "text/plain": [
       "department  gender\n",
       "Forestry    Male      0.833333\n",
       "            Female    0.166667\n",
       "Legal       Female    0.520000\n",
       "            Male      0.480000\n",
       "Other       Male      0.718310\n",
       "            Female    0.281690\n",
       "Name: gender, dtype: float64"
      ]
     },
     "execution_count": 75,
     "metadata": {},
     "output_type": "execute_result"
    }
   ],
   "source": [
    "EmployeeBase.groupby('department')['gender'].value_counts() / EmployeeBase.groupby('department')['gender'].count()"
   ]
  },
  {
   "cell_type": "code",
   "execution_count": 76,
   "metadata": {
    "collapsed": false
   },
   "outputs": [
    {
     "data": {
      "text/plain": [
       "Male      0.593529\n",
       "Female    0.406471\n",
       "Name: gender, dtype: float64"
      ]
     },
     "execution_count": 76,
     "metadata": {},
     "output_type": "execute_result"
    }
   ],
   "source": [
    "df = pd.merge(EmployeeBase,MessageBase, left_on='eid',right_on='from_eid' )\n",
    "df.gender.value_counts() /df.gender.count()"
   ]
  },
  {
   "cell_type": "code",
   "execution_count": 77,
   "metadata": {
    "collapsed": false
   },
   "outputs": [
    {
     "data": {
      "text/plain": [
       "Junior    82\n",
       "Senior    74\n",
       "Name: seniority, dtype: int64"
      ]
     },
     "execution_count": 77,
     "metadata": {},
     "output_type": "execute_result"
    }
   ],
   "source": [
    "EmployeeBase.seniority.value_counts()"
   ]
  },
  {
   "cell_type": "code",
   "execution_count": 79,
   "metadata": {
    "collapsed": false
   },
   "outputs": [
    {
     "data": {
      "text/plain": [
       "Senior    12439\n",
       "Junior     9196\n",
       "Name: seniority, dtype: int64"
      ]
     },
     "execution_count": 79,
     "metadata": {},
     "output_type": "execute_result"
    }
   ],
   "source": [
    "df.seniority.value_counts()"
   ]
  },
  {
   "cell_type": "code",
   "execution_count": 100,
   "metadata": {
    "collapsed": false
   },
   "outputs": [
    {
     "data": {
      "text/plain": [
       "seniority  name           \n",
       "Junior     Tana Jones         1379\n",
       "           Sara Shackleton    1142\n",
       "           Chris Germany       443\n",
       "Name: name, dtype: int64"
      ]
     },
     "execution_count": 100,
     "metadata": {},
     "output_type": "execute_result"
    }
   ],
   "source": [
    "df.groupby('seniority')['name'].value_counts()[:3]"
   ]
  },
  {
   "cell_type": "code",
   "execution_count": 90,
   "metadata": {
    "collapsed": false
   },
   "outputs": [
    {
     "data": {
      "text/plain": [
       "Legal       0.480518\n",
       "Other       0.316709\n",
       "Forestry    0.202773\n",
       "Name: department, dtype: float64"
      ]
     },
     "execution_count": 90,
     "metadata": {},
     "output_type": "execute_result"
    }
   ],
   "source": [
    "df.department.value_counts() / df.department.count()"
   ]
  },
  {
   "cell_type": "code",
   "execution_count": 68,
   "metadata": {
    "collapsed": false
   },
   "outputs": [
    {
     "data": {
      "text/html": [
       "<div>\n",
       "<table border=\"1\" class=\"dataframe\">\n",
       "  <thead>\n",
       "    <tr style=\"text-align: right;\">\n",
       "      <th></th>\n",
       "      <th>eid</th>\n",
       "      <th>name</th>\n",
       "      <th>department</th>\n",
       "      <th>longdepartment</th>\n",
       "      <th>title</th>\n",
       "      <th>gender</th>\n",
       "      <th>seniority</th>\n",
       "    </tr>\n",
       "  </thead>\n",
       "  <tbody>\n",
       "    <tr>\n",
       "      <th>0</th>\n",
       "      <td>1</td>\n",
       "      <td>John Arnold</td>\n",
       "      <td>Forestry</td>\n",
       "      <td>ENA Gas Financial</td>\n",
       "      <td>VP Trading</td>\n",
       "      <td>Male</td>\n",
       "      <td>Senior</td>\n",
       "    </tr>\n",
       "  </tbody>\n",
       "</table>\n",
       "</div>"
      ],
      "text/plain": [
       "   eid         name department     longdepartment       title gender seniority\n",
       "0    1  John Arnold   Forestry  ENA Gas Financial  VP Trading   Male    Senior"
      ]
     },
     "execution_count": 68,
     "metadata": {},
     "output_type": "execute_result"
    }
   ],
   "source": [
    "EmployeeBase.head(1)"
   ]
  },
  {
   "cell_type": "code",
   "execution_count": 69,
   "metadata": {
    "collapsed": false
   },
   "outputs": [
    {
     "data": {
      "text/html": [
       "<div>\n",
       "<table border=\"1\" class=\"dataframe\">\n",
       "  <thead>\n",
       "    <tr style=\"text-align: right;\">\n",
       "      <th></th>\n",
       "      <th>mid</th>\n",
       "      <th>filename</th>\n",
       "      <th>unix_time</th>\n",
       "      <th>subject</th>\n",
       "      <th>from_eid</th>\n",
       "      <th>time</th>\n",
       "    </tr>\n",
       "  </thead>\n",
       "  <tbody>\n",
       "    <tr>\n",
       "      <th>0</th>\n",
       "      <td>1</td>\n",
       "      <td>taylor-m/sent/11</td>\n",
       "      <td>910930020</td>\n",
       "      <td>Cd$ CME letter</td>\n",
       "      <td>138</td>\n",
       "      <td>1998-11-13 04:07:00</td>\n",
       "    </tr>\n",
       "  </tbody>\n",
       "</table>\n",
       "</div>"
      ],
      "text/plain": [
       "   mid          filename  unix_time         subject  from_eid  \\\n",
       "0    1  taylor-m/sent/11  910930020  Cd$ CME letter       138   \n",
       "\n",
       "                 time  \n",
       "0 1998-11-13 04:07:00  "
      ]
     },
     "execution_count": 69,
     "metadata": {},
     "output_type": "execute_result"
    }
   ],
   "source": [
    "MessageBase.head(1)"
   ]
  },
  {
   "cell_type": "code",
   "execution_count": 70,
   "metadata": {
    "collapsed": false
   },
   "outputs": [
    {
     "data": {
      "text/html": [
       "<div>\n",
       "<table border=\"1\" class=\"dataframe\">\n",
       "  <thead>\n",
       "    <tr style=\"text-align: right;\">\n",
       "      <th></th>\n",
       "      <th>mid</th>\n",
       "      <th>rno</th>\n",
       "      <th>to_eid</th>\n",
       "    </tr>\n",
       "  </thead>\n",
       "  <tbody>\n",
       "    <tr>\n",
       "      <th>0</th>\n",
       "      <td>1</td>\n",
       "      <td>1</td>\n",
       "      <td>59</td>\n",
       "    </tr>\n",
       "  </tbody>\n",
       "</table>\n",
       "</div>"
      ],
      "text/plain": [
       "   mid  rno  to_eid\n",
       "0    1    1      59"
      ]
     },
     "execution_count": 70,
     "metadata": {},
     "output_type": "execute_result"
    }
   ],
   "source": [
    "RecipientBase.head(1)"
   ]
  },
  {
   "cell_type": "markdown",
   "metadata": {},
   "source": [
    "Answer the following questions regarding received messages:\n",
    "\n",
    "- Who is receiving more emails? Men or Women?\n",
    "- Who is receiving more emails? Juniors or Seniors?\n",
    "- Which department is receiving more emails? How does that relate with the number of employees in the department?\n",
    "- Who are the top 5 receivers of emails? (people who received the most emails)"
   ]
  },
  {
   "cell_type": "code",
   "execution_count": null,
   "metadata": {
    "collapsed": true
   },
   "outputs": [],
   "source": []
  },
  {
   "cell_type": "markdown",
   "metadata": {},
   "source": [
    "Which employees sent the most 'mass' emails?"
   ]
  },
  {
   "cell_type": "code",
   "execution_count": null,
   "metadata": {
    "collapsed": false
   },
   "outputs": [],
   "source": []
  },
  {
   "cell_type": "markdown",
   "metadata": {},
   "source": [
    "Keep exploring the dataset, which other questions would you ask?\n",
    "\n",
    "Work in pairs. Give each other a challenge and try to solve it."
   ]
  }
 ],
 "metadata": {
  "kernelspec": {
   "display_name": "Python [Root]",
   "language": "python",
   "name": "Python [Root]"
  },
  "language_info": {
   "codemirror_mode": {
    "name": "ipython",
    "version": 2
   },
   "file_extension": ".py",
   "mimetype": "text/x-python",
   "name": "python",
   "nbconvert_exporter": "python",
   "pygments_lexer": "ipython2",
   "version": "2.7.12"
  }
 },
 "nbformat": 4,
 "nbformat_minor": 0
}
