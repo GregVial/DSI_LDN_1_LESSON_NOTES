{
 "cells": [
  {
   "cell_type": "markdown",
   "metadata": {},
   "source": [
    "# Further Model Evaluation, Multinomial Logistic Regression, and Regularisation"
   ]
  },
  {
   "cell_type": "code",
   "execution_count": 43,
   "metadata": {
    "collapsed": false
   },
   "outputs": [],
   "source": [
    "import numpy as np\n",
    "import pandas as pd\n",
    "from patsy import dmatrix\n",
    "\n",
    "from sklearn.metrics import classification_report, confusion_matrix, accuracy_score\n",
    "from sklearn.model_selection import train_test_split\n",
    "from sklearn.linear_model import LogisticRegression, LogisticRegressionCV\n",
    "from sklearn.model_selection import GridSearchCV\n",
    "\n",
    "import matplotlib.pyplot as plt\n",
    "import itertools"
   ]
  },
  {
   "cell_type": "code",
   "execution_count": 2,
   "metadata": {
    "collapsed": true
   },
   "outputs": [],
   "source": [
    "pd.set_option(\"display.max_columns\", 100)"
   ]
  },
  {
   "cell_type": "markdown",
   "metadata": {},
   "source": [
    "## Ridge (l2) and Lasso (l1) Regularisation applied to Logistic Regression"
   ]
  },
  {
   "cell_type": "markdown",
   "metadata": {},
   "source": [
    "Ridge and lasso regularisation have been discussed in the context of linear regression. Similarly in the case of logistic regression, ridge is adding a penalty term in relation to the square of coefficients (hence l2) and lasso is adding a term in relation to the absolute value of coefficients (l1) when penalising increasing magnitude of coefficients in the fit. \n",
    "\n",
    "This aims to reduce the influence of individual terms in order to mitigate overfitting (this forms a prior on our expected outcome, in the context of Bayesian statistics). This penalty term is then removed from the log likelihood calculation (which is the term we seek to maximise when iterating the logistic regression function to find the fit of coefficients, this is something that is performed under the hood of the fitting algorithm).\n",
    "\n",
    "Something we did not discuss is that in the sklearn implementation of logistic regression, such regularisation is applied by default. In fact l2 regularisation is the default, and it is not actually possible to turn this off (only to select l2 or l1). How can we affect this regularisation, to tune its impact? We have a C score hyperparameter which we can tune, which is the inverse of the regularisation strength (usually termed lambda). Slightly confusingly, this means that the larger C is the smaller the regularisation effect. If we wanted to produce a case without regularisation, we can hence set C to an absurdly high number (such as 1e10).\n",
    "\n",
    "But how can we decide on what the best value of C is for our particular case? We can perform a grid search to test a range of values, and sklearn implements this quite straightforwardly."
   ]
  },
  {
   "cell_type": "markdown",
   "metadata": {},
   "source": [
    "## Grid Search and setting C hyperparameter in the context of Binomial Logistic Regression"
   ]
  },
  {
   "cell_type": "markdown",
   "metadata": {},
   "source": [
    "In order not to cover too many topics at once, let's check out the grid search process for a binomial logistic regression\n",
    "before we take a look at the multinomial case. We can go back to a dataset we modelled previously."
   ]
  },
  {
   "cell_type": "code",
   "execution_count": 3,
   "metadata": {
    "collapsed": false
   },
   "outputs": [
    {
     "data": {
      "text/html": [
       "<div>\n",
       "<table border=\"1\" class=\"dataframe\">\n",
       "  <thead>\n",
       "    <tr style=\"text-align: right;\">\n",
       "      <th></th>\n",
       "      <th>fixed_acidity</th>\n",
       "      <th>volatile_acidity</th>\n",
       "      <th>citric_acid</th>\n",
       "      <th>residual_sugar</th>\n",
       "      <th>chlorides</th>\n",
       "      <th>free_sulfur_dioxide</th>\n",
       "      <th>total_sulfur_dioxide</th>\n",
       "      <th>density</th>\n",
       "      <th>pH</th>\n",
       "      <th>sulphates</th>\n",
       "      <th>alcohol</th>\n",
       "      <th>quality</th>\n",
       "      <th>color</th>\n",
       "      <th>is_red</th>\n",
       "      <th>high_quality</th>\n",
       "    </tr>\n",
       "  </thead>\n",
       "  <tbody>\n",
       "    <tr>\n",
       "      <th>0</th>\n",
       "      <td>7.4</td>\n",
       "      <td>0.70</td>\n",
       "      <td>0.00</td>\n",
       "      <td>1.9</td>\n",
       "      <td>0.076</td>\n",
       "      <td>11.0</td>\n",
       "      <td>34.0</td>\n",
       "      <td>0.9978</td>\n",
       "      <td>3.51</td>\n",
       "      <td>0.56</td>\n",
       "      <td>9.4</td>\n",
       "      <td>5</td>\n",
       "      <td>red</td>\n",
       "      <td>1.0</td>\n",
       "      <td>0.0</td>\n",
       "    </tr>\n",
       "    <tr>\n",
       "      <th>1</th>\n",
       "      <td>7.8</td>\n",
       "      <td>0.88</td>\n",
       "      <td>0.00</td>\n",
       "      <td>2.6</td>\n",
       "      <td>0.098</td>\n",
       "      <td>25.0</td>\n",
       "      <td>67.0</td>\n",
       "      <td>0.9968</td>\n",
       "      <td>3.20</td>\n",
       "      <td>0.68</td>\n",
       "      <td>9.8</td>\n",
       "      <td>5</td>\n",
       "      <td>red</td>\n",
       "      <td>1.0</td>\n",
       "      <td>0.0</td>\n",
       "    </tr>\n",
       "    <tr>\n",
       "      <th>2</th>\n",
       "      <td>7.8</td>\n",
       "      <td>0.76</td>\n",
       "      <td>0.04</td>\n",
       "      <td>2.3</td>\n",
       "      <td>0.092</td>\n",
       "      <td>15.0</td>\n",
       "      <td>54.0</td>\n",
       "      <td>0.9970</td>\n",
       "      <td>3.26</td>\n",
       "      <td>0.65</td>\n",
       "      <td>9.8</td>\n",
       "      <td>5</td>\n",
       "      <td>red</td>\n",
       "      <td>1.0</td>\n",
       "      <td>0.0</td>\n",
       "    </tr>\n",
       "    <tr>\n",
       "      <th>3</th>\n",
       "      <td>11.2</td>\n",
       "      <td>0.28</td>\n",
       "      <td>0.56</td>\n",
       "      <td>1.9</td>\n",
       "      <td>0.075</td>\n",
       "      <td>17.0</td>\n",
       "      <td>60.0</td>\n",
       "      <td>0.9980</td>\n",
       "      <td>3.16</td>\n",
       "      <td>0.58</td>\n",
       "      <td>9.8</td>\n",
       "      <td>6</td>\n",
       "      <td>red</td>\n",
       "      <td>1.0</td>\n",
       "      <td>0.0</td>\n",
       "    </tr>\n",
       "    <tr>\n",
       "      <th>4</th>\n",
       "      <td>7.4</td>\n",
       "      <td>0.70</td>\n",
       "      <td>0.00</td>\n",
       "      <td>1.9</td>\n",
       "      <td>0.076</td>\n",
       "      <td>11.0</td>\n",
       "      <td>34.0</td>\n",
       "      <td>0.9978</td>\n",
       "      <td>3.51</td>\n",
       "      <td>0.56</td>\n",
       "      <td>9.4</td>\n",
       "      <td>5</td>\n",
       "      <td>red</td>\n",
       "      <td>1.0</td>\n",
       "      <td>0.0</td>\n",
       "    </tr>\n",
       "  </tbody>\n",
       "</table>\n",
       "</div>"
      ],
      "text/plain": [
       "   fixed_acidity  volatile_acidity  citric_acid  residual_sugar  chlorides  \\\n",
       "0            7.4              0.70         0.00             1.9      0.076   \n",
       "1            7.8              0.88         0.00             2.6      0.098   \n",
       "2            7.8              0.76         0.04             2.3      0.092   \n",
       "3           11.2              0.28         0.56             1.9      0.075   \n",
       "4            7.4              0.70         0.00             1.9      0.076   \n",
       "\n",
       "   free_sulfur_dioxide  total_sulfur_dioxide  density    pH  sulphates  \\\n",
       "0                 11.0                  34.0   0.9978  3.51       0.56   \n",
       "1                 25.0                  67.0   0.9968  3.20       0.68   \n",
       "2                 15.0                  54.0   0.9970  3.26       0.65   \n",
       "3                 17.0                  60.0   0.9980  3.16       0.58   \n",
       "4                 11.0                  34.0   0.9978  3.51       0.56   \n",
       "\n",
       "   alcohol  quality color  is_red  high_quality  \n",
       "0      9.4        5   red     1.0           0.0  \n",
       "1      9.8        5   red     1.0           0.0  \n",
       "2      9.8        5   red     1.0           0.0  \n",
       "3      9.8        6   red     1.0           0.0  \n",
       "4      9.4        5   red     1.0           0.0  "
      ]
     },
     "execution_count": 3,
     "metadata": {},
     "output_type": "execute_result"
    }
   ],
   "source": [
    "# here is the wine dataset - we are predicting high quality\n",
    "df = pd.read_csv(\"https://s3.amazonaws.com/demo-datasets/wine.csv\")\n",
    "df.head()"
   ]
  },
  {
   "cell_type": "code",
   "execution_count": 4,
   "metadata": {
    "collapsed": true
   },
   "outputs": [],
   "source": [
    "# Let's fit a model with sklearn\n",
    "X=df[[\"density\",\"pH\", \"alcohol\"]]\n",
    "y=df[\"high_quality\"]\n",
    "\n",
    "# train test split with a stratify term on the outcome to keep datasets balanced on the three outcomes\n",
    "X_train, X_test, Y_train, Y_test = train_test_split(X, y, test_size=0.33, stratify=y, random_state=77)"
   ]
  },
  {
   "cell_type": "code",
   "execution_count": 5,
   "metadata": {
    "collapsed": false
   },
   "outputs": [],
   "source": [
    "model1=LogisticRegression()\n",
    "model1.fit(X_train, Y_train)\n",
    "predictions1=model1.predict(X_test)"
   ]
  },
  {
   "cell_type": "code",
   "execution_count": 6,
   "metadata": {
    "collapsed": false
   },
   "outputs": [
    {
     "data": {
      "text/plain": [
       "array([[1666,   57],\n",
       "       [ 341,   81]])"
      ]
     },
     "execution_count": 6,
     "metadata": {},
     "output_type": "execute_result"
    }
   ],
   "source": [
    "cnf_matrix=confusion_matrix(Y_test, predictions1)\n",
    "cnf_matrix"
   ]
  },
  {
   "cell_type": "code",
   "execution_count": 7,
   "metadata": {
    "collapsed": false
   },
   "outputs": [],
   "source": [
    "# As we know, this output of a confusion matrix is a bit awkward and confusing\n",
    "# Here is some nice code to plot a confusion matrix in an easier to read way,\n",
    "# this is from sklearn's documentation\n",
    "\n",
    "def plot_confusion_matrix(cm, classes, title='Confusion matrix', cmap=plt.cm.Blues):\n",
    "    plt.imshow(cm, interpolation='nearest', cmap=cmap)\n",
    "    plt.title(title)\n",
    "    plt.colorbar()\n",
    "    tick_marks = np.arange(len(classes))\n",
    "    plt.xticks(tick_marks, classes, rotation=45)\n",
    "    plt.yticks(tick_marks, classes)\n",
    "    thresh = cm.max() / 2.\n",
    "    for i, j in itertools.product(range(cm.shape[0]), range(cm.shape[1])):\n",
    "        plt.text(j, i, cm[i, j],\n",
    "                 horizontalalignment=\"center\",\n",
    "                 color=\"white\" if cm[i, j] > thresh else \"black\")\n",
    "    plt.ylabel('True label')\n",
    "    plt.xlabel('Predicted label')\n",
    "    plt.show()\n",
    "    return"
   ]
  },
  {
   "cell_type": "code",
   "execution_count": null,
   "metadata": {
    "collapsed": false
   },
   "outputs": [],
   "source": [
    "# Plot confusion matrix\n",
    "plot_confusion_matrix(cnf_matrix, classes=model1.classes_)"
   ]
  },
  {
   "cell_type": "code",
   "execution_count": 8,
   "metadata": {
    "collapsed": false
   },
   "outputs": [
    {
     "data": {
      "text/plain": [
       "array([[1666,   57],\n",
       "       [ 341,   81]])"
      ]
     },
     "execution_count": 8,
     "metadata": {},
     "output_type": "execute_result"
    }
   ],
   "source": [
    "# Not a great classifer, but anyway let's talk about the regularisation going on here\n",
    "# in fact, LogisticRegression() is implementing the following as default\n",
    "\n",
    "model1=LogisticRegression(penalty='l2', C=1.0)\n",
    "model1.fit(X_train, Y_train)\n",
    "predictions1=model1.predict(X_test)\n",
    "cnf_matrix=confusion_matrix(Y_test, predictions1)\n",
    "cnf_matrix"
   ]
  },
  {
   "cell_type": "code",
   "execution_count": 9,
   "metadata": {
    "collapsed": false,
    "scrolled": true
   },
   "outputs": [
    {
     "data": {
      "text/plain": [
       "array([[1675,   48],\n",
       "       [ 338,   84]])"
      ]
     },
     "execution_count": 9,
     "metadata": {},
     "output_type": "execute_result"
    }
   ],
   "source": [
    "# And you can see the result is the same, because this is what we ran the first time anyway without\n",
    "# inputting any values as these are the default. If we change the hyperparameter C we can change the fit\n",
    "\n",
    "model2=LogisticRegression(C=100)\n",
    "model2.fit(X_train, Y_train)\n",
    "predictions2=model2.predict(X_test)\n",
    "cnf_matrix2=confusion_matrix(Y_test, predictions2)\n",
    "cnf_matrix2"
   ]
  },
  {
   "cell_type": "code",
   "execution_count": 10,
   "metadata": {
    "collapsed": false
   },
   "outputs": [
    {
     "name": "stdout",
     "output_type": "stream",
     "text": [
      "0.814452214452\n",
      "0.820046620047\n"
     ]
    }
   ],
   "source": [
    "# Below is the accuracy, by which sklearn is generally optimising when running a cross validation\n",
    "# (though check for any particular model what 'score' returns by looking at the documentation)\n",
    "\n",
    "print(model1.score(X_test, Y_test))\n",
    "print(model2.score(X_test, Y_test))"
   ]
  },
  {
   "cell_type": "code",
   "execution_count": 11,
   "metadata": {
    "collapsed": false
   },
   "outputs": [
    {
     "data": {
      "text/plain": [
       "array([  1.00000000e-04,   3.72759372e-04,   1.38949549e-03,\n",
       "         5.17947468e-03,   1.93069773e-02,   7.19685673e-02,\n",
       "         2.68269580e-01,   1.00000000e+00,   3.72759372e+00,\n",
       "         1.38949549e+01,   5.17947468e+01,   1.93069773e+02,\n",
       "         7.19685673e+02,   2.68269580e+03,   1.00000000e+04])"
      ]
     },
     "execution_count": 11,
     "metadata": {},
     "output_type": "execute_result"
    }
   ],
   "source": [
    "# Looks like the second C was better than the first, so I guess we should tune this!\n",
    "# Ok, all these things to tune is getting exhausting! Well, that's actually what being a data scientist\n",
    "# is about :) But don't worry, sklearn can at least make this easier with grid search to iterate over\n",
    "# different C values to test which gives the best cross validation accuracy results. That sounds good to me!\n",
    "# What is the liblinear? This is the solver used for maximising the log likelihood, we state it explicitly\n",
    "# here to ensure consistent results (generally you can trust sklearn to use the most computationally\n",
    "# optimal solving algorithm)\n",
    "\n",
    "logreg_cv1 = LogisticRegressionCV(Cs=15, cv=5, random_state=5, solver='liblinear')\n",
    "logreg_cv1.fit(X_train, Y_train)\n",
    "logreg_cv1.Cs_"
   ]
  },
  {
   "cell_type": "code",
   "execution_count": 14,
   "metadata": {
    "collapsed": false
   },
   "outputs": [
    {
     "name": "stdout",
     "output_type": "stream",
     "text": [
      "13.8949549437\n"
     ]
    }
   ],
   "source": [
    "# So here when we input Cs=15, we are saying we want a logarithmic range of 15 different Cs spanning\n",
    "# the range from 1e-4 to 1e4, and if we call the .Cs_ we output the Cs that were actually used\n",
    "# in the CV cycle of fittings. But which was the best one? The one which best fits the scoring metrics\n",
    "# out of the ones tested is called with .C_ (in this case, we used the accuracy score)\n",
    "\n",
    "best_C=logreg_cv1.C_\n",
    "best_C=float(best_C)\n",
    "print(best_C)"
   ]
  },
  {
   "cell_type": "code",
   "execution_count": 15,
   "metadata": {
    "collapsed": false
   },
   "outputs": [
    {
     "data": {
      "text/plain": [
       "{1.0: array([[ 0.80367394,  0.80367394,  0.80367394,  0.80367394,  0.80482204,\n",
       "          0.80137773,  0.80022962,  0.81056257,  0.80826636,  0.80941447,\n",
       "          0.80941447,  0.80941447,  0.80941447,  0.80941447,  0.80941447],\n",
       "        [ 0.80367394,  0.80367394,  0.80367394,  0.80367394,  0.80367394,\n",
       "          0.81171068,  0.81745121,  0.82319173,  0.81974742,  0.82204363,\n",
       "          0.82319173,  0.82319173,  0.82319173,  0.82319173,  0.82319173],\n",
       "        [ 0.80344828,  0.80344828,  0.80344828,  0.80344828,  0.80344828,\n",
       "          0.8045977 ,  0.81494253,  0.81609195,  0.8183908 ,  0.81954023,\n",
       "          0.81494253,  0.8137931 ,  0.81149425,  0.81149425,  0.81149425],\n",
       "        [ 0.80344828,  0.80344828,  0.80344828,  0.80344828,  0.80229885,\n",
       "          0.80114943,  0.79885057,  0.80344828,  0.8045977 ,  0.80574713,\n",
       "          0.80574713,  0.80574713,  0.80574713,  0.80574713,  0.80574713],\n",
       "        [ 0.80344828,  0.80344828,  0.80344828,  0.80344828,  0.80229885,\n",
       "          0.80229885,  0.81149425,  0.80689655,  0.81264368,  0.8091954 ,\n",
       "          0.80804598,  0.80804598,  0.80804598,  0.80804598,  0.80804598]])}"
      ]
     },
     "execution_count": 15,
     "metadata": {},
     "output_type": "execute_result"
    }
   ],
   "source": [
    "# You can return the scores with this, they were all pretty similar in this case\n",
    "\n",
    "logreg_cv1.scores_"
   ]
  },
  {
   "cell_type": "code",
   "execution_count": 16,
   "metadata": {
    "collapsed": false
   },
   "outputs": [
    {
     "data": {
      "text/plain": [
       "array([[1675,   48],\n",
       "       [ 338,   84]])"
      ]
     },
     "execution_count": 16,
     "metadata": {},
     "output_type": "execute_result"
    }
   ],
   "source": [
    "# So now we can run our logistic regression model with the C parameter we decided upon\n",
    "\n",
    "model3=LogisticRegression(C=best_C)\n",
    "model3.fit(X_train, Y_train)\n",
    "predictions3=model3.predict(X_test)\n",
    "cnf_matrix3=confusion_matrix(Y_test, predictions3)\n",
    "cnf_matrix3\n",
    "plot_confusion_matrix(cnf_matrix3, classes=model3.classes_)"
   ]
  },
  {
   "cell_type": "code",
   "execution_count": 17,
   "metadata": {
    "collapsed": false
   },
   "outputs": [
    {
     "name": "stdout",
     "output_type": "stream",
     "text": [
      "0.820046620047\n"
     ]
    }
   ],
   "source": [
    "# So this is our best accuracy\n",
    "print(model3.score(X_test, Y_test))"
   ]
  },
  {
   "cell_type": "markdown",
   "metadata": {},
   "source": [
    "## Multinomial Logistic Regression and Grid Search"
   ]
  },
  {
   "cell_type": "markdown",
   "metadata": {},
   "source": [
    "Ok, so now we have some idea about this process let's also investigate for a multinomial logistic regression.\n",
    "\n",
    "Previously we have introduced logistic regression as a format to return a probability for being in one of two classes\n",
    "(e.g. defaulted on loan or not, passed test or not). However, we can also use logistic regression for multiclass problems. This is multinomial logistic regression (as opposed to binomial logistic regression). An example might\n",
    "be whether someone will buy one of five different products from your website, depending on their browsing habits and geolocation.\n",
    "\n",
    "In this case, we consider separate logistic fits for each outcome (actually, each outcome minus one) and then compare the results with each other (all within one model implementation).\n",
    "\n",
    "For this to work there are some assumptions, such as that only one outcome is valid (i.e. outcomes should be mutually exclusive). They are also complete, in that there isn't another possible outcome (or rather, our model will miss this information if it is not included in the fit).\n",
    "\n",
    "You can fit this in such a way that each possible outcome is fit against all others (one-vs-rest), and this is then cycled through for each of the possible outcomes (actually the total number of outcomes minus one, and you calculate the last probability by just seeing what the remaining probability is compared to a total of 1). Hence rather than fitting an outcome vs no outcome binomial case, you are fitting for an outcome vs all other outcomes multinomial case (note that it's also possible to implement a separate multinomial classifier algorithm, but we need not get into this distinction).\n",
    "\n",
    "Hence, with each cycle through, you find the probability of one outcome (so that's your 1 in the binary case) compared to any other outcome (so that's your 0). You then go through the other cases until (if there are n outcomes) you have fit n-1 cases, and for the last you compare the sum of the previous probabilities to 1 so that in each case the total probability sums to 1 - meaning you have covered all possible outcomes in the model."
   ]
  },
  {
   "cell_type": "code",
   "execution_count": 20,
   "metadata": {
    "collapsed": false
   },
   "outputs": [],
   "source": [
    "# Let's get another dataset from our favourite site, kaggle\n",
    "# This one is https://www.kaggle.com/c/sf-crime/data\n",
    "# Please download and put in the same directory as this file\n",
    "\n",
    "sf_crime = pd.read_csv(\"train.csv.zip\")\n",
    "sf_crime = sf_crime.dropna()\n",
    "sf_crime['Dates'] = pd.to_datetime(sf_crime.Dates)\n",
    "sf_crime['hour'] = sf_crime['Dates'].dt.hour\n",
    "sf_crime['month'] = sf_crime['Dates'].dt.month\n",
    "sf_crime['year'] = sf_crime['Dates'].dt.year"
   ]
  },
  {
   "cell_type": "code",
   "execution_count": 42,
   "metadata": {
    "collapsed": false
   },
   "outputs": [],
   "source": [
    "categories_to_use = ['VEHICLE THEFT','BURGLARY','DRUG/NARCOTIC']\n",
    "sf_crime_sub = sf_crime[sf_crime['Category'].str.contains('|'.join(categories_to_use))]\n",
    "sf_crime_sub=sf_crime_sub.loc[0:200000,:]"
   ]
  },
  {
   "cell_type": "code",
   "execution_count": 40,
   "metadata": {
    "collapsed": false
   },
   "outputs": [],
   "source": [
    "# subset out these columns as predictors\n",
    "subset=sf_crime_sub[[\"hour\", \"DayOfWeek\", \"PdDistrict\"]]\n",
    "\n",
    "# create dummy variables for them\n",
    "X=pd.get_dummies(subset, columns=[\"hour\", \"DayOfWeek\", \"PdDistrict\"], drop_first=True)\n",
    "\n",
    "# separate out the outcome but in this case don't create dummy variables, sklearn can handle this\n",
    "# so this means we are looking to predict three categories\n",
    "y=sf_crime_sub[\"Category\"]"
   ]
  },
  {
   "cell_type": "code",
   "execution_count": 36,
   "metadata": {
    "collapsed": false
   },
   "outputs": [
    {
     "data": {
      "text/html": [
       "<div>\n",
       "<table border=\"1\" class=\"dataframe\">\n",
       "  <thead>\n",
       "    <tr style=\"text-align: right;\">\n",
       "      <th></th>\n",
       "      <th>hour_1</th>\n",
       "      <th>hour_2</th>\n",
       "      <th>hour_3</th>\n",
       "      <th>hour_4</th>\n",
       "      <th>hour_5</th>\n",
       "      <th>hour_6</th>\n",
       "      <th>hour_7</th>\n",
       "      <th>hour_8</th>\n",
       "      <th>hour_9</th>\n",
       "      <th>hour_10</th>\n",
       "      <th>hour_11</th>\n",
       "      <th>hour_12</th>\n",
       "      <th>hour_13</th>\n",
       "      <th>hour_14</th>\n",
       "      <th>hour_15</th>\n",
       "      <th>hour_16</th>\n",
       "      <th>hour_17</th>\n",
       "      <th>hour_18</th>\n",
       "      <th>hour_19</th>\n",
       "      <th>hour_20</th>\n",
       "      <th>hour_21</th>\n",
       "      <th>hour_22</th>\n",
       "      <th>hour_23</th>\n",
       "      <th>DayOfWeek_Monday</th>\n",
       "      <th>DayOfWeek_Saturday</th>\n",
       "      <th>DayOfWeek_Sunday</th>\n",
       "      <th>DayOfWeek_Thursday</th>\n",
       "      <th>DayOfWeek_Tuesday</th>\n",
       "      <th>DayOfWeek_Wednesday</th>\n",
       "      <th>PdDistrict_CENTRAL</th>\n",
       "      <th>PdDistrict_INGLESIDE</th>\n",
       "      <th>PdDistrict_MISSION</th>\n",
       "      <th>PdDistrict_NORTHERN</th>\n",
       "      <th>PdDistrict_PARK</th>\n",
       "      <th>PdDistrict_RICHMOND</th>\n",
       "      <th>PdDistrict_SOUTHERN</th>\n",
       "      <th>PdDistrict_TARAVAL</th>\n",
       "      <th>PdDistrict_TENDERLOIN</th>\n",
       "    </tr>\n",
       "  </thead>\n",
       "  <tbody>\n",
       "    <tr>\n",
       "      <th>6</th>\n",
       "      <td>0.0</td>\n",
       "      <td>0.0</td>\n",
       "      <td>0.0</td>\n",
       "      <td>0.0</td>\n",
       "      <td>0.0</td>\n",
       "      <td>0.0</td>\n",
       "      <td>0.0</td>\n",
       "      <td>0.0</td>\n",
       "      <td>0.0</td>\n",
       "      <td>0.0</td>\n",
       "      <td>0.0</td>\n",
       "      <td>0.0</td>\n",
       "      <td>0.0</td>\n",
       "      <td>0.0</td>\n",
       "      <td>0.0</td>\n",
       "      <td>0.0</td>\n",
       "      <td>0.0</td>\n",
       "      <td>0.0</td>\n",
       "      <td>0.0</td>\n",
       "      <td>0.0</td>\n",
       "      <td>0.0</td>\n",
       "      <td>0.0</td>\n",
       "      <td>1.0</td>\n",
       "      <td>0.0</td>\n",
       "      <td>0.0</td>\n",
       "      <td>0.0</td>\n",
       "      <td>0.0</td>\n",
       "      <td>0.0</td>\n",
       "      <td>1.0</td>\n",
       "      <td>0.0</td>\n",
       "      <td>1.0</td>\n",
       "      <td>0.0</td>\n",
       "      <td>0.0</td>\n",
       "      <td>0.0</td>\n",
       "      <td>0.0</td>\n",
       "      <td>0.0</td>\n",
       "      <td>0.0</td>\n",
       "      <td>0.0</td>\n",
       "    </tr>\n",
       "    <tr>\n",
       "      <th>7</th>\n",
       "      <td>0.0</td>\n",
       "      <td>0.0</td>\n",
       "      <td>0.0</td>\n",
       "      <td>0.0</td>\n",
       "      <td>0.0</td>\n",
       "      <td>0.0</td>\n",
       "      <td>0.0</td>\n",
       "      <td>0.0</td>\n",
       "      <td>0.0</td>\n",
       "      <td>0.0</td>\n",
       "      <td>0.0</td>\n",
       "      <td>0.0</td>\n",
       "      <td>0.0</td>\n",
       "      <td>0.0</td>\n",
       "      <td>0.0</td>\n",
       "      <td>0.0</td>\n",
       "      <td>0.0</td>\n",
       "      <td>0.0</td>\n",
       "      <td>0.0</td>\n",
       "      <td>0.0</td>\n",
       "      <td>0.0</td>\n",
       "      <td>0.0</td>\n",
       "      <td>1.0</td>\n",
       "      <td>0.0</td>\n",
       "      <td>0.0</td>\n",
       "      <td>0.0</td>\n",
       "      <td>0.0</td>\n",
       "      <td>0.0</td>\n",
       "      <td>1.0</td>\n",
       "      <td>0.0</td>\n",
       "      <td>0.0</td>\n",
       "      <td>0.0</td>\n",
       "      <td>0.0</td>\n",
       "      <td>0.0</td>\n",
       "      <td>0.0</td>\n",
       "      <td>0.0</td>\n",
       "      <td>0.0</td>\n",
       "      <td>0.0</td>\n",
       "    </tr>\n",
       "    <tr>\n",
       "      <th>46</th>\n",
       "      <td>0.0</td>\n",
       "      <td>0.0</td>\n",
       "      <td>0.0</td>\n",
       "      <td>0.0</td>\n",
       "      <td>0.0</td>\n",
       "      <td>0.0</td>\n",
       "      <td>0.0</td>\n",
       "      <td>0.0</td>\n",
       "      <td>0.0</td>\n",
       "      <td>0.0</td>\n",
       "      <td>0.0</td>\n",
       "      <td>0.0</td>\n",
       "      <td>0.0</td>\n",
       "      <td>0.0</td>\n",
       "      <td>0.0</td>\n",
       "      <td>0.0</td>\n",
       "      <td>0.0</td>\n",
       "      <td>0.0</td>\n",
       "      <td>0.0</td>\n",
       "      <td>1.0</td>\n",
       "      <td>0.0</td>\n",
       "      <td>0.0</td>\n",
       "      <td>0.0</td>\n",
       "      <td>0.0</td>\n",
       "      <td>0.0</td>\n",
       "      <td>0.0</td>\n",
       "      <td>0.0</td>\n",
       "      <td>0.0</td>\n",
       "      <td>1.0</td>\n",
       "      <td>0.0</td>\n",
       "      <td>1.0</td>\n",
       "      <td>0.0</td>\n",
       "      <td>0.0</td>\n",
       "      <td>0.0</td>\n",
       "      <td>0.0</td>\n",
       "      <td>0.0</td>\n",
       "      <td>0.0</td>\n",
       "      <td>0.0</td>\n",
       "    </tr>\n",
       "    <tr>\n",
       "      <th>49</th>\n",
       "      <td>0.0</td>\n",
       "      <td>0.0</td>\n",
       "      <td>0.0</td>\n",
       "      <td>0.0</td>\n",
       "      <td>0.0</td>\n",
       "      <td>0.0</td>\n",
       "      <td>0.0</td>\n",
       "      <td>0.0</td>\n",
       "      <td>0.0</td>\n",
       "      <td>0.0</td>\n",
       "      <td>0.0</td>\n",
       "      <td>0.0</td>\n",
       "      <td>0.0</td>\n",
       "      <td>0.0</td>\n",
       "      <td>0.0</td>\n",
       "      <td>0.0</td>\n",
       "      <td>0.0</td>\n",
       "      <td>0.0</td>\n",
       "      <td>1.0</td>\n",
       "      <td>0.0</td>\n",
       "      <td>0.0</td>\n",
       "      <td>0.0</td>\n",
       "      <td>0.0</td>\n",
       "      <td>0.0</td>\n",
       "      <td>0.0</td>\n",
       "      <td>0.0</td>\n",
       "      <td>0.0</td>\n",
       "      <td>0.0</td>\n",
       "      <td>1.0</td>\n",
       "      <td>0.0</td>\n",
       "      <td>0.0</td>\n",
       "      <td>0.0</td>\n",
       "      <td>0.0</td>\n",
       "      <td>1.0</td>\n",
       "      <td>0.0</td>\n",
       "      <td>0.0</td>\n",
       "      <td>0.0</td>\n",
       "      <td>0.0</td>\n",
       "    </tr>\n",
       "    <tr>\n",
       "      <th>59</th>\n",
       "      <td>0.0</td>\n",
       "      <td>0.0</td>\n",
       "      <td>0.0</td>\n",
       "      <td>0.0</td>\n",
       "      <td>0.0</td>\n",
       "      <td>0.0</td>\n",
       "      <td>0.0</td>\n",
       "      <td>0.0</td>\n",
       "      <td>0.0</td>\n",
       "      <td>0.0</td>\n",
       "      <td>0.0</td>\n",
       "      <td>0.0</td>\n",
       "      <td>0.0</td>\n",
       "      <td>0.0</td>\n",
       "      <td>0.0</td>\n",
       "      <td>0.0</td>\n",
       "      <td>0.0</td>\n",
       "      <td>0.0</td>\n",
       "      <td>1.0</td>\n",
       "      <td>0.0</td>\n",
       "      <td>0.0</td>\n",
       "      <td>0.0</td>\n",
       "      <td>0.0</td>\n",
       "      <td>0.0</td>\n",
       "      <td>0.0</td>\n",
       "      <td>0.0</td>\n",
       "      <td>0.0</td>\n",
       "      <td>0.0</td>\n",
       "      <td>1.0</td>\n",
       "      <td>1.0</td>\n",
       "      <td>0.0</td>\n",
       "      <td>0.0</td>\n",
       "      <td>0.0</td>\n",
       "      <td>0.0</td>\n",
       "      <td>0.0</td>\n",
       "      <td>0.0</td>\n",
       "      <td>0.0</td>\n",
       "      <td>0.0</td>\n",
       "    </tr>\n",
       "  </tbody>\n",
       "</table>\n",
       "</div>"
      ],
      "text/plain": [
       "    hour_1  hour_2  hour_3  hour_4  hour_5  hour_6  hour_7  hour_8  hour_9  \\\n",
       "6      0.0     0.0     0.0     0.0     0.0     0.0     0.0     0.0     0.0   \n",
       "7      0.0     0.0     0.0     0.0     0.0     0.0     0.0     0.0     0.0   \n",
       "46     0.0     0.0     0.0     0.0     0.0     0.0     0.0     0.0     0.0   \n",
       "49     0.0     0.0     0.0     0.0     0.0     0.0     0.0     0.0     0.0   \n",
       "59     0.0     0.0     0.0     0.0     0.0     0.0     0.0     0.0     0.0   \n",
       "\n",
       "    hour_10  hour_11  hour_12  hour_13  hour_14  hour_15  hour_16  hour_17  \\\n",
       "6       0.0      0.0      0.0      0.0      0.0      0.0      0.0      0.0   \n",
       "7       0.0      0.0      0.0      0.0      0.0      0.0      0.0      0.0   \n",
       "46      0.0      0.0      0.0      0.0      0.0      0.0      0.0      0.0   \n",
       "49      0.0      0.0      0.0      0.0      0.0      0.0      0.0      0.0   \n",
       "59      0.0      0.0      0.0      0.0      0.0      0.0      0.0      0.0   \n",
       "\n",
       "    hour_18  hour_19  hour_20  hour_21  hour_22  hour_23  DayOfWeek_Monday  \\\n",
       "6       0.0      0.0      0.0      0.0      0.0      1.0               0.0   \n",
       "7       0.0      0.0      0.0      0.0      0.0      1.0               0.0   \n",
       "46      0.0      0.0      1.0      0.0      0.0      0.0               0.0   \n",
       "49      0.0      1.0      0.0      0.0      0.0      0.0               0.0   \n",
       "59      0.0      1.0      0.0      0.0      0.0      0.0               0.0   \n",
       "\n",
       "    DayOfWeek_Saturday  DayOfWeek_Sunday  DayOfWeek_Thursday  \\\n",
       "6                  0.0               0.0                 0.0   \n",
       "7                  0.0               0.0                 0.0   \n",
       "46                 0.0               0.0                 0.0   \n",
       "49                 0.0               0.0                 0.0   \n",
       "59                 0.0               0.0                 0.0   \n",
       "\n",
       "    DayOfWeek_Tuesday  DayOfWeek_Wednesday  PdDistrict_CENTRAL  \\\n",
       "6                 0.0                  1.0                 0.0   \n",
       "7                 0.0                  1.0                 0.0   \n",
       "46                0.0                  1.0                 0.0   \n",
       "49                0.0                  1.0                 0.0   \n",
       "59                0.0                  1.0                 1.0   \n",
       "\n",
       "    PdDistrict_INGLESIDE  PdDistrict_MISSION  PdDistrict_NORTHERN  \\\n",
       "6                    1.0                 0.0                  0.0   \n",
       "7                    0.0                 0.0                  0.0   \n",
       "46                   1.0                 0.0                  0.0   \n",
       "49                   0.0                 0.0                  0.0   \n",
       "59                   0.0                 0.0                  0.0   \n",
       "\n",
       "    PdDistrict_PARK  PdDistrict_RICHMOND  PdDistrict_SOUTHERN  \\\n",
       "6               0.0                  0.0                  0.0   \n",
       "7               0.0                  0.0                  0.0   \n",
       "46              0.0                  0.0                  0.0   \n",
       "49              1.0                  0.0                  0.0   \n",
       "59              0.0                  0.0                  0.0   \n",
       "\n",
       "    PdDistrict_TARAVAL  PdDistrict_TENDERLOIN  \n",
       "6                  0.0                    0.0  \n",
       "7                  0.0                    0.0  \n",
       "46                 0.0                    0.0  \n",
       "49                 0.0                    0.0  \n",
       "59                 0.0                    0.0  "
      ]
     },
     "execution_count": 36,
     "metadata": {},
     "output_type": "execute_result"
    }
   ],
   "source": [
    "X.head()"
   ]
  },
  {
   "cell_type": "code",
   "execution_count": 23,
   "metadata": {
    "collapsed": false
   },
   "outputs": [
    {
     "data": {
      "text/plain": [
       "VEHICLE THEFT    9138\n",
       "BURGLARY         8161\n",
       "DRUG/NARCOTIC    7788\n",
       "Name: Category, dtype: int64"
      ]
     },
     "execution_count": 23,
     "metadata": {},
     "output_type": "execute_result"
    }
   ],
   "source": [
    "y.value_counts()"
   ]
  },
  {
   "cell_type": "code",
   "execution_count": 24,
   "metadata": {
    "collapsed": false
   },
   "outputs": [],
   "source": [
    "# train test split with a stratify term on the outcome to keep datasets balanced on the three outcomes\n",
    "X_train, X_test, Y_train, Y_test = train_test_split(X, y, test_size=0.33, stratify=y, random_state=77)"
   ]
  },
  {
   "cell_type": "code",
   "execution_count": 25,
   "metadata": {
    "collapsed": false
   },
   "outputs": [
    {
     "data": {
      "text/plain": [
       "LogisticRegression(C=1.0, class_weight=None, dual=False, fit_intercept=True,\n",
       "          intercept_scaling=1, max_iter=100, multi_class='ovr', n_jobs=1,\n",
       "          penalty='l2', random_state=None, solver='liblinear', tol=0.0001,\n",
       "          verbose=0, warm_start=False)"
      ]
     },
     "execution_count": 25,
     "metadata": {},
     "output_type": "execute_result"
    }
   ],
   "source": [
    "logreg=LogisticRegression(penalty='l2', C=1.0)\n",
    "logreg.fit(X_train, Y_train)"
   ]
  },
  {
   "cell_type": "code",
   "execution_count": 26,
   "metadata": {
    "collapsed": false
   },
   "outputs": [
    {
     "data": {
      "text/plain": [
       "array(['BURGLARY', 'DRUG/NARCOTIC', 'VEHICLE THEFT'], dtype=object)"
      ]
     },
     "execution_count": 26,
     "metadata": {},
     "output_type": "execute_result"
    }
   ],
   "source": [
    "# We output the three classes so we can read the numpy array of\n",
    "# probabilities, these will be in the same order\n",
    "\n",
    "logreg.classes_"
   ]
  },
  {
   "cell_type": "code",
   "execution_count": 27,
   "metadata": {
    "collapsed": false,
    "scrolled": true
   },
   "outputs": [
    {
     "data": {
      "text/plain": [
       "array([[ 0.13500752,  0.80834286,  0.05664962],\n",
       "       [ 0.43558074,  0.13823595,  0.42618331],\n",
       "       [ 0.31707555,  0.32953778,  0.35338667],\n",
       "       [ 0.24962164,  0.40022098,  0.35015739],\n",
       "       [ 0.34014617,  0.07196238,  0.58789146],\n",
       "       [ 0.38205162,  0.10921418,  0.5087342 ],\n",
       "       [ 0.27607142,  0.37025253,  0.35367606],\n",
       "       [ 0.15322909,  0.8130883 ,  0.0336826 ],\n",
       "       [ 0.45800788,  0.14266948,  0.39932263],\n",
       "       [ 0.09517009,  0.84489178,  0.05993813]])"
      ]
     },
     "execution_count": 27,
     "metadata": {},
     "output_type": "execute_result"
    }
   ],
   "source": [
    "# Ok, so you can see for these cases which of the three classes has the\n",
    "# highest probability, that will be the one selected by the model when you\n",
    "# call the predict function (which tells you the most likely outcome)\n",
    "\n",
    "y_pred=logreg.predict_proba(X_test)\n",
    "y_pred[10:20]"
   ]
  },
  {
   "cell_type": "code",
   "execution_count": 27,
   "metadata": {
    "collapsed": false,
    "scrolled": true
   },
   "outputs": [
    {
     "data": {
      "text/plain": [
       "array(['DRUG/NARCOTIC', 'BURGLARY', 'VEHICLE THEFT', 'DRUG/NARCOTIC',\n",
       "       'VEHICLE THEFT', 'VEHICLE THEFT', 'DRUG/NARCOTIC', 'DRUG/NARCOTIC',\n",
       "       'BURGLARY', 'DRUG/NARCOTIC'], dtype=object)"
      ]
     },
     "execution_count": 27,
     "metadata": {},
     "output_type": "execute_result"
    }
   ],
   "source": [
    "# So compare this output to the above, you can see that in each\n",
    "# of the cases the class label corresponds to the column which had\n",
    "# the highest probability assigned\n",
    "\n",
    "y_pred2=logreg.predict(X_test)\n",
    "y_pred2[10:20]"
   ]
  },
  {
   "cell_type": "code",
   "execution_count": 28,
   "metadata": {
    "collapsed": false
   },
   "outputs": [
    {
     "data": {
      "text/plain": [
       "LogisticRegressionCV(Cs=15, class_weight=None, cv=5, dual=False,\n",
       "           fit_intercept=True, intercept_scaling=1.0, max_iter=100,\n",
       "           multi_class='ovr', n_jobs=1, penalty='l2', random_state=None,\n",
       "           refit=True, scoring='accuracy', solver='liblinear', tol=0.0001,\n",
       "           verbose=0)"
      ]
     },
     "execution_count": 28,
     "metadata": {},
     "output_type": "execute_result"
    }
   ],
   "source": [
    "# Great, so we ran logistic regression in a case where we had three possible outcomes\n",
    "# instead of just two. Now let's have a look at running grid search to test for the optimal C\n",
    "# value (C = inverse of regularisation strength)\n",
    "\n",
    "logreg_cv = LogisticRegressionCV(Cs=15, cv=5, solver='liblinear', scoring='accuracy')\n",
    "logreg_cv.fit(X_train, Y_train)"
   ]
  },
  {
   "cell_type": "code",
   "execution_count": 29,
   "metadata": {
    "collapsed": false
   },
   "outputs": [
    {
     "name": "stdout",
     "output_type": "stream",
     "text": [
      "best C for class:\n",
      "{'BURGLARY': 1.0, 'VEHICLE THEFT': 0.26826957952797248, 'DRUG/NARCOTIC': 0.071968567300115138}\n"
     ]
    }
   ],
   "source": [
    "# find best C per class\n",
    "print('best C for class:')\n",
    "best_C = {logreg_cv.classes_[i]:x for i, (x, c) in enumerate(zip(logreg_cv.C_, logreg_cv.classes_))}\n",
    "print(best_C)"
   ]
  },
  {
   "cell_type": "code",
   "execution_count": 30,
   "metadata": {
    "collapsed": false
   },
   "outputs": [
    {
     "data": {
      "text/plain": [
       "LogisticRegression(C=0.26826957952797248, class_weight=None, dual=False,\n",
       "          fit_intercept=True, intercept_scaling=1, max_iter=100,\n",
       "          multi_class='ovr', n_jobs=1, penalty='l2', random_state=None,\n",
       "          solver='liblinear', tol=0.0001, verbose=0, warm_start=False)"
      ]
     },
     "execution_count": 30,
     "metadata": {},
     "output_type": "execute_result"
    }
   ],
   "source": [
    "# fit regular logit model to 'DRUG/NARCOTIC' and 'BURGLARY' classes\n",
    "# use ridge penalty\n",
    "logreg_1 = LogisticRegression(C=best_C['BURGLARY'], solver='liblinear')\n",
    "logreg_2 = LogisticRegression(C=best_C['DRUG/NARCOTIC'], solver='liblinear')\n",
    "logreg_3 = LogisticRegression(C=best_C['VEHICLE THEFT'], solver='liblinear')\n",
    "logreg_1.fit(X_train, Y_train)\n",
    "logreg_2.fit(X_train, Y_train)\n",
    "logreg_3.fit(X_train, Y_train)"
   ]
  },
  {
   "cell_type": "code",
   "execution_count": 31,
   "metadata": {
    "collapsed": false
   },
   "outputs": [
    {
     "data": {
      "text/plain": [
       "{'BURGLARY': array([[ 0.67469521,  0.67469521,  0.67469521,  0.67469521,  0.68480523,\n",
       "          0.6907523 ,  0.68926554,  0.68986024,  0.69045495,  0.69045495,\n",
       "          0.69045495,  0.69045495,  0.69045495,  0.69045495,  0.69045495],\n",
       "        [ 0.67469521,  0.67469521,  0.67469521,  0.67647933,  0.68867083,\n",
       "          0.68748142,  0.68777877,  0.68807612,  0.68807612,  0.68837348,\n",
       "          0.68837348,  0.68837348,  0.68837348,  0.68837348,  0.68837348],\n",
       "        [ 0.67459845,  0.67459845,  0.67459845,  0.67430101,  0.68262939,\n",
       "          0.6876859 ,  0.68679358,  0.68679358,  0.68679358,  0.68679358,\n",
       "          0.68679358,  0.68679358,  0.68679358,  0.68679358,  0.68679358],\n",
       "        [ 0.67470238,  0.67470238,  0.67470238,  0.675     ,  0.67738095,\n",
       "          0.67946429,  0.67916667,  0.67857143,  0.67857143,  0.67857143,\n",
       "          0.67827381,  0.67827381,  0.67827381,  0.67827381,  0.67827381],\n",
       "        [ 0.67470238,  0.67470238,  0.67470238,  0.67529762,  0.68095238,\n",
       "          0.6860119 ,  0.68928571,  0.68928571,  0.68839286,  0.68839286,\n",
       "          0.68839286,  0.68839286,  0.68839286,  0.68839286,  0.68839286]]),\n",
       " 'DRUG/NARCOTIC': array([[ 0.68956289,  0.68956289,  0.70770146,  0.74695213,  0.75260184,\n",
       "          0.75498067,  0.75587273,  0.75527803,  0.75527803,  0.75527803,\n",
       "          0.75527803,  0.75527803,  0.75527803,  0.75527803,  0.75527803],\n",
       "        [ 0.68956289,  0.68956289,  0.7068094 ,  0.74754683,  0.74635742,\n",
       "          0.75111508,  0.75141243,  0.75141243,  0.75141243,  0.75141243,\n",
       "          0.75141243,  0.75141243,  0.75141243,  0.75141243,  0.75141243],\n",
       "        [ 0.68947055,  0.68947055,  0.70969661,  0.74449732,  0.74568709,\n",
       "          0.74895895,  0.74866151,  0.74776919,  0.74776919,  0.74776919,\n",
       "          0.74776919,  0.74776919,  0.74776919,  0.74776919,  0.74776919],\n",
       "        [ 0.68958333,  0.68958333,  0.70297619,  0.7485119 ,  0.75119048,\n",
       "          0.75714286,  0.75446429,  0.75386905,  0.75386905,  0.75416667,\n",
       "          0.75416667,  0.75416667,  0.75416667,  0.75416667,  0.75416667],\n",
       "        [ 0.68958333,  0.68958333,  0.70684524,  0.7547619 ,  0.75595238,\n",
       "          0.75654762,  0.7547619 ,  0.75446429,  0.75446429,  0.75446429,\n",
       "          0.75446429,  0.75446429,  0.75446429,  0.75446429,  0.75446429]]),\n",
       " 'VEHICLE THEFT': array([[ 0.6357419 ,  0.6357419 ,  0.6402022 ,  0.66250372,  0.66785608,\n",
       "          0.67201903,  0.67172168,  0.67172168,  0.67172168,  0.67023491,\n",
       "          0.67023491,  0.67023491,  0.67023491,  0.67023491,  0.67023491],\n",
       "        [ 0.6357419 ,  0.6357419 ,  0.63931014,  0.66190901,  0.67082962,\n",
       "          0.67975022,  0.68212905,  0.68034493,  0.68093964,  0.68123699,\n",
       "          0.68064228,  0.68064228,  0.68064228,  0.68064228,  0.68064228],\n",
       "        [ 0.63593099,  0.63593099,  0.64336704,  0.66835217,  0.66983938,\n",
       "          0.67073171,  0.67370613,  0.6748959 ,  0.6748959 ,  0.67400357,\n",
       "          0.67400357,  0.67400357,  0.67400357,  0.67400357,  0.67400357],\n",
       "        [ 0.63571429,  0.63571429,  0.6389881 ,  0.67232143,  0.6764881 ,\n",
       "          0.6797619 ,  0.68005952,  0.68035714,  0.68125   ,  0.68095238,\n",
       "          0.68095238,  0.68095238,  0.68095238,  0.68095238,  0.68095238],\n",
       "        [ 0.63571429,  0.63571429,  0.64166667,  0.66964286,  0.66904762,\n",
       "          0.67470238,  0.67380952,  0.67172619,  0.67142857,  0.67142857,\n",
       "          0.67142857,  0.67142857,  0.67142857,  0.67142857,  0.67142857]])}"
      ]
     },
     "execution_count": 31,
     "metadata": {},
     "output_type": "execute_result"
    }
   ],
   "source": [
    "logreg_cv.scores_"
   ]
  },
  {
   "cell_type": "code",
   "execution_count": 32,
   "metadata": {
    "collapsed": false
   },
   "outputs": [
    {
     "name": "stdout",
     "output_type": "stream",
     "text": [
      "[[1072  507 1114]\n",
      " [ 494 1277  799]\n",
      " [ 647  411 1958]]\n",
      "[[1087  494 1112]\n",
      " [ 509 1270  791]\n",
      " [ 656  418 1942]]\n",
      "[[1084  501 1108]\n",
      " [ 502 1275  793]\n",
      " [ 652  409 1955]]\n"
     ]
    }
   ],
   "source": [
    "# predict and build confusion matrices for the models above\n",
    "Y_1_pred = logreg_1.predict(X_test)\n",
    "Y_2_pred = logreg_2.predict(X_test)\n",
    "Y_3_pred = logreg_3.predict(X_test)\n",
    "\n",
    "conmat_1 = confusion_matrix(Y_test, Y_1_pred, labels=logreg_1.classes_)\n",
    "conmat_2 = confusion_matrix(Y_test, Y_2_pred, labels=logreg_2.classes_)\n",
    "conmat_3 = confusion_matrix(Y_test, Y_3_pred, labels=logreg_3.classes_)\n",
    "\n",
    "print(conmat_1)\n",
    "print(conmat_2)\n",
    "print(conmat_3)"
   ]
  },
  {
   "cell_type": "code",
   "execution_count": 34,
   "metadata": {
    "collapsed": false,
    "scrolled": false
   },
   "outputs": [
    {
     "name": "stdout",
     "output_type": "stream",
     "text": [
      "               precision    recall  f1-score   support\n",
      "\n",
      "     BURGLARY       0.48      0.40      0.44      2693\n",
      "DRUG/NARCOTIC       0.58      0.50      0.54      2570\n",
      "VEHICLE THEFT       0.51      0.65      0.57      3016\n",
      "\n",
      "  avg / total       0.52      0.52      0.52      8279\n",
      "\n",
      "               precision    recall  f1-score   support\n",
      "\n",
      "     BURGLARY       0.48      0.40      0.44      2693\n",
      "DRUG/NARCOTIC       0.58      0.49      0.53      2570\n",
      "VEHICLE THEFT       0.51      0.64      0.57      3016\n",
      "\n",
      "  avg / total       0.52      0.52      0.52      8279\n",
      "\n",
      "               precision    recall  f1-score   support\n",
      "\n",
      "     BURGLARY       0.48      0.40      0.44      2693\n",
      "DRUG/NARCOTIC       0.58      0.50      0.54      2570\n",
      "VEHICLE THEFT       0.51      0.65      0.57      3016\n",
      "\n",
      "  avg / total       0.52      0.52      0.52      8279\n",
      "\n"
     ]
    }
   ],
   "source": [
    "# print classification reports\n",
    "print(classification_report(Y_test, Y_1_pred))\n",
    "print(classification_report(Y_test, Y_2_pred))\n",
    "print(classification_report(Y_test, Y_3_pred))"
   ]
  },
  {
   "cell_type": "markdown",
   "metadata": {},
   "source": [
    "To decide which C to use in this case, it may depend on our problem if we wish to give\n",
    "the best performance to one of our classes for example (e.g. that is the high end product we really\n",
    "want to predict if our customers will buy). Or perhaps we would need to use some average of the scores in each case\n",
    "but we would have to do this manually to see which is the best C. \n",
    "\n",
    "Furthermore we glossed over slightly whether\n",
    "to use l1 or l2 penalties. This may also depend on the extent to which you wish to see certain outcomes (for\n",
    "example, as previously discussed the lasso l1 penalty will return some coefficients as zero, so can be used for\n",
    "automated feature selection - which is useful if you have very large numbers of possible features).\n",
    "\n",
    "So instead, we can use sklearn's GridSearchCV function to do this for us. This abstracts away all those decisions\n",
    "and finds the best overall performance across all classes. So which approach to use depends on your\n",
    "particular problem and the extent to which you want to dive deep into it. But GridSearchCV can iteratively try\n",
    "a lot of different approaches and then tell you which one performed the best. So it does lots of the hard work for you. Doesn't that sound great!\n",
    "\n",
    "We can actually search through any of the parameters in the LogisticRegression() model that we want to test with this function, and we can of course use it for other fitting algorithms as well. So this is very powerful."
   ]
  },
  {
   "cell_type": "code",
   "execution_count": 41,
   "metadata": {
    "collapsed": false
   },
   "outputs": [
    {
     "name": "stdout",
     "output_type": "stream",
     "text": [
      "Fitting 5 folds for each of 24 candidates, totalling 120 fits\n"
     ]
    },
    {
     "name": "stderr",
     "output_type": "stream",
     "text": [
      "[Parallel(n_jobs=1)]: Done 120 out of 120 | elapsed:   25.8s finished\n"
     ]
    },
    {
     "data": {
      "text/plain": [
       "GridSearchCV(cv=5, error_score='raise',\n",
       "       estimator=LogisticRegression(C=1.0, class_weight=None, dual=False, fit_intercept=True,\n",
       "          intercept_scaling=1, max_iter=100, multi_class='ovr', n_jobs=1,\n",
       "          penalty='l2', random_state=None, solver='liblinear', tol=0.0001,\n",
       "          verbose=0, warm_start=False),\n",
       "       fit_params={}, iid=True, n_jobs=1,\n",
       "       param_grid={'penalty': ['l1', 'l2'], 'C': [0.0001, 0.001, 0.01, 0.1, 0.5, 0.75, 1.0, 2.5, 5.0, 10.0, 100.0, 1000.0]},\n",
       "       pre_dispatch='2*n_jobs', refit=True, return_train_score=True,\n",
       "       scoring='accuracy', verbose=True)"
      ]
     },
     "execution_count": 41,
     "metadata": {},
     "output_type": "execute_result"
    }
   ],
   "source": [
    "# This will take a bit of time (should be < 1 min)\n",
    "# Go through this and check it makes sense\n",
    "# Check the documentation, there are many possible scorings you can use\n",
    "\n",
    "logreg_f = LogisticRegression()\n",
    "C_vals = [0.0001, 0.001, 0.01, 0.1, 0.5, 0.75, 1.0, 2.5, 5.0, 10.0, 100.0, 1000.0]\n",
    "penalties = ['l1','l2']\n",
    "\n",
    "gs = GridSearchCV(logreg_f, {'penalty':penalties, 'C':C_vals}, verbose=True, cv=5, scoring='accuracy')\n",
    "gs.fit(X_train, Y_train)"
   ]
  },
  {
   "cell_type": "code",
   "execution_count": 42,
   "metadata": {
    "collapsed": false
   },
   "outputs": [
    {
     "data": {
      "text/plain": [
       "{'C': 0.1, 'penalty': 'l1'}"
      ]
     },
     "execution_count": 42,
     "metadata": {},
     "output_type": "execute_result"
    }
   ],
   "source": [
    "# these are the parameters we tested, we could also have tested others too\n",
    "gs.best_params_"
   ]
  },
  {
   "cell_type": "code",
   "execution_count": 43,
   "metadata": {
    "collapsed": false
   },
   "outputs": [
    {
     "data": {
      "image/png": "[encoded data removed]",
      "text/plain": [
       "<matplotlib.figure.Figure at 0x11a74a290>"
      ]
     },
     "metadata": {},
     "output_type": "display_data"
    },
    {
     "name": "stdout",
     "output_type": "stream",
     "text": [
      "               precision    recall  f1-score   support\n",
      "\n",
      "     BURGLARY       0.48      0.40      0.43      2693\n",
      "DRUG/NARCOTIC       0.58      0.49      0.53      2570\n",
      "VEHICLE THEFT       0.50      0.65      0.57      3016\n",
      "\n",
      "  avg / total       0.52      0.52      0.51      8279\n",
      "\n"
     ]
    }
   ],
   "source": [
    "gs_logreg = LogisticRegression(C=gs.best_params_[\"C\"], penalty=gs.best_params_[\"penalty\"], solver='liblinear')\n",
    "gs_logreg.fit(X_train, Y_train)\n",
    "Y_ = gs_logreg.predict(X_test)\n",
    "conmat_gs_logreg = confusion_matrix(Y_test, Y_, labels=gs_logreg.classes_)\n",
    "plot_confusion_matrix(conmat_gs_logreg, classes=gs_logreg.classes_)\n",
    "print(classification_report(Y_test, Y_))"
   ]
  },
  {
   "cell_type": "code",
   "execution_count": 44,
   "metadata": {
    "collapsed": false
   },
   "outputs": [
    {
     "data": {
      "text/plain": [
       "0.51709143616378794"
      ]
     },
     "execution_count": 44,
     "metadata": {},
     "output_type": "execute_result"
    }
   ],
   "source": [
    "gs_logreg.score(X_test, Y_test)"
   ]
  },
  {
   "cell_type": "markdown",
   "metadata": {},
   "source": [
    "That's our best model in this case! Try playing around, and perhaps adding in new features and running through the\n",
    "process again using GridSearchCV so you don't have to take so many steps!"
   ]
  },
  {
   "cell_type": "code",
   "execution_count": null,
   "metadata": {
    "collapsed": true
   },
   "outputs": [],
   "source": []
  }
 ],
 "metadata": {
  "anaconda-cloud": {},
  "kernelspec": {
   "display_name": "Python [Root]",
   "language": "python",
   "name": "Python [Root]"
  },
  "language_info": {
   "codemirror_mode": {
    "name": "ipython",
    "version": 2
   },
   "file_extension": ".py",
   "mimetype": "text/x-python",
   "name": "python",
   "nbconvert_exporter": "python",
   "pygments_lexer": "ipython2",
   "version": "2.7.12"
  }
 },
 "nbformat": 4,
 "nbformat_minor": 0
}
