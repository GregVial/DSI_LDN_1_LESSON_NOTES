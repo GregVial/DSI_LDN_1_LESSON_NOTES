{
 "cells": [
  {
   "cell_type": "markdown",
   "metadata": {},
   "source": [
    "# Homework w03d03\n",
    "\n",
    "Use again the auto dataset. This time we want to use cross validation to assess the quality of various models.\n",
    "1. Split the dataset into a training set and a test set. \n",
    "1. Using linear regression, calculate the mean squared error (MSE) and the R-squared for all possible single predictor models on the training set and the test set. Which one performs best?\n",
    "1. Using linear regression, calculate the mean squared error (MSE) and the R-squared for fitting mpg on an polynomial in horsepower with degree varying from 1 to 5 on the trainig set and the test set. Which one performs best? \n",
    "1. Perform an ordinary least squares fit to mpg with all features except name, calculate the mean squared error (MSE) and the R-squared on the trainig set and the test set."
   ]
  },
  {
   "cell_type": "code",
   "execution_count": 1,
   "metadata": {
    "collapsed": false
   },
   "outputs": [],
   "source": [
    "# load libraries\n",
    "import pandas as pd\n",
    "import numpy as np\n",
    "%matplotlib inline\n",
    "from matplotlib import pyplot as plt\n",
    "import seaborn as sns\n",
    "from sklearn.model_selection import train_test_split\n",
    "from sklearn import linear_model\n",
    "from sklearn.metrics import mean_squared_error, mean_absolute_error\n",
    "\n",
    "# read in data\n",
    "df = pd.read_csv('../w03d01/Auto.csv')\n",
    "# drop missing values and convert datatype\n",
    "df.dropna(inplace=True)\n",
    "df.drop(list(df.index[df.horsepower=='?']),inplace=True)\n",
    "df.horsepower = df.horsepower.astype(int)"
   ]
  },
  {
   "cell_type": "code",
   "execution_count": 2,
   "metadata": {
    "collapsed": true
   },
   "outputs": [],
   "source": [
    "def error_print(name,model_,X_train_,y_train_,predictions_train_,X_test_,y_test_,predictions_test_):\n",
    "\n",
    "    \"\"\"Returns r^2, RMSE and MAE for the test set;\n",
    "    prints r^2, RMSE and MAE for training and test sets;\n",
    "    arguments: the model's name and six lists: \n",
    "    1. the training set feature matrix, 2. the training set response, \n",
    "    3. the training set response predictions, 4. the test set feature matrix, \n",
    "    5. the test set response, 6. the test set response predictions.\n",
    "    \"\"\"\n",
    "    \n",
    "    print \"Training\", name \n",
    "    print \"r^2:\", model.score(X_train_, y_train_)\n",
    "    print \"RMSE:\", mean_squared_error(y_train_, predictions_train_)\n",
    "    print \"MAE:\", mean_absolute_error(y_train_, predictions_train_)\n",
    "    \n",
    "    print \n",
    "    \n",
    "    print \"Test\", name\n",
    "\n",
    "    print \"r^2:\", model.score(X_test_, y_test_)\n",
    "    print \"RMSE:\", mean_squared_error(y_test_, predictions_test_)\n",
    "    print \"MAE:\", mean_absolute_error(y_test_, predictions_test_)\n",
    "    #print \"Coefficients:\", model.coef_, model.intercept_\n",
    "    print \n",
    "    return [model.score(X_test_, y_test_),\n",
    "                       mean_squared_error(y_test_, predictions_test_),\n",
    "                       mean_absolute_error(y_test_, predictions_test_)]"
   ]
  },
  {
   "cell_type": "markdown",
   "metadata": {},
   "source": [
    "## Single predictor models"
   ]
  },
  {
   "cell_type": "code",
   "execution_count": 3,
   "metadata": {
    "collapsed": false
   },
   "outputs": [
    {
     "name": "stdout",
     "output_type": "stream",
     "text": [
      "Training cylinders\n",
      "r^2: 0.605528417691\n",
      "RMSE: 23.6969669575\n",
      "MAE: 3.73617775155\n",
      "\n",
      "Test cylinders\n",
      "r^2: 0.586027083292\n",
      "RMSE: 25.398999533\n",
      "MAE: 3.70890999739\n",
      "\n",
      "Training displacement\n",
      "r^2: 0.640203280749\n",
      "RMSE: 21.6139548446\n",
      "MAE: 3.56452112142\n",
      "\n",
      "Test displacement\n",
      "r^2: 0.666214511661\n",
      "RMSE: 20.4791596751\n",
      "MAE: 3.33149867194\n",
      "\n",
      "Training horsepower\n",
      "r^2: 0.605325957584\n",
      "RMSE: 23.7091292797\n",
      "MAE: 3.80473041913\n",
      "\n",
      "Test horsepower\n",
      "r^2: 0.590135462985\n",
      "RMSE: 25.1469329612\n",
      "MAE: 4.01327310772\n",
      "\n",
      "Training weight\n",
      "r^2: 0.688836270278\n",
      "RMSE: 18.6924406023\n",
      "MAE: 3.29526277042\n",
      "\n",
      "Test weight\n",
      "r^2: 0.695988478827\n",
      "RMSE: 18.6524001273\n",
      "MAE: 3.21625633961\n",
      "\n",
      "Training acceleration\n",
      "r^2: 0.15743145099\n",
      "RMSE: 50.6153547194\n",
      "MAE: 5.89250697187\n",
      "\n",
      "Test acceleration\n",
      "r^2: 0.220317848517\n",
      "RMSE: 47.8368168596\n",
      "MAE: 5.83674778838\n",
      "\n",
      "Training year\n",
      "r^2: 0.31966854779\n",
      "RMSE: 40.8693367689\n",
      "MAE: 5.41213596462\n",
      "\n",
      "Test year\n",
      "r^2: 0.372025280059\n",
      "RMSE: 38.5289205519\n",
      "MAE: 5.25979126662\n",
      "\n",
      "Training origin\n",
      "r^2: 0.332834663861\n",
      "RMSE: 40.0784128305\n",
      "MAE: 5.08486820761\n",
      "\n",
      "Test origin\n",
      "r^2: 0.242697686948\n",
      "RMSE: 46.4637185651\n",
      "MAE: 5.30148398521\n",
      "\n"
     ]
    }
   ],
   "source": [
    "error_dict = {}\n",
    "for col in df.columns[1:-1]:\n",
    "    X = pd.DataFrame(df[col])\n",
    "    y = df.mpg\n",
    "\n",
    "    X_train, X_test, y_train, y_test = train_test_split(X,y, test_size=0.2, random_state=10)\n",
    "#    print X.shape, X_train.shape, y_train.shape, X_test.shape, y_test.shape\n",
    "\n",
    "    # Fit a straight line to the data\n",
    "    lm = linear_model.LinearRegression()\n",
    "    model = lm.fit(X_train, y_train)\n",
    "    predictions_train = model.predict(X_train)\n",
    "    predictions_test = model.predict(X_test)\n",
    "    error_dict [col] = error_print(col,model,X_train,y_train,predictions_train,X_test,y_test,predictions_test)"
   ]
  },
  {
   "cell_type": "code",
   "execution_count": 4,
   "metadata": {
    "collapsed": false
   },
   "outputs": [
    {
     "name": "stdout",
     "output_type": "stream",
     "text": [
      "18.6524001273\n"
     ]
    },
    {
     "data": {
      "text/html": [
       "<div>\n",
       "<table border=\"1\" class=\"dataframe\">\n",
       "  <thead>\n",
       "    <tr style=\"text-align: right;\">\n",
       "      <th></th>\n",
       "      <th>acceleration</th>\n",
       "      <th>cylinders</th>\n",
       "      <th>displacement</th>\n",
       "      <th>horsepower</th>\n",
       "      <th>origin</th>\n",
       "      <th>weight</th>\n",
       "      <th>year</th>\n",
       "    </tr>\n",
       "  </thead>\n",
       "  <tbody>\n",
       "    <tr>\n",
       "      <th>r^2</th>\n",
       "      <td>0.220318</td>\n",
       "      <td>0.586027</td>\n",
       "      <td>0.666215</td>\n",
       "      <td>0.590135</td>\n",
       "      <td>0.242698</td>\n",
       "      <td>0.695988</td>\n",
       "      <td>0.372025</td>\n",
       "    </tr>\n",
       "    <tr>\n",
       "      <th>RMSE</th>\n",
       "      <td>47.836817</td>\n",
       "      <td>25.399000</td>\n",
       "      <td>20.479160</td>\n",
       "      <td>25.146933</td>\n",
       "      <td>46.463719</td>\n",
       "      <td>18.652400</td>\n",
       "      <td>38.528921</td>\n",
       "    </tr>\n",
       "    <tr>\n",
       "      <th>MAE</th>\n",
       "      <td>5.836748</td>\n",
       "      <td>3.708910</td>\n",
       "      <td>3.331499</td>\n",
       "      <td>4.013273</td>\n",
       "      <td>5.301484</td>\n",
       "      <td>3.216256</td>\n",
       "      <td>5.259791</td>\n",
       "    </tr>\n",
       "  </tbody>\n",
       "</table>\n",
       "</div>"
      ],
      "text/plain": [
       "      acceleration  cylinders  displacement  horsepower     origin     weight  \\\n",
       "r^2       0.220318   0.586027      0.666215    0.590135   0.242698   0.695988   \n",
       "RMSE     47.836817  25.399000     20.479160   25.146933  46.463719  18.652400   \n",
       "MAE       5.836748   3.708910      3.331499    4.013273   5.301484   3.216256   \n",
       "\n",
       "           year  \n",
       "r^2    0.372025  \n",
       "RMSE  38.528921  \n",
       "MAE    5.259791  "
      ]
     },
     "execution_count": 4,
     "metadata": {},
     "output_type": "execute_result"
    }
   ],
   "source": [
    "# Test errors\n",
    "\n",
    "errors_single = pd.DataFrame(error_dict,index=['r^2','RMSE','MAE'])\n",
    "print errors_single.loc['RMSE'].min()\n",
    "errors_single"
   ]
  },
  {
   "cell_type": "markdown",
   "metadata": {},
   "source": [
    "## Polynomial fit on horsepower"
   ]
  },
  {
   "cell_type": "code",
   "execution_count": 5,
   "metadata": {
    "collapsed": false
   },
   "outputs": [
    {
     "name": "stdout",
     "output_type": "stream",
     "text": [
      "(392, 1) (392,)\n",
      "Training 1\n",
      "r^2: 0.605325957584\n",
      "RMSE: 23.7091292797\n",
      "MAE: 3.80473041913\n",
      "\n",
      "Test 1\n",
      "r^2: 0.590135462985\n",
      "RMSE: 25.1469329612\n",
      "MAE: 4.01327310772\n",
      "\n",
      "(392, 2) (392,)\n",
      "Training 2\n",
      "r^2: 0.68108444293\n",
      "RMSE: 19.1581136818\n",
      "MAE: 3.27226389783\n",
      "\n",
      "Test 2\n",
      "r^2: 0.696033054994\n",
      "RMSE: 18.6496651898\n",
      "MAE: 3.22450441834\n",
      "\n",
      "(392, 3) (392,)\n",
      "Training 3\n",
      "r^2: 0.681107713991\n",
      "RMSE: 19.1567157267\n",
      "MAE: 3.27173884509\n",
      "\n",
      "Test 3\n",
      "r^2: 0.69705368446\n",
      "RMSE: 18.5870452301\n",
      "MAE: 3.22003896204\n",
      "\n",
      "(392, 4) (392,)\n",
      "Training 4\n",
      "r^2: 0.682990821622\n",
      "RMSE: 19.0435923958\n",
      "MAE: 3.26855052756\n",
      "\n",
      "Test 4\n",
      "r^2: 0.693746617295\n",
      "RMSE: 18.7899478694\n",
      "MAE: 3.26239629318\n",
      "\n",
      "(392, 5) (392,)\n",
      "Training 5\n",
      "r^2: 0.69018824531\n",
      "RMSE: 18.6112238325\n",
      "MAE: 3.23304536591\n",
      "\n",
      "Test 5\n",
      "r^2: 0.700881223969\n",
      "RMSE: 18.3522093984\n",
      "MAE: 3.18886560093\n",
      "\n",
      "RMSE min:  18.3522093984\n"
     ]
    },
    {
     "data": {
      "text/html": [
       "<div>\n",
       "<table border=\"1\" class=\"dataframe\">\n",
       "  <thead>\n",
       "    <tr style=\"text-align: right;\">\n",
       "      <th></th>\n",
       "      <th>1</th>\n",
       "      <th>2</th>\n",
       "      <th>3</th>\n",
       "      <th>4</th>\n",
       "      <th>5</th>\n",
       "    </tr>\n",
       "  </thead>\n",
       "  <tbody>\n",
       "    <tr>\n",
       "      <th>r^2</th>\n",
       "      <td>0.590135</td>\n",
       "      <td>0.696033</td>\n",
       "      <td>0.697054</td>\n",
       "      <td>0.693747</td>\n",
       "      <td>0.700881</td>\n",
       "    </tr>\n",
       "    <tr>\n",
       "      <th>RMSE</th>\n",
       "      <td>25.146933</td>\n",
       "      <td>18.649665</td>\n",
       "      <td>18.587045</td>\n",
       "      <td>18.789948</td>\n",
       "      <td>18.352209</td>\n",
       "    </tr>\n",
       "    <tr>\n",
       "      <th>MAE</th>\n",
       "      <td>4.013273</td>\n",
       "      <td>3.224504</td>\n",
       "      <td>3.220039</td>\n",
       "      <td>3.262396</td>\n",
       "      <td>3.188866</td>\n",
       "    </tr>\n",
       "  </tbody>\n",
       "</table>\n",
       "</div>"
      ],
      "text/plain": [
       "              1          2          3          4          5\n",
       "r^2    0.590135   0.696033   0.697054   0.693747   0.700881\n",
       "RMSE  25.146933  18.649665  18.587045  18.789948  18.352209\n",
       "MAE    4.013273   3.224504   3.220039   3.262396   3.188866"
      ]
     },
     "execution_count": 5,
     "metadata": {},
     "output_type": "execute_result"
    }
   ],
   "source": [
    "df_1 = pd.DataFrame({'hp':df.horsepower,'hp2':df.horsepower**2,\n",
    "                      'hp3':df.horsepower**3,'hp4':df.horsepower**4,\n",
    "                      'hp5':df.horsepower**5})\n",
    "\n",
    "error_dict = {}\n",
    "for i in range(1,df_1.shape[1]+1):\n",
    "    X = df_1.iloc[:,0:i]\n",
    "    y = df.mpg\n",
    "    print X.shape, y.shape\n",
    "    X_train, X_test, y_train, y_test = train_test_split(X,y, test_size=0.2, random_state=10)\n",
    "#    print X.shape, X_train.shape, y_train.shape, X_test.shape, y_test.shape\n",
    "\n",
    "    # Fit a straight line to the data\n",
    "    lm = linear_model.LinearRegression()\n",
    "    model = lm.fit(X_train, y_train)\n",
    "    predictions_train = model.predict(X_train)\n",
    "    predictions_test = model.predict(X_test)\n",
    "    error_dict[i] = error_print(i,model,X_train,y_train,predictions_train,X_test,y_test,predictions_test)\n",
    "\n",
    "errors_poly = pd.DataFrame(error_dict,index=['r^2','RMSE','MAE'])\n",
    "print 'RMSE min: ', errors_poly.loc['RMSE'].min()\n",
    "errors_poly"
   ]
  },
  {
   "cell_type": "markdown",
   "metadata": {},
   "source": [
    "## On all features"
   ]
  },
  {
   "cell_type": "code",
   "execution_count": 6,
   "metadata": {
    "collapsed": false
   },
   "outputs": [
    {
     "name": "stdout",
     "output_type": "stream",
     "text": [
      "(392, 7) (313, 7) (313,) (79, 7) (79,)\n",
      "\n",
      "Training all\n",
      "r^2: 0.828055227642\n",
      "RMSE: 10.3291840828\n",
      "MAE: 2.47232795094\n",
      "\n",
      "Test all\n",
      "r^2: 0.784712079466\n",
      "RMSE: 13.2088297867\n",
      "MAE: 2.66603471311\n",
      "\n"
     ]
    },
    {
     "data": {
      "text/html": [
       "<div>\n",
       "<table border=\"1\" class=\"dataframe\">\n",
       "  <thead>\n",
       "    <tr style=\"text-align: right;\">\n",
       "      <th></th>\n",
       "      <th>all</th>\n",
       "    </tr>\n",
       "  </thead>\n",
       "  <tbody>\n",
       "    <tr>\n",
       "      <th>r^2</th>\n",
       "      <td>0.784712</td>\n",
       "    </tr>\n",
       "    <tr>\n",
       "      <th>RMSE</th>\n",
       "      <td>13.208830</td>\n",
       "    </tr>\n",
       "    <tr>\n",
       "      <th>MAE</th>\n",
       "      <td>2.666035</td>\n",
       "    </tr>\n",
       "  </tbody>\n",
       "</table>\n",
       "</div>"
      ],
      "text/plain": [
       "            all\n",
       "r^2    0.784712\n",
       "RMSE  13.208830\n",
       "MAE    2.666035"
      ]
     },
     "execution_count": 6,
     "metadata": {},
     "output_type": "execute_result"
    }
   ],
   "source": [
    "error_dict = {}\n",
    "X = df.loc[:,'cylinders':'origin']\n",
    "y = df.mpg\n",
    "\n",
    "X_train, X_test, y_train, y_test = train_test_split(X,y, test_size=0.2, random_state=10)\n",
    "print X.shape, X_train.shape, y_train.shape, X_test.shape, y_test.shape\n",
    "print\n",
    "# Fit a straight line to the data\n",
    "lm = linear_model.LinearRegression()\n",
    "model = lm.fit(X_train, y_train)\n",
    "predictions_train = model.predict(X_train)\n",
    "predictions_test = model.predict(X_test)\n",
    "error_dict['all'] = error_print('all',model,X_train,y_train,predictions_train,X_test,y_test,predictions_test)\n",
    "\n",
    "errors_all = pd.DataFrame(error_dict,index=['r^2','RMSE','MAE'])\n",
    "errors_all"
   ]
  }
 ],
 "metadata": {
  "anaconda-cloud": {},
  "kernelspec": {
   "display_name": "Python [conda root]",
   "language": "python",
   "name": "conda-root-py"
  },
  "language_info": {
   "codemirror_mode": {
    "name": "ipython",
    "version": 2
   },
   "file_extension": ".py",
   "mimetype": "text/x-python",
   "name": "python",
   "nbconvert_exporter": "python",
   "pygments_lexer": "ipython2",
   "version": "2.7.12"
  }
 },
 "nbformat": 4,
 "nbformat_minor": 1
}
