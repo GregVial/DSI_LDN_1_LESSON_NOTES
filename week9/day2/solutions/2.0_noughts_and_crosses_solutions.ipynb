{
 "cells": [
  {
   "cell_type": "markdown",
   "metadata": {},
   "source": [
    "# ![](https://ga-dash.s3.amazonaws.com/production/assets/logo-9f88ae6c9c3871690e33280fcf557f33.png) Noughts and Crosses\n",
    "\n",
    "Week 9 | Morning Exercise 2.0"
   ]
  },
  {
   "cell_type": "markdown",
   "metadata": {},
   "source": [
    "As a programming exercise let's make an Artificial Intelligence that can play noughts and crosses. Noughts and crosses is the game where you have a 3x3 board and you place either an X or a O to mark your move. You win by placing three of your marker in a row before your opponent achieves the same. You cannot play your move on top of the opponent's marker.\n",
    "\n",
    "As a starting point, I suggest just writing a program where the computer selects a position to play at random (so not particularly intelligent). If you get that far you can think about how to make an algorithm such that the computer appears to have intelligence when playing. Of course, the aim with machine learning is to arrive at a way that an AI would not need to be explicitly programmed - but it's still interesting to think about how that explicit programming can be done, if only to avoid it!\n",
    "\n",
    "We will do this as a pair exercise, and due to the complexity we will say that you can import modules to make things easier. It should also be possible to do it without."
   ]
  },
  {
   "cell_type": "markdown",
   "metadata": {},
   "source": [
    "# Solution"
   ]
  },
  {
   "cell_type": "code",
   "execution_count": 3,
   "metadata": {
    "collapsed": false
   },
   "outputs": [],
   "source": [
    "from __future__ import print_function\n",
    "import numpy as np\n",
    "import random\n",
    "keyboard = np.array([[1,2,3],[4,5,6],[7,8,9]])\n",
    "board = np.chararray((3,3))\n",
    "moves_dict = {1:(0,0), 2:(0,1), 3:(0,2), 4:(1,0), 5:(1,1), 6:(1,2), 7:(2,0), 8:(2,1), 9:(2,2)}\n",
    "wincombos = [board[0], board[1], board[2], board[:,0], board[:,1], board[:,2], board.diagonal(), np.fliplr(board).diagonal()]\n",
    "\n",
    "def check_win(board):\n",
    "    global endgame\n",
    "    global win\n",
    "    global lose\n",
    "    \n",
    "    for w in wincombos:\n",
    "        w = list(w)\n",
    "        if w.count('O') == 3:\n",
    "            endgame = True\n",
    "            lose = True\n",
    "        \n",
    "        if w.count('X') == 3:\n",
    "            endgame = True\n",
    "            win = True\n",
    "    \n",
    "\n",
    "def make_computer_move(board):\n",
    "    '''Only makes random moves. \n",
    "    \n",
    "    If you want to improve the game's AI, start here.\n",
    "    '''\n",
    "    #Make a random move \n",
    "    testx = random.randint(0,2)\n",
    "    testy = random.randint(0,2)\n",
    "    \n",
    "    #Check if that space is occupied\n",
    "    while board[testx][testy] != '-':\n",
    "        testx = random.randint(0,2)\n",
    "        testy = random.randint(0,2)\n",
    "\n",
    "\n",
    "    x = testx\n",
    "    y = testy \n",
    "    board[x][y] = 'O'\n",
    "            \n",
    "    return board\n",
    "\n",
    "def make_player_move(board):\n",
    "    move = int(input('Please enter your move (1-9): '))\n",
    "    \n",
    "    #Check if the input is valid\n",
    "    if move < 1 or move > 9:\n",
    "        while move < 1 or move > 9:\n",
    "            move = int(input('That is an invalid move. Please re-enter your move: '))\n",
    "\n",
    "    move_x, move_y = moves_dict[move]\n",
    "    \n",
    "    #Check if the space is taken\n",
    "    while board[move_x][move_y] != '-':\n",
    "        move = int(input('That is an invalid move. Please re-enter your move: '))\n",
    "        move_x, move_y = moves_dict[move]\n",
    "\n",
    "    board[move_x][move_y] = 'X'\n",
    "\n",
    "    return board\n",
    "\n",
    "def play_game():\n",
    "    board[:] = '-'\n",
    "    global endgame\n",
    "    global win \n",
    "    global lose\n",
    "\n",
    "    print(keyboard)\n",
    "    print(board)\n",
    "\n",
    "    while not endgame:\n",
    "\n",
    "        make_player_move(board)\n",
    "        check_win(board)\n",
    "\n",
    "        if '-' not in board:\n",
    "            endgame = True\n",
    "            break\n",
    "\n",
    "        make_computer_move(board)\n",
    "        check_win(board)\n",
    "\n",
    "        print(board)\n",
    "\n",
    "    if win:\n",
    "        print(\"You win\")\n",
    "    elif lose:\n",
    "        print(\"Computer wins\")\n",
    "    elif endgame:\n",
    "        print(\"Tie game\")\n",
    "    \n"
   ]
  },
  {
   "cell_type": "code",
   "execution_count": 4,
   "metadata": {
    "collapsed": false
   },
   "outputs": [
    {
     "name": "stdout",
     "output_type": "stream",
     "text": [
      "[[1 2 3]\n",
      " [4 5 6]\n",
      " [7 8 9]]\n",
      "[['-' '-' '-']\n",
      " ['-' '-' '-']\n",
      " ['-' '-' '-']]\n",
      "Please enter your move (1-9): 1\n",
      "[['X' '-' '-']\n",
      " ['O' '-' '-']\n",
      " ['-' '-' '-']]\n",
      "Please enter your move (1-9): 2\n",
      "[['X' 'X' '-']\n",
      " ['O' '-' '-']\n",
      " ['-' '-' 'O']]\n",
      "Please enter your move (1-9): 3\n",
      "[['X' 'X' 'X']\n",
      " ['O' '-' 'O']\n",
      " ['-' '-' 'O']]\n",
      "You win\n"
     ]
    }
   ],
   "source": [
    "endgame = False\n",
    "win = False\n",
    "lose = False\n",
    "\n",
    "play_game()"
   ]
  },
  {
   "cell_type": "code",
   "execution_count": null,
   "metadata": {
    "collapsed": true
   },
   "outputs": [],
   "source": []
  },
  {
   "cell_type": "code",
   "execution_count": null,
   "metadata": {
    "collapsed": true
   },
   "outputs": [],
   "source": []
  }
 ],
 "metadata": {
  "anaconda-cloud": {},
  "kernelspec": {
   "display_name": "Python [default]",
   "language": "python",
   "name": "python2"
  },
  "language_info": {
   "codemirror_mode": {
    "name": "ipython",
    "version": 2
   },
   "file_extension": ".py",
   "mimetype": "text/x-python",
   "name": "python",
   "nbconvert_exporter": "python",
   "pygments_lexer": "ipython2",
   "version": "2.7.12"
  }
 },
 "nbformat": 4,
 "nbformat_minor": 0
}
