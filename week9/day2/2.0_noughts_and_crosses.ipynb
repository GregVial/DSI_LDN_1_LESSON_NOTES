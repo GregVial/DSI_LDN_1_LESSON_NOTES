{
 "cells": [
  {
   "cell_type": "markdown",
   "metadata": {},
   "source": [
    "# ![](https://ga-dash.s3.amazonaws.com/production/assets/logo-9f88ae6c9c3871690e33280fcf557f33.png) Noughts and Crosses\n",
    "\n",
    "Week 9 | Morning Exercise 2.0"
   ]
  },
  {
   "cell_type": "markdown",
   "metadata": {},
   "source": [
    "As a programming exercise let's make an Artificial Intelligence that can play noughts and crosses. Noughts and crosses is the game where you have a 3x3 board and you place either an X or a O to mark your move. You win by placing three of your marker in a row before your opponent achieves the same. You cannot play your move on top of the opponent's marker.\n",
    "\n",
    "As a starting point, I suggest just writing a program where the computer selects a position to play at random (so not particularly intelligent). If you get that far you can think about how to make an algorithm such that the computer appears to have intelligence when playing. Of course, the aim with machine learning is to arrive at a way that an AI would not need to be explicitly programmed - but it's still a worthy exercise to think about how that explicit programming can be done, if only to avoid it!\n",
    "\n",
    "We will do this as a pair exercise, and due to the complexity we will say that you can import modules to make things easier. It should also be possible to do it without."
   ]
  },
  {
   "cell_type": "code",
   "execution_count": 2,
   "metadata": {
    "collapsed": false
   },
   "outputs": [],
   "source": [
    "# I've included some code to get you started. \n",
    "\n",
    "# you could remove that if you prefer\n",
    "from __future__ import print_function\n",
    "import numpy as np\n",
    "import random\n",
    "board = np.chararray((3,3))\n",
    "wincombos = [board[0], board[1], board[2], board[:,0], board[:,1], board[:,2], \n",
    "             board.diagonal(), np.fliplr(board).diagonal()]\n",
    "\n",
    "def check_win(board):\n",
    "    \"this function is one way to do it that would be complete\"\n",
    "    global endgame\n",
    "    global win\n",
    "    global lose\n",
    "    \n",
    "    for w in wincombos:\n",
    "        w = list(w)\n",
    "        if w.count('O') == 3:\n",
    "            endgame = True\n",
    "            lose = True\n",
    "        \n",
    "        if w.count('X') == 3:\n",
    "            endgame = True\n",
    "            win = True\n",
    "\n",
    "# other functions required\n",
    "def make_computer_move(board):\n",
    "    \"start with random moves\"\n",
    "    return board\n",
    "\n",
    "def make_player_move(board):\n",
    "    \"requires user input\"\n",
    "    return board\n",
    "\n",
    "def play_game():\n",
    "    \"playing functions go here, this function requires more...\"\n",
    "    global endgame\n",
    "    global win \n",
    "    global lose\n",
    "    \n",
    "    # something to change these values...\n",
    "    \n",
    "    if win:\n",
    "        print(\"You win\")\n",
    "    elif lose:\n",
    "        print(\"Computer wins\")\n",
    "    elif endgame:\n",
    "        print(\"Tie game\")"
   ]
  },
  {
   "cell_type": "code",
   "execution_count": null,
   "metadata": {
    "collapsed": true
   },
   "outputs": [],
   "source": []
  },
  {
   "cell_type": "code",
   "execution_count": 1,
   "metadata": {
    "collapsed": false
   },
   "outputs": [
    {
     "name": "stdout",
     "output_type": "stream",
     "text": [
      "5\n",
      "6\n"
     ]
    }
   ],
   "source": [
    "x = 5\n",
    "while x < 10:\n",
    "    print x\n",
    "    x +=1\n",
    "    if x == 7:\n",
    "        break"
   ]
  },
  {
   "cell_type": "code",
   "execution_count": null,
   "metadata": {
    "collapsed": true
   },
   "outputs": [],
   "source": []
  }
 ],
 "metadata": {
  "kernelspec": {
   "display_name": "Python [default]",
   "language": "python",
   "name": "python2"
  },
  "language_info": {
   "codemirror_mode": {
    "name": "ipython",
    "version": 2
   },
   "file_extension": ".py",
   "mimetype": "text/x-python",
   "name": "python",
   "nbconvert_exporter": "python",
   "pygments_lexer": "ipython2",
   "version": "2.7.12"
  }
 },
 "nbformat": 4,
 "nbformat_minor": 0
}
