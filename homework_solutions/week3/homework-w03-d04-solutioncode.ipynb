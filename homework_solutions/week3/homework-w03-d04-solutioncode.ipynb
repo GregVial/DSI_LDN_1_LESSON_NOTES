{
 "cells": [
  {
   "cell_type": "markdown",
   "metadata": {},
   "source": [
    "# Homework w03d04 - Ridge regression and the Lasso\n",
    "\n",
    "Use again the auto dataset. We want to predict mpg using all features except name.\n",
    "1. Split the dataset into a training set and a test set. \n",
    "2. Use lm = linear_model.LinearRegression(alpha=a) to perform a ridge regression fit for a range of cost paremeters. Obtain the mean squared error for each case.\n",
    "3. Use lm = linear_model.Lasso(alpha=a) to perform a fit with the Lasso for a range of cost parameters. Obtain the mean squared error for each case.\n",
    "4. Which one performs best?\n",
    "\n",
    "5. Optional: Have a look at the regression coefficients with lm.coef_.\n",
    "\n",
    "Hints: \n",
    "1. You can cover a range of alphas by choosing them from the list alphas = np.logspace(start=-10, stop=10, num=21) which contains num logarithmically spaced values between $10^{start}$ and  $10^{stop}$. You can display the value of alpha used in your fit with lm.alpha_.\n",
    "\n",
    "1. The mean squared error is obtained with mean_absolute_error."
   ]
  },
  {
   "cell_type": "code",
   "execution_count": 1,
   "metadata": {
    "collapsed": false
   },
   "outputs": [],
   "source": [
    "# load libraries\n",
    "import pandas as pd\n",
    "import numpy as np\n",
    "%matplotlib inline\n",
    "from matplotlib import pyplot as plt\n",
    "import seaborn as sns\n",
    "from sklearn.model_selection import train_test_split\n",
    "from sklearn import linear_model\n",
    "from sklearn.metrics import mean_squared_error, mean_absolute_error, r2_score\n",
    "from sklearn import feature_selection, linear_model\n",
    "\n",
    "# read in data\n",
    "df = pd.read_csv('w03d01/Auto.csv')\n",
    "# drop missing values and convert datatype\n",
    "df.dropna(inplace=True)\n",
    "df.drop(list(df.index[df.horsepower=='?']),inplace=True)\n",
    "df.horsepower = df.horsepower.astype(int)"
   ]
  },
  {
   "cell_type": "code",
   "execution_count": 2,
   "metadata": {
    "collapsed": false
   },
   "outputs": [],
   "source": [
    "X = df.iloc[:,1:-1]\n",
    "y = df.mpg"
   ]
  },
  {
   "cell_type": "markdown",
   "metadata": {},
   "source": [
    "Define your response y and feature matrix X and \n",
    "use the train_test_split function to split the data set into a training and a test set.\n",
    "Use 20 percent of the original dataset as the test set."
   ]
  },
  {
   "cell_type": "code",
   "execution_count": 3,
   "metadata": {
    "collapsed": false
   },
   "outputs": [],
   "source": [
    "X_train, X_test, y_train, y_test = train_test_split(X,y, test_size=0.2, random_state=10)"
   ]
  },
  {
   "cell_type": "code",
   "execution_count": 8,
   "metadata": {
    "collapsed": false
   },
   "outputs": [
    {
     "name": "stdout",
     "output_type": "stream",
     "text": [
      "r^2: 0.821478076481 MSE:  10.847480945\n"
     ]
    }
   ],
   "source": [
    "lm = linear_model.LinearRegression()\n",
    "model = lm.fit(X, y)\n",
    "predictions = model.predict(X)\n",
    "print \"r^2:\", model.score(X, y), 'MSE: ', mean_squared_error(y, lm.predict(X))\n",
    "#get_linear_model_metrics(X, y, lm)"
   ]
  },
  {
   "cell_type": "code",
   "execution_count": 9,
   "metadata": {
    "collapsed": false
   },
   "outputs": [
    {
     "name": "stdout",
     "output_type": "stream",
     "text": [
      "alpha: 1e-10\n",
      "Coefficients:  [-0.49337632  0.01989564 -0.01695114 -0.00647404  0.08057584  0.75077268\n",
      "  1.4261405 ]\n",
      "MSE:  10.847480945 r^2: 0.821478076481\n",
      "\n",
      "alpha: 1e-09\n",
      "Coefficients:  [-0.49337632  0.01989564 -0.01695114 -0.00647404  0.08057584  0.75077268\n",
      "  1.4261405 ]\n",
      "MSE:  10.847480945 r^2: 0.821478076481\n",
      "\n",
      "alpha: 1e-08\n",
      "Coefficients:  [-0.49337632  0.01989564 -0.01695114 -0.00647404  0.08057584  0.75077268\n",
      "  1.4261405 ]\n",
      "MSE:  10.847480945 r^2: 0.821478076481\n",
      "\n",
      "alpha: 1e-07\n",
      "Coefficients:  [-0.49337632  0.01989564 -0.01695114 -0.00647404  0.08057584  0.75077268\n",
      "  1.42614049]\n",
      "MSE:  10.847480945 r^2: 0.821478076481\n",
      "\n",
      "alpha: 1e-06\n",
      "Coefficients:  [-0.49337631  0.01989564 -0.01695114 -0.00647404  0.08057584  0.75077268\n",
      "  1.42614049]\n",
      "MSE:  10.847480945 r^2: 0.821478076481\n",
      "\n",
      "alpha: 1e-05\n",
      "Coefficients:  [-0.49337626  0.01989564 -0.01695114 -0.00647404  0.08057584  0.75077268\n",
      "  1.42614039]\n",
      "MSE:  10.847480945 r^2: 0.821478076481\n",
      "\n",
      "alpha: 0.0001\n",
      "Coefficients:  [-0.49337574  0.01989563 -0.01695113 -0.00647404  0.08057584  0.75077266\n",
      "  1.42613946]\n",
      "MSE:  10.847480945 r^2: 0.821478076481\n",
      "\n",
      "alpha: 0.001\n",
      "Coefficients:  [-0.49337055  0.01989548 -0.01695102 -0.00647405  0.08057585  0.75077253\n",
      "  1.42613015]\n",
      "MSE:  10.847480945 r^2: 0.82147807648\n",
      "\n",
      "alpha: 0.01\n",
      "Coefficients:  [-0.49331859  0.01989405 -0.01694991 -0.00647407  0.08057592  0.75077118\n",
      "  1.42603701]\n",
      "MSE:  10.8474809495 r^2: 0.821478076407\n",
      "\n",
      "alpha: 0.1\n",
      "Coefficients:  [-0.49279957  0.0198797  -0.01693879 -0.00647433  0.08057663  0.75075772\n",
      "  1.42510632]\n",
      "MSE:  10.8474813965 r^2: 0.821478069051\n",
      "\n",
      "alpha: 1.0\n",
      "Coefficients:  [-0.48766469  0.01973747 -0.01682864 -0.00647685  0.08058275  0.75062291\n",
      "  1.41586743]\n",
      "MSE:  10.8475254544 r^2: 0.82147734397\n",
      "\n",
      "alpha: 10.0\n",
      "Coefficients:  [-0.44132506  0.01843301 -0.01581873 -0.00649962  0.0805576   0.74925668\n",
      "  1.32979547]\n",
      "MSE:  10.8513654542 r^2: 0.821414147347\n",
      "\n",
      "alpha: 100.0\n",
      "Coefficients:  [-0.22094563  0.0114819  -0.01072851 -0.00659965  0.07641421  0.73482563\n",
      "  0.82973898]\n",
      "MSE:  10.9921872719 r^2: 0.819096578698\n",
      "\n",
      "alpha: 1000.0\n",
      "Coefficients:  [-0.03550905  0.00248971 -0.01210813 -0.00643065  0.03662756  0.60962732\n",
      "  0.17595301]\n",
      "MSE:  11.6739878809 r^2: 0.807875876234\n",
      "\n",
      "alpha: 10000.0\n",
      "Coefficients:  [-0.00401002 -0.00383521 -0.02857067 -0.00576105  0.00326937  0.22625175\n",
      "  0.01979579]\n",
      "MSE:  14.6308918107 r^2: 0.759212764503\n",
      "\n",
      "alpha: 100000.0\n",
      "Coefficients:  [-0.00048579 -0.00861624 -0.02203268 -0.00574477  0.00168013  0.03192724\n",
      "  0.00186593]\n",
      "MSE:  17.3849578607 r^2: 0.713887847941\n",
      "\n",
      "alpha: 1000000.0\n",
      "Coefficients:  [-0.00011524 -0.00584287 -0.00550906 -0.00673041  0.00047168  0.00350884\n",
      "  0.00018644]\n",
      "MSE:  18.2286761556 r^2: 0.700002392537\n",
      "\n",
      "alpha: 10000000.0\n",
      "Coefficients:  [ -2.74148311e-05  -1.63419441e-03  -9.35513242e-04  -7.16810354e-03\n",
      "   6.98668161e-05   3.70072235e-04   2.29218946e-05]\n",
      "MSE:  18.6119211883 r^2: 0.693695154869\n",
      "\n",
      "alpha: 100000000.0\n",
      "Coefficients:  [ -1.15831479e-05  -7.27929631e-04  -2.86191571e-04  -5.57582220e-03\n",
      "   1.38158905e-05   4.37022375e-05   5.00444466e-06]\n",
      "MSE:  21.4440333385 r^2: 0.647085798169\n",
      "\n",
      "alpha: 1000000000.0\n",
      "Coefficients:  [ -3.18037006e-06  -2.01774270e-04  -7.25779962e-05  -1.67691179e-03\n",
      "   2.90921384e-06   5.87922137e-06   1.12248872e-06]\n",
      "MSE:  44.0936539606 r^2: 0.274330698534\n",
      "\n",
      "alpha: 10000000000.0\n",
      "Coefficients:  [ -3.93950264e-07  -2.50195641e-05  -8.90800537e-06  -2.09724559e-04\n",
      "   3.48227212e-07   6.44544784e-07   1.35604345e-07]\n",
      "MSE:  58.4499786069 r^2: 0.0380621396388\n",
      "\n"
     ]
    },
    {
     "data": {
      "text/plain": [
       "<matplotlib.axes._subplots.AxesSubplot at 0x1195830d0>"
      ]
     },
     "execution_count": 9,
     "metadata": {},
     "output_type": "execute_result"
    },
    {
     "data": {
      "image/png": "[encoded data removed]",
      "text/plain": [
       "<matplotlib.figure.Figure at 0x1192e4d50>"
      ]
     },
     "metadata": {},
     "output_type": "display_data"
    }
   ],
   "source": [
    "# For each alpha, fit Ridge regression model to data, print MSE\n",
    "alphas = np.logspace(start=-10, stop=10, num=21)\n",
    "mse = []\n",
    "for a in alphas:\n",
    "    print 'alpha:', a\n",
    "    lm = linear_model.Ridge(alpha=a)\n",
    "    lm.fit(X, y)\n",
    "    print 'Coefficients: ', lm.coef_\n",
    "    mse.append(mean_squared_error(y, lm.predict(X)))\n",
    "    print 'MSE: ', mse[-1], 'r^2:', lm.score(X,y)\n",
    "    print\n",
    "\n",
    "sns.pointplot(x=\"alpha\", y=\"mse\", data=pd.DataFrame({'alpha': alphas, 'mse': mse}))"
   ]
  },
  {
   "cell_type": "code",
   "execution_count": 36,
   "metadata": {
    "collapsed": false
   },
   "outputs": [
    {
     "name": "stdout",
     "output_type": "stream",
     "text": [
      "Alpha: 1e-10\n",
      "Coefficients:  [-0.49337632  0.01989564 -0.01695114 -0.00647404  0.08057584  0.75077268\n",
      "  1.4261405 ]\n",
      "MSE:  10.847480945 r^2: 0.821478076481\n",
      "\n",
      "Alpha: 1e-09\n",
      "Coefficients:  [-0.49337631  0.01989564 -0.01695114 -0.00647404  0.08057584  0.75077268\n",
      "  1.42614049]\n",
      "MSE:  10.847480945 r^2: 0.821478076481\n",
      "\n",
      "Alpha: 1e-08\n",
      "Coefficients:  [-0.49337628  0.01989564 -0.01695114 -0.00647404  0.08057584  0.75077268\n",
      "  1.42614046]\n",
      "MSE:  10.847480945 r^2: 0.821478076481\n",
      "\n",
      "Alpha: 1e-07\n",
      "Coefficients:  [-0.49337591  0.01989563 -0.01695114 -0.00647404  0.08057581  0.75077267\n",
      "  1.42614019]\n",
      "MSE:  10.847480945 r^2: 0.821478076481\n",
      "\n",
      "Alpha: 1e-06\n",
      "Coefficients:  [-0.49337228  0.01989556 -0.01695112 -0.00647404  0.08057557  0.75077259\n",
      "  1.4261374 ]\n",
      "MSE:  10.847480945 r^2: 0.821478076481\n",
      "\n",
      "Alpha: 1e-05\n",
      "Coefficients:  [-0.49333606  0.01989477 -0.01695091 -0.00647405  0.08057316  0.7507718\n",
      "  1.42610956]\n",
      "MSE:  10.8474809458 r^2: 0.821478076469\n",
      "\n",
      "Alpha: 0.0001\n",
      "Coefficients:  [-0.492974    0.01988691 -0.0169488  -0.00647408  0.08054908  0.75076391\n",
      "  1.42583114]\n",
      "MSE:  10.8474810208 r^2: 0.821478075233\n",
      "\n",
      "Alpha: 0.001\n",
      "Coefficients:  [-0.48931861  0.01980794 -0.01692802 -0.00647438  0.08030672  0.75068472\n",
      "  1.42304653]\n",
      "MSE:  10.8474886018 r^2: 0.821477950469\n",
      "\n",
      "Alpha: 0.01\n",
      "Coefficients:  [-0.45308857  0.01902205 -0.01671781 -0.00647735  0.07789263  0.74989471\n",
      "  1.39520622]\n",
      "MSE:  10.8482404814 r^2: 0.821465576445\n",
      "\n",
      "Alpha: 0.1\n",
      "Coefficients:  [-0.09145645  0.01117275 -0.01461202 -0.00650699  0.05377496  0.74199977\n",
      "  1.11684083]\n",
      "MSE:  10.9232253408 r^2: 0.820231516537\n",
      "\n",
      "Alpha: 1.0\n",
      "Coefficients:  [-0.          0.         -0.00734394 -0.00646937  0.          0.66308442\n",
      "  0.        ]\n",
      "MSE:  11.7303986893 r^2: 0.806947497924\n",
      "\n",
      "Alpha: 10.0\n",
      "Coefficients:  [-0.         -0.00625887 -0.01545317 -0.00630863  0.          0.          0.        ]\n",
      "MSE:  18.0539330707 r^2: 0.702878218897\n",
      "\n",
      "Alpha: 100.0\n",
      "Coefficients:  [-0.         -0.         -0.         -0.00750838  0.          0.          0.        ]\n",
      "MSE:  18.6905123534 r^2: 0.69240174435\n",
      "\n",
      "Alpha: 1000.0\n",
      "Coefficients:  [-0.         -0.         -0.         -0.00625777  0.          0.          0.        ]\n",
      "MSE:  20.0661921937 r^2: 0.669761556043\n",
      "\n",
      "Alpha: 10000.0\n",
      "Coefficients:  [-0. -0. -0. -0.  0.  0.  0.]\n",
      "MSE:  60.7627384423 r^2: 0.0\n",
      "\n",
      "Alpha: 100000.0\n",
      "Coefficients:  [-0. -0. -0. -0.  0.  0.  0.]\n",
      "MSE:  60.7627384423 r^2: 0.0\n",
      "\n",
      "Alpha: 1000000.0\n",
      "Coefficients:  [-0. -0. -0. -0.  0.  0.  0.]\n",
      "MSE:  60.7627384423 r^2: 0.0\n",
      "\n",
      "Alpha: 10000000.0\n",
      "Coefficients:  [-0. -0. -0. -0.  0.  0.  0.]\n",
      "MSE:  60.7627384423 r^2: 0.0\n",
      "\n",
      "Alpha: 100000000.0\n",
      "Coefficients:  [-0. -0. -0. -0.  0.  0.  0.]\n",
      "MSE:  60.7627384423 r^2: 0.0\n",
      "\n",
      "Alpha: 1000000000.0\n",
      "Coefficients:  [-0. -0. -0. -0.  0.  0.  0.]\n",
      "MSE:  60.7627384423 r^2: 0.0\n",
      "\n",
      "Alpha: 10000000000.0\n",
      "Coefficients:  [-0. -0. -0. -0.  0.  0.  0.]\n",
      "MSE:  60.7627384423 r^2: 0.0\n",
      "\n"
     ]
    },
    {
     "data": {
      "image/png": "[encoded data removed]",
      "text/plain": [
       "<matplotlib.figure.Figure at 0x11abd3790>"
      ]
     },
     "metadata": {},
     "output_type": "display_data"
    }
   ],
   "source": [
    "# For each alpha, fit Ridge regression model to data, print MSE\n",
    "alphas = np.logspace(start=-10, stop=10, num=21)\n",
    "mse = []\n",
    "for a in alphas:\n",
    "    print 'Alpha:', a\n",
    "    lm = linear_model.Lasso(alpha=a)\n",
    "    lm.fit(X, y)\n",
    "    print 'Coefficients: ', lm.coef_\n",
    "    mse.append(mean_squared_error(y, lm.predict(X)))\n",
    "    print 'MSE: ', mse[-1], 'r^2:', lm.score(X,y)\n",
    "    print\n",
    "\n",
    "ax = sns.pointplot(x=\"alpha\", y=\"mse\", data=pd.DataFrame({'alpha': alphas, 'mse': mse}))\n",
    "#ax.set(xscale=\"log\")\n",
    "#ax.set_xticks(np.arange(1,4,1))#set(xticklabels=[10**i for i in range(-20,20,5)])"
   ]
  },
  {
   "cell_type": "code",
   "execution_count": 11,
   "metadata": {
    "collapsed": false
   },
   "outputs": [
    {
     "data": {
      "text/plain": [
       "[10.847480945000449,\n",
       " 10.847480945000449,\n",
       " 10.847480945000449,\n",
       " 10.847480945000529,\n",
       " 10.847480945008057,\n",
       " 10.847480945759502,\n",
       " 10.847481020827363,\n",
       " 10.847488601836762,\n",
       " 10.848240481447585,\n",
       " 10.923225340834794,\n",
       " 11.730398689270192,\n",
       " 18.05393307068249,\n",
       " 18.69051235338253,\n",
       " 20.066192193742278,\n",
       " 60.762738442315708,\n",
       " 60.762738442315708,\n",
       " 60.762738442315708,\n",
       " 60.762738442315708,\n",
       " 60.762738442315708,\n",
       " 60.762738442315708,\n",
       " 60.762738442315708]"
      ]
     },
     "execution_count": 11,
     "metadata": {},
     "output_type": "execute_result"
    }
   ],
   "source": [
    "mse"
   ]
  },
  {
   "cell_type": "code",
   "execution_count": null,
   "metadata": {
    "collapsed": true
   },
   "outputs": [],
   "source": []
  }
 ],
 "metadata": {
  "anaconda-cloud": {},
  "kernelspec": {
   "display_name": "Python [conda root]",
   "language": "python",
   "name": "conda-root-py"
  },
  "language_info": {
   "codemirror_mode": {
    "name": "ipython",
    "version": 2
   },
   "file_extension": ".py",
   "mimetype": "text/x-python",
   "name": "python",
   "nbconvert_exporter": "python",
   "pygments_lexer": "ipython2",
   "version": "2.7.12"
  }
 },
 "nbformat": 4,
 "nbformat_minor": 1
}
