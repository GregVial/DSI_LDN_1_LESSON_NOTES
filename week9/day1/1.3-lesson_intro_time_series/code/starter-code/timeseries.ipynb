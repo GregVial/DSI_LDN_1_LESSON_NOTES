{
 "cells": [
  {
   "cell_type": "code",
   "execution_count": 2,
   "metadata": {
    "collapsed": false
   },
   "outputs": [
    {
     "name": "stdout",
     "output_type": "stream",
     "text": [
      "Populating the interactive namespace from numpy and matplotlib\n"
     ]
    }
   ],
   "source": [
    "from __future__ import division, print_function, unicode_literals\n",
    "import pandas as pd\n",
    "from datetime import timedelta\n",
    "%pylab inline\n",
    "\n",
    "df_goog = pd.read_csv('../../assets/datasets/goog.csv')"
   ]
  },
  {
   "cell_type": "markdown",
   "metadata": {},
   "source": [
    "Take a high-level look at the data. Describe it. What are we looking at? Hint: We can use our `plot` function to provide a good visual."
   ]
  },
  {
   "cell_type": "code",
   "execution_count": 6,
   "metadata": {
    "collapsed": false
   },
   "outputs": [
    {
     "data": {
      "text/html": [
       "<div>\n",
       "<table border=\"1\" class=\"dataframe\">\n",
       "  <thead>\n",
       "    <tr style=\"text-align: right;\">\n",
       "      <th></th>\n",
       "      <th>Date</th>\n",
       "      <th>Open</th>\n",
       "      <th>High</th>\n",
       "      <th>Low</th>\n",
       "      <th>Close</th>\n",
       "      <th>Volume</th>\n",
       "      <th>Adj Close</th>\n",
       "    </tr>\n",
       "  </thead>\n",
       "  <tbody>\n",
       "    <tr>\n",
       "      <th>0</th>\n",
       "      <td>2015-12-01</td>\n",
       "      <td>747.109985</td>\n",
       "      <td>775.955017</td>\n",
       "      <td>745.630005</td>\n",
       "      <td>762.369995</td>\n",
       "      <td>2519600</td>\n",
       "      <td>762.369995</td>\n",
       "    </tr>\n",
       "    <tr>\n",
       "      <th>1</th>\n",
       "      <td>2015-11-02</td>\n",
       "      <td>711.059998</td>\n",
       "      <td>762.708008</td>\n",
       "      <td>705.849976</td>\n",
       "      <td>742.599976</td>\n",
       "      <td>1795300</td>\n",
       "      <td>742.599976</td>\n",
       "    </tr>\n",
       "    <tr>\n",
       "      <th>2</th>\n",
       "      <td>2015-10-01</td>\n",
       "      <td>608.369995</td>\n",
       "      <td>730.000000</td>\n",
       "      <td>599.849976</td>\n",
       "      <td>710.809998</td>\n",
       "      <td>2337100</td>\n",
       "      <td>710.809998</td>\n",
       "    </tr>\n",
       "    <tr>\n",
       "      <th>3</th>\n",
       "      <td>2015-09-01</td>\n",
       "      <td>602.359985</td>\n",
       "      <td>650.900024</td>\n",
       "      <td>589.380005</td>\n",
       "      <td>608.419983</td>\n",
       "      <td>2398400</td>\n",
       "      <td>608.419983</td>\n",
       "    </tr>\n",
       "    <tr>\n",
       "      <th>4</th>\n",
       "      <td>2015-08-03</td>\n",
       "      <td>625.340027</td>\n",
       "      <td>674.900024</td>\n",
       "      <td>565.049988</td>\n",
       "      <td>618.250000</td>\n",
       "      <td>2661600</td>\n",
       "      <td>618.250000</td>\n",
       "    </tr>\n",
       "  </tbody>\n",
       "</table>\n",
       "</div>"
      ],
      "text/plain": [
       "         Date        Open        High         Low       Close   Volume  \\\n",
       "0  2015-12-01  747.109985  775.955017  745.630005  762.369995  2519600   \n",
       "1  2015-11-02  711.059998  762.708008  705.849976  742.599976  1795300   \n",
       "2  2015-10-01  608.369995  730.000000  599.849976  710.809998  2337100   \n",
       "3  2015-09-01  602.359985  650.900024  589.380005  608.419983  2398400   \n",
       "4  2015-08-03  625.340027  674.900024  565.049988  618.250000  2661600   \n",
       "\n",
       "    Adj Close  \n",
       "0  762.369995  \n",
       "1  742.599976  \n",
       "2  710.809998  \n",
       "3  608.419983  \n",
       "4  618.250000  "
      ]
     },
     "execution_count": 6,
     "metadata": {},
     "output_type": "execute_result"
    }
   ],
   "source": [
    "df_goog.head()"
   ]
  },
  {
   "cell_type": "code",
   "execution_count": 4,
   "metadata": {
    "collapsed": false
   },
   "outputs": [
    {
     "data": {
      "text/html": [
       "<div>\n",
       "<table border=\"1\" class=\"dataframe\">\n",
       "  <thead>\n",
       "    <tr style=\"text-align: right;\">\n",
       "      <th></th>\n",
       "      <th>Open</th>\n",
       "      <th>High</th>\n",
       "      <th>Low</th>\n",
       "      <th>Close</th>\n",
       "      <th>Volume</th>\n",
       "      <th>Adj Close</th>\n",
       "    </tr>\n",
       "  </thead>\n",
       "  <tbody>\n",
       "    <tr>\n",
       "      <th>count</th>\n",
       "      <td>22.000000</td>\n",
       "      <td>22.000000</td>\n",
       "      <td>22.000000</td>\n",
       "      <td>22.000000</td>\n",
       "      <td>2.200000e+01</td>\n",
       "      <td>22.000000</td>\n",
       "    </tr>\n",
       "    <tr>\n",
       "      <th>mean</th>\n",
       "      <td>575.890686</td>\n",
       "      <td>609.268155</td>\n",
       "      <td>552.366753</td>\n",
       "      <td>584.801935</td>\n",
       "      <td>2.019245e+06</td>\n",
       "      <td>584.801935</td>\n",
       "    </tr>\n",
       "    <tr>\n",
       "      <th>std</th>\n",
       "      <td>56.597440</td>\n",
       "      <td>71.429837</td>\n",
       "      <td>64.162213</td>\n",
       "      <td>69.206444</td>\n",
       "      <td>6.682940e+05</td>\n",
       "      <td>69.206444</td>\n",
       "    </tr>\n",
       "    <tr>\n",
       "      <th>min</th>\n",
       "      <td>524.729980</td>\n",
       "      <td>541.412415</td>\n",
       "      <td>487.562195</td>\n",
       "      <td>520.510010</td>\n",
       "      <td>2.530000e+04</td>\n",
       "      <td>520.510010</td>\n",
       "    </tr>\n",
       "    <tr>\n",
       "      <th>25%</th>\n",
       "      <td>538.548111</td>\n",
       "      <td>565.495086</td>\n",
       "      <td>516.023072</td>\n",
       "      <td>538.463135</td>\n",
       "      <td>1.685675e+06</td>\n",
       "      <td>538.463135</td>\n",
       "    </tr>\n",
       "    <tr>\n",
       "      <th>50%</th>\n",
       "      <td>560.617554</td>\n",
       "      <td>581.727631</td>\n",
       "      <td>534.417419</td>\n",
       "      <td>559.487549</td>\n",
       "      <td>1.856900e+06</td>\n",
       "      <td>559.487549</td>\n",
       "    </tr>\n",
       "    <tr>\n",
       "      <th>75%</th>\n",
       "      <td>577.745132</td>\n",
       "      <td>639.383209</td>\n",
       "      <td>565.040634</td>\n",
       "      <td>600.655640</td>\n",
       "      <td>2.387900e+06</td>\n",
       "      <td>600.655640</td>\n",
       "    </tr>\n",
       "    <tr>\n",
       "      <th>max</th>\n",
       "      <td>747.109985</td>\n",
       "      <td>775.955017</td>\n",
       "      <td>745.630005</td>\n",
       "      <td>762.369995</td>\n",
       "      <td>3.290800e+06</td>\n",
       "      <td>762.369995</td>\n",
       "    </tr>\n",
       "  </tbody>\n",
       "</table>\n",
       "</div>"
      ],
      "text/plain": [
       "             Open        High         Low       Close        Volume  \\\n",
       "count   22.000000   22.000000   22.000000   22.000000  2.200000e+01   \n",
       "mean   575.890686  609.268155  552.366753  584.801935  2.019245e+06   \n",
       "std     56.597440   71.429837   64.162213   69.206444  6.682940e+05   \n",
       "min    524.729980  541.412415  487.562195  520.510010  2.530000e+04   \n",
       "25%    538.548111  565.495086  516.023072  538.463135  1.685675e+06   \n",
       "50%    560.617554  581.727631  534.417419  559.487549  1.856900e+06   \n",
       "75%    577.745132  639.383209  565.040634  600.655640  2.387900e+06   \n",
       "max    747.109985  775.955017  745.630005  762.369995  3.290800e+06   \n",
       "\n",
       "        Adj Close  \n",
       "count   22.000000  \n",
       "mean   584.801935  \n",
       "std     69.206444  \n",
       "min    520.510010  \n",
       "25%    538.463135  \n",
       "50%    559.487549  \n",
       "75%    600.655640  \n",
       "max    762.369995  "
      ]
     },
     "execution_count": 4,
     "metadata": {},
     "output_type": "execute_result"
    }
   ],
   "source": [
    "df_goog.describe()"
   ]
  },
  {
   "cell_type": "code",
   "execution_count": 5,
   "metadata": {
    "collapsed": false
   },
   "outputs": [
    {
     "data": {
      "text/plain": [
       "<matplotlib.axes._subplots.AxesSubplot at 0x112941810>"
      ]
     },
     "execution_count": 5,
     "metadata": {},
     "output_type": "execute_result"
    },
    {
     "data": {
      "image/png": "[encoded data removed]",
      "text/plain": [
       "<matplotlib.figure.Figure at 0x112941290>"
      ]
     },
     "metadata": {},
     "output_type": "display_data"
    }
   ],
   "source": [
    "df_goog[['Open', 'Close', 'High', 'Low', 'Adj Close']].plot()"
   ]
  },
  {
   "cell_type": "code",
   "execution_count": null,
   "metadata": {
    "collapsed": true
   },
   "outputs": [],
   "source": [
    "df_goog.sort_values(['Date'])"
   ]
  },
  {
   "cell_type": "code",
   "execution_count": null,
   "metadata": {
    "collapsed": true
   },
   "outputs": [],
   "source": []
  },
  {
   "cell_type": "code",
   "execution_count": null,
   "metadata": {
    "collapsed": true
   },
   "outputs": [],
   "source": []
  },
  {
   "cell_type": "code",
   "execution_count": null,
   "metadata": {
    "collapsed": true
   },
   "outputs": [],
   "source": []
  },
  {
   "cell_type": "markdown",
   "metadata": {},
   "source": [
    "Looking a little deeper, let's gauge the integrity of our data. Is there any cleaning we can do? "
   ]
  },
  {
   "cell_type": "code",
   "execution_count": null,
   "metadata": {
    "collapsed": false
   },
   "outputs": [],
   "source": []
  },
  {
   "cell_type": "markdown",
   "metadata": {},
   "source": [
    "Let's examine the Date column. We should probably make it the index for our DataFrame, as we need to order the data by time. Doing this will result in 6 Series objects indexed by DateTime- literal Time Series!"
   ]
  },
  {
   "cell_type": "code",
   "execution_count": null,
   "metadata": {
    "collapsed": false
   },
   "outputs": [],
   "source": []
  },
  {
   "cell_type": "markdown",
   "metadata": {},
   "source": [
    "We need to convert the string to a DateTime object. Pandas has a built in function for this! Easy peasy. We should also ensure that the dates are sorted."
   ]
  },
  {
   "cell_type": "code",
   "execution_count": null,
   "metadata": {
    "collapsed": true
   },
   "outputs": [],
   "source": []
  },
  {
   "cell_type": "markdown",
   "metadata": {},
   "source": [
    "Let's add some more columns with useful data extracted from the DateTime index."
   ]
  },
  {
   "cell_type": "code",
   "execution_count": null,
   "metadata": {
    "collapsed": true
   },
   "outputs": [],
   "source": []
  },
  {
   "cell_type": "markdown",
   "metadata": {},
   "source": [
    "Let's walk through adding a dummy variable to flag days where the Close price was higher than the Open price"
   ]
  },
  {
   "cell_type": "code",
   "execution_count": null,
   "metadata": {
    "collapsed": false
   },
   "outputs": [],
   "source": []
  },
  {
   "cell_type": "markdown",
   "metadata": {},
   "source": [
    "We can use the DateTime object to access various different cuts of data using date attributes. For example, if we wanted to get all of the cuts from 2015, we would do as such:"
   ]
  },
  {
   "cell_type": "code",
   "execution_count": null,
   "metadata": {
    "collapsed": false
   },
   "outputs": [],
   "source": []
  },
  {
   "cell_type": "markdown",
   "metadata": {},
   "source": [
    "Let's recall the TimeDelta object. We can use this to shift our entire index by a given offset."
   ]
  },
  {
   "cell_type": "code",
   "execution_count": null,
   "metadata": {
    "collapsed": false
   },
   "outputs": [],
   "source": []
  },
  {
   "cell_type": "markdown",
   "metadata": {},
   "source": [
    "On your own, try to shift the entire time series **both** forwards and backwards by the following intervals:\n",
    "- 1 hour\n",
    "- 3 days\n",
    "- 12 years, 1 hour, and 43 seconds"
   ]
  },
  {
   "cell_type": "code",
   "execution_count": null,
   "metadata": {
    "collapsed": false
   },
   "outputs": [],
   "source": []
  },
  {
   "cell_type": "markdown",
   "metadata": {
    "collapsed": true
   },
   "source": [
    "## Discussion: Date ranges and Frequencies"
   ]
  },
  {
   "cell_type": "code",
   "execution_count": null,
   "metadata": {
    "collapsed": false
   },
   "outputs": [],
   "source": []
  },
  {
   "cell_type": "markdown",
   "metadata": {},
   "source": [
    "Note that `asfreq` gives us a `method` keyword argument. Backfill, or bfill, will propogate the last valid observation forward. In other words, it will use the value preceding a range of unknown indices to fill in the unknowns. Inversely, pad, or ffill, will use the first value succeeding a range of unknown indices to fill in the unknowns."
   ]
  },
  {
   "cell_type": "markdown",
   "metadata": {},
   "source": [
    "Now, let's discuss the following points:\n",
    "- What does `asfreq` do?\n",
    "- What does `resample` do?\n",
    "- What is the difference?\n",
    "- When would we want to use each?"
   ]
  },
  {
   "cell_type": "markdown",
   "metadata": {},
   "source": [
    "We can also create our own date ranges using a built in function, `date_range`. The `periods` and `freq` keyword arguments grant the user finegrained control over the resulting values. To reset the time data, use the `normalize=True` directive."
   ]
  },
  {
   "cell_type": "markdown",
   "metadata": {},
   "source": [
    "**NOTE:** See Reference B in the lesson notes for all of the available offset aliases"
   ]
  },
  {
   "cell_type": "code",
   "execution_count": null,
   "metadata": {
    "collapsed": false
   },
   "outputs": [],
   "source": []
  },
  {
   "cell_type": "markdown",
   "metadata": {},
   "source": [
    "We are also given a Period object, which can be used to represent a time interval. The Period object consists of a start time and an end time, and can be created by providing a start time and a given frequency."
   ]
  },
  {
   "cell_type": "code",
   "execution_count": null,
   "metadata": {
    "collapsed": false
   },
   "outputs": [],
   "source": []
  },
  {
   "cell_type": "markdown",
   "metadata": {},
   "source": [
    "Each of these objects can be used to alter and access data from our DataFrames. We'll try those out in our Independent Practice in a moment."
   ]
  }
 ],
 "metadata": {
  "anaconda-cloud": {},
  "kernelspec": {
   "display_name": "Python [default]",
   "language": "python",
   "name": "python2"
  },
  "language_info": {
   "codemirror_mode": {
    "name": "ipython",
    "version": 2
   },
   "file_extension": ".py",
   "mimetype": "text/x-python",
   "name": "python",
   "nbconvert_exporter": "python",
   "pygments_lexer": "ipython2",
   "version": "2.7.12"
  }
 },
 "nbformat": 4,
 "nbformat_minor": 0
}
