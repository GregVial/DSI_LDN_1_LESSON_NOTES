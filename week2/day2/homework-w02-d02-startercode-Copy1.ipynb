{
 "cells": [
  {
   "cell_type": "markdown",
   "metadata": {},
   "source": [
    "# W02d02 - Practice in data cleaning\n",
    "\n",
    "Load the following data file about the safety of data airlines comparing the period of 1985 to 1999 with the one from 2000 to 2014. Unfortunately, some accidents happend to this dataset which you are asked to cure: \n",
    "1. Drop unnecessary columns\n",
    "1. Locate missing values by their indices\n",
    "1. Locate inconsistent datatypes by their indices\n",
    "1. Remove missing values\n",
    "1. Transform columns to consistent datatypes suitable for statistical analysis\n",
    "1. Create an additional column containing the counts of fatal accidents for each airline from 1985 to 2014\n",
    "1. Provide summary statistics for all numeric columns"
   ]
  },
  {
   "cell_type": "code",
   "execution_count": 62,
   "metadata": {
    "collapsed": true
   },
   "outputs": [],
   "source": [
    "import pandas as pd\n",
    "import numpy as np\n",
    "\n",
    "df = pd.read_csv('airline_safety.csv')"
   ]
  },
  {
   "cell_type": "markdown",
   "metadata": {},
   "source": [
    "#### 1. Drop unncessary columns"
   ]
  },
  {
   "cell_type": "code",
   "execution_count": 63,
   "metadata": {
    "collapsed": false
   },
   "outputs": [
    {
     "name": "stdout",
     "output_type": "stream",
     "text": [
      "Index([u'Unnamed: 0', u'airline', u'avail_seat_km_per_week',\n",
      "       u'incidents_85_99', u'fatal_accidents_85_99', u'fatalities_85_99',\n",
      "       u'incidents_00_14', u'fatal_accidents_00_14', u'fatalities_00_14'],\n",
      "      dtype='object')\n",
      "(56, 9)\n"
     ]
    },
    {
     "data": {
      "text/html": [
       "<div>\n",
       "<table border=\"1\" class=\"dataframe\">\n",
       "  <thead>\n",
       "    <tr style=\"text-align: right;\">\n",
       "      <th></th>\n",
       "      <th>Unnamed: 0</th>\n",
       "      <th>airline</th>\n",
       "      <th>avail_seat_km_per_week</th>\n",
       "      <th>incidents_85_99</th>\n",
       "      <th>fatal_accidents_85_99</th>\n",
       "      <th>fatalities_85_99</th>\n",
       "      <th>incidents_00_14</th>\n",
       "      <th>fatal_accidents_00_14</th>\n",
       "      <th>fatalities_00_14</th>\n",
       "    </tr>\n",
       "  </thead>\n",
       "  <tbody>\n",
       "    <tr>\n",
       "      <th>0</th>\n",
       "      <td>0</td>\n",
       "      <td>Aer Lingus</td>\n",
       "      <td>320906734</td>\n",
       "      <td>2</td>\n",
       "      <td>0.0</td>\n",
       "      <td>0</td>\n",
       "      <td>0.0</td>\n",
       "      <td>0</td>\n",
       "      <td>0.0</td>\n",
       "    </tr>\n",
       "    <tr>\n",
       "      <th>1</th>\n",
       "      <td>1</td>\n",
       "      <td>Aeroflot*</td>\n",
       "      <td>1197672318</td>\n",
       "      <td>76</td>\n",
       "      <td>14.0</td>\n",
       "      <td>128</td>\n",
       "      <td>six</td>\n",
       "      <td>1</td>\n",
       "      <td>88.0</td>\n",
       "    </tr>\n",
       "    <tr>\n",
       "      <th>2</th>\n",
       "      <td>2</td>\n",
       "      <td>Aerolineas Argentinas</td>\n",
       "      <td>385803648</td>\n",
       "      <td>6</td>\n",
       "      <td>0.0</td>\n",
       "      <td>0</td>\n",
       "      <td>1.0</td>\n",
       "      <td>0</td>\n",
       "      <td>0.0</td>\n",
       "    </tr>\n",
       "    <tr>\n",
       "      <th>3</th>\n",
       "      <td>3</td>\n",
       "      <td>Aeromexico*</td>\n",
       "      <td>596871813</td>\n",
       "      <td>3</td>\n",
       "      <td>1.0</td>\n",
       "      <td>64</td>\n",
       "      <td>5.0</td>\n",
       "      <td>0</td>\n",
       "      <td>0.0</td>\n",
       "    </tr>\n",
       "    <tr>\n",
       "      <th>4</th>\n",
       "      <td>4</td>\n",
       "      <td>Air Canada</td>\n",
       "      <td>1865253802</td>\n",
       "      <td>2</td>\n",
       "      <td>0.0</td>\n",
       "      <td>0</td>\n",
       "      <td>2.0</td>\n",
       "      <td>0</td>\n",
       "      <td>0.0</td>\n",
       "    </tr>\n",
       "  </tbody>\n",
       "</table>\n",
       "</div>"
      ],
      "text/plain": [
       "   Unnamed: 0                airline  avail_seat_km_per_week  incidents_85_99  \\\n",
       "0           0             Aer Lingus               320906734                2   \n",
       "1           1              Aeroflot*              1197672318               76   \n",
       "2           2  Aerolineas Argentinas               385803648                6   \n",
       "3           3            Aeromexico*               596871813                3   \n",
       "4           4             Air Canada              1865253802                2   \n",
       "\n",
       "  fatal_accidents_85_99  fatalities_85_99 incidents_00_14  \\\n",
       "0                   0.0                 0             0.0   \n",
       "1                  14.0               128             six   \n",
       "2                   0.0                 0             1.0   \n",
       "3                   1.0                64             5.0   \n",
       "4                   0.0                 0             2.0   \n",
       "\n",
       "   fatal_accidents_00_14  fatalities_00_14  \n",
       "0                      0               0.0  \n",
       "1                      1              88.0  \n",
       "2                      0               0.0  \n",
       "3                      0               0.0  \n",
       "4                      0               0.0  "
      ]
     },
     "execution_count": 63,
     "metadata": {},
     "output_type": "execute_result"
    }
   ],
   "source": [
    "print(df.columns)\n",
    "print(df.shape)\n",
    "df.head()"
   ]
  },
  {
   "cell_type": "markdown",
   "metadata": {},
   "source": [
    "There appears to be no unnecessary column"
   ]
  },
  {
   "cell_type": "markdown",
   "metadata": {},
   "source": [
    "#### 2. Locate missing values by their indices"
   ]
  },
  {
   "cell_type": "code",
   "execution_count": 64,
   "metadata": {
    "collapsed": false
   },
   "outputs": [
    {
     "name": "stdout",
     "output_type": "stream",
     "text": [
      "('Unnamed: 0', Int64Index([], dtype='int64'))\n",
      "('airline', Int64Index([], dtype='int64'))\n",
      "('avail_seat_km_per_week', Int64Index([], dtype='int64'))\n",
      "('incidents_85_99', Int64Index([], dtype='int64'))\n",
      "('fatal_accidents_85_99', Int64Index([10], dtype='int64'))\n",
      "('fatalities_85_99', Int64Index([], dtype='int64'))\n",
      "('incidents_00_14', Int64Index([40, 41, 42, 43, 44, 45, 46, 47, 48, 49, 50, 51, 52, 53, 54, 55], dtype='int64'))\n",
      "('fatal_accidents_00_14', Int64Index([], dtype='int64'))\n",
      "('fatalities_00_14', Int64Index([31, 32, 33, 34], dtype='int64'))\n"
     ]
    }
   ],
   "source": [
    "for col in df.columns:\n",
    "    print(col,df[col].index[df[col].apply(pd.isnull)])"
   ]
  },
  {
   "cell_type": "markdown",
   "metadata": {},
   "source": [
    "Columns incidents_00_14 and fatalities_00_14 have missing values as indicated above"
   ]
  },
  {
   "cell_type": "markdown",
   "metadata": {},
   "source": [
    "#### 3. Locate inconsistent datatypes by their indices"
   ]
  },
  {
   "cell_type": "code",
   "execution_count": 65,
   "metadata": {
    "collapsed": false
   },
   "outputs": [
    {
     "data": {
      "text/plain": [
       "Unnamed: 0                  int64\n",
       "airline                    object\n",
       "avail_seat_km_per_week      int64\n",
       "incidents_85_99             int64\n",
       "fatal_accidents_85_99      object\n",
       "fatalities_85_99            int64\n",
       "incidents_00_14            object\n",
       "fatal_accidents_00_14       int64\n",
       "fatalities_00_14          float64\n",
       "dtype: object"
      ]
     },
     "execution_count": 65,
     "metadata": {},
     "output_type": "execute_result"
    }
   ],
   "source": [
    "df.dtypes"
   ]
  },
  {
   "cell_type": "markdown",
   "metadata": {},
   "source": [
    "fatal_accidents_85_99 and incidents_00_14 should be int64\n",
    "\n",
    "_I was unable to come up with an elegant solution for this, had to lookup the data to find out with rows must be changed_"
   ]
  },
  {
   "cell_type": "markdown",
   "metadata": {},
   "source": [
    "#### 4. Remove missing values"
   ]
  },
  {
   "cell_type": "code",
   "execution_count": 66,
   "metadata": {
    "collapsed": false
   },
   "outputs": [
    {
     "data": {
      "text/plain": [
       "(35, 9)"
      ]
     },
     "execution_count": 66,
     "metadata": {},
     "output_type": "execute_result"
    }
   ],
   "source": [
    "df = df.dropna()\n",
    "df.shape"
   ]
  },
  {
   "cell_type": "markdown",
   "metadata": {},
   "source": [
    "21 rows have been dropped"
   ]
  },
  {
   "cell_type": "markdown",
   "metadata": {},
   "source": [
    "#### 5. Transform columns to consistent datatypes suitable for statistical analysis"
   ]
  },
  {
   "cell_type": "code",
   "execution_count": 73,
   "metadata": {
    "collapsed": false
   },
   "outputs": [
    {
     "name": "stderr",
     "output_type": "stream",
     "text": [
      "/home/dsi-student/anaconda2/lib/python2.7/site-packages/ipykernel/__main__.py:1: SettingWithCopyWarning: \n",
      "A value is trying to be set on a copy of a slice from a DataFrame\n",
      "\n",
      "See the caveats in the documentation: http://pandas.pydata.org/pandas-docs/stable/indexing.html#indexing-view-versus-copy\n",
      "  if __name__ == '__main__':\n",
      "/home/dsi-student/anaconda2/lib/python2.7/site-packages/ipykernel/__main__.py:2: SettingWithCopyWarning: \n",
      "A value is trying to be set on a copy of a slice from a DataFrame\n",
      "\n",
      "See the caveats in the documentation: http://pandas.pydata.org/pandas-docs/stable/indexing.html#indexing-view-versus-copy\n",
      "  from ipykernel import kernelapp as app\n"
     ]
    }
   ],
   "source": [
    "df['incidents_00_14'][1] = '6'\n",
    "df['fatal_accidents_85_99'][8] = '0'\n",
    "df['incidents_00_14'] = df['incidents_00_14'].astype(\"float64\")\n",
    "df['fatal_accidents_85_99'] = df['fatal_accidents_85_99'].astype(\"float64\")"
   ]
  },
  {
   "cell_type": "markdown",
   "metadata": {},
   "source": [
    "_I was unable to convert to int64, had to do float64 instead. Explanations welcome :) _ "
   ]
  },
  {
   "cell_type": "markdown",
   "metadata": {},
   "source": [
    "#### 6. Create an additional column containing the counts of fatal accidents for each airline from 1985 to 2014"
   ]
  },
  {
   "cell_type": "code",
   "execution_count": 76,
   "metadata": {
    "collapsed": false
   },
   "outputs": [],
   "source": [
    "df['total_fatal_accidents'] = df['fatal_accidents_85_99'] + df['fatal_accidents_00_14']"
   ]
  },
  {
   "cell_type": "markdown",
   "metadata": {},
   "source": [
    "#### 7. Provide summary statistics for all numeric columns"
   ]
  },
  {
   "cell_type": "code",
   "execution_count": 77,
   "metadata": {
    "collapsed": false
   },
   "outputs": [
    {
     "data": {
      "text/html": [
       "<div>\n",
       "<table border=\"1\" class=\"dataframe\">\n",
       "  <thead>\n",
       "    <tr style=\"text-align: right;\">\n",
       "      <th></th>\n",
       "      <th>Unnamed: 0</th>\n",
       "      <th>avail_seat_km_per_week</th>\n",
       "      <th>incidents_85_99</th>\n",
       "      <th>fatal_accidents_85_99</th>\n",
       "      <th>fatalities_85_99</th>\n",
       "      <th>incidents_00_14</th>\n",
       "      <th>fatal_accidents_00_14</th>\n",
       "      <th>fatalities_00_14</th>\n",
       "      <th>total_fatal_accidents</th>\n",
       "    </tr>\n",
       "  </thead>\n",
       "  <tbody>\n",
       "    <tr>\n",
       "      <th>count</th>\n",
       "      <td>35.000000</td>\n",
       "      <td>3.500000e+01</td>\n",
       "      <td>35.0000</td>\n",
       "      <td>35.000000</td>\n",
       "      <td>35.000000</td>\n",
       "      <td>35.000000</td>\n",
       "      <td>35.000000</td>\n",
       "      <td>35.000000</td>\n",
       "      <td>35.000000</td>\n",
       "    </tr>\n",
       "    <tr>\n",
       "      <th>mean</th>\n",
       "      <td>18.285714</td>\n",
       "      <td>1.214864e+09</td>\n",
       "      <td>8.0000</td>\n",
       "      <td>2.142857</td>\n",
       "      <td>109.200000</td>\n",
       "      <td>4.057143</td>\n",
       "      <td>0.685714</td>\n",
       "      <td>59.457143</td>\n",
       "      <td>2.828571</td>\n",
       "    </tr>\n",
       "    <tr>\n",
       "      <th>std</th>\n",
       "      <td>11.513602</td>\n",
       "      <td>1.406822e+09</td>\n",
       "      <td>13.4186</td>\n",
       "      <td>3.228029</td>\n",
       "      <td>155.217457</td>\n",
       "      <td>4.819952</td>\n",
       "      <td>0.866753</td>\n",
       "      <td>105.791233</td>\n",
       "      <td>3.721841</td>\n",
       "    </tr>\n",
       "    <tr>\n",
       "      <th>min</th>\n",
       "      <td>0.000000</td>\n",
       "      <td>2.774148e+08</td>\n",
       "      <td>0.0000</td>\n",
       "      <td>0.000000</td>\n",
       "      <td>0.000000</td>\n",
       "      <td>0.000000</td>\n",
       "      <td>0.000000</td>\n",
       "      <td>0.000000</td>\n",
       "      <td>0.000000</td>\n",
       "    </tr>\n",
       "    <tr>\n",
       "      <th>25%</th>\n",
       "      <td>8.500000</td>\n",
       "      <td>4.049649e+08</td>\n",
       "      <td>2.0000</td>\n",
       "      <td>0.000000</td>\n",
       "      <td>0.000000</td>\n",
       "      <td>1.000000</td>\n",
       "      <td>0.000000</td>\n",
       "      <td>0.000000</td>\n",
       "      <td>0.500000</td>\n",
       "    </tr>\n",
       "    <tr>\n",
       "      <th>50%</th>\n",
       "      <td>18.000000</td>\n",
       "      <td>6.133567e+08</td>\n",
       "      <td>4.0000</td>\n",
       "      <td>1.000000</td>\n",
       "      <td>47.000000</td>\n",
       "      <td>3.000000</td>\n",
       "      <td>0.000000</td>\n",
       "      <td>0.000000</td>\n",
       "      <td>1.000000</td>\n",
       "    </tr>\n",
       "    <tr>\n",
       "      <th>75%</th>\n",
       "      <td>26.500000</td>\n",
       "      <td>1.385945e+09</td>\n",
       "      <td>7.5000</td>\n",
       "      <td>3.000000</td>\n",
       "      <td>157.500000</td>\n",
       "      <td>5.000000</td>\n",
       "      <td>1.000000</td>\n",
       "      <td>88.000000</td>\n",
       "      <td>4.500000</td>\n",
       "    </tr>\n",
       "    <tr>\n",
       "      <th>max</th>\n",
       "      <td>39.000000</td>\n",
       "      <td>6.525659e+09</td>\n",
       "      <td>76.0000</td>\n",
       "      <td>14.000000</td>\n",
       "      <td>535.000000</td>\n",
       "      <td>24.000000</td>\n",
       "      <td>3.000000</td>\n",
       "      <td>416.000000</td>\n",
       "      <td>15.000000</td>\n",
       "    </tr>\n",
       "  </tbody>\n",
       "</table>\n",
       "</div>"
      ],
      "text/plain": [
       "       Unnamed: 0  avail_seat_km_per_week  incidents_85_99  \\\n",
       "count   35.000000            3.500000e+01          35.0000   \n",
       "mean    18.285714            1.214864e+09           8.0000   \n",
       "std     11.513602            1.406822e+09          13.4186   \n",
       "min      0.000000            2.774148e+08           0.0000   \n",
       "25%      8.500000            4.049649e+08           2.0000   \n",
       "50%     18.000000            6.133567e+08           4.0000   \n",
       "75%     26.500000            1.385945e+09           7.5000   \n",
       "max     39.000000            6.525659e+09          76.0000   \n",
       "\n",
       "       fatal_accidents_85_99  fatalities_85_99  incidents_00_14  \\\n",
       "count              35.000000         35.000000        35.000000   \n",
       "mean                2.142857        109.200000         4.057143   \n",
       "std                 3.228029        155.217457         4.819952   \n",
       "min                 0.000000          0.000000         0.000000   \n",
       "25%                 0.000000          0.000000         1.000000   \n",
       "50%                 1.000000         47.000000         3.000000   \n",
       "75%                 3.000000        157.500000         5.000000   \n",
       "max                14.000000        535.000000        24.000000   \n",
       "\n",
       "       fatal_accidents_00_14  fatalities_00_14  total_fatal_accidents  \n",
       "count              35.000000         35.000000              35.000000  \n",
       "mean                0.685714         59.457143               2.828571  \n",
       "std                 0.866753        105.791233               3.721841  \n",
       "min                 0.000000          0.000000               0.000000  \n",
       "25%                 0.000000          0.000000               0.500000  \n",
       "50%                 0.000000          0.000000               1.000000  \n",
       "75%                 1.000000         88.000000               4.500000  \n",
       "max                 3.000000        416.000000              15.000000  "
      ]
     },
     "execution_count": 77,
     "metadata": {},
     "output_type": "execute_result"
    }
   ],
   "source": [
    "df.describe()"
   ]
  }
 ],
 "metadata": {
  "anaconda-cloud": {},
  "kernelspec": {
   "display_name": "Python [conda root]",
   "language": "python",
   "name": "conda-root-py"
  },
  "language_info": {
   "codemirror_mode": {
    "name": "ipython",
    "version": 2
   },
   "file_extension": ".py",
   "mimetype": "text/x-python",
   "name": "python",
   "nbconvert_exporter": "python",
   "pygments_lexer": "ipython2",
   "version": "2.7.12"
  }
 },
 "nbformat": 4,
 "nbformat_minor": 1
}
