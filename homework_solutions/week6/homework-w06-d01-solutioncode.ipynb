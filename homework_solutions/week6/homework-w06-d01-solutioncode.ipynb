{
 "cells": [
  {
   "cell_type": "markdown",
   "metadata": {},
   "source": [
    "# Homework w06d01\n",
    "\n",
    "\n",
    "### Read in the Wisconsin Breast Cancer Dataset\n",
    "\n",
    "### Assign the columns\n",
    "\n",
    "The attributes below will be the columns of the dataset.\n",
    "  \n",
    "Attribute                     \n",
    "\n",
    "1. Sample code number [subject ID]\n",
    "1. Class\n",
    "1. Cell nucleus mean radius\n",
    "1. Cell nucleus SE radius\n",
    "1. Cell nucleus worst radius\n",
    "1. Texture mean\n",
    "1. Texture SE\n",
    "1. Texture worst\n",
    "1. Perimeter mean\n",
    "1. Perimeter SE\n",
    "1. Perimeter worst\n",
    "1. Area mean\n",
    "1. Area SE\n",
    "1. Area worst\n",
    "1. Smoothness mean\n",
    "1. Smoothness SE\n",
    "1. Smoothness worst\n",
    "1. Compactness mean\n",
    "1. Compactness SE\n",
    "1. Compactness worst\n",
    "1. Concavity mean\n",
    "1. Concavity SE\n",
    "1. Concavity worst\n",
    "1. Concave points mean\n",
    "1. Concave points SE\n",
    "1. Concave points worst\n",
    "1. Symmetry mean\n",
    "1. Symmetry SE\n",
    "1. Symmetry worst\n",
    "1. Fractal dimension mean\n",
    "1. Fractal dimension SE\n",
    "1. Fractal dimension worst\n",
    "\n",
    "The column names are taken from the dataset info file.\n",
    "For more information check out the information file: wdbc.names."
   ]
  },
  {
   "cell_type": "code",
   "execution_count": 1,
   "metadata": {
    "collapsed": false
   },
   "outputs": [
    {
     "name": "stdout",
     "output_type": "stream",
     "text": [
      "0    1\n",
      "1    1\n",
      "2    1\n",
      "3    1\n",
      "4    1\n",
      "Name: malignant, dtype: int64\n"
     ]
    },
    {
     "data": {
      "text/html": [
       "<div>\n",
       "<table border=\"1\" class=\"dataframe\">\n",
       "  <thead>\n",
       "    <tr style=\"text-align: right;\">\n",
       "      <th></th>\n",
       "      <th>nucleus_mean</th>\n",
       "      <th>nucleus_se</th>\n",
       "      <th>nucleus_worst</th>\n",
       "      <th>texture_mean</th>\n",
       "      <th>texture_se</th>\n",
       "      <th>texture_worst</th>\n",
       "      <th>perimeter_mean</th>\n",
       "      <th>perimeter_se</th>\n",
       "      <th>perimeter_worst</th>\n",
       "      <th>area_mean</th>\n",
       "      <th>...</th>\n",
       "      <th>concavity_worst</th>\n",
       "      <th>concave_pts_mean</th>\n",
       "      <th>concave_pts_se</th>\n",
       "      <th>concave_pts_worst</th>\n",
       "      <th>symmetry_mean</th>\n",
       "      <th>symmetry_se</th>\n",
       "      <th>symmetry_worst</th>\n",
       "      <th>fractal_dim_mean</th>\n",
       "      <th>fractal_dim_se</th>\n",
       "      <th>fractal_dim_worst</th>\n",
       "    </tr>\n",
       "  </thead>\n",
       "  <tbody>\n",
       "    <tr>\n",
       "      <th>0</th>\n",
       "      <td>17.99</td>\n",
       "      <td>10.38</td>\n",
       "      <td>122.80</td>\n",
       "      <td>1001.0</td>\n",
       "      <td>0.11840</td>\n",
       "      <td>0.27760</td>\n",
       "      <td>0.3001</td>\n",
       "      <td>0.14710</td>\n",
       "      <td>0.2419</td>\n",
       "      <td>0.07871</td>\n",
       "      <td>...</td>\n",
       "      <td>25.38</td>\n",
       "      <td>17.33</td>\n",
       "      <td>184.60</td>\n",
       "      <td>2019.0</td>\n",
       "      <td>0.1622</td>\n",
       "      <td>0.6656</td>\n",
       "      <td>0.7119</td>\n",
       "      <td>0.2654</td>\n",
       "      <td>0.4601</td>\n",
       "      <td>0.11890</td>\n",
       "    </tr>\n",
       "    <tr>\n",
       "      <th>1</th>\n",
       "      <td>20.57</td>\n",
       "      <td>17.77</td>\n",
       "      <td>132.90</td>\n",
       "      <td>1326.0</td>\n",
       "      <td>0.08474</td>\n",
       "      <td>0.07864</td>\n",
       "      <td>0.0869</td>\n",
       "      <td>0.07017</td>\n",
       "      <td>0.1812</td>\n",
       "      <td>0.05667</td>\n",
       "      <td>...</td>\n",
       "      <td>24.99</td>\n",
       "      <td>23.41</td>\n",
       "      <td>158.80</td>\n",
       "      <td>1956.0</td>\n",
       "      <td>0.1238</td>\n",
       "      <td>0.1866</td>\n",
       "      <td>0.2416</td>\n",
       "      <td>0.1860</td>\n",
       "      <td>0.2750</td>\n",
       "      <td>0.08902</td>\n",
       "    </tr>\n",
       "    <tr>\n",
       "      <th>2</th>\n",
       "      <td>19.69</td>\n",
       "      <td>21.25</td>\n",
       "      <td>130.00</td>\n",
       "      <td>1203.0</td>\n",
       "      <td>0.10960</td>\n",
       "      <td>0.15990</td>\n",
       "      <td>0.1974</td>\n",
       "      <td>0.12790</td>\n",
       "      <td>0.2069</td>\n",
       "      <td>0.05999</td>\n",
       "      <td>...</td>\n",
       "      <td>23.57</td>\n",
       "      <td>25.53</td>\n",
       "      <td>152.50</td>\n",
       "      <td>1709.0</td>\n",
       "      <td>0.1444</td>\n",
       "      <td>0.4245</td>\n",
       "      <td>0.4504</td>\n",
       "      <td>0.2430</td>\n",
       "      <td>0.3613</td>\n",
       "      <td>0.08758</td>\n",
       "    </tr>\n",
       "    <tr>\n",
       "      <th>3</th>\n",
       "      <td>11.42</td>\n",
       "      <td>20.38</td>\n",
       "      <td>77.58</td>\n",
       "      <td>386.1</td>\n",
       "      <td>0.14250</td>\n",
       "      <td>0.28390</td>\n",
       "      <td>0.2414</td>\n",
       "      <td>0.10520</td>\n",
       "      <td>0.2597</td>\n",
       "      <td>0.09744</td>\n",
       "      <td>...</td>\n",
       "      <td>14.91</td>\n",
       "      <td>26.50</td>\n",
       "      <td>98.87</td>\n",
       "      <td>567.7</td>\n",
       "      <td>0.2098</td>\n",
       "      <td>0.8663</td>\n",
       "      <td>0.6869</td>\n",
       "      <td>0.2575</td>\n",
       "      <td>0.6638</td>\n",
       "      <td>0.17300</td>\n",
       "    </tr>\n",
       "    <tr>\n",
       "      <th>4</th>\n",
       "      <td>20.29</td>\n",
       "      <td>14.34</td>\n",
       "      <td>135.10</td>\n",
       "      <td>1297.0</td>\n",
       "      <td>0.10030</td>\n",
       "      <td>0.13280</td>\n",
       "      <td>0.1980</td>\n",
       "      <td>0.10430</td>\n",
       "      <td>0.1809</td>\n",
       "      <td>0.05883</td>\n",
       "      <td>...</td>\n",
       "      <td>22.54</td>\n",
       "      <td>16.67</td>\n",
       "      <td>152.20</td>\n",
       "      <td>1575.0</td>\n",
       "      <td>0.1374</td>\n",
       "      <td>0.2050</td>\n",
       "      <td>0.4000</td>\n",
       "      <td>0.1625</td>\n",
       "      <td>0.2364</td>\n",
       "      <td>0.07678</td>\n",
       "    </tr>\n",
       "  </tbody>\n",
       "</table>\n",
       "<p>5 rows × 30 columns</p>\n",
       "</div>"
      ],
      "text/plain": [
       "   nucleus_mean  nucleus_se  nucleus_worst  texture_mean  texture_se  \\\n",
       "0         17.99       10.38         122.80        1001.0     0.11840   \n",
       "1         20.57       17.77         132.90        1326.0     0.08474   \n",
       "2         19.69       21.25         130.00        1203.0     0.10960   \n",
       "3         11.42       20.38          77.58         386.1     0.14250   \n",
       "4         20.29       14.34         135.10        1297.0     0.10030   \n",
       "\n",
       "   texture_worst  perimeter_mean  perimeter_se  perimeter_worst  area_mean  \\\n",
       "0        0.27760          0.3001       0.14710           0.2419    0.07871   \n",
       "1        0.07864          0.0869       0.07017           0.1812    0.05667   \n",
       "2        0.15990          0.1974       0.12790           0.2069    0.05999   \n",
       "3        0.28390          0.2414       0.10520           0.2597    0.09744   \n",
       "4        0.13280          0.1980       0.10430           0.1809    0.05883   \n",
       "\n",
       "         ...          concavity_worst  concave_pts_mean  concave_pts_se  \\\n",
       "0        ...                    25.38             17.33          184.60   \n",
       "1        ...                    24.99             23.41          158.80   \n",
       "2        ...                    23.57             25.53          152.50   \n",
       "3        ...                    14.91             26.50           98.87   \n",
       "4        ...                    22.54             16.67          152.20   \n",
       "\n",
       "   concave_pts_worst  symmetry_mean  symmetry_se  symmetry_worst  \\\n",
       "0             2019.0         0.1622       0.6656          0.7119   \n",
       "1             1956.0         0.1238       0.1866          0.2416   \n",
       "2             1709.0         0.1444       0.4245          0.4504   \n",
       "3              567.7         0.2098       0.8663          0.6869   \n",
       "4             1575.0         0.1374       0.2050          0.4000   \n",
       "\n",
       "   fractal_dim_mean  fractal_dim_se  fractal_dim_worst  \n",
       "0            0.2654          0.4601            0.11890  \n",
       "1            0.1860          0.2750            0.08902  \n",
       "2            0.2430          0.3613            0.08758  \n",
       "3            0.2575          0.6638            0.17300  \n",
       "4            0.1625          0.2364            0.07678  \n",
       "\n",
       "[5 rows x 30 columns]"
      ]
     },
     "execution_count": 1,
     "metadata": {},
     "output_type": "execute_result"
    }
   ],
   "source": [
    "import numpy as np\n",
    "import pandas as pd\n",
    "from sklearn.neighbors import KNeighborsClassifier\n",
    "from sklearn.model_selection import train_test_split, cross_val_predict, cross_val_score\n",
    "from sklearn.metrics import accuracy_score, average_precision_score, f1_score, recall_score, precision_score\n",
    "from matplotlib import pyplot as plt\n",
    "import seaborn as sns\n",
    "%matplotlib inline\n",
    "\n",
    "df = pd.read_csv(\"https://archive.ics.uci.edu/ml/machine-learning-databases/breast-cancer-wisconsin/wdbc.data\", header=None)\n",
    "\n",
    "column_names = ['id','malignant',\n",
    "                'nucleus_mean','nucleus_se','nucleus_worst',\n",
    "                'texture_mean','texture_se','texture_worst',\n",
    "                'perimeter_mean','perimeter_se','perimeter_worst',\n",
    "                'area_mean','area_se','area_worst',\n",
    "                'smoothness_mean','smoothness_se','smoothness_worst',\n",
    "                'compactness_mean','compactness_se','compactness_worst',\n",
    "                'concavity_mean','concavity_se','concavity_worst',\n",
    "                'concave_pts_mean','concave_pts_se','concave_pts_worst',\n",
    "                'symmetry_mean','symmetry_se','symmetry_worst',\n",
    "                'fractal_dim_mean','fractal_dim_se','fractal_dim_worst']\n",
    "\n",
    "df.columns = column_names\n",
    "\n",
    "# Define the feature matrix X\n",
    "X = df.iloc[:,2:]\n",
    "\n",
    "#Define the response y and recode it numerically\n",
    "y = df.malignant\n",
    "y = y.map(lambda x: 0 if x == \"B\" else 1)\n",
    "print y.head()\n",
    "X.head()"
   ]
  },
  {
   "cell_type": "markdown",
   "metadata": {},
   "source": [
    "#### 1. Use the standard scaler to transform the feature matrix X, put the output into a pandas data frame and assign the appropriate column names"
   ]
  },
  {
   "cell_type": "code",
   "execution_count": 2,
   "metadata": {
    "collapsed": true
   },
   "outputs": [],
   "source": [
    "from sklearn.preprocessing import StandardScaler\n",
    "\n",
    "scaler = StandardScaler()\n",
    "X = scaler.fit_transform(X)\n",
    "X = pd.DataFrame(X, columns=column_names[2:])\n",
    "X_train, X_test, y_train, y_test = train_test_split(X, y, test_size=0.3, random_state=42)"
   ]
  },
  {
   "cell_type": "markdown",
   "metadata": {},
   "source": [
    "#### 2. Build a classification tree of depth 3 on the training set and determine the model accuracy, the confusion matrix and the classification report  on the test set"
   ]
  },
  {
   "cell_type": "code",
   "execution_count": 3,
   "metadata": {
    "collapsed": false
   },
   "outputs": [
    {
     "name": "stdout",
     "output_type": "stream",
     "text": [
      "Accuracy score: \n",
      "0.970760233918\n",
      "\n",
      "Confusion matrix: \n",
      "   pred_1  pred_0\n",
      "1     106       2\n",
      "0       3      60\n",
      "\n",
      "Classification report: \n",
      "             precision    recall  f1-score   support\n",
      "\n",
      "          0       0.97      0.98      0.98       108\n",
      "          1       0.97      0.95      0.96        63\n",
      "\n",
      "avg / total       0.97      0.97      0.97       171\n",
      "\n"
     ]
    }
   ],
   "source": [
    "from sklearn.tree import DecisionTreeClassifier\n",
    "from sklearn.metrics import classification_report\n",
    "from sklearn.metrics import confusion_matrix, accuracy_score\n",
    "\n",
    "model = DecisionTreeClassifier(max_depth=3, random_state=1)\n",
    "model.fit(X_train, y_train)\n",
    "predictions = model.predict(X_test)\n",
    "\n",
    "print 'Accuracy score: '\n",
    "print accuracy_score(y_test,predictions)\n",
    "print \n",
    "conf = confusion_matrix(y_test, model.predict(X_test))\n",
    "predicted_cols = ['pred_'+str(c) for c in y.unique()]\n",
    "\n",
    "print 'Confusion matrix: '\n",
    "print pd.DataFrame(conf, index = y.unique(), columns = predicted_cols)\n",
    "print \n",
    "print 'Classification report: '\n",
    "print classification_report(y_test,model.predict(X_test))"
   ]
  },
  {
   "cell_type": "markdown",
   "metadata": {},
   "source": [
    "#### 3. Use the following function to create a png-file of the decision tree. Import the created png-file into the jupyter notebook by using "
   ]
  },
  {
   "cell_type": "code",
   "execution_count": 4,
   "metadata": {
    "collapsed": true
   },
   "outputs": [],
   "source": [
    "from os import system\n",
    "from sklearn.tree import export_graphviz\n",
    "\n",
    "def build_tree_image(model, filename='tree.png'):\n",
    "    dotfile = open(\"tree.dot\", 'w')\n",
    "    export_graphviz(model, out_file = dotfile, feature_names = X.columns,filled=True,\n",
    "                    rounded=True,special_characters=True)\n",
    "    dotfile.close()\n",
    "    system(\"dot -Tpng tree.dot -o {0}\".format(filename))  # comment out this line if you don't have GraphViz yet"
   ]
  },
  {
   "cell_type": "code",
   "execution_count": 5,
   "metadata": {
    "collapsed": false
   },
   "outputs": [],
   "source": [
    "build_tree_image(model,'tree.png')"
   ]
  },
  {
   "cell_type": "markdown",
   "metadata": {},
   "source": [
    "<img src='tree.png' width= 80%>"
   ]
  },
  {
   "cell_type": "markdown",
   "metadata": {},
   "source": [
    "#### 4. Use \"feature_importances_\" to obtain a rank list of the features according to their importance. Compare your results with the best subsetselection results based on logistic regression (homework w05d04)."
   ]
  },
  {
   "cell_type": "code",
   "execution_count": 6,
   "metadata": {
    "collapsed": false
   },
   "outputs": [
    {
     "data": {
      "text/html": [
       "<div>\n",
       "<table border=\"1\" class=\"dataframe\">\n",
       "  <thead>\n",
       "    <tr style=\"text-align: right;\">\n",
       "      <th></th>\n",
       "      <th>feature</th>\n",
       "      <th>importance</th>\n",
       "    </tr>\n",
       "  </thead>\n",
       "  <tbody>\n",
       "    <tr>\n",
       "      <th>7</th>\n",
       "      <td>perimeter_se</td>\n",
       "      <td>0.776270</td>\n",
       "    </tr>\n",
       "    <tr>\n",
       "      <th>21</th>\n",
       "      <td>concave_pts_mean</td>\n",
       "      <td>0.066145</td>\n",
       "    </tr>\n",
       "    <tr>\n",
       "      <th>20</th>\n",
       "      <td>concavity_worst</td>\n",
       "      <td>0.043482</td>\n",
       "    </tr>\n",
       "    <tr>\n",
       "      <th>23</th>\n",
       "      <td>concave_pts_worst</td>\n",
       "      <td>0.040310</td>\n",
       "    </tr>\n",
       "    <tr>\n",
       "      <th>22</th>\n",
       "      <td>concave_pts_se</td>\n",
       "      <td>0.033708</td>\n",
       "    </tr>\n",
       "    <tr>\n",
       "      <th>1</th>\n",
       "      <td>nucleus_se</td>\n",
       "      <td>0.025169</td>\n",
       "    </tr>\n",
       "    <tr>\n",
       "      <th>13</th>\n",
       "      <td>smoothness_se</td>\n",
       "      <td>0.014916</td>\n",
       "    </tr>\n",
       "    <tr>\n",
       "      <th>0</th>\n",
       "      <td>nucleus_mean</td>\n",
       "      <td>0.000000</td>\n",
       "    </tr>\n",
       "    <tr>\n",
       "      <th>17</th>\n",
       "      <td>compactness_worst</td>\n",
       "      <td>0.000000</td>\n",
       "    </tr>\n",
       "    <tr>\n",
       "      <th>28</th>\n",
       "      <td>fractal_dim_se</td>\n",
       "      <td>0.000000</td>\n",
       "    </tr>\n",
       "  </tbody>\n",
       "</table>\n",
       "</div>"
      ],
      "text/plain": [
       "              feature  importance\n",
       "7        perimeter_se    0.776270\n",
       "21   concave_pts_mean    0.066145\n",
       "20    concavity_worst    0.043482\n",
       "23  concave_pts_worst    0.040310\n",
       "22     concave_pts_se    0.033708\n",
       "1          nucleus_se    0.025169\n",
       "13      smoothness_se    0.014916\n",
       "0        nucleus_mean    0.000000\n",
       "17  compactness_worst    0.000000\n",
       "28     fractal_dim_se    0.000000"
      ]
     },
     "execution_count": 6,
     "metadata": {},
     "output_type": "execute_result"
    }
   ],
   "source": [
    "# compute the feature importances\n",
    "pd.DataFrame({'feature':X.columns,'importance':model.feature_importances_}).sort_values(\n",
    "    'importance',ascending=False).head(10)"
   ]
  },
  {
   "cell_type": "markdown",
   "metadata": {},
   "source": [
    "#### 5. Perform grid search with five-fold cross validation varying the maximal depth, the maximal number of leaf nodes and the minimum number of samples in each leaf. Obtain the ROC curve for the best model."
   ]
  },
  {
   "cell_type": "code",
   "execution_count": 7,
   "metadata": {
    "collapsed": false
   },
   "outputs": [
    {
     "name": "stdout",
     "output_type": "stream",
     "text": [
      "DecisionTreeClassifier(class_weight=None, criterion='gini', max_depth=1,\n",
      "            max_features=None, max_leaf_nodes=5, min_impurity_split=1e-07,\n",
      "            min_samples_leaf=1, min_samples_split=2,\n",
      "            min_weight_fraction_leaf=0.0, presort=False, random_state=1,\n",
      "            splitter='best')\n",
      "0.927943760984\n"
     ]
    }
   ],
   "source": [
    "from sklearn.model_selection import GridSearchCV\n",
    "model = DecisionTreeClassifier(random_state=1)\n",
    "#Grid Search\n",
    "PARAMETERS = {'max_depth':[1,2,3,4,5,6],\n",
    "              #, 'max_features':[1,2,3,4], \n",
    "              'max_leaf_nodes':[5,6,7,8,9,10], 'min_samples_leaf':[1,2,3,4]\n",
    "              #'min_samples_split':[1,2,3,4]\n",
    "             }\n",
    "SCORING = 'accuracy'\n",
    "clf = GridSearchCV(model, PARAMETERS, scoring=SCORING,cv=5)\n",
    "clf.fit(X, y)\n",
    "model = clf.best_estimator_\n",
    "\n",
    "#After completion, show the final best results and scores\n",
    "print clf.best_estimator_\n",
    "print clf.best_score_"
   ]
  },
  {
   "cell_type": "code",
   "execution_count": 8,
   "metadata": {
    "collapsed": false
   },
   "outputs": [],
   "source": [
    "from sklearn.metrics import roc_curve, auc"
   ]
  },
  {
   "cell_type": "code",
   "execution_count": 9,
   "metadata": {
    "collapsed": false
   },
   "outputs": [
    {
     "data": {
      "image/png": "[encoded data removed]",
      "text/plain": [
       "<matplotlib.figure.Figure at 0x1044df490>"
      ]
     },
     "metadata": {},
     "output_type": "display_data"
    }
   ],
   "source": [
    "model.fit(X_train,y_train)\n",
    "y_pred = model.predict_proba(X_test)[:, 1]\n",
    "fpr, tpr, thresholds = roc_curve(y_test, y_pred)\n",
    "ROC_AUC = auc(fpr,tpr)\n",
    "\n",
    "plt.plot(fpr, tpr, label='ROC curve (area = %0.3f)' % ROC_AUC, linewidth=4)\n",
    "plt.plot([0, 1], [0, 1], 'k--', linewidth=4)\n",
    "plt.xlim([0.0, 1.0])\n",
    "plt.ylim([0.0, 1.05])\n",
    "plt.xlabel('FPR', fontsize=18)\n",
    "plt.ylabel('TPR', fontsize=18)\n",
    "plt.title('ROC curve\\n', fontsize=18)\n",
    "plt.legend(loc=\"lower right\")\n",
    "plt.show()"
   ]
  },
  {
   "cell_type": "code",
   "execution_count": 10,
   "metadata": {
    "collapsed": false
   },
   "outputs": [
    {
     "name": "stdout",
     "output_type": "stream",
     "text": [
      "depth: 1, CV AUC [ 0.84189276  0.88614341  0.90744467  0.87877264  0.91985245], Average AUC 0.886821185511\n",
      "depth: 11, CV AUC [ 0.90956072  0.90939922  0.90744467  0.95020121  0.91281019], Average AUC 0.917883203614\n",
      "depth: 21, CV AUC [ 0.91650517  0.88856589  0.88631791  0.94315895  0.9035882 ], Average AUC 0.907627223288\n",
      "depth: 31, CV AUC [ 0.91650517  0.89551034  0.90040241  0.94315895  0.91985245], Average AUC 0.915085864021\n",
      "depth: 41, CV AUC [ 0.91650517  0.90713824  0.91934943  0.94315895  0.91985245], Average AUC 0.921200848502\n",
      "depth: 51, CV AUC [ 0.91650517  0.91408269  0.90744467  0.94315895  0.91985245], Average AUC 0.92020878501\n",
      "depth: 61, CV AUC [ 0.91650517  0.90939922  0.91230718  0.91230718  0.89872569], Average AUC 0.909848886601\n",
      "depth: 71, CV AUC [ 0.90956072  0.89551034  0.91230718  0.94315895  0.89168343], Average AUC 0.910444124696\n",
      "depth: 81, CV AUC [ 0.91650517  0.92797158  0.89336016  0.93829645  0.91281019], Average AUC 0.917788708998\n",
      "depth: 91, CV AUC [ 0.91650517  0.91408269  0.91230718  0.91934943  0.90576794], Average AUC 0.913602480516\n"
     ]
    }
   ],
   "source": [
    "# Test trees of higher depth\n",
    "\n",
    "score_list = []\n",
    "for depth in range(1, 100):\n",
    "    model = DecisionTreeClassifier(max_depth = depth)\n",
    "    scores = cross_val_score(model, X, y, scoring='roc_auc', cv=5)\n",
    "    score_list.append((depth,scores.mean()))\n",
    "    if depth % 10 == 1:\n",
    "        print('depth: {}, CV AUC {}, Average AUC {}'.format(depth, scores, scores.mean()))\n",
    "\n",
    "score_list = np.array(score_list)"
   ]
  },
  {
   "cell_type": "code",
   "execution_count": 12,
   "metadata": {
    "collapsed": false
   },
   "outputs": [
    {
     "data": {
      "image/png": "[encoded data removed]",
      "text/plain": [
       "<matplotlib.figure.Figure at 0x119d68090>"
      ]
     },
     "metadata": {},
     "output_type": "display_data"
    }
   ],
   "source": [
    "plt.plot(score_list[:100,0],score_list[:100,1])\n",
    "plt.show()"
   ]
  },
  {
   "cell_type": "code",
   "execution_count": null,
   "metadata": {
    "collapsed": true
   },
   "outputs": [],
   "source": []
  }
 ],
 "metadata": {
  "anaconda-cloud": {},
  "kernelspec": {
   "display_name": "Python [conda root]",
   "language": "python",
   "name": "conda-root-py"
  },
  "language_info": {
   "codemirror_mode": {
    "name": "ipython",
    "version": 2
   },
   "file_extension": ".py",
   "mimetype": "text/x-python",
   "name": "python",
   "nbconvert_exporter": "python",
   "pygments_lexer": "ipython2",
   "version": "2.7.12"
  }
 },
 "nbformat": 4,
 "nbformat_minor": 1
}
