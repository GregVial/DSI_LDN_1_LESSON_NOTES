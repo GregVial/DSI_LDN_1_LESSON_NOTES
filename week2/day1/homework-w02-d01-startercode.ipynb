{
 "cells": [
  {
   "cell_type": "markdown",
   "metadata": {},
   "source": [
    "# Practice with pandas\n",
    "\n",
    "Load a dataset of your choice from  https://github.com/fivethirtyeight/data which we neither used in class nor in the group exercise by using "
   ]
  },
  {
   "cell_type": "code",
   "execution_count": 108,
   "metadata": {
    "collapsed": false
   },
   "outputs": [],
   "source": [
    "import pandas as pd\n",
    "import numpy as np\n",
    "\n",
    "df = pd.read_csv('airline-safety.csv')"
   ]
  },
  {
   "cell_type": "markdown",
   "metadata": {},
   "source": [
    "(you might have to choose the raw format).\n",
    "Use the summary command to describe your data. Use at least five further built-in commands from numpy or pandas to obtain information about your data and give a short summary of your findings. "
   ]
  },
  {
   "cell_type": "code",
   "execution_count": 109,
   "metadata": {
    "collapsed": false
   },
   "outputs": [
    {
     "data": {
      "text/html": [
       "<div>\n",
       "<table border=\"1\" class=\"dataframe\">\n",
       "  <thead>\n",
       "    <tr style=\"text-align: right;\">\n",
       "      <th></th>\n",
       "      <th>avail_seat_km_per_week</th>\n",
       "      <th>incidents_85_99</th>\n",
       "      <th>fatal_accidents_85_99</th>\n",
       "      <th>fatalities_85_99</th>\n",
       "      <th>incidents_00_14</th>\n",
       "      <th>fatal_accidents_00_14</th>\n",
       "      <th>fatalities_00_14</th>\n",
       "    </tr>\n",
       "  </thead>\n",
       "  <tbody>\n",
       "    <tr>\n",
       "      <th>count</th>\n",
       "      <td>5.600000e+01</td>\n",
       "      <td>56.000000</td>\n",
       "      <td>56.000000</td>\n",
       "      <td>56.000000</td>\n",
       "      <td>56.000000</td>\n",
       "      <td>56.000000</td>\n",
       "      <td>56.000000</td>\n",
       "    </tr>\n",
       "    <tr>\n",
       "      <th>mean</th>\n",
       "      <td>1.384621e+09</td>\n",
       "      <td>7.178571</td>\n",
       "      <td>2.178571</td>\n",
       "      <td>112.410714</td>\n",
       "      <td>4.125000</td>\n",
       "      <td>0.660714</td>\n",
       "      <td>55.517857</td>\n",
       "    </tr>\n",
       "    <tr>\n",
       "      <th>std</th>\n",
       "      <td>1.465317e+09</td>\n",
       "      <td>11.035656</td>\n",
       "      <td>2.861069</td>\n",
       "      <td>146.691114</td>\n",
       "      <td>4.544977</td>\n",
       "      <td>0.858684</td>\n",
       "      <td>111.332751</td>\n",
       "    </tr>\n",
       "    <tr>\n",
       "      <th>min</th>\n",
       "      <td>2.593733e+08</td>\n",
       "      <td>0.000000</td>\n",
       "      <td>0.000000</td>\n",
       "      <td>0.000000</td>\n",
       "      <td>0.000000</td>\n",
       "      <td>0.000000</td>\n",
       "      <td>0.000000</td>\n",
       "    </tr>\n",
       "    <tr>\n",
       "      <th>25%</th>\n",
       "      <td>4.740362e+08</td>\n",
       "      <td>2.000000</td>\n",
       "      <td>0.000000</td>\n",
       "      <td>0.000000</td>\n",
       "      <td>1.000000</td>\n",
       "      <td>0.000000</td>\n",
       "      <td>0.000000</td>\n",
       "    </tr>\n",
       "    <tr>\n",
       "      <th>50%</th>\n",
       "      <td>8.029089e+08</td>\n",
       "      <td>4.000000</td>\n",
       "      <td>1.000000</td>\n",
       "      <td>48.500000</td>\n",
       "      <td>3.000000</td>\n",
       "      <td>0.000000</td>\n",
       "      <td>0.000000</td>\n",
       "    </tr>\n",
       "    <tr>\n",
       "      <th>75%</th>\n",
       "      <td>1.847239e+09</td>\n",
       "      <td>8.000000</td>\n",
       "      <td>3.000000</td>\n",
       "      <td>184.250000</td>\n",
       "      <td>5.250000</td>\n",
       "      <td>1.000000</td>\n",
       "      <td>83.250000</td>\n",
       "    </tr>\n",
       "    <tr>\n",
       "      <th>max</th>\n",
       "      <td>7.139291e+09</td>\n",
       "      <td>76.000000</td>\n",
       "      <td>14.000000</td>\n",
       "      <td>535.000000</td>\n",
       "      <td>24.000000</td>\n",
       "      <td>3.000000</td>\n",
       "      <td>537.000000</td>\n",
       "    </tr>\n",
       "  </tbody>\n",
       "</table>\n",
       "</div>"
      ],
      "text/plain": [
       "       avail_seat_km_per_week  incidents_85_99  fatal_accidents_85_99  \\\n",
       "count            5.600000e+01        56.000000              56.000000   \n",
       "mean             1.384621e+09         7.178571               2.178571   \n",
       "std              1.465317e+09        11.035656               2.861069   \n",
       "min              2.593733e+08         0.000000               0.000000   \n",
       "25%              4.740362e+08         2.000000               0.000000   \n",
       "50%              8.029089e+08         4.000000               1.000000   \n",
       "75%              1.847239e+09         8.000000               3.000000   \n",
       "max              7.139291e+09        76.000000              14.000000   \n",
       "\n",
       "       fatalities_85_99  incidents_00_14  fatal_accidents_00_14  \\\n",
       "count         56.000000        56.000000              56.000000   \n",
       "mean         112.410714         4.125000               0.660714   \n",
       "std          146.691114         4.544977               0.858684   \n",
       "min            0.000000         0.000000               0.000000   \n",
       "25%            0.000000         1.000000               0.000000   \n",
       "50%           48.500000         3.000000               0.000000   \n",
       "75%          184.250000         5.250000               1.000000   \n",
       "max          535.000000        24.000000               3.000000   \n",
       "\n",
       "       fatalities_00_14  \n",
       "count         56.000000  \n",
       "mean          55.517857  \n",
       "std          111.332751  \n",
       "min            0.000000  \n",
       "25%            0.000000  \n",
       "50%            0.000000  \n",
       "75%           83.250000  \n",
       "max          537.000000  "
      ]
     },
     "execution_count": 109,
     "metadata": {},
     "output_type": "execute_result"
    }
   ],
   "source": [
    "# your code\n",
    "from __future__ import division\n",
    "\n",
    "# Get a summary of the data\n",
    "df.describe()"
   ]
  },
  {
   "cell_type": "code",
   "execution_count": 107,
   "metadata": {
    "collapsed": false
   },
   "outputs": [
    {
     "name": "stdout",
     "output_type": "stream",
     "text": [
      "\n",
      "Total fatalities 1985-1999: 6295\n",
      "\n",
      "Total fatalities 2000-2014: 3109\n"
     ]
    }
   ],
   "source": [
    "# Count total fatalities\n",
    "print(\"\\nTotal fatalities 1985-1999: %d\" % df.fatalities_85_99.sum())\n",
    "print(\"\\nTotal fatalities 2000-2014: %d\" % df.fatalities_00_14.sum())"
   ]
  },
  {
   "cell_type": "code",
   "execution_count": 105,
   "metadata": {
    "collapsed": false
   },
   "outputs": [
    {
     "data": {
      "image/png": "[encoded data removed]",
      "text/plain": [
       "<matplotlib.figure.Figure at 0x7fea41176890>"
      ]
     },
     "metadata": {},
     "output_type": "display_data"
    }
   ],
   "source": [
    "# Compare overall fatalities\n",
    "import matplotlib.pyplot as plt\n",
    "%matplotlib inline\n",
    "f, axes = plt.subplots(1,2,sharey=True)\n",
    "df.fatalities_85_99.plot(kind=\"hist\",ax=axes[0],title=\"1985-1999 fatalities\")\n",
    "df.fatalities_00_14.plot(kind=\"hist\",ax=axes[1],title=\"2000-2014 fatalities\")\n",
    "plt.show()"
   ]
  },
  {
   "cell_type": "code",
   "execution_count": 90,
   "metadata": {
    "collapsed": false
   },
   "outputs": [
    {
     "name": "stdout",
     "output_type": "stream",
     "text": [
      "\n",
      "Airlines with most fatalities betwen 1985 and 1999\n",
      "                  airline  fatalities_85_99  incidents_85_99\n",
      "16         China Airlines               535               12\n",
      "28         Japan Airlines               520                3\n",
      "31             Korean Air               425               12\n",
      "19     Delta / Northwest*               407               24\n",
      "6              Air India*               329                2\n",
      "13                Avianca               323                5\n",
      "51  United / Continental*               319               19\n",
      "40          Saudi Arabian               313                7\n",
      "49           Thai Airways               308                8\n",
      "20               Egyptair               282                8\n",
      "24       Garuda Indonesia               260               10\n",
      "\n",
      "Airlines with most fatalities betwen 2000 and 2014\n",
      "                  airline  fatalities_00_14  incidents_00_14\n",
      "34      Malaysia Airlines               537                3\n",
      "11              American*               416               17\n",
      "5              Air France               337                6\n",
      "29          Kenya Airways               283                2\n",
      "16         China Airlines               225                2\n",
      "47                    TAM               188                7\n",
      "6              Air India*               158                4\n",
      "25               Gulf Air               143                3\n",
      "39                   SAS*               110                6\n",
      "51  United / Continental*               109               14\n",
      "22     Ethiopian Airlines                92                5\n"
     ]
    }
   ],
   "source": [
    "# Check which companies are in top 10 most fatalities \n",
    "print \"\\nAirlines with most fatalities betwen 1985 and 1999\"\n",
    "fat_85_99 = df.sort_values(by=\"fatalities_85_99\",ascending=False)[0:11][[\"airline\",\"fatalities_85_99\",\"incidents_85_99\"]]\n",
    "print(fat_85_99)\n",
    "\n",
    "print \"\\nAirlines with most fatalities betwen 2000 and 2014\"\n",
    "fat_00_14 = df.sort_values(by=\"fatalities_00_14\",ascending=False)[0:11][[\"airline\",\"fatalities_00_14\",\"incidents_00_14\"]]\n",
    "print(fat_00_14)"
   ]
  },
  {
   "cell_type": "code",
   "execution_count": 91,
   "metadata": {
    "collapsed": false
   },
   "outputs": [
    {
     "name": "stdout",
     "output_type": "stream",
     "text": [
      "\n",
      "Airlines that ranked in top 10 most fatalities in the two periods\n",
      "Air India*               2\n",
      "China Airlines           2\n",
      "United / Continental*    2\n",
      "Name: airline, dtype: int64\n"
     ]
    }
   ],
   "source": [
    "# Check which companies where in top 10 most fatalities in the two periods\n",
    "most_fat = fat_85_99[\"airline\"].append(fat_00_14[\"airline\"])\n",
    "most_fat = most_fat.value_counts()\n",
    "print(\"\\nAirlines that ranked in top 10 most fatalities in the two periods\")\n",
    "print(most_fat[most_fat == 2])"
   ]
  },
  {
   "cell_type": "code",
   "execution_count": 100,
   "metadata": {
    "collapsed": false
   },
   "outputs": [
    {
     "name": "stdout",
     "output_type": "stream",
     "text": [
      "\n",
      "Airlines with most incidents per seat million kilometer per week 1985-1999\n",
      "                   airline  inc_per_seat_Mkm_85_99\n",
      "1                Aeroflot*               63.456422\n",
      "22      Ethiopian Airlines               51.170720\n",
      "35  Pakistan International               22.951366\n",
      "55         Xiamen Airlines               20.907722\n",
      "36     Philippine Airlines               16.948859\n",
      "38         Royal Air Maroc               16.908724\n",
      "24        Garuda Indonesia               16.303728\n",
      "2    Aerolineas Argentinas               15.551952\n",
      "16          China Airlines               14.756218\n",
      "20                Egyptair               14.344633\n",
      "\n",
      "Airlines with most incidents per seat million kilometer per week 2000-2014\n",
      "                   airline  inc_per_seat_Mkm_00_14\n",
      "35  Pakistan International               28.689207\n",
      "40           Saudi Arabian               12.795550\n",
      "44   Sri Lankan / AirLanka               12.285655\n",
      "22      Ethiopian Airlines               10.234144\n",
      "38         Royal Air Maroc               10.145234\n",
      "25                Gulf Air                9.954218\n",
      "39                    SAS*                8.785135\n",
      "3              Aeromexico*                8.377008\n",
      "29           Kenya Airways                7.209421\n",
      "20                Egyptair                7.172316\n"
     ]
    }
   ],
   "source": [
    "# Check number of incidents proportionally to the number of seat kilometer flow each week\n",
    "inc_per_seat_Mkm_85_99 = [df.incidents_85_99[i]*10**9/df.avail_seat_km_per_week[i] for i in range(0,len(df.avail_seat_km_per_week))]\n",
    "df['inc_per_seat_Mkm_85_99'] = inc_per_seat_Mkm_85_99\n",
    "inc_per_seat_Mkm_00_14 = [df.incidents_00_14[i]*10**9/df.avail_seat_km_per_week[i] for i in range(0,len(df.avail_seat_km_per_week))]\n",
    "df['inc_per_seat_Mkm_00_14'] = inc_per_seat_Mkm_00_14\n",
    "inc_85_99 = df.sort_values(by='inc_per_seat_Mkm_85_99',ascending=False)\n",
    "print(\"\\nAirlines with most incidents per seat million kilometer per week 1985-1999\")\n",
    "print(inc_85_99[['airline','inc_per_seat_Mkm_85_99']][0:10])\n",
    "inc_00_14 = df.sort_values(by='inc_per_seat_Mkm_00_14',ascending=False)\n",
    "print(\"\\nAirlines with most incidents per seat million kilometer per week 2000-2014\")\n",
    "print(inc_00_14[['airline','inc_per_seat_Mkm_00_14']][0:10])\n"
   ]
  },
  {
   "cell_type": "code",
   "execution_count": 111,
   "metadata": {
    "collapsed": false
   },
   "outputs": [
    {
     "data": {
      "image/png": "[encoded data removed]",
      "text/plain": [
       "<matplotlib.figure.Figure at 0x7fea418785d0>"
      ]
     },
     "metadata": {},
     "output_type": "display_data"
    }
   ],
   "source": [
    "f, axes = plt.subplots(1,2,sharey=True,sharex=True)\n",
    "inc_85_99['inc_per_seat_Mkm_85_99'].plot(kind=\"hist\",ax=axes[0],title=\"1985-1999 incidents per seat Mkm\")\n",
    "inc_00_14['inc_per_seat_Mkm_00_14'].plot(kind=\"hist\",ax=axes[1],title=\"2000-2014\")\n",
    "plt.show()"
   ]
  },
  {
   "cell_type": "markdown",
   "metadata": {},
   "source": [
    "### Summary\n",
    "#### Overall fatalities\n",
    "The total number of fatalities linked to air accidents has been divided by two when comparing the period 1985-1999 and the period 2000-2014, declining from 6000+ to roughly 3000. This means that overall air trips have become more secure, especially if taking into account that the number of seat km over that period has increased significantly in 15 years.\n",
    "\n",
    "Looking at the repartition of fatalities, it is to be noted that in the first period observed, there used to be many more accidents with 150 or more fatalities than in the second period. However on the second period there are more accidents with less than 150 fatalities.\n",
    "This means that overall when accidents happen, they tend to kill less people in the recent period than during the period 1985-1999.\n",
    "\n",
    "#### Which airlines kill most\n",
    "Clearly over the period 1985-1999 the Asian airlines were the most dangerous, with 7 of them ranked in the top 10 of airlines with most fatalities.\n",
    "This is no longer the case over the period 2000-2014 where airlines from all continents are present in the top 10 (3 of them are Asian)\n",
    "\n",
    "3 companies make it to the top 10 during the 2 periods:\n",
    "* Air India\n",
    "* China Airlines\n",
    "* United / Continental\n",
    "\n",
    "#### Highest number of incidents per seat km flown\n",
    "It is interesting to look at how many incidents occured for each airline in proportion of the number of seat Mkm flown, as it is more representative of the real risks.\n",
    "\n",
    "_Note: the data doesn't provide differentiated number of seat km flown for the two period, only one figure is provided. My assumption is that this number has significantly grown from the earlier period to the later, hence the figures provided might not be accurate._\n",
    "\n",
    "In 1985-1999, two companies clearly stand out with extremly high number of incidents: Aeroflot (Russian) and Ethipian airlines. Pakistan Airlines comes third.\n",
    "\n",
    "In 2000-2014, one company stands out and it is Pakistan Airlines.\n",
    "\n",
    "Looking at the overall trend over the two periods, the number of incidents per seat km flown has greatly reduced"
   ]
  },
  {
   "cell_type": "code",
   "execution_count": null,
   "metadata": {
    "collapsed": true
   },
   "outputs": [],
   "source": []
  }
 ],
 "metadata": {
  "anaconda-cloud": {},
  "kernelspec": {
   "display_name": "Python [conda root]",
   "language": "python",
   "name": "conda-root-py"
  },
  "language_info": {
   "codemirror_mode": {
    "name": "ipython",
    "version": 2
   },
   "file_extension": ".py",
   "mimetype": "text/x-python",
   "name": "python",
   "nbconvert_exporter": "python",
   "pygments_lexer": "ipython2",
   "version": "2.7.12"
  }
 },
 "nbformat": 4,
 "nbformat_minor": 1
}
