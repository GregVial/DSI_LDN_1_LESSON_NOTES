{
 "cells": [
  {
   "cell_type": "markdown",
   "metadata": {},
   "source": [
    "## Identify: Problem Statement & Goals"
   ]
  },
  {
   "cell_type": "markdown",
   "metadata": {},
   "source": [
    "(Taken from the project's description.)\n",
    "\n",
    "You've been hired by Netflix to examine what factors lead to certain ratings for movies. Given that Netflix does not currently store this type of data, your boss has suggested that you collect ratings and reviews data from IMDB. Netflix is no stranger to machine learning, however:\n",
    "Netflix uses random forests and decision trees to predict what types of movies an individual user may like.\n",
    "Using unsupervised learning techniques, they are able to continually update suggestions, listings, and other features of it's user interface.\n",
    "Netflix, however, hasn't focused on collecting data on the top movies of all time, and would like to add some of them to their offerings based on popularity and other factors.\n",
    "\n",
    "Point: Your boss isn't sure where to start on this project, so your task is to collect the data and construct a random forest to understand what factors contribute to ratings.\n",
    "\n",
    "Acquire data from IMDB, and use whatever metrics you can collect to predict whether it is a good movie.\n",
    "When you've finished your analysis, Netflix would like a report detailing your findings, with recommendations as to next steps.\n",
    "\n",
    "Problem statement:\n",
    "What factors are the most direct predictors of gross revenue?\n",
    "You can use rating as your target variable. But it's up to you whether to treat it as continuous, binary, or multiclass.\n",
    "\n",
    "Goal: Completed Jupyter notebook that includes modeling using a random forest and a blog post explaining your findings."
   ]
  },
  {
   "cell_type": "markdown",
   "metadata": {},
   "source": [
    "## Acquire Data: Query IMDB, write results, scrape IMDB"
   ]
  },
  {
   "cell_type": "markdown",
   "metadata": {},
   "source": [
    "Install IMDB client using the IMDB json web service made available for their iOS app.\n",
    "\n",
    "Type this command in the Unix shell: <code>pip install imdbpie</code>"
   ]
  },
  {
   "cell_type": "code",
   "execution_count": 45,
   "metadata": {
    "collapsed": true
   },
   "outputs": [],
   "source": [
    "from __future__ import division, print_function, unicode_literals\n",
    "import numpy as np\n",
    "import pandas as pd \n",
    "import matplotlib.pyplot as plt\n",
    "import seaborn as sns\n",
    "%matplotlib inline"
   ]
  },
  {
   "cell_type": "code",
   "execution_count": 46,
   "metadata": {
    "collapsed": false
   },
   "outputs": [
    {
     "name": "stdout",
     "output_type": "stream",
     "text": [
      "(250, 8)\n"
     ]
    },
    {
     "data": {
      "text/html": [
       "<div>\n",
       "<table border=\"1\" class=\"dataframe\">\n",
       "  <thead>\n",
       "    <tr style=\"text-align: right;\">\n",
       "      <th></th>\n",
       "      <th>can_rate</th>\n",
       "      <th>image</th>\n",
       "      <th>num_votes</th>\n",
       "      <th>rating</th>\n",
       "      <th>tconst</th>\n",
       "      <th>title</th>\n",
       "      <th>type</th>\n",
       "      <th>year</th>\n",
       "    </tr>\n",
       "  </thead>\n",
       "  <tbody>\n",
       "    <tr>\n",
       "      <th>0</th>\n",
       "      <td>True</td>\n",
       "      <td>{u'url': u'https://images-na.ssl-images-amazon...</td>\n",
       "      <td>1729723</td>\n",
       "      <td>9.3</td>\n",
       "      <td>tt0111161</td>\n",
       "      <td>The Shawshank Redemption</td>\n",
       "      <td>feature</td>\n",
       "      <td>1994</td>\n",
       "    </tr>\n",
       "    <tr>\n",
       "      <th>1</th>\n",
       "      <td>True</td>\n",
       "      <td>{u'url': u'https://images-na.ssl-images-amazon...</td>\n",
       "      <td>1181979</td>\n",
       "      <td>9.2</td>\n",
       "      <td>tt0068646</td>\n",
       "      <td>The Godfather</td>\n",
       "      <td>feature</td>\n",
       "      <td>1972</td>\n",
       "    </tr>\n",
       "    <tr>\n",
       "      <th>2</th>\n",
       "      <td>True</td>\n",
       "      <td>{u'url': u'https://images-na.ssl-images-amazon...</td>\n",
       "      <td>810468</td>\n",
       "      <td>9.0</td>\n",
       "      <td>tt0071562</td>\n",
       "      <td>The Godfather: Part II</td>\n",
       "      <td>feature</td>\n",
       "      <td>1974</td>\n",
       "    </tr>\n",
       "    <tr>\n",
       "      <th>3</th>\n",
       "      <td>True</td>\n",
       "      <td>{u'url': u'https://images-na.ssl-images-amazon...</td>\n",
       "      <td>1714830</td>\n",
       "      <td>9.0</td>\n",
       "      <td>tt0468569</td>\n",
       "      <td>The Dark Knight</td>\n",
       "      <td>feature</td>\n",
       "      <td>2008</td>\n",
       "    </tr>\n",
       "    <tr>\n",
       "      <th>4</th>\n",
       "      <td>True</td>\n",
       "      <td>{u'url': u'https://images-na.ssl-images-amazon...</td>\n",
       "      <td>461640</td>\n",
       "      <td>8.9</td>\n",
       "      <td>tt0050083</td>\n",
       "      <td>12 Angry Men</td>\n",
       "      <td>feature</td>\n",
       "      <td>1957</td>\n",
       "    </tr>\n",
       "  </tbody>\n",
       "</table>\n",
       "</div>"
      ],
      "text/plain": [
       "  can_rate                                              image  num_votes  \\\n",
       "0     True  {u'url': u'https://images-na.ssl-images-amazon...    1729723   \n",
       "1     True  {u'url': u'https://images-na.ssl-images-amazon...    1181979   \n",
       "2     True  {u'url': u'https://images-na.ssl-images-amazon...     810468   \n",
       "3     True  {u'url': u'https://images-na.ssl-images-amazon...    1714830   \n",
       "4     True  {u'url': u'https://images-na.ssl-images-amazon...     461640   \n",
       "\n",
       "   rating     tconst                     title     type  year  \n",
       "0     9.3  tt0111161  The Shawshank Redemption  feature  1994  \n",
       "1     9.2  tt0068646             The Godfather  feature  1972  \n",
       "2     9.0  tt0071562    The Godfather: Part II  feature  1974  \n",
       "3     9.0  tt0468569           The Dark Knight  feature  2008  \n",
       "4     8.9  tt0050083              12 Angry Men  feature  1957  "
      ]
     },
     "execution_count": 46,
     "metadata": {},
     "output_type": "execute_result"
    }
   ],
   "source": [
    "from imdbpie import Imdb\n",
    "imdb = Imdb(anonymize=True)\n",
    "result = imdb.top_250()\n",
    "result_df = pd.DataFrame(result)\n",
    "print(result_df.shape)\n",
    "result_df.head()"
   ]
  },
  {
   "cell_type": "markdown",
   "metadata": {},
   "source": [
    "Using IMDB's API retrives very little information about each title.  I will use solution code from week06 day1 lab1.4 to scrape more data.\n",
    "\n",
    "The page http://www.imdb.com/chart/top contains the list of the top 250 movies of all times. Retrieve the page using the requests library and then parse the html to obtain a list of the `movie_ids` for these movies."
   ]
  },
  {
   "cell_type": "code",
   "execution_count": 47,
   "metadata": {
    "collapsed": true
   },
   "outputs": [],
   "source": [
    "import json\n",
    "import urllib\n",
    "import requests\n",
    "import json\n",
    "import re"
   ]
  },
  {
   "cell_type": "code",
   "execution_count": 48,
   "metadata": {
    "collapsed": true
   },
   "outputs": [],
   "source": [
    "def get_top_250():\n",
    "    response = requests.get('http://www.imdb.com/chart/top')\n",
    "    html = response.text\n",
    "    entries = re.findall(\"<a href.*?/title/(.*?)/\", html)\n",
    "    return list(set(entries))"
   ]
  },
  {
   "cell_type": "code",
   "execution_count": 49,
   "metadata": {
    "collapsed": true
   },
   "outputs": [],
   "source": [
    "entries = get_top_250()"
   ]
  },
  {
   "cell_type": "code",
   "execution_count": 50,
   "metadata": {
    "collapsed": false
   },
   "outputs": [
    {
     "data": {
      "text/plain": [
       "250"
      ]
     },
     "execution_count": 50,
     "metadata": {},
     "output_type": "execute_result"
    }
   ],
   "source": [
    "len(entries)"
   ]
  },
  {
   "cell_type": "code",
   "execution_count": 51,
   "metadata": {
    "collapsed": false
   },
   "outputs": [
    {
     "data": {
      "text/plain": [
       "u'tt2582802'"
      ]
     },
     "execution_count": 51,
     "metadata": {},
     "output_type": "execute_result"
    }
   ],
   "source": [
    "entries[0]"
   ]
  },
  {
   "cell_type": "markdown",
   "metadata": {},
   "source": [
    "An open API for the Internet Movie Database exists at http://www.omdbapi.com.\n",
    "\n",
    "Use this API to retrieve information about each of the 250 movies extracted in the previous step.\n",
    "1. Check the documentation of omdbapi.com to learn how to request movie data by id.\n",
    "- Define a function that returns a python object with all the information for a given id.\n",
    "- Iterate on all the IDs and store the results in a list of such objects.\n",
    "- Create a Pandas Dataframe from the list."
   ]
  },
  {
   "cell_type": "code",
   "execution_count": 52,
   "metadata": {
    "collapsed": false
   },
   "outputs": [],
   "source": [
    "def get_entry(entry):\n",
    "    res = requests.get('http://www.omdbapi.com/?i='+entry)\n",
    "    if res.status_code != 200:\n",
    "        print(entry, res.status_code)\n",
    "    else:\n",
    "        print('.', end=' '),\n",
    "    try:\n",
    "        j = json.loads(res.text)\n",
    "    except ValueError:\n",
    "        j = None\n",
    "    return j"
   ]
  },
  {
   "cell_type": "code",
   "execution_count": 53,
   "metadata": {
    "collapsed": false
   },
   "outputs": [
    {
     "name": "stdout",
     "output_type": "stream",
     "text": [
      ". . . . . . . . . . . . . . . . . . . . . . . . . . . . . . . . . . . . . . . . . . . . . . . . . . . . . . . . . . . . . . . . . . . . . . . . . . . . . . . . . . . . . . . . . . . . . . . . . . . . . . . . . . . . . . . . . . . . . . . . . . . . . . . . . . . . . . . . . . . . . . . . . . . . . . . . . . . . . . . . . . . . . . . . . . . . . . . . . . . . . . . . . . . . . . . . . . . . . . . . . . . . . . . . . . . . . . . . . . . . . . . . . . . . . . . . . . . . . . . . . . . . . . . . . . "
     ]
    }
   ],
   "source": [
    "entries_dict_list = [get_entry(e) for e in entries]"
   ]
  },
  {
   "cell_type": "code",
   "execution_count": 54,
   "metadata": {
    "collapsed": false
   },
   "outputs": [
    {
     "data": {
      "text/plain": [
       "250"
      ]
     },
     "execution_count": 54,
     "metadata": {},
     "output_type": "execute_result"
    }
   ],
   "source": [
    "len(entries_dict_list)"
   ]
  },
  {
   "cell_type": "code",
   "execution_count": 55,
   "metadata": {
    "collapsed": true
   },
   "outputs": [],
   "source": [
    "df = pd.DataFrame(entries_dict_list)"
   ]
  },
  {
   "cell_type": "code",
   "execution_count": 56,
   "metadata": {
    "collapsed": false
   },
   "outputs": [
    {
     "data": {
      "text/html": [
       "<div>\n",
       "<table border=\"1\" class=\"dataframe\">\n",
       "  <thead>\n",
       "    <tr style=\"text-align: right;\">\n",
       "      <th></th>\n",
       "      <th>Actors</th>\n",
       "      <th>Awards</th>\n",
       "      <th>Country</th>\n",
       "      <th>Director</th>\n",
       "      <th>Genre</th>\n",
       "      <th>Language</th>\n",
       "      <th>Metascore</th>\n",
       "      <th>Plot</th>\n",
       "      <th>Poster</th>\n",
       "      <th>Rated</th>\n",
       "      <th>Released</th>\n",
       "      <th>Response</th>\n",
       "      <th>Runtime</th>\n",
       "      <th>Title</th>\n",
       "      <th>Type</th>\n",
       "      <th>Writer</th>\n",
       "      <th>Year</th>\n",
       "      <th>imdbID</th>\n",
       "      <th>imdbRating</th>\n",
       "      <th>imdbVotes</th>\n",
       "    </tr>\n",
       "  </thead>\n",
       "  <tbody>\n",
       "    <tr>\n",
       "      <th>0</th>\n",
       "      <td>Miles Teller, J.K. Simmons, Paul Reiser, Melis...</td>\n",
       "      <td>Won 3 Oscars. Another 87 wins &amp; 132 nominations.</td>\n",
       "      <td>USA</td>\n",
       "      <td>Damien Chazelle</td>\n",
       "      <td>Drama, Music</td>\n",
       "      <td>English</td>\n",
       "      <td>88</td>\n",
       "      <td>A promising young drummer enrolls at a cut-thr...</td>\n",
       "      <td>https://images-na.ssl-images-amazon.com/images...</td>\n",
       "      <td>R</td>\n",
       "      <td>15 Oct 2014</td>\n",
       "      <td>True</td>\n",
       "      <td>107 min</td>\n",
       "      <td>Whiplash</td>\n",
       "      <td>movie</td>\n",
       "      <td>Damien Chazelle</td>\n",
       "      <td>2014</td>\n",
       "      <td>tt2582802</td>\n",
       "      <td>8.5</td>\n",
       "      <td>421,684</td>\n",
       "    </tr>\n",
       "    <tr>\n",
       "      <th>1</th>\n",
       "      <td>Toshirô Mifune, Takashi Shimura, Keiko Tsushim...</td>\n",
       "      <td>Nominated for 2 Oscars. Another 5 wins &amp; 6 nom...</td>\n",
       "      <td>Japan</td>\n",
       "      <td>Akira Kurosawa</td>\n",
       "      <td>Action, Adventure, Drama</td>\n",
       "      <td>Japanese</td>\n",
       "      <td>98</td>\n",
       "      <td>A poor village under attack by bandits recruit...</td>\n",
       "      <td>https://images-na.ssl-images-amazon.com/images...</td>\n",
       "      <td>UNRATED</td>\n",
       "      <td>19 Nov 1956</td>\n",
       "      <td>True</td>\n",
       "      <td>207 min</td>\n",
       "      <td>Seven Samurai</td>\n",
       "      <td>movie</td>\n",
       "      <td>Akira Kurosawa (screenplay), Shinobu Hashimoto...</td>\n",
       "      <td>1954</td>\n",
       "      <td>tt0047478</td>\n",
       "      <td>8.7</td>\n",
       "      <td>233,929</td>\n",
       "    </tr>\n",
       "    <tr>\n",
       "      <th>2</th>\n",
       "      <td>Harrison Ford, Karen Allen, Paul Freeman, Rona...</td>\n",
       "      <td>Won 4 Oscars. Another 30 wins &amp; 23 nominations.</td>\n",
       "      <td>USA</td>\n",
       "      <td>Steven Spielberg</td>\n",
       "      <td>Action, Adventure</td>\n",
       "      <td>English, German, Hebrew, Spanish, Arabic, Nepali</td>\n",
       "      <td>85</td>\n",
       "      <td>Archaeologist and adventurer Indiana Jones is ...</td>\n",
       "      <td>https://images-na.ssl-images-amazon.com/images...</td>\n",
       "      <td>PG</td>\n",
       "      <td>12 Jun 1981</td>\n",
       "      <td>True</td>\n",
       "      <td>115 min</td>\n",
       "      <td>Raiders of the Lost Ark</td>\n",
       "      <td>movie</td>\n",
       "      <td>Lawrence Kasdan (screenplay), George Lucas (st...</td>\n",
       "      <td>1981</td>\n",
       "      <td>tt0082971</td>\n",
       "      <td>8.5</td>\n",
       "      <td>671,034</td>\n",
       "    </tr>\n",
       "  </tbody>\n",
       "</table>\n",
       "</div>"
      ],
      "text/plain": [
       "                                              Actors  \\\n",
       "0  Miles Teller, J.K. Simmons, Paul Reiser, Melis...   \n",
       "1  Toshirô Mifune, Takashi Shimura, Keiko Tsushim...   \n",
       "2  Harrison Ford, Karen Allen, Paul Freeman, Rona...   \n",
       "\n",
       "                                              Awards Country  \\\n",
       "0   Won 3 Oscars. Another 87 wins & 132 nominations.     USA   \n",
       "1  Nominated for 2 Oscars. Another 5 wins & 6 nom...   Japan   \n",
       "2    Won 4 Oscars. Another 30 wins & 23 nominations.     USA   \n",
       "\n",
       "           Director                     Genre  \\\n",
       "0   Damien Chazelle              Drama, Music   \n",
       "1    Akira Kurosawa  Action, Adventure, Drama   \n",
       "2  Steven Spielberg         Action, Adventure   \n",
       "\n",
       "                                           Language Metascore  \\\n",
       "0                                           English        88   \n",
       "1                                          Japanese        98   \n",
       "2  English, German, Hebrew, Spanish, Arabic, Nepali        85   \n",
       "\n",
       "                                                Plot  \\\n",
       "0  A promising young drummer enrolls at a cut-thr...   \n",
       "1  A poor village under attack by bandits recruit...   \n",
       "2  Archaeologist and adventurer Indiana Jones is ...   \n",
       "\n",
       "                                              Poster    Rated     Released  \\\n",
       "0  https://images-na.ssl-images-amazon.com/images...        R  15 Oct 2014   \n",
       "1  https://images-na.ssl-images-amazon.com/images...  UNRATED  19 Nov 1956   \n",
       "2  https://images-na.ssl-images-amazon.com/images...       PG  12 Jun 1981   \n",
       "\n",
       "  Response  Runtime                    Title   Type  \\\n",
       "0     True  107 min                 Whiplash  movie   \n",
       "1     True  207 min            Seven Samurai  movie   \n",
       "2     True  115 min  Raiders of the Lost Ark  movie   \n",
       "\n",
       "                                              Writer  Year     imdbID  \\\n",
       "0                                    Damien Chazelle  2014  tt2582802   \n",
       "1  Akira Kurosawa (screenplay), Shinobu Hashimoto...  1954  tt0047478   \n",
       "2  Lawrence Kasdan (screenplay), George Lucas (st...  1981  tt0082971   \n",
       "\n",
       "  imdbRating imdbVotes  \n",
       "0        8.5   421,684  \n",
       "1        8.7   233,929  \n",
       "2        8.5   671,034  "
      ]
     },
     "execution_count": 56,
     "metadata": {},
     "output_type": "execute_result"
    }
   ],
   "source": [
    "df.head(3)"
   ]
  },
  {
   "cell_type": "code",
   "execution_count": 57,
   "metadata": {
    "collapsed": false
   },
   "outputs": [
    {
     "name": "stdout",
     "output_type": "stream",
     "text": [
      "<class 'pandas.core.frame.DataFrame'>\n",
      "RangeIndex: 250 entries, 0 to 249\n",
      "Data columns (total 20 columns):\n",
      "Actors        250 non-null object\n",
      "Awards        250 non-null object\n",
      "Country       250 non-null object\n",
      "Director      250 non-null object\n",
      "Genre         250 non-null object\n",
      "Language      250 non-null object\n",
      "Metascore     250 non-null object\n",
      "Plot          250 non-null object\n",
      "Poster        250 non-null object\n",
      "Rated         250 non-null object\n",
      "Released      250 non-null object\n",
      "Response      250 non-null object\n",
      "Runtime       250 non-null object\n",
      "Title         250 non-null object\n",
      "Type          250 non-null object\n",
      "Writer        250 non-null object\n",
      "Year          250 non-null object\n",
      "imdbID        250 non-null object\n",
      "imdbRating    250 non-null object\n",
      "imdbVotes     250 non-null object\n",
      "dtypes: object(20)\n",
      "memory usage: 39.1+ KB\n"
     ]
    }
   ],
   "source": [
    "df.info()"
   ]
  },
  {
   "cell_type": "markdown",
   "metadata": {
    "collapsed": true
   },
   "source": [
    "### Get gross values per movie\n",
    "\n",
    "The OMDB API is great, but it does not provide information about Gross Revenue of the movie. \n",
    "\n",
    "Revert back to scraping for this: write a function that retrieves the gross revenue from the entry page at imdb.com.\n",
    "The function should handle the exception of when the page doesn't report gross revenue.\n",
    "Retrieve the gross revenue for each movie and store it in a separate dataframe."
   ]
  },
  {
   "cell_type": "code",
   "execution_count": 58,
   "metadata": {
    "collapsed": false
   },
   "outputs": [],
   "source": [
    "def get_gross(entry):\n",
    "    response = requests.get('http://www.imdb.com/title/'+entry)\n",
    "    html = response.text\n",
    "    try:\n",
    "        gross_list = re.findall(\"Gross:</h4>[ ]*\\$([^ ]*)\", html)\n",
    "        gross = int(gross_list[0].replace(',', ''))\n",
    "        print('.', end=' ')\n",
    "        return gross\n",
    "    except Exception as ex:\n",
    "        print\n",
    "        print(gross_list, ex, entry, response.status_code)\n",
    "        return 0"
   ]
  },
  {
   "cell_type": "code",
   "execution_count": 59,
   "metadata": {
    "collapsed": false
   },
   "outputs": [],
   "source": [
    "grosses = [(e, get_gross(e)) for e in entries]"
   ]
  },
  {
   "cell_type": "code",
   "execution_count": 60,
   "metadata": {
    "collapsed": false
   },
   "outputs": [
    {
     "data": {
      "text/html": [
       "<div>\n",
       "<table border=\"1\" class=\"dataframe\">\n",
       "  <thead>\n",
       "    <tr style=\"text-align: right;\">\n",
       "      <th></th>\n",
       "      <th>imdbID</th>\n",
       "      <th>Gross</th>\n",
       "    </tr>\n",
       "  </thead>\n",
       "  <tbody>\n",
       "    <tr>\n",
       "      <th>0</th>\n",
       "      <td>tt2582802</td>\n",
       "      <td>13092000.0</td>\n",
       "    </tr>\n",
       "    <tr>\n",
       "      <th>1</th>\n",
       "      <td>tt0047478</td>\n",
       "      <td>269061.0</td>\n",
       "    </tr>\n",
       "    <tr>\n",
       "      <th>2</th>\n",
       "      <td>tt0082971</td>\n",
       "      <td>242374454.0</td>\n",
       "    </tr>\n",
       "    <tr>\n",
       "      <th>3</th>\n",
       "      <td>tt0050212</td>\n",
       "      <td>27200000.0</td>\n",
       "    </tr>\n",
       "    <tr>\n",
       "      <th>4</th>\n",
       "      <td>tt0986264</td>\n",
       "      <td>1204660.0</td>\n",
       "    </tr>\n",
       "  </tbody>\n",
       "</table>\n",
       "</div>"
      ],
      "text/plain": [
       "      imdbID        Gross\n",
       "0  tt2582802   13092000.0\n",
       "1  tt0047478     269061.0\n",
       "2  tt0082971  242374454.0\n",
       "3  tt0050212   27200000.0\n",
       "4  tt0986264    1204660.0"
      ]
     },
     "execution_count": 60,
     "metadata": {},
     "output_type": "execute_result"
    }
   ],
   "source": [
    "df_gross = pd.DataFrame(grosses, columns=['imdbID', 'Gross'])\n",
    "df_gross.head()"
   ]
  },
  {
   "cell_type": "markdown",
   "metadata": {},
   "source": [
    "## Mine: Rename & describe data"
   ]
  },
  {
   "cell_type": "markdown",
   "metadata": {},
   "source": [
    "### Data munging\n",
    "\n",
    "1. Now that we have movie information and gross revenue information, let's clean the two datasets.\n",
    "- Check if there are null values. Be careful they may appear to be valid strings.\n",
    "- Convert the columns to the appropriate formats. In particular handle:\n",
    "    - Released\n",
    "    - Runtime\n",
    "    - year\n",
    "    - imdbRating\n",
    "    - imdbVotes\n",
    "- Merge the data from the two datasets into a single one"
   ]
  },
  {
   "cell_type": "code",
   "execution_count": 61,
   "metadata": {
    "collapsed": false
   },
   "outputs": [
    {
     "name": "stdout",
     "output_type": "stream",
     "text": [
      "<class 'pandas.core.frame.DataFrame'>\n",
      "RangeIndex: 250 entries, 0 to 249\n",
      "Data columns (total 20 columns):\n",
      "Actors        250 non-null object\n",
      "Awards        246 non-null object\n",
      "Country       250 non-null object\n",
      "Director      250 non-null object\n",
      "Genre         250 non-null object\n",
      "Language      249 non-null object\n",
      "Metascore     163 non-null object\n",
      "Plot          231 non-null object\n",
      "Poster        249 non-null object\n",
      "Rated         246 non-null object\n",
      "Released      249 non-null object\n",
      "Response      250 non-null object\n",
      "Runtime       250 non-null object\n",
      "Title         250 non-null object\n",
      "Type          250 non-null object\n",
      "Writer        250 non-null object\n",
      "Year          250 non-null object\n",
      "imdbID        250 non-null object\n",
      "imdbRating    250 non-null object\n",
      "imdbVotes     250 non-null object\n",
      "dtypes: object(20)\n",
      "memory usage: 39.1+ KB\n"
     ]
    }
   ],
   "source": [
    "df = df.replace('N/A', np.nan)\n",
    "df.info()"
   ]
  },
  {
   "cell_type": "code",
   "execution_count": 62,
   "metadata": {
    "collapsed": false
   },
   "outputs": [],
   "source": [
    "df.Released = pd.to_datetime(df.Released)"
   ]
  },
  {
   "cell_type": "code",
   "execution_count": 63,
   "metadata": {
    "collapsed": false
   },
   "outputs": [],
   "source": [
    "def intminutes(x):\n",
    "    y = x.replace('min', '').strip()\n",
    "    return int(y)\n",
    "\n",
    "df.Runtime = df.Runtime.apply(intminutes)"
   ]
  },
  {
   "cell_type": "code",
   "execution_count": 64,
   "metadata": {
    "collapsed": false
   },
   "outputs": [],
   "source": [
    "df.Year = df.Year.astype(int)"
   ]
  },
  {
   "cell_type": "code",
   "execution_count": 65,
   "metadata": {
    "collapsed": false
   },
   "outputs": [],
   "source": [
    "df.imdbRating = df.imdbRating.astype(float)"
   ]
  },
  {
   "cell_type": "code",
   "execution_count": 66,
   "metadata": {
    "collapsed": false
   },
   "outputs": [],
   "source": [
    "def intvotes(x):\n",
    "    y = x.replace(',', '').strip()\n",
    "    return int(y)\n",
    "\n",
    "df.imdbVotes = df.imdbVotes.apply(intvotes)"
   ]
  },
  {
   "cell_type": "code",
   "execution_count": 67,
   "metadata": {
    "collapsed": true
   },
   "outputs": [],
   "source": [
    "df = pd.merge(df, df_gross)"
   ]
  },
  {
   "cell_type": "code",
   "execution_count": 68,
   "metadata": {
    "collapsed": false
   },
   "outputs": [
    {
     "name": "stdout",
     "output_type": "stream",
     "text": [
      "<class 'pandas.core.frame.DataFrame'>\n",
      "Int64Index: 250 entries, 0 to 249\n",
      "Data columns (total 21 columns):\n",
      "Actors        250 non-null object\n",
      "Awards        246 non-null object\n",
      "Country       250 non-null object\n",
      "Director      250 non-null object\n",
      "Genre         250 non-null object\n",
      "Language      249 non-null object\n",
      "Metascore     163 non-null object\n",
      "Plot          231 non-null object\n",
      "Poster        249 non-null object\n",
      "Rated         246 non-null object\n",
      "Released      249 non-null datetime64[ns]\n",
      "Response      250 non-null object\n",
      "Runtime       250 non-null int64\n",
      "Title         250 non-null object\n",
      "Type          250 non-null object\n",
      "Writer        250 non-null object\n",
      "Year          250 non-null int64\n",
      "imdbID        250 non-null object\n",
      "imdbRating    250 non-null float64\n",
      "imdbVotes     250 non-null int64\n",
      "Gross         181 non-null float64\n",
      "dtypes: datetime64[ns](1), float64(2), int64(3), object(15)\n",
      "memory usage: 43.0+ KB\n"
     ]
    }
   ],
   "source": [
    "df.info()"
   ]
  },
  {
   "cell_type": "code",
   "execution_count": 69,
   "metadata": {
    "collapsed": false
   },
   "outputs": [
    {
     "data": {
      "text/html": [
       "<div>\n",
       "<table border=\"1\" class=\"dataframe\">\n",
       "  <thead>\n",
       "    <tr style=\"text-align: right;\">\n",
       "      <th></th>\n",
       "      <th>Actors</th>\n",
       "      <th>Awards</th>\n",
       "      <th>Country</th>\n",
       "      <th>Director</th>\n",
       "      <th>Genre</th>\n",
       "      <th>Language</th>\n",
       "      <th>Metascore</th>\n",
       "      <th>Plot</th>\n",
       "      <th>Poster</th>\n",
       "      <th>Rated</th>\n",
       "      <th>...</th>\n",
       "      <th>Response</th>\n",
       "      <th>Runtime</th>\n",
       "      <th>Title</th>\n",
       "      <th>Type</th>\n",
       "      <th>Writer</th>\n",
       "      <th>Year</th>\n",
       "      <th>imdbID</th>\n",
       "      <th>imdbRating</th>\n",
       "      <th>imdbVotes</th>\n",
       "      <th>Gross</th>\n",
       "    </tr>\n",
       "  </thead>\n",
       "  <tbody>\n",
       "    <tr>\n",
       "      <th>0</th>\n",
       "      <td>Miles Teller, J.K. Simmons, Paul Reiser, Melis...</td>\n",
       "      <td>Won 3 Oscars. Another 87 wins &amp; 132 nominations.</td>\n",
       "      <td>USA</td>\n",
       "      <td>Damien Chazelle</td>\n",
       "      <td>Drama, Music</td>\n",
       "      <td>English</td>\n",
       "      <td>88</td>\n",
       "      <td>A promising young drummer enrolls at a cut-thr...</td>\n",
       "      <td>https://images-na.ssl-images-amazon.com/images...</td>\n",
       "      <td>R</td>\n",
       "      <td>...</td>\n",
       "      <td>True</td>\n",
       "      <td>107</td>\n",
       "      <td>Whiplash</td>\n",
       "      <td>movie</td>\n",
       "      <td>Damien Chazelle</td>\n",
       "      <td>2014</td>\n",
       "      <td>tt2582802</td>\n",
       "      <td>8.5</td>\n",
       "      <td>421684</td>\n",
       "      <td>13092000.0</td>\n",
       "    </tr>\n",
       "    <tr>\n",
       "      <th>1</th>\n",
       "      <td>Toshirô Mifune, Takashi Shimura, Keiko Tsushim...</td>\n",
       "      <td>Nominated for 2 Oscars. Another 5 wins &amp; 6 nom...</td>\n",
       "      <td>Japan</td>\n",
       "      <td>Akira Kurosawa</td>\n",
       "      <td>Action, Adventure, Drama</td>\n",
       "      <td>Japanese</td>\n",
       "      <td>98</td>\n",
       "      <td>A poor village under attack by bandits recruit...</td>\n",
       "      <td>https://images-na.ssl-images-amazon.com/images...</td>\n",
       "      <td>UNRATED</td>\n",
       "      <td>...</td>\n",
       "      <td>True</td>\n",
       "      <td>207</td>\n",
       "      <td>Seven Samurai</td>\n",
       "      <td>movie</td>\n",
       "      <td>Akira Kurosawa (screenplay), Shinobu Hashimoto...</td>\n",
       "      <td>1954</td>\n",
       "      <td>tt0047478</td>\n",
       "      <td>8.7</td>\n",
       "      <td>233929</td>\n",
       "      <td>269061.0</td>\n",
       "    </tr>\n",
       "    <tr>\n",
       "      <th>2</th>\n",
       "      <td>Harrison Ford, Karen Allen, Paul Freeman, Rona...</td>\n",
       "      <td>Won 4 Oscars. Another 30 wins &amp; 23 nominations.</td>\n",
       "      <td>USA</td>\n",
       "      <td>Steven Spielberg</td>\n",
       "      <td>Action, Adventure</td>\n",
       "      <td>English, German, Hebrew, Spanish, Arabic, Nepali</td>\n",
       "      <td>85</td>\n",
       "      <td>Archaeologist and adventurer Indiana Jones is ...</td>\n",
       "      <td>https://images-na.ssl-images-amazon.com/images...</td>\n",
       "      <td>PG</td>\n",
       "      <td>...</td>\n",
       "      <td>True</td>\n",
       "      <td>115</td>\n",
       "      <td>Raiders of the Lost Ark</td>\n",
       "      <td>movie</td>\n",
       "      <td>Lawrence Kasdan (screenplay), George Lucas (st...</td>\n",
       "      <td>1981</td>\n",
       "      <td>tt0082971</td>\n",
       "      <td>8.5</td>\n",
       "      <td>671034</td>\n",
       "      <td>242374454.0</td>\n",
       "    </tr>\n",
       "    <tr>\n",
       "      <th>3</th>\n",
       "      <td>William Holden, Alec Guinness, Jack Hawkins, S...</td>\n",
       "      <td>Won 7 Oscars. Another 23 wins &amp; 7 nominations.</td>\n",
       "      <td>UK, USA</td>\n",
       "      <td>David Lean</td>\n",
       "      <td>Adventure, Drama, History</td>\n",
       "      <td>English, Japanese, Thai</td>\n",
       "      <td>NaN</td>\n",
       "      <td>After settling his differences with a Japanese...</td>\n",
       "      <td>https://images-na.ssl-images-amazon.com/images...</td>\n",
       "      <td>PG</td>\n",
       "      <td>...</td>\n",
       "      <td>True</td>\n",
       "      <td>161</td>\n",
       "      <td>The Bridge on the River Kwai</td>\n",
       "      <td>movie</td>\n",
       "      <td>Pierre Boulle (novel), Carl Foreman (screenpla...</td>\n",
       "      <td>1957</td>\n",
       "      <td>tt0050212</td>\n",
       "      <td>8.2</td>\n",
       "      <td>152823</td>\n",
       "      <td>27200000.0</td>\n",
       "    </tr>\n",
       "    <tr>\n",
       "      <th>4</th>\n",
       "      <td>Darsheel Safary, Aamir Khan, Tanay Chheda, Sac...</td>\n",
       "      <td>14 wins &amp; 15 nominations.</td>\n",
       "      <td>India</td>\n",
       "      <td>Aamir Khan, Amole Gupte</td>\n",
       "      <td>Drama, Family, Music</td>\n",
       "      <td>Hindi, English</td>\n",
       "      <td>NaN</td>\n",
       "      <td>An eight-year-old boy is thought to be lazy an...</td>\n",
       "      <td>https://images-na.ssl-images-amazon.com/images...</td>\n",
       "      <td>PG</td>\n",
       "      <td>...</td>\n",
       "      <td>True</td>\n",
       "      <td>165</td>\n",
       "      <td>Like Stars on Earth</td>\n",
       "      <td>movie</td>\n",
       "      <td>Amole Gupte (dialogue &amp; screenplay), Amole Gup...</td>\n",
       "      <td>2007</td>\n",
       "      <td>tt0986264</td>\n",
       "      <td>8.5</td>\n",
       "      <td>88167</td>\n",
       "      <td>1204660.0</td>\n",
       "    </tr>\n",
       "  </tbody>\n",
       "</table>\n",
       "<p>5 rows × 21 columns</p>\n",
       "</div>"
      ],
      "text/plain": [
       "                                              Actors  \\\n",
       "0  Miles Teller, J.K. Simmons, Paul Reiser, Melis...   \n",
       "1  Toshirô Mifune, Takashi Shimura, Keiko Tsushim...   \n",
       "2  Harrison Ford, Karen Allen, Paul Freeman, Rona...   \n",
       "3  William Holden, Alec Guinness, Jack Hawkins, S...   \n",
       "4  Darsheel Safary, Aamir Khan, Tanay Chheda, Sac...   \n",
       "\n",
       "                                              Awards  Country  \\\n",
       "0   Won 3 Oscars. Another 87 wins & 132 nominations.      USA   \n",
       "1  Nominated for 2 Oscars. Another 5 wins & 6 nom...    Japan   \n",
       "2    Won 4 Oscars. Another 30 wins & 23 nominations.      USA   \n",
       "3     Won 7 Oscars. Another 23 wins & 7 nominations.  UK, USA   \n",
       "4                          14 wins & 15 nominations.    India   \n",
       "\n",
       "                  Director                      Genre  \\\n",
       "0          Damien Chazelle               Drama, Music   \n",
       "1           Akira Kurosawa   Action, Adventure, Drama   \n",
       "2         Steven Spielberg          Action, Adventure   \n",
       "3               David Lean  Adventure, Drama, History   \n",
       "4  Aamir Khan, Amole Gupte       Drama, Family, Music   \n",
       "\n",
       "                                           Language Metascore  \\\n",
       "0                                           English        88   \n",
       "1                                          Japanese        98   \n",
       "2  English, German, Hebrew, Spanish, Arabic, Nepali        85   \n",
       "3                           English, Japanese, Thai       NaN   \n",
       "4                                    Hindi, English       NaN   \n",
       "\n",
       "                                                Plot  \\\n",
       "0  A promising young drummer enrolls at a cut-thr...   \n",
       "1  A poor village under attack by bandits recruit...   \n",
       "2  Archaeologist and adventurer Indiana Jones is ...   \n",
       "3  After settling his differences with a Japanese...   \n",
       "4  An eight-year-old boy is thought to be lazy an...   \n",
       "\n",
       "                                              Poster    Rated     ...       \\\n",
       "0  https://images-na.ssl-images-amazon.com/images...        R     ...        \n",
       "1  https://images-na.ssl-images-amazon.com/images...  UNRATED     ...        \n",
       "2  https://images-na.ssl-images-amazon.com/images...       PG     ...        \n",
       "3  https://images-na.ssl-images-amazon.com/images...       PG     ...        \n",
       "4  https://images-na.ssl-images-amazon.com/images...       PG     ...        \n",
       "\n",
       "  Response Runtime                         Title   Type  \\\n",
       "0     True     107                      Whiplash  movie   \n",
       "1     True     207                 Seven Samurai  movie   \n",
       "2     True     115       Raiders of the Lost Ark  movie   \n",
       "3     True     161  The Bridge on the River Kwai  movie   \n",
       "4     True     165           Like Stars on Earth  movie   \n",
       "\n",
       "                                              Writer  Year     imdbID  \\\n",
       "0                                    Damien Chazelle  2014  tt2582802   \n",
       "1  Akira Kurosawa (screenplay), Shinobu Hashimoto...  1954  tt0047478   \n",
       "2  Lawrence Kasdan (screenplay), George Lucas (st...  1981  tt0082971   \n",
       "3  Pierre Boulle (novel), Carl Foreman (screenpla...  1957  tt0050212   \n",
       "4  Amole Gupte (dialogue & screenplay), Amole Gup...  2007  tt0986264   \n",
       "\n",
       "  imdbRating  imdbVotes        Gross  \n",
       "0        8.5     421684   13092000.0  \n",
       "1        8.7     233929     269061.0  \n",
       "2        8.5     671034  242374454.0  \n",
       "3        8.2     152823   27200000.0  \n",
       "4        8.5      88167    1204660.0  \n",
       "\n",
       "[5 rows x 21 columns]"
      ]
     },
     "execution_count": 69,
     "metadata": {},
     "output_type": "execute_result"
    }
   ],
   "source": [
    "df.head()"
   ]
  },
  {
   "cell_type": "markdown",
   "metadata": {},
   "source": [
    "### Text vectorization\n",
    "\n",
    "There are several columns in the data that contain a comma separated list of items, for example the Genre column and the Actors column. Let's transform those to binary columns using the count vectorizer from scikit learn.\n",
    "\n",
    "**Hint:** In order to get the actors name right, we have to modify the `token_pattern` in the `CountVectorizer`."
   ]
  },
  {
   "cell_type": "code",
   "execution_count": 20,
   "metadata": {
    "collapsed": true
   },
   "outputs": [],
   "source": [
    "from sklearn.feature_extraction.text import CountVectorizer"
   ]
  },
  {
   "cell_type": "code",
   "execution_count": 72,
   "metadata": {
    "collapsed": false
   },
   "outputs": [
    {
     "data": {
      "text/html": [
       "<div>\n",
       "<table border=\"1\" class=\"dataframe\">\n",
       "  <thead>\n",
       "    <tr style=\"text-align: right;\">\n",
       "      <th></th>\n",
       "      <th>genre_action</th>\n",
       "      <th>genre_adventure</th>\n",
       "      <th>genre_animation</th>\n",
       "      <th>genre_biography</th>\n",
       "      <th>genre_comedy</th>\n",
       "      <th>genre_crime</th>\n",
       "      <th>genre_drama</th>\n",
       "      <th>genre_family</th>\n",
       "      <th>genre_fantasy</th>\n",
       "      <th>genre_fi</th>\n",
       "      <th>...</th>\n",
       "      <th>genre_music</th>\n",
       "      <th>genre_musical</th>\n",
       "      <th>genre_mystery</th>\n",
       "      <th>genre_noir</th>\n",
       "      <th>genre_romance</th>\n",
       "      <th>genre_sci</th>\n",
       "      <th>genre_sport</th>\n",
       "      <th>genre_thriller</th>\n",
       "      <th>genre_war</th>\n",
       "      <th>genre_western</th>\n",
       "    </tr>\n",
       "  </thead>\n",
       "  <tbody>\n",
       "    <tr>\n",
       "      <th>0</th>\n",
       "      <td>0</td>\n",
       "      <td>0</td>\n",
       "      <td>0</td>\n",
       "      <td>0</td>\n",
       "      <td>0</td>\n",
       "      <td>0</td>\n",
       "      <td>1</td>\n",
       "      <td>0</td>\n",
       "      <td>0</td>\n",
       "      <td>0</td>\n",
       "      <td>...</td>\n",
       "      <td>1</td>\n",
       "      <td>0</td>\n",
       "      <td>0</td>\n",
       "      <td>0</td>\n",
       "      <td>0</td>\n",
       "      <td>0</td>\n",
       "      <td>0</td>\n",
       "      <td>0</td>\n",
       "      <td>0</td>\n",
       "      <td>0</td>\n",
       "    </tr>\n",
       "    <tr>\n",
       "      <th>1</th>\n",
       "      <td>1</td>\n",
       "      <td>1</td>\n",
       "      <td>0</td>\n",
       "      <td>0</td>\n",
       "      <td>0</td>\n",
       "      <td>0</td>\n",
       "      <td>1</td>\n",
       "      <td>0</td>\n",
       "      <td>0</td>\n",
       "      <td>0</td>\n",
       "      <td>...</td>\n",
       "      <td>0</td>\n",
       "      <td>0</td>\n",
       "      <td>0</td>\n",
       "      <td>0</td>\n",
       "      <td>0</td>\n",
       "      <td>0</td>\n",
       "      <td>0</td>\n",
       "      <td>0</td>\n",
       "      <td>0</td>\n",
       "      <td>0</td>\n",
       "    </tr>\n",
       "    <tr>\n",
       "      <th>2</th>\n",
       "      <td>1</td>\n",
       "      <td>1</td>\n",
       "      <td>0</td>\n",
       "      <td>0</td>\n",
       "      <td>0</td>\n",
       "      <td>0</td>\n",
       "      <td>0</td>\n",
       "      <td>0</td>\n",
       "      <td>0</td>\n",
       "      <td>0</td>\n",
       "      <td>...</td>\n",
       "      <td>0</td>\n",
       "      <td>0</td>\n",
       "      <td>0</td>\n",
       "      <td>0</td>\n",
       "      <td>0</td>\n",
       "      <td>0</td>\n",
       "      <td>0</td>\n",
       "      <td>0</td>\n",
       "      <td>0</td>\n",
       "      <td>0</td>\n",
       "    </tr>\n",
       "    <tr>\n",
       "      <th>3</th>\n",
       "      <td>0</td>\n",
       "      <td>1</td>\n",
       "      <td>0</td>\n",
       "      <td>0</td>\n",
       "      <td>0</td>\n",
       "      <td>0</td>\n",
       "      <td>1</td>\n",
       "      <td>0</td>\n",
       "      <td>0</td>\n",
       "      <td>0</td>\n",
       "      <td>...</td>\n",
       "      <td>0</td>\n",
       "      <td>0</td>\n",
       "      <td>0</td>\n",
       "      <td>0</td>\n",
       "      <td>0</td>\n",
       "      <td>0</td>\n",
       "      <td>0</td>\n",
       "      <td>0</td>\n",
       "      <td>0</td>\n",
       "      <td>0</td>\n",
       "    </tr>\n",
       "    <tr>\n",
       "      <th>4</th>\n",
       "      <td>0</td>\n",
       "      <td>0</td>\n",
       "      <td>0</td>\n",
       "      <td>0</td>\n",
       "      <td>0</td>\n",
       "      <td>0</td>\n",
       "      <td>1</td>\n",
       "      <td>1</td>\n",
       "      <td>0</td>\n",
       "      <td>0</td>\n",
       "      <td>...</td>\n",
       "      <td>1</td>\n",
       "      <td>0</td>\n",
       "      <td>0</td>\n",
       "      <td>0</td>\n",
       "      <td>0</td>\n",
       "      <td>0</td>\n",
       "      <td>0</td>\n",
       "      <td>0</td>\n",
       "      <td>0</td>\n",
       "      <td>0</td>\n",
       "    </tr>\n",
       "  </tbody>\n",
       "</table>\n",
       "<p>5 rows × 23 columns</p>\n",
       "</div>"
      ],
      "text/plain": [
       "   genre_action  genre_adventure  genre_animation  genre_biography  \\\n",
       "0             0                0                0                0   \n",
       "1             1                1                0                0   \n",
       "2             1                1                0                0   \n",
       "3             0                1                0                0   \n",
       "4             0                0                0                0   \n",
       "\n",
       "   genre_comedy  genre_crime  genre_drama  genre_family  genre_fantasy  \\\n",
       "0             0            0            1             0              0   \n",
       "1             0            0            1             0              0   \n",
       "2             0            0            0             0              0   \n",
       "3             0            0            1             0              0   \n",
       "4             0            0            1             1              0   \n",
       "\n",
       "   genre_fi      ...        genre_music  genre_musical  genre_mystery  \\\n",
       "0         0      ...                  1              0              0   \n",
       "1         0      ...                  0              0              0   \n",
       "2         0      ...                  0              0              0   \n",
       "3         0      ...                  0              0              0   \n",
       "4         0      ...                  1              0              0   \n",
       "\n",
       "   genre_noir  genre_romance  genre_sci  genre_sport  genre_thriller  \\\n",
       "0           0              0          0            0               0   \n",
       "1           0              0          0            0               0   \n",
       "2           0              0          0            0               0   \n",
       "3           0              0          0            0               0   \n",
       "4           0              0          0            0               0   \n",
       "\n",
       "   genre_war  genre_western  \n",
       "0          0              0  \n",
       "1          0              0  \n",
       "2          0              0  \n",
       "3          0              0  \n",
       "4          0              0  \n",
       "\n",
       "[5 rows x 23 columns]"
      ]
     },
     "execution_count": 72,
     "metadata": {},
     "output_type": "execute_result"
    }
   ],
   "source": [
    "cv = CountVectorizer()\n",
    "data = cv.fit_transform(df.Genre).todense()\n",
    "columns = ['genre_'+c for c in cv.get_feature_names()]\n",
    "genredf = pd.DataFrame(data, columns=columns)\n",
    "genredf.head()"
   ]
  },
  {
   "cell_type": "code",
   "execution_count": 73,
   "metadata": {
    "collapsed": false
   },
   "outputs": [
    {
     "data": {
      "text/html": [
       "<div>\n",
       "<table border=\"1\" class=\"dataframe\">\n",
       "  <thead>\n",
       "    <tr style=\"text-align: right;\">\n",
       "      <th></th>\n",
       "      <th>actor: aamir khan</th>\n",
       "      <th>actor: aaron eckhart</th>\n",
       "      <th>actor: abdel ahmed</th>\n",
       "      <th>actor: adam baldwin</th>\n",
       "      <th>actor: adam driver</th>\n",
       "      <th>actor: adolphe menjou</th>\n",
       "      <th>actor: adrien brody</th>\n",
       "      <th>actor: agnes moorehead</th>\n",
       "      <th>actor: ahney her</th>\n",
       "      <th>actor: akemi yamaguchi</th>\n",
       "      <th>...</th>\n",
       "      <th>actor: xolani mali</th>\n",
       "      <th>actor: yacef saadi</th>\n",
       "      <th>actor: yesim salkim</th>\n",
       "      <th>actor: yoshiko shinohara</th>\n",
       "      <th>actor: yukiko shimazaki</th>\n",
       "      <th>actor: yves montand</th>\n",
       "      <th>actor: yôko tsukasa</th>\n",
       "      <th>actor: zach grenier</th>\n",
       "      <th>actor: álvaro guerrero</th>\n",
       "      <th>actor: çetin tekindor</th>\n",
       "    </tr>\n",
       "  </thead>\n",
       "  <tbody>\n",
       "    <tr>\n",
       "      <th>0</th>\n",
       "      <td>0</td>\n",
       "      <td>0</td>\n",
       "      <td>0</td>\n",
       "      <td>0</td>\n",
       "      <td>0</td>\n",
       "      <td>0</td>\n",
       "      <td>0</td>\n",
       "      <td>0</td>\n",
       "      <td>0</td>\n",
       "      <td>0</td>\n",
       "      <td>...</td>\n",
       "      <td>0</td>\n",
       "      <td>0</td>\n",
       "      <td>0</td>\n",
       "      <td>0</td>\n",
       "      <td>0</td>\n",
       "      <td>0</td>\n",
       "      <td>0</td>\n",
       "      <td>0</td>\n",
       "      <td>0</td>\n",
       "      <td>0</td>\n",
       "    </tr>\n",
       "    <tr>\n",
       "      <th>1</th>\n",
       "      <td>0</td>\n",
       "      <td>0</td>\n",
       "      <td>0</td>\n",
       "      <td>0</td>\n",
       "      <td>0</td>\n",
       "      <td>0</td>\n",
       "      <td>0</td>\n",
       "      <td>0</td>\n",
       "      <td>0</td>\n",
       "      <td>0</td>\n",
       "      <td>...</td>\n",
       "      <td>0</td>\n",
       "      <td>0</td>\n",
       "      <td>0</td>\n",
       "      <td>0</td>\n",
       "      <td>1</td>\n",
       "      <td>0</td>\n",
       "      <td>0</td>\n",
       "      <td>0</td>\n",
       "      <td>0</td>\n",
       "      <td>0</td>\n",
       "    </tr>\n",
       "    <tr>\n",
       "      <th>2</th>\n",
       "      <td>0</td>\n",
       "      <td>0</td>\n",
       "      <td>0</td>\n",
       "      <td>0</td>\n",
       "      <td>0</td>\n",
       "      <td>0</td>\n",
       "      <td>0</td>\n",
       "      <td>0</td>\n",
       "      <td>0</td>\n",
       "      <td>0</td>\n",
       "      <td>...</td>\n",
       "      <td>0</td>\n",
       "      <td>0</td>\n",
       "      <td>0</td>\n",
       "      <td>0</td>\n",
       "      <td>0</td>\n",
       "      <td>0</td>\n",
       "      <td>0</td>\n",
       "      <td>0</td>\n",
       "      <td>0</td>\n",
       "      <td>0</td>\n",
       "    </tr>\n",
       "    <tr>\n",
       "      <th>3</th>\n",
       "      <td>0</td>\n",
       "      <td>0</td>\n",
       "      <td>0</td>\n",
       "      <td>0</td>\n",
       "      <td>0</td>\n",
       "      <td>0</td>\n",
       "      <td>0</td>\n",
       "      <td>0</td>\n",
       "      <td>0</td>\n",
       "      <td>0</td>\n",
       "      <td>...</td>\n",
       "      <td>0</td>\n",
       "      <td>0</td>\n",
       "      <td>0</td>\n",
       "      <td>0</td>\n",
       "      <td>0</td>\n",
       "      <td>0</td>\n",
       "      <td>0</td>\n",
       "      <td>0</td>\n",
       "      <td>0</td>\n",
       "      <td>0</td>\n",
       "    </tr>\n",
       "    <tr>\n",
       "      <th>4</th>\n",
       "      <td>1</td>\n",
       "      <td>0</td>\n",
       "      <td>0</td>\n",
       "      <td>0</td>\n",
       "      <td>0</td>\n",
       "      <td>0</td>\n",
       "      <td>0</td>\n",
       "      <td>0</td>\n",
       "      <td>0</td>\n",
       "      <td>0</td>\n",
       "      <td>...</td>\n",
       "      <td>0</td>\n",
       "      <td>0</td>\n",
       "      <td>0</td>\n",
       "      <td>0</td>\n",
       "      <td>0</td>\n",
       "      <td>0</td>\n",
       "      <td>0</td>\n",
       "      <td>0</td>\n",
       "      <td>0</td>\n",
       "      <td>0</td>\n",
       "    </tr>\n",
       "  </tbody>\n",
       "</table>\n",
       "<p>5 rows × 816 columns</p>\n",
       "</div>"
      ],
      "text/plain": [
       "   actor: aamir khan  actor: aaron eckhart  actor: abdel ahmed  \\\n",
       "0                  0                     0                   0   \n",
       "1                  0                     0                   0   \n",
       "2                  0                     0                   0   \n",
       "3                  0                     0                   0   \n",
       "4                  1                     0                   0   \n",
       "\n",
       "   actor: adam baldwin  actor: adam driver  actor: adolphe menjou  \\\n",
       "0                    0                   0                      0   \n",
       "1                    0                   0                      0   \n",
       "2                    0                   0                      0   \n",
       "3                    0                   0                      0   \n",
       "4                    0                   0                      0   \n",
       "\n",
       "   actor: adrien brody  actor: agnes moorehead  actor: ahney her  \\\n",
       "0                    0                       0                 0   \n",
       "1                    0                       0                 0   \n",
       "2                    0                       0                 0   \n",
       "3                    0                       0                 0   \n",
       "4                    0                       0                 0   \n",
       "\n",
       "   actor: akemi yamaguchi          ...            actor: xolani mali  \\\n",
       "0                       0          ...                             0   \n",
       "1                       0          ...                             0   \n",
       "2                       0          ...                             0   \n",
       "3                       0          ...                             0   \n",
       "4                       0          ...                             0   \n",
       "\n",
       "   actor: yacef saadi  actor: yesim salkim  actor: yoshiko shinohara  \\\n",
       "0                   0                    0                         0   \n",
       "1                   0                    0                         0   \n",
       "2                   0                    0                         0   \n",
       "3                   0                    0                         0   \n",
       "4                   0                    0                         0   \n",
       "\n",
       "   actor: yukiko shimazaki  actor: yves montand  actor: yôko tsukasa  \\\n",
       "0                        0                    0                    0   \n",
       "1                        1                    0                    0   \n",
       "2                        0                    0                    0   \n",
       "3                        0                    0                    0   \n",
       "4                        0                    0                    0   \n",
       "\n",
       "   actor: zach grenier  actor: álvaro guerrero  actor: çetin tekindor  \n",
       "0                    0                       0                      0  \n",
       "1                    0                       0                      0  \n",
       "2                    0                       0                      0  \n",
       "3                    0                       0                      0  \n",
       "4                    0                       0                      0  \n",
       "\n",
       "[5 rows x 816 columns]"
      ]
     },
     "execution_count": 73,
     "metadata": {},
     "output_type": "execute_result"
    }
   ],
   "source": [
    "cv = CountVectorizer(token_pattern=u'(?u)\\\\w+\\.?\\\\w?\\.? \\\\w+')\n",
    "data = cv.fit_transform(df.Actors).todense()\n",
    "columns = ['actor: '+c for c in cv.get_feature_names()]\n",
    "actorsdf = pd.DataFrame(data, columns=columns)\n",
    "actorsdf.head()"
   ]
  },
  {
   "cell_type": "code",
   "execution_count": 74,
   "metadata": {
    "collapsed": false
   },
   "outputs": [
    {
     "data": {
      "text/plain": [
       "u'Miles Teller, J.K. Simmons, Paul Reiser, Melissa Benoist'"
      ]
     },
     "execution_count": 74,
     "metadata": {},
     "output_type": "execute_result"
    }
   ],
   "source": [
    "df.Actors[0]"
   ]
  },
  {
   "cell_type": "code",
   "execution_count": 75,
   "metadata": {
    "collapsed": false
   },
   "outputs": [
    {
     "data": {
      "text/plain": [
       "actor: j.k. simmons       1\n",
       "actor: melissa benoist    1\n",
       "actor: miles teller       1\n",
       "actor: paul reiser        1\n",
       "Name: 0, dtype: int64"
      ]
     },
     "execution_count": 75,
     "metadata": {},
     "output_type": "execute_result"
    }
   ],
   "source": [
    "actorsdf.loc[0,actorsdf.iloc[0] != 0]"
   ]
  },
  {
   "cell_type": "code",
   "execution_count": 21,
   "metadata": {
    "collapsed": false
   },
   "outputs": [
    {
     "data": {
      "text/html": [
       "<div>\n",
       "<table border=\"1\" class=\"dataframe\">\n",
       "  <thead>\n",
       "    <tr style=\"text-align: right;\">\n",
       "      <th></th>\n",
       "      <th>director: aamir khan</th>\n",
       "      <th>director: adam elliot</th>\n",
       "      <th>director: akira kurosawa</th>\n",
       "      <th>director: alan mak</th>\n",
       "      <th>director: alejandro g</th>\n",
       "      <th>director: alfred hitchcock</th>\n",
       "      <th>director: amole gupte</th>\n",
       "      <th>director: andrei tarkovsky</th>\n",
       "      <th>director: andrew stanton</th>\n",
       "      <th>director: anurag kashyap</th>\n",
       "      <th>...</th>\n",
       "      <th>director: von donnersmarck</th>\n",
       "      <th>director: wes anderson</th>\n",
       "      <th>director: william wyler</th>\n",
       "      <th>director: wilson yip</th>\n",
       "      <th>director: wolfgang petersen</th>\n",
       "      <th>director: woody allen</th>\n",
       "      <th>director: wook park</th>\n",
       "      <th>director: yasujirô ozu</th>\n",
       "      <th>director: yavuz turgul</th>\n",
       "      <th>director: çagan irmak</th>\n",
       "    </tr>\n",
       "  </thead>\n",
       "  <tbody>\n",
       "    <tr>\n",
       "      <th>0</th>\n",
       "      <td>0</td>\n",
       "      <td>0</td>\n",
       "      <td>0</td>\n",
       "      <td>0</td>\n",
       "      <td>0</td>\n",
       "      <td>0</td>\n",
       "      <td>0</td>\n",
       "      <td>0</td>\n",
       "      <td>0</td>\n",
       "      <td>0</td>\n",
       "      <td>...</td>\n",
       "      <td>0</td>\n",
       "      <td>0</td>\n",
       "      <td>0</td>\n",
       "      <td>0</td>\n",
       "      <td>0</td>\n",
       "      <td>0</td>\n",
       "      <td>0</td>\n",
       "      <td>0</td>\n",
       "      <td>0</td>\n",
       "      <td>0</td>\n",
       "    </tr>\n",
       "    <tr>\n",
       "      <th>1</th>\n",
       "      <td>0</td>\n",
       "      <td>0</td>\n",
       "      <td>1</td>\n",
       "      <td>0</td>\n",
       "      <td>0</td>\n",
       "      <td>0</td>\n",
       "      <td>0</td>\n",
       "      <td>0</td>\n",
       "      <td>0</td>\n",
       "      <td>0</td>\n",
       "      <td>...</td>\n",
       "      <td>0</td>\n",
       "      <td>0</td>\n",
       "      <td>0</td>\n",
       "      <td>0</td>\n",
       "      <td>0</td>\n",
       "      <td>0</td>\n",
       "      <td>0</td>\n",
       "      <td>0</td>\n",
       "      <td>0</td>\n",
       "      <td>0</td>\n",
       "    </tr>\n",
       "    <tr>\n",
       "      <th>2</th>\n",
       "      <td>0</td>\n",
       "      <td>0</td>\n",
       "      <td>0</td>\n",
       "      <td>0</td>\n",
       "      <td>0</td>\n",
       "      <td>0</td>\n",
       "      <td>0</td>\n",
       "      <td>0</td>\n",
       "      <td>0</td>\n",
       "      <td>0</td>\n",
       "      <td>...</td>\n",
       "      <td>0</td>\n",
       "      <td>0</td>\n",
       "      <td>0</td>\n",
       "      <td>0</td>\n",
       "      <td>0</td>\n",
       "      <td>0</td>\n",
       "      <td>0</td>\n",
       "      <td>0</td>\n",
       "      <td>0</td>\n",
       "      <td>0</td>\n",
       "    </tr>\n",
       "    <tr>\n",
       "      <th>3</th>\n",
       "      <td>0</td>\n",
       "      <td>0</td>\n",
       "      <td>0</td>\n",
       "      <td>0</td>\n",
       "      <td>0</td>\n",
       "      <td>0</td>\n",
       "      <td>0</td>\n",
       "      <td>0</td>\n",
       "      <td>0</td>\n",
       "      <td>0</td>\n",
       "      <td>...</td>\n",
       "      <td>0</td>\n",
       "      <td>0</td>\n",
       "      <td>0</td>\n",
       "      <td>0</td>\n",
       "      <td>0</td>\n",
       "      <td>0</td>\n",
       "      <td>0</td>\n",
       "      <td>0</td>\n",
       "      <td>0</td>\n",
       "      <td>0</td>\n",
       "    </tr>\n",
       "    <tr>\n",
       "      <th>4</th>\n",
       "      <td>1</td>\n",
       "      <td>0</td>\n",
       "      <td>0</td>\n",
       "      <td>0</td>\n",
       "      <td>0</td>\n",
       "      <td>0</td>\n",
       "      <td>1</td>\n",
       "      <td>0</td>\n",
       "      <td>0</td>\n",
       "      <td>0</td>\n",
       "      <td>...</td>\n",
       "      <td>0</td>\n",
       "      <td>0</td>\n",
       "      <td>0</td>\n",
       "      <td>0</td>\n",
       "      <td>0</td>\n",
       "      <td>0</td>\n",
       "      <td>0</td>\n",
       "      <td>0</td>\n",
       "      <td>0</td>\n",
       "      <td>0</td>\n",
       "    </tr>\n",
       "  </tbody>\n",
       "</table>\n",
       "<p>5 rows × 173 columns</p>\n",
       "</div>"
      ],
      "text/plain": [
       "   director: aamir khan  director: adam elliot  director: akira kurosawa  \\\n",
       "0                     0                      0                         0   \n",
       "1                     0                      0                         1   \n",
       "2                     0                      0                         0   \n",
       "3                     0                      0                         0   \n",
       "4                     1                      0                         0   \n",
       "\n",
       "   director: alan mak  director: alejandro g  director: alfred hitchcock  \\\n",
       "0                   0                      0                           0   \n",
       "1                   0                      0                           0   \n",
       "2                   0                      0                           0   \n",
       "3                   0                      0                           0   \n",
       "4                   0                      0                           0   \n",
       "\n",
       "   director: amole gupte  director: andrei tarkovsky  \\\n",
       "0                      0                           0   \n",
       "1                      0                           0   \n",
       "2                      0                           0   \n",
       "3                      0                           0   \n",
       "4                      1                           0   \n",
       "\n",
       "   director: andrew stanton  director: anurag kashyap          ...            \\\n",
       "0                         0                         0          ...             \n",
       "1                         0                         0          ...             \n",
       "2                         0                         0          ...             \n",
       "3                         0                         0          ...             \n",
       "4                         0                         0          ...             \n",
       "\n",
       "   director: von donnersmarck  director: wes anderson  \\\n",
       "0                           0                       0   \n",
       "1                           0                       0   \n",
       "2                           0                       0   \n",
       "3                           0                       0   \n",
       "4                           0                       0   \n",
       "\n",
       "   director: william wyler  director: wilson yip  director: wolfgang petersen  \\\n",
       "0                        0                     0                            0   \n",
       "1                        0                     0                            0   \n",
       "2                        0                     0                            0   \n",
       "3                        0                     0                            0   \n",
       "4                        0                     0                            0   \n",
       "\n",
       "   director: woody allen  director: wook park  director: yasujirô ozu  \\\n",
       "0                      0                    0                       0   \n",
       "1                      0                    0                       0   \n",
       "2                      0                    0                       0   \n",
       "3                      0                    0                       0   \n",
       "4                      0                    0                       0   \n",
       "\n",
       "   director: yavuz turgul  director: çagan irmak  \n",
       "0                       0                      0  \n",
       "1                       0                      0  \n",
       "2                       0                      0  \n",
       "3                       0                      0  \n",
       "4                       0                      0  \n",
       "\n",
       "[5 rows x 173 columns]"
      ]
     },
     "execution_count": 21,
     "metadata": {},
     "output_type": "execute_result"
    }
   ],
   "source": [
    "cv = CountVectorizer(token_pattern=u'(?u)\\\\w+\\.?\\\\w?\\.? \\\\w+')\n",
    "data = cv.fit_transform(df.Director).todense()\n",
    "columns = ['director: '+c for c in cv.get_feature_names()]\n",
    "directorsdf = pd.DataFrame(data, columns=columns)\n",
    "directorsdf.head()"
   ]
  },
  {
   "cell_type": "code",
   "execution_count": 35,
   "metadata": {
    "collapsed": false
   },
   "outputs": [
    {
     "data": {
      "text/html": [
       "<div>\n",
       "<table border=\"1\" class=\"dataframe\">\n",
       "  <thead>\n",
       "    <tr style=\"text-align: right;\">\n",
       "      <th></th>\n",
       "      <th>language_american</th>\n",
       "      <th>language_arabic</th>\n",
       "      <th>language_belarusian</th>\n",
       "      <th>language_cantonese</th>\n",
       "      <th>language_czech</th>\n",
       "      <th>language_danish</th>\n",
       "      <th>language_english</th>\n",
       "      <th>language_esperanto</th>\n",
       "      <th>language_french</th>\n",
       "      <th>language_gaelic</th>\n",
       "      <th>...</th>\n",
       "      <th>language_spanish</th>\n",
       "      <th>language_swahili</th>\n",
       "      <th>language_swedish</th>\n",
       "      <th>language_thai</th>\n",
       "      <th>language_turkish</th>\n",
       "      <th>language_urdu</th>\n",
       "      <th>language_vietnamese</th>\n",
       "      <th>language_xhosa</th>\n",
       "      <th>language_yiddish</th>\n",
       "      <th>language_zulu</th>\n",
       "    </tr>\n",
       "  </thead>\n",
       "  <tbody>\n",
       "    <tr>\n",
       "      <th>0</th>\n",
       "      <td>0</td>\n",
       "      <td>0</td>\n",
       "      <td>0</td>\n",
       "      <td>0</td>\n",
       "      <td>0</td>\n",
       "      <td>0</td>\n",
       "      <td>1</td>\n",
       "      <td>0</td>\n",
       "      <td>0</td>\n",
       "      <td>0</td>\n",
       "      <td>...</td>\n",
       "      <td>0</td>\n",
       "      <td>0</td>\n",
       "      <td>0</td>\n",
       "      <td>0</td>\n",
       "      <td>0</td>\n",
       "      <td>0</td>\n",
       "      <td>0</td>\n",
       "      <td>0</td>\n",
       "      <td>0</td>\n",
       "      <td>0</td>\n",
       "    </tr>\n",
       "    <tr>\n",
       "      <th>1</th>\n",
       "      <td>0</td>\n",
       "      <td>0</td>\n",
       "      <td>0</td>\n",
       "      <td>0</td>\n",
       "      <td>0</td>\n",
       "      <td>0</td>\n",
       "      <td>0</td>\n",
       "      <td>0</td>\n",
       "      <td>0</td>\n",
       "      <td>0</td>\n",
       "      <td>...</td>\n",
       "      <td>0</td>\n",
       "      <td>0</td>\n",
       "      <td>0</td>\n",
       "      <td>0</td>\n",
       "      <td>0</td>\n",
       "      <td>0</td>\n",
       "      <td>0</td>\n",
       "      <td>0</td>\n",
       "      <td>0</td>\n",
       "      <td>0</td>\n",
       "    </tr>\n",
       "    <tr>\n",
       "      <th>2</th>\n",
       "      <td>0</td>\n",
       "      <td>1</td>\n",
       "      <td>0</td>\n",
       "      <td>0</td>\n",
       "      <td>0</td>\n",
       "      <td>0</td>\n",
       "      <td>1</td>\n",
       "      <td>0</td>\n",
       "      <td>0</td>\n",
       "      <td>0</td>\n",
       "      <td>...</td>\n",
       "      <td>1</td>\n",
       "      <td>0</td>\n",
       "      <td>0</td>\n",
       "      <td>0</td>\n",
       "      <td>0</td>\n",
       "      <td>0</td>\n",
       "      <td>0</td>\n",
       "      <td>0</td>\n",
       "      <td>0</td>\n",
       "      <td>0</td>\n",
       "    </tr>\n",
       "    <tr>\n",
       "      <th>3</th>\n",
       "      <td>0</td>\n",
       "      <td>0</td>\n",
       "      <td>0</td>\n",
       "      <td>0</td>\n",
       "      <td>0</td>\n",
       "      <td>0</td>\n",
       "      <td>1</td>\n",
       "      <td>0</td>\n",
       "      <td>0</td>\n",
       "      <td>0</td>\n",
       "      <td>...</td>\n",
       "      <td>0</td>\n",
       "      <td>0</td>\n",
       "      <td>0</td>\n",
       "      <td>1</td>\n",
       "      <td>0</td>\n",
       "      <td>0</td>\n",
       "      <td>0</td>\n",
       "      <td>0</td>\n",
       "      <td>0</td>\n",
       "      <td>0</td>\n",
       "    </tr>\n",
       "    <tr>\n",
       "      <th>4</th>\n",
       "      <td>0</td>\n",
       "      <td>0</td>\n",
       "      <td>0</td>\n",
       "      <td>0</td>\n",
       "      <td>0</td>\n",
       "      <td>0</td>\n",
       "      <td>1</td>\n",
       "      <td>0</td>\n",
       "      <td>0</td>\n",
       "      <td>0</td>\n",
       "      <td>...</td>\n",
       "      <td>0</td>\n",
       "      <td>0</td>\n",
       "      <td>0</td>\n",
       "      <td>0</td>\n",
       "      <td>0</td>\n",
       "      <td>0</td>\n",
       "      <td>0</td>\n",
       "      <td>0</td>\n",
       "      <td>0</td>\n",
       "      <td>0</td>\n",
       "    </tr>\n",
       "  </tbody>\n",
       "</table>\n",
       "<p>5 rows × 47 columns</p>\n",
       "</div>"
      ],
      "text/plain": [
       "   language_american  language_arabic  language_belarusian  \\\n",
       "0                  0                0                    0   \n",
       "1                  0                0                    0   \n",
       "2                  0                1                    0   \n",
       "3                  0                0                    0   \n",
       "4                  0                0                    0   \n",
       "\n",
       "   language_cantonese  language_czech  language_danish  language_english  \\\n",
       "0                   0               0                0                 1   \n",
       "1                   0               0                0                 0   \n",
       "2                   0               0                0                 1   \n",
       "3                   0               0                0                 1   \n",
       "4                   0               0                0                 1   \n",
       "\n",
       "   language_esperanto  language_french  language_gaelic      ...        \\\n",
       "0                   0                0                0      ...         \n",
       "1                   0                0                0      ...         \n",
       "2                   0                0                0      ...         \n",
       "3                   0                0                0      ...         \n",
       "4                   0                0                0      ...         \n",
       "\n",
       "   language_spanish  language_swahili  language_swedish  language_thai  \\\n",
       "0                 0                 0                 0              0   \n",
       "1                 0                 0                 0              0   \n",
       "2                 1                 0                 0              0   \n",
       "3                 0                 0                 0              1   \n",
       "4                 0                 0                 0              0   \n",
       "\n",
       "   language_turkish  language_urdu  language_vietnamese  language_xhosa  \\\n",
       "0                 0              0                    0               0   \n",
       "1                 0              0                    0               0   \n",
       "2                 0              0                    0               0   \n",
       "3                 0              0                    0               0   \n",
       "4                 0              0                    0               0   \n",
       "\n",
       "   language_yiddish  language_zulu  \n",
       "0                 0              0  \n",
       "1                 0              0  \n",
       "2                 0              0  \n",
       "3                 0              0  \n",
       "4                 0              0  \n",
       "\n",
       "[5 rows x 47 columns]"
      ]
     },
     "execution_count": 35,
     "metadata": {},
     "output_type": "execute_result"
    }
   ],
   "source": [
    "# there is one movie from USA with no language\n",
    "df[\"Language\"].fillna(\"english\", inplace=True)\n",
    "# english and american are the same (for non-USA and non-UK countries)\n",
    "df[\"Language\"] = df[\"Language\"].replace(\"american\", \"english\")\n",
    "\n",
    "cv = CountVectorizer()\n",
    "data = cv.fit_transform(df.Language).todense()\n",
    "columns = ['language_'+c for c in cv.get_feature_names()]\n",
    "languagesdf = pd.DataFrame(data, columns=columns)\n",
    "languagesdf.head()"
   ]
  },
  {
   "cell_type": "code",
   "execution_count": 52,
   "metadata": {
    "collapsed": false
   },
   "outputs": [
    {
     "data": {
      "text/html": [
       "<div>\n",
       "<table border=\"1\" class=\"dataframe\">\n",
       "  <thead>\n",
       "    <tr style=\"text-align: right;\">\n",
       "      <th></th>\n",
       "      <th>country_algeria</th>\n",
       "      <th>country_argentina</th>\n",
       "      <th>country_australia</th>\n",
       "      <th>country_austria</th>\n",
       "      <th>country_belgium</th>\n",
       "      <th>country_brazil</th>\n",
       "      <th>country_canada</th>\n",
       "      <th>country_china</th>\n",
       "      <th>country_denmark</th>\n",
       "      <th>country_france</th>\n",
       "      <th>...</th>\n",
       "      <th>country_sovietunion</th>\n",
       "      <th>country_spain</th>\n",
       "      <th>country_sweden</th>\n",
       "      <th>country_switzerland</th>\n",
       "      <th>country_taiwan</th>\n",
       "      <th>country_turkey</th>\n",
       "      <th>country_uk</th>\n",
       "      <th>country_unitedarabemirates</th>\n",
       "      <th>country_usa</th>\n",
       "      <th>country_westgermany</th>\n",
       "    </tr>\n",
       "  </thead>\n",
       "  <tbody>\n",
       "    <tr>\n",
       "      <th>0</th>\n",
       "      <td>0</td>\n",
       "      <td>0</td>\n",
       "      <td>0</td>\n",
       "      <td>0</td>\n",
       "      <td>0</td>\n",
       "      <td>0</td>\n",
       "      <td>0</td>\n",
       "      <td>0</td>\n",
       "      <td>0</td>\n",
       "      <td>0</td>\n",
       "      <td>...</td>\n",
       "      <td>0</td>\n",
       "      <td>0</td>\n",
       "      <td>0</td>\n",
       "      <td>0</td>\n",
       "      <td>0</td>\n",
       "      <td>0</td>\n",
       "      <td>0</td>\n",
       "      <td>0</td>\n",
       "      <td>1</td>\n",
       "      <td>0</td>\n",
       "    </tr>\n",
       "    <tr>\n",
       "      <th>1</th>\n",
       "      <td>0</td>\n",
       "      <td>0</td>\n",
       "      <td>0</td>\n",
       "      <td>0</td>\n",
       "      <td>0</td>\n",
       "      <td>0</td>\n",
       "      <td>0</td>\n",
       "      <td>0</td>\n",
       "      <td>0</td>\n",
       "      <td>0</td>\n",
       "      <td>...</td>\n",
       "      <td>0</td>\n",
       "      <td>0</td>\n",
       "      <td>0</td>\n",
       "      <td>0</td>\n",
       "      <td>0</td>\n",
       "      <td>0</td>\n",
       "      <td>0</td>\n",
       "      <td>0</td>\n",
       "      <td>0</td>\n",
       "      <td>0</td>\n",
       "    </tr>\n",
       "    <tr>\n",
       "      <th>2</th>\n",
       "      <td>0</td>\n",
       "      <td>0</td>\n",
       "      <td>0</td>\n",
       "      <td>0</td>\n",
       "      <td>0</td>\n",
       "      <td>0</td>\n",
       "      <td>0</td>\n",
       "      <td>0</td>\n",
       "      <td>0</td>\n",
       "      <td>0</td>\n",
       "      <td>...</td>\n",
       "      <td>0</td>\n",
       "      <td>0</td>\n",
       "      <td>0</td>\n",
       "      <td>0</td>\n",
       "      <td>0</td>\n",
       "      <td>0</td>\n",
       "      <td>0</td>\n",
       "      <td>0</td>\n",
       "      <td>1</td>\n",
       "      <td>0</td>\n",
       "    </tr>\n",
       "    <tr>\n",
       "      <th>3</th>\n",
       "      <td>0</td>\n",
       "      <td>0</td>\n",
       "      <td>0</td>\n",
       "      <td>0</td>\n",
       "      <td>0</td>\n",
       "      <td>0</td>\n",
       "      <td>0</td>\n",
       "      <td>0</td>\n",
       "      <td>0</td>\n",
       "      <td>0</td>\n",
       "      <td>...</td>\n",
       "      <td>0</td>\n",
       "      <td>0</td>\n",
       "      <td>0</td>\n",
       "      <td>0</td>\n",
       "      <td>0</td>\n",
       "      <td>0</td>\n",
       "      <td>1</td>\n",
       "      <td>0</td>\n",
       "      <td>1</td>\n",
       "      <td>0</td>\n",
       "    </tr>\n",
       "    <tr>\n",
       "      <th>4</th>\n",
       "      <td>0</td>\n",
       "      <td>0</td>\n",
       "      <td>0</td>\n",
       "      <td>0</td>\n",
       "      <td>0</td>\n",
       "      <td>0</td>\n",
       "      <td>0</td>\n",
       "      <td>0</td>\n",
       "      <td>0</td>\n",
       "      <td>0</td>\n",
       "      <td>...</td>\n",
       "      <td>0</td>\n",
       "      <td>0</td>\n",
       "      <td>0</td>\n",
       "      <td>0</td>\n",
       "      <td>0</td>\n",
       "      <td>0</td>\n",
       "      <td>0</td>\n",
       "      <td>0</td>\n",
       "      <td>0</td>\n",
       "      <td>0</td>\n",
       "    </tr>\n",
       "  </tbody>\n",
       "</table>\n",
       "<p>5 rows × 37 columns</p>\n",
       "</div>"
      ],
      "text/plain": [
       "   country_algeria  country_argentina  country_australia  country_austria  \\\n",
       "0                0                  0                  0                0   \n",
       "1                0                  0                  0                0   \n",
       "2                0                  0                  0                0   \n",
       "3                0                  0                  0                0   \n",
       "4                0                  0                  0                0   \n",
       "\n",
       "   country_belgium  country_brazil  country_canada  country_china  \\\n",
       "0                0               0               0              0   \n",
       "1                0               0               0              0   \n",
       "2                0               0               0              0   \n",
       "3                0               0               0              0   \n",
       "4                0               0               0              0   \n",
       "\n",
       "   country_denmark  country_france         ...           country_sovietunion  \\\n",
       "0                0               0         ...                             0   \n",
       "1                0               0         ...                             0   \n",
       "2                0               0         ...                             0   \n",
       "3                0               0         ...                             0   \n",
       "4                0               0         ...                             0   \n",
       "\n",
       "   country_spain  country_sweden  country_switzerland  country_taiwan  \\\n",
       "0              0               0                    0               0   \n",
       "1              0               0                    0               0   \n",
       "2              0               0                    0               0   \n",
       "3              0               0                    0               0   \n",
       "4              0               0                    0               0   \n",
       "\n",
       "   country_turkey  country_uk  country_unitedarabemirates  country_usa  \\\n",
       "0               0           0                           0            1   \n",
       "1               0           0                           0            0   \n",
       "2               0           0                           0            1   \n",
       "3               0           1                           0            1   \n",
       "4               0           0                           0            0   \n",
       "\n",
       "   country_westgermany  \n",
       "0                    0  \n",
       "1                    0  \n",
       "2                    0  \n",
       "3                    0  \n",
       "4                    0  \n",
       "\n",
       "[5 rows x 37 columns]"
      ]
     },
     "execution_count": 52,
     "metadata": {},
     "output_type": "execute_result"
    }
   ],
   "source": [
    "# some country names have multiple words\n",
    "df[\"CountryNoSpaces\"] = df[\"Country\"].str.replace(\" \", \"\")\n",
    "\n",
    "cv = CountVectorizer()\n",
    "data = cv.fit_transform(df.CountryNoSpaces).todense()\n",
    "columns = ['country_'+c for c in cv.get_feature_names()]\n",
    "countriesdf = pd.DataFrame(data, columns=columns)\n",
    "countriesdf.head()"
   ]
  },
  {
   "cell_type": "code",
   "execution_count": 53,
   "metadata": {
    "collapsed": false
   },
   "outputs": [],
   "source": [
    "# save all data to files\n",
    "df.to_csv(\"movies.csv\", encoding=\"utf-8\")\n",
    "genredf.to_csv(\"genres.csv\", encoding=\"utf-8\")\n",
    "actorsdf.to_csv(\"actors.csv\", encoding=\"utf-8\")\n",
    "directorsdf.to_csv(\"directors.csv\", encoding=\"utf-8\")\n",
    "languagesdf.to_csv(\"languages.csv\", encoding=\"utf-8\")\n",
    "countriesdf.to_csv(\"countries.csv\", encoding=\"utf-8\")"
   ]
  },
  {
   "cell_type": "markdown",
   "metadata": {},
   "source": [
    "### xxx Start loading from here, no need to scrape and clean everytime"
   ]
  },
  {
   "cell_type": "code",
   "execution_count": 109,
   "metadata": {
    "collapsed": false
   },
   "outputs": [
    {
     "name": "stdout",
     "output_type": "stream",
     "text": [
      "The sql extension is already loaded. To reload it, use:\n",
      "  %reload_ext sql\n",
      "================Movies\n",
      "<class 'pandas.core.frame.DataFrame'>\n",
      "RangeIndex: 250 entries, 0 to 249\n",
      "Data columns (total 22 columns):\n",
      "Actors             250 non-null object\n",
      "Awards             246 non-null object\n",
      "Country            250 non-null object\n",
      "Director           250 non-null object\n",
      "Genre              250 non-null object\n",
      "Language           250 non-null object\n",
      "Metascore          163 non-null float64\n",
      "Plot               231 non-null object\n",
      "Poster             249 non-null object\n",
      "Rated              246 non-null object\n",
      "Released           249 non-null object\n",
      "Response           250 non-null bool\n",
      "Runtime            250 non-null int64\n",
      "Title              250 non-null object\n",
      "Type               250 non-null object\n",
      "Writer             250 non-null object\n",
      "Year               250 non-null int64\n",
      "imdbID             250 non-null object\n",
      "imdbRating         250 non-null float64\n",
      "imdbVotes          250 non-null int64\n",
      "Gross              181 non-null float64\n",
      "CountryNoSpaces    250 non-null object\n",
      "dtypes: bool(1), float64(3), int64(3), object(15)\n",
      "memory usage: 41.3+ KB\n",
      "None\n",
      "================Genres\n",
      "<class 'pandas.core.frame.DataFrame'>\n",
      "RangeIndex: 250 entries, 0 to 249\n",
      "Data columns (total 23 columns):\n",
      "genre_action       250 non-null int64\n",
      "genre_adventure    250 non-null int64\n",
      "genre_animation    250 non-null int64\n",
      "genre_biography    250 non-null int64\n",
      "genre_comedy       250 non-null int64\n",
      "genre_crime        250 non-null int64\n",
      "genre_drama        250 non-null int64\n",
      "genre_family       250 non-null int64\n",
      "genre_fantasy      250 non-null int64\n",
      "genre_fi           250 non-null int64\n",
      "genre_film         250 non-null int64\n",
      "genre_history      250 non-null int64\n",
      "genre_horror       250 non-null int64\n",
      "genre_music        250 non-null int64\n",
      "genre_musical      250 non-null int64\n",
      "genre_mystery      250 non-null int64\n",
      "genre_noir         250 non-null int64\n",
      "genre_romance      250 non-null int64\n",
      "genre_sci          250 non-null int64\n",
      "genre_sport        250 non-null int64\n",
      "genre_thriller     250 non-null int64\n",
      "genre_war          250 non-null int64\n",
      "genre_western      250 non-null int64\n",
      "dtypes: int64(23)\n",
      "memory usage: 45.0 KB\n",
      "None\n",
      "================Actors\n",
      "<class 'pandas.core.frame.DataFrame'>\n",
      "RangeIndex: 250 entries, 0 to 249\n",
      "Columns: 816 entries, actor: aamir khan to actor: çetin tekindor\n",
      "dtypes: int64(816)\n",
      "memory usage: 1.6 MB\n",
      "None\n",
      "================Directors\n",
      "<class 'pandas.core.frame.DataFrame'>\n",
      "RangeIndex: 250 entries, 0 to 249\n",
      "Columns: 173 entries, director: aamir khan to director: çagan irmak\n",
      "dtypes: int64(173)\n",
      "memory usage: 338.0 KB\n",
      "None\n",
      "================Languages\n",
      "<class 'pandas.core.frame.DataFrame'>\n",
      "RangeIndex: 250 entries, 0 to 249\n",
      "Data columns (total 47 columns):\n",
      "language_american      250 non-null int64\n",
      "language_arabic        250 non-null int64\n",
      "language_belarusian    250 non-null int64\n",
      "language_cantonese     250 non-null int64\n",
      "language_czech         250 non-null int64\n",
      "language_danish        250 non-null int64\n",
      "language_english       250 non-null int64\n",
      "language_esperanto     250 non-null int64\n",
      "language_french        250 non-null int64\n",
      "language_gaelic        250 non-null int64\n",
      "language_german        250 non-null int64\n",
      "language_greek         250 non-null int64\n",
      "language_hebrew        250 non-null int64\n",
      "language_hindi         250 non-null int64\n",
      "language_hmong         250 non-null int64\n",
      "language_hungarian     250 non-null int64\n",
      "language_irish         250 non-null int64\n",
      "language_italian       250 non-null int64\n",
      "language_japanese      250 non-null int64\n",
      "language_korean        250 non-null int64\n",
      "language_language      250 non-null int64\n",
      "language_latin         250 non-null int64\n",
      "language_mandarin      250 non-null int64\n",
      "language_nepali        250 non-null int64\n",
      "language_norwegian     250 non-null int64\n",
      "language_old           250 non-null int64\n",
      "language_panjabi       250 non-null int64\n",
      "language_pawnee        250 non-null int64\n",
      "language_persian       250 non-null int64\n",
      "language_polish        250 non-null int64\n",
      "language_portuguese    250 non-null int64\n",
      "language_quenya        250 non-null int64\n",
      "language_russian       250 non-null int64\n",
      "language_scottish      250 non-null int64\n",
      "language_sicilian      250 non-null int64\n",
      "language_sign          250 non-null int64\n",
      "language_sindarin      250 non-null int64\n",
      "language_spanish       250 non-null int64\n",
      "language_swahili       250 non-null int64\n",
      "language_swedish       250 non-null int64\n",
      "language_thai          250 non-null int64\n",
      "language_turkish       250 non-null int64\n",
      "language_urdu          250 non-null int64\n",
      "language_vietnamese    250 non-null int64\n",
      "language_xhosa         250 non-null int64\n",
      "language_yiddish       250 non-null int64\n",
      "language_zulu          250 non-null int64\n",
      "dtypes: int64(47)\n",
      "memory usage: 91.9 KB\n",
      "None\n",
      "================Countries\n",
      "<class 'pandas.core.frame.DataFrame'>\n",
      "RangeIndex: 250 entries, 0 to 249\n",
      "Data columns (total 37 columns):\n",
      "country_algeria               250 non-null int64\n",
      "country_argentina             250 non-null int64\n",
      "country_australia             250 non-null int64\n",
      "country_austria               250 non-null int64\n",
      "country_belgium               250 non-null int64\n",
      "country_brazil                250 non-null int64\n",
      "country_canada                250 non-null int64\n",
      "country_china                 250 non-null int64\n",
      "country_denmark               250 non-null int64\n",
      "country_france                250 non-null int64\n",
      "country_germany               250 non-null int64\n",
      "country_hongkong              250 non-null int64\n",
      "country_india                 250 non-null int64\n",
      "country_iran                  250 non-null int64\n",
      "country_ireland               250 non-null int64\n",
      "country_italy                 250 non-null int64\n",
      "country_japan                 250 non-null int64\n",
      "country_kuwait                250 non-null int64\n",
      "country_lebanon               250 non-null int64\n",
      "country_libya                 250 non-null int64\n",
      "country_luxembourg            250 non-null int64\n",
      "country_mexico                250 non-null int64\n",
      "country_morocco               250 non-null int64\n",
      "country_newzealand            250 non-null int64\n",
      "country_poland                250 non-null int64\n",
      "country_southafrica           250 non-null int64\n",
      "country_southkorea            250 non-null int64\n",
      "country_sovietunion           250 non-null int64\n",
      "country_spain                 250 non-null int64\n",
      "country_sweden                250 non-null int64\n",
      "country_switzerland           250 non-null int64\n",
      "country_taiwan                250 non-null int64\n",
      "country_turkey                250 non-null int64\n",
      "country_uk                    250 non-null int64\n",
      "country_unitedarabemirates    250 non-null int64\n",
      "country_usa                   250 non-null int64\n",
      "country_westgermany           250 non-null int64\n",
      "dtypes: int64(37)\n",
      "memory usage: 72.3 KB\n",
      "None\n"
     ]
    }
   ],
   "source": [
    "import numpy as np\n",
    "import pandas as pd \n",
    "from sqlalchemy import create_engine\n",
    "import matplotlib.pyplot as plt\n",
    "import seaborn as sns\n",
    "from patsy import dmatrices\n",
    "from sklearn.linear_model import LogisticRegression\n",
    "from sklearn.model_selection import train_test_split, cross_val_score\n",
    "from sklearn import metrics\n",
    "from __future__ import division, print_function, unicode_literals\n",
    "%matplotlib inline\n",
    "%load_ext sql\n",
    "\n",
    "moviesdf = pd.read_csv('movies.csv')\n",
    "moviesdf.drop([\"Unnamed: 0\"], axis=1, inplace=True)\n",
    "print(\"================Movies\")\n",
    "print(moviesdf.info())\n",
    "\n",
    "genredf = pd.read_csv('genres.csv')\n",
    "genredf.drop([\"Unnamed: 0\"], axis=1, inplace=True)\n",
    "print(\"================Genres\")\n",
    "print(genredf.info())\n",
    "\n",
    "actorsdf = pd.read_csv('actors.csv')\n",
    "actorsdf.drop([\"Unnamed: 0\"], axis=1, inplace=True)\n",
    "print(\"================Actors\")\n",
    "print(actorsdf.info())\n",
    "\n",
    "directorsdf = pd.read_csv('directors.csv')\n",
    "directorsdf.drop([\"Unnamed: 0\"], axis=1, inplace=True)\n",
    "print(\"================Directors\")\n",
    "print(directorsdf.info())\n",
    "\n",
    "languagesdf = pd.read_csv('languages.csv')\n",
    "languagesdf.drop([\"Unnamed: 0\"], axis=1, inplace=True)\n",
    "print(\"================Languages\")\n",
    "print(languagesdf.info())\n",
    "\n",
    "countriesdf = pd.read_csv('countries.csv')\n",
    "countriesdf.drop([\"Unnamed: 0\"], axis=1, inplace=True)\n",
    "print(\"================Countries\")\n",
    "print(countriesdf.info())"
   ]
  },
  {
   "cell_type": "markdown",
   "metadata": {},
   "source": [
    "### Answering some questions:\n",
    "\n",
    "1. What are the top 10 grossing movies?\n",
    "- Who are the 10 actors that appear in the most movies?\n",
    "- What's the average grossing of the movies in which each of these actors appear?\n",
    "- What genre is the oldest movie?\n"
   ]
  },
  {
   "cell_type": "code",
   "execution_count": 110,
   "metadata": {
    "collapsed": false
   },
   "outputs": [
    {
     "data": {
      "text/html": [
       "<div>\n",
       "<table border=\"1\" class=\"dataframe\">\n",
       "  <thead>\n",
       "    <tr style=\"text-align: right;\">\n",
       "      <th></th>\n",
       "      <th>Title</th>\n",
       "      <th>Gross</th>\n",
       "      <th>Genre</th>\n",
       "    </tr>\n",
       "  </thead>\n",
       "  <tbody>\n",
       "    <tr>\n",
       "      <th>162</th>\n",
       "      <td>Star Wars: The Force Awakens</td>\n",
       "      <td>936627416.0</td>\n",
       "      <td>Action, Adventure, Fantasy</td>\n",
       "    </tr>\n",
       "    <tr>\n",
       "      <th>37</th>\n",
       "      <td>The Dark Knight</td>\n",
       "      <td>533316061.0</td>\n",
       "      <td>Action, Crime, Drama</td>\n",
       "    </tr>\n",
       "    <tr>\n",
       "      <th>234</th>\n",
       "      <td>Star Wars: Episode IV - A New Hope</td>\n",
       "      <td>460935665.0</td>\n",
       "      <td>Action, Adventure, Fantasy</td>\n",
       "    </tr>\n",
       "    <tr>\n",
       "      <th>161</th>\n",
       "      <td>The Dark Knight Rises</td>\n",
       "      <td>448130642.0</td>\n",
       "      <td>Action, Thriller</td>\n",
       "    </tr>\n",
       "    <tr>\n",
       "      <th>48</th>\n",
       "      <td>The Lion King</td>\n",
       "      <td>422783777.0</td>\n",
       "      <td>Animation, Adventure, Drama</td>\n",
       "    </tr>\n",
       "    <tr>\n",
       "      <th>102</th>\n",
       "      <td>Toy Story 3</td>\n",
       "      <td>414984497.0</td>\n",
       "      <td>Animation, Adventure, Comedy</td>\n",
       "    </tr>\n",
       "    <tr>\n",
       "      <th>70</th>\n",
       "      <td>Harry Potter and the Deathly Hallows: Part 2</td>\n",
       "      <td>380955619.0</td>\n",
       "      <td>Adventure, Drama, Fantasy</td>\n",
       "    </tr>\n",
       "    <tr>\n",
       "      <th>9</th>\n",
       "      <td>Finding Nemo</td>\n",
       "      <td>380838870.0</td>\n",
       "      <td>Animation, Adventure, Comedy</td>\n",
       "    </tr>\n",
       "    <tr>\n",
       "      <th>81</th>\n",
       "      <td>The Lord of the Rings: The Return of the King</td>\n",
       "      <td>377019252.0</td>\n",
       "      <td>Adventure, Drama, Fantasy</td>\n",
       "    </tr>\n",
       "    <tr>\n",
       "      <th>94</th>\n",
       "      <td>Jurassic Park</td>\n",
       "      <td>356784000.0</td>\n",
       "      <td>Adventure, Sci-Fi, Thriller</td>\n",
       "    </tr>\n",
       "  </tbody>\n",
       "</table>\n",
       "</div>"
      ],
      "text/plain": [
       "                                             Title        Gross  \\\n",
       "162                   Star Wars: The Force Awakens  936627416.0   \n",
       "37                                 The Dark Knight  533316061.0   \n",
       "234             Star Wars: Episode IV - A New Hope  460935665.0   \n",
       "161                          The Dark Knight Rises  448130642.0   \n",
       "48                                   The Lion King  422783777.0   \n",
       "102                                    Toy Story 3  414984497.0   \n",
       "70    Harry Potter and the Deathly Hallows: Part 2  380955619.0   \n",
       "9                                     Finding Nemo  380838870.0   \n",
       "81   The Lord of the Rings: The Return of the King  377019252.0   \n",
       "94                                   Jurassic Park  356784000.0   \n",
       "\n",
       "                            Genre  \n",
       "162    Action, Adventure, Fantasy  \n",
       "37           Action, Crime, Drama  \n",
       "234    Action, Adventure, Fantasy  \n",
       "161              Action, Thriller  \n",
       "48    Animation, Adventure, Drama  \n",
       "102  Animation, Adventure, Comedy  \n",
       "70      Adventure, Drama, Fantasy  \n",
       "9    Animation, Adventure, Comedy  \n",
       "81      Adventure, Drama, Fantasy  \n",
       "94    Adventure, Sci-Fi, Thriller  "
      ]
     },
     "execution_count": 110,
     "metadata": {},
     "output_type": "execute_result"
    }
   ],
   "source": [
    "# What are the top 10 grossing movies?\n",
    "moviesdf[['Title','Gross', 'Genre']].sort_values('Gross', ascending = False).head(10)"
   ]
  },
  {
   "cell_type": "code",
   "execution_count": 111,
   "metadata": {
    "collapsed": false
   },
   "outputs": [
    {
     "data": {
      "text/plain": [
       "actor: leonardo dicaprio    7\n",
       "actor: harrison ford        7\n",
       "actor: robert de            7\n",
       "actor: tom hanks            6\n",
       "actor: tom hardy            5\n",
       "actor: clint eastwood       5\n",
       "actor: carrie fisher        4\n",
       "actor: james stewart        4\n",
       "actor: mark hamill          4\n",
       "actor: matt damon           4\n",
       "actor: joe pesci            4\n",
       "actor: morgan freeman       4\n",
       "actor: christian bale       4\n",
       "actor: charles chaplin      4\n",
       "actor: aamir khan           4\n",
       "actor: brad pitt            4\n",
       "actor: al pacino            4\n",
       "dtype: int64"
      ]
     },
     "execution_count": 111,
     "metadata": {},
     "output_type": "execute_result"
    }
   ],
   "source": [
    "#Who are the 17 actors that appear in the most movies?\n",
    "actorcols = actorsdf.columns\n",
    "topactors = actorsdf.sum().sort_values(ascending = False).head(17)\n",
    "topactors"
   ]
  },
  {
   "cell_type": "code",
   "execution_count": 112,
   "metadata": {
    "collapsed": false
   },
   "outputs": [
    {
     "data": {
      "text/plain": [
       "actor: mark hamill          4.992118e+08\n",
       "actor: carrie fisher        4.992118e+08\n",
       "actor: harrison ford        3.519134e+08\n",
       "actor: christian bale       3.099683e+08\n",
       "actor: tom hanks            2.423047e+08\n",
       "actor: tom hardy            2.183233e+08\n",
       "actor: matt damon           1.815702e+08\n",
       "actor: leonardo dicaprio    1.686647e+08\n",
       "actor: clint eastwood       8.894150e+07\n",
       "actor: morgan freeman       8.251176e+07\n",
       "actor: al pacino            7.606449e+07\n",
       "actor: brad pitt            7.194123e+07\n",
       "actor: robert de            3.655932e+07\n",
       "actor: joe pesci            2.365499e+07\n",
       "actor: james stewart        1.385000e+07\n",
       "actor: aamir khan           3.308376e+06\n",
       "actor: charles chaplin      1.331622e+06\n",
       "dtype: float64"
      ]
     },
     "execution_count": 112,
     "metadata": {},
     "output_type": "execute_result"
    }
   ],
   "source": [
    "# What's the average grossing of the movies in which each of these actors appear?\n",
    "means = [moviesdf.loc[actorsdf[actor]==1,'Gross'].mean() for actor in topactors.index]\n",
    "means = pd.Series(means, index = topactors.index)\n",
    "means.sort_values(ascending = False)"
   ]
  },
  {
   "cell_type": "code",
   "execution_count": 113,
   "metadata": {
    "collapsed": false
   },
   "outputs": [
    {
     "data": {
      "text/html": [
       "<div>\n",
       "<table border=\"1\" class=\"dataframe\">\n",
       "  <thead>\n",
       "    <tr style=\"text-align: right;\">\n",
       "      <th></th>\n",
       "      <th>Genre</th>\n",
       "      <th>Title</th>\n",
       "      <th>Released</th>\n",
       "      <th>Gross</th>\n",
       "    </tr>\n",
       "  </thead>\n",
       "  <tbody>\n",
       "    <tr>\n",
       "      <th>91</th>\n",
       "      <td>Comedy, Drama, Family</td>\n",
       "      <td>The Kid</td>\n",
       "      <td>1921-02-06</td>\n",
       "      <td>2500000.0</td>\n",
       "    </tr>\n",
       "    <tr>\n",
       "      <th>181</th>\n",
       "      <td>Action, Adventure, Comedy</td>\n",
       "      <td>The General</td>\n",
       "      <td>1927-02-24</td>\n",
       "      <td>NaN</td>\n",
       "    </tr>\n",
       "    <tr>\n",
       "      <th>211</th>\n",
       "      <td>Drama, Sci-Fi</td>\n",
       "      <td>Metropolis</td>\n",
       "      <td>1927-03-13</td>\n",
       "      <td>26435.0</td>\n",
       "    </tr>\n",
       "    <tr>\n",
       "      <th>194</th>\n",
       "      <td>Drama, Romance</td>\n",
       "      <td>Sunrise</td>\n",
       "      <td>1927-11-04</td>\n",
       "      <td>NaN</td>\n",
       "    </tr>\n",
       "    <tr>\n",
       "      <th>175</th>\n",
       "      <td>Biography, Drama, History</td>\n",
       "      <td>The Passion of Joan of Arc</td>\n",
       "      <td>1928-10-25</td>\n",
       "      <td>NaN</td>\n",
       "    </tr>\n",
       "  </tbody>\n",
       "</table>\n",
       "</div>"
      ],
      "text/plain": [
       "                         Genre                       Title    Released  \\\n",
       "91       Comedy, Drama, Family                     The Kid  1921-02-06   \n",
       "181  Action, Adventure, Comedy                 The General  1927-02-24   \n",
       "211              Drama, Sci-Fi                  Metropolis  1927-03-13   \n",
       "194             Drama, Romance                     Sunrise  1927-11-04   \n",
       "175  Biography, Drama, History  The Passion of Joan of Arc  1928-10-25   \n",
       "\n",
       "         Gross  \n",
       "91   2500000.0  \n",
       "181        NaN  \n",
       "211    26435.0  \n",
       "194        NaN  \n",
       "175        NaN  "
      ]
     },
     "execution_count": 113,
     "metadata": {},
     "output_type": "execute_result"
    }
   ],
   "source": [
    "# What genre were the oldest movies?\n",
    "moviesdf.sort_values('Released')[['Genre', 'Title', 'Released', 'Gross']].head()"
   ]
  },
  {
   "cell_type": "markdown",
   "metadata": {},
   "source": [
    "## Refine: Visualize data\n",
    "\n",
    "(Plots that describe your data and evaluate your model)\n",
    "\n",
    "(Bonus: Use multiple data viz tools)"
   ]
  },
  {
   "cell_type": "code",
   "execution_count": 114,
   "metadata": {
    "collapsed": false
   },
   "outputs": [
    {
     "data": {
      "text/plain": [
       "<seaborn.axisgrid.PairGrid at 0x12cdecb50>"
      ]
     },
     "execution_count": 114,
     "metadata": {},
     "output_type": "execute_result"
    },
    {
     "data": {
      "image/png": "[encoded data removed]",
      "text/plain": [
       "<matplotlib.figure.Figure at 0x11fb958d0>"
      ]
     },
     "metadata": {},
     "output_type": "display_data"
    }
   ],
   "source": [
    "sns.pairplot(moviesdf.dropna(), vars=[\"Metascore\", \"Runtime\", \"Year\", \"imdbRating\", \"imdbVotes\", \"Gross\"])"
   ]
  },
  {
   "cell_type": "markdown",
   "metadata": {},
   "source": [
    "Regarding the 250 most popular movies, we can see that:\n",
    "- the distribution of the year is negatively skewed, that is, there are more recent movies in this list.\n",
    "- all ratings are above 8 (it makes sense that popular movies have high rates).\n",
    "- gross income is positively skewed: the vast majority of movies have relatively low gross values compared to the very few highest grossing movies.\n",
    "- more recent movies tend to have higher gross incomes, more votes and higher ratings.\n",
    "- movies with higher ratings tend to also have more votes.\n",
    "- movies with higher ratings / more votes tend to have higher gross values, but it's not a very clear trend.\n",
    "\n",
    "We can also see these relations in the correlation following matrix."
   ]
  },
  {
   "cell_type": "code",
   "execution_count": 115,
   "metadata": {
    "collapsed": false
   },
   "outputs": [
    {
     "data": {
      "text/plain": [
       "<matplotlib.axes._subplots.AxesSubplot at 0x13648e750>"
      ]
     },
     "execution_count": 115,
     "metadata": {},
     "output_type": "execute_result"
    },
    {
     "data": {
      "image/png": "[encoded data removed]",
      "text/plain": [
       "<matplotlib.figure.Figure at 0x12bdda290>"
      ]
     },
     "metadata": {},
     "output_type": "display_data"
    }
   ],
   "source": [
    "sns.heatmap(moviesdf.drop(\"Response\", axis=1).corr())"
   ]
  },
  {
   "cell_type": "code",
   "execution_count": 116,
   "metadata": {
    "collapsed": false
   },
   "outputs": [
    {
     "data": {
      "image/png": "[encoded data removed]",
      "text/plain": [
       "<matplotlib.figure.Figure at 0x136704d50>"
      ]
     },
     "metadata": {},
     "output_type": "display_data"
    }
   ],
   "source": [
    "moviesdf[\"Year\"].hist()\n",
    "plt.title(\"Year of movie histogram\")\n",
    "plt.xlabel(\"Year\")\n",
    "plt.ylabel(\"Number of movies\")\n",
    "plt.show()"
   ]
  },
  {
   "cell_type": "code",
   "execution_count": 227,
   "metadata": {
    "collapsed": false
   },
   "outputs": [
    {
     "data": {
      "image/png": "[encoded data removed]",
      "text/plain": [
       "<matplotlib.figure.Figure at 0x13a9a2710>"
      ]
     },
     "metadata": {},
     "output_type": "display_data"
    }
   ],
   "source": [
    "moviesdf[\"imdbRating\"].hist()\n",
    "plt.title(\"imdbRating of movie histogram\")\n",
    "plt.xlabel(\"imdbRating\")\n",
    "plt.ylabel(\"Number of movies\")\n",
    "plt.show()"
   ]
  },
  {
   "cell_type": "code",
   "execution_count": 229,
   "metadata": {
    "collapsed": false
   },
   "outputs": [
    {
     "data": {
      "image/png": "[encoded data removed]",
      "text/plain": [
       "<matplotlib.figure.Figure at 0x13a987b50>"
      ]
     },
     "metadata": {},
     "output_type": "display_data"
    }
   ],
   "source": [
    "moviesdf[\"Gross\"].hist()\n",
    "plt.title(\"Gross income of movie histogram\")\n",
    "plt.xlabel(\"Gross income\")\n",
    "plt.ylabel(\"Number of movies\")\n",
    "plt.show()"
   ]
  },
  {
   "cell_type": "code",
   "execution_count": 117,
   "metadata": {
    "collapsed": false
   },
   "outputs": [
    {
     "data": {
      "image/png": "[encoded data removed]",
      "text/plain": [
       "<matplotlib.figure.Figure at 0x1363b44d0>"
      ]
     },
     "metadata": {},
     "output_type": "display_data"
    }
   ],
   "source": [
    "moviesdf[\"Runtime\"].hist()\n",
    "plt.title(\"Runtime of movie histogram\")\n",
    "plt.xlabel(\"Runtime (minutes)\")\n",
    "plt.ylabel(\"Number of movies\")\n",
    "plt.show()"
   ]
  },
  {
   "cell_type": "markdown",
   "metadata": {},
   "source": [
    "## Model: Define training set"
   ]
  },
  {
   "cell_type": "code",
   "execution_count": 133,
   "metadata": {
    "collapsed": false
   },
   "outputs": [
    {
     "data": {
      "text/plain": [
       "(250, 1118)"
      ]
     },
     "execution_count": 133,
     "metadata": {},
     "output_type": "execute_result"
    }
   ],
   "source": [
    "df = pd.concat([moviesdf, genredf, actorsdf, \n",
    "                directorsdf, languagesdf, countriesdf], axis = 1)\n",
    "df.shape"
   ]
  },
  {
   "cell_type": "code",
   "execution_count": 134,
   "metadata": {
    "collapsed": true
   },
   "outputs": [],
   "source": [
    "df = df.dropna(axis=0)"
   ]
  },
  {
   "cell_type": "code",
   "execution_count": 135,
   "metadata": {
    "collapsed": false
   },
   "outputs": [
    {
     "name": "stdout",
     "output_type": "stream",
     "text": [
      "(143, 1100)\n",
      "(143,)\n"
     ]
    }
   ],
   "source": [
    "X = df.drop([\"Gross\", \"Actors\", \"Awards\", \"Country\", \"Director\",\n",
    "             \"Genre\", \"Language\", \"Metascore\", \"Plot\", \"Poster\",\n",
    "             \"Rated\", \"Released\", \"Response\", \"Title\", \"Type\", \n",
    "             \"Writer\", \"imdbID\", \"CountryNoSpaces\"], axis=1)\n",
    "print(X.shape)\n",
    "y = df[\"Gross\"]\n",
    "print(y.shape)"
   ]
  },
  {
   "cell_type": "markdown",
   "metadata": {},
   "source": [
    "## Model: Fit and evaluate model\n",
    "\n",
    "(Tree-based models: use any combination of ensemble techniques: random forests, bagging, boosting)\n",
    "\n",
    "(Bonus: How is model at risk of overfitting?)"
   ]
  },
  {
   "cell_type": "code",
   "execution_count": 198,
   "metadata": {
    "collapsed": true
   },
   "outputs": [],
   "source": [
    "from sklearn.model_selection import cross_val_score, StratifiedKFold\n",
    "from sklearn.tree import DecisionTreeRegressor\n",
    "from sklearn.ensemble import RandomForestRegressor, ExtraTreesRegressor, BaggingRegressor, AdaBoostRegressor\n",
    "\n",
    "cv = StratifiedKFold(n_splits=3, shuffle=True, random_state=42)"
   ]
  },
  {
   "cell_type": "code",
   "execution_count": 219,
   "metadata": {
    "collapsed": false
   },
   "outputs": [],
   "source": [
    "def explore_regressor(regressor):\n",
    "    all_scores = []\n",
    "    best_score = -1\n",
    "    best_depth = 0\n",
    "    for i in range(1, 9):\n",
    "        reg = regressor(max_depth=i, random_state=1)\n",
    "        scores = cross_val_score(reg, X, y, cv=3, scoring='neg_mean_squared_error')\n",
    "        current_score = np.mean(np.sqrt(-scores))\n",
    "        # If the score mean is better than the current best, \n",
    "        # or best is the default (-1), then update!\n",
    "        if current_score < best_score or best_score == -1:\n",
    "            best_score = current_score\n",
    "            best_depth = i\n",
    "        # store to plot anyway!\n",
    "        all_scores.append(current_score)\n",
    "\n",
    "    print(regressor)\n",
    "    print(\"Best score: %s\" % best_score)\n",
    "    print(\"Best depth: %s\" % best_depth)\n",
    "\n",
    "    best_model = regressor(max_depth=best_depth, random_state=1)\n",
    "    best_model.fit(X, y)\n",
    "    for (f,i) in zip(X.columns, best_model.feature_importances_):\n",
    "        if i >= 0.01:\n",
    "            print(f, \"-\", i)\n",
    "        \n",
    "    plt.figure()\n",
    "    plt.plot(range(1, 9), all_scores)\n",
    "    plt.xlabel('x=max tree depth')"
   ]
  },
  {
   "cell_type": "code",
   "execution_count": 220,
   "metadata": {
    "collapsed": false
   },
   "outputs": [
    {
     "name": "stdout",
     "output_type": "stream",
     "text": [
      "<class 'sklearn.tree.tree.DecisionTreeRegressor'>\n",
      "Best score: 105492575.685\n",
      "Best depth: 6\n",
      "Year - 0.0392425871189\n",
      "imdbVotes - 0.322944259087\n",
      "genre_action - 0.0130946420214\n",
      "genre_adventure - 0.227284352337\n",
      "genre_fantasy - 0.0152824995238\n",
      "actor: scott glenn - 0.011387398911\n",
      "director: dean deblois - 0.0106980496761\n",
      "director: j.j. abrams - 0.154496186582\n",
      "director: m. night - 0.0152269050678\n",
      "director: robert zemeckis - 0.020286747784\n",
      "director: steven spielberg - 0.0318696111555\n",
      "language_arabic - 0.0447140018717\n",
      "language_mandarin - 0.0672345553526\n",
      "country_usa - 0.01468698474\n"
     ]
    },
    {
     "data": {
      "image/png": "[encoded data removed]",
      "text/plain": [
       "<matplotlib.figure.Figure at 0x13c01c110>"
      ]
     },
     "metadata": {},
     "output_type": "display_data"
    }
   ],
   "source": [
    "explore_regressor(DecisionTreeRegressor)"
   ]
  },
  {
   "cell_type": "code",
   "execution_count": 221,
   "metadata": {
    "collapsed": false
   },
   "outputs": [
    {
     "data": {
      "text/plain": [
       "DecisionTreeRegressor(criterion='mse', max_depth=6, max_features=None,\n",
       "           max_leaf_nodes=None, min_impurity_split=1e-07,\n",
       "           min_samples_leaf=1, min_samples_split=2,\n",
       "           min_weight_fraction_leaf=0.0, presort=False, random_state=1,\n",
       "           splitter='best')"
      ]
     },
     "execution_count": 221,
     "metadata": {},
     "output_type": "execute_result"
    }
   ],
   "source": [
    "# now actually fit the model with the best depth\n",
    "treereg = DecisionTreeRegressor(max_depth=6, random_state=1)\n",
    "treereg.fit(X, y)"
   ]
  },
  {
   "cell_type": "code",
   "execution_count": 222,
   "metadata": {
    "collapsed": false
   },
   "outputs": [],
   "source": [
    "from IPython.display import Image\n",
    "from sklearn.tree import export_graphviz\n",
    "from sklearn.externals.six import StringIO\n",
    "import pydotplus\n",
    "\n",
    "#dot_data = StringIO()  \n",
    "#export_graphviz(treereg, out_file=dot_data,  \n",
    "#                feature_names=X.columns,  \n",
    "#                filled=True, rounded=True,  \n",
    "#                special_characters=True)  \n",
    "#graph = pydotplus.graph_from_dot_data(dot_data.getvalue())  \n",
    "#Image(graph.create_png())  "
   ]
  },
  {
   "cell_type": "code",
   "execution_count": 223,
   "metadata": {
    "collapsed": true
   },
   "outputs": [],
   "source": [
    "from os import system\n",
    "def build_tree_image(model, filename='tree.png'):\n",
    "    dotfile = open(\"tree.dot\", 'w')\n",
    "    export_graphviz(treereg, out_file=dotfile, feature_names=X.columns,\n",
    "                    filled=True, rounded=True, special_characters=True)\n",
    "    dotfile.close()\n",
    "    system(\"dot -Tpng tree.dot -o {0}\".format(filename)) "
   ]
  },
  {
   "cell_type": "code",
   "execution_count": 224,
   "metadata": {
    "collapsed": true
   },
   "outputs": [],
   "source": [
    "build_tree_image(treereg,'tree_bc.png')"
   ]
  },
  {
   "cell_type": "markdown",
   "metadata": {},
   "source": [
    "#### Resulting tree included tree here\n",
    "\n",
    "(I'm sorry that it's unreadable, but the best depth is 6 and there are so many features...  The png file is included in this folder and can bee zoomed in/out.)\n",
    "\n",
    "<img src='tree_bc.png' width= 100%>"
   ]
  },
  {
   "cell_type": "code",
   "execution_count": 225,
   "metadata": {
    "collapsed": false,
    "scrolled": true
   },
   "outputs": [
    {
     "name": "stdout",
     "output_type": "stream",
     "text": [
      "<class 'sklearn.ensemble.forest.RandomForestRegressor'>\n",
      "Best score: 100000888.739\n",
      "Best depth: 6\n",
      "Runtime - 0.0145653024157\n",
      "Year - 0.04314261383\n",
      "imdbVotes - 0.272152254224\n",
      "genre_adventure - 0.206682429044\n",
      "genre_animation - 0.0217140548644\n",
      "genre_fantasy - 0.0111022758759\n",
      "actor: adam driver - 0.100050692829\n",
      "actor: christian bale - 0.0357910057887\n",
      "actor: ginnifer goodwin - 0.010483958114\n",
      "actor: heath ledger - 0.0125517934057\n",
      "actor: joseph gordon - 0.0354097306893\n",
      "actor: tom hanks - 0.0112798073866\n",
      "director: j.j. abrams - 0.0550958158396\n",
      "director: steven spielberg - 0.0173243441704\n",
      "language_mandarin - 0.0115575167865\n",
      "country_usa - 0.0175235078021\n"
     ]
    },
    {
     "data": {
      "image/png": "[encoded data removed]",
      "text/plain": [
       "<matplotlib.figure.Figure at 0x131ea89d0>"
      ]
     },
     "metadata": {},
     "output_type": "display_data"
    }
   ],
   "source": [
    "explore_regressor(RandomForestRegressor)"
   ]
  },
  {
   "cell_type": "code",
   "execution_count": 226,
   "metadata": {
    "collapsed": false
   },
   "outputs": [
    {
     "name": "stdout",
     "output_type": "stream",
     "text": [
      "<class 'sklearn.ensemble.forest.ExtraTreesRegressor'>\n",
      "Best score: 103925088.036\n",
      "Best depth: 8\n",
      "Year - 0.0111675322013\n",
      "imdbVotes - 0.0233407325252\n",
      "genre_adventure - 0.195852174364\n",
      "genre_animation - 0.0340452915704\n",
      "genre_biography - 0.0321534281905\n",
      "genre_family - 0.0208470108374\n",
      "genre_fantasy - 0.0185355519962\n",
      "genre_sci - 0.0119275032254\n",
      "actor: adam driver - 0.104425892935\n",
      "actor: christian bale - 0.0882112232263\n",
      "actor: matt damon - 0.0108494814205\n",
      "actor: piper perabo - 0.0150828729378\n",
      "actor: tom hanks - 0.0346720961662\n",
      "director: j.j. abrams - 0.156894419145\n",
      "director: steven spielberg - 0.0107622050356\n",
      "country_usa - 0.123115881478\n"
     ]
    },
    {
     "data": {
      "image/png": "[encoded data removed]",
      "text/plain": [
       "<matplotlib.figure.Figure at 0x1396e2850>"
      ]
     },
     "metadata": {},
     "output_type": "display_data"
    }
   ],
   "source": [
    "explore_regressor(ExtraTreesRegressor)"
   ]
  },
  {
   "cell_type": "markdown",
   "metadata": {},
   "source": [
    "## Present: Describe findings in blog post: summary, model, recommendations\n",
    "\n",
    "Create a blog post presenting the results of your findings as a report to Netflix, including: a problem statement,\n",
    "summary statistics of the various factors (e.g. year, number of ratings, etc.), your model,\n",
    "at least 2 graphics,\n",
    "and your recommendations for next steps!\n"
   ]
  },
  {
   "cell_type": "markdown",
   "metadata": {
    "collapsed": true
   },
   "source": [
    "## Summary\n",
    "\n",
    "Of the 250 most popular movies, I was able to find gross values for 143.  This is a rather small set of samples, so I tried to improve the dataset by augmenting the number of features.  I created boolean variables for actors, directors, languages, countries, and genres, and I hoped that I would get good results by using different regressors with all these features.  The problem is that the trees that give best results tend to be deep and they become harder to understand.\n",
    "\n",
    "From the results that I obtained, I can conclude that the number of votes that a movie has is a good predictor of how much it will gross.  Also, directors J.J. Abrams and Steven Spielberg seem as good bets for blockbusters.\n",
    "The most popular genres are adventure, animation, and fantasy.\n",
    "\n",
    "A possible way to improve predictive results would be to consider the number of oscars wins/nominations of each movie.  This could have been retrieved from the present data, if I had the time to do that.\n"
   ]
  },
  {
   "cell_type": "markdown",
   "metadata": {
    "collapsed": true
   },
   "source": [
    "## Blog post here:\n",
    "\n",
    "https://acardocacho.github.io/project06/"
   ]
  },
  {
   "cell_type": "code",
   "execution_count": null,
   "metadata": {
    "collapsed": true
   },
   "outputs": [],
   "source": []
  }
 ],
 "metadata": {
  "anaconda-cloud": {},
  "kernelspec": {
   "display_name": "Python [conda root]",
   "language": "python",
   "name": "conda-root-py"
  },
  "language_info": {
   "codemirror_mode": {
    "name": "ipython",
    "version": 2
   },
   "file_extension": ".py",
   "mimetype": "text/x-python",
   "name": "python",
   "nbconvert_exporter": "python",
   "pygments_lexer": "ipython2",
   "version": "2.7.12"
  }
 },
 "nbformat": 4,
 "nbformat_minor": 1
}
