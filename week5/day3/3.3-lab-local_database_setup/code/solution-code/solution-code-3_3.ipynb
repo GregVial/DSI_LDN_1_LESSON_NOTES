{
 "cells": [
  {
   "cell_type": "markdown",
   "metadata": {},
   "source": [
    "# Local Postgresql Database Lab\n",
    "\n",
    "In this lab we will practice adding and removing data from a local Postgresql database. We will:\n",
    "\n",
    "- Walk through instructions on how to set up and configure a local postgresql server\n",
    "- Create a database and a table using SQL and CRUD data in/from that table.\n",
    "- Learn how to copy data from a CSV file into this local database\n",
    "- Practice our SQL with a practice assignment."
   ]
  },
  {
   "cell_type": "markdown",
   "metadata": {},
   "source": [
    "## 1. Install PostgreSQL Locally\n",
    "\n",
    "You should have already taken care of this in the Installfest, but just in case, [here](http://www.postgresql.org/download/) are the instructions for the most common platforms."
   ]
  },
  {
   "cell_type": "markdown",
   "metadata": {},
   "source": [
    "## 2. Launch and connect to a local PostgreSQL server\n",
    "\n",
    "Now that you've installed PostgreSQL locally, practice connecting with the following methods:\n",
    "\n",
    "- [Postico](https://eggerapps.at/postico/docs/v1.0.6/)\n",
    "- Command-line (psql)\n",
    "- Sqlalchemy + Pandas\n",
    "- Ipython-notebook using the ipython-sql extension\n",
    "\n",
    "**Check:** List the existing databases, there should be none, right?\n",
    "> not true, there are some default databases from postgres\n",
    "\n",
    "**Check:** If there are databases, check the tables' contents."
   ]
  },
  {
   "cell_type": "code",
   "execution_count": 1,
   "metadata": {
    "collapsed": false
   },
   "outputs": [
    {
     "data": {
      "text/html": [
       "<div>\n",
       "<table border=\"1\" class=\"dataframe\">\n",
       "  <thead>\n",
       "    <tr style=\"text-align: right;\">\n",
       "      <th></th>\n",
       "      <th>table_catalog</th>\n",
       "      <th>table_schema</th>\n",
       "      <th>table_name</th>\n",
       "      <th>table_type</th>\n",
       "      <th>self_referencing_column_name</th>\n",
       "      <th>reference_generation</th>\n",
       "      <th>user_defined_type_catalog</th>\n",
       "      <th>user_defined_type_schema</th>\n",
       "      <th>user_defined_type_name</th>\n",
       "      <th>is_insertable_into</th>\n",
       "      <th>is_typed</th>\n",
       "      <th>commit_action</th>\n",
       "    </tr>\n",
       "  </thead>\n",
       "  <tbody>\n",
       "    <tr>\n",
       "      <th>0</th>\n",
       "      <td>juan</td>\n",
       "      <td>pg_catalog</td>\n",
       "      <td>pg_statistic</td>\n",
       "      <td>BASE TABLE</td>\n",
       "      <td>None</td>\n",
       "      <td>None</td>\n",
       "      <td>None</td>\n",
       "      <td>None</td>\n",
       "      <td>None</td>\n",
       "      <td>YES</td>\n",
       "      <td>NO</td>\n",
       "      <td>None</td>\n",
       "    </tr>\n",
       "    <tr>\n",
       "      <th>1</th>\n",
       "      <td>juan</td>\n",
       "      <td>pg_catalog</td>\n",
       "      <td>pg_type</td>\n",
       "      <td>BASE TABLE</td>\n",
       "      <td>None</td>\n",
       "      <td>None</td>\n",
       "      <td>None</td>\n",
       "      <td>None</td>\n",
       "      <td>None</td>\n",
       "      <td>YES</td>\n",
       "      <td>NO</td>\n",
       "      <td>None</td>\n",
       "    </tr>\n",
       "    <tr>\n",
       "      <th>2</th>\n",
       "      <td>juan</td>\n",
       "      <td>pg_catalog</td>\n",
       "      <td>pg_authid</td>\n",
       "      <td>BASE TABLE</td>\n",
       "      <td>None</td>\n",
       "      <td>None</td>\n",
       "      <td>None</td>\n",
       "      <td>None</td>\n",
       "      <td>None</td>\n",
       "      <td>YES</td>\n",
       "      <td>NO</td>\n",
       "      <td>None</td>\n",
       "    </tr>\n",
       "  </tbody>\n",
       "</table>\n",
       "</div>"
      ],
      "text/plain": [
       "  table_catalog table_schema    table_name  table_type  \\\n",
       "0          juan   pg_catalog  pg_statistic  BASE TABLE   \n",
       "1          juan   pg_catalog       pg_type  BASE TABLE   \n",
       "2          juan   pg_catalog     pg_authid  BASE TABLE   \n",
       "\n",
       "  self_referencing_column_name reference_generation user_defined_type_catalog  \\\n",
       "0                         None                 None                      None   \n",
       "1                         None                 None                      None   \n",
       "2                         None                 None                      None   \n",
       "\n",
       "  user_defined_type_schema user_defined_type_name is_insertable_into is_typed  \\\n",
       "0                     None                   None                YES       NO   \n",
       "1                     None                   None                YES       NO   \n",
       "2                     None                   None                YES       NO   \n",
       "\n",
       "  commit_action  \n",
       "0          None  \n",
       "1          None  \n",
       "2          None  "
      ]
     },
     "execution_count": 1,
     "metadata": {},
     "output_type": "execute_result"
    }
   ],
   "source": [
    "#- from sqlalchemy\n",
    "from sqlalchemy import create_engine\n",
    "import pandas as pd\n",
    "engine = create_engine('postgresql://localhost:5432')\n",
    "pd.read_sql(\"SELECT * FROM information_schema.tables LIMIT 3;\", engine)"
   ]
  },
  {
   "cell_type": "code",
   "execution_count": 2,
   "metadata": {
    "collapsed": false
   },
   "outputs": [],
   "source": [
    "# - the ipython-notebook using the ipython-sql extension\n",
    "%load_ext sql"
   ]
  },
  {
   "cell_type": "code",
   "execution_count": 3,
   "metadata": {
    "collapsed": false
   },
   "outputs": [
    {
     "name": "stdout",
     "output_type": "stream",
     "text": [
      "3 rows affected.\n"
     ]
    },
    {
     "data": {
      "text/html": [
       "<table>\n",
       "    <tr>\n",
       "        <th>table_catalog</th>\n",
       "        <th>table_schema</th>\n",
       "        <th>table_name</th>\n",
       "        <th>table_type</th>\n",
       "        <th>self_referencing_column_name</th>\n",
       "        <th>reference_generation</th>\n",
       "        <th>user_defined_type_catalog</th>\n",
       "        <th>user_defined_type_schema</th>\n",
       "        <th>user_defined_type_name</th>\n",
       "        <th>is_insertable_into</th>\n",
       "        <th>is_typed</th>\n",
       "        <th>commit_action</th>\n",
       "    </tr>\n",
       "    <tr>\n",
       "        <td>juan</td>\n",
       "        <td>pg_catalog</td>\n",
       "        <td>pg_statistic</td>\n",
       "        <td>BASE TABLE</td>\n",
       "        <td>None</td>\n",
       "        <td>None</td>\n",
       "        <td>None</td>\n",
       "        <td>None</td>\n",
       "        <td>None</td>\n",
       "        <td>YES</td>\n",
       "        <td>NO</td>\n",
       "        <td>None</td>\n",
       "    </tr>\n",
       "    <tr>\n",
       "        <td>juan</td>\n",
       "        <td>pg_catalog</td>\n",
       "        <td>pg_type</td>\n",
       "        <td>BASE TABLE</td>\n",
       "        <td>None</td>\n",
       "        <td>None</td>\n",
       "        <td>None</td>\n",
       "        <td>None</td>\n",
       "        <td>None</td>\n",
       "        <td>YES</td>\n",
       "        <td>NO</td>\n",
       "        <td>None</td>\n",
       "    </tr>\n",
       "    <tr>\n",
       "        <td>juan</td>\n",
       "        <td>pg_catalog</td>\n",
       "        <td>pg_authid</td>\n",
       "        <td>BASE TABLE</td>\n",
       "        <td>None</td>\n",
       "        <td>None</td>\n",
       "        <td>None</td>\n",
       "        <td>None</td>\n",
       "        <td>None</td>\n",
       "        <td>YES</td>\n",
       "        <td>NO</td>\n",
       "        <td>None</td>\n",
       "    </tr>\n",
       "</table>"
      ],
      "text/plain": [
       "[(u'juan', u'pg_catalog', u'pg_statistic', u'BASE TABLE', None, None, None, None, None, u'YES', u'NO', None),\n",
       " (u'juan', u'pg_catalog', u'pg_type', u'BASE TABLE', None, None, None, None, None, u'YES', u'NO', None),\n",
       " (u'juan', u'pg_catalog', u'pg_authid', u'BASE TABLE', None, None, None, None, None, u'YES', u'NO', None)]"
      ]
     },
     "execution_count": 3,
     "metadata": {},
     "output_type": "execute_result"
    }
   ],
   "source": [
    "%%sql postgresql://localhost:5432\n",
    "\n",
    "SELECT * FROM information_schema.tables LIMIT 3;"
   ]
  },
  {
   "cell_type": "markdown",
   "metadata": {},
   "source": [
    "## 3. Create DB\n",
    "Once you are connected to your local Postgresql server, create a new database. Call it `lab33`.\n",
    "\n",
    "Practice creating and deleting the database with the following methods:\n",
    "\n",
    "- Postico\n",
    "- Command-line:\n",
    ">     create database lab33\n",
    ">     drop database lab33\n",
    "\n",
    "- Sqlalchemy\n",
    "- Ipython-notebook using the ipython-sql extension\n",
    "\n",
    "**Check:** If you create a DB in Postico, do you see it from the command-line?\n",
    "> Yes\n",
    "\n",
    "**Check:** What does this tell us about multiple connections to the same db?\n",
    "> Multiple users/connections are possible and the data is consistent. Postgres is relational -> ACID."
   ]
  },
  {
   "cell_type": "code",
   "execution_count": 9,
   "metadata": {
    "collapsed": false
   },
   "outputs": [],
   "source": [
    "# sqlalchemy\n",
    "conn = engine.connect()\n",
    "conn.execute(\"commit\")\n",
    "conn.execute(\"create database lab33\")\n",
    "conn.close()"
   ]
  },
  {
   "cell_type": "code",
   "execution_count": 8,
   "metadata": {
    "collapsed": false
   },
   "outputs": [
    {
     "name": "stdout",
     "output_type": "stream",
     "text": [
      "(psycopg2.ProgrammingError) syntax error at or near \"#\"\n",
      "LINE 2: # drop database lab33\n",
      "        ^\n",
      " [SQL: 'create database lab33\\n# drop database lab33']\n"
     ]
    }
   ],
   "source": [
    "%%sql\n",
    "create database lab33\n",
    "# drop database lab33"
   ]
  },
  {
   "cell_type": "markdown",
   "metadata": {},
   "source": [
    "## 4. CRUD (Create, Read, Update, and Delete)\n",
    "\n",
    "In lesson 1.1 you learned how to add and remove data from sqlite. Let's review that on our local PostgreSQL installation."
   ]
  },
  {
   "cell_type": "markdown",
   "metadata": {},
   "source": [
    "### 4.a: Creating Tables and Adding Columns\n",
    "\n",
    "1. Create an table called `table1` with a single column `field1` containing an INTEGER PRIMARY KEY. Practice doing this with any of the methods above.\n",
    "- Add a few more columns to `table1`:\n",
    "    - field2 VARCHAR(16)\n",
    "    - field3 REAL\n",
    "    - field4 TEXT\n",
    "check [the doc](http://www.postgresql.org/docs/9.3/static/datatype.html) for more info on data types supported by postgresql.\n",
    "- Check tables and schemas using command line or postico"
   ]
  },
  {
   "cell_type": "code",
   "execution_count": 10,
   "metadata": {
    "collapsed": false
   },
   "outputs": [
    {
     "name": "stdout",
     "output_type": "stream",
     "text": [
      "Done.\n"
     ]
    },
    {
     "data": {
      "text/plain": [
       "[]"
      ]
     },
     "execution_count": 10,
     "metadata": {},
     "output_type": "execute_result"
    }
   ],
   "source": [
    "%%sql postgresql://localhost:5432/lab33\n",
    "\n",
    "CREATE TABLE table1 (field1 INTEGER PRIMARY KEY);"
   ]
  },
  {
   "cell_type": "code",
   "execution_count": 11,
   "metadata": {
    "collapsed": false
   },
   "outputs": [
    {
     "name": "stdout",
     "output_type": "stream",
     "text": [
      "Done.\n",
      "Done.\n",
      "Done.\n"
     ]
    },
    {
     "data": {
      "text/plain": [
       "[]"
      ]
     },
     "execution_count": 11,
     "metadata": {},
     "output_type": "execute_result"
    }
   ],
   "source": [
    "%%sql\n",
    "ALTER TABLE table1 ADD COLUMN field2 VARCHAR(16);\n",
    "ALTER TABLE table1 ADD COLUMN field3 REAL;\n",
    "ALTER TABLE table1 ADD COLUMN field4 TEXT;"
   ]
  },
  {
   "cell_type": "markdown",
   "metadata": {},
   "source": [
    "### 4.b: Add Data\n",
    "\n",
    "Add some data to `table1`:\n",
    "\n",
    "|field1|field2|field3|field4|\n",
    "|----|\n",
    "|1|'Henry James'|42|'75 Mission Street, San Francisco, CA'|\n",
    "|2|'Carol James'|40|'75 Mission Street, San Francisco, CA'|\n",
    "|3|'Jesse James'|12|'75 Mission Street, San Francisco, CA'|"
   ]
  },
  {
   "cell_type": "code",
   "execution_count": 12,
   "metadata": {
    "collapsed": false
   },
   "outputs": [
    {
     "name": "stdout",
     "output_type": "stream",
     "text": [
      "1 rows affected.\n",
      "1 rows affected.\n",
      "1 rows affected.\n"
     ]
    },
    {
     "data": {
      "text/plain": [
       "[]"
      ]
     },
     "execution_count": 12,
     "metadata": {},
     "output_type": "execute_result"
    }
   ],
   "source": [
    "%%sql\n",
    "INSERT INTO table1 VALUES (1, 'Henry James', 42, '75 Mission Street, San Francisco, CA');\n",
    "INSERT INTO table1 VALUES (2, 'Carol James', 40, '75 Mission Street, San Francisco, CA');\n",
    "INSERT INTO table1 VALUES (3, 'Jesse James', 12, '75 Mission Street, San Francisco, CA');"
   ]
  },
  {
   "cell_type": "markdown",
   "metadata": {},
   "source": [
    "### 4.c: Read Data\n",
    "Read the content of the table,"
   ]
  },
  {
   "cell_type": "code",
   "execution_count": 13,
   "metadata": {
    "collapsed": false
   },
   "outputs": [
    {
     "name": "stdout",
     "output_type": "stream",
     "text": [
      "3 rows affected.\n"
     ]
    },
    {
     "data": {
      "text/html": [
       "<table>\n",
       "    <tr>\n",
       "        <th>field1</th>\n",
       "        <th>field2</th>\n",
       "        <th>field3</th>\n",
       "        <th>field4</th>\n",
       "    </tr>\n",
       "    <tr>\n",
       "        <td>1</td>\n",
       "        <td>Henry James</td>\n",
       "        <td>42.0</td>\n",
       "        <td>75 Mission Street, San Francisco, CA</td>\n",
       "    </tr>\n",
       "    <tr>\n",
       "        <td>2</td>\n",
       "        <td>Carol James</td>\n",
       "        <td>40.0</td>\n",
       "        <td>75 Mission Street, San Francisco, CA</td>\n",
       "    </tr>\n",
       "    <tr>\n",
       "        <td>3</td>\n",
       "        <td>Jesse James</td>\n",
       "        <td>12.0</td>\n",
       "        <td>75 Mission Street, San Francisco, CA</td>\n",
       "    </tr>\n",
       "</table>"
      ],
      "text/plain": [
       "[(1, u'Henry James', 42.0, u'75 Mission Street, San Francisco, CA'),\n",
       " (2, u'Carol James', 40.0, u'75 Mission Street, San Francisco, CA'),\n",
       " (3, u'Jesse James', 12.0, u'75 Mission Street, San Francisco, CA')]"
      ]
     },
     "execution_count": 13,
     "metadata": {},
     "output_type": "execute_result"
    }
   ],
   "source": [
    "%%sql\n",
    "select * from table1;"
   ]
  },
  {
   "cell_type": "markdown",
   "metadata": {},
   "source": [
    "### 4.d: Update Records\n",
    "Suppose we need to update an existing record with new data - e.g. maybe `Jesse James` is only 9. Use the update command to do this."
   ]
  },
  {
   "cell_type": "code",
   "execution_count": 14,
   "metadata": {
    "collapsed": false
   },
   "outputs": [
    {
     "name": "stdout",
     "output_type": "stream",
     "text": [
      "1 rows affected.\n",
      "3 rows affected.\n"
     ]
    },
    {
     "data": {
      "text/html": [
       "<table>\n",
       "    <tr>\n",
       "        <th>field1</th>\n",
       "        <th>field2</th>\n",
       "        <th>field3</th>\n",
       "        <th>field4</th>\n",
       "    </tr>\n",
       "    <tr>\n",
       "        <td>1</td>\n",
       "        <td>Henry James</td>\n",
       "        <td>42.0</td>\n",
       "        <td>75 Mission Street, San Francisco, CA</td>\n",
       "    </tr>\n",
       "    <tr>\n",
       "        <td>2</td>\n",
       "        <td>Carol James</td>\n",
       "        <td>40.0</td>\n",
       "        <td>75 Mission Street, San Francisco, CA</td>\n",
       "    </tr>\n",
       "    <tr>\n",
       "        <td>3</td>\n",
       "        <td>Jesse James</td>\n",
       "        <td>9.0</td>\n",
       "        <td>75 Mission Street, San Francisco, CA</td>\n",
       "    </tr>\n",
       "</table>"
      ],
      "text/plain": [
       "[(1, u'Henry James', 42.0, u'75 Mission Street, San Francisco, CA'),\n",
       " (2, u'Carol James', 40.0, u'75 Mission Street, San Francisco, CA'),\n",
       " (3, u'Jesse James', 9.0, u'75 Mission Street, San Francisco, CA')]"
      ]
     },
     "execution_count": 14,
     "metadata": {},
     "output_type": "execute_result"
    }
   ],
   "source": [
    "%%sql\n",
    "UPDATE table1 SET field3=9 WHERE field1=3;\n",
    "select * from table1;"
   ]
  },
  {
   "cell_type": "markdown",
   "metadata": {},
   "source": [
    "### 4.e: Remove Records\n",
    "To remove records use the DELETE command. Delete the entry for anyone matching `Jesse`."
   ]
  },
  {
   "cell_type": "code",
   "execution_count": 15,
   "metadata": {
    "collapsed": false
   },
   "outputs": [
    {
     "name": "stdout",
     "output_type": "stream",
     "text": [
      "1 rows affected.\n",
      "2 rows affected.\n"
     ]
    },
    {
     "data": {
      "text/html": [
       "<table>\n",
       "    <tr>\n",
       "        <th>field1</th>\n",
       "        <th>field2</th>\n",
       "        <th>field3</th>\n",
       "        <th>field4</th>\n",
       "    </tr>\n",
       "    <tr>\n",
       "        <td>1</td>\n",
       "        <td>Henry James</td>\n",
       "        <td>42.0</td>\n",
       "        <td>75 Mission Street, San Francisco, CA</td>\n",
       "    </tr>\n",
       "    <tr>\n",
       "        <td>2</td>\n",
       "        <td>Carol James</td>\n",
       "        <td>40.0</td>\n",
       "        <td>75 Mission Street, San Francisco, CA</td>\n",
       "    </tr>\n",
       "</table>"
      ],
      "text/plain": [
       "[(1, u'Henry James', 42.0, u'75 Mission Street, San Francisco, CA'),\n",
       " (2, u'Carol James', 40.0, u'75 Mission Street, San Francisco, CA')]"
      ]
     },
     "execution_count": 15,
     "metadata": {},
     "output_type": "execute_result"
    }
   ],
   "source": [
    "%%sql\n",
    "DELETE FROM table1 WHERE field2 like '%Jesse%';\n",
    "select * from table1;"
   ]
  },
  {
   "cell_type": "markdown",
   "metadata": {},
   "source": [
    "## 5. Data from CSV\n",
    "\n",
    "Copy CSV data from a local file into a local PostgreSQL database. We will use a [dataset](../../assets/datasets/Eviction_Notices.csv) pulled from the SF open data website. It contains a set of eviction notices issued in San Francisco.\n",
    "\n",
    "Open the data in a text editor and have a look at it."
   ]
  },
  {
   "cell_type": "markdown",
   "metadata": {},
   "source": [
    "### 5.a: Simple Import\n",
    "\n",
    "Read [this post](http://stackoverflow.com/questions/2987433/how-to-import-csv-file-data-into-a-postgresql-table) to learn how you can import data from CSV to PostgreSQL.\n",
    "\n",
    "Notice that you have to decide the type for each column. Let's keep it simple and import everything as a string of text for now.\n",
    "\n",
    "- Create a table called `evictions_simple` and import the data as varchar.\n",
    "- Check that everything worked fine by loading a few lines from the table.\n",
    "- Try some simple queries:\n",
    "    - count how many evictions are due to non_payments\n",
    "    - list the 3 most recent evictions\n",
    "\n",
    "\n",
    "**Hint:** A good practice when you create a new table is to always drop it first, in case it already exists.\n",
    "\n",
    "**Check:** Did you avoid importing the header as a record?"
   ]
  },
  {
   "cell_type": "code",
   "execution_count": 29,
   "metadata": {
    "collapsed": false
   },
   "outputs": [
    {
     "name": "stdout",
     "output_type": "stream",
     "text": [
      "Done.\n",
      "Done.\n",
      "34922 rows affected.\n"
     ]
    },
    {
     "data": {
      "text/plain": [
       "[]"
      ]
     },
     "execution_count": 29,
     "metadata": {},
     "output_type": "execute_result"
    }
   ],
   "source": [
    "%%sql\n",
    "DROP TABLE IF EXISTS evictions_simple;\n",
    "CREATE TABLE evictions_simple\n",
    "(eviction_id varchar,\n",
    " address varchar,\n",
    " city varchar,\n",
    " state varchar,\n",
    " zip varchar,\n",
    " file_date varchar,\n",
    " non_payment varchar,\n",
    " breach varchar,\n",
    " nuisance varchar,\n",
    " illegal_use varchar,\n",
    " failure_to_sign_renewal varchar,\n",
    " access_denial varchar,\n",
    " unapproved_subtenant varchar,\n",
    " owner_move_in varchar,\n",
    " demolition varchar,\n",
    " capital_improvement varchar,\n",
    " substantial_rehab varchar,\n",
    " ellis_act_withdrawal varchar,\n",
    " condo_conversion varchar,\n",
    " roommate_same_unit varchar,\n",
    " other_cause varchar,\n",
    " late_payments varchar,\n",
    " lead_remediation varchar,\n",
    " development varchar,\n",
    " good_samaritan_ends varchar,\n",
    " constraints varchar,\n",
    " constraints_date varchar,\n",
    " supervisor_district varchar,\n",
    " neighborhood varchar,\n",
    " client_location varchar);\n",
    "\n",
    "\n",
    "COPY evictions_simple FROM '/Users/juan/project/general_assembly/DSI-course-materials/curriculum/04-lessons/week-05/3.3-lab/assets/datasets/Eviction_Notices.csv' DELIMITER ',' CSV HEADER;"
   ]
  },
  {
   "cell_type": "code",
   "execution_count": 30,
   "metadata": {
    "collapsed": false
   },
   "outputs": [
    {
     "data": {
      "text/plain": [
       "'/Users/juan/project/general_assembly/DSI-course-materials/curriculum/04-lessons/week-05/3.3-lab/code/solution-code'"
      ]
     },
     "execution_count": 30,
     "metadata": {},
     "output_type": "execute_result"
    }
   ],
   "source": [
    "import os\n",
    "os.getcwd()"
   ]
  },
  {
   "cell_type": "code",
   "execution_count": 31,
   "metadata": {
    "collapsed": false
   },
   "outputs": [
    {
     "name": "stdout",
     "output_type": "stream",
     "text": [
      "3 rows affected.\n"
     ]
    },
    {
     "data": {
      "text/html": [
       "<table>\n",
       "    <tr>\n",
       "        <th>eviction_id</th>\n",
       "        <th>address</th>\n",
       "        <th>city</th>\n",
       "        <th>state</th>\n",
       "        <th>zip</th>\n",
       "        <th>file_date</th>\n",
       "        <th>non_payment</th>\n",
       "        <th>breach</th>\n",
       "        <th>nuisance</th>\n",
       "        <th>illegal_use</th>\n",
       "        <th>failure_to_sign_renewal</th>\n",
       "        <th>access_denial</th>\n",
       "        <th>unapproved_subtenant</th>\n",
       "        <th>owner_move_in</th>\n",
       "        <th>demolition</th>\n",
       "        <th>capital_improvement</th>\n",
       "        <th>substantial_rehab</th>\n",
       "        <th>ellis_act_withdrawal</th>\n",
       "        <th>condo_conversion</th>\n",
       "        <th>roommate_same_unit</th>\n",
       "        <th>other_cause</th>\n",
       "        <th>late_payments</th>\n",
       "        <th>lead_remediation</th>\n",
       "        <th>development</th>\n",
       "        <th>good_samaritan_ends</th>\n",
       "        <th>constraints</th>\n",
       "        <th>constraints_date</th>\n",
       "        <th>supervisor_district</th>\n",
       "        <th>neighborhood</th>\n",
       "        <th>client_location</th>\n",
       "    </tr>\n",
       "    <tr>\n",
       "        <td>M160201</td>\n",
       "        <td>700 Block of Monterey  Boulevard</td>\n",
       "        <td>San Francisco</td>\n",
       "        <td>CA</td>\n",
       "        <td>94127</td>\n",
       "        <td>01/29/2016</td>\n",
       "        <td>false</td>\n",
       "        <td>false</td>\n",
       "        <td>false</td>\n",
       "        <td>false</td>\n",
       "        <td>false</td>\n",
       "        <td>false</td>\n",
       "        <td>false</td>\n",
       "        <td>false</td>\n",
       "        <td>false</td>\n",
       "        <td>false</td>\n",
       "        <td>false</td>\n",
       "        <td>false</td>\n",
       "        <td>false</td>\n",
       "        <td>true</td>\n",
       "        <td>false</td>\n",
       "        <td>false</td>\n",
       "        <td>false</td>\n",
       "        <td>false</td>\n",
       "        <td>None</td>\n",
       "        <td>false</td>\n",
       "        <td>None</td>\n",
       "        <td>7</td>\n",
       "        <td>West of Twin Peaks</td>\n",
       "        <td>(37.7316239329611, -122.452278465115)</td>\n",
       "    </tr>\n",
       "    <tr>\n",
       "        <td>M160202</td>\n",
       "        <td>1200 Block of Grant  Avenue</td>\n",
       "        <td>San Francisco</td>\n",
       "        <td>CA</td>\n",
       "        <td>94133</td>\n",
       "        <td>01/29/2016</td>\n",
       "        <td>false</td>\n",
       "        <td>false</td>\n",
       "        <td>true</td>\n",
       "        <td>false</td>\n",
       "        <td>false</td>\n",
       "        <td>false</td>\n",
       "        <td>false</td>\n",
       "        <td>false</td>\n",
       "        <td>false</td>\n",
       "        <td>false</td>\n",
       "        <td>false</td>\n",
       "        <td>false</td>\n",
       "        <td>false</td>\n",
       "        <td>false</td>\n",
       "        <td>false</td>\n",
       "        <td>false</td>\n",
       "        <td>false</td>\n",
       "        <td>false</td>\n",
       "        <td>None</td>\n",
       "        <td>false</td>\n",
       "        <td>None</td>\n",
       "        <td>3</td>\n",
       "        <td>North Beach</td>\n",
       "        <td>(37.7983293340533, -122.40704747764)</td>\n",
       "    </tr>\n",
       "    <tr>\n",
       "        <td>M160225</td>\n",
       "        <td>1300 Block of Palou  Avenue</td>\n",
       "        <td>San Francisco</td>\n",
       "        <td>CA</td>\n",
       "        <td>94124</td>\n",
       "        <td>01/29/2016</td>\n",
       "        <td>false</td>\n",
       "        <td>false</td>\n",
       "        <td>false</td>\n",
       "        <td>false</td>\n",
       "        <td>false</td>\n",
       "        <td>false</td>\n",
       "        <td>false</td>\n",
       "        <td>true</td>\n",
       "        <td>false</td>\n",
       "        <td>false</td>\n",
       "        <td>false</td>\n",
       "        <td>false</td>\n",
       "        <td>false</td>\n",
       "        <td>false</td>\n",
       "        <td>false</td>\n",
       "        <td>false</td>\n",
       "        <td>false</td>\n",
       "        <td>false</td>\n",
       "        <td>None</td>\n",
       "        <td>false</td>\n",
       "        <td>03/27/2021</td>\n",
       "        <td>10</td>\n",
       "        <td>Bayview Hunters Point</td>\n",
       "        <td>(37.7312794563329, -122.386266955922)</td>\n",
       "    </tr>\n",
       "</table>"
      ],
      "text/plain": [
       "[(u'M160201', u'700 Block of Monterey  Boulevard', u'San Francisco', u'CA', u'94127', u'01/29/2016', u'false', u'false', u'false', u'false', u'false', u'false', u'false', u'false', u'false', u'false', u'false', u'false', u'false', u'true', u'false', u'false', u'false', u'false', None, u'false', None, u'7', u'West of Twin Peaks', u'(37.7316239329611, -122.452278465115)'),\n",
       " (u'M160202', u'1200 Block of Grant  Avenue', u'San Francisco', u'CA', u'94133', u'01/29/2016', u'false', u'false', u'true', u'false', u'false', u'false', u'false', u'false', u'false', u'false', u'false', u'false', u'false', u'false', u'false', u'false', u'false', u'false', None, u'false', None, u'3', u'North Beach', u'(37.7983293340533, -122.40704747764)'),\n",
       " (u'M160225', u'1300 Block of Palou  Avenue', u'San Francisco', u'CA', u'94124', u'01/29/2016', u'false', u'false', u'false', u'false', u'false', u'false', u'false', u'true', u'false', u'false', u'false', u'false', u'false', u'false', u'false', u'false', u'false', u'false', None, u'false', u'03/27/2021', u'10', u'Bayview Hunters Point', u'(37.7312794563329, -122.386266955922)')]"
      ]
     },
     "execution_count": 31,
     "metadata": {},
     "output_type": "execute_result"
    }
   ],
   "source": [
    "%%sql\n",
    "select * from evictions_simple limit 3;"
   ]
  },
  {
   "cell_type": "code",
   "execution_count": 32,
   "metadata": {
    "collapsed": false
   },
   "outputs": [
    {
     "name": "stdout",
     "output_type": "stream",
     "text": [
      "1 rows affected.\n"
     ]
    },
    {
     "data": {
      "text/html": [
       "<table>\n",
       "    <tr>\n",
       "        <th>count</th>\n",
       "    </tr>\n",
       "    <tr>\n",
       "        <td>2099</td>\n",
       "    </tr>\n",
       "</table>"
      ],
      "text/plain": [
       "[(2099L,)]"
      ]
     },
     "execution_count": 32,
     "metadata": {},
     "output_type": "execute_result"
    }
   ],
   "source": [
    "%%sql\n",
    "select count(*) from evictions_simple\n",
    "where non_payment = 'true';"
   ]
  },
  {
   "cell_type": "code",
   "execution_count": 33,
   "metadata": {
    "collapsed": false
   },
   "outputs": [
    {
     "name": "stdout",
     "output_type": "stream",
     "text": [
      "3 rows affected.\n"
     ]
    },
    {
     "data": {
      "text/html": [
       "<table>\n",
       "    <tr>\n",
       "        <th>eviction_id</th>\n",
       "        <th>address</th>\n",
       "        <th>city</th>\n",
       "        <th>state</th>\n",
       "        <th>zip</th>\n",
       "        <th>file_date</th>\n",
       "        <th>non_payment</th>\n",
       "        <th>breach</th>\n",
       "        <th>nuisance</th>\n",
       "        <th>illegal_use</th>\n",
       "        <th>failure_to_sign_renewal</th>\n",
       "        <th>access_denial</th>\n",
       "        <th>unapproved_subtenant</th>\n",
       "        <th>owner_move_in</th>\n",
       "        <th>demolition</th>\n",
       "        <th>capital_improvement</th>\n",
       "        <th>substantial_rehab</th>\n",
       "        <th>ellis_act_withdrawal</th>\n",
       "        <th>condo_conversion</th>\n",
       "        <th>roommate_same_unit</th>\n",
       "        <th>other_cause</th>\n",
       "        <th>late_payments</th>\n",
       "        <th>lead_remediation</th>\n",
       "        <th>development</th>\n",
       "        <th>good_samaritan_ends</th>\n",
       "        <th>constraints</th>\n",
       "        <th>constraints_date</th>\n",
       "        <th>supervisor_district</th>\n",
       "        <th>neighborhood</th>\n",
       "        <th>client_location</th>\n",
       "    </tr>\n",
       "    <tr>\n",
       "        <td>M153491</td>\n",
       "        <td>0 Block of Carmelita  Street</td>\n",
       "        <td>San Francisco</td>\n",
       "        <td>CA</td>\n",
       "        <td>94117</td>\n",
       "        <td>12/31/2015</td>\n",
       "        <td>false</td>\n",
       "        <td>false</td>\n",
       "        <td>false</td>\n",
       "        <td>false</td>\n",
       "        <td>false</td>\n",
       "        <td>false</td>\n",
       "        <td>false</td>\n",
       "        <td>true</td>\n",
       "        <td>false</td>\n",
       "        <td>false</td>\n",
       "        <td>false</td>\n",
       "        <td>false</td>\n",
       "        <td>false</td>\n",
       "        <td>false</td>\n",
       "        <td>false</td>\n",
       "        <td>false</td>\n",
       "        <td>false</td>\n",
       "        <td>false</td>\n",
       "        <td>None</td>\n",
       "        <td>false</td>\n",
       "        <td>03/01/2021</td>\n",
       "        <td>8</td>\n",
       "        <td>Haight Ashbury</td>\n",
       "        <td>(37.7702394244298, -122.434252769224)</td>\n",
       "    </tr>\n",
       "    <tr>\n",
       "        <td>M153492</td>\n",
       "        <td>2400 Block of Washington  Street</td>\n",
       "        <td>San Francisco</td>\n",
       "        <td>CA</td>\n",
       "        <td>94115</td>\n",
       "        <td>12/31/2015</td>\n",
       "        <td>false</td>\n",
       "        <td>false</td>\n",
       "        <td>false</td>\n",
       "        <td>false</td>\n",
       "        <td>false</td>\n",
       "        <td>false</td>\n",
       "        <td>false</td>\n",
       "        <td>false</td>\n",
       "        <td>false</td>\n",
       "        <td>false</td>\n",
       "        <td>false</td>\n",
       "        <td>false</td>\n",
       "        <td>false</td>\n",
       "        <td>false</td>\n",
       "        <td>true</td>\n",
       "        <td>false</td>\n",
       "        <td>false</td>\n",
       "        <td>false</td>\n",
       "        <td>None</td>\n",
       "        <td>false</td>\n",
       "        <td>None</td>\n",
       "        <td>2</td>\n",
       "        <td>Pacific Heights</td>\n",
       "        <td>(37.7917498896607, -122.433570936525)</td>\n",
       "    </tr>\n",
       "    <tr>\n",
       "        <td>M142763</td>\n",
       "        <td>6800 Block of Geary  Boulevard</td>\n",
       "        <td>San Francisco</td>\n",
       "        <td>CA</td>\n",
       "        <td>94121</td>\n",
       "        <td>12/31/2014</td>\n",
       "        <td>false</td>\n",
       "        <td>true</td>\n",
       "        <td>false</td>\n",
       "        <td>false</td>\n",
       "        <td>false</td>\n",
       "        <td>false</td>\n",
       "        <td>false</td>\n",
       "        <td>false</td>\n",
       "        <td>false</td>\n",
       "        <td>false</td>\n",
       "        <td>false</td>\n",
       "        <td>false</td>\n",
       "        <td>false</td>\n",
       "        <td>false</td>\n",
       "        <td>false</td>\n",
       "        <td>false</td>\n",
       "        <td>false</td>\n",
       "        <td>false</td>\n",
       "        <td>None</td>\n",
       "        <td>false</td>\n",
       "        <td>None</td>\n",
       "        <td>1</td>\n",
       "        <td>Outer Richmond</td>\n",
       "        <td>(37.7795992276086, -122.492752863473)</td>\n",
       "    </tr>\n",
       "</table>"
      ],
      "text/plain": [
       "[(u'M153491', u'0 Block of Carmelita  Street', u'San Francisco', u'CA', u'94117', u'12/31/2015', u'false', u'false', u'false', u'false', u'false', u'false', u'false', u'true', u'false', u'false', u'false', u'false', u'false', u'false', u'false', u'false', u'false', u'false', None, u'false', u'03/01/2021', u'8', u'Haight Ashbury', u'(37.7702394244298, -122.434252769224)'),\n",
       " (u'M153492', u'2400 Block of Washington  Street', u'San Francisco', u'CA', u'94115', u'12/31/2015', u'false', u'false', u'false', u'false', u'false', u'false', u'false', u'false', u'false', u'false', u'false', u'false', u'false', u'false', u'true', u'false', u'false', u'false', None, u'false', None, u'2', u'Pacific Heights', u'(37.7917498896607, -122.433570936525)'),\n",
       " (u'M142763', u'6800 Block of Geary  Boulevard', u'San Francisco', u'CA', u'94121', u'12/31/2014', u'false', u'true', u'false', u'false', u'false', u'false', u'false', u'false', u'false', u'false', u'false', u'false', u'false', u'false', u'false', u'false', u'false', u'false', None, u'false', None, u'1', u'Outer Richmond', u'(37.7795992276086, -122.492752863473)')]"
      ]
     },
     "execution_count": 33,
     "metadata": {},
     "output_type": "execute_result"
    }
   ],
   "source": [
    "%%sql\n",
    "select * from evictions_simple\n",
    "order by file_date desc\n",
    "limit 3;"
   ]
  },
  {
   "cell_type": "markdown",
   "metadata": {},
   "source": [
    "### 5.b: Data Cleaning and Import\n",
    "\n",
    "If you've executed the last query correctly (most recent evictions), you'll have noticed that the dates are not correctly understood. This is because we were sloppy and imported the data as string for all fields.\n",
    "\n",
    "Let's see what data types we would ideally like to have for each column.\n",
    "\n",
    "[Here are data types](http://www.tutorialspoint.com/postgresql/postgresql_data_types.htm)\n",
    "\n",
    "- Discuss in pairs each column and then let's summarize together. Which data type would you choose for each field?\n",
    "- Repeat the import to a new table called `evictions`. Notice that line 31494 may throw an error. Why is that?\n",
    "> There are two ` characters that do not belong.\n",
    "- Repeat the query for the 3 most recent evictions. Does it work now?"
   ]
  },
  {
   "cell_type": "code",
   "execution_count": 35,
   "metadata": {
    "collapsed": false
   },
   "outputs": [
    {
     "name": "stdout",
     "output_type": "stream",
     "text": [
      "Done.\n"
     ]
    },
    {
     "data": {
      "text/plain": [
       "[]"
      ]
     },
     "execution_count": 35,
     "metadata": {},
     "output_type": "execute_result"
    }
   ],
   "source": [
    "%%sql\n",
    "SET DATESTYLE TO \"ISO,MDY\";"
   ]
  },
  {
   "cell_type": "code",
   "execution_count": 36,
   "metadata": {
    "collapsed": false
   },
   "outputs": [
    {
     "name": "stdout",
     "output_type": "stream",
     "text": [
      "Done.\n",
      "Done.\n"
     ]
    },
    {
     "ename": "DataError",
     "evalue": "(psycopg2.DataError) value too long for type character(2)\nCONTEXT:  COPY evictions, line 31494, column state: \"CA`\"\n [SQL: \"COPY evictions FROM '/Users/juan/project/general_assembly/DSI-course-materials/curriculum/04-lessons/week-05/3.3-lab/assets/datasets/Eviction_Notices.csv' DELIMITER ',' CSV HEADER;\"]",
     "output_type": "error",
     "traceback": [
      "\u001b[0;31m---------------------------------------------------------------------------\u001b[0m",
      "\u001b[0;31mDataError\u001b[0m                                 Traceback (most recent call last)",
      "\u001b[0;32m<ipython-input-36-c12ec0f90a25>\u001b[0m in \u001b[0;36m<module>\u001b[0;34m()\u001b[0m\n\u001b[0;32m----> 1\u001b[0;31m \u001b[0mget_ipython\u001b[0m\u001b[0;34m(\u001b[0m\u001b[0;34m)\u001b[0m\u001b[0;34m.\u001b[0m\u001b[0mrun_cell_magic\u001b[0m\u001b[0;34m(\u001b[0m\u001b[0;34mu'sql'\u001b[0m\u001b[0;34m,\u001b[0m \u001b[0;34mu''\u001b[0m\u001b[0;34m,\u001b[0m \u001b[0;34mu\"DROP TABLE IF EXISTS evictions;\\nCREATE TABLE evictions\\n(eviction_id varchar,\\n address varchar,\\n city varchar,\\n state char(2),\\n zip char(5),\\n file_date date,\\n non_payment boolean,\\n breach boolean,\\n nuisance boolean,\\n illegal_use boolean,\\n failure_to_sign_renewal boolean,\\n access_denial boolean,\\n unapproved_subtenant boolean,\\n owner_move_in boolean,\\n demolition boolean,\\n capital_improvement boolean,\\n substantial_rehab boolean,\\n ellis_act_withdrawal boolean,\\n condo_conversion boolean,\\n roommate_same_unit boolean,\\n other_cause boolean,\\n late_payments boolean,\\n lead_remediation boolean,\\n development boolean,\\n good_samaritan_ends boolean,\\n constraints boolean,\\n constraints_date date,\\n supervisor_district integer,\\n neighborhood varchar,\\n client_location varchar);\\n\\n\\nCOPY evictions FROM '/Users/juan/project/general_assembly/DSI-course-materials/curriculum/04-lessons/week-05/3.3-lab/assets/datasets/Eviction_Notices.csv' DELIMITER ',' CSV HEADER;\"\u001b[0m\u001b[0;34m)\u001b[0m\u001b[0;34m\u001b[0m\u001b[0m\n\u001b[0m",
      "\u001b[0;32m/Users/juan/.envs/dsi-ldn-1/lib/python2.7/site-packages/IPython/core/interactiveshell.pyc\u001b[0m in \u001b[0;36mrun_cell_magic\u001b[0;34m(self, magic_name, line, cell)\u001b[0m\n\u001b[1;32m   2113\u001b[0m             \u001b[0mmagic_arg_s\u001b[0m \u001b[0;34m=\u001b[0m \u001b[0mself\u001b[0m\u001b[0;34m.\u001b[0m\u001b[0mvar_expand\u001b[0m\u001b[0;34m(\u001b[0m\u001b[0mline\u001b[0m\u001b[0;34m,\u001b[0m \u001b[0mstack_depth\u001b[0m\u001b[0;34m)\u001b[0m\u001b[0;34m\u001b[0m\u001b[0m\n\u001b[1;32m   2114\u001b[0m             \u001b[0;32mwith\u001b[0m \u001b[0mself\u001b[0m\u001b[0;34m.\u001b[0m\u001b[0mbuiltin_trap\u001b[0m\u001b[0;34m:\u001b[0m\u001b[0;34m\u001b[0m\u001b[0m\n\u001b[0;32m-> 2115\u001b[0;31m                 \u001b[0mresult\u001b[0m \u001b[0;34m=\u001b[0m \u001b[0mfn\u001b[0m\u001b[0;34m(\u001b[0m\u001b[0mmagic_arg_s\u001b[0m\u001b[0;34m,\u001b[0m \u001b[0mcell\u001b[0m\u001b[0;34m)\u001b[0m\u001b[0;34m\u001b[0m\u001b[0m\n\u001b[0m\u001b[1;32m   2116\u001b[0m             \u001b[0;32mreturn\u001b[0m \u001b[0mresult\u001b[0m\u001b[0;34m\u001b[0m\u001b[0m\n\u001b[1;32m   2117\u001b[0m \u001b[0;34m\u001b[0m\u001b[0m\n",
      "\u001b[0;32m<decorator-gen-123>\u001b[0m in \u001b[0;36mexecute\u001b[0;34m(self, line, cell, local_ns)\u001b[0m\n",
      "\u001b[0;32m/Users/juan/.envs/dsi-ldn-1/lib/python2.7/site-packages/IPython/core/magic.pyc\u001b[0m in \u001b[0;36m<lambda>\u001b[0;34m(f, *a, **k)\u001b[0m\n\u001b[1;32m    186\u001b[0m     \u001b[0;31m# but it's overkill for just that one bit of state.\u001b[0m\u001b[0;34m\u001b[0m\u001b[0;34m\u001b[0m\u001b[0m\n\u001b[1;32m    187\u001b[0m     \u001b[0;32mdef\u001b[0m \u001b[0mmagic_deco\u001b[0m\u001b[0;34m(\u001b[0m\u001b[0marg\u001b[0m\u001b[0;34m)\u001b[0m\u001b[0;34m:\u001b[0m\u001b[0;34m\u001b[0m\u001b[0m\n\u001b[0;32m--> 188\u001b[0;31m         \u001b[0mcall\u001b[0m \u001b[0;34m=\u001b[0m \u001b[0;32mlambda\u001b[0m \u001b[0mf\u001b[0m\u001b[0;34m,\u001b[0m \u001b[0;34m*\u001b[0m\u001b[0ma\u001b[0m\u001b[0;34m,\u001b[0m \u001b[0;34m**\u001b[0m\u001b[0mk\u001b[0m\u001b[0;34m:\u001b[0m \u001b[0mf\u001b[0m\u001b[0;34m(\u001b[0m\u001b[0;34m*\u001b[0m\u001b[0ma\u001b[0m\u001b[0;34m,\u001b[0m \u001b[0;34m**\u001b[0m\u001b[0mk\u001b[0m\u001b[0;34m)\u001b[0m\u001b[0;34m\u001b[0m\u001b[0m\n\u001b[0m\u001b[1;32m    189\u001b[0m \u001b[0;34m\u001b[0m\u001b[0m\n\u001b[1;32m    190\u001b[0m         \u001b[0;32mif\u001b[0m \u001b[0mcallable\u001b[0m\u001b[0;34m(\u001b[0m\u001b[0marg\u001b[0m\u001b[0;34m)\u001b[0m\u001b[0;34m:\u001b[0m\u001b[0;34m\u001b[0m\u001b[0m\n",
      "\u001b[0;32m<decorator-gen-122>\u001b[0m in \u001b[0;36mexecute\u001b[0;34m(self, line, cell, local_ns)\u001b[0m\n",
      "\u001b[0;32m/Users/juan/.envs/dsi-ldn-1/lib/python2.7/site-packages/IPython/core/magic.pyc\u001b[0m in \u001b[0;36m<lambda>\u001b[0;34m(f, *a, **k)\u001b[0m\n\u001b[1;32m    186\u001b[0m     \u001b[0;31m# but it's overkill for just that one bit of state.\u001b[0m\u001b[0;34m\u001b[0m\u001b[0;34m\u001b[0m\u001b[0m\n\u001b[1;32m    187\u001b[0m     \u001b[0;32mdef\u001b[0m \u001b[0mmagic_deco\u001b[0m\u001b[0;34m(\u001b[0m\u001b[0marg\u001b[0m\u001b[0;34m)\u001b[0m\u001b[0;34m:\u001b[0m\u001b[0;34m\u001b[0m\u001b[0m\n\u001b[0;32m--> 188\u001b[0;31m         \u001b[0mcall\u001b[0m \u001b[0;34m=\u001b[0m \u001b[0;32mlambda\u001b[0m \u001b[0mf\u001b[0m\u001b[0;34m,\u001b[0m \u001b[0;34m*\u001b[0m\u001b[0ma\u001b[0m\u001b[0;34m,\u001b[0m \u001b[0;34m**\u001b[0m\u001b[0mk\u001b[0m\u001b[0;34m:\u001b[0m \u001b[0mf\u001b[0m\u001b[0;34m(\u001b[0m\u001b[0;34m*\u001b[0m\u001b[0ma\u001b[0m\u001b[0;34m,\u001b[0m \u001b[0;34m**\u001b[0m\u001b[0mk\u001b[0m\u001b[0;34m)\u001b[0m\u001b[0;34m\u001b[0m\u001b[0m\n\u001b[0m\u001b[1;32m    189\u001b[0m \u001b[0;34m\u001b[0m\u001b[0m\n\u001b[1;32m    190\u001b[0m         \u001b[0;32mif\u001b[0m \u001b[0mcallable\u001b[0m\u001b[0;34m(\u001b[0m\u001b[0marg\u001b[0m\u001b[0;34m)\u001b[0m\u001b[0;34m:\u001b[0m\u001b[0;34m\u001b[0m\u001b[0m\n",
      "\u001b[0;32m/Users/juan/.envs/dsi-ldn-1/lib/python2.7/site-packages/sql/magic.pyc\u001b[0m in \u001b[0;36mexecute\u001b[0;34m(self, line, cell, local_ns)\u001b[0m\n\u001b[1;32m     85\u001b[0m \u001b[0;34m\u001b[0m\u001b[0m\n\u001b[1;32m     86\u001b[0m         \u001b[0;32mtry\u001b[0m\u001b[0;34m:\u001b[0m\u001b[0;34m\u001b[0m\u001b[0m\n\u001b[0;32m---> 87\u001b[0;31m             \u001b[0mresult\u001b[0m \u001b[0;34m=\u001b[0m \u001b[0msql\u001b[0m\u001b[0;34m.\u001b[0m\u001b[0mrun\u001b[0m\u001b[0;34m.\u001b[0m\u001b[0mrun\u001b[0m\u001b[0;34m(\u001b[0m\u001b[0mconn\u001b[0m\u001b[0;34m,\u001b[0m \u001b[0mparsed\u001b[0m\u001b[0;34m[\u001b[0m\u001b[0;34m'sql'\u001b[0m\u001b[0;34m]\u001b[0m\u001b[0;34m,\u001b[0m \u001b[0mself\u001b[0m\u001b[0;34m,\u001b[0m \u001b[0muser_ns\u001b[0m\u001b[0;34m)\u001b[0m\u001b[0;34m\u001b[0m\u001b[0m\n\u001b[0m\u001b[1;32m     88\u001b[0m \u001b[0;34m\u001b[0m\u001b[0m\n\u001b[1;32m     89\u001b[0m             \u001b[0;32mif\u001b[0m \u001b[0mresult\u001b[0m \u001b[0;32mand\u001b[0m \u001b[0;34m~\u001b[0m\u001b[0misinstance\u001b[0m\u001b[0;34m(\u001b[0m\u001b[0mresult\u001b[0m\u001b[0;34m,\u001b[0m \u001b[0mstr\u001b[0m\u001b[0;34m)\u001b[0m \u001b[0;32mand\u001b[0m \u001b[0mself\u001b[0m\u001b[0;34m.\u001b[0m\u001b[0mcolumn_local_vars\u001b[0m\u001b[0;34m:\u001b[0m\u001b[0;34m\u001b[0m\u001b[0m\n",
      "\u001b[0;32m/Users/juan/.envs/dsi-ldn-1/lib/python2.7/site-packages/sql/run.pyc\u001b[0m in \u001b[0;36mrun\u001b[0;34m(conn, sql, config, user_namespace)\u001b[0m\n\u001b[1;32m    274\u001b[0m                 \u001b[0;32mraise\u001b[0m \u001b[0mException\u001b[0m\u001b[0;34m(\u001b[0m\u001b[0;34m\"ipython_sql does not support transactions\"\u001b[0m\u001b[0;34m)\u001b[0m\u001b[0;34m\u001b[0m\u001b[0m\n\u001b[1;32m    275\u001b[0m             \u001b[0mtxt\u001b[0m \u001b[0;34m=\u001b[0m \u001b[0msqlalchemy\u001b[0m\u001b[0;34m.\u001b[0m\u001b[0msql\u001b[0m\u001b[0;34m.\u001b[0m\u001b[0mtext\u001b[0m\u001b[0;34m(\u001b[0m\u001b[0mstatement\u001b[0m\u001b[0;34m)\u001b[0m\u001b[0;34m\u001b[0m\u001b[0m\n\u001b[0;32m--> 276\u001b[0;31m             \u001b[0mresult\u001b[0m \u001b[0;34m=\u001b[0m \u001b[0mconn\u001b[0m\u001b[0;34m.\u001b[0m\u001b[0msession\u001b[0m\u001b[0;34m.\u001b[0m\u001b[0mexecute\u001b[0m\u001b[0;34m(\u001b[0m\u001b[0mtxt\u001b[0m\u001b[0;34m,\u001b[0m \u001b[0muser_namespace\u001b[0m\u001b[0;34m)\u001b[0m\u001b[0;34m\u001b[0m\u001b[0m\n\u001b[0m\u001b[1;32m    277\u001b[0m             \u001b[0;32mtry\u001b[0m\u001b[0;34m:\u001b[0m\u001b[0;34m\u001b[0m\u001b[0m\n\u001b[1;32m    278\u001b[0m                 \u001b[0;31m# mssql has autocommit\u001b[0m\u001b[0;34m\u001b[0m\u001b[0;34m\u001b[0m\u001b[0m\n",
      "\u001b[0;32m/Users/juan/.envs/dsi-ldn-1/lib/python2.7/site-packages/sqlalchemy/engine/base.pyc\u001b[0m in \u001b[0;36mexecute\u001b[0;34m(self, object, *multiparams, **params)\u001b[0m\n\u001b[1;32m    943\u001b[0m             \u001b[0;32mraise\u001b[0m \u001b[0mexc\u001b[0m\u001b[0;34m.\u001b[0m\u001b[0mObjectNotExecutableError\u001b[0m\u001b[0;34m(\u001b[0m\u001b[0mobject\u001b[0m\u001b[0;34m)\u001b[0m\u001b[0;34m\u001b[0m\u001b[0m\n\u001b[1;32m    944\u001b[0m         \u001b[0;32melse\u001b[0m\u001b[0;34m:\u001b[0m\u001b[0;34m\u001b[0m\u001b[0m\n\u001b[0;32m--> 945\u001b[0;31m             \u001b[0;32mreturn\u001b[0m \u001b[0mmeth\u001b[0m\u001b[0;34m(\u001b[0m\u001b[0mself\u001b[0m\u001b[0;34m,\u001b[0m \u001b[0mmultiparams\u001b[0m\u001b[0;34m,\u001b[0m \u001b[0mparams\u001b[0m\u001b[0;34m)\u001b[0m\u001b[0;34m\u001b[0m\u001b[0m\n\u001b[0m\u001b[1;32m    946\u001b[0m \u001b[0;34m\u001b[0m\u001b[0m\n\u001b[1;32m    947\u001b[0m     \u001b[0;32mdef\u001b[0m \u001b[0m_execute_function\u001b[0m\u001b[0;34m(\u001b[0m\u001b[0mself\u001b[0m\u001b[0;34m,\u001b[0m \u001b[0mfunc\u001b[0m\u001b[0;34m,\u001b[0m \u001b[0mmultiparams\u001b[0m\u001b[0;34m,\u001b[0m \u001b[0mparams\u001b[0m\u001b[0;34m)\u001b[0m\u001b[0;34m:\u001b[0m\u001b[0;34m\u001b[0m\u001b[0m\n",
      "\u001b[0;32m/Users/juan/.envs/dsi-ldn-1/lib/python2.7/site-packages/sqlalchemy/sql/elements.pyc\u001b[0m in \u001b[0;36m_execute_on_connection\u001b[0;34m(self, connection, multiparams, params)\u001b[0m\n\u001b[1;32m    261\u001b[0m     \u001b[0;32mdef\u001b[0m \u001b[0m_execute_on_connection\u001b[0m\u001b[0;34m(\u001b[0m\u001b[0mself\u001b[0m\u001b[0;34m,\u001b[0m \u001b[0mconnection\u001b[0m\u001b[0;34m,\u001b[0m \u001b[0mmultiparams\u001b[0m\u001b[0;34m,\u001b[0m \u001b[0mparams\u001b[0m\u001b[0;34m)\u001b[0m\u001b[0;34m:\u001b[0m\u001b[0;34m\u001b[0m\u001b[0m\n\u001b[1;32m    262\u001b[0m         \u001b[0;32mif\u001b[0m \u001b[0mself\u001b[0m\u001b[0;34m.\u001b[0m\u001b[0msupports_execution\u001b[0m\u001b[0;34m:\u001b[0m\u001b[0;34m\u001b[0m\u001b[0m\n\u001b[0;32m--> 263\u001b[0;31m             \u001b[0;32mreturn\u001b[0m \u001b[0mconnection\u001b[0m\u001b[0;34m.\u001b[0m\u001b[0m_execute_clauseelement\u001b[0m\u001b[0;34m(\u001b[0m\u001b[0mself\u001b[0m\u001b[0;34m,\u001b[0m \u001b[0mmultiparams\u001b[0m\u001b[0;34m,\u001b[0m \u001b[0mparams\u001b[0m\u001b[0;34m)\u001b[0m\u001b[0;34m\u001b[0m\u001b[0m\n\u001b[0m\u001b[1;32m    264\u001b[0m         \u001b[0;32melse\u001b[0m\u001b[0;34m:\u001b[0m\u001b[0;34m\u001b[0m\u001b[0m\n\u001b[1;32m    265\u001b[0m             \u001b[0;32mraise\u001b[0m \u001b[0mexc\u001b[0m\u001b[0;34m.\u001b[0m\u001b[0mObjectNotExecutableError\u001b[0m\u001b[0;34m(\u001b[0m\u001b[0mself\u001b[0m\u001b[0;34m)\u001b[0m\u001b[0;34m\u001b[0m\u001b[0m\n",
      "\u001b[0;32m/Users/juan/.envs/dsi-ldn-1/lib/python2.7/site-packages/sqlalchemy/engine/base.pyc\u001b[0m in \u001b[0;36m_execute_clauseelement\u001b[0;34m(self, elem, multiparams, params)\u001b[0m\n\u001b[1;32m   1051\u001b[0m             \u001b[0mcompiled_sql\u001b[0m\u001b[0;34m,\u001b[0m\u001b[0;34m\u001b[0m\u001b[0m\n\u001b[1;32m   1052\u001b[0m             \u001b[0mdistilled_params\u001b[0m\u001b[0;34m,\u001b[0m\u001b[0;34m\u001b[0m\u001b[0m\n\u001b[0;32m-> 1053\u001b[0;31m             \u001b[0mcompiled_sql\u001b[0m\u001b[0;34m,\u001b[0m \u001b[0mdistilled_params\u001b[0m\u001b[0;34m\u001b[0m\u001b[0m\n\u001b[0m\u001b[1;32m   1054\u001b[0m         )\n\u001b[1;32m   1055\u001b[0m         \u001b[0;32mif\u001b[0m \u001b[0mself\u001b[0m\u001b[0;34m.\u001b[0m\u001b[0m_has_events\u001b[0m \u001b[0;32mor\u001b[0m \u001b[0mself\u001b[0m\u001b[0;34m.\u001b[0m\u001b[0mengine\u001b[0m\u001b[0;34m.\u001b[0m\u001b[0m_has_events\u001b[0m\u001b[0;34m:\u001b[0m\u001b[0;34m\u001b[0m\u001b[0m\n",
      "\u001b[0;32m/Users/juan/.envs/dsi-ldn-1/lib/python2.7/site-packages/sqlalchemy/engine/base.pyc\u001b[0m in \u001b[0;36m_execute_context\u001b[0;34m(self, dialect, constructor, statement, parameters, *args)\u001b[0m\n\u001b[1;32m   1187\u001b[0m                 \u001b[0mparameters\u001b[0m\u001b[0;34m,\u001b[0m\u001b[0;34m\u001b[0m\u001b[0m\n\u001b[1;32m   1188\u001b[0m                 \u001b[0mcursor\u001b[0m\u001b[0;34m,\u001b[0m\u001b[0;34m\u001b[0m\u001b[0m\n\u001b[0;32m-> 1189\u001b[0;31m                 context)\n\u001b[0m\u001b[1;32m   1190\u001b[0m \u001b[0;34m\u001b[0m\u001b[0m\n\u001b[1;32m   1191\u001b[0m         \u001b[0;32mif\u001b[0m \u001b[0mself\u001b[0m\u001b[0;34m.\u001b[0m\u001b[0m_has_events\u001b[0m \u001b[0;32mor\u001b[0m \u001b[0mself\u001b[0m\u001b[0;34m.\u001b[0m\u001b[0mengine\u001b[0m\u001b[0;34m.\u001b[0m\u001b[0m_has_events\u001b[0m\u001b[0;34m:\u001b[0m\u001b[0;34m\u001b[0m\u001b[0m\n",
      "\u001b[0;32m/Users/juan/.envs/dsi-ldn-1/lib/python2.7/site-packages/sqlalchemy/engine/base.pyc\u001b[0m in \u001b[0;36m_handle_dbapi_exception\u001b[0;34m(self, e, statement, parameters, cursor, context)\u001b[0m\n\u001b[1;32m   1391\u001b[0m                 util.raise_from_cause(\n\u001b[1;32m   1392\u001b[0m                     \u001b[0msqlalchemy_exception\u001b[0m\u001b[0;34m,\u001b[0m\u001b[0;34m\u001b[0m\u001b[0m\n\u001b[0;32m-> 1393\u001b[0;31m                     \u001b[0mexc_info\u001b[0m\u001b[0;34m\u001b[0m\u001b[0m\n\u001b[0m\u001b[1;32m   1394\u001b[0m                 )\n\u001b[1;32m   1395\u001b[0m             \u001b[0;32melse\u001b[0m\u001b[0;34m:\u001b[0m\u001b[0;34m\u001b[0m\u001b[0m\n",
      "\u001b[0;32m/Users/juan/.envs/dsi-ldn-1/lib/python2.7/site-packages/sqlalchemy/util/compat.pyc\u001b[0m in \u001b[0;36mraise_from_cause\u001b[0;34m(exception, exc_info)\u001b[0m\n\u001b[1;32m    200\u001b[0m     \u001b[0mexc_type\u001b[0m\u001b[0;34m,\u001b[0m \u001b[0mexc_value\u001b[0m\u001b[0;34m,\u001b[0m \u001b[0mexc_tb\u001b[0m \u001b[0;34m=\u001b[0m \u001b[0mexc_info\u001b[0m\u001b[0;34m\u001b[0m\u001b[0m\n\u001b[1;32m    201\u001b[0m     \u001b[0mcause\u001b[0m \u001b[0;34m=\u001b[0m \u001b[0mexc_value\u001b[0m \u001b[0;32mif\u001b[0m \u001b[0mexc_value\u001b[0m \u001b[0;32mis\u001b[0m \u001b[0;32mnot\u001b[0m \u001b[0mexception\u001b[0m \u001b[0;32melse\u001b[0m \u001b[0mNone\u001b[0m\u001b[0;34m\u001b[0m\u001b[0m\n\u001b[0;32m--> 202\u001b[0;31m     \u001b[0mreraise\u001b[0m\u001b[0;34m(\u001b[0m\u001b[0mtype\u001b[0m\u001b[0;34m(\u001b[0m\u001b[0mexception\u001b[0m\u001b[0;34m)\u001b[0m\u001b[0;34m,\u001b[0m \u001b[0mexception\u001b[0m\u001b[0;34m,\u001b[0m \u001b[0mtb\u001b[0m\u001b[0;34m=\u001b[0m\u001b[0mexc_tb\u001b[0m\u001b[0;34m,\u001b[0m \u001b[0mcause\u001b[0m\u001b[0;34m=\u001b[0m\u001b[0mcause\u001b[0m\u001b[0;34m)\u001b[0m\u001b[0;34m\u001b[0m\u001b[0m\n\u001b[0m\u001b[1;32m    203\u001b[0m \u001b[0;34m\u001b[0m\u001b[0m\n\u001b[1;32m    204\u001b[0m \u001b[0;32mif\u001b[0m \u001b[0mpy3k\u001b[0m\u001b[0;34m:\u001b[0m\u001b[0;34m\u001b[0m\u001b[0m\n",
      "\u001b[0;32m/Users/juan/.envs/dsi-ldn-1/lib/python2.7/site-packages/sqlalchemy/engine/base.pyc\u001b[0m in \u001b[0;36m_execute_context\u001b[0;34m(self, dialect, constructor, statement, parameters, *args)\u001b[0m\n\u001b[1;32m   1180\u001b[0m                         \u001b[0mstatement\u001b[0m\u001b[0;34m,\u001b[0m\u001b[0;34m\u001b[0m\u001b[0m\n\u001b[1;32m   1181\u001b[0m                         \u001b[0mparameters\u001b[0m\u001b[0;34m,\u001b[0m\u001b[0;34m\u001b[0m\u001b[0m\n\u001b[0;32m-> 1182\u001b[0;31m                         context)\n\u001b[0m\u001b[1;32m   1183\u001b[0m         \u001b[0;32mexcept\u001b[0m \u001b[0mBaseException\u001b[0m \u001b[0;32mas\u001b[0m \u001b[0me\u001b[0m\u001b[0;34m:\u001b[0m\u001b[0;34m\u001b[0m\u001b[0m\n\u001b[1;32m   1184\u001b[0m             self._handle_dbapi_exception(\n",
      "\u001b[0;32m/Users/juan/.envs/dsi-ldn-1/lib/python2.7/site-packages/sqlalchemy/engine/default.pyc\u001b[0m in \u001b[0;36mdo_execute\u001b[0;34m(self, cursor, statement, parameters, context)\u001b[0m\n\u001b[1;32m    460\u001b[0m \u001b[0;34m\u001b[0m\u001b[0m\n\u001b[1;32m    461\u001b[0m     \u001b[0;32mdef\u001b[0m \u001b[0mdo_execute\u001b[0m\u001b[0;34m(\u001b[0m\u001b[0mself\u001b[0m\u001b[0;34m,\u001b[0m \u001b[0mcursor\u001b[0m\u001b[0;34m,\u001b[0m \u001b[0mstatement\u001b[0m\u001b[0;34m,\u001b[0m \u001b[0mparameters\u001b[0m\u001b[0;34m,\u001b[0m \u001b[0mcontext\u001b[0m\u001b[0;34m=\u001b[0m\u001b[0mNone\u001b[0m\u001b[0;34m)\u001b[0m\u001b[0;34m:\u001b[0m\u001b[0;34m\u001b[0m\u001b[0m\n\u001b[0;32m--> 462\u001b[0;31m         \u001b[0mcursor\u001b[0m\u001b[0;34m.\u001b[0m\u001b[0mexecute\u001b[0m\u001b[0;34m(\u001b[0m\u001b[0mstatement\u001b[0m\u001b[0;34m,\u001b[0m \u001b[0mparameters\u001b[0m\u001b[0;34m)\u001b[0m\u001b[0;34m\u001b[0m\u001b[0m\n\u001b[0m\u001b[1;32m    463\u001b[0m \u001b[0;34m\u001b[0m\u001b[0m\n\u001b[1;32m    464\u001b[0m     \u001b[0;32mdef\u001b[0m \u001b[0mdo_execute_no_params\u001b[0m\u001b[0;34m(\u001b[0m\u001b[0mself\u001b[0m\u001b[0;34m,\u001b[0m \u001b[0mcursor\u001b[0m\u001b[0;34m,\u001b[0m \u001b[0mstatement\u001b[0m\u001b[0;34m,\u001b[0m \u001b[0mcontext\u001b[0m\u001b[0;34m=\u001b[0m\u001b[0mNone\u001b[0m\u001b[0;34m)\u001b[0m\u001b[0;34m:\u001b[0m\u001b[0;34m\u001b[0m\u001b[0m\n",
      "\u001b[0;31mDataError\u001b[0m: (psycopg2.DataError) value too long for type character(2)\nCONTEXT:  COPY evictions, line 31494, column state: \"CA`\"\n [SQL: \"COPY evictions FROM '/Users/juan/project/general_assembly/DSI-course-materials/curriculum/04-lessons/week-05/3.3-lab/assets/datasets/Eviction_Notices.csv' DELIMITER ',' CSV HEADER;\"]"
     ]
    }
   ],
   "source": [
    "%%sql\n",
    "DROP TABLE IF EXISTS evictions;\n",
    "CREATE TABLE evictions\n",
    "(eviction_id varchar,\n",
    " address varchar,\n",
    " city varchar,\n",
    " state char(2),\n",
    " zip char(5),\n",
    " file_date date,\n",
    " non_payment boolean,\n",
    " breach boolean,\n",
    " nuisance boolean,\n",
    " illegal_use boolean,\n",
    " failure_to_sign_renewal boolean,\n",
    " access_denial boolean,\n",
    " unapproved_subtenant boolean,\n",
    " owner_move_in boolean,\n",
    " demolition boolean,\n",
    " capital_improvement boolean,\n",
    " substantial_rehab boolean,\n",
    " ellis_act_withdrawal boolean,\n",
    " condo_conversion boolean,\n",
    " roommate_same_unit boolean,\n",
    " other_cause boolean,\n",
    " late_payments boolean,\n",
    " lead_remediation boolean,\n",
    " development boolean,\n",
    " good_samaritan_ends boolean,\n",
    " constraints boolean,\n",
    " constraints_date date,\n",
    " supervisor_district integer,\n",
    " neighborhood varchar,\n",
    " client_location varchar);\n",
    "\n",
    "\n",
    "COPY evictions FROM '/Users/juan/project/general_assembly/DSI-course-materials/curriculum/04-lessons/week-05/3.3-lab/assets/datasets/Eviction_Notices.csv' DELIMITER ',' CSV HEADER;"
   ]
  },
  {
   "cell_type": "code",
   "execution_count": 28,
   "metadata": {
    "collapsed": false
   },
   "outputs": [
    {
     "name": "stdout",
     "output_type": "stream",
     "text": [
      "(psycopg2.ProgrammingError) relation \"evictions\" does not exist\n",
      "LINE 1: select * from evictions\n",
      "                      ^\n",
      " [SQL: 'select * from evictions\\norder by file_date desc\\nlimit 3;']\n"
     ]
    }
   ],
   "source": [
    "%%sql\n",
    "select * from evictions\n",
    "order by file_date desc\n",
    "limit 3;"
   ]
  },
  {
   "cell_type": "markdown",
   "metadata": {},
   "source": [
    "## 6. Queries\n",
    "\n",
    "Now that we have imported the data with correct data types, let's query the `evictions` table and find out a few things about SF and evictions.\n",
    "\n",
    "Questions:\n",
    "- How many neighborhoods are there in SF? List them alphabetically\n",
    "- How many supervisor districts? \n",
    "- How many unique zip codes?\n",
    "    - Are there any bad data in these? how many?\n",
    "- What are the top 5 causes of eviction?"
   ]
  },
  {
   "cell_type": "markdown",
   "metadata": {},
   "source": [
    "### 6.a: How many neighborhoods are there in SF? List them alphabetically."
   ]
  },
  {
   "cell_type": "code",
   "execution_count": 58,
   "metadata": {
    "collapsed": false
   },
   "outputs": [
    {
     "name": "stdout",
     "output_type": "stream",
     "text": [
      "1 rows affected.\n"
     ]
    },
    {
     "data": {
      "text/html": [
       "<table>\n",
       "    <tr>\n",
       "        <th>count</th>\n",
       "    </tr>\n",
       "    <tr>\n",
       "        <td>41</td>\n",
       "    </tr>\n",
       "</table>"
      ],
      "text/plain": [
       "[(41L,)]"
      ]
     },
     "execution_count": 58,
     "metadata": {},
     "output_type": "execute_result"
    }
   ],
   "source": [
    "%%sql\n",
    "select count(distinct neighborhood) from evictions;"
   ]
  },
  {
   "cell_type": "code",
   "execution_count": 59,
   "metadata": {
    "collapsed": false
   },
   "outputs": [
    {
     "name": "stdout",
     "output_type": "stream",
     "text": [
      "42 rows affected.\n"
     ]
    },
    {
     "data": {
      "text/html": [
       "<table>\n",
       "    <tr>\n",
       "        <th>neighborhood</th>\n",
       "    </tr>\n",
       "    <tr>\n",
       "        <td>Bayview Hunters Point</td>\n",
       "    </tr>\n",
       "    <tr>\n",
       "        <td>Bernal Heights</td>\n",
       "    </tr>\n",
       "    <tr>\n",
       "        <td>Castro/Upper Market</td>\n",
       "    </tr>\n",
       "    <tr>\n",
       "        <td>Chinatown</td>\n",
       "    </tr>\n",
       "    <tr>\n",
       "        <td>Excelsior</td>\n",
       "    </tr>\n",
       "    <tr>\n",
       "        <td>Financial District/South Beach</td>\n",
       "    </tr>\n",
       "    <tr>\n",
       "        <td>Glen Park</td>\n",
       "    </tr>\n",
       "    <tr>\n",
       "        <td>Golden Gate Park</td>\n",
       "    </tr>\n",
       "    <tr>\n",
       "        <td>Haight Ashbury</td>\n",
       "    </tr>\n",
       "    <tr>\n",
       "        <td>Hayes Valley</td>\n",
       "    </tr>\n",
       "    <tr>\n",
       "        <td>Inner Richmond</td>\n",
       "    </tr>\n",
       "    <tr>\n",
       "        <td>Inner Sunset</td>\n",
       "    </tr>\n",
       "    <tr>\n",
       "        <td>Japantown</td>\n",
       "    </tr>\n",
       "    <tr>\n",
       "        <td>Lakeshore</td>\n",
       "    </tr>\n",
       "    <tr>\n",
       "        <td>Lincoln Park</td>\n",
       "    </tr>\n",
       "    <tr>\n",
       "        <td>Lone Mountain/USF</td>\n",
       "    </tr>\n",
       "    <tr>\n",
       "        <td>Marina</td>\n",
       "    </tr>\n",
       "    <tr>\n",
       "        <td>McLaren Park</td>\n",
       "    </tr>\n",
       "    <tr>\n",
       "        <td>Mission</td>\n",
       "    </tr>\n",
       "    <tr>\n",
       "        <td>Mission Bay</td>\n",
       "    </tr>\n",
       "    <tr>\n",
       "        <td>Nob Hill</td>\n",
       "    </tr>\n",
       "    <tr>\n",
       "        <td>Noe Valley</td>\n",
       "    </tr>\n",
       "    <tr>\n",
       "        <td>North Beach</td>\n",
       "    </tr>\n",
       "    <tr>\n",
       "        <td>Oceanview/Merced/Ingleside</td>\n",
       "    </tr>\n",
       "    <tr>\n",
       "        <td>Outer Mission</td>\n",
       "    </tr>\n",
       "    <tr>\n",
       "        <td>Outer Richmond</td>\n",
       "    </tr>\n",
       "    <tr>\n",
       "        <td>Pacific Heights</td>\n",
       "    </tr>\n",
       "    <tr>\n",
       "        <td>Portola</td>\n",
       "    </tr>\n",
       "    <tr>\n",
       "        <td>Potrero Hill</td>\n",
       "    </tr>\n",
       "    <tr>\n",
       "        <td>Presidio</td>\n",
       "    </tr>\n",
       "    <tr>\n",
       "        <td>Presidio Heights</td>\n",
       "    </tr>\n",
       "    <tr>\n",
       "        <td>Russian Hill</td>\n",
       "    </tr>\n",
       "    <tr>\n",
       "        <td>Seacliff</td>\n",
       "    </tr>\n",
       "    <tr>\n",
       "        <td>South of Market</td>\n",
       "    </tr>\n",
       "    <tr>\n",
       "        <td>Sunset/Parkside</td>\n",
       "    </tr>\n",
       "    <tr>\n",
       "        <td>Tenderloin</td>\n",
       "    </tr>\n",
       "    <tr>\n",
       "        <td>Treasure Island</td>\n",
       "    </tr>\n",
       "    <tr>\n",
       "        <td>Twin Peaks</td>\n",
       "    </tr>\n",
       "    <tr>\n",
       "        <td>Visitacion Valley</td>\n",
       "    </tr>\n",
       "    <tr>\n",
       "        <td>West of Twin Peaks</td>\n",
       "    </tr>\n",
       "    <tr>\n",
       "        <td>Western Addition</td>\n",
       "    </tr>\n",
       "    <tr>\n",
       "        <td>None</td>\n",
       "    </tr>\n",
       "</table>"
      ],
      "text/plain": [
       "[(u'Bayview Hunters Point',),\n",
       " (u'Bernal Heights',),\n",
       " (u'Castro/Upper Market',),\n",
       " (u'Chinatown',),\n",
       " (u'Excelsior',),\n",
       " (u'Financial District/South Beach',),\n",
       " (u'Glen Park',),\n",
       " (u'Golden Gate Park',),\n",
       " (u'Haight Ashbury',),\n",
       " (u'Hayes Valley',),\n",
       " (u'Inner Richmond',),\n",
       " (u'Inner Sunset',),\n",
       " (u'Japantown',),\n",
       " (u'Lakeshore',),\n",
       " (u'Lincoln Park',),\n",
       " (u'Lone Mountain/USF',),\n",
       " (u'Marina',),\n",
       " (u'McLaren Park',),\n",
       " (u'Mission',),\n",
       " (u'Mission Bay',),\n",
       " (u'Nob Hill',),\n",
       " (u'Noe Valley',),\n",
       " (u'North Beach',),\n",
       " (u'Oceanview/Merced/Ingleside',),\n",
       " (u'Outer Mission',),\n",
       " (u'Outer Richmond',),\n",
       " (u'Pacific Heights',),\n",
       " (u'Portola',),\n",
       " (u'Potrero Hill',),\n",
       " (u'Presidio',),\n",
       " (u'Presidio Heights',),\n",
       " (u'Russian Hill',),\n",
       " (u'Seacliff',),\n",
       " (u'South of Market',),\n",
       " (u'Sunset/Parkside',),\n",
       " (u'Tenderloin',),\n",
       " (u'Treasure Island',),\n",
       " (u'Twin Peaks',),\n",
       " (u'Visitacion Valley',),\n",
       " (u'West of Twin Peaks',),\n",
       " (u'Western Addition',),\n",
       " (None,)]"
      ]
     },
     "execution_count": 59,
     "metadata": {},
     "output_type": "execute_result"
    }
   ],
   "source": [
    "%%sql\n",
    "select distinct neighborhood from evictions\n",
    "order by neighborhood;"
   ]
  },
  {
   "cell_type": "markdown",
   "metadata": {},
   "source": [
    "### 6.b: How many supervisor districts?"
   ]
  },
  {
   "cell_type": "code",
   "execution_count": 61,
   "metadata": {
    "collapsed": false
   },
   "outputs": [
    {
     "name": "stdout",
     "output_type": "stream",
     "text": [
      "12 rows affected.\n"
     ]
    },
    {
     "data": {
      "text/html": [
       "<table>\n",
       "    <tr>\n",
       "        <th>supervisor_district</th>\n",
       "    </tr>\n",
       "    <tr>\n",
       "        <td>1</td>\n",
       "    </tr>\n",
       "    <tr>\n",
       "        <td>2</td>\n",
       "    </tr>\n",
       "    <tr>\n",
       "        <td>3</td>\n",
       "    </tr>\n",
       "    <tr>\n",
       "        <td>4</td>\n",
       "    </tr>\n",
       "    <tr>\n",
       "        <td>5</td>\n",
       "    </tr>\n",
       "    <tr>\n",
       "        <td>6</td>\n",
       "    </tr>\n",
       "    <tr>\n",
       "        <td>7</td>\n",
       "    </tr>\n",
       "    <tr>\n",
       "        <td>8</td>\n",
       "    </tr>\n",
       "    <tr>\n",
       "        <td>9</td>\n",
       "    </tr>\n",
       "    <tr>\n",
       "        <td>10</td>\n",
       "    </tr>\n",
       "    <tr>\n",
       "        <td>11</td>\n",
       "    </tr>\n",
       "    <tr>\n",
       "        <td>None</td>\n",
       "    </tr>\n",
       "</table>"
      ],
      "text/plain": [
       "[(1,), (2,), (3,), (4,), (5,), (6,), (7,), (8,), (9,), (10,), (11,), (None,)]"
      ]
     },
     "execution_count": 61,
     "metadata": {},
     "output_type": "execute_result"
    }
   ],
   "source": [
    "%%sql\n",
    "select distinct supervisor_district from evictions\n",
    "order by supervisor_district;"
   ]
  },
  {
   "cell_type": "markdown",
   "metadata": {},
   "source": [
    "### 6.c how many unique zip codes?\n",
    "\n",
    "Are there any bad data in these?"
   ]
  },
  {
   "cell_type": "code",
   "execution_count": 64,
   "metadata": {
    "collapsed": false
   },
   "outputs": [
    {
     "name": "stdout",
     "output_type": "stream",
     "text": [
      "49 rows affected.\n"
     ]
    },
    {
     "data": {
      "text/html": [
       "<table>\n",
       "    <tr>\n",
       "        <th>zip</th>\n",
       "    </tr>\n",
       "    <tr>\n",
       "        <td>9    </td>\n",
       "    </tr>\n",
       "    <tr>\n",
       "        <td>91011</td>\n",
       "    </tr>\n",
       "    <tr>\n",
       "        <td>94   </td>\n",
       "    </tr>\n",
       "    <tr>\n",
       "        <td>941  </td>\n",
       "    </tr>\n",
       "    <tr>\n",
       "        <td>941 1</td>\n",
       "    </tr>\n",
       "    <tr>\n",
       "        <td>9410 </td>\n",
       "    </tr>\n",
       "    <tr>\n",
       "        <td>94101</td>\n",
       "    </tr>\n",
       "    <tr>\n",
       "        <td>94102</td>\n",
       "    </tr>\n",
       "    <tr>\n",
       "        <td>94103</td>\n",
       "    </tr>\n",
       "    <tr>\n",
       "        <td>94104</td>\n",
       "    </tr>\n",
       "    <tr>\n",
       "        <td>94105</td>\n",
       "    </tr>\n",
       "    <tr>\n",
       "        <td>94106</td>\n",
       "    </tr>\n",
       "    <tr>\n",
       "        <td>94107</td>\n",
       "    </tr>\n",
       "    <tr>\n",
       "        <td>94108</td>\n",
       "    </tr>\n",
       "    <tr>\n",
       "        <td>94109</td>\n",
       "    </tr>\n",
       "    <tr>\n",
       "        <td>9411 </td>\n",
       "    </tr>\n",
       "    <tr>\n",
       "        <td>94110</td>\n",
       "    </tr>\n",
       "    <tr>\n",
       "        <td>94111</td>\n",
       "    </tr>\n",
       "    <tr>\n",
       "        <td>94112</td>\n",
       "    </tr>\n",
       "    <tr>\n",
       "        <td>94113</td>\n",
       "    </tr>\n",
       "    <tr>\n",
       "        <td>94114</td>\n",
       "    </tr>\n",
       "    <tr>\n",
       "        <td>94115</td>\n",
       "    </tr>\n",
       "    <tr>\n",
       "        <td>94116</td>\n",
       "    </tr>\n",
       "    <tr>\n",
       "        <td>94117</td>\n",
       "    </tr>\n",
       "    <tr>\n",
       "        <td>94118</td>\n",
       "    </tr>\n",
       "    <tr>\n",
       "        <td>94119</td>\n",
       "    </tr>\n",
       "    <tr>\n",
       "        <td>9412 </td>\n",
       "    </tr>\n",
       "    <tr>\n",
       "        <td>94121</td>\n",
       "    </tr>\n",
       "    <tr>\n",
       "        <td>94122</td>\n",
       "    </tr>\n",
       "    <tr>\n",
       "        <td>94123</td>\n",
       "    </tr>\n",
       "    <tr>\n",
       "        <td>94124</td>\n",
       "    </tr>\n",
       "    <tr>\n",
       "        <td>94126</td>\n",
       "    </tr>\n",
       "    <tr>\n",
       "        <td>94127</td>\n",
       "    </tr>\n",
       "    <tr>\n",
       "        <td>94129</td>\n",
       "    </tr>\n",
       "    <tr>\n",
       "        <td>9413 </td>\n",
       "    </tr>\n",
       "    <tr>\n",
       "        <td>94130</td>\n",
       "    </tr>\n",
       "    <tr>\n",
       "        <td>94131</td>\n",
       "    </tr>\n",
       "    <tr>\n",
       "        <td>94132</td>\n",
       "    </tr>\n",
       "    <tr>\n",
       "        <td>94133</td>\n",
       "    </tr>\n",
       "    <tr>\n",
       "        <td>94134</td>\n",
       "    </tr>\n",
       "    <tr>\n",
       "        <td>94135</td>\n",
       "    </tr>\n",
       "    <tr>\n",
       "        <td>94142</td>\n",
       "    </tr>\n",
       "    <tr>\n",
       "        <td>94158</td>\n",
       "    </tr>\n",
       "    <tr>\n",
       "        <td>94159</td>\n",
       "    </tr>\n",
       "    <tr>\n",
       "        <td>94194</td>\n",
       "    </tr>\n",
       "    <tr>\n",
       "        <td>941??</td>\n",
       "    </tr>\n",
       "    <tr>\n",
       "        <td>9424 </td>\n",
       "    </tr>\n",
       "    <tr>\n",
       "        <td>94619</td>\n",
       "    </tr>\n",
       "    <tr>\n",
       "        <td>None</td>\n",
       "    </tr>\n",
       "</table>"
      ],
      "text/plain": [
       "[(u'9    ',),\n",
       " (u'91011',),\n",
       " (u'94   ',),\n",
       " (u'941  ',),\n",
       " (u'941 1',),\n",
       " (u'9410 ',),\n",
       " (u'94101',),\n",
       " (u'94102',),\n",
       " (u'94103',),\n",
       " (u'94104',),\n",
       " (u'94105',),\n",
       " (u'94106',),\n",
       " (u'94107',),\n",
       " (u'94108',),\n",
       " (u'94109',),\n",
       " (u'9411 ',),\n",
       " (u'94110',),\n",
       " (u'94111',),\n",
       " (u'94112',),\n",
       " (u'94113',),\n",
       " (u'94114',),\n",
       " (u'94115',),\n",
       " (u'94116',),\n",
       " (u'94117',),\n",
       " (u'94118',),\n",
       " (u'94119',),\n",
       " (u'9412 ',),\n",
       " (u'94121',),\n",
       " (u'94122',),\n",
       " (u'94123',),\n",
       " (u'94124',),\n",
       " (u'94126',),\n",
       " (u'94127',),\n",
       " (u'94129',),\n",
       " (u'9413 ',),\n",
       " (u'94130',),\n",
       " (u'94131',),\n",
       " (u'94132',),\n",
       " (u'94133',),\n",
       " (u'94134',),\n",
       " (u'94135',),\n",
       " (u'94142',),\n",
       " (u'94158',),\n",
       " (u'94159',),\n",
       " (u'94194',),\n",
       " (u'941??',),\n",
       " (u'9424 ',),\n",
       " (u'94619',),\n",
       " (None,)]"
      ]
     },
     "execution_count": 64,
     "metadata": {},
     "output_type": "execute_result"
    }
   ],
   "source": [
    "%%sql\n",
    "select distinct zip from evictions\n",
    "order by zip;"
   ]
  },
  {
   "cell_type": "markdown",
   "metadata": {},
   "source": [
    "### 6.d: What are the top 5 causes of eviction?\n",
    "\n",
    "You may find it easier to answer this question using pandas."
   ]
  },
  {
   "cell_type": "code",
   "execution_count": 75,
   "metadata": {
    "collapsed": false
   },
   "outputs": [],
   "source": [
    "engine = create_engine('postgresql://localhost:5432/lab33')\n",
    "evictions = pd.read_sql(\"SELECT * FROM evictions;\", engine)"
   ]
  },
  {
   "cell_type": "code",
   "execution_count": 79,
   "metadata": {
    "collapsed": true
   },
   "outputs": [],
   "source": [
    "cause_list = [\"non_payment\",\n",
    "              \"breach\",\n",
    "              \"nuisance\",\n",
    "              \"illegal_use\",\n",
    "              \"failure_to_sign_renewal\",\n",
    "              \"access_denial\",\n",
    "              \"unapproved_subtenant\",\n",
    "              \"owner_move_in\",\n",
    "              \"demolition\",\n",
    "              \"capital_improvement\",\n",
    "              \"substantial_rehab\",\n",
    "              \"ellis_act_withdrawal\",\n",
    "              \"condo_conversion\",\n",
    "              \"roommate_same_unit\",\n",
    "              \"other_cause\",\n",
    "              \"late_payments\",\n",
    "              \"lead_remediation\",\n",
    "              \"development\",\n",
    "              \"good_samaritan_ends\"]"
   ]
  },
  {
   "cell_type": "code",
   "execution_count": 84,
   "metadata": {
    "collapsed": false
   },
   "outputs": [
    {
     "data": {
      "text/plain": [
       "owner_move_in              9139\n",
       "breach                     7673\n",
       "nuisance                   5632\n",
       "ellis_act_withdrawal       3368\n",
       "non_payment                2099\n",
       "late_payments              1418\n",
       "other_cause                1288\n",
       "roommate_same_unit         1214\n",
       "demolition                 1139\n",
       "capital_improvement         957\n",
       "illegal_use                 712\n",
       "unapproved_subtenant        662\n",
       "development                 339\n",
       "access_denial               263\n",
       "condo_conversion            102\n",
       "substantial_rehab            81\n",
       "failure_to_sign_renewal      71\n",
       "lead_remediation              7\n",
       "good_samaritan_ends           1\n",
       "dtype: float64"
      ]
     },
     "execution_count": 84,
     "metadata": {},
     "output_type": "execute_result"
    }
   ],
   "source": [
    "evictions[cause_list].sum().sort_values(ascending = False)"
   ]
  },
  {
   "cell_type": "markdown",
   "metadata": {},
   "source": [
    "## Bonus\n",
    "- Let's count the number of evictions for each year\n",
    "    - How has the number varied?\n",
    "    - Can you compare this with the nasdaq index? (use the DataReader module in Pandas to get the data)\n"
   ]
  },
  {
   "cell_type": "code",
   "execution_count": 85,
   "metadata": {
    "collapsed": false
   },
   "outputs": [
    {
     "name": "stdout",
     "output_type": "stream",
     "text": [
      "<class 'pandas.core.frame.DataFrame'>\n",
      "Int64Index: 34922 entries, 0 to 34921\n",
      "Data columns (total 30 columns):\n",
      "eviction_id                34922 non-null object\n",
      "address                    34878 non-null object\n",
      "city                       34919 non-null object\n",
      "state                      34920 non-null object\n",
      "zip                        34116 non-null object\n",
      "file_date                  34922 non-null object\n",
      "non_payment                34922 non-null bool\n",
      "breach                     34922 non-null bool\n",
      "nuisance                   34922 non-null bool\n",
      "illegal_use                34922 non-null bool\n",
      "failure_to_sign_renewal    34922 non-null bool\n",
      "access_denial              34922 non-null bool\n",
      "unapproved_subtenant       34922 non-null bool\n",
      "owner_move_in              34922 non-null bool\n",
      "demolition                 34922 non-null bool\n",
      "capital_improvement        34922 non-null bool\n",
      "substantial_rehab          34922 non-null bool\n",
      "ellis_act_withdrawal       34922 non-null bool\n",
      "condo_conversion           34922 non-null bool\n",
      "roommate_same_unit         34922 non-null bool\n",
      "other_cause                34922 non-null bool\n",
      "late_payments              34922 non-null bool\n",
      "lead_remediation           34922 non-null bool\n",
      "development                34922 non-null bool\n",
      "good_samaritan_ends        1 non-null object\n",
      "constraints                34922 non-null bool\n",
      "constraints_date           3244 non-null object\n",
      "supervisor_district        34303 non-null float64\n",
      "neighborhood               34303 non-null object\n",
      "client_location            34894 non-null object\n",
      "dtypes: bool(19), float64(1), object(10)\n",
      "memory usage: 3.8+ MB\n"
     ]
    }
   ],
   "source": [
    "evictions.info()"
   ]
  },
  {
   "cell_type": "code",
   "execution_count": 111,
   "metadata": {
    "collapsed": false
   },
   "outputs": [
    {
     "name": "stdout",
     "output_type": "stream",
     "text": [
      "20 rows affected.\n"
     ]
    },
    {
     "data": {
      "text/html": [
       "<table>\n",
       "    <tr>\n",
       "        <th>yyyy</th>\n",
       "        <th>evictions</th>\n",
       "    </tr>\n",
       "    <tr>\n",
       "        <td>1997.0</td>\n",
       "        <td>2561</td>\n",
       "    </tr>\n",
       "    <tr>\n",
       "        <td>1998.0</td>\n",
       "        <td>2930</td>\n",
       "    </tr>\n",
       "    <tr>\n",
       "        <td>1999.0</td>\n",
       "        <td>2632</td>\n",
       "    </tr>\n",
       "    <tr>\n",
       "        <td>2000.0</td>\n",
       "        <td>2574</td>\n",
       "    </tr>\n",
       "    <tr>\n",
       "        <td>2001.0</td>\n",
       "        <td>2183</td>\n",
       "    </tr>\n",
       "    <tr>\n",
       "        <td>2002.0</td>\n",
       "        <td>1660</td>\n",
       "    </tr>\n",
       "    <tr>\n",
       "        <td>2003.0</td>\n",
       "        <td>1522</td>\n",
       "    </tr>\n",
       "    <tr>\n",
       "        <td>2004.0</td>\n",
       "        <td>1441</td>\n",
       "    </tr>\n",
       "    <tr>\n",
       "        <td>2005.0</td>\n",
       "        <td>1540</td>\n",
       "    </tr>\n",
       "    <tr>\n",
       "        <td>2006.0</td>\n",
       "        <td>1473</td>\n",
       "    </tr>\n",
       "    <tr>\n",
       "        <td>2007.0</td>\n",
       "        <td>1482</td>\n",
       "    </tr>\n",
       "    <tr>\n",
       "        <td>2008.0</td>\n",
       "        <td>1413</td>\n",
       "    </tr>\n",
       "    <tr>\n",
       "        <td>2009.0</td>\n",
       "        <td>1174</td>\n",
       "    </tr>\n",
       "    <tr>\n",
       "        <td>2010.0</td>\n",
       "        <td>1359</td>\n",
       "    </tr>\n",
       "    <tr>\n",
       "        <td>2011.0</td>\n",
       "        <td>1296</td>\n",
       "    </tr>\n",
       "    <tr>\n",
       "        <td>2012.0</td>\n",
       "        <td>1631</td>\n",
       "    </tr>\n",
       "    <tr>\n",
       "        <td>2013.0</td>\n",
       "        <td>1871</td>\n",
       "    </tr>\n",
       "    <tr>\n",
       "        <td>2014.0</td>\n",
       "        <td>1982</td>\n",
       "    </tr>\n",
       "    <tr>\n",
       "        <td>2015.0</td>\n",
       "        <td>2080</td>\n",
       "    </tr>\n",
       "    <tr>\n",
       "        <td>2016.0</td>\n",
       "        <td>118</td>\n",
       "    </tr>\n",
       "</table>"
      ],
      "text/plain": [
       "[(1997.0, 2561L),\n",
       " (1998.0, 2930L),\n",
       " (1999.0, 2632L),\n",
       " (2000.0, 2574L),\n",
       " (2001.0, 2183L),\n",
       " (2002.0, 1660L),\n",
       " (2003.0, 1522L),\n",
       " (2004.0, 1441L),\n",
       " (2005.0, 1540L),\n",
       " (2006.0, 1473L),\n",
       " (2007.0, 1482L),\n",
       " (2008.0, 1413L),\n",
       " (2009.0, 1174L),\n",
       " (2010.0, 1359L),\n",
       " (2011.0, 1296L),\n",
       " (2012.0, 1631L),\n",
       " (2013.0, 1871L),\n",
       " (2014.0, 1982L),\n",
       " (2015.0, 2080L),\n",
       " (2016.0, 118L)]"
      ]
     },
     "execution_count": 111,
     "metadata": {},
     "output_type": "execute_result"
    }
   ],
   "source": [
    "%%sql\n",
    "select extract(year from file_date) as yyyy,\n",
    "       count(eviction_id) as evictions\n",
    "from evictions\n",
    "group by 1\n",
    "order by 1"
   ]
  },
  {
   "cell_type": "code",
   "execution_count": 112,
   "metadata": {
    "collapsed": false
   },
   "outputs": [],
   "source": [
    "evictions_by_year = _.DataFrame()"
   ]
  },
  {
   "cell_type": "code",
   "execution_count": 118,
   "metadata": {
    "collapsed": false
   },
   "outputs": [],
   "source": [
    "evictions_by_year =evictions_by_year.set_index('yyyy')"
   ]
  },
  {
   "cell_type": "code",
   "execution_count": 119,
   "metadata": {
    "collapsed": true
   },
   "outputs": [],
   "source": [
    "%matplotlib inline\n",
    "import matplotlib.pyplot as plt"
   ]
  },
  {
   "cell_type": "code",
   "execution_count": 125,
   "metadata": {
    "collapsed": false
   },
   "outputs": [
    {
     "data": {
      "text/html": [
       "<div>\n",
       "<table border=\"1\" class=\"dataframe\">\n",
       "  <thead>\n",
       "    <tr style=\"text-align: right;\">\n",
       "      <th></th>\n",
       "      <th>evictions</th>\n",
       "    </tr>\n",
       "    <tr>\n",
       "      <th>yyyy</th>\n",
       "      <th></th>\n",
       "    </tr>\n",
       "  </thead>\n",
       "  <tbody>\n",
       "    <tr>\n",
       "      <th>1997</th>\n",
       "      <td>2561</td>\n",
       "    </tr>\n",
       "    <tr>\n",
       "      <th>1998</th>\n",
       "      <td>2930</td>\n",
       "    </tr>\n",
       "    <tr>\n",
       "      <th>1999</th>\n",
       "      <td>2632</td>\n",
       "    </tr>\n",
       "    <tr>\n",
       "      <th>2000</th>\n",
       "      <td>2574</td>\n",
       "    </tr>\n",
       "    <tr>\n",
       "      <th>2001</th>\n",
       "      <td>2183</td>\n",
       "    </tr>\n",
       "    <tr>\n",
       "      <th>2002</th>\n",
       "      <td>1660</td>\n",
       "    </tr>\n",
       "    <tr>\n",
       "      <th>2003</th>\n",
       "      <td>1522</td>\n",
       "    </tr>\n",
       "    <tr>\n",
       "      <th>2004</th>\n",
       "      <td>1441</td>\n",
       "    </tr>\n",
       "    <tr>\n",
       "      <th>2005</th>\n",
       "      <td>1540</td>\n",
       "    </tr>\n",
       "    <tr>\n",
       "      <th>2006</th>\n",
       "      <td>1473</td>\n",
       "    </tr>\n",
       "    <tr>\n",
       "      <th>2007</th>\n",
       "      <td>1482</td>\n",
       "    </tr>\n",
       "    <tr>\n",
       "      <th>2008</th>\n",
       "      <td>1413</td>\n",
       "    </tr>\n",
       "    <tr>\n",
       "      <th>2009</th>\n",
       "      <td>1174</td>\n",
       "    </tr>\n",
       "    <tr>\n",
       "      <th>2010</th>\n",
       "      <td>1359</td>\n",
       "    </tr>\n",
       "    <tr>\n",
       "      <th>2011</th>\n",
       "      <td>1296</td>\n",
       "    </tr>\n",
       "    <tr>\n",
       "      <th>2012</th>\n",
       "      <td>1631</td>\n",
       "    </tr>\n",
       "    <tr>\n",
       "      <th>2013</th>\n",
       "      <td>1871</td>\n",
       "    </tr>\n",
       "    <tr>\n",
       "      <th>2014</th>\n",
       "      <td>1982</td>\n",
       "    </tr>\n",
       "    <tr>\n",
       "      <th>2015</th>\n",
       "      <td>2080</td>\n",
       "    </tr>\n",
       "    <tr>\n",
       "      <th>2016</th>\n",
       "      <td>118</td>\n",
       "    </tr>\n",
       "  </tbody>\n",
       "</table>\n",
       "</div>"
      ],
      "text/plain": [
       "      evictions\n",
       "yyyy           \n",
       "1997       2561\n",
       "1998       2930\n",
       "1999       2632\n",
       "2000       2574\n",
       "2001       2183\n",
       "2002       1660\n",
       "2003       1522\n",
       "2004       1441\n",
       "2005       1540\n",
       "2006       1473\n",
       "2007       1482\n",
       "2008       1413\n",
       "2009       1174\n",
       "2010       1359\n",
       "2011       1296\n",
       "2012       1631\n",
       "2013       1871\n",
       "2014       1982\n",
       "2015       2080\n",
       "2016        118"
      ]
     },
     "execution_count": 125,
     "metadata": {},
     "output_type": "execute_result"
    }
   ],
   "source": [
    "evictions_by_year"
   ]
  },
  {
   "cell_type": "code",
   "execution_count": 121,
   "metadata": {
    "collapsed": false
   },
   "outputs": [
    {
     "data": {
      "text/plain": [
       "<matplotlib.axes._subplots.AxesSubplot at 0x115ee5c50>"
      ]
     },
     "execution_count": 121,
     "metadata": {},
     "output_type": "execute_result"
    },
    {
     "data": {
      "image/png": "[encoded data removed]",
      "text/plain": [
       "<matplotlib.figure.Figure at 0x115f584d0>"
      ]
     },
     "metadata": {},
     "output_type": "display_data"
    }
   ],
   "source": [
    "evictions_by_year.plot()"
   ]
  },
  {
   "cell_type": "code",
   "execution_count": 122,
   "metadata": {
    "collapsed": false
   },
   "outputs": [],
   "source": [
    "from pandas.io.data import DataReader\n",
    "import datetime"
   ]
  },
  {
   "cell_type": "code",
   "execution_count": 129,
   "metadata": {
    "collapsed": false
   },
   "outputs": [],
   "source": [
    "nasdaq = DataReader(\"NASDAQ:NDAQ\", \"google\", start=datetime.datetime(1990, 1, 1))"
   ]
  },
  {
   "cell_type": "code",
   "execution_count": 130,
   "metadata": {
    "collapsed": false
   },
   "outputs": [
    {
     "data": {
      "text/plain": [
       "<matplotlib.axes._subplots.AxesSubplot at 0x11a368410>"
      ]
     },
     "execution_count": 130,
     "metadata": {},
     "output_type": "execute_result"
    },
    {
     "data": {
      "image/png": "[encoded data removed]",
      "text/plain": [
       "<matplotlib.figure.Figure at 0x11a368b90>"
      ]
     },
     "metadata": {},
     "output_type": "display_data"
    }
   ],
   "source": [
    "nasdaq['Close'].plot()"
   ]
  },
  {
   "cell_type": "code",
   "execution_count": 133,
   "metadata": {
    "collapsed": false
   },
   "outputs": [
    {
     "data": {
      "text/plain": [
       "Date\n",
       "2002-12-31    10.210551\n",
       "2003-12-31     7.857143\n",
       "2004-12-31     7.602937\n",
       "2005-12-31    20.719563\n",
       "2006-12-31    34.533665\n",
       "2007-12-31    35.081155\n",
       "2008-12-31    33.118656\n",
       "2009-12-31    20.541111\n",
       "2010-12-31    20.073147\n",
       "2011-12-31    25.120675\n",
       "2012-12-31    24.030560\n",
       "2013-12-31    32.328532\n",
       "2014-12-31    40.442262\n",
       "2015-12-31    51.973849\n",
       "2016-12-31    62.081324\n",
       "Freq: A-DEC, Name: Close, dtype: float64"
      ]
     },
     "execution_count": 133,
     "metadata": {},
     "output_type": "execute_result"
    }
   ],
   "source": [
    "nasdaq_year_avg = nasdaq['Close'].groupby(pd.TimeGrouper('A')).mean()\n",
    "nasdaq_year_avg"
   ]
  },
  {
   "cell_type": "code",
   "execution_count": 139,
   "metadata": {
    "collapsed": false
   },
   "outputs": [],
   "source": [
    "nasdaq_year_avg.index = evictions_by_year.loc[2002:].index"
   ]
  },
  {
   "cell_type": "code",
   "execution_count": 140,
   "metadata": {
    "collapsed": false
   },
   "outputs": [],
   "source": [
    "evictions_by_year['nasdaq'] = nasdaq_year_avg"
   ]
  },
  {
   "cell_type": "code",
   "execution_count": 147,
   "metadata": {
    "collapsed": false
   },
   "outputs": [
    {
     "data": {
      "text/plain": [
       "<matplotlib.axes._subplots.AxesSubplot at 0x11f007a90>"
      ]
     },
     "execution_count": 147,
     "metadata": {},
     "output_type": "execute_result"
    },
    {
     "data": {
      "image/png": "[encoded data removed]",
      "text/plain": [
       "<matplotlib.figure.Figure at 0x11e91c0d0>"
      ]
     },
     "metadata": {},
     "output_type": "display_data"
    }
   ],
   "source": [
    "evictions_by_year['evictions'].plot()\n",
    "evictions_by_year['nasdaq'].plot(secondary_y=True)"
   ]
  }
 ],
 "metadata": {
  "kernelspec": {
   "display_name": "Python 2",
   "language": "python",
   "name": "python2"
  },
  "language_info": {
   "codemirror_mode": {
    "name": "ipython",
    "version": 2
   },
   "file_extension": ".py",
   "mimetype": "text/x-python",
   "name": "python",
   "nbconvert_exporter": "python",
   "pygments_lexer": "ipython2",
   "version": "2.7.10"
  }
 },
 "nbformat": 4,
 "nbformat_minor": 0
}
