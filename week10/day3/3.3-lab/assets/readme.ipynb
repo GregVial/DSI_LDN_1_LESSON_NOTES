{
 "cells": [
  {
   "cell_type": "markdown",
   "metadata": {},
   "source": [
    "---\n",
    "title: Spark Lab 2\n",
    "type: lab\n",
    "duration: \"1:25\"\n",
    "creator:\n",
    "    name: Francesco Mosconi\n",
    "    city: SF\n",
    "---"
   ]
  },
  {
   "cell_type": "markdown",
   "metadata": {},
   "source": [
    "# ![](https://ga-dash.s3.amazonaws.com/production/assets/logo-9f88ae6c9c3871690e33280fcf557f33.png) Spark Lab 2"
   ]
  },
  {
   "cell_type": "markdown",
   "metadata": {},
   "source": [
    "## Introduction\n",
    "\n",
    "In this lab we will explore the MLLib library for machine learning in Spark. The API of this library is very similar to Scikit Learn, and it plays quite nicely with Pandas.\n",
    "\n",
    "This lab follows quite closely [this blog post](https://www.mapr.com/blog/churn-prediction-pyspark-using-mllib-and-ml-packages), so if you're lost you can go have  look there for guidance.\n",
    "\n",
    "The problem we will solve is the prediction of [_churn rate_](https://en.wikipedia.org/wiki/Churn_rate), which is a measure of how many customers are lost over a period of time. This is a very important business metric, in particular for large companies like Telecom companies.\n",
    "\n",
    "We will use a dataset provided by [BigML](https://bigml.com/). The data has been copied to your VM, but can also be downloaded [here](https://bml-data.s3.amazonaws.com/churn-bigml-80.csv) and [here](https://bml-data.s3.amazonaws.com/churn-bigml-20.csv)."
   ]
  },
  {
   "cell_type": "markdown",
   "metadata": {},
   "source": [
    "## Exercise\n",
    "\n",
    "#### Requirements\n",
    "- Load the data\n",
    "- Quick look at the data\n",
    "- Take a sample and display it\n",
    "- Select Features\n",
    "- Train Decision Tree\n",
    "- Validate Model\n",
    "\n",
    "**Bonus:**\n",
    "- Implement Cross validation\n",
    "\n",
    "#### Starter code\n",
    "\n",
    "[Starter Code](./assets/code/starter-code/starter-code.ipynb)\n",
    "> [Solution Code](./assets/code/solution-code/solution-code.ipynb)\n",
    "\n",
    "\n",
    "### Additional Resources\n",
    "\n",
    "- [MLLib: Scalable Machine Learning on Spark](http://stanford.edu/~rezab/sparkworkshop/slides/xiangrui.pdf)\n",
    "- [Logistic Regression Tutorial](https://www.codementor.io/spark/tutorial/spark-mllib-logistic-regression) \n",
    "- [Databricks Decision Trees example](https://databricks.com/blog/2014/09/29/scalable-decision-trees-in-mllib.html)\n",
    "- [MLLib for regression](https://people.duke.edu/~ccc14/sta-663/Spark.html)\n"
   ]
  },
  {
   "cell_type": "code",
   "execution_count": null,
   "metadata": {
    "collapsed": true
   },
   "outputs": [],
   "source": []
  }
 ],
 "metadata": {
  "kernelspec": {
   "display_name": "Python 2",
   "language": "python",
   "name": "python2"
  },
  "language_info": {
   "codemirror_mode": {
    "name": "ipython",
    "version": 2
   },
   "file_extension": ".py",
   "mimetype": "text/x-python",
   "name": "python",
   "nbconvert_exporter": "python",
   "pygments_lexer": "ipython2",
   "version": "2.7.11"
  }
 },
 "nbformat": 4,
 "nbformat_minor": 0
}
