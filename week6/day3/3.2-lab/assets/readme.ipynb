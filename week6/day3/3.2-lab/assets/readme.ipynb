{
 "cells": [
  {
   "cell_type": "markdown",
   "metadata": {},
   "source": [
    "---\n",
    "title: Random Forest and Boosting Lab\n",
    "type: lab\n",
    "duration: \"1:25\"\n",
    "creator:\n",
    "    name: Francesco Mosconi\n",
    "    city: SF\n",
    "---"
   ]
  },
  {
   "cell_type": "markdown",
   "metadata": {},
   "source": [
    "# ![](https://ga-dash.s3.amazonaws.com/production/assets/logo-9f88ae6c9c3871690e33280fcf557f33.png) Random Forest and Boosting Lab"
   ]
  },
  {
   "cell_type": "markdown",
   "metadata": {},
   "source": [
    "## Introduction\n",
    "\n",
    "In this lab we will practice using Random Forest Regressor and Boosted Trees Regressor on the [Project 6 Data](../../03-projects/01-projects-weekly/project-06/assets/data). In the [asset folder](../../assets/datasets/imdb_p6_sample.csv), there's a sample of the data you will have gathered as part of Project 6. You're invited to perform your analysis on the complete dataset.\n",
    "\n",
    "We will be training several regression models to predict the movie rating based on few text features that were extracted as part of Project 6. In particular we'll look at the presence of words like: (excellent, great, love, beautiful, best, hope, groundbreaking, amazing...) in the reviews and use them to predict the movie rating.\n",
    "\n",
    "> Instructor Notes:\n",
    "- this walks the students through a sample dataset, they should actually do it on the full dataset they have created as part of Project 6.\n",
    "- the code for this lab is shorter than usual in order to give the students time to practice with Tableau."
   ]
  },
  {
   "cell_type": "markdown",
   "metadata": {},
   "source": [
    "## Exercise\n",
    "\n",
    "The [Starter Code](./code/starter-code/starter-code-3_2.ipynb) will guide you through the following points.\n",
    "\n",
    "### Requirements\n",
    "\n",
    "1. Load and inspect the data.\n",
    "- Train and evaluate performance of a Decision Tree Regressor\n",
    "- Train and evaluate performance of a Random Forest Regressor\n",
    "- Train and evaluate performance of a AdaBoost Regressor\n",
    "- Train and evaluate performance of a Gradient Boosting Trees Regressor\n",
    "- Practice using Tableau to inspect the data and also to plot the results\n",
    "\n",
    "**Bonus:**\n",
    "\n",
    "- Use Grid Search to improve your results\n",
    "\n",
    "### Code\n",
    "\n",
    "[Starter Code](./code/starter-code/starter-code-3_2.ipynb)\n",
    "\n",
    ">[Solution Code](./code/solution-code/solution-code-3_2.ipynb)"
   ]
  },
  {
   "cell_type": "markdown",
   "metadata": {},
   "source": [
    "## Additional Resources\n",
    "\n",
    "- [AdaBoost Regressor](http://scikit-learn.org/stable/modules/generated/sklearn.ensemble.AdaBoostRegressor.html)\n",
    "- [Example on Adaboost regression](http://scikit-learn.org/stable/auto_examples/ensemble/plot_adaboost_regression.html)\n",
    "- [Gradient Boosting Regression](http://scikit-learn.org/stable/auto_examples/ensemble/plot_gradient_boosting_regression.html)\n",
    "- [Random Forest Regression](http://scikit-learn.org/stable/modules/generated/sklearn.ensemble.RandomForestRegressor.html)\n",
    "- [Tableau Tutorial](http://casci.umd.edu/wp-content/uploads/2013/12/Tableau-Tutorial.pdf)"
   ]
  },
  {
   "cell_type": "code",
   "execution_count": null,
   "metadata": {
    "collapsed": true
   },
   "outputs": [],
   "source": []
  }
 ],
 "metadata": {
  "kernelspec": {
   "display_name": "Python 2",
   "language": "python",
   "name": "python2"
  },
  "language_info": {
   "codemirror_mode": {
    "name": "ipython",
    "version": 2
   },
   "file_extension": ".py",
   "mimetype": "text/x-python",
   "name": "python",
   "nbconvert_exporter": "python",
   "pygments_lexer": "ipython2",
   "version": "2.7.11"
  }
 },
 "nbformat": 4,
 "nbformat_minor": 0
}
