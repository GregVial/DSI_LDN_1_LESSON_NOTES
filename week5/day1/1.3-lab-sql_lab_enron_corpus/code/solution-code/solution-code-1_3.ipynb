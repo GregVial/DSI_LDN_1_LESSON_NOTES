{
 "cells": [
  {
   "cell_type": "markdown",
   "metadata": {},
   "source": [
    "# Multi-table Datasets - ENRON Archive"
   ]
  },
  {
   "cell_type": "markdown",
   "metadata": {},
   "source": [
    "## 1. Data import\n",
    "\n",
    "Connect to the file 'assets/datasets/enron.db' using one of these methods:\n",
    "\n",
    "- sqlite3 python package\n",
    "- pandas.read_sql\n",
    "- SQLite Manager Firefox extension\n",
    "\n",
    "Take a look at the database and query the master table. How many Tables are there in the db?\n",
    "\n",
    "> Answer:\n",
    "There are 3 tables:\n",
    "- MessageBase\n",
    "- RecipientBase\n",
    "- EmployeeBase"
   ]
  },
  {
   "cell_type": "code",
   "execution_count": 1,
   "metadata": {
    "collapsed": false
   },
   "outputs": [
    {
     "data": {
      "text/plain": [
       "[(u'MessageBase',), (u'RecipientBase',), (u'EmployeeBase',)]"
      ]
     },
     "execution_count": 1,
     "metadata": {},
     "output_type": "execute_result"
    }
   ],
   "source": [
    "import sqlite3\n",
    "conn = sqlite3.connect('../../assets/datasets/enron.db') \n",
    "c = conn.cursor()\n",
    "c.execute(\"SELECT name FROM sqlite_master WHERE type='table';\").fetchall()"
   ]
  },
  {
   "cell_type": "markdown",
   "metadata": {},
   "source": [
    "Query the `sqlite_master` table to retrieve the schema of the `EmployeeBase` table.\n",
    "\n",
    "1. What fields are there?\n",
    "1. What's the type of each of them?"
   ]
  },
  {
   "cell_type": "code",
   "execution_count": 2,
   "metadata": {
    "collapsed": false
   },
   "outputs": [
    {
     "name": "stdout",
     "output_type": "stream",
     "text": [
      "CREATE TABLE EmployeeBase (\n",
      "                  [eid] INTEGER,\n",
      "  [name] TEXT,\n",
      "  [department] TEXT,\n",
      "  [longdepartment] TEXT,\n",
      "  [title] TEXT,\n",
      "  [gender] TEXT,\n",
      "  [seniority] TEXT\n",
      "                  \n",
      "                  )\n",
      "CREATE TABLE MessageBase (\n",
      "    mid INTEGER,\n",
      "    filename TEXT,\n",
      "    unix_time INTEGER,\n",
      "    subject TEXT,\n",
      "    from_eid INTEGER,\n",
      "    \n",
      "    PRIMARY KEY(mid ASC),\n",
      "    FOREIGN KEY(from_eid) REFERENCES Employee(eid)\n",
      ")\n",
      "CREATE TABLE RecipientBase (\n",
      "    mid INTEGER,\n",
      "    rno INTEGER,\n",
      "    to_eid INTEGER,\n",
      "    \n",
      "    PRIMARY KEY(mid ASC, rno ASC)\n",
      "    FOREIGN KEY(mid) REFERENCES Message(mid)\n",
      "    FOREIGN KEY(to_eid) REFERENCES Employee(eid)\n",
      ")\n"
     ]
    }
   ],
   "source": [
    "fields = c.execute(\"SELECT sql from sqlite_master WHERE type='table' and name='EmployeeBase';\").fetchall()\n",
    "print ''.join(fields[0])\n",
    "\n",
    "fields = c.execute(\"SELECT sql from sqlite_master WHERE type='table' and name='MessageBase';\").fetchall()\n",
    "print ''.join(fields[0])\n",
    "\n",
    "fields = c.execute(\"SELECT sql from sqlite_master WHERE type='table' and name='RecipientBase';\").fetchall()\n",
    "print ''.join(fields[0])"
   ]
  },
  {
   "cell_type": "markdown",
   "metadata": {},
   "source": [
    "1. Print the first 5 rows of EmployeeBase table\n",
    "1. Print the first 5 rows of MessageBase table\n",
    "1. Print the first 5 rows of RecipientBase table\n",
    "\n",
    "**Hint**  use `SELECT` and `LIMIT`."
   ]
  },
  {
   "cell_type": "code",
   "execution_count": 3,
   "metadata": {
    "collapsed": false
   },
   "outputs": [
    {
     "name": "stdout",
     "output_type": "stream",
     "text": [
      "(1, u'John Arnold', u'Forestry', u'ENA Gas Financial', u'VP Trading', u'Male', u'Senior')\n",
      "(2, u'Harry Arora', u'Forestry', u'ENA East Power', u'VP Trading', u'Male', u'Senior')\n",
      "(3, u'Robert Badeer', u'Forestry', u'ENA West Power', u'Mgr Trading', u'Male', u'Junior')\n",
      "(4, u'Susan Bailey', u'Legal', u'ENA Legal', u'Specialist Legal', u'Female', u'Junior')\n",
      "(5, u'Eric Bass', u'Forestry', u'ENA Gas Texas', u'Trader', u'Male', u'Junior')\n"
     ]
    }
   ],
   "source": [
    "results = c.execute(\"SELECT * FROM EmployeeBase LIMIT 5;\").fetchall()\n",
    "for row in results:\n",
    "    print row"
   ]
  },
  {
   "cell_type": "code",
   "execution_count": 4,
   "metadata": {
    "collapsed": false
   },
   "outputs": [
    {
     "name": "stdout",
     "output_type": "stream",
     "text": [
      "(1, u'taylor-m/sent/11', 910930020, u'Cd$ CME letter', 138)\n",
      "(2, u'taylor-m/sent/17', 911459940, u'Indemnification', 138)\n",
      "(3, u'taylor-m/sent/18', 911463840, u'Re: Indemnification', 138)\n",
      "(4, u'taylor-m/sent/23', 911874180, u'Re: Coral Energy, L.P.', 138)\n",
      "(5, u'taylor-m/sent/27', 912396120, u'Bankruptcy Code revisions', 138)\n"
     ]
    }
   ],
   "source": [
    "results = c.execute(\"SELECT * FROM MessageBase LIMIT 5;\").fetchall()\n",
    "for row in results:\n",
    "    print row"
   ]
  },
  {
   "cell_type": "code",
   "execution_count": 5,
   "metadata": {
    "collapsed": false,
    "scrolled": true
   },
   "outputs": [
    {
     "name": "stdout",
     "output_type": "stream",
     "text": [
      "(1, 1, 59)\n",
      "(2, 1, 15)\n",
      "(3, 1, 15)\n",
      "(4, 1, 109)\n",
      "(4, 2, 49)\n",
      "(4, 3, 120)\n",
      "(4, 4, 59)\n",
      "(5, 1, 45)\n",
      "(5, 2, 53)\n",
      "(6, 1, 113)\n"
     ]
    }
   ],
   "source": [
    "results = c.execute(\"SELECT * FROM RecipientBase LIMIT 10;\").fetchall()\n",
    "for row in results:\n",
    "    print row\n",
    "    \n",
    "# The first field is message id, the second is recipient number, and the third is the id of the recipient.\n",
    "# mid, rno, to_eid"
   ]
  },
  {
   "cell_type": "markdown",
   "metadata": {},
   "source": [
    "Import each of the 3 tables to a Pandas Dataframes"
   ]
  },
  {
   "cell_type": "code",
   "execution_count": 6,
   "metadata": {
    "collapsed": true
   },
   "outputs": [],
   "source": [
    "import pandas as pd\n",
    "employees = pd.read_sql(\"SELECT * FROM EmployeeBase;\", conn)\n",
    "recipients = pd.read_sql(\"SELECT * FROM RecipientBase;\", conn)\n",
    "messages = pd.read_sql(\"SELECT * FROM MessageBase;\", conn)"
   ]
  },
  {
   "cell_type": "code",
   "execution_count": 7,
   "metadata": {
    "collapsed": false
   },
   "outputs": [
    {
     "data": {
      "text/html": [
       "<div>\n",
       "<table border=\"1\" class=\"dataframe\">\n",
       "  <thead>\n",
       "    <tr style=\"text-align: right;\">\n",
       "      <th></th>\n",
       "      <th>mid</th>\n",
       "      <th>rno</th>\n",
       "      <th>to_eid</th>\n",
       "    </tr>\n",
       "  </thead>\n",
       "  <tbody>\n",
       "    <tr>\n",
       "      <th>0</th>\n",
       "      <td>1</td>\n",
       "      <td>1</td>\n",
       "      <td>59</td>\n",
       "    </tr>\n",
       "    <tr>\n",
       "      <th>1</th>\n",
       "      <td>2</td>\n",
       "      <td>1</td>\n",
       "      <td>15</td>\n",
       "    </tr>\n",
       "    <tr>\n",
       "      <th>2</th>\n",
       "      <td>3</td>\n",
       "      <td>1</td>\n",
       "      <td>15</td>\n",
       "    </tr>\n",
       "    <tr>\n",
       "      <th>3</th>\n",
       "      <td>4</td>\n",
       "      <td>1</td>\n",
       "      <td>109</td>\n",
       "    </tr>\n",
       "    <tr>\n",
       "      <th>4</th>\n",
       "      <td>4</td>\n",
       "      <td>2</td>\n",
       "      <td>49</td>\n",
       "    </tr>\n",
       "    <tr>\n",
       "      <th>5</th>\n",
       "      <td>4</td>\n",
       "      <td>3</td>\n",
       "      <td>120</td>\n",
       "    </tr>\n",
       "    <tr>\n",
       "      <th>6</th>\n",
       "      <td>4</td>\n",
       "      <td>4</td>\n",
       "      <td>59</td>\n",
       "    </tr>\n",
       "    <tr>\n",
       "      <th>7</th>\n",
       "      <td>5</td>\n",
       "      <td>1</td>\n",
       "      <td>45</td>\n",
       "    </tr>\n",
       "    <tr>\n",
       "      <th>8</th>\n",
       "      <td>5</td>\n",
       "      <td>2</td>\n",
       "      <td>53</td>\n",
       "    </tr>\n",
       "    <tr>\n",
       "      <th>9</th>\n",
       "      <td>6</td>\n",
       "      <td>1</td>\n",
       "      <td>113</td>\n",
       "    </tr>\n",
       "  </tbody>\n",
       "</table>\n",
       "</div>"
      ],
      "text/plain": [
       "   mid  rno  to_eid\n",
       "0    1    1      59\n",
       "1    2    1      15\n",
       "2    3    1      15\n",
       "3    4    1     109\n",
       "4    4    2      49\n",
       "5    4    3     120\n",
       "6    4    4      59\n",
       "7    5    1      45\n",
       "8    5    2      53\n",
       "9    6    1     113"
      ]
     },
     "execution_count": 7,
     "metadata": {},
     "output_type": "execute_result"
    }
   ],
   "source": [
    "recipients.head(10)"
   ]
  },
  {
   "cell_type": "markdown",
   "metadata": {},
   "source": [
    "## 2. Data Exploration\n",
    "\n",
    "Use the 3 dataframes to answer the following questions:\n",
    "\n",
    "1. How many employees are there in the company?\n",
    "- How many messages are there in the database?\n",
    "- Convert the timestamp column in the messages. When was the oldest message sent? And the newest?\n",
    "- Some messages are sent to more than one recipient. Group the messages by message_id and count the number of recepients. Then look at the distribution of recepient numbers.\n",
    "    - How many messages have only one recepient?\n",
    "    - How many messages have >= 5 recepients?\n",
    "    - What's the highest number of recepients?\n",
    "    - Who sent the message with the highest number of recepients?\n",
    "- Plot the distribution of recepient numbers using Bokeh."
   ]
  },
  {
   "cell_type": "code",
   "execution_count": 8,
   "metadata": {
    "collapsed": false
   },
   "outputs": [
    {
     "data": {
      "text/plain": [
       "156"
      ]
     },
     "execution_count": 8,
     "metadata": {},
     "output_type": "execute_result"
    }
   ],
   "source": [
    "len(employees)"
   ]
  },
  {
   "cell_type": "code",
   "execution_count": 9,
   "metadata": {
    "collapsed": false
   },
   "outputs": [
    {
     "data": {
      "text/plain": [
       "21635"
      ]
     },
     "execution_count": 9,
     "metadata": {},
     "output_type": "execute_result"
    }
   ],
   "source": [
    "len(messages)"
   ]
  },
  {
   "cell_type": "code",
   "execution_count": 10,
   "metadata": {
    "collapsed": false
   },
   "outputs": [
    {
     "name": "stdout",
     "output_type": "stream",
     "text": [
      "first msg was sent on: 1998-11-13 05:07:00\n",
      "last msg was sent on: 2002-06-21 15:37:34\n"
     ]
    }
   ],
   "source": [
    "datetimes = messages['unix_time'].apply(pd.datetime.fromtimestamp)\n",
    "print \"first msg was sent on:\", min(datetimes)\n",
    "print \"last msg was sent on:\", max(datetimes)"
   ]
  },
  {
   "cell_type": "code",
   "execution_count": 11,
   "metadata": {
    "collapsed": true
   },
   "outputs": [],
   "source": [
    "from collections import Counter"
   ]
  },
  {
   "cell_type": "code",
   "execution_count": 12,
   "metadata": {
    "collapsed": false
   },
   "outputs": [
    {
     "data": {
      "text/plain": [
       "Counter({1: 14985,\n",
       "         2: 2962,\n",
       "         3: 1435,\n",
       "         4: 873,\n",
       "         5: 711,\n",
       "         6: 180,\n",
       "         7: 176,\n",
       "         8: 61,\n",
       "         9: 24,\n",
       "         10: 29,\n",
       "         11: 47,\n",
       "         12: 33,\n",
       "         13: 57,\n",
       "         14: 11,\n",
       "         15: 28,\n",
       "         16: 9,\n",
       "         17: 2,\n",
       "         18: 1,\n",
       "         19: 1,\n",
       "         20: 1,\n",
       "         21: 2,\n",
       "         22: 1,\n",
       "         24: 1,\n",
       "         49: 1,\n",
       "         52: 1,\n",
       "         55: 1,\n",
       "         57: 2})"
      ]
     },
     "execution_count": 12,
     "metadata": {},
     "output_type": "execute_result"
    }
   ],
   "source": [
    "#counts = recipients.groupby('mid')['to_eid'].count().value_counts()\n",
    "counts = Counter(recipients.groupby('mid')['to_eid'].count())\n",
    "counts"
   ]
  },
  {
   "cell_type": "code",
   "execution_count": 13,
   "metadata": {
    "collapsed": false
   },
   "outputs": [
    {
     "data": {
      "text/html": [
       "\n",
       "\n",
       "    <script type=\"text/javascript\">\n",
       "      \n",
       "      (function(global) {\n",
       "        function now() {\n",
       "          return new Date();\n",
       "        }\n",
       "      \n",
       "        if (typeof (window._bokeh_onload_callbacks) === \"undefined\") {\n",
       "          window._bokeh_onload_callbacks = [];\n",
       "        }\n",
       "      \n",
       "        function run_callbacks() {\n",
       "          window._bokeh_onload_callbacks.forEach(function(callback) { callback() });\n",
       "          delete window._bokeh_onload_callbacks\n",
       "          console.info(\"Bokeh: all callbacks have finished\");\n",
       "        }\n",
       "      \n",
       "        function load_libs(js_urls, callback) {\n",
       "          window._bokeh_onload_callbacks.push(callback);\n",
       "          if (window._bokeh_is_loading > 0) {\n",
       "            console.log(\"Bokeh: BokehJS is being loaded, scheduling callback at\", now());\n",
       "            return null;\n",
       "          }\n",
       "          if (js_urls == null || js_urls.length === 0) {\n",
       "            run_callbacks();\n",
       "            return null;\n",
       "          }\n",
       "          console.log(\"Bokeh: BokehJS not loaded, scheduling load and callback at\", now());\n",
       "          window._bokeh_is_loading = js_urls.length;\n",
       "          for (var i = 0; i < js_urls.length; i++) {\n",
       "            var url = js_urls[i];\n",
       "            var s = document.createElement('script');\n",
       "            s.src = url;\n",
       "            s.async = false;\n",
       "            s.onreadystatechange = s.onload = function() {\n",
       "              window._bokeh_is_loading--;\n",
       "              if (window._bokeh_is_loading === 0) {\n",
       "                console.log(\"Bokeh: all BokehJS libraries loaded\");\n",
       "                run_callbacks()\n",
       "              }\n",
       "            };\n",
       "            s.onerror = function() {\n",
       "              console.warn(\"failed to load library \" + url);\n",
       "            };\n",
       "            console.log(\"Bokeh: injecting script tag for BokehJS library: \", url);\n",
       "            document.getElementsByTagName(\"head\")[0].appendChild(s);\n",
       "          }\n",
       "        };var js_urls = ['https://cdn.pydata.org/bokeh/release/bokeh-0.11.0.min.js', 'https://cdn.pydata.org/bokeh/release/bokeh-widgets-0.11.0.min.js', 'https://cdn.pydata.org/bokeh/release/bokeh-compiler-0.11.0.min.js'];\n",
       "      \n",
       "        var inline_js = [\n",
       "          function(Bokeh) {\n",
       "            Bokeh.set_log_level(\"info\");\n",
       "          },\n",
       "          function(Bokeh) {\n",
       "            console.log(\"Bokeh: injecting CSS: https://cdn.pydata.org/bokeh/release/bokeh-0.11.0.min.css\");\n",
       "            Bokeh.embed.inject_css(\"https://cdn.pydata.org/bokeh/release/bokeh-0.11.0.min.css\");\n",
       "            console.log(\"Bokeh: injecting CSS: https://cdn.pydata.org/bokeh/release/bokeh-widgets-0.11.0.min.css\");\n",
       "            Bokeh.embed.inject_css(\"https://cdn.pydata.org/bokeh/release/bokeh-widgets-0.11.0.min.css\");\n",
       "          }\n",
       "        ];\n",
       "      \n",
       "        function run_inline_js() {\n",
       "          for (var i = 0; i < inline_js.length; i++) {\n",
       "            inline_js[i](window.Bokeh);\n",
       "          }\n",
       "        }\n",
       "      \n",
       "        if (window._bokeh_is_loading === 0) {\n",
       "          console.log(\"Bokeh: BokehJS loaded, going straight to plotting\");\n",
       "          run_inline_js();\n",
       "        } else {\n",
       "          load_libs(js_urls, function() {\n",
       "            console.log(\"Bokeh: BokehJS plotting callback run at\", now());\n",
       "            run_inline_js();\n",
       "          });\n",
       "        }\n",
       "      }(this));\n",
       "    </script>\n",
       "    <div>\n",
       "        <a href=\"http://bokeh.pydata.org\" target=\"_blank\" class=\"bk-logo bk-logo-small bk-logo-notebook\"></a>\n",
       "        <span>BokehJS successfully loaded.</span>\n",
       "    </div>"
      ]
     },
     "metadata": {},
     "output_type": "display_data"
    }
   ],
   "source": [
    "from bokeh.plotting import figure,show,output_notebook\n",
    "output_notebook()"
   ]
  },
  {
   "cell_type": "code",
   "execution_count": 14,
   "metadata": {
    "collapsed": false
   },
   "outputs": [
    {
     "data": {
      "text/html": [
       "\n",
       "\n",
       "    <div class=\"plotdiv\" id=\"2dcc7324-e2f5-422e-af05-715743abc2fa\"></div>\n",
       "<script type=\"text/javascript\">\n",
       "  \n",
       "  (function(global) {\n",
       "    function now() {\n",
       "      return new Date();\n",
       "    }\n",
       "  \n",
       "    if (typeof (window._bokeh_onload_callbacks) === \"undefined\") {\n",
       "      window._bokeh_onload_callbacks = [];\n",
       "    }\n",
       "  \n",
       "    function run_callbacks() {\n",
       "      window._bokeh_onload_callbacks.forEach(function(callback) { callback() });\n",
       "      delete window._bokeh_onload_callbacks\n",
       "      console.info(\"Bokeh: all callbacks have finished\");\n",
       "    }\n",
       "  \n",
       "    function load_libs(js_urls, callback) {\n",
       "      window._bokeh_onload_callbacks.push(callback);\n",
       "      if (window._bokeh_is_loading > 0) {\n",
       "        console.log(\"Bokeh: BokehJS is being loaded, scheduling callback at\", now());\n",
       "        return null;\n",
       "      }\n",
       "      if (js_urls == null || js_urls.length === 0) {\n",
       "        run_callbacks();\n",
       "        return null;\n",
       "      }\n",
       "      console.log(\"Bokeh: BokehJS not loaded, scheduling load and callback at\", now());\n",
       "      window._bokeh_is_loading = js_urls.length;\n",
       "      for (var i = 0; i < js_urls.length; i++) {\n",
       "        var url = js_urls[i];\n",
       "        var s = document.createElement('script');\n",
       "        s.src = url;\n",
       "        s.async = false;\n",
       "        s.onreadystatechange = s.onload = function() {\n",
       "          window._bokeh_is_loading--;\n",
       "          if (window._bokeh_is_loading === 0) {\n",
       "            console.log(\"Bokeh: all BokehJS libraries loaded\");\n",
       "            run_callbacks()\n",
       "          }\n",
       "        };\n",
       "        s.onerror = function() {\n",
       "          console.warn(\"failed to load library \" + url);\n",
       "        };\n",
       "        console.log(\"Bokeh: injecting script tag for BokehJS library: \", url);\n",
       "        document.getElementsByTagName(\"head\")[0].appendChild(s);\n",
       "      }\n",
       "    };var element = document.getElementById(\"2dcc7324-e2f5-422e-af05-715743abc2fa\");\n",
       "    if (element == null) {\n",
       "      console.log(\"Bokeh: ERROR: autoload.js configured with elementid '2dcc7324-e2f5-422e-af05-715743abc2fa' but no matching script tag was found. \")\n",
       "      return false;\n",
       "    }var js_urls = [];\n",
       "  \n",
       "    var inline_js = [\n",
       "      function(Bokeh) {\n",
       "        Bokeh.$(function() {\n",
       "            var docs_json = {\"0e8837f0-a2d2-4cc6-b3b3-5c3c7c693108\": {\"version\": \"0.11.0\", \"roots\": {\"root_ids\": [\"3e5db17c-a469-4f7d-b981-ba627dc79948\"], \"references\": [{\"attributes\": {}, \"type\": \"BasicTickFormatter\", \"id\": \"9492a6da-1b28-4004-8f00-f1675d308672\"}, {\"attributes\": {}, \"type\": \"ToolEvents\", \"id\": \"095f64b8-7837-433d-97f7-cdb6385933d8\"}, {\"attributes\": {\"plot\": {\"subtype\": \"Figure\", \"type\": \"Plot\", \"id\": \"3e5db17c-a469-4f7d-b981-ba627dc79948\"}, \"ticker\": {\"type\": \"BasicTicker\", \"id\": \"0843d3c7-81e4-40ad-bd54-548b6ef8f6bb\"}}, \"type\": \"Grid\", \"id\": \"4ae35d43-2a9e-4518-8c00-69aaa71cd69b\"}, {\"attributes\": {\"plot\": {\"subtype\": \"Figure\", \"type\": \"Plot\", \"id\": \"3e5db17c-a469-4f7d-b981-ba627dc79948\"}, \"axis_label\": \"# of recipients\", \"formatter\": {\"type\": \"BasicTickFormatter\", \"id\": \"9492a6da-1b28-4004-8f00-f1675d308672\"}, \"ticker\": {\"type\": \"BasicTicker\", \"id\": \"0843d3c7-81e4-40ad-bd54-548b6ef8f6bb\"}}, \"type\": \"LinearAxis\", \"id\": \"75579777-55d1-4c73-9f34-ddd207d1af2d\"}, {\"attributes\": {}, \"type\": \"BasicTickFormatter\", \"id\": \"08784979-953c-429c-a928-ccf88773a61b\"}, {\"attributes\": {\"callback\": null}, \"type\": \"DataRange1d\", \"id\": \"0bb70fd2-9530-4a12-a52b-29bd3c5afbc8\"}, {\"attributes\": {\"callback\": null}, \"type\": \"DataRange1d\", \"id\": \"1f20f8cb-a8a4-412c-90c6-963ee5eb174c\"}, {\"attributes\": {\"x_range\": {\"type\": \"DataRange1d\", \"id\": \"0bb70fd2-9530-4a12-a52b-29bd3c5afbc8\"}, \"title\": \"Message Recipients\", \"renderers\": [{\"type\": \"LinearAxis\", \"id\": \"75579777-55d1-4c73-9f34-ddd207d1af2d\"}, {\"type\": \"Grid\", \"id\": \"4ae35d43-2a9e-4518-8c00-69aaa71cd69b\"}, {\"type\": \"LinearAxis\", \"id\": \"a6af1d09-8bee-4b11-84ca-621b70af4631\"}, {\"type\": \"Grid\", \"id\": \"a2252a10-1fcd-4048-a126-b3615efc32af\"}, {\"type\": \"GlyphRenderer\", \"id\": \"7a3b8ec0-aea5-4647-8ef9-baa74f94ee14\"}], \"below\": [{\"type\": \"LinearAxis\", \"id\": \"75579777-55d1-4c73-9f34-ddd207d1af2d\"}], \"tool_events\": {\"type\": \"ToolEvents\", \"id\": \"095f64b8-7837-433d-97f7-cdb6385933d8\"}, \"y_range\": {\"type\": \"DataRange1d\", \"id\": \"1f20f8cb-a8a4-412c-90c6-963ee5eb174c\"}, \"left\": [{\"type\": \"LinearAxis\", \"id\": \"a6af1d09-8bee-4b11-84ca-621b70af4631\"}]}, \"type\": \"Plot\", \"id\": \"3e5db17c-a469-4f7d-b981-ba627dc79948\", \"subtype\": \"Figure\"}, {\"attributes\": {}, \"type\": \"BasicTicker\", \"id\": \"27c2483a-6680-4889-bcce-df1961892c34\"}, {\"attributes\": {\"nonselection_glyph\": {\"type\": \"Quad\", \"id\": \"304e6612-f21a-4b20-b592-f6053bea7fde\"}, \"data_source\": {\"type\": \"ColumnDataSource\", \"id\": \"8075206b-1f87-4d07-8dc7-e7d51acf7216\"}, \"selection_glyph\": null, \"hover_glyph\": null, \"glyph\": {\"type\": \"Quad\", \"id\": \"de65c75b-6f8d-459d-89ec-886c2d158f49\"}}, \"type\": \"GlyphRenderer\", \"id\": \"7a3b8ec0-aea5-4647-8ef9-baa74f94ee14\"}, {\"attributes\": {\"plot\": {\"subtype\": \"Figure\", \"type\": \"Plot\", \"id\": \"3e5db17c-a469-4f7d-b981-ba627dc79948\"}, \"axis_label\": \"Counts\", \"formatter\": {\"type\": \"BasicTickFormatter\", \"id\": \"08784979-953c-429c-a928-ccf88773a61b\"}, \"ticker\": {\"type\": \"BasicTicker\", \"id\": \"27c2483a-6680-4889-bcce-df1961892c34\"}}, \"type\": \"LinearAxis\", \"id\": \"a6af1d09-8bee-4b11-84ca-621b70af4631\"}, {\"attributes\": {\"plot\": {\"subtype\": \"Figure\", \"type\": \"Plot\", \"id\": \"3e5db17c-a469-4f7d-b981-ba627dc79948\"}, \"ticker\": {\"type\": \"BasicTicker\", \"id\": \"27c2483a-6680-4889-bcce-df1961892c34\"}, \"dimension\": 1}, \"type\": \"Grid\", \"id\": \"a2252a10-1fcd-4048-a126-b3615efc32af\"}, {\"attributes\": {}, \"type\": \"BasicTicker\", \"id\": \"0843d3c7-81e4-40ad-bd54-548b6ef8f6bb\"}, {\"attributes\": {\"top\": {\"field\": \"top\"}, \"left\": {\"field\": \"left\"}, \"right\": {\"field\": \"right\"}, \"fill_color\": {\"value\": \"#1f77b4\"}, \"bottom\": {\"value\": 0}}, \"type\": \"Quad\", \"id\": \"de65c75b-6f8d-459d-89ec-886c2d158f49\"}, {\"attributes\": {\"line_color\": {\"value\": \"#1f77b4\"}, \"line_alpha\": {\"value\": 0.1}, \"right\": {\"field\": \"right\"}, \"fill_color\": {\"value\": \"#1f77b4\"}, \"bottom\": {\"value\": 0}, \"top\": {\"field\": \"top\"}, \"fill_alpha\": {\"value\": 0.1}, \"left\": {\"field\": \"left\"}}, \"type\": \"Quad\", \"id\": \"304e6612-f21a-4b20-b592-f6053bea7fde\"}, {\"attributes\": {\"callback\": null, \"column_names\": [\"top\", \"right\", \"left\"], \"data\": {\"top\": [14985, 2962, 1435, 873, 711, 180, 176, 61, 57, 47, 33, 29, 28, 24, 11, 9, 2, 2, 2, 1, 1, 1, 1, 1, 1, 1, 1], \"right\": [1.5, 2.5, 3.5, 4.5, 5.5, 6.5, 7.5, 8.5, 13.5, 11.5, 12.5, 10.5, 15.5, 9.5, 14.5, 16.5, 17.5, 21.5, 57.5, 18.5, 19.5, 20.5, 22.5, 24.5, 49.5, 52.5, 55.5], \"left\": [0.5, 1.5, 2.5, 3.5, 4.5, 5.5, 6.5, 7.5, 12.5, 10.5, 11.5, 9.5, 14.5, 8.5, 13.5, 15.5, 16.5, 20.5, 56.5, 17.5, 18.5, 19.5, 21.5, 23.5, 48.5, 51.5, 54.5]}}, \"type\": \"ColumnDataSource\", \"id\": \"8075206b-1f87-4d07-8dc7-e7d51acf7216\"}]}, \"title\": \"Bokeh Application\"}};\n",
       "            var render_items = [{\"notebook_comms_target\": \"9d570422-c43c-4f1a-a1f1-5bbf578621f0\", \"docid\": \"0e8837f0-a2d2-4cc6-b3b3-5c3c7c693108\", \"elementid\": \"2dcc7324-e2f5-422e-af05-715743abc2fa\", \"modelid\": \"3e5db17c-a469-4f7d-b981-ba627dc79948\"}];\n",
       "            \n",
       "            Bokeh.embed.embed_items(docs_json, render_items);\n",
       "        });\n",
       "      },\n",
       "      function(Bokeh) {\n",
       "      }\n",
       "    ];\n",
       "  \n",
       "    function run_inline_js() {\n",
       "      for (var i = 0; i < inline_js.length; i++) {\n",
       "        inline_js[i](window.Bokeh);\n",
       "      }\n",
       "    }\n",
       "  \n",
       "    if (window._bokeh_is_loading === 0) {\n",
       "      console.log(\"Bokeh: BokehJS loaded, going straight to plotting\");\n",
       "      run_inline_js();\n",
       "    } else {\n",
       "      load_libs(js_urls, function() {\n",
       "        console.log(\"Bokeh: BokehJS plotting callback run at\", now());\n",
       "        run_inline_js();\n",
       "      });\n",
       "    }\n",
       "  }(this));\n",
       "</script>"
      ]
     },
     "metadata": {},
     "output_type": "display_data"
    },
    {
     "data": {
      "text/plain": [
       "<bokeh.io._CommsHandle at 0x103a9d5d0>"
      ]
     },
     "execution_count": 14,
     "metadata": {},
     "output_type": "execute_result"
    }
   ],
   "source": [
    "x = [i[0] for i in counts.most_common()]\n",
    "y = [i[1] for i in counts.most_common()]\n",
    "left_border = [val-0.5 for val in x]\n",
    "right_border = [val+0.5 for val in x]\n",
    "\n",
    "\n",
    "p= figure(title=\"Message Recipients\",tools='',x_axis_label='# of recipients',y_axis_label='Counts')\n",
    "p.quad(top=y,left=left_border,right=right_border,bottom=0,line_color='black')\n",
    "show(p)"
   ]
  },
  {
   "cell_type": "markdown",
   "metadata": {},
   "source": [
    "Rescale to investigate the tail of the curve"
   ]
  },
  {
   "cell_type": "code",
   "execution_count": 15,
   "metadata": {
    "collapsed": false
   },
   "outputs": [
    {
     "data": {
      "text/html": [
       "\n",
       "\n",
       "    <div class=\"plotdiv\" id=\"9cdc9d73-e8bc-4cfe-aa3c-7d00d5e6a163\"></div>\n",
       "<script type=\"text/javascript\">\n",
       "  \n",
       "  (function(global) {\n",
       "    function now() {\n",
       "      return new Date();\n",
       "    }\n",
       "  \n",
       "    if (typeof (window._bokeh_onload_callbacks) === \"undefined\") {\n",
       "      window._bokeh_onload_callbacks = [];\n",
       "    }\n",
       "  \n",
       "    function run_callbacks() {\n",
       "      window._bokeh_onload_callbacks.forEach(function(callback) { callback() });\n",
       "      delete window._bokeh_onload_callbacks\n",
       "      console.info(\"Bokeh: all callbacks have finished\");\n",
       "    }\n",
       "  \n",
       "    function load_libs(js_urls, callback) {\n",
       "      window._bokeh_onload_callbacks.push(callback);\n",
       "      if (window._bokeh_is_loading > 0) {\n",
       "        console.log(\"Bokeh: BokehJS is being loaded, scheduling callback at\", now());\n",
       "        return null;\n",
       "      }\n",
       "      if (js_urls == null || js_urls.length === 0) {\n",
       "        run_callbacks();\n",
       "        return null;\n",
       "      }\n",
       "      console.log(\"Bokeh: BokehJS not loaded, scheduling load and callback at\", now());\n",
       "      window._bokeh_is_loading = js_urls.length;\n",
       "      for (var i = 0; i < js_urls.length; i++) {\n",
       "        var url = js_urls[i];\n",
       "        var s = document.createElement('script');\n",
       "        s.src = url;\n",
       "        s.async = false;\n",
       "        s.onreadystatechange = s.onload = function() {\n",
       "          window._bokeh_is_loading--;\n",
       "          if (window._bokeh_is_loading === 0) {\n",
       "            console.log(\"Bokeh: all BokehJS libraries loaded\");\n",
       "            run_callbacks()\n",
       "          }\n",
       "        };\n",
       "        s.onerror = function() {\n",
       "          console.warn(\"failed to load library \" + url);\n",
       "        };\n",
       "        console.log(\"Bokeh: injecting script tag for BokehJS library: \", url);\n",
       "        document.getElementsByTagName(\"head\")[0].appendChild(s);\n",
       "      }\n",
       "    };var element = document.getElementById(\"9cdc9d73-e8bc-4cfe-aa3c-7d00d5e6a163\");\n",
       "    if (element == null) {\n",
       "      console.log(\"Bokeh: ERROR: autoload.js configured with elementid '9cdc9d73-e8bc-4cfe-aa3c-7d00d5e6a163' but no matching script tag was found. \")\n",
       "      return false;\n",
       "    }var js_urls = [];\n",
       "  \n",
       "    var inline_js = [\n",
       "      function(Bokeh) {\n",
       "        Bokeh.$(function() {\n",
       "            var docs_json = {\"bc332509-a365-442d-9aae-6b49dff5bc14\": {\"version\": \"0.11.0\", \"roots\": {\"root_ids\": [\"3e5db17c-a469-4f7d-b981-ba627dc79948\", \"c80006ef-134b-40f1-a7ce-82773bf663de\"], \"references\": [{\"attributes\": {}, \"type\": \"ToolEvents\", \"id\": \"095f64b8-7837-433d-97f7-cdb6385933d8\"}, {\"attributes\": {}, \"type\": \"ToolEvents\", \"id\": \"3a153f4c-a835-421c-97b0-1297ae688938\"}, {\"attributes\": {\"callback\": null}, \"type\": \"DataRange1d\", \"id\": \"0bb70fd2-9530-4a12-a52b-29bd3c5afbc8\"}, {\"attributes\": {\"plot\": {\"subtype\": \"Figure\", \"type\": \"Plot\", \"id\": \"3e5db17c-a469-4f7d-b981-ba627dc79948\"}, \"axis_label\": \"Counts\", \"formatter\": {\"type\": \"BasicTickFormatter\", \"id\": \"08784979-953c-429c-a928-ccf88773a61b\"}, \"ticker\": {\"type\": \"BasicTicker\", \"id\": \"27c2483a-6680-4889-bcce-df1961892c34\"}}, \"type\": \"LinearAxis\", \"id\": \"a6af1d09-8bee-4b11-84ca-621b70af4631\"}, {\"attributes\": {\"plot\": {\"subtype\": \"Figure\", \"type\": \"Plot\", \"id\": \"c80006ef-134b-40f1-a7ce-82773bf663de\"}, \"axis_label\": \"# of recipients\", \"formatter\": {\"type\": \"BasicTickFormatter\", \"id\": \"fd65cb0f-9200-45ba-9bc1-518d7a16aea9\"}, \"ticker\": {\"type\": \"BasicTicker\", \"id\": \"613ecd80-04eb-4de2-8617-17101c534bf0\"}}, \"type\": \"LinearAxis\", \"id\": \"e6c387e7-f7c3-4f52-b978-2a2255363827\"}, {\"attributes\": {\"line_color\": {\"value\": \"#1f77b4\"}, \"line_alpha\": {\"value\": 0.1}, \"right\": {\"field\": \"right\"}, \"fill_color\": {\"value\": \"#1f77b4\"}, \"bottom\": {\"value\": 0}, \"top\": {\"field\": \"top\"}, \"fill_alpha\": {\"value\": 0.1}, \"left\": {\"field\": \"left\"}}, \"type\": \"Quad\", \"id\": \"83b08752-8c55-4a8a-ab11-273f48b217c5\"}, {\"attributes\": {\"callback\": null}, \"type\": \"DataRange1d\", \"id\": \"70f35a8e-97f4-4153-b764-6f14cf4aa21c\"}, {\"attributes\": {\"line_color\": {\"value\": \"#1f77b4\"}, \"line_alpha\": {\"value\": 0.1}, \"right\": {\"field\": \"right\"}, \"fill_color\": {\"value\": \"#1f77b4\"}, \"bottom\": {\"value\": 0}, \"top\": {\"field\": \"top\"}, \"fill_alpha\": {\"value\": 0.1}, \"left\": {\"field\": \"left\"}}, \"type\": \"Quad\", \"id\": \"304e6612-f21a-4b20-b592-f6053bea7fde\"}, {\"attributes\": {\"top\": {\"field\": \"top\"}, \"left\": {\"field\": \"left\"}, \"right\": {\"field\": \"right\"}, \"fill_color\": {\"value\": \"#1f77b4\"}, \"bottom\": {\"value\": 0}}, \"type\": \"Quad\", \"id\": \"c06cd1e4-d778-402a-871f-ee9d4d0325d4\"}, {\"attributes\": {\"plot\": {\"subtype\": \"Figure\", \"type\": \"Plot\", \"id\": \"c80006ef-134b-40f1-a7ce-82773bf663de\"}, \"ticker\": {\"type\": \"BasicTicker\", \"id\": \"613ecd80-04eb-4de2-8617-17101c534bf0\"}}, \"type\": \"Grid\", \"id\": \"75b5b2d6-0bb4-43de-b719-059d03754aba\"}, {\"attributes\": {}, \"type\": \"BasicTickFormatter\", \"id\": \"9492a6da-1b28-4004-8f00-f1675d308672\"}, {\"attributes\": {}, \"type\": \"BasicTickFormatter\", \"id\": \"fd65cb0f-9200-45ba-9bc1-518d7a16aea9\"}, {\"attributes\": {\"callback\": null, \"column_names\": [\"top\", \"right\", \"left\"], \"data\": {\"top\": [14985, 2962, 1435, 873, 711, 180, 176, 61, 57, 47, 33, 29, 28, 24, 11, 9, 2, 2, 2, 1, 1, 1, 1, 1, 1, 1, 1], \"right\": [1.5, 2.5, 3.5, 4.5, 5.5, 6.5, 7.5, 8.5, 13.5, 11.5, 12.5, 10.5, 15.5, 9.5, 14.5, 16.5, 17.5, 21.5, 57.5, 18.5, 19.5, 20.5, 22.5, 24.5, 49.5, 52.5, 55.5], \"left\": [0.5, 1.5, 2.5, 3.5, 4.5, 5.5, 6.5, 7.5, 12.5, 10.5, 11.5, 9.5, 14.5, 8.5, 13.5, 15.5, 16.5, 20.5, 56.5, 17.5, 18.5, 19.5, 21.5, 23.5, 48.5, 51.5, 54.5]}}, \"type\": \"ColumnDataSource\", \"id\": \"8075206b-1f87-4d07-8dc7-e7d51acf7216\"}, {\"attributes\": {}, \"type\": \"BasicTickFormatter\", \"id\": \"bcb8cdc5-a38a-4b54-a722-d8be2c2b47c8\"}, {\"attributes\": {\"x_range\": {\"type\": \"DataRange1d\", \"id\": \"f1d2a63d-5918-4309-b938-3540f4461706\"}, \"title\": \"Message Recipients\", \"renderers\": [{\"type\": \"LinearAxis\", \"id\": \"e6c387e7-f7c3-4f52-b978-2a2255363827\"}, {\"type\": \"Grid\", \"id\": \"75b5b2d6-0bb4-43de-b719-059d03754aba\"}, {\"type\": \"LinearAxis\", \"id\": \"04acf325-7534-4604-8f4b-ace6337b0e8b\"}, {\"type\": \"Grid\", \"id\": \"65f76f0b-cd94-46dc-a6f1-75b2c898cf0a\"}, {\"type\": \"GlyphRenderer\", \"id\": \"21d33e36-b9b1-480a-9f8a-771309787f9f\"}], \"below\": [{\"type\": \"LinearAxis\", \"id\": \"e6c387e7-f7c3-4f52-b978-2a2255363827\"}], \"tool_events\": {\"type\": \"ToolEvents\", \"id\": \"3a153f4c-a835-421c-97b0-1297ae688938\"}, \"y_range\": {\"type\": \"DataRange1d\", \"id\": \"70f35a8e-97f4-4153-b764-6f14cf4aa21c\"}, \"left\": [{\"type\": \"LinearAxis\", \"id\": \"04acf325-7534-4604-8f4b-ace6337b0e8b\"}]}, \"type\": \"Plot\", \"id\": \"c80006ef-134b-40f1-a7ce-82773bf663de\", \"subtype\": \"Figure\"}, {\"attributes\": {\"nonselection_glyph\": {\"type\": \"Quad\", \"id\": \"304e6612-f21a-4b20-b592-f6053bea7fde\"}, \"data_source\": {\"type\": \"ColumnDataSource\", \"id\": \"8075206b-1f87-4d07-8dc7-e7d51acf7216\"}, \"selection_glyph\": null, \"hover_glyph\": null, \"glyph\": {\"type\": \"Quad\", \"id\": \"de65c75b-6f8d-459d-89ec-886c2d158f49\"}}, \"type\": \"GlyphRenderer\", \"id\": \"7a3b8ec0-aea5-4647-8ef9-baa74f94ee14\"}, {\"attributes\": {\"plot\": {\"subtype\": \"Figure\", \"type\": \"Plot\", \"id\": \"3e5db17c-a469-4f7d-b981-ba627dc79948\"}, \"ticker\": {\"type\": \"BasicTicker\", \"id\": \"0843d3c7-81e4-40ad-bd54-548b6ef8f6bb\"}}, \"type\": \"Grid\", \"id\": \"4ae35d43-2a9e-4518-8c00-69aaa71cd69b\"}, {\"attributes\": {\"plot\": {\"subtype\": \"Figure\", \"type\": \"Plot\", \"id\": \"3e5db17c-a469-4f7d-b981-ba627dc79948\"}, \"axis_label\": \"# of recipients\", \"formatter\": {\"type\": \"BasicTickFormatter\", \"id\": \"9492a6da-1b28-4004-8f00-f1675d308672\"}, \"ticker\": {\"type\": \"BasicTicker\", \"id\": \"0843d3c7-81e4-40ad-bd54-548b6ef8f6bb\"}}, \"type\": \"LinearAxis\", \"id\": \"75579777-55d1-4c73-9f34-ddd207d1af2d\"}, {\"attributes\": {\"callback\": null}, \"type\": \"DataRange1d\", \"id\": \"1f20f8cb-a8a4-412c-90c6-963ee5eb174c\"}, {\"attributes\": {}, \"type\": \"BasicTicker\", \"id\": \"613ecd80-04eb-4de2-8617-17101c534bf0\"}, {\"attributes\": {}, \"type\": \"BasicTicker\", \"id\": \"27c2483a-6680-4889-bcce-df1961892c34\"}, {\"attributes\": {\"plot\": {\"subtype\": \"Figure\", \"type\": \"Plot\", \"id\": \"c80006ef-134b-40f1-a7ce-82773bf663de\"}, \"ticker\": {\"type\": \"BasicTicker\", \"id\": \"4870defc-e867-4479-9de2-df3e517f501f\"}, \"dimension\": 1}, \"type\": \"Grid\", \"id\": \"65f76f0b-cd94-46dc-a6f1-75b2c898cf0a\"}, {\"attributes\": {\"plot\": {\"subtype\": \"Figure\", \"type\": \"Plot\", \"id\": \"3e5db17c-a469-4f7d-b981-ba627dc79948\"}, \"ticker\": {\"type\": \"BasicTicker\", \"id\": \"27c2483a-6680-4889-bcce-df1961892c34\"}, \"dimension\": 1}, \"type\": \"Grid\", \"id\": \"a2252a10-1fcd-4048-a126-b3615efc32af\"}, {\"attributes\": {\"top\": {\"field\": \"top\"}, \"left\": {\"field\": \"left\"}, \"right\": {\"field\": \"right\"}, \"fill_color\": {\"value\": \"#1f77b4\"}, \"bottom\": {\"value\": 0}}, \"type\": \"Quad\", \"id\": \"de65c75b-6f8d-459d-89ec-886c2d158f49\"}, {\"attributes\": {\"callback\": null}, \"type\": \"DataRange1d\", \"id\": \"f1d2a63d-5918-4309-b938-3540f4461706\"}, {\"attributes\": {}, \"type\": \"BasicTicker\", \"id\": \"0843d3c7-81e4-40ad-bd54-548b6ef8f6bb\"}, {\"attributes\": {\"callback\": null, \"column_names\": [\"top\", \"right\", \"left\"], \"data\": {\"top\": [180, 176, 61, 57, 47, 33, 29, 28, 24, 11, 9, 2, 2, 2, 1, 1, 1, 1, 1, 1, 1, 1], \"right\": [6.5, 7.5, 8.5, 13.5, 11.5, 12.5, 10.5, 15.5, 9.5, 14.5, 16.5, 17.5, 21.5, 57.5, 18.5, 19.5, 20.5, 22.5, 24.5, 49.5, 52.5, 55.5], \"left\": [5.5, 6.5, 7.5, 12.5, 10.5, 11.5, 9.5, 14.5, 8.5, 13.5, 15.5, 16.5, 20.5, 56.5, 17.5, 18.5, 19.5, 21.5, 23.5, 48.5, 51.5, 54.5]}}, \"type\": \"ColumnDataSource\", \"id\": \"c233928e-fca0-4415-bb11-adbfcbcd70eb\"}, {\"attributes\": {}, \"type\": \"BasicTickFormatter\", \"id\": \"08784979-953c-429c-a928-ccf88773a61b\"}, {\"attributes\": {}, \"type\": \"BasicTicker\", \"id\": \"4870defc-e867-4479-9de2-df3e517f501f\"}, {\"attributes\": {\"nonselection_glyph\": {\"type\": \"Quad\", \"id\": \"83b08752-8c55-4a8a-ab11-273f48b217c5\"}, \"data_source\": {\"type\": \"ColumnDataSource\", \"id\": \"c233928e-fca0-4415-bb11-adbfcbcd70eb\"}, \"selection_glyph\": null, \"hover_glyph\": null, \"glyph\": {\"type\": \"Quad\", \"id\": \"c06cd1e4-d778-402a-871f-ee9d4d0325d4\"}}, \"type\": \"GlyphRenderer\", \"id\": \"21d33e36-b9b1-480a-9f8a-771309787f9f\"}, {\"attributes\": {\"x_range\": {\"type\": \"DataRange1d\", \"id\": \"0bb70fd2-9530-4a12-a52b-29bd3c5afbc8\"}, \"title\": \"Message Recipients\", \"renderers\": [{\"type\": \"LinearAxis\", \"id\": \"75579777-55d1-4c73-9f34-ddd207d1af2d\"}, {\"type\": \"Grid\", \"id\": \"4ae35d43-2a9e-4518-8c00-69aaa71cd69b\"}, {\"type\": \"LinearAxis\", \"id\": \"a6af1d09-8bee-4b11-84ca-621b70af4631\"}, {\"type\": \"Grid\", \"id\": \"a2252a10-1fcd-4048-a126-b3615efc32af\"}, {\"type\": \"GlyphRenderer\", \"id\": \"7a3b8ec0-aea5-4647-8ef9-baa74f94ee14\"}], \"below\": [{\"type\": \"LinearAxis\", \"id\": \"75579777-55d1-4c73-9f34-ddd207d1af2d\"}], \"tool_events\": {\"type\": \"ToolEvents\", \"id\": \"095f64b8-7837-433d-97f7-cdb6385933d8\"}, \"y_range\": {\"type\": \"DataRange1d\", \"id\": \"1f20f8cb-a8a4-412c-90c6-963ee5eb174c\"}, \"left\": [{\"type\": \"LinearAxis\", \"id\": \"a6af1d09-8bee-4b11-84ca-621b70af4631\"}]}, \"type\": \"Plot\", \"id\": \"3e5db17c-a469-4f7d-b981-ba627dc79948\", \"subtype\": \"Figure\"}, {\"attributes\": {\"plot\": {\"subtype\": \"Figure\", \"type\": \"Plot\", \"id\": \"c80006ef-134b-40f1-a7ce-82773bf663de\"}, \"axis_label\": \"Counts\", \"formatter\": {\"type\": \"BasicTickFormatter\", \"id\": \"bcb8cdc5-a38a-4b54-a722-d8be2c2b47c8\"}, \"ticker\": {\"type\": \"BasicTicker\", \"id\": \"4870defc-e867-4479-9de2-df3e517f501f\"}}, \"type\": \"LinearAxis\", \"id\": \"04acf325-7534-4604-8f4b-ace6337b0e8b\"}]}, \"title\": \"Bokeh Application\"}};\n",
       "            var render_items = [{\"notebook_comms_target\": \"d309015a-ecfe-4673-b175-bc09be18f1a9\", \"docid\": \"bc332509-a365-442d-9aae-6b49dff5bc14\", \"elementid\": \"9cdc9d73-e8bc-4cfe-aa3c-7d00d5e6a163\", \"modelid\": \"c80006ef-134b-40f1-a7ce-82773bf663de\"}];\n",
       "            \n",
       "            Bokeh.embed.embed_items(docs_json, render_items);\n",
       "        });\n",
       "      },\n",
       "      function(Bokeh) {\n",
       "      }\n",
       "    ];\n",
       "  \n",
       "    function run_inline_js() {\n",
       "      for (var i = 0; i < inline_js.length; i++) {\n",
       "        inline_js[i](window.Bokeh);\n",
       "      }\n",
       "    }\n",
       "  \n",
       "    if (window._bokeh_is_loading === 0) {\n",
       "      console.log(\"Bokeh: BokehJS loaded, going straight to plotting\");\n",
       "      run_inline_js();\n",
       "    } else {\n",
       "      load_libs(js_urls, function() {\n",
       "        console.log(\"Bokeh: BokehJS plotting callback run at\", now());\n",
       "        run_inline_js();\n",
       "      });\n",
       "    }\n",
       "  }(this));\n",
       "</script>"
      ]
     },
     "metadata": {},
     "output_type": "display_data"
    },
    {
     "data": {
      "text/plain": [
       "<bokeh.io._CommsHandle at 0x1136c5990>"
      ]
     },
     "execution_count": 15,
     "metadata": {},
     "output_type": "execute_result"
    }
   ],
   "source": [
    "x = [i[0] for i in counts.most_common()[5:]]  # chop off the first 5\n",
    "y = [i[1] for i in counts.most_common()[5:]]  # chop off the first 5\n",
    "left_border = [val-0.5 for val in x]\n",
    "right_border = [val+0.5 for val in x]\n",
    "\n",
    "\n",
    "p= figure(title=\"Message Recipients\",tools='',x_axis_label='# of recipients',y_axis_label='Counts')\n",
    "p.quad(top=y,left=left_border,right=right_border,bottom=0,line_color='black')\n",
    "show(p)"
   ]
  },
  {
   "cell_type": "markdown",
   "metadata": {},
   "source": [
    "## 3. Data Merging\n",
    "\n",
    "Use the pandas merge function to combine the information in the 3 dataframes to answer the following questions:\n",
    "\n",
    "1. Are there more Men or Women employees?\n",
    "- How is gender distributed across departments?\n",
    "- Who is sending more emails? Men or Women?\n",
    "- What's the average number of emails sent by each gender?\n",
    "- Are there more Juniors or Seniors?\n",
    "- Who is sending more emails? Juniors or Seniors?\n",
    "- Which department is sending more emails? How does that relate with the number of employees in the department?\n",
    "- Who are the top 3 senders of emails? (people who sent out the most emails)"
   ]
  },
  {
   "cell_type": "code",
   "execution_count": 16,
   "metadata": {
    "collapsed": false
   },
   "outputs": [
    {
     "data": {
      "text/plain": [
       "Male      113\n",
       "Female     43\n",
       "Name: gender, dtype: int64"
      ]
     },
     "execution_count": 16,
     "metadata": {},
     "output_type": "execute_result"
    }
   ],
   "source": [
    "employees.gender.value_counts()"
   ]
  },
  {
   "cell_type": "markdown",
   "metadata": {},
   "source": [
    "More men"
   ]
  },
  {
   "cell_type": "code",
   "execution_count": 17,
   "metadata": {
    "collapsed": false
   },
   "outputs": [
    {
     "data": {
      "text/plain": [
       "Male      0.724359\n",
       "Female    0.275641\n",
       "Name: gender, dtype: float64"
      ]
     },
     "execution_count": 17,
     "metadata": {},
     "output_type": "execute_result"
    }
   ],
   "source": [
    "employees.gender.value_counts() / employees.gender.count()"
   ]
  },
  {
   "cell_type": "code",
   "execution_count": 18,
   "metadata": {
    "collapsed": false
   },
   "outputs": [
    {
     "data": {
      "text/plain": [
       "department  gender\n",
       "Forestry    Male      0.833333\n",
       "            Female    0.166667\n",
       "Legal       Female    0.520000\n",
       "            Male      0.480000\n",
       "Other       Male      0.718310\n",
       "            Female    0.281690\n",
       "dtype: float64"
      ]
     },
     "execution_count": 18,
     "metadata": {},
     "output_type": "execute_result"
    }
   ],
   "source": [
    "# How is gender distributed across departments?\n",
    "employees.groupby('department')['gender'].value_counts() / employees.groupby('department')['gender'].count()"
   ]
  },
  {
   "cell_type": "markdown",
   "metadata": {},
   "source": [
    "    Forestry 83% Male\n",
    "    Legal    48% Male\n",
    "    Other    72% Male\n",
    "    Company  72% Male"
   ]
  },
  {
   "cell_type": "code",
   "execution_count": 19,
   "metadata": {
    "collapsed": false
   },
   "outputs": [
    {
     "data": {
      "text/plain": [
       "Male      0.593529\n",
       "Female    0.406471\n",
       "Name: gender, dtype: float64"
      ]
     },
     "execution_count": 19,
     "metadata": {},
     "output_type": "execute_result"
    }
   ],
   "source": [
    "# Who is sending more emails? Men or Women?\n",
    "df = pd.merge(employees, messages, left_on='eid', right_on='from_eid')\n",
    "df.gender.value_counts() / df.gender.count()"
   ]
  },
  {
   "cell_type": "code",
   "execution_count": 20,
   "metadata": {
    "collapsed": false
   },
   "outputs": [
    {
     "data": {
      "text/plain": [
       "Male      113.637168\n",
       "Female    204.511628\n",
       "Name: gender, dtype: float64"
      ]
     },
     "execution_count": 20,
     "metadata": {},
     "output_type": "execute_result"
    }
   ],
   "source": [
    "# What's the average number of emails sent by each gender?\n",
    "df.gender.value_counts() / employees.gender.value_counts()"
   ]
  },
  {
   "cell_type": "markdown",
   "metadata": {},
   "source": [
    "Women sent almost twice as many messages on average"
   ]
  },
  {
   "cell_type": "code",
   "execution_count": 21,
   "metadata": {
    "collapsed": false
   },
   "outputs": [
    {
     "data": {
      "text/plain": [
       "Junior    82\n",
       "Senior    74\n",
       "Name: seniority, dtype: int64"
      ]
     },
     "execution_count": 21,
     "metadata": {},
     "output_type": "execute_result"
    }
   ],
   "source": [
    "employees.seniority.value_counts()"
   ]
  },
  {
   "cell_type": "code",
   "execution_count": 22,
   "metadata": {
    "collapsed": false
   },
   "outputs": [
    {
     "data": {
      "text/plain": [
       "Senior    12439\n",
       "Junior     9196\n",
       "Name: seniority, dtype: int64"
      ]
     },
     "execution_count": 22,
     "metadata": {},
     "output_type": "execute_result"
    }
   ],
   "source": [
    "df.seniority.value_counts()"
   ]
  },
  {
   "cell_type": "code",
   "execution_count": 23,
   "metadata": {
    "collapsed": false
   },
   "outputs": [
    {
     "data": {
      "text/plain": [
       "Junior    112.146341\n",
       "Senior    168.094595\n",
       "Name: seniority, dtype: float64"
      ]
     },
     "execution_count": 23,
     "metadata": {},
     "output_type": "execute_result"
    }
   ],
   "source": [
    "df.seniority.value_counts() / employees.seniority.value_counts()"
   ]
  },
  {
   "cell_type": "markdown",
   "metadata": {},
   "source": [
    "Senior employees send more messages in absolute value and also on average"
   ]
  },
  {
   "cell_type": "code",
   "execution_count": 24,
   "metadata": {
    "collapsed": false
   },
   "outputs": [
    {
     "data": {
      "text/plain": [
       "Legal       10396\n",
       "Other        6852\n",
       "Forestry     4387\n",
       "Name: department, dtype: int64"
      ]
     },
     "execution_count": 24,
     "metadata": {},
     "output_type": "execute_result"
    }
   ],
   "source": [
    "# Which department is sending more emails? How does that relate with the number of employees in the department?\n",
    "df.department.value_counts()"
   ]
  },
  {
   "cell_type": "code",
   "execution_count": 25,
   "metadata": {
    "collapsed": false
   },
   "outputs": [
    {
     "data": {
      "text/plain": [
       "Forestry     73.116667\n",
       "Legal       415.840000\n",
       "Other        96.507042\n",
       "Name: department, dtype: float64"
      ]
     },
     "execution_count": 25,
     "metadata": {},
     "output_type": "execute_result"
    }
   ],
   "source": [
    "df.department.value_counts() / employees.department.value_counts()"
   ]
  },
  {
   "cell_type": "markdown",
   "metadata": {},
   "source": [
    "Legal is sending many more messages than the other departments"
   ]
  },
  {
   "cell_type": "code",
   "execution_count": 26,
   "metadata": {
    "collapsed": false
   },
   "outputs": [
    {
     "data": {
      "text/html": [
       "<div>\n",
       "<table border=\"1\" class=\"dataframe\">\n",
       "  <thead>\n",
       "    <tr style=\"text-align: right;\">\n",
       "      <th></th>\n",
       "      <th>eid</th>\n",
       "      <th>msgs_sent</th>\n",
       "    </tr>\n",
       "  </thead>\n",
       "  <tbody>\n",
       "    <tr>\n",
       "      <th>0</th>\n",
       "      <td>20</td>\n",
       "      <td>1597</td>\n",
       "    </tr>\n",
       "    <tr>\n",
       "      <th>1</th>\n",
       "      <td>59</td>\n",
       "      <td>1379</td>\n",
       "    </tr>\n",
       "    <tr>\n",
       "      <th>2</th>\n",
       "      <td>120</td>\n",
       "      <td>1142</td>\n",
       "    </tr>\n",
       "    <tr>\n",
       "      <th>3</th>\n",
       "      <td>131</td>\n",
       "      <td>859</td>\n",
       "    </tr>\n",
       "    <tr>\n",
       "      <th>4</th>\n",
       "      <td>138</td>\n",
       "      <td>658</td>\n",
       "    </tr>\n",
       "  </tbody>\n",
       "</table>\n",
       "</div>"
      ],
      "text/plain": [
       "   eid  msgs_sent\n",
       "0   20       1597\n",
       "1   59       1379\n",
       "2  120       1142\n",
       "3  131        859\n",
       "4  138        658"
      ]
     },
     "execution_count": 26,
     "metadata": {},
     "output_type": "execute_result"
    }
   ],
   "source": [
    "# Who are the top 5 senders of emails? (people who sent out the most emails)\n",
    "top5senders = df.eid.value_counts().head().reset_index()\n",
    "top5senders.columns = ['eid', 'msgs_sent']\n",
    "top5senders"
   ]
  },
  {
   "cell_type": "code",
   "execution_count": 27,
   "metadata": {
    "collapsed": false
   },
   "outputs": [
    {
     "data": {
      "text/html": [
       "<div>\n",
       "<table border=\"1\" class=\"dataframe\">\n",
       "  <thead>\n",
       "    <tr style=\"text-align: right;\">\n",
       "      <th></th>\n",
       "      <th>eid</th>\n",
       "      <th>name</th>\n",
       "      <th>department</th>\n",
       "      <th>longdepartment</th>\n",
       "      <th>title</th>\n",
       "      <th>gender</th>\n",
       "      <th>seniority</th>\n",
       "      <th>msgs_sent</th>\n",
       "    </tr>\n",
       "  </thead>\n",
       "  <tbody>\n",
       "    <tr>\n",
       "      <th>0</th>\n",
       "      <td>20</td>\n",
       "      <td>Jeff Dasovich</td>\n",
       "      <td>Legal</td>\n",
       "      <td>Regulatory and Government Affairs</td>\n",
       "      <td>Director</td>\n",
       "      <td>Male</td>\n",
       "      <td>Senior</td>\n",
       "      <td>1597</td>\n",
       "    </tr>\n",
       "    <tr>\n",
       "      <th>1</th>\n",
       "      <td>59</td>\n",
       "      <td>Tana Jones</td>\n",
       "      <td>Legal</td>\n",
       "      <td>ENA Legal</td>\n",
       "      <td>Specialist Legal</td>\n",
       "      <td>Female</td>\n",
       "      <td>Junior</td>\n",
       "      <td>1379</td>\n",
       "    </tr>\n",
       "    <tr>\n",
       "      <th>2</th>\n",
       "      <td>120</td>\n",
       "      <td>Sara Shackleton</td>\n",
       "      <td>Legal</td>\n",
       "      <td>ENA Legal</td>\n",
       "      <td>Gen Cnsl Asst</td>\n",
       "      <td>Female</td>\n",
       "      <td>Junior</td>\n",
       "      <td>1142</td>\n",
       "    </tr>\n",
       "    <tr>\n",
       "      <th>3</th>\n",
       "      <td>131</td>\n",
       "      <td>James D. Steffes</td>\n",
       "      <td>Legal</td>\n",
       "      <td>Regulatory and Government Affairs</td>\n",
       "      <td>VP of Government Affairs</td>\n",
       "      <td>Male</td>\n",
       "      <td>Senior</td>\n",
       "      <td>859</td>\n",
       "    </tr>\n",
       "    <tr>\n",
       "      <th>4</th>\n",
       "      <td>138</td>\n",
       "      <td>Mark E. Taylor</td>\n",
       "      <td>Legal</td>\n",
       "      <td>ENA Legal</td>\n",
       "      <td>VP &amp; Gen Cnsl</td>\n",
       "      <td>Male</td>\n",
       "      <td>Senior</td>\n",
       "      <td>658</td>\n",
       "    </tr>\n",
       "  </tbody>\n",
       "</table>\n",
       "</div>"
      ],
      "text/plain": [
       "   eid              name department                     longdepartment  \\\n",
       "0   20     Jeff Dasovich      Legal  Regulatory and Government Affairs   \n",
       "1   59        Tana Jones      Legal                          ENA Legal   \n",
       "2  120   Sara Shackleton      Legal                          ENA Legal   \n",
       "3  131  James D. Steffes      Legal  Regulatory and Government Affairs   \n",
       "4  138    Mark E. Taylor      Legal                          ENA Legal   \n",
       "\n",
       "                      title  gender seniority  msgs_sent  \n",
       "0                  Director    Male    Senior       1597  \n",
       "1          Specialist Legal  Female    Junior       1379  \n",
       "2             Gen Cnsl Asst  Female    Junior       1142  \n",
       "3  VP of Government Affairs    Male    Senior        859  \n",
       "4             VP & Gen Cnsl    Male    Senior        658  "
      ]
     },
     "execution_count": 27,
     "metadata": {},
     "output_type": "execute_result"
    }
   ],
   "source": [
    "pd.merge(employees, top5senders, on='eid')"
   ]
  },
  {
   "cell_type": "markdown",
   "metadata": {},
   "source": [
    "# 3.b (Optional) More merging\n",
    "\n",
    "Answer the following questions regarding received messages:\n",
    "\n",
    "- Who is receiving more emails? Men or Women?\n",
    "- Who is receiving more emails? Juniors or Seniors?\n",
    "- Which department is receiving more emails? How does that relate with the number of employees in the department?\n",
    "- Who are the top 5 receivers of emails? (people who received the most emails)"
   ]
  },
  {
   "cell_type": "code",
   "execution_count": 28,
   "metadata": {
    "collapsed": true
   },
   "outputs": [],
   "source": [
    "# Who is receiving more emails? Men or Women?"
   ]
  },
  {
   "cell_type": "code",
   "execution_count": 29,
   "metadata": {
    "collapsed": false
   },
   "outputs": [
    {
     "data": {
      "text/html": [
       "<div>\n",
       "<table border=\"1\" class=\"dataframe\">\n",
       "  <thead>\n",
       "    <tr style=\"text-align: right;\">\n",
       "      <th></th>\n",
       "      <th>eid_x</th>\n",
       "      <th>name_x</th>\n",
       "      <th>department_x</th>\n",
       "      <th>longdepartment_x</th>\n",
       "      <th>title_x</th>\n",
       "      <th>gender_x</th>\n",
       "      <th>seniority_x</th>\n",
       "      <th>mid</th>\n",
       "      <th>filename</th>\n",
       "      <th>unix_time</th>\n",
       "      <th>...</th>\n",
       "      <th>from_eid</th>\n",
       "      <th>rno</th>\n",
       "      <th>to_eid</th>\n",
       "      <th>eid_y</th>\n",
       "      <th>name_y</th>\n",
       "      <th>department_y</th>\n",
       "      <th>longdepartment_y</th>\n",
       "      <th>title_y</th>\n",
       "      <th>gender_y</th>\n",
       "      <th>seniority_y</th>\n",
       "    </tr>\n",
       "  </thead>\n",
       "  <tbody>\n",
       "    <tr>\n",
       "      <th>0</th>\n",
       "      <td>1</td>\n",
       "      <td>John Arnold</td>\n",
       "      <td>Forestry</td>\n",
       "      <td>ENA Gas Financial</td>\n",
       "      <td>VP Trading</td>\n",
       "      <td>Male</td>\n",
       "      <td>Senior</td>\n",
       "      <td>1611</td>\n",
       "      <td>arnold-j/sent/379</td>\n",
       "      <td>954317280</td>\n",
       "      <td>...</td>\n",
       "      <td>1</td>\n",
       "      <td>1</td>\n",
       "      <td>42</td>\n",
       "      <td>42</td>\n",
       "      <td>John Griffith</td>\n",
       "      <td>Forestry</td>\n",
       "      <td>ENA Gas Financial</td>\n",
       "      <td>Mgr Trading</td>\n",
       "      <td>Male</td>\n",
       "      <td>Junior</td>\n",
       "    </tr>\n",
       "    <tr>\n",
       "      <th>1</th>\n",
       "      <td>1</td>\n",
       "      <td>John Arnold</td>\n",
       "      <td>Forestry</td>\n",
       "      <td>ENA Gas Financial</td>\n",
       "      <td>VP Trading</td>\n",
       "      <td>Male</td>\n",
       "      <td>Senior</td>\n",
       "      <td>4828</td>\n",
       "      <td>arnold-j/sent/151</td>\n",
       "      <td>970463160</td>\n",
       "      <td>...</td>\n",
       "      <td>1</td>\n",
       "      <td>3</td>\n",
       "      <td>42</td>\n",
       "      <td>42</td>\n",
       "      <td>John Griffith</td>\n",
       "      <td>Forestry</td>\n",
       "      <td>ENA Gas Financial</td>\n",
       "      <td>Mgr Trading</td>\n",
       "      <td>Male</td>\n",
       "      <td>Junior</td>\n",
       "    </tr>\n",
       "    <tr>\n",
       "      <th>2</th>\n",
       "      <td>1</td>\n",
       "      <td>John Arnold</td>\n",
       "      <td>Forestry</td>\n",
       "      <td>ENA Gas Financial</td>\n",
       "      <td>VP Trading</td>\n",
       "      <td>Male</td>\n",
       "      <td>Senior</td>\n",
       "      <td>5026</td>\n",
       "      <td>arnold-j/sent/132</td>\n",
       "      <td>971078940</td>\n",
       "      <td>...</td>\n",
       "      <td>1</td>\n",
       "      <td>1</td>\n",
       "      <td>42</td>\n",
       "      <td>42</td>\n",
       "      <td>John Griffith</td>\n",
       "      <td>Forestry</td>\n",
       "      <td>ENA Gas Financial</td>\n",
       "      <td>Mgr Trading</td>\n",
       "      <td>Male</td>\n",
       "      <td>Junior</td>\n",
       "    </tr>\n",
       "    <tr>\n",
       "      <th>3</th>\n",
       "      <td>1</td>\n",
       "      <td>John Arnold</td>\n",
       "      <td>Forestry</td>\n",
       "      <td>ENA Gas Financial</td>\n",
       "      <td>VP Trading</td>\n",
       "      <td>Male</td>\n",
       "      <td>Senior</td>\n",
       "      <td>7579</td>\n",
       "      <td>arnold-j/sent/774</td>\n",
       "      <td>978509400</td>\n",
       "      <td>...</td>\n",
       "      <td>1</td>\n",
       "      <td>1</td>\n",
       "      <td>42</td>\n",
       "      <td>42</td>\n",
       "      <td>John Griffith</td>\n",
       "      <td>Forestry</td>\n",
       "      <td>ENA Gas Financial</td>\n",
       "      <td>Mgr Trading</td>\n",
       "      <td>Male</td>\n",
       "      <td>Junior</td>\n",
       "    </tr>\n",
       "    <tr>\n",
       "      <th>4</th>\n",
       "      <td>1</td>\n",
       "      <td>John Arnold</td>\n",
       "      <td>Forestry</td>\n",
       "      <td>ENA Gas Financial</td>\n",
       "      <td>VP Trading</td>\n",
       "      <td>Male</td>\n",
       "      <td>Senior</td>\n",
       "      <td>10581</td>\n",
       "      <td>arnold-j/sent/526</td>\n",
       "      <td>986536620</td>\n",
       "      <td>...</td>\n",
       "      <td>1</td>\n",
       "      <td>1</td>\n",
       "      <td>42</td>\n",
       "      <td>42</td>\n",
       "      <td>John Griffith</td>\n",
       "      <td>Forestry</td>\n",
       "      <td>ENA Gas Financial</td>\n",
       "      <td>Mgr Trading</td>\n",
       "      <td>Male</td>\n",
       "      <td>Junior</td>\n",
       "    </tr>\n",
       "  </tbody>\n",
       "</table>\n",
       "<p>5 rows × 21 columns</p>\n",
       "</div>"
      ],
      "text/plain": [
       "   eid_x       name_x department_x   longdepartment_x     title_x gender_x  \\\n",
       "0      1  John Arnold     Forestry  ENA Gas Financial  VP Trading     Male   \n",
       "1      1  John Arnold     Forestry  ENA Gas Financial  VP Trading     Male   \n",
       "2      1  John Arnold     Forestry  ENA Gas Financial  VP Trading     Male   \n",
       "3      1  John Arnold     Forestry  ENA Gas Financial  VP Trading     Male   \n",
       "4      1  John Arnold     Forestry  ENA Gas Financial  VP Trading     Male   \n",
       "\n",
       "  seniority_x    mid           filename  unix_time     ...     from_eid  rno  \\\n",
       "0      Senior   1611  arnold-j/sent/379  954317280     ...            1    1   \n",
       "1      Senior   4828  arnold-j/sent/151  970463160     ...            1    3   \n",
       "2      Senior   5026  arnold-j/sent/132  971078940     ...            1    1   \n",
       "3      Senior   7579  arnold-j/sent/774  978509400     ...            1    1   \n",
       "4      Senior  10581  arnold-j/sent/526  986536620     ...            1    1   \n",
       "\n",
       "   to_eid  eid_y         name_y department_y   longdepartment_y      title_y  \\\n",
       "0      42     42  John Griffith     Forestry  ENA Gas Financial  Mgr Trading   \n",
       "1      42     42  John Griffith     Forestry  ENA Gas Financial  Mgr Trading   \n",
       "2      42     42  John Griffith     Forestry  ENA Gas Financial  Mgr Trading   \n",
       "3      42     42  John Griffith     Forestry  ENA Gas Financial  Mgr Trading   \n",
       "4      42     42  John Griffith     Forestry  ENA Gas Financial  Mgr Trading   \n",
       "\n",
       "  gender_y seniority_y  \n",
       "0     Male      Junior  \n",
       "1     Male      Junior  \n",
       "2     Male      Junior  \n",
       "3     Male      Junior  \n",
       "4     Male      Junior  \n",
       "\n",
       "[5 rows x 21 columns]"
      ]
     },
     "execution_count": 29,
     "metadata": {},
     "output_type": "execute_result"
    }
   ],
   "source": [
    "df1 = pd.merge(df, recipients, on='mid')\n",
    "df2 = pd.merge(df1, employees, left_on='to_eid', right_on='eid')\n",
    "df2.head()"
   ]
  },
  {
   "cell_type": "code",
   "execution_count": 30,
   "metadata": {
    "collapsed": false
   },
   "outputs": [
    {
     "data": {
      "text/plain": [
       "Male      0.665547\n",
       "Female    0.334453\n",
       "Name: gender_y, dtype: float64"
      ]
     },
     "execution_count": 30,
     "metadata": {},
     "output_type": "execute_result"
    }
   ],
   "source": [
    "df2.gender_y.value_counts() / df2.gender_y.count()"
   ]
  },
  {
   "cell_type": "code",
   "execution_count": 31,
   "metadata": {
    "collapsed": false
   },
   "outputs": [
    {
     "data": {
      "text/plain": [
       "Male      226.097345\n",
       "Female    298.581395\n",
       "dtype: float64"
      ]
     },
     "execution_count": 31,
     "metadata": {},
     "output_type": "execute_result"
    }
   ],
   "source": [
    "df2.gender_y.value_counts() / employees.gender.value_counts()"
   ]
  },
  {
   "cell_type": "code",
   "execution_count": 32,
   "metadata": {
    "collapsed": false
   },
   "outputs": [
    {
     "data": {
      "text/plain": [
       "Senior    0.623476\n",
       "Junior    0.376524\n",
       "Name: seniority_y, dtype: float64"
      ]
     },
     "execution_count": 32,
     "metadata": {},
     "output_type": "execute_result"
    }
   ],
   "source": [
    "# Who is receiving more emails? Juniors or Seniors?\n",
    "df2.seniority_y.value_counts() / df2.seniority_y.count()"
   ]
  },
  {
   "cell_type": "code",
   "execution_count": 33,
   "metadata": {
    "collapsed": false
   },
   "outputs": [
    {
     "data": {
      "text/plain": [
       "Junior    176.268293\n",
       "Senior    323.432432\n",
       "dtype: float64"
      ]
     },
     "execution_count": 33,
     "metadata": {},
     "output_type": "execute_result"
    }
   ],
   "source": [
    "df2.seniority_y.value_counts() / employees.seniority.value_counts()"
   ]
  },
  {
   "cell_type": "code",
   "execution_count": 34,
   "metadata": {
    "collapsed": false
   },
   "outputs": [
    {
     "data": {
      "text/plain": [
       "Legal       16311\n",
       "Other       13653\n",
       "Forestry     8424\n",
       "Name: department_y, dtype: int64"
      ]
     },
     "execution_count": 34,
     "metadata": {},
     "output_type": "execute_result"
    }
   ],
   "source": [
    "# Which department is receiving more emails? How does that relate with the number of employees in the department?\n",
    "df2.department_y.value_counts()"
   ]
  },
  {
   "cell_type": "code",
   "execution_count": 35,
   "metadata": {
    "collapsed": false
   },
   "outputs": [
    {
     "data": {
      "text/plain": [
       "Forestry    140.400000\n",
       "Legal       652.440000\n",
       "Other       192.295775\n",
       "dtype: float64"
      ]
     },
     "execution_count": 35,
     "metadata": {},
     "output_type": "execute_result"
    }
   ],
   "source": [
    "df2.department_y.value_counts() / employees.department.value_counts()"
   ]
  },
  {
   "cell_type": "code",
   "execution_count": 36,
   "metadata": {
    "collapsed": false
   },
   "outputs": [
    {
     "data": {
      "text/html": [
       "<div>\n",
       "<table border=\"1\" class=\"dataframe\">\n",
       "  <thead>\n",
       "    <tr style=\"text-align: right;\">\n",
       "      <th></th>\n",
       "      <th>eid</th>\n",
       "      <th>msgs_received</th>\n",
       "    </tr>\n",
       "  </thead>\n",
       "  <tbody>\n",
       "    <tr>\n",
       "      <th>0</th>\n",
       "      <td>131</td>\n",
       "      <td>1797</td>\n",
       "    </tr>\n",
       "    <tr>\n",
       "      <th>1</th>\n",
       "      <td>122</td>\n",
       "      <td>1730</td>\n",
       "    </tr>\n",
       "    <tr>\n",
       "      <th>2</th>\n",
       "      <td>138</td>\n",
       "      <td>1477</td>\n",
       "    </tr>\n",
       "    <tr>\n",
       "      <th>3</th>\n",
       "      <td>61</td>\n",
       "      <td>1290</td>\n",
       "    </tr>\n",
       "    <tr>\n",
       "      <th>4</th>\n",
       "      <td>120</td>\n",
       "      <td>1173</td>\n",
       "    </tr>\n",
       "  </tbody>\n",
       "</table>\n",
       "</div>"
      ],
      "text/plain": [
       "   eid  msgs_received\n",
       "0  131           1797\n",
       "1  122           1730\n",
       "2  138           1477\n",
       "3   61           1290\n",
       "4  120           1173"
      ]
     },
     "execution_count": 36,
     "metadata": {},
     "output_type": "execute_result"
    }
   ],
   "source": [
    "# Who are the top 5 receivers of emails? (people who received the most emails)\n",
    "top5receivers = df2.to_eid.value_counts().head().reset_index()\n",
    "top5receivers.columns = ['eid', 'msgs_received']\n",
    "top5receivers"
   ]
  },
  {
   "cell_type": "code",
   "execution_count": 37,
   "metadata": {
    "collapsed": false
   },
   "outputs": [
    {
     "data": {
      "text/html": [
       "<div>\n",
       "<table border=\"1\" class=\"dataframe\">\n",
       "  <thead>\n",
       "    <tr style=\"text-align: right;\">\n",
       "      <th></th>\n",
       "      <th>eid</th>\n",
       "      <th>name</th>\n",
       "      <th>department</th>\n",
       "      <th>longdepartment</th>\n",
       "      <th>title</th>\n",
       "      <th>gender</th>\n",
       "      <th>seniority</th>\n",
       "      <th>msgs_received</th>\n",
       "    </tr>\n",
       "  </thead>\n",
       "  <tbody>\n",
       "    <tr>\n",
       "      <th>3</th>\n",
       "      <td>131</td>\n",
       "      <td>James D. Steffes</td>\n",
       "      <td>Legal</td>\n",
       "      <td>Regulatory and Government Affairs</td>\n",
       "      <td>VP of Government Affairs</td>\n",
       "      <td>Male</td>\n",
       "      <td>Senior</td>\n",
       "      <td>1797</td>\n",
       "    </tr>\n",
       "    <tr>\n",
       "      <th>2</th>\n",
       "      <td>122</td>\n",
       "      <td>Richard Shapiro</td>\n",
       "      <td>Legal</td>\n",
       "      <td>Regulatory and Government Affairs</td>\n",
       "      <td>VP of Regulatory Affairs</td>\n",
       "      <td>Male</td>\n",
       "      <td>Senior</td>\n",
       "      <td>1730</td>\n",
       "    </tr>\n",
       "    <tr>\n",
       "      <th>4</th>\n",
       "      <td>138</td>\n",
       "      <td>Mark E. Taylor</td>\n",
       "      <td>Legal</td>\n",
       "      <td>ENA Legal</td>\n",
       "      <td>VP &amp; Gen Cnsl</td>\n",
       "      <td>Male</td>\n",
       "      <td>Senior</td>\n",
       "      <td>1477</td>\n",
       "    </tr>\n",
       "    <tr>\n",
       "      <th>0</th>\n",
       "      <td>61</td>\n",
       "      <td>Steven J. Kean</td>\n",
       "      <td>Other</td>\n",
       "      <td>Enron</td>\n",
       "      <td>VP &amp; Chief of Staff</td>\n",
       "      <td>Male</td>\n",
       "      <td>Senior</td>\n",
       "      <td>1290</td>\n",
       "    </tr>\n",
       "    <tr>\n",
       "      <th>1</th>\n",
       "      <td>120</td>\n",
       "      <td>Sara Shackleton</td>\n",
       "      <td>Legal</td>\n",
       "      <td>ENA Legal</td>\n",
       "      <td>Gen Cnsl Asst</td>\n",
       "      <td>Female</td>\n",
       "      <td>Junior</td>\n",
       "      <td>1173</td>\n",
       "    </tr>\n",
       "  </tbody>\n",
       "</table>\n",
       "</div>"
      ],
      "text/plain": [
       "   eid              name department                     longdepartment  \\\n",
       "3  131  James D. Steffes      Legal  Regulatory and Government Affairs   \n",
       "2  122   Richard Shapiro      Legal  Regulatory and Government Affairs   \n",
       "4  138    Mark E. Taylor      Legal                          ENA Legal   \n",
       "0   61    Steven J. Kean      Other                              Enron   \n",
       "1  120   Sara Shackleton      Legal                          ENA Legal   \n",
       "\n",
       "                      title  gender seniority  msgs_received  \n",
       "3  VP of Government Affairs    Male    Senior           1797  \n",
       "2  VP of Regulatory Affairs    Male    Senior           1730  \n",
       "4             VP & Gen Cnsl    Male    Senior           1477  \n",
       "0       VP & Chief of Staff    Male    Senior           1290  \n",
       "1             Gen Cnsl Asst  Female    Junior           1173  "
      ]
     },
     "execution_count": 37,
     "metadata": {},
     "output_type": "execute_result"
    }
   ],
   "source": [
    "pd.merge(employees, top5receivers, on='eid').sort_values('msgs_received', ascending=False)"
   ]
  },
  {
   "cell_type": "markdown",
   "metadata": {},
   "source": [
    "Which employees sent the most 'mass' emails?"
   ]
  },
  {
   "cell_type": "code",
   "execution_count": 38,
   "metadata": {
    "collapsed": false
   },
   "outputs": [
    {
     "data": {
      "text/html": [
       "<div>\n",
       "<table border=\"1\" class=\"dataframe\">\n",
       "  <thead>\n",
       "    <tr style=\"text-align: right;\">\n",
       "      <th></th>\n",
       "      <th>mid</th>\n",
       "      <th>rno</th>\n",
       "      <th>filename</th>\n",
       "      <th>unix_time</th>\n",
       "      <th>subject</th>\n",
       "      <th>from_eid</th>\n",
       "    </tr>\n",
       "  </thead>\n",
       "  <tbody>\n",
       "    <tr>\n",
       "      <th>0</th>\n",
       "      <td>12151</td>\n",
       "      <td>57</td>\n",
       "      <td>baughman-d/ect_admin/22</td>\n",
       "      <td>990546780</td>\n",
       "      <td></td>\n",
       "      <td>67</td>\n",
       "    </tr>\n",
       "    <tr>\n",
       "      <th>1</th>\n",
       "      <td>12116</td>\n",
       "      <td>57</td>\n",
       "      <td>baughman-d/all_documents/398</td>\n",
       "      <td>990510780</td>\n",
       "      <td></td>\n",
       "      <td>67</td>\n",
       "    </tr>\n",
       "    <tr>\n",
       "      <th>2</th>\n",
       "      <td>12140</td>\n",
       "      <td>55</td>\n",
       "      <td>lavorato-j/sent_items/18</td>\n",
       "      <td>990528836</td>\n",
       "      <td></td>\n",
       "      <td>67</td>\n",
       "    </tr>\n",
       "    <tr>\n",
       "      <th>3</th>\n",
       "      <td>14404</td>\n",
       "      <td>52</td>\n",
       "      <td>lay-k/sent_items/10</td>\n",
       "      <td>998565865</td>\n",
       "      <td>Associate/Analyst Program</td>\n",
       "      <td>68</td>\n",
       "    </tr>\n",
       "    <tr>\n",
       "      <th>4</th>\n",
       "      <td>16035</td>\n",
       "      <td>49</td>\n",
       "      <td>beck-s/sent_items/368</td>\n",
       "      <td>1002290637</td>\n",
       "      <td>Enron Center South (ECS) Move Back-up Plan</td>\n",
       "      <td>7</td>\n",
       "    </tr>\n",
       "    <tr>\n",
       "      <th>5</th>\n",
       "      <td>16431</td>\n",
       "      <td>24</td>\n",
       "      <td>sanchez-m/sent_items/99</td>\n",
       "      <td>1002893728</td>\n",
       "      <td>Park City Bound</td>\n",
       "      <td>112</td>\n",
       "    </tr>\n",
       "    <tr>\n",
       "      <th>6</th>\n",
       "      <td>8116</td>\n",
       "      <td>22</td>\n",
       "      <td>wolfe-j/all_documents/32</td>\n",
       "      <td>980396100</td>\n",
       "      <td>7th Annual Party</td>\n",
       "      <td>112</td>\n",
       "    </tr>\n",
       "    <tr>\n",
       "      <th>7</th>\n",
       "      <td>15148</td>\n",
       "      <td>21</td>\n",
       "      <td>baughman-d/enron_power/miso/19</td>\n",
       "      <td>1000822727</td>\n",
       "      <td>RTO/regulatory update</td>\n",
       "      <td>117</td>\n",
       "    </tr>\n",
       "    <tr>\n",
       "      <th>8</th>\n",
       "      <td>15577</td>\n",
       "      <td>21</td>\n",
       "      <td>kitchen-l/sent_items/990</td>\n",
       "      <td>1001571865</td>\n",
       "      <td>FW: Fantastic Friday/Super Saturday Interviewers</td>\n",
       "      <td>65</td>\n",
       "    </tr>\n",
       "    <tr>\n",
       "      <th>9</th>\n",
       "      <td>21103</td>\n",
       "      <td>20</td>\n",
       "      <td>mckay-j/ubswenergy_com/3</td>\n",
       "      <td>1013408919</td>\n",
       "      <td>book names</td>\n",
       "      <td>63</td>\n",
       "    </tr>\n",
       "  </tbody>\n",
       "</table>\n",
       "</div>"
      ],
      "text/plain": [
       "     mid  rno                        filename   unix_time  \\\n",
       "0  12151   57         baughman-d/ect_admin/22   990546780   \n",
       "1  12116   57    baughman-d/all_documents/398   990510780   \n",
       "2  12140   55        lavorato-j/sent_items/18   990528836   \n",
       "3  14404   52             lay-k/sent_items/10   998565865   \n",
       "4  16035   49           beck-s/sent_items/368  1002290637   \n",
       "5  16431   24         sanchez-m/sent_items/99  1002893728   \n",
       "6   8116   22        wolfe-j/all_documents/32   980396100   \n",
       "7  15148   21  baughman-d/enron_power/miso/19  1000822727   \n",
       "8  15577   21        kitchen-l/sent_items/990  1001571865   \n",
       "9  21103   20        mckay-j/ubswenergy_com/3  1013408919   \n",
       "\n",
       "                                            subject  from_eid  \n",
       "0                                                          67  \n",
       "1                                                          67  \n",
       "2                                                          67  \n",
       "3                         Associate/Analyst Program        68  \n",
       "4        Enron Center South (ECS) Move Back-up Plan         7  \n",
       "5                                   Park City Bound       112  \n",
       "6                                  7th Annual Party       112  \n",
       "7                             RTO/regulatory update       117  \n",
       "8  FW: Fantastic Friday/Super Saturday Interviewers        65  \n",
       "9                                        book names        63  "
      ]
     },
     "execution_count": 38,
     "metadata": {},
     "output_type": "execute_result"
    }
   ],
   "source": [
    "top10massmails = df2.groupby('mid')['rno'].max().sort_values(ascending=False).head(10).reset_index()\n",
    "massmails = pd.merge(top10massmails, messages)\n",
    "massmails"
   ]
  },
  {
   "cell_type": "code",
   "execution_count": 39,
   "metadata": {
    "collapsed": false
   },
   "outputs": [
    {
     "data": {
      "text/html": [
       "<div>\n",
       "<table border=\"1\" class=\"dataframe\">\n",
       "  <thead>\n",
       "    <tr style=\"text-align: right;\">\n",
       "      <th></th>\n",
       "      <th>name</th>\n",
       "      <th>title</th>\n",
       "      <th>mid</th>\n",
       "      <th>subject</th>\n",
       "      <th>rno</th>\n",
       "    </tr>\n",
       "  </thead>\n",
       "  <tbody>\n",
       "    <tr>\n",
       "      <th>0</th>\n",
       "      <td>John J. Lavorato</td>\n",
       "      <td>ENA President &amp; CEO</td>\n",
       "      <td>12151</td>\n",
       "      <td></td>\n",
       "      <td>57</td>\n",
       "    </tr>\n",
       "    <tr>\n",
       "      <th>1</th>\n",
       "      <td>John J. Lavorato</td>\n",
       "      <td>ENA President &amp; CEO</td>\n",
       "      <td>12116</td>\n",
       "      <td></td>\n",
       "      <td>57</td>\n",
       "    </tr>\n",
       "    <tr>\n",
       "      <th>2</th>\n",
       "      <td>John J. Lavorato</td>\n",
       "      <td>ENA President &amp; CEO</td>\n",
       "      <td>12140</td>\n",
       "      <td></td>\n",
       "      <td>55</td>\n",
       "    </tr>\n",
       "    <tr>\n",
       "      <th>3</th>\n",
       "      <td>Kenneth Lay</td>\n",
       "      <td>President &amp; CEO</td>\n",
       "      <td>14404</td>\n",
       "      <td>Associate/Analyst Program</td>\n",
       "      <td>52</td>\n",
       "    </tr>\n",
       "    <tr>\n",
       "      <th>4</th>\n",
       "      <td>Sally Beck</td>\n",
       "      <td>VP</td>\n",
       "      <td>16035</td>\n",
       "      <td>Enron Center South (ECS) Move Back-up Plan</td>\n",
       "      <td>49</td>\n",
       "    </tr>\n",
       "    <tr>\n",
       "      <th>5</th>\n",
       "      <td>Monique Sanchez</td>\n",
       "      <td>Associate</td>\n",
       "      <td>16431</td>\n",
       "      <td>Park City Bound</td>\n",
       "      <td>24</td>\n",
       "    </tr>\n",
       "    <tr>\n",
       "      <th>6</th>\n",
       "      <td>Monique Sanchez</td>\n",
       "      <td>Associate</td>\n",
       "      <td>8116</td>\n",
       "      <td>7th Annual Party</td>\n",
       "      <td>22</td>\n",
       "    </tr>\n",
       "    <tr>\n",
       "      <th>7</th>\n",
       "      <td>Susan Scott</td>\n",
       "      <td>Cnsl</td>\n",
       "      <td>15148</td>\n",
       "      <td>RTO/regulatory update</td>\n",
       "      <td>21</td>\n",
       "    </tr>\n",
       "    <tr>\n",
       "      <th>8</th>\n",
       "      <td>Louise Kitchen</td>\n",
       "      <td>COO</td>\n",
       "      <td>15577</td>\n",
       "      <td>FW: Fantastic Friday/Super Saturday Interviewers</td>\n",
       "      <td>21</td>\n",
       "    </tr>\n",
       "    <tr>\n",
       "      <th>9</th>\n",
       "      <td>Kam Keiser</td>\n",
       "      <td>Mgr Trading</td>\n",
       "      <td>21103</td>\n",
       "      <td>book names</td>\n",
       "      <td>20</td>\n",
       "    </tr>\n",
       "  </tbody>\n",
       "</table>\n",
       "</div>"
      ],
      "text/plain": [
       "               name                title    mid  \\\n",
       "0  John J. Lavorato  ENA President & CEO  12151   \n",
       "1  John J. Lavorato  ENA President & CEO  12116   \n",
       "2  John J. Lavorato  ENA President & CEO  12140   \n",
       "3       Kenneth Lay      President & CEO  14404   \n",
       "4        Sally Beck                   VP  16035   \n",
       "5  Monique Sanchez             Associate  16431   \n",
       "6  Monique Sanchez             Associate   8116   \n",
       "7       Susan Scott                 Cnsl  15148   \n",
       "8    Louise Kitchen                  COO  15577   \n",
       "9        Kam Keiser          Mgr Trading  21103   \n",
       "\n",
       "                                            subject  rno  \n",
       "0                                                     57  \n",
       "1                                                     57  \n",
       "2                                                     55  \n",
       "3                         Associate/Analyst Program   52  \n",
       "4        Enron Center South (ECS) Move Back-up Plan   49  \n",
       "5                                   Park City Bound   24  \n",
       "6                                  7th Annual Party   22  \n",
       "7                             RTO/regulatory update   21  \n",
       "8  FW: Fantastic Friday/Super Saturday Interviewers   21  \n",
       "9                                        book names   20  "
      ]
     },
     "execution_count": 39,
     "metadata": {},
     "output_type": "execute_result"
    }
   ],
   "source": [
    "pd.merge(massmails, employees, left_on='from_eid', right_on='eid')[['name', 'title', 'mid', 'subject', 'rno']]"
   ]
  },
  {
   "cell_type": "markdown",
   "metadata": {},
   "source": [
    "Keep exploring the dataset, which other questions would you ask?\n",
    "\n",
    "Work in pairs. Give each other a challenge and try to solve it."
   ]
  }
 ],
 "metadata": {
  "kernelspec": {
   "display_name": "Python [Root]",
   "language": "python",
   "name": "Python [Root]"
  },
  "language_info": {
   "codemirror_mode": {
    "name": "ipython",
    "version": 2
   },
   "file_extension": ".py",
   "mimetype": "text/x-python",
   "name": "python",
   "nbconvert_exporter": "python",
   "pygments_lexer": "ipython2",
   "version": "2.7.12"
  }
 },
 "nbformat": 4,
 "nbformat_minor": 0
}
