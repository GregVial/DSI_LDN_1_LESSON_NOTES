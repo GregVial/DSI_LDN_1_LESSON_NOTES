{
 "cells": [
  {
   "cell_type": "markdown",
   "metadata": {},
   "source": [
    "### Review problem 5 (hard)\n",
    "\n",
    "In this problem you will be defining a function that calculates the **pearson correlation coefficient** between two lists of numbers.\n",
    "\n",
    "Your function should:\n",
    "\n",
    "- Accept two arguments that are the provided lists ```X``` and ```Y```.\n",
    "- Print the length of ```X``` and ```Y``` using the ```len()``` function, like so:\n",
    "    ```python\n",
    "    Length of X: 40\n",
    "    Length of Y: 40\n",
    "    ```\n",
    "- Calculate the **pearson correlation** between the two lists and assign the value to variable ```pearson_r```.\n",
    "    - Create a variable ```X_deviation``` that is each element of ```X``` minus the **mean** of ```X```. You can use ```np.mean()``` to calculate the mean.\n",
    "    - Create a variable ```Y_deviation``` that is each element of ```Y``` minus the **mean** of ```Y```.\n",
    "    - Create a variable ```sqrt_X_deviation_sq``` that is the **square root** of the **sum** of the **square** of each element of ```X_deviation```. Ive partially completed it below, for clarification:\n",
    "        ```python\n",
    "        sqrt_X_deviation_sq = np.sqrt(np.sum(\"each element of X_deviation squared\"))\n",
    "        ```\n",
    "    - Create a variable ```sqrt_Y_deviation_sq``` that is the same thing you just did for ```X_deviation``` but for ```Y_deviation```.\n",
    "    - Create a variable ```sum_XY_deviation``` that is the **sum** of each element of X and Y multiplied by each other, in order. You can use the ```zip()``` function to iterate through two lists at the same time:\n",
    "        ```python\n",
    "        for x_d, y_d in zip(X_deviation, Y_deviation):\n",
    "        ```\n",
    "    - ```pearson_r``` is equal to ```sum_XY_deviation``` divided by ```(sqrt_X_deviation_sq * sqrt_Y_deviation_sq)```\n",
    "- Print ```pearson_r```\n",
    "- Check if it is the same as numpys correlation function. Print ```np.corrcoef(X, Y)[0,1]```\n",
    "    "
   ]
  },
  {
   "cell_type": "code",
   "execution_count": 2,
   "metadata": {
    "collapsed": true
   },
   "outputs": [],
   "source": [
    "import numpy as np\n",
    "\n",
    "X = [14.2,5.8,4.8,12.7,5.6,-1.2,5.3,11.9,4.8,8.1,1.5,8.5,14.9,6.1,\n",
    "     6.8,12.6,15.5,24.3,15.6,16.8,22.3,22.6,26.2,19.0,24.3,26.3,\n",
    "     25.3,31.6,27.3,33.0,32.6,30.7,29.6,34.7,32.7,43.1,40.1,35.4,49.6,38.6]\n",
    "\n",
    "Y = [-15.5,-8.5,0.8,-3.9,4.9,12.7,10.0,16.5,5.7,13.1,10.3,12.4,-1.5,\n",
    "     1.7,26.0,14.3,30.3,21.7,27.5,38.2,18.9,21.2,18.2,26.1,14.7,16.4,\n",
    "     22.8,34.3,37.1,38.9,39.1,33.8,52.2,36.5,20.7,21.6,14.5,33.6,44.5,44.2]\n"
   ]
  },
  {
   "cell_type": "code",
   "execution_count": 13,
   "metadata": {
    "collapsed": false
   },
   "outputs": [
    {
     "name": "stdout",
     "output_type": "stream",
     "text": [
      "Length of X:  40\n",
      "Length of Y:  40\n",
      "7.1054273576e-14\n",
      "[1270.9224999999999, 820.82249999999988, 374.4224999999999, 578.40249999999992, 232.56249999999994, 55.502499999999991, 103.02249999999997, 13.322499999999989, 208.80249999999998, 49.702499999999986, 97.022499999999951, 60.062499999999972, 468.72249999999991, 340.40249999999997, 34.222500000000018, 34.222499999999975, 103.02250000000004, 2.4025000000000021, 54.022500000000022, 325.80250000000018, 1.5625, 1.1025000000000016, 3.8024999999999971, 35.402500000000032, 29.702499999999993, 14.0625, 7.0225000000000115, 200.22249999999997, 287.30250000000012, 351.5625, 359.10250000000013, 186.32249999999996, 1027.2025000000003, 267.32250000000005, 0.30250000000000077, 2.102500000000008, 31.922499999999985, 180.90250000000009, 592.92250000000001, 578.40250000000026]\n",
      "5133.72\n",
      "0.659990523006\n",
      "80.2901986546\n",
      "96.8795127981\n"
     ]
    },
    {
     "data": {
      "text/plain": [
       "0.65999052300624539"
      ]
     },
     "execution_count": 13,
     "metadata": {},
     "output_type": "execute_result"
    }
   ],
   "source": [
    "# Define your pearson correlation function here:\n",
    "def pc(X,Y):\n",
    "    print \"Length of X: \",len(X)\n",
    "    print \"Length of Y: \",len(Y)\n",
    "    X_deviation = [x-np.mean(X) for x in X]\n",
    "    Y_deviation = [y-np.mean(Y) for y in Y]\n",
    "    print(np.sum(Y_deviation))\n",
    "    sqrt_X_deviation_sq = np.sqrt(np.sum([x**2 for x in X_deviation]))\n",
    "    sqrt_Y_deviation_sq = np.sqrt(np.sum([y**2 for y in Y_deviation]))\n",
    "    sum_XY_deviation = 0\n",
    "    for x_d, y_d in zip(X_deviation, Y_deviation):\n",
    "        sum_XY_deviation += x_d*y_d\n",
    "    print(sum_XY_deviation)\n",
    "    pearson_r = sum_XY_deviation / (sqrt_X_deviation_sq * sqrt_Y_deviation_sq)\n",
    "    print(pearson_r)\n",
    "    print(sqrt_X_deviation_sq)\n",
    "    print(sqrt_Y_deviation_sq)\n",
    "    \n",
    "pc(X,Y)\n",
    "np.corrcoef(X, Y)[0,1]  "
   ]
  },
  {
   "cell_type": "code",
   "execution_count": 2,
   "metadata": {
    "collapsed": false
   },
   "outputs": [
    {
     "data": {
      "text/plain": [
       "1"
      ]
     },
     "execution_count": 2,
     "metadata": {},
     "output_type": "execute_result"
    }
   ],
   "source": [
    "5/4"
   ]
  },
  {
   "cell_type": "code",
   "execution_count": null,
   "metadata": {
    "collapsed": true
   },
   "outputs": [],
   "source": []
  }
 ],
 "metadata": {
  "anaconda-cloud": {},
  "kernelspec": {
   "display_name": "Python [default]",
   "language": "python",
   "name": "python2"
  },
  "language_info": {
   "codemirror_mode": {
    "name": "ipython",
    "version": 2
   },
   "file_extension": ".py",
   "mimetype": "text/x-python",
   "name": "python",
   "nbconvert_exporter": "python",
   "pygments_lexer": "ipython2",
   "version": "2.7.12"
  }
 },
 "nbformat": 4,
 "nbformat_minor": 0
}
