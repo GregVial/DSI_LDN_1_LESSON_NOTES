{
 "cells": [
  {
   "cell_type": "code",
   "execution_count": 4,
   "metadata": {
    "collapsed": false
   },
   "outputs": [
    {
     "name": "stdout",
     "output_type": "stream",
     "text": [
      "Array:\n",
      "[1 2 3 5 6 4 6]\n",
      "\n"
     ]
    }
   ],
   "source": [
    "import numpy as np \n",
    "import math \n",
    "\n",
    "# array\n",
    "arr1=np.array([1,2,3,5,6,4,6])\n",
    "print 'Array:'\n",
    "print arr1\n",
    "print ''"
   ]
  },
  {
   "cell_type": "code",
   "execution_count": 5,
   "metadata": {
    "collapsed": false
   },
   "outputs": [
    {
     "name": "stdout",
     "output_type": "stream",
     "text": [
      "Variance from written function is :\n",
      "3.26530612245\n",
      "\n",
      "Variance from numpy is :\n",
      "3.26530612245\n"
     ]
    }
   ],
   "source": [
    "# Write a function that computes the variance\n",
    "def computeVariance(arr): \n",
    "    avg=0\n",
    "    for i in arr:\n",
    "        avg=avg+i\n",
    "    avg=float(avg)/len(arr)\n",
    "\n",
    "    var=0\n",
    "    for i in arr:\n",
    "        var=var+(i-avg)**2\n",
    "    var=var/len(arr)\n",
    "\n",
    "\n",
    "    return var\n",
    "\n",
    "\n",
    "# Compare your function results with numpy results\n",
    "var=computeVariance(arr1)  \n",
    "\n",
    "print 'Variance from written function is :'\n",
    "print var\n",
    "print ''\n",
    "print 'Variance from numpy is :'\n",
    "print np.var(arr1)"
   ]
  },
  {
   "cell_type": "code",
   "execution_count": 8,
   "metadata": {
    "collapsed": false
   },
   "outputs": [
    {
     "name": "stdout",
     "output_type": "stream",
     "text": [
      "\n",
      "Standard Deviation from written function is: \n",
      "1.80701580581\n",
      "\n",
      "Standard Deviation from numpy is:\n",
      "1.80701580581\n"
     ]
    }
   ],
   "source": [
    "# Write a function that computes the standard deviation and \n",
    "# compare your function results with numpy equivalents. \n",
    "\n",
    "def computeStd(arr): \n",
    "    var=computeVariance(arr)\n",
    "    std=math.sqrt(var)\n",
    "    return std\n",
    "    \n",
    "print ''\n",
    "print 'Standard Deviation from written function is: '\n",
    "std=computeStd(arr1)\n",
    "print std\n",
    "print ''\n",
    "print 'Standard Deviation from numpy is:'\n",
    "print np.std(arr1)"
   ]
  }
 ],
 "metadata": {
  "kernelspec": {
   "display_name": "Python 2",
   "language": "python",
   "name": "python2"
  },
  "language_info": {
   "codemirror_mode": {
    "name": "ipython",
    "version": 2
   },
   "file_extension": ".py",
   "mimetype": "text/x-python",
   "name": "python",
   "nbconvert_exporter": "python",
   "pygments_lexer": "ipython2",
   "version": "2.7.10"
  }
 },
 "nbformat": 4,
 "nbformat_minor": 0
}
