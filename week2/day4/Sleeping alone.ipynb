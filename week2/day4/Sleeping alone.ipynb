{
 "cells": [
  {
   "cell_type": "code",
   "execution_count": 6,
   "metadata": {
    "collapsed": false
   },
   "outputs": [
    {
     "name": "stdout",
     "output_type": "stream",
     "text": [
      "(1094, 31)\n",
      "Index([u'StartDate', u'EndDate',\n",
      "       u'Which of the following best describes your current relationship status?',\n",
      "       u'How long have you been in your current relationship? If you are not currently in a relationship, please answer according to your last relationship.',\n",
      "       u'When both you and your partner are at home, how often do you sleep in separate beds?',\n",
      "       u'When you're not sleeping in the same bed as your partner, where do you typically sleep?',\n",
      "       u'Unnamed: 6',\n",
      "       u'When you're not sleeping in the same bed, where does your partner typically sleep?',\n",
      "       u'Unnamed: 8',\n",
      "       u'What are the reasons that you sleep in separate beds? Please select all that apply.',\n",
      "       u'Unnamed: 10', u'Unnamed: 11', u'Unnamed: 12', u'Unnamed: 13',\n",
      "       u'Unnamed: 14', u'Unnamed: 15', u'Unnamed: 16', u'Unnamed: 17',\n",
      "       u'Unnamed: 18', u'Unnamed: 19',\n",
      "       u'When was the first time you slept in separate beds?',\n",
      "       u'To what extent do you agree with the following statement: \"sleeping in separate beds helps us to stay together.\"',\n",
      "       u'To what extent do you agree with the following statement: \"we sleep better when we sleep in separate beds.\"',\n",
      "       u'To what extent do you agree with the following statement:�_\"our sex life has improved as a result of sleeping in separate beds.\"�_',\n",
      "       u'Which of the following best describes your current occupation?',\n",
      "       u'Unnamed: 25', u'Gender', u'Age', u'Household Income', u'Education',\n",
      "       u'Location (Census Region)'],\n",
      "      dtype='object')\n"
     ]
    }
   ],
   "source": [
    "import pandas as pd\n",
    "df = pd.read_csv(\"sleeping-alone-data.csv\")\n",
    "print(df.shape)\n",
    "print(df.columns)"
   ]
  },
  {
   "cell_type": "code",
   "execution_count": 8,
   "metadata": {
    "collapsed": false
   },
   "outputs": [
    {
     "data": {
      "text/html": [
       "<div>\n",
       "<table border=\"1\" class=\"dataframe\">\n",
       "  <thead>\n",
       "    <tr style=\"text-align: right;\">\n",
       "      <th></th>\n",
       "      <th>StartDate</th>\n",
       "      <th>EndDate</th>\n",
       "      <th>Which of the following best describes your current relationship status?</th>\n",
       "      <th>How long have you been in your current relationship? If you are not currently in a relationship, please answer according to your last relationship.</th>\n",
       "      <th>When both you and your partner are at home, how often do you sleep in separate beds?</th>\n",
       "      <th>When you're not sleeping in the same bed as your partner, where do you typically sleep?</th>\n",
       "      <th>Unnamed: 6</th>\n",
       "      <th>When you're not sleeping in the same bed, where does your partner typically sleep?</th>\n",
       "      <th>Unnamed: 8</th>\n",
       "      <th>What are the reasons that you sleep in separate beds? Please select all that apply.</th>\n",
       "      <th>Unnamed: 10</th>\n",
       "      <th>Unnamed: 11</th>\n",
       "      <th>Unnamed: 12</th>\n",
       "      <th>Unnamed: 13</th>\n",
       "      <th>Unnamed: 14</th>\n",
       "      <th>Unnamed: 15</th>\n",
       "      <th>Unnamed: 16</th>\n",
       "      <th>Unnamed: 17</th>\n",
       "      <th>Unnamed: 18</th>\n",
       "      <th>Unnamed: 19</th>\n",
       "      <th>When was the first time you slept in separate beds?</th>\n",
       "      <th>To what extent do you agree with the following statement: \"sleeping in separate beds helps us to stay together.\"</th>\n",
       "      <th>To what extent do you agree with the following statement: \"we sleep better when we sleep in separate beds.\"</th>\n",
       "      <th>To what extent do you agree with the following statement:�_\"our sex life has improved as a result of sleeping in separate beds.\"�_</th>\n",
       "      <th>Which of the following best describes your current occupation?</th>\n",
       "      <th>Unnamed: 25</th>\n",
       "      <th>Gender</th>\n",
       "      <th>Age</th>\n",
       "      <th>Household Income</th>\n",
       "      <th>Education</th>\n",
       "      <th>Location (Census Region)</th>\n",
       "    </tr>\n",
       "  </thead>\n",
       "  <tbody>\n",
       "    <tr>\n",
       "      <th>0</th>\n",
       "      <td>NaN</td>\n",
       "      <td>NaN</td>\n",
       "      <td>Response</td>\n",
       "      <td>Response</td>\n",
       "      <td>Response</td>\n",
       "      <td>Response</td>\n",
       "      <td>Other (please specify)</td>\n",
       "      <td>Response</td>\n",
       "      <td>Other (please specify)</td>\n",
       "      <td>One of us snores</td>\n",
       "      <td>One of us makes frequent bathroom trips in the...</td>\n",
       "      <td>One of us is sick</td>\n",
       "      <td>We are no longer physically intimate</td>\n",
       "      <td>We have different temperature preferences for ...</td>\n",
       "      <td>We've had an argument or fight</td>\n",
       "      <td>Not enough space</td>\n",
       "      <td>Do not want to share the covers</td>\n",
       "      <td>One of us needs to sleep with a child</td>\n",
       "      <td>Night working/very different sleeping times</td>\n",
       "      <td>Other (please specify)</td>\n",
       "      <td>Response</td>\n",
       "      <td>Response</td>\n",
       "      <td>Response</td>\n",
       "      <td>Response</td>\n",
       "      <td>Response</td>\n",
       "      <td>Other (please specify)</td>\n",
       "      <td>Response</td>\n",
       "      <td>Response</td>\n",
       "      <td>Response</td>\n",
       "      <td>Response</td>\n",
       "      <td>Response</td>\n",
       "    </tr>\n",
       "    <tr>\n",
       "      <th>1</th>\n",
       "      <td>7/10/14 18:37</td>\n",
       "      <td>7/10/14 18:39</td>\n",
       "      <td>Single, but cohabiting with a significant other</td>\n",
       "      <td>1-5 years</td>\n",
       "      <td>Once a year or less</td>\n",
       "      <td>On the couch/chair</td>\n",
       "      <td>NaN</td>\n",
       "      <td>My partner sleeps in our shared bed, I'm the o...</td>\n",
       "      <td>NaN</td>\n",
       "      <td>NaN</td>\n",
       "      <td>NaN</td>\n",
       "      <td>One of us is sick</td>\n",
       "      <td>NaN</td>\n",
       "      <td>NaN</td>\n",
       "      <td>NaN</td>\n",
       "      <td>NaN</td>\n",
       "      <td>NaN</td>\n",
       "      <td>NaN</td>\n",
       "      <td>NaN</td>\n",
       "      <td>Other (please specify)</td>\n",
       "      <td>Within the first 1-5 years of our relationship</td>\n",
       "      <td>Strongly disagree</td>\n",
       "      <td>Somewhat agree</td>\n",
       "      <td>Strongly disagree</td>\n",
       "      <td>Other (please specify)</td>\n",
       "      <td>Student</td>\n",
       "      <td>Male</td>\n",
       "      <td>18-29</td>\n",
       "      <td>$0 - $24,999</td>\n",
       "      <td>Some college or Associate degree</td>\n",
       "      <td>Pacific</td>\n",
       "    </tr>\n",
       "    <tr>\n",
       "      <th>2</th>\n",
       "      <td>7/10/14 15:54</td>\n",
       "      <td>7/10/14 15:56</td>\n",
       "      <td>Single, but cohabiting with a significant other</td>\n",
       "      <td>1-5 years</td>\n",
       "      <td>A few times per month</td>\n",
       "      <td>I sleep in our shared bed, my partner is the o...</td>\n",
       "      <td>NaN</td>\n",
       "      <td>Separate bedroom</td>\n",
       "      <td>NaN</td>\n",
       "      <td>One of us snores</td>\n",
       "      <td>One of us makes frequent bathroom trips in the...</td>\n",
       "      <td>One of us is sick</td>\n",
       "      <td>NaN</td>\n",
       "      <td>NaN</td>\n",
       "      <td>We've had an argument or fight</td>\n",
       "      <td>NaN</td>\n",
       "      <td>Do not want to share the covers</td>\n",
       "      <td>NaN</td>\n",
       "      <td>NaN</td>\n",
       "      <td>NaN</td>\n",
       "      <td>Immediately/ We've always slept in separate beds</td>\n",
       "      <td>Somewhat agree</td>\n",
       "      <td>Strongly agree</td>\n",
       "      <td>Strongly disagree</td>\n",
       "      <td>Healthcare Support Occupations</td>\n",
       "      <td>NaN</td>\n",
       "      <td>Male</td>\n",
       "      <td>18-29</td>\n",
       "      <td>NaN</td>\n",
       "      <td>Bachelor degree</td>\n",
       "      <td>South Atlantic</td>\n",
       "    </tr>\n",
       "  </tbody>\n",
       "</table>\n",
       "</div>"
      ],
      "text/plain": [
       "       StartDate        EndDate  \\\n",
       "0            NaN            NaN   \n",
       "1  7/10/14 18:37  7/10/14 18:39   \n",
       "2  7/10/14 15:54  7/10/14 15:56   \n",
       "\n",
       "  Which of the following best describes your current relationship status?  \\\n",
       "0                                           Response                        \n",
       "1    Single, but cohabiting with a significant other                        \n",
       "2    Single, but cohabiting with a significant other                        \n",
       "\n",
       "  How long have you been in your current relationship? If you are not currently in a relationship, please answer according to your last relationship.  \\\n",
       "0                                           Response                                                                                                    \n",
       "1                                          1-5 years                                                                                                    \n",
       "2                                          1-5 years                                                                                                    \n",
       "\n",
       "  When both you and your partner are at home, how often do you sleep in separate beds?  \\\n",
       "0                                           Response                                     \n",
       "1                                Once a year or less                                     \n",
       "2                              A few times per month                                     \n",
       "\n",
       "  When you're not sleeping in the same bed as your partner, where do you typically sleep?  \\\n",
       "0                                           Response                                        \n",
       "1                                 On the couch/chair                                        \n",
       "2  I sleep in our shared bed, my partner is the o...                                        \n",
       "\n",
       "               Unnamed: 6  \\\n",
       "0  Other (please specify)   \n",
       "1                     NaN   \n",
       "2                     NaN   \n",
       "\n",
       "  When you're not sleeping in the same bed, where does your partner typically sleep?  \\\n",
       "0                                           Response                                   \n",
       "1  My partner sleeps in our shared bed, I'm the o...                                   \n",
       "2                                   Separate bedroom                                   \n",
       "\n",
       "               Unnamed: 8  \\\n",
       "0  Other (please specify)   \n",
       "1                     NaN   \n",
       "2                     NaN   \n",
       "\n",
       "  What are the reasons that you sleep in separate beds? Please select all that apply.  \\\n",
       "0                                   One of us snores                                    \n",
       "1                                                NaN                                    \n",
       "2                                   One of us snores                                    \n",
       "\n",
       "                                         Unnamed: 10        Unnamed: 11  \\\n",
       "0  One of us makes frequent bathroom trips in the...  One of us is sick   \n",
       "1                                                NaN  One of us is sick   \n",
       "2  One of us makes frequent bathroom trips in the...  One of us is sick   \n",
       "\n",
       "                            Unnamed: 12  \\\n",
       "0  We are no longer physically intimate   \n",
       "1                                   NaN   \n",
       "2                                   NaN   \n",
       "\n",
       "                                         Unnamed: 13  \\\n",
       "0  We have different temperature preferences for ...   \n",
       "1                                                NaN   \n",
       "2                                                NaN   \n",
       "\n",
       "                      Unnamed: 14       Unnamed: 15  \\\n",
       "0  We've had an argument or fight  Not enough space   \n",
       "1                             NaN               NaN   \n",
       "2  We've had an argument or fight               NaN   \n",
       "\n",
       "                       Unnamed: 16                            Unnamed: 17  \\\n",
       "0  Do not want to share the covers  One of us needs to sleep with a child   \n",
       "1                              NaN                                    NaN   \n",
       "2  Do not want to share the covers                                    NaN   \n",
       "\n",
       "                                   Unnamed: 18             Unnamed: 19  \\\n",
       "0  Night working/very different sleeping times  Other (please specify)   \n",
       "1                                          NaN  Other (please specify)   \n",
       "2                                          NaN                     NaN   \n",
       "\n",
       "  When was the first time you slept in separate beds?  \\\n",
       "0                                           Response    \n",
       "1     Within the first 1-5 years of our relationship    \n",
       "2   Immediately/ We've always slept in separate beds    \n",
       "\n",
       "  To what extent do you agree with the following statement: \"sleeping in separate beds helps us to stay together.\"  \\\n",
       "0                                           Response                                                                 \n",
       "1                                  Strongly disagree                                                                 \n",
       "2                                     Somewhat agree                                                                 \n",
       "\n",
       "  To what extent do you agree with the following statement: \"we sleep better when we sleep in separate beds.\"  \\\n",
       "0                                           Response                                                            \n",
       "1                                     Somewhat agree                                                            \n",
       "2                                     Strongly agree                                                            \n",
       "\n",
       "  To what extent do you agree with the following statement:�_\"our sex life has improved as a result of sleeping in separate beds.\"�_  \\\n",
       "0                                           Response                                                                                   \n",
       "1                                  Strongly disagree                                                                                   \n",
       "2                                  Strongly disagree                                                                                   \n",
       "\n",
       "  Which of the following best describes your current occupation?  \\\n",
       "0                                           Response               \n",
       "1                             Other (please specify)               \n",
       "2                     Healthcare Support Occupations               \n",
       "\n",
       "              Unnamed: 25    Gender       Age Household Income  \\\n",
       "0  Other (please specify)  Response  Response         Response   \n",
       "1                 Student      Male     18-29     $0 - $24,999   \n",
       "2                     NaN      Male     18-29              NaN   \n",
       "\n",
       "                          Education Location (Census Region)  \n",
       "0                          Response                 Response  \n",
       "1  Some college or Associate degree                  Pacific  \n",
       "2                   Bachelor degree           South Atlantic  "
      ]
     },
     "execution_count": 8,
     "metadata": {},
     "output_type": "execute_result"
    }
   ],
   "source": [
    "pd.set_option(\"display.max_columns\", df.shape[0])\n",
    "df.head(3)"
   ]
  },
  {
   "cell_type": "code",
   "execution_count": 20,
   "metadata": {
    "collapsed": false
   },
   "outputs": [
    {
     "data": {
      "text/plain": [
       "7"
      ]
     },
     "execution_count": 20,
     "metadata": {},
     "output_type": "execute_result"
    }
   ],
   "source": [
    "# How many different answers to \"How often do you sleep alone\"\n",
    "df.ix[:,4].nunique()"
   ]
  },
  {
   "cell_type": "code",
   "execution_count": 18,
   "metadata": {
    "collapsed": false
   },
   "outputs": [
    {
     "data": {
      "text/plain": [
       "Gender    When both you and your partner are at home, how often do you sleep in separate beds?\n",
       "Female    A few times per month                                                                    25\n",
       "          A few times per week                                                                     25\n",
       "          Every night                                                                              65\n",
       "          Never                                                                                   258\n",
       "          Once a month or less                                                                     49\n",
       "          Once a year or less                                                                      66\n",
       "Male      A few times per month                                                                    33\n",
       "          A few times per week                                                                     19\n",
       "          Every night                                                                              72\n",
       "          Never                                                                                   281\n",
       "          Once a month or less                                                                     47\n",
       "          Once a year or less                                                                      65\n",
       "Response  Response                                                                                  1\n",
       "dtype: int64"
      ]
     },
     "execution_count": 18,
     "metadata": {},
     "output_type": "execute_result"
    }
   ],
   "source": [
    "# What is the distribution of responses by categories eg gender?\n",
    "sleep_alone = df.ix[:,4].name\n",
    "g1 = df.groupby([\"Gender\",sleep_alone])\n",
    "g1.size()"
   ]
  },
  {
   "cell_type": "code",
   "execution_count": 27,
   "metadata": {
    "collapsed": false
   },
   "outputs": [
    {
     "data": {
      "text/plain": [
       "Age\n",
       "18-29       122\n",
       "30-44       288\n",
       "45-60       312\n",
       "> 60        283\n",
       "Response      1\n",
       "dtype: int64"
      ]
     },
     "execution_count": 27,
     "metadata": {},
     "output_type": "execute_result"
    }
   ],
   "source": [
    "df.groupby(\"Age\").size()"
   ]
  },
  {
   "cell_type": "code",
   "execution_count": 29,
   "metadata": {
    "collapsed": false
   },
   "outputs": [
    {
     "data": {
      "text/plain": [
       "Household Income\n",
       "$0 - $24,999            45\n",
       "$100,000 - $149,999    226\n",
       "$150,000+              126\n",
       "$25,000 - $49,999       99\n",
       "$50,000 - $99,999      314\n",
       "Response                 1\n",
       "dtype: int64"
      ]
     },
     "execution_count": 29,
     "metadata": {},
     "output_type": "execute_result"
    }
   ],
   "source": [
    "df.groupby(\"Household Income\").size()"
   ]
  },
  {
   "cell_type": "code",
   "execution_count": 49,
   "metadata": {
    "collapsed": false
   },
   "outputs": [
    {
     "data": {
      "text/plain": [
       "Age       Household Income   \n",
       "18-29     $0 - $24,999            18\n",
       "          $100,000 - $149,999     14\n",
       "          $150,000+                5\n",
       "          $25,000 - $49,999       22\n",
       "          $50,000 - $99,999       41\n",
       "30-44     $0 - $24,999            11\n",
       "          $100,000 - $149,999     55\n",
       "          $150,000+               32\n",
       "          $25,000 - $49,999       32\n",
       "          $50,000 - $99,999      114\n",
       "45-60     $0 - $24,999            11\n",
       "          $100,000 - $149,999     87\n",
       "          $150,000+               52\n",
       "          $25,000 - $49,999       22\n",
       "          $50,000 - $99,999       79\n",
       "> 60      $0 - $24,999             5\n",
       "          $100,000 - $149,999     70\n",
       "          $150,000+               37\n",
       "          $25,000 - $49,999       23\n",
       "          $50,000 - $99,999       80\n",
       "Response  Response                 1\n",
       "dtype: int64"
      ]
     },
     "execution_count": 49,
     "metadata": {},
     "output_type": "execute_result"
    }
   ],
   "source": [
    "df.groupby([\"Age\",\"Household Income\"]).size()"
   ]
  },
  {
   "cell_type": "code",
   "execution_count": 36,
   "metadata": {
    "collapsed": false
   },
   "outputs": [
    {
     "data": {
      "text/plain": [
       "When both you and your partner are at home, how often do you sleep in separate beds?  Age     \n",
       "A few times per month                                                                 18-29         4\n",
       "                                                                                      30-44        23\n",
       "                                                                                      45-60        19\n",
       "                                                                                      > 60         12\n",
       "A few times per week                                                                  18-29         2\n",
       "                                                                                      30-44        21\n",
       "                                                                                      45-60        12\n",
       "                                                                                      > 60          9\n",
       "Every night                                                                           18-29         6\n",
       "                                                                                      30-44        26\n",
       "                                                                                      45-60        44\n",
       "                                                                                      > 60         61\n",
       "Never                                                                                 18-29        77\n",
       "                                                                                      30-44       142\n",
       "                                                                                      45-60       165\n",
       "                                                                                      > 60        155\n",
       "Once a month or less                                                                  18-29        18\n",
       "                                                                                      30-44        36\n",
       "                                                                                      45-60        29\n",
       "                                                                                      > 60         13\n",
       "Once a year or less                                                                   18-29        15\n",
       "                                                                                      30-44        40\n",
       "                                                                                      45-60        43\n",
       "                                                                                      > 60         33\n",
       "Response                                                                              Response      1\n",
       "dtype: int64"
      ]
     },
     "execution_count": 36,
     "metadata": {},
     "output_type": "execute_result"
    }
   ],
   "source": [
    "g2 = df.groupby([sleep_alone,'Age'])\n",
    "g2.size()"
   ]
  },
  {
   "cell_type": "code",
   "execution_count": 44,
   "metadata": {
    "collapsed": false
   },
   "outputs": [
    {
     "data": {
      "text/plain": [
       "88"
      ]
     },
     "execution_count": 44,
     "metadata": {},
     "output_type": "execute_result"
    }
   ],
   "source": [
    "sum(df['Age'].isnull())"
   ]
  },
  {
   "cell_type": "code",
   "execution_count": 52,
   "metadata": {
    "collapsed": false
   },
   "outputs": [
    {
     "data": {
      "text/plain": [
       "(1006, 31)"
      ]
     },
     "execution_count": 52,
     "metadata": {},
     "output_type": "execute_result"
    }
   ],
   "source": [
    "df= df.dropna(subset=['Age'])\n",
    "df.shape"
   ]
  },
  {
   "cell_type": "code",
   "execution_count": 58,
   "metadata": {
    "collapsed": false
   },
   "outputs": [
    {
     "data": {
      "text/plain": [
       "When both you and your partner are at home, how often do you sleep in separate beds?  Age     \n",
       "A few times per month                                                                 18-29        0.397614\n",
       "                                                                                      30-44        2.286282\n",
       "                                                                                      45-60        1.888668\n",
       "                                                                                      > 60         1.192843\n",
       "A few times per week                                                                  18-29        0.198807\n",
       "                                                                                      30-44        2.087475\n",
       "                                                                                      45-60        1.192843\n",
       "                                                                                      > 60         0.894632\n",
       "Every night                                                                           18-29        0.596421\n",
       "                                                                                      30-44        2.584493\n",
       "                                                                                      45-60        4.373757\n",
       "                                                                                      > 60         6.063618\n",
       "Never                                                                                 18-29        7.654076\n",
       "                                                                                      30-44       14.115308\n",
       "                                                                                      45-60       16.401590\n",
       "                                                                                      > 60        15.407555\n",
       "Once a month or less                                                                  18-29        1.789264\n",
       "                                                                                      30-44        3.578529\n",
       "                                                                                      45-60        2.882704\n",
       "                                                                                      > 60         1.292247\n",
       "Once a year or less                                                                   18-29        1.491054\n",
       "                                                                                      30-44        3.976143\n",
       "                                                                                      45-60        4.274354\n",
       "                                                                                      > 60         3.280318\n",
       "Response                                                                              Response     0.099404\n",
       "Name: Age, dtype: float64"
      ]
     },
     "execution_count": 58,
     "metadata": {},
     "output_type": "execute_result"
    }
   ],
   "source": [
    "100 * df.groupby([sleep_alone,'Age'])['Age'].count() / df['Age'].count()"
   ]
  },
  {
   "cell_type": "code",
   "execution_count": 61,
   "metadata": {
    "collapsed": true
   },
   "outputs": [],
   "source": [
    "import matplotlib.pyplot as plt\n",
    "import seaborn as sns"
   ]
  },
  {
   "cell_type": "code",
   "execution_count": 89,
   "metadata": {
    "collapsed": false
   },
   "outputs": [
    {
     "data": {
      "image/png": "[encoded data removed]",
      "text/plain": [
       "<matplotlib.figure.Figure at 0x7fb37ca59cd0>"
      ]
     },
     "metadata": {},
     "output_type": "display_data"
    }
   ],
   "source": [
    "s= df.groupby([sleep_alone,'Age'])['Age'].count()\n",
    "s.plot.bar(stacked=True)\n",
    "plt.show()"
   ]
  }
 ],
 "metadata": {
  "kernelspec": {
   "display_name": "Python [conda root]",
   "language": "python",
   "name": "conda-root-py"
  },
  "language_info": {
   "codemirror_mode": {
    "name": "ipython",
    "version": 2
   },
   "file_extension": ".py",
   "mimetype": "text/x-python",
   "name": "python",
   "nbconvert_exporter": "python",
   "pygments_lexer": "ipython2",
   "version": "2.7.12"
  }
 },
 "nbformat": 4,
 "nbformat_minor": 1
}
