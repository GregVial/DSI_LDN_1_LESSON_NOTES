{
 "cells": [
  {
   "cell_type": "markdown",
   "metadata": {},
   "source": [
    "# Regularization Lab\n",
    "\n",
    "In this lab we'll practice regularization. The [data set](http://data.princeton.edu/wws509/datasets/#salary) consists of salary data for 52 professors at a small college, categorized by gender, professor rank, highest degree, and years of service paired with salary.\n",
    "\n",
    "### Learning objectives\n",
    "\n",
    "- Practice working with categorical data and dummy variables\n",
    "- Try to predict various features using the others\n",
    "- Practice regularization and evaluating model fit\n",
    "- Visualize your fits, plotting accuracies versus predictions\n",
    "\n",
    "### Requirements\n",
    "\n",
    "The data contains three categorical variables, each with two or three values: \"sx\", \"dg\", \"rk\". Your tasks are as follows.\n",
    "* Create dummy variables for each categorical variables.\n",
    "* Use pandas `value_counts()` to see the distributions of the data\n",
    "\n",
    "For each categorical variable:\n",
    "* Fit a model to the entire data set without the dummy variables for that category (but include the others).\n",
    "* Use pandas to select a subset of the data and fit a linear model to just that subset. For example, select just the male professors and fit a model\n",
    "* Apply the model fit from one subset to the other subset and compare the goodness of fit scores.\n",
    "* Do the same for the other variables, i.e. fit a model to the women professors and apply it to the men, again comparing the goodness of fit.\n",
    "* Use regularization (e.g. RidgeRegression or Lasso) to fit a model on one subset and apply to the other, again looking at the goodness of fit. Did regularization improve the model fits?\n",
    "\n",
    "Bonus exercises:\n",
    "* Try to predict years served \"yr\" or years since degree \"yd\" from the salary data and other variables. Does regularization help in any of these cases?\n",
    "\n",
    "### Resources\n",
    "- [scikit-learn linear models](http://scikit-learn.org/stable/modules/linear_model.html), including regularization\n",
    "- [http://pandas.pydata.org/pandas-docs/stable/generated/pandas.get_dummies.html](Creating dummy variables with pandas)\n"
   ]
  },
  {
   "cell_type": "code",
   "execution_count": 1,
   "metadata": {
    "collapsed": true
   },
   "outputs": [],
   "source": [
    "% matplotlib inline\n",
    "\n",
    "from matplotlib import pyplot as plt\n",
    "import numpy as np\n",
    "import pandas as pd\n",
    "import seaborn as sns\n",
    "from sklearn import linear_model\n",
    "from sklearn.metrics import r2_score"
   ]
  },
  {
   "cell_type": "code",
   "execution_count": 2,
   "metadata": {
    "collapsed": false
   },
   "outputs": [
    {
     "data": {
      "text/html": [
       "<div>\n",
       "<table border=\"1\" class=\"dataframe\">\n",
       "  <thead>\n",
       "    <tr style=\"text-align: right;\">\n",
       "      <th></th>\n",
       "      <th>sx</th>\n",
       "      <th>rk</th>\n",
       "      <th>yr</th>\n",
       "      <th>dg</th>\n",
       "      <th>yd</th>\n",
       "      <th>sl</th>\n",
       "    </tr>\n",
       "  </thead>\n",
       "  <tbody>\n",
       "    <tr>\n",
       "      <th>50</th>\n",
       "      <td>female</td>\n",
       "      <td>assistant</td>\n",
       "      <td>1</td>\n",
       "      <td>doctorate</td>\n",
       "      <td>1</td>\n",
       "      <td>15000</td>\n",
       "    </tr>\n",
       "    <tr>\n",
       "      <th>47</th>\n",
       "      <td>female</td>\n",
       "      <td>assistant</td>\n",
       "      <td>2</td>\n",
       "      <td>doctorate</td>\n",
       "      <td>2</td>\n",
       "      <td>15350</td>\n",
       "    </tr>\n",
       "    <tr>\n",
       "      <th>45</th>\n",
       "      <td>male</td>\n",
       "      <td>assistant</td>\n",
       "      <td>2</td>\n",
       "      <td>doctorate</td>\n",
       "      <td>1</td>\n",
       "      <td>16094</td>\n",
       "    </tr>\n",
       "    <tr>\n",
       "      <th>46</th>\n",
       "      <td>female</td>\n",
       "      <td>assistant</td>\n",
       "      <td>2</td>\n",
       "      <td>doctorate</td>\n",
       "      <td>6</td>\n",
       "      <td>16150</td>\n",
       "    </tr>\n",
       "    <tr>\n",
       "      <th>48</th>\n",
       "      <td>male</td>\n",
       "      <td>assistant</td>\n",
       "      <td>1</td>\n",
       "      <td>doctorate</td>\n",
       "      <td>1</td>\n",
       "      <td>16244</td>\n",
       "    </tr>\n",
       "  </tbody>\n",
       "</table>\n",
       "</div>"
      ],
      "text/plain": [
       "        sx         rk  yr         dg  yd     sl\n",
       "50  female  assistant   1  doctorate   1  15000\n",
       "47  female  assistant   2  doctorate   2  15350\n",
       "45    male  assistant   2  doctorate   1  16094\n",
       "46  female  assistant   2  doctorate   6  16150\n",
       "48    male  assistant   1  doctorate   1  16244"
      ]
     },
     "execution_count": 2,
     "metadata": {},
     "output_type": "execute_result"
    }
   ],
   "source": [
    "# Load the data\n",
    "\n",
    "df = pd.read_csv(\"../../assets/datasets/salary.dat\", delim_whitespace=True)\n",
    "df.sort_values(by=\"sl\", inplace=True)\n",
    "df.head()"
   ]
  },
  {
   "cell_type": "code",
   "execution_count": 3,
   "metadata": {
    "collapsed": false
   },
   "outputs": [
    {
     "name": "stdout",
     "output_type": "stream",
     "text": [
      "male      38\n",
      "female    14\n",
      "Name: sx, dtype: int64\n",
      "doctorate    34\n",
      "masters      18\n",
      "Name: dg, dtype: int64\n",
      "full         20\n",
      "assistant    18\n",
      "associate    14\n",
      "Name: rk, dtype: int64\n"
     ]
    }
   ],
   "source": [
    "# Apply value_counts() to series for \"sx\", \"dg\", and \"rk\"\n",
    "print df[\"sx\"].value_counts()\n",
    "print df[\"dg\"].value_counts()\n",
    "print df[\"rk\"].value_counts()"
   ]
  },
  {
   "cell_type": "code",
   "execution_count": 5,
   "metadata": {
    "collapsed": false
   },
   "outputs": [
    {
     "name": "stdout",
     "output_type": "stream",
     "text": [
      "Index([u'sx', u'rk', u'yr', u'dg', u'yd', u'sl', u'sx_female', u'sx_male',\n",
      "       u'rk_assistant', u'rk_associate', u'rk_full', u'dg_doctorate',\n",
      "       u'dg_masters'],\n",
      "      dtype='object')\n"
     ]
    },
    {
     "data": {
      "text/html": [
       "<div>\n",
       "<table border=\"1\" class=\"dataframe\">\n",
       "  <thead>\n",
       "    <tr style=\"text-align: right;\">\n",
       "      <th></th>\n",
       "      <th>sx</th>\n",
       "      <th>rk</th>\n",
       "      <th>yr</th>\n",
       "      <th>dg</th>\n",
       "      <th>yd</th>\n",
       "      <th>sl</th>\n",
       "      <th>sx_female</th>\n",
       "      <th>sx_male</th>\n",
       "      <th>rk_assistant</th>\n",
       "      <th>rk_associate</th>\n",
       "      <th>rk_full</th>\n",
       "      <th>dg_doctorate</th>\n",
       "      <th>dg_masters</th>\n",
       "    </tr>\n",
       "  </thead>\n",
       "  <tbody>\n",
       "    <tr>\n",
       "      <th>50</th>\n",
       "      <td>female</td>\n",
       "      <td>assistant</td>\n",
       "      <td>1</td>\n",
       "      <td>doctorate</td>\n",
       "      <td>1</td>\n",
       "      <td>15000</td>\n",
       "      <td>1.0</td>\n",
       "      <td>0.0</td>\n",
       "      <td>1.0</td>\n",
       "      <td>0.0</td>\n",
       "      <td>0.0</td>\n",
       "      <td>1.0</td>\n",
       "      <td>0.0</td>\n",
       "    </tr>\n",
       "    <tr>\n",
       "      <th>47</th>\n",
       "      <td>female</td>\n",
       "      <td>assistant</td>\n",
       "      <td>2</td>\n",
       "      <td>doctorate</td>\n",
       "      <td>2</td>\n",
       "      <td>15350</td>\n",
       "      <td>1.0</td>\n",
       "      <td>0.0</td>\n",
       "      <td>1.0</td>\n",
       "      <td>0.0</td>\n",
       "      <td>0.0</td>\n",
       "      <td>1.0</td>\n",
       "      <td>0.0</td>\n",
       "    </tr>\n",
       "    <tr>\n",
       "      <th>45</th>\n",
       "      <td>male</td>\n",
       "      <td>assistant</td>\n",
       "      <td>2</td>\n",
       "      <td>doctorate</td>\n",
       "      <td>1</td>\n",
       "      <td>16094</td>\n",
       "      <td>0.0</td>\n",
       "      <td>1.0</td>\n",
       "      <td>1.0</td>\n",
       "      <td>0.0</td>\n",
       "      <td>0.0</td>\n",
       "      <td>1.0</td>\n",
       "      <td>0.0</td>\n",
       "    </tr>\n",
       "    <tr>\n",
       "      <th>46</th>\n",
       "      <td>female</td>\n",
       "      <td>assistant</td>\n",
       "      <td>2</td>\n",
       "      <td>doctorate</td>\n",
       "      <td>6</td>\n",
       "      <td>16150</td>\n",
       "      <td>1.0</td>\n",
       "      <td>0.0</td>\n",
       "      <td>1.0</td>\n",
       "      <td>0.0</td>\n",
       "      <td>0.0</td>\n",
       "      <td>1.0</td>\n",
       "      <td>0.0</td>\n",
       "    </tr>\n",
       "    <tr>\n",
       "      <th>48</th>\n",
       "      <td>male</td>\n",
       "      <td>assistant</td>\n",
       "      <td>1</td>\n",
       "      <td>doctorate</td>\n",
       "      <td>1</td>\n",
       "      <td>16244</td>\n",
       "      <td>0.0</td>\n",
       "      <td>1.0</td>\n",
       "      <td>1.0</td>\n",
       "      <td>0.0</td>\n",
       "      <td>0.0</td>\n",
       "      <td>1.0</td>\n",
       "      <td>0.0</td>\n",
       "    </tr>\n",
       "  </tbody>\n",
       "</table>\n",
       "</div>"
      ],
      "text/plain": [
       "        sx         rk  yr         dg  yd     sl  sx_female  sx_male  \\\n",
       "50  female  assistant   1  doctorate   1  15000        1.0      0.0   \n",
       "47  female  assistant   2  doctorate   2  15350        1.0      0.0   \n",
       "45    male  assistant   2  doctorate   1  16094        0.0      1.0   \n",
       "46  female  assistant   2  doctorate   6  16150        1.0      0.0   \n",
       "48    male  assistant   1  doctorate   1  16244        0.0      1.0   \n",
       "\n",
       "    rk_assistant  rk_associate  rk_full  dg_doctorate  dg_masters  \n",
       "50           1.0           0.0      0.0           1.0         0.0  \n",
       "47           1.0           0.0      0.0           1.0         0.0  \n",
       "45           1.0           0.0      0.0           1.0         0.0  \n",
       "46           1.0           0.0      0.0           1.0         0.0  \n",
       "48           1.0           0.0      0.0           1.0         0.0  "
      ]
     },
     "execution_count": 5,
     "metadata": {},
     "output_type": "execute_result"
    }
   ],
   "source": [
    "## Students can copy their code from Week 2, Lesson 3.3\n",
    "# Create dummy variables\n",
    "\n",
    "categories = [\"sx\", \"rk\", \"dg\"]\n",
    "for category in categories:\n",
    "    series = df[category]\n",
    "    dummies = pd.get_dummies(series, prefix=category)\n",
    "    df = pd.concat([df, dummies], axis=1)\n",
    "print df.columns\n",
    "df.head()"
   ]
  },
  {
   "cell_type": "markdown",
   "metadata": {},
   "source": [
    "### Here's an example to get you started.\n",
    "\n",
    "Try reruning the next cell multiple times. You should see an improvement in the fit on the full data set for some samples."
   ]
  },
  {
   "cell_type": "code",
   "execution_count": 34,
   "metadata": {
    "collapsed": false
   },
   "outputs": [
    {
     "name": "stdout",
     "output_type": "stream",
     "text": [
      "Sample: 0.852872606019\n",
      "All data with sample model: 0.375541906397\n",
      "Sample with regularization: 0.850576385718\n",
      "All data with regularization model: 0.475050833957\n"
     ]
    }
   ],
   "source": [
    "# Here's an example to get you started. Let's fit a model on a small random subset\n",
    "\n",
    "subset = df.sample(frac=0.1, replace=False)\n",
    "\n",
    "X = subset[[u'yr', u'yd']]\n",
    "y = subset[u'sl']\n",
    "\n",
    "lm = linear_model.LinearRegression()\n",
    "model = lm.fit(X, y)\n",
    "predictions = model.predict(X)\n",
    "print \"Sample:\", model.score(X, y)\n",
    "\n",
    "# Apply to the whole data set\n",
    "\n",
    "X = df[[u'yr', u'yd']]\n",
    "y = df[u'sl']\n",
    "print \"All data with sample model:\", model.score(X, y)\n",
    "\n",
    "# Repeat with regularization\n",
    "\n",
    "X = subset[[u'yr', u'yd']]\n",
    "y = subset[u'sl']\n",
    "\n",
    "lm = linear_model.RidgeCV(alphas=[0.1, 1, 10]) # Try different alphas\n",
    "model = lm.fit(X, y)\n",
    "predictions = model.predict(X)\n",
    "print \"Sample with regularization:\", model.score(X, y)\n",
    "\n",
    "# Apply to the whole data set\n",
    "\n",
    "X = df[[u'yr', u'yd']]\n",
    "y = df[u'sl']\n",
    "print \"All data with regularization model:\", model.score(X, y)\n",
    "\n",
    "# Did the results improve?"
   ]
  },
  {
   "cell_type": "markdown",
   "metadata": {},
   "source": [
    "### Begin your exercises below"
   ]
  },
  {
   "cell_type": "code",
   "execution_count": 7,
   "metadata": {
    "collapsed": false
   },
   "outputs": [
    {
     "name": "stdout",
     "output_type": "stream",
     "text": [
      "0.88630543814\n"
     ]
    },
    {
     "data": {
      "image/png": "[encoded data removed]",
      "text/plain": [
       "<matplotlib.figure.Figure at 0x7fef13d6e910>"
      ]
     },
     "metadata": {},
     "output_type": "display_data"
    },
    {
     "name": "stdout",
     "output_type": "stream",
     "text": [
      "0.69448811957\n"
     ]
    }
   ],
   "source": [
    "# Fit a model to the men\n",
    "mask = df[\"sx\"] == \"male\"\n",
    "X = df[mask][[u'yr', u'yd',\n",
    "       u'rk_assistant', u'rk_associate', u'rk_full', u'dg_doctorate',\n",
    "       u'dg_masters']]\n",
    "y = df[mask][u'sl']\n",
    "\n",
    "lm = linear_model.LinearRegression()\n",
    "model = lm.fit(X, y)\n",
    "predictions = lm.predict(X)\n",
    "print lm.score(X, y)\n",
    "\n",
    "plt.scatter(y, predictions)\n",
    "plt.ylabel(\"Predictions\")\n",
    "plt.xlabel(\"True Values\")\n",
    "plt.show()\n",
    "\n",
    "# Apply to women\n",
    "mask = df[\"sx\"] == \"female\"\n",
    "X = df[mask][[u'yr', u'yd',\n",
    "       u'rk_assistant', u'rk_associate', u'rk_full', u'dg_doctorate',\n",
    "       u'dg_masters']]\n",
    "y = df[mask][u'sl']\n",
    "print lm.score(X, y)"
   ]
  },
  {
   "cell_type": "code",
   "execution_count": 8,
   "metadata": {
    "collapsed": false
   },
   "outputs": [
    {
     "name": "stdout",
     "output_type": "stream",
     "text": [
      "0.781837240731\n"
     ]
    },
    {
     "data": {
      "image/png": "[encoded data removed]",
      "text/plain": [
       "<matplotlib.figure.Figure at 0x7fef13d64350>"
      ]
     },
     "metadata": {},
     "output_type": "display_data"
    },
    {
     "name": "stdout",
     "output_type": "stream",
     "text": [
      "0.657523429275\n"
     ]
    }
   ],
   "source": [
    "# What about the other order? Apply to women first\n",
    "mask = df[\"sx\"] == \"female\"\n",
    "X = df[mask][[u'yr', u'yd',\n",
    "       u'rk_assistant', u'rk_associate', u'rk_full', u'dg_doctorate',\n",
    "       u'dg_masters']]\n",
    "y = df[mask][u'sl']\n",
    "\n",
    "lm = linear_model.LinearRegression()\n",
    "model = lm.fit(X, y)\n",
    "predictions = lm.predict(X)\n",
    "print lm.score(X, y)\n",
    "\n",
    "plt.scatter(y, predictions)\n",
    "plt.ylabel(\"Predictions\")\n",
    "plt.xlabel(\"True Values\")\n",
    "plt.show()\n",
    "\n",
    "# Apply to men\n",
    "mask = df[\"sx\"] == \"male\"\n",
    "X = df[mask][[u'yr', u'yd',\n",
    "       u'rk_assistant', u'rk_associate', u'rk_full', u'dg_doctorate',\n",
    "       u'dg_masters']]\n",
    "y = df[mask][u'sl']\n",
    "print lm.score(X, y)"
   ]
  },
  {
   "cell_type": "code",
   "execution_count": 9,
   "metadata": {
    "collapsed": false
   },
   "outputs": [
    {
     "name": "stdout",
     "output_type": "stream",
     "text": [
      "alpha: 0.7\n",
      "0.763926247352\n"
     ]
    },
    {
     "data": {
      "image/png": "[encoded data removed]",
      "text/plain": [
       "<matplotlib.figure.Figure at 0x7fef13c1aa10>"
      ]
     },
     "metadata": {},
     "output_type": "display_data"
    },
    {
     "name": "stdout",
     "output_type": "stream",
     "text": [
      "0.728008690801\n"
     ]
    }
   ],
   "source": [
    "# This time use regularlization\n",
    "\n",
    "# What about the other order? Apply to women first\n",
    "mask = df[\"sx\"] == \"female\"\n",
    "X = df[mask][[u'yr', u'yd',\n",
    "       u'rk_assistant', u'rk_associate', u'rk_full', u'dg_doctorate',\n",
    "       u'dg_masters']]\n",
    "y = df[mask][u'sl']\n",
    "\n",
    "lm = linear_model.RidgeCV(alphas=np.arange(0.1, 10, 0.1))\n",
    "model = lm.fit(X, y)\n",
    "predictions = lm.predict(X)\n",
    "print \"alpha:\", lm.alpha_\n",
    "print lm.score(X, y)\n",
    "\n",
    "plt.scatter(y, predictions)\n",
    "plt.ylabel(\"Predictions\")\n",
    "plt.xlabel(\"True Values\")\n",
    "plt.show()\n",
    "\n",
    "# Apply to men\n",
    "mask = df[\"sx\"] == \"male\"\n",
    "X = df[mask][[u'yr', u'yd',\n",
    "       u'rk_assistant', u'rk_associate', u'rk_full', u'dg_doctorate',\n",
    "       u'dg_masters']]\n",
    "y = df[mask][u'sl']\n",
    "print lm.score(X, y)"
   ]
  },
  {
   "cell_type": "markdown",
   "metadata": {
    "collapsed": true
   },
   "source": [
    "### Results\n",
    "With regularization, we got a better fit on the second data set.\n",
    "\n",
    "Now let's move on to the next category, \"dg\" (degree)."
   ]
  },
  {
   "cell_type": "code",
   "execution_count": 10,
   "metadata": {
    "collapsed": false
   },
   "outputs": [
    {
     "name": "stdout",
     "output_type": "stream",
     "text": [
      "0.876486548837\n"
     ]
    },
    {
     "data": {
      "image/png": "[encoded data removed]",
      "text/plain": [
       "<matplotlib.figure.Figure at 0x7fef13af11d0>"
      ]
     },
     "metadata": {},
     "output_type": "display_data"
    },
    {
     "name": "stdout",
     "output_type": "stream",
     "text": [
      "0.6849888843\n"
     ]
    }
   ],
   "source": [
    "mask = (df[\"dg\"] == \"doctorate\")\n",
    "\n",
    "X = df[mask][[u'yr', u'yd', u'sx_female', u'sx_male', u'rk_assistant',\n",
    "              u'rk_associate', u'rk_full']]\n",
    "y = df[mask][u'sl']\n",
    "\n",
    "lm = linear_model.LinearRegression()\n",
    "model = lm.fit(X, y)\n",
    "predictions = lm.predict(X)\n",
    "print lm.score(X, y)\n",
    "\n",
    "plt.scatter(y, predictions)\n",
    "plt.ylabel(\"Predictions\")\n",
    "plt.xlabel(\"True Values\")\n",
    "plt.show()\n",
    "\n",
    "mask = (df[\"dg\"] != \"doctorate\")\n",
    "X = df[mask][[u'yr', u'yd', u'sx_female', u'sx_male', u'rk_assistant',\n",
    "              u'rk_associate', u'rk_full']]\n",
    "y = df[mask][u'sl']\n",
    "print lm.score(X, y)"
   ]
  },
  {
   "cell_type": "code",
   "execution_count": 11,
   "metadata": {
    "collapsed": false
   },
   "outputs": [
    {
     "name": "stdout",
     "output_type": "stream",
     "text": [
      "0.797682614586\n"
     ]
    },
    {
     "data": {
      "image/png": "[encoded data removed]",
      "text/plain": [
       "<matplotlib.figure.Figure at 0x7fef13a35b90>"
      ]
     },
     "metadata": {},
     "output_type": "display_data"
    },
    {
     "name": "stdout",
     "output_type": "stream",
     "text": [
      "0.745050571834\n"
     ]
    }
   ],
   "source": [
    "# Change the order\n",
    "\n",
    "mask = (df[\"dg\"] != \"doctorate\") # !=\n",
    "\n",
    "X = df[mask][[u'yr', u'yd', u'sx_female', u'sx_male', u'rk_assistant',\n",
    "              u'rk_associate', u'rk_full']]\n",
    "y = df[mask][u'sl']\n",
    "\n",
    "lm = linear_model.LinearRegression()\n",
    "model = lm.fit(X, y)\n",
    "predictions = lm.predict(X)\n",
    "print lm.score(X, y)\n",
    "\n",
    "plt.scatter(y, predictions)\n",
    "plt.ylabel(\"Predictions\")\n",
    "plt.xlabel(\"True Values\")\n",
    "plt.show()\n",
    "\n",
    "mask = (df[\"dg\"] == \"doctorate\") # ==\n",
    "X = df[mask][[u'yr', u'yd', u'sx_female', u'sx_male', u'rk_assistant',\n",
    "              u'rk_associate', u'rk_full']]\n",
    "y = df[mask][u'sl']\n",
    "print lm.score(X, y)"
   ]
  },
  {
   "cell_type": "code",
   "execution_count": 12,
   "metadata": {
    "collapsed": false
   },
   "outputs": [
    {
     "name": "stdout",
     "output_type": "stream",
     "text": [
      "alpha: 1.0\n",
      "0.763135476913\n"
     ]
    },
    {
     "data": {
      "image/png": "[encoded data removed]",
      "text/plain": [
       "<matplotlib.figure.Figure at 0x7fef13d82590>"
      ]
     },
     "metadata": {},
     "output_type": "display_data"
    },
    {
     "name": "stdout",
     "output_type": "stream",
     "text": [
      "0.76942062736\n"
     ]
    }
   ],
   "source": [
    "# With regularization\n",
    "\n",
    "mask = (df[\"dg\"] != \"doctorate\") # !=\n",
    "\n",
    "X = df[mask][[u'yr', u'yd', u'sx_female', u'sx_male', u'rk_assistant',\n",
    "              u'rk_associate', u'rk_full']]\n",
    "y = df[mask][u'sl']\n",
    "\n",
    "lm = linear_model.RidgeCV(alphas=np.arange(1, 2, 0.1))\n",
    "model = lm.fit(X, y)\n",
    "predictions = lm.predict(X)\n",
    "print \"alpha:\", lm.alpha_\n",
    "print lm.score(X, y)\n",
    "\n",
    "plt.scatter(y, predictions)\n",
    "plt.ylabel(\"Predictions\")\n",
    "plt.xlabel(\"True Values\")\n",
    "plt.show()\n",
    "\n",
    "mask = (df[\"dg\"] == \"doctorate\") # ==\n",
    "X = df[mask][[u'yr', u'yd', u'sx_female', u'sx_male', u'rk_assistant',\n",
    "              u'rk_associate', u'rk_full']]\n",
    "y = df[mask][u'sl']\n",
    "print lm.score(X, y)"
   ]
  },
  {
   "cell_type": "markdown",
   "metadata": {},
   "source": [
    "### Results\n",
    "That time we only got a small gain from regularization. Note by varying alpha we can shift the goodness of fit.\n",
    "\n",
    "Next we move on to \"rk\" (professor rank). In this case there are three options."
   ]
  },
  {
   "cell_type": "code",
   "execution_count": 13,
   "metadata": {
    "collapsed": false
   },
   "outputs": [
    {
     "name": "stdout",
     "output_type": "stream",
     "text": [
      "full: 0.518546885368\n"
     ]
    },
    {
     "data": {
      "image/png": "[encoded data removed]",
      "text/plain": [
       "<matplotlib.figure.Figure at 0x7fef13971e90>"
      ]
     },
     "metadata": {},
     "output_type": "display_data"
    },
    {
     "data": {
      "image/png": "[encoded data removed]",
      "text/plain": [
       "<matplotlib.figure.Figure at 0x7fef13acf950>"
      ]
     },
     "metadata": {},
     "output_type": "display_data"
    },
    {
     "name": "stdout",
     "output_type": "stream",
     "text": [
      "associate: -7.45265423236\n"
     ]
    },
    {
     "data": {
      "image/png": "[encoded data removed]",
      "text/plain": [
       "<matplotlib.figure.Figure at 0x7fef13cde390>"
      ]
     },
     "metadata": {},
     "output_type": "display_data"
    },
    {
     "name": "stdout",
     "output_type": "stream",
     "text": [
      "assistant: -18.353149193\n"
     ]
    }
   ],
   "source": [
    "from sklearn.metrics import r2_score\n",
    "\n",
    "mask = (df[\"rk\"] == \"full\")\n",
    "\n",
    "X = df[mask][[u'yr', u'yd', u'sx_female', u'sx_male',\n",
    "              u'dg_doctorate', u'dg_masters']]\n",
    "y = df[mask][u'sl']\n",
    "\n",
    "lm = linear_model.LinearRegression()\n",
    "\n",
    "model = lm.fit(X, y)\n",
    "predictions = lm.predict(X)\n",
    "print \"full:\", r2_score(y, predictions)\n",
    "\n",
    "predictions = lm.predict(X)\n",
    "plt.scatter(y, predictions)\n",
    "plt.ylabel(\"Predictions\")\n",
    "plt.xlabel(\"True Values\")\n",
    "plt.show()\n",
    "\n",
    "mask = (df[\"rk\"] == \"associate\")\n",
    "X = df[mask][[u'yr', u'yd', u'sx_female', u'sx_male',\n",
    "              u'dg_doctorate', u'dg_masters']]\n",
    "y = df[mask][u'sl']\n",
    "\n",
    "predictions = lm.predict(X)\n",
    "plt.scatter(y, predictions)\n",
    "plt.ylabel(\"Predictions\")\n",
    "plt.xlabel(\"True Values\")\n",
    "plt.show()\n",
    "\n",
    "print \"associate:\", r2_score(y, predictions)\n",
    "\n",
    "mask = (df[\"rk\"] == \"assistant\")\n",
    "X = df[mask][[u'yr', u'yd', u'sx_female', u'sx_male',\n",
    "              u'dg_doctorate', u'dg_masters']]\n",
    "y = df[mask][u'sl']\n",
    "\n",
    "predictions = lm.predict(X)\n",
    "plt.scatter(y, predictions)\n",
    "plt.ylabel(\"Predictions\")\n",
    "plt.xlabel(\"True Values\")\n",
    "plt.show()\n",
    "\n",
    "print \"assistant:\", r2_score(y, predictions)"
   ]
  },
  {
   "cell_type": "code",
   "execution_count": 14,
   "metadata": {
    "collapsed": false
   },
   "outputs": [
    {
     "name": "stdout",
     "output_type": "stream",
     "text": [
      "associate: 0.621136292896\n",
      "full: -2.60749883815\n",
      "assistant: -7.96517263065\n"
     ]
    }
   ],
   "source": [
    "mask = (df[\"rk\"] == \"associate\")\n",
    "\n",
    "X = df[mask][[u'yr', u'yd', u'sx_female', u'sx_male',\n",
    "              u'dg_doctorate', u'dg_masters']]\n",
    "y = df[mask][u'sl']\n",
    "\n",
    "lm = linear_model.LinearRegression()\n",
    "\n",
    "model = lm.fit(X, y)\n",
    "predictions = lm.predict(X)\n",
    "print \"associate:\", r2_score(y, predictions)\n",
    "\n",
    "mask = (df[\"rk\"] == \"full\")\n",
    "X = df[mask][[u'yr', u'yd', u'sx_female', u'sx_male',\n",
    "              u'dg_doctorate', u'dg_masters']]\n",
    "y = df[mask][u'sl']\n",
    "\n",
    "predictions = lm.predict(X)\n",
    "print \"full:\", r2_score(y, predictions)\n",
    "\n",
    "mask = (df[\"rk\"] == \"assistant\")\n",
    "X = df[mask][[u'yr', u'yd', u'sx_female', u'sx_male',\n",
    "              u'dg_doctorate', u'dg_masters']]\n",
    "y = df[mask][u'sl']\n",
    "\n",
    "predictions = lm.predict(X)\n",
    "print \"assistant:\", r2_score(y, predictions)"
   ]
  },
  {
   "cell_type": "code",
   "execution_count": 15,
   "metadata": {
    "collapsed": false
   },
   "outputs": [
    {
     "name": "stdout",
     "output_type": "stream",
     "text": [
      "assistant: 0.515603387509\n",
      "full: -8.39910384198\n",
      "associate: -5.80743845944\n"
     ]
    }
   ],
   "source": [
    "mask = (df[\"rk\"] == \"assistant\")\n",
    "\n",
    "X = df[mask][[u'yr', u'yd', u'sx_female', u'sx_male',\n",
    "              u'dg_doctorate', u'dg_masters']]\n",
    "y = df[mask][u'sl']\n",
    "\n",
    "lm = linear_model.LinearRegression()\n",
    "\n",
    "model = lm.fit(X, y)\n",
    "predictions = lm.predict(X)\n",
    "print \"assistant:\", r2_score(y, predictions)\n",
    "\n",
    "predictions = lm.predict(X)\n",
    "\n",
    "mask = (df[\"rk\"] == \"full\")\n",
    "X = df[mask][[u'yr', u'yd', u'sx_female', u'sx_male',\n",
    "              u'dg_doctorate', u'dg_masters']]\n",
    "y = df[mask][u'sl']\n",
    "\n",
    "predictions = lm.predict(X)\n",
    "print \"full:\", r2_score(y, predictions)\n",
    "\n",
    "mask = (df[\"rk\"] == \"associate\")\n",
    "X = df[mask][[u'yr', u'yd', u'sx_female', u'sx_male',\n",
    "              u'dg_doctorate', u'dg_masters']]\n",
    "y = df[mask][u'sl']\n",
    "\n",
    "predictions = lm.predict(X)\n",
    "print \"associate:\", r2_score(y, predictions)"
   ]
  },
  {
   "cell_type": "markdown",
   "metadata": {},
   "source": [
    "# Results\n",
    "As you can see, fitting a model on any of the subsets does not produce  good model for the others. In this case regularization won't help much."
   ]
  },
  {
   "cell_type": "markdown",
   "metadata": {},
   "source": [
    "### Bonus\n",
    "\n",
    "Regularization does make a difference when predicting \"yd\" split on \"sx\". Can your students find others?"
   ]
  },
  {
   "cell_type": "code",
   "execution_count": 16,
   "metadata": {
    "collapsed": false
   },
   "outputs": [
    {
     "name": "stdout",
     "output_type": "stream",
     "text": [
      "0.926177658276\n"
     ]
    },
    {
     "data": {
      "image/png": "[encoded data removed]",
      "text/plain": [
       "<matplotlib.figure.Figure at 0x7fef139a9c10>"
      ]
     },
     "metadata": {},
     "output_type": "display_data"
    },
    {
     "name": "stdout",
     "output_type": "stream",
     "text": [
      "0.0479508851501\n"
     ]
    }
   ],
   "source": [
    "mask = df[\"sx\"] == \"female\"\n",
    "X = df[mask][[u'sl', u'yr',\n",
    "       u'rk_assistant', u'rk_associate', u'rk_full', u'dg_doctorate',\n",
    "       u'dg_masters']]\n",
    "y = df[mask][u'yd']\n",
    "\n",
    "lm = linear_model.LinearRegression()\n",
    "# lm = linear_model.RidgeCV(alphas=np.arange(0.1, 10, 0.1))\n",
    "model = lm.fit(X, y)\n",
    "predictions = lm.predict(X)\n",
    "# print \"alpha:\", lm.alpha_\n",
    "print lm.score(X, y)\n",
    "\n",
    "plt.scatter(y, predictions)\n",
    "plt.ylabel(\"Predictions\")\n",
    "plt.xlabel(\"True Values\")\n",
    "plt.show()\n",
    "\n",
    "mask = df[\"sx\"] == \"male\"\n",
    "X = df[mask][[u'sl', u'yr',\n",
    "       u'rk_assistant', u'rk_associate', u'rk_full', u'dg_doctorate',\n",
    "       u'dg_masters']]\n",
    "y = df[mask][u'yd']\n",
    "print lm.score(X, y)"
   ]
  },
  {
   "cell_type": "code",
   "execution_count": 17,
   "metadata": {
    "collapsed": false
   },
   "outputs": [
    {
     "name": "stdout",
     "output_type": "stream",
     "text": [
      "alpha: 0.5\n",
      "0.918387308136\n"
     ]
    },
    {
     "data": {
      "image/png": "[encoded data removed]",
      "text/plain": [
       "<matplotlib.figure.Figure at 0x7fef13c9e650>"
      ]
     },
     "metadata": {},
     "output_type": "display_data"
    },
    {
     "name": "stdout",
     "output_type": "stream",
     "text": [
      "0.167545627944\n"
     ]
    }
   ],
   "source": [
    "mask = df[\"sx\"] == \"female\"\n",
    "X = df[mask][[u'sl', u'yr',\n",
    "       u'rk_assistant', u'rk_associate', u'rk_full', u'dg_doctorate',\n",
    "       u'dg_masters']]\n",
    "y = df[mask][u'yd']\n",
    "\n",
    "# lm = linear_model.LinearRegression()\n",
    "lm = linear_model.RidgeCV(alphas=np.arange(0.1, 10, 0.1))\n",
    "model = lm.fit(X, y)\n",
    "predictions = lm.predict(X)\n",
    "print \"alpha:\", lm.alpha_\n",
    "print lm.score(X, y)\n",
    "\n",
    "plt.scatter(y, predictions)\n",
    "plt.ylabel(\"Predictions\")\n",
    "plt.xlabel(\"True Values\")\n",
    "plt.show()\n",
    "\n",
    "mask = df[\"sx\"] == \"male\"\n",
    "X = df[mask][[u'sl', u'yr',\n",
    "       u'rk_assistant', u'rk_associate', u'rk_full', u'dg_doctorate',\n",
    "       u'dg_masters']]\n",
    "y = df[mask][u'yd']\n",
    "print lm.score(X, y)"
   ]
  },
  {
   "cell_type": "code",
   "execution_count": 18,
   "metadata": {
    "collapsed": false
   },
   "outputs": [
    {
     "name": "stdout",
     "output_type": "stream",
     "text": [
      "alpha: 0.3\n",
      "0.918931384594\n"
     ]
    },
    {
     "data": {
      "image/png": "[encoded data removed]",
      "text/plain": [
       "<matplotlib.figure.Figure at 0x7fef13bde050>"
      ]
     },
     "metadata": {},
     "output_type": "display_data"
    },
    {
     "name": "stdout",
     "output_type": "stream",
     "text": [
      "0.157379378495\n"
     ]
    }
   ],
   "source": [
    "mask = df[\"sx\"] == \"female\"\n",
    "X = df[mask][[u'sl', u'yr',\n",
    "       u'rk_assistant', u'rk_associate', u'rk_full', u'dg_doctorate',\n",
    "       u'dg_masters']]\n",
    "y = df[mask][u'yd']\n",
    "\n",
    "# lm = linear_model.LinearRegression()\n",
    "lm = linear_model.LassoCV(alphas=np.arange(0.1, 10, 0.1))\n",
    "model = lm.fit(X, y)\n",
    "predictions = lm.predict(X)\n",
    "print \"alpha:\", lm.alpha_\n",
    "print lm.score(X, y)\n",
    "\n",
    "plt.scatter(y, predictions)\n",
    "plt.ylabel(\"Predictions\")\n",
    "plt.xlabel(\"True Values\")\n",
    "plt.show()\n",
    "\n",
    "mask = df[\"sx\"] == \"male\"\n",
    "X = df[mask][[u'sl', u'yr',\n",
    "       u'rk_assistant', u'rk_associate', u'rk_full', u'dg_doctorate',\n",
    "       u'dg_masters']]\n",
    "y = df[mask][u'yd']\n",
    "print lm.score(X, y)"
   ]
  },
  {
   "cell_type": "code",
   "execution_count": 19,
   "metadata": {
    "collapsed": false
   },
   "outputs": [
    {
     "name": "stdout",
     "output_type": "stream",
     "text": [
      "alpha: 9.9\n",
      "0.462516963657\n"
     ]
    },
    {
     "data": {
      "image/png": "[encoded data removed]",
      "text/plain": [
       "<matplotlib.figure.Figure at 0x7fef13d8c310>"
      ]
     },
     "metadata": {},
     "output_type": "display_data"
    },
    {
     "name": "stdout",
     "output_type": "stream",
     "text": [
      "0.570804838863\n"
     ]
    }
   ],
   "source": [
    "# This time use regularlization\n",
    "\n",
    "# What about the other order? Apply to women first\n",
    "mask = df[\"sx\"] == \"female\"\n",
    "X = df[mask][[u'yr', u'yd']]\n",
    "y = df[mask][u'sl']\n",
    "\n",
    "# lm = linear_model.LinearRegression()\n",
    "lm = linear_model.RidgeCV(alphas=np.arange(0.1, 10, 0.1))\n",
    "model = lm.fit(X, y)\n",
    "predictions = lm.predict(X)\n",
    "print \"alpha:\", lm.alpha_\n",
    "print lm.score(X, y)\n",
    "\n",
    "plt.scatter(y, predictions)\n",
    "plt.ylabel(\"Predictions\")\n",
    "plt.xlabel(\"True Values\")\n",
    "plt.show()\n",
    "\n",
    "# Apply to men\n",
    "mask = df[\"sx\"] == \"male\"\n",
    "X = df[mask][[u'yr', u'yd']]\n",
    "y = df[mask][u'sl']\n",
    "print lm.score(X, y)"
   ]
  },
  {
   "cell_type": "code",
   "execution_count": null,
   "metadata": {
    "collapsed": true
   },
   "outputs": [],
   "source": []
  }
 ],
 "metadata": {
  "kernelspec": {
   "display_name": "Python 2",
   "language": "python",
   "name": "python2"
  },
  "language_info": {
   "codemirror_mode": {
    "name": "ipython",
    "version": 2
   },
   "file_extension": ".py",
   "mimetype": "text/x-python",
   "name": "python",
   "nbconvert_exporter": "python",
   "pygments_lexer": "ipython2",
   "version": "2.7.10"
  }
 },
 "nbformat": 4,
 "nbformat_minor": 0
}
