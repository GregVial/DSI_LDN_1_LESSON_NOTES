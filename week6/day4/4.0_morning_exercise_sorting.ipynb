{
 "cells": [
  {
   "cell_type": "markdown",
   "metadata": {},
   "source": [
    "# ![](https://ga-dash.s3.amazonaws.com/production/assets/logo-9f88ae6c9c3871690e33280fcf557f33.png) Sorting\n",
    "Week 6 | Morning Exercise 4.0"
   ]
  },
  {
   "cell_type": "markdown",
   "metadata": {},
   "source": [
    "### Background\n",
    "\n",
    "Questions about sorting lists would be a fairly common task for a coding interviews. There are plenty of algorithms out there that sort lists, with different amounts of time complexity (run time) and space complexity (memory allocation).\n",
    "\n",
    "Bubble sort is a simple algorithm. As it passes over the list, it exchanges items that are out of order. It keeps passing over the list and exchanging items until the list is sorted:\n",
    "\n",
    "![](http://interactivepython.org/runestone/static/pythonds/_images/bubblepass.png)\n",
    "\n",
    "Here's a nice link to the [bubble sort algorithm, animated](http://www.cs.armstrong.edu/liang/animation/web/BubbleSort.html)\n",
    "\n",
    "### Challenge\n",
    "Implement the bubble sort in Python. We will do this as a pair coding exercise.\n",
    "\n",
    "Ask yourself - is it more optimised for time or memory? What other methods of sorting can you think of that might be better?\n",
    "\n",
    "\n",
    "### Further Reading\n",
    "Insertion sort is another simple sorting algorithm. Look up how it works. Try to implement it in Python. Which algorithms tend to perform better? How do they work? What are their complexities?\n",
    "\n",
    "Here's an [animation of several sorting algorithms](https://www.toptal.com/developers/sorting-algorithms).\n",
    "Here's [another animation page](http://sorting.at/)."
   ]
  },
  {
   "cell_type": "code",
   "execution_count": 5,
   "metadata": {
    "collapsed": true
   },
   "outputs": [],
   "source": [
    "# Here's a list to sort\n",
    "my_list =[54,26,93,17,77,31,44,55,20]"
   ]
  },
  {
   "cell_type": "code",
   "execution_count": null,
   "metadata": {
    "collapsed": true
   },
   "outputs": [],
   "source": []
  }
 ],
 "metadata": {
  "kernelspec": {
   "display_name": "Python [Root]",
   "language": "python",
   "name": "Python [Root]"
  },
  "language_info": {
   "codemirror_mode": {
    "name": "ipython",
    "version": 2
   },
   "file_extension": ".py",
   "mimetype": "text/x-python",
   "name": "python",
   "nbconvert_exporter": "python",
   "pygments_lexer": "ipython2",
   "version": "2.7.12"
  }
 },
 "nbformat": 4,
 "nbformat_minor": 1
}
