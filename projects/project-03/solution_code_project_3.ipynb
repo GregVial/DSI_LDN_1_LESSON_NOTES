{
 "cells": [
  {
   "cell_type": "markdown",
   "metadata": {},
   "source": [
    "# Getting started\n",
    "\n",
    "Once you've chosen your scenario, download the data from [the Iowa website](https://data.iowa.gov/Economy/Iowa-Liquor-Sales/m3tr-qhgy) in csv format. Start by loading the data with pandas. You may need to parse the date columns appropriately."
   ]
  },
  {
   "cell_type": "markdown",
   "metadata": {},
   "source": [
    "### Solution: Students should load and process the data. Consult the solution code for Lab 3.3 for a good example (also below)."
   ]
  },
  {
   "cell_type": "code",
   "execution_count": 15,
   "metadata": {
    "collapsed": true
   },
   "outputs": [],
   "source": [
    "% matplotlib inline\n",
    "\n",
    "from collections import defaultdict\n",
    "import datetime\n",
    "\n",
    "from matplotlib import pyplot as plt\n",
    "# Make the plots bigger\n",
    "plt.rcParams['figure.figsize'] = 10, 10\n",
    "import seaborn as sns\n",
    "\n",
    "import numpy as np\n",
    "import pandas as pd\n",
    "from sklearn import linear_model"
   ]
  },
  {
   "cell_type": "code",
   "execution_count": 16,
   "metadata": {
    "collapsed": false
   },
   "outputs": [
    {
     "data": {
      "text/html": [
       "<div>\n",
       "<table border=\"1\" class=\"dataframe\">\n",
       "  <thead>\n",
       "    <tr style=\"text-align: right;\">\n",
       "      <th></th>\n",
       "      <th>Store Number</th>\n",
       "      <th>City</th>\n",
       "      <th>2015 Sales</th>\n",
       "      <th>2015 Sales mean</th>\n",
       "      <th>County Number</th>\n",
       "      <th>Price per Liter mean</th>\n",
       "      <th>Zip Code</th>\n",
       "      <th>2015 Volume Sold (Liters)</th>\n",
       "      <th>2015 Volume Sold (Liters) mean</th>\n",
       "      <th>2015 Margin mean</th>\n",
       "      <th>2015 Sales Q1</th>\n",
       "      <th>2016 Sales Q1</th>\n",
       "      <th>First Date</th>\n",
       "      <th>Last Date</th>\n",
       "    </tr>\n",
       "  </thead>\n",
       "  <tbody>\n",
       "    <tr>\n",
       "      <th>0</th>\n",
       "      <td>2106</td>\n",
       "      <td>CEDAR FALLS</td>\n",
       "      <td>1434021.94</td>\n",
       "      <td>281.070549</td>\n",
       "      <td>7</td>\n",
       "      <td>18.846731</td>\n",
       "      <td>50613</td>\n",
       "      <td>93982.72</td>\n",
       "      <td>18.420760</td>\n",
       "      <td>93.802281</td>\n",
       "      <td>337166.53</td>\n",
       "      <td>337804.05</td>\n",
       "      <td>2015-01-08</td>\n",
       "      <td>2016-03-31</td>\n",
       "    </tr>\n",
       "    <tr>\n",
       "      <th>1</th>\n",
       "      <td>2113</td>\n",
       "      <td>GOWRIE</td>\n",
       "      <td>85763.42</td>\n",
       "      <td>63.015004</td>\n",
       "      <td>94</td>\n",
       "      <td>17.625704</td>\n",
       "      <td>50543</td>\n",
       "      <td>6500.83</td>\n",
       "      <td>4.776510</td>\n",
       "      <td>21.082425</td>\n",
       "      <td>22351.86</td>\n",
       "      <td>21736.63</td>\n",
       "      <td>2015-01-07</td>\n",
       "      <td>2016-03-30</td>\n",
       "    </tr>\n",
       "    <tr>\n",
       "      <th>2</th>\n",
       "      <td>2130</td>\n",
       "      <td>WATERLOO</td>\n",
       "      <td>1108184.99</td>\n",
       "      <td>280.624206</td>\n",
       "      <td>7</td>\n",
       "      <td>17.506599</td>\n",
       "      <td>50703</td>\n",
       "      <td>65562.88</td>\n",
       "      <td>16.602401</td>\n",
       "      <td>93.612494</td>\n",
       "      <td>277764.46</td>\n",
       "      <td>306942.27</td>\n",
       "      <td>2015-01-08</td>\n",
       "      <td>2016-03-31</td>\n",
       "    </tr>\n",
       "    <tr>\n",
       "      <th>3</th>\n",
       "      <td>2152</td>\n",
       "      <td>ROCKWELL</td>\n",
       "      <td>72080.36</td>\n",
       "      <td>50.230216</td>\n",
       "      <td>17</td>\n",
       "      <td>13.043590</td>\n",
       "      <td>50469</td>\n",
       "      <td>6164.92</td>\n",
       "      <td>4.296111</td>\n",
       "      <td>16.824704</td>\n",
       "      <td>16805.11</td>\n",
       "      <td>9307.75</td>\n",
       "      <td>2015-01-08</td>\n",
       "      <td>2016-02-25</td>\n",
       "    </tr>\n",
       "    <tr>\n",
       "      <th>4</th>\n",
       "      <td>2178</td>\n",
       "      <td>WAUKON</td>\n",
       "      <td>277987.96</td>\n",
       "      <td>104.389020</td>\n",
       "      <td>3</td>\n",
       "      <td>16.594438</td>\n",
       "      <td>52172</td>\n",
       "      <td>21719.49</td>\n",
       "      <td>8.156023</td>\n",
       "      <td>35.011457</td>\n",
       "      <td>54411.42</td>\n",
       "      <td>58939.90</td>\n",
       "      <td>2015-01-07</td>\n",
       "      <td>2016-03-30</td>\n",
       "    </tr>\n",
       "  </tbody>\n",
       "</table>\n",
       "</div>"
      ],
      "text/plain": [
       "   Store Number         City  2015 Sales  2015 Sales mean  County Number  \\\n",
       "0          2106  CEDAR FALLS  1434021.94       281.070549              7   \n",
       "1          2113       GOWRIE    85763.42        63.015004             94   \n",
       "2          2130     WATERLOO  1108184.99       280.624206              7   \n",
       "3          2152     ROCKWELL    72080.36        50.230216             17   \n",
       "4          2178       WAUKON   277987.96       104.389020              3   \n",
       "\n",
       "   Price per Liter mean Zip Code  2015 Volume Sold (Liters)  \\\n",
       "0             18.846731    50613                   93982.72   \n",
       "1             17.625704    50543                    6500.83   \n",
       "2             17.506599    50703                   65562.88   \n",
       "3             13.043590    50469                    6164.92   \n",
       "4             16.594438    52172                   21719.49   \n",
       "\n",
       "   2015 Volume Sold (Liters) mean  2015 Margin mean  2015 Sales Q1  \\\n",
       "0                       18.420760         93.802281      337166.53   \n",
       "1                        4.776510         21.082425       22351.86   \n",
       "2                       16.602401         93.612494      277764.46   \n",
       "3                        4.296111         16.824704       16805.11   \n",
       "4                        8.156023         35.011457       54411.42   \n",
       "\n",
       "   2016 Sales Q1 First Date  Last Date  \n",
       "0      337804.05 2015-01-08 2016-03-31  \n",
       "1       21736.63 2015-01-07 2016-03-30  \n",
       "2      306942.27 2015-01-08 2016-03-31  \n",
       "3        9307.75 2015-01-08 2016-02-25  \n",
       "4       58939.90 2015-01-07 2016-03-30  "
      ]
     },
     "execution_count": 16,
     "metadata": {},
     "output_type": "execute_result"
    }
   ],
   "source": [
    "# Students should load and process the data. Consult the solution code for Lab 3.3 for a good example.\n",
    "\n",
    "# Eventually students will arrive at a cleaned data set. Here we're importing the processed data from Lab 3.4. \n",
    "sales = pd.read_csv(\"../../../../../curriculum/04-lessons/week-03/3.4-lab/assets/datasets/sales.csv\")\n",
    "sales.dropna(inplace=True)\n",
    "del sales[\"Unnamed: 0\"]\n",
    "# Convert dates\n",
    "sales[\"First Date\"] = pd.to_datetime(sales[\"First Date\"], format=\"%Y-%m-%d\")\n",
    "sales[\"Last Date\"] = pd.to_datetime(sales[\"Last Date\"], format=\"%Y-%m-%d\")\n",
    "\n",
    "sales.head()"
   ]
  },
  {
   "cell_type": "markdown",
   "metadata": {},
   "source": [
    "# Explore the data\n",
    "\n",
    "Perform some exploratory statistical analysis and make some plots, such as histograms of transaction totals, bottles sold, etc."
   ]
  },
  {
   "cell_type": "markdown",
   "metadata": {
    "collapsed": true
   },
   "source": [
    "### Solution: Look for one or more plots that are targeted at the scenario. For example:\n",
    "* Scenario 1: \"Sales 2015 Q1\" vs \"Sales 2015\", See solution code for Lab 3.4\n",
    "* Scenario 2: Some kind of plot showing a relationship between total sales and one of the location variables, see below.\n",
    "\n",
    "An excellent visual might plot a [color map](http://flowingdata.com/2009/11/12/how-to-make-a-us-county-thematic-map-using-free-tools/) of e.g. 2015 Total sales on Iowa countries.\n"
   ]
  },
  {
   "cell_type": "code",
   "execution_count": 28,
   "metadata": {
    "collapsed": false
   },
   "outputs": [
    {
     "data": {
      "image/png": "[encoded data removed]",
      "text/plain": [
       "<matplotlib.figure.Figure at 0x7f319cfdf050>"
      ]
     },
     "metadata": {},
     "output_type": "display_data"
    }
   ],
   "source": [
    "# Single County\n",
    "data = sales[sales[\"County Number\"] == 7][\"2015 Sales Q1\"]\n",
    "plt.hist(data, bins=40)\n",
    "plt.show()"
   ]
  },
  {
   "cell_type": "code",
   "execution_count": 35,
   "metadata": {
    "collapsed": false
   },
   "outputs": [
    {
     "data": {
      "text/plain": [
       "<matplotlib.axes._subplots.AxesSubplot at 0x7f319d3a2390>"
      ]
     },
     "execution_count": 35,
     "metadata": {},
     "output_type": "execute_result"
    },
    {
     "data": {
      "image/png": "[encoded data removed]",
      "text/plain": [
       "<matplotlib.figure.Figure at 0x7f319a6b5090>"
      ]
     },
     "metadata": {},
     "output_type": "display_data"
    }
   ],
   "source": [
    "# Max per county, could do medians or violin plots, or many variations\n",
    "df = sales.groupby(by=[\"County Number\"], as_index=False)\n",
    "df = df.agg({\"2015 Sales\": np.max})\n",
    "df.head()\n",
    "\n",
    "df.plot.scatter(x=\"County Number\", y=\"2015 Sales\")"
   ]
  },
  {
   "cell_type": "markdown",
   "metadata": {},
   "source": [
    "## Record your findings\n",
    "\n",
    "Be sure to write out anything observations from your exploratory analysis."
   ]
  },
  {
   "cell_type": "markdown",
   "metadata": {},
   "source": [
    "# Mine the data\n",
    "Now you are ready to compute the variables you will use for your regression from the data. For example, you may want to\n",
    "compute total sales per store from Jan to March of 2015, mean price per bottle, etc. Refer to the readme for more ideas appropriate to your scenario.\n",
    "\n",
    "### Solution: Most of this will be above or from the Lab 3.3/3.4 notebooks and will vary a lot based on students' models."
   ]
  },
  {
   "cell_type": "markdown",
   "metadata": {},
   "source": [
    "# Refine the data\n",
    "Look for any statistical relationships, correlations, or other relevant properties of the dataset."
   ]
  },
  {
   "cell_type": "markdown",
   "metadata": {
    "collapsed": true
   },
   "source": [
    "### Solution: Look for an interesting/relevant correlation or statistic\n",
    "\n",
    "For scenario 1 there are a number of good correlations. For scenario 2, a comparison of the location parameters' distributions of e.g. sales would be appropriate."
   ]
  },
  {
   "cell_type": "code",
   "execution_count": null,
   "metadata": {
    "collapsed": false,
    "scrolled": true
   },
   "outputs": [],
   "source": [
    "# There are a number of good correlations\n",
    "sales[[u'2015 Sales', u'2015 Sales mean',u'Price per Liter mean', u'Zip Code',\n",
    "       u'2015 Volume Sold (Liters)', u'2015 Volume Sold (Liters) mean',\n",
    "       u'2015 Margin mean', u'2015 Sales Q1', u'2016 Sales Q1']].corr()"
   ]
  },
  {
   "cell_type": "markdown",
   "metadata": {},
   "source": [
    "# Build your models\n",
    "\n",
    "Using scikit-learn or statsmodels, build the necessary models for your scenario. Evaluate model fit."
   ]
  },
  {
   "cell_type": "code",
   "execution_count": 6,
   "metadata": {
    "collapsed": true
   },
   "outputs": [],
   "source": [
    "from sklearn import linear_model\n",
    "..."
   ]
  },
  {
   "cell_type": "markdown",
   "metadata": {},
   "source": [
    "### Solution: Look for at least one relevant model and a measure of goodness of fit.\n",
    "* Scenario 1: See the fit in Lab 3.4 for an example\n",
    "* Scenario 2: Students should include at least one model that includes at least one location parameter, or a series of models e.g. for each zip code or county, etc. Scenario 2 asks for a table, a good visual is of course a welcome alternative."
   ]
  },
  {
   "cell_type": "markdown",
   "metadata": {},
   "source": [
    "## Plot your results\n",
    "\n",
    "Again make sure that you record any valuable information. For example, in the tax scenario, did you find the sales from the first three months of the year to be a good predictor of the total sales for the year? Plot the predictions versus the true values and discuss the successes and limitations of your models"
   ]
  },
  {
   "cell_type": "code",
   "execution_count": null,
   "metadata": {
    "collapsed": false
   },
   "outputs": [],
   "source": []
  },
  {
   "cell_type": "markdown",
   "metadata": {
    "collapsed": true
   },
   "source": [
    "### Solution: The plot in Lab 3.4 is a good example -- something that shows the data and the model, or the true values versus the predictions."
   ]
  },
  {
   "cell_type": "markdown",
   "metadata": {},
   "source": [
    "# Present the Results\n",
    "\n",
    "Present your conclusions and results. If you have more than one interesting model feel free to include more than one along with a discussion. Use your work in this notebook to prepare your write-up."
   ]
  },
  {
   "cell_type": "markdown",
   "metadata": {
    "collapsed": true
   },
   "source": [
    "### Solution:\n",
    "\n",
    "Students can show some real understanding here. In scenario 1, if students filtered out the stores that opened or closed in 2015, a great write-up would explain how to account for that in their model/predictions. For example, they could normalize by the number of days open and use their model to account for those stores. Or they could look at the proportion of sales from closed stores and try to adjust their prediction.\n",
    "\n",
    "For scenario 2, a great writeup might make predictions based on 2015 Sales for good 2016 Sales locations, or alternatively discuss the variation in models by location.\n",
    "\n",
    "In both scenarios look for good presentation language and attention to the audience and stakeholders involved. Students should have had a lot of time to address this in Lesson 5.2, so look for that here.\n",
    "\n",
    "Bonus points for using any of the week's more advanced topics, for example:\n",
    "* Scenario 1: Outliers\n",
    "* Scenario 2: Regularization\n",
    "* Both: Bias-Variance"
   ]
  },
  {
   "cell_type": "code",
   "execution_count": null,
   "metadata": {
    "collapsed": true
   },
   "outputs": [],
   "source": []
  }
 ],
 "metadata": {
  "kernelspec": {
   "display_name": "Python 2",
   "language": "python",
   "name": "python2"
  },
  "language_info": {
   "codemirror_mode": {
    "name": "ipython",
    "version": 2
   },
   "file_extension": ".py",
   "mimetype": "text/x-python",
   "name": "python",
   "nbconvert_exporter": "python",
   "pygments_lexer": "ipython2",
   "version": "2.7.11"
  }
 },
 "nbformat": 4,
 "nbformat_minor": 0
}
