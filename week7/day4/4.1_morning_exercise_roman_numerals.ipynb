{
 "cells": [
  {
   "cell_type": "markdown",
   "metadata": {},
   "source": [
    "# ![](https://ga-dash.s3.amazonaws.com/production/assets/logo-9f88ae6c9c3871690e33280fcf557f33.png) Roman Numerals\n",
    "Week 7 | Morning Exercise 4.1"
   ]
  },
  {
   "cell_type": "markdown",
   "metadata": {},
   "source": [
    "Once again we will take a brief side track from data science to look at a pure python coding problem. These sorts of problems are fairly common in recruiting tasks, particularly from larger companies so it does pay to get some \n",
    "practice. A good resource for example problems I can recommend is [Project Euler.](https://projecteuler.net/) \n",
    "\n",
    "1. Write a function to_roman() that converts an integer to its value as a Roman numeral\n",
    "- Write a function from_roman() that does the reverse\n",
    "- Bonus: Put this together in a function that takes Roman numerals and performs e.g. addition, subtraction, multiplication, division and outputs a Roman numeral as the result. Have a think about how the Romans must have performed such operations? Not very easily. When you add, for example, 18 and 21 in our current number system then you can independently add the 10s (1+2) and the 1s (8+1). This makes a big difference, or anyway it did before computers...\n",
    "\n",
    "If you recall from your schooldays:\n",
    "- I is one\n",
    "- V is five\n",
    "- X is ten\n",
    "- L is fifty\n",
    "- C is one hundred\n",
    "- D is five hundred\n",
    "- M is one thousand\n",
    "\n",
    "As you know, numbers are concatenated such that any equally-sized or smaller number that follows to the right is added and a single smaller number that is to the left is subtracted. Furthermore in a subtraction condition you must first stack the numbers from the left hand side for addition before the penultimate number, which would represent a subtraction from the ultimate number. Hence XXI=21 whereas XIX=19 and IXX does not exist. A rule of thumb is enforced that a number is not represented for a subtraction if it is lower than around 1/10th the size of the succeeding number, which means that eg 99 is not represented by IC but rather by XCIX.\n",
    "\n",
    "Interestingly, there are no symbols for larger numbers than 1000 so you must simply concatenate M many times. Negative numbers apparently simply did not exist, and although fractions were used there was not any standardised notation and no concept of decimals at all. As you may infer irrational numbers such as $\\pi$ were unknown. These innovations reached Europe after developments in India with a symbol for 0 (so for example 308 rather than CCCVIII), transmitted  via Arabic scholars in the Middle Ages (hence _Arabic numerals_)."
   ]
  },
  {
   "cell_type": "code",
   "execution_count": null,
   "metadata": {
    "collapsed": true
   },
   "outputs": [],
   "source": []
  },
  {
   "cell_type": "code",
   "execution_count": null,
   "metadata": {
    "collapsed": true
   },
   "outputs": [],
   "source": []
  },
  {
   "cell_type": "code",
   "execution_count": null,
   "metadata": {
    "collapsed": true
   },
   "outputs": [],
   "source": []
  }
 ],
 "metadata": {
  "anaconda-cloud": {},
  "kernelspec": {
   "display_name": "Python [Root]",
   "language": "python",
   "name": "Python [Root]"
  },
  "language_info": {
   "codemirror_mode": {
    "name": "ipython",
    "version": 2
   },
   "file_extension": ".py",
   "mimetype": "text/x-python",
   "name": "python",
   "nbconvert_exporter": "python",
   "pygments_lexer": "ipython2",
   "version": "2.7.12"
  }
 },
 "nbformat": 4,
 "nbformat_minor": 0
}
