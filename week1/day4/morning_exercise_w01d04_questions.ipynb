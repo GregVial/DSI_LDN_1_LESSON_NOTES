{
 "cells": [
  {
   "cell_type": "markdown",
   "metadata": {},
   "source": [
    "# Morning Exercise"
   ]
  },
  {
   "cell_type": "markdown",
   "metadata": {},
   "source": [
    "Using the `staff_salary.csv` provided, write Python code to load the data and thereafter compute the following for the `SALARY` field, using numpy and the csv library:\n",
    "* mean\n",
    "* median\n",
    "* maximum\n",
    "* minimum\n",
    "\n",
    "What can you conclude about these salaries and their distribution? They are in USD. What else appears in this csv besides a list of salaries? If you manage this, try some further investigation - e.g. what is the 25th and 75th percentile? "
   ]
  },
  {
   "cell_type": "code",
   "execution_count": 30,
   "metadata": {
    "collapsed": false
   },
   "outputs": [
    {
     "name": "stdout",
     "output_type": "stream",
     "text": [
      "Mean 5323345.151703\n",
      "Median 3657500.000000\n",
      "Min 0.000000\n",
      "Max 23410988.000000\n"
     ]
    }
   ],
   "source": [
    "import csv\n",
    "import numpy as np\n",
    "salary = []\n",
    "with open('staff_salary.csv') as csvfile:\n",
    "    reader = csv.reader(csvfile)\n",
    "    row1 = next(reader)\n",
    "    for row in reader:\n",
    "        salary.append(float(row[1]))\n",
    "\n",
    "#print salary\n",
    "\n",
    "print \"Mean %f\" % (np.mean(salary))\n",
    "print \"Median %f\" % np.median(salary)\n",
    "print \"Min %f\" % min(salary)\n",
    "print \"Max %f\" % max(salary)"
   ]
  },
  {
   "cell_type": "markdown",
   "metadata": {
    "collapsed": true
   },
   "source": [
    "This data is negatively skewed, with median < mean. This is due to a few very high salaries impacting the mean"
   ]
  },
  {
   "cell_type": "code",
   "execution_count": 40,
   "metadata": {
    "collapsed": false
   },
   "outputs": [
    {
     "data": {
      "image/png": "[encoded data removed]",
      "text/plain": [
       "<matplotlib.figure.Figure at 0x7f08b0d3bd50>"
      ]
     },
     "metadata": {},
     "output_type": "display_data"
    }
   ],
   "source": [
    "import matplotlib.pyplot as plt\n",
    "%matplotlib inline\n",
    "plt.hist(salary,bins=20)\n",
    "plt.axvline(np.mean(salary),color='g')\n",
    "plt.axvline(np.median(salary),color='r')\n",
    "plt.show()"
   ]
  },
  {
   "cell_type": "code",
   "execution_count": 45,
   "metadata": {
    "collapsed": false
   },
   "outputs": [],
   "source": [
    "sorted = np.sort(salary)\n"
   ]
  },
  {
   "cell_type": "code",
   "execution_count": null,
   "metadata": {
    "collapsed": true
   },
   "outputs": [],
   "source": []
  }
 ],
 "metadata": {
  "anaconda-cloud": {},
  "kernelspec": {
   "display_name": "Python [default]",
   "language": "python",
   "name": "python2"
  },
  "language_info": {
   "codemirror_mode": {
    "name": "ipython",
    "version": 2
   },
   "file_extension": ".py",
   "mimetype": "text/x-python",
   "name": "python",
   "nbconvert_exporter": "python",
   "pygments_lexer": "ipython2",
   "version": "2.7.12"
  }
 },
 "nbformat": 4,
 "nbformat_minor": 0
}
