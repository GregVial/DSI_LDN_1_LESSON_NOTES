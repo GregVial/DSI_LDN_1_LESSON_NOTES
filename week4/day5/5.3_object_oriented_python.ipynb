{
 "cells": [
  {
   "cell_type": "markdown",
   "metadata": {},
   "source": [
    "<img src=\"https://ga-dash.s3.amazonaws.com/production/assets/logo-9f88ae6c9c3871690e33280fcf557f33.png\" style=\"float: left; margin: 10px;\"> \n",
    "\n",
    "# Intro to Object Oriented Python\n",
    "\n",
    "---\n",
    "\n",
    "Week 4 - Lesson 5.2\n",
    "\n",
    "\n",
    "## Classes and Objects\n",
    "\n",
    "Fundamentally, everything is an object of some **type**.  A class is a type of object and it is the basis of object oriented programming.  Object oriented programming is a vast topic and can be a very useful tool when used correctly.  Knowing how to use object oriented Python is esential to knowing the ins and outs of Python in general but the basics will help you understand how many built-in Python features behave.\n",
    "\n",
    "A class is a type in Python, that is similar to a function.  A class can have these features:\n",
    "\n",
    "- Data\n",
    "- Functions\n",
    "\n",
    "Typically, we try to group these items together in some logical manner, for a specific purpose.  Perhaps we want to keep track of how many times we feed our dog so she doesn't get too fat.  A class can help us organize a set of functions, and data that can be shared between each of the functions.\n",
    "\n",
    "This is intended to be a brief intro, and you are encouraged to read more about this if you find it of interest. In particular, I hope this should help when reading source code for libraries such as statsmodels, sklearn etc when you want to check how an algorithm has been implemented.\n",
    "\n",
    "So far know about functions.  Here's a few now:"
   ]
  },
  {
   "cell_type": "code",
   "execution_count": 44,
   "metadata": {
    "collapsed": true
   },
   "outputs": [],
   "source": [
    "from __future__ import print_function"
   ]
  },
  {
   "cell_type": "code",
   "execution_count": 45,
   "metadata": {
    "collapsed": true
   },
   "outputs": [],
   "source": [
    "def increment_one(number):\n",
    "    return number + 1\n",
    "\n",
    "def print_message(msg=\"Default message\"):\n",
    "    print(msg)\n",
    "\n",
    "def feed_spot(now=True): \n",
    "    if now:\n",
    "        print(\"Woof woof!\")\n",
    "    else:\n",
    "        print(\"Aw\")"
   ]
  },
  {
   "cell_type": "markdown",
   "metadata": {},
   "source": [
    "We can do things like feed the dog, print messages, and add 1 to a number using the above code."
   ]
  },
  {
   "cell_type": "code",
   "execution_count": 46,
   "metadata": {
    "collapsed": false
   },
   "outputs": [],
   "source": [
    "my_number = 1"
   ]
  },
  {
   "cell_type": "code",
   "execution_count": 47,
   "metadata": {
    "collapsed": false
   },
   "outputs": [
    {
     "name": "stdout",
     "output_type": "stream",
     "text": [
      "2\n"
     ]
    }
   ],
   "source": [
    "my_number=increment_one(my_number)\n",
    "print(my_number)"
   ]
  },
  {
   "cell_type": "code",
   "execution_count": 48,
   "metadata": {
    "collapsed": false
   },
   "outputs": [
    {
     "name": "stdout",
     "output_type": "stream",
     "text": [
      "Don't feed the dog too much!\n"
     ]
    }
   ],
   "source": [
    "print_message(\"Don't feed the dog too much!\")"
   ]
  },
  {
   "cell_type": "code",
   "execution_count": 49,
   "metadata": {
    "collapsed": false
   },
   "outputs": [
    {
     "name": "stdout",
     "output_type": "stream",
     "text": [
      "Woof woof!\n"
     ]
    }
   ],
   "source": [
    "feed_spot(True)"
   ]
  },
  {
   "cell_type": "code",
   "execution_count": 50,
   "metadata": {
    "collapsed": false
   },
   "outputs": [
    {
     "name": "stdout",
     "output_type": "stream",
     "text": [
      "Aw\n"
     ]
    }
   ],
   "source": [
    "feed_spot(False)"
   ]
  },
  {
   "cell_type": "markdown",
   "metadata": {},
   "source": [
    "One way we might write a piece of code using these functions in order to feed the dog is like so:"
   ]
  },
  {
   "cell_type": "code",
   "execution_count": 70,
   "metadata": {
    "collapsed": false
   },
   "outputs": [
    {
     "name": "stdout",
     "output_type": "stream",
     "text": [
      "Arf?\n",
      "Woof woof!\n",
      "Arf?\n",
      "Woof woof!\n",
      "Arf?\n",
      "Woof woof!\n",
      "We fed Spot 3 times\n"
     ]
    }
   ],
   "source": [
    "meals = 0\n",
    "for meal_attempt in range(3):\n",
    "    print_message(\"Arf?\")\n",
    "    feed_spot(True)\n",
    "    meals = increment_one(meals)  \n",
    "print(\"We fed Spot {answer} times\".format(answer=meals))"
   ]
  },
  {
   "cell_type": "markdown",
   "metadata": {},
   "source": [
    "Ok, you already knew all that. But let's think about this problem in a more object oriented way."
   ]
  },
  {
   "cell_type": "code",
   "execution_count": 52,
   "metadata": {
    "collapsed": false
   },
   "outputs": [],
   "source": [
    "class dog:  \n",
    "    \n",
    "    animal_type = \"dog\"\n",
    "    \n",
    "    def __init__(self, name=\"Fido\", meals=0, question=\"Are you hungry?\"):\n",
    "        self.name = name\n",
    "        self.meals = meals\n",
    "        self.question = question\n",
    "    \n",
    "    def bark(self):\n",
    "        print(\"Woof woof!\")\n",
    "    \n",
    "    def add_meal(self):\n",
    "        self.meals += 1\n",
    "    \n",
    "    def feed(self):\n",
    "        for attempt in range(self.meals):\n",
    "            print(self.question)\n",
    "            self.bark()\n",
    "        \n",
    "        print(\"We have fed {name} {number} time(s)!\".format(name=self.name, number=self.meals))"
   ]
  },
  {
   "cell_type": "markdown",
   "metadata": {},
   "source": [
    "So far we have made a class called dog.  Let's initialize our class to a new **instance** assigned to a variable we call **my_day**.  "
   ]
  },
  {
   "cell_type": "code",
   "execution_count": 53,
   "metadata": {
    "collapsed": false
   },
   "outputs": [
    {
     "data": {
      "text/plain": [
       "'dog'"
      ]
     },
     "execution_count": 53,
     "metadata": {},
     "output_type": "execute_result"
    }
   ],
   "source": [
    "fido=dog()\n",
    "fido.animal_type"
   ]
  },
  {
   "cell_type": "code",
   "execution_count": 54,
   "metadata": {
    "collapsed": false
   },
   "outputs": [
    {
     "data": {
      "text/plain": [
       "'elephant'"
      ]
     },
     "execution_count": 54,
     "metadata": {},
     "output_type": "execute_result"
    }
   ],
   "source": [
    "fido.animal_type=\"elephant\"\n",
    "fido.animal_type"
   ]
  },
  {
   "cell_type": "code",
   "execution_count": 55,
   "metadata": {
    "collapsed": false
   },
   "outputs": [
    {
     "name": "stdout",
     "output_type": "stream",
     "text": [
      "Fido\n",
      "0\n",
      "Are you hungry?\n"
     ]
    }
   ],
   "source": [
    "print(fido.name)\n",
    "print(fido.meals)\n",
    "print(fido.question)"
   ]
  },
  {
   "cell_type": "code",
   "execution_count": 56,
   "metadata": {
    "collapsed": true
   },
   "outputs": [],
   "source": [
    "spot = dog(\"Spot\", 2, \"Want something to eat?\")"
   ]
  },
  {
   "cell_type": "markdown",
   "metadata": {},
   "source": [
    "**spot** is now an object that has 3 **class attributes** (sometimes refered to class variables): \n",
    "* name\n",
    "* meals\n",
    "* question\n",
    "\n",
    "Also 3 **class methods**:\n",
    "* feed() \n",
    "* bark()\n",
    "* add_meal()\n",
    "\n",
    "**Here is what the class attributes look like:**"
   ]
  },
  {
   "cell_type": "code",
   "execution_count": 57,
   "metadata": {
    "collapsed": false
   },
   "outputs": [
    {
     "name": "stdout",
     "output_type": "stream",
     "text": [
      "Spot\n",
      "2\n",
      "Want something to eat?\n"
     ]
    }
   ],
   "source": [
    "print(spot.name)\n",
    "print(spot.meals)\n",
    "print(spot.question)"
   ]
  },
  {
   "cell_type": "markdown",
   "metadata": {},
   "source": [
    "We can access any of the methods in our **dog** class through the object variable we assigned via **spot**:"
   ]
  },
  {
   "cell_type": "code",
   "execution_count": 58,
   "metadata": {
    "collapsed": false
   },
   "outputs": [
    {
     "name": "stdout",
     "output_type": "stream",
     "text": [
      "Want something to eat?\n",
      "Woof woof!\n",
      "Want something to eat?\n",
      "Woof woof!\n",
      "We have fed Spot 2 time(s)!\n"
     ]
    }
   ],
   "source": [
    "spot.feed()"
   ]
  },
  {
   "cell_type": "markdown",
   "metadata": {},
   "source": [
    "So what about the method \\_\\_init\\_\\_ and all these **self** things going on?  Basically, \\_\\_init\\_\\_ is a special function that we use in classes that runs automatically whenever the class extantiates (after you assign it to a variable and it is initialised).  Whatever paramaters we initialise / call our class with, are passed to the \\_\\_init\\_\\_() \n",
    "\n",
    "**Common uses for \\_\\_init\\_\\_ include:**\n",
    "* Setting class attributes\n",
    "* Connecting to databases\n",
    "* Loading files\n",
    "* Reading baseline system statistics \n",
    "\n",
    "**self** is a little involved but for the most part, we use **self** to refer to anything within the object.  It allows us to use variables in the scope of the class and is commonly used to store data that is shared between functions.  A few notes about **self**:\n",
    "\n",
    "* All functions in a class, must have a **self** parameter in order to function properly within a class.\n",
    "* All functions within a class can use **self** to access object attributes.\n",
    "\n"
   ]
  },
  {
   "cell_type": "markdown",
   "metadata": {},
   "source": [
    "## Check-in!  Where are the following:\n",
    "\n",
    "- Class attribute\n",
    "- Intiailisation method\n",
    "- Self-reference\n",
    "\n",
    "**Bonus** how do you initialize this class and print out an attribute?"
   ]
  },
  {
   "cell_type": "code",
   "execution_count": 59,
   "metadata": {
    "collapsed": false
   },
   "outputs": [
    {
     "name": "stdout",
     "output_type": "stream",
     "text": [
      "Aidan\n",
      "Sum =  5\n",
      "--\n",
      "Inside Class \n",
      "--\n",
      "<bound method Person.__init__ of <__main__.Person instance at 0x1047f8bd8>>\n",
      " __init__ Constructor\n",
      "--\n",
      "<bound method Person.show of <__main__.Person instance at 0x1047f8bd8>>\n",
      "Inside Show\n"
     ]
    }
   ],
   "source": [
    "# Another example\n",
    "\n",
    "class Person:\n",
    "    '''Inside Class '''\n",
    "    \n",
    "    def __init__(self, name):\n",
    "        ''' __init__ Constructor'''\n",
    "        self.n_name = name        \n",
    "\n",
    "    def show(self, n1, n2):\n",
    "        '''Inside Show'''\n",
    "        print(self.n_name)\n",
    "        print('Sum = ', n1 + n2)\n",
    "\n",
    "p=Person('Aidan')\n",
    "p.show(2, 3)\n",
    "print(\"--\")\n",
    "print(p.__doc__)\n",
    "print(\"--\")\n",
    "print(p.__init__)\n",
    "print(p.__init__.__doc__)\n",
    "print(\"--\")\n",
    "print(p.show)\n",
    "print(p.show.__doc__)"
   ]
  },
  {
   "cell_type": "code",
   "execution_count": 60,
   "metadata": {
    "collapsed": false
   },
   "outputs": [],
   "source": [
    "class my_class_name:\n",
    "    \n",
    "    super_stuff = \"The best stuff\"\n",
    "    \n",
    "    def __init__(self):\n",
    "        \n",
    "        print(super_stuff) # What will this do?"
   ]
  },
  {
   "cell_type": "code",
   "execution_count": 61,
   "metadata": {
    "collapsed": true
   },
   "outputs": [],
   "source": [
    "# Have a play around making classes"
   ]
  },
  {
   "cell_type": "code",
   "execution_count": null,
   "metadata": {
    "collapsed": true
   },
   "outputs": [],
   "source": []
  },
  {
   "cell_type": "markdown",
   "metadata": {},
   "source": [
    "## A Little Theory\n",
    "\n",
    "Everything in Python is an object, which means that everything in Python has a class. You can find out which class an object belongs to by using the default property \\_\\_class\\_\\_."
   ]
  },
  {
   "cell_type": "code",
   "execution_count": 64,
   "metadata": {
    "collapsed": false
   },
   "outputs": [
    {
     "data": {
      "text/plain": [
       "<class __main__.dog at 0x1048169a8>"
      ]
     },
     "execution_count": 64,
     "metadata": {},
     "output_type": "execute_result"
    }
   ],
   "source": [
    "spot.__class__"
   ]
  },
  {
   "cell_type": "markdown",
   "metadata": {},
   "source": [
    "So yes, [1,2].reverse() is a method of the native class 'list'.  In Pandas, sklearn, statsmodels, everything is bundled into their own classes, which are in essence a collection of attributes (easy to print / view class attributes), and methods."
   ]
  },
  {
   "cell_type": "markdown",
   "metadata": {},
   "source": [
    "## Inspecting a class\n",
    "\n",
    "When we want to know more about a class object, we can use the \"inspect\" module."
   ]
  },
  {
   "cell_type": "code",
   "execution_count": 66,
   "metadata": {
    "collapsed": false
   },
   "outputs": [
    {
     "data": {
      "text/plain": [
       "[('__doc__', None),\n",
       " ('__init__',\n",
       "  <bound method dog.__init__ of <__main__.dog instance at 0x1047f89e0>>),\n",
       " ('__module__', '__main__'),\n",
       " ('add_meal',\n",
       "  <bound method dog.add_meal of <__main__.dog instance at 0x1047f89e0>>),\n",
       " ('animal_type', 'dog'),\n",
       " ('bark', <bound method dog.bark of <__main__.dog instance at 0x1047f89e0>>),\n",
       " ('feed', <bound method dog.feed of <__main__.dog instance at 0x1047f89e0>>),\n",
       " ('meals', 2),\n",
       " ('name', 'Spot'),\n",
       " ('question', 'Want something to eat?')]"
      ]
     },
     "execution_count": 66,
     "metadata": {},
     "output_type": "execute_result"
    }
   ],
   "source": [
    "import inspect\n",
    "inspect.getmembers(spot)"
   ]
  },
  {
   "cell_type": "markdown",
   "metadata": {},
   "source": [
    "This can be helpful to know what attributes and methods are avaiable and basically, the blueprint of a class object in memory.  Depending on the way the class was implemented, you can usually find useful information hiding inside of `bug.__class__.__dict__` -- which can be easier to look at.  The \"right way\" is to use the \"inspect\" module."
   ]
  },
  {
   "cell_type": "code",
   "execution_count": 67,
   "metadata": {
    "collapsed": false
   },
   "outputs": [
    {
     "data": {
      "text/plain": [
       "{'__doc__': None,\n",
       " '__init__': <function __main__.__init__>,\n",
       " '__module__': '__main__',\n",
       " 'add_meal': <function __main__.add_meal>,\n",
       " 'animal_type': 'dog',\n",
       " 'bark': <function __main__.bark>,\n",
       " 'feed': <function __main__.feed>}"
      ]
     },
     "execution_count": 67,
     "metadata": {},
     "output_type": "execute_result"
    }
   ],
   "source": [
    "spot.__class__.__dict__"
   ]
  },
  {
   "cell_type": "markdown",
   "metadata": {},
   "source": [
    "## Special Class Methods\n",
    "\n",
    "|Method| Description|\n",
    "|--|--|\n",
    "|\\_\\_init\\_\\_ ( self [,args...] )| Constructor (with any optional arguments) Sample Call : obj = className(args)\n",
    "|\\_\\_repr\\_\\_( self ) | Evaluatable string representation Sample Call : repr(obj)\n",
    "|\\_\\_str\\_\\_( self ) | Printable string representation Sample Call : str(obj)\n",
    "|\\_\\_cmp\\_\\_ ( self, x ) | Object comparison Sample Call : cmp(obj, x)\n",
    "\n",
    "One notable feature about Python is that developers can write  \"\\_\\_repr\\_\\_\" functions.  The repr() function reports back something descriptive about what the class represents.  You can basically do whatever you want with it but the purpose of it is to convey something descriptive about what your class is about.  Here's an example of such a case."
   ]
  },
  {
   "cell_type": "code",
   "execution_count": 68,
   "metadata": {
    "collapsed": true
   },
   "outputs": [],
   "source": [
    "class generic:\n",
    "    \n",
    "    cool_attribute = \"I'm super cool\"\n",
    "    \n",
    "    def __init__(self):\n",
    "        self.cool_attribute = \"Ok super cool then\"\n",
    "    \n",
    "    def __repr__(self):\n",
    "        return \"You don't get to see in here, no no!\""
   ]
  },
  {
   "cell_type": "code",
   "execution_count": 69,
   "metadata": {
    "collapsed": false
   },
   "outputs": [
    {
     "data": {
      "text/plain": [
       "You don't get to see in here, no no!"
      ]
     },
     "execution_count": 69,
     "metadata": {},
     "output_type": "execute_result"
    }
   ],
   "source": [
    "example = generic()\n",
    "example"
   ]
  },
  {
   "cell_type": "markdown",
   "metadata": {},
   "source": [
    "Remember our **Pandas** DataFrame **groupby** object?  Basically, since the groupby class hasn't implemented a way to view the data, what you're left with is it's default \\_\\_repr\\_\\_ that says something to the effect of \"<00000 groupby object etc\".  This \\_\\_repr\\_\\_ method is what you could create, in order to return a useful **str** other than the default \"this is a generic class\"."
   ]
  },
  {
   "cell_type": "markdown",
   "metadata": {},
   "source": [
    "## Decorators\n",
    "\n",
    "Decorators work as wrappers modifying the behaviour of the code before and after a target function execution, without the need to modify the function itself, augmenting the original functionality hence 'decorating' it.\n",
    "\n",
    "Many newer languages implement some form of it now but Python was one of the originators of this idea that arbitrarily handles input to your functions.  It can be a handy way to clean or filter your input to your functions before they run.\n",
    "\n",
    "#### An Example"
   ]
  },
  {
   "cell_type": "markdown",
   "metadata": {},
   "source": [
    "You can use decorators in class methods or in regular methods.  The above example will replace any string input that has the string \"dirty\" with the string \"clean\"."
   ]
  },
  {
   "cell_type": "code",
   "execution_count": 63,
   "metadata": {
    "collapsed": false
   },
   "outputs": [],
   "source": [
    "def clean_string(calling_function): \n",
    "    def clean(string):     \n",
    "        # We clean the string here\n",
    "        cleaned_string = string.replace(\"dirty\", \"clean\")  \n",
    "        # we call the original function (in this example we call)\n",
    "        calling_function(cleaned_string)      \n",
    "    return clean"
   ]
  },
  {
   "cell_type": "code",
   "execution_count": 67,
   "metadata": {
    "collapsed": false
   },
   "outputs": [
    {
     "name": "stdout",
     "output_type": "stream",
     "text": [
      "I'm dirty\n"
     ]
    }
   ],
   "source": [
    "def print_string(my_string):\n",
    "    print(my_string)\n",
    "    \n",
    "print_string(\"I'm dirty\")"
   ]
  },
  {
   "cell_type": "code",
   "execution_count": 66,
   "metadata": {
    "collapsed": false
   },
   "outputs": [
    {
     "name": "stdout",
     "output_type": "stream",
     "text": [
      "I'm clean\n"
     ]
    }
   ],
   "source": [
    "@clean_string\n",
    "def print_string(my_string):\n",
    "    print(my_string)\n",
    "\n",
    "print_string(\"I'm dirty\")"
   ]
  },
  {
   "cell_type": "code",
   "execution_count": null,
   "metadata": {
    "collapsed": true
   },
   "outputs": [],
   "source": []
  }
 ],
 "metadata": {
  "anaconda-cloud": {},
  "kernelspec": {
   "display_name": "Python [default]",
   "language": "python",
   "name": "python2"
  },
  "language_info": {
   "codemirror_mode": {
    "name": "ipython",
    "version": 2
   },
   "file_extension": ".py",
   "mimetype": "text/x-python",
   "name": "python",
   "nbconvert_exporter": "python",
   "pygments_lexer": "ipython2",
   "version": "2.7.12"
  }
 },
 "nbformat": 4,
 "nbformat_minor": 0
}
