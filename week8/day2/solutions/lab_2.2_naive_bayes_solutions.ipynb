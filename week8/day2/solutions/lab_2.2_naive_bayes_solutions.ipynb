{
 "cells": [
  {
   "cell_type": "markdown",
   "metadata": {},
   "source": [
    "# ![](https://ga-dash.s3.amazonaws.com/production/assets/logo-9f88ae6c9c3871690e33280fcf557f33.png)  Naive Bayes Lab\n",
    "Week 8 | Lab 2.2"
   ]
  },
  {
   "cell_type": "code",
   "execution_count": 1,
   "metadata": {
    "collapsed": false
   },
   "outputs": [],
   "source": [
    "from sklearn import naive_bayes\n",
    "import pandas as pd\n",
    "import numpy as np\n",
    "import matplotlib.pyplot as plt\n",
    "%matplotlib inline\n",
    "from sklearn.model_selection import train_test_split\n"
   ]
  },
  {
   "cell_type": "markdown",
   "metadata": {},
   "source": [
    "### Load the data "
   ]
  },
  {
   "cell_type": "markdown",
   "metadata": {},
   "source": [
    "We're going to use The Adult Income Dataset on the UCI Machine Learning Repository; taken from US Census information and formatted to study the features/regressors/predictors that go into determining whether an adult US resident is 'likely' to have a household income greater than \\$50,000. The data includes age, workclass, a weighting variable to account for the unbalanced sampling, education level, time spent in education (in years), marital status, occupation, relationship, race, sex, individual residency, and a target column that indicates whether the person attained a household income greater than \\$50,000.\n",
    "\n",
    "Load the adult data set. There are no column labels in the csv. I've assigned them for you here but you should read the docs for the data set here: https://archive.ics.uci.edu/ml/datasets/adult, and check that makes sense (there seem to be some issues accessing UCI website lately so that's why I've set the columns here so you don't have to check if it isn't working)."
   ]
  },
  {
   "cell_type": "code",
   "execution_count": null,
   "metadata": {
    "collapsed": false,
    "scrolled": true
   },
   "outputs": [],
   "source": [
    "adult_dat = pd.read_csv(\"./assets/datasets/adult_data.csv\", names=[\"Age\", \"Workclass\", \"fnlwgt\", \n",
    "                                                                   \"Education\", \"Education-Num\", \"Martial Status\",\n",
    "                                                                    \"Occupation\", \"Relationship\", \"Race\", \"Sex\", \n",
    "                                                                   \"Capital Gain\", \"Capital Loss\", \n",
    "                                                                   \"Hours per week\", \"Country\", \"Target\"])\n",
    "adult_dat.head()"
   ]
  },
  {
   "cell_type": "markdown",
   "metadata": {},
   "source": [
    "### Convert the categorical variables into unordered integer values"
   ]
  },
  {
   "cell_type": "markdown",
   "metadata": {},
   "source": [
    "For us to use the scikit-learn implementation of Naive Bayes, we must pass in numerical data. Since we have decided to analyse all unordered categorical values, we can do a dummy encoding (could also do one-hot-encoding, take a look at the docs if you are interested)."
   ]
  },
  {
   "cell_type": "code",
   "execution_count": null,
   "metadata": {
    "collapsed": false
   },
   "outputs": [],
   "source": [
    "Sex = pd.get_dummies(adult_dat['Sex'], drop_first=True)\n",
    "Workclass = pd.get_dummies(adult_dat['Workclass'], drop_first=True) \n",
    "Marital = pd.get_dummies(adult_dat['Martial Status'], drop_first=True)\n",
    "Occupation = pd.get_dummies(adult_dat['Occupation'], drop_first=True)\n",
    "Relationship = pd.get_dummies(adult_dat['Relationship'], drop_first=True)\n",
    "Race = pd.get_dummies(adult_dat['Race'], drop_first=True)\n",
    "Country = pd.get_dummies(adult_dat['Country'], drop_first=True)\n",
    "Target = pd.get_dummies(adult_dat['Target'], drop_first=True)\n",
    "\n",
    "# Clean up the data set by deleting un-used columns\n",
    "\n",
    "one_hot_dat = pd.concat([adult_dat, Sex, Workclass, Marital, Occupation, Relationship, Race, Country, Target], axis = 1)\n",
    "del one_hot_dat['Sex']; del one_hot_dat['Age']; del one_hot_dat['Workclass']; del one_hot_dat['fnlwgt']; \n",
    "del one_hot_dat['Education']; del one_hot_dat['Education-Num']; del one_hot_dat['Martial Status']\n",
    "del one_hot_dat['Occupation']; del one_hot_dat['Relationship']; del one_hot_dat['Race']; del one_hot_dat['Capital Gain']\n",
    "del one_hot_dat['Capital Loss']; del one_hot_dat['Hours per week']; del one_hot_dat['Country'];\n",
    "del one_hot_dat['Target']\n",
    "one_hot_dat.head()"
   ]
  },
  {
   "cell_type": "markdown",
   "metadata": {},
   "source": [
    "### Summarise the data and engage in elementary data exploration"
   ]
  },
  {
   "cell_type": "markdown",
   "metadata": {},
   "source": [
    "For some data exploration, use Pandas histogram methods to display the features. "
   ]
  },
  {
   "cell_type": "code",
   "execution_count": null,
   "metadata": {
    "collapsed": false
   },
   "outputs": [],
   "source": [
    "# Write histogram functions here, and/or any other data visualizations"
   ]
  },
  {
   "cell_type": "markdown",
   "metadata": {},
   "source": [
    "### Define your feature set and define your target, including train-test split"
   ]
  },
  {
   "cell_type": "code",
   "execution_count": null,
   "metadata": {
    "collapsed": false
   },
   "outputs": [],
   "source": [
    "partition_val = np.random.rand(len(one_hot_dat)) < 0.70\n",
    "train = one_hot_dat[partition_val]\n",
    "test = one_hot_dat[~partition_val]\n",
    "target_train = train[' >50K']\n",
    "feature_train = train.drop(' >50K', axis=1)"
   ]
  },
  {
   "cell_type": "markdown",
   "metadata": {},
   "source": [
    "### Run Naive Bayes Classifier"
   ]
  },
  {
   "cell_type": "markdown",
   "metadata": {},
   "source": [
    "Instantiate the Naive Bayes predictor from scikit-learn with the training data. Which sklearn implementation makes sense for this data? Have a look at the docs."
   ]
  },
  {
   "cell_type": "code",
   "execution_count": null,
   "metadata": {
    "collapsed": false
   },
   "outputs": [],
   "source": [
    "cat_Naive_Bayes = naive_bayes.BernoulliNB();\n",
    "cat_Naive_Bayes.fit(feature_train, target_train)"
   ]
  },
  {
   "cell_type": "markdown",
   "metadata": {},
   "source": [
    "### Check Accuracy / Score for Naive Bayes"
   ]
  },
  {
   "cell_type": "markdown",
   "metadata": {},
   "source": [
    "Define the target and feature set for the test data"
   ]
  },
  {
   "cell_type": "code",
   "execution_count": null,
   "metadata": {
    "collapsed": true
   },
   "outputs": [],
   "source": [
    "target_test = test[' >50K']\n",
    "feature_test =  test.drop(' >50K', axis = 1)"
   ]
  },
  {
   "cell_type": "markdown",
   "metadata": {},
   "source": [
    "Score the Naive Bayes classifier on the test data"
   ]
  },
  {
   "cell_type": "code",
   "execution_count": null,
   "metadata": {
    "collapsed": false
   },
   "outputs": [],
   "source": [
    "cat_Naive_Bayes.score(feature_test, target_test)"
   ]
  },
  {
   "cell_type": "markdown",
   "metadata": {},
   "source": [
    "### Check Accuracy / Score for a Logistic Classifier "
   ]
  },
  {
   "cell_type": "markdown",
   "metadata": {},
   "source": [
    "Define a logistic regression and train it with the feature and target set"
   ]
  },
  {
   "cell_type": "code",
   "execution_count": null,
   "metadata": {
    "collapsed": false
   },
   "outputs": [],
   "source": [
    "import sklearn.linear_model as linear_model\n",
    "\n",
    "logistic_class = linear_model.LogisticRegression()\n",
    "logit = logistic_class.fit(feature_train, target_train)"
   ]
  },
  {
   "cell_type": "markdown",
   "metadata": {},
   "source": [
    "Produce the accuracy score of the logistic regression from the test set"
   ]
  },
  {
   "cell_type": "code",
   "execution_count": null,
   "metadata": {
    "collapsed": false
   },
   "outputs": [],
   "source": [
    "logit.score(feature_test, target_test)"
   ]
  },
  {
   "cell_type": "markdown",
   "metadata": {
    "collapsed": true
   },
   "source": [
    "We find in this case that e.g. logistic regression outperforms the Naive Bayes on accuracy, but we should think a bit more about what the best metrics are to assess our models. Have a think and play around with some metrics. Let's  also look at a case where Naive Bayes\n",
    "has typically been found to do very well; text classification with bag-of-words and we can investigate the relative performance of different classifications a bit more."
   ]
  },
  {
   "cell_type": "markdown",
   "metadata": {},
   "source": [
    "## Text classification case and comparison assessment of classifiers"
   ]
  },
  {
   "cell_type": "code",
   "execution_count": 4,
   "metadata": {
    "collapsed": true
   },
   "outputs": [],
   "source": [
    "from sklearn.datasets import fetch_20newsgroups\n",
    "from sklearn.metrics import roc_curve\n",
    "\n",
    "# vectorizer\n",
    "# try others to see the effect\n",
    "from sklearn.feature_extraction.text import CountVectorizer\n",
    "\n",
    "# our classifiers to test\n",
    "from sklearn.naive_bayes import BernoulliNB, MultinomialNB\n",
    "from sklearn.svm import SVC\n",
    "from sklearn.neighbors import KNeighborsClassifier\n",
    "from sklearn.ensemble import RandomForestClassifier\n",
    "\n"
   ]
  },
  {
   "cell_type": "code",
   "execution_count": 5,
   "metadata": {
    "collapsed": false
   },
   "outputs": [],
   "source": [
    "#Import data. You can start with 20 news groups with 2 clearly separated categories. \n",
    "#I've also put in a spam dataset so you can compare that case\n",
    "\n",
    "corpus=pd.read_csv(\"../assets/datasets/SMSSpamCollection.txt\", sep=\"\\t\", header=None, encoding=\"utf-8\")\n",
    "corpus.columns=[\"classification\", \"text\"]\n",
    "X=corpus[\"text\"]\n",
    "y=corpus[\"classification\"]\n",
    "mapping={\"ham\":0, \"spam\":1}\n",
    "y=y.map(mapping)\n"
   ]
  },
  {
   "cell_type": "code",
   "execution_count": 6,
   "metadata": {
    "collapsed": false
   },
   "outputs": [
    {
     "data": {
      "text/plain": [
       "\"\\ncategories = [\\n    'alt.atheism',\\n    'sci.space'\\n    \\n]\\n\\ndata_train = fetch_20newsgroups(subset='train', categories=categories,\\n        shuffle=True, random_state=42)\\n\\ndata_test = fetch_20newsgroups(subset='test', categories=categories,\\n        shuffle=True, random_state=42)\\n\\ncategories = data_train.target_names\\n\""
      ]
     },
     "execution_count": 6,
     "metadata": {},
     "output_type": "execute_result"
    }
   ],
   "source": [
    "# Here are four categories but change as you wish and/or use the spam data (so two categories)\n",
    "# ROC curve is a nice way to assess the model for the two category case\n",
    "#  (you can explore all the categories if you pull\n",
    "# in the whole of the fetch_20newsgroups)\n",
    "\"\"\"\n",
    "categories = [\n",
    "    'alt.atheism',\n",
    "    'sci.space'\n",
    "    \n",
    "]\n",
    "\n",
    "data_train = fetch_20newsgroups(subset='train', categories=categories,\n",
    "        shuffle=True, random_state=42)\n",
    "\n",
    "data_test = fetch_20newsgroups(subset='test', categories=categories,\n",
    "        shuffle=True, random_state=42)\n",
    "\n",
    "categories = data_train.target_names\n",
    "\"\"\""
   ]
  },
  {
   "cell_type": "code",
   "execution_count": 7,
   "metadata": {
    "collapsed": true
   },
   "outputs": [],
   "source": [
    "X_train, X_test, y_train, y_test = train_test_split( X, y, test_size=0.33, random_state=42)"
   ]
  },
  {
   "cell_type": "code",
   "execution_count": 8,
   "metadata": {
    "collapsed": false
   },
   "outputs": [],
   "source": [
    "vectorizer = CountVectorizer(stop_words='english', max_features=1000)\n",
    "X_train = vectorizer.fit_transform(X_train)\n",
    "X_test = vectorizer.transform(X_test)"
   ]
  },
  {
   "cell_type": "code",
   "execution_count": 9,
   "metadata": {
    "collapsed": false
   },
   "outputs": [
    {
     "data": {
      "text/plain": [
       "\"\\nvectorizer = CountVectorizer(stop_words='english', max_features=1000)\\nX_train = vectorizer.fit_transform(data_train.data)\\nX_test = vectorizer.transform(data_test.data)\\n\\ny_train = data_train.target\\ny_test = data_test.target\\n\""
      ]
     },
     "execution_count": 9,
     "metadata": {},
     "output_type": "execute_result"
    }
   ],
   "source": [
    "# Put your vectorizer here but note: for reasons of run \n",
    "# time you should set a max_features or n_features (eg 1000)\n",
    "\"\"\"\n",
    "vectorizer = CountVectorizer(stop_words='english', max_features=1000)\n",
    "X_train = vectorizer.fit_transform(data_train.data)\n",
    "X_test = vectorizer.transform(data_test.data)\n",
    "\n",
    "y_train = data_train.target\n",
    "y_test = data_test.target\n",
    "\"\"\""
   ]
  },
  {
   "cell_type": "code",
   "execution_count": 10,
   "metadata": {
    "collapsed": false
   },
   "outputs": [],
   "source": [
    "# Note I set a binarize cutoff for the Bernoulli case, so that if a word\n",
    "# appears once I count it otherwise 0 (could change this)\n",
    "\n",
    "clfs = [\n",
    "    (\"MultinomialNB\", MultinomialNB()),\n",
    "    (\"BernoulliNB\", BernoulliNB(binarize=1)),\n",
    "    (\"KNeighborsClassifier\", KNeighborsClassifier()),\n",
    "    (\"RandomForestClassifier\", RandomForestClassifier()),\n",
    "    (\"SVM\", SVC(probability=True))\n",
    "]\n",
    "\n",
    "all_results = None\n",
    "for name, clf in clfs:\n",
    "    clf.fit(X_train.todense(), y_train)\n",
    "    probs = clf.predict_proba(X_test.todense())[:,1]\n",
    "    fpr, tpr, thresh = roc_curve(y_test, probs)\n",
    "    results = pd.DataFrame({\n",
    "        \"name\": name,\n",
    "        \"fpr\": fpr,\n",
    "        \"tpr\": tpr\n",
    "    })\n",
    "    if all_results is None:\n",
    "        all_results = results\n",
    "    else:\n",
    "        all_results = all_results.append(results)\n",
    "\n",
    "name_mapping={\"MultinomialNB\":1, \"BernoulliNB\":2, \"KNeighborsClassifier\":3, \"RandomForestClassifier\":4, \"SVM\":5}\n",
    "all_results[\"name2\"]=all_results[\"name\"].map(name_mapping)"
   ]
  },
  {
   "cell_type": "code",
   "execution_count": 11,
   "metadata": {
    "collapsed": false
   },
   "outputs": [
    {
     "data": {
      "image/png": "[encoded data removed]",
      "text/plain": [
       "<matplotlib.figure.Figure at 0x11588f890>"
      ]
     },
     "metadata": {},
     "output_type": "display_data"
    }
   ],
   "source": [
    "# Roc curves (I used the .step plot here rather than .plot, that seems to make more sense\n",
    "# although the sklearn documentation uses .plot)\n",
    "\n",
    "for entry in range(1,max(all_results[\"name2\"])+1,1):\n",
    "    results=all_results.loc[all_results[\"name2\"]==entry,:]\n",
    "    plt.step(results['fpr'], results['tpr'], label=results[\"name\"].iloc[0])\n",
    "plt.legend()\n",
    "plt.show()\n"
   ]
  },
  {
   "cell_type": "code",
   "execution_count": 12,
   "metadata": {
    "collapsed": false
   },
   "outputs": [
    {
     "data": {
      "image/png": "[encoded data removed]",
      "text/plain": [
       "<matplotlib.figure.Figure at 0x115594c10>"
      ]
     },
     "metadata": {},
     "output_type": "display_data"
    }
   ],
   "source": [
    "# Zoom in\n",
    "# MultinomialNB looks good\n",
    "\n",
    "for entry in range(1,max(all_results[\"name2\"])+1,1):\n",
    "    results=all_results.loc[all_results[\"name2\"]==entry,:]\n",
    "    plt.step(results['fpr'], results['tpr'], label=results[\"name\"].iloc[0])\n",
    "plt.legend()\n",
    "plt.xlim([0,0.2])\n",
    "plt.ylim([0.8,1])\n",
    "plt.show()"
   ]
  },
  {
   "cell_type": "code",
   "execution_count": null,
   "metadata": {
    "collapsed": true
   },
   "outputs": [],
   "source": []
  }
 ],
 "metadata": {
  "kernelspec": {
   "display_name": "Python [default]",
   "language": "python",
   "name": "python2"
  },
  "language_info": {
   "codemirror_mode": {
    "name": "ipython",
    "version": 2
   },
   "file_extension": ".py",
   "mimetype": "text/x-python",
   "name": "python",
   "nbconvert_exporter": "python",
   "pygments_lexer": "ipython2",
   "version": "2.7.12"
  }
 },
 "nbformat": 4,
 "nbformat_minor": 0
}
