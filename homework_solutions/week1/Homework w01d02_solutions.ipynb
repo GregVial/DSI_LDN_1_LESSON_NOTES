{
 "cells": [
  {
   "cell_type": "markdown",
   "metadata": {},
   "source": [
    "# ![](https://ga-dash.s3.amazonaws.com/production/assets/logo-9f88ae6c9c3871690e33280fcf557f33.png) Homeworks - Python Loops, List and Dictionaries"
   ]
  },
  {
   "cell_type": "markdown",
   "metadata": {},
   "source": [
    "## Exercises\n",
    "\n",
    "Using a London boroughs dictionary"
   ]
  },
  {
   "cell_type": "code",
   "execution_count": 6,
   "metadata": {
    "collapsed": true
   },
   "outputs": [],
   "source": [
    "population={ 'City of London': 8700, 'Barking & Dagenham': 143100, 'Barnet': 268000, 'Bexley': 157400, 'Brent': 215900, \n",
    "'Bromley': 220200, 'Camden': 167100, 'Croydon': 269900, 'Ealing': 240500,  'Enfield': 207100, 'Greenwich': 196500,\n",
    "'Hackney': 173000, 'Hammersmith & Fulham': 147500, 'Haringey': 190200, 'Harrow': 168400, 'Havering': 175800, \n",
    "'Hillingdon': 189600, 'Hounslow': 175800, 'Islington': 166500, 'Kensington & Chelsea': 140200, \n",
    "'Kingston upon Thames': 118100, 'Lambeth': 231300, 'Lewisham': 216800, 'Merton':144200,'Newham': 243600, \n",
    "'Redbridge': 189600, 'Richmond upon Thames': 138200, 'Southwark': 229900, 'Sutton': 137500, 'Tower Hamlets': 205600,\n",
    "'Waltham Forest': 165100, 'Wandsworth': 235400, 'Westminster': 178100}"
   ]
  },
  {
   "cell_type": "markdown",
   "metadata": {},
   "source": [
    "1. Create a list of all London boroughs and print it out below this cell\n",
    "2. What is the total population of London?\n",
    "3. What is the highest population of all the boroughs?\n",
    "4. Which borough is that?\n",
    "5. Print out all boroughs sorted by population (highest first)\n",
    "6. If central London is defined as the boroughs in the list below, what is the central population?"
   ]
  },
  {
   "cell_type": "code",
   "execution_count": 28,
   "metadata": {
    "collapsed": true
   },
   "outputs": [],
   "source": [
    "central_boroughs=['City of London', 'Westminster', 'Camden', 'Kensington & Chelsea']"
   ]
  },
  {
   "cell_type": "markdown",
   "metadata": {},
   "source": [
    "## Solutions"
   ]
  },
  {
   "cell_type": "code",
   "execution_count": 48,
   "metadata": {
    "collapsed": false
   },
   "outputs": [
    {
     "name": "stdout",
     "output_type": "stream",
     "text": [
      "['Hounslow', 'Islington', 'Barking & Dagenham', 'Greenwich', 'Kingston upon Thames', 'Lewisham', 'Havering', 'Lambeth', 'Barnet', 'Waltham Forest', 'Hillingdon', 'Newham', 'Southwark', 'Bexley', 'Enfield', 'City of London', 'Sutton', 'Kensington & Chelsea', 'Bromley', 'Hammersmith & Fulham', 'Wandsworth', 'Ealing', 'Redbridge', 'Merton', 'Croydon', 'Tower Hamlets', 'Camden', 'Hackney', 'Richmond upon Thames', 'Westminster', 'Haringey', 'Harrow', 'Brent']\n"
     ]
    }
   ],
   "source": [
    "boroughs=population.keys()\n",
    "print(boroughs)"
   ]
  },
  {
   "cell_type": "code",
   "execution_count": 49,
   "metadata": {
    "collapsed": false
   },
   "outputs": [
    {
     "data": {
      "text/plain": [
       "6054800"
      ]
     },
     "execution_count": 49,
     "metadata": {},
     "output_type": "execute_result"
    }
   ],
   "source": [
    "sum(population.values())"
   ]
  },
  {
   "cell_type": "code",
   "execution_count": 54,
   "metadata": {
    "collapsed": false
   },
   "outputs": [
    {
     "data": {
      "text/plain": [
       "269900"
      ]
     },
     "execution_count": 54,
     "metadata": {},
     "output_type": "execute_result"
    }
   ],
   "source": [
    "max(population.values())"
   ]
  },
  {
   "cell_type": "code",
   "execution_count": 61,
   "metadata": {
    "collapsed": false
   },
   "outputs": [
    {
     "name": "stdout",
     "output_type": "stream",
     "text": [
      "Croydon\n"
     ]
    }
   ],
   "source": [
    "for key, value in population.iteritems():\n",
    "    if value==max(population.values()):\n",
    "        print key"
   ]
  },
  {
   "cell_type": "code",
   "execution_count": 65,
   "metadata": {
    "collapsed": false
   },
   "outputs": [
    {
     "data": {
      "text/plain": [
       "['Croydon',\n",
       " 'Barnet',\n",
       " 'Newham',\n",
       " 'Ealing',\n",
       " 'Wandsworth',\n",
       " 'Lambeth',\n",
       " 'Southwark',\n",
       " 'Bromley',\n",
       " 'Lewisham',\n",
       " 'Brent',\n",
       " 'Enfield',\n",
       " 'Tower Hamlets',\n",
       " 'Greenwich',\n",
       " 'Haringey',\n",
       " 'Hillingdon',\n",
       " 'Redbridge',\n",
       " 'Westminster',\n",
       " 'Hounslow',\n",
       " 'Havering',\n",
       " 'Hackney',\n",
       " 'Harrow',\n",
       " 'Camden',\n",
       " 'Islington',\n",
       " 'Waltham Forest',\n",
       " 'Bexley',\n",
       " 'Hammersmith & Fulham',\n",
       " 'Merton',\n",
       " 'Barking & Dagenham',\n",
       " 'Kensington & Chelsea',\n",
       " 'Richmond upon Thames',\n",
       " 'Sutton',\n",
       " 'Kingston upon Thames',\n",
       " 'City of London']"
      ]
     },
     "execution_count": 65,
     "metadata": {},
     "output_type": "execute_result"
    }
   ],
   "source": [
    "sorted(population, key=population.get, reverse=True)"
   ]
  },
  {
   "cell_type": "code",
   "execution_count": 46,
   "metadata": {
    "collapsed": false
   },
   "outputs": [
    {
     "name": "stdout",
     "output_type": "stream",
     "text": [
      "494100\n"
     ]
    }
   ],
   "source": [
    "a=[]\n",
    "for key in population.keys():\n",
    "    if key in central_boroughs:\n",
    "        a.append(population[key])\n",
    "print(sum(a))"
   ]
  },
  {
   "cell_type": "code",
   "execution_count": null,
   "metadata": {
    "collapsed": false
   },
   "outputs": [],
   "source": []
  },
  {
   "cell_type": "code",
   "execution_count": null,
   "metadata": {
    "collapsed": true
   },
   "outputs": [],
   "source": []
  }
 ],
 "metadata": {
  "anaconda-cloud": {},
  "kernelspec": {
   "display_name": "Python [conda root]",
   "language": "python",
   "name": "conda-root-py"
  },
  "language_info": {
   "codemirror_mode": {
    "name": "ipython",
    "version": 2
   },
   "file_extension": ".py",
   "mimetype": "text/x-python",
   "name": "python",
   "nbconvert_exporter": "python",
   "pygments_lexer": "ipython2",
   "version": "2.7.12"
  }
 },
 "nbformat": 4,
 "nbformat_minor": 1
}
