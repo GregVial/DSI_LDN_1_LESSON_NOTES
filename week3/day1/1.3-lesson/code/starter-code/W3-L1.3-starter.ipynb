{
 "cells": [
  {
   "cell_type": "markdown",
   "metadata": {},
   "source": [
    "# Linear Regression with Statsmodels and Scikit-Learn"
   ]
  },
  {
   "cell_type": "markdown",
   "metadata": {},
   "source": [
    "Let's investigate the housing dataset with linear regression. Here's the documentation for `statsmodels` (in case you need it):\n",
    "* statsmodels -- [linear regression](http://statsmodels.sourceforge.net/devel/examples/#regression)"
   ]
  },
  {
   "cell_type": "markdown",
   "metadata": {},
   "source": [
    "## Intro to Statsmodels\n",
    "\n",
    "Statsmodels is a python package that provides access to many useful statistical calculations and models such as linear regression. It has some advantages over `scikit-learn`, in particular easier access to various statistical aspects of linear regression.\n",
    "\n",
    "First let's load and explore our dataset, then we'll see how to use statsmodels. We'll use `sklearn` to provide the data."
   ]
  },
  {
   "cell_type": "code",
   "execution_count": 2,
   "metadata": {
    "collapsed": false
   },
<<<<<<< HEAD
   "outputs": [],
=======
   "outputs": [
    {
     "name": "stdout",
     "output_type": "stream",
     "text": [
      "Boston House Prices dataset\n",
      "===========================\n",
      "\n",
      "Notes\n",
      "------\n",
      "Data Set Characteristics:  \n",
      "\n",
      "    :Number of Instances: 506 \n",
      "\n",
      "    :Number of Attributes: 13 numeric/categorical predictive\n",
      "    \n",
      "    :Median Value (attribute 14) is usually the target\n",
      "\n",
      "    :Attribute Information (in order):\n",
      "        - CRIM     per capita crime rate by town\n",
      "        - ZN       proportion of residential land zoned for lots over 25,000 sq.ft.\n",
      "        - INDUS    proportion of non-retail business acres per town\n",
      "        - CHAS     Charles River dummy variable (= 1 if tract bounds river; 0 otherwise)\n",
      "        - NOX      nitric oxides concentration (parts per 10 million)\n",
      "        - RM       average number of rooms per dwelling\n",
      "        - AGE      proportion of owner-occupied units built prior to 1940\n",
      "        - DIS      weighted distances to five Boston employment centres\n",
      "        - RAD      index of accessibility to radial highways\n",
      "        - TAX      full-value property-tax rate per $10,000\n",
      "        - PTRATIO  pupil-teacher ratio by town\n",
      "        - B        1000(Bk - 0.63)^2 where Bk is the proportion of blacks by town\n",
      "        - LSTAT    % lower status of the population\n",
      "        - MEDV     Median value of owner-occupied homes in $1000's\n",
      "\n",
      "    :Missing Attribute Values: None\n",
      "\n",
      "    :Creator: Harrison, D. and Rubinfeld, D.L.\n",
      "\n",
      "This is a copy of UCI ML housing dataset.\n",
      "http://archive.ics.uci.edu/ml/datasets/Housing\n",
      "\n",
      "\n",
      "This dataset was taken from the StatLib library which is maintained at Carnegie Mellon University.\n",
      "\n",
      "The Boston house-price data of Harrison, D. and Rubinfeld, D.L. 'Hedonic\n",
      "prices and the demand for clean air', J. Environ. Economics & Management,\n",
      "vol.5, 81-102, 1978.   Used in Belsley, Kuh & Welsch, 'Regression diagnostics\n",
      "...', Wiley, 1980.   N.B. Various transformations are used in the table on\n",
      "pages 244-261 of the latter.\n",
      "\n",
      "The Boston house-price data has been used in many machine learning papers that address regression\n",
      "problems.   \n",
      "     \n",
      "**References**\n",
      "\n",
      "   - Belsley, Kuh & Welsch, 'Regression diagnostics: Identifying Influential Data and Sources of Collinearity', Wiley, 1980. 244-261.\n",
      "   - Quinlan,R. (1993). Combining Instance-Based and Model-Based Learning. In Proceedings on the Tenth International Conference of Machine Learning, 236-243, University of Massachusetts, Amherst. Morgan Kaufmann.\n",
      "   - many more! (see http://archive.ics.uci.edu/ml/datasets/Housing)\n",
      "\n"
     ]
    }
   ],
>>>>>>> ead856a8be1e9edeb0c57fe9560f50d190b6bc11
   "source": [
    "%matplotlib inline\n",
    "from matplotlib import pyplot as plt\n",
    "\n",
    "from sklearn import datasets\n",
    "data = datasets.load_boston()\n",
    "\n",
    "print data.DESCR"
   ]
  },
  {
   "cell_type": "markdown",
   "metadata": {},
   "source": [
    "Let's take a minute to see what the data looks like."
   ]
  },
  {
   "cell_type": "code",
   "execution_count": 3,
   "metadata": {
    "collapsed": false
   },
   "outputs": [
    {
     "name": "stdout",
     "output_type": "stream",
     "text": [
      "['CRIM' 'ZN' 'INDUS' 'CHAS' 'NOX' 'RM' 'AGE' 'DIS' 'RAD' 'TAX' 'PTRATIO'\n",
      " 'B' 'LSTAT']\n",
      "[  6.32000000e-03   1.80000000e+01   2.31000000e+00   0.00000000e+00\n",
      "   5.38000000e-01   6.57500000e+00   6.52000000e+01   4.09000000e+00\n",
      "   1.00000000e+00   2.96000000e+02   1.53000000e+01   3.96900000e+02\n",
      "   4.98000000e+00]\n",
      "24.0\n"
     ]
    }
   ],
   "source": [
    "print data.feature_names\n",
    "print data.data[0]\n",
    "print data.target[0]"
   ]
  },
  {
   "cell_type": "markdown",
   "metadata": {},
   "source": [
    "Scikit-learn has already split off the house value data into the target variable. Let's see how to build a linear regression. First let's put the data into a data frame for convenience, and do a quick check to see that everything loaded correctly."
   ]
  },
  {
   "cell_type": "code",
   "execution_count": 4,
<<<<<<< HEAD
=======
   "metadata": {
    "collapsed": false
   },
   "outputs": [
    {
     "data": {
      "text/plain": [
       "sklearn.datasets.base.Bunch"
      ]
     },
     "execution_count": 4,
     "metadata": {},
     "output_type": "execute_result"
    }
   ],
   "source": [
    "type(data)"
   ]
  },
  {
   "cell_type": "code",
   "execution_count": 6,
>>>>>>> ead856a8be1e9edeb0c57fe9560f50d190b6bc11
   "metadata": {
    "collapsed": false
   },
   "outputs": [
    {
     "name": "stdout",
     "output_type": "stream",
     "text": [
      "      CRIM    ZN  INDUS  CHAS    NOX     RM   AGE     DIS  RAD    TAX  \\\n",
      "0  0.00632  18.0   2.31   0.0  0.538  6.575  65.2  4.0900  1.0  296.0   \n",
      "1  0.02731   0.0   7.07   0.0  0.469  6.421  78.9  4.9671  2.0  242.0   \n",
      "2  0.02729   0.0   7.07   0.0  0.469  7.185  61.1  4.9671  2.0  242.0   \n",
      "3  0.03237   0.0   2.18   0.0  0.458  6.998  45.8  6.0622  3.0  222.0   \n",
      "4  0.06905   0.0   2.18   0.0  0.458  7.147  54.2  6.0622  3.0  222.0   \n",
      "\n",
      "   PTRATIO       B  LSTAT  \n",
      "0     15.3  396.90   4.98  \n",
      "1     17.8  396.90   9.14  \n",
      "2     17.8  392.83   4.03  \n",
      "3     18.7  394.63   2.94  \n",
      "4     18.7  396.90   5.33  \n",
      "   MEDV\n",
      "0  24.0\n",
      "1  21.6\n",
      "2  34.7\n",
      "3  33.4\n",
      "4  36.2\n"
     ]
    }
   ],
   "source": [
    "import numpy as np\n",
    "import pandas as pd\n",
    "df = pd.DataFrame(data.data, columns=data.feature_names)\n",
    "\n",
    "# Put the target (housing value -- MEDV) in another DataFrame\n",
    "targets = pd.DataFrame(data.target, columns=[\"MEDV\"])\n",
    "\n",
    "# Take a look at the first few rows\n",
    "print df.head()\n",
    "print targets.head()"
   ]
  },
  {
   "cell_type": "markdown",
   "metadata": {},
   "source": [
    "Now let's fit a linear model to the data. First let's take a look at some of the variables we identified visually as being linked to house value, RM and LSTAT. Let's look at each individually and then both together.\n",
    "\n",
    "Note that statsmodels does not add a constant term by default, so you need to use `X = sm.add_constant(X)` if you want a constant term."
   ]
  },
  {
   "cell_type": "code",
<<<<<<< HEAD
   "execution_count": 6,
=======
   "execution_count": 8,
>>>>>>> ead856a8be1e9edeb0c57fe9560f50d190b6bc11
   "metadata": {
    "collapsed": false
   },
   "outputs": [
    {
     "data": {
      "text/html": [
       "<table class=\"simpletable\">\n",
       "<caption>OLS Regression Results</caption>\n",
       "<tr>\n",
       "  <th>Dep. Variable:</th>          <td>MEDV</td>       <th>  R-squared:         </th> <td>   0.901</td> \n",
       "</tr>\n",
       "<tr>\n",
       "  <th>Model:</th>                   <td>OLS</td>       <th>  Adj. R-squared:    </th> <td>   0.901</td> \n",
       "</tr>\n",
       "<tr>\n",
       "  <th>Method:</th>             <td>Least Squares</td>  <th>  F-statistic:       </th> <td>   4615.</td> \n",
       "</tr>\n",
       "<tr>\n",
       "  <th>Date:</th>             <td>Mon, 24 Oct 2016</td> <th>  Prob (F-statistic):</th> <td>3.74e-256</td>\n",
       "</tr>\n",
       "<tr>\n",
<<<<<<< HEAD
       "  <th>Time:</th>                 <td>13:53:24</td>     <th>  Log-Likelihood:    </th> <td> -1747.1</td> \n",
=======
       "  <th>Time:</th>                 <td>13:53:55</td>     <th>  Log-Likelihood:    </th> <td> -1747.1</td> \n",
>>>>>>> ead856a8be1e9edeb0c57fe9560f50d190b6bc11
       "</tr>\n",
       "<tr>\n",
       "  <th>No. Observations:</th>      <td>   506</td>      <th>  AIC:               </th> <td>   3496.</td> \n",
       "</tr>\n",
       "<tr>\n",
       "  <th>Df Residuals:</th>          <td>   505</td>      <th>  BIC:               </th> <td>   3500.</td> \n",
       "</tr>\n",
       "<tr>\n",
       "  <th>Df Model:</th>              <td>     1</td>      <th>                     </th>     <td> </td>    \n",
       "</tr>\n",
       "<tr>\n",
       "  <th>Covariance Type:</th>      <td>nonrobust</td>    <th>                     </th>     <td> </td>    \n",
       "</tr>\n",
       "</table>\n",
       "<table class=\"simpletable\">\n",
       "<tr>\n",
       "   <td></td>     <th>coef</th>     <th>std err</th>      <th>t</th>      <th>P>|t|</th> <th>[95.0% Conf. Int.]</th> \n",
       "</tr>\n",
       "<tr>\n",
       "  <th>RM</th> <td>    3.6534</td> <td>    0.054</td> <td>   67.930</td> <td> 0.000</td> <td>    3.548     3.759</td>\n",
       "</tr>\n",
       "</table>\n",
       "<table class=\"simpletable\">\n",
       "<tr>\n",
       "  <th>Omnibus:</th>       <td>83.295</td> <th>  Durbin-Watson:     </th> <td>   0.493</td>\n",
       "</tr>\n",
       "<tr>\n",
       "  <th>Prob(Omnibus):</th> <td> 0.000</td> <th>  Jarque-Bera (JB):  </th> <td> 152.507</td>\n",
       "</tr>\n",
       "<tr>\n",
       "  <th>Skew:</th>          <td> 0.955</td> <th>  Prob(JB):          </th> <td>7.65e-34</td>\n",
       "</tr>\n",
       "<tr>\n",
       "  <th>Kurtosis:</th>      <td> 4.894</td> <th>  Cond. No.          </th> <td>    1.00</td>\n",
       "</tr>\n",
       "</table>"
      ],
      "text/plain": [
       "<class 'statsmodels.iolib.summary.Summary'>\n",
       "\"\"\"\n",
       "                            OLS Regression Results                            \n",
       "==============================================================================\n",
       "Dep. Variable:                   MEDV   R-squared:                       0.901\n",
       "Model:                            OLS   Adj. R-squared:                  0.901\n",
       "Method:                 Least Squares   F-statistic:                     4615.\n",
       "Date:                Mon, 24 Oct 2016   Prob (F-statistic):          3.74e-256\n",
<<<<<<< HEAD
       "Time:                        13:53:24   Log-Likelihood:                -1747.1\n",
=======
       "Time:                        13:53:55   Log-Likelihood:                -1747.1\n",
>>>>>>> ead856a8be1e9edeb0c57fe9560f50d190b6bc11
       "No. Observations:                 506   AIC:                             3496.\n",
       "Df Residuals:                     505   BIC:                             3500.\n",
       "Df Model:                           1                                         \n",
       "Covariance Type:            nonrobust                                         \n",
       "==============================================================================\n",
       "                 coef    std err          t      P>|t|      [95.0% Conf. Int.]\n",
       "------------------------------------------------------------------------------\n",
       "RM             3.6534      0.054     67.930      0.000         3.548     3.759\n",
       "==============================================================================\n",
       "Omnibus:                       83.295   Durbin-Watson:                   0.493\n",
       "Prob(Omnibus):                  0.000   Jarque-Bera (JB):              152.507\n",
       "Skew:                           0.955   Prob(JB):                     7.65e-34\n",
       "Kurtosis:                       4.894   Cond. No.                         1.00\n",
       "==============================================================================\n",
       "\n",
       "Warnings:\n",
       "[1] Standard Errors assume that the covariance matrix of the errors is correctly specified.\n",
       "\"\"\""
      ]
     },
<<<<<<< HEAD
     "execution_count": 6,
=======
     "execution_count": 8,
>>>>>>> ead856a8be1e9edeb0c57fe9560f50d190b6bc11
     "metadata": {},
     "output_type": "execute_result"
    }
   ],
   "source": [
    "import statsmodels.api as sm\n",
    "\n",
    "X = df[\"RM\"]\n",
    "y = targets[\"MEDV\"]\n",
    "\n",
    "# Note the difference in argument order\n",
    "model = sm.OLS(y, X).fit()\n",
    "predictions = model.predict(X)\n",
    "\n",
    "# Print out the statistics\n",
    "model.summary()"
   ]
  },
  {
   "cell_type": "markdown",
   "metadata": {},
   "source": [
    "### Interpreting the Coefficients\n",
    "\n",
    "Here the coefficient of 3.634 means that as the `RM` variable increases by 1, the predicted value of `MDEV` increases by 3.634.\n",
    "\n",
    "Let's plot the predictions versus the actual values."
   ]
  },
  {
   "cell_type": "code",
<<<<<<< HEAD
   "execution_count": 7,
=======
   "execution_count": 9,
>>>>>>> ead856a8be1e9edeb0c57fe9560f50d190b6bc11
   "metadata": {
    "collapsed": false
   },
   "outputs": [
    {
     "data": {
<<<<<<< HEAD
      "image/png": "iVBORw0KGgoAAAANSUhEUgAAAhoAAAF5CAYAAADZMYNPAAAABHNCSVQICAgIfAhkiAAAAAlwSFlz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\nAAAAAElFTkSuQmCC\n",
      "text/plain": [
       "<matplotlib.figure.Figure at 0x7f8c4a0aabd0>"
=======
      "image/png": "iVBORw0KGgoAAAANSUhEUgAAAhkAAAF5CAYAAAAyBjhMAAAABHNCSVQICAgIfAhkiAAAAAlwSFlz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\nrkJggg==\n",
      "text/plain": [
       "<matplotlib.figure.Figure at 0x11111a350>"
>>>>>>> ead856a8be1e9edeb0c57fe9560f50d190b6bc11
      ]
     },
     "metadata": {},
     "output_type": "display_data"
    },
    {
     "name": "stdout",
     "output_type": "stream",
     "text": [
      "MSE: 270070.558471\n"
     ]
    }
   ],
   "source": [
    "# Plot the model\n",
    "plt.scatter(predictions, y, s=30, c='r', marker='+', zorder=10)\n",
    "plt.xlabel(\"Predicted Values from RM\")\n",
    "plt.ylabel(\"Actual Values MEDV\")\n",
    "plt.show()\n",
    "print \"MSE:\", model.mse_model"
   ]
  },
  {
   "cell_type": "markdown",
   "metadata": {},
   "source": [
    "**Check**: How does this plot relate to the model? In other words, how are the independent variable (RM) and dependent variable (\"MEDV\") incorporated?\n",
    "\n",
    "Solution: They are used to make the predicted values (the x-axis)\n",
    "\n",
    "Let's try it with a constant term now."
   ]
  },
  {
   "cell_type": "code",
   "execution_count": 10,
   "metadata": {
    "collapsed": false
   },
   "outputs": [
    {
     "data": {
      "text/html": [
       "<table class=\"simpletable\">\n",
       "<caption>OLS Regression Results</caption>\n",
       "<tr>\n",
       "  <th>Dep. Variable:</th>          <td>MEDV</td>       <th>  R-squared:         </th> <td>   0.484</td>\n",
       "</tr>\n",
       "<tr>\n",
       "  <th>Model:</th>                   <td>OLS</td>       <th>  Adj. R-squared:    </th> <td>   0.483</td>\n",
       "</tr>\n",
       "<tr>\n",
       "  <th>Method:</th>             <td>Least Squares</td>  <th>  F-statistic:       </th> <td>   471.8</td>\n",
       "</tr>\n",
       "<tr>\n",
       "  <th>Date:</th>             <td>Mon, 24 Oct 2016</td> <th>  Prob (F-statistic):</th> <td>2.49e-74</td>\n",
       "</tr>\n",
       "<tr>\n",
       "  <th>Time:</th>                 <td>14:02:10</td>     <th>  Log-Likelihood:    </th> <td> -1673.1</td>\n",
       "</tr>\n",
       "<tr>\n",
       "  <th>No. Observations:</th>      <td>   506</td>      <th>  AIC:               </th> <td>   3350.</td>\n",
       "</tr>\n",
       "<tr>\n",
       "  <th>Df Residuals:</th>          <td>   504</td>      <th>  BIC:               </th> <td>   3359.</td>\n",
       "</tr>\n",
       "<tr>\n",
       "  <th>Df Model:</th>              <td>     1</td>      <th>                     </th>     <td> </td>   \n",
       "</tr>\n",
       "<tr>\n",
       "  <th>Covariance Type:</th>      <td>nonrobust</td>    <th>                     </th>     <td> </td>   \n",
       "</tr>\n",
       "</table>\n",
       "<table class=\"simpletable\">\n",
       "<tr>\n",
       "    <td></td>       <th>coef</th>     <th>std err</th>      <th>t</th>      <th>P>|t|</th> <th>[95.0% Conf. Int.]</th> \n",
       "</tr>\n",
       "<tr>\n",
       "  <th>const</th> <td>  -34.6706</td> <td>    2.650</td> <td>  -13.084</td> <td> 0.000</td> <td>  -39.877   -29.465</td>\n",
       "</tr>\n",
       "<tr>\n",
       "  <th>RM</th>    <td>    9.1021</td> <td>    0.419</td> <td>   21.722</td> <td> 0.000</td> <td>    8.279     9.925</td>\n",
       "</tr>\n",
       "</table>\n",
       "<table class=\"simpletable\">\n",
       "<tr>\n",
       "  <th>Omnibus:</th>       <td>102.585</td> <th>  Durbin-Watson:     </th> <td>   0.684</td> \n",
       "</tr>\n",
       "<tr>\n",
       "  <th>Prob(Omnibus):</th> <td> 0.000</td>  <th>  Jarque-Bera (JB):  </th> <td> 612.449</td> \n",
       "</tr>\n",
       "<tr>\n",
       "  <th>Skew:</th>          <td> 0.726</td>  <th>  Prob(JB):          </th> <td>1.02e-133</td>\n",
       "</tr>\n",
       "<tr>\n",
       "  <th>Kurtosis:</th>      <td> 8.190</td>  <th>  Cond. No.          </th> <td>    58.4</td> \n",
       "</tr>\n",
       "</table>"
      ],
      "text/plain": [
       "<class 'statsmodels.iolib.summary.Summary'>\n",
       "\"\"\"\n",
       "                            OLS Regression Results                            \n",
       "==============================================================================\n",
       "Dep. Variable:                   MEDV   R-squared:                       0.484\n",
       "Model:                            OLS   Adj. R-squared:                  0.483\n",
       "Method:                 Least Squares   F-statistic:                     471.8\n",
       "Date:                Mon, 24 Oct 2016   Prob (F-statistic):           2.49e-74\n",
       "Time:                        14:02:10   Log-Likelihood:                -1673.1\n",
       "No. Observations:                 506   AIC:                             3350.\n",
       "Df Residuals:                     504   BIC:                             3359.\n",
       "Df Model:                           1                                         \n",
       "Covariance Type:            nonrobust                                         \n",
       "==============================================================================\n",
       "                 coef    std err          t      P>|t|      [95.0% Conf. Int.]\n",
       "------------------------------------------------------------------------------\n",
       "const        -34.6706      2.650    -13.084      0.000       -39.877   -29.465\n",
       "RM             9.1021      0.419     21.722      0.000         8.279     9.925\n",
       "==============================================================================\n",
       "Omnibus:                      102.585   Durbin-Watson:                   0.684\n",
       "Prob(Omnibus):                  0.000   Jarque-Bera (JB):              612.449\n",
       "Skew:                           0.726   Prob(JB):                    1.02e-133\n",
       "Kurtosis:                       8.190   Cond. No.                         58.4\n",
       "==============================================================================\n",
       "\n",
       "Warnings:\n",
       "[1] Standard Errors assume that the covariance matrix of the errors is correctly specified.\n",
       "\"\"\""
      ]
     },
     "execution_count": 10,
     "metadata": {},
     "output_type": "execute_result"
    }
   ],
   "source": [
    "## With a constant\n",
    "\n",
    "import statsmodels.api as sm\n",
    "\n",
    "X = df[\"RM\"]\n",
    "X = sm.add_constant(X)\n",
    "y = targets[\"MEDV\"]\n",
    "\n",
    "# Note the difference in argument order\n",
    "model = sm.OLS(y, X).fit()\n",
    "predictions = model.predict(X)\n",
    "\n",
    "# Print out the statistics\n",
    "model.summary()"
   ]
  },
  {
   "cell_type": "code",
   "execution_count": 12,
   "metadata": {
    "collapsed": false
   },
   "outputs": [
    {
     "data": {
      "image/png": "iVBORw0KGgoAAAANSUhEUgAAAhkAAAF5CAYAAAAyBjhMAAAABHNCSVQICAgIfAhkiAAAAAlwSFlz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\nM7OWcJBhZmZmLfFfvjYYs8hizgkAAAAASUVORK5CYII=\n",
      "text/plain": [
       "<matplotlib.figure.Figure at 0x11135d5d0>"
      ]
     },
     "metadata": {},
     "output_type": "display_data"
    },
    {
     "name": "stdout",
     "output_type": "stream",
     "text": [
      "MSE: 20654.4162188\n"
     ]
    }
   ],
   "source": [
    "# Plot the model\n",
    "plt.scatter(predictions, y, s=30, c='r', marker='+', zorder=10)\n",
    "plt.xlabel(\"Predicted Values from RM\")\n",
    "plt.ylabel(\"Actual Values MEDV\")\n",
    "plt.show()\n",
    "print \"MSE:\", model.mse_model"
   ]
  },
  {
   "cell_type": "markdown",
   "metadata": {},
   "source": [
    "### Interpreting the Coefficients\n",
    "\n",
    "With the constant term the coefficients are different. Without a constant we are forcing our model to go through the origin, but now we have a y-intercept at -34.67. We also changed the slope of the `RM` regressor from 3.634 to 9.1021.\n",
    "\n",
    "Next let's try a different predictor, `LSTAT`.\n"
   ]
  },
  {
   "cell_type": "code",
   "execution_count": 14,
   "metadata": {
    "collapsed": false
   },
   "outputs": [
    {
     "data": {
      "text/html": [
       "<table class=\"simpletable\">\n",
       "<caption>OLS Regression Results</caption>\n",
       "<tr>\n",
       "  <th>Dep. Variable:</th>          <td>MEDV</td>       <th>  R-squared:         </th> <td>   0.449</td>\n",
       "</tr>\n",
       "<tr>\n",
       "  <th>Model:</th>                   <td>OLS</td>       <th>  Adj. R-squared:    </th> <td>   0.448</td>\n",
       "</tr>\n",
       "<tr>\n",
       "  <th>Method:</th>             <td>Least Squares</td>  <th>  F-statistic:       </th> <td>   410.9</td>\n",
       "</tr>\n",
       "<tr>\n",
       "  <th>Date:</th>             <td>Mon, 24 Oct 2016</td> <th>  Prob (F-statistic):</th> <td>2.71e-67</td>\n",
       "</tr>\n",
       "<tr>\n",
       "  <th>Time:</th>                 <td>14:10:33</td>     <th>  Log-Likelihood:    </th> <td> -2182.4</td>\n",
       "</tr>\n",
       "<tr>\n",
       "  <th>No. Observations:</th>      <td>   506</td>      <th>  AIC:               </th> <td>   4367.</td>\n",
       "</tr>\n",
       "<tr>\n",
       "  <th>Df Residuals:</th>          <td>   505</td>      <th>  BIC:               </th> <td>   4371.</td>\n",
       "</tr>\n",
       "<tr>\n",
       "  <th>Df Model:</th>              <td>     1</td>      <th>                     </th>     <td> </td>   \n",
       "</tr>\n",
       "<tr>\n",
       "  <th>Covariance Type:</th>      <td>nonrobust</td>    <th>                     </th>     <td> </td>   \n",
       "</tr>\n",
       "</table>\n",
       "<table class=\"simpletable\">\n",
       "<tr>\n",
       "    <td></td>       <th>coef</th>     <th>std err</th>      <th>t</th>      <th>P>|t|</th> <th>[95.0% Conf. Int.]</th> \n",
       "</tr>\n",
       "<tr>\n",
       "  <th>LSTAT</th> <td>    1.1221</td> <td>    0.055</td> <td>   20.271</td> <td> 0.000</td> <td>    1.013     1.231</td>\n",
       "</tr>\n",
       "</table>\n",
       "<table class=\"simpletable\">\n",
       "<tr>\n",
       "  <th>Omnibus:</th>       <td> 1.113</td> <th>  Durbin-Watson:     </th> <td>   0.369</td>\n",
       "</tr>\n",
       "<tr>\n",
       "  <th>Prob(Omnibus):</th> <td> 0.573</td> <th>  Jarque-Bera (JB):  </th> <td>   1.051</td>\n",
       "</tr>\n",
       "<tr>\n",
       "  <th>Skew:</th>          <td> 0.112</td> <th>  Prob(JB):          </th> <td>   0.591</td>\n",
       "</tr>\n",
       "<tr>\n",
       "  <th>Kurtosis:</th>      <td> 3.009</td> <th>  Cond. No.          </th> <td>    1.00</td>\n",
       "</tr>\n",
       "</table>"
      ],
      "text/plain": [
       "<class 'statsmodels.iolib.summary.Summary'>\n",
       "\"\"\"\n",
       "                            OLS Regression Results                            \n",
       "==============================================================================\n",
       "Dep. Variable:                   MEDV   R-squared:                       0.449\n",
       "Model:                            OLS   Adj. R-squared:                  0.448\n",
       "Method:                 Least Squares   F-statistic:                     410.9\n",
       "Date:                Mon, 24 Oct 2016   Prob (F-statistic):           2.71e-67\n",
       "Time:                        14:10:33   Log-Likelihood:                -2182.4\n",
       "No. Observations:                 506   AIC:                             4367.\n",
       "Df Residuals:                     505   BIC:                             4371.\n",
       "Df Model:                           1                                         \n",
       "Covariance Type:            nonrobust                                         \n",
       "==============================================================================\n",
       "                 coef    std err          t      P>|t|      [95.0% Conf. Int.]\n",
       "------------------------------------------------------------------------------\n",
       "LSTAT          1.1221      0.055     20.271      0.000         1.013     1.231\n",
       "==============================================================================\n",
       "Omnibus:                        1.113   Durbin-Watson:                   0.369\n",
       "Prob(Omnibus):                  0.573   Jarque-Bera (JB):                1.051\n",
       "Skew:                           0.112   Prob(JB):                        0.591\n",
       "Kurtosis:                       3.009   Cond. No.                         1.00\n",
       "==============================================================================\n",
       "\n",
       "Warnings:\n",
       "[1] Standard Errors assume that the covariance matrix of the errors is correctly specified.\n",
       "\"\"\""
      ]
     },
     "execution_count": 14,
     "metadata": {},
     "output_type": "execute_result"
    }
   ],
   "source": [
    "X = df[[\"LSTAT\"]]\n",
    "y = targets[\"MEDV\"]\n",
    "\n",
    "# Note the difference in argument order\n",
    "model = sm.OLS(y, X).fit()\n",
    "predictions = model.predict(X)\n",
    "\n",
    "# Print out the statistics\n",
    "model.summary()"
   ]
  },
  {
   "cell_type": "code",
   "execution_count": 9,
   "metadata": {
    "collapsed": false
   },
   "outputs": [
    {
     "data": {
      "image/png": "iVBORw0KGgoAAAANSUhEUgAAAYMAAAEPCAYAAACgFqixAAAABHNCSVQICAgIfAhkiAAAAAlwSFlz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\nZSCEEAL4/0Nc0PlEHbKEAAAAAElFTkSuQmCC\n",
      "text/plain": [
       "<matplotlib.figure.Figure at 0x7fede250bf50>"
      ]
     },
     "metadata": {},
     "output_type": "display_data"
    },
    {
     "name": "stdout",
     "output_type": "stream",
     "text": [
      "MSE: 134427.133958\n"
     ]
    }
   ],
   "source": [
    "# Plot the model\n",
    "plt.scatter(predictions, y, s=30, c='r', marker='+', zorder=10)\n",
    "plt.xlabel(\"Predicted Values from LSTAT\")\n",
    "plt.ylabel(\"Actual Values MEDV\")\n",
    "plt.show()\n",
    "print \"MSE:\", model.mse_model"
   ]
  },
  {
   "cell_type": "markdown",
   "metadata": {},
   "source": [
    "Finally, let's fit a model using both `RM` and `LSTAT`."
   ]
  },
  {
   "cell_type": "code",
   "execution_count": 15,
   "metadata": {
    "collapsed": false
   },
   "outputs": [
    {
     "data": {
      "text/html": [
       "<table class=\"simpletable\">\n",
       "<caption>OLS Regression Results</caption>\n",
       "<tr>\n",
       "  <th>Dep. Variable:</th>          <td>MEDV</td>       <th>  R-squared:         </th> <td>   0.948</td>\n",
       "</tr>\n",
       "<tr>\n",
       "  <th>Model:</th>                   <td>OLS</td>       <th>  Adj. R-squared:    </th> <td>   0.948</td>\n",
       "</tr>\n",
       "<tr>\n",
       "  <th>Method:</th>             <td>Least Squares</td>  <th>  F-statistic:       </th> <td>   4637.</td>\n",
       "</tr>\n",
       "<tr>\n",
       "  <th>Date:</th>             <td>Mon, 24 Oct 2016</td> <th>  Prob (F-statistic):</th>  <td>  0.00</td> \n",
       "</tr>\n",
       "<tr>\n",
       "  <th>Time:</th>                 <td>14:11:34</td>     <th>  Log-Likelihood:    </th> <td> -1582.9</td>\n",
       "</tr>\n",
       "<tr>\n",
       "  <th>No. Observations:</th>      <td>   506</td>      <th>  AIC:               </th> <td>   3170.</td>\n",
       "</tr>\n",
       "<tr>\n",
       "  <th>Df Residuals:</th>          <td>   504</td>      <th>  BIC:               </th> <td>   3178.</td>\n",
       "</tr>\n",
       "<tr>\n",
       "  <th>Df Model:</th>              <td>     2</td>      <th>                     </th>     <td> </td>   \n",
       "</tr>\n",
       "<tr>\n",
       "  <th>Covariance Type:</th>      <td>nonrobust</td>    <th>                     </th>     <td> </td>   \n",
       "</tr>\n",
       "</table>\n",
       "<table class=\"simpletable\">\n",
       "<tr>\n",
       "    <td></td>       <th>coef</th>     <th>std err</th>      <th>t</th>      <th>P>|t|</th> <th>[95.0% Conf. Int.]</th> \n",
       "</tr>\n",
       "<tr>\n",
       "  <th>RM</th>    <td>    4.9069</td> <td>    0.070</td> <td>   69.906</td> <td> 0.000</td> <td>    4.769     5.045</td>\n",
       "</tr>\n",
       "<tr>\n",
       "  <th>LSTAT</th> <td>   -0.6557</td> <td>    0.031</td> <td>  -21.458</td> <td> 0.000</td> <td>   -0.716    -0.596</td>\n",
       "</tr>\n",
       "</table>\n",
       "<table class=\"simpletable\">\n",
       "<tr>\n",
       "  <th>Omnibus:</th>       <td>145.153</td> <th>  Durbin-Watson:     </th> <td>   0.834</td>\n",
       "</tr>\n",
       "<tr>\n",
       "  <th>Prob(Omnibus):</th> <td> 0.000</td>  <th>  Jarque-Bera (JB):  </th> <td> 442.157</td>\n",
       "</tr>\n",
       "<tr>\n",
       "  <th>Skew:</th>          <td> 1.351</td>  <th>  Prob(JB):          </th> <td>9.70e-97</td>\n",
       "</tr>\n",
       "<tr>\n",
       "  <th>Kurtosis:</th>      <td> 6.698</td>  <th>  Cond. No.          </th> <td>    4.72</td>\n",
       "</tr>\n",
       "</table>"
      ],
      "text/plain": [
       "<class 'statsmodels.iolib.summary.Summary'>\n",
       "\"\"\"\n",
       "                            OLS Regression Results                            \n",
       "==============================================================================\n",
       "Dep. Variable:                   MEDV   R-squared:                       0.948\n",
       "Model:                            OLS   Adj. R-squared:                  0.948\n",
       "Method:                 Least Squares   F-statistic:                     4637.\n",
       "Date:                Mon, 24 Oct 2016   Prob (F-statistic):               0.00\n",
       "Time:                        14:11:34   Log-Likelihood:                -1582.9\n",
       "No. Observations:                 506   AIC:                             3170.\n",
       "Df Residuals:                     504   BIC:                             3178.\n",
       "Df Model:                           2                                         \n",
       "Covariance Type:            nonrobust                                         \n",
       "==============================================================================\n",
       "                 coef    std err          t      P>|t|      [95.0% Conf. Int.]\n",
       "------------------------------------------------------------------------------\n",
       "RM             4.9069      0.070     69.906      0.000         4.769     5.045\n",
       "LSTAT         -0.6557      0.031    -21.458      0.000        -0.716    -0.596\n",
       "==============================================================================\n",
       "Omnibus:                      145.153   Durbin-Watson:                   0.834\n",
       "Prob(Omnibus):                  0.000   Jarque-Bera (JB):              442.157\n",
       "Skew:                           1.351   Prob(JB):                     9.70e-97\n",
       "Kurtosis:                       6.698   Cond. No.                         4.72\n",
       "==============================================================================\n",
       "\n",
       "Warnings:\n",
       "[1] Standard Errors assume that the covariance matrix of the errors is correctly specified.\n",
       "\"\"\""
      ]
     },
     "execution_count": 15,
     "metadata": {},
     "output_type": "execute_result"
    }
   ],
   "source": [
    "X = df[[\"RM\", \"LSTAT\"]]\n",
    "y = targets[\"MEDV\"]\n",
    "\n",
    "model = sm.OLS(y, X).fit()\n",
    "predictions = model.predict(X)\n",
    "\n",
    "model.summary()"
   ]
  },
  {
   "cell_type": "code",
   "execution_count": 16,
   "metadata": {
    "collapsed": false
   },
   "outputs": [
    {
     "data": {
      "image/png": "iVBORw0KGgoAAAANSUhEUgAAAhkAAAF5CAYAAAAyBjhMAAAABHNCSVQICAgIfAhkiAAAAAlwSFlz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\nlgAAAABJRU5ErkJggg==\n",
      "text/plain": [
       "<matplotlib.figure.Figure at 0x111598a50>"
      ]
     },
     "metadata": {},
     "output_type": "display_data"
    },
    {
     "name": "stdout",
     "output_type": "stream",
     "text": [
      "MSE: 142090.70278\n"
     ]
    }
   ],
   "source": [
    "# Plot the model\n",
    "plt.scatter(predictions, y, s=30, c='r', marker='+', zorder=10)\n",
    "plt.xlabel(\"Predicted Values from RM and LSTAT\")\n",
    "plt.ylabel(\"Actual Values MEDV\")\n",
    "plt.show()\n",
    "print \"MSE:\", model.mse_model"
   ]
  },
  {
   "cell_type": "markdown",
   "metadata": {},
   "source": [
    "## Comparing the models\n",
    "\n",
    "A perfect fit would yield a straight line when we plot the predicted values versus the true values. We'll quantify the goodness of fit soon.\n",
    "\n",
    "### Exercise\n",
    "\n",
    "Run the fit on all the variables with `X = df`. Did this improve the fit versus the previously tested variable combinations? (Use mean squared error)."
   ]
  },
  {
   "cell_type": "code",
   "execution_count": 8,
   "metadata": {
    "collapsed": false
   },
   "outputs": [
    {
     "data": {
      "text/html": [
       "<table class=\"simpletable\">\n",
       "<caption>OLS Regression Results</caption>\n",
       "<tr>\n",
       "  <th>Dep. Variable:</th>          <td>MEDV</td>       <th>  R-squared:         </th> <td>   0.741</td> \n",
       "</tr>\n",
       "<tr>\n",
       "  <th>Model:</th>                   <td>OLS</td>       <th>  Adj. R-squared:    </th> <td>   0.734</td> \n",
       "</tr>\n",
       "<tr>\n",
       "  <th>Method:</th>             <td>Least Squares</td>  <th>  F-statistic:       </th> <td>   108.1</td> \n",
       "</tr>\n",
       "<tr>\n",
       "  <th>Date:</th>             <td>Mon, 24 Oct 2016</td> <th>  Prob (F-statistic):</th> <td>6.95e-135</td>\n",
       "</tr>\n",
       "<tr>\n",
       "  <th>Time:</th>                 <td>14:16:23</td>     <th>  Log-Likelihood:    </th> <td> -1498.8</td> \n",
       "</tr>\n",
       "<tr>\n",
       "  <th>No. Observations:</th>      <td>   506</td>      <th>  AIC:               </th> <td>   3026.</td> \n",
       "</tr>\n",
       "<tr>\n",
       "  <th>Df Residuals:</th>          <td>   492</td>      <th>  BIC:               </th> <td>   3085.</td> \n",
       "</tr>\n",
       "<tr>\n",
       "  <th>Df Model:</th>              <td>    13</td>      <th>                     </th>     <td> </td>    \n",
       "</tr>\n",
       "<tr>\n",
       "  <th>Covariance Type:</th>      <td>nonrobust</td>    <th>                     </th>     <td> </td>    \n",
       "</tr>\n",
       "</table>\n",
       "<table class=\"simpletable\">\n",
       "<tr>\n",
       "     <td></td>        <th>coef</th>     <th>std err</th>      <th>t</th>      <th>P>|t|</th> <th>[95.0% Conf. Int.]</th> \n",
       "</tr>\n",
       "<tr>\n",
       "  <th>const</th>   <td>   36.4911</td> <td>    5.104</td> <td>    7.149</td> <td> 0.000</td> <td>   26.462    46.520</td>\n",
       "</tr>\n",
       "<tr>\n",
       "  <th>CRIM</th>    <td>   -0.1072</td> <td>    0.033</td> <td>   -3.276</td> <td> 0.001</td> <td>   -0.171    -0.043</td>\n",
       "</tr>\n",
       "<tr>\n",
       "  <th>ZN</th>      <td>    0.0464</td> <td>    0.014</td> <td>    3.380</td> <td> 0.001</td> <td>    0.019     0.073</td>\n",
       "</tr>\n",
       "<tr>\n",
       "  <th>INDUS</th>   <td>    0.0209</td> <td>    0.061</td> <td>    0.339</td> <td> 0.735</td> <td>   -0.100     0.142</td>\n",
       "</tr>\n",
       "<tr>\n",
       "  <th>CHAS</th>    <td>    2.6886</td> <td>    0.862</td> <td>    3.120</td> <td> 0.002</td> <td>    0.996     4.381</td>\n",
       "</tr>\n",
       "<tr>\n",
       "  <th>NOX</th>     <td>  -17.7958</td> <td>    3.821</td> <td>   -4.658</td> <td> 0.000</td> <td>  -25.302   -10.289</td>\n",
       "</tr>\n",
       "<tr>\n",
       "  <th>RM</th>      <td>    3.8048</td> <td>    0.418</td> <td>    9.102</td> <td> 0.000</td> <td>    2.983     4.626</td>\n",
       "</tr>\n",
       "<tr>\n",
       "  <th>AGE</th>     <td>    0.0008</td> <td>    0.013</td> <td>    0.057</td> <td> 0.955</td> <td>   -0.025     0.027</td>\n",
       "</tr>\n",
       "<tr>\n",
       "  <th>DIS</th>     <td>   -1.4758</td> <td>    0.199</td> <td>   -7.398</td> <td> 0.000</td> <td>   -1.868    -1.084</td>\n",
       "</tr>\n",
       "<tr>\n",
       "  <th>RAD</th>     <td>    0.3057</td> <td>    0.066</td> <td>    4.608</td> <td> 0.000</td> <td>    0.175     0.436</td>\n",
       "</tr>\n",
       "<tr>\n",
       "  <th>TAX</th>     <td>   -0.0123</td> <td>    0.004</td> <td>   -3.278</td> <td> 0.001</td> <td>   -0.020    -0.005</td>\n",
       "</tr>\n",
       "<tr>\n",
       "  <th>PTRATIO</th> <td>   -0.9535</td> <td>    0.131</td> <td>   -7.287</td> <td> 0.000</td> <td>   -1.211    -0.696</td>\n",
       "</tr>\n",
       "<tr>\n",
       "  <th>B</th>       <td>    0.0094</td> <td>    0.003</td> <td>    3.500</td> <td> 0.001</td> <td>    0.004     0.015</td>\n",
       "</tr>\n",
       "<tr>\n",
       "  <th>LSTAT</th>   <td>   -0.5255</td> <td>    0.051</td> <td>  -10.366</td> <td> 0.000</td> <td>   -0.625    -0.426</td>\n",
       "</tr>\n",
       "</table>\n",
       "<table class=\"simpletable\">\n",
       "<tr>\n",
       "  <th>Omnibus:</th>       <td>178.029</td> <th>  Durbin-Watson:     </th> <td>   1.078</td> \n",
       "</tr>\n",
       "<tr>\n",
       "  <th>Prob(Omnibus):</th> <td> 0.000</td>  <th>  Jarque-Bera (JB):  </th> <td> 782.015</td> \n",
       "</tr>\n",
       "<tr>\n",
       "  <th>Skew:</th>          <td> 1.521</td>  <th>  Prob(JB):          </th> <td>1.54e-170</td>\n",
       "</tr>\n",
       "<tr>\n",
       "  <th>Kurtosis:</th>      <td> 8.276</td>  <th>  Cond. No.          </th> <td>1.51e+04</td> \n",
       "</tr>\n",
       "</table>"
      ],
      "text/plain": [
       "<class 'statsmodels.iolib.summary.Summary'>\n",
       "\"\"\"\n",
       "                            OLS Regression Results                            \n",
       "==============================================================================\n",
       "Dep. Variable:                   MEDV   R-squared:                       0.741\n",
       "Model:                            OLS   Adj. R-squared:                  0.734\n",
       "Method:                 Least Squares   F-statistic:                     108.1\n",
       "Date:                Mon, 24 Oct 2016   Prob (F-statistic):          6.95e-135\n",
       "Time:                        14:16:23   Log-Likelihood:                -1498.8\n",
       "No. Observations:                 506   AIC:                             3026.\n",
       "Df Residuals:                     492   BIC:                             3085.\n",
       "Df Model:                          13                                         \n",
       "Covariance Type:            nonrobust                                         \n",
       "==============================================================================\n",
       "                 coef    std err          t      P>|t|      [95.0% Conf. Int.]\n",
       "------------------------------------------------------------------------------\n",
       "const         36.4911      5.104      7.149      0.000        26.462    46.520\n",
       "CRIM          -0.1072      0.033     -3.276      0.001        -0.171    -0.043\n",
       "ZN             0.0464      0.014      3.380      0.001         0.019     0.073\n",
       "INDUS          0.0209      0.061      0.339      0.735        -0.100     0.142\n",
       "CHAS           2.6886      0.862      3.120      0.002         0.996     4.381\n",
       "NOX          -17.7958      3.821     -4.658      0.000       -25.302   -10.289\n",
       "RM             3.8048      0.418      9.102      0.000         2.983     4.626\n",
       "AGE            0.0008      0.013      0.057      0.955        -0.025     0.027\n",
       "DIS           -1.4758      0.199     -7.398      0.000        -1.868    -1.084\n",
       "RAD            0.3057      0.066      4.608      0.000         0.175     0.436\n",
       "TAX           -0.0123      0.004     -3.278      0.001        -0.020    -0.005\n",
       "PTRATIO       -0.9535      0.131     -7.287      0.000        -1.211    -0.696\n",
       "B              0.0094      0.003      3.500      0.001         0.004     0.015\n",
       "LSTAT         -0.5255      0.051    -10.366      0.000        -0.625    -0.426\n",
       "==============================================================================\n",
       "Omnibus:                      178.029   Durbin-Watson:                   1.078\n",
       "Prob(Omnibus):                  0.000   Jarque-Bera (JB):              782.015\n",
       "Skew:                           1.521   Prob(JB):                    1.54e-170\n",
       "Kurtosis:                       8.276   Cond. No.                     1.51e+04\n",
       "==============================================================================\n",
       "\n",
       "Warnings:\n",
       "[1] Standard Errors assume that the covariance matrix of the errors is correctly specified.\n",
       "[2] The condition number is large, 1.51e+04. This might indicate that there are\n",
       "strong multicollinearity or other numerical problems.\n",
       "\"\"\""
      ]
     },
     "execution_count": 8,
     "metadata": {},
     "output_type": "execute_result"
    }
   ],
   "source": [
    "X = df\n",
    "y = targets[\"MEDV\"]\n",
    "X = sm.add_constant(X) # Without it intercept is excluded\n",
    "\n",
    "model = sm.OLS(y, X).fit()\n",
    "predictions = model.predict(X)\n",
    "\n",
    "model.summary()"
   ]
  },
  {
   "cell_type": "markdown",
   "metadata": {},
   "source": [
    "## Preparing data with Patsy\n",
    "\n",
    "`Patsy` is a python package that makes preparing data a bit easier. It uses a special formula syntax to create the `X` and `y` matrices we use to fit our models with.\n",
    "\n",
    "Let's look at a few examples. To get the `X` and `y` matrices for the previous example, try the following."
   ]
  },
  {
   "cell_type": "code",
<<<<<<< HEAD
   "execution_count": 9,
=======
   "execution_count": 17,
>>>>>>> ead856a8be1e9edeb0c57fe9560f50d190b6bc11
   "metadata": {
    "collapsed": false
   },
   "outputs": [
    {
     "name": "stdout",
     "output_type": "stream",
     "text": [
      "[[ 1.     6.575  4.98 ]\n",
      " [ 1.     6.421  9.14 ]\n",
      " [ 1.     7.185  4.03 ]\n",
      " [ 1.     6.998  2.94 ]\n",
      " [ 1.     7.147  5.33 ]]\n",
      "[[ 24. ]\n",
      " [ 21.6]\n",
      " [ 34.7]\n",
      " [ 33.4]\n",
      " [ 36.2]]\n"
     ]
    }
   ],
   "source": [
    "import patsy\n",
    "\n",
    "# First let's add the targets to our data frame\n",
    "df[\"MEDV\"] = targets[\"MEDV\"]\n",
    "\n",
    "y, X = patsy.dmatrices(\"MEDV ~ RM + LSTAT\", data=df)\n",
    "print X[0:5, :]\n",
    "print y[0:5, :]"
   ]
  },
  {
   "cell_type": "markdown",
   "metadata": {},
   "source": [
    "We can also apply functions to our data in the formula. For example, to perform a quadratic regression of \"MEDV\" with \"LSTAT\", we would use the following formula."
   ]
  },
  {
   "cell_type": "code",
<<<<<<< HEAD
   "execution_count": 10,
=======
   "execution_count": 18,
>>>>>>> ead856a8be1e9edeb0c57fe9560f50d190b6bc11
   "metadata": {
    "collapsed": false
   },
   "outputs": [
    {
     "name": "stdout",
     "output_type": "stream",
     "text": [
      "[[  1.       4.98    24.8004]\n",
      " [  1.       9.14    83.5396]\n",
      " [  1.       4.03    16.2409]\n",
      " [  1.       2.94     8.6436]\n",
      " [  1.       5.33    28.4089]]\n"
     ]
    }
   ],
   "source": [
    "y, X = patsy.dmatrices(\"MEDV ~ LSTAT + I(LSTAT**2)\", data=df)\n",
    "print X[0:5, :]"
   ]
  },
  {
   "cell_type": "markdown",
   "metadata": {},
   "source": [
    "You can use some python functions, like `numpy`'s power."
   ]
  },
  {
   "cell_type": "code",
<<<<<<< HEAD
   "execution_count": 11,
=======
   "execution_count": 21,
>>>>>>> ead856a8be1e9edeb0c57fe9560f50d190b6bc11
   "metadata": {
    "collapsed": false
   },
   "outputs": [
    {
     "name": "stdout",
     "output_type": "stream",
     "text": [
      "[[  1.       4.98    24.8004]\n",
      " [  1.       9.14    83.5396]\n",
      " [  1.       4.03    16.2409]\n",
      " [  1.       2.94     8.6436]\n",
      " [  1.       5.33    28.4089]]\n"
     ]
    }
   ],
   "source": [
    "y, X = patsy.dmatrices(\"MEDV ~ LSTAT + np.power(LSTAT,2)\", data=df)\n",
    "print X[0:5, :]"
   ]
  },
  {
   "cell_type": "markdown",
   "metadata": {},
   "source": [
    "Patsy can also handle categorical variables and make dummy variables for you."
   ]
  },
  {
   "cell_type": "code",
<<<<<<< HEAD
   "execution_count": 12,
=======
   "execution_count": 22,
>>>>>>> ead856a8be1e9edeb0c57fe9560f50d190b6bc11
   "metadata": {
    "collapsed": false
   },
   "outputs": [
    {
     "name": "stdout",
     "output_type": "stream",
     "text": [
      "{'a': ['a1', 'a2', 'a3', 'a4', 'a1', 'a2', 'a3', 'a4']}\n"
     ]
    },
    {
     "data": {
      "text/plain": [
       "DesignMatrix with shape (8, 4)\n",
       "  Intercept  a[T.a2]  a[T.a3]  a[T.a4]\n",
       "          1        0        0        0\n",
       "          1        1        0        0\n",
       "          1        0        1        0\n",
       "          1        0        0        1\n",
       "          1        0        0        0\n",
       "          1        1        0        0\n",
       "          1        0        1        0\n",
       "          1        0        0        1\n",
       "  Terms:\n",
       "    'Intercept' (column 0)\n",
       "    'a' (columns 1:4)"
      ]
     },
<<<<<<< HEAD
     "execution_count": 12,
=======
     "execution_count": 22,
>>>>>>> ead856a8be1e9edeb0c57fe9560f50d190b6bc11
     "metadata": {},
     "output_type": "execute_result"
    }
   ],
   "source": [
    "from patsy import dmatrix, demo_data\n",
    "\n",
    "data = demo_data(\"a\", nlevels=4)\n",
    "print data\n",
    "dmatrix(\"a\", data)"
   ]
  },
  {
   "cell_type": "code",
<<<<<<< HEAD
   "execution_count": 21,
=======
   "execution_count": 27,
>>>>>>> ead856a8be1e9edeb0c57fe9560f50d190b6bc11
   "metadata": {
    "collapsed": false
   },
   "outputs": [
    {
     "name": "stdout",
     "output_type": "stream",
     "text": [
      "{'a': ['a1', 'a1', 'a1', 'a1', 'a2', 'a2', 'a2', 'a2', 'a3', 'a3', 'a3', 'a3', 'a4', 'a4', 'a4', 'a4'], 'b': ['b1', 'b2', 'b3', 'b4', 'b1', 'b2', 'b3', 'b4', 'b1', 'b2', 'b3', 'b4', 'b1', 'b2', 'b3', 'b4'], 'z': array([ 1.76405235,  0.40015721,  0.97873798,  2.2408932 ,  1.86755799,\n",
      "       -0.97727788,  0.95008842, -0.15135721, -0.10321885,  0.4105985 ,\n",
      "        0.14404357,  1.45427351,  0.76103773,  0.12167502,  0.44386323,\n",
      "        0.33367433])}\n"
     ]
    }
   ],
   "source": [
<<<<<<< HEAD
    "data2 = demo_data(\"a\",\"b\",\"z\",nlevels=4)\n",
=======
    "data2= demo_data(\"a\", \"b\", \"z\", nlevels=4)\n",
>>>>>>> ead856a8be1e9edeb0c57fe9560f50d190b6bc11
    "print data2"
   ]
  },
  {
   "cell_type": "code",
<<<<<<< HEAD
   "execution_count": 23,
   "metadata": {
    "collapsed": false
   },
   "outputs": [
    {
     "data": {
      "text/plain": [
       "{'a': ['a1', 'a2', 'a1', 'a2', 'a1', 'a2', 'a1', 'a2', 'a1', 'a2']}"
      ]
     },
     "execution_count": 23,
     "metadata": {},
     "output_type": "execute_result"
    }
   ],
   "source": [
    "data3 = demo_data(\"a\",nlevels=2,min_rows=10)\n",
    "data3"
   ]
  },
  {
   "cell_type": "code",
=======
>>>>>>> ead856a8be1e9edeb0c57fe9560f50d190b6bc11
   "execution_count": 30,
   "metadata": {
    "collapsed": false
   },
   "outputs": [
    {
<<<<<<< HEAD
     "data": {
      "text/plain": [
       "{'p': array([ 1.76405235,  0.40015721,  0.97873798]),\n",
       " 'q': array([ 2.2408932 ,  1.86755799, -0.97727788])}"
      ]
     },
     "execution_count": 30,
     "metadata": {},
     "output_type": "execute_result"
    }
   ],
   "source": [
    "data4 = demo_data(\"p\",\"q\",min_rows=3)\n",
    "data4"
=======
     "name": "stdout",
     "output_type": "stream",
     "text": [
      "{'a': ['a1', 'a2', 'a1', 'a2', 'a1', 'a2', 'a1', 'a2', 'a1', 'a2']}\n"
     ]
    }
   ],
   "source": [
    "data3= demo_data(\"a\", nlevels=2, min_rows=10)\n",
    "print data3"
>>>>>>> ead856a8be1e9edeb0c57fe9560f50d190b6bc11
   ]
  },
  {
   "cell_type": "markdown",
   "metadata": {},
   "source": [
    "## Guided Practice\n",
    "\n",
    "### Exercises\n",
    "\n",
    "Practice using patsy formulas and fit models for\n",
    "* CRIM and INDUS versus MDEV (price)\n",
    "* AGE and CHAS (categorical) versus MDEV"
   ]
  },
  {
   "cell_type": "code",
<<<<<<< HEAD
   "execution_count": 16,
=======
   "execution_count": 23,
>>>>>>> ead856a8be1e9edeb0c57fe9560f50d190b6bc11
   "metadata": {
    "collapsed": false
   },
   "outputs": [
    {
<<<<<<< HEAD
     "name": "stdout",
     "output_type": "stream",
     "text": [
      "[[  1.00000000e+00   6.32000000e-03   2.31000000e+00]\n",
      " [  1.00000000e+00   2.73100000e-02   7.07000000e+00]\n",
      " [  1.00000000e+00   2.72900000e-02   7.07000000e+00]\n",
      " [  1.00000000e+00   3.23700000e-02   2.18000000e+00]\n",
      " [  1.00000000e+00   6.90500000e-02   2.18000000e+00]]\n"
     ]
    }
   ],
   "source": [
    "y, X = patsy.dmatrices(\"MEDV ~ CRIM + INDUS \", data=df)\n",
    "print X[0:5, :]"
=======
     "data": {
      "text/html": [
       "<table class=\"simpletable\">\n",
       "<caption>OLS Regression Results</caption>\n",
       "<tr>\n",
       "  <th>Dep. Variable:</th>          <td>MEDV</td>       <th>  R-squared:         </th> <td>   0.277</td>\n",
       "</tr>\n",
       "<tr>\n",
       "  <th>Model:</th>                   <td>OLS</td>       <th>  Adj. R-squared:    </th> <td>   0.274</td>\n",
       "</tr>\n",
       "<tr>\n",
       "  <th>Method:</th>             <td>Least Squares</td>  <th>  F-statistic:       </th> <td>   96.47</td>\n",
       "</tr>\n",
       "<tr>\n",
       "  <th>Date:</th>             <td>Mon, 24 Oct 2016</td> <th>  Prob (F-statistic):</th> <td>3.45e-36</td>\n",
       "</tr>\n",
       "<tr>\n",
       "  <th>Time:</th>                 <td>14:51:55</td>     <th>  Log-Likelihood:    </th> <td> -1758.1</td>\n",
       "</tr>\n",
       "<tr>\n",
       "  <th>No. Observations:</th>      <td>   506</td>      <th>  AIC:               </th> <td>   3522.</td>\n",
       "</tr>\n",
       "<tr>\n",
       "  <th>Df Residuals:</th>          <td>   503</td>      <th>  BIC:               </th> <td>   3535.</td>\n",
       "</tr>\n",
       "<tr>\n",
       "  <th>Df Model:</th>              <td>     2</td>      <th>                     </th>     <td> </td>   \n",
       "</tr>\n",
       "<tr>\n",
       "  <th>Covariance Type:</th>      <td>nonrobust</td>    <th>                     </th>     <td> </td>   \n",
       "</tr>\n",
       "</table>\n",
       "<table class=\"simpletable\">\n",
       "<tr>\n",
       "      <td></td>         <th>coef</th>     <th>std err</th>      <th>t</th>      <th>P>|t|</th> <th>[95.0% Conf. Int.]</th> \n",
       "</tr>\n",
       "<tr>\n",
       "  <th>Intercept</th> <td>   29.2560</td> <td>    0.671</td> <td>   43.618</td> <td> 0.000</td> <td>   27.938    30.574</td>\n",
       "</tr>\n",
       "<tr>\n",
       "  <th>CRIM</th>      <td>   -0.2433</td> <td>    0.044</td> <td>   -5.486</td> <td> 0.000</td> <td>   -0.330    -0.156</td>\n",
       "</tr>\n",
       "<tr>\n",
       "  <th>INDUS</th>     <td>   -0.5252</td> <td>    0.056</td> <td>   -9.452</td> <td> 0.000</td> <td>   -0.634    -0.416</td>\n",
       "</tr>\n",
       "</table>\n",
       "<table class=\"simpletable\">\n",
       "<tr>\n",
       "  <th>Omnibus:</th>       <td>193.507</td> <th>  Durbin-Watson:     </th> <td>   0.738</td> \n",
       "</tr>\n",
       "<tr>\n",
       "  <th>Prob(Omnibus):</th> <td> 0.000</td>  <th>  Jarque-Bera (JB):  </th> <td> 652.456</td> \n",
       "</tr>\n",
       "<tr>\n",
       "  <th>Skew:</th>          <td> 1.798</td>  <th>  Prob(JB):          </th> <td>2.09e-142</td>\n",
       "</tr>\n",
       "<tr>\n",
       "  <th>Kurtosis:</th>      <td> 7.244</td>  <th>  Cond. No.          </th> <td>    27.7</td> \n",
       "</tr>\n",
       "</table>"
      ],
      "text/plain": [
       "<class 'statsmodels.iolib.summary.Summary'>\n",
       "\"\"\"\n",
       "                            OLS Regression Results                            \n",
       "==============================================================================\n",
       "Dep. Variable:                   MEDV   R-squared:                       0.277\n",
       "Model:                            OLS   Adj. R-squared:                  0.274\n",
       "Method:                 Least Squares   F-statistic:                     96.47\n",
       "Date:                Mon, 24 Oct 2016   Prob (F-statistic):           3.45e-36\n",
       "Time:                        14:51:55   Log-Likelihood:                -1758.1\n",
       "No. Observations:                 506   AIC:                             3522.\n",
       "Df Residuals:                     503   BIC:                             3535.\n",
       "Df Model:                           2                                         \n",
       "Covariance Type:            nonrobust                                         \n",
       "==============================================================================\n",
       "                 coef    std err          t      P>|t|      [95.0% Conf. Int.]\n",
       "------------------------------------------------------------------------------\n",
       "Intercept     29.2560      0.671     43.618      0.000        27.938    30.574\n",
       "CRIM          -0.2433      0.044     -5.486      0.000        -0.330    -0.156\n",
       "INDUS         -0.5252      0.056     -9.452      0.000        -0.634    -0.416\n",
       "==============================================================================\n",
       "Omnibus:                      193.507   Durbin-Watson:                   0.738\n",
       "Prob(Omnibus):                  0.000   Jarque-Bera (JB):              652.456\n",
       "Skew:                           1.798   Prob(JB):                    2.09e-142\n",
       "Kurtosis:                       7.244   Cond. No.                         27.7\n",
       "==============================================================================\n",
       "\n",
       "Warnings:\n",
       "[1] Standard Errors assume that the covariance matrix of the errors is correctly specified.\n",
       "\"\"\""
      ]
     },
     "execution_count": 23,
     "metadata": {},
     "output_type": "execute_result"
    }
   ],
   "source": [
    "y, X = patsy.dmatrices(\"MEDV ~ CRIM + INDUS\", data=df)\n",
    "\n",
    "model = sm.OLS(y, X).fit()\n",
    "predictions = model.predict(X)\n",
    "\n",
    "model.summary()"
>>>>>>> ead856a8be1e9edeb0c57fe9560f50d190b6bc11
   ]
  },
  {
   "cell_type": "code",
<<<<<<< HEAD
   "execution_count": 19,
=======
   "execution_count": 34,
>>>>>>> ead856a8be1e9edeb0c57fe9560f50d190b6bc11
   "metadata": {
    "collapsed": false
   },
   "outputs": [
    {
     "name": "stdout",
     "output_type": "stream",
     "text": [
<<<<<<< HEAD
      "[[ 1.    0.    2.31]\n",
      " [ 1.    0.    7.07]\n",
      " [ 1.    0.    7.07]\n",
      " [ 1.    0.    2.18]\n",
      " [ 1.    0.    2.18]]\n"
     ]
    }
   ],
   "source": [
    "y, X = patsy.dmatrices(\"MEDV ~ CHAS + INDUS \", data=df)\n",
    "print X[0:5, :]"
=======
      "[[  1.   65.2   0. ]\n",
      " [  1.   78.9   0. ]\n",
      " [  1.   61.1   0. ]\n",
      " ..., \n",
      " [  1.   91.    0. ]\n",
      " [  1.   89.3   0. ]\n",
      " [  1.   80.8   0. ]]\n"
     ]
    },
    {
     "data": {
      "text/html": [
       "<table class=\"simpletable\">\n",
       "<caption>OLS Regression Results</caption>\n",
       "<tr>\n",
       "  <th>Dep. Variable:</th>            <td>y</td>        <th>  R-squared:         </th> <td>   0.186</td>\n",
       "</tr>\n",
       "<tr>\n",
       "  <th>Model:</th>                   <td>OLS</td>       <th>  Adj. R-squared:    </th> <td>   0.182</td>\n",
       "</tr>\n",
       "<tr>\n",
       "  <th>Method:</th>             <td>Least Squares</td>  <th>  F-statistic:       </th> <td>   57.33</td>\n",
       "</tr>\n",
       "<tr>\n",
       "  <th>Date:</th>             <td>Mon, 24 Oct 2016</td> <th>  Prob (F-statistic):</th> <td>3.73e-23</td>\n",
       "</tr>\n",
       "<tr>\n",
       "  <th>Time:</th>                 <td>15:26:06</td>     <th>  Log-Likelihood:    </th> <td> -1788.3</td>\n",
       "</tr>\n",
       "<tr>\n",
       "  <th>No. Observations:</th>      <td>   506</td>      <th>  AIC:               </th> <td>   3583.</td>\n",
       "</tr>\n",
       "<tr>\n",
       "  <th>Df Residuals:</th>          <td>   503</td>      <th>  BIC:               </th> <td>   3595.</td>\n",
       "</tr>\n",
       "<tr>\n",
       "  <th>Df Model:</th>              <td>     2</td>      <th>                     </th>     <td> </td>   \n",
       "</tr>\n",
       "<tr>\n",
       "  <th>Covariance Type:</th>      <td>nonrobust</td>    <th>                     </th>     <td> </td>   \n",
       "</tr>\n",
       "</table>\n",
       "<table class=\"simpletable\">\n",
       "<tr>\n",
       "    <td></td>       <th>coef</th>     <th>std err</th>      <th>t</th>      <th>P>|t|</th> <th>[95.0% Conf. Int.]</th> \n",
       "</tr>\n",
       "<tr>\n",
       "  <th>const</th> <td>   30.8601</td> <td>    0.975</td> <td>   31.662</td> <td> 0.000</td> <td>   28.945    32.775</td>\n",
       "</tr>\n",
       "<tr>\n",
       "  <th>x1</th>    <td>   -0.1291</td> <td>    0.013</td> <td>   -9.782</td> <td> 0.000</td> <td>   -0.155    -0.103</td>\n",
       "</tr>\n",
       "<tr>\n",
       "  <th>x2</th>    <td>    7.5838</td> <td>    1.462</td> <td>    5.186</td> <td> 0.000</td> <td>    4.711    10.457</td>\n",
       "</tr>\n",
       "</table>\n",
       "<table class=\"simpletable\">\n",
       "<tr>\n",
       "  <th>Omnibus:</th>       <td>161.230</td> <th>  Durbin-Watson:     </th> <td>   0.705</td>\n",
       "</tr>\n",
       "<tr>\n",
       "  <th>Prob(Omnibus):</th> <td> 0.000</td>  <th>  Jarque-Bera (JB):  </th> <td> 406.990</td>\n",
       "</tr>\n",
       "<tr>\n",
       "  <th>Skew:</th>          <td> 1.612</td>  <th>  Prob(JB):          </th> <td>4.20e-89</td>\n",
       "</tr>\n",
       "<tr>\n",
       "  <th>Kurtosis:</th>      <td> 5.984</td>  <th>  Cond. No.          </th> <td>    293.</td>\n",
       "</tr>\n",
       "</table>"
      ],
      "text/plain": [
       "<class 'statsmodels.iolib.summary.Summary'>\n",
       "\"\"\"\n",
       "                            OLS Regression Results                            \n",
       "==============================================================================\n",
       "Dep. Variable:                      y   R-squared:                       0.186\n",
       "Model:                            OLS   Adj. R-squared:                  0.182\n",
       "Method:                 Least Squares   F-statistic:                     57.33\n",
       "Date:                Mon, 24 Oct 2016   Prob (F-statistic):           3.73e-23\n",
       "Time:                        15:26:06   Log-Likelihood:                -1788.3\n",
       "No. Observations:                 506   AIC:                             3583.\n",
       "Df Residuals:                     503   BIC:                             3595.\n",
       "Df Model:                           2                                         \n",
       "Covariance Type:            nonrobust                                         \n",
       "==============================================================================\n",
       "                 coef    std err          t      P>|t|      [95.0% Conf. Int.]\n",
       "------------------------------------------------------------------------------\n",
       "const         30.8601      0.975     31.662      0.000        28.945    32.775\n",
       "x1            -0.1291      0.013     -9.782      0.000        -0.155    -0.103\n",
       "x2             7.5838      1.462      5.186      0.000         4.711    10.457\n",
       "==============================================================================\n",
       "Omnibus:                      161.230   Durbin-Watson:                   0.705\n",
       "Prob(Omnibus):                  0.000   Jarque-Bera (JB):              406.990\n",
       "Skew:                           1.612   Prob(JB):                     4.20e-89\n",
       "Kurtosis:                       5.984   Cond. No.                         293.\n",
       "==============================================================================\n",
       "\n",
       "Warnings:\n",
       "[1] Standard Errors assume that the covariance matrix of the errors is correctly specified.\n",
       "\"\"\""
      ]
     },
     "execution_count": 34,
     "metadata": {},
     "output_type": "execute_result"
    }
   ],
   "source": [
    "y, X = patsy.dmatrices(\"MEDV ~ AGE + CHAS\", data=df)\n",
    "X = sm.add_constant(X)\n",
    "print X\n",
    "model = sm.OLS(y, X).fit()\n",
    "predictions = model.predict(X)\n",
    "\n",
    "model.summary()"
>>>>>>> ead856a8be1e9edeb0c57fe9560f50d190b6bc11
   ]
  },
  {
   "cell_type": "markdown",
   "metadata": {},
   "source": [
    "## Independent Practice\n",
    "\n",
    "Try to find the best models that you can that:\n",
    "* use only two variables\n",
    "* only three variables\n",
    "* only four variables\n",
    "\n",
    "Evaluate your models using the squared error. Which has the lowest? How do the errors compare to using all the variables?"
   ]
  },
  {
   "cell_type": "markdown",
   "metadata": {},
   "source": [
    "### Exercise\n",
    "\n",
    "From the LSTAT plot you may have noticed that the relationship is not quite linear. Add a new column `\"LSTAT2\"` to your data frame for the LSTAT values squared and try to fit a quadratic function using `[\"LSTAT\", \"LSTAT2\"]`. Is the resulting fit better or worse?"
   ]
  },
  {
   "cell_type": "code",
   "execution_count": 36,
   "metadata": {
    "collapsed": false
   },
   "outputs": [
    {
     "name": "stdout",
     "output_type": "stream",
     "text": [
      "                            OLS Regression Results                            \n",
      "==============================================================================\n",
      "Dep. Variable:                   MEDV   R-squared:                       0.544\n",
      "Model:                            OLS   Adj. R-squared:                  0.543\n",
      "Method:                 Least Squares   F-statistic:                     601.6\n",
      "Date:                Mon, 24 Oct 2016   Prob (F-statistic):           5.08e-88\n",
      "Time:                        15:22:42   Log-Likelihood:                -1641.5\n",
      "No. Observations:                 506   AIC:                             3287.\n",
      "Df Residuals:                     504   BIC:                             3295.\n",
      "Df Model:                           1                                         \n",
      "Covariance Type:            nonrobust                                         \n",
      "==============================================================================\n",
      "                 coef    std err          t      P>|t|      [95.0% Conf. Int.]\n",
      "------------------------------------------------------------------------------\n",
      "Intercept     34.5538      0.563     61.415      0.000        33.448    35.659\n",
      "LSTAT         -0.9500      0.039    -24.528      0.000        -1.026    -0.874\n",
      "==============================================================================\n",
      "Omnibus:                      137.043   Durbin-Watson:                   0.892\n",
      "Prob(Omnibus):                  0.000   Jarque-Bera (JB):              291.373\n",
      "Skew:                           1.453   Prob(JB):                     5.36e-64\n",
      "Kurtosis:                       5.319   Cond. No.                         29.7\n",
      "==============================================================================\n",
      "\n",
      "Warnings:\n",
      "[1] Standard Errors assume that the covariance matrix of the errors is correctly specified.\n",
      "                            OLS Regression Results                            \n",
      "==============================================================================\n",
      "Dep. Variable:                   MEDV   R-squared:                       0.641\n",
      "Model:                            OLS   Adj. R-squared:                  0.639\n",
      "Method:                 Least Squares   F-statistic:                     448.5\n",
      "Date:                Mon, 24 Oct 2016   Prob (F-statistic):          1.56e-112\n",
      "Time:                        15:22:42   Log-Likelihood:                -1581.3\n",
      "No. Observations:                 506   AIC:                             3169.\n",
      "Df Residuals:                     503   BIC:                             3181.\n",
      "Df Model:                           2                                         \n",
      "Covariance Type:            nonrobust                                         \n",
      "=================================================================================\n",
      "                    coef    std err          t      P>|t|      [95.0% Conf. Int.]\n",
      "---------------------------------------------------------------------------------\n",
      "Intercept        42.8620      0.872     49.149      0.000        41.149    44.575\n",
      "LSTAT            -2.3328      0.124    -18.843      0.000        -2.576    -2.090\n",
      "I(LSTAT ** 2)     0.0435      0.004     11.628      0.000         0.036     0.051\n",
      "==============================================================================\n",
      "Omnibus:                      107.006   Durbin-Watson:                   0.921\n",
      "Prob(Omnibus):                  0.000   Jarque-Bera (JB):              228.388\n",
      "Skew:                           1.128   Prob(JB):                     2.55e-50\n",
      "Kurtosis:                       5.397   Cond. No.                     1.13e+03\n",
      "==============================================================================\n",
      "\n",
      "Warnings:\n",
      "[1] Standard Errors assume that the covariance matrix of the errors is correctly specified.\n",
      "[2] The condition number is large, 1.13e+03. This might indicate that there are\n",
      "strong multicollinearity or other numerical problems.\n"
     ]
    }
   ],
   "source": [
    "y1, X1 = patsy.dmatrices(\"MEDV ~ LSTAT\", data=df)\n",
    "\n",
    "# Note the difference in argument order\n",
    "model1 = sm.OLS(y1, X1).fit()\n",
    "predictions = model1.predict(X1)\n",
    "\n",
    "# Print out the statistics\n",
    "print(model1.summary())\n",
    "\n",
    "y2, X2 = patsy.dmatrices(\"MEDV ~ LSTAT + I(LSTAT**2)\", data=df)\n",
    "\n",
    "# Note the difference in argument order\n",
    "model2 = sm.OLS(y2, X2).fit()\n",
    "predictions = model.predict(X2)\n",
    "\n",
    "# Print out the statistics\n",
    "print(model2.summary())"
   ]
  },
  {
   "cell_type": "markdown",
   "metadata": {},
   "source": [
    "## Bonus\n",
    "\n",
    "We'll go over using Scikit-Learn later this week, but you can get a head start now by repeating some of the exercises using `sklearn` instead of `statsmodels`.\n",
    "\n",
    "### Exercises\n",
    "\n",
    "Recreate the model fits above with `scikit-learn`:\n",
    "* a model using LSTAT\n",
    "* a model using RM and LSTAT\n",
    "* a model using all the variables\n",
    "\n",
    "Compare the mean squared errors for each model between the two packages. Do they differ significantly? Why or why not?"
   ]
  },
  {
   "cell_type": "code",
<<<<<<< HEAD
   "execution_count": 56,
=======
   "execution_count": 35,
>>>>>>> ead856a8be1e9edeb0c57fe9560f50d190b6bc11
   "metadata": {
    "collapsed": false
   },
   "outputs": [
    {
<<<<<<< HEAD
     "name": "stdout",
     "output_type": "stream",
     "text": [
      "-0.950049353758\n",
      "34.5538408794\n"
     ]
    }
   ],
   "source": [
    "from sklearn.linear_model import LinearRegression\n",
    "from sklearn.metrics import mean_squared_error\n",
    "predictors = [\"LSTAT\"]\n",
    "alg = LinearRegression()\n",
    "train_predictors = df[predictors]\n",
    "train_target = targets[\"MEDV\"]\n",
    "model = alg.fit(train_predictors, train_target)\n",
    "print(alg.coef_[0])\n",
    "print(alg.intercept_)\n"
   ]
  },
  {
   "cell_type": "code",
   "execution_count": 57,
   "metadata": {
    "collapsed": false
   },
   "outputs": [
    {
     "name": "stdout",
     "output_type": "stream",
     "text": [
      "[[ 0.         -2.3328211   0.04354689]]\n",
      "[ 42.86200733]\n"
=======
     "name": "stderr",
     "output_type": "stream",
     "text": [
      "/Users/juan/.envs/dsi-ldn-1/lib/python2.7/site-packages/scipy/linalg/basic.py:884: RuntimeWarning: internal gelsd driver lwork query error, required iwork dimension not returned. This is likely the result of LAPACK bug 0038, fixed in LAPACK 3.2.2 (released July 21, 2010). Falling back to 'gelss' driver.\n",
      "  warnings.warn(mesg, RuntimeWarning)\n"
>>>>>>> ead856a8be1e9edeb0c57fe9560f50d190b6bc11
     ]
    },
    {
     "data": {
<<<<<<< HEAD
      "image/png": "iVBORw0KGgoAAAANSUhEUgAAAhoAAAF5CAYAAADZMYNPAAAABHNCSVQICAgIfAhkiAAAAAlwSFlz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\nRU5ErkJggg==\n",
      "text/plain": [
       "<matplotlib.figure.Figure at 0x7f8c482779d0>"
=======
      "image/png": "iVBORw0KGgoAAAANSUhEUgAAAhkAAAF5CAYAAAAyBjhMAAAABHNCSVQICAgIfAhkiAAAAAlwSFlz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\nQVARwskIgiAIgqAi/BcjRRxrQnxhvAAAAABJRU5ErkJggg==\n",
      "text/plain": [
       "<matplotlib.figure.Figure at 0x1116d6e10>"
>>>>>>> ead856a8be1e9edeb0c57fe9560f50d190b6bc11
      ]
     },
     "metadata": {},
     "output_type": "display_data"
    },
    {
     "name": "stdout",
     "output_type": "stream",
     "text": [
<<<<<<< HEAD
      "('MSE', 30.330520075853716)\n"
=======
      "MSE: 38.4829672299\n"
>>>>>>> ead856a8be1e9edeb0c57fe9560f50d190b6bc11
     ]
    }
   ],
   "source": [
<<<<<<< HEAD
    "y, X = patsy.dmatrices(\"MEDV ~ LSTAT + I(LSTAT**2)\", data=df)\n",
    "\n",
    "# Note the difference in argument order\n",
    "alg = LinearRegression()\n",
    "model = alg.fit(X, y)\n",
    "\n",
    "# Print out the statistics\n",
    "print(alg.coef_)\n",
    "print(alg.intercept_)\n",
    "\n",
    "predictons = model.predict(X)\n",
    "\n",
    "# plot\n",
    "plt.scatter(predictions,y,s=30,c='r',marker='+',zorder=10)\n",
    "plt.xlabel('Predicted Values from RM')\n",
    "plt.ylabel('Actual Values MEDV')\n",
    "plt.show()\n",
    "print(\"MSE\",mean_squared_error(y,predictions))"
=======
    "from sklearn.linear_model import LinearRegression\n",
    "from sklearn.metrics import mean_squared_error\n",
    "\n",
    "X = df[[\"LSTAT\"]]\n",
    "y = targets['MEDV']\n",
    "\n",
    "model = LinearRegression()\n",
    "model.fit(X, y)\n",
    "predictions = model.predict(X)\n",
    "\n",
    "# Plot the model\n",
    "plt.scatter(predictions, y, s=30, c='r', marker='+', zorder=10)\n",
    "plt.xlabel(\"Predicted Values from RM\")\n",
    "plt.ylabel(\"Actual Values MEDV\")\n",
    "plt.show()\n",
    "print \"MSE:\", mean_squared_error(y, predictions)"
>>>>>>> ead856a8be1e9edeb0c57fe9560f50d190b6bc11
   ]
  },
  {
   "cell_type": "code",
   "execution_count": null,
   "metadata": {
    "collapsed": true
   },
   "outputs": [],
   "source": []
  }
 ],
 "metadata": {
  "anaconda-cloud": {},
  "kernelspec": {
<<<<<<< HEAD
   "display_name": "Python [conda root]",
   "language": "python",
   "name": "conda-root-py"
=======
   "display_name": "Python 2",
   "language": "python",
   "name": "python2"
>>>>>>> ead856a8be1e9edeb0c57fe9560f50d190b6bc11
  },
  "language_info": {
   "codemirror_mode": {
    "name": "ipython",
    "version": 2
   },
   "file_extension": ".py",
   "mimetype": "text/x-python",
   "name": "python",
   "nbconvert_exporter": "python",
   "pygments_lexer": "ipython2",
<<<<<<< HEAD
   "version": "2.7.12"
=======
   "version": "2.7.10"
>>>>>>> ead856a8be1e9edeb0c57fe9560f50d190b6bc11
  }
 },
 "nbformat": 4,
 "nbformat_minor": 0
}
