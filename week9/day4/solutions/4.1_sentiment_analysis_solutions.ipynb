{
 "cells": [
  {
   "cell_type": "markdown",
   "metadata": {},
   "source": [
    "# ![](https://ga-dash.s3.amazonaws.com/production/assets/logo-9f88ae6c9c3871690e33280fcf557f33.png) Case Study: Sentiment Analysis with Naive Bayes\n",
    "\n",
    "Week 9 | Lab 4.1\n"
   ]
  },
  {
   "cell_type": "markdown",
   "metadata": {},
   "source": [
    "This lab will have you put together some of the tools you've seen before to find which words are most likely to appear in positive or negative valenced reviews, and to predict whether a review is positive or not based on the text. This is a supervised learning problem, where we require some labelled data on reviews to start our classifications. You could explore other classifiers for this problem too; as we have discussed before Naive Bayes has been found empirically to perform particularly well on text (at least in a bag-of-words context where word order is not relevant), as well as being fast (and word datasets can get very large very quickly)."
   ]
  },
  {
   "cell_type": "markdown",
   "metadata": {},
   "source": [
    "### Load packages and movie data\n",
    "\n",
    "Do any cleaning you deem necessary."
   ]
  },
  {
   "cell_type": "code",
   "execution_count": 3,
   "metadata": {
    "collapsed": false
   },
   "outputs": [],
   "source": [
    "from __future__ import print_function\n",
    "import pandas as pd\n",
    "import numpy as np\n",
    "\n",
    "# We are using the BernoulliNB version of Naive Bayes, which assumes predictors are binary encoded\n",
    "from sklearn.naive_bayes import BernoulliNB\n",
    "from sklearn.model_selection import cross_val_score, train_test_split\n",
    "\n",
    "from sklearn.feature_extraction.text import CountVectorizer"
   ]
  },
  {
   "cell_type": "code",
   "execution_count": 4,
   "metadata": {
    "collapsed": false
   },
   "outputs": [
    {
     "data": {
      "text/html": [
       "<div>\n",
       "<table border=\"1\" class=\"dataframe\">\n",
       "  <thead>\n",
       "    <tr style=\"text-align: right;\">\n",
       "      <th></th>\n",
       "      <th>critic</th>\n",
       "      <th>fresh</th>\n",
       "      <th>imdb</th>\n",
       "      <th>publication</th>\n",
       "      <th>quote</th>\n",
       "      <th>review_date</th>\n",
       "      <th>rtid</th>\n",
       "      <th>title</th>\n",
       "    </tr>\n",
       "  </thead>\n",
       "  <tbody>\n",
       "    <tr>\n",
       "      <th>0</th>\n",
       "      <td>Derek Adams</td>\n",
       "      <td>1</td>\n",
       "      <td>114709.0</td>\n",
       "      <td>Time Out</td>\n",
       "      <td>So ingenious in concept, design and execution ...</td>\n",
       "      <td>2009-10-04</td>\n",
       "      <td>9559.0</td>\n",
       "      <td>Toy story</td>\n",
       "    </tr>\n",
       "    <tr>\n",
       "      <th>1</th>\n",
       "      <td>Richard Corliss</td>\n",
       "      <td>1</td>\n",
       "      <td>114709.0</td>\n",
       "      <td>TIME Magazine</td>\n",
       "      <td>The year's most inventive comedy.</td>\n",
       "      <td>2008-08-31</td>\n",
       "      <td>9559.0</td>\n",
       "      <td>Toy story</td>\n",
       "    </tr>\n",
       "    <tr>\n",
       "      <th>2</th>\n",
       "      <td>David Ansen</td>\n",
       "      <td>1</td>\n",
       "      <td>114709.0</td>\n",
       "      <td>Newsweek</td>\n",
       "      <td>A winning animated feature that has something ...</td>\n",
       "      <td>2008-08-18</td>\n",
       "      <td>9559.0</td>\n",
       "      <td>Toy story</td>\n",
       "    </tr>\n",
       "    <tr>\n",
       "      <th>3</th>\n",
       "      <td>Leonard Klady</td>\n",
       "      <td>1</td>\n",
       "      <td>114709.0</td>\n",
       "      <td>Variety</td>\n",
       "      <td>The film sports a provocative and appealing st...</td>\n",
       "      <td>2008-06-09</td>\n",
       "      <td>9559.0</td>\n",
       "      <td>Toy story</td>\n",
       "    </tr>\n",
       "    <tr>\n",
       "      <th>4</th>\n",
       "      <td>Jonathan Rosenbaum</td>\n",
       "      <td>1</td>\n",
       "      <td>114709.0</td>\n",
       "      <td>Chicago Reader</td>\n",
       "      <td>An entertaining computer-generated, hyperreali...</td>\n",
       "      <td>2008-03-10</td>\n",
       "      <td>9559.0</td>\n",
       "      <td>Toy story</td>\n",
       "    </tr>\n",
       "  </tbody>\n",
       "</table>\n",
       "</div>"
      ],
      "text/plain": [
       "               critic  fresh      imdb     publication  \\\n",
       "0         Derek Adams      1  114709.0        Time Out   \n",
       "1     Richard Corliss      1  114709.0   TIME Magazine   \n",
       "2         David Ansen      1  114709.0        Newsweek   \n",
       "3       Leonard Klady      1  114709.0         Variety   \n",
       "4  Jonathan Rosenbaum      1  114709.0  Chicago Reader   \n",
       "\n",
       "                                               quote review_date    rtid  \\\n",
       "0  So ingenious in concept, design and execution ...  2009-10-04  9559.0   \n",
       "1                  The year's most inventive comedy.  2008-08-31  9559.0   \n",
       "2  A winning animated feature that has something ...  2008-08-18  9559.0   \n",
       "3  The film sports a provocative and appealing st...  2008-06-09  9559.0   \n",
       "4  An entertaining computer-generated, hyperreali...  2008-03-10  9559.0   \n",
       "\n",
       "       title  \n",
       "0  Toy story  \n",
       "1  Toy story  \n",
       "2  Toy story  \n",
       "3  Toy story  \n",
       "4  Toy story  "
      ]
     },
     "execution_count": 4,
     "metadata": {},
     "output_type": "execute_result"
    }
   ],
   "source": [
    "rt = pd.read_csv('../assets/datasets/rt_critics.csv')\n",
    "\n",
    "rt = rt[rt.fresh.isin(['fresh','rotten'])]\n",
    "rt[\"fresh\"] = rt[\"fresh\"].map(lambda x: 1 if x == 'fresh' else 0)\n",
    "rt.head()"
   ]
  },
  {
   "cell_type": "markdown",
   "metadata": {},
   "source": [
    "### Create a predictor matrix of words from the quotes with CountVectorizer\n",
    "\n",
    "It is up to you what ngram range you want to select. **Make sure that `binary=True`**"
   ]
  },
  {
   "cell_type": "code",
   "execution_count": 6,
   "metadata": {
    "collapsed": true
   },
   "outputs": [],
   "source": [
    "cv = CountVectorizer(ngram_range=(1,2), max_features=2500, binary=True, stop_words='english')\n",
    "words = cv.fit_transform(rt[\"quote\"])"
   ]
  },
  {
   "cell_type": "code",
   "execution_count": 7,
   "metadata": {
    "collapsed": false
   },
   "outputs": [
    {
     "data": {
      "text/plain": [
       "(14049, 2500)"
      ]
     },
     "execution_count": 7,
     "metadata": {},
     "output_type": "execute_result"
    }
   ],
   "source": [
    "words.shape"
   ]
  },
  {
   "cell_type": "code",
   "execution_count": 8,
   "metadata": {
    "collapsed": false
   },
   "outputs": [],
   "source": [
    "words = pd.DataFrame(words.todense(), columns=cv.get_feature_names())"
   ]
  },
  {
   "cell_type": "code",
   "execution_count": 9,
   "metadata": {
    "collapsed": false
   },
   "outputs": [
    {
     "data": {
      "text/html": [
       "<div>\n",
       "<table border=\"1\" class=\"dataframe\">\n",
       "  <thead>\n",
       "    <tr style=\"text-align: right;\">\n",
       "      <th></th>\n",
       "      <th>10</th>\n",
       "      <th>100</th>\n",
       "      <th>13</th>\n",
       "      <th>1961</th>\n",
       "      <th>1998</th>\n",
       "      <th>20</th>\n",
       "      <th>2001</th>\n",
       "      <th>30</th>\n",
       "      <th>40</th>\n",
       "      <th>50s</th>\n",
       "      <th>...</th>\n",
       "      <th>year</th>\n",
       "      <th>year old</th>\n",
       "      <th>years</th>\n",
       "      <th>years ago</th>\n",
       "      <th>yes</th>\n",
       "      <th>york</th>\n",
       "      <th>young</th>\n",
       "      <th>younger</th>\n",
       "      <th>youth</th>\n",
       "      <th>zone</th>\n",
       "    </tr>\n",
       "  </thead>\n",
       "  <tbody>\n",
       "    <tr>\n",
       "      <th>0</th>\n",
       "      <td>0</td>\n",
       "      <td>0</td>\n",
       "      <td>0</td>\n",
       "      <td>0</td>\n",
       "      <td>0</td>\n",
       "      <td>0</td>\n",
       "      <td>0</td>\n",
       "      <td>0</td>\n",
       "      <td>0</td>\n",
       "      <td>0</td>\n",
       "      <td>...</td>\n",
       "      <td>0</td>\n",
       "      <td>0</td>\n",
       "      <td>0</td>\n",
       "      <td>0</td>\n",
       "      <td>0</td>\n",
       "      <td>0</td>\n",
       "      <td>0</td>\n",
       "      <td>0</td>\n",
       "      <td>0</td>\n",
       "      <td>0</td>\n",
       "    </tr>\n",
       "    <tr>\n",
       "      <th>1</th>\n",
       "      <td>0</td>\n",
       "      <td>0</td>\n",
       "      <td>0</td>\n",
       "      <td>0</td>\n",
       "      <td>0</td>\n",
       "      <td>0</td>\n",
       "      <td>0</td>\n",
       "      <td>0</td>\n",
       "      <td>0</td>\n",
       "      <td>0</td>\n",
       "      <td>...</td>\n",
       "      <td>1</td>\n",
       "      <td>0</td>\n",
       "      <td>0</td>\n",
       "      <td>0</td>\n",
       "      <td>0</td>\n",
       "      <td>0</td>\n",
       "      <td>0</td>\n",
       "      <td>0</td>\n",
       "      <td>0</td>\n",
       "      <td>0</td>\n",
       "    </tr>\n",
       "    <tr>\n",
       "      <th>2</th>\n",
       "      <td>0</td>\n",
       "      <td>0</td>\n",
       "      <td>0</td>\n",
       "      <td>0</td>\n",
       "      <td>0</td>\n",
       "      <td>0</td>\n",
       "      <td>0</td>\n",
       "      <td>0</td>\n",
       "      <td>0</td>\n",
       "      <td>0</td>\n",
       "      <td>...</td>\n",
       "      <td>0</td>\n",
       "      <td>0</td>\n",
       "      <td>0</td>\n",
       "      <td>0</td>\n",
       "      <td>0</td>\n",
       "      <td>0</td>\n",
       "      <td>0</td>\n",
       "      <td>0</td>\n",
       "      <td>0</td>\n",
       "      <td>0</td>\n",
       "    </tr>\n",
       "    <tr>\n",
       "      <th>3</th>\n",
       "      <td>0</td>\n",
       "      <td>0</td>\n",
       "      <td>0</td>\n",
       "      <td>0</td>\n",
       "      <td>0</td>\n",
       "      <td>0</td>\n",
       "      <td>0</td>\n",
       "      <td>0</td>\n",
       "      <td>0</td>\n",
       "      <td>0</td>\n",
       "      <td>...</td>\n",
       "      <td>0</td>\n",
       "      <td>0</td>\n",
       "      <td>0</td>\n",
       "      <td>0</td>\n",
       "      <td>0</td>\n",
       "      <td>0</td>\n",
       "      <td>0</td>\n",
       "      <td>0</td>\n",
       "      <td>0</td>\n",
       "      <td>0</td>\n",
       "    </tr>\n",
       "    <tr>\n",
       "      <th>4</th>\n",
       "      <td>0</td>\n",
       "      <td>0</td>\n",
       "      <td>0</td>\n",
       "      <td>0</td>\n",
       "      <td>0</td>\n",
       "      <td>0</td>\n",
       "      <td>0</td>\n",
       "      <td>0</td>\n",
       "      <td>0</td>\n",
       "      <td>0</td>\n",
       "      <td>...</td>\n",
       "      <td>0</td>\n",
       "      <td>0</td>\n",
       "      <td>0</td>\n",
       "      <td>0</td>\n",
       "      <td>0</td>\n",
       "      <td>0</td>\n",
       "      <td>0</td>\n",
       "      <td>0</td>\n",
       "      <td>0</td>\n",
       "      <td>0</td>\n",
       "    </tr>\n",
       "  </tbody>\n",
       "</table>\n",
       "<p>5 rows × 2500 columns</p>\n",
       "</div>"
      ],
      "text/plain": [
       "   10  100  13  1961  1998  20  2001  30  40  50s  ...   year  year old  \\\n",
       "0   0    0   0     0     0   0     0   0   0    0  ...      0         0   \n",
       "1   0    0   0     0     0   0     0   0   0    0  ...      1         0   \n",
       "2   0    0   0     0     0   0     0   0   0    0  ...      0         0   \n",
       "3   0    0   0     0     0   0     0   0   0    0  ...      0         0   \n",
       "4   0    0   0     0     0   0     0   0   0    0  ...      0         0   \n",
       "\n",
       "   years  years ago  yes  york  young  younger  youth  zone  \n",
       "0      0          0    0     0      0        0      0     0  \n",
       "1      0          0    0     0      0        0      0     0  \n",
       "2      0          0    0     0      0        0      0     0  \n",
       "3      0          0    0     0      0        0      0     0  \n",
       "4      0          0    0     0      0        0      0     0  \n",
       "\n",
       "[5 rows x 2500 columns]"
      ]
     },
     "execution_count": 9,
     "metadata": {},
     "output_type": "execute_result"
    }
   ],
   "source": [
    "words.head()"
   ]
  },
  {
   "cell_type": "code",
   "execution_count": 11,
   "metadata": {
    "collapsed": false
   },
   "outputs": [
    {
     "data": {
      "text/plain": [
       "(14049, 2500)"
      ]
     },
     "execution_count": 11,
     "metadata": {},
     "output_type": "execute_result"
    }
   ],
   "source": [
    "words.shape"
   ]
  },
  {
   "cell_type": "markdown",
   "metadata": {},
   "source": [
    "### Split data into training and testing splits\n",
    "\n",
    "You should keep 25% of the data in the test set."
   ]
  },
  {
   "cell_type": "code",
   "execution_count": 12,
   "metadata": {
    "collapsed": false
   },
   "outputs": [],
   "source": [
    "Xtrain, Xtest, ytrain, ytest = train_test_split(words.values, rt[\"fresh\"].values, test_size=0.25)"
   ]
  },
  {
   "cell_type": "code",
   "execution_count": 14,
   "metadata": {
    "collapsed": false
   },
   "outputs": [
    {
     "name": "stdout",
     "output_type": "stream",
     "text": [
      "(10536, 2500) (3513, 2500)\n"
     ]
    }
   ],
   "source": [
    "print(Xtrain.shape, Xtest.shape)"
   ]
  },
  {
   "cell_type": "markdown",
   "metadata": {},
   "source": [
    "### Build a `BernoulliNB` model predicting fresh vs. rotten from the word appearances\n",
    "\n",
    "The model should only be built (and cross-validated) on the training data.\n",
    "\n",
    "Cross-validate the score and compare it to baseline."
   ]
  },
  {
   "cell_type": "code",
   "execution_count": 15,
   "metadata": {
    "collapsed": true
   },
   "outputs": [],
   "source": [
    "nb = BernoulliNB()"
   ]
  },
  {
   "cell_type": "code",
   "execution_count": 16,
   "metadata": {
    "collapsed": false
   },
   "outputs": [
    {
     "data": {
      "text/plain": [
       "BernoulliNB(alpha=1.0, binarize=0.0, class_prior=None, fit_prior=True)"
      ]
     },
     "execution_count": 16,
     "metadata": {},
     "output_type": "execute_result"
    }
   ],
   "source": [
    "nb.fit(Xtrain, ytrain)"
   ]
  },
  {
   "cell_type": "code",
   "execution_count": 17,
   "metadata": {
    "collapsed": false
   },
   "outputs": [
    {
     "name": "stdout",
     "output_type": "stream",
     "text": [
      "[ 0.73624288  0.73908918  0.741813    0.72567632  0.71699905]\n",
      "0.731964087991\n",
      "0.616837509491\n"
     ]
    }
   ],
   "source": [
    "nb_scores = cross_val_score(BernoulliNB(), Xtrain, ytrain, cv=5)\n",
    "print(nb_scores)\n",
    "print(np.mean(nb_scores))\n",
    "print(np.mean(ytrain))"
   ]
  },
  {
   "cell_type": "markdown",
   "metadata": {},
   "source": [
    "### Pull out the probability of words given \"fresh\"\n",
    "\n",
    "The `.feature_log_prob_` attribute of the naive bayes model contains the log probabilities of a feature appearing given a target class.\n",
    "\n",
    "The rows correspond to the class of the target, and the columns correpsond to the features. The first row is the 0 \"rotten\" class, and the second is the 1 \"fresh\" class.\n",
    "\n",
    "#### 1. Pull out the log probabilities and convert them to probabilities (for fresh and for rotten)."
   ]
  },
  {
   "cell_type": "code",
   "execution_count": 28,
   "metadata": {
    "collapsed": false
   },
   "outputs": [
    {
     "name": "stdout",
     "output_type": "stream",
     "text": [
      "[ 0.00215351  0.0013844   0.0013844  ...,  0.0013844   0.00092293\n",
      "  0.00061529]\n",
      "[ 0.00445655  0.00099034  0.00049517 ...,  0.00123793  0.00099034\n",
      "  0.00222827]\n"
     ]
    }
   ],
   "source": [
    "feat_lp = nb.feature_log_prob_\n",
    "fresh_p = np.exp(feat_lp[1])\n",
    "rotten_p = np.exp(feat_lp[0])\n",
    "print(fresh_p)\n",
    "print(rotten_p)\n"
   ]
  },
  {
   "cell_type": "markdown",
   "metadata": {},
   "source": [
    "#### 2. Make a dataframe with the probabilities and features"
   ]
  },
  {
   "cell_type": "code",
   "execution_count": 30,
   "metadata": {
    "collapsed": false
   },
   "outputs": [
    {
     "data": {
      "text/html": [
       "<div>\n",
       "<table border=\"1\" class=\"dataframe\">\n",
       "  <thead>\n",
       "    <tr style=\"text-align: right;\">\n",
       "      <th></th>\n",
       "      <th>feature</th>\n",
       "      <th>fresh_p</th>\n",
       "      <th>rotten_p</th>\n",
       "    </tr>\n",
       "  </thead>\n",
       "  <tbody>\n",
       "    <tr>\n",
       "      <th>2495</th>\n",
       "      <td>york</td>\n",
       "      <td>0.002461</td>\n",
       "      <td>0.002476</td>\n",
       "    </tr>\n",
       "    <tr>\n",
       "      <th>2496</th>\n",
       "      <td>young</td>\n",
       "      <td>0.008922</td>\n",
       "      <td>0.006190</td>\n",
       "    </tr>\n",
       "    <tr>\n",
       "      <th>2497</th>\n",
       "      <td>younger</td>\n",
       "      <td>0.001384</td>\n",
       "      <td>0.001238</td>\n",
       "    </tr>\n",
       "    <tr>\n",
       "      <th>2498</th>\n",
       "      <td>youth</td>\n",
       "      <td>0.000923</td>\n",
       "      <td>0.000990</td>\n",
       "    </tr>\n",
       "    <tr>\n",
       "      <th>2499</th>\n",
       "      <td>zone</td>\n",
       "      <td>0.000615</td>\n",
       "      <td>0.002228</td>\n",
       "    </tr>\n",
       "  </tbody>\n",
       "</table>\n",
       "</div>"
      ],
      "text/plain": [
       "      feature   fresh_p  rotten_p\n",
       "2495     york  0.002461  0.002476\n",
       "2496    young  0.008922  0.006190\n",
       "2497  younger  0.001384  0.001238\n",
       "2498    youth  0.000923  0.000990\n",
       "2499     zone  0.000615  0.002228"
      ]
     },
     "execution_count": 30,
     "metadata": {},
     "output_type": "execute_result"
    }
   ],
   "source": [
    "feat_probs = pd.DataFrame({'fresh_p':fresh_p, 'rotten_p':rotten_p, 'feature':words.columns.values})\n",
    "feat_probs.tail()"
   ]
  },
  {
   "cell_type": "markdown",
   "metadata": {},
   "source": [
    "#### 3. Create a column that is the difference between fresh probability of appearance and rotten"
   ]
  },
  {
   "cell_type": "code",
   "execution_count": 31,
   "metadata": {
    "collapsed": false
   },
   "outputs": [
    {
     "data": {
      "text/html": [
       "<div>\n",
       "<table border=\"1\" class=\"dataframe\">\n",
       "  <thead>\n",
       "    <tr style=\"text-align: right;\">\n",
       "      <th></th>\n",
       "      <th>feature</th>\n",
       "      <th>fresh_p</th>\n",
       "      <th>rotten_p</th>\n",
       "      <th>fresh_diff</th>\n",
       "    </tr>\n",
       "  </thead>\n",
       "  <tbody>\n",
       "    <tr>\n",
       "      <th>2495</th>\n",
       "      <td>york</td>\n",
       "      <td>0.002461</td>\n",
       "      <td>0.002476</td>\n",
       "      <td>-0.000015</td>\n",
       "    </tr>\n",
       "    <tr>\n",
       "      <th>2496</th>\n",
       "      <td>young</td>\n",
       "      <td>0.008922</td>\n",
       "      <td>0.006190</td>\n",
       "      <td>0.002732</td>\n",
       "    </tr>\n",
       "    <tr>\n",
       "      <th>2497</th>\n",
       "      <td>younger</td>\n",
       "      <td>0.001384</td>\n",
       "      <td>0.001238</td>\n",
       "      <td>0.000146</td>\n",
       "    </tr>\n",
       "    <tr>\n",
       "      <th>2498</th>\n",
       "      <td>youth</td>\n",
       "      <td>0.000923</td>\n",
       "      <td>0.000990</td>\n",
       "      <td>-0.000067</td>\n",
       "    </tr>\n",
       "    <tr>\n",
       "      <th>2499</th>\n",
       "      <td>zone</td>\n",
       "      <td>0.000615</td>\n",
       "      <td>0.002228</td>\n",
       "      <td>-0.001613</td>\n",
       "    </tr>\n",
       "  </tbody>\n",
       "</table>\n",
       "</div>"
      ],
      "text/plain": [
       "      feature   fresh_p  rotten_p  fresh_diff\n",
       "2495     york  0.002461  0.002476   -0.000015\n",
       "2496    young  0.008922  0.006190    0.002732\n",
       "2497  younger  0.001384  0.001238    0.000146\n",
       "2498    youth  0.000923  0.000990   -0.000067\n",
       "2499     zone  0.000615  0.002228   -0.001613"
      ]
     },
     "execution_count": 31,
     "metadata": {},
     "output_type": "execute_result"
    }
   ],
   "source": [
    "feat_probs['fresh_diff'] = feat_probs.fresh_p - feat_probs.rotten_p\n",
    "feat_probs.tail()"
   ]
  },
  {
   "cell_type": "markdown",
   "metadata": {},
   "source": [
    "#### 4. Look at the most likely words for fresh and rotten reviews"
   ]
  },
  {
   "cell_type": "code",
   "execution_count": 32,
   "metadata": {
    "collapsed": false
   },
   "outputs": [
    {
     "data": {
      "text/html": [
       "<div>\n",
       "<table border=\"1\" class=\"dataframe\">\n",
       "  <thead>\n",
       "    <tr style=\"text-align: right;\">\n",
       "      <th></th>\n",
       "      <th>feature</th>\n",
       "      <th>fresh_p</th>\n",
       "      <th>rotten_p</th>\n",
       "      <th>fresh_diff</th>\n",
       "    </tr>\n",
       "  </thead>\n",
       "  <tbody>\n",
       "    <tr>\n",
       "      <th>825</th>\n",
       "      <td>film</td>\n",
       "      <td>0.153207</td>\n",
       "      <td>0.112156</td>\n",
       "      <td>0.041051</td>\n",
       "    </tr>\n",
       "    <tr>\n",
       "      <th>193</th>\n",
       "      <td>best</td>\n",
       "      <td>0.040763</td>\n",
       "      <td>0.018817</td>\n",
       "      <td>0.021946</td>\n",
       "    </tr>\n",
       "    <tr>\n",
       "      <th>965</th>\n",
       "      <td>great</td>\n",
       "      <td>0.028303</td>\n",
       "      <td>0.009656</td>\n",
       "      <td>0.018647</td>\n",
       "    </tr>\n",
       "    <tr>\n",
       "      <th>693</th>\n",
       "      <td>entertaining</td>\n",
       "      <td>0.023996</td>\n",
       "      <td>0.005694</td>\n",
       "      <td>0.018302</td>\n",
       "    </tr>\n",
       "    <tr>\n",
       "      <th>1584</th>\n",
       "      <td>performance</td>\n",
       "      <td>0.021381</td>\n",
       "      <td>0.007180</td>\n",
       "      <td>0.014201</td>\n",
       "    </tr>\n",
       "    <tr>\n",
       "      <th>87</th>\n",
       "      <td>american</td>\n",
       "      <td>0.021381</td>\n",
       "      <td>0.007923</td>\n",
       "      <td>0.013459</td>\n",
       "    </tr>\n",
       "    <tr>\n",
       "      <th>837</th>\n",
       "      <td>films</td>\n",
       "      <td>0.025073</td>\n",
       "      <td>0.011884</td>\n",
       "      <td>0.013189</td>\n",
       "    </tr>\n",
       "    <tr>\n",
       "      <th>948</th>\n",
       "      <td>good</td>\n",
       "      <td>0.045531</td>\n",
       "      <td>0.032434</td>\n",
       "      <td>0.013098</td>\n",
       "    </tr>\n",
       "    <tr>\n",
       "      <th>694</th>\n",
       "      <td>entertainment</td>\n",
       "      <td>0.017074</td>\n",
       "      <td>0.004952</td>\n",
       "      <td>0.012123</td>\n",
       "    </tr>\n",
       "    <tr>\n",
       "      <th>1585</th>\n",
       "      <td>performances</td>\n",
       "      <td>0.020458</td>\n",
       "      <td>0.008666</td>\n",
       "      <td>0.011793</td>\n",
       "    </tr>\n",
       "    <tr>\n",
       "      <th>900</th>\n",
       "      <td>fun</td>\n",
       "      <td>0.022920</td>\n",
       "      <td>0.012874</td>\n",
       "      <td>0.010045</td>\n",
       "    </tr>\n",
       "    <tr>\n",
       "      <th>1308</th>\n",
       "      <td>love</td>\n",
       "      <td>0.021843</td>\n",
       "      <td>0.012627</td>\n",
       "      <td>0.009216</td>\n",
       "    </tr>\n",
       "    <tr>\n",
       "      <th>306</th>\n",
       "      <td>cast</td>\n",
       "      <td>0.019689</td>\n",
       "      <td>0.010894</td>\n",
       "      <td>0.008795</td>\n",
       "    </tr>\n",
       "    <tr>\n",
       "      <th>1454</th>\n",
       "      <td>movies</td>\n",
       "      <td>0.030303</td>\n",
       "      <td>0.021540</td>\n",
       "      <td>0.008763</td>\n",
       "    </tr>\n",
       "    <tr>\n",
       "      <th>1265</th>\n",
       "      <td>life</td>\n",
       "      <td>0.024304</td>\n",
       "      <td>0.015598</td>\n",
       "      <td>0.008706</td>\n",
       "    </tr>\n",
       "    <tr>\n",
       "      <th>2000</th>\n",
       "      <td>smart</td>\n",
       "      <td>0.010152</td>\n",
       "      <td>0.001733</td>\n",
       "      <td>0.008419</td>\n",
       "    </tr>\n",
       "    <tr>\n",
       "      <th>1889</th>\n",
       "      <td>screen</td>\n",
       "      <td>0.020612</td>\n",
       "      <td>0.012379</td>\n",
       "      <td>0.008233</td>\n",
       "    </tr>\n",
       "    <tr>\n",
       "      <th>2248</th>\n",
       "      <td>time</td>\n",
       "      <td>0.036456</td>\n",
       "      <td>0.028225</td>\n",
       "      <td>0.008231</td>\n",
       "    </tr>\n",
       "    <tr>\n",
       "      <th>936</th>\n",
       "      <td>gives</td>\n",
       "      <td>0.011691</td>\n",
       "      <td>0.003466</td>\n",
       "      <td>0.008224</td>\n",
       "    </tr>\n",
       "    <tr>\n",
       "      <th>688</th>\n",
       "      <td>enjoyable</td>\n",
       "      <td>0.011383</td>\n",
       "      <td>0.003219</td>\n",
       "      <td>0.008164</td>\n",
       "    </tr>\n",
       "  </tbody>\n",
       "</table>\n",
       "</div>"
      ],
      "text/plain": [
       "            feature   fresh_p  rotten_p  fresh_diff\n",
       "825            film  0.153207  0.112156    0.041051\n",
       "193            best  0.040763  0.018817    0.021946\n",
       "965           great  0.028303  0.009656    0.018647\n",
       "693    entertaining  0.023996  0.005694    0.018302\n",
       "1584    performance  0.021381  0.007180    0.014201\n",
       "87         american  0.021381  0.007923    0.013459\n",
       "837           films  0.025073  0.011884    0.013189\n",
       "948            good  0.045531  0.032434    0.013098\n",
       "694   entertainment  0.017074  0.004952    0.012123\n",
       "1585   performances  0.020458  0.008666    0.011793\n",
       "900             fun  0.022920  0.012874    0.010045\n",
       "1308           love  0.021843  0.012627    0.009216\n",
       "306            cast  0.019689  0.010894    0.008795\n",
       "1454         movies  0.030303  0.021540    0.008763\n",
       "1265           life  0.024304  0.015598    0.008706\n",
       "2000          smart  0.010152  0.001733    0.008419\n",
       "1889         screen  0.020612  0.012379    0.008233\n",
       "2248           time  0.036456  0.028225    0.008231\n",
       "936           gives  0.011691  0.003466    0.008224\n",
       "688       enjoyable  0.011383  0.003219    0.008164"
      ]
     },
     "execution_count": 32,
     "metadata": {},
     "output_type": "execute_result"
    }
   ],
   "source": [
    "feat_probs.sort_values('fresh_diff', ascending=False, inplace=True)\n",
    "feat_probs.head(20)"
   ]
  },
  {
   "cell_type": "code",
   "execution_count": 33,
   "metadata": {
    "collapsed": false
   },
   "outputs": [
    {
     "data": {
      "text/html": [
       "<div>\n",
       "<table border=\"1\" class=\"dataframe\">\n",
       "  <thead>\n",
       "    <tr style=\"text-align: right;\">\n",
       "      <th></th>\n",
       "      <th>feature</th>\n",
       "      <th>fresh_p</th>\n",
       "      <th>rotten_p</th>\n",
       "      <th>fresh_diff</th>\n",
       "    </tr>\n",
       "  </thead>\n",
       "  <tbody>\n",
       "    <tr>\n",
       "      <th>851</th>\n",
       "      <td>flat</td>\n",
       "      <td>0.001538</td>\n",
       "      <td>0.008666</td>\n",
       "      <td>-0.007127</td>\n",
       "    </tr>\n",
       "    <tr>\n",
       "      <th>612</th>\n",
       "      <td>don</td>\n",
       "      <td>0.010768</td>\n",
       "      <td>0.018074</td>\n",
       "      <td>-0.007306</td>\n",
       "    </tr>\n",
       "    <tr>\n",
       "      <th>2473</th>\n",
       "      <td>worst</td>\n",
       "      <td>0.001846</td>\n",
       "      <td>0.009161</td>\n",
       "      <td>-0.007315</td>\n",
       "    </tr>\n",
       "    <tr>\n",
       "      <th>634</th>\n",
       "      <td>dull</td>\n",
       "      <td>0.001077</td>\n",
       "      <td>0.008418</td>\n",
       "      <td>-0.007341</td>\n",
       "    </tr>\n",
       "    <tr>\n",
       "      <th>2308</th>\n",
       "      <td>tv</td>\n",
       "      <td>0.002769</td>\n",
       "      <td>0.010151</td>\n",
       "      <td>-0.007382</td>\n",
       "    </tr>\n",
       "    <tr>\n",
       "      <th>768</th>\n",
       "      <td>fails</td>\n",
       "      <td>0.002000</td>\n",
       "      <td>0.009408</td>\n",
       "      <td>-0.007409</td>\n",
       "    </tr>\n",
       "    <tr>\n",
       "      <th>1670</th>\n",
       "      <td>predictable</td>\n",
       "      <td>0.001846</td>\n",
       "      <td>0.009408</td>\n",
       "      <td>-0.007562</td>\n",
       "    </tr>\n",
       "    <tr>\n",
       "      <th>1221</th>\n",
       "      <td>lacks</td>\n",
       "      <td>0.002307</td>\n",
       "      <td>0.009903</td>\n",
       "      <td>-0.007596</td>\n",
       "    </tr>\n",
       "    <tr>\n",
       "      <th>1182</th>\n",
       "      <td>jokes</td>\n",
       "      <td>0.003384</td>\n",
       "      <td>0.011141</td>\n",
       "      <td>-0.007757</td>\n",
       "    </tr>\n",
       "    <tr>\n",
       "      <th>810</th>\n",
       "      <td>feels</td>\n",
       "      <td>0.003538</td>\n",
       "      <td>0.011637</td>\n",
       "      <td>-0.008099</td>\n",
       "    </tr>\n",
       "    <tr>\n",
       "      <th>1412</th>\n",
       "      <td>minutes</td>\n",
       "      <td>0.005845</td>\n",
       "      <td>0.015846</td>\n",
       "      <td>-0.010000</td>\n",
       "    </tr>\n",
       "    <tr>\n",
       "      <th>1894</th>\n",
       "      <td>script</td>\n",
       "      <td>0.009229</td>\n",
       "      <td>0.021045</td>\n",
       "      <td>-0.011815</td>\n",
       "    </tr>\n",
       "    <tr>\n",
       "      <th>1164</th>\n",
       "      <td>isn</td>\n",
       "      <td>0.011075</td>\n",
       "      <td>0.023026</td>\n",
       "      <td>-0.011950</td>\n",
       "    </tr>\n",
       "    <tr>\n",
       "      <th>1445</th>\n",
       "      <td>movie</td>\n",
       "      <td>0.133056</td>\n",
       "      <td>0.145333</td>\n",
       "      <td>-0.012277</td>\n",
       "    </tr>\n",
       "    <tr>\n",
       "      <th>1629</th>\n",
       "      <td>plot</td>\n",
       "      <td>0.013690</td>\n",
       "      <td>0.025997</td>\n",
       "      <td>-0.012306</td>\n",
       "    </tr>\n",
       "    <tr>\n",
       "      <th>1280</th>\n",
       "      <td>little</td>\n",
       "      <td>0.017690</td>\n",
       "      <td>0.030948</td>\n",
       "      <td>-0.013259</td>\n",
       "    </tr>\n",
       "    <tr>\n",
       "      <th>1754</th>\n",
       "      <td>really</td>\n",
       "      <td>0.007230</td>\n",
       "      <td>0.021540</td>\n",
       "      <td>-0.014310</td>\n",
       "    </tr>\n",
       "    <tr>\n",
       "      <th>606</th>\n",
       "      <td>doesn</td>\n",
       "      <td>0.014459</td>\n",
       "      <td>0.028968</td>\n",
       "      <td>-0.014508</td>\n",
       "    </tr>\n",
       "    <tr>\n",
       "      <th>157</th>\n",
       "      <td>bad</td>\n",
       "      <td>0.007691</td>\n",
       "      <td>0.029215</td>\n",
       "      <td>-0.021524</td>\n",
       "    </tr>\n",
       "    <tr>\n",
       "      <th>1269</th>\n",
       "      <td>like</td>\n",
       "      <td>0.044455</td>\n",
       "      <td>0.067591</td>\n",
       "      <td>-0.023136</td>\n",
       "    </tr>\n",
       "  </tbody>\n",
       "</table>\n",
       "</div>"
      ],
      "text/plain": [
       "          feature   fresh_p  rotten_p  fresh_diff\n",
       "851          flat  0.001538  0.008666   -0.007127\n",
       "612           don  0.010768  0.018074   -0.007306\n",
       "2473        worst  0.001846  0.009161   -0.007315\n",
       "634          dull  0.001077  0.008418   -0.007341\n",
       "2308           tv  0.002769  0.010151   -0.007382\n",
       "768         fails  0.002000  0.009408   -0.007409\n",
       "1670  predictable  0.001846  0.009408   -0.007562\n",
       "1221        lacks  0.002307  0.009903   -0.007596\n",
       "1182        jokes  0.003384  0.011141   -0.007757\n",
       "810         feels  0.003538  0.011637   -0.008099\n",
       "1412      minutes  0.005845  0.015846   -0.010000\n",
       "1894       script  0.009229  0.021045   -0.011815\n",
       "1164          isn  0.011075  0.023026   -0.011950\n",
       "1445        movie  0.133056  0.145333   -0.012277\n",
       "1629         plot  0.013690  0.025997   -0.012306\n",
       "1280       little  0.017690  0.030948   -0.013259\n",
       "1754       really  0.007230  0.021540   -0.014310\n",
       "606         doesn  0.014459  0.028968   -0.014508\n",
       "157           bad  0.007691  0.029215   -0.021524\n",
       "1269         like  0.044455  0.067591   -0.023136"
      ]
     },
     "execution_count": 33,
     "metadata": {},
     "output_type": "execute_result"
    }
   ],
   "source": [
    "feat_probs.tail(20)"
   ]
  },
  {
   "cell_type": "markdown",
   "metadata": {},
   "source": [
    "### Examine how your model performs on the test set"
   ]
  },
  {
   "cell_type": "code",
   "execution_count": 34,
   "metadata": {
    "collapsed": false
   },
   "outputs": [
    {
     "name": "stdout",
     "output_type": "stream",
     "text": [
      "0.734130372901\n",
      "0.601764873328\n"
     ]
    }
   ],
   "source": [
    "print(nb.score(Xtest, ytest))\n",
    "print(np.mean(ytest))"
   ]
  },
  {
   "cell_type": "markdown",
   "metadata": {},
   "source": [
    "### Look at the top 10 movies and reviews likely to be fresh and top 10 likely to be rotten\n",
    "\n",
    "You can fit the model on the full set of data for this.\n",
    "\n",
    "Just to note: Naive Bayes, while good at classifying, is known to be somewhat bad at giving accurate predicted probabilities (beyond getting it on the correct side of 50%)."
   ]
  },
  {
   "cell_type": "code",
   "execution_count": 35,
   "metadata": {
    "collapsed": true
   },
   "outputs": [],
   "source": [
    "X = words.values\n",
    "y = rt.fresh"
   ]
  },
  {
   "cell_type": "code",
   "execution_count": 36,
   "metadata": {
    "collapsed": true
   },
   "outputs": [],
   "source": [
    "nbfull = BernoulliNB().fit(X,y)"
   ]
  },
  {
   "cell_type": "code",
   "execution_count": 37,
   "metadata": {
    "collapsed": true
   },
   "outputs": [],
   "source": [
    "pp = pd.DataFrame({\n",
    "        'prob_fresh':nbfull.predict_proba(X)[:,1],\n",
    "        'movie':rt.title,\n",
    "        'quote':rt.quote\n",
    "    })"
   ]
  },
  {
   "cell_type": "code",
   "execution_count": 41,
   "metadata": {
    "collapsed": false
   },
   "outputs": [
    {
     "name": "stdout",
     "output_type": "stream",
     "text": [
      "Kundun \t Stunning, odd, glorious, calm and sensationally absorbing, director Martin Scorsese's Kundun is a remarkable piece of work with vital colors and a wrenching message.\n",
      "--------------------------------------------------\n",
      "\n",
      "The Wild Bunch \t The Wild Bunch is Peckinpah's most complex inquiry into the metamorphosis of man into myth. Not incidentally, it is also a raucous, violent, powerful feat of American film making.\n",
      "--------------------------------------------------\n",
      "\n",
      "Witness \t Powerful, assured, full of beautiful imagery and thankfully devoid of easy moralising, it also offers a performance of surprising skill and sensitivity from Ford.\n",
      "--------------------------------------------------\n",
      "\n",
      "The English Patient \t This is one of the year's most unabashed and powerful love stories, using flawless performances, intelligent dialogue, crisp camera work, and loaded glances to attain a level of eroticism and emotional connection that many similar films miss.\n",
      "--------------------------------------------------\n",
      "\n",
      "Places in the Heart \t Out of the memories of his boyhood in Waxahachie, Tex., during the Great Depression, and within the unlikely tradition of the old-fashioned ''mortgage'' melodrama, Robert Benton has made one of the best films in years about growing up American.\n",
      "--------------------------------------------------\n",
      "\n",
      "Mrs Brown \t Centering on a lesser-known chapter in the reign of Queen Victoria, this richly detailed drama about her intimate relationship with her servant that scandalized the country is extremely well-acted; Judi Dench deserves an Oscar nomination\n",
      "--------------------------------------------------\n",
      "\n",
      "Where the Wild Things Are \t Where the Wild Things Are is a fiercely innovative film with surprising texture and nuance. It captures the joy and exuberance of childhood without shying away from its very real pains and woes.\n",
      "--------------------------------------------------\n",
      "\n",
      "Diva \t The most exciting debut in years, it is unified by the extraordinary decor - colour supplement chic meets pop art surrealism - which creates a world of totally fantastic reality situated four-square in contemporary Paris.\n",
      "--------------------------------------------------\n",
      "\n",
      "2001: A Space Odyssey \t Stanley Kubrick's 2001: A Space Odyssey is some sort of great film, and an unforgettable endeavor. Technically and imaginatively, what he put into it is staggering.\n",
      "--------------------------------------------------\n",
      "\n",
      "The Secret of Roan Inish \t Tales within tales, a subtle sense of economic and social realities, fine landscape photography and strong performances make for an engrossing, unusual fantasy.\n",
      "--------------------------------------------------\n",
      "\n"
     ]
    }
   ],
   "source": [
    "pp.sort_values('prob_fresh', ascending=False, inplace=True)\n",
    "for movie, quote in zip(pp[\"movie\"][0:10], pp[\"quote\"][0:10]):\n",
    "    print(movie,'\\t', quote)\n",
    "    print('--------------------------------------------------\\n')"
   ]
  },
  {
   "cell_type": "code",
   "execution_count": 42,
   "metadata": {
    "collapsed": false
   },
   "outputs": [
    {
     "name": "stdout",
     "output_type": "stream",
     "text": [
      "Pokémon: The First Movie \t With intentionally stilted animation, uninspired music and lame jokes, Pokemon is basically an ultralong version of the phenomenon's own boring TV 'toon.\n",
      "--------------------------------------------------\n",
      "\n",
      "Joe's Apartment \t There's not enough story here for something half that length, so we're subjected to numerous pointless and irritating song-and-dance numbers designed to nudge the lame plot towards its conclusion.\n",
      "--------------------------------------------------\n",
      "\n",
      "Kazaam \t As fairy tale, buddy comedy, family drama, thriller or rap revue, Kazaam is simply uninspired and unconvincing, and Mr. O'Neal, who can carry a basketball team, lacks the charisma to rescue this misguided effort.\n",
      "--------------------------------------------------\n",
      "\n",
      "Gung Ho \t A disappointment, a movie in which the Japanese are mostly used for the mechanical requirements of the plot, and the Americans are constructed from durable but boring stereotypes.\n",
      "--------------------------------------------------\n",
      "\n",
      "The Beverly Hillbillies \t Imagine the dumbest half-hour sitcom you've ever seen, spin it out to 93 minutes by making it even more thin and shallow, and you have this movie. It's appalling. It's not even really a good version of whatever it was that made the TV series appealing.\n",
      "--------------------------------------------------\n",
      "\n",
      "Snow Day \t Unless you have a craving to watch a sluggish Ski-Doo race or want to admire Chase dressed as a hula dancer, consider this the cinematic equivalent of yellow snow.\n",
      "--------------------------------------------------\n",
      "\n",
      "Prêt-à-Porter \t Despite some delicious moments, this sluggish, overlong, halfhearted satire feels like a movie that wanted to go somewhere but never got there.\n",
      "--------------------------------------------------\n",
      "\n",
      "Basic Instinct 2 \t Basic Instinct 2 has a stylish look and a few sexy moments, but the plot goes from confusing to implausible to absolutely ludicrous in the final sequence.\n",
      "--------------------------------------------------\n",
      "\n",
      "Akira \t A compendium of the worst cliches of Japanese animation -- two hours of chases, laser attacks, machine-gun battles, spilled stage blood, computer-animated backgrounds and hokey dialogue.\n",
      "--------------------------------------------------\n",
      "\n",
      "Batman & Robin \t Pointless, plodding plotting; asinine action; clueless, comatose characterization; and dumb dialogue.\n",
      "--------------------------------------------------\n",
      "\n"
     ]
    }
   ],
   "source": [
    "pp.sort_values('prob_fresh', ascending=True, inplace=True)\n",
    "for movie, quote in zip(pp[\"movie\"][0:10], pp[\"quote\"][0:10]):\n",
    "    print(movie,'\\t', quote)\n",
    "    print('--------------------------------------------------\\n')"
   ]
  },
  {
   "cell_type": "code",
   "execution_count": 43,
   "metadata": {
    "collapsed": false
   },
   "outputs": [
    {
     "data": {
      "text/html": [
       "<div>\n",
       "<table border=\"1\" class=\"dataframe\">\n",
       "  <thead>\n",
       "    <tr style=\"text-align: right;\">\n",
       "      <th></th>\n",
       "      <th>movie</th>\n",
       "      <th>counts</th>\n",
       "    </tr>\n",
       "  </thead>\n",
       "  <tbody>\n",
       "    <tr>\n",
       "      <th>0</th>\n",
       "      <td>The Hurricane</td>\n",
       "      <td>20</td>\n",
       "    </tr>\n",
       "    <tr>\n",
       "      <th>1</th>\n",
       "      <td>Fever Pitch</td>\n",
       "      <td>20</td>\n",
       "    </tr>\n",
       "    <tr>\n",
       "      <th>2</th>\n",
       "      <td>The Truman Show</td>\n",
       "      <td>20</td>\n",
       "    </tr>\n",
       "    <tr>\n",
       "      <th>3</th>\n",
       "      <td>The Green Mile</td>\n",
       "      <td>20</td>\n",
       "    </tr>\n",
       "    <tr>\n",
       "      <th>4</th>\n",
       "      <td>The Sixth Sense</td>\n",
       "      <td>20</td>\n",
       "    </tr>\n",
       "  </tbody>\n",
       "</table>\n",
       "</div>"
      ],
      "text/plain": [
       "             movie  counts\n",
       "0    The Hurricane      20\n",
       "1      Fever Pitch      20\n",
       "2  The Truman Show      20\n",
       "3   The Green Mile      20\n",
       "4  The Sixth Sense      20"
      ]
     },
     "execution_count": 43,
     "metadata": {},
     "output_type": "execute_result"
    }
   ],
   "source": [
    "# subset to movies with at least 10 reviews:\n",
    "movie_counts = pp[\"movie\"].value_counts().reset_index()\n",
    "movie_counts.columns = ['movie','counts']\n",
    "movie_counts.head()"
   ]
  },
  {
   "cell_type": "code",
   "execution_count": 44,
   "metadata": {
    "collapsed": false
   },
   "outputs": [],
   "source": [
    "pp_movies = pp[['movie','prob_fresh']].groupby('movie').agg(np.mean).reset_index()\n",
    "pp_movies = pp_movies[pp_movies[\"movie\"].isin(movie_counts[movie_counts.counts >= 10][\"movie\"])]"
   ]
  },
  {
   "cell_type": "code",
   "execution_count": 45,
   "metadata": {
    "collapsed": false
   },
   "outputs": [
    {
     "data": {
      "text/html": [
       "<div>\n",
       "<table border=\"1\" class=\"dataframe\">\n",
       "  <thead>\n",
       "    <tr style=\"text-align: right;\">\n",
       "      <th></th>\n",
       "      <th>movie</th>\n",
       "      <th>prob_fresh</th>\n",
       "    </tr>\n",
       "  </thead>\n",
       "  <tbody>\n",
       "    <tr>\n",
       "      <th>1417</th>\n",
       "      <td>The Iron Giant</td>\n",
       "      <td>0.979857</td>\n",
       "    </tr>\n",
       "    <tr>\n",
       "      <th>862</th>\n",
       "      <td>Midnight Run</td>\n",
       "      <td>0.938485</td>\n",
       "    </tr>\n",
       "    <tr>\n",
       "      <th>209</th>\n",
       "      <td>Boogie Nights</td>\n",
       "      <td>0.933018</td>\n",
       "    </tr>\n",
       "    <tr>\n",
       "      <th>830</th>\n",
       "      <td>Manhattan</td>\n",
       "      <td>0.923313</td>\n",
       "    </tr>\n",
       "    <tr>\n",
       "      <th>1447</th>\n",
       "      <td>The Little Mermaid</td>\n",
       "      <td>0.913110</td>\n",
       "    </tr>\n",
       "    <tr>\n",
       "      <th>1058</th>\n",
       "      <td>Raging Bull</td>\n",
       "      <td>0.909063</td>\n",
       "    </tr>\n",
       "    <tr>\n",
       "      <th>652</th>\n",
       "      <td>Il conformista</td>\n",
       "      <td>0.899021</td>\n",
       "    </tr>\n",
       "    <tr>\n",
       "      <th>1055</th>\n",
       "      <td>Quiz Show</td>\n",
       "      <td>0.897883</td>\n",
       "    </tr>\n",
       "    <tr>\n",
       "      <th>1615</th>\n",
       "      <td>Toy story</td>\n",
       "      <td>0.894362</td>\n",
       "    </tr>\n",
       "    <tr>\n",
       "      <th>298</th>\n",
       "      <td>Cookie's Fortune</td>\n",
       "      <td>0.889969</td>\n",
       "    </tr>\n",
       "    <tr>\n",
       "      <th>1065</th>\n",
       "      <td>Ran</td>\n",
       "      <td>0.888202</td>\n",
       "    </tr>\n",
       "    <tr>\n",
       "      <th>1593</th>\n",
       "      <td>Titanic</td>\n",
       "      <td>0.885836</td>\n",
       "    </tr>\n",
       "    <tr>\n",
       "      <th>1120</th>\n",
       "      <td>Schindler's List</td>\n",
       "      <td>0.883950</td>\n",
       "    </tr>\n",
       "    <tr>\n",
       "      <th>147</th>\n",
       "      <td>Bandit Queen</td>\n",
       "      <td>0.883369</td>\n",
       "    </tr>\n",
       "    <tr>\n",
       "      <th>775</th>\n",
       "      <td>Le notti di Cabiria</td>\n",
       "      <td>0.881404</td>\n",
       "    </tr>\n",
       "    <tr>\n",
       "      <th>783</th>\n",
       "      <td>Les quatre cents coups</td>\n",
       "      <td>0.879594</td>\n",
       "    </tr>\n",
       "    <tr>\n",
       "      <th>445</th>\n",
       "      <td>Fanny och Alexander</td>\n",
       "      <td>0.872531</td>\n",
       "    </tr>\n",
       "    <tr>\n",
       "      <th>129</th>\n",
       "      <td>Babe</td>\n",
       "      <td>0.868943</td>\n",
       "    </tr>\n",
       "    <tr>\n",
       "      <th>952</th>\n",
       "      <td>Nosferatu, eine Symphonie des Grauens</td>\n",
       "      <td>0.868932</td>\n",
       "    </tr>\n",
       "    <tr>\n",
       "      <th>1572</th>\n",
       "      <td>The Wild Bunch</td>\n",
       "      <td>0.867744</td>\n",
       "    </tr>\n",
       "  </tbody>\n",
       "</table>\n",
       "</div>"
      ],
      "text/plain": [
       "                                      movie  prob_fresh\n",
       "1417                         The Iron Giant    0.979857\n",
       "862                            Midnight Run    0.938485\n",
       "209                           Boogie Nights    0.933018\n",
       "830                               Manhattan    0.923313\n",
       "1447                     The Little Mermaid    0.913110\n",
       "1058                            Raging Bull    0.909063\n",
       "652                          Il conformista    0.899021\n",
       "1055                              Quiz Show    0.897883\n",
       "1615                              Toy story    0.894362\n",
       "298                        Cookie's Fortune    0.889969\n",
       "1065                                    Ran    0.888202\n",
       "1593                                Titanic    0.885836\n",
       "1120                       Schindler's List    0.883950\n",
       "147                            Bandit Queen    0.883369\n",
       "775                     Le notti di Cabiria    0.881404\n",
       "783                  Les quatre cents coups    0.879594\n",
       "445                     Fanny och Alexander    0.872531\n",
       "129                                    Babe    0.868943\n",
       "952   Nosferatu, eine Symphonie des Grauens    0.868932\n",
       "1572                         The Wild Bunch    0.867744"
      ]
     },
     "execution_count": 45,
     "metadata": {},
     "output_type": "execute_result"
    }
   ],
   "source": [
    "pp_movies.sort_values('prob_fresh', ascending=False, inplace=True)\n",
    "pp_movies.head(20)"
   ]
  },
  {
   "cell_type": "code",
   "execution_count": 46,
   "metadata": {
    "collapsed": false
   },
   "outputs": [
    {
     "data": {
      "text/html": [
       "<div>\n",
       "<table border=\"1\" class=\"dataframe\">\n",
       "  <thead>\n",
       "    <tr style=\"text-align: right;\">\n",
       "      <th></th>\n",
       "      <th>movie</th>\n",
       "      <th>prob_fresh</th>\n",
       "    </tr>\n",
       "  </thead>\n",
       "  <tbody>\n",
       "    <tr>\n",
       "      <th>932</th>\n",
       "      <td>Next Friday</td>\n",
       "      <td>0.265943</td>\n",
       "    </tr>\n",
       "    <tr>\n",
       "      <th>140</th>\n",
       "      <td>Bad Company</td>\n",
       "      <td>0.261892</td>\n",
       "    </tr>\n",
       "    <tr>\n",
       "      <th>867</th>\n",
       "      <td>Milk Money</td>\n",
       "      <td>0.259989</td>\n",
       "    </tr>\n",
       "    <tr>\n",
       "      <th>361</th>\n",
       "      <td>Deuce Bigalow: Male Gigolo</td>\n",
       "      <td>0.250894</td>\n",
       "    </tr>\n",
       "    <tr>\n",
       "      <th>527</th>\n",
       "      <td>Georgia Rule</td>\n",
       "      <td>0.250723</td>\n",
       "    </tr>\n",
       "    <tr>\n",
       "      <th>1175</th>\n",
       "      <td>Soldier</td>\n",
       "      <td>0.245642</td>\n",
       "    </tr>\n",
       "    <tr>\n",
       "      <th>1164</th>\n",
       "      <td>Sleepover</td>\n",
       "      <td>0.240277</td>\n",
       "    </tr>\n",
       "    <tr>\n",
       "      <th>916</th>\n",
       "      <td>My Fellow Americans</td>\n",
       "      <td>0.239758</td>\n",
       "    </tr>\n",
       "    <tr>\n",
       "      <th>811</th>\n",
       "      <td>Lost &amp; Found</td>\n",
       "      <td>0.227661</td>\n",
       "    </tr>\n",
       "    <tr>\n",
       "      <th>1632</th>\n",
       "      <td>Twisted</td>\n",
       "      <td>0.227563</td>\n",
       "    </tr>\n",
       "    <tr>\n",
       "      <th>1296</th>\n",
       "      <td>The Bachelor</td>\n",
       "      <td>0.224735</td>\n",
       "    </tr>\n",
       "    <tr>\n",
       "      <th>627</th>\n",
       "      <td>House Arrest</td>\n",
       "      <td>0.223951</td>\n",
       "    </tr>\n",
       "    <tr>\n",
       "      <th>391</th>\n",
       "      <td>Dracula: Dead and Loving It</td>\n",
       "      <td>0.220098</td>\n",
       "    </tr>\n",
       "    <tr>\n",
       "      <th>9</th>\n",
       "      <td>3 Strikes</td>\n",
       "      <td>0.216798</td>\n",
       "    </tr>\n",
       "    <tr>\n",
       "      <th>139</th>\n",
       "      <td>Bad Boys</td>\n",
       "      <td>0.211745</td>\n",
       "    </tr>\n",
       "    <tr>\n",
       "      <th>288</th>\n",
       "      <td>Color of Night</td>\n",
       "      <td>0.210623</td>\n",
       "    </tr>\n",
       "    <tr>\n",
       "      <th>1669</th>\n",
       "      <td>Virus</td>\n",
       "      <td>0.198833</td>\n",
       "    </tr>\n",
       "    <tr>\n",
       "      <th>1661</th>\n",
       "      <td>Vegas Vacation</td>\n",
       "      <td>0.178997</td>\n",
       "    </tr>\n",
       "    <tr>\n",
       "      <th>1205</th>\n",
       "      <td>Spy Hard</td>\n",
       "      <td>0.178794</td>\n",
       "    </tr>\n",
       "    <tr>\n",
       "      <th>152</th>\n",
       "      <td>Basic Instinct 2</td>\n",
       "      <td>0.172296</td>\n",
       "    </tr>\n",
       "  </tbody>\n",
       "</table>\n",
       "</div>"
      ],
      "text/plain": [
       "                            movie  prob_fresh\n",
       "932                   Next Friday    0.265943\n",
       "140                   Bad Company    0.261892\n",
       "867                    Milk Money    0.259989\n",
       "361    Deuce Bigalow: Male Gigolo    0.250894\n",
       "527                  Georgia Rule    0.250723\n",
       "1175                      Soldier    0.245642\n",
       "1164                    Sleepover    0.240277\n",
       "916           My Fellow Americans    0.239758\n",
       "811                  Lost & Found    0.227661\n",
       "1632                      Twisted    0.227563\n",
       "1296                 The Bachelor    0.224735\n",
       "627                  House Arrest    0.223951\n",
       "391   Dracula: Dead and Loving It    0.220098\n",
       "9                       3 Strikes    0.216798\n",
       "139                      Bad Boys    0.211745\n",
       "288                Color of Night    0.210623\n",
       "1669                        Virus    0.198833\n",
       "1661               Vegas Vacation    0.178997\n",
       "1205                     Spy Hard    0.178794\n",
       "152              Basic Instinct 2    0.172296"
      ]
     },
     "execution_count": 46,
     "metadata": {},
     "output_type": "execute_result"
    }
   ],
   "source": [
    "pp_movies.tail(20)"
   ]
  },
  {
   "cell_type": "markdown",
   "metadata": {
    "collapsed": true
   },
   "source": [
    "---\n",
    "\n",
    "## [Bonus] Take a look at some other classifiers for this problem"
   ]
  },
  {
   "cell_type": "code",
   "execution_count": null,
   "metadata": {
    "collapsed": true
   },
   "outputs": [],
   "source": []
  }
 ],
 "metadata": {
  "anaconda-cloud": {},
  "kernelspec": {
   "display_name": "Python [default]",
   "language": "python",
   "name": "python2"
  },
  "language_info": {
   "codemirror_mode": {
    "name": "ipython",
    "version": 2
   },
   "file_extension": ".py",
   "mimetype": "text/x-python",
   "name": "python",
   "nbconvert_exporter": "python",
   "pygments_lexer": "ipython2",
   "version": "2.7.12"
  }
 },
 "nbformat": 4,
 "nbformat_minor": 0
}
