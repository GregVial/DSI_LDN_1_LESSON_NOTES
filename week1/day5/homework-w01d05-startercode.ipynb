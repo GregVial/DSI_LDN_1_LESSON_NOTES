{
 "cells": [
  {
   "cell_type": "markdown",
   "metadata": {},
   "source": [
    "# Homework w01d05 - Python list comprehension - starter code\n",
    "\n",
    "## 1. Write a Python program that accepts a hyphen separated sequence of words as input and prints the words in a hyphen-separated sequence after sorting them alphabetically\n",
    "\n",
    "Example: \n",
    "green-red-yellow-black-white $\\rightarrow$ black-green-red-white-yellow"
   ]
  },
  {
   "cell_type": "code",
   "execution_count": 49,
   "metadata": {
    "collapsed": false
   },
   "outputs": [
    {
     "data": {
      "text/plain": [
       "'black-green-red-white-yellow'"
      ]
     },
     "execution_count": 49,
     "metadata": {},
     "output_type": "execute_result"
    }
   ],
   "source": [
    "# put your code here\n",
    "def sort_(seq_words):\n",
    "    # Split input into nultiple words list\n",
    "    split_list = seq_words.split(\"-\")\n",
    "    # Sort list of words\n",
    "    split_list.sort()\n",
    "    # bring together list of words into a string\n",
    "    sorted_words = \"-\".join(split_list)\n",
    "    return(sorted_words)\n",
    "    \n",
    "\n",
    "input = \"green-red-yellow-black-white\"\n",
    "sort_(input)"
   ]
  },
  {
   "cell_type": "markdown",
   "metadata": {},
   "source": [
    "## 2. Using a for loop, create a list of integers with the length of each word in a given sentence, but only if the word is not the word \"the\" or \"The\""
   ]
  },
  {
   "cell_type": "code",
   "execution_count": 50,
   "metadata": {
    "collapsed": false
   },
   "outputs": [
    {
     "data": {
      "text/plain": [
       "[5,\n",
       " 1,\n",
       " 3,\n",
       " 4,\n",
       " 6,\n",
       " 1,\n",
       " 4,\n",
       " 2,\n",
       " 8,\n",
       " 4,\n",
       " 3,\n",
       " 6,\n",
       " 2,\n",
       " 4,\n",
       " 4,\n",
       " 2,\n",
       " 1,\n",
       " 5,\n",
       " 8,\n",
       " 3,\n",
       " 4,\n",
       " 2,\n",
       " 3,\n",
       " 4,\n",
       " 2,\n",
       " 3,\n",
       " 3,\n",
       " 4,\n",
       " 3,\n",
       " 2,\n",
       " 3,\n",
       " 0]"
      ]
     },
     "execution_count": 50,
     "metadata": {},
     "output_type": "execute_result"
    }
   ],
   "source": [
    "# put your code here\n",
    "import re\n",
    "def calc_length(sentence):\n",
    "    # Remove non alphabetical characters\n",
    "    sentence = re.sub(r'[^a-zA-Z]', r' ', sentence)\n",
    "    # Remove additional white spaces\n",
    "    sentence = re.sub(r'\\s+', r' ', sentence)\n",
    "    # Split sentence into list of words\n",
    "    list_words = sentence.split(\" \")\n",
    "    # Calculate the length of each word using map\n",
    "    res = map(lambda x: len(x),list_words)\n",
    "    return res\n",
    "    \n",
    "\n",
    "input = 'Using a for loop, create a list of integers with the length of each word in a given sentence, but only if the word is not the word \"the\" or \"The\"'\n",
    "calc_length(input)"
   ]
  },
  {
   "cell_type": "markdown",
   "metadata": {},
   "source": [
    "## 3. Now use a list comprehension for the same task as in 2"
   ]
  },
  {
   "cell_type": "code",
   "execution_count": 51,
   "metadata": {
    "collapsed": false
   },
   "outputs": [
    {
     "data": {
      "text/plain": [
       "[5,\n",
       " 1,\n",
       " 3,\n",
       " 4,\n",
       " 6,\n",
       " 1,\n",
       " 4,\n",
       " 2,\n",
       " 8,\n",
       " 4,\n",
       " 3,\n",
       " 6,\n",
       " 2,\n",
       " 4,\n",
       " 4,\n",
       " 2,\n",
       " 1,\n",
       " 5,\n",
       " 8,\n",
       " 3,\n",
       " 4,\n",
       " 2,\n",
       " 3,\n",
       " 4,\n",
       " 2,\n",
       " 3,\n",
       " 3,\n",
       " 4,\n",
       " 3,\n",
       " 2,\n",
       " 3,\n",
       " 0]"
      ]
     },
     "execution_count": 51,
     "metadata": {},
     "output_type": "execute_result"
    }
   ],
   "source": [
    "# put your code here\n",
    "import re\n",
    "def calc_length(sentence):\n",
    "    # Remove non alphabetical characters\n",
    "    sentence = re.sub(r'[^a-zA-Z]', r' ', sentence)\n",
    "    # Remove additional white spaces\n",
    "    sentence = re.sub(r'\\s+', r' ', sentence)\n",
    "    # Split sentence into list of words\n",
    "    list_words = sentence.split(\" \")\n",
    "    # Calculate the length of each word using map\n",
    "    res = [len(x) for x in list_words]\n",
    "    return res\n",
    "    \n",
    "\n",
    "input = 'Using a for loop, create a list of integers with the length of each word in a given sentence, but only if the word is not the word \"the\" or \"The\"'\n",
    "calc_length(input)"
   ]
  },
  {
   "cell_type": "code",
   "execution_count": null,
   "metadata": {
    "collapsed": true
   },
   "outputs": [],
   "source": []
  }
 ],
 "metadata": {
  "anaconda-cloud": {},
  "kernelspec": {
   "display_name": "Python [default]",
   "language": "python",
   "name": "python2"
  },
  "language_info": {
   "codemirror_mode": {
    "name": "ipython",
    "version": 2
   },
   "file_extension": ".py",
   "mimetype": "text/x-python",
   "name": "python",
   "nbconvert_exporter": "python",
   "pygments_lexer": "ipython2",
   "version": "2.7.12"
  }
 },
 "nbformat": 4,
 "nbformat_minor": 0
}
