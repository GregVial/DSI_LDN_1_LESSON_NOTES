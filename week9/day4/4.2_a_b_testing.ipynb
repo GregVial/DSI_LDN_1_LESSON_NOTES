{
 "cells": [
  {
   "cell_type": "markdown",
   "metadata": {},
   "source": [
    "# ![](https://ga-dash.s3.amazonaws.com/production/assets/logo-9f88ae6c9c3871690e33280fcf557f33.png) Case Study: A/B Testing with pymc3\n",
    "\n",
    "Week 9 | Lab 4.2\n"
   ]
  },
  {
   "cell_type": "markdown",
   "metadata": {},
   "source": [
    "One of the most common applications of Bayesian analysis in industry is in A/B tests. In every major website you use it is likely that you have been part of an A/B test at some point and possibly even at any given time. A/B tests are essentially incrementally different versions of a product that are being tested on randomly selected users and evaluated on a performance metric. They are a good and widespread way to assess whether a proposed change will be beneficial, detrimental, or have no effect. To clarify, in an A/B test you would randomly assign some visitors to the site to one version of a page (group A) and some to another version (group B). Whichever performs better on your metric (click through rate, purchase, etc) then becomes the default. Gradually you hope to iterate towards a totally optimised webpage where every button is in the best position and every text as clear as it can be. Of course, this assumes that every customer responds the same way - there is a subdomain of such approaches where you actually show different categories of users different sites on an ongoing basis, but we will not get in to this and consider only the simpler (and more typical) case of which is the best overall version of a page/app.\n",
    "\n",
    "We have already seen much of the code and logic for this, but here we apply it to the specific context and hopefully add greater clarity through practice. If you find, for example, that when you move to a role in industry that your company is doing its A/B testing in a frequentist framework, you might want to approach them to discuss whether performing a Bayesian A/B testing might give them greater access to insight and allow them to make clear conclusions with fewer test subjects (and hence less time). This case study could help give you a framework from which to do that."
   ]
  },
  {
   "cell_type": "code",
   "execution_count": 1,
   "metadata": {
    "collapsed": true
   },
   "outputs": [],
   "source": [
    "from __future__ import division, print_function, unicode_literals\n",
    "%matplotlib inline\n",
    "import matplotlib.pyplot as plt\n",
    "import numpy as np\n",
    "import pandas as pd\n",
    "import seaborn as sns\n",
    "import pymc3 as pm"
   ]
  },
  {
   "cell_type": "markdown",
   "metadata": {},
   "source": [
    "### Load fitness app A/B test conversions data\n",
    "\n",
    "The dataset below contains information on user \"conversions\" on a fitness app on different \"arms\" of an A/B test. A conversion is whether or not a user performed a desired action or not (typically a purchase, or a click to the next part of the app).\n",
    "\n",
    "Arms are the different versions of a product in a currently running A/B test. A/B tests may also be referred to as split tests. The name A/B test does not necessarily imply only two splits.\n",
    "\n",
    "\n",
    "#### Data description\n",
    "\n",
    "The data has 6 columns:\n",
    "\n",
    "- arm: the version of the app this user was randomly assigned to\n",
    "- gender: male/female\n",
    "- age: age bins, one of 20-30, 30-40, 40-50\n",
    "- day: the day (total of 21 days)\n",
    "- fitness: the user's self reported fitness level from -5 to 5\n",
    "- converted: 1 if the user purchased the product, 0 if not\n",
    "    \n",
    "Each row is a unique user. "
   ]
  },
  {
   "cell_type": "code",
   "execution_count": 2,
   "metadata": {
    "collapsed": false
   },
   "outputs": [
    {
     "name": "stdout",
     "output_type": "stream",
     "text": [
      "(725, 7)\n"
     ]
    },
    {
     "data": {
      "text/html": [
       "<div>\n",
       "<table border=\"1\" class=\"dataframe\">\n",
       "  <thead>\n",
       "    <tr style=\"text-align: right;\">\n",
       "      <th></th>\n",
       "      <th>arm</th>\n",
       "      <th>gender</th>\n",
       "      <th>age</th>\n",
       "      <th>day</th>\n",
       "      <th>fitness</th>\n",
       "      <th>converted</th>\n",
       "      <th>male</th>\n",
       "    </tr>\n",
       "  </thead>\n",
       "  <tbody>\n",
       "    <tr>\n",
       "      <th>0</th>\n",
       "      <td>A</td>\n",
       "      <td>female</td>\n",
       "      <td>20-30</td>\n",
       "      <td>0</td>\n",
       "      <td>-2.0</td>\n",
       "      <td>0</td>\n",
       "      <td>0</td>\n",
       "    </tr>\n",
       "    <tr>\n",
       "      <th>1</th>\n",
       "      <td>A</td>\n",
       "      <td>female</td>\n",
       "      <td>40-50</td>\n",
       "      <td>0</td>\n",
       "      <td>3.0</td>\n",
       "      <td>0</td>\n",
       "      <td>0</td>\n",
       "    </tr>\n",
       "    <tr>\n",
       "      <th>2</th>\n",
       "      <td>A</td>\n",
       "      <td>female</td>\n",
       "      <td>30-40</td>\n",
       "      <td>0</td>\n",
       "      <td>-5.0</td>\n",
       "      <td>0</td>\n",
       "      <td>0</td>\n",
       "    </tr>\n",
       "    <tr>\n",
       "      <th>3</th>\n",
       "      <td>A</td>\n",
       "      <td>female</td>\n",
       "      <td>20-30</td>\n",
       "      <td>0</td>\n",
       "      <td>-4.0</td>\n",
       "      <td>0</td>\n",
       "      <td>0</td>\n",
       "    </tr>\n",
       "    <tr>\n",
       "      <th>4</th>\n",
       "      <td>A</td>\n",
       "      <td>male</td>\n",
       "      <td>30-40</td>\n",
       "      <td>0</td>\n",
       "      <td>1.0</td>\n",
       "      <td>1</td>\n",
       "      <td>1</td>\n",
       "    </tr>\n",
       "  </tbody>\n",
       "</table>\n",
       "</div>"
      ],
      "text/plain": [
       "  arm  gender    age  day  fitness  converted  male\n",
       "0   A  female  20-30    0     -2.0          0     0\n",
       "1   A  female  40-50    0      3.0          0     0\n",
       "2   A  female  30-40    0     -5.0          0     0\n",
       "3   A  female  20-30    0     -4.0          0     0\n",
       "4   A    male  30-40    0      1.0          1     1"
      ]
     },
     "execution_count": 2,
     "metadata": {},
     "output_type": "execute_result"
    }
   ],
   "source": [
    "data = pd.read_csv('./assets/datasets/split_test_data.csv')\n",
    "data['male'] = data.gender.map(lambda x: 1 if x == 'male' else 0)\n",
    "print(data.shape)\n",
    "data.head()"
   ]
  },
  {
   "cell_type": "markdown",
   "metadata": {},
   "source": [
    "### 1.1 Examine the split test arm \"schedule\"\n",
    "\n",
    "When a new arm is introduced into an A/B test, it is generally tested at a low percentage of users initially before assignment becomes balanced between the arms. This ensures that if something is terribly wrong with one of the arms it does not ruin the experience for many potential customers. Find the counts assigned to each split test arm by day. Plot a chart to examine this."
   ]
  },
  {
   "cell_type": "code",
   "execution_count": 43,
   "metadata": {
    "collapsed": false,
    "scrolled": true
   },
   "outputs": [
    {
     "data": {
      "text/html": [
       "<div>\n",
       "<table border=\"1\" class=\"dataframe\">\n",
       "  <thead>\n",
       "    <tr>\n",
       "      <th></th>\n",
       "      <th colspan=\"3\" halign=\"left\">fitness</th>\n",
       "    </tr>\n",
       "    <tr>\n",
       "      <th>arm</th>\n",
       "      <th>A</th>\n",
       "      <th>B</th>\n",
       "      <th>C</th>\n",
       "    </tr>\n",
       "    <tr>\n",
       "      <th>day</th>\n",
       "      <th></th>\n",
       "      <th></th>\n",
       "      <th></th>\n",
       "    </tr>\n",
       "  </thead>\n",
       "  <tbody>\n",
       "    <tr>\n",
       "      <th>0</th>\n",
       "      <td>26.0</td>\n",
       "      <td>NaN</td>\n",
       "      <td>NaN</td>\n",
       "    </tr>\n",
       "    <tr>\n",
       "      <th>1</th>\n",
       "      <td>40.0</td>\n",
       "      <td>4.0</td>\n",
       "      <td>NaN</td>\n",
       "    </tr>\n",
       "    <tr>\n",
       "      <th>2</th>\n",
       "      <td>30.0</td>\n",
       "      <td>3.0</td>\n",
       "      <td>NaN</td>\n",
       "    </tr>\n",
       "    <tr>\n",
       "      <th>3</th>\n",
       "      <td>30.0</td>\n",
       "      <td>3.0</td>\n",
       "      <td>NaN</td>\n",
       "    </tr>\n",
       "    <tr>\n",
       "      <th>4</th>\n",
       "      <td>18.0</td>\n",
       "      <td>18.0</td>\n",
       "      <td>NaN</td>\n",
       "    </tr>\n",
       "  </tbody>\n",
       "</table>\n",
       "</div>"
      ],
      "text/plain": [
       "    fitness          \n",
       "arm       A     B   C\n",
       "day                  \n",
       "0      26.0   NaN NaN\n",
       "1      40.0   4.0 NaN\n",
       "2      30.0   3.0 NaN\n",
       "3      30.0   3.0 NaN\n",
       "4      18.0  18.0 NaN"
      ]
     },
     "execution_count": 43,
     "metadata": {},
     "output_type": "execute_result"
    }
   ],
   "source": [
    "split_schedule = pd.pivot_table(data, index=[\"day\"], columns=[\"arm\"], values=[\"fitness\"], aggfunc=len)\n",
    "split_schedule.head(5)"
   ]
  },
  {
   "cell_type": "code",
   "execution_count": 42,
   "metadata": {
    "collapsed": false
   },
   "outputs": [
    {
     "data": {
      "text/plain": [
       "<matplotlib.axes._subplots.AxesSubplot at 0x11b155450>"
      ]
     },
     "execution_count": 42,
     "metadata": {},
     "output_type": "execute_result"
    },
    {
     "data": {
      "image/png": "[encoded data removed]",
      "text/plain": [
       "<matplotlib.figure.Figure at 0x119f26d10>"
      ]
     },
     "metadata": {},
     "output_type": "display_data"
    }
   ],
   "source": [
    "split_schedule.plot.bar(stacked=True)"
   ]
  },
  {
   "cell_type": "markdown",
   "metadata": {},
   "source": [
    "**Check:** how many arms are there?"
   ]
  },
  {
   "cell_type": "markdown",
   "metadata": {},
   "source": [
    "### 1.2 Look at mean conversion rate overall and by arm"
   ]
  },
  {
   "cell_type": "code",
   "execution_count": 25,
   "metadata": {
    "collapsed": false
   },
   "outputs": [
    {
     "data": {
      "text/html": [
       "<div>\n",
       "<table border=\"1\" class=\"dataframe\">\n",
       "  <thead>\n",
       "    <tr style=\"text-align: right;\">\n",
       "      <th></th>\n",
       "      <th>converted</th>\n",
       "    </tr>\n",
       "    <tr>\n",
       "      <th>arm</th>\n",
       "      <th></th>\n",
       "    </tr>\n",
       "  </thead>\n",
       "  <tbody>\n",
       "    <tr>\n",
       "      <th>A</th>\n",
       "      <td>0.185393</td>\n",
       "    </tr>\n",
       "    <tr>\n",
       "      <th>B</th>\n",
       "      <td>0.116667</td>\n",
       "    </tr>\n",
       "    <tr>\n",
       "      <th>C</th>\n",
       "      <td>0.255814</td>\n",
       "    </tr>\n",
       "    <tr>\n",
       "      <th>All</th>\n",
       "      <td>0.175172</td>\n",
       "    </tr>\n",
       "  </tbody>\n",
       "</table>\n",
       "</div>"
      ],
      "text/plain": [
       "     converted\n",
       "arm           \n",
       "A     0.185393\n",
       "B     0.116667\n",
       "C     0.255814\n",
       "All   0.175172"
      ]
     },
     "execution_count": 25,
     "metadata": {},
     "output_type": "execute_result"
    }
   ],
   "source": [
    "mean_conversion_rates = pd.pivot_table(data, index=[\"arm\"], values=[\"converted\"], aggfunc=\"mean\", margins=True)\n",
    "mean_conversion_rates"
   ]
  },
  {
   "cell_type": "markdown",
   "metadata": {},
   "source": [
    "### 1.3 Look at overall conversion rate differences along age, gender, and fitness"
   ]
  },
  {
   "cell_type": "code",
   "execution_count": 32,
   "metadata": {
    "collapsed": false
   },
   "outputs": [
    {
     "data": {
      "text/html": [
       "<div>\n",
       "<table border=\"1\" class=\"dataframe\">\n",
       "  <thead>\n",
       "    <tr style=\"text-align: right;\">\n",
       "      <th></th>\n",
       "      <th>converted</th>\n",
       "    </tr>\n",
       "    <tr>\n",
       "      <th>age</th>\n",
       "      <th></th>\n",
       "    </tr>\n",
       "  </thead>\n",
       "  <tbody>\n",
       "    <tr>\n",
       "      <th>20-30</th>\n",
       "      <td>0.253112</td>\n",
       "    </tr>\n",
       "    <tr>\n",
       "      <th>30-40</th>\n",
       "      <td>0.155738</td>\n",
       "    </tr>\n",
       "    <tr>\n",
       "      <th>40-50</th>\n",
       "      <td>0.116667</td>\n",
       "    </tr>\n",
       "    <tr>\n",
       "      <th>All</th>\n",
       "      <td>0.175172</td>\n",
       "    </tr>\n",
       "  </tbody>\n",
       "</table>\n",
       "</div>"
      ],
      "text/plain": [
       "       converted\n",
       "age             \n",
       "20-30   0.253112\n",
       "30-40   0.155738\n",
       "40-50   0.116667\n",
       "All     0.175172"
      ]
     },
     "execution_count": 32,
     "metadata": {},
     "output_type": "execute_result"
    }
   ],
   "source": [
    "conversion_rate_age = pd.pivot_table(data, index=[\"age\"], values=[\"converted\"], aggfunc=\"mean\", margins=True)\n",
    "conversion_rate_age"
   ]
  },
  {
   "cell_type": "code",
   "execution_count": 33,
   "metadata": {
    "collapsed": false
   },
   "outputs": [
    {
     "data": {
      "text/html": [
       "<div>\n",
       "<table border=\"1\" class=\"dataframe\">\n",
       "  <thead>\n",
       "    <tr style=\"text-align: right;\">\n",
       "      <th></th>\n",
       "      <th>converted</th>\n",
       "    </tr>\n",
       "    <tr>\n",
       "      <th>gender</th>\n",
       "      <th></th>\n",
       "    </tr>\n",
       "  </thead>\n",
       "  <tbody>\n",
       "    <tr>\n",
       "      <th>female</th>\n",
       "      <td>0.206897</td>\n",
       "    </tr>\n",
       "    <tr>\n",
       "      <th>male</th>\n",
       "      <td>0.145889</td>\n",
       "    </tr>\n",
       "    <tr>\n",
       "      <th>All</th>\n",
       "      <td>0.175172</td>\n",
       "    </tr>\n",
       "  </tbody>\n",
       "</table>\n",
       "</div>"
      ],
      "text/plain": [
       "        converted\n",
       "gender           \n",
       "female   0.206897\n",
       "male     0.145889\n",
       "All      0.175172"
      ]
     },
     "execution_count": 33,
     "metadata": {},
     "output_type": "execute_result"
    }
   ],
   "source": [
    "conversion_rate_gender = pd.pivot_table(data, index=[\"gender\"], values=[\"converted\"], aggfunc=\"mean\", margins=True)\n",
    "conversion_rate_gender"
   ]
  },
  {
   "cell_type": "code",
   "execution_count": 34,
   "metadata": {
    "collapsed": false
   },
   "outputs": [
    {
     "data": {
      "text/html": [
       "<div>\n",
       "<table border=\"1\" class=\"dataframe\">\n",
       "  <thead>\n",
       "    <tr style=\"text-align: right;\">\n",
       "      <th></th>\n",
       "      <th>converted</th>\n",
       "    </tr>\n",
       "    <tr>\n",
       "      <th>fitness</th>\n",
       "      <th></th>\n",
       "    </tr>\n",
       "  </thead>\n",
       "  <tbody>\n",
       "    <tr>\n",
       "      <th>-5.0</th>\n",
       "      <td>0.055556</td>\n",
       "    </tr>\n",
       "    <tr>\n",
       "      <th>-4.0</th>\n",
       "      <td>0.026316</td>\n",
       "    </tr>\n",
       "    <tr>\n",
       "      <th>-3.0</th>\n",
       "      <td>0.073171</td>\n",
       "    </tr>\n",
       "    <tr>\n",
       "      <th>-2.0</th>\n",
       "      <td>0.148649</td>\n",
       "    </tr>\n",
       "    <tr>\n",
       "      <th>-1.0</th>\n",
       "      <td>0.086957</td>\n",
       "    </tr>\n",
       "    <tr>\n",
       "      <th>0.0</th>\n",
       "      <td>0.179487</td>\n",
       "    </tr>\n",
       "    <tr>\n",
       "      <th>1.0</th>\n",
       "      <td>0.161290</td>\n",
       "    </tr>\n",
       "    <tr>\n",
       "      <th>2.0</th>\n",
       "      <td>0.171053</td>\n",
       "    </tr>\n",
       "    <tr>\n",
       "      <th>3.0</th>\n",
       "      <td>0.276923</td>\n",
       "    </tr>\n",
       "    <tr>\n",
       "      <th>4.0</th>\n",
       "      <td>0.391892</td>\n",
       "    </tr>\n",
       "    <tr>\n",
       "      <th>5.0</th>\n",
       "      <td>0.484848</td>\n",
       "    </tr>\n",
       "    <tr>\n",
       "      <th>All</th>\n",
       "      <td>0.175172</td>\n",
       "    </tr>\n",
       "  </tbody>\n",
       "</table>\n",
       "</div>"
      ],
      "text/plain": [
       "         converted\n",
       "fitness           \n",
       "-5.0      0.055556\n",
       "-4.0      0.026316\n",
       "-3.0      0.073171\n",
       "-2.0      0.148649\n",
       "-1.0      0.086957\n",
       "0.0       0.179487\n",
       "1.0       0.161290\n",
       "2.0       0.171053\n",
       "3.0       0.276923\n",
       "4.0       0.391892\n",
       "5.0       0.484848\n",
       "All       0.175172"
      ]
     },
     "execution_count": 34,
     "metadata": {},
     "output_type": "execute_result"
    }
   ],
   "source": [
    "conversion_rate_fitness = pd.pivot_table(data, index=[\"fitness\"], values=[\"converted\"], aggfunc=\"mean\", margins=True)\n",
    "conversion_rate_fitness"
   ]
  },
  {
   "cell_type": "markdown",
   "metadata": {},
   "source": [
    "## 2. Model conversion rates through day 5 with `pymc3`\n",
    "\n",
    "We will start by just modeling the conversion rate distributions for arms A and B through to day 5. By day 5, arm C has not been introduced yet and so there are still just 2 arms.\n",
    "\n",
    "### 2.1 Subset the data to the first 5 days"
   ]
  },
  {
   "cell_type": "code",
   "execution_count": 35,
   "metadata": {
    "collapsed": false
   },
   "outputs": [
    {
     "data": {
      "text/plain": [
       "(172, 7)"
      ]
     },
     "execution_count": 35,
     "metadata": {},
     "output_type": "execute_result"
    }
   ],
   "source": [
    "first_five_days = data[data[\"day\"]<5]\n",
    "first_five_days.shape"
   ]
  },
  {
   "cell_type": "markdown",
   "metadata": {},
   "source": [
    "### 2.2 Set up a `pymc3` model and uniform priors for the probabilities of conversion for arms A and B\n",
    "\n",
    "Recall that `pymc3` uses the `with ...` syntax for defining models. The first step in setting up a new model is to define the model as the \"context\" like so:\n",
    "\n",
    ">```python\n",
    "day5_model=pm.Model()\n",
    "with day5_model:\n",
    "    #\n",
    "```\n",
    "\n",
    "We are going to model the _probability distributions for conversion rates for arms A and B._ As always with Bayesian statistics, we need to define prior distributions for our belief about these probabilities/rates of conversion per arm. Let's say we have no belief whatsoever about rates, and so we will set an uninformative, flat prior over probabilities from 0 to 1 for both arms. This is equivalent to saying that we believe all conversion rates to be equally likely for both arms. This prior will then not have an influence on the posterior outcome (but we still define it).\n",
    "\n",
    "The syntax for setting up this flat prior is:\n",
    "\n",
    ">```python\n",
    "arm_A_prior = pm.Uniform('A_prior', lower=0, upper=1)\n",
    "```\n",
    "\n",
    "Set up the priors for both arms inside the `with ...` model block."
   ]
  },
  {
   "cell_type": "code",
   "execution_count": 38,
   "metadata": {
    "collapsed": false
   },
   "outputs": [
    {
     "name": "stderr",
     "output_type": "stream",
     "text": [
      "Applied interval-transform to A_prior and added transformed A_prior_interval_ to model.\n",
      "Applied interval-transform to B_prior and added transformed B_prior_interval_ to model.\n"
     ]
    }
   ],
   "source": [
    "day5_model = pm.Model()\n",
    "with day5_model:\n",
    "    arm_A_prior = pm.Uniform('A_prior', lower=0, upper=1)\n",
    "    arm_B_prior = pm.Uniform('B_prior', lower=0, upper=1)"
   ]
  },
  {
   "cell_type": "markdown",
   "metadata": {},
   "source": [
    "### 3.2 Set up `pm.Bernoulli` distributions to model conversions for arms A and B\n",
    "\n",
    "Now that you've initialised your model, your `with` statements will be\n",
    "\n",
    ">```python\n",
    "with day5_model:\n",
    "    #\n",
    "```\n",
    "\n",
    "Be careful not to re-define the model with `pm.Model()` or it will wipe the uniform priors you set before! We are now going to set up the \"likelihood\" portion of the model. This is going to model the $P(data\\;|\\;\\theta)$ part of Bayes theorem. Our conversions are represented by a vector of 1s and 0s denoting whether or not the user converted or not. This is hence a \"Bernoulli\" process and pymc3 has an approprite function to handle it:\n",
    "\n",
    ">```python\n",
    "A_conversions = pm.Bernoulli('A_conversions', p=arm_A_prior, observed=arm_A_conversions)\n",
    "```\n",
    "\n",
    "`p=` (probability of success) is set to the prior for the arm that you defined in the last section. `observed=` should be set to the `converted` values for that arm specifically in the data. By giving it an `observed` parameter, we are telling pymc3 that we want this to evaluate the likelihood of our data (the conversions) against models represented by the `p=` probability argument. We assign `p=` to be our prior belief about conversion rates in the first instance for that arm because we then want to update this belief (convert to posterior) based on the conversion data we have observed for that arm."
   ]
  },
  {
   "cell_type": "code",
   "execution_count": 45,
   "metadata": {
    "collapsed": false
   },
   "outputs": [
    {
     "data": {
      "text/plain": [
       "0      False\n",
       "1      False\n",
       "2      False\n",
       "3      False\n",
       "4       True\n",
       "5      False\n",
       "6      False\n",
       "7      False\n",
       "8      False\n",
       "9      False\n",
       "10      True\n",
       "11     False\n",
       "12     False\n",
       "13     False\n",
       "14     False\n",
       "15     False\n",
       "16     False\n",
       "17     False\n",
       "18      True\n",
       "19     False\n",
       "20     False\n",
       "21     False\n",
       "22      True\n",
       "23     False\n",
       "24     False\n",
       "25     False\n",
       "26     False\n",
       "27     False\n",
       "28     False\n",
       "29     False\n",
       "       ...  \n",
       "142    False\n",
       "143    False\n",
       "144    False\n",
       "145    False\n",
       "146    False\n",
       "147    False\n",
       "148    False\n",
       "149    False\n",
       "150    False\n",
       "151    False\n",
       "152    False\n",
       "153    False\n",
       "154    False\n",
       "155    False\n",
       "156    False\n",
       "157    False\n",
       "158    False\n",
       "159    False\n",
       "160    False\n",
       "161    False\n",
       "162    False\n",
       "163    False\n",
       "164    False\n",
       "165    False\n",
       "166    False\n",
       "167    False\n",
       "168    False\n",
       "169    False\n",
       "170    False\n",
       "171    False\n",
       "dtype: bool"
      ]
     },
     "execution_count": 45,
     "metadata": {},
     "output_type": "execute_result"
    }
   ],
   "source": [
    "arm_A_conversions = (first_five_days[\"arm\"] == \"A\") & (first_five_days[\"converted\"] == 1)\n",
    "arm_A_conversions"
   ]
  },
  {
   "cell_type": "code",
   "execution_count": null,
   "metadata": {
    "collapsed": false
   },
   "outputs": [],
   "source": [
    "with day5_model:\n",
    "    A_conversions = pm.Bernoulli('A_conversions', p=arm_A_prior, observed=arm_A_conversions)"
   ]
  },
  {
   "cell_type": "code",
   "execution_count": null,
   "metadata": {
    "collapsed": true
   },
   "outputs": [],
   "source": []
  },
  {
   "cell_type": "markdown",
   "metadata": {},
   "source": [
    "### 3.3 Fit the model using MCMC\n",
    "\n",
    "Now that we've set up the prior distributions and likelihoods, we can actually fit the model. Below is code that will run MCMC on the model we have parameterised:\n",
    "\n",
    ">```python\n",
    "with day5_model:\n",
    "    start = pm.find_MAP()\n",
    "    trace = pm.sample(10000, start=start)\n",
    "```\n",
    "\n",
    "Again you use the context `with day5_model:` to run code for your model.\n",
    "\n",
    "`start = pm.find_MAP()` will try to find a good starting point for the MCMC sampling process. This means that your model will converge on the \"likely\" area much faster (though it makes the fitting slower initially). We skipped over this when we looked at pymc3 previously and stated you would have to input some starting point randomly. This function is an attempt to find a sensible starting point that is likely to be close to the true value (it stands for maximum aposteriori estimate).\n",
    "\n",
    "`trace = pm.sample(10000, start=start)` uses the sampling method in pymc3 to perform 10,000 MCMC sampling iterations. This will automatically assign the NUTS sampler for you, which is more advanced but actually slower than the Metropolis-Hastings sampling we covered in class. The dataset is small so the speed shouldn't be so noticeable. You can optionally set the sampler to Metropolis with the keyword in the `pm.sample(step=pm.Metropolis())` When this completes, the `trace` variable now contains the posterior samples for the distributions we specified while constructing the model.\n",
    "\n",
    ">```python\n",
    "# We defined our arm A prior distribution to be uniform and named it 'arm_A_prior'. \n",
    "# The pm.sample() procedure converted this into our posterior belief for the rate\n",
    "# of conversions in arm A. You can access these posterior samples using the name\n",
    "# you gave the variable when you created it:\n",
    "#\n",
    "trace['arm_A_prior']\n",
    "#\n",
    "# this will be a vector of values that are different potential rates of conversion\n",
    "# for arm A. A histogram of these rates defines, roughly, the posterior probability\n",
    "# distribution for the arm A rates after we consider the data we have collected.\n",
    "```"
   ]
  },
  {
   "cell_type": "code",
   "execution_count": null,
   "metadata": {
    "collapsed": false
   },
   "outputs": [],
   "source": []
  },
  {
   "cell_type": "code",
   "execution_count": null,
   "metadata": {
    "collapsed": true
   },
   "outputs": [],
   "source": []
  },
  {
   "cell_type": "markdown",
   "metadata": {},
   "source": [
    "### 3.4 Use `pm.traceplot` to look at your posterior distributions\n",
    "\n",
    "The `pm.traceplot()` function accepts the trace variable from your model sampling and will plot out the posterior distributions for all of the distributions you defined. Recall it is best practice to get rid of a portion of the first samples; after some iterations the MCMC sampling procedure will make its way to the most likely region."
   ]
  },
  {
   "cell_type": "code",
   "execution_count": null,
   "metadata": {
    "collapsed": false,
    "scrolled": true
   },
   "outputs": [],
   "source": []
  },
  {
   "cell_type": "code",
   "execution_count": null,
   "metadata": {
    "collapsed": true
   },
   "outputs": [],
   "source": []
  },
  {
   "cell_type": "markdown",
   "metadata": {},
   "source": [
    "**Check:** what are the left and right hand side plots return by the traceplot function telling you?"
   ]
  },
  {
   "cell_type": "markdown",
   "metadata": {},
   "source": [
    "### 3.5 Write a function to plot your data distributions using `sns.distplot`\n",
    "\n",
    "Your function should:\n",
    "\n",
    "1. Accept the trace values to plot as an argument.\n",
    "- Accept a list of names to label each trace.\n",
    "- Plot the traces on the same axis using `sns.distplot(...)` with `kde=True` in different colors for each distribution.\n",
    "- Have a legend that labels the distributions.\n",
    "\n",
    "Say you had defined a prior\n",
    "\n",
    ">```python\n",
    "A_p = pm.Uniform('A_prob', lower=0, upper=1)\n",
    "```\n",
    "\n",
    "and then fit the model using `pm.sample(...)` like so\n",
    "\n",
    ">```python\n",
    "with model:\n",
    "    start = pm.find_MAP()\n",
    "    trace = pm.sample(10000, start=start)\n",
    "```\n",
    "\n",
    "The `trace` variable now contains the samples of your posterior distribution for `A_prob` (and every other prior distribution that was converted to a posterior during the sampling process). You can access the values like so:\n",
    "\n",
    ">```python\n",
    "A_prob_trace_values = trace['A_prob']\n",
    "```\n",
    "\n",
    "You'll typically want to discard a portion of the starting MCMC samples as the process may still be searching for the \"likely\" area during that start-up period:\n",
    "\n",
    ">```python\n",
    "A_prob_trace_values = trace[1000:]['A_prob']\n",
    "```\n",
    "\n",
    "\n",
    "\n",
    "You can pass an existing axis as a keyword argument into the function: `sns.distplot(..., ax=ax)` and it will plot the distribution on the existing axis. The distplot function also accepts a label argument: `sns.distplot(..., label=label)`. To show the legend, you can use `ax.legend(loc='upper right')` or whatever location you think looks best."
   ]
  },
  {
   "cell_type": "code",
   "execution_count": null,
   "metadata": {
    "collapsed": true
   },
   "outputs": [],
   "source": []
  },
  {
   "cell_type": "code",
   "execution_count": null,
   "metadata": {
    "collapsed": false
   },
   "outputs": [],
   "source": []
  },
  {
   "cell_type": "markdown",
   "metadata": {},
   "source": [
    "### 3.6 Re-build the same model, but add a `pm.Deterministic` variable that calculates the difference between A and B conversion rates\n",
    "\n",
    "For example, if I have two priors\n",
    "\n",
    ">```python\n",
    "A_p = pm.Uniform('A_prob', lower=0, upper=1)\n",
    "B_p = pm.Uniform('B_prob', lower=0, upper=1)\n",
    "```\n",
    "\n",
    "I can set up a \"deterministic\" variable that is some specific calculation I want to do on each iteration of the MCMC sampling process\n",
    "\n",
    ">```python\n",
    "AvB = pm.Deterministic('AvB', A_p - B_p)\n",
    "```\n",
    "\n",
    "This will be a distribution with the differences between `A_p` and `A_b` on each sampling iteration; a posterior of the differences. Recreate the model we built and ran above, but add the determinisic variable in the model definition before you do the sampling procedure. Recall that this allows us to describe the difference between the two groups. So in this case, you should reinitialise with `pm.Model()` and rebuild the model."
   ]
  },
  {
   "cell_type": "code",
   "execution_count": null,
   "metadata": {
    "collapsed": false
   },
   "outputs": [],
   "source": []
  },
  {
   "cell_type": "code",
   "execution_count": null,
   "metadata": {
    "collapsed": true
   },
   "outputs": [],
   "source": []
  },
  {
   "cell_type": "markdown",
   "metadata": {},
   "source": [
    "### 3.7 Plot the posterior of the differences between arms using `pm.plot_posterior`\n",
    "\n",
    "You can specify in `varnames` which posterior distribution you want to plot from your trace using the function, like so:\n",
    "\n",
    ">```python\n",
    "pm.plot_posterior(trace[5000:], varnames=['AvB'], color='#87ceeb', ref_val=0.)\n",
    "```\n",
    "\n",
    "In the above example, `ref_val=0` will plot a bar at 0 on the x-axis, which is useful for visualizing the proportion of the distribution of differences does not contain 0."
   ]
  },
  {
   "cell_type": "code",
   "execution_count": null,
   "metadata": {
    "collapsed": false,
    "scrolled": true
   },
   "outputs": [],
   "source": []
  },
  {
   "cell_type": "code",
   "execution_count": null,
   "metadata": {
    "collapsed": true
   },
   "outputs": [],
   "source": []
  },
  {
   "cell_type": "markdown",
   "metadata": {},
   "source": [
    "### 3.8 Based on the posterior distribution of differences, what can you say about the split test arms? What is the probability one is better than another?\n",
    "\n",
    "Take a look back at previous lessons/labs if you are unsure of the interpretation. Also try Chapter 2 of _Bayesian Methods for Hackers_ [here](http://nbviewer.jupyter.org/github/CamDavidsonPilon/Probabilistic-Programming-and-Bayesian-Methods-for-Hackers/tree/master/)"
   ]
  },
  {
   "cell_type": "code",
   "execution_count": null,
   "metadata": {
    "collapsed": true
   },
   "outputs": [],
   "source": []
  },
  {
   "cell_type": "code",
   "execution_count": null,
   "metadata": {
    "collapsed": false
   },
   "outputs": [],
   "source": []
  },
  {
   "cell_type": "markdown",
   "metadata": {},
   "source": [
    "## 4. Perform the same analysis through day 8\n",
    "\n",
    "We are going to do the same model-buidling process we went through above, but now on the data through day 8. **Subset to just the first 8 days:**"
   ]
  },
  {
   "cell_type": "code",
   "execution_count": null,
   "metadata": {
    "collapsed": false
   },
   "outputs": [],
   "source": []
  },
  {
   "cell_type": "code",
   "execution_count": null,
   "metadata": {
    "collapsed": true
   },
   "outputs": [],
   "source": []
  },
  {
   "cell_type": "markdown",
   "metadata": {},
   "source": [
    "### 4.1 Build and fit the day 8 model\n",
    "\n",
    "This will be the same specification as your model for day 5. Keep the deterministic distribution that models the differences between arm A's rate and arm B's rate that we added in the second half of question 3."
   ]
  },
  {
   "cell_type": "code",
   "execution_count": null,
   "metadata": {
    "collapsed": false,
    "scrolled": true
   },
   "outputs": [],
   "source": []
  },
  {
   "cell_type": "code",
   "execution_count": null,
   "metadata": {
    "collapsed": true
   },
   "outputs": [],
   "source": []
  },
  {
   "cell_type": "markdown",
   "metadata": {},
   "source": [
    "### 4.2 Plot the traces with `pm.traceplot`"
   ]
  },
  {
   "cell_type": "code",
   "execution_count": null,
   "metadata": {
    "collapsed": false
   },
   "outputs": [],
   "source": []
  },
  {
   "cell_type": "code",
   "execution_count": null,
   "metadata": {
    "collapsed": true
   },
   "outputs": [],
   "source": []
  },
  {
   "cell_type": "markdown",
   "metadata": {},
   "source": [
    "### 4.3 Plot the posterior distributions for arms A and B with your custom function"
   ]
  },
  {
   "cell_type": "code",
   "execution_count": null,
   "metadata": {
    "collapsed": false
   },
   "outputs": [],
   "source": []
  },
  {
   "cell_type": "code",
   "execution_count": null,
   "metadata": {
    "collapsed": true
   },
   "outputs": [],
   "source": []
  },
  {
   "cell_type": "markdown",
   "metadata": {},
   "source": [
    "### 4.4 Plot the posterior distribution of differences between A and B with `pm.plot_posterior`"
   ]
  },
  {
   "cell_type": "code",
   "execution_count": null,
   "metadata": {
    "collapsed": false,
    "scrolled": true
   },
   "outputs": [],
   "source": []
  },
  {
   "cell_type": "code",
   "execution_count": null,
   "metadata": {
    "collapsed": true
   },
   "outputs": [],
   "source": []
  },
  {
   "cell_type": "markdown",
   "metadata": {},
   "source": [
    "### 4.5 Again based on the posterior distribution of differences, what can you say about the split test arms now?\n"
   ]
  },
  {
   "cell_type": "code",
   "execution_count": null,
   "metadata": {
    "collapsed": true
   },
   "outputs": [],
   "source": []
  },
  {
   "cell_type": "code",
   "execution_count": null,
   "metadata": {
    "collapsed": true
   },
   "outputs": [],
   "source": []
  },
  {
   "cell_type": "markdown",
   "metadata": {},
   "source": [
    "# [Bonus] dealing with more than two arms\n",
    "\n",
    "This introduces a new concept of hierarchical modelling for multiple arm tests."
   ]
  },
  {
   "cell_type": "markdown",
   "metadata": {},
   "source": [
    "### 5.1 Build and fit the model\n",
    "\n",
    "You will now need to reinitialise the model again and add in capability for handling the third arm. You should also now calculate 3 \"deterministic\" variables that look at differences between the three arms:\n",
    "\n",
    "- `A` vs. `B`\n",
    "- `A` vs. `C`\n",
    "- `B` vs. `C`"
   ]
  },
  {
   "cell_type": "code",
   "execution_count": null,
   "metadata": {
    "collapsed": false
   },
   "outputs": [],
   "source": []
  },
  {
   "cell_type": "code",
   "execution_count": null,
   "metadata": {
    "collapsed": false
   },
   "outputs": [],
   "source": []
  },
  {
   "cell_type": "markdown",
   "metadata": {},
   "source": [
    "### 5.2 Plot the distributions for the arms using your custom function"
   ]
  },
  {
   "cell_type": "code",
   "execution_count": null,
   "metadata": {
    "collapsed": false
   },
   "outputs": [],
   "source": []
  },
  {
   "cell_type": "code",
   "execution_count": null,
   "metadata": {
    "collapsed": true
   },
   "outputs": [],
   "source": []
  },
  {
   "cell_type": "markdown",
   "metadata": {},
   "source": [
    "### 5.3 Plot the three difference measure posterior distributions using `pm.plot_posterior`"
   ]
  },
  {
   "cell_type": "code",
   "execution_count": null,
   "metadata": {
    "collapsed": false
   },
   "outputs": [],
   "source": []
  },
  {
   "cell_type": "code",
   "execution_count": null,
   "metadata": {
    "collapsed": true
   },
   "outputs": [],
   "source": []
  },
  {
   "cell_type": "markdown",
   "metadata": {},
   "source": [
    "## 6. Perform a hierarchical split test analysis for data through to day 11\n",
    "\n",
    "The problem with multiple comparisons is that if we take a standard AvB approach for every case we could overestimate the significance of differences. Thus far we have been constructing our models as **unpooled** models. This means that we are modeling the effect of arms A, B, and C on conversion rate independently. On the opposite end of this spectrum we would have a **pooled** model, where we would instead model A, B, and C with a single parameter. To do this, we would have to code the arms as numbers and then fit a single coefficient on them.\n",
    "\n",
    "In this case we can build a **partial pooling** model. In partial pooling, each arm gets its own effect like in the unpooled model, but they _share a prior for how they are parameterised_. This means that if we have an arm with very few observations like arm C, our estimation for the conversion rate of arm C will be a combination of the overall conversion rate across arms and the specific conversion rate for just arm C's data. The less data any arm has, the more its estimation will shrink towards the overall conversion rate. See [here](http://twiecki.github.io/blog/2014/03/17/bayesian-glms-3/) for another detailed overview of hierarchical modeling and partial pooling with pymc3. [This](http://sl8r000.github.io/ab_testing_statistics/use_a_hierarchical_model/) also has a good discussion.\n"
   ]
  },
  {
   "cell_type": "markdown",
   "metadata": {},
   "source": [
    "### 6.1 Build and fit the hierarchical model\n",
    "\n",
    "Now that we are building a hierarchical model, a few things are going to change. \n",
    "\n",
    "**1. Set up distributions for \"group level\" alpha and beta.**\n",
    "\n",
    "We need to have a prior for the \"overall\" or \"across-arm\" alpha and beta values that will define their Beta distributions. The prior/posterior for each arm is going to be modeled with a Beta distribution, which is a handy distribution for modelling probability of occurances or rates (we saw this before - when coupled to a binomial case then the posterior of a beta prior is also a beta). The beta distribution, as you may recall, is parameterised by an alpha and beta parameter:\n",
    "\n",
    "    alpha: successes + 1\n",
    "    beta: failures + 1\n",
    "    \n",
    "Where successes will be conversions and failures will be non-conversions. Arm A, for example, can be set up in pymc3 like:\n",
    "\n",
    ">```python\n",
    "A_prior = pm.Beta('A_prior', alpha=?, beta=?)\n",
    "```\n",
    "\n",
    "As you can see, question marks have beeb placed in the alpha and beta keyword assignments. If we set alpha=1 and beta=1, this would be a uniform prior for arm A, like we were doing before. We could set alpha and beta as higher values and have a stronger prior belief about conversions. But what we need for our hierarchical model is that the three priors for arms A, B, and C _share_ a prior belief about what alpha and beta should be. So we want something like\n",
    "\n",
    ">```python\n",
    "A_prior = pm.Beta('A_prior', alpha=group_alpha, beta=group_beta)\n",
    "B_prior = pm.Beta('B_prior', alpha=group_alpha, beta=group_beta)\n",
    "```\n",
    "\n",
    "Where `group_alpha` and `group_beta` are themselves prior distributions for likely values of alpha and beta. By having all the A, B, and C arm priors share the same alpha and beta prior beliefs, we tie them together and achieve partial pooling. For example, imagine that we have very few observations of successes and failures (like with arm C). Because there are so few datapoints, the prior will not change much from the distribution defined by `group_alpha` and `group_beta`.\n",
    "\n",
    "On the other hand, if we have a lot of observations like with arm A, the quantity of data will have a strong effect on the prior-to-posterior conversion and so our posterior will be more defined by the data tahn by `group_alpha` and `group_beta`. This means that with little data, the rate distribution for an arm shrinks towards the overall group conversion rate. To set up a group alpha and beta prior, we can use the `pm.Gamma()` distribution. The gamma distribution is strictly positive and in pymc we can define it with a mean and standard deviation. For the group level alpha, for example:\n",
    "\n",
    ">```python\n",
    "group_alpha = pm.Gamma('group_alpha', mu=10, sd=100)\n",
    "```\n",
    "\n",
    "The high standard deviation means that larger values are close in likelihood to smaller values, which is good since we want this to be fairly uninformative.\n",
    "\n",
    "\n",
    "#### Construct the hierarchical model\n",
    "\n",
    "Given all the information above, try to build the hierarchical model with group level alpha/beta priors and arm prior distributions defined by `pm.Beta` distributions that accept the group alpha and beta values as parameters. The rest of the model structure should essentially be the same as what you've been doing so far."
   ]
  },
  {
   "cell_type": "code",
   "execution_count": null,
   "metadata": {
    "collapsed": false
   },
   "outputs": [],
   "source": []
  },
  {
   "cell_type": "code",
   "execution_count": null,
   "metadata": {
    "collapsed": true
   },
   "outputs": [],
   "source": []
  },
  {
   "cell_type": "markdown",
   "metadata": {},
   "source": [
    "### 6.2 Plot the arm conversion rate distributions from your hierarchical model"
   ]
  },
  {
   "cell_type": "code",
   "execution_count": null,
   "metadata": {
    "collapsed": false
   },
   "outputs": [],
   "source": []
  },
  {
   "cell_type": "code",
   "execution_count": null,
   "metadata": {
    "collapsed": true
   },
   "outputs": [],
   "source": []
  },
  {
   "cell_type": "markdown",
   "metadata": {},
   "source": [
    "---\n",
    "\n",
    "### 6.3 Plot the distribution for arm C from the non-hierarchical (unpooled) model vs the hierarchical (pooled) model\n",
    "\n",
    "NOTE: if the \"trace\" variable is named the same thing for the hierarchical model and unpooled model, then it probably overwrote the original trace. \n",
    "\n",
    "Make sure that the trace variable for your original and hierarchical models are named different things before doing this section (you may have to re-run the model)."
   ]
  },
  {
   "cell_type": "code",
   "execution_count": null,
   "metadata": {
    "collapsed": false
   },
   "outputs": [],
   "source": []
  },
  {
   "cell_type": "code",
   "execution_count": null,
   "metadata": {
    "collapsed": true
   },
   "outputs": [],
   "source": []
  },
  {
   "cell_type": "markdown",
   "metadata": {},
   "source": [
    "---\n",
    "\n",
    "### 6.4 Plot the posterior difference variables with `pm.plot_posterior`"
   ]
  },
  {
   "cell_type": "code",
   "execution_count": null,
   "metadata": {
    "collapsed": false
   },
   "outputs": [],
   "source": []
  },
  {
   "cell_type": "code",
   "execution_count": null,
   "metadata": {
    "collapsed": true
   },
   "outputs": [],
   "source": []
  },
  {
   "cell_type": "markdown",
   "metadata": {},
   "source": [
    "---\n",
    "\n",
    "## 7. Make a hierarchical split test model for the whole dataset\n",
    "\n",
    "Now do the same thing you just did above for the hierarchical model, but use the entire 21 days of data in the dataset."
   ]
  },
  {
   "cell_type": "markdown",
   "metadata": {},
   "source": [
    "---\n",
    "\n",
    "### 7.1 Build the hierarchical model"
   ]
  },
  {
   "cell_type": "code",
   "execution_count": null,
   "metadata": {
    "collapsed": false
   },
   "outputs": [],
   "source": []
  },
  {
   "cell_type": "code",
   "execution_count": null,
   "metadata": {
    "collapsed": true
   },
   "outputs": [],
   "source": []
  },
  {
   "cell_type": "markdown",
   "metadata": {},
   "source": [
    "---\n",
    "\n",
    "### 7.2 Plot the conversion rate distributions for arms"
   ]
  },
  {
   "cell_type": "code",
   "execution_count": null,
   "metadata": {
    "collapsed": false
   },
   "outputs": [],
   "source": []
  },
  {
   "cell_type": "code",
   "execution_count": null,
   "metadata": {
    "collapsed": true
   },
   "outputs": [],
   "source": []
  },
  {
   "cell_type": "markdown",
   "metadata": {},
   "source": [
    "---\n",
    "\n",
    "### 7.3 Plot the posterior distributions for differences between arms"
   ]
  },
  {
   "cell_type": "code",
   "execution_count": null,
   "metadata": {
    "collapsed": false
   },
   "outputs": [],
   "source": []
  },
  {
   "cell_type": "code",
   "execution_count": null,
   "metadata": {
    "collapsed": true
   },
   "outputs": [],
   "source": []
  }
 ],
 "metadata": {
  "kernelspec": {
   "display_name": "Python [default]",
   "language": "python",
   "name": "python2"
  },
  "language_info": {
   "codemirror_mode": {
    "name": "ipython",
    "version": 2
   },
   "file_extension": ".py",
   "mimetype": "text/x-python",
   "name": "python",
   "nbconvert_exporter": "python",
   "pygments_lexer": "ipython2",
   "version": "2.7.12"
  }
 },
 "nbformat": 4,
 "nbformat_minor": 0
}
