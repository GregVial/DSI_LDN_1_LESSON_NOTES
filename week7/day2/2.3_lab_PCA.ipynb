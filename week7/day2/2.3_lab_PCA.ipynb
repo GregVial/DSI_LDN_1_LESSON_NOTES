{
 "cells": [
  {
   "cell_type": "markdown",
   "metadata": {},
   "source": [
    "# ![](https://ga-dash.s3.amazonaws.com/production/assets/logo-9f88ae6c9c3871690e33280fcf557f33.png) PCA Lab I: Voting\n",
    "Week 7 | Lab 2.3"
   ]
  },
  {
   "cell_type": "markdown",
   "metadata": {},
   "source": [
    "## Introduction\n",
    "\n",
    "> **Note:** _This should be a pair exercise._\n",
    "\n",
    "We've learned what dimensionality reduction is, how it's applied through PCA, and mathematically what PCA does to our data; now, it's time to put your skills to the test! For this lab session, we are going to complete a full principal component analysis using python a dataset.  \n",
    "\n",
    "Here's the case: \n",
    "\n",
    "You're working for a political watchdog that wants to track and analyse the voting behaviour of various (American) politicians. Specifically, we want to understand how the political affiliation of a member of the House of Representatives affects their voting record. You're given a [dataset](./assets/datasets/votes.csv) with a affiliations as well as voting records for a variety of key bills. \n",
    "\n",
    "Your task is to perform PCA to determine the principal components of this dataset so that your data science team can perform a clustering analysis to learn how political affiliation is related to voting.\n",
    "\n",
    "\n",
    "## Exercise\n",
    "\n",
    "#### Requirements\n",
    "\n",
    "- Import the data\n",
    "- Perform a Principal Component Analysis to determine which components are most significant.\n",
    "    - Conduct a PCA using the long-form method as well as using Scikit-Learn.\n",
    "- Create a write-up of your findings; for the technical team members make sure to comment your process, and for the non-technical team members, draft a brief report to outline why your findings are significant.\n",
    "\n",
    "Just as in a real life scenario, the data and your analysis will not always be clear cut. While you may be wondering when you've succeeded in solving the problem,  we're looking for your best recommendations based on the available data. Work through the process until you and your teammate have enough information to provide an in-depth analysis.\n",
    "\n",
    "**Bonus:**\n",
    "- Plot the principal components\n",
    "- Have fun with the eigenfaces example\n",
    "- Perform a k-means clustering on the voting data (but we will also be doing this on another dataset in Lab 2.4)\n",
    "\n",
    "**Note:**\n",
    "The index for the bill column variables of the Congressional voting dataset are as follows: \n",
    "\n",
    "  - V1. handicapped-infants: 2 (y,n)\n",
    "  - V2. water-project-cost-sharing: 2 (y,n)\n",
    "  - V3. adoption-of-the-budget-resolution: 2 (y,n)\n",
    "  - V4. physician-fee-freeze: 2 (y,n)\n",
    "  - V5. el-salvador-aid: 2 (y,n)\n",
    "  - V6. religious-groups-in-schools: 2 (y,n)\n",
    "  - V7. anti-satellite-test-ban: 2 (y,n)\n",
    "  - V8. aid-to-nicaraguan-contras: 2 (y,n)\n",
    "  - V9. mx-missile: 2 (y,n)\n",
    "  - V10. immigration: 2 (y,n)\n",
    "  - V11. synfuels-corporation-cutback: 2 (y,n)\n",
    "  - V12. education-spending: 2 (y,n)\n",
    "  - V13. superfund-right-to-sue: 2 (y,n)\n",
    "  - V14. crime: 2 (y,n)\n",
    "  - V15. duty-free-exports: 2 (y,n)\n",
    "  - V16. export-administration-act-south-africa: 2 (y,n)\n",
    "\n",
    "#### Deliverable\n",
    "\n",
    "Your finished product will be a Jupyter Notebook containing your analysis, including:\n",
    "\n",
    "- Your solution code\n",
    "- A brief write-up on your findings, with one paragraph on your findings and one paragraph on your procedures, related to voting trends\n",
    "- Recommendations for analytical procedures for the datasets\n"
   ]
  },
  {
   "cell_type": "code",
   "execution_count": 140,
   "metadata": {
    "collapsed": true
   },
   "outputs": [],
   "source": [
    "import pandas as pd\n",
    "import numpy as np\n",
    "import os\n",
    "from matplotlib import pyplot as plt\n",
    "import math\n",
    "from sklearn.preprocessing import StandardScaler\n",
    "from sklearn.decomposition import PCA "
   ]
  },
  {
   "cell_type": "markdown",
   "metadata": {},
   "source": [
    "# Case: Congressional Voting Data"
   ]
  },
  {
   "cell_type": "code",
   "execution_count": 141,
   "metadata": {
    "collapsed": false
   },
   "outputs": [],
   "source": [
    "# votes dataset located at assets/datasets/votes.csv"
   ]
  },
  {
   "cell_type": "code",
   "execution_count": 142,
   "metadata": {
    "collapsed": false
   },
   "outputs": [
    {
     "data": {
      "text/html": [
       "<div>\n",
       "<table border=\"1\" class=\"dataframe\">\n",
       "  <thead>\n",
       "    <tr style=\"text-align: right;\">\n",
       "      <th></th>\n",
       "      <th>Unnamed: 0</th>\n",
       "      <th>Class</th>\n",
       "      <th>V1</th>\n",
       "      <th>V2</th>\n",
       "      <th>V3</th>\n",
       "      <th>V4</th>\n",
       "      <th>V5</th>\n",
       "      <th>V6</th>\n",
       "      <th>V7</th>\n",
       "      <th>V8</th>\n",
       "      <th>V9</th>\n",
       "      <th>V10</th>\n",
       "      <th>V11</th>\n",
       "      <th>V12</th>\n",
       "      <th>V13</th>\n",
       "      <th>V14</th>\n",
       "      <th>V15</th>\n",
       "      <th>V16</th>\n",
       "    </tr>\n",
       "  </thead>\n",
       "  <tbody>\n",
       "    <tr>\n",
       "      <th>0</th>\n",
       "      <td>1</td>\n",
       "      <td>republican</td>\n",
       "      <td>n</td>\n",
       "      <td>y</td>\n",
       "      <td>n</td>\n",
       "      <td>y</td>\n",
       "      <td>y</td>\n",
       "      <td>y</td>\n",
       "      <td>n</td>\n",
       "      <td>n</td>\n",
       "      <td>n</td>\n",
       "      <td>y</td>\n",
       "      <td>NaN</td>\n",
       "      <td>y</td>\n",
       "      <td>y</td>\n",
       "      <td>y</td>\n",
       "      <td>n</td>\n",
       "      <td>y</td>\n",
       "    </tr>\n",
       "    <tr>\n",
       "      <th>1</th>\n",
       "      <td>2</td>\n",
       "      <td>republican</td>\n",
       "      <td>n</td>\n",
       "      <td>y</td>\n",
       "      <td>n</td>\n",
       "      <td>y</td>\n",
       "      <td>y</td>\n",
       "      <td>y</td>\n",
       "      <td>n</td>\n",
       "      <td>n</td>\n",
       "      <td>n</td>\n",
       "      <td>n</td>\n",
       "      <td>n</td>\n",
       "      <td>y</td>\n",
       "      <td>y</td>\n",
       "      <td>y</td>\n",
       "      <td>n</td>\n",
       "      <td>NaN</td>\n",
       "    </tr>\n",
       "  </tbody>\n",
       "</table>\n",
       "</div>"
      ],
      "text/plain": [
       "   Unnamed: 0       Class V1 V2 V3 V4 V5 V6 V7 V8 V9 V10  V11 V12 V13 V14 V15  \\\n",
       "0           1  republican  n  y  n  y  y  y  n  n  n   y  NaN   y   y   y   n   \n",
       "1           2  republican  n  y  n  y  y  y  n  n  n   n    n   y   y   y   n   \n",
       "\n",
       "   V16  \n",
       "0    y  \n",
       "1  NaN  "
      ]
     },
     "execution_count": 142,
     "metadata": {},
     "output_type": "execute_result"
    }
   ],
   "source": [
    "df = pd.read_csv(\"assets/datasets/votes.csv\")\n",
    "df.head(2)"
   ]
  },
  {
   "cell_type": "code",
   "execution_count": 143,
   "metadata": {
    "collapsed": false
   },
   "outputs": [
    {
     "data": {
      "text/plain": [
       "(435, 18)"
      ]
     },
     "execution_count": 143,
     "metadata": {},
     "output_type": "execute_result"
    }
   ],
   "source": [
    "df.shape"
   ]
  },
  {
   "cell_type": "markdown",
   "metadata": {},
   "source": [
    "Next, let's define the x and y variables: "
   ]
  },
  {
   "cell_type": "code",
   "execution_count": 144,
   "metadata": {
    "collapsed": false
   },
   "outputs": [],
   "source": [
    "df_rep = df[df.Class==\"republican\"]\n",
    "df_dem = df[df.Class==\"democrat\"]\n",
    "df_rep.fillna(method='pad',axis=0,inplace=True)\n",
    "df_dem.fillna(method='pad',axis=0,inplace=True)\n",
    "df_rep.fillna(method='bfill',axis=0,inplace=True)\n",
    "df_dem.fillna(method='bfill',axis=0,inplace=True)\n",
    "df = pd.concat([df_rep,df_dem],axis=0)"
   ]
  },
  {
   "cell_type": "code",
   "execution_count": 145,
   "metadata": {
    "collapsed": false
   },
   "outputs": [],
   "source": [
    "mapy={'republican':1,'democrat':0}\n",
    "y = df.Class.map(mapy)\n",
    "\n",
    "def to_bool(listy):\n",
    "    res = listy.apply(lambda x: 1 if x==\"y\" else 0)\n",
    "    return res\n",
    "\n",
    "X = df.ix[:,2:].apply(to_bool)"
   ]
  },
  {
   "cell_type": "markdown",
   "metadata": {},
   "source": [
    "Next, create the covariance matrix from the standardized x-values and decompose these values to find the eigenvalues and eigenvectors (i.e. first we use the numpy method)"
   ]
  },
  {
   "cell_type": "code",
   "execution_count": 105,
   "metadata": {
    "collapsed": false
   },
   "outputs": [
    {
     "data": {
      "text/plain": [
       "array([[ 0.44700461,  0.23041475,  0.35714286,  0.08064516,  0.12672811,\n",
       "         0.18894009,  0.34562212,  0.35253456,  0.30875576,  0.20506912,\n",
       "         0.18202765,  0.08064516,  0.14285714,  0.16820276,  0.24884793,\n",
       "         0.40552995],\n",
       "       [ 0.23041475,  0.50230415,  0.28801843,  0.22119816,  0.27419355,\n",
       "         0.35253456,  0.23963134,  0.26267281,  0.21198157,  0.21658986,\n",
       "         0.22119816,  0.20737327,  0.30645161,  0.29262673,  0.19124424,\n",
       "         0.39631336],\n",
       "       [ 0.35714286,  0.28801843,  0.59447005,  0.07142857,  0.13824885,\n",
       "         0.2764977 ,  0.47926267,  0.50921659,  0.44700461,  0.30414747,\n",
       "         0.26267281,  0.0875576 ,  0.17050691,  0.20967742,  0.37557604,\n",
       "         0.56451613],\n",
       "       [ 0.08064516,  0.22119816,  0.07142857,  0.41705069,  0.39400922,\n",
       "         0.37788018,  0.09447005,  0.06451613,  0.05299539,  0.21889401,\n",
       "         0.07603687,  0.35253456,  0.359447  ,  0.4078341 ,  0.04147465,\n",
       "         0.26497696],\n",
       "       [ 0.12672811,  0.27419355,  0.13824885,  0.39400922,  0.49769585,\n",
       "         0.46774194,  0.11059908,  0.07603687,  0.05069124,  0.24884793,\n",
       "         0.13824885,  0.37096774,  0.41705069,  0.46774194,  0.07142857,\n",
       "         0.32718894],\n",
       "       [ 0.18894009,  0.35253456,  0.2764977 ,  0.37788018,  0.46774194,\n",
       "         0.640553  ,  0.23732719,  0.2281106 ,  0.18202765,  0.34331797,\n",
       "         0.2281106 ,  0.39170507,  0.46082949,  0.52304147,  0.16359447,\n",
       "         0.46774194],\n",
       "       [ 0.34562212,  0.23963134,  0.47926267,  0.09447005,  0.11059908,\n",
       "         0.23732719,  0.57142857,  0.5       ,  0.44930876,  0.29262673,\n",
       "         0.21428571,  0.11059908,  0.14746544,  0.21198157,  0.36866359,\n",
       "         0.5483871 ],\n",
       "       [ 0.35253456,  0.26267281,  0.50921659,  0.06451613,  0.07603687,\n",
       "         0.2281106 ,  0.5       ,  0.56682028,  0.47235023,  0.29493088,\n",
       "         0.23502304,  0.08064516,  0.1359447 ,  0.18202765,  0.37788018,\n",
       "         0.54608295],\n",
       "       [ 0.30875576,  0.21198157,  0.44700461,  0.05299539,  0.05069124,\n",
       "         0.18202765,  0.44930876,  0.47235023,  0.50230415,  0.26267281,\n",
       "         0.19354839,  0.06682028,  0.11981567,  0.15668203,  0.33410138,\n",
       "         0.48847926],\n",
       "       [ 0.20506912,  0.21658986,  0.30414747,  0.21889401,  0.24884793,\n",
       "         0.34331797,  0.29262673,  0.29493088,  0.26267281,  0.50230415,\n",
       "         0.16820276,  0.21658986,  0.26267281,  0.32488479,  0.19585253,\n",
       "         0.41935484],\n",
       "       [ 0.18202765,  0.22119816,  0.26267281,  0.07603687,  0.13824885,\n",
       "         0.2281106 ,  0.21428571,  0.23502304,  0.19354839,  0.16820276,\n",
       "         0.35253456,  0.09677419,  0.14976959,  0.17741935,  0.18663594,\n",
       "         0.29493088],\n",
       "       [ 0.08064516,  0.20737327,  0.0875576 ,  0.35253456,  0.37096774,\n",
       "         0.39170507,  0.11059908,  0.08064516,  0.06682028,  0.21658986,\n",
       "         0.09677419,  0.42396313,  0.35483871,  0.40092166,  0.05299539,\n",
       "         0.27419355],\n",
       "       [ 0.14285714,  0.30645161,  0.17050691,  0.359447  ,  0.41705069,\n",
       "         0.46082949,  0.14746544,  0.1359447 ,  0.11981567,  0.26267281,\n",
       "         0.14976959,  0.35483871,  0.50921659,  0.44009217,  0.0921659 ,\n",
       "         0.35253456],\n",
       "       [ 0.16820276,  0.29262673,  0.20967742,  0.4078341 ,  0.46774194,\n",
       "         0.52304147,  0.21198157,  0.18202765,  0.15668203,  0.32488479,\n",
       "         0.17741935,  0.40092166,  0.44009217,  0.59447005,  0.11981567,\n",
       "         0.42165899],\n",
       "       [ 0.24884793,  0.19124424,  0.37557604,  0.04147465,  0.07142857,\n",
       "         0.16359447,  0.36866359,  0.37788018,  0.33410138,  0.19585253,\n",
       "         0.18663594,  0.05299539,  0.0921659 ,  0.11981567,  0.42857143,\n",
       "         0.41013825],\n",
       "       [ 0.40552995,  0.39631336,  0.56451613,  0.26497696,  0.32718894,\n",
       "         0.46774194,  0.5483871 ,  0.54608295,  0.48847926,  0.41935484,\n",
       "         0.29493088,  0.27419355,  0.35253456,  0.42165899,  0.41013825,\n",
       "         0.8156682 ]])"
      ]
     },
     "execution_count": 105,
     "metadata": {},
     "output_type": "execute_result"
    }
   ],
   "source": [
    "from __future__ import division\n",
    "N = X.shape[0]\n",
    "B=np.column_stack(np.array(X))\n",
    "S=1/(N-1)*B.dot(B.T)\n",
    "S"
   ]
  },
  {
   "cell_type": "markdown",
   "metadata": {},
   "source": [
    "Now, let's check the eigenvalues: "
   ]
  },
  {
   "cell_type": "code",
   "execution_count": 107,
   "metadata": {
    "collapsed": false
   },
   "outputs": [
    {
     "data": {
      "text/plain": [
       "array([ 4.7004965 ,  1.8375648 ,  0.34064578,  0.23704447,  0.20034263,\n",
       "        0.18256976,  0.03279675,  0.13809856,  0.13046122,  0.05154265,\n",
       "        0.05920083,  0.10895693,  0.10101547,  0.07816397,  0.08227764,\n",
       "        0.08518149])"
      ]
     },
     "execution_count": 107,
     "metadata": {},
     "output_type": "execute_result"
    }
   ],
   "source": [
    "eigenValues, eigenVectors = np.linalg.eig(S)\n",
    "eigenValues"
   ]
  },
  {
   "cell_type": "markdown",
   "metadata": {},
   "source": [
    "And the eigenvectors: "
   ]
  },
  {
   "cell_type": "code",
   "execution_count": null,
   "metadata": {
    "collapsed": false
   },
   "outputs": [],
   "source": []
  },
  {
   "cell_type": "markdown",
   "metadata": {},
   "source": [
    "To find the principal componants, find the eigenpairs, and sort them from highest to lowest. "
   ]
  },
  {
   "cell_type": "code",
   "execution_count": 110,
   "metadata": {
    "collapsed": false
   },
   "outputs": [
    {
     "name": "stdout",
     "output_type": "stream",
     "text": [
      "(4.7004964974884711, array([-0.21192066, -0.23725196, -0.28536679, -0.18270057, -0.2198909 ,\n",
      "       -0.2966264 , -0.27341716, -0.2718097 , -0.23947144, -0.24335312,\n",
      "       -0.17033932, -0.18693884, -0.23423912, -0.2719402 , -0.20187901,\n",
      "       -0.38588503]))\n",
      "(1.8375648014194776, array([-0.17728524,  0.05943416, -0.27093375,  0.32050222,  0.3454875 ,\n",
      "        0.27137874, -0.26989443, -0.30498032, -0.28715795,  0.02624646,\n",
      "       -0.05972074,  0.30406369,  0.29488426,  0.30457052, -0.23939672,\n",
      "       -0.11766967]))\n"
     ]
    }
   ],
   "source": [
    "eig_pairs = [(np.abs(eigenValues[i]), eigenVectors[:,i]) for i in range(len(eigenValues))]\n",
    "eig_pairs.sort()\n",
    "eig_pairs.reverse()\n",
    "for i in eig_pairs[:2]:\n",
    "    print(i[0],i[1])"
   ]
  },
  {
   "cell_type": "markdown",
   "metadata": {
    "collapsed": true
   },
   "source": [
    "Now, calculate the explained variance. Recall the methods we learned in lesson 2.2!"
   ]
  },
  {
   "cell_type": "code",
   "execution_count": 111,
   "metadata": {
    "collapsed": false
   },
   "outputs": [
    {
     "data": {
      "text/plain": [
       "array([ 0.56183296,  0.21963732,  0.04071613,  0.02833305,  0.02394621,\n",
       "        0.02182189,  0.00392007,  0.01650641,  0.01559355,  0.0061607 ,\n",
       "        0.00707606,  0.01302322,  0.01207401,  0.00934265,  0.00983434,\n",
       "        0.01018143])"
      ]
     },
     "execution_count": 111,
     "metadata": {},
     "output_type": "execute_result"
    }
   ],
   "source": [
    "eigenValues/sum(eigenValues)"
   ]
  },
  {
   "cell_type": "markdown",
   "metadata": {},
   "source": [
    "Now, calculate the explained variance and the Cumulative explained variance"
   ]
  },
  {
   "cell_type": "code",
   "execution_count": 112,
   "metadata": {
    "collapsed": false
   },
   "outputs": [
    {
     "data": {
      "text/plain": [
       "array([ 56.18329606,  78.14702847,  82.21864144,  85.05194631,\n",
       "        87.4465677 ,  89.6287565 ,  91.27939754,  92.83875222,\n",
       "        94.14107413,  95.34847472,  96.36661752,  97.35005167,\n",
       "        98.28431671,  98.9919223 ,  99.60799255, 100.        ])"
      ]
     },
     "execution_count": 112,
     "metadata": {},
     "output_type": "execute_result"
    }
   ],
   "source": [
    "tot = sum(eigenValues)\n",
    "var_exp = [(i / tot)*100 for i in sorted(eigenValues, reverse=True)]\n",
    "cum_var_exp = np.cumsum(var_exp)\n",
    "cum_var_exp"
   ]
  },
  {
   "cell_type": "code",
   "execution_count": 118,
   "metadata": {
    "collapsed": false
   },
   "outputs": [
    {
     "name": "stdout",
     "output_type": "stream",
     "text": [
      "('Weight data 4D PCA projection matrix:\\n', array([[-0.21192066, -0.17728524, -0.16534967,  0.35278936],\n",
      "       [-0.23725196,  0.05943416, -0.65157271,  0.0602883 ],\n",
      "       [-0.28536679, -0.27093375, -0.06537943, -0.10337053],\n",
      "       [-0.18270057,  0.32050222,  0.13799845,  0.2323588 ],\n",
      "       [-0.2198909 ,  0.3454875 , -0.04010807,  0.08349816],\n",
      "       [-0.2966264 ,  0.27137874, -0.07097969, -0.21601151],\n",
      "       [-0.27341716, -0.26989443,  0.18851741,  0.17044014],\n",
      "       [-0.2718097 , -0.30498032,  0.06483782,  0.02678422],\n",
      "       [-0.23947144, -0.28715795,  0.15942125,  0.08204653],\n",
      "       [-0.24335312,  0.02624646,  0.44124609, -0.61027704],\n",
      "       [-0.17033932, -0.05972074, -0.44584925, -0.53798602],\n",
      "       [-0.18693884,  0.30406369,  0.15601872,  0.17309716],\n",
      "       [-0.23423912,  0.29488426, -0.09031982,  0.07806898],\n",
      "       [-0.2719402 ,  0.30457052,  0.14174973, -0.00115728],\n",
      "       [-0.20187901, -0.23939672, -0.01830602,  0.0513639 ],\n",
      "       [-0.38588503, -0.11766967,  0.08113266,  0.12858116]]))\n"
     ]
    }
   ],
   "source": [
    "projection_4d = np.hstack((eig_pairs[0][1].reshape(eigenVectors.shape[1],1),\n",
    "                          eig_pairs[1][1].reshape(eigenVectors.shape[1],1),\n",
    "                          eig_pairs[2][1].reshape(eigenVectors.shape[1],1),\n",
    "                          eig_pairs[3][1].reshape(eigenVectors.shape[1],1)))\n",
    "print('Weight data 4D PCA projection matrix:\\n', projection_4d)"
   ]
  },
  {
   "cell_type": "code",
   "execution_count": 146,
   "metadata": {
    "collapsed": false
   },
   "outputs": [
    {
     "data": {
      "text/html": [
       "<div>\n",
       "<table border=\"1\" class=\"dataframe\">\n",
       "  <thead>\n",
       "    <tr style=\"text-align: right;\">\n",
       "      <th></th>\n",
       "      <th>0</th>\n",
       "      <th>1</th>\n",
       "      <th>2</th>\n",
       "      <th>3</th>\n",
       "    </tr>\n",
       "  </thead>\n",
       "  <tbody>\n",
       "    <tr>\n",
       "      <th>0</th>\n",
       "      <td>-2.258826</td>\n",
       "      <td>1.808898</td>\n",
       "      <td>0.105165</td>\n",
       "      <td>-0.071553</td>\n",
       "    </tr>\n",
       "    <tr>\n",
       "      <th>1</th>\n",
       "      <td>-2.015473</td>\n",
       "      <td>1.782651</td>\n",
       "      <td>-0.336081</td>\n",
       "      <td>0.538724</td>\n",
       "    </tr>\n",
       "    <tr>\n",
       "      <th>7</th>\n",
       "      <td>-1.828534</td>\n",
       "      <td>1.478588</td>\n",
       "      <td>-0.492099</td>\n",
       "      <td>0.365627</td>\n",
       "    </tr>\n",
       "    <tr>\n",
       "      <th>8</th>\n",
       "      <td>-2.015473</td>\n",
       "      <td>1.782651</td>\n",
       "      <td>-0.336081</td>\n",
       "      <td>0.538724</td>\n",
       "    </tr>\n",
       "    <tr>\n",
       "      <th>10</th>\n",
       "      <td>-1.332962</td>\n",
       "      <td>1.628942</td>\n",
       "      <td>-0.346234</td>\n",
       "      <td>0.626154</td>\n",
       "    </tr>\n",
       "    <tr>\n",
       "      <th>11</th>\n",
       "      <td>-1.799927</td>\n",
       "      <td>1.840600</td>\n",
       "      <td>-0.863063</td>\n",
       "      <td>-0.127843</td>\n",
       "    </tr>\n",
       "    <tr>\n",
       "      <th>14</th>\n",
       "      <td>-1.629588</td>\n",
       "      <td>1.900321</td>\n",
       "      <td>-0.417213</td>\n",
       "      <td>0.410143</td>\n",
       "    </tr>\n",
       "    <tr>\n",
       "      <th>15</th>\n",
       "      <td>-1.872941</td>\n",
       "      <td>1.926568</td>\n",
       "      <td>0.024033</td>\n",
       "      <td>-0.200134</td>\n",
       "    </tr>\n",
       "    <tr>\n",
       "      <th>18</th>\n",
       "      <td>-1.629588</td>\n",
       "      <td>1.900321</td>\n",
       "      <td>-0.417213</td>\n",
       "      <td>0.410143</td>\n",
       "    </tr>\n",
       "    <tr>\n",
       "      <th>28</th>\n",
       "      <td>-2.478214</td>\n",
       "      <td>0.412521</td>\n",
       "      <td>0.633898</td>\n",
       "      <td>1.326507</td>\n",
       "    </tr>\n",
       "    <tr>\n",
       "      <th>30</th>\n",
       "      <td>-1.629588</td>\n",
       "      <td>1.900321</td>\n",
       "      <td>-0.417213</td>\n",
       "      <td>0.410143</td>\n",
       "    </tr>\n",
       "    <tr>\n",
       "      <th>33</th>\n",
       "      <td>-2.015473</td>\n",
       "      <td>1.782651</td>\n",
       "      <td>-0.336081</td>\n",
       "      <td>0.538724</td>\n",
       "    </tr>\n",
       "    <tr>\n",
       "      <th>35</th>\n",
       "      <td>-1.629588</td>\n",
       "      <td>1.900321</td>\n",
       "      <td>-0.417213</td>\n",
       "      <td>0.410143</td>\n",
       "    </tr>\n",
       "    <tr>\n",
       "      <th>36</th>\n",
       "      <td>-2.470747</td>\n",
       "      <td>1.631613</td>\n",
       "      <td>-0.060184</td>\n",
       "      <td>0.281236</td>\n",
       "    </tr>\n",
       "    <tr>\n",
       "      <th>37</th>\n",
       "      <td>-2.040455</td>\n",
       "      <td>1.301302</td>\n",
       "      <td>-0.657449</td>\n",
       "      <td>0.718416</td>\n",
       "    </tr>\n",
       "    <tr>\n",
       "      <th>38</th>\n",
       "      <td>-1.872941</td>\n",
       "      <td>1.926568</td>\n",
       "      <td>0.024033</td>\n",
       "      <td>-0.200134</td>\n",
       "    </tr>\n",
       "    <tr>\n",
       "      <th>49</th>\n",
       "      <td>-1.629588</td>\n",
       "      <td>1.900321</td>\n",
       "      <td>-0.417213</td>\n",
       "      <td>0.410143</td>\n",
       "    </tr>\n",
       "    <tr>\n",
       "      <th>51</th>\n",
       "      <td>-2.015473</td>\n",
       "      <td>1.782651</td>\n",
       "      <td>-0.336081</td>\n",
       "      <td>0.538724</td>\n",
       "    </tr>\n",
       "    <tr>\n",
       "      <th>53</th>\n",
       "      <td>-2.084862</td>\n",
       "      <td>1.749282</td>\n",
       "      <td>-0.141317</td>\n",
       "      <td>0.152655</td>\n",
       "    </tr>\n",
       "    <tr>\n",
       "      <th>55</th>\n",
       "      <td>-2.043280</td>\n",
       "      <td>1.866847</td>\n",
       "      <td>-0.421817</td>\n",
       "      <td>-0.738120</td>\n",
       "    </tr>\n",
       "    <tr>\n",
       "      <th>56</th>\n",
       "      <td>-2.429165</td>\n",
       "      <td>1.749177</td>\n",
       "      <td>-0.340684</td>\n",
       "      <td>-0.609539</td>\n",
       "    </tr>\n",
       "    <tr>\n",
       "      <th>57</th>\n",
       "      <td>-2.258826</td>\n",
       "      <td>1.808898</td>\n",
       "      <td>0.105165</td>\n",
       "      <td>-0.071553</td>\n",
       "    </tr>\n",
       "    <tr>\n",
       "      <th>58</th>\n",
       "      <td>-2.258826</td>\n",
       "      <td>1.808898</td>\n",
       "      <td>0.105165</td>\n",
       "      <td>-0.071553</td>\n",
       "    </tr>\n",
       "    <tr>\n",
       "      <th>59</th>\n",
       "      <td>-2.258826</td>\n",
       "      <td>1.808898</td>\n",
       "      <td>0.105165</td>\n",
       "      <td>-0.071553</td>\n",
       "    </tr>\n",
       "    <tr>\n",
       "      <th>61</th>\n",
       "      <td>-1.629588</td>\n",
       "      <td>1.900321</td>\n",
       "      <td>-0.417213</td>\n",
       "      <td>0.410143</td>\n",
       "    </tr>\n",
       "    <tr>\n",
       "      <th>65</th>\n",
       "      <td>-2.500811</td>\n",
       "      <td>1.335472</td>\n",
       "      <td>-0.312913</td>\n",
       "      <td>1.061953</td>\n",
       "    </tr>\n",
       "    <tr>\n",
       "      <th>66</th>\n",
       "      <td>-2.459229</td>\n",
       "      <td>1.453036</td>\n",
       "      <td>-0.593413</td>\n",
       "      <td>0.171178</td>\n",
       "    </tr>\n",
       "    <tr>\n",
       "      <th>67</th>\n",
       "      <td>-1.872941</td>\n",
       "      <td>1.926568</td>\n",
       "      <td>0.024033</td>\n",
       "      <td>-0.200134</td>\n",
       "    </tr>\n",
       "    <tr>\n",
       "      <th>71</th>\n",
       "      <td>-2.773456</td>\n",
       "      <td>-0.776889</td>\n",
       "      <td>-0.113248</td>\n",
       "      <td>-0.199502</td>\n",
       "    </tr>\n",
       "    <tr>\n",
       "      <th>73</th>\n",
       "      <td>-2.548185</td>\n",
       "      <td>0.168750</td>\n",
       "      <td>0.788909</td>\n",
       "      <td>0.412978</td>\n",
       "    </tr>\n",
       "    <tr>\n",
       "      <th>...</th>\n",
       "      <td>...</td>\n",
       "      <td>...</td>\n",
       "      <td>...</td>\n",
       "      <td>...</td>\n",
       "    </tr>\n",
       "    <tr>\n",
       "      <th>385</th>\n",
       "      <td>-2.031026</td>\n",
       "      <td>1.103416</td>\n",
       "      <td>-1.184717</td>\n",
       "      <td>0.043951</td>\n",
       "    </tr>\n",
       "    <tr>\n",
       "      <th>386</th>\n",
       "      <td>-1.481285</td>\n",
       "      <td>0.040666</td>\n",
       "      <td>-1.209051</td>\n",
       "      <td>-0.686797</td>\n",
       "    </tr>\n",
       "    <tr>\n",
       "      <th>387</th>\n",
       "      <td>-2.204617</td>\n",
       "      <td>-0.119207</td>\n",
       "      <td>-1.073230</td>\n",
       "      <td>-0.253119</td>\n",
       "    </tr>\n",
       "    <tr>\n",
       "      <th>388</th>\n",
       "      <td>-1.914955</td>\n",
       "      <td>1.629387</td>\n",
       "      <td>-0.482593</td>\n",
       "      <td>0.306772</td>\n",
       "    </tr>\n",
       "    <tr>\n",
       "      <th>389</th>\n",
       "      <td>-1.654204</td>\n",
       "      <td>-1.609369</td>\n",
       "      <td>-0.282108</td>\n",
       "      <td>0.042068</td>\n",
       "    </tr>\n",
       "    <tr>\n",
       "      <th>390</th>\n",
       "      <td>-1.411183</td>\n",
       "      <td>0.373113</td>\n",
       "      <td>-0.195893</td>\n",
       "      <td>-0.058828</td>\n",
       "    </tr>\n",
       "    <tr>\n",
       "      <th>391</th>\n",
       "      <td>-1.332672</td>\n",
       "      <td>-1.009107</td>\n",
       "      <td>-1.056819</td>\n",
       "      <td>0.035286</td>\n",
       "    </tr>\n",
       "    <tr>\n",
       "      <th>394</th>\n",
       "      <td>-1.536262</td>\n",
       "      <td>0.271022</td>\n",
       "      <td>-1.342938</td>\n",
       "      <td>-0.134270</td>\n",
       "    </tr>\n",
       "    <tr>\n",
       "      <th>395</th>\n",
       "      <td>-1.764452</td>\n",
       "      <td>-1.110552</td>\n",
       "      <td>-1.200487</td>\n",
       "      <td>-0.021550</td>\n",
       "    </tr>\n",
       "    <tr>\n",
       "      <th>396</th>\n",
       "      <td>-2.515209</td>\n",
       "      <td>-0.198802</td>\n",
       "      <td>-1.401894</td>\n",
       "      <td>-0.075994</td>\n",
       "    </tr>\n",
       "    <tr>\n",
       "      <th>397</th>\n",
       "      <td>-2.028094</td>\n",
       "      <td>0.921080</td>\n",
       "      <td>-1.241297</td>\n",
       "      <td>-0.051929</td>\n",
       "    </tr>\n",
       "    <tr>\n",
       "      <th>398</th>\n",
       "      <td>-1.696831</td>\n",
       "      <td>-0.017283</td>\n",
       "      <td>-0.682069</td>\n",
       "      <td>-0.020230</td>\n",
       "    </tr>\n",
       "    <tr>\n",
       "      <th>406</th>\n",
       "      <td>-2.388694</td>\n",
       "      <td>0.389521</td>\n",
       "      <td>0.391413</td>\n",
       "      <td>-0.205832</td>\n",
       "    </tr>\n",
       "    <tr>\n",
       "      <th>407</th>\n",
       "      <td>-1.562675</td>\n",
       "      <td>1.781166</td>\n",
       "      <td>-0.211490</td>\n",
       "      <td>-0.188132</td>\n",
       "    </tr>\n",
       "    <tr>\n",
       "      <th>408</th>\n",
       "      <td>-2.859494</td>\n",
       "      <td>-0.492421</td>\n",
       "      <td>0.381343</td>\n",
       "      <td>0.742632</td>\n",
       "    </tr>\n",
       "    <tr>\n",
       "      <th>411</th>\n",
       "      <td>-2.378190</td>\n",
       "      <td>-1.190017</td>\n",
       "      <td>0.187597</td>\n",
       "      <td>-0.707004</td>\n",
       "    </tr>\n",
       "    <tr>\n",
       "      <th>414</th>\n",
       "      <td>-1.905123</td>\n",
       "      <td>-1.368487</td>\n",
       "      <td>-0.388393</td>\n",
       "      <td>0.717559</td>\n",
       "    </tr>\n",
       "    <tr>\n",
       "      <th>415</th>\n",
       "      <td>-2.233182</td>\n",
       "      <td>-0.893577</td>\n",
       "      <td>0.147223</td>\n",
       "      <td>-0.461519</td>\n",
       "    </tr>\n",
       "    <tr>\n",
       "      <th>417</th>\n",
       "      <td>-2.553054</td>\n",
       "      <td>-1.107077</td>\n",
       "      <td>-0.483316</td>\n",
       "      <td>-0.352635</td>\n",
       "    </tr>\n",
       "    <tr>\n",
       "      <th>418</th>\n",
       "      <td>-1.909004</td>\n",
       "      <td>-1.055083</td>\n",
       "      <td>-0.106568</td>\n",
       "      <td>0.025236</td>\n",
       "    </tr>\n",
       "    <tr>\n",
       "      <th>419</th>\n",
       "      <td>-1.905123</td>\n",
       "      <td>-1.368487</td>\n",
       "      <td>-0.388393</td>\n",
       "      <td>0.717559</td>\n",
       "    </tr>\n",
       "    <tr>\n",
       "      <th>421</th>\n",
       "      <td>-2.576705</td>\n",
       "      <td>-0.291411</td>\n",
       "      <td>-1.048027</td>\n",
       "      <td>-0.258343</td>\n",
       "    </tr>\n",
       "    <tr>\n",
       "      <th>422</th>\n",
       "      <td>-2.124795</td>\n",
       "      <td>-1.278375</td>\n",
       "      <td>-0.106605</td>\n",
       "      <td>-0.398152</td>\n",
       "    </tr>\n",
       "    <tr>\n",
       "      <th>423</th>\n",
       "      <td>-2.633987</td>\n",
       "      <td>-0.914370</td>\n",
       "      <td>-0.616428</td>\n",
       "      <td>-0.339021</td>\n",
       "    </tr>\n",
       "    <tr>\n",
       "      <th>424</th>\n",
       "      <td>-2.877340</td>\n",
       "      <td>-0.888124</td>\n",
       "      <td>-0.175182</td>\n",
       "      <td>-0.949298</td>\n",
       "    </tr>\n",
       "    <tr>\n",
       "      <th>425</th>\n",
       "      <td>-1.832050</td>\n",
       "      <td>-1.236349</td>\n",
       "      <td>0.246199</td>\n",
       "      <td>-0.874464</td>\n",
       "    </tr>\n",
       "    <tr>\n",
       "      <th>426</th>\n",
       "      <td>-2.113103</td>\n",
       "      <td>-1.641072</td>\n",
       "      <td>0.686120</td>\n",
       "      <td>0.098358</td>\n",
       "    </tr>\n",
       "    <tr>\n",
       "      <th>428</th>\n",
       "      <td>-2.347342</td>\n",
       "      <td>-1.346187</td>\n",
       "      <td>0.595800</td>\n",
       "      <td>0.176427</td>\n",
       "    </tr>\n",
       "    <tr>\n",
       "      <th>429</th>\n",
       "      <td>-2.300042</td>\n",
       "      <td>-1.337008</td>\n",
       "      <td>0.842139</td>\n",
       "      <td>0.271455</td>\n",
       "    </tr>\n",
       "    <tr>\n",
       "      <th>431</th>\n",
       "      <td>-1.699303</td>\n",
       "      <td>-1.224390</td>\n",
       "      <td>0.869776</td>\n",
       "      <td>-0.305796</td>\n",
       "    </tr>\n",
       "  </tbody>\n",
       "</table>\n",
       "<p>435 rows × 4 columns</p>\n",
       "</div>"
      ],
      "text/plain": [
       "            0         1         2         3\n",
       "0   -2.258826  1.808898  0.105165 -0.071553\n",
       "1   -2.015473  1.782651 -0.336081  0.538724\n",
       "7   -1.828534  1.478588 -0.492099  0.365627\n",
       "8   -2.015473  1.782651 -0.336081  0.538724\n",
       "10  -1.332962  1.628942 -0.346234  0.626154\n",
       "11  -1.799927  1.840600 -0.863063 -0.127843\n",
       "14  -1.629588  1.900321 -0.417213  0.410143\n",
       "15  -1.872941  1.926568  0.024033 -0.200134\n",
       "18  -1.629588  1.900321 -0.417213  0.410143\n",
       "28  -2.478214  0.412521  0.633898  1.326507\n",
       "30  -1.629588  1.900321 -0.417213  0.410143\n",
       "33  -2.015473  1.782651 -0.336081  0.538724\n",
       "35  -1.629588  1.900321 -0.417213  0.410143\n",
       "36  -2.470747  1.631613 -0.060184  0.281236\n",
       "37  -2.040455  1.301302 -0.657449  0.718416\n",
       "38  -1.872941  1.926568  0.024033 -0.200134\n",
       "49  -1.629588  1.900321 -0.417213  0.410143\n",
       "51  -2.015473  1.782651 -0.336081  0.538724\n",
       "53  -2.084862  1.749282 -0.141317  0.152655\n",
       "55  -2.043280  1.866847 -0.421817 -0.738120\n",
       "56  -2.429165  1.749177 -0.340684 -0.609539\n",
       "57  -2.258826  1.808898  0.105165 -0.071553\n",
       "58  -2.258826  1.808898  0.105165 -0.071553\n",
       "59  -2.258826  1.808898  0.105165 -0.071553\n",
       "61  -1.629588  1.900321 -0.417213  0.410143\n",
       "65  -2.500811  1.335472 -0.312913  1.061953\n",
       "66  -2.459229  1.453036 -0.593413  0.171178\n",
       "67  -1.872941  1.926568  0.024033 -0.200134\n",
       "71  -2.773456 -0.776889 -0.113248 -0.199502\n",
       "73  -2.548185  0.168750  0.788909  0.412978\n",
       "..        ...       ...       ...       ...\n",
       "385 -2.031026  1.103416 -1.184717  0.043951\n",
       "386 -1.481285  0.040666 -1.209051 -0.686797\n",
       "387 -2.204617 -0.119207 -1.073230 -0.253119\n",
       "388 -1.914955  1.629387 -0.482593  0.306772\n",
       "389 -1.654204 -1.609369 -0.282108  0.042068\n",
       "390 -1.411183  0.373113 -0.195893 -0.058828\n",
       "391 -1.332672 -1.009107 -1.056819  0.035286\n",
       "394 -1.536262  0.271022 -1.342938 -0.134270\n",
       "395 -1.764452 -1.110552 -1.200487 -0.021550\n",
       "396 -2.515209 -0.198802 -1.401894 -0.075994\n",
       "397 -2.028094  0.921080 -1.241297 -0.051929\n",
       "398 -1.696831 -0.017283 -0.682069 -0.020230\n",
       "406 -2.388694  0.389521  0.391413 -0.205832\n",
       "407 -1.562675  1.781166 -0.211490 -0.188132\n",
       "408 -2.859494 -0.492421  0.381343  0.742632\n",
       "411 -2.378190 -1.190017  0.187597 -0.707004\n",
       "414 -1.905123 -1.368487 -0.388393  0.717559\n",
       "415 -2.233182 -0.893577  0.147223 -0.461519\n",
       "417 -2.553054 -1.107077 -0.483316 -0.352635\n",
       "418 -1.909004 -1.055083 -0.106568  0.025236\n",
       "419 -1.905123 -1.368487 -0.388393  0.717559\n",
       "421 -2.576705 -0.291411 -1.048027 -0.258343\n",
       "422 -2.124795 -1.278375 -0.106605 -0.398152\n",
       "423 -2.633987 -0.914370 -0.616428 -0.339021\n",
       "424 -2.877340 -0.888124 -0.175182 -0.949298\n",
       "425 -1.832050 -1.236349  0.246199 -0.874464\n",
       "426 -2.113103 -1.641072  0.686120  0.098358\n",
       "428 -2.347342 -1.346187  0.595800  0.176427\n",
       "429 -2.300042 -1.337008  0.842139  0.271455\n",
       "431 -1.699303 -1.224390  0.869776 -0.305796\n",
       "\n",
       "[435 rows x 4 columns]"
      ]
     },
     "execution_count": 146,
     "metadata": {},
     "output_type": "execute_result"
    }
   ],
   "source": [
    "Z = X.dot(projection_4d)\n",
    "Z"
   ]
  },
  {
   "cell_type": "markdown",
   "metadata": {},
   "source": [
    "Now, conduct the PCA using scikit learn"
   ]
  },
  {
   "cell_type": "code",
   "execution_count": 165,
   "metadata": {
    "collapsed": false
   },
   "outputs": [
    {
     "data": {
      "text/plain": [
       "KMeans(algorithm='auto', copy_x=True, init='k-means++', max_iter=300,\n",
       "    n_clusters=2, n_init=10, n_jobs=1, precompute_distances='auto',\n",
       "    random_state=None, tol=0.0001, verbose=0)"
      ]
     },
     "execution_count": 165,
     "metadata": {},
     "output_type": "execute_result"
    }
   ],
   "source": [
    "from sklearn.cluster import KMeans\n",
    "km = KMeans(n_clusters=2)\n",
    "km.fit(Z)"
   ]
  },
  {
   "cell_type": "code",
   "execution_count": 166,
   "metadata": {
    "collapsed": false
   },
   "outputs": [],
   "source": [
    "y_pred = km.predict(Z)"
   ]
  },
  {
   "cell_type": "code",
   "execution_count": 167,
   "metadata": {
    "collapsed": false
   },
   "outputs": [
    {
     "data": {
      "text/html": [
       "<div>\n",
       "<table border=\"1\" class=\"dataframe\">\n",
       "  <thead>\n",
       "    <tr style=\"text-align: right;\">\n",
       "      <th></th>\n",
       "      <th>predicted_democrat</th>\n",
       "      <th>predicted_republican</th>\n",
       "    </tr>\n",
       "  </thead>\n",
       "  <tbody>\n",
       "    <tr>\n",
       "      <th>is_democrat</th>\n",
       "      <td>225</td>\n",
       "      <td>42</td>\n",
       "    </tr>\n",
       "    <tr>\n",
       "      <th>is_republican</th>\n",
       "      <td>7</td>\n",
       "      <td>161</td>\n",
       "    </tr>\n",
       "  </tbody>\n",
       "</table>\n",
       "</div>"
      ],
      "text/plain": [
       "               predicted_democrat  predicted_republican\n",
       "is_democrat                   225                    42\n",
       "is_republican                   7                   161"
      ]
     },
     "execution_count": 167,
     "metadata": {},
     "output_type": "execute_result"
    }
   ],
   "source": [
    "from sklearn.metrics import confusion_matrix\n",
    "conmat = np.array(confusion_matrix(y, y_pred))\n",
    "confusion = pd.DataFrame(conmat, index=['is_democrat', 'is_republican'],columns=['predicted_democrat', 'predicted_republican'])\n",
    "confusion"
   ]
  },
  {
   "cell_type": "code",
   "execution_count": 168,
   "metadata": {
    "collapsed": false
   },
   "outputs": [
    {
     "name": "stdout",
     "output_type": "stream",
     "text": [
      "             precision    recall  f1-score   support\n",
      "\n",
      "          0       0.97      0.84      0.90       267\n",
      "          1       0.79      0.96      0.87       168\n",
      "\n",
      "avg / total       0.90      0.89      0.89       435\n",
      "\n"
     ]
    }
   ],
   "source": [
    "from sklearn.metrics import classification_report\n",
    "cls_rep = classification_report(y, y_pred)\n",
    "print(cls_rep)"
   ]
  },
  {
   "cell_type": "code",
   "execution_count": 169,
   "metadata": {
    "collapsed": false
   },
   "outputs": [
    {
     "data": {
      "text/plain": [
       "KMeans(algorithm='auto', copy_x=True, init='k-means++', max_iter=300,\n",
       "    n_clusters=2, n_init=10, n_jobs=1, precompute_distances='auto',\n",
       "    random_state=None, tol=0.0001, verbose=0)"
      ]
     },
     "execution_count": 169,
     "metadata": {},
     "output_type": "execute_result"
    }
   ],
   "source": [
    "# Use all fearures from dataset\n",
    "km = KMeans(n_clusters=2)\n",
    "km.fit(X)"
   ]
  },
  {
   "cell_type": "code",
   "execution_count": 170,
   "metadata": {
    "collapsed": false
   },
   "outputs": [
    {
     "data": {
      "text/html": [
       "<div>\n",
       "<table border=\"1\" class=\"dataframe\">\n",
       "  <thead>\n",
       "    <tr style=\"text-align: right;\">\n",
       "      <th></th>\n",
       "      <th>predicted_democrat</th>\n",
       "      <th>predicted_republican</th>\n",
       "    </tr>\n",
       "  </thead>\n",
       "  <tbody>\n",
       "    <tr>\n",
       "      <th>is_democrat</th>\n",
       "      <td>225</td>\n",
       "      <td>42</td>\n",
       "    </tr>\n",
       "    <tr>\n",
       "      <th>is_republican</th>\n",
       "      <td>7</td>\n",
       "      <td>161</td>\n",
       "    </tr>\n",
       "  </tbody>\n",
       "</table>\n",
       "</div>"
      ],
      "text/plain": [
       "               predicted_democrat  predicted_republican\n",
       "is_democrat                   225                    42\n",
       "is_republican                   7                   161"
      ]
     },
     "execution_count": 170,
     "metadata": {},
     "output_type": "execute_result"
    }
   ],
   "source": [
    "y_pred = km.predict(X)\n",
    "conmat = np.array(confusion_matrix(y, y_pred))\n",
    "confusion = pd.DataFrame(conmat, index=['is_democrat', 'is_republican'],columns=['predicted_democrat', 'predicted_republican'])\n",
    "confusion"
   ]
  },
  {
   "cell_type": "code",
   "execution_count": 171,
   "metadata": {
    "collapsed": false
   },
   "outputs": [
    {
     "name": "stdout",
     "output_type": "stream",
     "text": [
      "             precision    recall  f1-score   support\n",
      "\n",
      "          0       0.97      0.84      0.90       267\n",
      "          1       0.79      0.96      0.87       168\n",
      "\n",
      "avg / total       0.90      0.89      0.89       435\n",
      "\n"
     ]
    }
   ],
   "source": [
    "from sklearn.metrics import classification_report\n",
    "cls_rep = classification_report(y, y_pred)\n",
    "print(cls_rep)"
   ]
  },
  {
   "cell_type": "markdown",
   "metadata": {
    "collapsed": false
   },
   "source": [
    "# BONUS Case: Eigenfaces"
   ]
  },
  {
   "cell_type": "markdown",
   "metadata": {
    "collapsed": false
   },
   "source": [
    "We'll explore a well known application of PCA for image analysis, with inspiration from sklearn's documentation example which can be found [here](http://scikit-learn.org/stable/auto_examples/applications/face_recognition.html#sphx-glr-auto-examples-applications-face-recognition-py)"
   ]
  },
  {
   "cell_type": "code",
   "execution_count": 184,
   "metadata": {
    "collapsed": true
   },
   "outputs": [],
   "source": [
    "from sklearn.model_selection import train_test_split\n",
    "from sklearn.datasets import fetch_lfw_people\n",
    "from sklearn.model_selection import GridSearchCV\n",
    "from time import time\n",
    "from sklearn.svm import SVC\n",
    "from sklearn.metrics import classification_report\n",
    "from sklearn.metrics import confusion_matrix\n",
    "%matplotlib inline"
   ]
  },
  {
   "cell_type": "markdown",
   "metadata": {
    "collapsed": true
   },
   "source": [
    "Just running the basic code from sklearn takes several cells, so you should go through it and understand\n",
    "what it is doing. Then you will be asked after that to change some parameters and see how your classification\n",
    "changes.\n",
    "\n",
    "1. Change the number of principal components to use, and see how your classification is affected. Judge based on e.g. the f1 score, the accuracy. You can try for example [10, 15, 25, 50, 100, 250] principal components.\n",
    "- Do you see any evidence of overfitting when using a large number of principal components? Does the dimensionality reduction of PCA seem to be helping your performance here? What if you set the principal components to the number of features? What if you try the classification without PCA?\n",
    "- Try introspecting the principal components, and the data matrices before and after transformation, to get a better intuition of what a principal component means in this context.\n",
    "\n",
    "Bear in mind that each pixel is a feature, and faces clearly have patterns, so a priori we expect that PCA can be very effective."
   ]
  },
  {
   "cell_type": "code",
   "execution_count": 185,
   "metadata": {
    "collapsed": false
   },
   "outputs": [],
   "source": [
    "# Remove this if you prefer\n",
    "from __future__ import print_function"
   ]
  },
  {
   "cell_type": "code",
   "execution_count": 186,
   "metadata": {
    "collapsed": false
   },
   "outputs": [
    {
     "name": "stdout",
     "output_type": "stream",
     "text": [
      "Total dataset size:\n",
      "n_samples: 1288\n",
      "n_features: 1850\n",
      "n_classes: 7\n"
     ]
    }
   ],
   "source": [
    "# Download the data, if not already on disk and load it as numpy arrays\n",
    "# if you get an error try pip install --upgrade pillow\n",
    "lfw_people = fetch_lfw_people(min_faces_per_person=70, resize=0.4)\n",
    "\n",
    "# introspect the images arrays to find the shapes (for plotting)\n",
    "n_samples, h, w = lfw_people.images.shape\n",
    "\n",
    "# for machine learning we use the 2 data directly (as relative pixel\n",
    "# positions info is ignored by this model)\n",
    "X = lfw_people.data\n",
    "n_features = X.shape[1]\n",
    "\n",
    "# the label to predict is the id of the person\n",
    "y = lfw_people.target\n",
    "target_names = lfw_people.target_names\n",
    "n_classes = target_names.shape[0]\n",
    "\n",
    "print(\"Total dataset size:\")\n",
    "print(\"n_samples: %d\" % n_samples)\n",
    "print(\"n_features: %d\" % n_features)\n",
    "print(\"n_classes: %d\" % n_classes)"
   ]
  },
  {
   "cell_type": "code",
   "execution_count": 187,
   "metadata": {
    "collapsed": true
   },
   "outputs": [],
   "source": [
    "# Split into a training and testing set\n",
    "X_train, X_test, y_train, y_test = train_test_split(X, y, test_size=0.25, random_state=42)"
   ]
  },
  {
   "cell_type": "code",
   "execution_count": 199,
   "metadata": {
    "collapsed": false
   },
   "outputs": [
    {
     "name": "stdout",
     "output_type": "stream",
     "text": [
      "Extracting the top 150 eigenfaces from 966 faces\n",
      "done in 0.185s\n",
      "Projecting the input data on the eigenfaces orthonormal basis\n",
      "done in 0.028s\n"
     ]
    }
   ],
   "source": [
    "# Compute a PCA (eigenfaces) on the face dataset (treated as unlabeled\n",
    "# dataset): unsupervised feature extraction / dimensionality reduction\n",
    "n_components = 150\n",
    "\n",
    "print(\"Extracting the top %d eigenfaces from %d faces\" % (n_components, X_train.shape[0]))\n",
    "t0 = time()\n",
    "pca = PCA(n_components=n_components, whiten=True).fit(X_train)\n",
    "print(\"done in %0.3fs\" % (time() - t0))\n",
    "\n",
    "eigenfaces = pca.components_.reshape((n_components, h, w))\n",
    "\n",
    "print(\"Projecting the input data on the eigenfaces orthonormal basis\")\n",
    "t0 = time()\n",
    "X_train_pca = pca.transform(X_train)\n",
    "X_test_pca = pca.transform(X_test)\n",
    "print(\"done in %0.3fs\" % (time() - t0))"
   ]
  },
  {
   "cell_type": "code",
   "execution_count": 200,
   "metadata": {
    "collapsed": false
   },
   "outputs": [
    {
     "name": "stdout",
     "output_type": "stream",
     "text": [
      "Fitting the classifier to the training set... wait\n",
      "done in 29.770s\n",
      "Best estimator found by grid search:\n",
      "SVC(C=1000.0, cache_size=200, class_weight='balanced', coef0=0.0,\n",
      "  decision_function_shape=None, degree=3, gamma=0.001, kernel='rbf',\n",
      "  max_iter=-1, probability=False, random_state=None, shrinking=True,\n",
      "  tol=0.001, verbose=False)\n"
     ]
    }
   ],
   "source": [
    "# Train a SVM classification model\n",
    "\n",
    "print(\"Fitting the classifier to the training set... wait\")\n",
    "t0 = time()\n",
    "param_grid = {\n",
    "         'C': [1e3, 5e3, 1e4, 5e4, 1e5],\n",
    "          'gamma': [0.0001, 0.0005, 0.001, 0.005, 0.01, 0.1],\n",
    "          }\n",
    "# for sklearn version 0.16 or prior, the class_weight parameter value is 'auto'\n",
    "clf = GridSearchCV(SVC(kernel='rbf', class_weight='balanced'), param_grid)\n",
    "clf = clf.fit(X_train_pca, y_train)\n",
    "print(\"done in %0.3fs\" % (time() - t0))\n",
    "print(\"Best estimator found by grid search:\")\n",
    "print(clf.best_estimator_)"
   ]
  },
  {
   "cell_type": "code",
   "execution_count": 201,
   "metadata": {
    "collapsed": false
   },
   "outputs": [
    {
     "name": "stdout",
     "output_type": "stream",
     "text": [
      "Predicting the person names on the testing set\n",
      "done in 0.062s\n",
      "                   precision    recall  f1-score   support\n",
      "\n",
      "     Ariel Sharon       0.42      0.62      0.50        13\n",
      "     Colin Powell       0.75      0.85      0.80        60\n",
      "  Donald Rumsfeld       0.76      0.81      0.79        27\n",
      "    George W Bush       0.92      0.87      0.89       146\n",
      "Gerhard Schroeder       0.75      0.84      0.79        25\n",
      "      Hugo Chavez       0.80      0.53      0.64        15\n",
      "       Tony Blair       0.90      0.75      0.82        36\n",
      "\n",
      "      avg / total       0.83      0.82      0.82       322\n",
      "\n",
      "[[  8   0   3   2   0   0   0]\n",
      " [  4  51   2   2   0   1   0]\n",
      " [  5   0  22   0   0   0   0]\n",
      " [  2  10   1 127   3   1   2]\n",
      " [  0   2   0   2  21   0   0]\n",
      " [  0   2   0   1   3   8   1]\n",
      " [  0   3   1   4   1   0  27]]\n"
     ]
    }
   ],
   "source": [
    "# Evaluation of the model quality on the test set\n",
    "\n",
    "print(\"Predicting the person names on the testing set\")\n",
    "t0 = time()\n",
    "y_pred = clf.predict(X_test_pca)\n",
    "print(\"done in %0.3fs\" % (time() - t0))\n",
    "\n",
    "print(classification_report(y_test, y_pred, target_names=target_names))\n",
    "print(confusion_matrix(y_test, y_pred, labels=range(n_classes)))"
   ]
  },
  {
   "cell_type": "code",
   "execution_count": 202,
   "metadata": {
    "collapsed": false
   },
   "outputs": [
    {
     "name": "stdout",
     "output_type": "stream",
     "text": [
      "Most significant principal components:\n"
     ]
    },
    {
     "data": {
      "image/png": "[encoded data removed]",
      "text/plain": [
       "<matplotlib.figure.Figure at 0x11da7160>"
      ]
     },
     "metadata": {},
     "output_type": "display_data"
    },
    {
     "name": "stdout",
     "output_type": "stream",
     "text": [
      "Representative test data:\n"
     ]
    },
    {
     "data": {
      "image/png": "[encoded data removed]",
      "text/plain": [
       "<matplotlib.figure.Figure at 0x11e03a58>"
      ]
     },
     "metadata": {},
     "output_type": "display_data"
    }
   ],
   "source": [
    "# Qualitative evaluation of the predictions using matplotlib\n",
    "def plot_gallery(images, titles, h, w, n_row=3, n_col=4):\n",
    "    \"\"\"Helper function to plot a gallery of portraits\"\"\"\n",
    "    plt.figure(figsize=(1.8 * n_col, 2.4 * n_row))\n",
    "    plt.subplots_adjust(bottom=0, left=.01, right=.99, top=.90, hspace=.35)\n",
    "    for i in range(n_row * n_col):\n",
    "        plt.subplot(n_row, n_col, i + 1)\n",
    "        plt.imshow(images[i].reshape((h, w)), cmap=plt.cm.gray)\n",
    "        plt.title(titles[i], size=12)\n",
    "        plt.xticks(())\n",
    "        plt.yticks(())\n",
    "    plt.show()\n",
    "\n",
    "# plot the gallery of the most significative eigenfaces\n",
    "print(\"Most significant principal components:\")\n",
    "eigenface_titles = [\"eigenface %d\" % i for i in range(eigenfaces.shape[0])]\n",
    "plot_gallery(eigenfaces, eigenface_titles, h, w)\n",
    "\n",
    "# plot the result of the prediction on a portion of the test set\n",
    "print(\"Representative test data:\")\n",
    "def title(y_pred, y_test, target_names, i):\n",
    "    pred_name = target_names[y_pred[i]].rsplit(' ', 1)[-1]\n",
    "    true_name = target_names[y_test[i]].rsplit(' ', 1)[-1]\n",
    "    return 'predicted: %s\\ntrue:      %s' % (pred_name, true_name)\n",
    "prediction_titles = [title(y_pred, y_test, target_names, i)\n",
    "                     for i in range(y_pred.shape[0])]\n",
    "plot_gallery(X_test, prediction_titles, h, w)"
   ]
  },
  {
   "cell_type": "code",
   "execution_count": null,
   "metadata": {
    "collapsed": true
   },
   "outputs": [],
   "source": []
  },
  {
   "cell_type": "code",
   "execution_count": null,
   "metadata": {
    "collapsed": true
   },
   "outputs": [],
   "source": []
  }
 ],
 "metadata": {
  "anaconda-cloud": {},
  "kernelspec": {
   "display_name": "Python [Root]",
   "language": "python",
   "name": "Python [Root]"
  },
  "language_info": {
   "codemirror_mode": {
    "name": "ipython",
    "version": 2
   },
   "file_extension": ".py",
   "mimetype": "text/x-python",
   "name": "python",
   "nbconvert_exporter": "python",
   "pygments_lexer": "ipython2",
   "version": "2.7.12"
  }
 },
 "nbformat": 4,
 "nbformat_minor": 0
}
