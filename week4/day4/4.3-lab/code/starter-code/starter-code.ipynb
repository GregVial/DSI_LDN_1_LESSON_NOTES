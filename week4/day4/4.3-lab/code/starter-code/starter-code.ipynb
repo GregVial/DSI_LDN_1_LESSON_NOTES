{
 "cells": [
  {
   "cell_type": "code",
   "execution_count": 5,
   "metadata": {
    "collapsed": false
   },
   "outputs": [],
   "source": [
    "# import all depedencies first cell\n",
    "import numpy as np\n",
    "import pandas as pd\n",
    "from sklearn import linear_model, metrics, cross_validation"
   ]
  },
  {
   "cell_type": "code",
   "execution_count": 6,
   "metadata": {
    "collapsed": true
   },
   "outputs": [],
   "source": [
    "# define functions in one cell, call when you need\n",
    "def read_csv(path):\n",
    "    return pd.read_csv(path)"
   ]
  },
  {
   "cell_type": "code",
   "execution_count": 7,
   "metadata": {
    "collapsed": true
   },
   "outputs": [],
   "source": [
    "path = '../../assets/datasets/bikeshare.csv'\n",
    "bikeshare = read_csv(path)"
   ]
  },
  {
   "cell_type": "code",
   "execution_count": 8,
   "metadata": {
    "collapsed": false,
    "scrolled": true
   },
   "outputs": [
    {
     "data": {
      "text/html": [
       "<div>\n",
       "<table border=\"1\" class=\"dataframe\">\n",
       "  <thead>\n",
       "    <tr style=\"text-align: right;\">\n",
       "      <th></th>\n",
       "      <th>instant</th>\n",
       "      <th>dteday</th>\n",
       "      <th>season</th>\n",
       "      <th>yr</th>\n",
       "      <th>mnth</th>\n",
       "      <th>hr</th>\n",
       "      <th>holiday</th>\n",
       "      <th>weekday</th>\n",
       "      <th>workingday</th>\n",
       "      <th>weathersit</th>\n",
       "      <th>temp</th>\n",
       "      <th>atemp</th>\n",
       "      <th>hum</th>\n",
       "      <th>windspeed</th>\n",
       "      <th>casual</th>\n",
       "      <th>registered</th>\n",
       "      <th>cnt</th>\n",
       "    </tr>\n",
       "  </thead>\n",
       "  <tbody>\n",
       "    <tr>\n",
       "      <th>0</th>\n",
       "      <td>1</td>\n",
       "      <td>2011-01-01</td>\n",
       "      <td>1</td>\n",
       "      <td>0</td>\n",
       "      <td>1</td>\n",
       "      <td>0</td>\n",
       "      <td>0</td>\n",
       "      <td>6</td>\n",
       "      <td>0</td>\n",
       "      <td>1</td>\n",
       "      <td>0.24</td>\n",
       "      <td>0.2879</td>\n",
       "      <td>0.81</td>\n",
       "      <td>0.0</td>\n",
       "      <td>3</td>\n",
       "      <td>13</td>\n",
       "      <td>16</td>\n",
       "    </tr>\n",
       "    <tr>\n",
       "      <th>1</th>\n",
       "      <td>2</td>\n",
       "      <td>2011-01-01</td>\n",
       "      <td>1</td>\n",
       "      <td>0</td>\n",
       "      <td>1</td>\n",
       "      <td>1</td>\n",
       "      <td>0</td>\n",
       "      <td>6</td>\n",
       "      <td>0</td>\n",
       "      <td>1</td>\n",
       "      <td>0.22</td>\n",
       "      <td>0.2727</td>\n",
       "      <td>0.80</td>\n",
       "      <td>0.0</td>\n",
       "      <td>8</td>\n",
       "      <td>32</td>\n",
       "      <td>40</td>\n",
       "    </tr>\n",
       "  </tbody>\n",
       "</table>\n",
       "</div>"
      ],
      "text/plain": [
       "   instant      dteday  season  yr  mnth  hr  holiday  weekday  workingday  \\\n",
       "0        1  2011-01-01       1   0     1   0        0        6           0   \n",
       "1        2  2011-01-01       1   0     1   1        0        6           0   \n",
       "\n",
       "   weathersit  temp   atemp   hum  windspeed  casual  registered  cnt  \n",
       "0           1  0.24  0.2879  0.81        0.0       3          13   16  \n",
       "1           1  0.22  0.2727  0.80        0.0       8          32   40  "
      ]
     },
     "execution_count": 8,
     "metadata": {},
     "output_type": "execute_result"
    }
   ],
   "source": [
    "# get the data dictionary of bikeshare to see possible feature candidates\n",
    "bikeshare.head(2)"
   ]
  },
  {
   "cell_type": "code",
   "execution_count": 16,
   "metadata": {
    "collapsed": false
   },
   "outputs": [
    {
     "data": {
      "text/html": [
       "<div>\n",
       "<table border=\"1\" class=\"dataframe\">\n",
       "  <thead>\n",
       "    <tr style=\"text-align: right;\">\n",
       "      <th></th>\n",
       "      <th>temp</th>\n",
       "      <th>hum</th>\n",
       "      <th>1</th>\n",
       "      <th>2</th>\n",
       "      <th>3</th>\n",
       "      <th>4</th>\n",
       "    </tr>\n",
       "  </thead>\n",
       "  <tbody>\n",
       "    <tr>\n",
       "      <th>0</th>\n",
       "      <td>0.24</td>\n",
       "      <td>0.81</td>\n",
       "      <td>1.0</td>\n",
       "      <td>0.0</td>\n",
       "      <td>0.0</td>\n",
       "      <td>0.0</td>\n",
       "    </tr>\n",
       "    <tr>\n",
       "      <th>1</th>\n",
       "      <td>0.22</td>\n",
       "      <td>0.80</td>\n",
       "      <td>1.0</td>\n",
       "      <td>0.0</td>\n",
       "      <td>0.0</td>\n",
       "      <td>0.0</td>\n",
       "    </tr>\n",
       "    <tr>\n",
       "      <th>2</th>\n",
       "      <td>0.22</td>\n",
       "      <td>0.80</td>\n",
       "      <td>1.0</td>\n",
       "      <td>0.0</td>\n",
       "      <td>0.0</td>\n",
       "      <td>0.0</td>\n",
       "    </tr>\n",
       "  </tbody>\n",
       "</table>\n",
       "</div>"
      ],
      "text/plain": [
       "   temp   hum    1    2    3    4\n",
       "0  0.24  0.81  1.0  0.0  0.0  0.0\n",
       "1  0.22  0.80  1.0  0.0  0.0  0.0\n",
       "2  0.22  0.80  1.0  0.0  0.0  0.0"
      ]
     },
     "execution_count": 16,
     "metadata": {},
     "output_type": "execute_result"
    }
   ],
   "source": [
    "# assume we want 2 features, 'temp' and 'hum' and weathersit, because\n",
    "# weathersit is categorical we must make dummy variables\n",
    "# create a new dataframe with only features temp and hum, \n",
    "# and all dummy variables required for weathersit (hint n - 1 classes)\n",
    "# hint (pd.get_dummies(df_column)) will transform your variable \n",
    "# into n dummy classes\n",
    "# hint, use .join to merge two dataframes on a common key (default inner join on index)\n",
    "# call your features dataframe 'modeldata' and your y response column 'y'\n",
    "\n",
    "y = bikeshare['cnt']\n",
    "\n",
    "weathersit_dummies = pd.get_dummies(bikeshare['weathersit'])\n",
    "modeldata = bikeshare[['temp','hum']].join(weathersit_dummies)\n",
    "modeldata.head(3)"
   ]
  },
  {
   "cell_type": "code",
   "execution_count": 19,
   "metadata": {
    "collapsed": false
   },
   "outputs": [],
   "source": [
    "kf = cross_validation.KFold(len(modeldata), n_folds=5, shuffle=True)\n",
    "\n",
    "# you must define modeldata in cell above for kf assignment to run\n",
    "# kf returns a dictionary composed of key-value pairs"
   ]
  },
  {
   "cell_type": "code",
   "execution_count": 20,
   "metadata": {
    "collapsed": true
   },
   "outputs": [],
   "source": [
    "lm_obj = linear_model.LinearRegression() # instaniate only one time\n",
    "scores = [] # we will append mse scores from each iteration in kf\n",
    "for train_index, test_index in kf: # for (key,value) in dictionary\n",
    "    x_train = modeldata.iloc[train_index] # get new set each iteration\n",
    "    y_train = y.iloc[train_index]\n",
    "    \n",
    "    x_test = modeldata.iloc[test_index] # get new test data each iteration\n",
    "    y_test = y.iloc[test_index]\n",
    "        \n",
    "    lm = lm_obj.fit(x_train, y_train) # fit new model each iteration\n",
    "    x_test_pred = lm.predict(x_test)\n",
    "\n",
    "    mse = metrics.mean_squared_error(y_test,x_test_pred) \n",
    "    # get new mse each iteration\n",
    "    scores.append(mse) # append mse scores from each model to scores list"
   ]
  },
  {
   "cell_type": "code",
   "execution_count": 25,
   "metadata": {
    "collapsed": false
   },
   "outputs": [
    {
     "data": {
      "text/plain": [
       "24578.423856193498"
      ]
     },
     "execution_count": 25,
     "metadata": {},
     "output_type": "execute_result"
    }
   ],
   "source": [
    "# print the mean mse score from all iterations, explain output\n",
    "np.mean(scores)"
   ]
  },
  {
   "cell_type": "markdown",
   "metadata": {},
   "source": [
    "Here we get the expected MSE for unseen test set"
   ]
  },
  {
   "cell_type": "code",
   "execution_count": 30,
   "metadata": {
    "collapsed": false
   },
   "outputs": [
    {
     "name": "stdout",
     "output_type": "stream",
     "text": [
      "24567.5188864\n"
     ]
    }
   ],
   "source": [
    "# fit a regression model on all the model and outcome data (modeldata and y)\n",
    "# hint use, linear_model.LinearRegression().fit()\n",
    "# get predictions from fitted model using same model data\n",
    "# calculate MSE and interpret \n",
    "# hint MSE = SSE/n = (y - y_est)/n, y_est = lm.predict(modeldata)\n",
    "\n",
    "model = linear_model.LinearRegression().fit(modeldata,y)\n",
    "predictions = model.predict(modeldata)\n",
    "mse = metrics.mean_squared_error(y,predictions)\n",
    "print(mse)"
   ]
  },
  {
   "cell_type": "markdown",
   "metadata": {},
   "source": [
    "Here we get the MSE for data already seen during the training. It is better than previous MSE, but less realistic to represent what to expect of unseen data."
   ]
  },
  {
   "cell_type": "code",
   "execution_count": 42,
   "metadata": {
    "collapsed": false
   },
   "outputs": [
    {
     "name": "stdout",
     "output_type": "stream",
     "text": [
      "\n",
      "alpha: 0.1\n",
      "24964.3412556\n",
      "\n",
      "alpha: 0.000597167954614\n",
      "24567.548839\n"
     ]
    }
   ],
   "source": [
    "# fit a lasso regression model on all the model and outcome data (modeldata and y)\n",
    "# hint use, linear_model.Lasso().fit()\n",
    "# get predictions from fitted model using same model data\n",
    "# calculate MSE and interpret\n",
    "# hint MSE = SSE/n = (y - y_est)/n, y_est = lm.predict(modeldata)\n",
    "\n",
    "model2 = linear_model.Lasso(alpha = .1,normalize=True).fit(modeldata,y)\n",
    "predictions2 = model2.predict(modeldata)\n",
    "print \"\\nalpha: 0.1\"\n",
    "mse2 = metrics.mean_squared_error(y,predictions2)\n",
    "print(mse2)\n",
    "\n",
    "llmcv = linear_model.LassoCV(normalize=True)\n",
    "model3 = llmcv.fit(modeldata, y)\n",
    "predictions3 = model3.predict(modeldata)\n",
    "print \"\\nalpha:\", llmcv.alpha_\n",
    "mse3 = metrics.mean_squared_error(y,predictions3)\n",
    "print(mse3)"
   ]
  },
  {
   "cell_type": "code",
   "execution_count": 48,
   "metadata": {
    "collapsed": false
   },
   "outputs": [
    {
     "name": "stdout",
     "output_type": "stream",
     "text": [
      "\n",
      "alpha: 0.1\n",
      "24637.0273161\n"
     ]
    }
   ],
   "source": [
    "# fit a Ridge regression model on all the model and outcome data (modeldata and y)\n",
    "# hint use, linear_model.Ridge().fit()\n",
    "# get predictions from fitted model using same model data\n",
    "# calculate MSE and interpret\n",
    "# hint MSE = SSE/n = (y - y_est)/n, y_est = lm.predict(modeldata)\n",
    "\n",
    "rlmcv = linear_model.RidgeCV(normalize=True)\n",
    "model4 = rlmcv.fit(modeldata, y)\n",
    "predictions4 = model4.predict(modeldata)\n",
    "print \"\\nalpha:\", rlmcv.alpha_\n",
    "mse4 = metrics.mean_squared_error(y,predictions4)\n",
    "print(mse4)"
   ]
  },
  {
   "cell_type": "code",
   "execution_count": null,
   "metadata": {
    "collapsed": true
   },
   "outputs": [],
   "source": []
  }
 ],
 "metadata": {
  "kernelspec": {
   "display_name": "Python [Root]",
   "language": "python",
   "name": "Python [Root]"
  },
  "language_info": {
   "codemirror_mode": {
    "name": "ipython",
    "version": 2
   },
   "file_extension": ".py",
   "mimetype": "text/x-python",
   "name": "python",
   "nbconvert_exporter": "python",
   "pygments_lexer": "ipython2",
   "version": "2.7.12"
  }
 },
 "nbformat": 4,
 "nbformat_minor": 0
}
