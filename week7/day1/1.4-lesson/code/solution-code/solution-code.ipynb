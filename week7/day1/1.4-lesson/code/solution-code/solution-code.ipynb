{
 "cells": [
  {
   "cell_type": "markdown",
   "metadata": {},
   "source": [
    "## Lesson 1.4 - Independant Practice"
   ]
  },
  {
   "cell_type": "markdown",
   "metadata": {},
   "source": [
    "Here's the situation - your working with a Postgre Database at a large wine distributor who needs you to maintain their database. You'll use some of your advanced SQl skills to take care of customer cases. Let's begin! \n",
    "\n",
    "First, let's load in the ipython sql extension so that we can use sql within the ipython notebook. "
   ]
  },
  {
   "cell_type": "code",
   "execution_count": 2,
   "metadata": {
    "collapsed": false
   },
   "outputs": [
    {
     "name": "stderr",
     "output_type": "stream",
     "text": [
      "//anaconda/lib/python3.5/site-packages/IPython/config.py:13: ShimWarning: The `IPython.config` package has been deprecated. You should import from traitlets.config instead.\n",
      "  \"You should import from traitlets.config instead.\", ShimWarning)\n",
      "//anaconda/lib/python3.5/site-packages/IPython/utils/traitlets.py:5: UserWarning: IPython.utils.traitlets has moved to a top-level traitlets package.\n",
      "  warn(\"IPython.utils.traitlets has moved to a top-level traitlets package.\")\n"
     ]
    }
   ],
   "source": [
    "%load_ext sql"
   ]
  },
  {
   "cell_type": "markdown",
   "metadata": {},
   "source": [
    "Connect to the database. Note - enter your own connection string. For help on how to load the raw CSV file into a Postgre database, please refer to the documenatation in the lesson plan on previous SQL lessons. "
   ]
  },
  {
   "cell_type": "code",
   "execution_count": null,
   "metadata": {
    "collapsed": true
   },
   "outputs": [],
   "source": []
  },
  {
   "cell_type": "markdown",
   "metadata": {},
   "source": [
    "Select all of the wines with varietal type \"Cabernet\" that have an alcohol content above 5 and create a new column "
   ]
  },
  {
   "cell_type": "code",
   "execution_count": null,
   "metadata": {
    "collapsed": true
   },
   "outputs": [],
   "source": [
    "result = % sql SELECT varietal,\n",
    "       CASE WHEN alcohol > 10 THEN '1'\n",
    "            ELSE NULL END AS cab_column\n",
    "  FROM WINE"
   ]
  },
  {
   "cell_type": "markdown",
   "metadata": {},
   "source": [
    "Someone decided that they wanted to purchase *all* of these high alcohol cabs for their resteraunts, so make sure to mark them as *sold*. Your predicesor forgot to add a column for *sales date*, so you will have to add this in to the database table as well. "
   ]
  },
  {
   "cell_type": "code",
   "execution_count": null,
   "metadata": {
    "collapsed": true
   },
   "outputs": [],
   "source": [
    "%sql ALTER TABLE wine\n",
    "ADD sale_date datatype"
   ]
  },
  {
   "cell_type": "markdown",
   "metadata": {},
   "source": [
    "Select all of the cabernets with high alcohol"
   ]
  },
  {
   "cell_type": "code",
   "execution_count": null,
   "metadata": {
    "collapsed": true
   },
   "outputs": [],
   "source": [
    "%sql SELECT * \n",
    "     FROM WINE \n",
    "     WHERE varietal IN (SELECT varietal \n",
    "                  FROM CUSTOMERS \n",
    "                  WHERE cab_column = 1) ;"
   ]
  },
  {
   "cell_type": "markdown",
   "metadata": {},
   "source": [
    "Set their sale date to today"
   ]
  },
  {
   "cell_type": "code",
   "execution_count": null,
   "metadata": {
    "collapsed": true
   },
   "outputs": [],
   "source": [
    "UPDATE WINE SET sale_date = CURRENT_DATE"
   ]
  },
  {
   "cell_type": "markdown",
   "metadata": {},
   "source": [
    "Now, for our analysis we want to take a look at all the high quality wines. Select the wines with ratings above 7 and save the result as a pandas dataframe"
   ]
  },
  {
   "cell_type": "code",
   "execution_count": null,
   "metadata": {
    "collapsed": true
   },
   "outputs": [],
   "source": [
    "hQuality = %sql SELECT * \n",
    "                 FROM WINE\n",
    "                 WHERE varietal IN (SELECT varietal\n",
    "                      FROM WINE\n",
    "                      WHERE quality > 7) ;"
   ]
  },
  {
   "cell_type": "code",
   "execution_count": null,
   "metadata": {
    "collapsed": true
   },
   "outputs": [],
   "source": [
    "df = hQuality.DataFrame()"
   ]
  },
  {
   "cell_type": "markdown",
   "metadata": {},
   "source": [
    "But wait! You just recieved a call that we not only want to view high quality wines, but we want to see high quality wines with low acidity and medium alcohol content. Remember, we cannot include the wines already sold in this query. "
   ]
  },
  {
   "cell_type": "code",
   "execution_count": null,
   "metadata": {
    "collapsed": true
   },
   "outputs": [],
   "source": [
    "hQuality2 = %sql SELECT * \n",
    "                 FROM WINE\n",
    "                 WHERE varietal IN (SELECT varietal\n",
    "                      FROM WINE\n",
    "                      WHERE quality > 7 AND acidity < 7.5 AND cab_column != 1) "
   ]
  },
  {
   "cell_type": "code",
   "execution_count": null,
   "metadata": {
    "collapsed": true
   },
   "outputs": [],
   "source": [
    "df2 = hQuality2.DataFrame()"
   ]
  },
  {
   "cell_type": "markdown",
   "metadata": {},
   "source": [
    "Lastly, we want to round the density column to two variables within the database."
   ]
  },
  {
   "cell_type": "markdown",
   "metadata": {},
   "source": [
    "%sql UPDATE WINE, ROUND(density,2) AS RoundedDensity\n",
    "FROM WINE;"
   ]
  },
  {
   "cell_type": "markdown",
   "metadata": {},
   "source": [
    "**BONUS**: Continue to transform the data within the SQL database Pinot Noir's with low citric acid "
   ]
  },
  {
   "cell_type": "code",
   "execution_count": null,
   "metadata": {
    "collapsed": true
   },
   "outputs": [],
   "source": []
  }
 ],
 "metadata": {
  "kernelspec": {
   "display_name": "Python 3",
   "language": "python",
   "name": "python3"
  },
  "language_info": {
   "codemirror_mode": {
    "name": "ipython",
    "version": 3
   },
   "file_extension": ".py",
   "mimetype": "text/x-python",
   "name": "python",
   "nbconvert_exporter": "python",
   "pygments_lexer": "ipython3",
   "version": "3.5.1"
  }
 },
 "nbformat": 4,
 "nbformat_minor": 0
}
