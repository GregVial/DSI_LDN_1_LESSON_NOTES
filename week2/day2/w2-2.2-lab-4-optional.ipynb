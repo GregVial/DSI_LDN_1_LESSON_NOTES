{
 "cells": [
  {
   "cell_type": "markdown",
   "metadata": {},
   "source": [
    "Code Challenge:\n",
    "\n",
    "The Arara (https://en.wikipedia.org/wiki/Arara_people) are an isolated tribe found in the Amazon who count in pairs. \n",
    "For example one to eight is as follows:\n",
    "\n",
    "\n",
    "- 1 = anane \n",
    "- 2 = adak \n",
    "- 3 = adak anane \n",
    "- 4 = adak adak \n",
    "- 5 = adak adak anane \n",
    "- 6 = adak adak adak\n",
    "- 7 = adak adak adak anane\n",
    "- 8 = adak adak adak adak \n",
    "\n",
    "\n",
    "Requirements\n",
    "- Take a given number and return the Arara's equivalent\n",
    "- Use pytest package to enable testing \n",
    "\n",
    "assert count_arara(3) == 'adak anane'\n",
    "assert count_arara(8) == 'adak adak adak adak'"
   ]
  },
  {
   "cell_type": "code",
   "execution_count": 23,
   "metadata": {
    "collapsed": true
   },
   "outputs": [],
   "source": [
    "def to_arare(n):\n",
    "    if n % 2 == 0:\n",
    "        print str(n) + \" adak\" * (n/2)\n",
    "    else:\n",
    "        print str(n) + \" adak\" * (n/2) + \" anane\""
   ]
  },
  {
   "cell_type": "code",
   "execution_count": 25,
   "metadata": {
    "collapsed": false
   },
   "outputs": [
    {
     "name": "stdout",
     "output_type": "stream",
     "text": [
      "0\n",
      "1 anane\n",
      "2 adak\n",
      "3 adak anane\n",
      "4 adak adak\n",
      "5 adak adak anane\n",
      "6 adak adak adak\n",
      "7 adak adak adak anane\n",
      "8 adak adak adak adak\n"
     ]
    }
   ],
   "source": [
    "for i in range(9):\n",
    "    to_arare(i)\n"
   ]
  },
  {
   "cell_type": "code",
   "execution_count": 27,
   "metadata": {
    "collapsed": false
   },
   "outputs": [],
   "source": [
    "import pytest\n",
    "def test_answer():\n",
    "    assert func(1) == \"anane\""
   ]
  },
  {
   "cell_type": "code",
   "execution_count": 28,
   "metadata": {
    "collapsed": false
   },
   "outputs": [
    {
     "data": {
      "text/plain": [
       "<module 'pytest' from '/home/dsi-student/anaconda2/lib/python2.7/site-packages/pytest.pyc'>"
      ]
     },
     "execution_count": 28,
     "metadata": {},
     "output_type": "execute_result"
    }
   ],
   "source": [
    "pytest"
   ]
  },
  {
   "cell_type": "code",
   "execution_count": null,
   "metadata": {
    "collapsed": true
   },
   "outputs": [],
   "source": []
  }
 ],
 "metadata": {
  "anaconda-cloud": {},
  "kernelspec": {
   "display_name": "Python [conda root]",
   "language": "python",
   "name": "conda-root-py"
  },
  "language_info": {
   "codemirror_mode": {
    "name": "ipython",
    "version": 2
   },
   "file_extension": ".py",
   "mimetype": "text/x-python",
   "name": "python",
   "nbconvert_exporter": "python",
   "pygments_lexer": "ipython2",
   "version": "2.7.12"
  }
 },
 "nbformat": 4,
 "nbformat_minor": 1
}
