{
 "cells": [
  {
   "cell_type": "markdown",
   "metadata": {},
   "source": [
    "# Homework w02d05 - pandas merge and pivot tables\n",
    "\n",
    "The following data are taken from Ben Forta's Sams Teach Yourself SQL in 10 Minutes (http://www.forta.com/books/0672336073/). Load the following five dictionaries into pandas dataframes and construct the required output by merging and pivoting. Decide what type of merge you want to choose (you have to choose one of the options [inner, outer, left, right] for the parameter how)."
   ]
  },
  {
   "cell_type": "code",
   "execution_count": 1,
   "metadata": {
    "collapsed": true
   },
   "outputs": [],
   "source": [
    "import pandas as pd\n",
    "import numpy as np"
   ]
  },
  {
   "cell_type": "code",
   "execution_count": 2,
   "metadata": {
    "collapsed": false
   },
   "outputs": [],
   "source": [
    "customers = {'cust_address': {0: '200 Maple Lane',\n",
    "  1: '333 South Lake Drive',\n",
    "  2: '1 Sunny Place',\n",
    "  3: '829 Riverside Drive',\n",
    "  4: '4545 53rd Street'},\n",
    " 'cust_city': {0: 'Detroit',\n",
    "  1: 'Columbus',\n",
    "  2: 'Muncie',\n",
    "  3: 'Phoenix',\n",
    "  4: 'Chicago'},\n",
    " 'cust_contact': {0: 'John Smith',\n",
    "  1: 'Michelle Green ',\n",
    "  2: 'Jim Jones',\n",
    "  3: 'Denise L. Stephens',\n",
    "  4: 'Kim Howard '},\n",
    " 'cust_country': {0: 'USA', 1: 'USA', 2: 'USA', 3: 'USA', 4: 'USA'},\n",
    " 'cust_email': {0: 'sales@villagetoys.com ',\n",
    "  1: None,\n",
    "  2: 'jjones@fun4all.com ',\n",
    "  3: 'dstephens@fun4all.com ',\n",
    "  4: None},\n",
    " 'cust_id': {0: 1000000001,\n",
    "  1: 1000000002,\n",
    "  2: 1000000003,\n",
    "  3: 1000000004,\n",
    "  4: 1000000005},\n",
    " 'cust_name': {0: 'Village Toys',\n",
    "  1: 'Kids Place',\n",
    "  2: 'Fun4All',\n",
    "  3: 'Fun4All',\n",
    "  4: 'The Toy Store'},\n",
    " 'cust_state': {0: 'MI', 1: 'OH', 2: 'IN', 3: 'AZ', 4: 'IL'},\n",
    " 'cust_zip': {0: 44444, 1: 43333, 2: 42222, 3: 88888, 4: 54545}}\n",
    "\n",
    "\n",
    "vendors = {'vend_address': {0: '123 Main Street',\n",
    "  1: '500 Park Street',\n",
    "  2: '555 High Street',\n",
    "  3: '1000 5th Avenue',\n",
    "  4: '42 Galaxy Road',\n",
    "  5: '1 Rue Amusement'},\n",
    " 'vend_city': {0: 'Bear Town',\n",
    "  1: 'Anytown',\n",
    "  2: 'Dollsville',\n",
    "  3: 'New York',\n",
    "  4: 'London',\n",
    "  5: 'Paris'},\n",
    " 'vend_country': {0: 'USA',\n",
    "  1: 'USA',\n",
    "  2: 'USA',\n",
    "  3: 'USA',\n",
    "  4: 'England',\n",
    "  5: 'France'},\n",
    " 'vend_id': {0: 'BRS01',\n",
    "  1: 'BRE02',\n",
    "  2: 'DLL01',\n",
    "  3: 'FRB01',\n",
    "  4: 'FNG01',\n",
    "  5: 'JTS01'},\n",
    " 'vend_name': {0: 'Bears R Us',\n",
    "  1: 'Bear Emporium',\n",
    "  2: 'Doll House Inc.',\n",
    "  3: 'Furball Inc.',\n",
    "  4: 'Fun and Games',\n",
    "  5: 'Jouets et ours'},\n",
    " 'vend_state': {0: 'MI', 1: 'OH', 2: 'CA', 3: 'NY', 4: np.nan, 5: np.nan},\n",
    " 'vend_zip': {0: '44444',\n",
    "  1: '44333',\n",
    "  2: '99999',\n",
    "  3: '11111',\n",
    "  4: 'N16 6PS',\n",
    "  5: '45678'}}\n",
    "\n",
    "products = {'prod_desc': {0: '8 inch teddy bear comes with cap and jacket',\n",
    "  1: '12 inch teddy bear comes with cap and jacket',\n",
    "  2: '18 inch teddy bear comes with cap and jacket',\n",
    "  3: 'Fish bean bag toy complete with bean bag worms with which to feed it',\n",
    "  4: 'Bird bean bag toy eggs are not included',\n",
    "  5: 'Rabbit bean bag toy comes with bean bag carrots',\n",
    "  6: '18 inch Raggedy Ann doll',\n",
    "  7: '12 inch king doll with royal garments and crown',\n",
    "  8: '12 inch queen doll with royal garments and crown'},\n",
    " 'prod_id': {0: 'BR01',\n",
    "  1: 'BR02',\n",
    "  2: 'BR03',\n",
    "  3: 'BNBG01',\n",
    "  4: 'BNBG02',\n",
    "  5: 'BNBG03',\n",
    "  6: 'RGAN01',\n",
    "  7: 'RYL01',\n",
    "  8: 'RYL02'},\n",
    " 'prod_name': {0: '8 inch teddy bear',\n",
    "  1: '12 inch teddy bear',\n",
    "  2: '18 inch teddy bear',\n",
    "  3: 'Fish bean bag toy',\n",
    "  4: 'Bird bean bag toy',\n",
    "  5: 'Rabbit bean bag toy',\n",
    "  6: 'Raggedy Ann',\n",
    "  7: 'King doll',\n",
    "  8: 'Queen doll'},\n",
    " 'prod_price': {0: 5.9900000000000002,\n",
    "  1: 8.9900000000000002,\n",
    "  2: 11.99,\n",
    "  3: 3.4900000000000002,\n",
    "  4: 3.4900000000000002,\n",
    "  5: 3.4900000000000002,\n",
    "  6: 4.9900000000000002,\n",
    "  7: 9.4900000000000002,\n",
    "  8: 9.4900000000000002},\n",
    " 'vend_id': {0: 'BRS01',\n",
    "  1: 'BRS01',\n",
    "  2: 'BRS01',\n",
    "  3: 'DLL01',\n",
    "  4: 'DLL01',\n",
    "  5: 'DLL01',\n",
    "  6: 'DLL01',\n",
    "  7: 'FNG01',\n",
    "  8: 'FNG01'}}\n",
    "\n",
    "orders = {'cust_id': {0: 1000000001,\n",
    "  1: 1000000003,\n",
    "  2: 1000000004,\n",
    "  3: 1000000005,\n",
    "  4: 1000000001},\n",
    " 'order_date': {0: '2012-05-01',\n",
    "  1: '2012-01-12',\n",
    "  2: '2012-01-30',\n",
    "  3: '2012-02-03',\n",
    "  4: '2012-02-08'},\n",
    " 'order_num': {0: 20005, 1: 20006, 2: 20007, 3: 20008, 4: 20009}}\n",
    "\n",
    "orders_items = {'item_price': {0: 5.4900000000000002,\n",
    "  1: 10.99,\n",
    "  2: 5.9900000000000002,\n",
    "  3: 8.9900000000000002,\n",
    "  4: 11.99,\n",
    "  5: 11.49,\n",
    "  6: 2.9900000000000002,\n",
    "  7: 2.9900000000000002,\n",
    "  8: 2.9900000000000002,\n",
    "  9: 4.4900000000000002,\n",
    "  10: 4.9900000000000002,\n",
    "  11: 11.99,\n",
    "  12: 3.4900000000000002,\n",
    "  13: 3.4900000000000002,\n",
    "  14: 3.4900000000000002,\n",
    "  15: 2.4900000000000002,\n",
    "  16: 2.4900000000000002,\n",
    "  17: 2.4900000000000002},\n",
    " 'order_item': {0: 1,\n",
    "  1: 2,\n",
    "  2: 1,\n",
    "  3: 2,\n",
    "  4: 3,\n",
    "  5: 1,\n",
    "  6: 2,\n",
    "  7: 3,\n",
    "  8: 4,\n",
    "  9: 5,\n",
    "  10: 1,\n",
    "  11: 2,\n",
    "  12: 3,\n",
    "  13: 4,\n",
    "  14: 5,\n",
    "  15: 1,\n",
    "  16: 2,\n",
    "  17: 3},\n",
    " 'order_num': {0: 20005,\n",
    "  1: 20005,\n",
    "  2: 20006,\n",
    "  3: 20006,\n",
    "  4: 20006,\n",
    "  5: 20007,\n",
    "  6: 20007,\n",
    "  7: 20007,\n",
    "  8: 20007,\n",
    "  9: 20007,\n",
    "  10: 20008,\n",
    "  11: 20008,\n",
    "  12: 20008,\n",
    "  13: 20008,\n",
    "  14: 20008,\n",
    "  15: 20009,\n",
    "  16: 20009,\n",
    "  17: 20009},\n",
    " 'prod_id': {0: 'BR01',\n",
    "  1: 'BR03',\n",
    "  2: 'BR01',\n",
    "  3: 'BR02',\n",
    "  4: 'BR03',\n",
    "  5: 'BR03',\n",
    "  6: 'BNBG01',\n",
    "  7: 'BNBG02',\n",
    "  8: 'BNBG03',\n",
    "  9: 'RGAN01',\n",
    "  10: 'RGAN01',\n",
    "  11: 'BR03',\n",
    "  12: 'BNBG01',\n",
    "  13: 'BNBG02',\n",
    "  14: 'BNBG03',\n",
    "  15: 'BNBG01',\n",
    "  16: 'BNBG02',\n",
    "  17: 'BNBG03'},\n",
    " 'quantity': {0: 100,\n",
    "  1: 100,\n",
    "  2: 20,\n",
    "  3: 10,\n",
    "  4: 10,\n",
    "  5: 50,\n",
    "  6: 100,\n",
    "  7: 100,\n",
    "  8: 100,\n",
    "  9: 50,\n",
    "  10: 5,\n",
    "  11: 5,\n",
    "  12: 10,\n",
    "  13: 10,\n",
    "  14: 10,\n",
    "  15: 250,\n",
    "  16: 250,\n",
    "  17: 250}}"
   ]
  },
  {
   "cell_type": "markdown",
   "metadata": {},
   "source": [
    "### 0. Load the dictionaries into pandas data frames"
   ]
  },
  {
   "cell_type": "code",
   "execution_count": 6,
   "metadata": {
    "collapsed": false
   },
   "outputs": [],
   "source": [
    "cust = pd.DataFrame(customers)\n",
    "vend = pd.DataFrame(vendors)\n",
    "prod = pd.DataFrame(products)\n",
    "ord = pd.DataFrame(orders)\n",
    "ordit = pd.DataFrame(orders_items)"
   ]
  },
  {
   "cell_type": "markdown",
   "metadata": {},
   "source": [
    "### 1. Merge the customers table and the orders table and give the cust_address and the order_date for the orders_num being larger than 10."
   ]
  },
  {
   "cell_type": "code",
   "execution_count": 16,
   "metadata": {
    "collapsed": false
   },
   "outputs": [
    {
     "data": {
      "text/html": [
       "<div>\n",
       "<table border=\"1\" class=\"dataframe\">\n",
       "  <thead>\n",
       "    <tr style=\"text-align: right;\">\n",
       "      <th></th>\n",
       "      <th>cust_address</th>\n",
       "      <th>order_date</th>\n",
       "    </tr>\n",
       "  </thead>\n",
       "  <tbody>\n",
       "    <tr>\n",
       "      <th>0</th>\n",
       "      <td>200 Maple Lane</td>\n",
       "      <td>2012-05-01</td>\n",
       "    </tr>\n",
       "    <tr>\n",
       "      <th>1</th>\n",
       "      <td>200 Maple Lane</td>\n",
       "      <td>2012-02-08</td>\n",
       "    </tr>\n",
       "    <tr>\n",
       "      <th>2</th>\n",
       "      <td>1 Sunny Place</td>\n",
       "      <td>2012-01-12</td>\n",
       "    </tr>\n",
       "    <tr>\n",
       "      <th>3</th>\n",
       "      <td>829 Riverside Drive</td>\n",
       "      <td>2012-01-30</td>\n",
       "    </tr>\n",
       "    <tr>\n",
       "      <th>4</th>\n",
       "      <td>4545 53rd Street</td>\n",
       "      <td>2012-02-03</td>\n",
       "    </tr>\n",
       "  </tbody>\n",
       "</table>\n",
       "</div>"
      ],
      "text/plain": [
       "          cust_address  order_date\n",
       "0       200 Maple Lane  2012-05-01\n",
       "1       200 Maple Lane  2012-02-08\n",
       "2        1 Sunny Place  2012-01-12\n",
       "3  829 Riverside Drive  2012-01-30\n",
       "4     4545 53rd Street  2012-02-03"
      ]
     },
     "execution_count": 16,
     "metadata": {},
     "output_type": "execute_result"
    }
   ],
   "source": [
    "df1 = pd.merge(cust,ord,on=\"cust_id\",how='right')\n",
    "df1[df1[\"order_num\"]>10][[\"cust_address\",\"order_date\"]]"
   ]
  },
  {
   "cell_type": "markdown",
   "metadata": {},
   "source": [
    "### 2. Merge the vendors table and the customers table on vend_country and cust_country. Give out the vend_address and the vend_city for those entries where the cust_contact is John Smith."
   ]
  },
  {
   "cell_type": "code",
   "execution_count": 31,
   "metadata": {
    "collapsed": false
   },
   "outputs": [
    {
     "data": {
      "text/html": [
       "<div>\n",
       "<table border=\"1\" class=\"dataframe\">\n",
       "  <thead>\n",
       "    <tr style=\"text-align: right;\">\n",
       "      <th></th>\n",
       "      <th>vend_address</th>\n",
       "      <th>vend_city</th>\n",
       "    </tr>\n",
       "  </thead>\n",
       "  <tbody>\n",
       "    <tr>\n",
       "      <th>0</th>\n",
       "      <td>123 Main Street</td>\n",
       "      <td>Bear Town</td>\n",
       "    </tr>\n",
       "    <tr>\n",
       "      <th>5</th>\n",
       "      <td>500 Park Street</td>\n",
       "      <td>Anytown</td>\n",
       "    </tr>\n",
       "    <tr>\n",
       "      <th>10</th>\n",
       "      <td>555 High Street</td>\n",
       "      <td>Dollsville</td>\n",
       "    </tr>\n",
       "    <tr>\n",
       "      <th>15</th>\n",
       "      <td>1000 5th Avenue</td>\n",
       "      <td>New York</td>\n",
       "    </tr>\n",
       "  </tbody>\n",
       "</table>\n",
       "</div>"
      ],
      "text/plain": [
       "       vend_address   vend_city\n",
       "0   123 Main Street   Bear Town\n",
       "5   500 Park Street     Anytown\n",
       "10  555 High Street  Dollsville\n",
       "15  1000 5th Avenue    New York"
      ]
     },
     "execution_count": 31,
     "metadata": {},
     "output_type": "execute_result"
    }
   ],
   "source": [
    "df2 = pd.merge(vend,cust,left_on=\"vend_country\",right_on=\"cust_country\",how=\"inner\")\n",
    "df2[df2[\"cust_contact\"] == \"John Smith\"][[\"vend_address\",\"vend_city\"]]"
   ]
  },
  {
   "cell_type": "markdown",
   "metadata": {},
   "source": [
    "### 3. Merge the vendors table and the products table on vend_id and give out vend_name, prod_name and prod_price. Produce a pivot_table with vend_name as index and prod_price as value using the aggregate function np.sum."
   ]
  },
  {
   "cell_type": "code",
   "execution_count": 38,
   "metadata": {
    "collapsed": false
   },
   "outputs": [
    {
     "name": "stdout",
     "output_type": "stream",
     "text": [
      "         vend_name            prod_name  prod_price\n",
      "0       Bears R Us    8 inch teddy bear        5.99\n",
      "1       Bears R Us   12 inch teddy bear        8.99\n",
      "2       Bears R Us   18 inch teddy bear       11.99\n",
      "3  Doll House Inc.    Fish bean bag toy        3.49\n",
      "4  Doll House Inc.    Bird bean bag toy        3.49\n",
      "5  Doll House Inc.  Rabbit bean bag toy        3.49\n",
      "6  Doll House Inc.          Raggedy Ann        4.99\n",
      "7    Fun and Games            King doll        9.49\n",
      "8    Fun and Games           Queen doll        9.49\n"
     ]
    },
    {
     "data": {
      "text/plain": [
       "vend_name\n",
       "Bears R Us         26.97\n",
       "Doll House Inc.    15.46\n",
       "Fun and Games      18.98\n",
       "Name: prod_price, dtype: float64"
      ]
     },
     "execution_count": 38,
     "metadata": {},
     "output_type": "execute_result"
    }
   ],
   "source": [
    "df3 = pd.merge(vend,prod,on=\"vend_id\")[[\"vend_name\",\"prod_name\",\"prod_price\"]]\n",
    "print(df3)\n",
    "df3.pivot_table(index=\"vend_name\",values=\"prod_price\",aggfunc=np.sum)"
   ]
  },
  {
   "cell_type": "markdown",
   "metadata": {
    "collapsed": true
   },
   "source": [
    "### 4. Merge the products table and the ordersitems table on prod_id and give out vend_id, item_price and quantity. From the result, produce a single pivot table with index vend_id and values item_price and quantity using the aggregate functions np.mean, np.std and np.sum."
   ]
  },
  {
   "cell_type": "code",
   "execution_count": 51,
   "metadata": {
    "collapsed": false
   },
   "outputs": [
    {
     "data": {
      "text/html": [
       "<div>\n",
       "<table border=\"1\" class=\"dataframe\">\n",
       "  <thead>\n",
       "    <tr style=\"text-align: right;\">\n",
       "      <th></th>\n",
       "      <th>item_price</th>\n",
       "      <th>quantity</th>\n",
       "    </tr>\n",
       "    <tr>\n",
       "      <th>vend_id</th>\n",
       "      <th></th>\n",
       "      <th></th>\n",
       "    </tr>\n",
       "  </thead>\n",
       "  <tbody>\n",
       "    <tr>\n",
       "      <th>BRS01</th>\n",
       "      <td>2.805182</td>\n",
       "      <td>295</td>\n",
       "    </tr>\n",
       "    <tr>\n",
       "      <th>DLL01</th>\n",
       "      <td>0.814639</td>\n",
       "      <td>1135</td>\n",
       "    </tr>\n",
       "  </tbody>\n",
       "</table>\n",
       "</div>"
      ],
      "text/plain": [
       "         item_price  quantity\n",
       "vend_id                      \n",
       "BRS01      2.805182       295\n",
       "DLL01      0.814639      1135"
      ]
     },
     "execution_count": 51,
     "metadata": {},
     "output_type": "execute_result"
    }
   ],
   "source": [
    "df4 = pd.merge(prod,ordit,on=\"prod_id\",how=\"right\")\n",
    "df4.pivot_table(index=\"vend_id\",values=[\"item_price\",\"quantity\"],aggfunc={\"item_price\":np.std,\"quantity\":np.sum})"
   ]
  }
 ],
 "metadata": {
  "anaconda-cloud": {},
  "kernelspec": {
   "display_name": "Python [conda root]",
   "language": "python",
   "name": "conda-root-py"
  },
  "language_info": {
   "codemirror_mode": {
    "name": "ipython",
    "version": 2
   },
   "file_extension": ".py",
   "mimetype": "text/x-python",
   "name": "python",
   "nbconvert_exporter": "python",
   "pygments_lexer": "ipython2",
   "version": "2.7.12"
  }
 },
 "nbformat": 4,
 "nbformat_minor": 1
}
