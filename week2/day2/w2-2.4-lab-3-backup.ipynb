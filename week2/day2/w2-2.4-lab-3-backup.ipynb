{
 "cells": [
  {
   "cell_type": "markdown",
   "metadata": {},
   "source": [
    "Data Cleaning Lab\n",
    "\n",
    "Requirements\n",
    "\n",
    "Using the data set for Project 2:\n",
    "\n",
    "- Do some summary statistics: mean, median, mode, std, variance, range etc\n",
    "- Clean the data as necessary\n",
    "- Convert data types if necessary\n",
    "- Would pivot tables tell you more about your data? Review the pandas documentation for insight\n",
    "\n",
    "Bonus\n",
    "\n",
    "- Create a complete list of all dates in the date.entered set and count how many entries exist for each date, including days with 0 entries. Compare your approach with others."
   ]
  },
  {
   "cell_type": "code",
   "execution_count": 2,
   "metadata": {
    "collapsed": false
   },
   "outputs": [],
   "source": [
    "import pandas as pd\n",
    "import numpy as np\n",
    "from __future__ import division\n",
    "df = pd.read_csv('~/DSI_LDN_1_LESSON_NOTES/projects/project-02/assets/billboard.csv')"
   ]
  },
  {
   "cell_type": "code",
   "execution_count": 86,
   "metadata": {
    "collapsed": false
   },
   "outputs": [
    {
     "data": {
      "text/html": [
       "<div>\n",
       "<table border=\"1\" class=\"dataframe\">\n",
       "  <thead>\n",
       "    <tr style=\"text-align: right;\">\n",
       "      <th></th>\n",
       "      <th>year</th>\n",
       "      <th>artist.inverted</th>\n",
       "      <th>track</th>\n",
       "      <th>time</th>\n",
       "      <th>genre</th>\n",
       "      <th>date.entered</th>\n",
       "      <th>date.peaked</th>\n",
       "      <th>x1st.week</th>\n",
       "      <th>x2nd.week</th>\n",
       "      <th>x3rd.week</th>\n",
       "      <th>...</th>\n",
       "      <th>x67th.week</th>\n",
       "      <th>x68th.week</th>\n",
       "      <th>x69th.week</th>\n",
       "      <th>x70th.week</th>\n",
       "      <th>x71st.week</th>\n",
       "      <th>x72nd.week</th>\n",
       "      <th>x73rd.week</th>\n",
       "      <th>x74th.week</th>\n",
       "      <th>x75th.week</th>\n",
       "      <th>x76th.week</th>\n",
       "    </tr>\n",
       "  </thead>\n",
       "  <tbody>\n",
       "    <tr>\n",
       "      <th>0</th>\n",
       "      <td>2000</td>\n",
       "      <td>Destiny's Child</td>\n",
       "      <td>Independent Women Part I</td>\n",
       "      <td>3:38</td>\n",
       "      <td>Rock</td>\n",
       "      <td>2000-09-23</td>\n",
       "      <td>2000-11-18</td>\n",
       "      <td>78</td>\n",
       "      <td>63.0</td>\n",
       "      <td>49.0</td>\n",
       "      <td>...</td>\n",
       "      <td>NaN</td>\n",
       "      <td>NaN</td>\n",
       "      <td>NaN</td>\n",
       "      <td>NaN</td>\n",
       "      <td>NaN</td>\n",
       "      <td>NaN</td>\n",
       "      <td>NaN</td>\n",
       "      <td>NaN</td>\n",
       "      <td>NaN</td>\n",
       "      <td>NaN</td>\n",
       "    </tr>\n",
       "    <tr>\n",
       "      <th>1</th>\n",
       "      <td>2000</td>\n",
       "      <td>Santana</td>\n",
       "      <td>Maria, Maria</td>\n",
       "      <td>4:18</td>\n",
       "      <td>Rock</td>\n",
       "      <td>2000-02-12</td>\n",
       "      <td>2000-04-08</td>\n",
       "      <td>15</td>\n",
       "      <td>8.0</td>\n",
       "      <td>6.0</td>\n",
       "      <td>...</td>\n",
       "      <td>NaN</td>\n",
       "      <td>NaN</td>\n",
       "      <td>NaN</td>\n",
       "      <td>NaN</td>\n",
       "      <td>NaN</td>\n",
       "      <td>NaN</td>\n",
       "      <td>NaN</td>\n",
       "      <td>NaN</td>\n",
       "      <td>NaN</td>\n",
       "      <td>NaN</td>\n",
       "    </tr>\n",
       "    <tr>\n",
       "      <th>2</th>\n",
       "      <td>2000</td>\n",
       "      <td>Savage Garden</td>\n",
       "      <td>I Knew I Loved You</td>\n",
       "      <td>4:07</td>\n",
       "      <td>Rock</td>\n",
       "      <td>1999-10-23</td>\n",
       "      <td>2000-01-29</td>\n",
       "      <td>71</td>\n",
       "      <td>48.0</td>\n",
       "      <td>43.0</td>\n",
       "      <td>...</td>\n",
       "      <td>NaN</td>\n",
       "      <td>NaN</td>\n",
       "      <td>NaN</td>\n",
       "      <td>NaN</td>\n",
       "      <td>NaN</td>\n",
       "      <td>NaN</td>\n",
       "      <td>NaN</td>\n",
       "      <td>NaN</td>\n",
       "      <td>NaN</td>\n",
       "      <td>NaN</td>\n",
       "    </tr>\n",
       "    <tr>\n",
       "      <th>3</th>\n",
       "      <td>2000</td>\n",
       "      <td>Madonna</td>\n",
       "      <td>Music</td>\n",
       "      <td>3:45</td>\n",
       "      <td>Rock</td>\n",
       "      <td>2000-08-12</td>\n",
       "      <td>2000-09-16</td>\n",
       "      <td>41</td>\n",
       "      <td>23.0</td>\n",
       "      <td>18.0</td>\n",
       "      <td>...</td>\n",
       "      <td>NaN</td>\n",
       "      <td>NaN</td>\n",
       "      <td>NaN</td>\n",
       "      <td>NaN</td>\n",
       "      <td>NaN</td>\n",
       "      <td>NaN</td>\n",
       "      <td>NaN</td>\n",
       "      <td>NaN</td>\n",
       "      <td>NaN</td>\n",
       "      <td>NaN</td>\n",
       "    </tr>\n",
       "    <tr>\n",
       "      <th>4</th>\n",
       "      <td>2000</td>\n",
       "      <td>Aguilera, Christina</td>\n",
       "      <td>Come On Over Baby (All I Want Is You)</td>\n",
       "      <td>3:38</td>\n",
       "      <td>Rock</td>\n",
       "      <td>2000-08-05</td>\n",
       "      <td>2000-10-14</td>\n",
       "      <td>57</td>\n",
       "      <td>47.0</td>\n",
       "      <td>45.0</td>\n",
       "      <td>...</td>\n",
       "      <td>NaN</td>\n",
       "      <td>NaN</td>\n",
       "      <td>NaN</td>\n",
       "      <td>NaN</td>\n",
       "      <td>NaN</td>\n",
       "      <td>NaN</td>\n",
       "      <td>NaN</td>\n",
       "      <td>NaN</td>\n",
       "      <td>NaN</td>\n",
       "      <td>NaN</td>\n",
       "    </tr>\n",
       "  </tbody>\n",
       "</table>\n",
       "<p>5 rows × 83 columns</p>\n",
       "</div>"
      ],
      "text/plain": [
       "   year      artist.inverted                                  track  time  \\\n",
       "0  2000      Destiny's Child               Independent Women Part I  3:38   \n",
       "1  2000              Santana                           Maria, Maria  4:18   \n",
       "2  2000        Savage Garden                     I Knew I Loved You  4:07   \n",
       "3  2000              Madonna                                  Music  3:45   \n",
       "4  2000  Aguilera, Christina  Come On Over Baby (All I Want Is You)  3:38   \n",
       "\n",
       "  genre date.entered date.peaked  x1st.week  x2nd.week  x3rd.week     ...      \\\n",
       "0  Rock   2000-09-23  2000-11-18         78       63.0       49.0     ...       \n",
       "1  Rock   2000-02-12  2000-04-08         15        8.0        6.0     ...       \n",
       "2  Rock   1999-10-23  2000-01-29         71       48.0       43.0     ...       \n",
       "3  Rock   2000-08-12  2000-09-16         41       23.0       18.0     ...       \n",
       "4  Rock   2000-08-05  2000-10-14         57       47.0       45.0     ...       \n",
       "\n",
       "   x67th.week  x68th.week  x69th.week  x70th.week  x71st.week  x72nd.week  \\\n",
       "0         NaN         NaN         NaN         NaN         NaN         NaN   \n",
       "1         NaN         NaN         NaN         NaN         NaN         NaN   \n",
       "2         NaN         NaN         NaN         NaN         NaN         NaN   \n",
       "3         NaN         NaN         NaN         NaN         NaN         NaN   \n",
       "4         NaN         NaN         NaN         NaN         NaN         NaN   \n",
       "\n",
       "   x73rd.week  x74th.week  x75th.week  x76th.week  \n",
       "0         NaN         NaN         NaN         NaN  \n",
       "1         NaN         NaN         NaN         NaN  \n",
       "2         NaN         NaN         NaN         NaN  \n",
       "3         NaN         NaN         NaN         NaN  \n",
       "4         NaN         NaN         NaN         NaN  \n",
       "\n",
       "[5 rows x 83 columns]"
      ]
     },
     "execution_count": 86,
     "metadata": {},
     "output_type": "execute_result"
    }
   ],
   "source": [
    "df.head()"
   ]
  },
  {
   "cell_type": "code",
   "execution_count": 3,
   "metadata": {
    "collapsed": false
   },
   "outputs": [],
   "source": [
    "df = df.dropna(axis=1,how=\"all\")"
   ]
  },
  {
   "cell_type": "code",
   "execution_count": 88,
   "metadata": {
    "collapsed": false,
    "scrolled": true
   },
   "outputs": [
    {
     "data": {
      "text/html": [
       "<div>\n",
       "<table border=\"1\" class=\"dataframe\">\n",
       "  <thead>\n",
       "    <tr style=\"text-align: right;\">\n",
       "      <th></th>\n",
       "      <th>year</th>\n",
       "      <th>x1st.week</th>\n",
       "      <th>x2nd.week</th>\n",
       "      <th>x3rd.week</th>\n",
       "      <th>x4th.week</th>\n",
       "      <th>x5th.week</th>\n",
       "      <th>x6th.week</th>\n",
       "      <th>x7th.week</th>\n",
       "      <th>x8th.week</th>\n",
       "      <th>x9th.week</th>\n",
       "      <th>...</th>\n",
       "      <th>x56th.week</th>\n",
       "      <th>x57th.week</th>\n",
       "      <th>x58th.week</th>\n",
       "      <th>x59th.week</th>\n",
       "      <th>x60th.week</th>\n",
       "      <th>x61st.week</th>\n",
       "      <th>x62nd.week</th>\n",
       "      <th>x63rd.week</th>\n",
       "      <th>x64th.week</th>\n",
       "      <th>x65th.week</th>\n",
       "    </tr>\n",
       "  </thead>\n",
       "  <tbody>\n",
       "    <tr>\n",
       "      <th>count</th>\n",
       "      <td>317.0</td>\n",
       "      <td>317.000000</td>\n",
       "      <td>312.000000</td>\n",
       "      <td>307.000000</td>\n",
       "      <td>300.000000</td>\n",
       "      <td>292.000000</td>\n",
       "      <td>280.000000</td>\n",
       "      <td>269.000000</td>\n",
       "      <td>260.000000</td>\n",
       "      <td>253.000000</td>\n",
       "      <td>...</td>\n",
       "      <td>2.000000</td>\n",
       "      <td>2.00000</td>\n",
       "      <td>2.000000</td>\n",
       "      <td>2.000000</td>\n",
       "      <td>2.000000</td>\n",
       "      <td>2.000000</td>\n",
       "      <td>2.000000</td>\n",
       "      <td>2.000000</td>\n",
       "      <td>2.0</td>\n",
       "      <td>1.0</td>\n",
       "    </tr>\n",
       "    <tr>\n",
       "      <th>mean</th>\n",
       "      <td>2000.0</td>\n",
       "      <td>79.958991</td>\n",
       "      <td>71.173077</td>\n",
       "      <td>65.045603</td>\n",
       "      <td>59.763333</td>\n",
       "      <td>56.339041</td>\n",
       "      <td>52.360714</td>\n",
       "      <td>49.219331</td>\n",
       "      <td>47.119231</td>\n",
       "      <td>46.343874</td>\n",
       "      <td>...</td>\n",
       "      <td>25.500000</td>\n",
       "      <td>27.50000</td>\n",
       "      <td>31.500000</td>\n",
       "      <td>35.500000</td>\n",
       "      <td>38.000000</td>\n",
       "      <td>42.500000</td>\n",
       "      <td>44.500000</td>\n",
       "      <td>47.500000</td>\n",
       "      <td>50.0</td>\n",
       "      <td>49.0</td>\n",
       "    </tr>\n",
       "    <tr>\n",
       "      <th>std</th>\n",
       "      <td>0.0</td>\n",
       "      <td>14.686865</td>\n",
       "      <td>18.200443</td>\n",
       "      <td>20.752302</td>\n",
       "      <td>22.324619</td>\n",
       "      <td>23.780022</td>\n",
       "      <td>24.473273</td>\n",
       "      <td>25.654279</td>\n",
       "      <td>26.370782</td>\n",
       "      <td>27.136419</td>\n",
       "      <td>...</td>\n",
       "      <td>0.707107</td>\n",
       "      <td>2.12132</td>\n",
       "      <td>0.707107</td>\n",
       "      <td>4.949747</td>\n",
       "      <td>1.414214</td>\n",
       "      <td>0.707107</td>\n",
       "      <td>3.535534</td>\n",
       "      <td>3.535534</td>\n",
       "      <td>0.0</td>\n",
       "      <td>NaN</td>\n",
       "    </tr>\n",
       "    <tr>\n",
       "      <th>min</th>\n",
       "      <td>2000.0</td>\n",
       "      <td>15.000000</td>\n",
       "      <td>8.000000</td>\n",
       "      <td>6.000000</td>\n",
       "      <td>5.000000</td>\n",
       "      <td>2.000000</td>\n",
       "      <td>1.000000</td>\n",
       "      <td>1.000000</td>\n",
       "      <td>1.000000</td>\n",
       "      <td>1.000000</td>\n",
       "      <td>...</td>\n",
       "      <td>25.000000</td>\n",
       "      <td>26.00000</td>\n",
       "      <td>31.000000</td>\n",
       "      <td>32.000000</td>\n",
       "      <td>37.000000</td>\n",
       "      <td>42.000000</td>\n",
       "      <td>42.000000</td>\n",
       "      <td>45.000000</td>\n",
       "      <td>50.0</td>\n",
       "      <td>49.0</td>\n",
       "    </tr>\n",
       "    <tr>\n",
       "      <th>25%</th>\n",
       "      <td>2000.0</td>\n",
       "      <td>74.000000</td>\n",
       "      <td>NaN</td>\n",
       "      <td>NaN</td>\n",
       "      <td>NaN</td>\n",
       "      <td>NaN</td>\n",
       "      <td>NaN</td>\n",
       "      <td>NaN</td>\n",
       "      <td>NaN</td>\n",
       "      <td>NaN</td>\n",
       "      <td>...</td>\n",
       "      <td>NaN</td>\n",
       "      <td>NaN</td>\n",
       "      <td>NaN</td>\n",
       "      <td>NaN</td>\n",
       "      <td>NaN</td>\n",
       "      <td>NaN</td>\n",
       "      <td>NaN</td>\n",
       "      <td>NaN</td>\n",
       "      <td>NaN</td>\n",
       "      <td>NaN</td>\n",
       "    </tr>\n",
       "    <tr>\n",
       "      <th>50%</th>\n",
       "      <td>2000.0</td>\n",
       "      <td>81.000000</td>\n",
       "      <td>NaN</td>\n",
       "      <td>NaN</td>\n",
       "      <td>NaN</td>\n",
       "      <td>NaN</td>\n",
       "      <td>NaN</td>\n",
       "      <td>NaN</td>\n",
       "      <td>NaN</td>\n",
       "      <td>NaN</td>\n",
       "      <td>...</td>\n",
       "      <td>NaN</td>\n",
       "      <td>NaN</td>\n",
       "      <td>NaN</td>\n",
       "      <td>NaN</td>\n",
       "      <td>NaN</td>\n",
       "      <td>NaN</td>\n",
       "      <td>NaN</td>\n",
       "      <td>NaN</td>\n",
       "      <td>NaN</td>\n",
       "      <td>NaN</td>\n",
       "    </tr>\n",
       "    <tr>\n",
       "      <th>75%</th>\n",
       "      <td>2000.0</td>\n",
       "      <td>91.000000</td>\n",
       "      <td>NaN</td>\n",
       "      <td>NaN</td>\n",
       "      <td>NaN</td>\n",
       "      <td>NaN</td>\n",
       "      <td>NaN</td>\n",
       "      <td>NaN</td>\n",
       "      <td>NaN</td>\n",
       "      <td>NaN</td>\n",
       "      <td>...</td>\n",
       "      <td>NaN</td>\n",
       "      <td>NaN</td>\n",
       "      <td>NaN</td>\n",
       "      <td>NaN</td>\n",
       "      <td>NaN</td>\n",
       "      <td>NaN</td>\n",
       "      <td>NaN</td>\n",
       "      <td>NaN</td>\n",
       "      <td>NaN</td>\n",
       "      <td>NaN</td>\n",
       "    </tr>\n",
       "    <tr>\n",
       "      <th>max</th>\n",
       "      <td>2000.0</td>\n",
       "      <td>100.000000</td>\n",
       "      <td>100.000000</td>\n",
       "      <td>100.000000</td>\n",
       "      <td>100.000000</td>\n",
       "      <td>100.000000</td>\n",
       "      <td>99.000000</td>\n",
       "      <td>100.000000</td>\n",
       "      <td>99.000000</td>\n",
       "      <td>100.000000</td>\n",
       "      <td>...</td>\n",
       "      <td>26.000000</td>\n",
       "      <td>29.00000</td>\n",
       "      <td>32.000000</td>\n",
       "      <td>39.000000</td>\n",
       "      <td>39.000000</td>\n",
       "      <td>43.000000</td>\n",
       "      <td>47.000000</td>\n",
       "      <td>50.000000</td>\n",
       "      <td>50.0</td>\n",
       "      <td>49.0</td>\n",
       "    </tr>\n",
       "  </tbody>\n",
       "</table>\n",
       "<p>8 rows × 66 columns</p>\n",
       "</div>"
      ],
      "text/plain": [
       "         year   x1st.week   x2nd.week   x3rd.week   x4th.week   x5th.week  \\\n",
       "count   317.0  317.000000  312.000000  307.000000  300.000000  292.000000   \n",
       "mean   2000.0   79.958991   71.173077   65.045603   59.763333   56.339041   \n",
       "std       0.0   14.686865   18.200443   20.752302   22.324619   23.780022   \n",
       "min    2000.0   15.000000    8.000000    6.000000    5.000000    2.000000   \n",
       "25%    2000.0   74.000000         NaN         NaN         NaN         NaN   \n",
       "50%    2000.0   81.000000         NaN         NaN         NaN         NaN   \n",
       "75%    2000.0   91.000000         NaN         NaN         NaN         NaN   \n",
       "max    2000.0  100.000000  100.000000  100.000000  100.000000  100.000000   \n",
       "\n",
       "        x6th.week   x7th.week   x8th.week   x9th.week     ...      x56th.week  \\\n",
       "count  280.000000  269.000000  260.000000  253.000000     ...        2.000000   \n",
       "mean    52.360714   49.219331   47.119231   46.343874     ...       25.500000   \n",
       "std     24.473273   25.654279   26.370782   27.136419     ...        0.707107   \n",
       "min      1.000000    1.000000    1.000000    1.000000     ...       25.000000   \n",
       "25%           NaN         NaN         NaN         NaN     ...             NaN   \n",
       "50%           NaN         NaN         NaN         NaN     ...             NaN   \n",
       "75%           NaN         NaN         NaN         NaN     ...             NaN   \n",
       "max     99.000000  100.000000   99.000000  100.000000     ...       26.000000   \n",
       "\n",
       "       x57th.week  x58th.week  x59th.week  x60th.week  x61st.week  x62nd.week  \\\n",
       "count     2.00000    2.000000    2.000000    2.000000    2.000000    2.000000   \n",
       "mean     27.50000   31.500000   35.500000   38.000000   42.500000   44.500000   \n",
       "std       2.12132    0.707107    4.949747    1.414214    0.707107    3.535534   \n",
       "min      26.00000   31.000000   32.000000   37.000000   42.000000   42.000000   \n",
       "25%           NaN         NaN         NaN         NaN         NaN         NaN   \n",
       "50%           NaN         NaN         NaN         NaN         NaN         NaN   \n",
       "75%           NaN         NaN         NaN         NaN         NaN         NaN   \n",
       "max      29.00000   32.000000   39.000000   39.000000   43.000000   47.000000   \n",
       "\n",
       "       x63rd.week  x64th.week  x65th.week  \n",
       "count    2.000000         2.0         1.0  \n",
       "mean    47.500000        50.0        49.0  \n",
       "std      3.535534         0.0         NaN  \n",
       "min     45.000000        50.0        49.0  \n",
       "25%           NaN         NaN         NaN  \n",
       "50%           NaN         NaN         NaN  \n",
       "75%           NaN         NaN         NaN  \n",
       "max     50.000000        50.0        49.0  \n",
       "\n",
       "[8 rows x 66 columns]"
      ]
     },
     "execution_count": 88,
     "metadata": {},
     "output_type": "execute_result"
    }
   ],
   "source": [
    "df.describe()"
   ]
  },
  {
   "cell_type": "code",
   "execution_count": 9,
   "metadata": {
    "collapsed": false,
    "scrolled": true
   },
   "outputs": [
    {
     "data": {
      "text/plain": [
       "x1st.week     317\n",
       "x2nd.week     312\n",
       "x3rd.week     307\n",
       "x4th.week     300\n",
       "x5th.week     292\n",
       "x6th.week     280\n",
       "x7th.week     269\n",
       "x8th.week     260\n",
       "x9th.week     253\n",
       "x10th.week    244\n",
       "x11th.week    236\n",
       "x12th.week    222\n",
       "x13th.week    210\n",
       "x14th.week    204\n",
       "x15th.week    197\n",
       "x16th.week    182\n",
       "x17th.week    177\n",
       "x18th.week    166\n",
       "x19th.week    156\n",
       "x20th.week    146\n",
       "x21st.week     65\n",
       "x22nd.week     55\n",
       "x23rd.week     48\n",
       "x24th.week     46\n",
       "x25th.week     38\n",
       "x26th.week     36\n",
       "x27th.week     29\n",
       "x28th.week     24\n",
       "x29th.week     20\n",
       "x30th.week     20\n",
       "             ... \n",
       "x36th.week      9\n",
       "x37th.week      9\n",
       "x38th.week      8\n",
       "x39th.week      8\n",
       "x40th.week      7\n",
       "x41st.week      7\n",
       "x42nd.week      6\n",
       "x43rd.week      6\n",
       "x44th.week      6\n",
       "x45th.week      5\n",
       "x46th.week      5\n",
       "x47th.week      5\n",
       "x48th.week      4\n",
       "x49th.week      4\n",
       "x50th.week      4\n",
       "x51st.week      4\n",
       "x52nd.week      4\n",
       "x53rd.week      4\n",
       "x54th.week      2\n",
       "x55th.week      2\n",
       "x56th.week      2\n",
       "x57th.week      2\n",
       "x58th.week      2\n",
       "x59th.week      2\n",
       "x60th.week      2\n",
       "x61st.week      2\n",
       "x62nd.week      2\n",
       "x63rd.week      2\n",
       "x64th.week      2\n",
       "x65th.week      1\n",
       "dtype: int64"
      ]
     },
     "execution_count": 9,
     "metadata": {},
     "output_type": "execute_result"
    }
   ],
   "source": [
    "df[df[\"x25th.week\"].notnull()] \n",
    "nbweeks = (df.ix[:,7:].apply(pd.notnull,axis=1)).apply(sum)"
   ]
  },
  {
   "cell_type": "code",
   "execution_count": 8,
   "metadata": {
    "collapsed": false
   },
   "outputs": [
    {
     "data": {
      "image/png": "[encoded data removed]",
      "text/plain": [
       "<matplotlib.figure.Figure at 0x7f9dd89aa310>"
      ]
     },
     "metadata": {},
     "output_type": "display_data"
    }
   ],
   "source": [
    "import matplotlib.pyplot as plt\n",
    "%matplotlib inline\n",
    "plt.plot(list(range(1,len(nbweeks)+1)),nbweeks)\n",
    "plt.show()\n",
    "#plt.hist(nbweeks,bins=100)\n",
    "#plt.show()"
   ]
  },
  {
   "cell_type": "code",
   "execution_count": 91,
   "metadata": {
    "collapsed": false
   },
   "outputs": [],
   "source": [
    "import datetime as dt # More advanced time management\n",
    "import re\n",
    "\n",
    "df['date.entered2'] = df['date.entered'].apply(lambda x: dt.datetime.strptime(x,\"%Y-%m-%d\"))\n",
    "df['date.peaked2'] = df['date.peaked'].apply(lambda x: dt.datetime.strptime(x,\"%Y-%m-%d\"))\n",
    "df['time2peak'] = (df['date.peaked2'] - df['date.entered2']).apply(lambda x : re.sub(r'(^[0-9]+)(.*)',r'\\1',str(x)) )"
   ]
  },
  {
   "cell_type": "code",
   "execution_count": 92,
   "metadata": {
    "collapsed": false
   },
   "outputs": [
    {
     "data": {
      "text/plain": [
       "<matplotlib.axes._subplots.AxesSubplot at 0x7fb50e846610>"
      ]
     },
     "execution_count": 92,
     "metadata": {},
     "output_type": "execute_result"
    },
    {
     "data": {
      "image/png": "[encoded data removed]",
      "text/plain": [
       "<matplotlib.figure.Figure at 0x7fb50e93c950>"
      ]
     },
     "metadata": {},
     "output_type": "display_data"
    }
   ],
   "source": [
    "df['time2peak'] = df['time2peak'].apply(int)\n",
    "df['time2peak'].plot(kind='hist',bins= 75,title=\"Time to peak (weeks)\")"
   ]
  },
  {
   "cell_type": "code",
   "execution_count": 93,
   "metadata": {
    "collapsed": false
   },
   "outputs": [],
   "source": [
    "dates = df['date.entered2']\n",
    "dates = dates.sort_values(inplace=False)"
   ]
  },
  {
   "cell_type": "code",
   "execution_count": 94,
   "metadata": {
    "collapsed": false
   },
   "outputs": [
    {
     "data": {
      "text/plain": [
       "0    3:38\n",
       "1    4:18\n",
       "2    4:07\n",
       "3    3:45\n",
       "4    3:38\n",
       "Name: time, dtype: object"
      ]
     },
     "execution_count": 94,
     "metadata": {},
     "output_type": "execute_result"
    }
   ],
   "source": [
    "df['time'].head()"
   ]
  },
  {
   "cell_type": "code",
   "execution_count": 98,
   "metadata": {
    "collapsed": false
   },
   "outputs": [
    {
     "data": {
      "text/plain": [
       "0   1900-01-01 00:03:38\n",
       "1   1900-01-01 00:04:18\n",
       "2   1900-01-01 00:04:07\n",
       "3   1900-01-01 00:03:45\n",
       "4   1900-01-01 00:03:38\n",
       "Name: time2, dtype: datetime64[ns]"
      ]
     },
     "execution_count": 98,
     "metadata": {},
     "output_type": "execute_result"
    }
   ],
   "source": [
    "df['time2'] = df['time'].apply(lambda x: dt.datetime.strptime(x,\"%M:%S\"))\n",
    "df['time2'].head()"
   ]
  },
  {
   "cell_type": "code",
   "execution_count": 116,
   "metadata": {
    "collapsed": false
   },
   "outputs": [],
   "source": [
    "df['secs'] = df['time2'].apply(lambda x : int(3600*x.hour + 60*x.minute + x.second))"
   ]
  },
  {
   "cell_type": "code",
   "execution_count": 137,
   "metadata": {
    "collapsed": false
   },
   "outputs": [
    {
     "name": "stdout",
     "output_type": "stream",
     "text": [
      "artist.inverted\n",
      "2 Pac           262\n",
      "2Ge+her         195\n",
      "3 Doors Down    248\n",
      "504 Boyz        215\n",
      "98�             204\n",
      "Name: secs, dtype: int64\n"
     ]
    },
    {
     "data": {
      "image/png": "[encoded data removed]",
      "text/plain": [
       "<matplotlib.figure.Figure at 0x7fb50e07ed50>"
      ]
     },
     "metadata": {},
     "output_type": "display_data"
    }
   ],
   "source": [
    "res = df[['artist.inverted','secs']].groupby(by='artist.inverted')\n",
    "table = res['secs'].apply(np.mean).apply(int)\n",
    "print(table.head())\n",
    "table.plot(kind='hist',bins=20)\n",
    "plt.show()"
   ]
  },
  {
   "cell_type": "code",
   "execution_count": 138,
   "metadata": {
    "collapsed": false
   },
   "outputs": [
    {
     "data": {
      "text/plain": [
       "artist.inverted\n",
       "2 Pac           262.0\n",
       "2Ge+her         195.0\n",
       "3 Doors Down    248.5\n",
       "504 Boyz        215.0\n",
       "98�             204.0\n",
       "Name: secs, dtype: float64"
      ]
     },
     "execution_count": 138,
     "metadata": {},
     "output_type": "execute_result"
    }
   ],
   "source": [
    "table2 = pd.pivot_table(df,values=\"secs\",index=\"artist.inverted\",aggfunc=np.mean)\n",
    "table2.head()"
   ]
  },
  {
   "cell_type": "code",
   "execution_count": 159,
   "metadata": {
    "collapsed": false
   },
   "outputs": [
    {
     "name": "stdout",
     "output_type": "stream",
     "text": [
      "1999-06-05 00:00:00\n"
     ]
    }
   ],
   "source": [
    "start=df['date.entered2'].min()\n",
    "print(start)"
   ]
  },
  {
   "cell_type": "code",
   "execution_count": 160,
   "metadata": {
    "collapsed": false
   },
   "outputs": [
    {
     "name": "stdout",
     "output_type": "stream",
     "text": [
      "2000-12-30 00:00:00\n"
     ]
    }
   ],
   "source": [
    "end=df['date.entered2'].max()\n",
    "print(end)"
   ]
  },
  {
   "cell_type": "code",
   "execution_count": 149,
   "metadata": {
    "collapsed": false
   },
   "outputs": [
    {
     "data": {
      "text/plain": [
       "574"
      ]
     },
     "execution_count": 149,
     "metadata": {},
     "output_type": "execute_result"
    }
   ],
   "source": [
    "(end-start).days"
   ]
  },
  {
   "cell_type": "code",
   "execution_count": 151,
   "metadata": {
    "collapsed": false
   },
   "outputs": [
    {
     "data": {
      "text/plain": [
       "312   2000-08-05\n",
       "313   2000-02-12\n",
       "314   2000-09-02\n",
       "315   2000-07-01\n",
       "316   2000-10-28\n",
       "Name: date.entered2, dtype: datetime64[ns]"
      ]
     },
     "execution_count": 151,
     "metadata": {},
     "output_type": "execute_result"
    }
   ],
   "source": [
    "df['date.entered2'].tail()"
   ]
  },
  {
   "cell_type": "code",
   "execution_count": 193,
   "metadata": {
    "collapsed": false
   },
   "outputs": [],
   "source": [
    "dict={}\n",
    "for i in range((end-start).days+1):\n",
    "    diff = dt.timedelta(days = i)\n",
    "    day = start + diff\n",
    "    #print(day)\n",
    "    day_str = str(day.year) + \"-\" + str(day.month).zfill(2) + \"-\" + str(day.day).zfill(2)\n",
    "    dict[day_str] = 0\n",
    "    for j in range(len(df['date.entered2'])):\n",
    "        if day == df['date.entered2'][j]:\n",
    "            dict[day_str] += 1"
   ]
  },
  {
   "cell_type": "code",
   "execution_count": 234,
   "metadata": {
    "collapsed": false
   },
   "outputs": [
    {
     "data": {
      "image/png": "[encoded data removed]",
      "text/plain": [
       "<matplotlib.figure.Figure at 0x7fb5059bae90>"
      ]
     },
     "metadata": {},
     "output_type": "display_data"
    }
   ],
   "source": [
    "df2 = pd.DataFrame(dict.values(),dict.keys())\n",
    "df2.plot()\n",
    "plt.show()"
   ]
  },
  {
   "cell_type": "code",
   "execution_count": null,
   "metadata": {
    "collapsed": false
   },
   "outputs": [],
   "source": []
  },
  {
   "cell_type": "code",
   "execution_count": null,
   "metadata": {
    "collapsed": false
   },
   "outputs": [],
   "source": []
  },
  {
   "cell_type": "code",
   "execution_count": null,
   "metadata": {
    "collapsed": false
   },
   "outputs": [],
   "source": []
  },
  {
   "cell_type": "code",
   "execution_count": null,
   "metadata": {
    "collapsed": true
   },
   "outputs": [],
   "source": []
  }
 ],
 "metadata": {
  "anaconda-cloud": {},
  "kernelspec": {
   "display_name": "Python [conda root]",
   "language": "python",
   "name": "conda-root-py"
  },
  "language_info": {
   "codemirror_mode": {
    "name": "ipython",
    "version": 2
   },
   "file_extension": ".py",
   "mimetype": "text/x-python",
   "name": "python",
   "nbconvert_exporter": "python",
   "pygments_lexer": "ipython2",
   "version": "2.7.12"
  }
 },
 "nbformat": 4,
 "nbformat_minor": 1
}
