{
 "cells": [
  {
   "cell_type": "markdown",
   "metadata": {},
   "source": [
    "## Project 6"
   ]
  },
  {
   "cell_type": "code",
   "execution_count": 52,
   "metadata": {
    "collapsed": false
   },
   "outputs": [],
   "source": [
    "import os\n",
    "import subprocess\n",
    "import pandas as pd\n",
    "import numpy as np\n",
    "from sklearn.ensemble import RandomForestClassifier\n",
    "from sklearn.ensemble import RandomForestRegressor\n",
    "import scipy\n",
    "import requests\n",
    "from imdbpie import Imdb\n",
    "import nltk\n",
    "import matplotlib.pyplot as plt\n",
    "import urllib\n",
    "from bs4 import BeautifulSoup\n",
    "import nltk\n",
    "import collections\n",
    "import re\n",
    "import csv\n",
    "import psycopg2\n",
    "\n",
    "%matplotlib inline"
   ]
  },
  {
   "cell_type": "markdown",
   "metadata": {},
   "source": [
    "### Pre-Work: Write a problem statement "
   ]
  },
  {
   "cell_type": "markdown",
   "metadata": {},
   "source": [
    "    "
   ]
  },
  {
   "cell_type": "markdown",
   "metadata": {},
   "source": [
    "## Part 1: Acquire the Data"
   ]
  },
  {
   "cell_type": "markdown",
   "metadata": {},
   "source": [
    "#### 1. Connect to the IMDB API"
   ]
  },
  {
   "cell_type": "code",
   "execution_count": 4,
   "metadata": {
    "collapsed": true
   },
   "outputs": [],
   "source": [
    "imdb = Imdb()\n",
    "imdb = Imdb(anonymize=True)"
   ]
  },
  {
   "cell_type": "markdown",
   "metadata": {},
   "source": [
    "#### 2. Query the top 250 rated movies in the database"
   ]
  },
  {
   "cell_type": "code",
   "execution_count": 5,
   "metadata": {
    "collapsed": false
   },
   "outputs": [],
   "source": [
    "movies = pd.DataFrame(imdb.top_250())"
   ]
  },
  {
   "cell_type": "code",
   "execution_count": 6,
   "metadata": {
    "collapsed": false
   },
   "outputs": [
    {
     "data": {
      "text/html": [
       "<div>\n",
       "<table border=\"1\" class=\"dataframe\">\n",
       "  <thead>\n",
       "    <tr style=\"text-align: right;\">\n",
       "      <th></th>\n",
       "      <th>can_rate</th>\n",
       "      <th>image</th>\n",
       "      <th>num_votes</th>\n",
       "      <th>rating</th>\n",
       "      <th>tconst</th>\n",
       "      <th>title</th>\n",
       "      <th>type</th>\n",
       "      <th>year</th>\n",
       "    </tr>\n",
       "  </thead>\n",
       "  <tbody>\n",
       "    <tr>\n",
       "      <th>0</th>\n",
       "      <td>True</td>\n",
       "      <td>{'width': 933, 'height': 1388, 'url': 'http://...</td>\n",
       "      <td>1633949</td>\n",
       "      <td>9.3</td>\n",
       "      <td>tt0111161</td>\n",
       "      <td>The Shawshank Redemption</td>\n",
       "      <td>feature</td>\n",
       "      <td>1994</td>\n",
       "    </tr>\n",
       "    <tr>\n",
       "      <th>1</th>\n",
       "      <td>True</td>\n",
       "      <td>{'width': 333, 'height': 500, 'url': 'http://i...</td>\n",
       "      <td>1118830</td>\n",
       "      <td>9.2</td>\n",
       "      <td>tt0068646</td>\n",
       "      <td>The Godfather</td>\n",
       "      <td>feature</td>\n",
       "      <td>1972</td>\n",
       "    </tr>\n",
       "    <tr>\n",
       "      <th>2</th>\n",
       "      <td>True</td>\n",
       "      <td>{'width': 333, 'height': 500, 'url': 'http://i...</td>\n",
       "      <td>762911</td>\n",
       "      <td>9.0</td>\n",
       "      <td>tt0071562</td>\n",
       "      <td>The Godfather: Part II</td>\n",
       "      <td>feature</td>\n",
       "      <td>1974</td>\n",
       "    </tr>\n",
       "    <tr>\n",
       "      <th>3</th>\n",
       "      <td>True</td>\n",
       "      <td>{'width': 1383, 'height': 2048, 'url': 'http:/...</td>\n",
       "      <td>1616437</td>\n",
       "      <td>9.0</td>\n",
       "      <td>tt0468569</td>\n",
       "      <td>The Dark Knight</td>\n",
       "      <td>feature</td>\n",
       "      <td>2008</td>\n",
       "    </tr>\n",
       "    <tr>\n",
       "      <th>4</th>\n",
       "      <td>True</td>\n",
       "      <td>{'width': 439, 'height': 679, 'url': 'http://i...</td>\n",
       "      <td>835187</td>\n",
       "      <td>8.9</td>\n",
       "      <td>tt0108052</td>\n",
       "      <td>Schindler's List</td>\n",
       "      <td>feature</td>\n",
       "      <td>1993</td>\n",
       "    </tr>\n",
       "  </tbody>\n",
       "</table>\n",
       "</div>"
      ],
      "text/plain": [
       "  can_rate                                              image  num_votes  \\\n",
       "0     True  {'width': 933, 'height': 1388, 'url': 'http://...    1633949   \n",
       "1     True  {'width': 333, 'height': 500, 'url': 'http://i...    1118830   \n",
       "2     True  {'width': 333, 'height': 500, 'url': 'http://i...     762911   \n",
       "3     True  {'width': 1383, 'height': 2048, 'url': 'http:/...    1616437   \n",
       "4     True  {'width': 439, 'height': 679, 'url': 'http://i...     835187   \n",
       "\n",
       "   rating     tconst                     title     type  year  \n",
       "0     9.3  tt0111161  The Shawshank Redemption  feature  1994  \n",
       "1     9.2  tt0068646             The Godfather  feature  1972  \n",
       "2     9.0  tt0071562    The Godfather: Part II  feature  1974  \n",
       "3     9.0  tt0468569           The Dark Knight  feature  2008  \n",
       "4     8.9  tt0108052          Schindler's List  feature  1993  "
      ]
     },
     "execution_count": 6,
     "metadata": {},
     "output_type": "execute_result"
    }
   ],
   "source": [
    "movies.head()"
   ]
  },
  {
   "cell_type": "markdown",
   "metadata": {},
   "source": [
    "#### 3. Only select the top 25 movies and delete the uncessary rows"
   ]
  },
  {
   "cell_type": "code",
   "execution_count": 7,
   "metadata": {
    "collapsed": false
   },
   "outputs": [],
   "source": [
    "df = movies[0:26]"
   ]
  },
  {
   "cell_type": "code",
   "execution_count": 8,
   "metadata": {
    "collapsed": false
   },
   "outputs": [],
   "source": [
    "del df['can_rate']\n",
    "del df['image']\n",
    "del df['type']"
   ]
  },
  {
   "cell_type": "code",
   "execution_count": 8,
   "metadata": {
    "collapsed": false
   },
   "outputs": [
    {
     "data": {
      "text/html": [
       "<div>\n",
       "<table border=\"1\" class=\"dataframe\">\n",
       "  <thead>\n",
       "    <tr style=\"text-align: right;\">\n",
       "      <th></th>\n",
       "      <th>num_votes</th>\n",
       "      <th>rating</th>\n",
       "      <th>tconst</th>\n",
       "      <th>title</th>\n",
       "      <th>year</th>\n",
       "    </tr>\n",
       "  </thead>\n",
       "  <tbody>\n",
       "    <tr>\n",
       "      <th>0</th>\n",
       "      <td>1633889</td>\n",
       "      <td>9.3</td>\n",
       "      <td>tt0111161</td>\n",
       "      <td>The Shawshank Redemption</td>\n",
       "      <td>1994</td>\n",
       "    </tr>\n",
       "    <tr>\n",
       "      <th>1</th>\n",
       "      <td>1118799</td>\n",
       "      <td>9.2</td>\n",
       "      <td>tt0068646</td>\n",
       "      <td>The Godfather</td>\n",
       "      <td>1972</td>\n",
       "    </tr>\n",
       "    <tr>\n",
       "      <th>2</th>\n",
       "      <td>762879</td>\n",
       "      <td>9.0</td>\n",
       "      <td>tt0071562</td>\n",
       "      <td>The Godfather: Part II</td>\n",
       "      <td>1974</td>\n",
       "    </tr>\n",
       "    <tr>\n",
       "      <th>3</th>\n",
       "      <td>1616346</td>\n",
       "      <td>9.0</td>\n",
       "      <td>tt0468569</td>\n",
       "      <td>The Dark Knight</td>\n",
       "      <td>2008</td>\n",
       "    </tr>\n",
       "    <tr>\n",
       "      <th>4</th>\n",
       "      <td>835155</td>\n",
       "      <td>8.9</td>\n",
       "      <td>tt0108052</td>\n",
       "      <td>Schindler's List</td>\n",
       "      <td>1993</td>\n",
       "    </tr>\n",
       "  </tbody>\n",
       "</table>\n",
       "</div>"
      ],
      "text/plain": [
       "   num_votes  rating     tconst                     title  year\n",
       "0    1633889     9.3  tt0111161  The Shawshank Redemption  1994\n",
       "1    1118799     9.2  tt0068646             The Godfather  1972\n",
       "2     762879     9.0  tt0071562    The Godfather: Part II  1974\n",
       "3    1616346     9.0  tt0468569           The Dark Knight  2008\n",
       "4     835155     8.9  tt0108052          Schindler's List  1993"
      ]
     },
     "execution_count": 8,
     "metadata": {},
     "output_type": "execute_result"
    }
   ],
   "source": [
    "df.head()"
   ]
  },
  {
   "cell_type": "markdown",
   "metadata": {},
   "source": [
    "#### 4. Write the Results to a csv"
   ]
  },
  {
   "cell_type": "code",
   "execution_count": 47,
   "metadata": {
    "collapsed": false
   },
   "outputs": [],
   "source": [
    "df.to_csv('movies.csv')"
   ]
  },
  {
   "cell_type": "markdown",
   "metadata": {},
   "source": [
    "## Part 2: Wrangle the text data"
   ]
  },
  {
   "cell_type": "markdown",
   "metadata": {},
   "source": [
    "#### 1. Convert the listing identification numbers (tconst) from the first dataframe to a list"
   ]
  },
  {
   "cell_type": "code",
   "execution_count": 12,
   "metadata": {
    "collapsed": false
   },
   "outputs": [],
   "source": [
    "numid = df['tconst'].tolist()"
   ]
  },
  {
   "cell_type": "code",
   "execution_count": 13,
   "metadata": {
    "collapsed": false
   },
   "outputs": [
    {
     "name": "stdout",
     "output_type": "stream",
     "text": [
      "['tt0111161', 'tt0068646', 'tt0071562', 'tt0468569', 'tt0108052', 'tt0050083', 'tt0110912', 'tt0167260', 'tt0060196', 'tt0137523', 'tt0120737', 'tt0080684', 'tt0109830', 'tt1375666', 'tt0167261', 'tt0073486', 'tt0099685', 'tt0133093', 'tt0047478', 'tt0076759', 'tt0317248', 'tt0114369', 'tt0102926', 'tt0038650', 'tt0114814', 'tt0118799']\n"
     ]
    }
   ],
   "source": [
    "print(numid)"
   ]
  },
  {
   "cell_type": "markdown",
   "metadata": {},
   "source": [
    "#### 2. Scrape the reviews for the top 25 movies"
   ]
  },
  {
   "cell_type": "code",
   "execution_count": 29,
   "metadata": {
    "collapsed": false
   },
   "outputs": [],
   "source": [
    "for x in (numid):\n",
    "    address = ('http://www.imdb.com/title/' + x + '/reviews')\n",
    "    html = requests.get(address).text\n",
    "    soup = BeautifulSoup(html, 'html.parser')"
 ]
  },
  {
   "cell_type": "markdown",
   "metadata": {},
   "source": [
    "#### 3. Work through each title and find the most common descriptors"
   ]
  },
  {
   "cell_type": "markdown",
   "metadata": {},
   "source": [
    "*Hint*: \"soup\" from BeautifulSoup is the html returned from all 25 pages. You'll need to either address each page individually or break them down by elements"
   ]
  },
  {
   "cell_type": "code",
   "execution_count": 15,
   "metadata": {
    "collapsed": false
   },
   "outputs": [],
   "source": [
    "title = soup.find(\"title\")\n",
    "page = soup.find_all('p')"
   ]
  },
  {
   "cell_type": "code",
   "execution_count": 18,
   "metadata": {
    "collapsed": false,
    "scrolled": true
   },
   "outputs": [
    {
     "name": "stdout",
     "output_type": "stream",
     "text": [
      "<title>Life Is Beautiful  Reviews &amp; Ratings - IMDb</title>\n"
     ]
    }
   ],
   "source": [
    "print(title)"
   ]
  },
  {
   "cell_type": "code",
   "execution_count": 17,
   "metadata": {
    "collapsed": false
   },
   "outputs": [
    {
     "name": "stdout",
     "output_type": "stream",
     "text": [
      "[<p class=\"navCategory\">\n",
      "<a href=\"/movies-in-theaters/?ref_=nv_tp_inth_1\">Movies</a>,\n",
      "                <a href=\"/chart/toptv/?ref_=nv_tp_tv250_2\">TV</a><br/>\n",
      "                &amp; <a href=\"/showtimes/?ref_=nv_tp_sh_3\">Showtimes</a></p>, <p class=\"navCategory\">\n",
      "<a href=\"/search/name?gender=male,female&amp;ref_=nv_tp_cel_1\">Celebs</a>,\n",
      "                <a href=\"/awards-central/?ref_=nv_tp_awrd_2\">Events</a><br/>\n",
      "                &amp; <a href=\"/gallery/rg784964352?ref_=nv_tp_ph_3\">Photos</a></p>, <p class=\"navCategory\">\n",
      "<a href=\"/news/top?ref_=nv_tp_nw_1\">News</a> &amp;<br/>\n",
      "<a href=\"/boards/?ref_=nv_tp_bd_2\">Community</a></p>, <p class=\"navCategory singleLine watchlist\"><a href=\"/list/watchlist?ref_=nv_wl_all_0\">Watchlist</a>\n",
      "</p>, <p class=\"navCategory\">\n",
      "<a href=\"http://pro.imdb.com/signup/index.html?rf=cons_nb_hm&amp;ref_=cons_nb_hm\">\n",
      "<img alt=\"IMDbPro Menu\" src=\"http://i.media-imdb.com/images/SF4a741137cf9a260e127fef64455ebfbc/navbar/imdbpro_logo_nb.png\"/>\n",
      "</a>\n",
      "</p>, <p>Industry information at your fingertips</p>, <p>Over 200,000 Hollywood insiders</p>, <p>Enhance your IMDb Page</p>, <p><strong>Go to IMDbPro »</strong></p>, <p class=\"navCategory singleLine\">\n",
      "<a href=\"/register/login?ref_=nv_usr_lgin_1\" id=\"nblogin\" rel=\"login\">\n",
      "                Login\n",
      "            </a>\n",
      "</p>, <p>at Amazon</p>, <p><img src=\"/images/wheel/or-graphic.png\"/></p>, <p>\n",
      "\n",
      "I am surprised about the negative comments that some people made on this\n",
      "web-page.  I can see how some people might not experience the same kind of\n",
      "uplift or joy that most of us lived through when seeing the movie.  But\n",
      "that\n",
      "some viewers felt insulted and betrayed because the movie did not depict\n",
      "\"reality\" as it really was or is, is not fair.<br/><br/>I must concur with my fellow proponents of the movie -- it was a great and\n",
      "very satisfying movie.  It provided me with something that everyone in one\n",
      "or another shape or form needs -- Hope.  The movie showed the cruelty of\n",
      "life and yet managed to shed some light and insight into the beauty of love\n",
      "and life in general.<br/><br/>I urge anyone who has not seen La Vita è bella to go out there and watch\n",
      "it.\n",
      "If we all take with us just little bit of that hope and love that this\n",
      "movie is trying to convey; this world would be a much better place.<br/><br/>Thank you for reading this and I hope you enjoyed or will enjoy the movie\n",
      "as\n",
      "much as I did.<br/><br/>\n",
      "</p>, <p>\n",
      "I can't understand how other reviewers see this as a film about the\n",
      "Nazis or the Holocaust. It's not!!! \"Life is Beautiful\" is a film about\n",
      "love, optimism, courage and inner strength.<br/><br/>To be honest I can't get this film out of my thoughts and decided to\n",
      "write this brief review in the hope that I could move on.<br/><br/>\"Life is Beautiful\" is an unforgettable film. You go through emotions\n",
      "you were surprised could have for a fictional film. The story, although\n",
      "totally implausible, is uplifting and depressing at the same time.<br/><br/>Please see it for yourself. Have a box of tissues handy.<br/><br/>Best film ever seen!!!\n",
      "</p>, <p>\n",
      "\n",
      "This is one of those movies that have a lasting effect on you.   After\n",
      "watching it, I found that it has less to do with the Holocaust and more to\n",
      "do with the human feelings and the beautiful relationship of a father and\n",
      "his son.  The holocaust provides the ultimate context, that brings and\n",
      "highlights the story and adds yet another deep dimension to the movie.  No\n",
      "such piece of art has ever before combined laughter and tears of sadness in\n",
      "me before and that is the miracle of the movie.  The realism of the movie\n",
      "is\n",
      "not its strong point, but then again it is  not supposed to be; this helps\n",
      "in bringing the audiences to a state of mind away from reality, focusing on\n",
      "the feelings generated by forgetting about all external events and\n",
      "developments of the war.  Despite that, the movie does not fail to point\n",
      "out\n",
      "an element of the nazi psychology demonstrated by the doctor who was\n",
      "obsessed with riddles.  This portrayed the nazi 'state of mind' (if ever\n",
      "such an expression existed) as a sick mentally disturbed state.  Life is\n",
      "really beautiful as you watch Guido's relentless efforts to make a lovely\n",
      "exciting experience of the concentration camp to his son.  You get\n",
      "exhausted\n",
      "just watching him going through his painful day and yet you smile as he\n",
      "speaks to his son and makes him laugh.  One can go on forever  describing\n",
      "the creativity of this movie, but one will not be able to capture all its\n",
      "beauty in writing.  \n",
      "</p>, <p>\n",
      "\n",
      "Roberto Benigni's Vita e bella, is in many ways similar to Chaplin's Great\n",
      "Dictator.  Both are comic attacks on fascism, but the former's is the more\n",
      "successful.  Benigni initially accesses the emotions of his audience through\n",
      "simple comedy, which is a pleasant mix of Keaton and Chaplin.  Romance\n",
      "ensues with his real life wife Nicoletta Braschi.  The first half of this\n",
      "film has been seen by various critics as being inferior to the second, but\n",
      "this is certainly not the case.  In the first section we follow the\n",
      "delightful romance that will eventually lead to marriage and the creation of\n",
      "the wonderful Giosue (Giorgio Cantarini).<br/><br/>It is the first half where the audience can laugh the loudest and delight at\n",
      "the immense comedy talent of Benigni.  Unlike so many films nowadays there\n",
      "is nothing crude or course, his is simple innocent humour, which is all the\n",
      "more effective.  The way he ties together little strand in the film to\n",
      "create comedy elements shows a great writing ability, and a mastery of timing\n",
      "when it comes to their execution on screen.  Various incidents related to\n",
      "the rise of anti-semitism and fascism in Italy show that there are sinister\n",
      "forces at work which come to the fore in the second segment.<br/><br/>Guido (Benigni) moves events on from Tuscany in 1939 to the last year of the\n",
      "war in a concentration camp.  In this period he and Dora (Braschi) have had\n",
      "their son Giosue (Cantanarini).  The five year old greatly reminds me of\n",
      "Toto in Cinema Paradiso, and plays an equally important role in his\n",
      "prospective film (though in Paradiso's case it is at the beginning of the\n",
      "movie).  The relationship between the two is very similar to that of Jackie\n",
      "Coogan and Charlie Chaplin (though Benigni, unlike Chaplin, keeps the best\n",
      "of the comedy moments).  Guido attempts to keep from the boy the horrors of\n",
      "what is going on, and this eventually manifests itself as a game where the\n",
      "aim is to score 100 points, with the winner winning a real tank (which, of\n",
      "course appeals to the young boy).  Comic moments are still present, that\n",
      "involving Guido's translation of the rules of the camp is particularly\n",
      "notable, but it becomes somewhat more difficult to laugh when we consider\n",
      "the gravity of what is going on.<br/><br/>The emphasis begins shifts, and we realise that this is a film about human\n",
      "spirit above all else.  Guido not only appeals to the audience due to his\n",
      "comedy and sheer pleasantness, but also in the way that he loves his family\n",
      "and the measures that he will go to to protect them.<br/><br/>This is certainly no Schindler's List, but it never pretends to be.\n",
      "Occasionally events seem a little contrived, but this does seem to work in\n",
      "the film's favour.  However, this film avoids the tendency of Hollywood to\n",
      "go far over the top in emotional and credibility terms.<br/><br/>Benigni shines like a lantern throughout the picture, showing that he is a\n",
      "talent, not only in comedy terms, that far outshines his peers.  Cantanari\n",
      "is a delight, and Braschi also plays her part well.  There is even an\n",
      "appearance by The Magnificent Seven's Horst Buchholz as Doctor Lessing, a\n",
      "man who events change for the worse.<br/><br/>Please don't let the fact that it, to all but the Italians, is a foreign\n",
      "language film.  The language itself adds a beauty of form to the film, much\n",
      "as it did in the case of Il Postino.  This has to be a certainty for the\n",
      "Best Foreign Language Film Oscar, though something tells me that it will be\n",
      "overlooked for other awards as it is Italian and not a mainstream English\n",
      "language picture.<br/><br/>Please see this film, and make up your own mind.  It is appealing in so many\n",
      "different ways that I'm sure that you will not be disappointed.\n",
      "\n",
      "</p>, <p>\n",
      "\n",
      "I find it sad that so many people are so narrow-minded that they will not\n",
      "watch a movie that is black and white or, in this case, is subtitled. I feel\n",
      "sorry for people who refuse to watch a movie like Life Is Beautiful just\n",
      "because it is a foreign film. They have no idea what a beautifully acted and\n",
      "directed film this is, and they'll never know what an amazing experience\n",
      "they are missing. <br/><br/>Life Is Beautiful manages to walk the extremely thin line between humor,\n",
      "fantasy, and tragedy. Sure, the film is clearly comedic, but nevertheless it\n",
      "manages to very effectively communicate the tremendous losses suffered in\n",
      "the Nazi concentration camps and has scenes at least as intense as any scene\n",
      "in Schindler's List. <br/><br/>This is one of the best films that I have ever seen. It manages to be so\n",
      "encompassing that you hardly notice the subtitles are even there. I proudly\n",
      "cast my vote of 10.\n",
      "</p>, <p>\n",
      "\n",
      "This may be one of the best films ever made. I've never seen a movie with\n",
      "such a balance of hysterical comedy and serious drama. Roberto Benigni\n",
      "totally deserved his Oscars. People on this site have said such negative\n",
      "things about him and this film. Mr. Benigni had a lot of guts to make this\n",
      "film, and there's not another film like it. He handled both the comedy and\n",
      "drama aspects beautifully. I loved the beautiful cinematography, scenery,\n",
      "and the characters. This movie is magnificent in every way. Don't miss\n",
      "it!\n",
      "</p>, <p>\n",
      "The first time I saw the movie was when I was about seventeen or so,\n",
      "and I never forgot it. The incredibly human characters (such as the\n",
      "doctor who loved riddles), the fantastic script-writing, the amazing\n",
      "acting, and of course the heartwarming story. This movie proves once\n",
      "and for all how strong we are, as humans, that in the face of adversity\n",
      "we can make the best of things. There is so much love in the\n",
      "characters; Dora's love for her husband Guido is boundless, as well as\n",
      "Guido's love for his son. Sure, it's a slightly unrealistic movie, but\n",
      "hey, aren't they all a little unrealistic? I've also seen people review\n",
      "this movie and say that it made light of the Holocaust, which was of\n",
      "course a dark point in history. I don't think so; I think that it's\n",
      "only delicately handled, and because of that, the movie is one that a\n",
      "person can watch in one sitting without being thoroughly disgusted by\n",
      "mankind. I would say that those who think this movie is too \"light\" are\n",
      "cynical and bitter. The whole point to the movie is to show what love\n",
      "is capable of, and to provide encouragement and perhaps guidance. This\n",
      "movie changed my life from the first time I watched it. I came away\n",
      "with this feeling that no matter what I have to face in life, that I\n",
      "can overcome it. This is a movie that I would recommend to anyone over\n",
      "the age of eleven. The acting is superb (though Roberto Benigni is a\n",
      "little over-the-top, LOL), the story heartwarming and easy to\n",
      "understand. It's excellent!\n",
      "</p>, <p>\n",
      "I have never in my life seen a movie that so truly symbolizes its name\n",
      "and its message. Roberto Benigni - 'The Italian Treasure House' has\n",
      "probably given to his viewers his best. The story, the performances,\n",
      "the entire theme of a person performing his duties as a husband, as a\n",
      "father is very 'moving' and inspiring. 'Life is beautiful' as the name\n",
      "goes is about a Jewish man, who falls in love with a non-Jewish lady,\n",
      "marries her, has a kid and who is then taken as a prisoner in a\n",
      "concentration camp along with his wife and kid. But the way he protects\n",
      "his kid from the horrors of the genocide, how he always tries to find\n",
      "ways to make his wife and kid smile and laugh, is what makes the movie,\n",
      "a MUST SEE.<br/><br/>It is certainly one of the best movies that I have seen.\n",
      "</p>, <p>\n",
      "\n",
      "I typically don't care much for sub-titled movies.  Foreign films to me\n",
      "are\n",
      "slow and about nothing.  So I naturally went to see Life is Beautiful with\n",
      "a\n",
      "chip on my shoulder.  I wanted to hate it.  I wanted it to be just another\n",
      "movie that Hollywood was praising to show that they were an intelligent\n",
      "bunch of people.  Oh boy was I in for the surprise of my life.  Not only\n",
      "is\n",
      "this film good, I honestly believe that it was the second best film of 98,\n",
      "next to Saving Private Ryan.  The mere fact that Shakespeare in Love won\n",
      "best picture over not only Ryan but over this, is a joke.  It's actually\n",
      "funny.<br/><br/>Benigni did everything in this film.  He wrote, produced, directed and\n",
      "probably swept the floors at night.  There is that much raw energy in this\n",
      "film.  There really is.  For someone to have that kind of vision is truly\n",
      "incredible.  And not only is the film a terrific cinematic experience\n",
      "because of the importance and seriousness of the subject matter, but it is\n",
      "one of the funnier films I've ever seen.  When Roberto is translating the\n",
      "German soldiers insructions to his son so that he isn't scared, it is at\n",
      "that moment that you realize you are under his spell.  He's got you and no\n",
      "matter how much sceptisism you may have about the film you know you're\n",
      "witnessing a classic in every sense of the word.<br/><br/>I loved this film.  Loved everything about it and I am so glad that I got\n",
      "to\n",
      "see it and cheer Benigni at the Oscars.  He certainly deserved his best\n",
      "actor award and he should have gotten more.\n",
      "</p>, <p><b>*** This review may contain spoilers ***</b></p>, <p>\n",
      "Mixing humor and the Holocaust isn't anything new: Ernst Lubitsch's 'To\n",
      "Be Or Not To Be' is just one enduring classic; Mel Brooks' 'The\n",
      "Producers' is another; and 'Life Is Beautiful' has the small-town charm\n",
      "and ambiance of 'Amarcord,' and light-straight satire of 'The Great\n",
      "Dictator.'<br/><br/>Set against the stark reality of World War II Europe, Roberto Benigni's\n",
      "sentimental fable is not a film about the Holocaust, it's a film about\n",
      "life and hope merely against the backdrop of the Holocaust... It's not\n",
      "a denial of the Holocaust, it is a manifestation that humor itself can\n",
      "be courage... It's not about betraying the experience of millions of\n",
      "Jews, it is about the great lengths a father will go to protect his\n",
      "family from the horrors of the Nazis... It's a demonstration of the\n",
      "power of cinema, it's art without claim, hope without fear, dreams\n",
      "without limitations... It's a motion picture about love, not a\n",
      "documentary about the Nazis... It delivers a powerful message that\n",
      "despite everythinglife is truly beautiful... <br/><br/>The story begins in 1939 Italy, where a simple, free-spirited Italian\n",
      "Jew Guido Orefice (Benigni) and his poet friend Ferrucio (Sergio Bini\n",
      "Bustic) have dreams of owning their own bookstore... For now, however,\n",
      "Guido must be satisfied to wait tables, while Ferrucio is unable to get\n",
      "a job...<br/><br/>Benigni's character is introduced during a long set of fast comedy\n",
      "scenes, particularly when he meets a cute gentile woman, DoraNicoletta\n",
      "Braschi, Benigni's real-life wife... When she 'falls out of the sky,'\n",
      "and he quickly nicknames her 'Principessa'... When he rides, in a\n",
      "fascist ball, on a horse painted green... When he turns a gloomy rainy\n",
      "night into a red carpet event... When he is caught by the Nazis as he\n",
      "hurries about securing the safety of his wife and son.. When his car\n",
      "speeds, without brakes, through a village and is mistaken for a king... <br/><br/>Guido falls hard for the radiant schoolteacher, daughter of a wealthy\n",
      "family, and pursues her with all the charm and imagination he can\n",
      "discharge... In one sequence he pretends to be a school inspector and\n",
      "gives an impromptu speech on racial superiority before the assembled\n",
      "students and teachers, ending with a striptease...<br/><br/>That hilarious side of the film takes up the first half... Benigni (who\n",
      "also wrote and directed) borrows a bit of Chaplin's grace and a bit of\n",
      "Groucho Marx charm... All of the action is so neatly contrived that the\n",
      "film essentially ends when it's over, and then begins again with the\n",
      "introduction of Guido and Dora's cute five-year-old son Giosue (Giorgio\n",
      "Cantarini) few years later... <br/><br/>There, in 1945, we catch a glimpse of their enchanting household, but\n",
      "things are soon shattered, and the Nazis take Guido, with his tolerant\n",
      "uncle (Giustino Durano) and little Giosue off to an unidentified\n",
      "concentration camp... Dora races to the train station and demands to be\n",
      "put also on the train... <br/><br/>At the death camp, and in order to protect his son from the nightmare\n",
      "of the place, Guido uses his imagination by creating the illusion that\n",
      "everything that's happening is just a game, an epic game that will be\n",
      "exciting and fun...<br/><br/>He convinces Giosue that by hiding from the Gestapo soldiers (whom he\n",
      "refers to simply as the \"men who yell a lot\") and maintaining silence,\n",
      "he can gain the necessary points to win a tank... Not a toy tank, but a\n",
      "full-size tank, which they'll be free to take home...<br/><br/>As co-writer, Benigni (with Vincenzo Cerami), doesn't just mix drama\n",
      "and comedy, he often hides drama in the comedy... The film does not\n",
      "dwell on the horrors of the camp, nor does it ignore them... <br/><br/>With a memorable score by Nicola Piovani, \"Life Is Beautiful\" is an\n",
      "important film, triumphant, timeless, and sublime... It manages to\n",
      "entertain, educate, and move with its potent combination of humor,\n",
      "poignancy, and dignity... Roberto Benigni has taken pure horror and\n",
      "turned it into a love story between a man and a woman, between a father\n",
      "and his son... As an actor, Benigni manages with his wise and simple\n",
      "performance to make us laugh in tragic situations... He was very\n",
      "realistic, natural, distant from great special effects, far from\n",
      "Hollywood style, only nice and beautiful cinema...<br/><br/>The film won Academy Awards for Best Actor, Best Foreign Film and Best\n",
      "Dramatic Score...\n",
      "</p>, <p><a href=\"reviews-enter\">Add another review</a></p>, <p>Find showtimes, watch trailers, browse photos, track your Watchlist and rate your favorite movies and TV shows on your phone or tablet!</p>]\n",
      "<title>Life Is Beautiful  Reviews &amp; Ratings - IMDb</title>\n"
     ]
    }
   ],
   "source": [
    "print(page)"
   ]
  },
  {
   "cell_type": "markdown",
   "metadata": {},
   "source": [
    "#### 4. Convert to a string and remove the non AlphaNumeric characters"
   ]
  },
  {
   "cell_type": "code",
   "execution_count": 22,
   "metadata": {
    "collapsed": false
   },
   "outputs": [],
   "source": [
    "foo = str(page)"
   ]
  },
  {
   "cell_type": "code",
   "execution_count": 23,
   "metadata": {
    "collapsed": false
   },
   "outputs": [],
   "source": [
    "regex = re.compile('[^a-zA-Z]')\n",
    "new = regex.sub(' ', foo)"
   ]
  },
  {
   "cell_type": "markdown",
   "metadata": {},
   "source": [
    "#### 5. Tokenize the Output"
   ]
  },
  {
   "cell_type": "code",
   "execution_count": 24,
   "metadata": {
    "collapsed": false
   },
   "outputs": [],
   "source": [
    "tokens = nltk.word_tokenize(new)"
   ]
  },
  {
   "cell_type": "code",
   "execution_count": 27,
   "metadata": {
    "collapsed": false
   },
   "outputs": [
    {
     "name": "stdout",
     "output_type": "stream",
     "text": [
      "[('the', 157), ('a', 115), ('and', 104), ('of', 88), ('is', 80), ('to', 74), ('br', 65), ('that', 58), ('p', 50), ('in', 45), ('I', 41), ('it', 40), ('film', 35), ('s', 33), ('his', 31), ('this', 30), ('movie', 29), ('as', 24), ('The', 23), ('not', 23), ('he', 21), ('Benigni', 20), ('with', 20), ('about', 18), ('on', 17), ('be', 17), ('for', 15), ('but', 15), ('It', 14), ('you', 14), ('Guido', 13), ('have', 13), ('so', 12), ('href', 12), ('an', 12), ('or', 11), ('This', 11), ('one', 11), ('ref', 11), ('comedy', 11), ('can', 11), ('are', 11), ('from', 10), ('life', 10), ('has', 10), ('t', 10), ('was', 10), ('who', 10), ('love', 10), ('all', 10), ('at', 10), ('nv', 10), ('son', 10), ('by', 9), ('Life', 9), ('will', 9), ('seen', 9), ('best', 9), ('tp', 8), ('much', 7), ('story', 7), ('we', 7), ('Roberto', 7), ('Beautiful', 7), ('camp', 7), ('only', 7), ('what', 7), ('just', 7), ('my', 7), ('Holocaust', 7), ('make', 6), ('go', 6), ('your', 6), ('class', 6), ('over', 6), ('He', 6), ('ever', 6), ('see', 6), ('people', 6), ('navCategory', 6), ('when', 6), ('they', 6), ('watch', 6), ('When', 6), ('little', 6), ('another', 6), ('which', 6), ('first', 6), ('beautiful', 6), ('me', 5), ('Chaplin', 5), ('manages', 5), ('such', 5), ('without', 5), ('its', 5), ('films', 5), ('movies', 5), ('Dora', 5), ('Best', 5), ('through', 5), ('there', 5), ('Nazis', 5), ('There', 5), ('more', 5), ('her', 5), ('very', 5), ('concentration', 5), ('amp', 5), ('experience', 5), ('wife', 5), ('hope', 5), ('Giosue', 5), ('how', 5), ('also', 5), ('never', 5), ('laugh', 5), ('case', 4), ('does', 4), ('kid', 4), ('review', 4), ('out', 4), ('humor', 4), ('great', 4), ('between', 4), ('some', 4), ('events', 4), ('no', 4), ('light', 4), ('their', 4), ('Is', 4), ('Hollywood', 4), ('though', 4), ('picture', 4), ('did', 4), ('father', 4), ('drama', 4), ('Braschi', 4), ('everything', 4), ('horrors', 4), ('point', 4), ('because', 4), ('certainly', 4), ('strong', 4), ('simple', 4), ('course', 4), ('many', 4), ('way', 4), ('tank', 4), ('characters', 3), ('second', 3), ('human', 3), ('ways', 3), ('year', 3), ('like', 3), ('would', 3), ('where', 3), ('Italian', 3), ('man', 3), ('matter', 3), ('nb', 3), ('mind', 3), ('bit', 3), ('state', 3), ('falls', 3), ('far', 3), ('Not', 3), ('protect', 3), ('writing', 3), ('reality', 3), ('directed', 3), ('him', 3), ('don', 3), ('begins', 3), ('family', 3), ('language', 3), ('things', 3), ('take', 3), ('In', 3), ('show', 3), ('charm', 3), ('itself', 3), ('game', 3), ('yet', 3), ('time', 3), ('loved', 3), ('really', 3), ('into', 3), ('To', 3), ('boy', 3), ('name', 3), ('ve', 3), ('half', 3), ('made', 3), ('may', 3), ('beauty', 3), ('then', 3), ('before', 3), ('truly', 3), ('get', 3), ('us', 3), ('think', 3), ('top', 3), ('Please', 3), ('going', 3), ('audience', 3), ('real', 3), ('Foreign', 3), ('seem', 2), ('plays', 2), ('probably', 2), ('Italy', 2), ('person', 2), ('say', 2), ('well', 2), ('isn', 2), ('Sure', 2), ('move', 2), ('Ferrucio', 2), ('handled', 2), ('IMDbPro', 2), ('art', 2), ('form', 2), ('free', 2), ('src', 2), ('classic', 2), ('know', 2), ('imdb', 2), ('nazi', 2), ('train', 2), ('talent', 2), ('away', 2), ('You', 2), ('anyone', 2), ('Great', 2), ('Giorgio', 2), ('images', 2), ('List', 2), ('shows', 2), ('showtimes', 2), ('unrealistic', 2), ('Cantarini', 2), ('ll', 2), ('appeals', 2), ('night', 2), ('old', 2), ('own', 2), ('husband', 2), ('soldiers', 2), ('contrived', 2), ('watching', 2), ('them', 2), ('similar', 2), ('makes', 2), ('delight', 2), ('cons', 2), ('war', 2), ('Dictator', 2), ('had', 2), ('exciting', 2), ('find', 2), ('foreign', 2), ('scenes', 2), ('bella', 2), ('Ryan', 2), ('work', 2), ('those', 2), ('awards', 2), ('taken', 2), ('http', 2), ('For', 2), ('deserved', 2), ('again', 2), ('message', 2), ('totally', 2), ('watchlist', 2), ('viewers', 2), ('hm', 2), ('heartwarming', 2), ('won', 2), ('points', 2), ('every', 2), ('were', 2), ('doctor', 2), ('feelings', 2), ('face', 2), ('relationship', 2), ('Be', 2), ('understand', 2), ('woman', 2), ('lot', 2), ('five', 2), ('Oscars', 2), ('eventually', 2), ('As', 2), ('same', 2), ('Jewish', 2), ('Vita', 2), ('b', 2), ('being', 2), ('Nicoletta', 2), ('could', 2), ('actor', 2), ('Watchlist', 2), ('png', 2), ('kind', 2), ('singleLine', 2), ('fact', 2), ('score', 2), ('got', 2), ('amazing', 2), ('terms', 2), ('dreams', 2), ('negative', 2), ('TV', 2), ('Film', 2), ('e', 2), ('place', 2), ('Schindler', 2), ('moments', 2), ('Paradiso', 2), ('acting', 2), ('nothing', 2), ('emotions', 2), ('adds', 2), ('surprised', 2), ('But', 2), ('even', 2), ('fascism', 2), ('must', 2), ('cute', 2), ('pretends', 2), ('img', 2), ('com', 2), ('do', 2), ('beautifully', 2), ('something', 2), ('particularly', 2), ('am', 2), ('riddles', 2), ('up', 2), ('imagination', 2), ('smile', 2), ('mix', 2), ('wanted', 2), ('login', 2), ('courage', 2), ('important', 2), ('against', 2), ('cinema', 2), ('other', 2), ('wrote', 2), ('Loved', 1), ('backdrop', 1), ('nevertheless', 1), ('Set', 1), ('moves', 1), ('Bustic', 1), ('securing', 1), ('piece', 1), ('poignancy', 1), ('developments', 1), ('reminds', 1), ('recommend', 1), ('incidents', 1), ('maintaining', 1), ('logo', 1), ('clearly', 1), ('All', 1), ('pursues', 1), ('anything', 1), ('favour', 1), ('motion', 1), ('Jew', 1), ('mankind', 1), ('Bini', 1), ('although', 1), ('existed', 1), ('incredible', 1), ('site', 1), ('Piovani', 1), ('Treasure', 1), ('proponents', 1), ('psychology', 1), ('spell', 1), ('under', 1), ('epic', 1), ('loves', 1), ('avoids', 1), ('Enhance', 1), ('segment', 1), ('tragic', 1), ('effects', 1), ('Events', 1), ('symbolizes', 1), ('nblogin', 1), ('stark', 1), ('After', 1), ('enduring', 1), ('ties', 1), ('lived', 1), ('dark', 1), ('claim', 1), ('delightful', 1), ('changed', 1), ('Occasionally', 1), ('comes', 1), ('period', 1), ('translating', 1), ('gender', 1), ('inth', 1), ('importance', 1), ('ph', 1), ('rise', 1), ('swept', 1), ('character', 1), ('style', 1), ('Menu', 1), ('simply', 1), ('emphasis', 1), ('equally', 1), ('combination', 1), ('Amarcord', 1), ('follow', 1), ('potent', 1), ('humans', 1), ('Go', 1), ('Groucho', 1), ('order', 1), ('balance', 1), ('generated', 1), ('Over', 1), ('next', 1), ('wealthy', 1), ('fair', 1), ('write', 1), ('convinces', 1), ('vision', 1), ('critics', 1), ('Score', 1), ('guidance', 1), ('winner', 1), ('wise', 1), ('set', 1), ('neatly', 1), ('off', 1), ('denial', 1), ('boundless', 1), ('brings', 1), ('tries', 1), ('delivers', 1), ('central', 1), ('cynical', 1), ('last', 1), ('felt', 1), ('tells', 1), ('whole', 1), ('least', 1), ('bunch', 1), ('insulted', 1), ('moment', 1), ('glimpse', 1), ('poet', 1), ('laughter', 1), ('gentile', 1), ('trailers', 1), ('feel', 1), ('eleven', 1), ('line', 1), ('said', 1), ('triumphant', 1), ('joke', 1), ('encompassing', 1), ('yourself', 1), ('miracle', 1), ('Mr', 1), ('unable', 1), ('part', 1), ('enter', 1), ('general', 1), ('given', 1), ('duties', 1), ('male', 1), ('still', 1), ('sceptisism', 1), ('fast', 1), ('somewhat', 1), ('adversity', 1), ('reviews', 1), ('role', 1), ('credibility', 1), ('mistaken', 1), ('too', 1), ('Private', 1), ('Postino', 1), ('shoulder', 1), ('Vincenzo', 1), ('sh', 1), ('sitting', 1), ('demands', 1), ('owning', 1), ('urge', 1), ('However', 1), ('expression', 1), ('shape', 1), ('both', 1), ('always', 1), ('provide', 1), ('section', 1), ('speeds', 1), ('realism', 1), ('sick', 1), ('former', 1), ('Login', 1), ('theme', 1), ('html', 1), ('spoilers', 1), ('Academy', 1), ('seeing', 1), ('uplifting', 1), ('school', 1), ('ending', 1), ('proudly', 1), ('re', 1), ('implausible', 1), ('fellow', 1), ('track', 1), ('vote', 1), ('One', 1), ('German', 1), ('thoroughly', 1), ('illusion', 1), ('Jackie', 1), ('performances', 1), ('forces', 1), ('innocent', 1), ('Mel', 1), ('screen', 1), ('execution', 1), ('Cantanarini', 1), ('spirited', 1), ('contain', 1), ('various', 1), ('enjoy', 1), ('That', 1), ('merely', 1), ('keeps', 1), ('efforts', 1), ('lady', 1), ('SF', 1), ('natural', 1), ('bitter', 1), ('subtitles', 1), ('despite', 1), ('thoughts', 1), ('superiority', 1), ('terrific', 1), ('typically', 1), ('difficult', 1), ('bd', 1), ('village', 1), ('Seven', 1), ('reviewers', 1), ('appealing', 1), ('La', 1), ('semitism', 1), ('slightly', 1), ('few', 1), ('initially', 1), ('gotten', 1), ('mastery', 1), ('Il', 1), ('guts', 1), ('losses', 1), ('Love', 1), ('ignore', 1), ('optimism', 1), ('disgusted', 1), ('came', 1), ('disturbed', 1), ('new', 1), ('showing', 1), ('silence', 1), ('nor', 1), ('Don', 1), ('anti', 1), ('goes', 1), ('creativity', 1), ('idea', 1), ('Dramatic', 1), ('toy', 1), ('ball', 1), ('insight', 1), ('satisfied', 1), ('Shakespeare', 1), ('Principessa', 1), ('Nicola', 1), ('gain', 1), ('fore', 1), ('seriousness', 1), ('beginning', 1), ('wl', 1), ('cf', 1), ('needs', 1), ('Language', 1), ('if', 1), ('effective', 1), ('documentary', 1), ('winning', 1), ('power', 1), ('rf', 1), ('sequence', 1), ('Comic', 1), ('chip', 1), ('News', 1), ('timeless', 1), ('death', 1), ('two', 1), ('subject', 1), ('People', 1), ('Or', 1), ('come', 1), ('ensues', 1), ('brakes', 1), ('rg', 1), ('II', 1), ('Photos', 1), ('car', 1), ('marries', 1), ('tears', 1), ('signup', 1), ('tables', 1), ('limitations', 1), ('however', 1), ('incredibly', 1), ('years', 1), ('proves', 1), ('Various', 1), ('prisoner', 1), ('sinister', 1), ('showed', 1), ('betraying', 1), ('side', 1), ('fef', 1), ('raw', 1), ('refers', 1), ('event', 1), ('seventeen', 1), ('tv', 1), ('introduced', 1), ('provides', 1), ('let', 1), ('intense', 1), ('forever', 1), ('Saving', 1), ('spirit', 1), ('might', 1), ('Thank', 1), ('mentally', 1), ('happening', 1), ('Awards', 1), ('communicate', 1), ('produced', 1), ('horror', 1), ('World', 1), ('magnificent', 1), ('Buchholz', 1), ('managed', 1), ('tragedy', 1), ('hardly', 1), ('sure', 1), ('forgetting', 1), ('sky', 1), ('translation', 1), ('decided', 1), ('been', 1), ('gallery', 1), ('along', 1), ('painful', 1), ('strength', 1), ('nw', 1), ('supposed', 1), ('ebfbc', 1), ('realistic', 1), ('ultimate', 1), ('walk', 1), ('imdbpro', 1), ('situations', 1), ('capable', 1), ('aspects', 1), ('throughout', 1), ('Ernst', 1), ('pure', 1), ('certainty', 1), ('Orefice', 1), ('fable', 1), ('moving', 1), ('uses', 1), ('Despite', 1), ('Romance', 1), ('helps', 1), ('together', 1), ('consider', 1), ('SEE', 1), ('uncle', 1), ('Gestapo', 1), ('now', 1), ('discharge', 1), ('ends', 1), ('emotional', 1), ('enjoyed', 1), ('sheer', 1), ('Charlie', 1), ('browse', 1), ('shed', 1), ('toptv', 1), ('cinematography', 1), ('energy', 1), ('Community', 1), ('register', 1), ('lasting', 1), ('accesses', 1), ('greatly', 1), ('news', 1), ('rel', 1), ('Cantanari', 1), ('shines', 1), ('index', 1), ('awrd', 1), ('thin', 1), ('And', 1), ('friend', 1), ('meets', 1), ('Amazon', 1), ('comic', 1), ('special', 1), ('hey', 1), ('everyone', 1), ('outshines', 1), ('black', 1), ('humour', 1), ('honest', 1), ('concur', 1), ('scared', 1), ('should', 1), ('praising', 1), ('performing', 1), ('keep', 1), ('daughter', 1), ('day', 1), ('pro', 1), ('hiding', 1), ('sad', 1), ('win', 1), ('sorry', 1), ('i', 1), ('fantastic', 1), ('Producers', 1), ('media', 1), ('less', 1), ('fictional', 1), ('box', 1), ('fear', 1), ('deep', 1), ('alt', 1), ('went', 1), ('genocide', 1), ('cruelty', 1), ('striptease', 1), ('Page', 1), ('schoolteacher', 1), ('capture', 1), ('superb', 1), ('Marx', 1), ('rides', 1), ('lantern', 1), ('station', 1), ('involving', 1), ('enchanting', 1), ('else', 1), ('care', 1), ('theaters', 1), ('miss', 1), ('depressing', 1), ('crude', 1), ('honestly', 1), ('create', 1), ('script', 1), ('At', 1), ('attempts', 1), ('sense', 1), ('fingertips', 1), ('nightmare', 1), ('creating', 1), ('Movies', 1), ('turned', 1), ('action', 1), ('describing', 1), ('co', 1), ('inspector', 1), ('full', 1), ('whom', 1), ('focusing', 1), ('sublime', 1), ('fascist', 1), ('demonstration', 1), ('perhaps', 1), ('household', 1), ('aim', 1), ('appearance', 1), ('convey', 1), ('takes', 1), ('dimension', 1), ('age', 1), ('racial', 1), ('pleasantness', 1), ('Tuscany', 1), ('impromptu', 1), ('radiant', 1), ('speech', 1), ('glad', 1), ('photos', 1), ('nowadays', 1), ('town', 1), ('female', 1), ('highlights', 1), ('worse', 1), ('inner', 1), ('students', 1), ('page', 1), ('Sergio', 1), ('boards', 1), ('educate', 1), ('word', 1), ('found', 1), ('shifts', 1), ('unlike', 1), ('information', 1), ('gloomy', 1), ('red', 1), ('straight', 1), ('she', 1), ('House', 1), ('overcome', 1), ('shattered', 1), ('Italians', 1), ('history', 1), ('Add', 1), ('tissues', 1), ('cinematic', 1), ('Durano', 1), ('hurries', 1), ('They', 1), ('obsessed', 1), ('notice', 1), ('Find', 1), ('provided', 1), ('protects', 1), ('betrayed', 1), ('gravity', 1), ('writer', 1), ('doesn', 1), ('Cerami', 1), ('insiders', 1), ('millions', 1), ('graphic', 1), ('romance', 1), ('holocaust', 1), ('missing', 1), ('once', 1), ('while', 1), ('surprise', 1), ('favorite', 1), ('change', 1), ('sentimental', 1), ('navbar', 1), ('necessary', 1), ('Oh', 1), ('Hope', 1), ('grace', 1), ('essentially', 1), ('mere', 1), ('scenery', 1), ('If', 1), ('satire', 1), ('tablet', 1), ('size', 1), ('Europe', 1), ('realize', 1), ('slow', 1), ('lgin', 1), ('delicately', 1), ('effectively', 1), ('yell', 1), ('notable', 1), ('measures', 1), ('lead', 1), ('dwell', 1), ('funnier', 1), ('rate', 1), ('job', 1), ('inferior', 1), ('performance', 1), ('overlooked', 1), ('comments', 1), ('fail', 1), ('cast', 1), ('hard', 1), ('races', 1), ('different', 1), ('trying', 1), ('immense', 1), ('men', 1), ('Toto', 1), ('any', 1), ('Horst', 1), ('rules', 1), ('Doctor', 1), ('narrow', 1), ('exhausted', 1), ('Jews', 1), ('Lubitsch', 1), ('cel', 1), ('reading', 1), ('related', 1), ('believe', 1), ('long', 1), ('Unlike', 1), ('carpet', 1), ('Lessing', 1), ('id', 1), ('Giustino', 1), ('due', 1), ('king', 1), ('horse', 1), ('world', 1), ('usr', 1), ('titled', 1), ('audiences', 1), ('Coogan', 1), ('distant', 1), ('sub', 1), ('So', 1), ('encouragement', 1), ('Industry', 1), ('most', 1), ('English', 1), ('prospective', 1), ('easy', 1), ('unidentified', 1), ('tolerant', 1), ('ambiance', 1), ('non', 1), ('nice', 1), ('successful', 1), ('excellent', 1), ('becomes', 1), ('caught', 1), ('Oscar', 1), ('War', 1), ('acted', 1), ('mainstream', 1), ('manifestation', 1), ('painted', 1), ('Celebs', 1), ('powerful', 1), ('Actor', 1), ('realise', 1), ('extremely', 1), ('uplift', 1), ('Keaton', 1), ('lengths', 1), ('hate', 1), ('above', 1), ('young', 1), ('better', 1), ('borrows', 1), ('joy', 1), ('good', 1), ('loudest', 1), ('elements', 1), ('external', 1), ('subtitled', 1), ('element', 1), ('handy', 1), ('disappointed', 1), ('portrayed', 1), ('m', 1), ('strand', 1), ('Both', 1), ('Cinema', 1), ('naturally', 1), ('introduction', 1), ('turns', 1), ('Brooks', 1), ('entertain', 1), ('forgot', 1), ('attacks', 1), ('able', 1), ('teachers', 1), ('bookstore', 1), ('phone', 1), ('peers', 1), ('award', 1), ('often', 1), ('catch', 1), ('fantasy', 1), ('serious', 1), ('satisfying', 1), ('minded', 1), ('assembled', 1), ('pleasant', 1), ('fun', 1), ('relentless', 1), ('effect', 1), ('bringing', 1), ('unforgettable', 1), ('creation', 1), ('dignity', 1), ('IMDb', 1), ('home', 1), ('sadness', 1), ('ability', 1), ('wheel', 1), ('put', 1), ('entire', 1), ('Have', 1), ('MUST', 1), ('refuse', 1), ('safety', 1), ('inspiring', 1), ('hilarious', 1), ('Mixing', 1), ('later', 1), ('tremendous', 1), ('With', 1), ('LOL', 1), ('rainy', 1), ('list', 1), ('funny', 1), ('timing', 1), ('aren', 1), ('someone', 1), ('chart', 1), ('suffered', 1), ('soon', 1), ('actually', 1), ('witnessing', 1), ('camps', 1), ('search', 1), ('small', 1), ('green', 1), ('context', 1), ('web', 1), ('saw', 1), ('marriage', 1), ('Magnificent', 1), ('comedic', 1), ('quickly', 1), ('hysterical', 1), ('watched', 1), ('demonstrated', 1), ('during', 1), ('lovely', 1), ('hides', 1), ('nicknames', 1), ('insructions', 1), ('memorable', 1), ('depict', 1), ('Showtimes', 1), ('manifests', 1), ('No', 1), ('wait', 1), ('combined', 1), ('brief', 1), ('gives', 1), ('tendency', 1), ('feeling', 1), ('wonderful', 1), ('intelligent', 1), ('Nazi', 1), ('present', 1), ('scene', 1), ('floors', 1), ('white', 1), ('cheer', 1), ('speaks', 1)]\n"
     ]
    }
   ],
   "source": [
    "counter = collections.Counter(tokens)\n",
    "movie1 = counter.most_common()\n",
    "print(movie1)"
   ]
  },
  {
   "cell_type": "markdown",
   "metadata": {},
   "source": [
    "#### 6. Convert to a Dataframe for Easy Viewing"
   ]
  },
  {
   "cell_type": "code",
   "execution_count": 30,
   "metadata": {
    "collapsed": true
   },
   "outputs": [],
   "source": [
    "test2 = pd.DataFrame(movie1)"
   ]
  },
  {
   "cell_type": "code",
   "execution_count": 37,
   "metadata": {
    "collapsed": true
   },
   "outputs": [],
   "source": [
    "test2.columns = ['word', 'rank']"
   ]
  },
  {
   "cell_type": "markdown",
   "metadata": {},
   "source": [
    "####  7. Find the rows with the top five descriptive words"
   ]
  },
  {
   "cell_type": "code",
   "execution_count": 40,
   "metadata": {
    "collapsed": true
   },
   "outputs": [],
   "source": [
    "words = ('best', 'hope', 'love', 'beautiful', 'great')"
   ]
  },
  {
   "cell_type": "code",
   "execution_count": 41,
   "metadata": {
    "collapsed": false
   },
   "outputs": [],
   "source": [
    "test3 = test2.loc[test2['word'].isin(words)]"
   ]
  },
  {
   "cell_type": "markdown",
   "metadata": {},
   "source": [
    "#### 8. Write the results to a csv"
   ]
  },
  {
   "cell_type": "code",
   "execution_count": 49,
   "metadata": {
    "collapsed": true
   },
   "outputs": [],
   "source": [
    "test3.to_csv('movie1.csv')"
   ]
  },
  {
   "cell_type": "markdown",
   "metadata": {},
   "source": [
    "#### 9. Repeat the process for the other top 24 titles"
   ]
  },
  {
   "cell_type": "markdown",
   "metadata": {},
   "source": [
    "## Part 3: Combine Tables in PostgreSQL"
   ]
  },
  {
   "cell_type": "markdown",
   "metadata": {
    "collapsed": true
   },
   "source": [
    "**Instructor Note**: As a backup to the scraping activity, two datasets containing the sentiment analysis, titles + attributes, and a full joined dataset have been included in the repo for this lesson"
   ]
  },
  {
   "cell_type": "markdown",
   "metadata": {},
   "source": [
    "#### 1. Import your two .csv data files into your Postgre Database as two different tables"
   ]
  },
  {
   "cell_type": "markdown",
   "metadata": {},
   "source": [
    "For ease, we can call these table1 and table2"
   ]
  },
  {
   "cell_type": "markdown",
   "metadata": {},
   "source": [
    "#### 2. Connect to database and query the joined set"
   ]
  },
  {
   "cell_type": "code",
   "execution_count": null,
   "metadata": {
    "collapsed": true
   },
   "outputs": [],
   "source": [
    "conn = psycopg2.connect(database='yourdb', user='dbuser', password='abcd1234', host='server', port='5432', sslmode='require')\n",
    "cur = conn.cursor()"
   ]
  },
  {
   "cell_type": "markdown",
   "metadata": {},
   "source": [
    "#### 3. Join the two tables "
   ]
  },
  {
   "cell_type": "code",
   "execution_count": null,
   "metadata": {
    "collapsed": true
   },
   "outputs": [],
   "source": [
    "cur.execute(\"\"\"SELECT *\n",
    "FROM table1\n",
    "INNER JOIN table2\n",
    "ON table1.name = table2.name;\"\"\")\n",
    "     conn.commit()"
   ]
  },
  {
   "cell_type": "markdown",
   "metadata": {},
   "source": [
    "#### 4. Select the newly joined table and save two copies of the into dataframes"
   ]
  },
  {
   "cell_type": "code",
   "execution_count": null,
   "metadata": {
    "collapsed": true
   },
   "outputs": [],
   "source": [
    "cur.execute(\"\"\"SELECT * FROM table1\"\"\")\n",
    "df = cur.fetchall()\n"
   ]
  },
  {
   "cell_type": "code",
   "execution_count": null,
   "metadata": {
    "collapsed": true
   },
   "outputs": [],
   "source": [
    "cur.execute(\"\"\"SELECT * FROM table1\"\"\")\n",
    "df2 = cur.fetchall()\n",
    "cur.close()"
   ]
  },
  {
   "cell_type": "markdown",
   "metadata": {},
   "source": [
    "## Part 4: Parsing and Exploratory Data Analysis"
   ]
  },
  {
   "cell_type": "markdown",
   "metadata": {},
   "source": [
    "#### 1. Rename the column headings"
   ]
  },
  {
   "cell_type": "code",
   "execution_count": 35,
   "metadata": {
    "collapsed": true
   },
   "outputs": [],
   "source": [
    "df.columns = ['votes', 'rating', 'reference', 'title', 'year', 'excellent', 'great', 'love', 'beautiful', 'best', 'hope', 'groundbreaking', 'amazing']"
   ]
  },
  {
   "cell_type": "code",
   "execution_count": 26,
   "metadata": {
    "collapsed": true
   },
   "outputs": [],
   "source": [
    "df2.columns = ['votes', 'rating', 'reference', 'title', 'year', 'excellent', 'great', 'love', 'beautiful', 'best', 'hope', 'groundbreaking', 'amazing']"
   ]
  },
  {
   "cell_type": "code",
   "execution_count": 11,
   "metadata": {
    "collapsed": false
   },
   "outputs": [
    {
     "data": {
      "text/html": [
       "<div>\n",
       "<table border=\"1\" class=\"dataframe\">\n",
       "  <thead>\n",
       "    <tr style=\"text-align: right;\">\n",
       "      <th></th>\n",
       "      <th>votes</th>\n",
       "      <th>rating</th>\n",
       "      <th>reference</th>\n",
       "      <th>title</th>\n",
       "      <th>year</th>\n",
       "      <th>excellent</th>\n",
       "      <th>great</th>\n",
       "      <th>love</th>\n",
       "      <th>beautiful</th>\n",
       "      <th>best</th>\n",
       "      <th>hope</th>\n",
       "      <th>groundbreaking</th>\n",
       "      <th>amazing</th>\n",
       "    </tr>\n",
       "  </thead>\n",
       "  <tbody>\n",
       "    <tr>\n",
       "      <th>0</th>\n",
       "      <td>1633889</td>\n",
       "      <td>9.3</td>\n",
       "      <td>tt0111161</td>\n",
       "      <td>The Shawshank Redemption</td>\n",
       "      <td>1994</td>\n",
       "      <td>0</td>\n",
       "      <td>1</td>\n",
       "      <td>0</td>\n",
       "      <td>1</td>\n",
       "      <td>0</td>\n",
       "      <td>0</td>\n",
       "      <td>0</td>\n",
       "      <td>1</td>\n",
       "    </tr>\n",
       "    <tr>\n",
       "      <th>1</th>\n",
       "      <td>1118799</td>\n",
       "      <td>9.2</td>\n",
       "      <td>tt0068646</td>\n",
       "      <td>The Godfather</td>\n",
       "      <td>1972</td>\n",
       "      <td>1</td>\n",
       "      <td>1</td>\n",
       "      <td>0</td>\n",
       "      <td>0</td>\n",
       "      <td>1</td>\n",
       "      <td>0</td>\n",
       "      <td>1</td>\n",
       "      <td>0</td>\n",
       "    </tr>\n",
       "    <tr>\n",
       "      <th>2</th>\n",
       "      <td>762879</td>\n",
       "      <td>9.0</td>\n",
       "      <td>tt0071562</td>\n",
       "      <td>The Godfather: Part II</td>\n",
       "      <td>1974</td>\n",
       "      <td>1</td>\n",
       "      <td>1</td>\n",
       "      <td>0</td>\n",
       "      <td>0</td>\n",
       "      <td>1</td>\n",
       "      <td>0</td>\n",
       "      <td>0</td>\n",
       "      <td>1</td>\n",
       "    </tr>\n",
       "    <tr>\n",
       "      <th>3</th>\n",
       "      <td>1616346</td>\n",
       "      <td>9.0</td>\n",
       "      <td>tt0468569</td>\n",
       "      <td>The Dark Knight</td>\n",
       "      <td>2008</td>\n",
       "      <td>1</td>\n",
       "      <td>1</td>\n",
       "      <td>1</td>\n",
       "      <td>0</td>\n",
       "      <td>1</td>\n",
       "      <td>0</td>\n",
       "      <td>1</td>\n",
       "      <td>1</td>\n",
       "    </tr>\n",
       "    <tr>\n",
       "      <th>4</th>\n",
       "      <td>835155</td>\n",
       "      <td>8.9</td>\n",
       "      <td>tt0108052</td>\n",
       "      <td>Schindler's List</td>\n",
       "      <td>1993</td>\n",
       "      <td>1</td>\n",
       "      <td>1</td>\n",
       "      <td>1</td>\n",
       "      <td>1</td>\n",
       "      <td>1</td>\n",
       "      <td>1</td>\n",
       "      <td>1</td>\n",
       "      <td>1</td>\n",
       "    </tr>\n",
       "  </tbody>\n",
       "</table>\n",
       "</div>"
      ],
      "text/plain": [
       "     votes  rating  reference                     title  year  excellent  \\\n",
       "0  1633889     9.3  tt0111161  The Shawshank Redemption  1994          0   \n",
       "1  1118799     9.2  tt0068646             The Godfather  1972          1   \n",
       "2   762879     9.0  tt0071562    The Godfather: Part II  1974          1   \n",
       "3  1616346     9.0  tt0468569           The Dark Knight  2008          1   \n",
       "4   835155     8.9  tt0108052          Schindler's List  1993          1   \n",
       "\n",
       "   great  love  beautiful  best  hope  groundbreaking  amazing  \n",
       "0      1     0          1     0     0               0        1  \n",
       "1      1     0          0     1     0               1        0  \n",
       "2      1     0          0     1     0               0        1  \n",
       "3      1     1          0     1     0               1        1  \n",
       "4      1     1          1     1     1               1        1  "
      ]
     },
     "execution_count": 11,
     "metadata": {},
     "output_type": "execute_result"
    }
   ],
   "source": [
    "df.head()"
   ]
  },
  {
   "cell_type": "markdown",
   "metadata": {},
   "source": [
    "#### 2. Run a description of the data"
   ]
  },
  {
   "cell_type": "code",
   "execution_count": 56,
   "metadata": {
    "collapsed": false
   },
   "outputs": [
    {
     "data": {
      "text/html": [
       "<div>\n",
       "<table border=\"1\" class=\"dataframe\">\n",
       "  <thead>\n",
       "    <tr style=\"text-align: right;\">\n",
       "      <th></th>\n",
       "      <th>votes</th>\n",
       "      <th>rating</th>\n",
       "      <th>year</th>\n",
       "      <th>excellent</th>\n",
       "      <th>great</th>\n",
       "      <th>love</th>\n",
       "      <th>beautiful</th>\n",
       "      <th>best</th>\n",
       "      <th>hope</th>\n",
       "      <th>groundbreaking</th>\n",
       "      <th>amazing</th>\n",
       "    </tr>\n",
       "  </thead>\n",
       "  <tbody>\n",
       "    <tr>\n",
       "      <th>count</th>\n",
       "      <td>26.000000</td>\n",
       "      <td>26.000000</td>\n",
       "      <td>26.000000</td>\n",
       "      <td>26.000000</td>\n",
       "      <td>26.000000</td>\n",
       "      <td>26.000000</td>\n",
       "      <td>26.000000</td>\n",
       "      <td>26.000000</td>\n",
       "      <td>26.000000</td>\n",
       "      <td>26.000000</td>\n",
       "      <td>26.000000</td>\n",
       "    </tr>\n",
       "    <tr>\n",
       "      <th>mean</th>\n",
       "      <td>911704.923077</td>\n",
       "      <td>8.807692</td>\n",
       "      <td>1987.230769</td>\n",
       "      <td>0.576923</td>\n",
       "      <td>0.423077</td>\n",
       "      <td>0.384615</td>\n",
       "      <td>0.307692</td>\n",
       "      <td>0.307692</td>\n",
       "      <td>0.346154</td>\n",
       "      <td>0.269231</td>\n",
       "      <td>0.307692</td>\n",
       "    </tr>\n",
       "    <tr>\n",
       "      <th>std</th>\n",
       "      <td>392000.145665</td>\n",
       "      <td>0.180938</td>\n",
       "      <td>17.196064</td>\n",
       "      <td>0.503831</td>\n",
       "      <td>0.503831</td>\n",
       "      <td>0.496139</td>\n",
       "      <td>0.470679</td>\n",
       "      <td>0.470679</td>\n",
       "      <td>0.485165</td>\n",
       "      <td>0.452344</td>\n",
       "      <td>0.470679</td>\n",
       "    </tr>\n",
       "    <tr>\n",
       "      <th>min</th>\n",
       "      <td>222063.000000</td>\n",
       "      <td>8.600000</td>\n",
       "      <td>1946.000000</td>\n",
       "      <td>0.000000</td>\n",
       "      <td>0.000000</td>\n",
       "      <td>0.000000</td>\n",
       "      <td>0.000000</td>\n",
       "      <td>0.000000</td>\n",
       "      <td>0.000000</td>\n",
       "      <td>0.000000</td>\n",
       "      <td>0.000000</td>\n",
       "    </tr>\n",
       "    <tr>\n",
       "      <th>25%</th>\n",
       "      <td>670187.250000</td>\n",
       "      <td>8.700000</td>\n",
       "      <td>1975.500000</td>\n",
       "      <td>0.000000</td>\n",
       "      <td>0.000000</td>\n",
       "      <td>0.000000</td>\n",
       "      <td>0.000000</td>\n",
       "      <td>0.000000</td>\n",
       "      <td>0.000000</td>\n",
       "      <td>0.000000</td>\n",
       "      <td>0.000000</td>\n",
       "    </tr>\n",
       "    <tr>\n",
       "      <th>50%</th>\n",
       "      <td>865992.000000</td>\n",
       "      <td>8.800000</td>\n",
       "      <td>1994.000000</td>\n",
       "      <td>1.000000</td>\n",
       "      <td>0.000000</td>\n",
       "      <td>0.000000</td>\n",
       "      <td>0.000000</td>\n",
       "      <td>0.000000</td>\n",
       "      <td>0.000000</td>\n",
       "      <td>0.000000</td>\n",
       "      <td>0.000000</td>\n",
       "    </tr>\n",
       "    <tr>\n",
       "      <th>75%</th>\n",
       "      <td>1193679.750000</td>\n",
       "      <td>8.900000</td>\n",
       "      <td>1999.000000</td>\n",
       "      <td>1.000000</td>\n",
       "      <td>1.000000</td>\n",
       "      <td>1.000000</td>\n",
       "      <td>1.000000</td>\n",
       "      <td>1.000000</td>\n",
       "      <td>1.000000</td>\n",
       "      <td>0.750000</td>\n",
       "      <td>1.000000</td>\n",
       "    </tr>\n",
       "    <tr>\n",
       "      <th>max</th>\n",
       "      <td>1633889.000000</td>\n",
       "      <td>9.300000</td>\n",
       "      <td>2010.000000</td>\n",
       "      <td>1.000000</td>\n",
       "      <td>1.000000</td>\n",
       "      <td>1.000000</td>\n",
       "      <td>1.000000</td>\n",
       "      <td>1.000000</td>\n",
       "      <td>1.000000</td>\n",
       "      <td>1.000000</td>\n",
       "      <td>1.000000</td>\n",
       "    </tr>\n",
       "  </tbody>\n",
       "</table>\n",
       "</div>"
      ],
      "text/plain": [
       "                votes     rating         year  excellent      great  \\\n",
       "count       26.000000  26.000000    26.000000  26.000000  26.000000   \n",
       "mean    911704.923077   8.807692  1987.230769   0.576923   0.423077   \n",
       "std     392000.145665   0.180938    17.196064   0.503831   0.503831   \n",
       "min     222063.000000   8.600000  1946.000000   0.000000   0.000000   \n",
       "25%     670187.250000   8.700000  1975.500000   0.000000   0.000000   \n",
       "50%     865992.000000   8.800000  1994.000000   1.000000   0.000000   \n",
       "75%    1193679.750000   8.900000  1999.000000   1.000000   1.000000   \n",
       "max    1633889.000000   9.300000  2010.000000   1.000000   1.000000   \n",
       "\n",
       "            love  beautiful       best       hope  groundbreaking    amazing  \n",
       "count  26.000000  26.000000  26.000000  26.000000       26.000000  26.000000  \n",
       "mean    0.384615   0.307692   0.307692   0.346154        0.269231   0.307692  \n",
       "std     0.496139   0.470679   0.470679   0.485165        0.452344   0.470679  \n",
       "min     0.000000   0.000000   0.000000   0.000000        0.000000   0.000000  \n",
       "25%     0.000000   0.000000   0.000000   0.000000        0.000000   0.000000  \n",
       "50%     0.000000   0.000000   0.000000   0.000000        0.000000   0.000000  \n",
       "75%     1.000000   1.000000   1.000000   1.000000        0.750000   1.000000  \n",
       "max     1.000000   1.000000   1.000000   1.000000        1.000000   1.000000  "
      ]
     },
     "execution_count": 56,
     "metadata": {},
     "output_type": "execute_result"
    }
   ],
   "source": [
    "df.describe()"
   ]
  },
  {
   "cell_type": "markdown",
   "metadata": {
    "collapsed": true
   },
   "source": [
    "#### 3. Visualize the Data"
   ]
  },
  {
   "cell_type": "code",
   "execution_count": 58,
   "metadata": {
    "collapsed": false
   },
   "outputs": [
    {
     "data": {
      "text/plain": [
       "<matplotlib.text.Text at 0x11a842a90>"
      ]
     },
     "execution_count": 58,
     "metadata": {},
     "output_type": "execute_result"
    },
    {
     "data": {
      "image/png": "[encoded data removed]",
      "text/plain": [
       "<matplotlib.figure.Figure at 0x11df1ae48>"
      ]
     },
     "metadata": {},
     "output_type": "display_data"
    }
   ],
   "source": [
    "df.year.hist()\n",
    "plt.title('Histogram of Years')\n",
    "plt.xlabel('Year')\n",
    "plt.ylabel('Frequency')"
   ]
  },
  {
   "cell_type": "code",
   "execution_count": 60,
   "metadata": {
    "collapsed": false
   },
   "outputs": [
    {
     "data": {
      "text/plain": [
       "<matplotlib.text.Text at 0x11e9b2d68>"
      ]
     },
     "execution_count": 60,
     "metadata": {},
     "output_type": "execute_result"
    },
    {
     "data": {
      "image/png": "[encoded data removed]",
      "text/plain": [
       "<matplotlib.figure.Figure at 0x11dcb3c50>"
      ]
     },
     "metadata": {},
     "output_type": "display_data"
    }
   ],
   "source": [
    "plt.plot(df['votes'], df['rating'], 'ro')\n",
    "plt.title('Age vs Fares')\n",
    "plt.xlabel('Votes')\n",
    "plt.ylabel('Rating')"
   ]
  },
  {
   "cell_type": "code",
   "execution_count": 65,
   "metadata": {
    "collapsed": false
   },
   "outputs": [
    {
     "data": {
      "text/plain": [
       "<matplotlib.text.Text at 0x11e5cfc18>"
      ]
     },
     "execution_count": 65,
     "metadata": {},
     "output_type": "execute_result"
    },
    {
     "data": {
      "image/png": "[encoded data removed]",
      "text/plain": [
       "<matplotlib.figure.Figure at 0x11e9e8588>"
      ]
     },
     "metadata": {},
     "output_type": "display_data"
    }
   ],
   "source": [
    "df.great.hist()\n",
    "plt.xlabel('Review Described Movie as \"Great\"; 0=No, 1=Yes')\n",
    "plt.ylabel('Frequency')"
   ]
  },
  {
   "cell_type": "code",
   "execution_count": 64,
   "metadata": {
    "collapsed": false
   },
   "outputs": [
    {
     "name": "stderr",
     "output_type": "stream",
     "text": [
      "//anaconda/lib/python3.5/site-packages/ipykernel/__main__.py:1: FutureWarning: \n",
      "The default value for 'return_type' will change to 'axes' in a future release.\n",
      " To use the future behavior now, set return_type='axes'.\n",
      " To keep the previous behavior and silence this warning, set return_type='dict'.\n",
      "  if __name__ == '__main__':\n"
     ]
    },
    {
     "data": {
      "text/plain": [
       "{'boxes': [<matplotlib.lines.Line2D at 0x11e159278>],\n",
       " 'caps': [<matplotlib.lines.Line2D at 0x11e169cf8>,\n",
       "  <matplotlib.lines.Line2D at 0x11e169e10>],\n",
       " 'fliers': [<matplotlib.lines.Line2D at 0x11e176da0>],\n",
       " 'means': [],\n",
       " 'medians': [<matplotlib.lines.Line2D at 0x11e176668>],\n",
       " 'whiskers': [<matplotlib.lines.Line2D at 0x11e159c88>,\n",
       "  <matplotlib.lines.Line2D at 0x11e159da0>]}"
      ]
     },
     "execution_count": 64,
     "metadata": {},
     "output_type": "execute_result"
    },
    {
     "data": {
      "image/png": "[encoded data removed]",
      "text/plain": [
       "<matplotlib.figure.Figure at 0x11dc456a0>"
      ]
     },
     "metadata": {},
     "output_type": "display_data"
    }
   ],
   "source": [
    "df.boxplot(column='rating')"
   ]
  },
  {
   "cell_type": "markdown",
   "metadata": {},
   "source": [
    "## Part 3: Build the Decision Tree"
   ]
  },
  {
   "cell_type": "markdown",
   "metadata": {
    "collapsed": true
   },
   "source": [
    "#### 1. What is our target attribute? "
   ]
  },
  {
   "cell_type": "markdown",
   "metadata": {},
   "source": [
    "Our target attribute is the rating - we are looking to predict the rating based on a variety of other attributes; IE: the number of votes, and whether certain common words appeared in the reviews. "
   ]
  },
  {
   "cell_type": "markdown",
   "metadata": {},
   "source": [
    "#### 2. Prepare the data and define the training set"
   ]
  },
  {
   "cell_type": "code",
   "execution_count": 44,
   "metadata": {
    "collapsed": false
   },
   "outputs": [],
   "source": [
    "cols = df[['votes', 'year', 'excellent', 'great', 'love', 'beautiful', 'best', 'hope', 'groundbreaking', 'amazing']]\n",
    "colsRes = df['rating']"
   ]
  },
  {
   "cell_type": "code",
   "execution_count": 49,
   "metadata": {
    "collapsed": false
   },
   "outputs": [],
   "source": [
    "colsRes = np.array(colsRes).astype('f8')\n",
    "cols = np.array(cols).astype(int)"
   ]
  },
  {
   "cell_type": "code",
   "execution_count": 50,
   "metadata": {
    "collapsed": false
   },
   "outputs": [
    {
     "name": "stdout",
     "output_type": "stream",
     "text": [
      "[ 9.3  9.2  9.   9.   8.9  8.9  8.9  8.9  8.9  8.9  8.8  8.8  8.8  8.8  8.7\n",
      "  8.7  8.7  8.7  8.7  8.7  8.7  8.6  8.6  8.6  8.6  8.6]\n"
     ]
    }
   ],
   "source": [
    "print(colsRes)"
   ]
  },
  {
   "cell_type": "markdown",
   "metadata": {},
   "source": [
    "#### 2. Train the Model"
   ]
  },
  {
   "cell_type": "code",
   "execution_count": 53,
   "metadata": {
    "collapsed": false
   },
   "outputs": [
    {
     "data": {
      "text/plain": [
       "RandomForestRegressor(bootstrap=True, criterion='mse', max_depth=None,\n",
       "           max_features='auto', max_leaf_nodes=None, min_samples_leaf=1,\n",
       "           min_samples_split=2, min_weight_fraction_leaf=0.0,\n",
       "           n_estimators=100, n_jobs=1, oob_score=False, random_state=None,\n",
       "           verbose=0, warm_start=False)"
      ]
     },
     "execution_count": 53,
     "metadata": {},
     "output_type": "execute_result"
    }
   ],
   "source": [
    "rf = RandomForestRegressor(n_estimators=100) # initialize\n",
    "rf.fit(cols, colsRes)"
   ]
  },
  {
   "cell_type": "code",
   "execution_count": 54,
   "metadata": {
    "collapsed": false
   },
   "outputs": [
    {
     "name": "stdout",
     "output_type": "stream",
     "text": [
      "[ 0.47623276  0.15066701  0.01262339  0.08365575  0.0230617   0.02639009\n",
      "  0.05790877  0.02165951  0.114737    0.03306402]\n"
     ]
    }
   ],
   "source": [
    "print(rf.feature_importances_)"
   ]
  },
  {
   "cell_type": "markdown",
   "metadata": {},
   "source": [
    "#### 43 Set up test data and test the model"
   ]
  },
  {
   "cell_type": "code",
   "execution_count": 55,
   "metadata": {
    "collapsed": false
   },
   "outputs": [],
   "source": [
    "colstest = df2[['votes', 'year', 'excellent', 'great', 'love', 'beautiful', 'best', 'hope', 'groundbreaking', 'amazing']]"
   ]
  },
  {
   "cell_type": "code",
   "execution_count": 56,
   "metadata": {
    "collapsed": true
   },
   "outputs": [],
   "source": [
    "colstest = np.array(cols).astype(int)"
   ]
  },
  {
   "cell_type": "code",
   "execution_count": 61,
   "metadata": {
    "collapsed": false
   },
   "outputs": [],
   "source": [
    "results = rf.predict(colstest)"
   ]
  },
  {
   "cell_type": "markdown",
   "metadata": {},
   "source": [
    "#### 5. Check the results"
   ]
  },
  {
   "cell_type": "code",
   "execution_count": 58,
   "metadata": {
    "collapsed": false
   },
   "outputs": [],
   "source": [
    "df2['predictions'] = results"
   ]
  },
  {
   "cell_type": "code",
   "execution_count": 59,
   "metadata": {
    "collapsed": false
   },
   "outputs": [
    {
     "data": {
      "text/html": [
       "<div>\n",
       "<table border=\"1\" class=\"dataframe\">\n",
       "  <thead>\n",
       "    <tr style=\"text-align: right;\">\n",
       "      <th></th>\n",
       "      <th>votes</th>\n",
       "      <th>rating</th>\n",
       "      <th>reference</th>\n",
       "      <th>title</th>\n",
       "      <th>year</th>\n",
       "      <th>excellent</th>\n",
       "      <th>great</th>\n",
       "      <th>love</th>\n",
       "      <th>beautiful</th>\n",
       "      <th>best</th>\n",
       "      <th>hope</th>\n",
       "      <th>groundbreaking</th>\n",
       "      <th>amazing</th>\n",
       "      <th>predictions</th>\n",
       "    </tr>\n",
       "  </thead>\n",
       "  <tbody>\n",
       "    <tr>\n",
       "      <th>0</th>\n",
       "      <td>1633889</td>\n",
       "      <td>9.3</td>\n",
       "      <td>tt0111161</td>\n",
       "      <td>The Shawshank Redemption</td>\n",
       "      <td>1994</td>\n",
       "      <td>0</td>\n",
       "      <td>1</td>\n",
       "      <td>0</td>\n",
       "      <td>1</td>\n",
       "      <td>0</td>\n",
       "      <td>0</td>\n",
       "      <td>0</td>\n",
       "      <td>1</td>\n",
       "      <td>9.127</td>\n",
       "    </tr>\n",
       "    <tr>\n",
       "      <th>1</th>\n",
       "      <td>1118799</td>\n",
       "      <td>9.2</td>\n",
       "      <td>tt0068646</td>\n",
       "      <td>The Godfather</td>\n",
       "      <td>1972</td>\n",
       "      <td>1</td>\n",
       "      <td>1</td>\n",
       "      <td>0</td>\n",
       "      <td>0</td>\n",
       "      <td>1</td>\n",
       "      <td>0</td>\n",
       "      <td>1</td>\n",
       "      <td>0</td>\n",
       "      <td>9.064</td>\n",
       "    </tr>\n",
       "    <tr>\n",
       "      <th>2</th>\n",
       "      <td>762879</td>\n",
       "      <td>9.0</td>\n",
       "      <td>tt0071562</td>\n",
       "      <td>The Godfather: Part II</td>\n",
       "      <td>1974</td>\n",
       "      <td>1</td>\n",
       "      <td>1</td>\n",
       "      <td>0</td>\n",
       "      <td>0</td>\n",
       "      <td>1</td>\n",
       "      <td>0</td>\n",
       "      <td>0</td>\n",
       "      <td>1</td>\n",
       "      <td>8.915</td>\n",
       "    </tr>\n",
       "    <tr>\n",
       "      <th>3</th>\n",
       "      <td>1616346</td>\n",
       "      <td>9.0</td>\n",
       "      <td>tt0468569</td>\n",
       "      <td>The Dark Knight</td>\n",
       "      <td>2008</td>\n",
       "      <td>1</td>\n",
       "      <td>1</td>\n",
       "      <td>1</td>\n",
       "      <td>0</td>\n",
       "      <td>1</td>\n",
       "      <td>0</td>\n",
       "      <td>1</td>\n",
       "      <td>1</td>\n",
       "      <td>9.061</td>\n",
       "    </tr>\n",
       "    <tr>\n",
       "      <th>4</th>\n",
       "      <td>835155</td>\n",
       "      <td>8.9</td>\n",
       "      <td>tt0108052</td>\n",
       "      <td>Schindler's List</td>\n",
       "      <td>1993</td>\n",
       "      <td>1</td>\n",
       "      <td>1</td>\n",
       "      <td>1</td>\n",
       "      <td>1</td>\n",
       "      <td>1</td>\n",
       "      <td>1</td>\n",
       "      <td>1</td>\n",
       "      <td>1</td>\n",
       "      <td>8.855</td>\n",
       "    </tr>\n",
       "  </tbody>\n",
       "</table>\n",
       "</div>"
      ],
      "text/plain": [
       "     votes  rating  reference                     title  year  excellent  \\\n",
       "0  1633889     9.3  tt0111161  The Shawshank Redemption  1994          0   \n",
       "1  1118799     9.2  tt0068646             The Godfather  1972          1   \n",
       "2   762879     9.0  tt0071562    The Godfather: Part II  1974          1   \n",
       "3  1616346     9.0  tt0468569           The Dark Knight  2008          1   \n",
       "4   835155     8.9  tt0108052          Schindler's List  1993          1   \n",
       "\n",
       "   great  love  beautiful  best  hope  groundbreaking  amazing  predictions  \n",
       "0      1     0          1     0     0               0        1        9.127  \n",
       "1      1     0          0     1     0               1        0        9.064  \n",
       "2      1     0          0     1     0               0        1        8.915  \n",
       "3      1     1          0     1     0               1        1        9.061  \n",
       "4      1     1          1     1     1               1        1        8.855  "
      ]
     },
     "execution_count": 59,
     "metadata": {},
     "output_type": "execute_result"
    }
   ],
   "source": [
    "df2.head()"
   ]
  },
  {
   "cell_type": "markdown",
   "metadata": {},
   "source": [
    "#### 6. What is overfitting and how are we at risk? "
   ]
  },
  {
   "cell_type": "markdown",
   "metadata": {},
   "source": [
    "Overfitting is when your model is too complicated for your dataset. This can happen when the model tunes itself to the specific characteristics of your dataset, rather than learning them. In the case of our analysis, overfitting is a risk due to the small nature of the dataset. "
   ]
  }
 ],
 "metadata": {
  "kernelspec": {
   "display_name": "Python 2",
   "language": "python",
   "name": "python2"
  },
  "language_info": {
   "codemirror_mode": {
    "name": "ipython",
    "version": 2
   },
   "file_extension": ".py",
   "mimetype": "text/x-python",
   "name": "python",
   "nbconvert_exporter": "python",
   "pygments_lexer": "ipython2",
   "version": "2.7.11"
  }
 },
 "nbformat": 4,
 "nbformat_minor": 0
}
