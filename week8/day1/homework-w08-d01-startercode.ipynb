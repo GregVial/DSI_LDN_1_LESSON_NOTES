{
 "cells": [
  {
   "cell_type": "markdown",
   "metadata": {},
   "source": [
    "# Homework w08d01 - Bayesian Statistics"
   ]
  },
  {
   "cell_type": "markdown",
   "metadata": {},
   "source": [
    "In these exercises, we are going to make use of Bayes rule\n",
    "$$\\pi(\\theta| x)=\\frac{\\pi(x |\\theta)\\pi(\\theta)}{\\sum_\\theta \\pi(x |\\theta)\\pi(\\theta)}\\ .$$"
   ]
  },
  {
   "cell_type": "code",
   "execution_count": 1,
   "metadata": {
    "collapsed": true
   },
   "outputs": [],
   "source": [
    "import numpy as np\n",
    "from scipy import misc, special"
   ]
  },
  {
   "cell_type": "markdown",
   "metadata": {},
   "source": [
    "#### 1. Imagine you have a box containing three coins. Two of these coins are fair (equal probability for head and tail), but one is biased (probability for head is 0.2). Now you draw a coin from the box and toss it three times. If two heads and one tail are obtained (in no particular order), what is the probability that the coin was fair, and what is the probability that the coin was biased?"
   ]
  },
  {
   "cell_type": "code",
   "execution_count": null,
   "metadata": {
    "collapsed": false
   },
   "outputs": [],
   "source": []
  },
  {
   "cell_type": "markdown",
   "metadata": {},
   "source": [
    "#### 2. The random variable X has a Poisson distribution with an unknown parameter $\\lambda$ with the subjective prior probility function given in the table. A random sample of size 3 yields the X-values 2, 0, and 3. Find the posterior distribution of $\\lambda$.\n",
    "\n",
    "|$\\lambda$|0.5|1.0|1.5|\n",
    "|:---------:|---|---|---|\n",
    "|$\\pi\\left(\\lambda\\right)$|1/2|1/3|1/6|\n",
    "\n",
    "Hints: \n",
    "\n",
    "The Poisson distribution of a discrete random variable X is given by $P(X=x)=\\frac{\\lambda^x}{x!} \\exp(-\\lambda)$. The likelihood function is given by the product of the probabilities for the three observed x-values given a particular $\\lambda$.\n",
    "\n",
    "You can use the function misc.factorial from the scipy package to calculate the factorial.\n",
    "\n",
    "For more information on the Poisson distribution, see https://en.wikipedia.org/wiki/Poisson_distribution."
   ]
  },
  {
   "cell_type": "code",
   "execution_count": null,
   "metadata": {
    "collapsed": false
   },
   "outputs": [],
   "source": []
  },
  {
   "cell_type": "markdown",
   "metadata": {},
   "source": [
    "#### 3. In a lot of 100 lightbulbs produced by a machine, an unknown number $\\rho$ are defective. Assume that $\\rho$ can range between 0 and 100 and has a prior binomial distribution with parameter $p=0.1$. Find the posterior distribution of $\\rho$ if a light bulb chosen at random from the lot is a) defective; b) not defective.\n",
    "\n",
    "Hint: \n",
    "\n",
    "The binomial distribution for a discrete random variable X is given by $P(X=x)=\\binom{n}{x} p^x (1-p)^{n-x}$. \n",
    "\n",
    "For a lightbulb being defect, you can assume a uniform likelihood function of the form $\\frac{\\rho}{n}$.\n",
    "\n",
    "You can use the scipy function special.binom(n,k) to calculate the binomial coefficient.\n",
    "\n",
    "For more information on the binomial distribution, see https://en.wikipedia.org/wiki/Binomial_distribution."
   ]
  },
  {
   "cell_type": "code",
   "execution_count": 4,
   "metadata": {
    "collapsed": false
   },
   "outputs": [],
   "source": []
  }
 ],
 "metadata": {
  "kernelspec": {
   "display_name": "Python [Root]",
   "language": "python",
   "name": "Python [Root]"
  },
  "language_info": {
   "codemirror_mode": {
    "name": "ipython",
    "version": 2
   },
   "file_extension": ".py",
   "mimetype": "text/x-python",
   "name": "python",
   "nbconvert_exporter": "python",
   "pygments_lexer": "ipython2",
   "version": "2.7.12"
  }
 },
 "nbformat": 4,
 "nbformat_minor": 1
}
